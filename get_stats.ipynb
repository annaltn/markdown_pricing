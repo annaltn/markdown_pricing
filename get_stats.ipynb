{
 "cells": [
  {
   "cell_type": "code",
   "execution_count": 1,
   "metadata": {
    "ExecuteTime": {
     "end_time": "2018-06-20T02:44:30.556384Z",
     "start_time": "2018-06-20T02:44:29.700929Z"
    },
    "collapsed": true
   },
   "outputs": [],
   "source": [
    "import os\n",
    "import pandas as pd\n",
    "import numpy as np\n",
    "from matplotlib import pyplot as plt\n",
    "%matplotlib inline\n",
    "import time"
   ]
  },
  {
   "cell_type": "code",
   "execution_count": 2,
   "metadata": {
    "ExecuteTime": {
     "end_time": "2018-06-20T02:44:30.574499Z",
     "start_time": "2018-06-20T02:44:30.570728Z"
    },
    "collapsed": true
   },
   "outputs": [],
   "source": [
    "res_dir = '/Users/gfg/projects/daas-markdown/res/'\n",
    "# zal_dir = '/Users/gfg/data/markdown/clean/venture=Zalora/'"
   ]
  },
  {
   "cell_type": "code",
   "execution_count": 3,
   "metadata": {
    "ExecuteTime": {
     "end_time": "2018-06-20T02:44:42.359705Z",
     "start_time": "2018-06-20T02:44:42.356367Z"
    },
    "collapsed": true
   },
   "outputs": [],
   "source": [
    "stat_file = res_dir + 'train_stats.csv'"
   ]
  },
  {
   "cell_type": "code",
   "execution_count": 4,
   "metadata": {
    "ExecuteTime": {
     "end_time": "2018-06-20T02:44:42.385020Z",
     "start_time": "2018-06-20T02:44:42.362258Z"
    },
    "collapsed": true
   },
   "outputs": [],
   "source": [
    "stats = pd.read_csv(stat_file)"
   ]
  },
  {
   "cell_type": "code",
   "execution_count": 5,
   "metadata": {
    "ExecuteTime": {
     "end_time": "2018-06-20T02:44:42.394104Z",
     "start_time": "2018-06-20T02:44:42.386747Z"
    }
   },
   "outputs": [
    {
     "data": {
      "text/plain": [
       "Index([u'group_id', u'test_percent_after_drop_na', u'test_percent',\n",
       "       u'train_percent_after_drop_na', u'train_size_after_drop_na',\n",
       "       u'train_percent', u'n_config', u'n_sample', u'use_dummy_model',\n",
       "       u'train_time', u'country', u'train_time_in_hour', u'date'],\n",
       "      dtype='object')"
      ]
     },
     "execution_count": 5,
     "metadata": {},
     "output_type": "execute_result"
    }
   ],
   "source": [
    "stats.columns"
   ]
  },
  {
   "cell_type": "code",
   "execution_count": 6,
   "metadata": {
    "ExecuteTime": {
     "end_time": "2018-06-20T02:45:27.209481Z",
     "start_time": "2018-06-20T02:45:27.205321Z"
    },
    "collapsed": true
   },
   "outputs": [],
   "source": [
    "stats = stats.rename(columns={'date': 'train_date'})"
   ]
  },
  {
   "cell_type": "code",
   "execution_count": 7,
   "metadata": {
    "ExecuteTime": {
     "end_time": "2018-06-20T02:45:48.362120Z",
     "start_time": "2018-06-20T02:45:48.357797Z"
    },
    "collapsed": true
   },
   "outputs": [],
   "source": [
    "stats['train_time_in_hour'] = stats['train_time']/3600"
   ]
  },
  {
   "cell_type": "code",
   "execution_count": 8,
   "metadata": {
    "ExecuteTime": {
     "end_time": "2018-06-20T02:46:23.346304Z",
     "start_time": "2018-06-20T02:46:23.316135Z"
    },
    "collapsed": true
   },
   "outputs": [],
   "source": [
    "stats.to_csv(stat_file, index=False)"
   ]
  },
  {
   "cell_type": "markdown",
   "metadata": {},
   "source": [
    "## Helpers"
   ]
  },
  {
   "cell_type": "code",
   "execution_count": 13,
   "metadata": {
    "ExecuteTime": {
     "end_time": "2018-05-08T16:05:05.321613Z",
     "start_time": "2018-05-08T16:05:05.316987Z"
    },
    "collapsed": true
   },
   "outputs": [
    {
     "data": {
      "text/plain": [
       "Index(['sku_config_id', 'group_id', 'md_sub_category_raw', 'md_sub_category',\n",
       "       'gender', 'activation_date', 'product_lifecycle', 'season',\n",
       "       'season_year', 'season_duration', 'is_new', 'n_remain_days',\n",
       "       'brand_name', 'color', 'tax_class', 'current_price', 'black_price',\n",
       "       'is_visible', 'config_page_views', 'n_stock', 'n_sold',\n",
       "       'percent_discount_from_rrp', 'n_competitor', 'rel_price_as_ratio',\n",
       "       'psv', 'tsv', 'is_slow_sku', 'weekday', 'is_weekend', 'is_workday',\n",
       "       'gfg_created_at', 'snapshot_date', 'year', 'color_pop', 'brand_pop',\n",
       "       'total_page_view'],\n",
       "      dtype='object')"
      ]
     },
     "execution_count": 13,
     "metadata": {},
     "output_type": "execute_result"
    }
   ],
   "source": [
    "md_input.columns"
   ]
  },
  {
   "cell_type": "code",
   "execution_count": 30,
   "metadata": {
    "ExecuteTime": {
     "end_time": "2018-05-08T16:41:11.304397Z",
     "start_time": "2018-05-08T16:41:11.250397Z"
    },
    "code_folding": [
     0
    ],
    "collapsed": true
   },
   "outputs": [],
   "source": [
    "def get_stats(country):\n",
    "    print('country {}'.format(country.upper()))\n",
    "    dat_dir = zal_dir + '{}/'.format(country)\n",
    "    print('\\t loading md_input...')\n",
    "    md_input = pd.read_csv(dat_dir + 'md_input.csv')\n",
    "    print('\\t compute sample sizes of groups')\n",
    "    res = md_input.groupby('group_id').size().reset_index().rename(columns={0: 'sample_size'})\n",
    "    stats1 = res['sample_size'].describe()\n",
    "    sample_size_df = pd.DataFrame({'n_group': stats1['count'], \n",
    "                                'min_sample_size': stats1['min'],\n",
    "                                'median_sample_size': stats1['50%'], \n",
    "                                'max_sample_size': stats1['max']}, \n",
    "                                index=[country])\n",
    "    \n",
    "    print('\\t compute # configs of groups')\n",
    "    res2 = md_input.groupby('group_id').agg({'sku_config_id': 'nunique'})\n",
    "    res2 = res2.reset_index().rename(columns={'sku_config_id': 'n_config'})\n",
    "    stats2 = res2['n_config'].describe()\n",
    "    n_config_df = pd.DataFrame({'min_n_config': stats2['min'], \n",
    "                                'median_n_config': stats2['50%'],\n",
    "                               'max_n_config': stats2['max']}, \n",
    "                               index=[country])\n",
    "    \n",
    "    return pd.merge(sample_size_df, n_config_df, left_index=True, right_index=True)"
   ]
  },
  {
   "cell_type": "code",
   "execution_count": 38,
   "metadata": {
    "ExecuteTime": {
     "end_time": "2018-05-08T17:03:32.496939Z",
     "start_time": "2018-05-08T17:03:32.493505Z"
    },
    "code_folding": [
     0
    ],
    "collapsed": true
   },
   "outputs": [],
   "source": [
    "def count_n_model(country):\n",
    "    model_dir = res_dir + '{}/models/'.format(country)\n",
    "    n_model = len([f for f in os.listdir(model_dir) if '.pkl' in f])\n",
    "    return n_model"
   ]
  },
  {
   "cell_type": "code",
   "execution_count": 45,
   "metadata": {
    "ExecuteTime": {
     "end_time": "2018-05-14T15:43:22.724220Z",
     "start_time": "2018-05-14T15:43:22.718348Z"
    },
    "collapsed": true
   },
   "outputs": [],
   "source": [
    "def groups_with_models(country):\n",
    "    model_dir = res_dir + '{}/models/'.format(country)\n",
    "    groups = [f.replace('.pkl', '') for f in os.listdir(model_dir) if '.pkl' in f]\n",
    "\n",
    "    pd.DataFrame({'group_id': groups}).to_csv(model_dir + 'groups_with_model.csv', index=False)\n",
    "    return groups"
   ]
  },
  {
   "cell_type": "code",
   "execution_count": 46,
   "metadata": {
    "ExecuteTime": {
     "end_time": "2018-05-14T15:43:25.400931Z",
     "start_time": "2018-05-14T15:43:25.390154Z"
    }
   },
   "outputs": [
    {
     "data": {
      "text/plain": [
       "375"
      ]
     },
     "execution_count": 46,
     "metadata": {},
     "output_type": "execute_result"
    }
   ],
   "source": [
    "model_groups = groups_with_models(country='tw')\n",
    "len(model_groups)"
   ]
  },
  {
   "cell_type": "code",
   "execution_count": null,
   "metadata": {
    "collapsed": true
   },
   "outputs": [],
   "source": []
  },
  {
   "cell_type": "code",
   "execution_count": 31,
   "metadata": {
    "ExecuteTime": {
     "end_time": "2018-05-08T16:41:51.972069Z",
     "start_time": "2018-05-08T16:41:22.300044Z"
    }
   },
   "outputs": [
    {
     "name": "stdout",
     "output_type": "stream",
     "text": [
      "country SG\n",
      "\t loading md_input...\n",
      "\t compute sample sizes of groups\n",
      "\t compute # configs of groups\n",
      "country ID\n",
      "\t loading md_input...\n",
      "\t compute sample sizes of groups\n",
      "\t compute # configs of groups\n",
      "country MY\n",
      "\t loading md_input...\n",
      "\t compute sample sizes of groups\n",
      "\t compute # configs of groups\n",
      "country PH\n",
      "\t loading md_input...\n",
      "\t compute sample sizes of groups\n",
      "\t compute # configs of groups\n",
      "country HK\n",
      "\t loading md_input...\n",
      "\t compute sample sizes of groups\n",
      "\t compute # configs of groups\n",
      "country TW\n",
      "\t loading md_input...\n",
      "\t compute sample sizes of groups\n",
      "\t compute # configs of groups\n"
     ]
    }
   ],
   "source": [
    "countries = ['sg', 'id', 'my', 'ph', 'hk', 'tw']\n",
    "frames = [get_stats(ct) for ct in countries]\n",
    "new_stats = pd.concat(frames)"
   ]
  },
  {
   "cell_type": "code",
   "execution_count": 34,
   "metadata": {
    "ExecuteTime": {
     "end_time": "2018-05-08T16:42:50.508332Z",
     "start_time": "2018-05-08T16:42:50.504079Z"
    },
    "collapsed": true
   },
   "outputs": [],
   "source": [
    "new_stats = new_stats.reset_index().rename(columns={'index': 'country'})"
   ]
  },
  {
   "cell_type": "code",
   "execution_count": 36,
   "metadata": {
    "ExecuteTime": {
     "end_time": "2018-05-08T16:43:56.392802Z",
     "start_time": "2018-05-08T16:43:56.386921Z"
    },
    "collapsed": true
   },
   "outputs": [],
   "source": [
    "new_stats.to_csv(zal_dir + 'basic_stats.csv', index=False)"
   ]
  },
  {
   "cell_type": "code",
   "execution_count": 37,
   "metadata": {
    "ExecuteTime": {
     "end_time": "2018-05-08T17:00:03.347120Z",
     "start_time": "2018-05-08T17:00:03.344425Z"
    },
    "collapsed": true
   },
   "outputs": [],
   "source": [
    "res_dir = '/Users/gfg/projects/daas-markdown/res/Zalora/'"
   ]
  },
  {
   "cell_type": "code",
   "execution_count": 40,
   "metadata": {
    "ExecuteTime": {
     "end_time": "2018-05-08T17:17:53.501628Z",
     "start_time": "2018-05-08T17:17:53.495928Z"
    },
    "collapsed": true
   },
   "outputs": [],
   "source": [
    "countries = ['sg', 'id']\n",
    "n_model = [count_n_model(ct) for ct in countries]\n",
    "train_stats = pd.DataFrame({'country': countries, 'n_trained_group': n_model})"
   ]
  },
  {
   "cell_type": "code",
   "execution_count": 41,
   "metadata": {
    "ExecuteTime": {
     "end_time": "2018-05-08T17:18:22.524805Z",
     "start_time": "2018-05-08T17:18:22.521089Z"
    },
    "collapsed": true
   },
   "outputs": [],
   "source": [
    "train_stats.to_csv(res_dir + 'train_basic_stats.csv', index=False)"
   ]
  },
  {
   "cell_type": "markdown",
   "metadata": {},
   "source": [
    "## Drafts"
   ]
  },
  {
   "cell_type": "code",
   "execution_count": null,
   "metadata": {
    "code_folding": [
     0
    ],
    "collapsed": true
   },
   "outputs": [],
   "source": [
    "# prev stats\n",
    "stats = pd.read_csv(dat_dir + 'stats.csv')\n",
    "n_group = stats.group_id.nunique()\n",
    "max_n_config, min_n_config = max(stats.n_config), min(stats.n_config)"
   ]
  },
  {
   "cell_type": "code",
   "execution_count": null,
   "metadata": {
    "collapsed": true
   },
   "outputs": [],
   "source": [
    "ph_dir = zal_dir + 'ph/'\n",
    "stats = pd.read_csv(ph_dir + 'stats.csv')"
   ]
  },
  {
   "cell_type": "code",
   "execution_count": 11,
   "metadata": {
    "ExecuteTime": {
     "end_time": "2018-05-08T15:43:43.963226Z",
     "start_time": "2018-05-08T15:43:43.952165Z"
    },
    "collapsed": true
   },
   "outputs": [],
   "source": [
    "sample_sizes = pd.read_csv(ph_dir + 'sample_sizes_02_05_18.csv')"
   ]
  },
  {
   "cell_type": "code",
   "execution_count": 9,
   "metadata": {
    "ExecuteTime": {
     "end_time": "2018-05-08T15:27:34.685711Z",
     "start_time": "2018-05-08T15:27:29.012220Z"
    },
    "collapsed": true
   },
   "outputs": [],
   "source": [
    "md_input = pd.read_csv(ph_dir + 'md_input.csv')"
   ]
  },
  {
   "cell_type": "code",
   "execution_count": 24,
   "metadata": {
    "ExecuteTime": {
     "end_time": "2018-05-08T16:34:21.965528Z",
     "start_time": "2018-05-08T16:34:21.822179Z"
    },
    "collapsed": true
   },
   "outputs": [],
   "source": [
    "res = md_input.groupby('group_id').size().reset_index().rename(columns={0: 'sample_size'})\n",
    "new_stats = res['sample_size'].describe()\n",
    "sample_size_df = pd.DataFrame({'n_group': new_stats['count'], 'min_sample_size': new_stats['min'],\n",
    "            'median_sample_size': new_stats['50%'], 'max_sample_size': new_stats['max']}, \n",
    "            index=['ph'])"
   ]
  },
  {
   "cell_type": "code",
   "execution_count": 22,
   "metadata": {
    "ExecuteTime": {
     "end_time": "2018-05-08T16:32:56.464256Z",
     "start_time": "2018-05-08T16:32:55.010368Z"
    },
    "collapsed": true
   },
   "outputs": [],
   "source": [
    "res2 = md_input.groupby('group_id').agg({'sku_config_id': 'nunique'})\n",
    "res2 = res2.reset_index().rename(columns={'sku_config_id': 'n_config'})\n",
    "stats2 = res2['n_config'].describe()\n",
    "n_config_df = pd.DataFrame({'min_n_config': stats2['min'], \n",
    "                        'median_n_config': stats2['50%'],\n",
    "                       'max_n_config': stats2['max']}, \n",
    "                       index=['ph'])"
   ]
  },
  {
   "cell_type": "code",
   "execution_count": 25,
   "metadata": {
    "ExecuteTime": {
     "end_time": "2018-05-08T16:34:43.124976Z",
     "start_time": "2018-05-08T16:34:43.111394Z"
    }
   },
   "outputs": [
    {
     "data": {
      "text/html": [
       "<div>\n",
       "<style>\n",
       "    .dataframe thead tr:only-child th {\n",
       "        text-align: right;\n",
       "    }\n",
       "\n",
       "    .dataframe thead th {\n",
       "        text-align: left;\n",
       "    }\n",
       "\n",
       "    .dataframe tbody tr th {\n",
       "        vertical-align: top;\n",
       "    }\n",
       "</style>\n",
       "<table border=\"1\" class=\"dataframe\">\n",
       "  <thead>\n",
       "    <tr style=\"text-align: right;\">\n",
       "      <th></th>\n",
       "      <th>max_sample_size</th>\n",
       "      <th>median_sample_size</th>\n",
       "      <th>min_sample_size</th>\n",
       "      <th>n_group</th>\n",
       "      <th>max_n_config</th>\n",
       "      <th>median_n_config</th>\n",
       "      <th>min_n_config</th>\n",
       "    </tr>\n",
       "  </thead>\n",
       "  <tbody>\n",
       "    <tr>\n",
       "      <th>ph</th>\n",
       "      <td>87678.0</td>\n",
       "      <td>133.5</td>\n",
       "      <td>1.0</td>\n",
       "      <td>674.0</td>\n",
       "      <td>7489.0</td>\n",
       "      <td>23.0</td>\n",
       "      <td>1.0</td>\n",
       "    </tr>\n",
       "  </tbody>\n",
       "</table>\n",
       "</div>"
      ],
      "text/plain": [
       "    max_sample_size  median_sample_size  min_sample_size  n_group  \\\n",
       "ph          87678.0               133.5              1.0    674.0   \n",
       "\n",
       "    max_n_config  median_n_config  min_n_config  \n",
       "ph        7489.0             23.0           1.0  "
      ]
     },
     "execution_count": 25,
     "metadata": {},
     "output_type": "execute_result"
    }
   ],
   "source": [
    "pd.merge(sample_size_df, n_config_df, left_index=True, right_index=True)"
   ]
  },
  {
   "cell_type": "code",
   "execution_count": 23,
   "metadata": {
    "ExecuteTime": {
     "end_time": "2018-05-08T16:33:07.560966Z",
     "start_time": "2018-05-08T16:33:07.553226Z"
    }
   },
   "outputs": [
    {
     "data": {
      "text/html": [
       "<div>\n",
       "<style>\n",
       "    .dataframe thead tr:only-child th {\n",
       "        text-align: right;\n",
       "    }\n",
       "\n",
       "    .dataframe thead th {\n",
       "        text-align: left;\n",
       "    }\n",
       "\n",
       "    .dataframe tbody tr th {\n",
       "        vertical-align: top;\n",
       "    }\n",
       "</style>\n",
       "<table border=\"1\" class=\"dataframe\">\n",
       "  <thead>\n",
       "    <tr style=\"text-align: right;\">\n",
       "      <th></th>\n",
       "      <th>max_n_config</th>\n",
       "      <th>median_n_config</th>\n",
       "      <th>min_n_config</th>\n",
       "    </tr>\n",
       "  </thead>\n",
       "  <tbody>\n",
       "    <tr>\n",
       "      <th>ph</th>\n",
       "      <td>7489.0</td>\n",
       "      <td>23.0</td>\n",
       "      <td>1.0</td>\n",
       "    </tr>\n",
       "  </tbody>\n",
       "</table>\n",
       "</div>"
      ],
      "text/plain": [
       "    max_n_config  median_n_config  min_n_config\n",
       "ph        7489.0             23.0           1.0"
      ]
     },
     "execution_count": 23,
     "metadata": {},
     "output_type": "execute_result"
    }
   ],
   "source": [
    "n_config_df"
   ]
  },
  {
   "cell_type": "code",
   "execution_count": null,
   "metadata": {
    "collapsed": true
   },
   "outputs": [],
   "source": []
  },
  {
   "cell_type": "code",
   "execution_count": 10,
   "metadata": {
    "ExecuteTime": {
     "end_time": "2018-05-08T15:28:42.346857Z",
     "start_time": "2018-05-08T15:28:42.341779Z"
    },
    "collapsed": true
   },
   "outputs": [
    {
     "data": {
      "text/plain": [
       "838152    2018-05-02\n",
       "838153    2018-05-02\n",
       "838154    2018-05-02\n",
       "838155    2018-05-02\n",
       "838156    2018-05-02\n",
       "Name: snapshot_date, dtype: object"
      ]
     },
     "execution_count": 10,
     "metadata": {},
     "output_type": "execute_result"
    }
   ],
   "source": [
    "md_input.snapshot_date.tail()"
   ]
  }
 ],
 "metadata": {
  "kernelspec": {
   "display_name": "Python 2",
   "language": "python",
   "name": "python2"
  },
  "language_info": {
   "codemirror_mode": {
    "name": "ipython",
    "version": 2
   },
   "file_extension": ".py",
   "mimetype": "text/x-python",
   "name": "python",
   "nbconvert_exporter": "python",
   "pygments_lexer": "ipython2",
   "version": "2.7.13"
  },
  "toc": {
   "colors": {
    "hover_highlight": "#DAA520",
    "navigate_num": "#000000",
    "navigate_text": "#333333",
    "running_highlight": "#FF0000",
    "selected_highlight": "#FFD700",
    "sidebar_border": "#EEEEEE",
    "wrapper_background": "#FFFFFF"
   },
   "moveMenuLeft": true,
   "nav_menu": {
    "height": "12px",
    "width": "252px"
   },
   "navigate_menu": true,
   "number_sections": true,
   "sideBar": true,
   "threshold": 4,
   "toc_cell": false,
   "toc_section_display": "block",
   "toc_window_display": true,
   "widenNotebook": false
  },
  "varInspector": {
   "cols": {
    "lenName": 16,
    "lenType": 16,
    "lenVar": 40
   },
   "kernels_config": {
    "python": {
     "delete_cmd_postfix": "",
     "delete_cmd_prefix": "del ",
     "library": "var_list.py",
     "varRefreshCmd": "print(var_dic_list())"
    },
    "r": {
     "delete_cmd_postfix": ") ",
     "delete_cmd_prefix": "rm(",
     "library": "var_list.r",
     "varRefreshCmd": "cat(var_dic_list()) "
    }
   },
   "types_to_exclude": [
    "module",
    "function",
    "builtin_function_or_method",
    "instance",
    "_Feature"
   ],
   "window_display": false
  }
 },
 "nbformat": 4,
 "nbformat_minor": 2
}
