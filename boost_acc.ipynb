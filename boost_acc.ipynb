{
 "cells": [
  {
   "cell_type": "markdown",
   "metadata": {},
   "source": [
    "# Report on boosting accuracy\n",
    "\n",
    "As usual, accuracy is measured by MEDian Absolute Percentage Error (MEDAPE)."
   ]
  },
  {
   "cell_type": "markdown",
   "metadata": {},
   "source": [
    "## Inits"
   ]
  },
  {
   "cell_type": "code",
   "execution_count": 1,
   "metadata": {
    "ExecuteTime": {
     "end_time": "2018-05-21T10:59:07.469274Z",
     "start_time": "2018-05-21T10:59:05.690695Z"
    },
    "code_folding": [],
    "collapsed": true,
    "init_cell": true
   },
   "outputs": [],
   "source": [
    "# libs\n",
    "import pandas as pd\n",
    "import numpy as np\n",
    "import matplotlib.pyplot as plt\n",
    "import seaborn as sns\n",
    "import os\n",
    "\n",
    "%matplotlib inline"
   ]
  },
  {
   "cell_type": "markdown",
   "metadata": {},
   "source": [
    "## Helpers"
   ]
  },
  {
   "cell_type": "code",
   "execution_count": 2,
   "metadata": {
    "ExecuteTime": {
     "end_time": "2018-05-21T10:59:15.301096Z",
     "start_time": "2018-05-21T10:59:15.297305Z"
    },
    "code_folding": [
     0
    ],
    "collapsed": true
   },
   "outputs": [],
   "source": [
    "def load_metrics_files(folder):\n",
    "    frames = [pd.read_csv(folder + fn) for fn in os.listdir(folder) if '.csv' in fn]\n",
    "    return pd.concat(frames)"
   ]
  },
  {
   "cell_type": "code",
   "execution_count": 3,
   "metadata": {
    "ExecuteTime": {
     "end_time": "2018-05-21T10:59:15.319550Z",
     "start_time": "2018-05-21T10:59:15.302811Z"
    },
    "code_folding": [
     0,
     9,
     14,
     17
    ],
    "collapsed": true,
    "init_cell": true
   },
   "outputs": [],
   "source": [
    "def get_best_err(err_df):\n",
    "    n_row = err_df.shape[0]\n",
    "    idx = np.arange(0, n_row, step=5)\n",
    "    best_err = err_df.iloc[idx].copy()\n",
    "    return best_err\n",
    "\n",
    "def range_str(t):\n",
    "    return '(' + str(t[0]) + ',' + str(t[1]) + ']'\n",
    "\n",
    "def mk_bin_labels(limits):\n",
    "    lb, ub = limits[:-1], limits[1:]\n",
    "    labels = [range_str(t) for t in list(zip(lb, ub))]\n",
    "    return labels\n",
    "\n",
    "def quart_bin(col, df):\n",
    "    return [int(df[col].quantile(q)) for q in [0., .25, .50, .75, 1.]]\n",
    "\n",
    "def cut_to_bins(col, df, limits=None):\n",
    "    if not limits: # use quart-iles as default\n",
    "        limits = quart_bin(col, df)\n",
    "    \n",
    "    labels = mk_bin_labels(limits)\n",
    "    binned = df.copy()\n",
    "    values = pd.cut(binned[col], bins=limits, labels=labels)\n",
    "    binned['bin_{}'.format(col)] = pd.Categorical(values, categories=labels)\n",
    "    return binned"
   ]
  },
  {
   "cell_type": "code",
   "execution_count": 4,
   "metadata": {
    "ExecuteTime": {
     "end_time": "2018-05-21T10:59:15.324399Z",
     "start_time": "2018-05-21T10:59:15.320923Z"
    },
    "code_folding": [
     0
    ],
    "collapsed": true
   },
   "outputs": [],
   "source": [
    "def prettify(df, to_drop):\n",
    "    res = df.sort_values('test_medape')\n",
    "    res.drop(to_drop, axis='columns', inplace=True)\n",
    "    return res"
   ]
  },
  {
   "cell_type": "code",
   "execution_count": 5,
   "metadata": {
    "ExecuteTime": {
     "end_time": "2018-05-21T10:59:15.332007Z",
     "start_time": "2018-05-21T10:59:15.325773Z"
    },
    "code_folding": [
     1
    ],
    "collapsed": true
   },
   "outputs": [],
   "source": [
    "# plot against a binned column\n",
    "def my_plot(df, bin_column, kind='box', title=None): # factor\n",
    "    fig, ax = plt.subplots(figsize=(8,5))\n",
    "    if kind=='point':\n",
    "        sns.pointplot(ax=ax, x=bin_column, y='test_medape',  data=df) # hue=factor,\n",
    "    else:\n",
    "        sns.boxplot(ax=ax, x=bin_column, y='test_medape',  data=df) # hue=factor,\n",
    "    \n",
    "    ax.set(xlabel='Group size (no. of SKU configs)', ylabel='MEDian Absolute Percentage Error (MEDAPE)')\n",
    "    if title:\n",
    "        ax.set(title=title)\n",
    "    return fig"
   ]
  },
  {
   "cell_type": "code",
   "execution_count": 6,
   "metadata": {
    "ExecuteTime": {
     "end_time": "2018-05-21T10:59:15.336316Z",
     "start_time": "2018-05-21T10:59:15.333430Z"
    },
    "code_folding": [
     0
    ],
    "collapsed": true
   },
   "outputs": [],
   "source": [
    "def drop_train_errors(df):\n",
    "    cols = [c for c in df.columns if 'train_' in c]\n",
    "    return df.drop(cols, axis='columns')"
   ]
  },
  {
   "cell_type": "code",
   "execution_count": 7,
   "metadata": {
    "ExecuteTime": {
     "end_time": "2018-05-21T10:59:15.344867Z",
     "start_time": "2018-05-21T10:59:15.337860Z"
    },
    "code_folding": [
     0
    ],
    "collapsed": true
   },
   "outputs": [],
   "source": [
    "def cal_acc_gain(pre_err, post_err):\n",
    "    # drop stat columns\n",
    "    stat_cols = ['n_config', 'avg_records_per_config', 'n_samples']\n",
    "    pre_err = pre_err.drop(stat_cols, axis='columns').dropna()\n",
    "    post_err = post_err.drop(stat_cols, axis='columns').dropna()\n",
    "\n",
    "    # rename and merge\n",
    "    pre_err = pre_err.add_prefix('pre_').rename(columns={'pre_group': 'group'})\n",
    "    post_err = post_err.add_prefix('post_').rename(columns={'post_group': 'group'})\n",
    "    res = pd.merge(pre_err, post_err)\n",
    "\n",
    "    res['delta_medape'] = res['pre_test_medape'] - res['post_test_medape']\n",
    "#     res['delta_medape'] = 100*(res['pre_test_medape'] - res['post_test_medape'])/res['pre_test_medape']\n",
    "    return res"
   ]
  },
  {
   "cell_type": "code",
   "execution_count": 8,
   "metadata": {
    "ExecuteTime": {
     "end_time": "2018-05-21T10:59:15.351540Z",
     "start_time": "2018-05-21T10:59:15.346808Z"
    },
    "code_folding": [],
    "collapsed": true
   },
   "outputs": [],
   "source": [
    "def plot_gain(df, tt, \n",
    "              xcol='use_config_page_views', ycol='test_medape',\n",
    "              xl='Including config page views in features', yl='Test MEDAPE'):\n",
    "    #     xcol: column for x data, ycol: column for y data\n",
    "    \n",
    "    fig = plt.figure()\n",
    "    sns.boxplot(x=xcol, y=ycol, data=df)\n",
    "    plt.title(tt)\n",
    "    plt.xlabel(xl); plt.ylabel(yl)\n",
    "    return fig"
   ]
  },
  {
   "cell_type": "code",
   "execution_count": 9,
   "metadata": {
    "ExecuteTime": {
     "end_time": "2018-05-21T10:59:15.356502Z",
     "start_time": "2018-05-21T10:59:15.352982Z"
    },
    "code_folding": [
     0
    ],
    "collapsed": true
   },
   "outputs": [],
   "source": [
    "def drop_irrelevant(df):\n",
    "    to_drop = [c for c in df.columns if 'medae' in c or 'rmse' in c]\n",
    "    return df.drop(to_drop, axis='columns')"
   ]
  },
  {
   "cell_type": "code",
   "execution_count": 10,
   "metadata": {
    "ExecuteTime": {
     "end_time": "2018-05-21T10:59:15.361136Z",
     "start_time": "2018-05-21T10:59:15.357880Z"
    },
    "code_folding": [
     0
    ],
    "collapsed": true
   },
   "outputs": [],
   "source": [
    "def to_state(x):\n",
    "    if x > 0:\n",
    "        return 'Gain'\n",
    "    if x < 0:\n",
    "        return 'Loss'\n",
    "    if x == 0:\n",
    "        return 'Unchanged'"
   ]
  },
  {
   "cell_type": "code",
   "execution_count": 11,
   "metadata": {
    "ExecuteTime": {
     "end_time": "2018-05-21T10:59:15.367124Z",
     "start_time": "2018-05-21T10:59:15.362566Z"
    },
    "code_folding": [
     0
    ],
    "collapsed": true
   },
   "outputs": [],
   "source": [
    "def acc_gain_vs_configs(res, country):\n",
    "    n_group = res.shape[0]\n",
    "    fig = plt.figure()\n",
    "    sns.boxplot(x='acc_state', y='n_config', data=res)\n",
    "    _ = plt.xlabel('Accuracy change'); _ = plt.ylabel('# configs')\n",
    "    plt.title('{} data, {} groups'.format(country.upper(), n_group))\n",
    "    return fig"
   ]
  },
  {
   "cell_type": "code",
   "execution_count": 12,
   "metadata": {
    "ExecuteTime": {
     "end_time": "2018-05-21T10:59:15.380564Z",
     "start_time": "2018-05-21T10:59:15.368509Z"
    },
    "code_folding": [],
    "collapsed": true
   },
   "outputs": [],
   "source": [
    "def load_metrics(country, add_feat = 'config_page_views'):\n",
    "    ## load error metrics bf and after adding the feature, the metrics after adding the feature are on samples only\n",
    "    print('Loading error metrics for country {}...'.format(country))\n",
    "    # dirs\n",
    "    dat_dir = '/Users/gfg/data/markdown/clean/venture=Zalora/{}/'.format(country)\n",
    "    res_dir = '/Users/gfg/projects/daas-markdown/res/Zalora/{}/'.format(country)\n",
    "\n",
    "    # sub res dirs\n",
    "    metric_dir = res_dir + 'metrics/'\n",
    "    sample_dir = res_dir + 'sample/'\n",
    "    add_feat_dir = sample_dir + 'add_' + add_feat + '/'\n",
    "\n",
    "    # all groups\n",
    "    fname = metric_dir + 'metrics.csv'\n",
    "    if os.path.isfile(fname):\n",
    "        err_df = pd.read_csv(fname)\n",
    "    else:\n",
    "        msg = 'File with error metrics of all groups NOT exist yet.' + 'Composing it from batch metrics files...'\n",
    "        print(msg)\n",
    "        err_df = load_metrics_files(metric_dir)\n",
    "        \n",
    "        err_df.to_csv(fname, index=False, encoding='utf8')\n",
    "        print('Dumped error metrics of all groups to file {}'.format(fname))\n",
    "    # sample\n",
    "    sample_err = load_metrics_files(add_feat_dir)\n",
    "    print('Done')\n",
    "    return err_df, sample_err"
   ]
  },
  {
   "cell_type": "markdown",
   "metadata": {},
   "source": [
    "# Accuracy gain via adding feature `config_page_views`"
   ]
  },
  {
   "cell_type": "markdown",
   "metadata": {},
   "source": [
    "## For MY data"
   ]
  },
  {
   "cell_type": "code",
   "execution_count": 18,
   "metadata": {
    "ExecuteTime": {
     "end_time": "2018-05-09T11:34:38.905617Z",
     "start_time": "2018-05-09T11:34:38.901983Z"
    },
    "code_folding": [
     0
    ],
    "collapsed": true
   },
   "outputs": [],
   "source": [
    "# dirs\n",
    "country = 'my'\n",
    "dat_dir = '/Users/gfg/data/markdown/clean/venture=Zalora/{}/'.format(country)\n",
    "res_dir = '/Users/gfg/projects/daas-markdown/res/Zalora/{}/'.format(country)\n",
    "sample_dir = res_dir + 'sample/'\n",
    "add_feat_dir = sample_dir + 'add_' + add_feat + '/'"
   ]
  },
  {
   "cell_type": "code",
   "execution_count": 11,
   "metadata": {
    "ExecuteTime": {
     "end_time": "2018-05-09T11:25:47.522259Z",
     "start_time": "2018-05-09T11:25:47.423660Z"
    },
    "scrolled": false
   },
   "outputs": [
    {
     "name": "stdout",
     "output_type": "stream",
     "text": [
      "Loading error metrics for country my...\n",
      "File with error metrics of all groups NOT exist yet.Composing it from batch metrics files...\n",
      "Dumped error metrics of all groups to file /Users/gfg/projects/daas-markdown/res/Zalora/my/metrics/metrics.csv\n",
      "Done\n"
     ]
    }
   ],
   "source": [
    "err_df, sample_err = load_metrics(country='my')"
   ]
  },
  {
   "cell_type": "code",
   "execution_count": 12,
   "metadata": {
    "ExecuteTime": {
     "end_time": "2018-05-09T11:28:14.865412Z",
     "start_time": "2018-05-09T11:28:14.860219Z"
    }
   },
   "outputs": [
    {
     "name": "stdout",
     "output_type": "stream",
     "text": [
      "# trained groups: 549\n",
      "# trained sample groups: 148\n"
     ]
    }
   ],
   "source": [
    "groups = err_df.group.unique()\n",
    "sample_groups = sample_err['group'].unique()\n",
    "print('# trained groups: {}'.format(len(groups)))\n",
    "print('# trained sample groups: {}'.format(len(sample_groups)))"
   ]
  },
  {
   "cell_type": "code",
   "execution_count": 13,
   "metadata": {
    "ExecuteTime": {
     "end_time": "2018-05-09T11:29:44.978109Z",
     "start_time": "2018-05-09T11:29:44.973911Z"
    },
    "collapsed": true
   },
   "outputs": [],
   "source": [
    "best_err = get_best_err(err_df)"
   ]
  },
  {
   "cell_type": "code",
   "execution_count": 14,
   "metadata": {
    "ExecuteTime": {
     "end_time": "2018-05-09T11:29:53.469286Z",
     "start_time": "2018-05-09T11:29:53.457384Z"
    },
    "collapsed": true
   },
   "outputs": [
    {
     "data": {
      "text/plain": [
       "count    148.000000\n",
       "mean      29.247449\n",
       "std       13.832223\n",
       "min        0.000000\n",
       "25%       19.238058\n",
       "50%       31.058910\n",
       "75%       37.976522\n",
       "max       84.041333\n",
       "Name: test_medape, dtype: float64"
      ]
     },
     "execution_count": 14,
     "metadata": {},
     "output_type": "execute_result"
    }
   ],
   "source": [
    "# error before adding config_page_views\n",
    "pre_err = best_err[best_err['group'].isin(sample_groups)]\n",
    "pre_err = drop_train_errors(pre_err)\n",
    "pre_err['test_medape'].describe()"
   ]
  },
  {
   "cell_type": "code",
   "execution_count": 15,
   "metadata": {
    "ExecuteTime": {
     "end_time": "2018-05-09T11:30:49.586177Z",
     "start_time": "2018-05-09T11:30:49.577027Z"
    },
    "code_folding": [],
    "collapsed": true
   },
   "outputs": [
    {
     "data": {
      "text/plain": [
       "count    148.000000\n",
       "mean      24.683699\n",
       "std       10.901154\n",
       "min        0.000733\n",
       "25%       16.918462\n",
       "50%       26.711740\n",
       "75%       32.577892\n",
       "max       50.928097\n",
       "Name: test_medape, dtype: float64"
      ]
     },
     "execution_count": 15,
     "metadata": {},
     "output_type": "execute_result"
    }
   ],
   "source": [
    "# error after adding config_page_views\n",
    "post_err = get_best_err(sample_err)\n",
    "post_err = drop_train_errors(post_err)\n",
    "post_err['test_medape'].describe()"
   ]
  },
  {
   "cell_type": "markdown",
   "metadata": {},
   "source": [
    "### Individual gain/loss"
   ]
  },
  {
   "cell_type": "code",
   "execution_count": 16,
   "metadata": {
    "ExecuteTime": {
     "end_time": "2018-05-09T11:31:55.354195Z",
     "start_time": "2018-05-09T11:31:55.339687Z"
    },
    "collapsed": true
   },
   "outputs": [],
   "source": [
    "res = cal_acc_gain(pre_err, post_err)"
   ]
  },
  {
   "cell_type": "code",
   "execution_count": 17,
   "metadata": {
    "ExecuteTime": {
     "end_time": "2018-05-09T11:31:59.459770Z",
     "start_time": "2018-05-09T11:31:59.453107Z"
    },
    "collapsed": true
   },
   "outputs": [
    {
     "data": {
      "text/plain": [
       "count    148.000000\n",
       "mean       4.563750\n",
       "std       10.480234\n",
       "min      -25.428557\n",
       "25%       -0.168519\n",
       "50%        5.125595\n",
       "75%       10.619540\n",
       "max       59.415650\n",
       "Name: delta_medape, dtype: float64"
      ]
     },
     "execution_count": 17,
     "metadata": {},
     "output_type": "execute_result"
    }
   ],
   "source": [
    "res.delta_medape.describe()"
   ]
  },
  {
   "cell_type": "markdown",
   "metadata": {},
   "source": [
    "We can see that for most groups, we achieve gain in accuracy after adding feature `config_page_views`. Only for 25% of groups, we lose accuracy. Let us take closer look on both cases."
   ]
  },
  {
   "cell_type": "code",
   "execution_count": 19,
   "metadata": {
    "ExecuteTime": {
     "end_time": "2018-05-09T11:34:51.169027Z",
     "start_time": "2018-05-09T11:34:51.155453Z"
    },
    "collapsed": true
   },
   "outputs": [],
   "source": [
    "gain_groups = res.query('delta_medape > 0')['group']\n",
    "loss_groups = res.query('delta_medape <= 0')['group']"
   ]
  },
  {
   "cell_type": "code",
   "execution_count": 23,
   "metadata": {
    "ExecuteTime": {
     "end_time": "2018-05-09T11:38:02.009310Z",
     "start_time": "2018-05-09T11:38:01.673787Z"
    },
    "code_folding": [
     0
    ],
    "scrolled": true
   },
   "outputs": [
    {
     "data": {
      "image/png": "[encoded data removed]",
      "text/plain": [
       "<matplotlib.figure.Figure at 0x115cc1940>"
      ]
     },
     "metadata": {},
     "output_type": "display_data"
    }
   ],
   "source": [
    "# Gain\n",
    "acc_gain = res.query('delta_medape > 0')['delta_medape']\n",
    "_ = acc_gain.hist()\n",
    "t1 = 'Gain by adding {0} feature'.format(add_feat)\n",
    "t2 = '({0} groups, {1} data)'.format(acc_gain.shape[0], country.upper())\n",
    "tt = t1 + '\\n' + t2\n",
    "plt.title(tt)\n",
    "plt.xlabel('Accuracy gain (in %)'); plt.ylabel('# groups')\n",
    "plt.savefig(add_feat_dir + '{}_gain_hist.pdf'.format(country))"
   ]
  },
  {
   "cell_type": "code",
   "execution_count": 24,
   "metadata": {
    "ExecuteTime": {
     "end_time": "2018-05-09T11:38:17.014939Z",
     "start_time": "2018-05-09T11:38:16.752136Z"
    },
    "code_folding": [
     0
    ],
    "scrolled": true
   },
   "outputs": [
    {
     "data": {
      "image/png": "[encoded data removed]",
      "text/plain": [
       "<matplotlib.figure.Figure at 0x115dfaeb8>"
      ]
     },
     "metadata": {},
     "output_type": "display_data"
    }
   ],
   "source": [
    "# Loss\n",
    "acc_loss = res.query('delta_medape <= 0')['delta_medape']\n",
    "_ = acc_loss.hist()\n",
    "t1 = 'Loss due to adding {0} feature'.format(add_feat)\n",
    "t2 = '({0} groups, {1} data)'.format(acc_loss.shape[0], country.upper())\n",
    "tt = t1 + '\\n' + t2\n",
    "plt.title(tt)\n",
    "plt.xlabel('Accuracy loss (in %)'); plt.ylabel('# groups')\n",
    "plt.savefig(add_feat_dir + '{}_loss_hist.pdf'.format(country))"
   ]
  },
  {
   "cell_type": "markdown",
   "metadata": {
    "heading_collapsed": true
   },
   "source": [
    "### Aggregated gain/loss"
   ]
  },
  {
   "cell_type": "code",
   "execution_count": 25,
   "metadata": {
    "ExecuteTime": {
     "end_time": "2018-05-09T11:39:49.282327Z",
     "start_time": "2018-05-09T11:39:49.274492Z"
    },
    "collapsed": true,
    "hidden": true
   },
   "outputs": [],
   "source": [
    "pre_err['use_config_page_views'] = 'N'\n",
    "post_err['use_config_page_views'] = 'Y'\n",
    "sample_best_err = pd.concat([pre_err, post_err])"
   ]
  },
  {
   "cell_type": "code",
   "execution_count": 36,
   "metadata": {
    "ExecuteTime": {
     "end_time": "2018-05-10T15:45:39.817862Z",
     "start_time": "2018-05-10T15:45:39.562370Z"
    },
    "hidden": true
   },
   "outputs": [
    {
     "data": {
      "image/png": "[encoded data removed]",
      "text/plain": [
       "<matplotlib.figure.Figure at 0x115afb390>"
      ]
     },
     "execution_count": 36,
     "metadata": {},
     "output_type": "execute_result"
    },
    {
     "data": {
      "image/png": "[encoded data removed]",
      "text/plain": [
       "<matplotlib.figure.Figure at 0x115afb390>"
      ]
     },
     "metadata": {},
     "output_type": "display_data"
    }
   ],
   "source": [
    "n_group = sample_best_err.shape[0]/2\n",
    "title = 'Test MEDAPE before and after adding {}'.format(add_feat) + '\\n' + '({} groups)'.format(n_group)\n",
    "plot_gain(sample_best_err, title)"
   ]
  },
  {
   "cell_type": "code",
   "execution_count": 27,
   "metadata": {
    "ExecuteTime": {
     "end_time": "2018-05-09T11:40:40.449327Z",
     "start_time": "2018-05-09T11:40:40.219221Z"
    },
    "code_folding": [],
    "collapsed": true,
    "hidden": true
   },
   "outputs": [
    {
     "data": {
      "image/png": "[encoded data removed]",
      "text/plain": [
       "<matplotlib.figure.Figure at 0x115c7f6a0>"
      ]
     },
     "metadata": {},
     "output_type": "display_data"
    }
   ],
   "source": [
    "# Gain\n",
    "gain_df = sample_best_err[sample_best_err.group.isin(gain_groups)]\n",
    "n_gain = len(gain_groups)\n",
    "\n",
    "title = 'Test MEDAPE before and after adding {}'.format(add_feat) + '\\n' + '({} groups)'.format(n_gain)\n",
    "fig = plot_gain(gain_df, title)\n",
    "plt.savefig(add_feat_dir + '{}_gain_box.pdf'.format(country))"
   ]
  },
  {
   "cell_type": "code",
   "execution_count": 28,
   "metadata": {
    "ExecuteTime": {
     "end_time": "2018-05-09T11:41:09.738869Z",
     "start_time": "2018-05-09T11:41:09.506610Z"
    },
    "code_folding": [
     0
    ],
    "collapsed": true,
    "hidden": true
   },
   "outputs": [
    {
     "data": {
      "image/png": "[encoded data removed]",
      "text/plain": [
       "<matplotlib.figure.Figure at 0x115fb86a0>"
      ]
     },
     "metadata": {},
     "output_type": "display_data"
    }
   ],
   "source": [
    "# Loss\n",
    "loss_df = sample_best_err[sample_best_err.group.isin(loss_groups)]\n",
    "n_loss = len(loss_groups)\n",
    "title = 'Test MEDAPE before and after adding {}'.format(add_feat) + '\\n' + '({} groups)'.format(n_loss)\n",
    "fig = plot_gain(loss_df, title)\n",
    "plt.savefig(add_feat_dir + '{}_loss_box.pdf'.format(country))"
   ]
  },
  {
   "cell_type": "markdown",
   "metadata": {
    "heading_collapsed": true
   },
   "source": [
    "### Why lose accuracy"
   ]
  },
  {
   "cell_type": "code",
   "execution_count": 33,
   "metadata": {
    "ExecuteTime": {
     "end_time": "2018-05-09T11:52:45.198810Z",
     "start_time": "2018-05-09T11:52:45.186245Z"
    },
    "collapsed": true,
    "hidden": true
   },
   "outputs": [],
   "source": [
    "# get stats of the groups\n",
    "stats = pd.read_csv(dat_dir + 'stats.csv')\n",
    "res = res.rename(columns={'group': 'group_id'})\n",
    "res = pd.merge(res, stats)\n",
    "\n",
    "# add accuracy state\n",
    "res['acc_state'] = res['delta_medape'].apply(to_state)"
   ]
  },
  {
   "cell_type": "code",
   "execution_count": 34,
   "metadata": {
    "ExecuteTime": {
     "end_time": "2018-05-09T11:53:07.928814Z",
     "start_time": "2018-05-09T11:53:07.712907Z"
    },
    "hidden": true
   },
   "outputs": [
    {
     "data": {
      "image/png": "[encoded data removed]",
      "text/plain": [
       "<matplotlib.figure.Figure at 0x116102438>"
      ]
     },
     "metadata": {},
     "output_type": "display_data"
    }
   ],
   "source": [
    "fig = acc_gain_vs_configs(res, country)\n",
    "plt.savefig(add_feat_dir + '{}_acc_gain_vs_configs.pdf'.format(country))"
   ]
  },
  {
   "cell_type": "markdown",
   "metadata": {},
   "source": [
    "## For SG data"
   ]
  },
  {
   "cell_type": "code",
   "execution_count": 304,
   "metadata": {
    "ExecuteTime": {
     "end_time": "2018-05-02T11:16:38.264050Z",
     "start_time": "2018-05-02T11:16:38.260484Z"
    },
    "code_folding": [
     0
    ],
    "collapsed": true
   },
   "outputs": [],
   "source": [
    "# dirs\n",
    "country = 'sg'\n",
    "dat_dir = '/Users/gfg/data/markdown/clean/venture=Zalora/{}/'.format(country)\n",
    "res_dir = '/Users/gfg/projects/daas-markdown/res/Zalora/{}/'.format(country)\n",
    "sample_dir = res_dir + 'sample/'\n",
    "add_feat_dir = sample_dir + 'add_' + add_feat + '/'"
   ]
  },
  {
   "cell_type": "code",
   "execution_count": 290,
   "metadata": {
    "ExecuteTime": {
     "end_time": "2018-05-02T11:04:04.915189Z",
     "start_time": "2018-05-02T11:04:04.859319Z"
    }
   },
   "outputs": [
    {
     "name": "stdout",
     "output_type": "stream",
     "text": [
      "Loading error metrics for country sg...\n",
      "Done\n"
     ]
    }
   ],
   "source": [
    "err_df, sample_err = load_metrics(country='sg')"
   ]
  },
  {
   "cell_type": "code",
   "execution_count": 291,
   "metadata": {
    "ExecuteTime": {
     "end_time": "2018-05-02T11:04:04.926322Z",
     "start_time": "2018-05-02T11:04:04.917759Z"
    }
   },
   "outputs": [
    {
     "name": "stdout",
     "output_type": "stream",
     "text": [
      "# trained groups: 522\n",
      "# trained sample groups: 149\n"
     ]
    }
   ],
   "source": [
    "groups = err_df.group.unique()\n",
    "sample_groups = sample_err['group'].unique()\n",
    "print('# trained groups: {}'.format(len(groups)))\n",
    "print('# trained sample groups: {}'.format(len(sample_groups)))"
   ]
  },
  {
   "cell_type": "code",
   "execution_count": 292,
   "metadata": {
    "ExecuteTime": {
     "end_time": "2018-05-02T11:04:04.934824Z",
     "start_time": "2018-05-02T11:04:04.928987Z"
    },
    "collapsed": true
   },
   "outputs": [],
   "source": [
    "best_err = get_best_err(err_df)"
   ]
  },
  {
   "cell_type": "code",
   "execution_count": 293,
   "metadata": {
    "ExecuteTime": {
     "end_time": "2018-05-02T11:04:18.187197Z",
     "start_time": "2018-05-02T11:04:18.171194Z"
    },
    "code_folding": [
     0
    ]
   },
   "outputs": [
    {
     "data": {
      "text/plain": [
       "count    149.000000\n",
       "mean      24.088997\n",
       "std       13.882672\n",
       "min        0.000000\n",
       "25%       11.524975\n",
       "50%       22.306311\n",
       "75%       34.521794\n",
       "max       73.054865\n",
       "Name: test_medape, dtype: float64"
      ]
     },
     "execution_count": 293,
     "metadata": {},
     "output_type": "execute_result"
    }
   ],
   "source": [
    "# error before adding config_page_views\n",
    "pre_err = best_err[best_err['group'].isin(sample_groups)]\n",
    "pre_err = drop_train_errors(pre_err)\n",
    "pre_err['test_medape'].describe()"
   ]
  },
  {
   "cell_type": "code",
   "execution_count": 294,
   "metadata": {
    "ExecuteTime": {
     "end_time": "2018-05-02T11:04:20.364850Z",
     "start_time": "2018-05-02T11:04:20.355014Z"
    },
    "code_folding": [
     0
    ]
   },
   "outputs": [
    {
     "data": {
      "text/plain": [
       "count    149.000000\n",
       "mean      16.433009\n",
       "std        9.517461\n",
       "min        0.000000\n",
       "25%        8.763635\n",
       "50%       15.021151\n",
       "75%       22.906423\n",
       "max       46.337926\n",
       "Name: test_medape, dtype: float64"
      ]
     },
     "execution_count": 294,
     "metadata": {},
     "output_type": "execute_result"
    }
   ],
   "source": [
    "# error after adding config_page_views\n",
    "post_err = get_best_err(sample_err)\n",
    "post_err = drop_train_errors(post_err)\n",
    "post_err['test_medape'].describe()"
   ]
  },
  {
   "cell_type": "markdown",
   "metadata": {},
   "source": [
    "__Obs__: There is also significant gain for SG data if we add the feature."
   ]
  },
  {
   "cell_type": "markdown",
   "metadata": {},
   "source": [
    "### Individual gain/loss"
   ]
  },
  {
   "cell_type": "code",
   "execution_count": 295,
   "metadata": {
    "ExecuteTime": {
     "end_time": "2018-05-02T11:04:37.286998Z",
     "start_time": "2018-05-02T11:04:37.268816Z"
    },
    "collapsed": true
   },
   "outputs": [],
   "source": [
    "res = cal_acc_gain(pre_err, post_err)"
   ]
  },
  {
   "cell_type": "code",
   "execution_count": 268,
   "metadata": {
    "ExecuteTime": {
     "end_time": "2018-04-30T11:28:08.776950Z",
     "start_time": "2018-04-30T11:28:08.769399Z"
    },
    "collapsed": true
   },
   "outputs": [
    {
     "data": {
      "text/plain": [
       "count    149.000000\n",
       "mean       7.655988\n",
       "std       13.172484\n",
       "min      -28.343610\n",
       "25%       -0.779897\n",
       "50%        6.486416\n",
       "75%       14.842927\n",
       "max       66.612035\n",
       "Name: delta_medape, dtype: float64"
      ]
     },
     "execution_count": 268,
     "metadata": {},
     "output_type": "execute_result"
    }
   ],
   "source": [
    "res.delta_medape.describe()"
   ]
  },
  {
   "cell_type": "code",
   "execution_count": 269,
   "metadata": {
    "ExecuteTime": {
     "end_time": "2018-04-30T11:28:22.074838Z",
     "start_time": "2018-04-30T11:28:21.900299Z"
    },
    "code_folding": [],
    "collapsed": true
   },
   "outputs": [
    {
     "data": {
      "text/plain": [
       "<matplotlib.text.Text at 0x116beb2e8>"
      ]
     },
     "execution_count": 269,
     "metadata": {},
     "output_type": "execute_result"
    },
    {
     "data": {
      "image/png": "[encoded data removed]",
      "text/plain": [
       "<matplotlib.figure.Figure at 0x11252e748>"
      ]
     },
     "metadata": {},
     "output_type": "display_data"
    }
   ],
   "source": [
    "# histogram of accuracy gain/loss\n",
    "_ = res['delta_medape'].hist()\n",
    "tt = 'Gain by adding config_page_views feature' + '\\n' + '(sample of {} groups)'.format(len(sample_groups))\n",
    "plt.title(tt)\n",
    "plt.xlabel('Accuracy gain (in %)'); plt.ylabel('Count')"
   ]
  },
  {
   "cell_type": "markdown",
   "metadata": {},
   "source": [
    "We can see that for most groups, we achieve gain in accuracy after adding feature `config_page_views`. Only for 25% of groups, we lose accuracy. Let us take closer look on both cases."
   ]
  },
  {
   "cell_type": "code",
   "execution_count": 296,
   "metadata": {
    "ExecuteTime": {
     "end_time": "2018-05-02T11:04:40.434848Z",
     "start_time": "2018-05-02T11:04:40.420362Z"
    },
    "collapsed": true
   },
   "outputs": [],
   "source": [
    "gain_groups = res.query('delta_medape > 0')['group']\n",
    "loss_groups = res.query('delta_medape <= 0')['group']"
   ]
  },
  {
   "cell_type": "code",
   "execution_count": 271,
   "metadata": {
    "ExecuteTime": {
     "end_time": "2018-04-30T11:29:18.438737Z",
     "start_time": "2018-04-30T11:29:18.174384Z"
    },
    "code_folding": [
     0
    ]
   },
   "outputs": [
    {
     "data": {
      "image/png": "[encoded data removed]",
      "text/plain": [
       "<matplotlib.figure.Figure at 0x1128afc50>"
      ]
     },
     "metadata": {},
     "output_type": "display_data"
    }
   ],
   "source": [
    "# Gain\n",
    "acc_gain = res.query('delta_medape > 0')['delta_medape']\n",
    "_ = acc_gain.hist()\n",
    "t1 = 'Gain by adding {0} feature'.format(add_feat)\n",
    "t2 = '({0} groups, {1} data)'.format(acc_gain.shape[0], country.upper())\n",
    "tt = t1 + '\\n' + t2\n",
    "plt.title(tt)\n",
    "plt.xlabel('Accuracy gain (in %)'); plt.ylabel('# groups')\n",
    "plt.savefig(add_feat_dir + 'gain_hist.pdf')"
   ]
  },
  {
   "cell_type": "code",
   "execution_count": 272,
   "metadata": {
    "ExecuteTime": {
     "end_time": "2018-04-30T11:29:31.523659Z",
     "start_time": "2018-04-30T11:29:31.245515Z"
    },
    "code_folding": []
   },
   "outputs": [
    {
     "data": {
      "image/png": "[encoded data removed]",
      "text/plain": [
       "<matplotlib.figure.Figure at 0x1071f5b38>"
      ]
     },
     "metadata": {},
     "output_type": "display_data"
    }
   ],
   "source": [
    "# Loss\n",
    "acc_loss = res.query('delta_medape <= 0')['delta_medape']\n",
    "_ = acc_loss.hist()\n",
    "t1 = 'Loss due to adding {0} feature'.format(add_feat)\n",
    "t2 = '({0} groups, {1} data)'.format(acc_loss.shape[0], country.upper())\n",
    "tt = t1 + '\\n' + t2\n",
    "plt.title(tt)\n",
    "plt.xlabel('Accuracy loss (in %)'); plt.ylabel('# groups')\n",
    "plt.savefig(add_feat_dir + 'loss_hist.pdf')"
   ]
  },
  {
   "cell_type": "markdown",
   "metadata": {},
   "source": [
    "### Why loss?"
   ]
  },
  {
   "cell_type": "code",
   "execution_count": 323,
   "metadata": {
    "ExecuteTime": {
     "end_time": "2018-05-02T11:37:00.586529Z",
     "start_time": "2018-05-02T11:37:00.575035Z"
    },
    "code_folding": [
     0
    ],
    "collapsed": true
   },
   "outputs": [],
   "source": [
    "# get stats of the groups\n",
    "stats = pd.read_csv(dat_dir + 'stats.csv')\n",
    "res = res.rename(columns={'group': 'group_id'})\n",
    "res = pd.merge(res, stats)\n",
    "\n",
    "# add accuracy state\n",
    "res['acc_state'] = res['delta_medape'].apply(to_state)"
   ]
  },
  {
   "cell_type": "code",
   "execution_count": 327,
   "metadata": {
    "ExecuteTime": {
     "end_time": "2018-05-02T11:39:23.841468Z",
     "start_time": "2018-05-02T11:39:23.830160Z"
    },
    "code_folding": [
     0
    ],
    "collapsed": true
   },
   "outputs": [],
   "source": [
    "# gain vs. loss\n",
    "gain_df = res.query('delta_medape > 0')\n",
    "gain_df = drop_irrelevant(gain_df)\n",
    "\n",
    "loss_df = res.query('delta_medape < 0')\n",
    "loss_df = drop_irrelevant(loss_df)"
   ]
  },
  {
   "cell_type": "code",
   "execution_count": 338,
   "metadata": {
    "ExecuteTime": {
     "end_time": "2018-05-02T11:50:56.288849Z",
     "start_time": "2018-05-02T11:50:56.056659Z"
    }
   },
   "outputs": [
    {
     "data": {
      "image/png": "[encoded data removed]",
      "text/plain": [
       "<matplotlib.figure.Figure at 0x1071d8320>"
      ]
     },
     "metadata": {},
     "output_type": "display_data"
    }
   ],
   "source": [
    "fig = acc_gain_vs_configs(res, country)\n",
    "plt.savefig(add_feat_dir + 'acc_gain_vs_configs.pdf')"
   ]
  },
  {
   "cell_type": "code",
   "execution_count": 330,
   "metadata": {
    "ExecuteTime": {
     "end_time": "2018-05-02T11:42:03.922455Z",
     "start_time": "2018-05-02T11:42:03.745301Z"
    },
    "code_folding": [
     0
    ],
    "collapsed": true
   },
   "outputs": [
    {
     "data": {
      "image/png": "[encoded data removed]",
      "text/plain": [
       "<matplotlib.figure.Figure at 0x1128bb978>"
      ]
     },
     "metadata": {},
     "output_type": "display_data"
    }
   ],
   "source": [
    "# accuracy change vs. median rows per config\n",
    "sns.boxplot(x='acc_state', y='med_rows_per_config', data=res)\n",
    "_ = plt.xlabel('Accuracy change'); _ = plt.ylabel('Median rows per config')"
   ]
  },
  {
   "cell_type": "code",
   "execution_count": 328,
   "metadata": {
    "ExecuteTime": {
     "end_time": "2018-05-02T11:40:21.801492Z",
     "start_time": "2018-05-02T11:40:21.759213Z"
    },
    "scrolled": true
   },
   "outputs": [
    {
     "data": {
      "text/html": [
       "<div>\n",
       "<style>\n",
       "    .dataframe thead tr:only-child th {\n",
       "        text-align: right;\n",
       "    }\n",
       "\n",
       "    .dataframe thead th {\n",
       "        text-align: left;\n",
       "    }\n",
       "\n",
       "    .dataframe tbody tr th {\n",
       "        vertical-align: top;\n",
       "    }\n",
       "</style>\n",
       "<table border=\"1\" class=\"dataframe\">\n",
       "  <thead>\n",
       "    <tr style=\"text-align: right;\">\n",
       "      <th></th>\n",
       "      <th>pre_model</th>\n",
       "      <th>pre_test_medape</th>\n",
       "      <th>group_id</th>\n",
       "      <th>post_model</th>\n",
       "      <th>post_test_medape</th>\n",
       "      <th>delta_medape</th>\n",
       "      <th>avg_rows_per_config</th>\n",
       "      <th>max_rows_per_config</th>\n",
       "      <th>med_rows_per_config</th>\n",
       "      <th>min_rows_per_config</th>\n",
       "      <th>n_config</th>\n",
       "      <th>acc_state</th>\n",
       "    </tr>\n",
       "  </thead>\n",
       "  <tbody>\n",
       "    <tr>\n",
       "      <th>115</th>\n",
       "      <td>XGBoost</td>\n",
       "      <td>1.929969</td>\n",
       "      <td>sports_lifestyle_backpacks_unisex_autumn</td>\n",
       "      <td>Ridge Regression</td>\n",
       "      <td>30.273579</td>\n",
       "      <td>-28.343610</td>\n",
       "      <td>15.500000</td>\n",
       "      <td>23.0</td>\n",
       "      <td>15.0</td>\n",
       "      <td>9.0</td>\n",
       "      <td>4.0</td>\n",
       "      <td>Loss</td>\n",
       "    </tr>\n",
       "    <tr>\n",
       "      <th>129</th>\n",
       "      <td>XGBoost</td>\n",
       "      <td>7.439172</td>\n",
       "      <td>sports_lifestyle_shoes_male_spring_summer</td>\n",
       "      <td>XGBoost</td>\n",
       "      <td>25.836241</td>\n",
       "      <td>-18.397069</td>\n",
       "      <td>7.130841</td>\n",
       "      <td>54.0</td>\n",
       "      <td>5.0</td>\n",
       "      <td>1.0</td>\n",
       "      <td>107.0</td>\n",
       "      <td>Loss</td>\n",
       "    </tr>\n",
       "    <tr>\n",
       "      <th>109</th>\n",
       "      <td>XGBoost</td>\n",
       "      <td>10.599220</td>\n",
       "      <td>sports_lifestyle_bottoms_female_autumn_winter</td>\n",
       "      <td>Lasso Regression</td>\n",
       "      <td>28.656215</td>\n",
       "      <td>-18.056995</td>\n",
       "      <td>9.290323</td>\n",
       "      <td>82.0</td>\n",
       "      <td>5.0</td>\n",
       "      <td>1.0</td>\n",
       "      <td>31.0</td>\n",
       "      <td>Loss</td>\n",
       "    </tr>\n",
       "    <tr>\n",
       "      <th>125</th>\n",
       "      <td>XGBoost</td>\n",
       "      <td>26.160932</td>\n",
       "      <td>socks_unisex_autumn_winter</td>\n",
       "      <td>XGBoost</td>\n",
       "      <td>37.203825</td>\n",
       "      <td>-11.042893</td>\n",
       "      <td>5.875000</td>\n",
       "      <td>10.0</td>\n",
       "      <td>5.5</td>\n",
       "      <td>2.0</td>\n",
       "      <td>8.0</td>\n",
       "      <td>Loss</td>\n",
       "    </tr>\n",
       "    <tr>\n",
       "      <th>44</th>\n",
       "      <td>XGBoost</td>\n",
       "      <td>11.011314</td>\n",
       "      <td>sports_performance_bottoms_male_year_round</td>\n",
       "      <td>XGBoost</td>\n",
       "      <td>20.444965</td>\n",
       "      <td>-9.433651</td>\n",
       "      <td>11.404762</td>\n",
       "      <td>35.0</td>\n",
       "      <td>10.0</td>\n",
       "      <td>1.0</td>\n",
       "      <td>42.0</td>\n",
       "      <td>Loss</td>\n",
       "    </tr>\n",
       "    <tr>\n",
       "      <th>112</th>\n",
       "      <td>XGBoost</td>\n",
       "      <td>2.714825</td>\n",
       "      <td>sports_lifestyle_backpacks_unisex_year_round</td>\n",
       "      <td>XGBoost</td>\n",
       "      <td>11.233282</td>\n",
       "      <td>-8.518457</td>\n",
       "      <td>4.200000</td>\n",
       "      <td>11.0</td>\n",
       "      <td>4.0</td>\n",
       "      <td>1.0</td>\n",
       "      <td>15.0</td>\n",
       "      <td>Loss</td>\n",
       "    </tr>\n",
       "    <tr>\n",
       "      <th>121</th>\n",
       "      <td>XGBoost</td>\n",
       "      <td>21.932065</td>\n",
       "      <td>sneakers_unisex_spring_summer</td>\n",
       "      <td>XGBoost</td>\n",
       "      <td>30.290490</td>\n",
       "      <td>-8.358425</td>\n",
       "      <td>6.500000</td>\n",
       "      <td>34.0</td>\n",
       "      <td>5.0</td>\n",
       "      <td>1.0</td>\n",
       "      <td>44.0</td>\n",
       "      <td>Loss</td>\n",
       "    </tr>\n",
       "    <tr>\n",
       "      <th>49</th>\n",
       "      <td>XGBoost</td>\n",
       "      <td>9.701955</td>\n",
       "      <td>sports_performance_shoes_female_spring_summer</td>\n",
       "      <td>XGBoost</td>\n",
       "      <td>17.746556</td>\n",
       "      <td>-8.044600</td>\n",
       "      <td>4.088608</td>\n",
       "      <td>26.0</td>\n",
       "      <td>3.0</td>\n",
       "      <td>1.0</td>\n",
       "      <td>79.0</td>\n",
       "      <td>Loss</td>\n",
       "    </tr>\n",
       "    <tr>\n",
       "      <th>142</th>\n",
       "      <td>XGBoost</td>\n",
       "      <td>6.981212</td>\n",
       "      <td>sports_lifestyle_bottoms_male_summer</td>\n",
       "      <td>Ridge Regression</td>\n",
       "      <td>14.781668</td>\n",
       "      <td>-7.800457</td>\n",
       "      <td>10.333333</td>\n",
       "      <td>24.0</td>\n",
       "      <td>5.5</td>\n",
       "      <td>3.0</td>\n",
       "      <td>6.0</td>\n",
       "      <td>Loss</td>\n",
       "    </tr>\n",
       "    <tr>\n",
       "      <th>107</th>\n",
       "      <td>XGBoost</td>\n",
       "      <td>26.989150</td>\n",
       "      <td>sports_bra_female_summer</td>\n",
       "      <td>Ridge Regression</td>\n",
       "      <td>34.333520</td>\n",
       "      <td>-7.344370</td>\n",
       "      <td>25.500000</td>\n",
       "      <td>61.0</td>\n",
       "      <td>22.0</td>\n",
       "      <td>1.0</td>\n",
       "      <td>10.0</td>\n",
       "      <td>Loss</td>\n",
       "    </tr>\n",
       "    <tr>\n",
       "      <th>117</th>\n",
       "      <td>XGBoost</td>\n",
       "      <td>10.201889</td>\n",
       "      <td>sports_bra_female_spring_summer</td>\n",
       "      <td>XGBoost</td>\n",
       "      <td>17.225283</td>\n",
       "      <td>-7.023394</td>\n",
       "      <td>4.382716</td>\n",
       "      <td>23.0</td>\n",
       "      <td>2.0</td>\n",
       "      <td>1.0</td>\n",
       "      <td>81.0</td>\n",
       "      <td>Loss</td>\n",
       "    </tr>\n",
       "    <tr>\n",
       "      <th>37</th>\n",
       "      <td>XGBoost</td>\n",
       "      <td>7.608223</td>\n",
       "      <td>sports_performance_shoes_male_autumn_winter</td>\n",
       "      <td>XGBoost</td>\n",
       "      <td>14.557517</td>\n",
       "      <td>-6.949294</td>\n",
       "      <td>7.160194</td>\n",
       "      <td>34.0</td>\n",
       "      <td>5.0</td>\n",
       "      <td>1.0</td>\n",
       "      <td>206.0</td>\n",
       "      <td>Loss</td>\n",
       "    </tr>\n",
       "    <tr>\n",
       "      <th>118</th>\n",
       "      <td>XGBoost</td>\n",
       "      <td>8.061910</td>\n",
       "      <td>sports_bra_female_spring</td>\n",
       "      <td>XGBoost</td>\n",
       "      <td>14.609623</td>\n",
       "      <td>-6.547713</td>\n",
       "      <td>7.256410</td>\n",
       "      <td>42.0</td>\n",
       "      <td>5.0</td>\n",
       "      <td>1.0</td>\n",
       "      <td>39.0</td>\n",
       "      <td>Loss</td>\n",
       "    </tr>\n",
       "    <tr>\n",
       "      <th>16</th>\n",
       "      <td>XGBoost</td>\n",
       "      <td>19.104517</td>\n",
       "      <td>sling_bags_female_year_round</td>\n",
       "      <td>XGBoost</td>\n",
       "      <td>25.582594</td>\n",
       "      <td>-6.478077</td>\n",
       "      <td>6.250000</td>\n",
       "      <td>42.0</td>\n",
       "      <td>3.0</td>\n",
       "      <td>1.0</td>\n",
       "      <td>40.0</td>\n",
       "      <td>Loss</td>\n",
       "    </tr>\n",
       "    <tr>\n",
       "      <th>139</th>\n",
       "      <td>XGBoost</td>\n",
       "      <td>19.459915</td>\n",
       "      <td>sports_lifestyle_shoes_female_spring</td>\n",
       "      <td>Lasso Regression</td>\n",
       "      <td>25.621732</td>\n",
       "      <td>-6.161817</td>\n",
       "      <td>8.641509</td>\n",
       "      <td>80.0</td>\n",
       "      <td>3.0</td>\n",
       "      <td>1.0</td>\n",
       "      <td>53.0</td>\n",
       "      <td>Loss</td>\n",
       "    </tr>\n",
       "    <tr>\n",
       "      <th>86</th>\n",
       "      <td>XGBoost</td>\n",
       "      <td>9.115899</td>\n",
       "      <td>outdoor_shoes_male_spring_summer</td>\n",
       "      <td>XGBoost</td>\n",
       "      <td>15.079725</td>\n",
       "      <td>-5.963826</td>\n",
       "      <td>4.076923</td>\n",
       "      <td>8.0</td>\n",
       "      <td>3.0</td>\n",
       "      <td>1.0</td>\n",
       "      <td>13.0</td>\n",
       "      <td>Loss</td>\n",
       "    </tr>\n",
       "    <tr>\n",
       "      <th>54</th>\n",
       "      <td>XGBoost</td>\n",
       "      <td>19.941008</td>\n",
       "      <td>polo_shirts_female_autumn_winter</td>\n",
       "      <td>Boosted Regression Tree</td>\n",
       "      <td>25.891088</td>\n",
       "      <td>-5.950080</td>\n",
       "      <td>10.240000</td>\n",
       "      <td>28.0</td>\n",
       "      <td>10.0</td>\n",
       "      <td>1.0</td>\n",
       "      <td>25.0</td>\n",
       "      <td>Loss</td>\n",
       "    </tr>\n",
       "    <tr>\n",
       "      <th>35</th>\n",
       "      <td>XGBoost</td>\n",
       "      <td>18.406749</td>\n",
       "      <td>sports_performance_shoes_male_spring_summer</td>\n",
       "      <td>XGBoost</td>\n",
       "      <td>23.987055</td>\n",
       "      <td>-5.580306</td>\n",
       "      <td>4.141667</td>\n",
       "      <td>39.0</td>\n",
       "      <td>2.0</td>\n",
       "      <td>1.0</td>\n",
       "      <td>120.0</td>\n",
       "      <td>Loss</td>\n",
       "    </tr>\n",
       "    <tr>\n",
       "      <th>64</th>\n",
       "      <td>XGBoost</td>\n",
       "      <td>20.843649</td>\n",
       "      <td>panties_female_year_round</td>\n",
       "      <td>Ridge Regression</td>\n",
       "      <td>25.893389</td>\n",
       "      <td>-5.049740</td>\n",
       "      <td>5.945946</td>\n",
       "      <td>21.0</td>\n",
       "      <td>4.0</td>\n",
       "      <td>1.0</td>\n",
       "      <td>37.0</td>\n",
       "      <td>Loss</td>\n",
       "    </tr>\n",
       "    <tr>\n",
       "      <th>36</th>\n",
       "      <td>XGBoost</td>\n",
       "      <td>1.816022</td>\n",
       "      <td>sports_performance_shoes_male_spring</td>\n",
       "      <td>XGBoost</td>\n",
       "      <td>6.783903</td>\n",
       "      <td>-4.967880</td>\n",
       "      <td>4.607143</td>\n",
       "      <td>14.0</td>\n",
       "      <td>3.0</td>\n",
       "      <td>1.0</td>\n",
       "      <td>56.0</td>\n",
       "      <td>Loss</td>\n",
       "    </tr>\n",
       "    <tr>\n",
       "      <th>93</th>\n",
       "      <td>XGBoost</td>\n",
       "      <td>41.480196</td>\n",
       "      <td>other_accessories_unisex_autumn_winter</td>\n",
       "      <td>XGBoost</td>\n",
       "      <td>46.337926</td>\n",
       "      <td>-4.857731</td>\n",
       "      <td>52.545455</td>\n",
       "      <td>150.0</td>\n",
       "      <td>39.0</td>\n",
       "      <td>1.0</td>\n",
       "      <td>11.0</td>\n",
       "      <td>Loss</td>\n",
       "    </tr>\n",
       "    <tr>\n",
       "      <th>71</th>\n",
       "      <td>XGBoost</td>\n",
       "      <td>9.647441</td>\n",
       "      <td>nightwear_sleepwear_female_year_round</td>\n",
       "      <td>XGBoost</td>\n",
       "      <td>14.495254</td>\n",
       "      <td>-4.847813</td>\n",
       "      <td>9.300000</td>\n",
       "      <td>45.0</td>\n",
       "      <td>6.0</td>\n",
       "      <td>1.0</td>\n",
       "      <td>80.0</td>\n",
       "      <td>Loss</td>\n",
       "    </tr>\n",
       "    <tr>\n",
       "      <th>63</th>\n",
       "      <td>XGBoost</td>\n",
       "      <td>9.201789</td>\n",
       "      <td>other_bags_unisex_spring_summer</td>\n",
       "      <td>XGBoost</td>\n",
       "      <td>13.779354</td>\n",
       "      <td>-4.577565</td>\n",
       "      <td>4.701754</td>\n",
       "      <td>19.0</td>\n",
       "      <td>3.0</td>\n",
       "      <td>1.0</td>\n",
       "      <td>57.0</td>\n",
       "      <td>Loss</td>\n",
       "    </tr>\n",
       "    <tr>\n",
       "      <th>94</th>\n",
       "      <td>Lasso Regression</td>\n",
       "      <td>32.519231</td>\n",
       "      <td>sports_performance_shoes_unisex_autumn_winter</td>\n",
       "      <td>Random Forest</td>\n",
       "      <td>36.428571</td>\n",
       "      <td>-3.909340</td>\n",
       "      <td>8.200000</td>\n",
       "      <td>16.0</td>\n",
       "      <td>9.0</td>\n",
       "      <td>1.0</td>\n",
       "      <td>5.0</td>\n",
       "      <td>Loss</td>\n",
       "    </tr>\n",
       "    <tr>\n",
       "      <th>137</th>\n",
       "      <td>XGBoost</td>\n",
       "      <td>37.530649</td>\n",
       "      <td>sports_lifestyle_shoes_male_year_round</td>\n",
       "      <td>XGBoost</td>\n",
       "      <td>41.270447</td>\n",
       "      <td>-3.739798</td>\n",
       "      <td>24.000000</td>\n",
       "      <td>43.0</td>\n",
       "      <td>25.0</td>\n",
       "      <td>2.0</td>\n",
       "      <td>11.0</td>\n",
       "      <td>Loss</td>\n",
       "    </tr>\n",
       "    <tr>\n",
       "      <th>1</th>\n",
       "      <td>XGBoost</td>\n",
       "      <td>5.312610</td>\n",
       "      <td>smart_casual_shoes_male_spring_summer</td>\n",
       "      <td>XGBoost</td>\n",
       "      <td>8.898330</td>\n",
       "      <td>-3.585720</td>\n",
       "      <td>3.421687</td>\n",
       "      <td>23.0</td>\n",
       "      <td>2.0</td>\n",
       "      <td>1.0</td>\n",
       "      <td>83.0</td>\n",
       "      <td>Loss</td>\n",
       "    </tr>\n",
       "    <tr>\n",
       "      <th>141</th>\n",
       "      <td>XGBoost</td>\n",
       "      <td>31.523252</td>\n",
       "      <td>sports_lifestyle_shoes_female_autumn</td>\n",
       "      <td>Lasso Regression</td>\n",
       "      <td>34.501278</td>\n",
       "      <td>-2.978026</td>\n",
       "      <td>17.200000</td>\n",
       "      <td>62.0</td>\n",
       "      <td>9.0</td>\n",
       "      <td>1.0</td>\n",
       "      <td>35.0</td>\n",
       "      <td>Loss</td>\n",
       "    </tr>\n",
       "    <tr>\n",
       "      <th>120</th>\n",
       "      <td>XGBoost</td>\n",
       "      <td>19.954979</td>\n",
       "      <td>socks_female_autumn_winter</td>\n",
       "      <td>Lasso Regression</td>\n",
       "      <td>22.906423</td>\n",
       "      <td>-2.951443</td>\n",
       "      <td>4.592593</td>\n",
       "      <td>12.0</td>\n",
       "      <td>3.0</td>\n",
       "      <td>1.0</td>\n",
       "      <td>27.0</td>\n",
       "      <td>Loss</td>\n",
       "    </tr>\n",
       "    <tr>\n",
       "      <th>96</th>\n",
       "      <td>XGBoost</td>\n",
       "      <td>12.896097</td>\n",
       "      <td>sports_lifestyle_bottoms_female_spring_summer</td>\n",
       "      <td>XGBoost</td>\n",
       "      <td>15.116727</td>\n",
       "      <td>-2.220631</td>\n",
       "      <td>5.571429</td>\n",
       "      <td>21.0</td>\n",
       "      <td>3.0</td>\n",
       "      <td>1.0</td>\n",
       "      <td>35.0</td>\n",
       "      <td>Loss</td>\n",
       "    </tr>\n",
       "    <tr>\n",
       "      <th>28</th>\n",
       "      <td>XGBoost</td>\n",
       "      <td>27.056074</td>\n",
       "      <td>sports_performance_accessories_unisex_spring_s...</td>\n",
       "      <td>XGBoost</td>\n",
       "      <td>29.255104</td>\n",
       "      <td>-2.199030</td>\n",
       "      <td>8.379747</td>\n",
       "      <td>30.0</td>\n",
       "      <td>5.0</td>\n",
       "      <td>1.0</td>\n",
       "      <td>79.0</td>\n",
       "      <td>Loss</td>\n",
       "    </tr>\n",
       "    <tr>\n",
       "      <th>34</th>\n",
       "      <td>XGBoost</td>\n",
       "      <td>17.242992</td>\n",
       "      <td>sports_performance_bottoms_male_spring_summer</td>\n",
       "      <td>XGBoost</td>\n",
       "      <td>19.277036</td>\n",
       "      <td>-2.034044</td>\n",
       "      <td>4.286765</td>\n",
       "      <td>25.0</td>\n",
       "      <td>2.0</td>\n",
       "      <td>1.0</td>\n",
       "      <td>136.0</td>\n",
       "      <td>Loss</td>\n",
       "    </tr>\n",
       "    <tr>\n",
       "      <th>42</th>\n",
       "      <td>XGBoost</td>\n",
       "      <td>8.484519</td>\n",
       "      <td>sports_performance_shoes_female_autumn_winter</td>\n",
       "      <td>XGBoost</td>\n",
       "      <td>10.349613</td>\n",
       "      <td>-1.865095</td>\n",
       "      <td>8.410405</td>\n",
       "      <td>39.0</td>\n",
       "      <td>6.0</td>\n",
       "      <td>1.0</td>\n",
       "      <td>173.0</td>\n",
       "      <td>Loss</td>\n",
       "    </tr>\n",
       "    <tr>\n",
       "      <th>24</th>\n",
       "      <td>XGBoost</td>\n",
       "      <td>7.868719</td>\n",
       "      <td>sports_lifestyle_tops_male_autumn_winter</td>\n",
       "      <td>XGBoost</td>\n",
       "      <td>9.502149</td>\n",
       "      <td>-1.633430</td>\n",
       "      <td>5.085271</td>\n",
       "      <td>19.0</td>\n",
       "      <td>4.0</td>\n",
       "      <td>1.0</td>\n",
       "      <td>129.0</td>\n",
       "      <td>Loss</td>\n",
       "    </tr>\n",
       "    <tr>\n",
       "      <th>146</th>\n",
       "      <td>XGBoost</td>\n",
       "      <td>18.755388</td>\n",
       "      <td>sports_lifestyle_shoes_male_autumn</td>\n",
       "      <td>Lasso Regression</td>\n",
       "      <td>20.385440</td>\n",
       "      <td>-1.630052</td>\n",
       "      <td>14.079365</td>\n",
       "      <td>47.0</td>\n",
       "      <td>11.0</td>\n",
       "      <td>1.0</td>\n",
       "      <td>63.0</td>\n",
       "      <td>Loss</td>\n",
       "    </tr>\n",
       "    <tr>\n",
       "      <th>100</th>\n",
       "      <td>XGBoost</td>\n",
       "      <td>8.138037</td>\n",
       "      <td>sports_lifestyle_tops_female_spring_summer</td>\n",
       "      <td>XGBoost</td>\n",
       "      <td>9.719169</td>\n",
       "      <td>-1.581132</td>\n",
       "      <td>5.844444</td>\n",
       "      <td>25.0</td>\n",
       "      <td>4.0</td>\n",
       "      <td>1.0</td>\n",
       "      <td>135.0</td>\n",
       "      <td>Loss</td>\n",
       "    </tr>\n",
       "    <tr>\n",
       "      <th>6</th>\n",
       "      <td>XGBoost</td>\n",
       "      <td>8.973765</td>\n",
       "      <td>slip_ons_espadrilles_male_autumn_winter</td>\n",
       "      <td>XGBoost</td>\n",
       "      <td>10.276687</td>\n",
       "      <td>-1.302922</td>\n",
       "      <td>6.973684</td>\n",
       "      <td>29.0</td>\n",
       "      <td>5.0</td>\n",
       "      <td>1.0</td>\n",
       "      <td>76.0</td>\n",
       "      <td>Loss</td>\n",
       "    </tr>\n",
       "    <tr>\n",
       "      <th>134</th>\n",
       "      <td>XGBoost</td>\n",
       "      <td>5.439854</td>\n",
       "      <td>sports_lifestyle_tops_female_autumn</td>\n",
       "      <td>XGBoost</td>\n",
       "      <td>6.630194</td>\n",
       "      <td>-1.190341</td>\n",
       "      <td>11.533333</td>\n",
       "      <td>28.0</td>\n",
       "      <td>9.0</td>\n",
       "      <td>1.0</td>\n",
       "      <td>15.0</td>\n",
       "      <td>Loss</td>\n",
       "    </tr>\n",
       "    <tr>\n",
       "      <th>65</th>\n",
       "      <td>XGBoost</td>\n",
       "      <td>11.524975</td>\n",
       "      <td>panties_female_spring_summer</td>\n",
       "      <td>XGBoost</td>\n",
       "      <td>12.304872</td>\n",
       "      <td>-0.779897</td>\n",
       "      <td>4.250000</td>\n",
       "      <td>29.0</td>\n",
       "      <td>3.0</td>\n",
       "      <td>1.0</td>\n",
       "      <td>340.0</td>\n",
       "      <td>Loss</td>\n",
       "    </tr>\n",
       "    <tr>\n",
       "      <th>126</th>\n",
       "      <td>XGBoost</td>\n",
       "      <td>6.203556</td>\n",
       "      <td>socks_male_spring_summer</td>\n",
       "      <td>XGBoost</td>\n",
       "      <td>6.983232</td>\n",
       "      <td>-0.779676</td>\n",
       "      <td>4.662162</td>\n",
       "      <td>18.0</td>\n",
       "      <td>3.0</td>\n",
       "      <td>1.0</td>\n",
       "      <td>74.0</td>\n",
       "      <td>Loss</td>\n",
       "    </tr>\n",
       "    <tr>\n",
       "      <th>95</th>\n",
       "      <td>XGBoost</td>\n",
       "      <td>10.250044</td>\n",
       "      <td>sports_lifestyle_shoes_female_spring_summer</td>\n",
       "      <td>Random Forest</td>\n",
       "      <td>10.992913</td>\n",
       "      <td>-0.742869</td>\n",
       "      <td>5.648649</td>\n",
       "      <td>33.0</td>\n",
       "      <td>3.0</td>\n",
       "      <td>1.0</td>\n",
       "      <td>74.0</td>\n",
       "      <td>Loss</td>\n",
       "    </tr>\n",
       "    <tr>\n",
       "      <th>67</th>\n",
       "      <td>XGBoost</td>\n",
       "      <td>11.432719</td>\n",
       "      <td>nightwear_sleepwear_female_spring_summer</td>\n",
       "      <td>XGBoost</td>\n",
       "      <td>12.106872</td>\n",
       "      <td>-0.674152</td>\n",
       "      <td>5.269076</td>\n",
       "      <td>49.0</td>\n",
       "      <td>3.0</td>\n",
       "      <td>1.0</td>\n",
       "      <td>249.0</td>\n",
       "      <td>Loss</td>\n",
       "    </tr>\n",
       "    <tr>\n",
       "      <th>88</th>\n",
       "      <td>XGBoost</td>\n",
       "      <td>4.802394</td>\n",
       "      <td>other_shoes_female_autumn_winter</td>\n",
       "      <td>Boosted Regression Tree</td>\n",
       "      <td>5.475116</td>\n",
       "      <td>-0.672722</td>\n",
       "      <td>5.484848</td>\n",
       "      <td>21.0</td>\n",
       "      <td>4.0</td>\n",
       "      <td>1.0</td>\n",
       "      <td>33.0</td>\n",
       "      <td>Loss</td>\n",
       "    </tr>\n",
       "    <tr>\n",
       "      <th>52</th>\n",
       "      <td>XGBoost</td>\n",
       "      <td>37.933552</td>\n",
       "      <td>polo_shirts_male_year_round</td>\n",
       "      <td>XGBoost</td>\n",
       "      <td>38.477314</td>\n",
       "      <td>-0.543761</td>\n",
       "      <td>19.525000</td>\n",
       "      <td>55.0</td>\n",
       "      <td>17.5</td>\n",
       "      <td>1.0</td>\n",
       "      <td>40.0</td>\n",
       "      <td>Loss</td>\n",
       "    </tr>\n",
       "    <tr>\n",
       "      <th>122</th>\n",
       "      <td>XGBoost</td>\n",
       "      <td>17.746258</td>\n",
       "      <td>sneakers_unisex_autumn_winter</td>\n",
       "      <td>XGBoost</td>\n",
       "      <td>18.285656</td>\n",
       "      <td>-0.539398</td>\n",
       "      <td>5.826667</td>\n",
       "      <td>30.0</td>\n",
       "      <td>5.0</td>\n",
       "      <td>1.0</td>\n",
       "      <td>75.0</td>\n",
       "      <td>Loss</td>\n",
       "    </tr>\n",
       "    <tr>\n",
       "      <th>27</th>\n",
       "      <td>XGBoost</td>\n",
       "      <td>11.293256</td>\n",
       "      <td>sports_lifestyle_tops_female_summer</td>\n",
       "      <td>XGBoost</td>\n",
       "      <td>11.449146</td>\n",
       "      <td>-0.155890</td>\n",
       "      <td>15.076923</td>\n",
       "      <td>38.0</td>\n",
       "      <td>12.0</td>\n",
       "      <td>1.0</td>\n",
       "      <td>13.0</td>\n",
       "      <td>Loss</td>\n",
       "    </tr>\n",
       "    <tr>\n",
       "      <th>91</th>\n",
       "      <td>XGBoost</td>\n",
       "      <td>13.540912</td>\n",
       "      <td>sports_lifestyle_accessories_unisex_autumn</td>\n",
       "      <td>XGBoost</td>\n",
       "      <td>13.632721</td>\n",
       "      <td>-0.091809</td>\n",
       "      <td>9.166667</td>\n",
       "      <td>26.0</td>\n",
       "      <td>5.5</td>\n",
       "      <td>1.0</td>\n",
       "      <td>18.0</td>\n",
       "      <td>Loss</td>\n",
       "    </tr>\n",
       "  </tbody>\n",
       "</table>\n",
       "</div>"
      ],
      "text/plain": [
       "            pre_model  pre_test_medape  \\\n",
       "115           XGBoost         1.929969   \n",
       "129           XGBoost         7.439172   \n",
       "109           XGBoost        10.599220   \n",
       "125           XGBoost        26.160932   \n",
       "44            XGBoost        11.011314   \n",
       "112           XGBoost         2.714825   \n",
       "121           XGBoost        21.932065   \n",
       "49            XGBoost         9.701955   \n",
       "142           XGBoost         6.981212   \n",
       "107           XGBoost        26.989150   \n",
       "117           XGBoost        10.201889   \n",
       "37            XGBoost         7.608223   \n",
       "118           XGBoost         8.061910   \n",
       "16            XGBoost        19.104517   \n",
       "139           XGBoost        19.459915   \n",
       "86            XGBoost         9.115899   \n",
       "54            XGBoost        19.941008   \n",
       "35            XGBoost        18.406749   \n",
       "64            XGBoost        20.843649   \n",
       "36            XGBoost         1.816022   \n",
       "93            XGBoost        41.480196   \n",
       "71            XGBoost         9.647441   \n",
       "63            XGBoost         9.201789   \n",
       "94   Lasso Regression        32.519231   \n",
       "137           XGBoost        37.530649   \n",
       "1             XGBoost         5.312610   \n",
       "141           XGBoost        31.523252   \n",
       "120           XGBoost        19.954979   \n",
       "96            XGBoost        12.896097   \n",
       "28            XGBoost        27.056074   \n",
       "34            XGBoost        17.242992   \n",
       "42            XGBoost         8.484519   \n",
       "24            XGBoost         7.868719   \n",
       "146           XGBoost        18.755388   \n",
       "100           XGBoost         8.138037   \n",
       "6             XGBoost         8.973765   \n",
       "134           XGBoost         5.439854   \n",
       "65            XGBoost        11.524975   \n",
       "126           XGBoost         6.203556   \n",
       "95            XGBoost        10.250044   \n",
       "67            XGBoost        11.432719   \n",
       "88            XGBoost         4.802394   \n",
       "52            XGBoost        37.933552   \n",
       "122           XGBoost        17.746258   \n",
       "27            XGBoost        11.293256   \n",
       "91            XGBoost        13.540912   \n",
       "\n",
       "                                              group_id  \\\n",
       "115           sports_lifestyle_backpacks_unisex_autumn   \n",
       "129          sports_lifestyle_shoes_male_spring_summer   \n",
       "109      sports_lifestyle_bottoms_female_autumn_winter   \n",
       "125                         socks_unisex_autumn_winter   \n",
       "44          sports_performance_bottoms_male_year_round   \n",
       "112       sports_lifestyle_backpacks_unisex_year_round   \n",
       "121                      sneakers_unisex_spring_summer   \n",
       "49       sports_performance_shoes_female_spring_summer   \n",
       "142               sports_lifestyle_bottoms_male_summer   \n",
       "107                           sports_bra_female_summer   \n",
       "117                    sports_bra_female_spring_summer   \n",
       "37         sports_performance_shoes_male_autumn_winter   \n",
       "118                           sports_bra_female_spring   \n",
       "16                        sling_bags_female_year_round   \n",
       "139               sports_lifestyle_shoes_female_spring   \n",
       "86                    outdoor_shoes_male_spring_summer   \n",
       "54                    polo_shirts_female_autumn_winter   \n",
       "35         sports_performance_shoes_male_spring_summer   \n",
       "64                           panties_female_year_round   \n",
       "36                sports_performance_shoes_male_spring   \n",
       "93              other_accessories_unisex_autumn_winter   \n",
       "71               nightwear_sleepwear_female_year_round   \n",
       "63                     other_bags_unisex_spring_summer   \n",
       "94       sports_performance_shoes_unisex_autumn_winter   \n",
       "137             sports_lifestyle_shoes_male_year_round   \n",
       "1                smart_casual_shoes_male_spring_summer   \n",
       "141               sports_lifestyle_shoes_female_autumn   \n",
       "120                         socks_female_autumn_winter   \n",
       "96       sports_lifestyle_bottoms_female_spring_summer   \n",
       "28   sports_performance_accessories_unisex_spring_s...   \n",
       "34       sports_performance_bottoms_male_spring_summer   \n",
       "42       sports_performance_shoes_female_autumn_winter   \n",
       "24            sports_lifestyle_tops_male_autumn_winter   \n",
       "146                 sports_lifestyle_shoes_male_autumn   \n",
       "100         sports_lifestyle_tops_female_spring_summer   \n",
       "6              slip_ons_espadrilles_male_autumn_winter   \n",
       "134                sports_lifestyle_tops_female_autumn   \n",
       "65                        panties_female_spring_summer   \n",
       "126                           socks_male_spring_summer   \n",
       "95         sports_lifestyle_shoes_female_spring_summer   \n",
       "67            nightwear_sleepwear_female_spring_summer   \n",
       "88                    other_shoes_female_autumn_winter   \n",
       "52                         polo_shirts_male_year_round   \n",
       "122                      sneakers_unisex_autumn_winter   \n",
       "27                 sports_lifestyle_tops_female_summer   \n",
       "91          sports_lifestyle_accessories_unisex_autumn   \n",
       "\n",
       "                  post_model  post_test_medape  delta_medape  \\\n",
       "115         Ridge Regression         30.273579    -28.343610   \n",
       "129                  XGBoost         25.836241    -18.397069   \n",
       "109         Lasso Regression         28.656215    -18.056995   \n",
       "125                  XGBoost         37.203825    -11.042893   \n",
       "44                   XGBoost         20.444965     -9.433651   \n",
       "112                  XGBoost         11.233282     -8.518457   \n",
       "121                  XGBoost         30.290490     -8.358425   \n",
       "49                   XGBoost         17.746556     -8.044600   \n",
       "142         Ridge Regression         14.781668     -7.800457   \n",
       "107         Ridge Regression         34.333520     -7.344370   \n",
       "117                  XGBoost         17.225283     -7.023394   \n",
       "37                   XGBoost         14.557517     -6.949294   \n",
       "118                  XGBoost         14.609623     -6.547713   \n",
       "16                   XGBoost         25.582594     -6.478077   \n",
       "139         Lasso Regression         25.621732     -6.161817   \n",
       "86                   XGBoost         15.079725     -5.963826   \n",
       "54   Boosted Regression Tree         25.891088     -5.950080   \n",
       "35                   XGBoost         23.987055     -5.580306   \n",
       "64          Ridge Regression         25.893389     -5.049740   \n",
       "36                   XGBoost          6.783903     -4.967880   \n",
       "93                   XGBoost         46.337926     -4.857731   \n",
       "71                   XGBoost         14.495254     -4.847813   \n",
       "63                   XGBoost         13.779354     -4.577565   \n",
       "94             Random Forest         36.428571     -3.909340   \n",
       "137                  XGBoost         41.270447     -3.739798   \n",
       "1                    XGBoost          8.898330     -3.585720   \n",
       "141         Lasso Regression         34.501278     -2.978026   \n",
       "120         Lasso Regression         22.906423     -2.951443   \n",
       "96                   XGBoost         15.116727     -2.220631   \n",
       "28                   XGBoost         29.255104     -2.199030   \n",
       "34                   XGBoost         19.277036     -2.034044   \n",
       "42                   XGBoost         10.349613     -1.865095   \n",
       "24                   XGBoost          9.502149     -1.633430   \n",
       "146         Lasso Regression         20.385440     -1.630052   \n",
       "100                  XGBoost          9.719169     -1.581132   \n",
       "6                    XGBoost         10.276687     -1.302922   \n",
       "134                  XGBoost          6.630194     -1.190341   \n",
       "65                   XGBoost         12.304872     -0.779897   \n",
       "126                  XGBoost          6.983232     -0.779676   \n",
       "95             Random Forest         10.992913     -0.742869   \n",
       "67                   XGBoost         12.106872     -0.674152   \n",
       "88   Boosted Regression Tree          5.475116     -0.672722   \n",
       "52                   XGBoost         38.477314     -0.543761   \n",
       "122                  XGBoost         18.285656     -0.539398   \n",
       "27                   XGBoost         11.449146     -0.155890   \n",
       "91                   XGBoost         13.632721     -0.091809   \n",
       "\n",
       "     avg_rows_per_config  max_rows_per_config  med_rows_per_config  \\\n",
       "115            15.500000                 23.0                 15.0   \n",
       "129             7.130841                 54.0                  5.0   \n",
       "109             9.290323                 82.0                  5.0   \n",
       "125             5.875000                 10.0                  5.5   \n",
       "44             11.404762                 35.0                 10.0   \n",
       "112             4.200000                 11.0                  4.0   \n",
       "121             6.500000                 34.0                  5.0   \n",
       "49              4.088608                 26.0                  3.0   \n",
       "142            10.333333                 24.0                  5.5   \n",
       "107            25.500000                 61.0                 22.0   \n",
       "117             4.382716                 23.0                  2.0   \n",
       "37              7.160194                 34.0                  5.0   \n",
       "118             7.256410                 42.0                  5.0   \n",
       "16              6.250000                 42.0                  3.0   \n",
       "139             8.641509                 80.0                  3.0   \n",
       "86              4.076923                  8.0                  3.0   \n",
       "54             10.240000                 28.0                 10.0   \n",
       "35              4.141667                 39.0                  2.0   \n",
       "64              5.945946                 21.0                  4.0   \n",
       "36              4.607143                 14.0                  3.0   \n",
       "93             52.545455                150.0                 39.0   \n",
       "71              9.300000                 45.0                  6.0   \n",
       "63              4.701754                 19.0                  3.0   \n",
       "94              8.200000                 16.0                  9.0   \n",
       "137            24.000000                 43.0                 25.0   \n",
       "1               3.421687                 23.0                  2.0   \n",
       "141            17.200000                 62.0                  9.0   \n",
       "120             4.592593                 12.0                  3.0   \n",
       "96              5.571429                 21.0                  3.0   \n",
       "28              8.379747                 30.0                  5.0   \n",
       "34              4.286765                 25.0                  2.0   \n",
       "42              8.410405                 39.0                  6.0   \n",
       "24              5.085271                 19.0                  4.0   \n",
       "146            14.079365                 47.0                 11.0   \n",
       "100             5.844444                 25.0                  4.0   \n",
       "6               6.973684                 29.0                  5.0   \n",
       "134            11.533333                 28.0                  9.0   \n",
       "65              4.250000                 29.0                  3.0   \n",
       "126             4.662162                 18.0                  3.0   \n",
       "95              5.648649                 33.0                  3.0   \n",
       "67              5.269076                 49.0                  3.0   \n",
       "88              5.484848                 21.0                  4.0   \n",
       "52             19.525000                 55.0                 17.5   \n",
       "122             5.826667                 30.0                  5.0   \n",
       "27             15.076923                 38.0                 12.0   \n",
       "91              9.166667                 26.0                  5.5   \n",
       "\n",
       "     min_rows_per_config  n_config acc_state  \n",
       "115                  9.0       4.0      Loss  \n",
       "129                  1.0     107.0      Loss  \n",
       "109                  1.0      31.0      Loss  \n",
       "125                  2.0       8.0      Loss  \n",
       "44                   1.0      42.0      Loss  \n",
       "112                  1.0      15.0      Loss  \n",
       "121                  1.0      44.0      Loss  \n",
       "49                   1.0      79.0      Loss  \n",
       "142                  3.0       6.0      Loss  \n",
       "107                  1.0      10.0      Loss  \n",
       "117                  1.0      81.0      Loss  \n",
       "37                   1.0     206.0      Loss  \n",
       "118                  1.0      39.0      Loss  \n",
       "16                   1.0      40.0      Loss  \n",
       "139                  1.0      53.0      Loss  \n",
       "86                   1.0      13.0      Loss  \n",
       "54                   1.0      25.0      Loss  \n",
       "35                   1.0     120.0      Loss  \n",
       "64                   1.0      37.0      Loss  \n",
       "36                   1.0      56.0      Loss  \n",
       "93                   1.0      11.0      Loss  \n",
       "71                   1.0      80.0      Loss  \n",
       "63                   1.0      57.0      Loss  \n",
       "94                   1.0       5.0      Loss  \n",
       "137                  2.0      11.0      Loss  \n",
       "1                    1.0      83.0      Loss  \n",
       "141                  1.0      35.0      Loss  \n",
       "120                  1.0      27.0      Loss  \n",
       "96                   1.0      35.0      Loss  \n",
       "28                   1.0      79.0      Loss  \n",
       "34                   1.0     136.0      Loss  \n",
       "42                   1.0     173.0      Loss  \n",
       "24                   1.0     129.0      Loss  \n",
       "146                  1.0      63.0      Loss  \n",
       "100                  1.0     135.0      Loss  \n",
       "6                    1.0      76.0      Loss  \n",
       "134                  1.0      15.0      Loss  \n",
       "65                   1.0     340.0      Loss  \n",
       "126                  1.0      74.0      Loss  \n",
       "95                   1.0      74.0      Loss  \n",
       "67                   1.0     249.0      Loss  \n",
       "88                   1.0      33.0      Loss  \n",
       "52                   1.0      40.0      Loss  \n",
       "122                  1.0      75.0      Loss  \n",
       "27                   1.0      13.0      Loss  \n",
       "91                   1.0      18.0      Loss  "
      ]
     },
     "execution_count": 328,
     "metadata": {},
     "output_type": "execute_result"
    }
   ],
   "source": [
    "loss_df = loss_df.sort_values('delta_medape')\n",
    "loss_df"
   ]
  },
  {
   "cell_type": "markdown",
   "metadata": {},
   "source": [
    "__Obs__: Most groups with loss in accuracy are under __sport__ category."
   ]
  },
  {
   "cell_type": "markdown",
   "metadata": {},
   "source": [
    "#### Groups with largest loss"
   ]
  },
  {
   "cell_type": "code",
   "execution_count": 329,
   "metadata": {
    "ExecuteTime": {
     "end_time": "2018-05-02T11:40:36.364741Z",
     "start_time": "2018-05-02T11:40:36.347790Z"
    }
   },
   "outputs": [
    {
     "data": {
      "text/html": [
       "<div>\n",
       "<style>\n",
       "    .dataframe thead tr:only-child th {\n",
       "        text-align: right;\n",
       "    }\n",
       "\n",
       "    .dataframe thead th {\n",
       "        text-align: left;\n",
       "    }\n",
       "\n",
       "    .dataframe tbody tr th {\n",
       "        vertical-align: top;\n",
       "    }\n",
       "</style>\n",
       "<table border=\"1\" class=\"dataframe\">\n",
       "  <thead>\n",
       "    <tr style=\"text-align: right;\">\n",
       "      <th></th>\n",
       "      <th>pre_model</th>\n",
       "      <th>pre_test_medape</th>\n",
       "      <th>group_id</th>\n",
       "      <th>post_model</th>\n",
       "      <th>post_test_medape</th>\n",
       "      <th>delta_medape</th>\n",
       "      <th>avg_rows_per_config</th>\n",
       "      <th>max_rows_per_config</th>\n",
       "      <th>med_rows_per_config</th>\n",
       "      <th>min_rows_per_config</th>\n",
       "      <th>n_config</th>\n",
       "      <th>acc_state</th>\n",
       "    </tr>\n",
       "  </thead>\n",
       "  <tbody>\n",
       "    <tr>\n",
       "      <th>115</th>\n",
       "      <td>XGBoost</td>\n",
       "      <td>1.929969</td>\n",
       "      <td>sports_lifestyle_backpacks_unisex_autumn</td>\n",
       "      <td>Ridge Regression</td>\n",
       "      <td>30.273579</td>\n",
       "      <td>-28.343610</td>\n",
       "      <td>15.500000</td>\n",
       "      <td>23.0</td>\n",
       "      <td>15.0</td>\n",
       "      <td>9.0</td>\n",
       "      <td>4.0</td>\n",
       "      <td>Loss</td>\n",
       "    </tr>\n",
       "    <tr>\n",
       "      <th>129</th>\n",
       "      <td>XGBoost</td>\n",
       "      <td>7.439172</td>\n",
       "      <td>sports_lifestyle_shoes_male_spring_summer</td>\n",
       "      <td>XGBoost</td>\n",
       "      <td>25.836241</td>\n",
       "      <td>-18.397069</td>\n",
       "      <td>7.130841</td>\n",
       "      <td>54.0</td>\n",
       "      <td>5.0</td>\n",
       "      <td>1.0</td>\n",
       "      <td>107.0</td>\n",
       "      <td>Loss</td>\n",
       "    </tr>\n",
       "    <tr>\n",
       "      <th>109</th>\n",
       "      <td>XGBoost</td>\n",
       "      <td>10.599220</td>\n",
       "      <td>sports_lifestyle_bottoms_female_autumn_winter</td>\n",
       "      <td>Lasso Regression</td>\n",
       "      <td>28.656215</td>\n",
       "      <td>-18.056995</td>\n",
       "      <td>9.290323</td>\n",
       "      <td>82.0</td>\n",
       "      <td>5.0</td>\n",
       "      <td>1.0</td>\n",
       "      <td>31.0</td>\n",
       "      <td>Loss</td>\n",
       "    </tr>\n",
       "    <tr>\n",
       "      <th>125</th>\n",
       "      <td>XGBoost</td>\n",
       "      <td>26.160932</td>\n",
       "      <td>socks_unisex_autumn_winter</td>\n",
       "      <td>XGBoost</td>\n",
       "      <td>37.203825</td>\n",
       "      <td>-11.042893</td>\n",
       "      <td>5.875000</td>\n",
       "      <td>10.0</td>\n",
       "      <td>5.5</td>\n",
       "      <td>2.0</td>\n",
       "      <td>8.0</td>\n",
       "      <td>Loss</td>\n",
       "    </tr>\n",
       "    <tr>\n",
       "      <th>44</th>\n",
       "      <td>XGBoost</td>\n",
       "      <td>11.011314</td>\n",
       "      <td>sports_performance_bottoms_male_year_round</td>\n",
       "      <td>XGBoost</td>\n",
       "      <td>20.444965</td>\n",
       "      <td>-9.433651</td>\n",
       "      <td>11.404762</td>\n",
       "      <td>35.0</td>\n",
       "      <td>10.0</td>\n",
       "      <td>1.0</td>\n",
       "      <td>42.0</td>\n",
       "      <td>Loss</td>\n",
       "    </tr>\n",
       "  </tbody>\n",
       "</table>\n",
       "</div>"
      ],
      "text/plain": [
       "    pre_model  pre_test_medape                                       group_id  \\\n",
       "115   XGBoost         1.929969       sports_lifestyle_backpacks_unisex_autumn   \n",
       "129   XGBoost         7.439172      sports_lifestyle_shoes_male_spring_summer   \n",
       "109   XGBoost        10.599220  sports_lifestyle_bottoms_female_autumn_winter   \n",
       "125   XGBoost        26.160932                     socks_unisex_autumn_winter   \n",
       "44    XGBoost        11.011314     sports_performance_bottoms_male_year_round   \n",
       "\n",
       "           post_model  post_test_medape  delta_medape  avg_rows_per_config  \\\n",
       "115  Ridge Regression         30.273579    -28.343610            15.500000   \n",
       "129           XGBoost         25.836241    -18.397069             7.130841   \n",
       "109  Lasso Regression         28.656215    -18.056995             9.290323   \n",
       "125           XGBoost         37.203825    -11.042893             5.875000   \n",
       "44            XGBoost         20.444965     -9.433651            11.404762   \n",
       "\n",
       "     max_rows_per_config  med_rows_per_config  min_rows_per_config  n_config  \\\n",
       "115                 23.0                 15.0                  9.0       4.0   \n",
       "129                 54.0                  5.0                  1.0     107.0   \n",
       "109                 82.0                  5.0                  1.0      31.0   \n",
       "125                 10.0                  5.5                  2.0       8.0   \n",
       "44                  35.0                 10.0                  1.0      42.0   \n",
       "\n",
       "    acc_state  \n",
       "115      Loss  \n",
       "129      Loss  \n",
       "109      Loss  \n",
       "125      Loss  \n",
       "44       Loss  "
      ]
     },
     "execution_count": 329,
     "metadata": {},
     "output_type": "execute_result"
    }
   ],
   "source": [
    "loss_df.head()"
   ]
  },
  {
   "cell_type": "code",
   "execution_count": 303,
   "metadata": {
    "ExecuteTime": {
     "end_time": "2018-05-02T11:14:59.376648Z",
     "start_time": "2018-05-02T11:14:59.373401Z"
    },
    "collapsed": true
   },
   "outputs": [],
   "source": [
    "bad_groups = loss_df.head()['group']"
   ]
  },
  {
   "cell_type": "code",
   "execution_count": null,
   "metadata": {
    "collapsed": true
   },
   "outputs": [],
   "source": [
    "bad"
   ]
  },
  {
   "cell_type": "code",
   "execution_count": null,
   "metadata": {
    "collapsed": true
   },
   "outputs": [],
   "source": []
  },
  {
   "cell_type": "markdown",
   "metadata": {},
   "source": [
    "### Aggregated gain/loss"
   ]
  },
  {
   "cell_type": "code",
   "execution_count": 273,
   "metadata": {
    "ExecuteTime": {
     "end_time": "2018-04-30T11:29:40.286574Z",
     "start_time": "2018-04-30T11:29:40.278527Z"
    },
    "collapsed": true
   },
   "outputs": [],
   "source": [
    "pre_err['use_config_page_views'] = 'N'\n",
    "post_err['use_config_page_views'] = 'Y'\n",
    "sample_best_err = pd.concat([pre_err, post_err])"
   ]
  },
  {
   "cell_type": "code",
   "execution_count": 274,
   "metadata": {
    "ExecuteTime": {
     "end_time": "2018-04-30T11:30:09.192952Z",
     "start_time": "2018-04-30T11:30:08.955392Z"
    },
    "code_folding": []
   },
   "outputs": [
    {
     "data": {
      "image/png": "[encoded data removed]",
      "text/plain": [
       "<matplotlib.figure.Figure at 0x1071e5c88>"
      ]
     },
     "metadata": {},
     "output_type": "display_data"
    }
   ],
   "source": [
    "# Gain\n",
    "gain_df = sample_best_err[sample_best_err.group.isin(gain_groups)]\n",
    "n_gain = len(gain_groups)\n",
    "\n",
    "title = 'Test MEDAPE before and after adding {}'.format(add_feat) + '\\n' + '({} groups)'.format(n_gain)\n",
    "fig = plot_gain(gain_df, title)\n",
    "plt.savefig(add_feat_dir + 'gain_box.pdf')"
   ]
  },
  {
   "cell_type": "code",
   "execution_count": 275,
   "metadata": {
    "ExecuteTime": {
     "end_time": "2018-04-30T11:30:26.139101Z",
     "start_time": "2018-04-30T11:30:25.921070Z"
    },
    "code_folding": [
     0
    ],
    "scrolled": true
   },
   "outputs": [
    {
     "data": {
      "image/png": "[encoded data removed]",
      "text/plain": [
       "<matplotlib.figure.Figure at 0x116af4128>"
      ]
     },
     "metadata": {},
     "output_type": "display_data"
    }
   ],
   "source": [
    "# Loss\n",
    "loss_df = sample_best_err[sample_best_err.group.isin(loss_groups)]\n",
    "n_loss = len(loss_groups)\n",
    "title = 'Test MEDAPE before and after adding {}'.format(add_feat) + '\\n' + '({} groups)'.format(n_loss)\n",
    "fig = plot_gain(loss_df, title)\n",
    "plt.savefig(add_feat_dir + 'loss_box.pdf')"
   ]
  },
  {
   "cell_type": "markdown",
   "metadata": {},
   "source": [
    "Median gain is about 15% while median loss is less than 10%."
   ]
  },
  {
   "cell_type": "markdown",
   "metadata": {},
   "source": [
    "## For ID data"
   ]
  },
  {
   "cell_type": "code",
   "execution_count": 339,
   "metadata": {
    "ExecuteTime": {
     "end_time": "2018-05-02T11:51:30.146190Z",
     "start_time": "2018-05-02T11:51:30.142504Z"
    },
    "code_folding": [
     0
    ],
    "collapsed": true
   },
   "outputs": [],
   "source": [
    "# dirs\n",
    "country = 'id'\n",
    "dat_dir = '/Users/gfg/data/markdown/clean/venture=Zalora/{}/'.format(country)\n",
    "res_dir = '/Users/gfg/projects/daas-markdown/res/Zalora/{}/'.format(country)\n",
    "sample_dir = res_dir + 'sample/'\n",
    "add_feat_dir = sample_dir + 'add_' + add_feat + '/'"
   ]
  },
  {
   "cell_type": "code",
   "execution_count": 340,
   "metadata": {
    "ExecuteTime": {
     "end_time": "2018-05-02T11:51:32.906815Z",
     "start_time": "2018-05-02T11:51:32.882543Z"
    }
   },
   "outputs": [
    {
     "name": "stdout",
     "output_type": "stream",
     "text": [
      "Loading error metrics for country id...\n",
      "Done\n"
     ]
    }
   ],
   "source": [
    "err_df, sample_err = load_metrics(country='id')"
   ]
  },
  {
   "cell_type": "code",
   "execution_count": 341,
   "metadata": {
    "ExecuteTime": {
     "end_time": "2018-05-02T11:51:32.912618Z",
     "start_time": "2018-05-02T11:51:32.908324Z"
    },
    "collapsed": true
   },
   "outputs": [],
   "source": [
    "best_err = get_best_err(err_df)"
   ]
  },
  {
   "cell_type": "code",
   "execution_count": 355,
   "metadata": {
    "ExecuteTime": {
     "end_time": "2018-05-02T12:01:00.814281Z",
     "start_time": "2018-05-02T12:01:00.803991Z"
    },
    "code_folding": [
     0
    ]
   },
   "outputs": [
    {
     "data": {
      "text/plain": [
       "count    147.000000\n",
       "mean      17.690388\n",
       "std       10.638229\n",
       "min        0.000000\n",
       "25%        9.775549\n",
       "50%       15.821981\n",
       "75%       25.368166\n",
       "max       49.549150\n",
       "Name: test_medape, dtype: float64"
      ]
     },
     "execution_count": 355,
     "metadata": {},
     "output_type": "execute_result"
    }
   ],
   "source": [
    "# error before adding config_page_views\n",
    "sample_groups = list(sample_err.group.unique())\n",
    "pre_err = best_err[best_err['group'].isin(sample_groups)]\n",
    "pre_err = drop_train_errors(pre_err)\n",
    "pre_err['test_medape'].describe()"
   ]
  },
  {
   "cell_type": "code",
   "execution_count": 343,
   "metadata": {
    "ExecuteTime": {
     "end_time": "2018-05-02T11:51:49.485254Z",
     "start_time": "2018-05-02T11:51:49.475245Z"
    },
    "code_folding": [
     0
    ]
   },
   "outputs": [
    {
     "data": {
      "text/plain": [
       "count    147.000000\n",
       "mean      12.747692\n",
       "std        8.156240\n",
       "min        0.000000\n",
       "25%        7.045525\n",
       "50%       11.029625\n",
       "75%       17.065744\n",
       "max       38.278381\n",
       "Name: test_medape, dtype: float64"
      ]
     },
     "execution_count": 343,
     "metadata": {},
     "output_type": "execute_result"
    }
   ],
   "source": [
    "# error after adding config_page_views\n",
    "post_err = get_best_err(sample_err)\n",
    "post_err = drop_train_errors(post_err)\n",
    "post_err['test_medape'].describe()"
   ]
  },
  {
   "cell_type": "markdown",
   "metadata": {},
   "source": [
    "###  Individual gain/loss"
   ]
  },
  {
   "cell_type": "code",
   "execution_count": 354,
   "metadata": {
    "ExecuteTime": {
     "end_time": "2018-05-02T12:00:33.674994Z",
     "start_time": "2018-05-02T12:00:33.658947Z"
    },
    "scrolled": true
   },
   "outputs": [
    {
     "data": {
      "text/plain": [
       "count    147.000000\n",
       "mean       4.942696\n",
       "std        8.608706\n",
       "min      -15.787142\n",
       "25%       -0.792965\n",
       "50%        3.989482\n",
       "75%        9.828751\n",
       "max       38.447071\n",
       "Name: delta_medape, dtype: float64"
      ]
     },
     "execution_count": 354,
     "metadata": {},
     "output_type": "execute_result"
    }
   ],
   "source": [
    "res = cal_acc_gain(pre_err=pre_err, post_err=post_err)\n",
    "res.delta_medape.describe()"
   ]
  },
  {
   "cell_type": "markdown",
   "metadata": {},
   "source": [
    "__Obs__: Results are also the same as for SG data."
   ]
  },
  {
   "cell_type": "code",
   "execution_count": 283,
   "metadata": {
    "ExecuteTime": {
     "end_time": "2018-04-30T11:31:46.592255Z",
     "start_time": "2018-04-30T11:31:46.583528Z"
    },
    "collapsed": true
   },
   "outputs": [],
   "source": [
    "gain_groups = res.query('delta_medape > 0')['group']\n",
    "loss_groups = res.query('delta_medape <= 0')['group']"
   ]
  },
  {
   "cell_type": "code",
   "execution_count": 284,
   "metadata": {
    "ExecuteTime": {
     "end_time": "2018-04-30T11:31:46.598342Z",
     "start_time": "2018-04-30T11:31:46.594126Z"
    }
   },
   "outputs": [
    {
     "name": "stdout",
     "output_type": "stream",
     "text": [
      "# groups with gain in acc: 101\n",
      "# groups with loss in acc: 46\n"
     ]
    }
   ],
   "source": [
    "print('# groups with gain in acc: {}'.format(len(gain_groups)))\n",
    "print('# groups with loss in acc: {}'.format(len(loss_groups)))"
   ]
  },
  {
   "cell_type": "code",
   "execution_count": 285,
   "metadata": {
    "ExecuteTime": {
     "end_time": "2018-04-30T11:31:56.763712Z",
     "start_time": "2018-04-30T11:31:56.491126Z"
    },
    "code_folding": [
     0
    ],
    "collapsed": true
   },
   "outputs": [
    {
     "data": {
      "image/png": "[encoded data removed]",
      "text/plain": [
       "<matplotlib.figure.Figure at 0x1172642b0>"
      ]
     },
     "metadata": {},
     "output_type": "display_data"
    }
   ],
   "source": [
    "# Gain\n",
    "acc_gain = res.query('delta_medape > 0')['delta_medape']\n",
    "_ = acc_gain.hist()\n",
    "t1 = 'Gain by adding {0} feature'.format(add_feat)\n",
    "t2 = '({0} groups, {1} data)'.format(acc_gain.shape[0], country.upper())\n",
    "tt = t1 + '\\n' + t2\n",
    "plt.title(tt)\n",
    "plt.xlabel('Accuracy gain (in %)'); plt.ylabel('# groups')\n",
    "plt.savefig(add_feat_dir + 'gain_hist.pdf')"
   ]
  },
  {
   "cell_type": "code",
   "execution_count": 286,
   "metadata": {
    "ExecuteTime": {
     "end_time": "2018-04-30T11:32:06.125682Z",
     "start_time": "2018-04-30T11:32:05.845464Z"
    },
    "code_folding": [
     0
    ],
    "collapsed": true
   },
   "outputs": [
    {
     "data": {
      "image/png": "[encoded data removed]",
      "text/plain": [
       "<matplotlib.figure.Figure at 0x1071c0978>"
      ]
     },
     "metadata": {},
     "output_type": "display_data"
    }
   ],
   "source": [
    "# Loss\n",
    "acc_loss = res.query('delta_medape <= 0')['delta_medape']\n",
    "_ = acc_loss.hist()\n",
    "t1 = 'Loss due to adding {0} feature'.format(add_feat)\n",
    "t2 = '({0} groups, {1} data)'.format(acc_loss.shape[0], country.upper())\n",
    "tt = t1 + '\\n' + t2\n",
    "plt.title(tt)\n",
    "plt.xlabel('Accuracy loss (in %)'); plt.ylabel('# groups')\n",
    "plt.savefig(add_feat_dir + 'loss_hist.pdf')"
   ]
  },
  {
   "cell_type": "markdown",
   "metadata": {},
   "source": [
    "#### Why loss?"
   ]
  },
  {
   "cell_type": "code",
   "execution_count": 356,
   "metadata": {
    "ExecuteTime": {
     "end_time": "2018-05-02T12:01:23.414055Z",
     "start_time": "2018-05-02T12:01:23.403344Z"
    },
    "collapsed": true
   },
   "outputs": [],
   "source": [
    "# get stats of the groups\n",
    "stats = pd.read_csv(dat_dir + 'stats.csv')\n",
    "res = res.rename(columns={'group': 'group_id'})\n",
    "res = pd.merge(res, stats)\n",
    "\n",
    "# add accuracy state\n",
    "res['acc_state'] = res['delta_medape'].apply(to_state)"
   ]
  },
  {
   "cell_type": "code",
   "execution_count": 358,
   "metadata": {
    "ExecuteTime": {
     "end_time": "2018-05-02T12:01:31.052852Z",
     "start_time": "2018-05-02T12:01:30.803663Z"
    }
   },
   "outputs": [
    {
     "data": {
      "image/png": "[encoded data removed]",
      "text/plain": [
       "<matplotlib.figure.Figure at 0x117458c50>"
      ]
     },
     "metadata": {},
     "output_type": "display_data"
    }
   ],
   "source": [
    "fig = acc_gain_vs_configs(res, country)\n",
    "plt.savefig(add_feat_dir + 'acc_gain_vs_configs.pdf')"
   ]
  },
  {
   "cell_type": "markdown",
   "metadata": {},
   "source": [
    "__Obs__: Gain groups have more configs than loss groups, this is True for both ID and SG data."
   ]
  },
  {
   "cell_type": "markdown",
   "metadata": {},
   "source": [
    "### Aggregated gain/loss"
   ]
  },
  {
   "cell_type": "code",
   "execution_count": 255,
   "metadata": {
    "ExecuteTime": {
     "end_time": "2018-04-30T11:08:20.620531Z",
     "start_time": "2018-04-30T11:08:20.613442Z"
    },
    "collapsed": true
   },
   "outputs": [],
   "source": [
    "pre_err['use_config_page_views'] = 'N'\n",
    "post_err['use_config_page_views'] = 'Y'\n",
    "sample_best_err = pd.concat([pre_err, post_err])"
   ]
  },
  {
   "cell_type": "code",
   "execution_count": 287,
   "metadata": {
    "ExecuteTime": {
     "end_time": "2018-04-30T11:32:31.824157Z",
     "start_time": "2018-04-30T11:32:31.598972Z"
    },
    "code_folding": [],
    "scrolled": true
   },
   "outputs": [
    {
     "data": {
      "image/png": "[encoded data removed]",
      "text/plain": [
       "<matplotlib.figure.Figure at 0x1176feba8>"
      ]
     },
     "metadata": {},
     "output_type": "display_data"
    }
   ],
   "source": [
    "# Gain\n",
    "gain_df = sample_best_err[sample_best_err.group.isin(gain_groups)]\n",
    "n_gain = len(gain_groups)\n",
    "t1 = 'Test MEDAPE before and after adding {}'.format(add_feat)\n",
    "t2 = '({} groups, {} data)'.format(n_gain, country.upper())\n",
    "title = t1 + '\\n' + t2\n",
    "fig = plot_gain(gain_df, title)\n",
    "plt.savefig(add_feat_dir + 'gain_box.pdf')"
   ]
  },
  {
   "cell_type": "code",
   "execution_count": 288,
   "metadata": {
    "ExecuteTime": {
     "end_time": "2018-04-30T11:32:44.515819Z",
     "start_time": "2018-04-30T11:32:44.277399Z"
    },
    "code_folding": []
   },
   "outputs": [
    {
     "data": {
      "image/png": "[encoded data removed]",
      "text/plain": [
       "<matplotlib.figure.Figure at 0x1161f9e10>"
      ]
     },
     "metadata": {},
     "output_type": "display_data"
    }
   ],
   "source": [
    "# Loss\n",
    "loss_df = sample_best_err[sample_best_err.group.isin(loss_groups)]\n",
    "n_loss = len(loss_groups)\n",
    "t1 = 'Test MEDAPE before and after adding {}'.format(add_feat)\n",
    "t2 = '({} groups, {} data)'.format(n_loss, country.upper())\n",
    "title = t1 + '\\n' + t2\n",
    "fig = plot_gain(loss_df, title)\n",
    "plt.savefig(add_feat_dir + 'loss_box.pdf')"
   ]
  },
  {
   "cell_type": "markdown",
   "metadata": {},
   "source": [
    "Median gain is almost 10% while median loss is only 2%."
   ]
  },
  {
   "cell_type": "markdown",
   "metadata": {
    "heading_collapsed": true
   },
   "source": [
    "## Best models\n",
    "For sample groups"
   ]
  },
  {
   "cell_type": "code",
   "execution_count": 77,
   "metadata": {
    "ExecuteTime": {
     "end_time": "2018-04-25T14:24:42.255400Z",
     "start_time": "2018-04-25T14:24:42.252455Z"
    },
    "collapsed": true,
    "hidden": true
   },
   "outputs": [],
   "source": [
    "n_group = best_err_after.shape[0]"
   ]
  },
  {
   "cell_type": "code",
   "execution_count": 78,
   "metadata": {
    "ExecuteTime": {
     "end_time": "2018-04-25T14:25:20.961892Z",
     "start_time": "2018-04-25T14:25:20.955554Z"
    },
    "hidden": true
   },
   "outputs": [
    {
     "data": {
      "text/plain": [
       "XGBoost                    76.767677\n",
       "Random Forest              16.161616\n",
       "Boosted Regression Tree     3.030303\n",
       "Lasso Regression            2.020202\n",
       "Ridge Regression            2.020202\n",
       "Name: post_model, dtype: float64"
      ]
     },
     "execution_count": 78,
     "metadata": {},
     "output_type": "execute_result"
    }
   ],
   "source": [
    "100.0 * best_err_after.post_model.value_counts()/n_group"
   ]
  },
  {
   "cell_type": "markdown",
   "metadata": {
    "hidden": true
   },
   "source": [
    "__Obs__:\n",
    "We can see that XGBoost is usually the best model. It is the best model for more than 75% of groups."
   ]
  },
  {
   "cell_type": "markdown",
   "metadata": {
    "heading_collapsed": true
   },
   "source": [
    "## Gain vs. amount of data\n",
    "For each group, its amount of data is measured by median number of transactional records (over configs)."
   ]
  },
  {
   "cell_type": "code",
   "execution_count": 95,
   "metadata": {
    "ExecuteTime": {
     "end_time": "2018-04-25T17:24:41.462336Z",
     "start_time": "2018-04-25T17:24:41.456815Z"
    },
    "collapsed": true,
    "hidden": true
   },
   "outputs": [],
   "source": [
    "stats = pd.read_csv(dat_dir + 'stats.csv')"
   ]
  },
  {
   "cell_type": "code",
   "execution_count": 96,
   "metadata": {
    "ExecuteTime": {
     "end_time": "2018-04-25T17:24:52.612084Z",
     "start_time": "2018-04-25T17:24:52.607795Z"
    },
    "hidden": true
   },
   "outputs": [
    {
     "data": {
      "text/plain": [
       "Index(['group_id', 'avg_rows_per_config', 'max_rows_per_config',\n",
       "       'med_rows_per_config', 'min_rows_per_config', 'n_config'],\n",
       "      dtype='object')"
      ]
     },
     "execution_count": 96,
     "metadata": {},
     "output_type": "execute_result"
    }
   ],
   "source": [
    "stats.columns"
   ]
  },
  {
   "cell_type": "code",
   "execution_count": 104,
   "metadata": {
    "ExecuteTime": {
     "end_time": "2018-04-25T17:33:31.425928Z",
     "start_time": "2018-04-25T17:33:31.421959Z"
    },
    "collapsed": true,
    "hidden": true
   },
   "outputs": [],
   "source": [
    "sample_stats = stats[stats.group_id.isin(sample_groups)]"
   ]
  },
  {
   "cell_type": "code",
   "execution_count": 105,
   "metadata": {
    "ExecuteTime": {
     "end_time": "2018-04-25T17:33:35.858606Z",
     "start_time": "2018-04-25T17:33:35.851231Z"
    },
    "collapsed": true,
    "hidden": true
   },
   "outputs": [
    {
     "data": {
      "text/plain": [
       "count    99.000000\n",
       "mean      5.570707\n",
       "std       5.404085\n",
       "min       1.000000\n",
       "25%       3.000000\n",
       "50%       4.000000\n",
       "75%       6.000000\n",
       "max      45.000000\n",
       "Name: med_rows_per_config, dtype: float64"
      ]
     },
     "execution_count": 105,
     "metadata": {},
     "output_type": "execute_result"
    }
   ],
   "source": [
    "sample_stats.med_rows_per_config.describe()"
   ]
  },
  {
   "cell_type": "code",
   "execution_count": 108,
   "metadata": {
    "ExecuteTime": {
     "end_time": "2018-04-25T17:38:05.153905Z",
     "start_time": "2018-04-25T17:38:04.900641Z"
    },
    "code_folding": [],
    "collapsed": true,
    "hidden": true
   },
   "outputs": [
    {
     "data": {
      "image/png": "[encoded data removed]",
      "text/plain": [
       "<matplotlib.figure.Figure at 0x116ea7d68>"
      ]
     },
     "metadata": {},
     "output_type": "display_data"
    }
   ],
   "source": [
    "_ = sample_stats.med_rows_per_config.hist() \n",
    "plt.xlabel(r'Median number of records (each config)'); plt.ylabel('Number of groups')\n",
    "plt.title('Histogram of data amount')\n",
    "plt.savefig(folder + 'data_amount.pdf')"
   ]
  },
  {
   "cell_type": "markdown",
   "metadata": {},
   "source": [
    "# Accuracy gain via adding both features \n",
    "Add both: `is_new` and `config_page_views`."
   ]
  },
  {
   "cell_type": "code",
   "execution_count": 19,
   "metadata": {
    "ExecuteTime": {
     "end_time": "2018-05-21T11:24:43.713006Z",
     "start_time": "2018-05-21T11:24:43.708466Z"
    },
    "code_folding": [
     0
    ],
    "collapsed": true
   },
   "outputs": [],
   "source": [
    "def load_errors(country='sg'):\n",
    "    sample_dir = '/Users/gfg/projects/daas-markdown/res/Zalora/{}/sample/'.format(country)\n",
    "    folder1 = sample_dir + 'add_config_page_views/'\n",
    "    folder2 = sample_dir + 'add_is_new/'\n",
    "\n",
    "    err1 = get_best_err(load_metrics_files(folder1))\n",
    "    err2 = get_best_err(load_metrics_files(folder2))\n",
    "    return err1, err2"
   ]
  },
  {
   "cell_type": "code",
   "execution_count": 21,
   "metadata": {
    "ExecuteTime": {
     "end_time": "2018-05-21T11:28:30.198577Z",
     "start_time": "2018-05-21T11:28:30.194291Z"
    },
    "code_folding": [
     0
    ],
    "collapsed": true
   },
   "outputs": [],
   "source": [
    "def viz_indi_error_change(res, country='sg'):\n",
    "    _ = res.delta_medape.hist()\n",
    "    plt.xlabel('Accuracy delta (in % of actual value)'); plt.ylabel('# groups')\n",
    "    plt.title('Delta of accuracy ({0} data, {1} groups)'.format(country.upper(), sample_size))\n",
    "    plt.savefig(sample_dir + 'add_is_new/{}_indi_err.pdf'.format(country))"
   ]
  },
  {
   "cell_type": "markdown",
   "metadata": {},
   "source": [
    "## For SG"
   ]
  },
  {
   "cell_type": "code",
   "execution_count": null,
   "metadata": {
    "collapsed": true
   },
   "outputs": [],
   "source": [
    "err1, err2 = load_errors(country='sg')"
   ]
  },
  {
   "cell_type": "code",
   "execution_count": 26,
   "metadata": {
    "ExecuteTime": {
     "end_time": "2018-05-18T16:20:22.970736Z",
     "start_time": "2018-05-18T16:20:22.963625Z"
    },
    "code_folding": [
     0
    ],
    "collapsed": true
   },
   "outputs": [],
   "source": [
    "# flag which additional feats are used\n",
    "err1['added_feature'] = 'config_page_views'\n",
    "err2['added_feature'] = 'config_page_views & is_new'\n",
    "sample_err = pd.concat([err1, err2])"
   ]
  },
  {
   "cell_type": "code",
   "execution_count": 33,
   "metadata": {
    "ExecuteTime": {
     "end_time": "2018-05-18T16:31:55.563928Z",
     "start_time": "2018-05-18T16:31:55.561258Z"
    },
    "collapsed": true
   },
   "outputs": [],
   "source": [
    "sample_size = err2.shape[0]"
   ]
  },
  {
   "cell_type": "markdown",
   "metadata": {},
   "source": [
    "### Individual gain/loss"
   ]
  },
  {
   "cell_type": "code",
   "execution_count": 35,
   "metadata": {
    "ExecuteTime": {
     "end_time": "2018-05-18T16:36:07.778223Z",
     "start_time": "2018-05-18T16:36:07.762430Z"
    },
    "collapsed": true
   },
   "outputs": [],
   "source": [
    "res = cal_acc_gain(err1, err2)"
   ]
  },
  {
   "cell_type": "code",
   "execution_count": 37,
   "metadata": {
    "ExecuteTime": {
     "end_time": "2018-05-18T16:36:27.357815Z",
     "start_time": "2018-05-18T16:36:27.350923Z"
    },
    "collapsed": true
   },
   "outputs": [
    {
     "data": {
      "text/plain": [
       "count    149.000000\n",
       "mean      -8.123166\n",
       "std       12.355481\n",
       "min      -75.660475\n",
       "25%      -12.576747\n",
       "50%       -7.199371\n",
       "75%       -0.804400\n",
       "max       16.931432\n",
       "Name: delta_medape, dtype: float64"
      ]
     },
     "execution_count": 37,
     "metadata": {},
     "output_type": "execute_result"
    }
   ],
   "source": [
    "res.delta_medape.describe()"
   ]
  },
  {
   "cell_type": "code",
   "execution_count": null,
   "metadata": {
    "collapsed": true
   },
   "outputs": [],
   "source": [
    "viz_indi_error_change(res, country='sg')"
   ]
  },
  {
   "cell_type": "markdown",
   "metadata": {},
   "source": [
    "__Obs:__ we lose accuracy most of the time (For 75% of groups)!!!"
   ]
  },
  {
   "cell_type": "markdown",
   "metadata": {},
   "source": [
    "### Aggregated gain/loss"
   ]
  },
  {
   "cell_type": "code",
   "execution_count": 41,
   "metadata": {
    "ExecuteTime": {
     "end_time": "2018-05-18T16:42:38.971739Z",
     "start_time": "2018-05-18T16:42:38.751026Z"
    },
    "code_folding": [
     0
    ]
   },
   "outputs": [
    {
     "data": {
      "image/png": "[encoded data removed]",
      "text/plain": [
       "<matplotlib.figure.Figure at 0x1168a9828>"
      ]
     },
     "metadata": {},
     "output_type": "display_data"
    }
   ],
   "source": [
    "fig = plot_gain(sample_err, tt='SG data (sample of {} groups)'.format(sample_size), \n",
    "                xcol='added_feature', ycol='test_medape', \n",
    "              xl='Additional features', yl='Test MEDAPE')\n",
    "\n",
    "plt.savefig(sample_dir + 'add_is_new/' + 'sg_agg_err.pdf')"
   ]
  },
  {
   "cell_type": "markdown",
   "metadata": {},
   "source": [
    "__Obs__: error is increased when we add `is_new`!!!"
   ]
  },
  {
   "cell_type": "markdown",
   "metadata": {},
   "source": [
    "### Against baseline \n",
    "baseline = when no additional feature is used"
   ]
  },
  {
   "cell_type": "code",
   "execution_count": 13,
   "metadata": {
    "ExecuteTime": {
     "end_time": "2018-05-18T09:42:41.886869Z",
     "start_time": "2018-05-18T09:42:41.859879Z"
    }
   },
   "outputs": [
    {
     "name": "stdout",
     "output_type": "stream",
     "text": [
      "Loading error metrics for country sg...\n",
      "Done\n"
     ]
    }
   ],
   "source": [
    "err_df, sample_err = load_metrics(country='sg', add_feat='is_new')"
   ]
  },
  {
   "cell_type": "code",
   "execution_count": 14,
   "metadata": {
    "ExecuteTime": {
     "end_time": "2018-05-18T09:51:19.799448Z",
     "start_time": "2018-05-18T09:51:19.793744Z"
    }
   },
   "outputs": [
    {
     "name": "stdout",
     "output_type": "stream",
     "text": [
      "# trained groups: 522\n",
      "# trained sample groups: 150\n"
     ]
    }
   ],
   "source": [
    "groups = err_df.group.unique()\n",
    "sample_groups = sample_err['group'].unique()\n",
    "print('# trained groups: {}'.format(len(groups)))\n",
    "print('# trained sample groups: {}'.format(len(sample_groups)))"
   ]
  },
  {
   "cell_type": "code",
   "execution_count": 16,
   "metadata": {
    "ExecuteTime": {
     "end_time": "2018-05-18T09:52:39.006237Z",
     "start_time": "2018-05-18T09:52:39.002285Z"
    },
    "collapsed": true
   },
   "outputs": [],
   "source": [
    "best_err = get_best_err(err_df)"
   ]
  },
  {
   "cell_type": "code",
   "execution_count": 17,
   "metadata": {
    "ExecuteTime": {
     "end_time": "2018-05-18T09:52:40.676445Z",
     "start_time": "2018-05-18T09:52:40.665343Z"
    },
    "code_folding": [],
    "collapsed": true
   },
   "outputs": [
    {
     "data": {
      "text/plain": [
       "count    149.000000\n",
       "mean      24.088997\n",
       "std       13.882672\n",
       "min        0.000000\n",
       "25%       11.524975\n",
       "50%       22.306311\n",
       "75%       34.521794\n",
       "max       73.054865\n",
       "Name: test_medape, dtype: float64"
      ]
     },
     "execution_count": 17,
     "metadata": {},
     "output_type": "execute_result"
    }
   ],
   "source": [
    "# error before adding the feature\n",
    "pre_err = best_err[best_err['group'].isin(sample_groups)]\n",
    "pre_err = drop_train_errors(pre_err)\n",
    "pre_err['test_medape'].describe()"
   ]
  },
  {
   "cell_type": "code",
   "execution_count": 18,
   "metadata": {
    "ExecuteTime": {
     "end_time": "2018-05-18T09:53:24.080584Z",
     "start_time": "2018-05-18T09:53:24.071188Z"
    },
    "code_folding": [],
    "collapsed": true
   },
   "outputs": [
    {
     "data": {
      "text/plain": [
       "count    149.000000\n",
       "mean      24.556175\n",
       "std       14.941427\n",
       "min        0.296015\n",
       "25%       12.939310\n",
       "50%       22.781873\n",
       "75%       33.678699\n",
       "max       94.733572\n",
       "Name: test_medape, dtype: float64"
      ]
     },
     "execution_count": 18,
     "metadata": {},
     "output_type": "execute_result"
    }
   ],
   "source": [
    "# error after adding the feature\n",
    "post_err = get_best_err(sample_err)\n",
    "post_err = drop_train_errors(post_err)\n",
    "post_err['test_medape'].describe()"
   ]
  },
  {
   "cell_type": "markdown",
   "metadata": {},
   "source": [
    "__ Obs:__\n",
    "Adding only feature `is_new` increases prediction error. Thus, we need to try adding both features `is_new` and `config_page_views` instead of adding only one of them."
   ]
  },
  {
   "cell_type": "markdown",
   "metadata": {},
   "source": [
    "## For ID"
   ]
  },
  {
   "cell_type": "markdown",
   "metadata": {},
   "source": [
    "## For MY"
   ]
  },
  {
   "cell_type": "code",
   "execution_count": 13,
   "metadata": {
    "ExecuteTime": {
     "end_time": "2018-05-21T11:18:32.937651Z",
     "start_time": "2018-05-21T11:18:32.907015Z"
    },
    "code_folding": [
     0
    ],
    "collapsed": true
   },
   "outputs": [],
   "source": [
    "# load error metrics\n",
    "sample_dir = '/Users/gfg/projects/daas-markdown/res/Zalora/my/sample/'\n",
    "folder1 = sample_dir + 'add_config_page_views/'\n",
    "folder2 = sample_dir + 'add_is_new/'\n",
    "\n",
    "err1 = get_best_err(load_metrics_files(folder1))\n",
    "err2 = get_best_err(load_metrics_files(folder2))"
   ]
  },
  {
   "cell_type": "code",
   "execution_count": 14,
   "metadata": {
    "ExecuteTime": {
     "end_time": "2018-05-21T11:18:56.463469Z",
     "start_time": "2018-05-21T11:18:56.454705Z"
    },
    "collapsed": true
   },
   "outputs": [],
   "source": [
    "# flag which additional feats are used\n",
    "err1['added_feature'] = 'config_page_views'\n",
    "err2['added_feature'] = 'config_page_views & is_new'\n",
    "sample_err = pd.concat([err1, err2])"
   ]
  },
  {
   "cell_type": "code",
   "execution_count": 15,
   "metadata": {
    "ExecuteTime": {
     "end_time": "2018-05-21T11:18:57.448939Z",
     "start_time": "2018-05-21T11:18:57.446487Z"
    },
    "collapsed": true
   },
   "outputs": [],
   "source": [
    "sample_size = err2.shape[0]"
   ]
  },
  {
   "cell_type": "markdown",
   "metadata": {},
   "source": [
    "### Individual gain/loss"
   ]
  },
  {
   "cell_type": "code",
   "execution_count": 16,
   "metadata": {
    "ExecuteTime": {
     "end_time": "2018-05-21T11:19:35.181223Z",
     "start_time": "2018-05-21T11:19:35.165647Z"
    },
    "collapsed": true
   },
   "outputs": [],
   "source": [
    "res = cal_acc_gain(err1, err2)"
   ]
  },
  {
   "cell_type": "code",
   "execution_count": 17,
   "metadata": {
    "ExecuteTime": {
     "end_time": "2018-05-21T11:19:39.128764Z",
     "start_time": "2018-05-21T11:19:39.120690Z"
    },
    "scrolled": true
   },
   "outputs": [
    {
     "data": {
      "text/plain": [
       "count    147.000000\n",
       "mean      -1.875791\n",
       "std       10.084488\n",
       "min      -30.189925\n",
       "25%       -6.048779\n",
       "50%       -1.205593\n",
       "75%        1.817513\n",
       "max       28.961939\n",
       "Name: delta_medape, dtype: float64"
      ]
     },
     "execution_count": 17,
     "metadata": {},
     "output_type": "execute_result"
    }
   ],
   "source": [
    "res.delta_medape.describe()"
   ]
  },
  {
   "cell_type": "code",
   "execution_count": 22,
   "metadata": {
    "ExecuteTime": {
     "end_time": "2018-05-21T11:29:28.410187Z",
     "start_time": "2018-05-21T11:29:28.076408Z"
    }
   },
   "outputs": [
    {
     "data": {
      "image/png": "[encoded data removed]",
      "text/plain": [
       "<matplotlib.figure.Figure at 0x1152bf550>"
      ]
     },
     "metadata": {},
     "output_type": "display_data"
    }
   ],
   "source": [
    "viz_indi_error_change(res, country='my')"
   ]
  },
  {
   "cell_type": "markdown",
   "metadata": {},
   "source": [
    "__Obs:__ most of the time, changes are small. Thus adding both features `is_new` and `config_page_views` does not significantly change over adding only `config_page_views`."
   ]
  },
  {
   "cell_type": "markdown",
   "metadata": {
    "collapsed": true,
    "heading_collapsed": true
   },
   "source": [
    "# Feature importance\n",
    "\n",
    "For each group, we want to know which features are important. This can be done if the best DP model for the group is a tree-based model."
   ]
  },
  {
   "cell_type": "code",
   "execution_count": 13,
   "metadata": {
    "ExecuteTime": {
     "end_time": "2018-02-02T11:25:55.834099Z",
     "start_time": "2018-02-02T11:25:55.825035Z"
    },
    "hidden": true
   },
   "outputs": [
    {
     "name": "stdout",
     "output_type": "stream",
     "text": [
      "<class 'pandas.core.frame.DataFrame'>\n",
      "RangeIndex: 536 entries, 0 to 535\n",
      "Data columns (total 3 columns):\n",
      "feature             536 non-null object\n",
      "group               536 non-null object\n",
      "importance_score    536 non-null float64\n",
      "dtypes: float64(1), object(2)\n",
      "memory usage: 12.6+ KB\n"
     ]
    }
   ],
   "source": [
    "fname = model_dir + 'feat_importance.csv'\n",
    "df = pd.read_csv(fname)\n",
    "df.info()"
   ]
  },
  {
   "cell_type": "markdown",
   "metadata": {
    "hidden": true
   },
   "source": [
    "## Most important features"
   ]
  },
  {
   "cell_type": "code",
   "execution_count": 14,
   "metadata": {
    "ExecuteTime": {
     "end_time": "2018-02-02T11:27:48.517884Z",
     "start_time": "2018-02-02T11:27:48.507614Z"
    },
    "collapsed": true,
    "hidden": true
   },
   "outputs": [
    {
     "data": {
      "text/html": [
       "<div>\n",
       "<style>\n",
       "    .dataframe thead tr:only-child th {\n",
       "        text-align: right;\n",
       "    }\n",
       "\n",
       "    .dataframe thead th {\n",
       "        text-align: left;\n",
       "    }\n",
       "\n",
       "    .dataframe tbody tr th {\n",
       "        vertical-align: top;\n",
       "    }\n",
       "</style>\n",
       "<table border=\"1\" class=\"dataframe\">\n",
       "  <thead>\n",
       "    <tr style=\"text-align: right;\">\n",
       "      <th></th>\n",
       "      <th>most_important_feature</th>\n",
       "      <th>group</th>\n",
       "      <th>importance_score</th>\n",
       "    </tr>\n",
       "  </thead>\n",
       "  <tbody>\n",
       "    <tr>\n",
       "      <th>0</th>\n",
       "      <td>scaled_brand_pop</td>\n",
       "      <td>backpacks_female_autumn-winter_2017</td>\n",
       "      <td>0.515385</td>\n",
       "    </tr>\n",
       "    <tr>\n",
       "      <th>1</th>\n",
       "      <td>scaled_rel_price_as_ratio</td>\n",
       "      <td>backpacks_female_spring-summer_2017</td>\n",
       "      <td>0.621495</td>\n",
       "    </tr>\n",
       "    <tr>\n",
       "      <th>2</th>\n",
       "      <td>scaled_brand_pop</td>\n",
       "      <td>backpacks_male_spring-summer_2017</td>\n",
       "      <td>0.533708</td>\n",
       "    </tr>\n",
       "    <tr>\n",
       "      <th>3</th>\n",
       "      <td>scaled_n_competitor</td>\n",
       "      <td>backpacks_unisex_spring-summer_2017</td>\n",
       "      <td>0.289855</td>\n",
       "    </tr>\n",
       "    <tr>\n",
       "      <th>4</th>\n",
       "      <td>scaled_brand_pop</td>\n",
       "      <td>blouses_&amp;_tunics_female_spring-summer_2017</td>\n",
       "      <td>0.307143</td>\n",
       "    </tr>\n",
       "  </tbody>\n",
       "</table>\n",
       "</div>"
      ],
      "text/plain": [
       "      most_important_feature                                       group  \\\n",
       "0           scaled_brand_pop         backpacks_female_autumn-winter_2017   \n",
       "1  scaled_rel_price_as_ratio         backpacks_female_spring-summer_2017   \n",
       "2           scaled_brand_pop           backpacks_male_spring-summer_2017   \n",
       "3        scaled_n_competitor         backpacks_unisex_spring-summer_2017   \n",
       "4           scaled_brand_pop  blouses_&_tunics_female_spring-summer_2017   \n",
       "\n",
       "   importance_score  \n",
       "0          0.515385  \n",
       "1          0.621495  \n",
       "2          0.533708  \n",
       "3          0.289855  \n",
       "4          0.307143  "
      ]
     },
     "execution_count": 14,
     "metadata": {},
     "output_type": "execute_result"
    }
   ],
   "source": [
    "df2 = pd.read_csv(model_dir + 'most_important.csv')\n",
    "df2.head()"
   ]
  },
  {
   "cell_type": "code",
   "execution_count": 15,
   "metadata": {
    "ExecuteTime": {
     "end_time": "2018-02-02T11:28:08.620360Z",
     "start_time": "2018-02-02T11:28:08.613230Z"
    },
    "collapsed": true,
    "hidden": true
   },
   "outputs": [
    {
     "data": {
      "text/plain": [
       "scaled_brand_pop                    46\n",
       "scaled_rel_price_as_ratio           11\n",
       "scaled_n_competitor                  3\n",
       "scaled_color_pop                     2\n",
       "scaled_current_price                 2\n",
       "scaled_percent_discount_from_rrp     2\n",
       "is_weekend                           1\n",
       "Name: most_important_feature, dtype: int64"
      ]
     },
     "execution_count": 15,
     "metadata": {},
     "output_type": "execute_result"
    }
   ],
   "source": [
    "df2.most_important_feature.value_counts()"
   ]
  },
  {
   "cell_type": "markdown",
   "metadata": {
    "hidden": true
   },
   "source": [
    "__Obs:__ Most of the time, the most important feature is `brand popularity`. The second important feature is `relative price`."
   ]
  },
  {
   "cell_type": "code",
   "execution_count": 11,
   "metadata": {
    "ExecuteTime": {
     "end_time": "2018-01-30T16:54:13.640003Z",
     "start_time": "2018-01-30T16:54:13.635877Z"
    },
    "code_folding": [
     0
    ],
    "collapsed": true,
    "hidden": true
   },
   "outputs": [],
   "source": [
    "def get_groups(err_df, model='XGBoost'):\n",
    "    # find groups which accept given model as the best DP model\n",
    "    df = err_df.query('model == \"{}\"'.format(model))\n",
    "    groups = df.group.unique()\n",
    "    return groups"
   ]
  },
  {
   "cell_type": "code",
   "execution_count": 12,
   "metadata": {
    "ExecuteTime": {
     "end_time": "2018-01-30T16:54:13.649668Z",
     "start_time": "2018-01-30T16:54:13.646732Z"
    },
    "collapsed": true,
    "hidden": true
   },
   "outputs": [],
   "source": [
    "models = ['XGBoost', 'Lasso Regression', 'Boosted Regression Tree', 'Random Forest', 'Ridge Regression']"
   ]
  },
  {
   "cell_type": "code",
   "execution_count": 13,
   "metadata": {
    "ExecuteTime": {
     "end_time": "2018-01-30T16:54:13.699091Z",
     "start_time": "2018-01-30T16:54:13.659860Z"
    },
    "code_folding": [
     0
    ],
    "collapsed": true,
    "hidden": true
   },
   "outputs": [
    {
     "name": "stdout",
     "output_type": "stream",
     "text": [
      "110\n",
      "110\n"
     ]
    },
    {
     "data": {
      "text/html": [
       "<div>\n",
       "<table border=\"1\" class=\"dataframe\">\n",
       "  <thead>\n",
       "    <tr style=\"text-align: right;\">\n",
       "      <th></th>\n",
       "      <th>model</th>\n",
       "      <th>n_group</th>\n",
       "      <th>used_features</th>\n",
       "    </tr>\n",
       "  </thead>\n",
       "  <tbody>\n",
       "    <tr>\n",
       "      <th>0</th>\n",
       "      <td>XGBoost</td>\n",
       "      <td>43</td>\n",
       "      <td>original</td>\n",
       "    </tr>\n",
       "    <tr>\n",
       "      <th>1</th>\n",
       "      <td>Lasso Regression</td>\n",
       "      <td>34</td>\n",
       "      <td>original</td>\n",
       "    </tr>\n",
       "    <tr>\n",
       "      <th>2</th>\n",
       "      <td>Boosted Regression Tree</td>\n",
       "      <td>20</td>\n",
       "      <td>original</td>\n",
       "    </tr>\n",
       "    <tr>\n",
       "      <th>3</th>\n",
       "      <td>Random Forest</td>\n",
       "      <td>11</td>\n",
       "      <td>original</td>\n",
       "    </tr>\n",
       "    <tr>\n",
       "      <th>4</th>\n",
       "      <td>Ridge Regression</td>\n",
       "      <td>2</td>\n",
       "      <td>original</td>\n",
       "    </tr>\n",
       "    <tr>\n",
       "      <th>0</th>\n",
       "      <td>XGBoost</td>\n",
       "      <td>41</td>\n",
       "      <td>normalized</td>\n",
       "    </tr>\n",
       "    <tr>\n",
       "      <th>1</th>\n",
       "      <td>Lasso Regression</td>\n",
       "      <td>40</td>\n",
       "      <td>normalized</td>\n",
       "    </tr>\n",
       "    <tr>\n",
       "      <th>2</th>\n",
       "      <td>Boosted Regression Tree</td>\n",
       "      <td>16</td>\n",
       "      <td>normalized</td>\n",
       "    </tr>\n",
       "    <tr>\n",
       "      <th>3</th>\n",
       "      <td>Random Forest</td>\n",
       "      <td>10</td>\n",
       "      <td>normalized</td>\n",
       "    </tr>\n",
       "    <tr>\n",
       "      <th>4</th>\n",
       "      <td>Ridge Regression</td>\n",
       "      <td>3</td>\n",
       "      <td>normalized</td>\n",
       "    </tr>\n",
       "  </tbody>\n",
       "</table>\n",
       "</div>"
      ],
      "text/plain": [
       "                     model  n_group used_features\n",
       "0                  XGBoost       43      original\n",
       "1         Lasso Regression       34      original\n",
       "2  Boosted Regression Tree       20      original\n",
       "3            Random Forest       11      original\n",
       "4         Ridge Regression        2      original\n",
       "0                  XGBoost       41    normalized\n",
       "1         Lasso Regression       40    normalized\n",
       "2  Boosted Regression Tree       16    normalized\n",
       "3            Random Forest       10    normalized\n",
       "4         Ridge Regression        3    normalized"
      ]
     },
     "execution_count": 13,
     "metadata": {},
     "output_type": "execute_result"
    }
   ],
   "source": [
    "# list number of groups for each model\n",
    "n_group1 = [len(get_groups(err_df=best_err1, model=m)) for m in models]\n",
    "n_group2 = [len(get_groups(err_df=best_err2, model=m)) for m in models]\n",
    "res1 = pd.DataFrame({'model': models, 'n_group': n_group1, 'used_features': 'original'})\n",
    "res2 = pd.DataFrame({'model': models, 'n_group': n_group2, 'used_features': 'normalized'})\n",
    "print(sum(res1.n_group)); print(sum(res2.n_group))\n",
    "pd.concat([res1, res2])"
   ]
  },
  {
   "cell_type": "markdown",
   "metadata": {
    "hidden": true
   },
   "source": [
    "## Groups for which XGB is the best"
   ]
  },
  {
   "cell_type": "code",
   "execution_count": 50,
   "metadata": {
    "ExecuteTime": {
     "end_time": "2018-01-31T10:27:44.435233Z",
     "start_time": "2018-01-31T10:27:44.428623Z"
    },
    "collapsed": true,
    "hidden": true
   },
   "outputs": [],
   "source": [
    "to_drop = [c for c in best_err2.columns if 'train_' in c] # drop train errors\n",
    "xgb_df = best_err2.query('model == \"XGBoost\"').drop(to_drop, axis=1)"
   ]
  },
  {
   "cell_type": "code",
   "execution_count": 51,
   "metadata": {
    "ExecuteTime": {
     "end_time": "2018-01-31T10:27:44.460227Z",
     "start_time": "2018-01-31T10:27:44.441063Z"
    },
    "collapsed": true,
    "hidden": true
   },
   "outputs": [
    {
     "data": {
      "text/html": [
       "<div>\n",
       "<table border=\"1\" class=\"dataframe\">\n",
       "  <thead>\n",
       "    <tr style=\"text-align: right;\">\n",
       "      <th></th>\n",
       "      <th>model</th>\n",
       "      <th>test_medae</th>\n",
       "      <th>test_medape</th>\n",
       "      <th>test_rmse</th>\n",
       "      <th>group</th>\n",
       "      <th>n_config</th>\n",
       "      <th>avg_records_per_config</th>\n",
       "      <th>used_features</th>\n",
       "    </tr>\n",
       "  </thead>\n",
       "  <tbody>\n",
       "    <tr>\n",
       "      <th>460</th>\n",
       "      <td>XGBoost</td>\n",
       "      <td>0.146458</td>\n",
       "      <td>12.783933</td>\n",
       "      <td>0.906703</td>\n",
       "      <td>tops_female_spring-summer_2017</td>\n",
       "      <td>1462</td>\n",
       "      <td>8.0</td>\n",
       "      <td>normalized</td>\n",
       "    </tr>\n",
       "    <tr>\n",
       "      <th>435</th>\n",
       "      <td>XGBoost</td>\n",
       "      <td>0.082024</td>\n",
       "      <td>8.202422</td>\n",
       "      <td>0.428657</td>\n",
       "      <td>t-shirts_male_spring-summer_2017</td>\n",
       "      <td>979</td>\n",
       "      <td>5.0</td>\n",
       "      <td>normalized</td>\n",
       "    </tr>\n",
       "    <tr>\n",
       "      <th>430</th>\n",
       "      <td>XGBoost</td>\n",
       "      <td>0.096288</td>\n",
       "      <td>9.628832</td>\n",
       "      <td>0.463037</td>\n",
       "      <td>t-shirts_male_autumn-winter_2017</td>\n",
       "      <td>763</td>\n",
       "      <td>7.0</td>\n",
       "      <td>normalized</td>\n",
       "    </tr>\n",
       "    <tr>\n",
       "      <th>215</th>\n",
       "      <td>XGBoost</td>\n",
       "      <td>0.124277</td>\n",
       "      <td>12.427664</td>\n",
       "      <td>0.699761</td>\n",
       "      <td>shirts_male_spring-summer_2017</td>\n",
       "      <td>571</td>\n",
       "      <td>6.0</td>\n",
       "      <td>normalized</td>\n",
       "    </tr>\n",
       "    <tr>\n",
       "      <th>25</th>\n",
       "      <td>XGBoost</td>\n",
       "      <td>0.222024</td>\n",
       "      <td>17.811060</td>\n",
       "      <td>0.880447</td>\n",
       "      <td>blouses_&amp;_tunics_female_spring-summer_2017</td>\n",
       "      <td>409</td>\n",
       "      <td>7.0</td>\n",
       "      <td>normalized</td>\n",
       "    </tr>\n",
       "  </tbody>\n",
       "</table>\n",
       "</div>"
      ],
      "text/plain": [
       "       model  test_medae  test_medape  test_rmse  \\\n",
       "460  XGBoost    0.146458    12.783933   0.906703   \n",
       "435  XGBoost    0.082024     8.202422   0.428657   \n",
       "430  XGBoost    0.096288     9.628832   0.463037   \n",
       "215  XGBoost    0.124277    12.427664   0.699761   \n",
       "25   XGBoost    0.222024    17.811060   0.880447   \n",
       "\n",
       "                                          group  n_config  \\\n",
       "460              tops_female_spring-summer_2017      1462   \n",
       "435            t-shirts_male_spring-summer_2017       979   \n",
       "430            t-shirts_male_autumn-winter_2017       763   \n",
       "215              shirts_male_spring-summer_2017       571   \n",
       "25   blouses_&_tunics_female_spring-summer_2017       409   \n",
       "\n",
       "     avg_records_per_config used_features  \n",
       "460                     8.0    normalized  \n",
       "435                     5.0    normalized  \n",
       "430                     7.0    normalized  \n",
       "215                     6.0    normalized  \n",
       "25                      7.0    normalized  "
      ]
     },
     "execution_count": 51,
     "metadata": {},
     "output_type": "execute_result"
    }
   ],
   "source": [
    "xgb_df.sort_values('n_config', ascending=False, inplace=True)\n",
    "xgb_df.head()"
   ]
  },
  {
   "cell_type": "markdown",
   "metadata": {
    "hidden": true
   },
   "source": [
    "### Most important feature"
   ]
  },
  {
   "cell_type": "code",
   "execution_count": 54,
   "metadata": {
    "ExecuteTime": {
     "end_time": "2018-01-31T10:30:54.807012Z",
     "start_time": "2018-01-31T10:30:54.804114Z"
    },
    "collapsed": true,
    "hidden": true
   },
   "outputs": [],
   "source": [
    "import joblib"
   ]
  },
  {
   "cell_type": "code",
   "execution_count": 55,
   "metadata": {
    "ExecuteTime": {
     "end_time": "2018-01-31T10:31:01.908068Z",
     "start_time": "2018-01-31T10:31:01.884842Z"
    },
    "hidden": true
   },
   "outputs": [
    {
     "ename": "KeyError",
     "evalue": "'/'",
     "output_type": "error",
     "traceback": [
      "\u001b[0;31m---------------------------------------------------------------------------\u001b[0m",
      "\u001b[0;31mKeyError\u001b[0m                                  Traceback (most recent call last)",
      "\u001b[0;32m<ipython-input-55-6c5f8817a83f>\u001b[0m in \u001b[0;36m<module>\u001b[0;34m()\u001b[0m\n\u001b[1;32m      1\u001b[0m \u001b[0mfname\u001b[0m \u001b[0;34m=\u001b[0m \u001b[0mmodel_dir\u001b[0m \u001b[0;34m+\u001b[0m \u001b[0;34m'blouses_&_tunics_female_spring-summer_2017.pkl'\u001b[0m\u001b[0;34m\u001b[0m\u001b[0m\n\u001b[0;32m----> 2\u001b[0;31m \u001b[0mmodel\u001b[0m \u001b[0;34m=\u001b[0m \u001b[0mjoblib\u001b[0m\u001b[0;34m.\u001b[0m\u001b[0mload\u001b[0m\u001b[0;34m(\u001b[0m\u001b[0mfname\u001b[0m\u001b[0;34m)\u001b[0m\u001b[0;34m\u001b[0m\u001b[0m\n\u001b[0m",
      "\u001b[0;32m/Users/gfg/anaconda/envs/py27/lib/python2.7/site-packages/joblib/numpy_pickle.pyc\u001b[0m in \u001b[0;36mload\u001b[0;34m(filename, mmap_mode)\u001b[0m\n\u001b[1;32m    576\u001b[0m                     \u001b[0;32mreturn\u001b[0m \u001b[0mload_compatibility\u001b[0m\u001b[0;34m(\u001b[0m\u001b[0mfobj\u001b[0m\u001b[0;34m)\u001b[0m\u001b[0;34m\u001b[0m\u001b[0m\n\u001b[1;32m    577\u001b[0m \u001b[0;34m\u001b[0m\u001b[0m\n\u001b[0;32m--> 578\u001b[0;31m                 \u001b[0mobj\u001b[0m \u001b[0;34m=\u001b[0m \u001b[0m_unpickle\u001b[0m\u001b[0;34m(\u001b[0m\u001b[0mfobj\u001b[0m\u001b[0;34m,\u001b[0m \u001b[0mfilename\u001b[0m\u001b[0;34m,\u001b[0m \u001b[0mmmap_mode\u001b[0m\u001b[0;34m)\u001b[0m\u001b[0;34m\u001b[0m\u001b[0m\n\u001b[0m\u001b[1;32m    579\u001b[0m \u001b[0;34m\u001b[0m\u001b[0m\n\u001b[1;32m    580\u001b[0m     \u001b[0;32mreturn\u001b[0m \u001b[0mobj\u001b[0m\u001b[0;34m\u001b[0m\u001b[0m\n",
      "\u001b[0;32m/Users/gfg/anaconda/envs/py27/lib/python2.7/site-packages/joblib/numpy_pickle.pyc\u001b[0m in \u001b[0;36m_unpickle\u001b[0;34m(fobj, filename, mmap_mode)\u001b[0m\n\u001b[1;32m    506\u001b[0m     \u001b[0mobj\u001b[0m \u001b[0;34m=\u001b[0m \u001b[0mNone\u001b[0m\u001b[0;34m\u001b[0m\u001b[0m\n\u001b[1;32m    507\u001b[0m     \u001b[0;32mtry\u001b[0m\u001b[0;34m:\u001b[0m\u001b[0;34m\u001b[0m\u001b[0m\n\u001b[0;32m--> 508\u001b[0;31m         \u001b[0mobj\u001b[0m \u001b[0;34m=\u001b[0m \u001b[0munpickler\u001b[0m\u001b[0;34m.\u001b[0m\u001b[0mload\u001b[0m\u001b[0;34m(\u001b[0m\u001b[0;34m)\u001b[0m\u001b[0;34m\u001b[0m\u001b[0m\n\u001b[0m\u001b[1;32m    509\u001b[0m         \u001b[0;32mif\u001b[0m \u001b[0munpickler\u001b[0m\u001b[0;34m.\u001b[0m\u001b[0mcompat_mode\u001b[0m\u001b[0;34m:\u001b[0m\u001b[0;34m\u001b[0m\u001b[0m\n\u001b[1;32m    510\u001b[0m             warnings.warn(\"The file '%s' has been generated with a \"\n",
      "\u001b[0;32m/Users/gfg/anaconda/envs/py27/lib/python2.7/pickle.pyc\u001b[0m in \u001b[0;36mload\u001b[0;34m(self)\u001b[0m\n\u001b[1;32m    862\u001b[0m             \u001b[0;32mwhile\u001b[0m \u001b[0;36m1\u001b[0m\u001b[0;34m:\u001b[0m\u001b[0;34m\u001b[0m\u001b[0m\n\u001b[1;32m    863\u001b[0m                 \u001b[0mkey\u001b[0m \u001b[0;34m=\u001b[0m \u001b[0mread\u001b[0m\u001b[0;34m(\u001b[0m\u001b[0;36m1\u001b[0m\u001b[0;34m)\u001b[0m\u001b[0;34m\u001b[0m\u001b[0m\n\u001b[0;32m--> 864\u001b[0;31m                 \u001b[0mdispatch\u001b[0m\u001b[0;34m[\u001b[0m\u001b[0mkey\u001b[0m\u001b[0;34m]\u001b[0m\u001b[0;34m(\u001b[0m\u001b[0mself\u001b[0m\u001b[0;34m)\u001b[0m\u001b[0;34m\u001b[0m\u001b[0m\n\u001b[0m\u001b[1;32m    865\u001b[0m         \u001b[0;32mexcept\u001b[0m \u001b[0m_Stop\u001b[0m\u001b[0;34m,\u001b[0m \u001b[0mstopinst\u001b[0m\u001b[0;34m:\u001b[0m\u001b[0;34m\u001b[0m\u001b[0m\n\u001b[1;32m    866\u001b[0m             \u001b[0;32mreturn\u001b[0m \u001b[0mstopinst\u001b[0m\u001b[0;34m.\u001b[0m\u001b[0mvalue\u001b[0m\u001b[0;34m\u001b[0m\u001b[0m\n",
      "\u001b[0;31mKeyError\u001b[0m: '/'"
     ]
    }
   ],
   "source": [
    "fname = model_dir + 'blouses_&_tunics_female_spring-summer_2017.pkl'\n",
    "model = joblib.load(fname)"
   ]
  },
  {
   "cell_type": "code",
   "execution_count": null,
   "metadata": {
    "collapsed": true,
    "hidden": true
   },
   "outputs": [],
   "source": [
    "def find_most_important_feat(gr):\n",
    "    fname = model_dir + gr + '.pkl'\n",
    "    model = jl.load(fname)\n",
    "    feat_importances = model."
   ]
  },
  {
   "cell_type": "code",
   "execution_count": null,
   "metadata": {
    "collapsed": true,
    "hidden": true
   },
   "outputs": [],
   "source": [
    "xgb_groups = list(xgb_df.group)"
   ]
  }
 ],
 "metadata": {
  "kernelspec": {
   "display_name": "Python 3",
   "language": "python",
   "name": "python3"
  },
  "language_info": {
   "codemirror_mode": {
    "name": "ipython",
    "version": 3
   },
   "file_extension": ".py",
   "mimetype": "text/x-python",
   "name": "python",
   "nbconvert_exporter": "python",
   "pygments_lexer": "ipython3",
   "version": "3.6.0"
  },
  "toc": {
   "colors": {
    "hover_highlight": "#DAA520",
    "navigate_num": "#000000",
    "navigate_text": "#333333",
    "running_highlight": "#FF0000",
    "selected_highlight": "#FFD700",
    "sidebar_border": "#EEEEEE",
    "wrapper_background": "#FFFFFF"
   },
   "moveMenuLeft": true,
   "nav_menu": {
    "height": "174px",
    "width": "252px"
   },
   "navigate_menu": true,
   "number_sections": true,
   "sideBar": true,
   "threshold": 4,
   "toc_cell": false,
   "toc_position": {
    "height": "648px",
    "left": "0px",
    "right": "1104px",
    "top": "107px",
    "width": "246px"
   },
   "toc_section_display": "block",
   "toc_window_display": true,
   "widenNotebook": false
  },
  "varInspector": {
   "cols": {
    "lenName": 16,
    "lenType": 16,
    "lenVar": 40
   },
   "kernels_config": {
    "python": {
     "delete_cmd_postfix": "",
     "delete_cmd_prefix": "del ",
     "library": "var_list.py",
     "varRefreshCmd": "print(var_dic_list())"
    },
    "r": {
     "delete_cmd_postfix": ") ",
     "delete_cmd_prefix": "rm(",
     "library": "var_list.r",
     "varRefreshCmd": "cat(var_dic_list()) "
    }
   },
   "types_to_exclude": [
    "module",
    "function",
    "builtin_function_or_method",
    "instance",
    "_Feature"
   ],
   "window_display": false
  }
 },
 "nbformat": 4,
 "nbformat_minor": 2
}
