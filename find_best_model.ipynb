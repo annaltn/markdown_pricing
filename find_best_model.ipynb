{
 "cells": [
  {
   "cell_type": "code",
   "execution_count": 1,
   "metadata": {
    "ExecuteTime": {
     "end_time": "2018-06-20T08:15:43.732153Z",
     "start_time": "2018-06-20T08:15:42.983877Z"
    },
    "collapsed": true
   },
   "outputs": [],
   "source": [
    "import os\n",
    "import pandas as pd\n",
    "import numpy as np"
   ]
  },
  {
   "cell_type": "markdown",
   "metadata": {},
   "source": [
    "## Helpers"
   ]
  },
  {
   "cell_type": "code",
   "execution_count": 2,
   "metadata": {
    "ExecuteTime": {
     "end_time": "2018-06-20T08:19:55.382720Z",
     "start_time": "2018-06-20T08:19:55.377904Z"
    },
    "collapsed": true
   },
   "outputs": [],
   "source": [
    "res_dir = '/Users/gfg/projects/daas-markdown/res/'\n",
    "\n",
    "def get_best(sorted_df, n_model=5):\n",
    "    n_row = sorted_df.shape[0]\n",
    "    idx = np.arange(0, n_row, step=n_model)\n",
    "    best_df = sorted_df.iloc[idx].copy()\n",
    "    return best_df\n",
    "\n",
    "def load_metrics(country, venture='Zalora'):\n",
    "    folder = os.path.join(res_dir, venture, country, '')\n",
    "    return pd.read_csv(folder + 'all_metrics.csv')"
   ]
  },
  {
   "cell_type": "code",
   "execution_count": 37,
   "metadata": {
    "ExecuteTime": {
     "end_time": "2018-06-21T04:43:29.692354Z",
     "start_time": "2018-06-21T04:43:29.670710Z"
    }
   },
   "outputs": [
    {
     "name": "stdout",
     "output_type": "stream",
     "text": [
      "<class 'pandas.core.frame.DataFrame'>\n",
      "RangeIndex: 3681 entries, 0 to 3680\n",
      "Data columns (total 13 columns):\n",
      "country                        3681 non-null object\n",
      "group_id                       3681 non-null object\n",
      "n_config                       3681 non-null float64\n",
      "n_record_per_config            1839 non-null float64\n",
      "n_sample                       3681 non-null float64\n",
      "test_percent                   3681 non-null float64\n",
      "test_percent_after_drop_na     3681 non-null float64\n",
      "train_date                     1839 non-null object\n",
      "train_percent                  3681 non-null float64\n",
      "train_percent_after_drop_na    3681 non-null float64\n",
      "train_size_after_drop_na       3681 non-null float64\n",
      "train_time                     3681 non-null float64\n",
      "use_dummy_model                3681 non-null float64\n",
      "dtypes: float64(10), object(3)\n",
      "memory usage: 373.9+ KB\n"
     ]
    }
   ],
   "source": [
    "train_stats = pd.read_csv(res_dir + 'train_stats.csv')\n",
    "train_stats.info()"
   ]
  },
  {
   "cell_type": "markdown",
   "metadata": {},
   "source": [
    "# Find best model for each group per country"
   ]
  },
  {
   "cell_type": "code",
   "execution_count": 16,
   "metadata": {
    "ExecuteTime": {
     "end_time": "2018-06-20T09:51:57.180100Z",
     "start_time": "2018-06-20T09:51:57.175680Z"
    },
    "code_folding": [
     0
    ],
    "collapsed": true
   },
   "outputs": [],
   "source": [
    "def find_best_model(country, venture):\n",
    "    err_df = load_metrics(country, venture)\n",
    "    best_df = get_best(err_df.sort_values(['group', 'test_medae']))\n",
    "    best_df['country'] = country\n",
    "    return best_df\n",
    "\n",
    "print('finding best models for data of Zalora countries')\n",
    "zal_countries = ['id', 'my', 'ph', 'sg', 'tw', 'hk']\n",
    "frames = [find_best_model(country, venture='Zalora') for country in zal_countries]\n",
    "best_df = pd.concat(frames)\n",
    "\n",
    "print('shape of DF of best models: {}'.format(best_df.shape))\n",
    "\n",
    "# del unneed cols\n",
    "del best_df['n_config']\n",
    "del best_df['n_samples']\n",
    "del best_df['avg_records_per_config']\n",
    "\n",
    "fname = res_dir + 'best_models.csv'\n",
    "best_df.to_csv(fname, index=False)"
   ]
  },
  {
   "cell_type": "code",
   "execution_count": 30,
   "metadata": {
    "ExecuteTime": {
     "end_time": "2018-06-20T10:06:08.537546Z",
     "start_time": "2018-06-20T10:06:08.527285Z"
    }
   },
   "outputs": [
    {
     "name": "stdout",
     "output_type": "stream",
     "text": [
      "<class 'pandas.core.frame.DataFrame'>\n",
      "Int64Index: 2433 entries, 185 to 1390\n",
      "Data columns (total 11 columns):\n",
      "country         2433 non-null object\n",
      "group           2433 non-null object\n",
      "model           2433 non-null object\n",
      "test_medae      2323 non-null float64\n",
      "test_medape     2323 non-null float64\n",
      "test_r2         2323 non-null float64\n",
      "test_rmse       2323 non-null float64\n",
      "train_medae     2433 non-null float64\n",
      "train_medape    2433 non-null float64\n",
      "train_r2        2323 non-null float64\n",
      "train_rmse      2433 non-null float64\n",
      "dtypes: float64(8), object(3)\n",
      "memory usage: 228.1+ KB\n"
     ]
    }
   ],
   "source": [
    "best_df.info()"
   ]
  },
  {
   "cell_type": "code",
   "execution_count": 20,
   "metadata": {
    "ExecuteTime": {
     "end_time": "2018-06-20T09:56:08.356936Z",
     "start_time": "2018-06-20T09:56:08.344833Z"
    },
    "scrolled": true
   },
   "outputs": [
    {
     "data": {
      "text/plain": [
       "Random Forest              176\n",
       "Lasso Regression           155\n",
       "Boosted Regression Tree     91\n",
       "XGBoost                     86\n",
       "Ridge Regression            49\n",
       "Name: model, dtype: int64"
      ]
     },
     "execution_count": 20,
     "metadata": {},
     "output_type": "execute_result"
    }
   ],
   "source": [
    "best_df.query('country == \"id\"')['model'].value_counts()"
   ]
  },
  {
   "cell_type": "code",
   "execution_count": 21,
   "metadata": {
    "ExecuteTime": {
     "end_time": "2018-06-20T09:57:25.465599Z",
     "start_time": "2018-06-20T09:57:25.456582Z"
    }
   },
   "outputs": [
    {
     "data": {
      "text/plain": [
       "Random Forest              300\n",
       "XGBoost                    153\n",
       "Lasso Regression           113\n",
       "Boosted Regression Tree     98\n",
       "Ridge Regression            61\n",
       "Name: model, dtype: int64"
      ]
     },
     "execution_count": 21,
     "metadata": {},
     "output_type": "execute_result"
    }
   ],
   "source": [
    "best_df.query('country == \"my\"')['model'].value_counts()"
   ]
  },
  {
   "cell_type": "code",
   "execution_count": 22,
   "metadata": {
    "ExecuteTime": {
     "end_time": "2018-06-20T09:57:25.465599Z",
     "start_time": "2018-06-20T09:57:25.456582Z"
    }
   },
   "outputs": [
    {
     "data": {
      "text/plain": [
       "Random Forest              195\n",
       "Lasso Regression           126\n",
       "Boosted Regression Tree     56\n",
       "XGBoost                     42\n",
       "Ridge Regression            30\n",
       "Name: model, dtype: int64"
      ]
     },
     "execution_count": 22,
     "metadata": {},
     "output_type": "execute_result"
    }
   ],
   "source": [
    "best_df.query('country == \"ph\"')['model'].value_counts()"
   ]
  },
  {
   "cell_type": "code",
   "execution_count": 23,
   "metadata": {
    "ExecuteTime": {
     "end_time": "2018-06-20T09:57:25.465599Z",
     "start_time": "2018-06-20T09:57:25.456582Z"
    }
   },
   "outputs": [
    {
     "data": {
      "text/plain": [
       "Series([], Name: model, dtype: int64)"
      ]
     },
     "execution_count": 23,
     "metadata": {},
     "output_type": "execute_result"
    }
   ],
   "source": [
    "best_df.query('country == \"au\"')['model'].value_counts()"
   ]
  },
  {
   "cell_type": "code",
   "execution_count": null,
   "metadata": {
    "collapsed": true
   },
   "outputs": [],
   "source": []
  }
 ],
 "metadata": {
  "kernelspec": {
   "display_name": "Python 2",
   "language": "python",
   "name": "python2"
  },
  "language_info": {
   "codemirror_mode": {
    "name": "ipython",
    "version": 2
   },
   "file_extension": ".py",
   "mimetype": "text/x-python",
   "name": "python",
   "nbconvert_exporter": "python",
   "pygments_lexer": "ipython2",
   "version": "2.7.13"
  },
  "toc": {
   "colors": {
    "hover_highlight": "#DAA520",
    "navigate_num": "#000000",
    "navigate_text": "#333333",
    "running_highlight": "#FF0000",
    "selected_highlight": "#FFD700",
    "sidebar_border": "#EEEEEE",
    "wrapper_background": "#FFFFFF"
   },
   "moveMenuLeft": true,
   "nav_menu": {
    "height": "48px",
    "width": "252px"
   },
   "navigate_menu": true,
   "number_sections": true,
   "sideBar": true,
   "threshold": 4,
   "toc_cell": false,
   "toc_section_display": "block",
   "toc_window_display": false,
   "widenNotebook": false
  },
  "varInspector": {
   "cols": {
    "lenName": 16,
    "lenType": 16,
    "lenVar": 40
   },
   "kernels_config": {
    "python": {
     "delete_cmd_postfix": "",
     "delete_cmd_prefix": "del ",
     "library": "var_list.py",
     "varRefreshCmd": "print(var_dic_list())"
    },
    "r": {
     "delete_cmd_postfix": ") ",
     "delete_cmd_prefix": "rm(",
     "library": "var_list.r",
     "varRefreshCmd": "cat(var_dic_list()) "
    }
   },
   "types_to_exclude": [
    "module",
    "function",
    "builtin_function_or_method",
    "instance",
    "_Feature"
   ],
   "window_display": false
  }
 },
 "nbformat": 4,
 "nbformat_minor": 2
}
