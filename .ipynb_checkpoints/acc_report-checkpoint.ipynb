{
 "cells": [
  {
   "cell_type": "markdown",
   "metadata": {},
   "source": [
    "# Inits"
   ]
  },
  {
   "cell_type": "code",
   "execution_count": 3,
   "metadata": {
    "ExecuteTime": {
     "end_time": "2018-06-13T10:16:24.272030Z",
     "start_time": "2018-06-13T10:16:24.267203Z"
    },
    "code_folding": [],
    "collapsed": true,
    "init_cell": true
   },
   "outputs": [],
   "source": [
    "# libs\n",
    "import pandas as pd\n",
    "import numpy as np\n",
    "import matplotlib.pyplot as plt\n",
    "import seaborn as sns\n",
    "import os\n",
    "\n",
    "%matplotlib inline"
   ]
  },
  {
   "cell_type": "markdown",
   "metadata": {},
   "source": [
    "## Helpers"
   ]
  },
  {
   "cell_type": "code",
   "execution_count": 4,
   "metadata": {
    "ExecuteTime": {
     "end_time": "2018-06-13T10:16:46.448945Z",
     "start_time": "2018-06-13T10:16:46.443061Z"
    },
    "code_folding": [
     0,
     8
    ],
    "collapsed": true
   },
   "outputs": [],
   "source": [
    "def my_read_csv(path):\n",
    "    try:\n",
    "        df = pd.read_csv(path)\n",
    "    except EmptyDataError:\n",
    "        print('Empty data in file {}'.format(path))\n",
    "        df = pd.DataFrame()\n",
    "    return df\n",
    "\n",
    "def load_metrics_files(folder):\n",
    "    frames = [my_read_csv(folder + fn) for fn in os.listdir(folder) if '.csv' in fn]\n",
    "    return pd.concat(frames)"
   ]
  },
  {
   "cell_type": "code",
   "execution_count": 5,
   "metadata": {
    "ExecuteTime": {
     "end_time": "2018-06-13T10:16:46.467405Z",
     "start_time": "2018-06-13T10:16:46.450793Z"
    },
    "code_folding": [
     0,
     6,
     9,
     14,
     17
    ],
    "collapsed": true,
    "init_cell": true
   },
   "outputs": [],
   "source": [
    "def get_best_err(err_df):\n",
    "    n_row = err_df.shape[0]\n",
    "    idx = np.arange(0, n_row, step=5)\n",
    "    best_err = err_df.iloc[idx].copy()\n",
    "    return best_err\n",
    "\n",
    "def range_str(t):\n",
    "    return '(' + str(t[0]) + ',' + str(t[1]) + ']'\n",
    "\n",
    "def mk_bin_labels(limits):\n",
    "    lb, ub = limits[:-1], limits[1:]\n",
    "    labels = [range_str(t) for t in list(zip(lb, ub))]\n",
    "    return labels\n",
    "\n",
    "def quart_bin(col, df):\n",
    "    return [int(df[col].quantile(q)) for q in [0., .25, .50, .75, 1.]]\n",
    "\n",
    "def cut_to_bins(col, df, limits=None):\n",
    "    if not limits: # use quart-iles as default\n",
    "        limits = quart_bin(col, df)\n",
    "    \n",
    "    labels = mk_bin_labels(limits)\n",
    "    binned = df.copy()\n",
    "    values = pd.cut(binned[col], bins=limits, labels=labels)\n",
    "    binned['bin_{}'.format(col)] = pd.Categorical(values, categories=labels)\n",
    "    return binned"
   ]
  },
  {
   "cell_type": "code",
   "execution_count": 6,
   "metadata": {
    "ExecuteTime": {
     "end_time": "2018-06-13T10:16:46.472533Z",
     "start_time": "2018-06-13T10:16:46.469220Z"
    },
    "code_folding": [
     0
    ],
    "collapsed": true
   },
   "outputs": [],
   "source": [
    "def prettify(df, to_drop):\n",
    "    res = df.sort_values('test_medape')\n",
    "    res.drop(to_drop, axis='columns', inplace=True)\n",
    "    return res"
   ]
  },
  {
   "cell_type": "code",
   "execution_count": 7,
   "metadata": {
    "ExecuteTime": {
     "end_time": "2018-06-13T10:16:46.481056Z",
     "start_time": "2018-06-13T10:16:46.474183Z"
    },
    "code_folding": [
     0
    ],
    "collapsed": true
   },
   "outputs": [],
   "source": [
    "# plot against a binned column\n",
    "def my_plot(df, bin_column, kind='box', \n",
    "            xlab='Group size (no. of SKU configs)', ylab='MEDian Absolute Percentage Error (MEDAPE)',\n",
    "            title=None): # factor\n",
    "    \n",
    "    fig, ax = plt.subplots(figsize=(8,5))\n",
    "    if kind=='point':\n",
    "        sns.pointplot(ax=ax, x=bin_column, y='test_medape',  data=df) # hue=factor,\n",
    "    else:\n",
    "        sns.boxplot(ax=ax, x=bin_column, y='test_medape',  data=df) # hue=factor,\n",
    "    \n",
    "    ax.set(xlabel=xlab, ylabel=ylab)\n",
    "    if title:\n",
    "        ax.set(title=title)\n",
    "    return fig"
   ]
  },
  {
   "cell_type": "code",
   "execution_count": 8,
   "metadata": {
    "ExecuteTime": {
     "end_time": "2018-06-13T10:16:46.486312Z",
     "start_time": "2018-06-13T10:16:46.482653Z"
    },
    "code_folding": [
     0
    ],
    "collapsed": true
   },
   "outputs": [],
   "source": [
    "def drop_train_errors(df):\n",
    "    cols = [c for c in df.columns if 'train_' in c]\n",
    "    return df.drop(cols, axis='columns')"
   ]
  },
  {
   "cell_type": "code",
   "execution_count": 30,
   "metadata": {
    "ExecuteTime": {
     "end_time": "2018-06-13T14:32:42.912794Z",
     "start_time": "2018-06-13T14:32:42.786957Z"
    },
    "code_folding": [
     0
    ],
    "collapsed": true
   },
   "outputs": [],
   "source": [
    "def mk_label(err_metrics):\n",
    "    tmp = str.split(err_metrics, '_')\n",
    "    return ' '.join([tmp[0].title(), tmp[1].upper()])\n",
    "\n",
    "def viz_err(err_metrics, err_df, country='sg'):\n",
    "    n_normal = sum(err_df['{}'.format(err_metrics)].notnull())\n",
    "    g = err_df['{}'.format(err_metrics)].hist()\n",
    "    plt.xlabel(mk_label(err_metrics))\n",
    "    plt.ylabel('Number of groups trained')\n",
    "    plt.title('{} data ({} groups)'.format(country.upper(), n_normal))\n",
    "    plt.savefig(fig_dir + '{}_hist.jpg'.format(err_metrics))\n",
    "    plt.savefig(fig_dir + '{}_hist.pdf'.format(err_metrics))\n",
    "    print('Saved plots to dir: {}'.format(fig_dir))"
   ]
  },
  {
   "cell_type": "markdown",
   "metadata": {
    "heading_collapsed": true
   },
   "source": [
    "## Get group stats\n",
    "(nothing for now)\n",
    "\n",
    "Let us get following stats for __test__ data of each group (re-use the code from `report.ipynb` )\n",
    "+ min sale, max sale values. The values are daily\n",
    "+ how far into the future we are making predictions i.e. how far is time window of test set apart from train set (measured later)"
   ]
  },
  {
   "cell_type": "markdown",
   "metadata": {},
   "source": [
    "# Accuracy analysis\n",
    "\n",
    "Accuracy is measured by MEDian Absolute Percentage Error (MEDAPE).\n",
    "\n",
    "__Note:__  we have just a few groups with more than 500 configs and only one group with more than 1000 configs."
   ]
  },
  {
   "cell_type": "markdown",
   "metadata": {},
   "source": [
    "## The Iconic"
   ]
  },
  {
   "cell_type": "code",
   "execution_count": 19,
   "metadata": {
    "ExecuteTime": {
     "end_time": "2018-06-13T14:18:27.947976Z",
     "start_time": "2018-06-13T14:18:27.943806Z"
    },
    "code_folding": [
     0
    ]
   },
   "outputs": [],
   "source": [
    "# dirs\n",
    "dat_dir = '/Users/gfg/data/markdown/clean/venture=Iconic/au/'\n",
    "res_dir = '/Users/gfg/projects/daas-markdown/res/Iconic/au/'\n",
    "\n",
    "# sub res dirs\n",
    "metric_dir = res_dir + 'metrics/'\n",
    "fig_dir = res_dir + 'plots/'\n",
    "if not os.path.exists(fig_dir):\n",
    "    os.mkdir(fig_dir)"
   ]
  },
  {
   "cell_type": "code",
   "execution_count": 20,
   "metadata": {
    "ExecuteTime": {
     "end_time": "2018-06-13T14:21:17.857936Z",
     "start_time": "2018-06-13T14:20:46.924032Z"
    },
    "collapsed": true
   },
   "outputs": [],
   "source": [
    "md_input = pd.read_csv(dat_dir + 'day_md_input.csv', usecols=['sku_config', 'date', 'n_sold'], \n",
    "                       parse_dates=['date'])"
   ]
  },
  {
   "cell_type": "code",
   "execution_count": 21,
   "metadata": {
    "ExecuteTime": {
     "end_time": "2018-06-13T14:21:20.792699Z",
     "start_time": "2018-06-13T14:21:20.784699Z"
    }
   },
   "outputs": [
    {
     "name": "stdout",
     "output_type": "stream",
     "text": [
      "<class 'pandas.core.frame.DataFrame'>\n",
      "RangeIndex: 9958676 entries, 0 to 9958675\n",
      "Data columns (total 3 columns):\n",
      "sku_config    object\n",
      "n_sold        float64\n",
      "date          datetime64[ns]\n",
      "dtypes: datetime64[ns](1), float64(1), object(1)\n",
      "memory usage: 227.9+ MB\n"
     ]
    }
   ],
   "source": [
    "md_input.info()"
   ]
  },
  {
   "cell_type": "markdown",
   "metadata": {
    "heading_collapsed": true
   },
   "source": [
    "### Sales distribution"
   ]
  },
  {
   "cell_type": "code",
   "execution_count": 23,
   "metadata": {
    "ExecuteTime": {
     "end_time": "2018-06-13T14:23:39.013849Z",
     "start_time": "2018-06-13T14:23:38.549739Z"
    },
    "hidden": true
   },
   "outputs": [
    {
     "data": {
      "text/plain": [
       "count    9.958676e+06\n",
       "mean     4.125628e-01\n",
       "std      2.058306e+00\n",
       "min      0.000000e+00\n",
       "25%      0.000000e+00\n",
       "50%      0.000000e+00\n",
       "75%      0.000000e+00\n",
       "max      4.310000e+02\n",
       "Name: n_sold, dtype: float64"
      ]
     },
     "execution_count": 23,
     "metadata": {},
     "output_type": "execute_result"
    }
   ],
   "source": [
    "md_input.n_sold.describe()"
   ]
  },
  {
   "cell_type": "code",
   "execution_count": 24,
   "metadata": {
    "ExecuteTime": {
     "end_time": "2018-06-13T14:25:56.382609Z",
     "start_time": "2018-06-13T14:25:42.454852Z"
    },
    "hidden": true
   },
   "outputs": [
    {
     "name": "stdout",
     "output_type": "stream",
     "text": [
      "Percentage of no sale: 82.94\n"
     ]
    }
   ],
   "source": [
    "n_row = md_input.shape[0]\n",
    "percent_no_sale = 100*sum(md_input.n_sold == 0)/n_row\n",
    "print('Percentage of no sale: {}'.format(round(percent_no_sale, 2)))"
   ]
  },
  {
   "cell_type": "code",
   "execution_count": 32,
   "metadata": {
    "ExecuteTime": {
     "end_time": "2018-06-13T14:35:19.736081Z",
     "start_time": "2018-06-13T14:35:19.257379Z"
    },
    "hidden": true
   },
   "outputs": [
    {
     "data": {
      "image/png": "[encoded data removed]",
      "text/plain": [
       "<matplotlib.figure.Figure at 0x11d4d7908>"
      ]
     },
     "metadata": {},
     "output_type": "display_data"
    }
   ],
   "source": [
    "md_input.n_sold.hist()\n",
    "plt.xlabel('Daily sales'); plt.ylabel('# cases')\n",
    "plt.title('AU sales historical data')\n",
    "plt.savefig(fig_dir + 'day_sale.pdf')"
   ]
  },
  {
   "cell_type": "markdown",
   "metadata": {},
   "source": [
    "### Error histograms"
   ]
  },
  {
   "cell_type": "code",
   "execution_count": 15,
   "metadata": {
    "ExecuteTime": {
     "end_time": "2018-06-13T10:23:57.571704Z",
     "start_time": "2018-06-13T10:23:57.369363Z"
    }
   },
   "outputs": [
    {
     "name": "stdout",
     "output_type": "stream",
     "text": [
      "# trained groups: 849\n"
     ]
    }
   ],
   "source": [
    "err_df = load_metrics_files(metric_dir)\n",
    "groups = err_df.group.unique()\n",
    "print('# trained groups: {}'.format(len(groups)))"
   ]
  },
  {
   "cell_type": "code",
   "execution_count": 16,
   "metadata": {
    "ExecuteTime": {
     "end_time": "2018-06-13T10:24:50.466146Z",
     "start_time": "2018-06-13T10:24:50.460787Z"
    },
    "collapsed": true
   },
   "outputs": [],
   "source": [
    "best_err = get_best_err(err_df)"
   ]
  },
  {
   "cell_type": "code",
   "execution_count": 18,
   "metadata": {
    "ExecuteTime": {
     "end_time": "2018-06-13T10:25:29.806786Z",
     "start_time": "2018-06-13T10:25:29.799650Z"
    },
    "collapsed": true
   },
   "outputs": [
    {
     "data": {
      "text/plain": [
       "count    925.000000\n",
       "mean       0.165614\n",
       "std        0.274150\n",
       "min        0.000000\n",
       "25%        0.021092\n",
       "50%        0.069322\n",
       "75%        0.195495\n",
       "max        2.844406\n",
       "Name: test_medae, dtype: float64"
      ]
     },
     "execution_count": 18,
     "metadata": {},
     "output_type": "execute_result"
    }
   ],
   "source": [
    "best_err.test_medae.describe()"
   ]
  },
  {
   "cell_type": "code",
   "execution_count": 31,
   "metadata": {
    "ExecuteTime": {
     "end_time": "2018-06-13T14:33:16.162333Z",
     "start_time": "2018-06-13T14:33:15.786824Z"
    },
    "collapsed": true
   },
   "outputs": [
    {
     "name": "stdout",
     "output_type": "stream",
     "text": [
      "Saved plots to dir: /Users/gfg/projects/daas-markdown/res/Iconic/au/plots/\n"
     ]
    },
    {
     "data": {
      "image/png": "[encoded data removed]",
      "text/plain": [
       "<matplotlib.figure.Figure at 0x11d471828>"
      ]
     },
     "metadata": {},
     "output_type": "display_data"
    }
   ],
   "source": [
    "viz_err(err_metrics='test_medae', err_df=best_err, country='au')"
   ]
  },
  {
   "cell_type": "markdown",
   "metadata": {},
   "source": [
    "## SG data"
   ]
  },
  {
   "cell_type": "code",
   "execution_count": 86,
   "metadata": {
    "ExecuteTime": {
     "end_time": "2018-05-22T15:15:38.399094Z",
     "start_time": "2018-05-22T15:15:38.394556Z"
    },
    "code_folding": [
     0
    ],
    "collapsed": true
   },
   "outputs": [],
   "source": [
    "# declare paths\n",
    "country = 'sg'\n",
    "\n",
    "# dirs\n",
    "dat_dir = '/Users/gfg/data/markdown/clean/venture=Zalora/{}/'.format(country)\n",
    "res_dir = '/Users/gfg/projects/daas-markdown/res/Zalora/{}/'.format(country)\n",
    "\n",
    "# sub res dirs\n",
    "metric_dir = res_dir + 'metrics/'\n",
    "fig_dir = res_dir + 'plots/'"
   ]
  },
  {
   "cell_type": "code",
   "execution_count": 87,
   "metadata": {
    "ExecuteTime": {
     "end_time": "2018-05-22T15:15:39.336783Z",
     "start_time": "2018-05-22T15:15:39.178885Z"
    },
    "collapsed": true
   },
   "outputs": [],
   "source": [
    "err_df = load_metrics_files(metric_dir + 'add_config_page_views/')\n",
    "groups = err_df.group.unique()\n",
    "print('# trained groups: {}'.format(len(groups)))"
   ]
  },
  {
   "cell_type": "markdown",
   "metadata": {},
   "source": [
    "Note that we have less than total number of groups (657). The reason is some groups could not be trained and cross-validated as they have too few training data (less than 3 valid records in training set)."
   ]
  },
  {
   "cell_type": "code",
   "execution_count": 41,
   "metadata": {
    "ExecuteTime": {
     "end_time": "2018-04-24T11:12:39.607431Z",
     "start_time": "2018-04-24T11:12:39.562939Z"
    },
    "collapsed": true
   },
   "outputs": [],
   "source": [
    "# err_df.to_csv(metric_dir + 'metrics.csv', index=False)"
   ]
  },
  {
   "cell_type": "code",
   "execution_count": 89,
   "metadata": {
    "ExecuteTime": {
     "end_time": "2018-05-22T15:15:44.750680Z",
     "start_time": "2018-05-22T15:15:44.745162Z"
    },
    "collapsed": true
   },
   "outputs": [],
   "source": [
    "best_err = get_best_err(err_df)"
   ]
  },
  {
   "cell_type": "code",
   "execution_count": 90,
   "metadata": {
    "ExecuteTime": {
     "end_time": "2018-05-22T15:15:44.759260Z",
     "start_time": "2018-05-22T15:15:44.752143Z"
    },
    "collapsed": true
   },
   "outputs": [
    {
     "data": {
      "text/plain": [
       "count    539.000000\n",
       "mean      15.072428\n",
       "std       12.079145\n",
       "min        0.000000\n",
       "25%        6.091401\n",
       "50%       12.360007\n",
       "75%       23.077357\n",
       "max       73.463246\n",
       "Name: test_medape, dtype: float64"
      ]
     },
     "execution_count": 90,
     "metadata": {},
     "output_type": "execute_result"
    }
   ],
   "source": [
    "best_err.test_medape.describe()"
   ]
  },
  {
   "cell_type": "markdown",
   "metadata": {},
   "source": [
    "__Obs:__\n",
    "For 75% of groups with test-MEDAPE, the error is in desirable range (less than 30%). In fact, test-MEDAPE of 75% of groups are less than 24%."
   ]
  },
  {
   "cell_type": "code",
   "execution_count": 16,
   "metadata": {
    "ExecuteTime": {
     "end_time": "2018-05-21T14:58:04.642887Z",
     "start_time": "2018-05-21T14:58:04.633083Z"
    },
    "code_folding": [
     0
    ],
    "collapsed": true,
    "scrolled": false
   },
   "outputs": [],
   "source": [
    "# Preps for plotting\n",
    "bin_by_n_config = cut_to_bins(col='n_config', df=best_err)\n",
    "bin_by_avg_sample = cut_to_bins(col='avg_records_per_config', df=best_err)"
   ]
  },
  {
   "cell_type": "markdown",
   "metadata": {},
   "source": [
    "### Histograms"
   ]
  },
  {
   "cell_type": "code",
   "execution_count": 20,
   "metadata": {
    "ExecuteTime": {
     "end_time": "2018-05-21T15:01:01.821590Z",
     "start_time": "2018-05-21T15:01:01.486167Z"
    },
    "code_folding": [
     0
    ],
    "collapsed": true
   },
   "outputs": [
    {
     "data": {
      "image/png": "[encoded data removed]",
      "text/plain": [
       "<matplotlib.figure.Figure at 0x1119f1cf8>"
      ]
     },
     "metadata": {},
     "output_type": "display_data"
    }
   ],
   "source": [
    "# group sizes\n",
    "_ = best_err.n_config.hist() # np.log10(bin_by_n_config.n_config).hist()\n",
    "plt.xlabel(r'Group size'); plt.ylabel('Number of groups')\n",
    "plt.title('Histogram of group size')\n",
    "plt.savefig(fig_dir + 'group_size.jpg')\n",
    "plt.savefig(fig_dir + 'group_size.pdf')"
   ]
  },
  {
   "cell_type": "code",
   "execution_count": 94,
   "metadata": {
    "ExecuteTime": {
     "end_time": "2018-05-22T15:18:41.608425Z",
     "start_time": "2018-05-22T15:18:41.268036Z"
    }
   },
   "outputs": [
    {
     "data": {
      "image/png": "[encoded data removed]",
      "text/plain": [
       "<matplotlib.figure.Figure at 0x11202bac8>"
      ]
     },
     "metadata": {},
     "output_type": "display_data"
    }
   ],
   "source": [
    "# medape\n",
    "viz_err(err_metrics='test_medape', err_df= best_err, country='sg')"
   ]
  },
  {
   "cell_type": "code",
   "execution_count": 96,
   "metadata": {
    "ExecuteTime": {
     "end_time": "2018-05-22T15:22:10.833664Z",
     "start_time": "2018-05-22T15:22:10.505454Z"
    }
   },
   "outputs": [
    {
     "data": {
      "image/png": "[encoded data removed]",
      "text/plain": [
       "<matplotlib.figure.Figure at 0x112950940>"
      ]
     },
     "metadata": {},
     "output_type": "display_data"
    }
   ],
   "source": [
    "# medae\n",
    "viz_err(err_metrics='test_medae', err_df=best_err, country='sg')"
   ]
  },
  {
   "cell_type": "markdown",
   "metadata": {},
   "source": [
    "### Accuracy vs. group size"
   ]
  },
  {
   "cell_type": "code",
   "execution_count": 21,
   "metadata": {
    "ExecuteTime": {
     "end_time": "2018-05-21T15:04:33.937695Z",
     "start_time": "2018-05-21T15:04:33.673603Z"
    },
    "collapsed": true
   },
   "outputs": [
    {
     "data": {
      "image/png": "[encoded data removed]",
      "text/plain": [
       "<matplotlib.figure.Figure at 0x111a010f0>"
      ]
     },
     "metadata": {},
     "output_type": "display_data"
    }
   ],
   "source": [
    "p1 = my_plot(df=bin_by_n_config, bin_column='bin_n_config', \n",
    "             title='Accuracy vs. group size ({} data)'.format(country.upper()))\n",
    "p1.savefig(fig_dir + 'acc_vs_size.jpg')"
   ]
  },
  {
   "cell_type": "markdown",
   "metadata": {},
   "source": [
    "The chart reveals that:\n",
    "+ most groups have MEDAPE less than 30%.\n",
    "+ groups with a small number of configs (<= 6) have large variance in MEDAPE."
   ]
  },
  {
   "cell_type": "markdown",
   "metadata": {},
   "source": [
    "### Accuracy vs. data size"
   ]
  },
  {
   "cell_type": "code",
   "execution_count": 22,
   "metadata": {
    "ExecuteTime": {
     "end_time": "2018-05-21T15:08:57.648657Z",
     "start_time": "2018-05-21T15:08:57.645255Z"
    },
    "collapsed": true
   },
   "outputs": [],
   "source": [
    "bin_by_avg_sample.rename(columns={'bin_avg_records_per_config': 'bin_samples_per_config'}, inplace=True)"
   ]
  },
  {
   "cell_type": "code",
   "execution_count": 24,
   "metadata": {
    "ExecuteTime": {
     "end_time": "2018-05-21T15:10:08.702259Z",
     "start_time": "2018-05-21T15:10:08.308923Z"
    },
    "code_folding": [
     0
    ],
    "collapsed": true
   },
   "outputs": [
    {
     "data": {
      "image/png": "[encoded data removed]",
      "text/plain": [
       "<matplotlib.figure.Figure at 0x111c5ab70>"
      ]
     },
     "metadata": {},
     "output_type": "display_data"
    }
   ],
   "source": [
    "p2 = my_plot(df=bin_by_avg_sample, bin_column='bin_samples_per_config', \n",
    "             title='Accuracy vs. number of samples per config ({} data)'.format(country.upper()))\n",
    "plt.savefig(fig_dir + 'acc_vs_data_size.pdf')\n",
    "plt.savefig(fig_dir + 'acc_vs_data_size.jpg')"
   ]
  },
  {
   "cell_type": "markdown",
   "metadata": {},
   "source": [
    "### Peek on the best and worst groups"
   ]
  },
  {
   "cell_type": "code",
   "execution_count": 44,
   "metadata": {
    "ExecuteTime": {
     "end_time": "2018-04-24T11:17:12.580636Z",
     "start_time": "2018-04-24T11:17:12.576554Z"
    },
    "collapsed": true
   },
   "outputs": [],
   "source": [
    "best_err.sort_values('test_medape', inplace=True)"
   ]
  },
  {
   "cell_type": "code",
   "execution_count": 47,
   "metadata": {
    "ExecuteTime": {
     "end_time": "2018-04-24T11:21:04.436741Z",
     "start_time": "2018-04-24T11:21:04.429420Z"
    },
    "collapsed": true
   },
   "outputs": [
    {
     "data": {
      "text/plain": [
       "count     504.000000\n",
       "mean      187.452381\n",
       "std       440.243708\n",
       "min         1.000000\n",
       "25%         9.000000\n",
       "50%        32.500000\n",
       "75%       183.500000\n",
       "max      3837.000000\n",
       "Name: n_config, dtype: float64"
      ]
     },
     "execution_count": 47,
     "metadata": {},
     "output_type": "execute_result"
    }
   ],
   "source": [
    "best_err.n_config.describe()"
   ]
  },
  {
   "cell_type": "code",
   "execution_count": 49,
   "metadata": {
    "ExecuteTime": {
     "end_time": "2018-04-24T11:22:27.011147Z",
     "start_time": "2018-04-24T11:22:26.991196Z"
    },
    "collapsed": true
   },
   "outputs": [
    {
     "data": {
      "text/html": [
       "<div>\n",
       "<style>\n",
       "    .dataframe thead tr:only-child th {\n",
       "        text-align: right;\n",
       "    }\n",
       "\n",
       "    .dataframe thead th {\n",
       "        text-align: left;\n",
       "    }\n",
       "\n",
       "    .dataframe tbody tr th {\n",
       "        vertical-align: top;\n",
       "    }\n",
       "</style>\n",
       "<table border=\"1\" class=\"dataframe\">\n",
       "  <thead>\n",
       "    <tr style=\"text-align: right;\">\n",
       "      <th></th>\n",
       "      <th>model</th>\n",
       "      <th>test_medae</th>\n",
       "      <th>test_medape</th>\n",
       "      <th>test_rmse</th>\n",
       "      <th>group</th>\n",
       "      <th>n_config</th>\n",
       "      <th>avg_records_per_config</th>\n",
       "      <th>n_samples</th>\n",
       "    </tr>\n",
       "  </thead>\n",
       "  <tbody>\n",
       "    <tr>\n",
       "      <th>80</th>\n",
       "      <td>Random Forest</td>\n",
       "      <td>0.000000</td>\n",
       "      <td>0.000000</td>\n",
       "      <td>0.410629</td>\n",
       "      <td>eyewear_male_year_round</td>\n",
       "      <td>70</td>\n",
       "      <td>1.0</td>\n",
       "      <td>111</td>\n",
       "    </tr>\n",
       "    <tr>\n",
       "      <th>60</th>\n",
       "      <td>Random Forest</td>\n",
       "      <td>0.000000</td>\n",
       "      <td>0.000000</td>\n",
       "      <td>0.553672</td>\n",
       "      <td>jewellery_female_spring_summer</td>\n",
       "      <td>74</td>\n",
       "      <td>2.0</td>\n",
       "      <td>163</td>\n",
       "    </tr>\n",
       "    <tr>\n",
       "      <th>55</th>\n",
       "      <td>Lasso Regression</td>\n",
       "      <td>0.000000</td>\n",
       "      <td>0.000000</td>\n",
       "      <td>0.304997</td>\n",
       "      <td>swimwear_tops_female_autumn_winter</td>\n",
       "      <td>39</td>\n",
       "      <td>2.0</td>\n",
       "      <td>81</td>\n",
       "    </tr>\n",
       "    <tr>\n",
       "      <th>10</th>\n",
       "      <td>Random Forest</td>\n",
       "      <td>0.000000</td>\n",
       "      <td>0.000000</td>\n",
       "      <td>1.180290</td>\n",
       "      <td>other_accessories_male_spring_summer</td>\n",
       "      <td>36</td>\n",
       "      <td>2.0</td>\n",
       "      <td>91</td>\n",
       "    </tr>\n",
       "    <tr>\n",
       "      <th>145</th>\n",
       "      <td>XGBoost</td>\n",
       "      <td>0.022543</td>\n",
       "      <td>2.254272</td>\n",
       "      <td>1.365373</td>\n",
       "      <td>nightwear_sleepwear_female_autumn_winter</td>\n",
       "      <td>91</td>\n",
       "      <td>3.0</td>\n",
       "      <td>334</td>\n",
       "    </tr>\n",
       "    <tr>\n",
       "      <th>140</th>\n",
       "      <td>XGBoost</td>\n",
       "      <td>0.024740</td>\n",
       "      <td>2.473974</td>\n",
       "      <td>0.515536</td>\n",
       "      <td>panties_female_autumn_winter</td>\n",
       "      <td>37</td>\n",
       "      <td>2.0</td>\n",
       "      <td>103</td>\n",
       "    </tr>\n",
       "    <tr>\n",
       "      <th>230</th>\n",
       "      <td>XGBoost</td>\n",
       "      <td>0.026893</td>\n",
       "      <td>2.689302</td>\n",
       "      <td>0.694151</td>\n",
       "      <td>eyewear_female_spring_summer</td>\n",
       "      <td>133</td>\n",
       "      <td>3.0</td>\n",
       "      <td>447</td>\n",
       "    </tr>\n",
       "    <tr>\n",
       "      <th>55</th>\n",
       "      <td>XGBoost</td>\n",
       "      <td>0.035089</td>\n",
       "      <td>3.508949</td>\n",
       "      <td>0.389979</td>\n",
       "      <td>jewellery_female_autumn_winter</td>\n",
       "      <td>293</td>\n",
       "      <td>2.0</td>\n",
       "      <td>834</td>\n",
       "    </tr>\n",
       "    <tr>\n",
       "      <th>100</th>\n",
       "      <td>XGBoost</td>\n",
       "      <td>0.035789</td>\n",
       "      <td>3.578889</td>\n",
       "      <td>0.640619</td>\n",
       "      <td>sports_performance_bottoms_female_spring_summer</td>\n",
       "      <td>190</td>\n",
       "      <td>8.0</td>\n",
       "      <td>1555</td>\n",
       "    </tr>\n",
       "    <tr>\n",
       "      <th>220</th>\n",
       "      <td>XGBoost</td>\n",
       "      <td>0.036135</td>\n",
       "      <td>3.613544</td>\n",
       "      <td>3.719977</td>\n",
       "      <td>watches_male_spring_summer</td>\n",
       "      <td>333</td>\n",
       "      <td>2.0</td>\n",
       "      <td>846</td>\n",
       "    </tr>\n",
       "    <tr>\n",
       "      <th>65</th>\n",
       "      <td>Boosted Regression Tree</td>\n",
       "      <td>0.041207</td>\n",
       "      <td>4.120745</td>\n",
       "      <td>0.478564</td>\n",
       "      <td>other_accessories_female_spring_summer</td>\n",
       "      <td>40</td>\n",
       "      <td>4.0</td>\n",
       "      <td>169</td>\n",
       "    </tr>\n",
       "    <tr>\n",
       "      <th>275</th>\n",
       "      <td>XGBoost</td>\n",
       "      <td>0.041588</td>\n",
       "      <td>4.158750</td>\n",
       "      <td>0.186818</td>\n",
       "      <td>hats_caps_female_autumn_winter</td>\n",
       "      <td>82</td>\n",
       "      <td>3.0</td>\n",
       "      <td>272</td>\n",
       "    </tr>\n",
       "    <tr>\n",
       "      <th>135</th>\n",
       "      <td>XGBoost</td>\n",
       "      <td>0.041872</td>\n",
       "      <td>4.187208</td>\n",
       "      <td>0.848502</td>\n",
       "      <td>boots_male_spring_summer</td>\n",
       "      <td>172</td>\n",
       "      <td>5.0</td>\n",
       "      <td>882</td>\n",
       "    </tr>\n",
       "    <tr>\n",
       "      <th>235</th>\n",
       "      <td>XGBoost</td>\n",
       "      <td>0.042594</td>\n",
       "      <td>4.259384</td>\n",
       "      <td>1.411127</td>\n",
       "      <td>prayer_apparel_accessories_male_spring_summer</td>\n",
       "      <td>205</td>\n",
       "      <td>4.0</td>\n",
       "      <td>832</td>\n",
       "    </tr>\n",
       "    <tr>\n",
       "      <th>85</th>\n",
       "      <td>Boosted Regression Tree</td>\n",
       "      <td>0.044307</td>\n",
       "      <td>4.430721</td>\n",
       "      <td>0.346712</td>\n",
       "      <td>lingerie_sets_female_spring_summer</td>\n",
       "      <td>88</td>\n",
       "      <td>3.0</td>\n",
       "      <td>286</td>\n",
       "    </tr>\n",
       "    <tr>\n",
       "      <th>165</th>\n",
       "      <td>XGBoost</td>\n",
       "      <td>0.044617</td>\n",
       "      <td>4.461670</td>\n",
       "      <td>1.247925</td>\n",
       "      <td>slip_ons_espadrilles_male_spring_summer</td>\n",
       "      <td>190</td>\n",
       "      <td>3.0</td>\n",
       "      <td>707</td>\n",
       "    </tr>\n",
       "    <tr>\n",
       "      <th>85</th>\n",
       "      <td>XGBoost</td>\n",
       "      <td>0.044879</td>\n",
       "      <td>4.487860</td>\n",
       "      <td>0.493298</td>\n",
       "      <td>belts_buckles_female_spring_summer</td>\n",
       "      <td>158</td>\n",
       "      <td>3.0</td>\n",
       "      <td>628</td>\n",
       "    </tr>\n",
       "    <tr>\n",
       "      <th>30</th>\n",
       "      <td>Random Forest</td>\n",
       "      <td>0.047033</td>\n",
       "      <td>4.703278</td>\n",
       "      <td>1.101589</td>\n",
       "      <td>swimwear_tops_female_spring_summer</td>\n",
       "      <td>136</td>\n",
       "      <td>2.0</td>\n",
       "      <td>339</td>\n",
       "    </tr>\n",
       "    <tr>\n",
       "      <th>245</th>\n",
       "      <td>XGBoost</td>\n",
       "      <td>0.049217</td>\n",
       "      <td>4.921675</td>\n",
       "      <td>0.888443</td>\n",
       "      <td>fashion_bags_female_autumn_winter</td>\n",
       "      <td>277</td>\n",
       "      <td>7.0</td>\n",
       "      <td>2210</td>\n",
       "    </tr>\n",
       "    <tr>\n",
       "      <th>25</th>\n",
       "      <td>Random Forest</td>\n",
       "      <td>0.050000</td>\n",
       "      <td>5.000000</td>\n",
       "      <td>0.568433</td>\n",
       "      <td>swimwear_beachwear_male_autumn_winter</td>\n",
       "      <td>31</td>\n",
       "      <td>3.0</td>\n",
       "      <td>104</td>\n",
       "    </tr>\n",
       "  </tbody>\n",
       "</table>\n",
       "</div>"
      ],
      "text/plain": [
       "                       model  test_medae  test_medape  test_rmse  \\\n",
       "80             Random Forest    0.000000     0.000000   0.410629   \n",
       "60             Random Forest    0.000000     0.000000   0.553672   \n",
       "55          Lasso Regression    0.000000     0.000000   0.304997   \n",
       "10             Random Forest    0.000000     0.000000   1.180290   \n",
       "145                  XGBoost    0.022543     2.254272   1.365373   \n",
       "140                  XGBoost    0.024740     2.473974   0.515536   \n",
       "230                  XGBoost    0.026893     2.689302   0.694151   \n",
       "55                   XGBoost    0.035089     3.508949   0.389979   \n",
       "100                  XGBoost    0.035789     3.578889   0.640619   \n",
       "220                  XGBoost    0.036135     3.613544   3.719977   \n",
       "65   Boosted Regression Tree    0.041207     4.120745   0.478564   \n",
       "275                  XGBoost    0.041588     4.158750   0.186818   \n",
       "135                  XGBoost    0.041872     4.187208   0.848502   \n",
       "235                  XGBoost    0.042594     4.259384   1.411127   \n",
       "85   Boosted Regression Tree    0.044307     4.430721   0.346712   \n",
       "165                  XGBoost    0.044617     4.461670   1.247925   \n",
       "85                   XGBoost    0.044879     4.487860   0.493298   \n",
       "30             Random Forest    0.047033     4.703278   1.101589   \n",
       "245                  XGBoost    0.049217     4.921675   0.888443   \n",
       "25             Random Forest    0.050000     5.000000   0.568433   \n",
       "\n",
       "                                               group  n_config  \\\n",
       "80                           eyewear_male_year_round        70   \n",
       "60                    jewellery_female_spring_summer        74   \n",
       "55                swimwear_tops_female_autumn_winter        39   \n",
       "10              other_accessories_male_spring_summer        36   \n",
       "145         nightwear_sleepwear_female_autumn_winter        91   \n",
       "140                     panties_female_autumn_winter        37   \n",
       "230                     eyewear_female_spring_summer       133   \n",
       "55                    jewellery_female_autumn_winter       293   \n",
       "100  sports_performance_bottoms_female_spring_summer       190   \n",
       "220                       watches_male_spring_summer       333   \n",
       "65            other_accessories_female_spring_summer        40   \n",
       "275                   hats_caps_female_autumn_winter        82   \n",
       "135                         boots_male_spring_summer       172   \n",
       "235    prayer_apparel_accessories_male_spring_summer       205   \n",
       "85                lingerie_sets_female_spring_summer        88   \n",
       "165          slip_ons_espadrilles_male_spring_summer       190   \n",
       "85                belts_buckles_female_spring_summer       158   \n",
       "30                swimwear_tops_female_spring_summer       136   \n",
       "245                fashion_bags_female_autumn_winter       277   \n",
       "25             swimwear_beachwear_male_autumn_winter        31   \n",
       "\n",
       "     avg_records_per_config  n_samples  \n",
       "80                      1.0        111  \n",
       "60                      2.0        163  \n",
       "55                      2.0         81  \n",
       "10                      2.0         91  \n",
       "145                     3.0        334  \n",
       "140                     2.0        103  \n",
       "230                     3.0        447  \n",
       "55                      2.0        834  \n",
       "100                     8.0       1555  \n",
       "220                     2.0        846  \n",
       "65                      4.0        169  \n",
       "275                     3.0        272  \n",
       "135                     5.0        882  \n",
       "235                     4.0        832  \n",
       "85                      3.0        286  \n",
       "165                     3.0        707  \n",
       "85                      3.0        628  \n",
       "30                      2.0        339  \n",
       "245                     7.0       2210  \n",
       "25                      3.0        104  "
      ]
     },
     "execution_count": 49,
     "metadata": {},
     "output_type": "execute_result"
    }
   ],
   "source": [
    "# best\n",
    "best_err.query('n_config > 30').head(20)"
   ]
  },
  {
   "cell_type": "code",
   "execution_count": 50,
   "metadata": {
    "ExecuteTime": {
     "end_time": "2018-04-11T11:27:27.365547Z",
     "start_time": "2018-04-11T11:27:27.352362Z"
    },
    "collapsed": true
   },
   "outputs": [
    {
     "data": {
      "text/html": [
       "<div>\n",
       "<style>\n",
       "    .dataframe thead tr:only-child th {\n",
       "        text-align: right;\n",
       "    }\n",
       "\n",
       "    .dataframe thead th {\n",
       "        text-align: left;\n",
       "    }\n",
       "\n",
       "    .dataframe tbody tr th {\n",
       "        vertical-align: top;\n",
       "    }\n",
       "</style>\n",
       "<table border=\"1\" class=\"dataframe\">\n",
       "  <thead>\n",
       "    <tr style=\"text-align: right;\">\n",
       "      <th></th>\n",
       "      <th>model</th>\n",
       "      <th>test_medae</th>\n",
       "      <th>test_medape</th>\n",
       "      <th>test_rmse</th>\n",
       "      <th>group</th>\n",
       "      <th>n_config</th>\n",
       "      <th>avg_records_per_config</th>\n",
       "    </tr>\n",
       "  </thead>\n",
       "  <tbody>\n",
       "    <tr>\n",
       "      <th>30</th>\n",
       "      <td>XGBoost</td>\n",
       "      <td>0.599817</td>\n",
       "      <td>59.981692</td>\n",
       "      <td>0.599817</td>\n",
       "      <td>sports_performance_shoes_female_year_round</td>\n",
       "      <td>1</td>\n",
       "      <td>7.0</td>\n",
       "    </tr>\n",
       "    <tr>\n",
       "      <th>65</th>\n",
       "      <td>Lasso Regression</td>\n",
       "      <td>0.660000</td>\n",
       "      <td>66.000000</td>\n",
       "      <td>0.660000</td>\n",
       "      <td>traditional_accessories_female_spring_summer</td>\n",
       "      <td>1</td>\n",
       "      <td>9.0</td>\n",
       "    </tr>\n",
       "    <tr>\n",
       "      <th>85</th>\n",
       "      <td>XGBoost</td>\n",
       "      <td>0.694398</td>\n",
       "      <td>69.439805</td>\n",
       "      <td>0.850326</td>\n",
       "      <td>sports_bra_female_year_round</td>\n",
       "      <td>2</td>\n",
       "      <td>9.0</td>\n",
       "    </tr>\n",
       "    <tr>\n",
       "      <th>90</th>\n",
       "      <td>XGBoost</td>\n",
       "      <td>0.847697</td>\n",
       "      <td>73.054865</td>\n",
       "      <td>0.865110</td>\n",
       "      <td>sports_lifestyle_shoes_female_year_round</td>\n",
       "      <td>2</td>\n",
       "      <td>20.0</td>\n",
       "    </tr>\n",
       "    <tr>\n",
       "      <th>40</th>\n",
       "      <td>XGBoost</td>\n",
       "      <td>1.686413</td>\n",
       "      <td>74.415552</td>\n",
       "      <td>1.545847</td>\n",
       "      <td>skirts_female_year_round</td>\n",
       "      <td>4</td>\n",
       "      <td>17.0</td>\n",
       "    </tr>\n",
       "    <tr>\n",
       "      <th>15</th>\n",
       "      <td>Ridge Regression</td>\n",
       "      <td>2.499768</td>\n",
       "      <td>78.459499</td>\n",
       "      <td>6.248384</td>\n",
       "      <td>other_accessories_female_autumn</td>\n",
       "      <td>4</td>\n",
       "      <td>3.0</td>\n",
       "    </tr>\n",
       "    <tr>\n",
       "      <th>25</th>\n",
       "      <td>Random Forest</td>\n",
       "      <td>1.409963</td>\n",
       "      <td>79.752703</td>\n",
       "      <td>1.927654</td>\n",
       "      <td>dresses_female_year_round</td>\n",
       "      <td>93</td>\n",
       "      <td>18.0</td>\n",
       "    </tr>\n",
       "    <tr>\n",
       "      <th>85</th>\n",
       "      <td>XGBoost</td>\n",
       "      <td>0.978065</td>\n",
       "      <td>97.806513</td>\n",
       "      <td>0.978065</td>\n",
       "      <td>sports_lifestyle_bottoms_female_year_round</td>\n",
       "      <td>1</td>\n",
       "      <td>16.0</td>\n",
       "    </tr>\n",
       "    <tr>\n",
       "      <th>60</th>\n",
       "      <td>XGBoost</td>\n",
       "      <td>1.148424</td>\n",
       "      <td>108.118004</td>\n",
       "      <td>1.222615</td>\n",
       "      <td>briefs_male_summer</td>\n",
       "      <td>2</td>\n",
       "      <td>25.0</td>\n",
       "    </tr>\n",
       "    <tr>\n",
       "      <th>35</th>\n",
       "      <td>XGBoost</td>\n",
       "      <td>2.872307</td>\n",
       "      <td>143.615365</td>\n",
       "      <td>2.807908</td>\n",
       "      <td>shorts_female_year_round</td>\n",
       "      <td>3</td>\n",
       "      <td>28.0</td>\n",
       "    </tr>\n",
       "  </tbody>\n",
       "</table>\n",
       "</div>"
      ],
      "text/plain": [
       "               model  test_medae  test_medape  test_rmse  \\\n",
       "30           XGBoost    0.599817    59.981692   0.599817   \n",
       "65  Lasso Regression    0.660000    66.000000   0.660000   \n",
       "85           XGBoost    0.694398    69.439805   0.850326   \n",
       "90           XGBoost    0.847697    73.054865   0.865110   \n",
       "40           XGBoost    1.686413    74.415552   1.545847   \n",
       "15  Ridge Regression    2.499768    78.459499   6.248384   \n",
       "25     Random Forest    1.409963    79.752703   1.927654   \n",
       "85           XGBoost    0.978065    97.806513   0.978065   \n",
       "60           XGBoost    1.148424   108.118004   1.222615   \n",
       "35           XGBoost    2.872307   143.615365   2.807908   \n",
       "\n",
       "                                           group  n_config  \\\n",
       "30    sports_performance_shoes_female_year_round         1   \n",
       "65  traditional_accessories_female_spring_summer         1   \n",
       "85                  sports_bra_female_year_round         2   \n",
       "90      sports_lifestyle_shoes_female_year_round         2   \n",
       "40                      skirts_female_year_round         4   \n",
       "15               other_accessories_female_autumn         4   \n",
       "25                     dresses_female_year_round        93   \n",
       "85    sports_lifestyle_bottoms_female_year_round         1   \n",
       "60                            briefs_male_summer         2   \n",
       "35                      shorts_female_year_round         3   \n",
       "\n",
       "    avg_records_per_config  \n",
       "30                     7.0  \n",
       "65                     9.0  \n",
       "85                     9.0  \n",
       "90                    20.0  \n",
       "40                    17.0  \n",
       "15                     3.0  \n",
       "25                    18.0  \n",
       "85                    16.0  \n",
       "60                    25.0  \n",
       "35                    28.0  "
      ]
     },
     "execution_count": 50,
     "metadata": {},
     "output_type": "execute_result"
    }
   ],
   "source": [
    "# worst\n",
    "best_err.tail(10)"
   ]
  },
  {
   "cell_type": "markdown",
   "metadata": {},
   "source": [
    "### Best models\n",
    "\n",
    "__Note__:\n",
    "Due to problems of missing data, we actually have three types of groups, corresponding to three scenarios of training process:\n",
    "\n",
    "+ normal groups: where we can train models (including CV), and test the trained models on test set\n",
    "+ exception type-1 groups: these are groups where we can still train models but cannot evaluate accuracy of the models on test set because the test sets are empty for these groups. In this case, we use accuracy on training set as fall back metrics\n",
    "+ exception type-2 groups: where we cannot train models as we have too few valid data in training set (less than 3 records). For such groups, we then train a dummy model which makes sale prediction simply based on frequency of sale values in history."
   ]
  },
  {
   "cell_type": "code",
   "execution_count": 38,
   "metadata": {
    "ExecuteTime": {
     "end_time": "2018-05-21T16:07:09.372231Z",
     "start_time": "2018-05-21T16:07:09.369520Z"
    },
    "collapsed": true
   },
   "outputs": [],
   "source": [
    "n_group = 657 # replace by a variable for each country"
   ]
  },
  {
   "cell_type": "code",
   "execution_count": 39,
   "metadata": {
    "ExecuteTime": {
     "end_time": "2018-05-21T16:07:10.046338Z",
     "start_time": "2018-05-21T16:07:10.041345Z"
    }
   },
   "outputs": [
    {
     "name": "stdout",
     "output_type": "stream",
     "text": [
      "Percentage of type-1 exceptions: 10.2\n"
     ]
    }
   ],
   "source": [
    "percent1 = round(100 * sum(best_err.test_medape.isnull())/n_group, 1)\n",
    "print('Percentage of type-1 exceptions: {}'.format(percent1))"
   ]
  },
  {
   "cell_type": "code",
   "execution_count": 40,
   "metadata": {
    "ExecuteTime": {
     "end_time": "2018-05-21T16:07:11.139656Z",
     "start_time": "2018-05-21T16:07:11.135745Z"
    }
   },
   "outputs": [
    {
     "name": "stdout",
     "output_type": "stream",
     "text": [
      "Percentage of type-2 exceptions: 7.8\n"
     ]
    }
   ],
   "source": [
    "percent2 = round(100*(n_group - best_err.shape[0])/n_group, 1)\n",
    "print('Percentage of type-2 exceptions: {}'.format(percent2))"
   ]
  },
  {
   "cell_type": "code",
   "execution_count": 42,
   "metadata": {
    "ExecuteTime": {
     "end_time": "2018-05-21T16:15:01.564126Z",
     "start_time": "2018-05-21T16:15:01.555319Z"
    },
    "collapsed": true
   },
   "outputs": [],
   "source": [
    "# normal groups, i.e. groups on which test-MEDAPE can be evaluated\n",
    "n_normal = sum(best_err.test_medape.notnull())\n",
    "series = 100 * best_err[best_err.test_medape.notnull()].model.value_counts()/n_normal\n",
    "best_model_df = series.to_frame('percentage').reset_index().rename(columns={'index': 'model'})"
   ]
  },
  {
   "cell_type": "code",
   "execution_count": 44,
   "metadata": {
    "ExecuteTime": {
     "end_time": "2018-05-21T16:17:12.258059Z",
     "start_time": "2018-05-21T16:17:12.253464Z"
    },
    "collapsed": true
   },
   "outputs": [],
   "source": [
    "best_model_df.to_csv(metric_dir + 'add_config_page_views/best_model.csv', index=False)"
   ]
  },
  {
   "cell_type": "markdown",
   "metadata": {},
   "source": [
    "__Obs:__\n",
    "XGBoost is usually the best model. It is the best model for more than 66% of groups. Next is Random Forest, which is best model for 17% of groups."
   ]
  },
  {
   "cell_type": "markdown",
   "metadata": {},
   "source": [
    "## MY data"
   ]
  },
  {
   "cell_type": "code",
   "execution_count": 110,
   "metadata": {
    "ExecuteTime": {
     "end_time": "2018-05-22T15:26:36.640213Z",
     "start_time": "2018-05-22T15:26:36.635586Z"
    },
    "code_folding": [],
    "collapsed": true
   },
   "outputs": [],
   "source": [
    "# declare dirs\n",
    "country = 'my'\n",
    "\n",
    "dat_dir = '/Users/gfg/data/markdown/clean/venture=Zalora/{}/'.format(country)\n",
    "res_dir = '/Users/gfg/projects/daas-markdown/res/Zalora/{}/'.format(country)\n",
    "\n",
    "# sub res dirs\n",
    "metric_dir = res_dir + 'metrics/'\n",
    "fig_dir = res_dir + 'plot/'\n",
    "if not os.path.exists(fig_dir):\n",
    "    os.mkdir(fig_dir)"
   ]
  },
  {
   "cell_type": "code",
   "execution_count": 111,
   "metadata": {
    "ExecuteTime": {
     "end_time": "2018-05-22T15:26:36.765075Z",
     "start_time": "2018-05-22T15:26:36.643701Z"
    },
    "collapsed": true
   },
   "outputs": [],
   "source": [
    "err_df = load_metrics_files(metric_dir + 'add_config_page_views/')"
   ]
  },
  {
   "cell_type": "code",
   "execution_count": 112,
   "metadata": {
    "ExecuteTime": {
     "end_time": "2018-05-22T15:26:36.770925Z",
     "start_time": "2018-05-22T15:26:36.766611Z"
    }
   },
   "outputs": [
    {
     "name": "stdout",
     "output_type": "stream",
     "text": [
      "# trained groups: 623\n"
     ]
    }
   ],
   "source": [
    "groups = err_df.group.unique()\n",
    "print('# trained groups: {}'.format(len(groups)))"
   ]
  },
  {
   "cell_type": "code",
   "execution_count": 113,
   "metadata": {
    "ExecuteTime": {
     "end_time": "2018-05-22T15:26:36.776855Z",
     "start_time": "2018-05-22T15:26:36.772543Z"
    },
    "collapsed": true
   },
   "outputs": [],
   "source": [
    "best_err = get_best_err(err_df)"
   ]
  },
  {
   "cell_type": "code",
   "execution_count": 101,
   "metadata": {
    "ExecuteTime": {
     "end_time": "2018-05-22T15:22:50.075242Z",
     "start_time": "2018-05-22T15:22:50.068163Z"
    },
    "collapsed": true
   },
   "outputs": [
    {
     "data": {
      "text/plain": [
       "count    551.000000\n",
       "mean      25.396602\n",
       "std       14.908041\n",
       "min        0.000000\n",
       "25%       13.833898\n",
       "50%       26.065585\n",
       "75%       34.888043\n",
       "max      120.000000\n",
       "Name: test_medape, dtype: float64"
      ]
     },
     "execution_count": 101,
     "metadata": {},
     "output_type": "execute_result"
    }
   ],
   "source": [
    "best_err.test_medape.describe()"
   ]
  },
  {
   "cell_type": "markdown",
   "metadata": {},
   "source": [
    "### Histogram"
   ]
  },
  {
   "cell_type": "code",
   "execution_count": 57,
   "metadata": {
    "ExecuteTime": {
     "end_time": "2018-05-21T17:13:43.310732Z",
     "start_time": "2018-05-21T17:13:43.004505Z"
    },
    "code_folding": [
     0
    ],
    "scrolled": true
   },
   "outputs": [
    {
     "data": {
      "image/png": "[encoded data removed]",
      "text/plain": [
       "<matplotlib.figure.Figure at 0x1129067b8>"
      ]
     },
     "metadata": {},
     "output_type": "display_data"
    }
   ],
   "source": [
    "# group sizes\n",
    "_ = best_err.n_config.hist() \n",
    "plt.xlabel(r'Group size'); plt.ylabel('Number of groups')\n",
    "plt.title('Histogram of group size ({} data)'.format(country.upper()))\n",
    "plt.savefig(fig_dir + 'group_size.jpg')\n",
    "plt.savefig(fig_dir + 'group_size.pdf')"
   ]
  },
  {
   "cell_type": "code",
   "execution_count": 102,
   "metadata": {
    "ExecuteTime": {
     "end_time": "2018-05-22T15:23:38.256058Z",
     "start_time": "2018-05-22T15:23:37.922460Z"
    }
   },
   "outputs": [
    {
     "data": {
      "image/png": "[encoded data removed]",
      "text/plain": [
       "<matplotlib.figure.Figure at 0x111fcc128>"
      ]
     },
     "metadata": {},
     "output_type": "display_data"
    }
   ],
   "source": [
    "# test_medape\n",
    "viz_err(err_metrics='test_medape',err_df=best_err, country='my')"
   ]
  },
  {
   "cell_type": "code",
   "execution_count": 114,
   "metadata": {
    "ExecuteTime": {
     "end_time": "2018-05-22T15:26:49.988643Z",
     "start_time": "2018-05-22T15:26:49.644711Z"
    }
   },
   "outputs": [
    {
     "data": {
      "image/png": "[encoded data removed]",
      "text/plain": [
       "<matplotlib.figure.Figure at 0x112423f28>"
      ]
     },
     "metadata": {},
     "output_type": "display_data"
    }
   ],
   "source": [
    "# test_medae\n",
    "viz_err(err_metrics='test_medae',err_df=best_err, country='my')"
   ]
  },
  {
   "cell_type": "markdown",
   "metadata": {},
   "source": [
    "### Accuracy vs. group size"
   ]
  },
  {
   "cell_type": "code",
   "execution_count": 21,
   "metadata": {
    "ExecuteTime": {
     "end_time": "2018-05-21T15:04:33.937695Z",
     "start_time": "2018-05-21T15:04:33.673603Z"
    },
    "scrolled": true
   },
   "outputs": [
    {
     "data": {
      "image/png": "[encoded data removed]",
      "text/plain": [
       "<matplotlib.figure.Figure at 0x111a010f0>"
      ]
     },
     "metadata": {},
     "output_type": "display_data"
    }
   ],
   "source": [
    "p1 = my_plot(df=bin_by_n_config, bin_column='bin_n_config', \n",
    "             title='Accuracy vs. group size ({} data)'.format(country.upper()))\n",
    "p1.savefig(fig_dir + 'acc_vs_size.jpg')"
   ]
  },
  {
   "cell_type": "markdown",
   "metadata": {},
   "source": [
    "The chart reveals that:\n",
    "+ most groups have MEDAPE less than 30%.\n",
    "+ groups with a small number of configs (<= 6) have large variance in MEDAPE."
   ]
  },
  {
   "cell_type": "markdown",
   "metadata": {},
   "source": [
    "## ID data"
   ]
  },
  {
   "cell_type": "code",
   "execution_count": 103,
   "metadata": {
    "ExecuteTime": {
     "end_time": "2018-05-22T15:24:30.173647Z",
     "start_time": "2018-05-22T15:24:30.168758Z"
    },
    "code_folding": [
     0
    ],
    "collapsed": true
   },
   "outputs": [],
   "source": [
    "# declare dirs\n",
    "country = 'id'\n",
    "\n",
    "dat_dir = '/Users/gfg/data/markdown/clean/venture=Zalora/{}/'.format(country)\n",
    "res_dir = '/Users/gfg/projects/daas-markdown/res/Zalora/{}/'.format(country)\n",
    "\n",
    "# sub res dirs\n",
    "metric_dir = res_dir + 'metrics/'\n",
    "fig_dir = res_dir + 'plot/'\n",
    "if not os.path.exists(fig_dir):\n",
    "    os.mkdir(fig_dir)"
   ]
  },
  {
   "cell_type": "code",
   "execution_count": 104,
   "metadata": {
    "ExecuteTime": {
     "end_time": "2018-05-22T15:24:30.295084Z",
     "start_time": "2018-05-22T15:24:30.177328Z"
    },
    "collapsed": true
   },
   "outputs": [],
   "source": [
    "err_df = load_metrics_files(metric_dir + 'add_config_page_views/')"
   ]
  },
  {
   "cell_type": "code",
   "execution_count": 105,
   "metadata": {
    "ExecuteTime": {
     "end_time": "2018-05-22T15:24:30.301139Z",
     "start_time": "2018-05-22T15:24:30.296691Z"
    }
   },
   "outputs": [
    {
     "name": "stdout",
     "output_type": "stream",
     "text": [
      "# trained groups: 567\n"
     ]
    }
   ],
   "source": [
    "groups = err_df.group.unique()\n",
    "print('# trained groups: {}'.format(len(groups)))"
   ]
  },
  {
   "cell_type": "code",
   "execution_count": 106,
   "metadata": {
    "ExecuteTime": {
     "end_time": "2018-05-22T15:24:30.306650Z",
     "start_time": "2018-05-22T15:24:30.302636Z"
    },
    "collapsed": true
   },
   "outputs": [],
   "source": [
    "best_err = get_best_err(err_df)"
   ]
  },
  {
   "cell_type": "code",
   "execution_count": 107,
   "metadata": {
    "ExecuteTime": {
     "end_time": "2018-05-22T15:24:30.315158Z",
     "start_time": "2018-05-22T15:24:30.308290Z"
    },
    "scrolled": false
   },
   "outputs": [
    {
     "data": {
      "text/plain": [
       "count    499.000000\n",
       "mean      14.711254\n",
       "std       23.449708\n",
       "min        0.000000\n",
       "25%        6.078392\n",
       "50%       11.270821\n",
       "75%       18.651368\n",
       "max      449.968260\n",
       "Name: test_medape, dtype: float64"
      ]
     },
     "execution_count": 107,
     "metadata": {},
     "output_type": "execute_result"
    }
   ],
   "source": [
    "best_err.test_medape.describe()"
   ]
  },
  {
   "cell_type": "markdown",
   "metadata": {},
   "source": [
    "### Histogram"
   ]
  },
  {
   "cell_type": "code",
   "execution_count": 66,
   "metadata": {
    "ExecuteTime": {
     "end_time": "2018-05-21T17:22:06.420287Z",
     "start_time": "2018-05-21T17:22:06.092986Z"
    },
    "code_folding": [
     0
    ],
    "collapsed": true
   },
   "outputs": [
    {
     "data": {
      "image/png": "[encoded data removed]",
      "text/plain": [
       "<matplotlib.figure.Figure at 0x1125274e0>"
      ]
     },
     "metadata": {},
     "output_type": "display_data"
    }
   ],
   "source": [
    "# group sizes\n",
    "_ = best_err.n_config.hist() \n",
    "plt.xlabel(r'Group size'); plt.ylabel('Number of groups')\n",
    "plt.title('Histogram of group size ({} data)'.format(country.upper()))\n",
    "plt.savefig(fig_dir + 'group_size.jpg')\n",
    "plt.savefig(fig_dir + 'group_size.pdf')"
   ]
  },
  {
   "cell_type": "markdown",
   "metadata": {},
   "source": [
    "As we have an outlier of 400% error, let us drop it for now to prevent it from skewing error distribution and mislead us."
   ]
  },
  {
   "cell_type": "code",
   "execution_count": 108,
   "metadata": {
    "ExecuteTime": {
     "end_time": "2018-05-22T15:25:02.544348Z",
     "start_time": "2018-05-22T15:25:02.187798Z"
    }
   },
   "outputs": [
    {
     "data": {
      "image/png": "[encoded data removed]",
      "text/plain": [
       "<matplotlib.figure.Figure at 0x112808cf8>"
      ]
     },
     "metadata": {},
     "output_type": "display_data"
    }
   ],
   "source": [
    "# test_medape\n",
    "normal = best_err.query('test_medape <= 100')\n",
    "viz_err(err_metrics='test_medape', err_df=normal, country='id')"
   ]
  },
  {
   "cell_type": "code",
   "execution_count": 109,
   "metadata": {
    "ExecuteTime": {
     "end_time": "2018-05-22T15:25:35.450255Z",
     "start_time": "2018-05-22T15:25:35.051352Z"
    }
   },
   "outputs": [
    {
     "data": {
      "image/png": "[encoded data removed]",
      "text/plain": [
       "<matplotlib.figure.Figure at 0x11198cf28>"
      ]
     },
     "metadata": {},
     "output_type": "display_data"
    }
   ],
   "source": [
    "viz_err(err_metrics='test_medae', err_df=normal, country='id')"
   ]
  },
  {
   "cell_type": "markdown",
   "metadata": {},
   "source": [
    "# Dive deeper"
   ]
  },
  {
   "cell_type": "markdown",
   "metadata": {},
   "source": [
    "## Problematic groups\n",
    "Groups with large MEDAPE"
   ]
  },
  {
   "cell_type": "code",
   "execution_count": 25,
   "metadata": {
    "ExecuteTime": {
     "end_time": "2018-04-11T10:52:54.018953Z",
     "start_time": "2018-04-11T10:52:54.007588Z"
    }
   },
   "outputs": [
    {
     "name": "stdout",
     "output_type": "stream",
     "text": [
      "# groups with MEDAPE larger than 30%: 128\n"
     ]
    }
   ],
   "source": [
    "thres = 30\n",
    "problematic = binned_err.query('test_medape >= {}'.format(thres))\n",
    "print('# groups with MEDAPE larger than {0}%: {1}'.format(thres, problematic.group.nunique()))"
   ]
  },
  {
   "cell_type": "code",
   "execution_count": 24,
   "metadata": {
    "ExecuteTime": {
     "end_time": "2018-03-20T14:58:49.819188Z",
     "start_time": "2018-03-20T14:58:49.815016Z"
    },
    "collapsed": true
   },
   "outputs": [
    {
     "data": {
      "text/plain": [
       "['heels_female_spring-summer_2017',\n",
       " 'sandals_&_flip_flops_female_spring-summer_2017',\n",
       " 'shorts_female_spring-summer_2017',\n",
       " 'shoulder_bags_female_autumn-winter_2017',\n",
       " 'sports_performance_shoes_female_spring-summer_2017',\n",
       " 'top-handles_female_spring-summer_2017',\n",
       " 'traditional_tops_male_spring-summer_2017']"
      ]
     },
     "execution_count": 24,
     "metadata": {},
     "output_type": "execute_result"
    }
   ],
   "source": [
    "list(problematic.group.unique())"
   ]
  },
  {
   "cell_type": "code",
   "execution_count": 25,
   "metadata": {
    "ExecuteTime": {
     "end_time": "2018-03-20T14:59:06.842419Z",
     "start_time": "2018-03-20T14:59:06.825636Z"
    },
    "collapsed": true
   },
   "outputs": [
    {
     "data": {
      "text/html": [
       "<div>\n",
       "<style>\n",
       "    .dataframe thead tr:only-child th {\n",
       "        text-align: right;\n",
       "    }\n",
       "\n",
       "    .dataframe thead th {\n",
       "        text-align: left;\n",
       "    }\n",
       "\n",
       "    .dataframe tbody tr th {\n",
       "        vertical-align: top;\n",
       "    }\n",
       "</style>\n",
       "<table border=\"1\" class=\"dataframe\">\n",
       "  <thead>\n",
       "    <tr style=\"text-align: right;\">\n",
       "      <th></th>\n",
       "      <th>model</th>\n",
       "      <th>test_medae</th>\n",
       "      <th>test_medape</th>\n",
       "      <th>group</th>\n",
       "      <th>n_config</th>\n",
       "      <th>avg_records_per_config</th>\n",
       "      <th>used_features</th>\n",
       "      <th>bin_n_config</th>\n",
       "      <th>bin_avg_records_per_config</th>\n",
       "    </tr>\n",
       "  </thead>\n",
       "  <tbody>\n",
       "    <tr>\n",
       "      <th>22</th>\n",
       "      <td>Boosted Regression Tree</td>\n",
       "      <td>0.367727</td>\n",
       "      <td>33.396088</td>\n",
       "      <td>heels_female_spring-summer_2017</td>\n",
       "      <td>668</td>\n",
       "      <td>8.0</td>\n",
       "      <td>original</td>\n",
       "      <td>(162,1462]</td>\n",
       "      <td>(6,8]</td>\n",
       "    </tr>\n",
       "    <tr>\n",
       "      <th>41</th>\n",
       "      <td>Boosted Regression Tree</td>\n",
       "      <td>0.407212</td>\n",
       "      <td>31.997364</td>\n",
       "      <td>sandals_&amp;_flip_flops_female_spring-summer_2017</td>\n",
       "      <td>517</td>\n",
       "      <td>8.0</td>\n",
       "      <td>original</td>\n",
       "      <td>(162,1462]</td>\n",
       "      <td>(6,8]</td>\n",
       "    </tr>\n",
       "    <tr>\n",
       "      <th>45</th>\n",
       "      <td>XGBoost</td>\n",
       "      <td>0.349186</td>\n",
       "      <td>30.979498</td>\n",
       "      <td>shorts_female_spring-summer_2017</td>\n",
       "      <td>132</td>\n",
       "      <td>9.0</td>\n",
       "      <td>original</td>\n",
       "      <td>(69,162]</td>\n",
       "      <td>(8,20]</td>\n",
       "    </tr>\n",
       "    <tr>\n",
       "      <th>48</th>\n",
       "      <td>Lasso Regression</td>\n",
       "      <td>0.302973</td>\n",
       "      <td>30.297305</td>\n",
       "      <td>shoulder_bags_female_autumn-winter_2017</td>\n",
       "      <td>42</td>\n",
       "      <td>12.0</td>\n",
       "      <td>original</td>\n",
       "      <td>(38,69]</td>\n",
       "      <td>(8,20]</td>\n",
       "    </tr>\n",
       "    <tr>\n",
       "      <th>74</th>\n",
       "      <td>Random Forest</td>\n",
       "      <td>0.400000</td>\n",
       "      <td>40.000000</td>\n",
       "      <td>sports_performance_shoes_female_spring-summer_...</td>\n",
       "      <td>2</td>\n",
       "      <td>7.0</td>\n",
       "      <td>original</td>\n",
       "      <td>NaN</td>\n",
       "      <td>(6,8]</td>\n",
       "    </tr>\n",
       "    <tr>\n",
       "      <th>90</th>\n",
       "      <td>Lasso Regression</td>\n",
       "      <td>0.432068</td>\n",
       "      <td>32.490099</td>\n",
       "      <td>top-handles_female_spring-summer_2017</td>\n",
       "      <td>99</td>\n",
       "      <td>10.0</td>\n",
       "      <td>original</td>\n",
       "      <td>(69,162]</td>\n",
       "      <td>(8,20]</td>\n",
       "    </tr>\n",
       "    <tr>\n",
       "      <th>100</th>\n",
       "      <td>Boosted Regression Tree</td>\n",
       "      <td>1.000000</td>\n",
       "      <td>43.574094</td>\n",
       "      <td>traditional_tops_male_spring-summer_2017</td>\n",
       "      <td>40</td>\n",
       "      <td>16.0</td>\n",
       "      <td>original</td>\n",
       "      <td>(38,69]</td>\n",
       "      <td>(8,20]</td>\n",
       "    </tr>\n",
       "    <tr>\n",
       "      <th>155</th>\n",
       "      <td>XGBoost</td>\n",
       "      <td>0.349186</td>\n",
       "      <td>30.979498</td>\n",
       "      <td>shorts_female_spring-summer_2017</td>\n",
       "      <td>132</td>\n",
       "      <td>9.0</td>\n",
       "      <td>normalized</td>\n",
       "      <td>(69,162]</td>\n",
       "      <td>(8,20]</td>\n",
       "    </tr>\n",
       "    <tr>\n",
       "      <th>158</th>\n",
       "      <td>Ridge Regression</td>\n",
       "      <td>0.310406</td>\n",
       "      <td>30.538231</td>\n",
       "      <td>shoulder_bags_female_autumn-winter_2017</td>\n",
       "      <td>42</td>\n",
       "      <td>12.0</td>\n",
       "      <td>normalized</td>\n",
       "      <td>(38,69]</td>\n",
       "      <td>(8,20]</td>\n",
       "    </tr>\n",
       "    <tr>\n",
       "      <th>200</th>\n",
       "      <td>Lasso Regression</td>\n",
       "      <td>0.320000</td>\n",
       "      <td>32.000000</td>\n",
       "      <td>top-handles_female_spring-summer_2017</td>\n",
       "      <td>99</td>\n",
       "      <td>10.0</td>\n",
       "      <td>normalized</td>\n",
       "      <td>(69,162]</td>\n",
       "      <td>(8,20]</td>\n",
       "    </tr>\n",
       "    <tr>\n",
       "      <th>210</th>\n",
       "      <td>Lasso Regression</td>\n",
       "      <td>0.638037</td>\n",
       "      <td>36.196319</td>\n",
       "      <td>traditional_tops_male_spring-summer_2017</td>\n",
       "      <td>40</td>\n",
       "      <td>16.0</td>\n",
       "      <td>normalized</td>\n",
       "      <td>(38,69]</td>\n",
       "      <td>(8,20]</td>\n",
       "    </tr>\n",
       "  </tbody>\n",
       "</table>\n",
       "</div>"
      ],
      "text/plain": [
       "                       model  test_medae  test_medape  \\\n",
       "22   Boosted Regression Tree    0.367727    33.396088   \n",
       "41   Boosted Regression Tree    0.407212    31.997364   \n",
       "45                   XGBoost    0.349186    30.979498   \n",
       "48          Lasso Regression    0.302973    30.297305   \n",
       "74             Random Forest    0.400000    40.000000   \n",
       "90          Lasso Regression    0.432068    32.490099   \n",
       "100  Boosted Regression Tree    1.000000    43.574094   \n",
       "155                  XGBoost    0.349186    30.979498   \n",
       "158         Ridge Regression    0.310406    30.538231   \n",
       "200         Lasso Regression    0.320000    32.000000   \n",
       "210         Lasso Regression    0.638037    36.196319   \n",
       "\n",
       "                                                 group  n_config  \\\n",
       "22                     heels_female_spring-summer_2017       668   \n",
       "41      sandals_&_flip_flops_female_spring-summer_2017       517   \n",
       "45                    shorts_female_spring-summer_2017       132   \n",
       "48             shoulder_bags_female_autumn-winter_2017        42   \n",
       "74   sports_performance_shoes_female_spring-summer_...         2   \n",
       "90               top-handles_female_spring-summer_2017        99   \n",
       "100           traditional_tops_male_spring-summer_2017        40   \n",
       "155                   shorts_female_spring-summer_2017       132   \n",
       "158            shoulder_bags_female_autumn-winter_2017        42   \n",
       "200              top-handles_female_spring-summer_2017        99   \n",
       "210           traditional_tops_male_spring-summer_2017        40   \n",
       "\n",
       "     avg_records_per_config used_features bin_n_config  \\\n",
       "22                      8.0      original   (162,1462]   \n",
       "41                      8.0      original   (162,1462]   \n",
       "45                      9.0      original     (69,162]   \n",
       "48                     12.0      original      (38,69]   \n",
       "74                      7.0      original          NaN   \n",
       "90                     10.0      original     (69,162]   \n",
       "100                    16.0      original      (38,69]   \n",
       "155                     9.0    normalized     (69,162]   \n",
       "158                    12.0    normalized      (38,69]   \n",
       "200                    10.0    normalized     (69,162]   \n",
       "210                    16.0    normalized      (38,69]   \n",
       "\n",
       "    bin_avg_records_per_config  \n",
       "22                       (6,8]  \n",
       "41                       (6,8]  \n",
       "45                      (8,20]  \n",
       "48                      (8,20]  \n",
       "74                       (6,8]  \n",
       "90                      (8,20]  \n",
       "100                     (8,20]  \n",
       "155                     (8,20]  \n",
       "158                     (8,20]  \n",
       "200                     (8,20]  \n",
       "210                     (8,20]  "
      ]
     },
     "execution_count": 25,
     "metadata": {},
     "output_type": "execute_result"
    }
   ],
   "source": [
    "problematic"
   ]
  },
  {
   "cell_type": "markdown",
   "metadata": {},
   "source": [
    "## Groups with small error?"
   ]
  },
  {
   "cell_type": "code",
   "execution_count": 110,
   "metadata": {
    "ExecuteTime": {
     "end_time": "2018-01-29T12:02:29.346825Z",
     "start_time": "2018-01-29T12:02:29.343933Z"
    },
    "collapsed": true
   },
   "outputs": [],
   "source": [
    "to_drop = ['test_medae', 'test_rmse', 'avg_records_per_config']\n",
    "cols = ['test_medape', 'n_config', 'daily_max_sale', 'daily_min_sale']"
   ]
  },
  {
   "cell_type": "code",
   "execution_count": 107,
   "metadata": {
    "ExecuteTime": {
     "end_time": "2018-01-29T12:00:53.212916Z",
     "start_time": "2018-01-29T12:00:53.202711Z"
    },
    "collapsed": true
   },
   "outputs": [],
   "source": [
    "low = binned_err.test_medape.quantile(.25)\n",
    "small_err_df = binned_err[binned_err.test_medape <= low]\n",
    "small_err_df = prettify(small_err_df, to_drop)"
   ]
  },
  {
   "cell_type": "code",
   "execution_count": 108,
   "metadata": {
    "ExecuteTime": {
     "end_time": "2018-01-29T12:00:57.773379Z",
     "start_time": "2018-01-29T12:00:57.754333Z"
    },
    "collapsed": true
   },
   "outputs": [
    {
     "data": {
      "text/html": [
       "<div>\n",
       "<style>\n",
       "    .dataframe thead tr:only-child th {\n",
       "        text-align: right;\n",
       "    }\n",
       "\n",
       "    .dataframe thead th {\n",
       "        text-align: left;\n",
       "    }\n",
       "\n",
       "    .dataframe tbody tr th {\n",
       "        vertical-align: top;\n",
       "    }\n",
       "</style>\n",
       "<table border=\"1\" class=\"dataframe\">\n",
       "  <thead>\n",
       "    <tr style=\"text-align: right;\">\n",
       "      <th></th>\n",
       "      <th>test_medape</th>\n",
       "      <th>n_config</th>\n",
       "      <th>daily_max_sale</th>\n",
       "      <th>daily_min_sale</th>\n",
       "    </tr>\n",
       "  </thead>\n",
       "  <tbody>\n",
       "    <tr>\n",
       "      <th>count</th>\n",
       "      <td>55.000000</td>\n",
       "      <td>55.000000</td>\n",
       "      <td>55.000000</td>\n",
       "      <td>55.000000</td>\n",
       "    </tr>\n",
       "    <tr>\n",
       "      <th>mean</th>\n",
       "      <td>0.974905</td>\n",
       "      <td>58.909091</td>\n",
       "      <td>2.527273</td>\n",
       "      <td>0.218182</td>\n",
       "    </tr>\n",
       "    <tr>\n",
       "      <th>std</th>\n",
       "      <td>0.999651</td>\n",
       "      <td>54.874697</td>\n",
       "      <td>0.959447</td>\n",
       "      <td>0.416818</td>\n",
       "    </tr>\n",
       "    <tr>\n",
       "      <th>min</th>\n",
       "      <td>0.000000</td>\n",
       "      <td>2.000000</td>\n",
       "      <td>1.000000</td>\n",
       "      <td>0.000000</td>\n",
       "    </tr>\n",
       "    <tr>\n",
       "      <th>25%</th>\n",
       "      <td>0.000000</td>\n",
       "      <td>23.500000</td>\n",
       "      <td>2.000000</td>\n",
       "      <td>0.000000</td>\n",
       "    </tr>\n",
       "    <tr>\n",
       "      <th>50%</th>\n",
       "      <td>0.882030</td>\n",
       "      <td>38.000000</td>\n",
       "      <td>3.000000</td>\n",
       "      <td>0.000000</td>\n",
       "    </tr>\n",
       "    <tr>\n",
       "      <th>75%</th>\n",
       "      <td>1.767584</td>\n",
       "      <td>70.000000</td>\n",
       "      <td>3.000000</td>\n",
       "      <td>0.000000</td>\n",
       "    </tr>\n",
       "    <tr>\n",
       "      <th>max</th>\n",
       "      <td>3.009343</td>\n",
       "      <td>239.000000</td>\n",
       "      <td>5.000000</td>\n",
       "      <td>1.000000</td>\n",
       "    </tr>\n",
       "  </tbody>\n",
       "</table>\n",
       "</div>"
      ],
      "text/plain": [
       "       test_medape    n_config  daily_max_sale  daily_min_sale\n",
       "count    55.000000   55.000000       55.000000       55.000000\n",
       "mean      0.974905   58.909091        2.527273        0.218182\n",
       "std       0.999651   54.874697        0.959447        0.416818\n",
       "min       0.000000    2.000000        1.000000        0.000000\n",
       "25%       0.000000   23.500000        2.000000        0.000000\n",
       "50%       0.882030   38.000000        3.000000        0.000000\n",
       "75%       1.767584   70.000000        3.000000        0.000000\n",
       "max       3.009343  239.000000        5.000000        1.000000"
      ]
     },
     "execution_count": 108,
     "metadata": {},
     "output_type": "execute_result"
    }
   ],
   "source": [
    "small_err_df[cols].describe()"
   ]
  },
  {
   "cell_type": "markdown",
   "metadata": {},
   "source": [
    "__Obs:__\n",
    "+ we have 55 groups with small error (all less than 4%)\n",
    "+ 25% of them (~13 groups) have perfect predictions (error = 0%)  and half of them (~26 groups) have error less than 1%"
   ]
  },
  {
   "cell_type": "code",
   "execution_count": 105,
   "metadata": {
    "ExecuteTime": {
     "end_time": "2018-01-29T11:55:03.907806Z",
     "start_time": "2018-01-29T11:55:02.826905Z"
    }
   },
   "outputs": [
    {
     "data": {
      "image/png": "[encoded data removed]",
      "text/plain": [
       "<matplotlib.figure.Figure at 0x11b95b978>"
      ]
     },
     "metadata": {},
     "output_type": "display_data"
    }
   ],
   "source": [
    "_ = small_err_df.hist(figsize=(8, 6), layout=(2, 3))\n",
    "plt.savefig(fig_dir + 'small_err.jpg')"
   ]
  },
  {
   "cell_type": "markdown",
   "metadata": {},
   "source": [
    "__Obs__: \n",
    "+ Avg daily sale of all the groups are  less than $2$ (actually the daily sales are $1$ most of the time)\n",
    "+ Most group sizes are less than $100$"
   ]
  },
  {
   "cell_type": "code",
   "execution_count": 118,
   "metadata": {
    "ExecuteTime": {
     "end_time": "2018-01-29T14:01:19.004158Z",
     "start_time": "2018-01-29T14:01:18.838592Z"
    }
   },
   "outputs": [
    {
     "data": {
      "text/plain": [
       "<matplotlib.text.Text at 0x11cd30c18>"
      ]
     },
     "execution_count": 118,
     "metadata": {},
     "output_type": "execute_result"
    },
    {
     "data": {
      "image/png": "[encoded data removed]",
      "text/plain": [
       "<matplotlib.figure.Figure at 0x11de192e8>"
      ]
     },
     "metadata": {},
     "output_type": "display_data"
    }
   ],
   "source": [
    "_ = np.log10(small_err_df.n_config).hist()\n",
    "plt.xlabel('Group size (in log base 10)'); plt.ylabel('Count')"
   ]
  },
  {
   "cell_type": "markdown",
   "metadata": {
    "heading_collapsed": true
   },
   "source": [
    "##### Groups with perfect predictions"
   ]
  },
  {
   "cell_type": "code",
   "execution_count": 87,
   "metadata": {
    "ExecuteTime": {
     "end_time": "2018-01-29T11:22:16.999750Z",
     "start_time": "2018-01-29T11:22:16.993868Z"
    },
    "collapsed": true,
    "hidden": true
   },
   "outputs": [],
   "source": [
    "perfect = small_err_df.query('test_medape == 0').copy()"
   ]
  },
  {
   "cell_type": "code",
   "execution_count": 88,
   "metadata": {
    "ExecuteTime": {
     "end_time": "2018-01-29T11:22:17.450636Z",
     "start_time": "2018-01-29T11:22:17.426827Z"
    },
    "collapsed": true,
    "hidden": true
   },
   "outputs": [
    {
     "data": {
      "text/html": [
       "<div>\n",
       "<style>\n",
       "    .dataframe thead tr:only-child th {\n",
       "        text-align: right;\n",
       "    }\n",
       "\n",
       "    .dataframe thead th {\n",
       "        text-align: left;\n",
       "    }\n",
       "\n",
       "    .dataframe tbody tr th {\n",
       "        vertical-align: top;\n",
       "    }\n",
       "</style>\n",
       "<table border=\"1\" class=\"dataframe\">\n",
       "  <thead>\n",
       "    <tr style=\"text-align: right;\">\n",
       "      <th></th>\n",
       "      <th>test_medape</th>\n",
       "      <th>n_config</th>\n",
       "      <th>daily_avg_sale</th>\n",
       "      <th>daily_max_sale</th>\n",
       "      <th>daily_median_sale</th>\n",
       "      <th>daily_min_sale</th>\n",
       "    </tr>\n",
       "  </thead>\n",
       "  <tbody>\n",
       "    <tr>\n",
       "      <th>count</th>\n",
       "      <td>15.0</td>\n",
       "      <td>15.000000</td>\n",
       "      <td>15.000000</td>\n",
       "      <td>15.000000</td>\n",
       "      <td>15.0</td>\n",
       "      <td>15.000000</td>\n",
       "    </tr>\n",
       "    <tr>\n",
       "      <th>mean</th>\n",
       "      <td>0.0</td>\n",
       "      <td>38.333333</td>\n",
       "      <td>0.991432</td>\n",
       "      <td>1.933333</td>\n",
       "      <td>1.0</td>\n",
       "      <td>0.266667</td>\n",
       "    </tr>\n",
       "    <tr>\n",
       "      <th>std</th>\n",
       "      <td>0.0</td>\n",
       "      <td>43.409457</td>\n",
       "      <td>0.044826</td>\n",
       "      <td>0.703732</td>\n",
       "      <td>0.0</td>\n",
       "      <td>0.457738</td>\n",
       "    </tr>\n",
       "    <tr>\n",
       "      <th>min</th>\n",
       "      <td>0.0</td>\n",
       "      <td>2.000000</td>\n",
       "      <td>0.888889</td>\n",
       "      <td>1.000000</td>\n",
       "      <td>1.0</td>\n",
       "      <td>0.000000</td>\n",
       "    </tr>\n",
       "    <tr>\n",
       "      <th>25%</th>\n",
       "      <td>0.0</td>\n",
       "      <td>15.000000</td>\n",
       "      <td>1.000000</td>\n",
       "      <td>1.500000</td>\n",
       "      <td>1.0</td>\n",
       "      <td>0.000000</td>\n",
       "    </tr>\n",
       "    <tr>\n",
       "      <th>50%</th>\n",
       "      <td>0.0</td>\n",
       "      <td>29.000000</td>\n",
       "      <td>1.000000</td>\n",
       "      <td>2.000000</td>\n",
       "      <td>1.0</td>\n",
       "      <td>0.000000</td>\n",
       "    </tr>\n",
       "    <tr>\n",
       "      <th>75%</th>\n",
       "      <td>0.0</td>\n",
       "      <td>38.000000</td>\n",
       "      <td>1.013158</td>\n",
       "      <td>2.000000</td>\n",
       "      <td>1.0</td>\n",
       "      <td>0.500000</td>\n",
       "    </tr>\n",
       "    <tr>\n",
       "      <th>max</th>\n",
       "      <td>0.0</td>\n",
       "      <td>177.000000</td>\n",
       "      <td>1.034483</td>\n",
       "      <td>3.000000</td>\n",
       "      <td>1.0</td>\n",
       "      <td>1.000000</td>\n",
       "    </tr>\n",
       "  </tbody>\n",
       "</table>\n",
       "</div>"
      ],
      "text/plain": [
       "       test_medape    n_config  daily_avg_sale  daily_max_sale  \\\n",
       "count         15.0   15.000000       15.000000       15.000000   \n",
       "mean           0.0   38.333333        0.991432        1.933333   \n",
       "std            0.0   43.409457        0.044826        0.703732   \n",
       "min            0.0    2.000000        0.888889        1.000000   \n",
       "25%            0.0   15.000000        1.000000        1.500000   \n",
       "50%            0.0   29.000000        1.000000        2.000000   \n",
       "75%            0.0   38.000000        1.013158        2.000000   \n",
       "max            0.0  177.000000        1.034483        3.000000   \n",
       "\n",
       "       daily_median_sale  daily_min_sale  \n",
       "count               15.0       15.000000  \n",
       "mean                 1.0        0.266667  \n",
       "std                  0.0        0.457738  \n",
       "min                  1.0        0.000000  \n",
       "25%                  1.0        0.000000  \n",
       "50%                  1.0        0.000000  \n",
       "75%                  1.0        0.500000  \n",
       "max                  1.0        1.000000  "
      ]
     },
     "execution_count": 88,
     "metadata": {},
     "output_type": "execute_result"
    }
   ],
   "source": [
    "perfect.drop(to_drop, axis='columns', inplace=True)\n",
    "perfect.describe()"
   ]
  },
  {
   "cell_type": "code",
   "execution_count": 100,
   "metadata": {
    "ExecuteTime": {
     "end_time": "2018-01-29T11:41:24.331362Z",
     "start_time": "2018-01-29T11:41:23.229292Z"
    },
    "collapsed": true,
    "hidden": true
   },
   "outputs": [
    {
     "data": {
      "image/png": "[encoded data removed]",
      "text/plain": [
       "<matplotlib.figure.Figure at 0x11dd66a90>"
      ]
     },
     "metadata": {},
     "output_type": "display_data"
    }
   ],
   "source": [
    "_ = perfect.hist(figsize=(8, 6), layout=(2, 3))\n",
    "plt.savefig(fig_dir + 'perfect.jpg')"
   ]
  },
  {
   "cell_type": "markdown",
   "metadata": {
    "hidden": true
   },
   "source": [
    "__Obs__: The perfect groups have the following characteristics:\n",
    "+ Max value of daily sales is 3 units\n",
    "+ median daily sale is 1 while avg daily sale are usually 1\n",
    "\n",
    "__Insight__: predictions are perfect for groups whose daily sales are $1$ most of the time"
   ]
  },
  {
   "cell_type": "markdown",
   "metadata": {},
   "source": [
    "## Groups with large error?"
   ]
  },
  {
   "cell_type": "code",
   "execution_count": 109,
   "metadata": {
    "ExecuteTime": {
     "end_time": "2018-01-29T12:01:37.290274Z",
     "start_time": "2018-01-29T12:01:37.280759Z"
    },
    "collapsed": true
   },
   "outputs": [],
   "source": [
    "high = binned_err.test_medape.quantile(.75)\n",
    "big_err_df = binned_err[binned_err.test_medape >= high]\n",
    "big_err_df = prettify(big_err_df, to_drop)"
   ]
  },
  {
   "cell_type": "code",
   "execution_count": 111,
   "metadata": {
    "ExecuteTime": {
     "end_time": "2018-01-29T12:02:47.074642Z",
     "start_time": "2018-01-29T12:02:47.054762Z"
    },
    "collapsed": true
   },
   "outputs": [
    {
     "data": {
      "text/html": [
       "<div>\n",
       "<style>\n",
       "    .dataframe thead tr:only-child th {\n",
       "        text-align: right;\n",
       "    }\n",
       "\n",
       "    .dataframe thead th {\n",
       "        text-align: left;\n",
       "    }\n",
       "\n",
       "    .dataframe tbody tr th {\n",
       "        vertical-align: top;\n",
       "    }\n",
       "</style>\n",
       "<table border=\"1\" class=\"dataframe\">\n",
       "  <thead>\n",
       "    <tr style=\"text-align: right;\">\n",
       "      <th></th>\n",
       "      <th>test_medape</th>\n",
       "      <th>n_config</th>\n",
       "      <th>daily_max_sale</th>\n",
       "      <th>daily_min_sale</th>\n",
       "    </tr>\n",
       "  </thead>\n",
       "  <tbody>\n",
       "    <tr>\n",
       "      <th>count</th>\n",
       "      <td>56.000000</td>\n",
       "      <td>56.000000</td>\n",
       "      <td>56.000000</td>\n",
       "      <td>56.000000</td>\n",
       "    </tr>\n",
       "    <tr>\n",
       "      <th>mean</th>\n",
       "      <td>21.404158</td>\n",
       "      <td>287.642857</td>\n",
       "      <td>7.928571</td>\n",
       "      <td>0.017857</td>\n",
       "    </tr>\n",
       "    <tr>\n",
       "      <th>std</th>\n",
       "      <td>7.791681</td>\n",
       "      <td>345.873778</td>\n",
       "      <td>4.003894</td>\n",
       "      <td>0.133631</td>\n",
       "    </tr>\n",
       "    <tr>\n",
       "      <th>min</th>\n",
       "      <td>12.783933</td>\n",
       "      <td>2.000000</td>\n",
       "      <td>1.000000</td>\n",
       "      <td>0.000000</td>\n",
       "    </tr>\n",
       "    <tr>\n",
       "      <th>25%</th>\n",
       "      <td>15.659861</td>\n",
       "      <td>62.000000</td>\n",
       "      <td>5.750000</td>\n",
       "      <td>0.000000</td>\n",
       "    </tr>\n",
       "    <tr>\n",
       "      <th>50%</th>\n",
       "      <td>18.134805</td>\n",
       "      <td>132.000000</td>\n",
       "      <td>7.000000</td>\n",
       "      <td>0.000000</td>\n",
       "    </tr>\n",
       "    <tr>\n",
       "      <th>75%</th>\n",
       "      <td>27.009676</td>\n",
       "      <td>402.250000</td>\n",
       "      <td>10.250000</td>\n",
       "      <td>0.000000</td>\n",
       "    </tr>\n",
       "    <tr>\n",
       "      <th>max</th>\n",
       "      <td>43.574094</td>\n",
       "      <td>1462.000000</td>\n",
       "      <td>18.000000</td>\n",
       "      <td>1.000000</td>\n",
       "    </tr>\n",
       "  </tbody>\n",
       "</table>\n",
       "</div>"
      ],
      "text/plain": [
       "       test_medape     n_config  daily_max_sale  daily_min_sale\n",
       "count    56.000000    56.000000       56.000000       56.000000\n",
       "mean     21.404158   287.642857        7.928571        0.017857\n",
       "std       7.791681   345.873778        4.003894        0.133631\n",
       "min      12.783933     2.000000        1.000000        0.000000\n",
       "25%      15.659861    62.000000        5.750000        0.000000\n",
       "50%      18.134805   132.000000        7.000000        0.000000\n",
       "75%      27.009676   402.250000       10.250000        0.000000\n",
       "max      43.574094  1462.000000       18.000000        1.000000"
      ]
     },
     "execution_count": 111,
     "metadata": {},
     "output_type": "execute_result"
    }
   ],
   "source": [
    "big_err_df[cols].describe()"
   ]
  },
  {
   "cell_type": "markdown",
   "metadata": {},
   "source": [
    "__Obs__: \n",
    "+ we have 56 groups with quite large error (>= 12%).\n",
    "+ half of them have errors less than 20%"
   ]
  },
  {
   "cell_type": "code",
   "execution_count": 113,
   "metadata": {
    "ExecuteTime": {
     "end_time": "2018-01-29T12:08:46.805175Z",
     "start_time": "2018-01-29T12:08:45.844054Z"
    },
    "collapsed": true
   },
   "outputs": [
    {
     "data": {
      "image/png": "[encoded data removed]",
      "text/plain": [
       "<matplotlib.figure.Figure at 0x11e57cf98>"
      ]
     },
     "metadata": {},
     "output_type": "display_data"
    }
   ],
   "source": [
    "_ = big_err_df.hist(figsize=(8, 6), layout=(2, 3))\n",
    "plt.savefig(fig_dir + 'big_err.jpg')"
   ]
  },
  {
   "cell_type": "markdown",
   "metadata": {},
   "source": [
    "__Obs__:\n",
    "+ Avg daily sales are less than 2 most of the time\n",
    "+ Group sizes can be large"
   ]
  },
  {
   "cell_type": "code",
   "execution_count": 115,
   "metadata": {
    "ExecuteTime": {
     "end_time": "2018-01-29T12:13:06.811234Z",
     "start_time": "2018-01-29T12:13:06.640540Z"
    },
    "collapsed": true
   },
   "outputs": [
    {
     "data": {
      "image/png": "[encoded data removed]",
      "text/plain": [
       "<matplotlib.figure.Figure at 0x11e1328d0>"
      ]
     },
     "metadata": {},
     "output_type": "display_data"
    }
   ],
   "source": [
    "_ = big_err_df.daily_avg_sale.hist()"
   ]
  },
  {
   "cell_type": "code",
   "execution_count": 117,
   "metadata": {
    "ExecuteTime": {
     "end_time": "2018-01-29T12:15:37.078277Z",
     "start_time": "2018-01-29T12:15:36.881336Z"
    },
    "collapsed": true
   },
   "outputs": [
    {
     "data": {
      "text/plain": [
       "<matplotlib.text.Text at 0x11ded3cc0>"
      ]
     },
     "execution_count": 117,
     "metadata": {},
     "output_type": "execute_result"
    },
    {
     "data": {
      "image/png": "[encoded data removed]",
      "text/plain": [
       "<matplotlib.figure.Figure at 0x11e1ecd30>"
      ]
     },
     "metadata": {},
     "output_type": "display_data"
    }
   ],
   "source": [
    "_ = np.log10(big_err_df.n_config).hist()\n",
    "plt.xlabel('Group size (in log base 10)'); plt.ylabel('Count')"
   ]
  },
  {
   "cell_type": "markdown",
   "metadata": {},
   "source": [
    "Most of these groups have size in range $ [10^{1.5}, 10^{2.5}] = [31. , 300.] $"
   ]
  },
  {
   "cell_type": "markdown",
   "metadata": {},
   "source": [
    "#### Small vs. large error groups"
   ]
  },
  {
   "cell_type": "code",
   "execution_count": 119,
   "metadata": {
    "ExecuteTime": {
     "end_time": "2018-01-29T14:03:32.150057Z",
     "start_time": "2018-01-29T14:03:32.143160Z"
    },
    "collapsed": true
   },
   "outputs": [
    {
     "data": {
      "text/plain": [
       "count     55.000000\n",
       "mean      58.909091\n",
       "std       54.874697\n",
       "min        2.000000\n",
       "25%       23.500000\n",
       "50%       38.000000\n",
       "75%       70.000000\n",
       "max      239.000000\n",
       "Name: n_config, dtype: float64"
      ]
     },
     "execution_count": 119,
     "metadata": {},
     "output_type": "execute_result"
    }
   ],
   "source": [
    "small_err_df.n_config.describe()"
   ]
  },
  {
   "cell_type": "code",
   "execution_count": 120,
   "metadata": {
    "ExecuteTime": {
     "end_time": "2018-01-29T14:03:39.885919Z",
     "start_time": "2018-01-29T14:03:39.879552Z"
    },
    "collapsed": true
   },
   "outputs": [
    {
     "data": {
      "text/plain": [
       "count      56.000000\n",
       "mean      287.642857\n",
       "std       345.873778\n",
       "min         2.000000\n",
       "25%        62.000000\n",
       "50%       132.000000\n",
       "75%       402.250000\n",
       "max      1462.000000\n",
       "Name: n_config, dtype: float64"
      ]
     },
     "execution_count": 120,
     "metadata": {},
     "output_type": "execute_result"
    }
   ],
   "source": [
    "big_err_df.n_config.describe()"
   ]
  },
  {
   "cell_type": "code",
   "execution_count": 121,
   "metadata": {
    "ExecuteTime": {
     "end_time": "2018-01-29T14:07:05.794603Z",
     "start_time": "2018-01-29T14:07:05.791119Z"
    },
    "collapsed": true
   },
   "outputs": [],
   "source": [
    "small_err_df['accuracy'] = 'high'; big_err_df['accuracy'] = 'low'"
   ]
  },
  {
   "cell_type": "code",
   "execution_count": 126,
   "metadata": {
    "ExecuteTime": {
     "end_time": "2018-01-29T15:25:32.214984Z",
     "start_time": "2018-01-29T15:25:32.040418Z"
    }
   },
   "outputs": [
    {
     "data": {
      "text/plain": [
       "<matplotlib.text.Text at 0x11d43e8d0>"
      ]
     },
     "execution_count": 126,
     "metadata": {},
     "output_type": "execute_result"
    },
    {
     "data": {
      "image/png": "[encoded data removed]",
      "text/plain": [
       "<matplotlib.figure.Figure at 0x11e4d50b8>"
      ]
     },
     "metadata": {},
     "output_type": "display_data"
    }
   ],
   "source": [
    "tmp = pd.concat([small_err_df, big_err_df])\n",
    "fig = sns.boxplot(x='accuracy', y='n_config', data=tmp)\n",
    "plt.xlabel('Accuracy'); plt.ylabel('# SKU configs')"
   ]
  },
  {
   "cell_type": "markdown",
   "metadata": {
    "heading_collapsed": true
   },
   "source": [
    "#### Helpers for error calculation"
   ]
  },
  {
   "cell_type": "code",
   "execution_count": 205,
   "metadata": {
    "ExecuteTime": {
     "end_time": "2018-01-29T17:37:04.515179Z",
     "start_time": "2018-01-29T17:37:04.511013Z"
    },
    "code_folding": [
     0
    ],
    "collapsed": true,
    "hidden": true
   },
   "outputs": [],
   "source": [
    "def prep_data(fname):\n",
    "    df = pd.read_csv(pred_dir + fname, parse_dates=['date'])\n",
    "    df['month'] = df.date.apply(lambda d: d.month)\n",
    "    df['day'] = df.date.apply(lambda d: d.day)\n",
    "    return df"
   ]
  },
  {
   "cell_type": "code",
   "execution_count": 206,
   "metadata": {
    "ExecuteTime": {
     "end_time": "2018-01-29T17:37:06.227654Z",
     "start_time": "2018-01-29T17:37:06.223569Z"
    },
    "code_folding": [
     0
    ],
    "collapsed": true,
    "hidden": true
   },
   "outputs": [],
   "source": [
    "def cal_ape(df):\n",
    "    comp_df = df.query('n_sold > 0').drop(['predict_lasso_regression', 'predict_ridge_regression', 'predict_random_forest', 'predict_xgboost'], axis=1)\n",
    "    comp_df['ape'] = 100 * np.abs(comp_df.predict_boosted_regression_tree - comp_df.n_sold)/comp_df.n_sold\n",
    "    return comp_df.rename(columns={'predict_boosted_regression_tree': 'prediction', 'n_sold': 'true_sale'})"
   ]
  },
  {
   "cell_type": "code",
   "execution_count": 220,
   "metadata": {
    "ExecuteTime": {
     "end_time": "2018-01-29T17:45:43.916762Z",
     "start_time": "2018-01-29T17:45:43.913104Z"
    },
    "code_folding": [],
    "collapsed": true,
    "hidden": true
   },
   "outputs": [],
   "source": [
    "def cal_medape(df):\n",
    "    tmp = df.groupby('sku_config').agg({'ape': np.median, 'day': len}).reset_index()\n",
    "    res = tmp.rename(columns={'index': 'sku_config', 'ape': 'medape', 'day': 'n_day'}).sort_values('medape')\n",
    "    return res"
   ]
  },
  {
   "cell_type": "code",
   "execution_count": 176,
   "metadata": {
    "ExecuteTime": {
     "end_time": "2018-01-29T16:53:42.391998Z",
     "start_time": "2018-01-29T16:53:42.388692Z"
    },
    "code_folding": [
     0
    ],
    "collapsed": true,
    "hidden": true
   },
   "outputs": [],
   "source": [
    "def mk_title(df):\n",
    "    cf, prod_name, brand_name = df.sku_config.iloc[0], df.product_name.iloc[0], df.brand_name.iloc[0]\n",
    "    return 'Prediction errors for SKU config: ' + cf + '\\n({0}, {1})'.format(prod_name, brand_name)"
   ]
  },
  {
   "cell_type": "code",
   "execution_count": 198,
   "metadata": {
    "ExecuteTime": {
     "end_time": "2018-01-29T17:30:11.208225Z",
     "start_time": "2018-01-29T17:30:11.204632Z"
    },
    "code_folding": [
     0
    ],
    "collapsed": true,
    "hidden": true
   },
   "outputs": [],
   "source": [
    "def viz_error_ts(data):\n",
    "    fig = plt.figure()\n",
    "    plt.plot(data.day, data.ape)\n",
    "    plt.xlabel('Day'); plt.ylabel('Absolute Percentage Error')\n",
    "    plt.title(mk_title(data))"
   ]
  },
  {
   "cell_type": "markdown",
   "metadata": {},
   "source": [
    "#### Predictions in the best groups"
   ]
  },
  {
   "cell_type": "code",
   "execution_count": 212,
   "metadata": {
    "ExecuteTime": {
     "end_time": "2018-01-29T17:38:06.711985Z",
     "start_time": "2018-01-29T17:38:06.698725Z"
    }
   },
   "outputs": [
    {
     "data": {
      "text/html": [
       "<div>\n",
       "<style>\n",
       "    .dataframe thead tr:only-child th {\n",
       "        text-align: right;\n",
       "    }\n",
       "\n",
       "    .dataframe thead th {\n",
       "        text-align: left;\n",
       "    }\n",
       "\n",
       "    .dataframe tbody tr th {\n",
       "        vertical-align: top;\n",
       "    }\n",
       "</style>\n",
       "<table border=\"1\" class=\"dataframe\">\n",
       "  <thead>\n",
       "    <tr style=\"text-align: right;\">\n",
       "      <th></th>\n",
       "      <th>model</th>\n",
       "      <th>test_medape</th>\n",
       "      <th>group</th>\n",
       "      <th>n_config</th>\n",
       "      <th>used_features</th>\n",
       "      <th>bin_n_config</th>\n",
       "      <th>daily_avg_sale</th>\n",
       "      <th>daily_max_sale</th>\n",
       "      <th>daily_median_sale</th>\n",
       "      <th>daily_min_sale</th>\n",
       "    </tr>\n",
       "  </thead>\n",
       "  <tbody>\n",
       "    <tr>\n",
       "      <th>160</th>\n",
       "      <td>Lasso Regression</td>\n",
       "      <td>0.0</td>\n",
       "      <td>sports_performance_tops_male_spring-summer_2017</td>\n",
       "      <td>29</td>\n",
       "      <td>original</td>\n",
       "      <td>(2,38]</td>\n",
       "      <td>1.026316</td>\n",
       "      <td>2.0</td>\n",
       "      <td>1.0</td>\n",
       "      <td>1.0</td>\n",
       "    </tr>\n",
       "  </tbody>\n",
       "</table>\n",
       "</div>"
      ],
      "text/plain": [
       "                model  test_medape  \\\n",
       "160  Lasso Regression          0.0   \n",
       "\n",
       "                                               group  n_config used_features  \\\n",
       "160  sports_performance_tops_male_spring-summer_2017        29      original   \n",
       "\n",
       "    bin_n_config  daily_avg_sale  daily_max_sale  daily_median_sale  \\\n",
       "160       (2,38]        1.026316             2.0                1.0   \n",
       "\n",
       "     daily_min_sale  \n",
       "160             1.0  "
      ]
     },
     "execution_count": 212,
     "metadata": {},
     "output_type": "execute_result"
    }
   ],
   "source": [
    "binned_err.head(1)"
   ]
  },
  {
   "cell_type": "code",
   "execution_count": 213,
   "metadata": {
    "ExecuteTime": {
     "end_time": "2018-01-29T17:39:44.216170Z",
     "start_time": "2018-01-29T17:39:44.209241Z"
    },
    "code_folding": [],
    "collapsed": true
   },
   "outputs": [],
   "source": [
    "# compute MEDAPE\n",
    "fname = 'sports_performance_tops_male_spring-summer_2017.csv'\n",
    "df = prep_data(fname)\n",
    "err_df = cal_ape(df)\n",
    "agg_err = cal_medape(err_df)"
   ]
  },
  {
   "cell_type": "code",
   "execution_count": 223,
   "metadata": {
    "ExecuteTime": {
     "end_time": "2018-01-29T17:47:05.142926Z",
     "start_time": "2018-01-29T17:47:05.128371Z"
    },
    "collapsed": true
   },
   "outputs": [
    {
     "data": {
      "text/html": [
       "<div>\n",
       "<style>\n",
       "    .dataframe thead tr:only-child th {\n",
       "        text-align: right;\n",
       "    }\n",
       "\n",
       "    .dataframe thead th {\n",
       "        text-align: left;\n",
       "    }\n",
       "\n",
       "    .dataframe tbody tr th {\n",
       "        vertical-align: top;\n",
       "    }\n",
       "</style>\n",
       "<table border=\"1\" class=\"dataframe\">\n",
       "  <thead>\n",
       "    <tr style=\"text-align: right;\">\n",
       "      <th></th>\n",
       "      <th>medape</th>\n",
       "      <th>n_day</th>\n",
       "    </tr>\n",
       "  </thead>\n",
       "  <tbody>\n",
       "    <tr>\n",
       "      <th>count</th>\n",
       "      <td>29.000000</td>\n",
       "      <td>29.000000</td>\n",
       "    </tr>\n",
       "    <tr>\n",
       "      <th>mean</th>\n",
       "      <td>1.724138</td>\n",
       "      <td>1.310345</td>\n",
       "    </tr>\n",
       "    <tr>\n",
       "      <th>std</th>\n",
       "      <td>9.284767</td>\n",
       "      <td>0.712313</td>\n",
       "    </tr>\n",
       "    <tr>\n",
       "      <th>min</th>\n",
       "      <td>0.000000</td>\n",
       "      <td>1.000000</td>\n",
       "    </tr>\n",
       "    <tr>\n",
       "      <th>25%</th>\n",
       "      <td>0.000000</td>\n",
       "      <td>1.000000</td>\n",
       "    </tr>\n",
       "    <tr>\n",
       "      <th>50%</th>\n",
       "      <td>0.000000</td>\n",
       "      <td>1.000000</td>\n",
       "    </tr>\n",
       "    <tr>\n",
       "      <th>75%</th>\n",
       "      <td>0.000000</td>\n",
       "      <td>1.000000</td>\n",
       "    </tr>\n",
       "    <tr>\n",
       "      <th>max</th>\n",
       "      <td>50.000000</td>\n",
       "      <td>4.000000</td>\n",
       "    </tr>\n",
       "  </tbody>\n",
       "</table>\n",
       "</div>"
      ],
      "text/plain": [
       "          medape      n_day\n",
       "count  29.000000  29.000000\n",
       "mean    1.724138   1.310345\n",
       "std     9.284767   0.712313\n",
       "min     0.000000   1.000000\n",
       "25%     0.000000   1.000000\n",
       "50%     0.000000   1.000000\n",
       "75%     0.000000   1.000000\n",
       "max    50.000000   4.000000"
      ]
     },
     "execution_count": 223,
     "metadata": {},
     "output_type": "execute_result"
    }
   ],
   "source": [
    "agg_err.describe()"
   ]
  },
  {
   "cell_type": "markdown",
   "metadata": {},
   "source": [
    "+ The top-5 (smallest MEDAPE):"
   ]
  },
  {
   "cell_type": "code",
   "execution_count": 222,
   "metadata": {
    "ExecuteTime": {
     "end_time": "2018-01-29T17:45:54.661805Z",
     "start_time": "2018-01-29T17:45:54.653022Z"
    },
    "collapsed": true
   },
   "outputs": [
    {
     "data": {
      "text/html": [
       "<div>\n",
       "<style>\n",
       "    .dataframe thead tr:only-child th {\n",
       "        text-align: right;\n",
       "    }\n",
       "\n",
       "    .dataframe thead th {\n",
       "        text-align: left;\n",
       "    }\n",
       "\n",
       "    .dataframe tbody tr th {\n",
       "        vertical-align: top;\n",
       "    }\n",
       "</style>\n",
       "<table border=\"1\" class=\"dataframe\">\n",
       "  <thead>\n",
       "    <tr style=\"text-align: right;\">\n",
       "      <th></th>\n",
       "      <th>sku_config</th>\n",
       "      <th>medape</th>\n",
       "      <th>n_day</th>\n",
       "    </tr>\n",
       "  </thead>\n",
       "  <tbody>\n",
       "    <tr>\n",
       "      <th>0</th>\n",
       "      <td>AEQHEAA0000093GS</td>\n",
       "      <td>0.0</td>\n",
       "      <td>1</td>\n",
       "    </tr>\n",
       "    <tr>\n",
       "      <th>26</th>\n",
       "      <td>UN337AA34KGFMY</td>\n",
       "      <td>0.0</td>\n",
       "      <td>4</td>\n",
       "    </tr>\n",
       "    <tr>\n",
       "      <th>25</th>\n",
       "      <td>RI364AA18EORMY</td>\n",
       "      <td>0.0</td>\n",
       "      <td>2</td>\n",
       "    </tr>\n",
       "    <tr>\n",
       "      <th>24</th>\n",
       "      <td>RE691AA91OJOMY</td>\n",
       "      <td>0.0</td>\n",
       "      <td>1</td>\n",
       "    </tr>\n",
       "    <tr>\n",
       "      <th>23</th>\n",
       "      <td>RE691AA81RECMY</td>\n",
       "      <td>0.0</td>\n",
       "      <td>1</td>\n",
       "    </tr>\n",
       "  </tbody>\n",
       "</table>\n",
       "</div>"
      ],
      "text/plain": [
       "          sku_config  medape  n_day\n",
       "0   AEQHEAA0000093GS     0.0      1\n",
       "26    UN337AA34KGFMY     0.0      4\n",
       "25    RI364AA18EORMY     0.0      2\n",
       "24    RE691AA91OJOMY     0.0      1\n",
       "23    RE691AA81RECMY     0.0      1"
      ]
     },
     "execution_count": 222,
     "metadata": {},
     "output_type": "execute_result"
    }
   ],
   "source": [
    "top5 = agg_err.head()['sku_config']\n",
    "agg_err.head()"
   ]
  },
  {
   "cell_type": "code",
   "execution_count": 224,
   "metadata": {
    "ExecuteTime": {
     "end_time": "2018-01-29T17:47:28.805486Z",
     "start_time": "2018-01-29T17:47:28.784702Z"
    },
    "collapsed": true
   },
   "outputs": [
    {
     "data": {
      "text/html": [
       "<div>\n",
       "<style>\n",
       "    .dataframe thead tr:only-child th {\n",
       "        text-align: right;\n",
       "    }\n",
       "\n",
       "    .dataframe thead th {\n",
       "        text-align: left;\n",
       "    }\n",
       "\n",
       "    .dataframe tbody tr th {\n",
       "        vertical-align: top;\n",
       "    }\n",
       "</style>\n",
       "<table border=\"1\" class=\"dataframe\">\n",
       "  <thead>\n",
       "    <tr style=\"text-align: right;\">\n",
       "      <th></th>\n",
       "      <th>sku_config</th>\n",
       "      <th>product_name</th>\n",
       "      <th>brand_name</th>\n",
       "      <th>date</th>\n",
       "      <th>color_pop</th>\n",
       "      <th>brand_pop</th>\n",
       "      <th>current_price</th>\n",
       "      <th>percent_discount_from_rrp</th>\n",
       "      <th>n_competitor</th>\n",
       "      <th>rel_price_as_ratio</th>\n",
       "      <th>is_weekend</th>\n",
       "      <th>is_workday</th>\n",
       "      <th>true_sale</th>\n",
       "      <th>prediction</th>\n",
       "      <th>month</th>\n",
       "      <th>day</th>\n",
       "      <th>ape</th>\n",
       "    </tr>\n",
       "  </thead>\n",
       "  <tbody>\n",
       "    <tr>\n",
       "      <th>9</th>\n",
       "      <td>UN337AA34KGFMY</td>\n",
       "      <td>Armour Coolswitch Short Sleeve T-Shirt</td>\n",
       "      <td>Under Armour</td>\n",
       "      <td>2017-06-11</td>\n",
       "      <td>5.111821</td>\n",
       "      <td>6048</td>\n",
       "      <td>55.2</td>\n",
       "      <td>20.0</td>\n",
       "      <td>173</td>\n",
       "      <td>0.771488</td>\n",
       "      <td>1</td>\n",
       "      <td>0</td>\n",
       "      <td>1</td>\n",
       "      <td>1.0</td>\n",
       "      <td>6</td>\n",
       "      <td>11</td>\n",
       "      <td>0.0</td>\n",
       "    </tr>\n",
       "    <tr>\n",
       "      <th>10</th>\n",
       "      <td>UN337AA34KGFMY</td>\n",
       "      <td>Armour Coolswitch Short Sleeve T-Shirt</td>\n",
       "      <td>Under Armour</td>\n",
       "      <td>2017-06-14</td>\n",
       "      <td>5.111821</td>\n",
       "      <td>5113</td>\n",
       "      <td>55.2</td>\n",
       "      <td>20.0</td>\n",
       "      <td>179</td>\n",
       "      <td>0.774761</td>\n",
       "      <td>0</td>\n",
       "      <td>1</td>\n",
       "      <td>1</td>\n",
       "      <td>1.0</td>\n",
       "      <td>6</td>\n",
       "      <td>14</td>\n",
       "      <td>0.0</td>\n",
       "    </tr>\n",
       "    <tr>\n",
       "      <th>11</th>\n",
       "      <td>UN337AA34KGFMY</td>\n",
       "      <td>Armour Coolswitch Short Sleeve T-Shirt</td>\n",
       "      <td>Under Armour</td>\n",
       "      <td>2017-06-16</td>\n",
       "      <td>5.111821</td>\n",
       "      <td>4139</td>\n",
       "      <td>55.2</td>\n",
       "      <td>20.0</td>\n",
       "      <td>262</td>\n",
       "      <td>0.002441</td>\n",
       "      <td>0</td>\n",
       "      <td>1</td>\n",
       "      <td>1</td>\n",
       "      <td>1.0</td>\n",
       "      <td>6</td>\n",
       "      <td>16</td>\n",
       "      <td>0.0</td>\n",
       "    </tr>\n",
       "    <tr>\n",
       "      <th>12</th>\n",
       "      <td>UN337AA34KGFMY</td>\n",
       "      <td>Armour Coolswitch Short Sleeve T-Shirt</td>\n",
       "      <td>Under Armour</td>\n",
       "      <td>2017-06-25</td>\n",
       "      <td>5.111821</td>\n",
       "      <td>7173</td>\n",
       "      <td>55.2</td>\n",
       "      <td>20.0</td>\n",
       "      <td>390</td>\n",
       "      <td>0.000704</td>\n",
       "      <td>1</td>\n",
       "      <td>0</td>\n",
       "      <td>1</td>\n",
       "      <td>1.0</td>\n",
       "      <td>6</td>\n",
       "      <td>25</td>\n",
       "      <td>0.0</td>\n",
       "    </tr>\n",
       "  </tbody>\n",
       "</table>\n",
       "</div>"
      ],
      "text/plain": [
       "        sku_config                            product_name    brand_name  \\\n",
       "9   UN337AA34KGFMY  Armour Coolswitch Short Sleeve T-Shirt  Under Armour   \n",
       "10  UN337AA34KGFMY  Armour Coolswitch Short Sleeve T-Shirt  Under Armour   \n",
       "11  UN337AA34KGFMY  Armour Coolswitch Short Sleeve T-Shirt  Under Armour   \n",
       "12  UN337AA34KGFMY  Armour Coolswitch Short Sleeve T-Shirt  Under Armour   \n",
       "\n",
       "         date  color_pop  brand_pop  current_price  percent_discount_from_rrp  \\\n",
       "9  2017-06-11   5.111821       6048           55.2                       20.0   \n",
       "10 2017-06-14   5.111821       5113           55.2                       20.0   \n",
       "11 2017-06-16   5.111821       4139           55.2                       20.0   \n",
       "12 2017-06-25   5.111821       7173           55.2                       20.0   \n",
       "\n",
       "    n_competitor  rel_price_as_ratio  is_weekend  is_workday  true_sale  \\\n",
       "9            173            0.771488           1           0          1   \n",
       "10           179            0.774761           0           1          1   \n",
       "11           262            0.002441           0           1          1   \n",
       "12           390            0.000704           1           0          1   \n",
       "\n",
       "    prediction  month  day  ape  \n",
       "9          1.0      6   11  0.0  \n",
       "10         1.0      6   14  0.0  \n",
       "11         1.0      6   16  0.0  \n",
       "12         1.0      6   25  0.0  "
      ]
     },
     "execution_count": 224,
     "metadata": {},
     "output_type": "execute_result"
    }
   ],
   "source": [
    "sub_df = err_df.query('sku_config == \"UN337AA34KGFMY\"')\n",
    "sub_df"
   ]
  },
  {
   "cell_type": "code",
   "execution_count": 225,
   "metadata": {
    "ExecuteTime": {
     "end_time": "2018-01-29T17:47:31.311995Z",
     "start_time": "2018-01-29T17:47:31.144631Z"
    },
    "collapsed": true
   },
   "outputs": [
    {
     "data": {
      "image/png": "[encoded data removed]",
      "text/plain": [
       "<matplotlib.figure.Figure at 0x11ddcf080>"
      ]
     },
     "metadata": {},
     "output_type": "display_data"
    }
   ],
   "source": [
    "viz_error_ts(data=sub_df)"
   ]
  },
  {
   "cell_type": "markdown",
   "metadata": {},
   "source": [
    "#### Predictions in the worst group"
   ]
  },
  {
   "cell_type": "code",
   "execution_count": 131,
   "metadata": {
    "ExecuteTime": {
     "end_time": "2018-01-29T15:34:39.019154Z",
     "start_time": "2018-01-29T15:34:39.005827Z"
    }
   },
   "outputs": [
    {
     "data": {
      "text/html": [
       "<div>\n",
       "<style>\n",
       "    .dataframe thead tr:only-child th {\n",
       "        text-align: right;\n",
       "    }\n",
       "\n",
       "    .dataframe thead th {\n",
       "        text-align: left;\n",
       "    }\n",
       "\n",
       "    .dataframe tbody tr th {\n",
       "        vertical-align: top;\n",
       "    }\n",
       "</style>\n",
       "<table border=\"1\" class=\"dataframe\">\n",
       "  <thead>\n",
       "    <tr style=\"text-align: right;\">\n",
       "      <th></th>\n",
       "      <th>model</th>\n",
       "      <th>test_medape</th>\n",
       "      <th>group</th>\n",
       "      <th>n_config</th>\n",
       "      <th>used_features</th>\n",
       "      <th>bin_n_config</th>\n",
       "      <th>daily_avg_sale</th>\n",
       "      <th>daily_max_sale</th>\n",
       "      <th>daily_median_sale</th>\n",
       "      <th>daily_min_sale</th>\n",
       "    </tr>\n",
       "  </thead>\n",
       "  <tbody>\n",
       "    <tr>\n",
       "      <th>200</th>\n",
       "      <td>Boosted Regression Tree</td>\n",
       "      <td>43.574094</td>\n",
       "      <td>traditional_tops_male_spring-summer_2017</td>\n",
       "      <td>40</td>\n",
       "      <td>original</td>\n",
       "      <td>(38,69]</td>\n",
       "      <td>2.678363</td>\n",
       "      <td>13.0</td>\n",
       "      <td>2.0</td>\n",
       "      <td>0.0</td>\n",
       "    </tr>\n",
       "  </tbody>\n",
       "</table>\n",
       "</div>"
      ],
      "text/plain": [
       "                       model  test_medape  \\\n",
       "200  Boosted Regression Tree    43.574094   \n",
       "\n",
       "                                        group  n_config used_features  \\\n",
       "200  traditional_tops_male_spring-summer_2017        40      original   \n",
       "\n",
       "    bin_n_config  daily_avg_sale  daily_max_sale  daily_median_sale  \\\n",
       "200      (38,69]        2.678363            13.0                2.0   \n",
       "\n",
       "     daily_min_sale  \n",
       "200             0.0  "
      ]
     },
     "execution_count": 131,
     "metadata": {},
     "output_type": "execute_result"
    }
   ],
   "source": [
    "binned_err.tail(1)"
   ]
  },
  {
   "cell_type": "code",
   "execution_count": 227,
   "metadata": {
    "ExecuteTime": {
     "end_time": "2018-01-29T17:52:15.417103Z",
     "start_time": "2018-01-29T17:52:15.398145Z"
    },
    "collapsed": true
   },
   "outputs": [],
   "source": [
    "fname = 'traditional_tops_male_spring-summer_2017.csv'\n",
    "df = prep_data(fname)\n",
    "err_df = cal_ape(df)\n",
    "agg_err = cal_medape(err_df)"
   ]
  },
  {
   "cell_type": "code",
   "execution_count": 228,
   "metadata": {
    "ExecuteTime": {
     "end_time": "2018-01-29T17:52:24.672568Z",
     "start_time": "2018-01-29T17:52:24.659457Z"
    },
    "collapsed": true
   },
   "outputs": [
    {
     "data": {
      "text/html": [
       "<div>\n",
       "<style>\n",
       "    .dataframe thead tr:only-child th {\n",
       "        text-align: right;\n",
       "    }\n",
       "\n",
       "    .dataframe thead th {\n",
       "        text-align: left;\n",
       "    }\n",
       "\n",
       "    .dataframe tbody tr th {\n",
       "        vertical-align: top;\n",
       "    }\n",
       "</style>\n",
       "<table border=\"1\" class=\"dataframe\">\n",
       "  <thead>\n",
       "    <tr style=\"text-align: right;\">\n",
       "      <th></th>\n",
       "      <th>medape</th>\n",
       "      <th>n_day</th>\n",
       "    </tr>\n",
       "  </thead>\n",
       "  <tbody>\n",
       "    <tr>\n",
       "      <th>count</th>\n",
       "      <td>40.000000</td>\n",
       "      <td>40.000000</td>\n",
       "    </tr>\n",
       "    <tr>\n",
       "      <th>mean</th>\n",
       "      <td>50.651096</td>\n",
       "      <td>8.425000</td>\n",
       "    </tr>\n",
       "    <tr>\n",
       "      <th>std</th>\n",
       "      <td>30.861995</td>\n",
       "      <td>5.619962</td>\n",
       "    </tr>\n",
       "    <tr>\n",
       "      <th>min</th>\n",
       "      <td>12.553288</td>\n",
       "      <td>1.000000</td>\n",
       "    </tr>\n",
       "    <tr>\n",
       "      <th>25%</th>\n",
       "      <td>34.475771</td>\n",
       "      <td>4.000000</td>\n",
       "    </tr>\n",
       "    <tr>\n",
       "      <th>50%</th>\n",
       "      <td>41.124819</td>\n",
       "      <td>7.500000</td>\n",
       "    </tr>\n",
       "    <tr>\n",
       "      <th>75%</th>\n",
       "      <td>51.036724</td>\n",
       "      <td>13.000000</td>\n",
       "    </tr>\n",
       "    <tr>\n",
       "      <th>max</th>\n",
       "      <td>133.487851</td>\n",
       "      <td>19.000000</td>\n",
       "    </tr>\n",
       "  </tbody>\n",
       "</table>\n",
       "</div>"
      ],
      "text/plain": [
       "           medape      n_day\n",
       "count   40.000000  40.000000\n",
       "mean    50.651096   8.425000\n",
       "std     30.861995   5.619962\n",
       "min     12.553288   1.000000\n",
       "25%     34.475771   4.000000\n",
       "50%     41.124819   7.500000\n",
       "75%     51.036724  13.000000\n",
       "max    133.487851  19.000000"
      ]
     },
     "execution_count": 228,
     "metadata": {},
     "output_type": "execute_result"
    }
   ],
   "source": [
    "agg_err.describe()"
   ]
  },
  {
   "cell_type": "markdown",
   "metadata": {},
   "source": [
    "+ The top-5 (smallest MEDAPE):"
   ]
  },
  {
   "cell_type": "code",
   "execution_count": 229,
   "metadata": {
    "ExecuteTime": {
     "end_time": "2018-01-29T17:52:50.221557Z",
     "start_time": "2018-01-29T17:52:50.045735Z"
    },
    "collapsed": true
   },
   "outputs": [
    {
     "data": {
      "text/html": [
       "<div>\n",
       "<style>\n",
       "    .dataframe thead tr:only-child th {\n",
       "        text-align: right;\n",
       "    }\n",
       "\n",
       "    .dataframe thead th {\n",
       "        text-align: left;\n",
       "    }\n",
       "\n",
       "    .dataframe tbody tr th {\n",
       "        vertical-align: top;\n",
       "    }\n",
       "</style>\n",
       "<table border=\"1\" class=\"dataframe\">\n",
       "  <thead>\n",
       "    <tr style=\"text-align: right;\">\n",
       "      <th></th>\n",
       "      <th>sku_config</th>\n",
       "      <th>medape</th>\n",
       "      <th>n_day</th>\n",
       "    </tr>\n",
       "  </thead>\n",
       "  <tbody>\n",
       "    <tr>\n",
       "      <th>31</th>\n",
       "      <td>RI909AA54XIVMY</td>\n",
       "      <td>12.553288</td>\n",
       "      <td>4</td>\n",
       "    </tr>\n",
       "    <tr>\n",
       "      <th>28</th>\n",
       "      <td>RI909AA50XIZMY</td>\n",
       "      <td>18.427374</td>\n",
       "      <td>1</td>\n",
       "    </tr>\n",
       "    <tr>\n",
       "      <th>27</th>\n",
       "      <td>RI909AA49XJAMY</td>\n",
       "      <td>18.427374</td>\n",
       "      <td>3</td>\n",
       "    </tr>\n",
       "    <tr>\n",
       "      <th>26</th>\n",
       "      <td>GE222AA92HDBMY</td>\n",
       "      <td>22.726713</td>\n",
       "      <td>1</td>\n",
       "    </tr>\n",
       "    <tr>\n",
       "      <th>39</th>\n",
       "      <td>UM594AA99IPGMY</td>\n",
       "      <td>25.400424</td>\n",
       "      <td>4</td>\n",
       "    </tr>\n",
       "  </tbody>\n",
       "</table>\n",
       "</div>"
      ],
      "text/plain": [
       "        sku_config     medape  n_day\n",
       "31  RI909AA54XIVMY  12.553288      4\n",
       "28  RI909AA50XIZMY  18.427374      1\n",
       "27  RI909AA49XJAMY  18.427374      3\n",
       "26  GE222AA92HDBMY  22.726713      1\n",
       "39  UM594AA99IPGMY  25.400424      4"
      ]
     },
     "execution_count": 229,
     "metadata": {},
     "output_type": "execute_result"
    }
   ],
   "source": [
    "top5 = agg_err.head()['sku_config']\n",
    "agg_err.head()"
   ]
  },
  {
   "cell_type": "code",
   "execution_count": 231,
   "metadata": {
    "ExecuteTime": {
     "end_time": "2018-01-29T17:54:10.790799Z",
     "start_time": "2018-01-29T17:54:10.630072Z"
    }
   },
   "outputs": [
    {
     "data": {
      "image/png": "[encoded data removed]",
      "text/plain": [
       "<matplotlib.figure.Figure at 0x11f1d2b38>"
      ]
     },
     "metadata": {},
     "output_type": "display_data"
    }
   ],
   "source": [
    "sub_df = err_df.query('sku_config == \"RI909AA54XIVMY\"')\n",
    "viz_error_ts(sub_df)"
   ]
  },
  {
   "cell_type": "markdown",
   "metadata": {},
   "source": [
    "+ The bottom-5 (largest MEDAPE):"
   ]
  },
  {
   "cell_type": "code",
   "execution_count": 230,
   "metadata": {
    "ExecuteTime": {
     "end_time": "2018-01-29T17:53:02.322963Z",
     "start_time": "2018-01-29T17:53:02.315294Z"
    },
    "scrolled": true
   },
   "outputs": [
    {
     "data": {
      "text/html": [
       "<div>\n",
       "<style>\n",
       "    .dataframe thead tr:only-child th {\n",
       "        text-align: right;\n",
       "    }\n",
       "\n",
       "    .dataframe thead th {\n",
       "        text-align: left;\n",
       "    }\n",
       "\n",
       "    .dataframe tbody tr th {\n",
       "        vertical-align: top;\n",
       "    }\n",
       "</style>\n",
       "<table border=\"1\" class=\"dataframe\">\n",
       "  <thead>\n",
       "    <tr style=\"text-align: right;\">\n",
       "      <th></th>\n",
       "      <th>sku_config</th>\n",
       "      <th>medape</th>\n",
       "      <th>n_day</th>\n",
       "    </tr>\n",
       "  </thead>\n",
       "  <tbody>\n",
       "    <tr>\n",
       "      <th>12</th>\n",
       "      <td>91023AAEC86D85GS</td>\n",
       "      <td>104.831359</td>\n",
       "      <td>13</td>\n",
       "    </tr>\n",
       "    <tr>\n",
       "      <th>16</th>\n",
       "      <td>AQ371AA50QKNMY</td>\n",
       "      <td>122.667422</td>\n",
       "      <td>1</td>\n",
       "    </tr>\n",
       "    <tr>\n",
       "      <th>35</th>\n",
       "      <td>UM594AA03IPCMY</td>\n",
       "      <td>122.667422</td>\n",
       "      <td>1</td>\n",
       "    </tr>\n",
       "    <tr>\n",
       "      <th>22</th>\n",
       "      <td>D4DAEAA60A06A8GS</td>\n",
       "      <td>131.225398</td>\n",
       "      <td>4</td>\n",
       "    </tr>\n",
       "    <tr>\n",
       "      <th>19</th>\n",
       "      <td>BDADFAA92E1B28GS</td>\n",
       "      <td>133.487851</td>\n",
       "      <td>11</td>\n",
       "    </tr>\n",
       "  </tbody>\n",
       "</table>\n",
       "</div>"
      ],
      "text/plain": [
       "          sku_config      medape  n_day\n",
       "12  91023AAEC86D85GS  104.831359     13\n",
       "16    AQ371AA50QKNMY  122.667422      1\n",
       "35    UM594AA03IPCMY  122.667422      1\n",
       "22  D4DAEAA60A06A8GS  131.225398      4\n",
       "19  BDADFAA92E1B28GS  133.487851     11"
      ]
     },
     "execution_count": 230,
     "metadata": {},
     "output_type": "execute_result"
    }
   ],
   "source": [
    "agg_err.tail()"
   ]
  },
  {
   "cell_type": "code",
   "execution_count": 232,
   "metadata": {
    "ExecuteTime": {
     "end_time": "2018-01-29T17:55:21.307668Z",
     "start_time": "2018-01-29T17:55:21.133337Z"
    }
   },
   "outputs": [
    {
     "data": {
      "image/png": "[encoded data removed]",
      "text/plain": [
       "<matplotlib.figure.Figure at 0x11f2e87b8>"
      ]
     },
     "metadata": {},
     "output_type": "display_data"
    }
   ],
   "source": [
    "sub_df = err_df.query('sku_config == \"91023AAEC86D85GS\"')\n",
    "viz_error_ts(sub_df)"
   ]
  },
  {
   "cell_type": "code",
   "execution_count": null,
   "metadata": {
    "collapsed": true
   },
   "outputs": [],
   "source": []
  },
  {
   "cell_type": "code",
   "execution_count": 174,
   "metadata": {
    "ExecuteTime": {
     "end_time": "2018-01-29T16:50:17.553421Z",
     "start_time": "2018-01-29T16:50:17.335611Z"
    }
   },
   "outputs": [
    {
     "data": {
      "text/plain": [
       "<matplotlib.text.Text at 0x11e878160>"
      ]
     },
     "execution_count": 174,
     "metadata": {},
     "output_type": "execute_result"
    },
    {
     "data": {
      "image/png": "[encoded data removed]",
      "text/plain": [
       "<matplotlib.figure.Figure at 0x11e9071d0>"
      ]
     },
     "metadata": {},
     "output_type": "display_data"
    }
   ],
   "source": [
    "fig = plt.figure()\n",
    "plt.plot(sub_df.day, sub_df.true_sale, 'b-')\n",
    "plt.plot(sub_df.day, sub_df.prediction, 'r--')\n",
    "plt.legend(['true sale', 'prediction'])\n",
    "plt.xlabel('Day'); plt.ylabel('Sale')\n",
    "plt.title(mk_title(sub_df))"
   ]
  },
  {
   "cell_type": "code",
   "execution_count": null,
   "metadata": {
    "collapsed": true
   },
   "outputs": [],
   "source": []
  },
  {
   "cell_type": "markdown",
   "metadata": {},
   "source": [
    "##### Predictions over time"
   ]
  },
  {
   "cell_type": "code",
   "execution_count": 134,
   "metadata": {
    "ExecuteTime": {
     "end_time": "2018-01-29T16:03:14.430082Z",
     "start_time": "2018-01-29T16:03:14.427391Z"
    },
    "collapsed": true
   },
   "outputs": [],
   "source": [
    "boost_cols = ['predict_boosted_regression_tree', 'predict_xgboost']\n",
    "cols = ['n_sold'] + boost_cols"
   ]
  },
  {
   "cell_type": "code",
   "execution_count": 142,
   "metadata": {
    "ExecuteTime": {
     "end_time": "2018-01-29T16:11:47.106533Z",
     "start_time": "2018-01-29T16:11:47.097265Z"
    }
   },
   "outputs": [
    {
     "data": {
      "text/plain": [
       "6    342\n",
       "Name: month, dtype: int64"
      ]
     },
     "execution_count": 142,
     "metadata": {},
     "output_type": "execute_result"
    }
   ],
   "source": [
    "df['month'].value_counts()"
   ]
  },
  {
   "cell_type": "code",
   "execution_count": 145,
   "metadata": {
    "ExecuteTime": {
     "end_time": "2018-01-29T16:21:03.788832Z",
     "start_time": "2018-01-29T16:21:03.781663Z"
    },
    "collapsed": true
   },
   "outputs": [
    {
     "data": {
      "text/plain": [
       "18    29\n",
       "20    28\n",
       "17    27\n",
       "19    24\n",
       "14    23\n",
       "21    21\n",
       "15    19\n",
       "16    19\n",
       "11    18\n",
       "13    18\n",
       "12    17\n",
       "22    14\n",
       "10    14\n",
       "7     10\n",
       "9     10\n",
       "26    10\n",
       "6      9\n",
       "23     7\n",
       "8      7\n",
       "5      5\n",
       "4      5\n",
       "25     4\n",
       "24     4\n",
       "Name: day, dtype: int64"
      ]
     },
     "execution_count": 145,
     "metadata": {},
     "output_type": "execute_result"
    }
   ],
   "source": [
    "df['day'] = df.date.apply(lambda d: d.day)\n",
    "df.day.value_counts()"
   ]
  },
  {
   "cell_type": "code",
   "execution_count": null,
   "metadata": {
    "collapsed": true
   },
   "outputs": [],
   "source": []
  },
  {
   "cell_type": "markdown",
   "metadata": {
    "heading_collapsed": true
   },
   "source": [
    "#### Groups with large variance in error"
   ]
  },
  {
   "cell_type": "code",
   "execution_count": 61,
   "metadata": {
    "ExecuteTime": {
     "end_time": "2018-01-29T10:45:05.876272Z",
     "start_time": "2018-01-29T10:45:05.869413Z"
    },
    "collapsed": true,
    "hidden": true
   },
   "outputs": [],
   "source": [
    "# groups with size >= 70\n",
    "sub_df = binned_err.query('n_config >= 70').copy()\n",
    "sub_df.bin_n_config = sub_df.bin_n_config.cat.remove_unused_categories()"
   ]
  },
  {
   "cell_type": "code",
   "execution_count": 62,
   "metadata": {
    "ExecuteTime": {
     "end_time": "2018-01-29T10:45:06.861033Z",
     "start_time": "2018-01-29T10:45:06.855168Z"
    },
    "collapsed": true,
    "hidden": true
   },
   "outputs": [],
   "source": [
    "sub_df = cut_to_bins('n_config', sub_df)"
   ]
  },
  {
   "cell_type": "code",
   "execution_count": 63,
   "metadata": {
    "ExecuteTime": {
     "end_time": "2018-01-29T10:46:00.089699Z",
     "start_time": "2018-01-29T10:45:59.709168Z"
    },
    "code_folding": [],
    "collapsed": true,
    "hidden": true
   },
   "outputs": [
    {
     "data": {
      "image/png": "[encoded data removed]",
      "text/plain": [
       "<matplotlib.figure.Figure at 0x11c30db70>"
      ]
     },
     "metadata": {},
     "output_type": "display_data"
    }
   ],
   "source": [
    "p2 = my_plot(df=sub_df, factor='used_features', title='Accuracy of groups with at least 70 configs')"
   ]
  },
  {
   "cell_type": "markdown",
   "metadata": {
    "hidden": true
   },
   "source": [
    "__Obs:__ large variance, groups with size in (102, 162] and (292, 1462]"
   ]
  },
  {
   "cell_type": "markdown",
   "metadata": {},
   "source": [
    "## Accuracy vs. average number of records per config"
   ]
  },
  {
   "cell_type": "code",
   "execution_count": 26,
   "metadata": {
    "ExecuteTime": {
     "end_time": "2018-03-20T15:02:38.356784Z",
     "start_time": "2018-03-20T15:02:38.350090Z"
    },
    "collapsed": true
   },
   "outputs": [],
   "source": [
    "# bin no. of records\n",
    "best_err = cut_to_bins(col='avg_records_per_config', df=best_err)"
   ]
  },
  {
   "cell_type": "code",
   "execution_count": 54,
   "metadata": {
    "ExecuteTime": {
     "end_time": "2018-03-21T14:20:36.833523Z",
     "start_time": "2018-03-21T14:20:36.285100Z"
    },
    "collapsed": true
   },
   "outputs": [
    {
     "data": {
      "image/png": "[encoded data removed]",
      "text/plain": [
       "<matplotlib.figure.Figure at 0x10351f198>"
      ]
     },
     "metadata": {},
     "output_type": "display_data"
    }
   ],
   "source": [
    "sns.boxplot(x='bin_avg_records_per_config', y='test_medape', data=best_err, hue='used_features')\n",
    "plt.xlabel('Avg. number of records per config'); plt.ylabel('MEDian Absolute Percentage Error (MEDAPE)')\n",
    "plt.savefig(fig_dir + 'acc_n_records.jpg')"
   ]
  },
  {
   "cell_type": "markdown",
   "metadata": {},
   "source": [
    "## Accuracy vs. data amount"
   ]
  },
  {
   "cell_type": "code",
   "execution_count": 46,
   "metadata": {
    "ExecuteTime": {
     "end_time": "2018-03-20T15:36:08.336414Z",
     "start_time": "2018-03-20T15:36:08.328342Z"
    },
    "collapsed": true
   },
   "outputs": [
    {
     "data": {
      "text/html": [
       "<div>\n",
       "<style>\n",
       "    .dataframe thead tr:only-child th {\n",
       "        text-align: right;\n",
       "    }\n",
       "\n",
       "    .dataframe thead th {\n",
       "        text-align: left;\n",
       "    }\n",
       "\n",
       "    .dataframe tbody tr th {\n",
       "        vertical-align: top;\n",
       "    }\n",
       "</style>\n",
       "<table border=\"1\" class=\"dataframe\">\n",
       "  <thead>\n",
       "    <tr style=\"text-align: right;\">\n",
       "      <th></th>\n",
       "      <th>group</th>\n",
       "      <th>n_record</th>\n",
       "    </tr>\n",
       "  </thead>\n",
       "  <tbody>\n",
       "    <tr>\n",
       "      <th>0</th>\n",
       "      <td>boots_male_spring-summer_2017</td>\n",
       "      <td>113</td>\n",
       "    </tr>\n",
       "    <tr>\n",
       "      <th>1</th>\n",
       "      <td>bra_female_autumn-winter_2017</td>\n",
       "      <td>97</td>\n",
       "    </tr>\n",
       "    <tr>\n",
       "      <th>2</th>\n",
       "      <td>briefs_male_spring-summer_2017</td>\n",
       "      <td>76</td>\n",
       "    </tr>\n",
       "    <tr>\n",
       "      <th>3</th>\n",
       "      <td>dresses_female_summer_2017</td>\n",
       "      <td>272</td>\n",
       "    </tr>\n",
       "    <tr>\n",
       "      <th>4</th>\n",
       "      <td>eyewear_female_spring-summer_2017</td>\n",
       "      <td>242</td>\n",
       "    </tr>\n",
       "  </tbody>\n",
       "</table>\n",
       "</div>"
      ],
      "text/plain": [
       "                               group  n_record\n",
       "0      boots_male_spring-summer_2017       113\n",
       "1      bra_female_autumn-winter_2017        97\n",
       "2     briefs_male_spring-summer_2017        76\n",
       "3         dresses_female_summer_2017       272\n",
       "4  eyewear_female_spring-summer_2017       242"
      ]
     },
     "execution_count": 46,
     "metadata": {},
     "output_type": "execute_result"
    }
   ],
   "source": [
    "res['group'] = res['group'].apply(lambda s: s + '_2017')\n",
    "res.head()"
   ]
  },
  {
   "cell_type": "code",
   "execution_count": 45,
   "metadata": {
    "ExecuteTime": {
     "end_time": "2018-03-20T15:34:51.036400Z",
     "start_time": "2018-03-20T15:34:51.022532Z"
    },
    "collapsed": true
   },
   "outputs": [
    {
     "data": {
      "text/html": [
       "<div>\n",
       "<style>\n",
       "    .dataframe thead tr:only-child th {\n",
       "        text-align: right;\n",
       "    }\n",
       "\n",
       "    .dataframe thead th {\n",
       "        text-align: left;\n",
       "    }\n",
       "\n",
       "    .dataframe tbody tr th {\n",
       "        vertical-align: top;\n",
       "    }\n",
       "</style>\n",
       "<table border=\"1\" class=\"dataframe\">\n",
       "  <thead>\n",
       "    <tr style=\"text-align: right;\">\n",
       "      <th></th>\n",
       "      <th>model</th>\n",
       "      <th>test_medae</th>\n",
       "      <th>test_medape</th>\n",
       "      <th>test_rmse</th>\n",
       "      <th>group</th>\n",
       "      <th>n_config</th>\n",
       "      <th>avg_records_per_config</th>\n",
       "      <th>used_features</th>\n",
       "      <th>bin_avg_records_per_config</th>\n",
       "    </tr>\n",
       "  </thead>\n",
       "  <tbody>\n",
       "    <tr>\n",
       "      <th>0</th>\n",
       "      <td>XGBoost</td>\n",
       "      <td>0.094019</td>\n",
       "      <td>9.401941</td>\n",
       "      <td>0.506849</td>\n",
       "      <td>backpacks_female_autumn-winter_2017</td>\n",
       "      <td>83</td>\n",
       "      <td>8.0</td>\n",
       "      <td>original</td>\n",
       "      <td>(6,8]</td>\n",
       "    </tr>\n",
       "    <tr>\n",
       "      <th>1</th>\n",
       "      <td>Lasso Regression</td>\n",
       "      <td>0.052501</td>\n",
       "      <td>5.250063</td>\n",
       "      <td>0.562626</td>\n",
       "      <td>backpacks_female_spring-summer_2017</td>\n",
       "      <td>119</td>\n",
       "      <td>4.0</td>\n",
       "      <td>original</td>\n",
       "      <td>(3,6]</td>\n",
       "    </tr>\n",
       "    <tr>\n",
       "      <th>2</th>\n",
       "      <td>Lasso Regression</td>\n",
       "      <td>0.049171</td>\n",
       "      <td>4.917127</td>\n",
       "      <td>0.406383</td>\n",
       "      <td>backpacks_male_spring-summer_2017</td>\n",
       "      <td>93</td>\n",
       "      <td>4.0</td>\n",
       "      <td>original</td>\n",
       "      <td>(3,6]</td>\n",
       "    </tr>\n",
       "    <tr>\n",
       "      <th>3</th>\n",
       "      <td>XGBoost</td>\n",
       "      <td>0.081979</td>\n",
       "      <td>8.197868</td>\n",
       "      <td>0.537938</td>\n",
       "      <td>backpacks_unisex_spring-summer_2017</td>\n",
       "      <td>65</td>\n",
       "      <td>5.0</td>\n",
       "      <td>original</td>\n",
       "      <td>(3,6]</td>\n",
       "    </tr>\n",
       "    <tr>\n",
       "      <th>4</th>\n",
       "      <td>XGBoost</td>\n",
       "      <td>0.354821</td>\n",
       "      <td>29.676625</td>\n",
       "      <td>0.826414</td>\n",
       "      <td>ballerina_&amp;_flats_female_spring-summer_2017</td>\n",
       "      <td>400</td>\n",
       "      <td>14.0</td>\n",
       "      <td>original</td>\n",
       "      <td>(8,20]</td>\n",
       "    </tr>\n",
       "  </tbody>\n",
       "</table>\n",
       "</div>"
      ],
      "text/plain": [
       "              model  test_medae  test_medape  test_rmse  \\\n",
       "0           XGBoost    0.094019     9.401941   0.506849   \n",
       "1  Lasso Regression    0.052501     5.250063   0.562626   \n",
       "2  Lasso Regression    0.049171     4.917127   0.406383   \n",
       "3           XGBoost    0.081979     8.197868   0.537938   \n",
       "4           XGBoost    0.354821    29.676625   0.826414   \n",
       "\n",
       "                                         group  n_config  \\\n",
       "0          backpacks_female_autumn-winter_2017        83   \n",
       "1          backpacks_female_spring-summer_2017       119   \n",
       "2            backpacks_male_spring-summer_2017        93   \n",
       "3          backpacks_unisex_spring-summer_2017        65   \n",
       "4  ballerina_&_flats_female_spring-summer_2017       400   \n",
       "\n",
       "   avg_records_per_config used_features bin_avg_records_per_config  \n",
       "0                     8.0      original                      (6,8]  \n",
       "1                     4.0      original                      (3,6]  \n",
       "2                     4.0      original                      (3,6]  \n",
       "3                     5.0      original                      (3,6]  \n",
       "4                    14.0      original                     (8,20]  "
      ]
     },
     "execution_count": 45,
     "metadata": {},
     "output_type": "execute_result"
    }
   ],
   "source": [
    "best_err.head()"
   ]
  },
  {
   "cell_type": "code",
   "execution_count": 47,
   "metadata": {
    "ExecuteTime": {
     "end_time": "2018-03-20T15:37:23.407602Z",
     "start_time": "2018-03-20T15:37:23.396506Z"
    }
   },
   "outputs": [
    {
     "data": {
      "text/plain": [
       "(206, 10)"
      ]
     },
     "execution_count": 47,
     "metadata": {},
     "output_type": "execute_result"
    }
   ],
   "source": [
    "df = pd.merge(best_err, res)\n",
    "df.shape"
   ]
  },
  {
   "cell_type": "code",
   "execution_count": 49,
   "metadata": {
    "ExecuteTime": {
     "end_time": "2018-03-20T15:38:36.972021Z",
     "start_time": "2018-03-20T15:38:36.965693Z"
    },
    "collapsed": true
   },
   "outputs": [],
   "source": [
    "df = cut_to_bins(col='n_record', df=df)"
   ]
  },
  {
   "cell_type": "code",
   "execution_count": 55,
   "metadata": {
    "ExecuteTime": {
     "end_time": "2018-03-21T14:21:18.251506Z",
     "start_time": "2018-03-21T14:21:17.695363Z"
    }
   },
   "outputs": [
    {
     "data": {
      "image/png": "[encoded data removed]",
      "text/plain": [
       "<matplotlib.figure.Figure at 0x112f323c8>"
      ]
     },
     "metadata": {},
     "output_type": "display_data"
    }
   ],
   "source": [
    "sns.boxplot(x='bin_n_record', y='test_medape', data=df, hue='used_features')\n",
    "plt.xlabel('# records in group'); plt.ylabel('Test MEDAPE')\n",
    "plt.savefig(fig_dir + 'acc_data_size.jpg')"
   ]
  },
  {
   "cell_type": "markdown",
   "metadata": {
    "collapsed": true
   },
   "source": [
    "# Feature importance\n",
    "\n",
    "For each group, we want to know which features are important. This can be done if the best DP model for the group is a tree-based model."
   ]
  },
  {
   "cell_type": "code",
   "execution_count": 13,
   "metadata": {
    "ExecuteTime": {
     "end_time": "2018-02-02T11:25:55.834099Z",
     "start_time": "2018-02-02T11:25:55.825035Z"
    }
   },
   "outputs": [
    {
     "name": "stdout",
     "output_type": "stream",
     "text": [
      "<class 'pandas.core.frame.DataFrame'>\n",
      "RangeIndex: 536 entries, 0 to 535\n",
      "Data columns (total 3 columns):\n",
      "feature             536 non-null object\n",
      "group               536 non-null object\n",
      "importance_score    536 non-null float64\n",
      "dtypes: float64(1), object(2)\n",
      "memory usage: 12.6+ KB\n"
     ]
    }
   ],
   "source": [
    "fname = model_dir + 'feat_importance.csv'\n",
    "df = pd.read_csv(fname)\n",
    "df.info()"
   ]
  },
  {
   "cell_type": "markdown",
   "metadata": {},
   "source": [
    "## Most important features"
   ]
  },
  {
   "cell_type": "code",
   "execution_count": 14,
   "metadata": {
    "ExecuteTime": {
     "end_time": "2018-02-02T11:27:48.517884Z",
     "start_time": "2018-02-02T11:27:48.507614Z"
    }
   },
   "outputs": [
    {
     "data": {
      "text/html": [
       "<div>\n",
       "<style>\n",
       "    .dataframe thead tr:only-child th {\n",
       "        text-align: right;\n",
       "    }\n",
       "\n",
       "    .dataframe thead th {\n",
       "        text-align: left;\n",
       "    }\n",
       "\n",
       "    .dataframe tbody tr th {\n",
       "        vertical-align: top;\n",
       "    }\n",
       "</style>\n",
       "<table border=\"1\" class=\"dataframe\">\n",
       "  <thead>\n",
       "    <tr style=\"text-align: right;\">\n",
       "      <th></th>\n",
       "      <th>most_important_feature</th>\n",
       "      <th>group</th>\n",
       "      <th>importance_score</th>\n",
       "    </tr>\n",
       "  </thead>\n",
       "  <tbody>\n",
       "    <tr>\n",
       "      <th>0</th>\n",
       "      <td>scaled_brand_pop</td>\n",
       "      <td>backpacks_female_autumn-winter_2017</td>\n",
       "      <td>0.515385</td>\n",
       "    </tr>\n",
       "    <tr>\n",
       "      <th>1</th>\n",
       "      <td>scaled_rel_price_as_ratio</td>\n",
       "      <td>backpacks_female_spring-summer_2017</td>\n",
       "      <td>0.621495</td>\n",
       "    </tr>\n",
       "    <tr>\n",
       "      <th>2</th>\n",
       "      <td>scaled_brand_pop</td>\n",
       "      <td>backpacks_male_spring-summer_2017</td>\n",
       "      <td>0.533708</td>\n",
       "    </tr>\n",
       "    <tr>\n",
       "      <th>3</th>\n",
       "      <td>scaled_n_competitor</td>\n",
       "      <td>backpacks_unisex_spring-summer_2017</td>\n",
       "      <td>0.289855</td>\n",
       "    </tr>\n",
       "    <tr>\n",
       "      <th>4</th>\n",
       "      <td>scaled_brand_pop</td>\n",
       "      <td>blouses_&amp;_tunics_female_spring-summer_2017</td>\n",
       "      <td>0.307143</td>\n",
       "    </tr>\n",
       "  </tbody>\n",
       "</table>\n",
       "</div>"
      ],
      "text/plain": [
       "      most_important_feature                                       group  \\\n",
       "0           scaled_brand_pop         backpacks_female_autumn-winter_2017   \n",
       "1  scaled_rel_price_as_ratio         backpacks_female_spring-summer_2017   \n",
       "2           scaled_brand_pop           backpacks_male_spring-summer_2017   \n",
       "3        scaled_n_competitor         backpacks_unisex_spring-summer_2017   \n",
       "4           scaled_brand_pop  blouses_&_tunics_female_spring-summer_2017   \n",
       "\n",
       "   importance_score  \n",
       "0          0.515385  \n",
       "1          0.621495  \n",
       "2          0.533708  \n",
       "3          0.289855  \n",
       "4          0.307143  "
      ]
     },
     "execution_count": 14,
     "metadata": {},
     "output_type": "execute_result"
    }
   ],
   "source": [
    "df2 = pd.read_csv(model_dir + 'most_important.csv')\n",
    "df2.head()"
   ]
  },
  {
   "cell_type": "code",
   "execution_count": 15,
   "metadata": {
    "ExecuteTime": {
     "end_time": "2018-02-02T11:28:08.620360Z",
     "start_time": "2018-02-02T11:28:08.613230Z"
    }
   },
   "outputs": [
    {
     "data": {
      "text/plain": [
       "scaled_brand_pop                    46\n",
       "scaled_rel_price_as_ratio           11\n",
       "scaled_n_competitor                  3\n",
       "scaled_color_pop                     2\n",
       "scaled_current_price                 2\n",
       "scaled_percent_discount_from_rrp     2\n",
       "is_weekend                           1\n",
       "Name: most_important_feature, dtype: int64"
      ]
     },
     "execution_count": 15,
     "metadata": {},
     "output_type": "execute_result"
    }
   ],
   "source": [
    "df2.most_important_feature.value_counts()"
   ]
  },
  {
   "cell_type": "markdown",
   "metadata": {},
   "source": [
    "__Obs:__ Most of the time, the most important feature is `brand popularity`. The second important feature is `relative price`."
   ]
  },
  {
   "cell_type": "code",
   "execution_count": null,
   "metadata": {
    "collapsed": true
   },
   "outputs": [],
   "source": []
  },
  {
   "cell_type": "code",
   "execution_count": 11,
   "metadata": {
    "ExecuteTime": {
     "end_time": "2018-01-30T16:54:13.640003Z",
     "start_time": "2018-01-30T16:54:13.635877Z"
    },
    "code_folding": [
     0
    ],
    "collapsed": true
   },
   "outputs": [],
   "source": [
    "def get_groups(err_df, model='XGBoost'):\n",
    "    # find groups which accept given model as the best DP model\n",
    "    df = err_df.query('model == \"{}\"'.format(model))\n",
    "    groups = df.group.unique()\n",
    "    return groups"
   ]
  },
  {
   "cell_type": "code",
   "execution_count": 12,
   "metadata": {
    "ExecuteTime": {
     "end_time": "2018-01-30T16:54:13.649668Z",
     "start_time": "2018-01-30T16:54:13.646732Z"
    },
    "collapsed": true
   },
   "outputs": [],
   "source": [
    "models = ['XGBoost', 'Lasso Regression', 'Boosted Regression Tree', 'Random Forest', 'Ridge Regression']"
   ]
  },
  {
   "cell_type": "code",
   "execution_count": 13,
   "metadata": {
    "ExecuteTime": {
     "end_time": "2018-01-30T16:54:13.699091Z",
     "start_time": "2018-01-30T16:54:13.659860Z"
    },
    "code_folding": [
     0
    ],
    "collapsed": true
   },
   "outputs": [
    {
     "name": "stdout",
     "output_type": "stream",
     "text": [
      "110\n",
      "110\n"
     ]
    },
    {
     "data": {
      "text/html": [
       "<div>\n",
       "<table border=\"1\" class=\"dataframe\">\n",
       "  <thead>\n",
       "    <tr style=\"text-align: right;\">\n",
       "      <th></th>\n",
       "      <th>model</th>\n",
       "      <th>n_group</th>\n",
       "      <th>used_features</th>\n",
       "    </tr>\n",
       "  </thead>\n",
       "  <tbody>\n",
       "    <tr>\n",
       "      <th>0</th>\n",
       "      <td>XGBoost</td>\n",
       "      <td>43</td>\n",
       "      <td>original</td>\n",
       "    </tr>\n",
       "    <tr>\n",
       "      <th>1</th>\n",
       "      <td>Lasso Regression</td>\n",
       "      <td>34</td>\n",
       "      <td>original</td>\n",
       "    </tr>\n",
       "    <tr>\n",
       "      <th>2</th>\n",
       "      <td>Boosted Regression Tree</td>\n",
       "      <td>20</td>\n",
       "      <td>original</td>\n",
       "    </tr>\n",
       "    <tr>\n",
       "      <th>3</th>\n",
       "      <td>Random Forest</td>\n",
       "      <td>11</td>\n",
       "      <td>original</td>\n",
       "    </tr>\n",
       "    <tr>\n",
       "      <th>4</th>\n",
       "      <td>Ridge Regression</td>\n",
       "      <td>2</td>\n",
       "      <td>original</td>\n",
       "    </tr>\n",
       "    <tr>\n",
       "      <th>0</th>\n",
       "      <td>XGBoost</td>\n",
       "      <td>41</td>\n",
       "      <td>normalized</td>\n",
       "    </tr>\n",
       "    <tr>\n",
       "      <th>1</th>\n",
       "      <td>Lasso Regression</td>\n",
       "      <td>40</td>\n",
       "      <td>normalized</td>\n",
       "    </tr>\n",
       "    <tr>\n",
       "      <th>2</th>\n",
       "      <td>Boosted Regression Tree</td>\n",
       "      <td>16</td>\n",
       "      <td>normalized</td>\n",
       "    </tr>\n",
       "    <tr>\n",
       "      <th>3</th>\n",
       "      <td>Random Forest</td>\n",
       "      <td>10</td>\n",
       "      <td>normalized</td>\n",
       "    </tr>\n",
       "    <tr>\n",
       "      <th>4</th>\n",
       "      <td>Ridge Regression</td>\n",
       "      <td>3</td>\n",
       "      <td>normalized</td>\n",
       "    </tr>\n",
       "  </tbody>\n",
       "</table>\n",
       "</div>"
      ],
      "text/plain": [
       "                     model  n_group used_features\n",
       "0                  XGBoost       43      original\n",
       "1         Lasso Regression       34      original\n",
       "2  Boosted Regression Tree       20      original\n",
       "3            Random Forest       11      original\n",
       "4         Ridge Regression        2      original\n",
       "0                  XGBoost       41    normalized\n",
       "1         Lasso Regression       40    normalized\n",
       "2  Boosted Regression Tree       16    normalized\n",
       "3            Random Forest       10    normalized\n",
       "4         Ridge Regression        3    normalized"
      ]
     },
     "execution_count": 13,
     "metadata": {},
     "output_type": "execute_result"
    }
   ],
   "source": [
    "# list number of groups for each model\n",
    "n_group1 = [len(get_groups(err_df=best_err1, model=m)) for m in models]\n",
    "n_group2 = [len(get_groups(err_df=best_err2, model=m)) for m in models]\n",
    "res1 = pd.DataFrame({'model': models, 'n_group': n_group1, 'used_features': 'original'})\n",
    "res2 = pd.DataFrame({'model': models, 'n_group': n_group2, 'used_features': 'normalized'})\n",
    "print(sum(res1.n_group)); print(sum(res2.n_group))\n",
    "pd.concat([res1, res2])"
   ]
  },
  {
   "cell_type": "markdown",
   "metadata": {},
   "source": [
    "## Groups for which XGB is the best"
   ]
  },
  {
   "cell_type": "code",
   "execution_count": 50,
   "metadata": {
    "ExecuteTime": {
     "end_time": "2018-01-31T10:27:44.435233Z",
     "start_time": "2018-01-31T10:27:44.428623Z"
    },
    "collapsed": true
   },
   "outputs": [],
   "source": [
    "to_drop = [c for c in best_err2.columns if 'train_' in c] # drop train errors\n",
    "xgb_df = best_err2.query('model == \"XGBoost\"').drop(to_drop, axis=1)"
   ]
  },
  {
   "cell_type": "code",
   "execution_count": 51,
   "metadata": {
    "ExecuteTime": {
     "end_time": "2018-01-31T10:27:44.460227Z",
     "start_time": "2018-01-31T10:27:44.441063Z"
    }
   },
   "outputs": [
    {
     "data": {
      "text/html": [
       "<div>\n",
       "<table border=\"1\" class=\"dataframe\">\n",
       "  <thead>\n",
       "    <tr style=\"text-align: right;\">\n",
       "      <th></th>\n",
       "      <th>model</th>\n",
       "      <th>test_medae</th>\n",
       "      <th>test_medape</th>\n",
       "      <th>test_rmse</th>\n",
       "      <th>group</th>\n",
       "      <th>n_config</th>\n",
       "      <th>avg_records_per_config</th>\n",
       "      <th>used_features</th>\n",
       "    </tr>\n",
       "  </thead>\n",
       "  <tbody>\n",
       "    <tr>\n",
       "      <th>460</th>\n",
       "      <td>XGBoost</td>\n",
       "      <td>0.146458</td>\n",
       "      <td>12.783933</td>\n",
       "      <td>0.906703</td>\n",
       "      <td>tops_female_spring-summer_2017</td>\n",
       "      <td>1462</td>\n",
       "      <td>8.0</td>\n",
       "      <td>normalized</td>\n",
       "    </tr>\n",
       "    <tr>\n",
       "      <th>435</th>\n",
       "      <td>XGBoost</td>\n",
       "      <td>0.082024</td>\n",
       "      <td>8.202422</td>\n",
       "      <td>0.428657</td>\n",
       "      <td>t-shirts_male_spring-summer_2017</td>\n",
       "      <td>979</td>\n",
       "      <td>5.0</td>\n",
       "      <td>normalized</td>\n",
       "    </tr>\n",
       "    <tr>\n",
       "      <th>430</th>\n",
       "      <td>XGBoost</td>\n",
       "      <td>0.096288</td>\n",
       "      <td>9.628832</td>\n",
       "      <td>0.463037</td>\n",
       "      <td>t-shirts_male_autumn-winter_2017</td>\n",
       "      <td>763</td>\n",
       "      <td>7.0</td>\n",
       "      <td>normalized</td>\n",
       "    </tr>\n",
       "    <tr>\n",
       "      <th>215</th>\n",
       "      <td>XGBoost</td>\n",
       "      <td>0.124277</td>\n",
       "      <td>12.427664</td>\n",
       "      <td>0.699761</td>\n",
       "      <td>shirts_male_spring-summer_2017</td>\n",
       "      <td>571</td>\n",
       "      <td>6.0</td>\n",
       "      <td>normalized</td>\n",
       "    </tr>\n",
       "    <tr>\n",
       "      <th>25</th>\n",
       "      <td>XGBoost</td>\n",
       "      <td>0.222024</td>\n",
       "      <td>17.811060</td>\n",
       "      <td>0.880447</td>\n",
       "      <td>blouses_&amp;_tunics_female_spring-summer_2017</td>\n",
       "      <td>409</td>\n",
       "      <td>7.0</td>\n",
       "      <td>normalized</td>\n",
       "    </tr>\n",
       "  </tbody>\n",
       "</table>\n",
       "</div>"
      ],
      "text/plain": [
       "       model  test_medae  test_medape  test_rmse  \\\n",
       "460  XGBoost    0.146458    12.783933   0.906703   \n",
       "435  XGBoost    0.082024     8.202422   0.428657   \n",
       "430  XGBoost    0.096288     9.628832   0.463037   \n",
       "215  XGBoost    0.124277    12.427664   0.699761   \n",
       "25   XGBoost    0.222024    17.811060   0.880447   \n",
       "\n",
       "                                          group  n_config  \\\n",
       "460              tops_female_spring-summer_2017      1462   \n",
       "435            t-shirts_male_spring-summer_2017       979   \n",
       "430            t-shirts_male_autumn-winter_2017       763   \n",
       "215              shirts_male_spring-summer_2017       571   \n",
       "25   blouses_&_tunics_female_spring-summer_2017       409   \n",
       "\n",
       "     avg_records_per_config used_features  \n",
       "460                     8.0    normalized  \n",
       "435                     5.0    normalized  \n",
       "430                     7.0    normalized  \n",
       "215                     6.0    normalized  \n",
       "25                      7.0    normalized  "
      ]
     },
     "execution_count": 51,
     "metadata": {},
     "output_type": "execute_result"
    }
   ],
   "source": [
    "xgb_df.sort_values('n_config', ascending=False, inplace=True)\n",
    "xgb_df.head()"
   ]
  },
  {
   "cell_type": "markdown",
   "metadata": {},
   "source": [
    "#### Most important feature"
   ]
  },
  {
   "cell_type": "code",
   "execution_count": 54,
   "metadata": {
    "ExecuteTime": {
     "end_time": "2018-01-31T10:30:54.807012Z",
     "start_time": "2018-01-31T10:30:54.804114Z"
    },
    "collapsed": true
   },
   "outputs": [],
   "source": [
    "import joblib"
   ]
  },
  {
   "cell_type": "code",
   "execution_count": 55,
   "metadata": {
    "ExecuteTime": {
     "end_time": "2018-01-31T10:31:01.908068Z",
     "start_time": "2018-01-31T10:31:01.884842Z"
    }
   },
   "outputs": [
    {
     "ename": "KeyError",
     "evalue": "'/'",
     "output_type": "error",
     "traceback": [
      "\u001b[0;31m---------------------------------------------------------------------------\u001b[0m",
      "\u001b[0;31mKeyError\u001b[0m                                  Traceback (most recent call last)",
      "\u001b[0;32m<ipython-input-55-6c5f8817a83f>\u001b[0m in \u001b[0;36m<module>\u001b[0;34m()\u001b[0m\n\u001b[1;32m      1\u001b[0m \u001b[0mfname\u001b[0m \u001b[0;34m=\u001b[0m \u001b[0mmodel_dir\u001b[0m \u001b[0;34m+\u001b[0m \u001b[0;34m'blouses_&_tunics_female_spring-summer_2017.pkl'\u001b[0m\u001b[0;34m\u001b[0m\u001b[0m\n\u001b[0;32m----> 2\u001b[0;31m \u001b[0mmodel\u001b[0m \u001b[0;34m=\u001b[0m \u001b[0mjoblib\u001b[0m\u001b[0;34m.\u001b[0m\u001b[0mload\u001b[0m\u001b[0;34m(\u001b[0m\u001b[0mfname\u001b[0m\u001b[0;34m)\u001b[0m\u001b[0;34m\u001b[0m\u001b[0m\n\u001b[0m",
      "\u001b[0;32m/Users/gfg/anaconda/envs/py27/lib/python2.7/site-packages/joblib/numpy_pickle.pyc\u001b[0m in \u001b[0;36mload\u001b[0;34m(filename, mmap_mode)\u001b[0m\n\u001b[1;32m    576\u001b[0m                     \u001b[0;32mreturn\u001b[0m \u001b[0mload_compatibility\u001b[0m\u001b[0;34m(\u001b[0m\u001b[0mfobj\u001b[0m\u001b[0;34m)\u001b[0m\u001b[0;34m\u001b[0m\u001b[0m\n\u001b[1;32m    577\u001b[0m \u001b[0;34m\u001b[0m\u001b[0m\n\u001b[0;32m--> 578\u001b[0;31m                 \u001b[0mobj\u001b[0m \u001b[0;34m=\u001b[0m \u001b[0m_unpickle\u001b[0m\u001b[0;34m(\u001b[0m\u001b[0mfobj\u001b[0m\u001b[0;34m,\u001b[0m \u001b[0mfilename\u001b[0m\u001b[0;34m,\u001b[0m \u001b[0mmmap_mode\u001b[0m\u001b[0;34m)\u001b[0m\u001b[0;34m\u001b[0m\u001b[0m\n\u001b[0m\u001b[1;32m    579\u001b[0m \u001b[0;34m\u001b[0m\u001b[0m\n\u001b[1;32m    580\u001b[0m     \u001b[0;32mreturn\u001b[0m \u001b[0mobj\u001b[0m\u001b[0;34m\u001b[0m\u001b[0m\n",
      "\u001b[0;32m/Users/gfg/anaconda/envs/py27/lib/python2.7/site-packages/joblib/numpy_pickle.pyc\u001b[0m in \u001b[0;36m_unpickle\u001b[0;34m(fobj, filename, mmap_mode)\u001b[0m\n\u001b[1;32m    506\u001b[0m     \u001b[0mobj\u001b[0m \u001b[0;34m=\u001b[0m \u001b[0mNone\u001b[0m\u001b[0;34m\u001b[0m\u001b[0m\n\u001b[1;32m    507\u001b[0m     \u001b[0;32mtry\u001b[0m\u001b[0;34m:\u001b[0m\u001b[0;34m\u001b[0m\u001b[0m\n\u001b[0;32m--> 508\u001b[0;31m         \u001b[0mobj\u001b[0m \u001b[0;34m=\u001b[0m \u001b[0munpickler\u001b[0m\u001b[0;34m.\u001b[0m\u001b[0mload\u001b[0m\u001b[0;34m(\u001b[0m\u001b[0;34m)\u001b[0m\u001b[0;34m\u001b[0m\u001b[0m\n\u001b[0m\u001b[1;32m    509\u001b[0m         \u001b[0;32mif\u001b[0m \u001b[0munpickler\u001b[0m\u001b[0;34m.\u001b[0m\u001b[0mcompat_mode\u001b[0m\u001b[0;34m:\u001b[0m\u001b[0;34m\u001b[0m\u001b[0m\n\u001b[1;32m    510\u001b[0m             warnings.warn(\"The file '%s' has been generated with a \"\n",
      "\u001b[0;32m/Users/gfg/anaconda/envs/py27/lib/python2.7/pickle.pyc\u001b[0m in \u001b[0;36mload\u001b[0;34m(self)\u001b[0m\n\u001b[1;32m    862\u001b[0m             \u001b[0;32mwhile\u001b[0m \u001b[0;36m1\u001b[0m\u001b[0;34m:\u001b[0m\u001b[0;34m\u001b[0m\u001b[0m\n\u001b[1;32m    863\u001b[0m                 \u001b[0mkey\u001b[0m \u001b[0;34m=\u001b[0m \u001b[0mread\u001b[0m\u001b[0;34m(\u001b[0m\u001b[0;36m1\u001b[0m\u001b[0;34m)\u001b[0m\u001b[0;34m\u001b[0m\u001b[0m\n\u001b[0;32m--> 864\u001b[0;31m                 \u001b[0mdispatch\u001b[0m\u001b[0;34m[\u001b[0m\u001b[0mkey\u001b[0m\u001b[0;34m]\u001b[0m\u001b[0;34m(\u001b[0m\u001b[0mself\u001b[0m\u001b[0;34m)\u001b[0m\u001b[0;34m\u001b[0m\u001b[0m\n\u001b[0m\u001b[1;32m    865\u001b[0m         \u001b[0;32mexcept\u001b[0m \u001b[0m_Stop\u001b[0m\u001b[0;34m,\u001b[0m \u001b[0mstopinst\u001b[0m\u001b[0;34m:\u001b[0m\u001b[0;34m\u001b[0m\u001b[0m\n\u001b[1;32m    866\u001b[0m             \u001b[0;32mreturn\u001b[0m \u001b[0mstopinst\u001b[0m\u001b[0;34m.\u001b[0m\u001b[0mvalue\u001b[0m\u001b[0;34m\u001b[0m\u001b[0m\n",
      "\u001b[0;31mKeyError\u001b[0m: '/'"
     ]
    }
   ],
   "source": [
    "fname = model_dir + 'blouses_&_tunics_female_spring-summer_2017.pkl'\n",
    "model = joblib.load(fname)"
   ]
  },
  {
   "cell_type": "code",
   "execution_count": null,
   "metadata": {
    "collapsed": true
   },
   "outputs": [],
   "source": [
    "def find_most_important_feat(gr):\n",
    "    fname = model_dir + gr + '.pkl'\n",
    "    model = jl.load(fname)\n",
    "    feat_importances = model."
   ]
  },
  {
   "cell_type": "code",
   "execution_count": null,
   "metadata": {
    "collapsed": true
   },
   "outputs": [],
   "source": [
    "xgb_groups = list(xgb_df.group)"
   ]
  }
 ],
 "metadata": {
  "kernelspec": {
   "display_name": "Python 3",
   "language": "python",
   "name": "python3"
  },
  "language_info": {
   "codemirror_mode": {
    "name": "ipython",
    "version": 3
   },
   "file_extension": ".py",
   "mimetype": "text/x-python",
   "name": "python",
   "nbconvert_exporter": "python",
   "pygments_lexer": "ipython3",
   "version": "3.6.0"
  },
  "toc": {
   "colors": {
    "hover_highlight": "#DAA520",
    "navigate_num": "#000000",
    "navigate_text": "#333333",
    "running_highlight": "#FF0000",
    "selected_highlight": "#FFD700",
    "sidebar_border": "#EEEEEE",
    "wrapper_background": "#FFFFFF"
   },
   "moveMenuLeft": true,
   "nav_menu": {
    "height": "174px",
    "width": "252px"
   },
   "navigate_menu": true,
   "number_sections": true,
   "sideBar": true,
   "threshold": 4,
   "toc_cell": false,
   "toc_section_display": "block",
   "toc_window_display": true,
   "widenNotebook": false
  },
  "varInspector": {
   "cols": {
    "lenName": 16,
    "lenType": 16,
    "lenVar": 40
   },
   "kernels_config": {
    "python": {
     "delete_cmd_postfix": "",
     "delete_cmd_prefix": "del ",
     "library": "var_list.py",
     "varRefreshCmd": "print(var_dic_list())"
    },
    "r": {
     "delete_cmd_postfix": ") ",
     "delete_cmd_prefix": "rm(",
     "library": "var_list.r",
     "varRefreshCmd": "cat(var_dic_list()) "
    }
   },
   "types_to_exclude": [
    "module",
    "function",
    "builtin_function_or_method",
    "instance",
    "_Feature"
   ],
   "window_display": false
  }
 },
 "nbformat": 4,
 "nbformat_minor": 2
}
