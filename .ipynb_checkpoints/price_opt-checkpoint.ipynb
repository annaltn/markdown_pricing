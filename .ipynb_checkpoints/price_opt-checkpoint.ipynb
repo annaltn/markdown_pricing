{
 "cells": [
  {
   "cell_type": "markdown",
   "metadata": {},
   "source": [
    "## Inits"
   ]
  },
  {
   "cell_type": "code",
   "execution_count": 1,
   "metadata": {
    "ExecuteTime": {
     "end_time": "2017-10-17T11:37:26.854939Z",
     "start_time": "2017-10-17T11:37:26.138740Z"
    },
    "collapsed": true
   },
   "outputs": [],
   "source": [
    "import pandas as pd\n",
    "import numpy as np\n",
    "import matplotlib.pyplot as pl"
   ]
  },
  {
   "cell_type": "code",
   "execution_count": 1,
   "metadata": {
    "ExecuteTime": {
     "end_time": "2017-10-17T11:07:54.531209Z",
     "start_time": "2017-10-17T11:07:53.380186Z"
    },
    "collapsed": true
   },
   "outputs": [],
   "source": [
    "# libs for IP/LP solvers\n",
    "from pul "
   ]
  },
  {
   "cell_type": "markdown",
   "metadata": {},
   "source": [
    "## IP formulation"
   ]
  },
  {
   "cell_type": "markdown",
   "metadata": {},
   "source": [
    "Given a date $d$, we feed in the `price optimizer` module: \n",
    "\n",
    "__Input__: \n",
    "+ the set of SKU configs whose prices on $d$ need to be optimized\n",
    "+ the set of possible prices for the configs\n",
    "+ inventory constraints on $d$, i.e. the number of remaining units in inventory of each config on $d$\n",
    "\n",
    "and it will provide:\n",
    "\n",
    "__Output__: the list of optimal prices for the configs"
   ]
  },
  {
   "cell_type": "markdown",
   "metadata": {},
   "source": [
    "Math formulation of the problem:"
   ]
  },
  {
   "cell_type": "markdown",
   "metadata": {
    "collapsed": true
   },
   "source": [
    "\\begin{align}\n",
    "\t\\label{IP_s}\n",
    "\t\\max & \\sum_{i \\in I_o} \\sum_{j \\in J} p_j D_{i, j, s} x_{i, j} \\notag\\\\\n",
    "\ts.t. & \\sum_{j \\in J} x_{i, j} = 1, ~\\forall i \\in I_o \\notag \\\\\n",
    "\t \t & \\sum_{i \\in I_o} \\sum_{j \\in J} p_j x_{i, j} = s \\notag \\\\\n",
    "\t\t & x_{i, j} \\in \\{0, 1 \\} \\notag\\\\\n",
    "\t\t & D_{i, j, s} \\le n_i \\notag\n",
    "\\end{align}"
   ]
  },
  {
   "cell_type": "markdown",
   "metadata": {},
   "source": [
    "# Define solvers for optimization"
   ]
  },
  {
   "cell_type": "code",
   "execution_count": null,
   "metadata": {
    "collapsed": true
   },
   "outputs": [],
   "source": [
    "def ip_solver(dd, to_opt, prices, inv_cons):\n",
    "    '''\n",
    "    dd: given date\n",
    "    to_opt: SKU configs whose prices on the date need to be optimized\n",
    "    prices: possible prices for the configs\n",
    "    inv_cons: inventory constraints on the given date\n",
    "    '''\n",
    "    "
   ]
  }
 ],
 "metadata": {
  "kernelspec": {
   "display_name": "Python 3",
   "language": "python",
   "name": "python3"
  },
  "language_info": {
   "codemirror_mode": {
    "name": "ipython",
    "version": 3
   },
   "file_extension": ".py",
   "mimetype": "text/x-python",
   "name": "python",
   "nbconvert_exporter": "python",
   "pygments_lexer": "ipython3",
   "version": "3.6.0"
  },
  "toc": {
   "colors": {
    "hover_highlight": "#DAA520",
    "navigate_num": "#000000",
    "navigate_text": "#333333",
    "running_highlight": "#FF0000",
    "selected_highlight": "#FFD700",
    "sidebar_border": "#EEEEEE",
    "wrapper_background": "#FFFFFF"
   },
   "moveMenuLeft": true,
   "nav_menu": {
    "height": "66px",
    "width": "252px"
   },
   "navigate_menu": true,
   "number_sections": true,
   "sideBar": true,
   "threshold": 4,
   "toc_cell": false,
   "toc_section_display": "block",
   "toc_window_display": false,
   "widenNotebook": false
  },
  "varInspector": {
   "cols": {
    "lenName": 16,
    "lenType": 16,
    "lenVar": 40
   },
   "kernels_config": {
    "python": {
     "delete_cmd_postfix": "",
     "delete_cmd_prefix": "del ",
     "library": "var_list.py",
     "varRefreshCmd": "print(var_dic_list())"
    },
    "r": {
     "delete_cmd_postfix": ") ",
     "delete_cmd_prefix": "rm(",
     "library": "var_list.r",
     "varRefreshCmd": "cat(var_dic_list()) "
    }
   },
   "types_to_exclude": [
    "module",
    "function",
    "builtin_function_or_method",
    "instance",
    "_Feature"
   ],
   "window_display": false
  }
 },
 "nbformat": 4,
 "nbformat_minor": 2
}
