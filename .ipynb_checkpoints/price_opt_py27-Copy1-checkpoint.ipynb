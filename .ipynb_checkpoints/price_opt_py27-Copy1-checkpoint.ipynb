{
 "cells": [
  {
   "cell_type": "markdown",
   "metadata": {
    "heading_collapsed": true
   },
   "source": [
    "## Inits"
   ]
  },
  {
   "cell_type": "markdown",
   "metadata": {
    "hidden": true
   },
   "source": [
    "+ Standard modules:"
   ]
  },
  {
   "cell_type": "code",
   "execution_count": 1,
   "metadata": {
    "ExecuteTime": {
     "end_time": "2017-11-06T10:58:29.352111Z",
     "start_time": "2017-11-06T10:58:28.424395Z"
    },
    "collapsed": true,
    "hidden": true,
    "init_cell": true
   },
   "outputs": [],
   "source": [
    "import pandas as pd\n",
    "import numpy as np\n",
    "import matplotlib.pyplot as pl\n",
    "from time import time"
   ]
  },
  {
   "cell_type": "markdown",
   "metadata": {
    "hidden": true
   },
   "source": [
    "+ Modules for LP/IP:"
   ]
  },
  {
   "cell_type": "code",
   "execution_count": 2,
   "metadata": {
    "ExecuteTime": {
     "end_time": "2017-11-06T10:58:29.389526Z",
     "start_time": "2017-11-06T10:58:29.353930Z"
    },
    "collapsed": true,
    "hidden": true,
    "init_cell": true
   },
   "outputs": [],
   "source": [
    "import cplex\n",
    "from cplex import Cplex\n",
    "from cplex.exceptions import CplexError"
   ]
  },
  {
   "cell_type": "markdown",
   "metadata": {
    "hidden": true
   },
   "source": [
    "+ My own modules:"
   ]
  },
  {
   "cell_type": "code",
   "execution_count": 3,
   "metadata": {
    "ExecuteTime": {
     "end_time": "2017-11-06T10:58:30.109564Z",
     "start_time": "2017-11-06T10:58:29.391416Z"
    },
    "collapsed": false,
    "hidden": true,
    "init_cell": true
   },
   "outputs": [
    {
     "ename": "ImportError",
     "evalue": "No module named xgboost",
     "output_type": "error",
     "traceback": [
      "\u001b[0;31m---------------------------------------------------------------------------\u001b[0m",
      "\u001b[0;31mImportError\u001b[0m                               Traceback (most recent call last)",
      "\u001b[0;32m<ipython-input-3-47c8996c14aa>\u001b[0m in \u001b[0;36m<module>\u001b[0;34m()\u001b[0m\n\u001b[0;32m----> 1\u001b[0;31m \u001b[0;32mfrom\u001b[0m \u001b[0mdemand_pred\u001b[0m \u001b[0;32mimport\u001b[0m \u001b[0mDemandPredictor\u001b[0m\u001b[0;34m\u001b[0m\u001b[0m\n\u001b[0m",
      "\u001b[0;32m/Users/gfg/projects/daas-markdown/markdown2/nb/demand_pred.py\u001b[0m in \u001b[0;36m<module>\u001b[0;34m()\u001b[0m\n\u001b[1;32m      5\u001b[0m \u001b[0;32mfrom\u001b[0m \u001b[0msklearn\u001b[0m\u001b[0;34m.\u001b[0m\u001b[0mmetrics\u001b[0m \u001b[0;32mimport\u001b[0m \u001b[0mmean_squared_error\u001b[0m\u001b[0;34m\u001b[0m\u001b[0m\n\u001b[1;32m      6\u001b[0m \u001b[0;32mfrom\u001b[0m \u001b[0msklearn\u001b[0m\u001b[0;34m.\u001b[0m\u001b[0mmodel_selection\u001b[0m \u001b[0;32mimport\u001b[0m \u001b[0mGridSearchCV\u001b[0m\u001b[0;34m\u001b[0m\u001b[0m\n\u001b[0;32m----> 7\u001b[0;31m \u001b[0;32mfrom\u001b[0m \u001b[0mxgboost\u001b[0m \u001b[0;32mimport\u001b[0m \u001b[0mXGBRegressor\u001b[0m\u001b[0;34m\u001b[0m\u001b[0m\n\u001b[0m\u001b[1;32m      8\u001b[0m \u001b[0;34m\u001b[0m\u001b[0m\n\u001b[1;32m      9\u001b[0m \u001b[0;32mfrom\u001b[0m \u001b[0minput_load\u001b[0m \u001b[0;32mimport\u001b[0m \u001b[0mInputLoader\u001b[0m\u001b[0;34m\u001b[0m\u001b[0m\n",
      "\u001b[0;31mImportError\u001b[0m: No module named xgboost"
     ]
    }
   ],
   "source": [
    "from demand_pred import DemandPredictor"
   ]
  },
  {
   "cell_type": "code",
   "execution_count": null,
   "metadata": {
    "ExecuteTime": {
     "end_time": "2017-11-06T10:58:30.110213Z",
     "start_time": "2017-11-06T02:58:28.427Z"
    },
    "collapsed": true,
    "hidden": true,
    "init_cell": true
   },
   "outputs": [],
   "source": [
    "demand_predictor = DemandPredictor()"
   ]
  },
  {
   "cell_type": "markdown",
   "metadata": {
    "hidden": true
   },
   "source": [
    "+ Helpers:"
   ]
  },
  {
   "cell_type": "code",
   "execution_count": 75,
   "metadata": {
    "ExecuteTime": {
     "end_time": "2017-10-30T10:43:43.787356Z",
     "start_time": "2017-10-30T10:43:43.784016Z"
    },
    "collapsed": true,
    "hidden": true
   },
   "outputs": [],
   "source": [
    "def rand_int_in(low, high): # include both low & high\n",
    "    return np.random.randint(low, high + 1, 1)[0]"
   ]
  },
  {
   "cell_type": "markdown",
   "metadata": {
    "heading_collapsed": true
   },
   "source": [
    "## IP formulation"
   ]
  },
  {
   "cell_type": "markdown",
   "metadata": {
    "heading_collapsed": true,
    "hidden": true
   },
   "source": [
    "### Input, Output"
   ]
  },
  {
   "cell_type": "markdown",
   "metadata": {
    "hidden": true
   },
   "source": [
    "Given a date $d$, input & output of the `price optimizer` module are follows:\n",
    "\n",
    "__Input__:\n",
    "\n",
    "+ the set of SKU configs whose prices on $d$ need to be optimized\n",
    "+ the set of possible prices for the configs\n",
    "+ inventory constraints on $d$, i.e. the number of remaining units in inventory of each config on $d$\n",
    "\n",
    "__Output__: the list of optimal prices for the configs"
   ]
  },
  {
   "cell_type": "markdown",
   "metadata": {
    "heading_collapsed": true,
    "hidden": true
   },
   "source": [
    "### Math formulation of the problem"
   ]
  },
  {
   "cell_type": "markdown",
   "metadata": {
    "hidden": true
   },
   "source": [
    "\\begin{align}\n",
    "\t\\label{IP_s}\n",
    "\t\\max & \\sum_{i \\in I_o} \\sum_{j \\in J} p_j D_{i, j, s} x_{i, j} \\\\\n",
    "\ts.t. & \\sum_{j \\in J} x_{i, j} = 1, ~\\forall i \\in I_o  \\\\\n",
    "\t \t & \\sum_{i \\in I_o} \\sum_{j \\in J} p_j x_{i, j} = s  \\\\\n",
    "\t\t & x_{i, j} \\in \\{0, 1 \\} \\\\\n",
    "\t\t & D_{i, j, s} \\le n_i \n",
    "\\end{align}"
   ]
  },
  {
   "cell_type": "markdown",
   "metadata": {
    "heading_collapsed": true,
    "hidden": true
   },
   "source": [
    "### Components of the IP\n",
    "\n",
    "+ objective function\n",
    "+ single-price constraints\n",
    "+ sum constraints\n",
    "+ binary type constraints\n",
    "+ inventory constraints"
   ]
  },
  {
   "cell_type": "markdown",
   "metadata": {},
   "source": [
    "# Helpers"
   ]
  },
  {
   "cell_type": "markdown",
   "metadata": {
    "heading_collapsed": true
   },
   "source": [
    "## To set variable type"
   ]
  },
  {
   "cell_type": "code",
   "execution_count": 163,
   "metadata": {
    "ExecuteTime": {
     "end_time": "2017-10-31T11:15:21.970901Z",
     "start_time": "2017-10-31T11:15:21.963751Z"
    },
    "code_folding": [
     0
    ],
    "collapsed": true,
    "hidden": true
   },
   "outputs": [],
   "source": [
    "def set_var_type(prob, binary=True):\n",
    "    var_names = prob.variables.get_names()\n",
    "    if binary:\n",
    "        types = [prob.variables.type.binary]*len(var_names)\n",
    "    else:\n",
    "        types = [prob.variables.type.continuous]*len(var_names)\n",
    "        \n",
    "    prob.variables.set_types(list(zip(var_names, types)))\n",
    "    print('+ set variable types as {}'.format(prob.variables.get_types()))\n",
    "    return prob"
   ]
  },
  {
   "cell_type": "markdown",
   "metadata": {
    "heading_collapsed": true
   },
   "source": [
    "## To add constraints"
   ]
  },
  {
   "cell_type": "code",
   "execution_count": 145,
   "metadata": {
    "ExecuteTime": {
     "end_time": "2017-10-30T17:53:41.027377Z",
     "start_time": "2017-10-30T17:53:41.013631Z"
    },
    "code_folding": [
     0,
     6,
     13
    ],
    "collapsed": true,
    "hidden": true
   },
   "outputs": [],
   "source": [
    "def mk_var_names(configs, prices):\n",
    "    \n",
    "    n_config, n_price = len(configs), len(prices)\n",
    "    var_names = []\n",
    "    config_idx, price_idx = np.arange(n_config) + 1, np.arange(n_price) + 1\n",
    "    \n",
    "    for i in config_idx:\n",
    "        prefix = 'x_{}'.format(i)\n",
    "        row = [prefix + str(j) for j in price_idx]\n",
    "        var_names += [row]\n",
    "        \n",
    "    return np.array(var_names)\n",
    "\n",
    "def mk_opc_lhs(configs, prices, var_names):\n",
    "    lhs = []\n",
    "    coefs = np.ones(len(prices))\n",
    "    \n",
    "    for i, cf in enumerate(configs):\n",
    "        count = i+1\n",
    "        if count % 100 == 0:\n",
    "            print('\\t created one-price lhs for {} config ...'.format(count))\n",
    "        row = cplex.SparsePair(ind=var_names[i], val=coefs)\n",
    "        lhs += [row]\n",
    "        \n",
    "    return lhs"
   ]
  },
  {
   "cell_type": "code",
   "execution_count": 144,
   "metadata": {
    "ExecuteTime": {
     "end_time": "2017-10-30T17:47:12.653447Z",
     "start_time": "2017-10-30T17:47:12.645827Z"
    },
    "code_folding": [
     0
    ],
    "collapsed": true,
    "hidden": true
   },
   "outputs": [],
   "source": [
    "def add_one_price_constraints(prob, configs, prices, var_names): # one per config\n",
    "    \n",
    "    n_config, n_price = len(configs), len(prices)\n",
    "    n_var = n_config * n_price\n",
    "    lhs = mk_opc_lhs(configs, prices, var_names)\n",
    "    \n",
    "    my_sense = ['E'] * n_config\n",
    "    my_rhs = np.ones(n_config)\n",
    "    my_rownames = ['opc_config_{}'.format(i) for i in range(n_config)]\n",
    "    \n",
    "    prob.linear_constraints.add(lin_expr=lhs, senses=my_sense, rhs=my_rhs, names=my_rownames)\n",
    "    \n",
    "    print('+ added {} one-price constraints for {} configs'.format(n_config, n_config))\n",
    "    return prob"
   ]
  },
  {
   "cell_type": "code",
   "execution_count": 109,
   "metadata": {
    "ExecuteTime": {
     "end_time": "2017-10-30T14:45:23.489661Z",
     "start_time": "2017-10-30T14:45:23.484328Z"
    },
    "code_folding": [
     0
    ],
    "collapsed": true,
    "hidden": true
   },
   "outputs": [],
   "source": [
    "def add_sum_constraints(prob, s, prices, configs, var_names):\n",
    "    \n",
    "    coefs = np.array([prices] * len(configs))\n",
    "    lhs = cplex.SparsePair(ind=var_names.ravel(), val=coefs.ravel())\n",
    "    \n",
    "    prob.linear_constraints.add(lin_expr=[lhs], senses=['E'], rhs=[s], names=['sum_constraint'])\n",
    "    print('+ added sum constraint')\n",
    "    return prob"
   ]
  },
  {
   "cell_type": "markdown",
   "metadata": {
    "hidden": true
   },
   "source": [
    "__Note:__ inventory constraints are non-linear, stochastic ones. Thus, they will be added in later version."
   ]
  },
  {
   "cell_type": "code",
   "execution_count": 108,
   "metadata": {
    "ExecuteTime": {
     "end_time": "2017-10-30T14:44:54.097788Z",
     "start_time": "2017-10-30T14:44:54.094489Z"
    },
    "code_folding": [
     0
    ],
    "collapsed": true,
    "hidden": true
   },
   "outputs": [],
   "source": [
    "def add_inventory_constraints(prob, predicted_demands, inv_amount):\n",
    "    print('+ added inventory constraints')\n",
    "    pass"
   ]
  },
  {
   "cell_type": "code",
   "execution_count": 149,
   "metadata": {
    "ExecuteTime": {
     "end_time": "2017-10-30T18:08:22.107534Z",
     "start_time": "2017-10-30T18:08:22.101847Z"
    },
    "code_folding": [
     0
    ],
    "collapsed": true,
    "hidden": true
   },
   "outputs": [],
   "source": [
    "def add_bounds(prob, lb, ub):\n",
    "    var_names = prob.variables.get_names()\n",
    "    n_var = len(var_names)\n",
    "    lower_bounds, upper_bounds = [lb]*n_var, [ub]*n_var\n",
    "    prob.variables.set_lower_bounds(list(zip(var_names, lower_bounds)))\n",
    "    prob.variables.set_upper_bounds(list(zip(var_names, upper_bounds)))\n",
    "    print('+ added bounds')\n",
    "    return prob"
   ]
  },
  {
   "cell_type": "markdown",
   "metadata": {},
   "source": [
    "## To add objective function"
   ]
  },
  {
   "cell_type": "code",
   "execution_count": 8,
   "metadata": {
    "ExecuteTime": {
     "end_time": "2017-10-27T16:25:14.200726Z",
     "start_time": "2017-10-27T16:25:14.195698Z"
    },
    "code_folding": [
     0,
     3
    ],
    "collapsed": true
   },
   "outputs": [],
   "source": [
    "def cal_feats(configs, dd, group_feats):\n",
    "    pass\n",
    "\n",
    "def predict_demand(configs, dd, group):\n",
    "    group_feats = form_feat_mat(group)\n",
    "    feat_mat = cal_feats(configs, dd, group_feats)\n",
    "    predicted_demands = demand_predictor.predict(feat_mat)\n",
    "    \n",
    "    return predicted_demands"
   ]
  },
  {
   "cell_type": "code",
   "execution_count": 116,
   "metadata": {
    "ExecuteTime": {
     "end_time": "2017-10-30T14:59:40.560750Z",
     "start_time": "2017-10-30T14:59:40.557220Z"
    },
    "code_folding": [
     0
    ],
    "collapsed": true
   },
   "outputs": [],
   "source": [
    "def cal_obj_coefs(prices, predicted_demands):\n",
    "    concat_prices = np.array([prices] * len(configs)).ravel() # same formula as add_sum_constraints(), only diff is to mult with demands\n",
    "    return np.multiply(concat_prices, predicted_demands)"
   ]
  },
  {
   "cell_type": "code",
   "execution_count": 122,
   "metadata": {
    "ExecuteTime": {
     "end_time": "2017-10-30T15:13:19.350914Z",
     "start_time": "2017-10-30T15:13:19.345901Z"
    },
    "code_folding": [
     0,
     4
    ],
    "collapsed": true
   },
   "outputs": [],
   "source": [
    "def add_obj(prob, configs, prices, dd, predicted_demands=None):\n",
    "    '''\n",
    "    add obj functions & binary vars declaration\n",
    "    '''\n",
    "#     predicted_demands = predict_demand(configs, dd)\n",
    "    obj_coefs = cal_obj_coefs(prices, predicted_demands)\n",
    "    var_names = prob.variables.get_names()\n",
    "    prob.objective.set_linear(list(zip(var_names, obj_coefs)))\n",
    "    print('+ added objective function')\n",
    "    return prob"
   ]
  },
  {
   "cell_type": "markdown",
   "metadata": {
    "heading_collapsed": true
   },
   "source": [
    "## To get components"
   ]
  },
  {
   "cell_type": "code",
   "execution_count": 104,
   "metadata": {
    "ExecuteTime": {
     "end_time": "2017-10-30T11:46:19.261357Z",
     "start_time": "2017-10-30T11:46:19.250092Z"
    },
    "code_folding": [
     0,
     2
    ],
    "collapsed": true,
    "hidden": true
   },
   "outputs": [],
   "source": [
    "def get_constraints(prob):\n",
    "    \n",
    "    def pretty_lhs(spair):\n",
    "        '''\n",
    "        Given lhs of a constraint in `cplex.SparsePair` form, convert it to human readable format\n",
    "        '''\n",
    "        idx = spair.ind\n",
    "        variables = prob.variables.get_names(idx)\n",
    "        coefs = spair.val\n",
    "        terms = [''.join([str(coefs[i]), v]) for i, v in enumerate(variables)]\n",
    "        return ' + '.join(terms)\n",
    "    \n",
    "    lin_con = prob.linear_constraints\n",
    "    names = lin_con.get_names()\n",
    "    sparse_pairs = lin_con.get_rows()\n",
    "    lhs = [pretty_lhs(spair) for spair in sparse_pairs]\n",
    "    \n",
    "    senses = lin_con.get_senses()\n",
    "    rhs = lin_con.get_rhs()\n",
    "    \n",
    "    constraints = pd.DataFrame({'name': names, 'lhs': lhs, 'sense': senses, 'rhs': rhs})\n",
    "    cols = ['name', 'lhs', 'sense', 'rhs']\n",
    "    return constraints[cols]"
   ]
  },
  {
   "cell_type": "code",
   "execution_count": 93,
   "metadata": {
    "ExecuteTime": {
     "end_time": "2017-10-30T11:35:35.570785Z",
     "start_time": "2017-10-30T11:35:35.566165Z"
    },
    "collapsed": false,
    "hidden": true
   },
   "outputs": [
    {
     "data": {
      "text/plain": [
       "[0, 1, 2]"
      ]
     },
     "execution_count": 93,
     "metadata": {},
     "output_type": "execute_result"
    }
   ],
   "source": [
    "spair = prob.linear_constraints.get_rows(0)\n",
    "spair.ind"
   ]
  },
  {
   "cell_type": "code",
   "execution_count": 92,
   "metadata": {
    "ExecuteTime": {
     "end_time": "2017-10-30T11:29:26.965229Z",
     "start_time": "2017-10-30T11:29:26.960860Z"
    },
    "collapsed": false,
    "hidden": true
   },
   "outputs": [
    {
     "data": {
      "text/plain": [
       "['x_11', 'x_12', 'x_13', 'x_21', 'x_22', 'x_23']"
      ]
     },
     "execution_count": 92,
     "metadata": {},
     "output_type": "execute_result"
    }
   ],
   "source": [
    "prob.variables.get_names()"
   ]
  },
  {
   "cell_type": "markdown",
   "metadata": {},
   "source": [
    "# Collect inputs"
   ]
  },
  {
   "cell_type": "code",
   "execution_count": 199,
   "metadata": {
    "ExecuteTime": {
     "end_time": "2017-11-06T10:29:44.789577Z",
     "start_time": "2017-11-06T10:29:44.785379Z"
    },
    "collapsed": false
   },
   "outputs": [],
   "source": [
    "# import input_load\n",
    "reload(input_load)\n",
    "from input_load import *"
   ]
  },
  {
   "cell_type": "code",
   "execution_count": 200,
   "metadata": {
    "ExecuteTime": {
     "end_time": "2017-11-06T10:30:17.050791Z",
     "start_time": "2017-11-06T10:29:47.841221Z"
    },
    "code_folding": [
     0
    ],
    "collapsed": false
   },
   "outputs": [
    {
     "name": "stdout",
     "output_type": "stream",
     "text": [
      "Loading global feats in yr 2017 from /Users/gfg/data/venture=zalora/sg/clean/2017/glob_feat.csv...\n",
      "Loading historical sales from /Users/gfg/data/venture=zalora/sg/clean/demand_config.csv...\n"
     ]
    }
   ],
   "source": [
    "input_loader = InputLoader()\n",
    "global_X = input_loader.load_global_feat(yr=2017)\n",
    "demand_df = input_loader.load_response()"
   ]
  },
  {
   "cell_type": "markdown",
   "metadata": {},
   "source": [
    "# Find global optimum prices\n",
    "\n",
    "For each value of $s$, we solve the corresponding ($IP_s$) to find the local optimum prices $P^*_s$. Then we determine the global optimum prices $P^*$ as the one that provides maximum revenue among these $P^*_s$."
   ]
  },
  {
   "cell_type": "markdown",
   "metadata": {
    "heading_collapsed": true
   },
   "source": [
    "## Build IPs\n",
    "\n",
    "We are using the Python API of CPLEX library. In this library, to build an IP, we need to populate its components (i.e. objective function and constraints). The mentioned components of each ($IP_s$) is the following:\n",
    "\n",
    "+ objective function & variable type declaration (binary)\n",
    "+ one-price constraints (OPC)\n",
    "+ sum constraints (SC)\n",
    "+ inventory constraints (IC)"
   ]
  },
  {
   "cell_type": "code",
   "execution_count": 158,
   "metadata": {
    "ExecuteTime": {
     "end_time": "2017-10-31T11:09:32.207625Z",
     "start_time": "2017-10-31T11:09:32.204515Z"
    },
    "code_folding": [
     0
    ],
    "collapsed": false,
    "hidden": true
   },
   "outputs": [],
   "source": [
    "def get_type(prob):\n",
    "    type_code = prob.get_problem_type()\n",
    "    return prob.problem_type[type_code]"
   ]
  },
  {
   "cell_type": "code",
   "execution_count": 159,
   "metadata": {
    "ExecuteTime": {
     "end_time": "2017-10-31T11:09:32.221470Z",
     "start_time": "2017-10-31T11:09:32.212627Z"
    },
    "code_folding": [],
    "collapsed": true,
    "hidden": true
   },
   "outputs": [],
   "source": [
    "def populatebyrow(prob, total_price, dd, configs, prices, inv_amount):\n",
    "    '''\n",
    "    build an IP/LP problem by populating its components\n",
    "    '''\n",
    "    ## tell the solver that this is a maximize problem\n",
    "    prob.objective.set_sense(prob.objective.sense.maximize)\n",
    "    \n",
    "    var_names = mk_var_names(configs, prices) # var names in 2D array\n",
    "    \n",
    "    prob = add_one_price_constraints(prob, configs, prices, var_names)\n",
    "    prob = add_sum_constraints(prob, total_price, prices, configs, var_names)\n",
    "    \n",
    "    n_var = len(configs) * len(prices)\n",
    "    predicted_demands = np.random.randint(1, 10, size=n_var) # for testing only, will replace by actual predicted demand\n",
    "#     prob = add_inventory_constraints(prob, predicted_demands, inv_amount)\n",
    "    prob = add_obj(prob, configs, prices, dd, predicted_demands)\n",
    "    \n",
    "    return prob"
   ]
  },
  {
   "cell_type": "code",
   "execution_count": 173,
   "metadata": {
    "ExecuteTime": {
     "end_time": "2017-10-31T12:01:59.341893Z",
     "start_time": "2017-10-31T12:01:59.332236Z"
    },
    "code_folding": [
     0
    ],
    "collapsed": true,
    "hidden": true
   },
   "outputs": [],
   "source": [
    "def populateLP(total_price, dd, configs, prices, inv_amount, binary=True): # wrapper to populate (IPs)\n",
    "    '''\n",
    "    dd: given date\n",
    "    configs: SKU configs whose prices on the date need to be optimized\n",
    "    prices: possible prices for the configs\n",
    "    inv_amount: inventory constraints on the given date\n",
    "    '''\n",
    "    print(r'Populating $LP_{}$...'.format(total_price))\n",
    "    prob = Cplex()\n",
    "    \n",
    "    var_names = mk_var_names(configs, prices)\n",
    "    prob.variables.add(names=var_names.ravel())\n",
    "    \n",
    "    prob = set_var_type(prob, binary)\n",
    "    \n",
    "    if not binary:\n",
    "        prob = add_bounds(prob, lb=0, ub=1)\n",
    "    \n",
    "    prob = populatebyrow(prob, total_price, dd, configs, prices, inv_amount)\n",
    "\n",
    "    prob.set_problem_type(Cplex.problem_type.LP)\n",
    "    print('Type of problem: {}'.format(get_type(prob)))\n",
    "    \n",
    "    return prob"
   ]
  },
  {
   "cell_type": "markdown",
   "metadata": {},
   "source": [
    "## Solve $IP_s$ for local optimum\n",
    "\n",
    "For each possible value of $s$, I follow the steps in algorithm 1 in the [work](http://www.hbs.edu/faculty/Publication%20Files/kris%20Analytics%20for%20an%20Online%20Retailer_6ef5f3e6-48e7-4923-a2d4-607d3a3d943c.pdf):\n",
    "\n",
    "+ solve relaxed $LP_s$ of $IP_s$\n",
    "+ calculate the lower bound for objective value of $IP_s$ via objective value of $LP_s$"
   ]
  },
  {
   "cell_type": "markdown",
   "metadata": {
    "heading_collapsed": true
   },
   "source": [
    "### Solving relaxed $LP_s$\n",
    "\n",
    "No integer constraint."
   ]
  },
  {
   "cell_type": "code",
   "execution_count": 174,
   "metadata": {
    "ExecuteTime": {
     "end_time": "2017-10-31T12:02:09.156413Z",
     "start_time": "2017-10-31T12:02:09.140865Z"
    },
    "collapsed": true,
    "hidden": true
   },
   "outputs": [
    {
     "name": "stdout",
     "output_type": "stream",
     "text": [
      "Populating $LP_20$...\n",
      "+ set variable types as ['C', 'C', 'C', 'C', 'C', 'C']\n",
      "+ added bounds\n",
      "+ added 2 one-price constraints for 2 configs\n",
      "+ added sum constraint\n",
      "+ added objective function\n",
      "Type of problem: LP\n",
      "\n",
      "Started solver\n",
      "Tried aggregator 1 time.\n",
      "No LP presolve or aggregator reductions.\n",
      "Presolve time = 0.00 sec. (0.00 ticks)\n",
      "Initializing dual steep norms . . .\n"
     ]
    }
   ],
   "source": [
    "prob = populateLP(s, today, configs, prices, inv_amount, binary=False)\n",
    "print()\n",
    "print('Started solver')\n",
    "prob.solve()"
   ]
  },
  {
   "cell_type": "markdown",
   "metadata": {
    "hidden": true
   },
   "source": [
    "#### Examine solution"
   ]
  },
  {
   "cell_type": "code",
   "execution_count": 175,
   "metadata": {
    "ExecuteTime": {
     "end_time": "2017-10-31T12:02:26.193479Z",
     "start_time": "2017-10-31T12:02:26.184052Z"
    },
    "code_folding": [
     0
    ],
    "collapsed": false,
    "hidden": true
   },
   "outputs": [],
   "source": [
    "def show_sol_info(prob):\n",
    "    numrows = prob.linear_constraints.get_num()\n",
    "    numcols = prob.variables.get_num()\n",
    "    print()\n",
    "    # solution.get_status() returns an integer code\n",
    "    print(\"Solution status = \", prob.solution.get_status(), \":\", end=' ')\n",
    "    # which is used to print the corresponding string\n",
    "    print(prob.solution.status[prob.solution.get_status()])\n",
    "\n",
    "    print(\"Solution value  = \", prob.solution.get_objective_value())\n",
    "    slack = prob.solution.get_linear_slacks()\n",
    "    pi = prob.solution.get_dual_values()\n",
    "    x = prob.solution.get_values()\n",
    "    dj = prob.solution.get_reduced_costs()\n",
    "    for i in range(numrows):\n",
    "        print(\"Row %d:  Slack = %10f  Pi = %10f\" % (i, slack[i], pi[i]))\n",
    "    for j in range(numcols):\n",
    "        print(\"Column %d:  Value = %10f Reduced cost = %10f\" %\n",
    "              (j, x[j], dj[j]))"
   ]
  },
  {
   "cell_type": "markdown",
   "metadata": {
    "heading_collapsed": true
   },
   "source": [
    "### Solving IP\n",
    "\n",
    "currently has some problem."
   ]
  },
  {
   "cell_type": "code",
   "execution_count": 170,
   "metadata": {
    "ExecuteTime": {
     "end_time": "2017-10-31T11:56:41.623292Z",
     "start_time": "2017-10-31T11:56:41.515525Z"
    },
    "collapsed": false,
    "hidden": true,
    "scrolled": true
   },
   "outputs": [
    {
     "name": "stderr",
     "output_type": "stream",
     "text": [
      "CPLEX Error  1017: Not available for mixed-integer problems.\n"
     ]
    },
    {
     "name": "stdout",
     "output_type": "stream",
     "text": [
      "\n",
      "Started solver\n",
      "MIP emphasis: balance optimality and feasibility.\n",
      "MIP search method: dynamic search.\n",
      "Parallel mode: deterministic, using up to 8 threads.\n",
      "Root relaxation solution time = 0.00 sec. (0.00 ticks)\n",
      "\n",
      "        Nodes                                         Cuts/\n",
      "   Node  Left     Objective  IInf  Best Integer    Best Bound    ItCnt     Gap\n",
      "\n",
      "*     0     0      integral     0      115.0000      115.0000        0    0.00%\n",
      "Elapsed time = 0.01 sec. (0.01 ticks, tree = 0.00 MB, solutions = 1)\n",
      "\n",
      "Root node processing (before b&c):\n",
      "  Real time             =    0.01 sec. (0.01 ticks)\n",
      "Parallel b&c, 8 threads:\n",
      "  Real time             =    0.00 sec. (0.00 ticks)\n",
      "  Sync time (average)   =    0.00 sec.\n",
      "  Wait time (average)   =    0.00 sec.\n",
      "                          ------------\n",
      "Total (root+branch&cut) =    0.01 sec. (0.01 ticks)\n"
     ]
    },
    {
     "name": "stderr",
     "output_type": "stream",
     "text": [
      "CPLEX Error  1017: Not available for mixed-integer problems.\n"
     ]
    },
    {
     "name": "stdout",
     "output_type": "stream",
     "text": [
      "\n",
      "Solution status =  101 : MIP_optimal\n",
      "Solution value  =  115.0\n"
     ]
    },
    {
     "ename": "CplexSolverError",
     "evalue": "CPLEX Error  1017: Not available for mixed-integer problems.",
     "output_type": "error",
     "traceback": [
      "\u001b[0;31m---------------------------------------------------------------------------\u001b[0m",
      "\u001b[0;31mCplexSolverError\u001b[0m                          Traceback (most recent call last)",
      "\u001b[0;32m<ipython-input-170-b4fa073355a4>\u001b[0m in \u001b[0;36m<module>\u001b[0;34m()\u001b[0m\n\u001b[1;32m      4\u001b[0m \u001b[0;32mprint\u001b[0m\u001b[0;34m(\u001b[0m\u001b[0;34m'Started solver'\u001b[0m\u001b[0;34m)\u001b[0m\u001b[0;34m\u001b[0m\u001b[0m\n\u001b[1;32m      5\u001b[0m \u001b[0mprob\u001b[0m\u001b[0;34m.\u001b[0m\u001b[0msolve\u001b[0m\u001b[0;34m(\u001b[0m\u001b[0;34m)\u001b[0m\u001b[0;34m\u001b[0m\u001b[0m\n\u001b[0;32m----> 6\u001b[0;31m \u001b[0mshow_sol_info\u001b[0m\u001b[0;34m(\u001b[0m\u001b[0mprob\u001b[0m\u001b[0;34m)\u001b[0m\u001b[0;34m\u001b[0m\u001b[0m\n\u001b[0m",
      "\u001b[0;32m<ipython-input-132-a6ea48f9ae10>\u001b[0m in \u001b[0;36mshow_sol_info\u001b[0;34m(prob)\u001b[0m\n\u001b[1;32m     10\u001b[0m     \u001b[0;32mprint\u001b[0m\u001b[0;34m(\u001b[0m\u001b[0;34m\"Solution value  = \"\u001b[0m\u001b[0;34m,\u001b[0m \u001b[0mprob\u001b[0m\u001b[0;34m.\u001b[0m\u001b[0msolution\u001b[0m\u001b[0;34m.\u001b[0m\u001b[0mget_objective_value\u001b[0m\u001b[0;34m(\u001b[0m\u001b[0;34m)\u001b[0m\u001b[0;34m)\u001b[0m\u001b[0;34m\u001b[0m\u001b[0m\n\u001b[1;32m     11\u001b[0m     \u001b[0mslack\u001b[0m \u001b[0;34m=\u001b[0m \u001b[0mprob\u001b[0m\u001b[0;34m.\u001b[0m\u001b[0msolution\u001b[0m\u001b[0;34m.\u001b[0m\u001b[0mget_linear_slacks\u001b[0m\u001b[0;34m(\u001b[0m\u001b[0;34m)\u001b[0m\u001b[0;34m\u001b[0m\u001b[0m\n\u001b[0;32m---> 12\u001b[0;31m     \u001b[0mpi\u001b[0m \u001b[0;34m=\u001b[0m \u001b[0mprob\u001b[0m\u001b[0;34m.\u001b[0m\u001b[0msolution\u001b[0m\u001b[0;34m.\u001b[0m\u001b[0mget_dual_values\u001b[0m\u001b[0;34m(\u001b[0m\u001b[0;34m)\u001b[0m\u001b[0;34m\u001b[0m\u001b[0m\n\u001b[0m\u001b[1;32m     13\u001b[0m     \u001b[0mx\u001b[0m \u001b[0;34m=\u001b[0m \u001b[0mprob\u001b[0m\u001b[0;34m.\u001b[0m\u001b[0msolution\u001b[0m\u001b[0;34m.\u001b[0m\u001b[0mget_values\u001b[0m\u001b[0;34m(\u001b[0m\u001b[0;34m)\u001b[0m\u001b[0;34m\u001b[0m\u001b[0m\n\u001b[1;32m     14\u001b[0m     \u001b[0mdj\u001b[0m \u001b[0;34m=\u001b[0m \u001b[0mprob\u001b[0m\u001b[0;34m.\u001b[0m\u001b[0msolution\u001b[0m\u001b[0;34m.\u001b[0m\u001b[0mget_reduced_costs\u001b[0m\u001b[0;34m(\u001b[0m\u001b[0;34m)\u001b[0m\u001b[0;34m\u001b[0m\u001b[0m\n",
      "\u001b[0;32m/Users/gfg/anaconda/envs/py27/lib/python2.7/site-packages/cplex/_internal/_subinterfaces.pyc\u001b[0m in \u001b[0;36mget_dual_values\u001b[0;34m(self, *args)\u001b[0m\n\u001b[1;32m   7659\u001b[0m             \u001b[0;32mreturn\u001b[0m \u001b[0mCPX_PROC\u001b[0m\u001b[0;34m.\u001b[0m\u001b[0mgetpi\u001b[0m\u001b[0;34m(\u001b[0m\u001b[0mself\u001b[0m\u001b[0;34m.\u001b[0m\u001b[0m_env\u001b[0m\u001b[0;34m.\u001b[0m\u001b[0m_e\u001b[0m\u001b[0;34m,\u001b[0m \u001b[0mself\u001b[0m\u001b[0;34m.\u001b[0m\u001b[0m_cplex\u001b[0m\u001b[0;34m.\u001b[0m\u001b[0m_lp\u001b[0m\u001b[0;34m,\u001b[0m \u001b[0ma\u001b[0m\u001b[0;34m,\u001b[0m \u001b[0mb\u001b[0m\u001b[0;34m)\u001b[0m\u001b[0;34m\u001b[0m\u001b[0m\n\u001b[1;32m   7660\u001b[0m         return apply_freeform_two_args(\n\u001b[0;32m-> 7661\u001b[0;31m             getpi, self._cplex.linear_constraints.get_indices, args)\n\u001b[0m\u001b[1;32m   7662\u001b[0m \u001b[0;34m\u001b[0m\u001b[0m\n\u001b[1;32m   7663\u001b[0m     \u001b[0;32mdef\u001b[0m \u001b[0mget_quadratic_dualslack\u001b[0m\u001b[0;34m(\u001b[0m\u001b[0mself\u001b[0m\u001b[0;34m,\u001b[0m\u001b[0;34m*\u001b[0m\u001b[0margs\u001b[0m\u001b[0;34m)\u001b[0m\u001b[0;34m:\u001b[0m\u001b[0;34m\u001b[0m\u001b[0m\n",
      "\u001b[0;32m/Users/gfg/anaconda/envs/py27/lib/python2.7/site-packages/cplex/_internal/_aux_functions.pyc\u001b[0m in \u001b[0;36mapply_freeform_two_args\u001b[0;34m(fn, convert, args)\u001b[0m\n\u001b[1;32m     71\u001b[0m             \u001b[0;32mraise\u001b[0m \u001b[0mTypeError\u001b[0m\u001b[0;34m(\u001b[0m\u001b[0;34m\"expecting name or index\"\u001b[0m\u001b[0;34m)\u001b[0m\u001b[0;34m\u001b[0m\u001b[0m\n\u001b[1;32m     72\u001b[0m     \u001b[0;32melif\u001b[0m \u001b[0mlen\u001b[0m\u001b[0;34m(\u001b[0m\u001b[0margs\u001b[0m\u001b[0;34m)\u001b[0m \u001b[0;34m==\u001b[0m \u001b[0;36m0\u001b[0m\u001b[0;34m:\u001b[0m\u001b[0;34m\u001b[0m\u001b[0m\n\u001b[0;32m---> 73\u001b[0;31m         \u001b[0;32mreturn\u001b[0m \u001b[0mfn\u001b[0m\u001b[0;34m(\u001b[0m\u001b[0;36m0\u001b[0m\u001b[0;34m)\u001b[0m\u001b[0;34m\u001b[0m\u001b[0m\n\u001b[0m\u001b[1;32m     74\u001b[0m     \u001b[0;32melse\u001b[0m\u001b[0;34m:\u001b[0m\u001b[0;34m\u001b[0m\u001b[0m\n\u001b[1;32m     75\u001b[0m         \u001b[0;32mraise\u001b[0m \u001b[0mWrongNumberOfArgumentsError\u001b[0m\u001b[0;34m(\u001b[0m\u001b[0;34m)\u001b[0m\u001b[0;34m\u001b[0m\u001b[0m\n",
      "\u001b[0;32m/Users/gfg/anaconda/envs/py27/lib/python2.7/site-packages/cplex/_internal/_subinterfaces.pyc\u001b[0m in \u001b[0;36mgetpi\u001b[0;34m(a, b)\u001b[0m\n\u001b[1;32m   7657\u001b[0m         \"\"\"\n\u001b[1;32m   7658\u001b[0m         \u001b[0;32mdef\u001b[0m \u001b[0mgetpi\u001b[0m\u001b[0;34m(\u001b[0m\u001b[0ma\u001b[0m\u001b[0;34m,\u001b[0m \u001b[0mb\u001b[0m \u001b[0;34m=\u001b[0m \u001b[0mself\u001b[0m\u001b[0;34m.\u001b[0m\u001b[0m_cplex\u001b[0m\u001b[0;34m.\u001b[0m\u001b[0mlinear_constraints\u001b[0m\u001b[0;34m.\u001b[0m\u001b[0mget_num\u001b[0m\u001b[0;34m(\u001b[0m\u001b[0;34m)\u001b[0m \u001b[0;34m-\u001b[0m \u001b[0;36m1\u001b[0m\u001b[0;34m)\u001b[0m\u001b[0;34m:\u001b[0m\u001b[0;34m\u001b[0m\u001b[0m\n\u001b[0;32m-> 7659\u001b[0;31m             \u001b[0;32mreturn\u001b[0m \u001b[0mCPX_PROC\u001b[0m\u001b[0;34m.\u001b[0m\u001b[0mgetpi\u001b[0m\u001b[0;34m(\u001b[0m\u001b[0mself\u001b[0m\u001b[0;34m.\u001b[0m\u001b[0m_env\u001b[0m\u001b[0;34m.\u001b[0m\u001b[0m_e\u001b[0m\u001b[0;34m,\u001b[0m \u001b[0mself\u001b[0m\u001b[0;34m.\u001b[0m\u001b[0m_cplex\u001b[0m\u001b[0;34m.\u001b[0m\u001b[0m_lp\u001b[0m\u001b[0;34m,\u001b[0m \u001b[0ma\u001b[0m\u001b[0;34m,\u001b[0m \u001b[0mb\u001b[0m\u001b[0;34m)\u001b[0m\u001b[0;34m\u001b[0m\u001b[0m\n\u001b[0m\u001b[1;32m   7660\u001b[0m         return apply_freeform_two_args(\n\u001b[1;32m   7661\u001b[0m             getpi, self._cplex.linear_constraints.get_indices, args)\n",
      "\u001b[0;32m/Users/gfg/anaconda/envs/py27/lib/python2.7/site-packages/cplex/_internal/_procedural.pyc\u001b[0m in \u001b[0;36mgetpi\u001b[0;34m(env, lp, begin, end)\u001b[0m\n\u001b[1;32m   1537\u001b[0m     \u001b[0mpi\u001b[0m    \u001b[0;34m=\u001b[0m \u001b[0m_safeDoubleArray\u001b[0m\u001b[0;34m(\u001b[0m\u001b[0mpilen\u001b[0m\u001b[0;34m)\u001b[0m\u001b[0;34m\u001b[0m\u001b[0m\n\u001b[1;32m   1538\u001b[0m     \u001b[0mstatus\u001b[0m \u001b[0;34m=\u001b[0m \u001b[0mCR\u001b[0m\u001b[0;34m.\u001b[0m\u001b[0mCPXXgetpi\u001b[0m\u001b[0;34m(\u001b[0m\u001b[0menv\u001b[0m\u001b[0;34m,\u001b[0m \u001b[0mlp\u001b[0m\u001b[0;34m,\u001b[0m \u001b[0mpi\u001b[0m\u001b[0;34m,\u001b[0m \u001b[0mbegin\u001b[0m\u001b[0;34m,\u001b[0m \u001b[0mend\u001b[0m\u001b[0;34m)\u001b[0m\u001b[0;34m\u001b[0m\u001b[0m\n\u001b[0;32m-> 1539\u001b[0;31m     \u001b[0mcheck_status\u001b[0m\u001b[0;34m(\u001b[0m\u001b[0menv\u001b[0m\u001b[0;34m,\u001b[0m \u001b[0mstatus\u001b[0m\u001b[0;34m)\u001b[0m\u001b[0;34m\u001b[0m\u001b[0m\n\u001b[0m\u001b[1;32m   1540\u001b[0m     \u001b[0;32mreturn\u001b[0m \u001b[0mLAU\u001b[0m\u001b[0;34m.\u001b[0m\u001b[0marray_to_list\u001b[0m\u001b[0;34m(\u001b[0m\u001b[0mpi\u001b[0m\u001b[0;34m,\u001b[0m \u001b[0mpilen\u001b[0m\u001b[0;34m)\u001b[0m\u001b[0;34m\u001b[0m\u001b[0m\n\u001b[1;32m   1541\u001b[0m \u001b[0;34m\u001b[0m\u001b[0m\n",
      "\u001b[0;32m/Users/gfg/anaconda/envs/py27/lib/python2.7/site-packages/cplex/_internal/_procedural.pyc\u001b[0m in \u001b[0;36m__call__\u001b[0;34m(self, env, status, from_cb)\u001b[0m\n\u001b[1;32m    222\u001b[0m                 \u001b[0;32melse\u001b[0m\u001b[0;34m:\u001b[0m\u001b[0;34m\u001b[0m\u001b[0m\n\u001b[1;32m    223\u001b[0m                     \u001b[0merror_string\u001b[0m \u001b[0;34m=\u001b[0m \u001b[0mgeterrorstring\u001b[0m\u001b[0;34m(\u001b[0m\u001b[0menv\u001b[0m\u001b[0;34m,\u001b[0m \u001b[0mstatus\u001b[0m\u001b[0;34m)\u001b[0m\u001b[0;34m\u001b[0m\u001b[0m\n\u001b[0;32m--> 224\u001b[0;31m             \u001b[0;32mraise\u001b[0m \u001b[0mCplexSolverError\u001b[0m\u001b[0;34m(\u001b[0m\u001b[0merror_string\u001b[0m\u001b[0;34m,\u001b[0m \u001b[0menv\u001b[0m\u001b[0;34m,\u001b[0m \u001b[0mstatus\u001b[0m\u001b[0;34m)\u001b[0m\u001b[0;34m\u001b[0m\u001b[0m\n\u001b[0m\u001b[1;32m    225\u001b[0m \u001b[0;34m\u001b[0m\u001b[0m\n\u001b[1;32m    226\u001b[0m \u001b[0mcheck_status\u001b[0m \u001b[0;34m=\u001b[0m \u001b[0mStatusChecker\u001b[0m\u001b[0;34m(\u001b[0m\u001b[0;34m)\u001b[0m\u001b[0;34m\u001b[0m\u001b[0m\n",
      "\u001b[0;31mCplexSolverError\u001b[0m: CPLEX Error  1017: Not available for mixed-integer problems."
     ]
    }
   ],
   "source": [
    "prob.set_problem_type(Cplex.problem_type.MILP)\n",
    "print()\n",
    "print('Started solver')\n",
    "prob.solve()\n",
    "show_sol_info(prob)"
   ]
  },
  {
   "cell_type": "markdown",
   "metadata": {},
   "source": [
    "### Calculate lower bound for $IP_s$"
   ]
  },
  {
   "cell_type": "code",
   "execution_count": null,
   "metadata": {
    "collapsed": true
   },
   "outputs": [],
   "source": []
  },
  {
   "cell_type": "markdown",
   "metadata": {},
   "source": [
    "## Find global optimum"
   ]
  },
  {
   "cell_type": "code",
   "execution_count": null,
   "metadata": {
    "collapsed": true
   },
   "outputs": [],
   "source": []
  },
  {
   "cell_type": "markdown",
   "metadata": {},
   "source": [
    "# Tests"
   ]
  },
  {
   "cell_type": "markdown",
   "metadata": {
    "heading_collapsed": true
   },
   "source": [
    "## Toy test case"
   ]
  },
  {
   "cell_type": "code",
   "execution_count": 140,
   "metadata": {
    "ExecuteTime": {
     "end_time": "2017-10-30T17:34:49.408718Z",
     "start_time": "2017-10-30T17:34:49.403078Z"
    },
    "code_folding": [
     0
    ],
    "collapsed": true,
    "hidden": true
   },
   "outputs": [],
   "source": [
    "# set up test\n",
    "configs, prices = ['cf1', 'cf2'], range(5, 20, 5)\n",
    "n_config, n_price = len(configs), len(prices)\n",
    "inv_amount = np.random.randint(1, 10, n_config)\n",
    "today = pd.datetime.today()\n",
    "\n",
    "min_s, max_s = n_config * min(prices), n_config * max(prices)\n",
    "s = rand_int_in(min_s, max_s)\n",
    "today = pd.datetime.today()"
   ]
  },
  {
   "cell_type": "code",
   "execution_count": 178,
   "metadata": {
    "ExecuteTime": {
     "end_time": "2017-10-31T12:04:27.696196Z",
     "start_time": "2017-10-31T12:04:27.675153Z"
    },
    "collapsed": true,
    "hidden": true
   },
   "outputs": [
    {
     "name": "stdout",
     "output_type": "stream",
     "text": [
      "Populating $LP_20$...\n",
      "+ set variable types as ['C', 'C', 'C', 'C', 'C', 'C']\n",
      "+ added bounds\n",
      "+ added 2 one-price constraints for 2 configs\n",
      "+ added sum constraint\n",
      "+ added objective function\n",
      "Type of problem: LP\n",
      "\n",
      "Started solver\n",
      "Tried aggregator 1 time.\n",
      "No LP presolve or aggregator reductions.\n",
      "Presolve time = 0.00 sec. (0.00 ticks)\n",
      "Initializing dual steep norms . . .\n",
      "\n",
      "Iteration log . . .\n",
      "Iteration:     1   Dual objective     =           105.000000\n",
      "\n",
      "Solution status =  1 : optimal\n",
      "Solution value  =  105.0\n",
      "Row 0:  Slack =   0.000000  Pi =  15.000000\n",
      "Row 1:  Slack =   0.000000  Pi =  10.000000\n",
      "Row 2:  Slack =   0.000000  Pi =   4.000000\n",
      "Column 0:  Value =   0.500000 Reduced cost =  -0.000000\n",
      "Column 1:  Value =   0.000000 Reduced cost = -35.000000\n",
      "Column 2:  Value =   0.500000 Reduced cost =  -0.000000\n",
      "Column 3:  Value =   0.000000 Reduced cost = -20.000000\n",
      "Column 4:  Value =   1.000000 Reduced cost =  -0.000000\n",
      "Column 5:  Value =   0.000000 Reduced cost = -55.000000\n"
     ]
    }
   ],
   "source": [
    "prob = populateLP(s, today, configs, prices, inv_amount, binary=False)\n",
    "print()\n",
    "print('Started solver')\n",
    "prob.solve()\n",
    "show_sol_info(prob) "
   ]
  },
  {
   "cell_type": "markdown",
   "metadata": {},
   "source": [
    "## Real data"
   ]
  },
  {
   "cell_type": "markdown",
   "metadata": {
    "heading_collapsed": true
   },
   "source": [
    "# Old tests"
   ]
  },
  {
   "cell_type": "code",
   "execution_count": 126,
   "metadata": {
    "ExecuteTime": {
     "end_time": "2017-10-30T16:49:31.832069Z",
     "start_time": "2017-10-30T16:49:31.811325Z"
    },
    "collapsed": false,
    "hidden": true,
    "scrolled": false
   },
   "outputs": [
    {
     "name": "stdout",
     "output_type": "stream",
     "text": [
      "+ added 2 one-price constraints for 2 configs\n",
      "+ added sum constraint\n",
      "+ added objective function\n"
     ]
    },
    {
     "data": {
      "text/html": [
       "<div>\n",
       "<table border=\"1\" class=\"dataframe\">\n",
       "  <thead>\n",
       "    <tr style=\"text-align: right;\">\n",
       "      <th></th>\n",
       "      <th>name</th>\n",
       "      <th>lhs</th>\n",
       "      <th>sense</th>\n",
       "      <th>rhs</th>\n",
       "    </tr>\n",
       "  </thead>\n",
       "  <tbody>\n",
       "    <tr>\n",
       "      <th>0</th>\n",
       "      <td>opc_config_0</td>\n",
       "      <td>1.0x_11 + 1.0x_12 + 1.0x_13</td>\n",
       "      <td>E</td>\n",
       "      <td>1.0</td>\n",
       "    </tr>\n",
       "    <tr>\n",
       "      <th>1</th>\n",
       "      <td>opc_config_1</td>\n",
       "      <td>1.0x_21 + 1.0x_22 + 1.0x_23</td>\n",
       "      <td>E</td>\n",
       "      <td>1.0</td>\n",
       "    </tr>\n",
       "    <tr>\n",
       "      <th>2</th>\n",
       "      <td>sum_constraint</td>\n",
       "      <td>5.0x_11 + 10.0x_12 + 15.0x_13 + 5.0x_21 + 10.0...</td>\n",
       "      <td>E</td>\n",
       "      <td>17.0</td>\n",
       "    </tr>\n",
       "  </tbody>\n",
       "</table>\n",
       "</div>"
      ],
      "text/plain": [
       "             name                                                lhs sense  \\\n",
       "0    opc_config_0                        1.0x_11 + 1.0x_12 + 1.0x_13     E   \n",
       "1    opc_config_1                        1.0x_21 + 1.0x_22 + 1.0x_23     E   \n",
       "2  sum_constraint  5.0x_11 + 10.0x_12 + 15.0x_13 + 5.0x_21 + 10.0...     E   \n",
       "\n",
       "    rhs  \n",
       "0   1.0  \n",
       "1   1.0  \n",
       "2  17.0  "
      ]
     },
     "execution_count": 126,
     "metadata": {},
     "output_type": "execute_result"
    }
   ],
   "source": [
    "prob = Cplex()\n",
    "prob, predicted_demands = populatebyrow(prob, total_price=s, dd=today, configs=configs, prices=prices, inv_amount=inv_amount)\n",
    "get_constraints(prob)"
   ]
  },
  {
   "cell_type": "code",
   "execution_count": 127,
   "metadata": {
    "ExecuteTime": {
     "end_time": "2017-10-30T16:49:34.724495Z",
     "start_time": "2017-10-30T16:49:34.713084Z"
    },
    "collapsed": false,
    "hidden": true,
    "scrolled": true
   },
   "outputs": [
    {
     "data": {
      "text/html": [
       "<div>\n",
       "<table border=\"1\" class=\"dataframe\">\n",
       "  <thead>\n",
       "    <tr style=\"text-align: right;\">\n",
       "      <th></th>\n",
       "      <th>obj_coef</th>\n",
       "      <th>pred_demand</th>\n",
       "      <th>price</th>\n",
       "    </tr>\n",
       "  </thead>\n",
       "  <tbody>\n",
       "    <tr>\n",
       "      <th>0</th>\n",
       "      <td>10.0</td>\n",
       "      <td>2</td>\n",
       "      <td>5</td>\n",
       "    </tr>\n",
       "    <tr>\n",
       "      <th>1</th>\n",
       "      <td>10.0</td>\n",
       "      <td>1</td>\n",
       "      <td>10</td>\n",
       "    </tr>\n",
       "    <tr>\n",
       "      <th>2</th>\n",
       "      <td>135.0</td>\n",
       "      <td>9</td>\n",
       "      <td>15</td>\n",
       "    </tr>\n",
       "    <tr>\n",
       "      <th>3</th>\n",
       "      <td>5.0</td>\n",
       "      <td>1</td>\n",
       "      <td>5</td>\n",
       "    </tr>\n",
       "    <tr>\n",
       "      <th>4</th>\n",
       "      <td>30.0</td>\n",
       "      <td>3</td>\n",
       "      <td>10</td>\n",
       "    </tr>\n",
       "    <tr>\n",
       "      <th>5</th>\n",
       "      <td>120.0</td>\n",
       "      <td>8</td>\n",
       "      <td>15</td>\n",
       "    </tr>\n",
       "  </tbody>\n",
       "</table>\n",
       "</div>"
      ],
      "text/plain": [
       "   obj_coef  pred_demand  price\n",
       "0      10.0            2      5\n",
       "1      10.0            1     10\n",
       "2     135.0            9     15\n",
       "3       5.0            1      5\n",
       "4      30.0            3     10\n",
       "5     120.0            8     15"
      ]
     },
     "execution_count": 127,
     "metadata": {},
     "output_type": "execute_result"
    }
   ],
   "source": [
    "concat_prices = np.array([prices] * len(configs)).ravel()\n",
    "obj_coefs = prob.objective.get_linear()\n",
    "pd.DataFrame({'price': concat_prices, 'pred_demand': predicted_demands, 'obj_coef': obj_coefs})"
   ]
  },
  {
   "cell_type": "code",
   "execution_count": 35,
   "metadata": {
    "ExecuteTime": {
     "end_time": "2017-10-27T16:58:49.517685Z",
     "start_time": "2017-10-27T16:58:49.511933Z"
    },
    "collapsed": false,
    "hidden": true
   },
   "outputs": [
    {
     "data": {
      "text/plain": [
       "array(['x_11', 'x_12', 'x_13', 'x_21', 'x_22', 'x_23'], \n",
       "      dtype='|S4')"
      ]
     },
     "execution_count": 35,
     "metadata": {},
     "output_type": "execute_result"
    }
   ],
   "source": [
    "mk_var_names(n_config=2, n_price=3).ravel()"
   ]
  },
  {
   "cell_type": "code",
   "execution_count": 19,
   "metadata": {
    "ExecuteTime": {
     "end_time": "2017-10-27T16:36:10.721178Z",
     "start_time": "2017-10-27T16:36:10.714825Z"
    },
    "code_folding": [],
    "collapsed": false,
    "hidden": true
   },
   "outputs": [
    {
     "data": {
      "text/plain": [
       "[SparsePair(ind = ['x_11', 'x_12', 'x_13'], val = array([ 1.,  1.,  1.])),\n",
       " SparsePair(ind = ['x_21', 'x_22', 'x_23'], val = array([ 1.,  1.,  1.]))]"
      ]
     },
     "execution_count": 19,
     "metadata": {},
     "output_type": "execute_result"
    }
   ],
   "source": [
    "mk_opc_lhs(configs=['cf1', 'cf2'], prices=[5,10,15])"
   ]
  },
  {
   "cell_type": "code",
   "execution_count": 36,
   "metadata": {
    "ExecuteTime": {
     "end_time": "2017-10-27T16:59:56.046623Z",
     "start_time": "2017-10-27T16:59:56.037762Z"
    },
    "collapsed": false,
    "hidden": true
   },
   "outputs": [
    {
     "name": "stdout",
     "output_type": "stream",
     "text": [
      "Added 2 single-price constraints for 2 configs...\n"
     ]
    },
    {
     "data": {
      "text/plain": [
       "<cplex.Cplex at 0x111034110>"
      ]
     },
     "execution_count": 36,
     "metadata": {},
     "output_type": "execute_result"
    }
   ],
   "source": [
    "add_one_price_constraints(prob, configs=['cf1', 'cf2'], prices=[5,10,15])"
   ]
  }
 ],
 "metadata": {
  "kernelspec": {
   "display_name": "Python 2",
   "language": "python",
   "name": "python2"
  },
  "language_info": {
   "codemirror_mode": {
    "name": "ipython",
    "version": 2
   },
   "file_extension": ".py",
   "mimetype": "text/x-python",
   "name": "python",
   "nbconvert_exporter": "python",
   "pygments_lexer": "ipython2",
   "version": "2.7.13"
  },
  "toc": {
   "colors": {
    "hover_highlight": "#DAA520",
    "navigate_num": "#000000",
    "navigate_text": "#333333",
    "running_highlight": "#FF0000",
    "selected_highlight": "#FFD700",
    "sidebar_border": "#EEEEEE",
    "wrapper_background": "#FFFFFF"
   },
   "moveMenuLeft": true,
   "nav_menu": {
    "height": "12px",
    "width": "252px"
   },
   "navigate_menu": true,
   "number_sections": true,
   "sideBar": true,
   "threshold": 4,
   "toc_cell": false,
   "toc_position": {
    "height": "599px",
    "left": "0px",
    "right": "885.143px",
    "top": "106px",
    "width": "212px"
   },
   "toc_section_display": "block",
   "toc_window_display": true,
   "widenNotebook": false
  },
  "varInspector": {
   "cols": {
    "lenName": 16,
    "lenType": 16,
    "lenVar": 40
   },
   "kernels_config": {
    "python": {
     "delete_cmd_postfix": "",
     "delete_cmd_prefix": "del ",
     "library": "var_list.py",
     "varRefreshCmd": "print(var_dic_list())"
    },
    "r": {
     "delete_cmd_postfix": ") ",
     "delete_cmd_prefix": "rm(",
     "library": "var_list.r",
     "varRefreshCmd": "cat(var_dic_list()) "
    }
   },
   "types_to_exclude": [
    "module",
    "function",
    "builtin_function_or_method",
    "instance",
    "_Feature"
   ],
   "window_display": false
  }
 },
 "nbformat": 4,
 "nbformat_minor": 2
}
