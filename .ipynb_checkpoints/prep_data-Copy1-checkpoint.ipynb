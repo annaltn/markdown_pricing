{
 "cells": [
  {
   "cell_type": "markdown",
   "metadata": {
    "heading_collapsed": true
   },
   "source": [
    "## Preps"
   ]
  },
  {
   "cell_type": "code",
   "execution_count": 1,
   "metadata": {
    "ExecuteTime": {
     "end_time": "2017-09-19T10:09:36.805112Z",
     "start_time": "2017-09-19T10:09:35.409899Z"
    },
    "code_folding": [],
    "collapsed": true,
    "hidden": true
   },
   "outputs": [],
   "source": [
    "import pandas as pd\n",
    "import numpy as np\n",
    "import sklearn.preprocessing as prep"
   ]
  },
  {
   "cell_type": "code",
   "execution_count": 2,
   "metadata": {
    "ExecuteTime": {
     "end_time": "2017-09-19T10:09:36.809930Z",
     "start_time": "2017-09-19T10:09:36.806738Z"
    },
    "collapsed": true,
    "hidden": true
   },
   "outputs": [],
   "source": [
    "DAT_DIR = '/Users/gfg/data/venture=Zalora/sg/'\n",
    "CLEAN_DIR = DAT_DIR + 'clean/'; FIG_DIR = DAT_DIR + 'fig/'\n",
    "GROUP_DIR = CLEAN_DIR + 'groups/'; FEAT_DIR = GROUP_DIR + 'feats/'"
   ]
  },
  {
   "cell_type": "markdown",
   "metadata": {},
   "source": [
    "## Helpers"
   ]
  },
  {
   "cell_type": "code",
   "execution_count": 5,
   "metadata": {
    "ExecuteTime": {
     "end_time": "2017-09-19T10:14:52.791915Z",
     "start_time": "2017-09-19T10:14:52.783656Z"
    },
    "collapsed": true
   },
   "outputs": [],
   "source": [
    "def date_range(df):\n",
    "    return (min(df['date']), max(df['date']))\n",
    "\n",
    "def load_feats(gname='dresses_female_autumn-winter'): # Load group feats\n",
    "    gid = tuple(gname.split('_'))\n",
    "    fname = FEAT_DIR + '{}.csv'.format(gname)\n",
    "    group_feat = pd.read_csv(fname, parse_dates=['snapshot_date'])\n",
    "\n",
    "    group_feat.dropna(subset=['sku_config'], inplace=True)\n",
    "    print('dropped NA configs')\n",
    "    return group_feat\n",
    "\n",
    "def mask(c, df, encoder):\n",
    "    print('encoding column {}...'.format(c))\n",
    "    df['masked_{}'.format(c)] = encoder.fit_transform(df[c])\n",
    "    return df"
   ]
  },
  {
   "cell_type": "markdown",
   "metadata": {
    "heading_collapsed": true
   },
   "source": [
    "# Load & Join Tables"
   ]
  },
  {
   "cell_type": "markdown",
   "metadata": {
    "heading_collapsed": true,
    "hidden": true
   },
   "source": [
    "## Load"
   ]
  },
  {
   "cell_type": "code",
   "execution_count": null,
   "metadata": {
    "ExecuteTime": {
     "end_time": "2017-09-18T14:41:27.321735Z",
     "start_time": "2017-09-18T14:41:22.909786Z"
    },
    "collapsed": true,
    "hidden": true
   },
   "outputs": [],
   "source": [
    "# catalog data\n",
    "prod_df = pd.read_csv(CLEAN_DIR + 'products.csv')\n",
    "prod_df.info()"
   ]
  },
  {
   "cell_type": "code",
   "execution_count": null,
   "metadata": {
    "ExecuteTime": {
     "end_time": "2017-09-18T14:40:18.719871Z",
     "start_time": "2017-09-18T14:40:18.290502Z"
    },
    "collapsed": true,
    "hidden": true
   },
   "outputs": [],
   "source": [
    "# sale data\n",
    "demand_simples = pd.read_csv(CLEAN_DIR + 'demand_simple.csv')\n",
    "demand_simples.info()"
   ]
  },
  {
   "cell_type": "code",
   "execution_count": null,
   "metadata": {
    "ExecuteTime": {
     "end_time": "2017-09-18T15:01:32.170157Z",
     "start_time": "2017-09-18T15:01:31.586018Z"
    },
    "code_folding": [
     0
    ],
    "collapsed": true,
    "hidden": true
   },
   "outputs": [],
   "source": [
    "# group feats (price, relative price, no. of competitors...)\n",
    "group_df = load_feats(gname='dresses_female_autumn-winter')\n",
    "group_df.info()"
   ]
  },
  {
   "cell_type": "markdown",
   "metadata": {
    "heading_collapsed": true,
    "hidden": true
   },
   "source": [
    "## Join tables\n",
    "\n",
    "We join sales table with catalog table to get properties/features of each SKU simple."
   ]
  },
  {
   "cell_type": "code",
   "execution_count": null,
   "metadata": {
    "ExecuteTime": {
     "end_time": "2017-09-18T15:27:28.787922Z",
     "start_time": "2017-09-18T15:27:24.295300Z"
    },
    "hidden": true
   },
   "outputs": [],
   "source": [
    "joined = pd.merge(demand_simples, prod_df)\n",
    "# joined.shape[0] == demand_simples.shape[0]\n",
    "\n",
    "# delete redundant cols\n",
    "del joined['sub_cat']"
   ]
  },
  {
   "cell_type": "markdown",
   "metadata": {},
   "source": [
    "# Mask sensitive info\n",
    "\n",
    "We encode sensitive info via `sklearn.preprocessing.LabelEncoder`"
   ]
  },
  {
   "cell_type": "markdown",
   "metadata": {},
   "source": [
    "## Encode"
   ]
  },
  {
   "cell_type": "markdown",
   "metadata": {},
   "source": [
    "We should encode/mask the following info:\n",
    "+ all name columns\n",
    "+ `catalog_attribute_set_label`\n",
    "+ `buying_planning_cat_type`\n",
    "+ `sub_category_type`\n",
    "+ `supplier_email`\n",
    "+ `short_description`"
   ]
  },
  {
   "cell_type": "code",
   "execution_count": 6,
   "metadata": {
    "ExecuteTime": {
     "end_time": "2017-09-19T10:15:39.603402Z",
     "start_time": "2017-09-19T10:15:39.597213Z"
    },
    "code_folding": [
     0
    ],
    "collapsed": true
   },
   "outputs": [],
   "source": [
    "def mask_data(df):\n",
    "    encoder = prep.LabelEncoder()\n",
    "    name_cols = [c for c in res.columns if ('name' in c) and ('size' not in c)]\n",
    "\n",
    "    to_mask = name_cols + ['catalog_attribute_set_label', 'buying_planning_cat_type', 'sub_category_type', \n",
    "                           'supplier_email', 'short_description']\n",
    "\n",
    "    masked_df = df.copy()\n",
    "    for c in to_mask:\n",
    "        masked_df[c].fillna('na', inplace=True)\n",
    "        masked_df = mask(c, masked_df, encoder)"
   ]
  },
  {
   "cell_type": "code",
   "execution_count": null,
   "metadata": {
    "collapsed": true
   },
   "outputs": [],
   "source": [
    "masked_df = mask_data(joined)"
   ]
  },
  {
   "cell_type": "code",
   "execution_count": null,
   "metadata": {
    "ExecuteTime": {
     "end_time": "2017-09-18T16:48:01.238683Z",
     "start_time": "2017-09-18T16:47:33.582487Z"
    },
    "collapsed": true
   },
   "outputs": [],
   "source": [
    "# save masked DF\n",
    "masked_df.to_csv(CLEAN_DIR + 'masked_data.csv', index=False)"
   ]
  },
  {
   "cell_type": "code",
   "execution_count": null,
   "metadata": {
    "ExecuteTime": {
     "end_time": "2017-09-18T16:48:06.048729Z",
     "start_time": "2017-09-18T16:48:02.924559Z"
    },
    "collapsed": true
   },
   "outputs": [],
   "source": [
    "# remove original info\n",
    "poc_df = masked_df\n",
    "for c in to_mask:\n",
    "    del poc_df[c]"
   ]
  },
  {
   "cell_type": "code",
   "execution_count": null,
   "metadata": {
    "ExecuteTime": {
     "end_time": "2017-09-18T16:50:06.040014Z",
     "start_time": "2017-09-18T16:50:04.538214Z"
    },
    "collapsed": true
   },
   "outputs": [],
   "source": [
    "masked_df.info()"
   ]
  },
  {
   "cell_type": "code",
   "execution_count": null,
   "metadata": {
    "ExecuteTime": {
     "end_time": "2017-09-18T16:56:13.439773Z",
     "start_time": "2017-09-18T16:56:13.396178Z"
    },
    "collapsed": true
   },
   "outputs": [],
   "source": [
    "masked_df['supplier_name']"
   ]
  },
  {
   "cell_type": "code",
   "execution_count": null,
   "metadata": {
    "ExecuteTime": {
     "end_time": "2017-09-18T16:56:35.582047Z",
     "start_time": "2017-09-18T16:56:35.579434Z"
    },
    "collapsed": true
   },
   "outputs": [],
   "source": [
    "poc_df = masked_df"
   ]
  },
  {
   "cell_type": "code",
   "execution_count": null,
   "metadata": {
    "ExecuteTime": {
     "end_time": "2017-09-18T16:57:17.923170Z",
     "start_time": "2017-09-18T16:56:56.744736Z"
    },
    "collapsed": true
   },
   "outputs": [],
   "source": [
    "poc_df.to_csv(CLEAN_DIR + 'poc.csv', index=False)"
   ]
  },
  {
   "cell_type": "code",
   "execution_count": null,
   "metadata": {
    "ExecuteTime": {
     "end_time": "2017-09-18T16:29:26.320227Z",
     "start_time": "2017-09-18T16:29:26.298750Z"
    },
    "collapsed": true
   },
   "outputs": [],
   "source": [
    "masked_df.masked_short_description.value_counts()"
   ]
  },
  {
   "cell_type": "code",
   "execution_count": null,
   "metadata": {
    "ExecuteTime": {
     "end_time": "2017-09-18T15:50:19.420014Z",
     "start_time": "2017-09-18T15:50:19.321107Z"
    },
    "collapsed": true
   },
   "outputs": [],
   "source": [
    "masked_df.catalog_attribute_set_label.value_counts()"
   ]
  },
  {
   "cell_type": "code",
   "execution_count": null,
   "metadata": {
    "ExecuteTime": {
     "end_time": "2017-09-18T16:15:18.672536Z",
     "start_time": "2017-09-18T16:15:18.201807Z"
    },
    "collapsed": true
   },
   "outputs": [],
   "source": [
    "masked_df = mask('catalog_attribute_set_label', masked_df)\n",
    "masked_df.masked_catalog_attribute_set_label.value_counts()"
   ]
  },
  {
   "cell_type": "code",
   "execution_count": null,
   "metadata": {
    "ExecuteTime": {
     "end_time": "2017-09-18T15:30:49.509967Z",
     "start_time": "2017-09-18T15:30:49.467892Z"
    },
    "collapsed": true
   },
   "outputs": [],
   "source": [
    "list(masked_df.short_description.unique()[:10])"
   ]
  },
  {
   "cell_type": "code",
   "execution_count": null,
   "metadata": {
    "ExecuteTime": {
     "end_time": "2017-09-18T15:52:42.254556Z",
     "start_time": "2017-09-18T15:52:42.166662Z"
    },
    "collapsed": true
   },
   "outputs": [],
   "source": [
    "masked_df.buying_planning_cat_type.value_counts()"
   ]
  },
  {
   "cell_type": "markdown",
   "metadata": {},
   "source": [
    "+ encode `supplier_source`?"
   ]
  },
  {
   "cell_type": "code",
   "execution_count": null,
   "metadata": {
    "ExecuteTime": {
     "end_time": "2017-09-18T15:28:44.129221Z",
     "start_time": "2017-09-18T15:28:44.122083Z"
    },
    "collapsed": true
   },
   "outputs": [],
   "source": [
    "masked_df.supplier_source.head()"
   ]
  },
  {
   "cell_type": "markdown",
   "metadata": {},
   "source": [
    "__ans__: no need"
   ]
  },
  {
   "cell_type": "markdown",
   "metadata": {},
   "source": [
    "+ encode category?"
   ]
  },
  {
   "cell_type": "code",
   "execution_count": null,
   "metadata": {
    "ExecuteTime": {
     "end_time": "2017-09-18T15:36:42.823002Z",
     "start_time": "2017-09-18T15:36:42.730212Z"
    },
    "collapsed": true
   },
   "outputs": [],
   "source": [
    "masked_df.category.value_counts()"
   ]
  },
  {
   "cell_type": "code",
   "execution_count": null,
   "metadata": {
    "ExecuteTime": {
     "end_time": "2017-09-18T15:39:06.945657Z",
     "start_time": "2017-09-18T15:39:06.856466Z"
    },
    "collapsed": true
   },
   "outputs": [],
   "source": [
    "masked_df.catalogue.value_counts()"
   ]
  },
  {
   "cell_type": "code",
   "execution_count": null,
   "metadata": {
    "ExecuteTime": {
     "end_time": "2017-09-18T15:39:52.771298Z",
     "start_time": "2017-09-18T15:39:52.679762Z"
    },
    "collapsed": true
   },
   "outputs": [],
   "source": [
    "masked_df.catalog_type.value_counts()"
   ]
  },
  {
   "cell_type": "markdown",
   "metadata": {},
   "source": [
    "+ `cmpgn_five`?"
   ]
  },
  {
   "cell_type": "code",
   "execution_count": null,
   "metadata": {
    "ExecuteTime": {
     "end_time": "2017-09-18T15:54:05.383376Z",
     "start_time": "2017-09-18T15:54:05.297358Z"
    }
   },
   "outputs": [],
   "source": [
    "res.cmpgn_five.value_counts()"
   ]
  }
 ],
 "metadata": {
  "kernelspec": {
   "display_name": "Python 3",
   "language": "python",
   "name": "python3"
  },
  "language_info": {
   "codemirror_mode": {
    "name": "ipython",
    "version": 3
   },
   "file_extension": ".py",
   "mimetype": "text/x-python",
   "name": "python",
   "nbconvert_exporter": "python",
   "pygments_lexer": "ipython3",
   "version": "3.6.0"
  },
  "toc": {
   "colors": {
    "hover_highlight": "#DAA520",
    "navigate_num": "#000000",
    "navigate_text": "#333333",
    "running_highlight": "#FF0000",
    "selected_highlight": "#FFD700",
    "sidebar_border": "#EEEEEE",
    "wrapper_background": "#FFFFFF"
   },
   "moveMenuLeft": true,
   "nav_menu": {
    "height": "138px",
    "width": "252px"
   },
   "navigate_menu": true,
   "number_sections": true,
   "sideBar": true,
   "threshold": 4,
   "toc_cell": false,
   "toc_section_display": "block",
   "toc_window_display": true,
   "widenNotebook": false
  },
  "varInspector": {
   "cols": {
    "lenName": 16,
    "lenType": 16,
    "lenVar": 40
   },
   "kernels_config": {
    "python": {
     "delete_cmd_postfix": "",
     "delete_cmd_prefix": "del ",
     "library": "var_list.py",
     "varRefreshCmd": "print(var_dic_list())"
    },
    "r": {
     "delete_cmd_postfix": ") ",
     "delete_cmd_prefix": "rm(",
     "library": "var_list.r",
     "varRefreshCmd": "cat(var_dic_list()) "
    }
   },
   "types_to_exclude": [
    "module",
    "function",
    "builtin_function_or_method",
    "instance",
    "_Feature"
   ],
   "window_display": false
  }
 },
 "nbformat": 4,
 "nbformat_minor": 2
}
