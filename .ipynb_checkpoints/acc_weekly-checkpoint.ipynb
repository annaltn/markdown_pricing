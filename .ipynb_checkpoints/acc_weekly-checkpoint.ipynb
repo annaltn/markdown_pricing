{
 "cells": [
  {
   "cell_type": "markdown",
   "metadata": {},
   "source": [
    "# Summary"
   ]
  },
  {
   "cell_type": "markdown",
   "metadata": {},
   "source": [
    "In this notebook, we inspect quality of weekly sale prediction models vs. that of daily prediction models. \n",
    "\n",
    "We will look at two different metrics to measure quality of prediction:\n",
    "\n",
    "+ MEDian Absolute Error (MEDAE): for each observation (a pair [SKU config, date/week] in our case), we compute one error, which is the absolute of difference between predicted and ground truth values. Then we take the median of all the errors to obtain MEDAE.\n",
    "\n",
    "+ $R^2$ score (as documented in http://scikit-learn.org/stable/modules/model_evaluation.html#regression-metrics): measures how well future samples are likely to be predicted by the model. Best possible score is 1 and it can be negative (because the model can be arbitrarily worse). A constant model that always predicts the expected value of y, disregarding the input features, would get a $R^2$ score of 0."
   ]
  },
  {
   "cell_type": "markdown",
   "metadata": {},
   "source": [
    "__Pros and cons of each metrics:__\n",
    "+ MEDAE is straightforward, easy to understand. However, it is wrong to compare directly MEDAE of __daily__ models with __weekly__ models. The reason is that we are comparing two errors at different scales. Instead, the correct way is we first need to sum up absolute errors of a daily model by week to get the total error in each week. Then compare the median of aggregated errors with MEDAE of weekly models.\n",
    "\n",
    "+ In contrast, $R^2$ is not affected by the difference in scale. It means we can directly compare $R^2$ scores of the two models without having to do any aggregation. HOwever, we now have a metrics which is harder to interpret."
   ]
  },
  {
   "cell_type": "markdown",
   "metadata": {},
   "source": [
    "__Example of aggregation:__"
   ]
  },
  {
   "cell_type": "code",
   "execution_count": 161,
   "metadata": {
    "ExecuteTime": {
     "end_time": "2018-06-06T15:46:52.979790Z",
     "start_time": "2018-06-06T15:46:52.902675Z"
    },
    "collapsed": true
   },
   "outputs": [],
   "source": [
    "folder = zal_res + 'sg/sample/dayly/predict/'\n",
    "fname = folder + 'backpacks_female_autumn_winter.csv'\n",
    "daily_pred = pd.read_csv(fname, parse_dates=['date'])\n",
    "week_err = cal_week_err(daily_pred)"
   ]
  },
  {
   "cell_type": "code",
   "execution_count": 162,
   "metadata": {
    "ExecuteTime": {
     "end_time": "2018-06-06T15:47:29.701547Z",
     "start_time": "2018-06-06T15:47:29.688140Z"
    },
    "scrolled": true
   },
   "outputs": [
    {
     "data": {
      "text/html": [
       "<div>\n",
       "<style>\n",
       "    .dataframe thead tr:only-child th {\n",
       "        text-align: right;\n",
       "    }\n",
       "\n",
       "    .dataframe thead th {\n",
       "        text-align: left;\n",
       "    }\n",
       "\n",
       "    .dataframe tbody tr th {\n",
       "        vertical-align: top;\n",
       "    }\n",
       "</style>\n",
       "<table border=\"1\" class=\"dataframe\">\n",
       "  <thead>\n",
       "    <tr style=\"text-align: right;\">\n",
       "      <th></th>\n",
       "      <th>sku_config</th>\n",
       "      <th>week</th>\n",
       "      <th>err_lasso_regression</th>\n",
       "      <th>err_ridge_regression</th>\n",
       "      <th>err_boosted_regression_tree</th>\n",
       "      <th>err_random_forest</th>\n",
       "      <th>err_xgboost</th>\n",
       "    </tr>\n",
       "  </thead>\n",
       "  <tbody>\n",
       "    <tr>\n",
       "      <th>0</th>\n",
       "      <td>119C3ZZ4B1AF6BGS</td>\n",
       "      <td>3</td>\n",
       "      <td>0.886036</td>\n",
       "      <td>0.961226</td>\n",
       "      <td>0.814478</td>\n",
       "      <td>0.769376</td>\n",
       "      <td>0.942543</td>\n",
       "    </tr>\n",
       "    <tr>\n",
       "      <th>1</th>\n",
       "      <td>119C3ZZ4B1AF6BGS</td>\n",
       "      <td>4</td>\n",
       "      <td>3.134483</td>\n",
       "      <td>3.138267</td>\n",
       "      <td>3.000000</td>\n",
       "      <td>3.064440</td>\n",
       "      <td>3.000000</td>\n",
       "    </tr>\n",
       "    <tr>\n",
       "      <th>2</th>\n",
       "      <td>119C3ZZ4B1AF6BGS</td>\n",
       "      <td>5</td>\n",
       "      <td>0.177247</td>\n",
       "      <td>0.187371</td>\n",
       "      <td>0.169295</td>\n",
       "      <td>0.061475</td>\n",
       "      <td>0.255080</td>\n",
       "    </tr>\n",
       "    <tr>\n",
       "      <th>3</th>\n",
       "      <td>119C3ZZ4B1AF6BGS</td>\n",
       "      <td>6</td>\n",
       "      <td>3.080993</td>\n",
       "      <td>3.082995</td>\n",
       "      <td>3.081777</td>\n",
       "      <td>3.067676</td>\n",
       "      <td>3.106586</td>\n",
       "    </tr>\n",
       "    <tr>\n",
       "      <th>4</th>\n",
       "      <td>164DCAC8C99F17GS</td>\n",
       "      <td>9</td>\n",
       "      <td>0.121651</td>\n",
       "      <td>0.114640</td>\n",
       "      <td>0.077749</td>\n",
       "      <td>0.069168</td>\n",
       "      <td>0.106586</td>\n",
       "    </tr>\n",
       "  </tbody>\n",
       "</table>\n",
       "</div>"
      ],
      "text/plain": [
       "         sku_config  week  err_lasso_regression  err_ridge_regression  \\\n",
       "0  119C3ZZ4B1AF6BGS     3              0.886036              0.961226   \n",
       "1  119C3ZZ4B1AF6BGS     4              3.134483              3.138267   \n",
       "2  119C3ZZ4B1AF6BGS     5              0.177247              0.187371   \n",
       "3  119C3ZZ4B1AF6BGS     6              3.080993              3.082995   \n",
       "4  164DCAC8C99F17GS     9              0.121651              0.114640   \n",
       "\n",
       "   err_boosted_regression_tree  err_random_forest  err_xgboost  \n",
       "0                     0.814478           0.769376     0.942543  \n",
       "1                     3.000000           3.064440     3.000000  \n",
       "2                     0.169295           0.061475     0.255080  \n",
       "3                     3.081777           3.067676     3.106586  \n",
       "4                     0.077749           0.069168     0.106586  "
      ]
     },
     "execution_count": 162,
     "metadata": {},
     "output_type": "execute_result"
    }
   ],
   "source": [
    "week_err.sort_values(['sku_config', 'week']).head()"
   ]
  },
  {
   "cell_type": "code",
   "execution_count": 14,
   "metadata": {
    "ExecuteTime": {
     "end_time": "2018-06-11T10:27:18.028516Z",
     "start_time": "2018-06-11T10:27:17.140989Z"
    },
    "code_folding": [
     0
    ],
    "collapsed": true
   },
   "outputs": [],
   "source": [
    "# libs\n",
    "import pandas as pd\n",
    "import numpy as np\n",
    "import matplotlib.pyplot as plt\n",
    "import seaborn as sns\n",
    "import os\n",
    "\n",
    "%matplotlib inline"
   ]
  },
  {
   "cell_type": "code",
   "execution_count": 15,
   "metadata": {
    "ExecuteTime": {
     "end_time": "2018-06-11T10:27:18.033631Z",
     "start_time": "2018-06-11T10:27:18.030251Z"
    },
    "collapsed": true
   },
   "outputs": [],
   "source": [
    "# dirs\n",
    "zal_res = '/Users/gfg/projects/daas-markdown/res/Zalora/'"
   ]
  },
  {
   "cell_type": "markdown",
   "metadata": {},
   "source": [
    "## Helpers"
   ]
  },
  {
   "cell_type": "code",
   "execution_count": 1,
   "metadata": {
    "ExecuteTime": {
     "end_time": "2018-06-11T10:26:54.404263Z",
     "start_time": "2018-06-11T10:26:54.398966Z"
    },
    "code_folding": [
     0,
     8
    ],
    "collapsed": true
   },
   "outputs": [],
   "source": [
    "def my_read_csv(path):\n",
    "    try:\n",
    "        df = pd.read_csv(path)\n",
    "    except EmptyDataError:\n",
    "        print('Empty data in file {}'.format(path))\n",
    "        df = pd.DataFrame()\n",
    "    return df\n",
    "\n",
    "def join_csv(folder):\n",
    "    frames = [my_read_csv(folder + fn) for fn in os.listdir(folder) if '.csv' in fn]\n",
    "    return pd.concat(frames)"
   ]
  },
  {
   "cell_type": "code",
   "execution_count": 2,
   "metadata": {
    "ExecuteTime": {
     "end_time": "2018-06-11T10:26:54.409557Z",
     "start_time": "2018-06-11T10:26:54.405699Z"
    },
    "code_folding": [
     0
    ],
    "collapsed": true
   },
   "outputs": [],
   "source": [
    "def drop_train_errors(df):\n",
    "    cols = [c for c in df.columns if 'train_' in c]\n",
    "    return df.drop(cols, axis='columns')"
   ]
  },
  {
   "cell_type": "code",
   "execution_count": 3,
   "metadata": {
    "ExecuteTime": {
     "end_time": "2018-06-11T10:26:55.058941Z",
     "start_time": "2018-06-11T10:26:54.410959Z"
    },
    "collapsed": true
   },
   "outputs": [],
   "source": [
    "import sklearn.metrics as metrics"
   ]
  },
  {
   "cell_type": "code",
   "execution_count": 53,
   "metadata": {
    "ExecuteTime": {
     "end_time": "2018-06-11T12:23:38.767502Z",
     "start_time": "2018-06-11T12:23:38.740571Z"
    },
    "code_folding": [
     0,
     3,
     23
    ],
    "collapsed": true
   },
   "outputs": [],
   "source": [
    "def ls_groups(folder):\n",
    "    return [fn.replace('.csv', '') for fn in os.listdir(folder) if '.csv' in fn]\n",
    "\n",
    "def cal_r2(pred_dir, gr='backpacks_female_autumn_winter'):\n",
    "    predict_df = pd.read_csv(pred_dir + '{}.csv'.format(gr))\n",
    "\n",
    "    if not predict_df.empty:\n",
    "        y_true = predict_df['n_sold']\n",
    "        model_names = [cc.replace('predict_', '') for cc in predict_df.columns if 'predict_' in cc]\n",
    "        \n",
    "        def get_r2(m):\n",
    "            y_pred = predict_df['predict_' + m]\n",
    "            return metrics.r2_score(y_true, y_pred)\n",
    "        \n",
    "        r2_scores = [get_r2(m) for m in model_names]\n",
    "        r2_df = pd.DataFrame({'group_id': gr, 'model': model_names, 'r2_score': r2_scores})\n",
    "            \n",
    "        return r2_df\n",
    "    else:\n",
    "        print('No prediction found for group {}, thus no r2 scores were computed'.format(gr))\n",
    "        return pd.DataFrame()\n",
    "    \n",
    "\n",
    "def cal_goodness_of_fit(granularity='week', country='tw'):\n",
    "    country_dir = zal_res + '{}/'.format(country)\n",
    "    if country == 'tw' and granularity == 'day':\n",
    "        pred_dir = country_dir + 'predict/'\n",
    "    else:\n",
    "        sample_dir = country_dir + 'sample/'\n",
    "        pred_dir = sample_dir + '{}ly/predict/'.format(granularity)\n",
    "        \n",
    "    groups = ls_groups(pred_dir)\n",
    "    print('computing goodness of fit for {} groups...'.format(len(groups)))\n",
    "    \n",
    "    frames = [ cal_r2(pred_dir, gr) for gr in groups]\n",
    "    return pd.concat(frames)"
   ]
  },
  {
   "cell_type": "code",
   "execution_count": 5,
   "metadata": {
    "ExecuteTime": {
     "end_time": "2018-06-11T10:26:55.091184Z",
     "start_time": "2018-06-11T10:26:55.087471Z"
    },
    "code_folding": [],
    "collapsed": true
   },
   "outputs": [],
   "source": [
    "def get_best(sorted_df, n_model=5):\n",
    "    n_row = sorted_df.shape[0]\n",
    "    idx = np.arange(0, n_row, step=n_model)\n",
    "    best_df = sorted_df.iloc[idx].copy()\n",
    "    return best_df"
   ]
  },
  {
   "cell_type": "code",
   "execution_count": 6,
   "metadata": {
    "ExecuteTime": {
     "end_time": "2018-06-11T10:26:55.096766Z",
     "start_time": "2018-06-11T10:26:55.092656Z"
    },
    "code_folding": [
     0
    ],
    "collapsed": true
   },
   "outputs": [],
   "source": [
    "def plot_acc_gain(err_df, country, fig_dir):\n",
    "    err_df['delta'].hist()\n",
    "    plt.xlabel('Accuracy gain (%)'); plt.ylabel('# groups')\n",
    "    n_group = len(err_df['group'])\n",
    "    plt.title('Accuracy gain of weekly vs. daily model \\n' + \n",
    "              '({} data, {} groups)'.format(country.upper(), n_group))\n",
    "    plt.savefig(fig_dir + 'acc_gain.pdf')"
   ]
  },
  {
   "cell_type": "code",
   "execution_count": 7,
   "metadata": {
    "ExecuteTime": {
     "end_time": "2018-06-11T10:26:55.116790Z",
     "start_time": "2018-06-11T10:26:55.099421Z"
    },
    "code_folding": [
     0
    ],
    "collapsed": true
   },
   "outputs": [],
   "source": [
    "def cal_week_err(daily_pred):\n",
    "    daily_pred['week'] = daily_pred['date'].apply(lambda x: x.weekofyear)\n",
    "    daily_pred['year'] = daily_pred['date'].apply(lambda x: x.year)\n",
    "\n",
    "    models = [cc.replace('predict_', '') for cc in daily_pred.columns if 'predict_' in cc]\n",
    "    # cal error for all models\n",
    "    for m in models:\n",
    "        daily_pred['err_{}'.format(m)] = np.abs(daily_pred['predict_{}'.format(m)] - daily_pred['n_sold'])\n",
    "        \n",
    "    # agg by (year, week) and SKU\n",
    "    to_group = ['sku_config', 'year', 'week']\n",
    "    err_cols = [cc for cc in daily_pred.columns if 'err_' in cc]\n",
    "    cols = to_group + err_cols\n",
    "    \n",
    "    grouped = daily_pred[cols].groupby(to_group)\n",
    "    total_err = grouped.agg(sum)\n",
    "    total_err.reset_index(inplace=True)\n",
    "    \n",
    "    # find the smallest err\n",
    "#     total_err['best'] = total_err.apply(lambda row: min(row[err_cols]), axis=1)\n",
    "    return total_err"
   ]
  },
  {
   "cell_type": "code",
   "execution_count": 8,
   "metadata": {
    "ExecuteTime": {
     "end_time": "2018-06-11T10:26:55.125301Z",
     "start_time": "2018-06-11T10:26:55.118216Z"
    },
    "code_folding": [
     1
    ],
    "collapsed": true
   },
   "outputs": [],
   "source": [
    "def cal_medae(gr, count, day_pred_dir):\n",
    "#     cal test MEDAEs at week level for models via aggreg daily error\n",
    "    if (count % 30)==0:\n",
    "        print('{} groups and counting...'.format(count))\n",
    "    daily_pred = pd.read_csv(day_pred_dir + '{}.csv'.format(gr), parse_dates=['date'])\n",
    "    week_err = cal_week_err(daily_pred)\n",
    "    models = [cc.replace('predict_', '') for cc in daily_pred.columns if 'predict_' in cc]\n",
    "    test_medae = [np.median(week_err['err_{}'.format(m)]) for m in models]\n",
    "    \n",
    "    return pd.DataFrame({'group': gr, 'model': models, 'test_medae_by_week': test_medae})"
   ]
  },
  {
   "cell_type": "code",
   "execution_count": 25,
   "metadata": {
    "ExecuteTime": {
     "end_time": "2018-06-11T10:55:15.118975Z",
     "start_time": "2018-06-11T10:55:15.111480Z"
    },
    "code_folding": [
     0
    ],
    "collapsed": true
   },
   "outputs": [],
   "source": [
    "# Aggreg daily error to get test MEDAEs at week level\n",
    "def agg_daily_err(country='sg'):\n",
    "#     sample_dir = zal_res + '{}/'.format(country) + 'sample/'\n",
    "#     day_pred_dir = sample_dir + 'dayly/predict/'\n",
    "\n",
    "    country_dir = zal_res + '{}'.format(country) + '/'\n",
    "    day_pred_dir = country_dir + 'predict/'\n",
    "    \n",
    "    groups = ls_groups(day_pred_dir)\n",
    "    frames = [ cal_medae(gr, i+1, day_pred_dir) for i, gr in enumerate(groups)]\n",
    "    medae_by_daily_pred = pd.concat(frames)\n",
    "    \n",
    "    fname = country_dir + 'medae_by_daily_pred.csv'\n",
    "    medae_by_daily_pred.to_csv(fname)\n",
    "    print('dumped aggreg daily error to: {}'.format(fname))\n",
    "    return medae_by_daily_pred"
   ]
  },
  {
   "cell_type": "code",
   "execution_count": 10,
   "metadata": {
    "ExecuteTime": {
     "end_time": "2018-06-11T10:26:55.140427Z",
     "start_time": "2018-06-11T10:26:55.135430Z"
    },
    "code_folding": [
     0
    ],
    "collapsed": true
   },
   "outputs": [],
   "source": [
    "def query_day_best(country='sg'):\n",
    "    medae_by_daily_pred = agg_daily_err(country)\n",
    "    medae_by_daily_pred.rename(columns={'model': 'daily_model'}, inplace=True)\n",
    "    day_best = get_best(medae_by_daily_pred.sort_values(['group', 'test_medae_by_week']))\n",
    "    return day_best"
   ]
  },
  {
   "cell_type": "code",
   "execution_count": 11,
   "metadata": {
    "ExecuteTime": {
     "end_time": "2018-06-11T10:26:55.147927Z",
     "start_time": "2018-06-11T10:26:55.142025Z"
    },
    "code_folding": [
     0
    ],
    "collapsed": true
   },
   "outputs": [],
   "source": [
    "def query_week_best(country='sg'):\n",
    "    sample_dir = zal_res + '{}/'.format(country) + 'sample/'\n",
    "    weekly_metric_dir = sample_dir + 'weekly/metrics/'\n",
    "    weekly_err = join_csv(weekly_metric_dir)\n",
    "    weekly_err.rename(columns={'model': 'weekly_model'}, inplace=True)\n",
    "    week_best = get_best(weekly_err.sort_values(['group', 'test_medae']))\n",
    "    return week_best"
   ]
  },
  {
   "cell_type": "code",
   "execution_count": 12,
   "metadata": {
    "ExecuteTime": {
     "end_time": "2018-06-11T10:26:55.154425Z",
     "start_time": "2018-06-11T10:26:55.149355Z"
    },
    "code_folding": [
     0
    ],
    "collapsed": true
   },
   "outputs": [],
   "source": [
    "def mk_fig_dir(country='sg'):\n",
    "    fig_dir = zal_res + '{}/'.format(country) + 'plots/'\n",
    "    if not os.path.exists(fig_dir):\n",
    "        os.mkdir(fig_dir)\n",
    "        \n",
    "    return fig_dir"
   ]
  },
  {
   "cell_type": "code",
   "execution_count": 13,
   "metadata": {
    "ExecuteTime": {
     "end_time": "2018-06-11T10:26:57.051079Z",
     "start_time": "2018-06-11T10:26:57.046404Z"
    },
    "code_folding": [
     0
    ],
    "collapsed": true
   },
   "outputs": [],
   "source": [
    "def viz_r2(r2, country, fig_dir):\n",
    "    r2['delta'].hist()\n",
    "    plt.xlabel('Gain in R2-score'); plt.ylabel('# groups')\n",
    "    n_group = len(r2['group_id'])\n",
    "    plt.title('Accuracy gain of weekly vs. daily model \\n' + \n",
    "              '({} data, {} groups)'.format(country.upper(), n_group))\n",
    "\n",
    "    plt.savefig(fig_dir + 'r2_gain.pdf')"
   ]
  },
  {
   "cell_type": "markdown",
   "metadata": {},
   "source": [
    "# Prediction quality on TW data"
   ]
  },
  {
   "cell_type": "code",
   "execution_count": 62,
   "metadata": {
    "ExecuteTime": {
     "end_time": "2018-06-11T14:12:44.156089Z",
     "start_time": "2018-06-11T14:12:44.152410Z"
    },
    "collapsed": true
   },
   "outputs": [],
   "source": [
    "country = 'tw'"
   ]
  },
  {
   "cell_type": "markdown",
   "metadata": {
    "heading_collapsed": true
   },
   "source": [
    "## R-squared score"
   ]
  },
  {
   "cell_type": "code",
   "execution_count": 56,
   "metadata": {
    "ExecuteTime": {
     "end_time": "2018-06-11T12:24:21.342518Z",
     "start_time": "2018-06-11T12:24:19.882744Z"
    },
    "code_folding": [
     0
    ],
    "hidden": true
   },
   "outputs": [
    {
     "name": "stdout",
     "output_type": "stream",
     "text": [
      "computing goodness of fit for 142 groups...\n"
     ]
    }
   ],
   "source": [
    "# daily models\n",
    "daily_r2 = cal_goodness_of_fit(granularity='day', country='tw')\n",
    "daily_r2 = daily_r2.sort_values(['group_id', 'r2_score'], ascending=False)\n",
    "day_best = get_best(daily_r2)\n",
    "day_best = day_best.rename(columns={'r2_score': 'day_r2_score', 'model': 'best_daily_model'})"
   ]
  },
  {
   "cell_type": "code",
   "execution_count": 57,
   "metadata": {
    "ExecuteTime": {
     "end_time": "2018-06-11T12:24:36.391512Z",
     "start_time": "2018-06-11T12:24:35.010077Z"
    },
    "code_folding": [
     0
    ],
    "hidden": true
   },
   "outputs": [
    {
     "name": "stdout",
     "output_type": "stream",
     "text": [
      "computing goodness of fit for 150 groups...\n"
     ]
    }
   ],
   "source": [
    "# weekly models\n",
    "weekly_r2 = cal_goodness_of_fit(granularity='week', country='tw')\n",
    "weekly_r2 = weekly_r2.sort_values(['group_id', 'r2_score'], ascending=False)\n",
    "week_best = get_best(weekly_r2)\n",
    "week_best.rename(columns={'r2_score': 'week_r2_score', 'model': 'best_weekly_model'}, inplace=True)"
   ]
  },
  {
   "cell_type": "code",
   "execution_count": 58,
   "metadata": {
    "ExecuteTime": {
     "end_time": "2018-06-11T12:30:47.675589Z",
     "start_time": "2018-06-11T12:30:47.663994Z"
    },
    "collapsed": true,
    "hidden": true
   },
   "outputs": [
    {
     "data": {
      "text/plain": [
       "count    49.000000\n",
       "mean      0.049124\n",
       "std       0.281657\n",
       "min      -0.803088\n",
       "25%      -0.056078\n",
       "50%       0.037067\n",
       "75%       0.220024\n",
       "max       0.747099\n",
       "Name: delta, dtype: float64"
      ]
     },
     "execution_count": 58,
     "metadata": {},
     "output_type": "execute_result"
    }
   ],
   "source": [
    "r2 = pd.merge(week_best, day_best)\n",
    "r2['delta'] = r2['week_r2_score'] - r2['day_r2_score']\n",
    "r2['delta'].describe()"
   ]
  },
  {
   "cell_type": "code",
   "execution_count": 61,
   "metadata": {
    "ExecuteTime": {
     "end_time": "2018-06-11T12:32:28.798513Z",
     "start_time": "2018-06-11T12:32:28.470803Z"
    },
    "code_folding": [
     4
    ],
    "hidden": true
   },
   "outputs": [
    {
     "data": {
      "image/png": "[encoded data removed]",
      "text/plain": [
       "<matplotlib.figure.Figure at 0x118ea62b0>"
      ]
     },
     "metadata": {},
     "output_type": "display_data"
    }
   ],
   "source": [
    "fig_dir = mk_fig_dir(country)\n",
    "r2['delta'].hist()\n",
    "plt.xlabel('Gain in R2-score'); plt.ylabel('# groups')\n",
    "n_group = len(r2['group_id'])\n",
    "plt.title('Accuracy gain of weekly vs. daily model \\n' + \n",
    "          '({} data, {} groups)'.format(country.upper(), n_group))\n",
    "\n",
    "plt.savefig(fig_dir + 'r2_gain.pdf')"
   ]
  },
  {
   "cell_type": "markdown",
   "metadata": {},
   "source": [
    "## Accuracy"
   ]
  },
  {
   "cell_type": "markdown",
   "metadata": {},
   "source": [
    "### Errors of daily predictions"
   ]
  },
  {
   "cell_type": "code",
   "execution_count": 63,
   "metadata": {
    "ExecuteTime": {
     "end_time": "2018-06-11T14:16:02.460782Z",
     "start_time": "2018-06-11T14:15:54.816437Z"
    }
   },
   "outputs": [
    {
     "name": "stdout",
     "output_type": "stream",
     "text": [
      "30 groups and counting...\n",
      "60 groups and counting...\n",
      "90 groups and counting...\n",
      "120 groups and counting...\n",
      "dumped aggreg daily error to: /Users/gfg/projects/daas-markdown/res/Zalora/tw/medae_by_daily_pred.csv\n"
     ]
    }
   ],
   "source": [
    "day_best = query_day_best(country='tw')"
   ]
  },
  {
   "cell_type": "markdown",
   "metadata": {},
   "source": [
    "### Errors of weekly predictions"
   ]
  },
  {
   "cell_type": "code",
   "execution_count": 64,
   "metadata": {
    "ExecuteTime": {
     "end_time": "2018-06-11T14:16:04.888062Z",
     "start_time": "2018-06-11T14:16:04.868260Z"
    },
    "collapsed": true
   },
   "outputs": [],
   "source": [
    "week_best = query_week_best(country='tw')"
   ]
  },
  {
   "cell_type": "code",
   "execution_count": 65,
   "metadata": {
    "ExecuteTime": {
     "end_time": "2018-06-11T14:16:15.310947Z",
     "start_time": "2018-06-11T14:16:15.305542Z"
    }
   },
   "outputs": [
    {
     "data": {
      "text/plain": [
       "(150, 13)"
      ]
     },
     "execution_count": 65,
     "metadata": {},
     "output_type": "execute_result"
    }
   ],
   "source": [
    "week_best.shape"
   ]
  },
  {
   "cell_type": "markdown",
   "metadata": {},
   "source": [
    "### Comparison"
   ]
  },
  {
   "cell_type": "code",
   "execution_count": 66,
   "metadata": {
    "ExecuteTime": {
     "end_time": "2018-06-11T14:16:23.119245Z",
     "start_time": "2018-06-11T14:16:23.111233Z"
    },
    "collapsed": true
   },
   "outputs": [],
   "source": [
    "cols = ['group', 'weekly_model', 'test_medae']\n",
    "err_df = pd.merge(week_best[cols], day_best)\n",
    "\n",
    "err_df['delta'] = (err_df['test_medae_by_week'] - err_df['test_medae'])"
   ]
  },
  {
   "cell_type": "code",
   "execution_count": 67,
   "metadata": {
    "ExecuteTime": {
     "end_time": "2018-06-11T14:16:23.127263Z",
     "start_time": "2018-06-11T14:16:23.120809Z"
    },
    "scrolled": true
   },
   "outputs": [
    {
     "data": {
      "text/plain": [
       "count    49.000000\n",
       "mean     -0.024785\n",
       "std       0.029475\n",
       "min      -0.157920\n",
       "25%      -0.027387\n",
       "50%      -0.015455\n",
       "75%      -0.010047\n",
       "max      -0.001604\n",
       "Name: delta, dtype: float64"
      ]
     },
     "execution_count": 67,
     "metadata": {},
     "output_type": "execute_result"
    }
   ],
   "source": [
    "err_df['delta'].describe()"
   ]
  },
  {
   "cell_type": "code",
   "execution_count": 35,
   "metadata": {
    "ExecuteTime": {
     "end_time": "2018-06-11T11:36:58.427236Z",
     "start_time": "2018-06-11T11:36:58.167140Z"
    },
    "code_folding": []
   },
   "outputs": [
    {
     "data": {
      "image/png": "[encoded data removed]",
      "text/plain": [
       "<matplotlib.figure.Figure at 0x10cdef7b8>"
      ]
     },
     "metadata": {},
     "output_type": "display_data"
    }
   ],
   "source": [
    "fig_dir = mk_fig_dir(country='tw')\n",
    "plot_acc_gain(err_df, country='tw', fig_dir=fig_dir)"
   ]
  },
  {
   "cell_type": "code",
   "execution_count": 19,
   "metadata": {
    "ExecuteTime": {
     "end_time": "2018-06-05T14:00:43.618737Z",
     "start_time": "2018-06-05T14:00:43.615919Z"
    },
    "code_folding": [
     0
    ],
    "collapsed": true
   },
   "outputs": [],
   "source": [
    "# proxy via multiply with 7\n",
    "test_err_cols = ['test_medae', 'test_medape', 'test_rmse']\n",
    "\n",
    "d_res = daily_best[test_err_cols].add_prefix('daily_')\n",
    "d_res['group'] = daily_best['group']\n",
    "d_res['7day_medae'] = d_res['daily_test_medae']*7\n",
    "\n",
    "w_res = weekly_best[test_err_cols].add_prefix('weekly_')\n",
    "w_res['group'] = weekly_best['group']\n",
    "\n",
    "res = drop_train_errors(pd.merge(d_res, w_res))\n",
    "res['acc_gain'] = 100 * (res['7day_medae'] - res['weekly_test_medae'])/res['7day_medae']"
   ]
  },
  {
   "cell_type": "markdown",
   "metadata": {},
   "source": [
    "# Prediction quality on SG data"
   ]
  },
  {
   "cell_type": "code",
   "execution_count": 22,
   "metadata": {
    "ExecuteTime": {
     "end_time": "2018-06-11T10:32:25.118511Z",
     "start_time": "2018-06-11T10:32:25.115642Z"
    },
    "collapsed": true
   },
   "outputs": [],
   "source": [
    "country = 'sg'"
   ]
  },
  {
   "cell_type": "markdown",
   "metadata": {},
   "source": [
    "## R-squared score"
   ]
  },
  {
   "cell_type": "code",
   "execution_count": 69,
   "metadata": {
    "ExecuteTime": {
     "end_time": "2018-06-08T16:22:23.273849Z",
     "start_time": "2018-06-08T16:22:22.385659Z"
    },
    "code_folding": [
     0
    ]
   },
   "outputs": [
    {
     "name": "stdout",
     "output_type": "stream",
     "text": [
      "computing goodness of fit for 150 groups...\n"
     ]
    }
   ],
   "source": [
    "# weekly models\n",
    "weekly_r2 = cal_goodness_of_fit(granularity='week', country='sg')\n",
    "weekly_r2 = weekly_r2.sort_values(['group_id', 'r2_score'], ascending=False)\n",
    "week_best = get_best(weekly_r2)\n",
    "week_best.rename(columns={'r2_score': 'week_r2_score', 'model': 'best_weekly_model'}, inplace=True)"
   ]
  },
  {
   "cell_type": "code",
   "execution_count": 70,
   "metadata": {
    "ExecuteTime": {
     "end_time": "2018-06-08T16:22:30.341645Z",
     "start_time": "2018-06-08T16:22:29.144735Z"
    },
    "code_folding": [
     0
    ]
   },
   "outputs": [
    {
     "name": "stdout",
     "output_type": "stream",
     "text": [
      "computing goodness of fit for 150 groups...\n"
     ]
    }
   ],
   "source": [
    "# daily models\n",
    "daily_r2 = cal_goodness_of_fit(granularity='day', country='sg')\n",
    "daily_r2 = daily_r2.sort_values(['group_id', 'r2_score'], ascending=False)\n",
    "day_best = get_best(daily_r2)\n",
    "day_best = day_best.rename(columns={'r2_score': 'day_r2_score', 'model': 'best_daily_model'})"
   ]
  },
  {
   "cell_type": "code",
   "execution_count": 71,
   "metadata": {
    "ExecuteTime": {
     "end_time": "2018-06-08T16:22:36.223306Z",
     "start_time": "2018-06-08T16:22:36.216292Z"
    },
    "collapsed": true
   },
   "outputs": [],
   "source": [
    "# Merge and compute gain\n",
    "r2 = pd.merge(week_best, day_best)\n",
    "r2['delta'] = r2['week_r2_score'] - r2['day_r2_score']"
   ]
  },
  {
   "cell_type": "code",
   "execution_count": 72,
   "metadata": {
    "ExecuteTime": {
     "end_time": "2018-06-08T16:22:36.232415Z",
     "start_time": "2018-06-08T16:22:36.224813Z"
    },
    "collapsed": true
   },
   "outputs": [
    {
     "data": {
      "text/plain": [
       "count    150.000000\n",
       "mean      -0.457843\n",
       "std        1.163621\n",
       "min       -8.256454\n",
       "25%       -0.565353\n",
       "50%       -0.108920\n",
       "75%        0.113900\n",
       "max        0.731649\n",
       "Name: delta, dtype: float64"
      ]
     },
     "execution_count": 72,
     "metadata": {},
     "output_type": "execute_result"
    }
   ],
   "source": [
    "r2['delta'].describe()"
   ]
  },
  {
   "cell_type": "code",
   "execution_count": 73,
   "metadata": {
    "ExecuteTime": {
     "end_time": "2018-06-08T16:22:55.762759Z",
     "start_time": "2018-06-08T16:22:55.432104Z"
    },
    "collapsed": true
   },
   "outputs": [
    {
     "data": {
      "image/png": "[encoded data removed]",
      "text/plain": [
       "<matplotlib.figure.Figure at 0x113c217b8>"
      ]
     },
     "metadata": {},
     "output_type": "display_data"
    }
   ],
   "source": [
    "fig_dir = mk_fig_dir(country)\n",
    "viz_r2(r2, country, fig_dir)"
   ]
  },
  {
   "cell_type": "markdown",
   "metadata": {},
   "source": [
    "## Accuracy"
   ]
  },
  {
   "cell_type": "markdown",
   "metadata": {},
   "source": [
    "### Errors of daily predictions"
   ]
  },
  {
   "cell_type": "code",
   "execution_count": 45,
   "metadata": {
    "ExecuteTime": {
     "end_time": "2018-06-11T11:43:18.880022Z",
     "start_time": "2018-06-11T11:43:18.874145Z"
    },
    "collapsed": true,
    "scrolled": true
   },
   "outputs": [],
   "source": [
    "day_err = pd.read_csv('/Users/gfg/projects/daas-markdown/res/Zalora/sg/sample/medae_by_daily_pred.csv')\n",
    "day_best = get_best(day_err)\n",
    "# day_best = query_day_best(country='sg')"
   ]
  },
  {
   "cell_type": "code",
   "execution_count": 46,
   "metadata": {
    "ExecuteTime": {
     "end_time": "2018-06-11T11:43:31.357893Z",
     "start_time": "2018-06-11T11:43:31.354340Z"
    }
   },
   "outputs": [
    {
     "data": {
      "text/plain": [
       "(150, 4)"
      ]
     },
     "execution_count": 46,
     "metadata": {},
     "output_type": "execute_result"
    }
   ],
   "source": [
    "day_best.shape"
   ]
  },
  {
   "cell_type": "markdown",
   "metadata": {},
   "source": [
    "### Errors of weekly predictions"
   ]
  },
  {
   "cell_type": "code",
   "execution_count": 41,
   "metadata": {
    "ExecuteTime": {
     "end_time": "2018-06-11T11:40:53.909284Z",
     "start_time": "2018-06-11T11:40:53.891678Z"
    },
    "collapsed": true
   },
   "outputs": [],
   "source": [
    "week_best = query_week_best(country='sg')"
   ]
  },
  {
   "cell_type": "code",
   "execution_count": 47,
   "metadata": {
    "ExecuteTime": {
     "end_time": "2018-06-11T11:43:49.029913Z",
     "start_time": "2018-06-11T11:43:49.025480Z"
    }
   },
   "outputs": [
    {
     "data": {
      "text/plain": [
       "(150, 13)"
      ]
     },
     "execution_count": 47,
     "metadata": {},
     "output_type": "execute_result"
    }
   ],
   "source": [
    "week_best.shape"
   ]
  },
  {
   "cell_type": "markdown",
   "metadata": {},
   "source": [
    "### Comparison"
   ]
  },
  {
   "cell_type": "code",
   "execution_count": 48,
   "metadata": {
    "ExecuteTime": {
     "end_time": "2018-06-11T11:43:51.661030Z",
     "start_time": "2018-06-11T11:43:51.648455Z"
    },
    "collapsed": true
   },
   "outputs": [
    {
     "data": {
      "text/plain": [
       "count    150.000000\n",
       "mean       0.226343\n",
       "std        2.676927\n",
       "min       -0.844482\n",
       "25%       -0.097665\n",
       "50%       -0.024955\n",
       "75%        0.077371\n",
       "max       32.698354\n",
       "Name: delta, dtype: float64"
      ]
     },
     "execution_count": 48,
     "metadata": {},
     "output_type": "execute_result"
    }
   ],
   "source": [
    "cols = ['group', 'weekly_model', 'test_medae']\n",
    "err_df = pd.merge(week_best[cols], day_best)\n",
    "\n",
    "err_df['delta'] = err_df['test_medae_by_week'] - err_df['test_medae']\n",
    "err_df['delta'].describe()"
   ]
  },
  {
   "cell_type": "code",
   "execution_count": 49,
   "metadata": {
    "ExecuteTime": {
     "end_time": "2018-06-11T11:43:54.770544Z",
     "start_time": "2018-06-11T11:43:54.503906Z"
    },
    "code_folding": [],
    "collapsed": true
   },
   "outputs": [
    {
     "data": {
      "image/png": "[encoded data removed]",
      "text/plain": [
       "<matplotlib.figure.Figure at 0x118ec07b8>"
      ]
     },
     "metadata": {},
     "output_type": "display_data"
    }
   ],
   "source": [
    "fig_dir = mk_fig_dir(country='sg')\n",
    "plot_acc_gain(err_df, country='sg', fig_dir=fig_dir)"
   ]
  },
  {
   "cell_type": "markdown",
   "metadata": {},
   "source": [
    "# Prediction quality on MY data"
   ]
  },
  {
   "cell_type": "code",
   "execution_count": 78,
   "metadata": {
    "ExecuteTime": {
     "end_time": "2018-06-11T17:43:46.845983Z",
     "start_time": "2018-06-11T17:43:46.843139Z"
    },
    "collapsed": true
   },
   "outputs": [],
   "source": [
    "country = 'my'\n",
    "country_dir = zal_res + '{}/'.format(country)"
   ]
  },
  {
   "cell_type": "markdown",
   "metadata": {
    "heading_collapsed": true
   },
   "source": [
    "## Errors of daily prediction"
   ]
  },
  {
   "cell_type": "code",
   "execution_count": 72,
   "metadata": {
    "ExecuteTime": {
     "end_time": "2018-06-11T17:38:17.457825Z",
     "start_time": "2018-06-11T17:38:17.445526Z"
    },
    "collapsed": true,
    "hidden": true
   },
   "outputs": [],
   "source": [
    "day_err = pd.read_csv(country_dir + 'metrics/metrics.csv')"
   ]
  },
  {
   "cell_type": "code",
   "execution_count": 73,
   "metadata": {
    "ExecuteTime": {
     "end_time": "2018-06-11T17:38:17.976001Z",
     "start_time": "2018-06-11T17:38:17.972114Z"
    },
    "hidden": true
   },
   "outputs": [
    {
     "data": {
      "text/plain": [
       "(2745, 11)"
      ]
     },
     "execution_count": 73,
     "metadata": {},
     "output_type": "execute_result"
    }
   ],
   "source": [
    "day_err.shape"
   ]
  },
  {
   "cell_type": "code",
   "execution_count": 74,
   "metadata": {
    "ExecuteTime": {
     "end_time": "2018-06-11T17:38:35.101250Z",
     "start_time": "2018-06-11T17:38:35.096783Z"
    },
    "hidden": true
   },
   "outputs": [
    {
     "data": {
      "text/plain": [
       "Index(['model', 'test_medae', 'test_medape', 'test_rmse', 'train_medae',\n",
       "       'train_medape', 'train_rmse', 'group', 'n_config',\n",
       "       'avg_records_per_config', 'n_samples'],\n",
       "      dtype='object')"
      ]
     },
     "execution_count": 74,
     "metadata": {},
     "output_type": "execute_result"
    }
   ],
   "source": [
    "day_err.columns"
   ]
  },
  {
   "cell_type": "code",
   "execution_count": 75,
   "metadata": {
    "ExecuteTime": {
     "end_time": "2018-06-11T17:40:12.431193Z",
     "start_time": "2018-06-11T17:40:12.424567Z"
    },
    "collapsed": true,
    "hidden": true
   },
   "outputs": [],
   "source": [
    "day_best = get_best(day_err.sort_values(['group', 'test_medae']))"
   ]
  },
  {
   "cell_type": "code",
   "execution_count": 76,
   "metadata": {
    "ExecuteTime": {
     "end_time": "2018-06-11T17:41:19.560765Z",
     "start_time": "2018-06-11T17:41:19.557218Z"
    },
    "collapsed": true,
    "hidden": true
   },
   "outputs": [],
   "source": [
    "day_best.rename(columns={'test_medae': 'day_test_medae'}, inplace=True)"
   ]
  },
  {
   "cell_type": "code",
   "execution_count": 77,
   "metadata": {
    "ExecuteTime": {
     "end_time": "2018-06-11T17:42:40.210377Z",
     "start_time": "2018-06-11T17:42:40.206631Z"
    },
    "collapsed": true,
    "hidden": true
   },
   "outputs": [],
   "source": [
    "day_best['7day_test_medae'] = day_best['day_test_medae']*7"
   ]
  },
  {
   "cell_type": "markdown",
   "metadata": {},
   "source": [
    "## Errors of weekly prediction"
   ]
  },
  {
   "cell_type": "code",
   "execution_count": 79,
   "metadata": {
    "ExecuteTime": {
     "end_time": "2018-06-11T17:43:55.653420Z",
     "start_time": "2018-06-11T17:43:55.634418Z"
    }
   },
   "outputs": [
    {
     "ename": "FileNotFoundError",
     "evalue": "[Errno 2] No such file or directory: '/Users/gfg/projects/daas-markdown/res/Zalora/my/sample/weekly/metrics/'",
     "output_type": "error",
     "traceback": [
      "\u001b[0;31m---------------------------------------------------------------------------\u001b[0m",
      "\u001b[0;31mFileNotFoundError\u001b[0m                         Traceback (most recent call last)",
      "\u001b[0;32m<ipython-input-79-f2d8c03f060b>\u001b[0m in \u001b[0;36m<module>\u001b[0;34m()\u001b[0m\n\u001b[0;32m----> 1\u001b[0;31m \u001b[0mweek_best\u001b[0m \u001b[0;34m=\u001b[0m \u001b[0mquery_week_best\u001b[0m\u001b[0;34m(\u001b[0m\u001b[0mcountry\u001b[0m\u001b[0;34m)\u001b[0m\u001b[0;34m\u001b[0m\u001b[0m\n\u001b[0m",
      "\u001b[0;32m<ipython-input-11-dd42ea29d1d4>\u001b[0m in \u001b[0;36mquery_week_best\u001b[0;34m(country)\u001b[0m\n\u001b[1;32m      2\u001b[0m     \u001b[0msample_dir\u001b[0m \u001b[0;34m=\u001b[0m \u001b[0mzal_res\u001b[0m \u001b[0;34m+\u001b[0m \u001b[0;34m'{}/'\u001b[0m\u001b[0;34m.\u001b[0m\u001b[0mformat\u001b[0m\u001b[0;34m(\u001b[0m\u001b[0mcountry\u001b[0m\u001b[0;34m)\u001b[0m \u001b[0;34m+\u001b[0m \u001b[0;34m'sample/'\u001b[0m\u001b[0;34m\u001b[0m\u001b[0m\n\u001b[1;32m      3\u001b[0m     \u001b[0mweekly_metric_dir\u001b[0m \u001b[0;34m=\u001b[0m \u001b[0msample_dir\u001b[0m \u001b[0;34m+\u001b[0m \u001b[0;34m'weekly/metrics/'\u001b[0m\u001b[0;34m\u001b[0m\u001b[0m\n\u001b[0;32m----> 4\u001b[0;31m     \u001b[0mweekly_err\u001b[0m \u001b[0;34m=\u001b[0m \u001b[0mjoin_csv\u001b[0m\u001b[0;34m(\u001b[0m\u001b[0mweekly_metric_dir\u001b[0m\u001b[0;34m)\u001b[0m\u001b[0;34m\u001b[0m\u001b[0m\n\u001b[0m\u001b[1;32m      5\u001b[0m     \u001b[0mweekly_err\u001b[0m\u001b[0;34m.\u001b[0m\u001b[0mrename\u001b[0m\u001b[0;34m(\u001b[0m\u001b[0mcolumns\u001b[0m\u001b[0;34m=\u001b[0m\u001b[0;34m{\u001b[0m\u001b[0;34m'model'\u001b[0m\u001b[0;34m:\u001b[0m \u001b[0;34m'weekly_model'\u001b[0m\u001b[0;34m}\u001b[0m\u001b[0;34m,\u001b[0m \u001b[0minplace\u001b[0m\u001b[0;34m=\u001b[0m\u001b[0;32mTrue\u001b[0m\u001b[0;34m)\u001b[0m\u001b[0;34m\u001b[0m\u001b[0m\n\u001b[1;32m      6\u001b[0m     \u001b[0mweek_best\u001b[0m \u001b[0;34m=\u001b[0m \u001b[0mget_best\u001b[0m\u001b[0;34m(\u001b[0m\u001b[0mweekly_err\u001b[0m\u001b[0;34m.\u001b[0m\u001b[0msort_values\u001b[0m\u001b[0;34m(\u001b[0m\u001b[0;34m[\u001b[0m\u001b[0;34m'group'\u001b[0m\u001b[0;34m,\u001b[0m \u001b[0;34m'test_medae'\u001b[0m\u001b[0;34m]\u001b[0m\u001b[0;34m)\u001b[0m\u001b[0;34m)\u001b[0m\u001b[0;34m\u001b[0m\u001b[0m\n",
      "\u001b[0;32m<ipython-input-1-fe4a55e01b58>\u001b[0m in \u001b[0;36mjoin_csv\u001b[0;34m(folder)\u001b[0m\n\u001b[1;32m      8\u001b[0m \u001b[0;34m\u001b[0m\u001b[0m\n\u001b[1;32m      9\u001b[0m \u001b[0;32mdef\u001b[0m \u001b[0mjoin_csv\u001b[0m\u001b[0;34m(\u001b[0m\u001b[0mfolder\u001b[0m\u001b[0;34m)\u001b[0m\u001b[0;34m:\u001b[0m\u001b[0;34m\u001b[0m\u001b[0m\n\u001b[0;32m---> 10\u001b[0;31m     \u001b[0mframes\u001b[0m \u001b[0;34m=\u001b[0m \u001b[0;34m[\u001b[0m\u001b[0mmy_read_csv\u001b[0m\u001b[0;34m(\u001b[0m\u001b[0mfolder\u001b[0m \u001b[0;34m+\u001b[0m \u001b[0mfn\u001b[0m\u001b[0;34m)\u001b[0m \u001b[0;32mfor\u001b[0m \u001b[0mfn\u001b[0m \u001b[0;32min\u001b[0m \u001b[0mos\u001b[0m\u001b[0;34m.\u001b[0m\u001b[0mlistdir\u001b[0m\u001b[0;34m(\u001b[0m\u001b[0mfolder\u001b[0m\u001b[0;34m)\u001b[0m \u001b[0;32mif\u001b[0m \u001b[0;34m'.csv'\u001b[0m \u001b[0;32min\u001b[0m \u001b[0mfn\u001b[0m\u001b[0;34m]\u001b[0m\u001b[0;34m\u001b[0m\u001b[0m\n\u001b[0m\u001b[1;32m     11\u001b[0m     \u001b[0;32mreturn\u001b[0m \u001b[0mpd\u001b[0m\u001b[0;34m.\u001b[0m\u001b[0mconcat\u001b[0m\u001b[0;34m(\u001b[0m\u001b[0mframes\u001b[0m\u001b[0;34m)\u001b[0m\u001b[0;34m\u001b[0m\u001b[0m\n",
      "\u001b[0;31mFileNotFoundError\u001b[0m: [Errno 2] No such file or directory: '/Users/gfg/projects/daas-markdown/res/Zalora/my/sample/weekly/metrics/'"
     ]
    }
   ],
   "source": [
    "week_best = query_week_best(country)"
   ]
  },
  {
   "cell_type": "code",
   "execution_count": null,
   "metadata": {
    "collapsed": true
   },
   "outputs": [],
   "source": []
  }
 ],
 "metadata": {
  "kernelspec": {
   "display_name": "Python 2",
   "language": "python",
   "name": "python2"
  },
  "language_info": {
   "codemirror_mode": {
    "name": "ipython",
    "version": 2
   },
   "file_extension": ".py",
   "mimetype": "text/x-python",
   "name": "python",
   "nbconvert_exporter": "python",
   "pygments_lexer": "ipython2",
   "version": "2.7.13"
  },
  "toc": {
   "colors": {
    "hover_highlight": "#DAA520",
    "navigate_num": "#000000",
    "navigate_text": "#333333",
    "running_highlight": "#FF0000",
    "selected_highlight": "#FFD700",
    "sidebar_border": "#EEEEEE",
    "wrapper_background": "#FFFFFF"
   },
   "moveMenuLeft": true,
   "nav_menu": {
    "height": "84px",
    "width": "252px"
   },
   "navigate_menu": true,
   "number_sections": true,
   "sideBar": true,
   "threshold": 4,
   "toc_cell": false,
   "toc_section_display": "block",
   "toc_window_display": true,
   "widenNotebook": false
  },
  "varInspector": {
   "cols": {
    "lenName": 16,
    "lenType": 16,
    "lenVar": 40
   },
   "kernels_config": {
    "python": {
     "delete_cmd_postfix": "",
     "delete_cmd_prefix": "del ",
     "library": "var_list.py",
     "varRefreshCmd": "print(var_dic_list())"
    },
    "r": {
     "delete_cmd_postfix": ") ",
     "delete_cmd_prefix": "rm(",
     "library": "var_list.r",
     "varRefreshCmd": "cat(var_dic_list()) "
    }
   },
   "types_to_exclude": [
    "module",
    "function",
    "builtin_function_or_method",
    "instance",
    "_Feature"
   ],
   "window_display": false
  }
 },
 "nbformat": 4,
 "nbformat_minor": 2
}
