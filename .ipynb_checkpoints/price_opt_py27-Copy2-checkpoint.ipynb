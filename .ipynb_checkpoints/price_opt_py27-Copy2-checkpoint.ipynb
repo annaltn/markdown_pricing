{
 "cells": [
  {
   "cell_type": "markdown",
   "metadata": {},
   "source": [
    "## Inits"
   ]
  },
  {
   "cell_type": "markdown",
   "metadata": {},
   "source": [
    "+ Standard modules:"
   ]
  },
  {
   "cell_type": "code",
   "execution_count": 1,
   "metadata": {
    "ExecuteTime": {
     "end_time": "2017-11-09T16:06:21.994034Z",
     "start_time": "2017-11-09T16:06:21.086485Z"
    },
    "collapsed": true,
    "init_cell": true
   },
   "outputs": [],
   "source": [
    "import pandas as pd\n",
    "import numpy as np\n",
    "import matplotlib.pyplot as pl\n",
    "from time import time"
   ]
  },
  {
   "cell_type": "markdown",
   "metadata": {},
   "source": [
    "+ Modules for LP/IP:"
   ]
  },
  {
   "cell_type": "code",
   "execution_count": 2,
   "metadata": {
    "ExecuteTime": {
     "end_time": "2017-11-09T16:06:22.027871Z",
     "start_time": "2017-11-09T16:06:21.995752Z"
    },
    "collapsed": true,
    "init_cell": true
   },
   "outputs": [],
   "source": [
    "import cplex\n",
    "from cplex import Cplex\n",
    "from cplex.exceptions import CplexError"
   ]
  },
  {
   "cell_type": "markdown",
   "metadata": {},
   "source": [
    "+ My own modules:"
   ]
  },
  {
   "cell_type": "code",
   "execution_count": 3,
   "metadata": {
    "ExecuteTime": {
     "end_time": "2017-11-09T16:06:22.934071Z",
     "start_time": "2017-11-09T16:06:22.029399Z"
    },
    "collapsed": true,
    "init_cell": true
   },
   "outputs": [],
   "source": [
    "import input_load\n",
    "from input_load import *\n",
    "\n",
    "import split\n",
    "from split import DataSplitter\n",
    "\n",
    "import demand_pred\n",
    "from demand_pred import DemandPredictor\n",
    "\n",
    "import trigger\n",
    "from trigger import *\n",
    "\n",
    "import date_util\n",
    "from date_util import *"
   ]
  },
  {
   "cell_type": "markdown",
   "metadata": {},
   "source": [
    "+ Helpers:"
   ]
  },
  {
   "cell_type": "code",
   "execution_count": 4,
   "metadata": {
    "ExecuteTime": {
     "end_time": "2017-11-09T16:06:22.940201Z",
     "start_time": "2017-11-09T16:06:22.936455Z"
    },
    "code_folding": [
     0
    ],
    "collapsed": true,
    "init_cell": true
   },
   "outputs": [],
   "source": [
    "def rand_int_in(low, high): # include both low & high\n",
    "    return np.random.randint(low, high + 1, 1)[0]"
   ]
  },
  {
   "cell_type": "markdown",
   "metadata": {
    "heading_collapsed": true
   },
   "source": [
    "## Load global vars"
   ]
  },
  {
   "cell_type": "code",
   "execution_count": 5,
   "metadata": {
    "ExecuteTime": {
     "end_time": "2017-11-09T16:06:22.945316Z",
     "start_time": "2017-11-09T16:06:22.942023Z"
    },
    "collapsed": true,
    "hidden": true,
    "init_cell": true
   },
   "outputs": [],
   "source": [
    "CLEAN_DIR = '~/data/venture=Zalora/sg/clean/'\n",
    "RES_DIR = '~/projects/daas-markdown/res/'\n",
    "group_dir = CLEAN_DIR + 'groups/'\n",
    "feat_dir = group_dir + 'feats/'\n",
    "# TODAY = pd.datetime.today().date()"
   ]
  },
  {
   "cell_type": "markdown",
   "metadata": {
    "heading_collapsed": true
   },
   "source": [
    "## IP formulation"
   ]
  },
  {
   "cell_type": "markdown",
   "metadata": {
    "heading_collapsed": true,
    "hidden": true
   },
   "source": [
    "### Input, Output"
   ]
  },
  {
   "cell_type": "markdown",
   "metadata": {
    "hidden": true
   },
   "source": [
    "Given a date $d$, input & output of the `price optimizer` module are follows:\n",
    "\n",
    "__Input__:\n",
    "\n",
    "+ the set of SKU configs whose prices on $d$ need to be optimized\n",
    "+ the set of possible prices for the configs\n",
    "+ inventory constraints on $d$, i.e. the number of remaining units in inventory of each config on $d$\n",
    "\n",
    "__Output__: the list of optimal prices for the configs"
   ]
  },
  {
   "cell_type": "markdown",
   "metadata": {
    "heading_collapsed": true,
    "hidden": true
   },
   "source": [
    "### Math formulation of the problem"
   ]
  },
  {
   "cell_type": "markdown",
   "metadata": {
    "hidden": true
   },
   "source": [
    "\\begin{align}\n",
    "\t\\label{IP_s}\n",
    "\t\\max & \\sum_{i \\in I_o} \\sum_{j \\in J} p_j D_{i, j, s} x_{i, j} \\\\\n",
    "\ts.t. & \\sum_{j \\in J} x_{i, j} = 1, ~\\forall i \\in I_o  \\\\\n",
    "\t \t & \\sum_{i \\in I_o} \\sum_{j \\in J} p_j x_{i, j} = s  \\\\\n",
    "\t\t & x_{i, j} \\in \\{0, 1 \\} \\\\\n",
    "\t\t & D_{i, j, s} \\le n_i \n",
    "\\end{align}"
   ]
  },
  {
   "cell_type": "markdown",
   "metadata": {
    "heading_collapsed": true,
    "hidden": true
   },
   "source": [
    "### Components of the IP\n",
    "\n",
    "+ objective function\n",
    "+ single-price constraints\n",
    "+ sum constraints\n",
    "+ binary type constraints\n",
    "+ inventory constraints"
   ]
  },
  {
   "cell_type": "markdown",
   "metadata": {
    "heading_collapsed": true
   },
   "source": [
    "# Helpers to populate LP"
   ]
  },
  {
   "cell_type": "markdown",
   "metadata": {
    "heading_collapsed": true,
    "hidden": true
   },
   "source": [
    "## To set variable type"
   ]
  },
  {
   "cell_type": "code",
   "execution_count": 6,
   "metadata": {
    "ExecuteTime": {
     "end_time": "2017-11-09T16:06:22.955422Z",
     "start_time": "2017-11-09T16:06:22.947086Z"
    },
    "code_folding": [
     0
    ],
    "collapsed": true,
    "hidden": true,
    "init_cell": true
   },
   "outputs": [],
   "source": [
    "def set_var_type(prob, binary=True):\n",
    "    var_names = prob.variables.get_names()\n",
    "    if binary:\n",
    "        types = [prob.variables.type.binary]*len(var_names)\n",
    "    else:\n",
    "        types = [prob.variables.type.continuous]*len(var_names)\n",
    "        \n",
    "    prob.variables.set_types(list(zip(var_names, types)))\n",
    "    print('+ set variable types as {}'.format(prob.variables.get_types()))\n",
    "    return prob"
   ]
  },
  {
   "cell_type": "markdown",
   "metadata": {
    "heading_collapsed": true,
    "hidden": true
   },
   "source": [
    "## To add constraints"
   ]
  },
  {
   "cell_type": "code",
   "execution_count": 7,
   "metadata": {
    "ExecuteTime": {
     "end_time": "2017-11-09T16:06:22.973234Z",
     "start_time": "2017-11-09T16:06:22.957442Z"
    },
    "code_folding": [
     0,
     13
    ],
    "collapsed": true,
    "hidden": true,
    "init_cell": true
   },
   "outputs": [],
   "source": [
    "def mk_var_names(configs, prices):\n",
    "    \n",
    "    n_config, n_price = len(configs), len(prices)\n",
    "    var_names = []\n",
    "    config_idx, price_idx = np.arange(n_config) + 1, np.arange(n_price) + 1\n",
    "    \n",
    "    for i in config_idx:\n",
    "        prefix = 'x_{}'.format(i)\n",
    "        row = [prefix + str(j) for j in price_idx]\n",
    "        var_names += [row]\n",
    "        \n",
    "    return np.array(var_names)\n",
    "\n",
    "def mk_opc_lhs(configs, prices, var_names):\n",
    "    lhs = []\n",
    "    coefs = np.ones(len(prices))\n",
    "    \n",
    "    for i, cf in enumerate(configs):\n",
    "        count = i+1\n",
    "        if count % 100 == 0:\n",
    "            print('\\t created one-price lhs for {} config ...'.format(count))\n",
    "        row = cplex.SparsePair(ind=var_names[i], val=coefs)\n",
    "        lhs += [row]\n",
    "        \n",
    "    return lhs"
   ]
  },
  {
   "cell_type": "code",
   "execution_count": 8,
   "metadata": {
    "ExecuteTime": {
     "end_time": "2017-11-09T16:06:22.982834Z",
     "start_time": "2017-11-09T16:06:22.974721Z"
    },
    "code_folding": [
     0
    ],
    "collapsed": true,
    "hidden": true,
    "init_cell": true
   },
   "outputs": [],
   "source": [
    "def add_one_price_constraints(prob, configs, prices, var_names): # one per config\n",
    "    \n",
    "    n_config, n_price = len(configs), len(prices)\n",
    "    n_var = n_config * n_price\n",
    "    lhs = mk_opc_lhs(configs, prices, var_names)\n",
    "    \n",
    "    my_sense = ['E'] * n_config\n",
    "    my_rhs = np.ones(n_config)\n",
    "    my_rownames = ['opc_config_{}'.format(i) for i in range(n_config)]\n",
    "    \n",
    "    prob.linear_constraints.add(lin_expr=lhs, senses=my_sense, rhs=my_rhs, names=my_rownames)\n",
    "    \n",
    "    print('+ added {} one-price constraints for {} configs'.format(n_config, n_config))\n",
    "    return prob"
   ]
  },
  {
   "cell_type": "code",
   "execution_count": 9,
   "metadata": {
    "ExecuteTime": {
     "end_time": "2017-11-09T16:06:22.990816Z",
     "start_time": "2017-11-09T16:06:22.984981Z"
    },
    "code_folding": [
     0
    ],
    "collapsed": true,
    "hidden": true,
    "init_cell": true
   },
   "outputs": [],
   "source": [
    "def add_sum_constraints(prob, s, prices, configs, var_names):\n",
    "    \n",
    "    coefs = np.array([prices] * len(configs))\n",
    "    lhs = cplex.SparsePair(ind=var_names.ravel(), val=coefs.ravel())\n",
    "    \n",
    "    prob.linear_constraints.add(lin_expr=[lhs], senses=['E'], rhs=[s], names=['sum_constraint'])\n",
    "    print('+ added sum constraint')\n",
    "    return prob"
   ]
  },
  {
   "cell_type": "markdown",
   "metadata": {
    "hidden": true
   },
   "source": [
    "__Note:__ inventory constraints are non-linear, stochastic ones. Thus, they will be added in later version."
   ]
  },
  {
   "cell_type": "code",
   "execution_count": 10,
   "metadata": {
    "ExecuteTime": {
     "end_time": "2017-11-09T16:06:22.995889Z",
     "start_time": "2017-11-09T16:06:22.992779Z"
    },
    "code_folding": [
     0
    ],
    "collapsed": true,
    "hidden": true,
    "init_cell": true
   },
   "outputs": [],
   "source": [
    "def add_inventory_constraints(prob, predicted_demands, inv_amount):\n",
    "    print('+ added inventory constraints')\n",
    "    pass"
   ]
  },
  {
   "cell_type": "code",
   "execution_count": 11,
   "metadata": {
    "ExecuteTime": {
     "end_time": "2017-11-09T16:06:23.003433Z",
     "start_time": "2017-11-09T16:06:22.997926Z"
    },
    "code_folding": [
     0
    ],
    "collapsed": true,
    "hidden": true,
    "init_cell": true
   },
   "outputs": [],
   "source": [
    "def add_bounds(prob, lb, ub):\n",
    "    var_names = prob.variables.get_names()\n",
    "    n_var = len(var_names)\n",
    "    lower_bounds, upper_bounds = [lb]*n_var, [ub]*n_var\n",
    "    prob.variables.set_lower_bounds(list(zip(var_names, lower_bounds)))\n",
    "    prob.variables.set_upper_bounds(list(zip(var_names, upper_bounds)))\n",
    "    print('+ added bounds')\n",
    "    return prob"
   ]
  },
  {
   "cell_type": "markdown",
   "metadata": {
    "heading_collapsed": true,
    "hidden": true
   },
   "source": [
    "## To add objective function"
   ]
  },
  {
   "cell_type": "code",
   "execution_count": 12,
   "metadata": {
    "ExecuteTime": {
     "end_time": "2017-11-09T16:06:23.010669Z",
     "start_time": "2017-11-09T16:06:23.005426Z"
    },
    "code_folding": [
     0,
     3
    ],
    "collapsed": true,
    "hidden": true,
    "init_cell": true
   },
   "outputs": [],
   "source": [
    "def cal_feats(configs, dd, group_feats):\n",
    "    pass\n",
    "\n",
    "def predict_demand(configs, dd, group):\n",
    "    group_feats = form_feat_mat(group)\n",
    "    feat_mat = cal_feats(configs, dd, group_feats)\n",
    "    predicted_demands = demand_predictor.predict(feat_mat)\n",
    "    \n",
    "    return predicted_demands"
   ]
  },
  {
   "cell_type": "code",
   "execution_count": 13,
   "metadata": {
    "ExecuteTime": {
     "end_time": "2017-11-09T16:06:23.016454Z",
     "start_time": "2017-11-09T16:06:23.012625Z"
    },
    "code_folding": [
     0
    ],
    "collapsed": true,
    "hidden": true,
    "init_cell": true
   },
   "outputs": [],
   "source": [
    "def cal_obj_coefs(prices, predicted_demands):\n",
    "    concat_prices = np.array([prices] * len(configs)).ravel() # same formula as add_sum_constraints(), only diff is to mult with demands\n",
    "    return np.multiply(concat_prices, predicted_demands)"
   ]
  },
  {
   "cell_type": "code",
   "execution_count": 14,
   "metadata": {
    "ExecuteTime": {
     "end_time": "2017-11-09T16:06:23.024213Z",
     "start_time": "2017-11-09T16:06:23.018774Z"
    },
    "code_folding": [
     0,
     4
    ],
    "collapsed": true,
    "hidden": true,
    "init_cell": true
   },
   "outputs": [],
   "source": [
    "def add_obj(prob, configs, prices, dd, predicted_demands=None):\n",
    "    '''\n",
    "    add obj functions & binary vars declaration\n",
    "    '''\n",
    "#     predicted_demands = predict_demand(configs, dd)\n",
    "    obj_coefs = cal_obj_coefs(prices, predicted_demands)\n",
    "    var_names = prob.variables.get_names()\n",
    "    prob.objective.set_linear(list(zip(var_names, obj_coefs)))\n",
    "    print('+ added objective function')\n",
    "    return prob"
   ]
  },
  {
   "cell_type": "markdown",
   "metadata": {
    "heading_collapsed": true,
    "hidden": true
   },
   "source": [
    "## To get components"
   ]
  },
  {
   "cell_type": "code",
   "execution_count": 15,
   "metadata": {
    "ExecuteTime": {
     "end_time": "2017-11-09T16:06:23.038552Z",
     "start_time": "2017-11-09T16:06:23.026108Z"
    },
    "code_folding": [
     2
    ],
    "collapsed": true,
    "hidden": true,
    "init_cell": true
   },
   "outputs": [],
   "source": [
    "def get_constraints(prob):\n",
    "    \n",
    "    def pretty_lhs(spair):\n",
    "        '''\n",
    "        Given lhs of a constraint in `cplex.SparsePair` form, convert it to human readable format\n",
    "        '''\n",
    "        idx = spair.ind\n",
    "        variables = prob.variables.get_names(idx)\n",
    "        coefs = spair.val\n",
    "        terms = [''.join([str(coefs[i]), v]) for i, v in enumerate(variables)]\n",
    "        return ' + '.join(terms)\n",
    "    \n",
    "    lin_con = prob.linear_constraints\n",
    "    names = lin_con.get_names()\n",
    "    sparse_pairs = lin_con.get_rows()\n",
    "    lhs = [pretty_lhs(spair) for spair in sparse_pairs]\n",
    "    \n",
    "    senses = lin_con.get_senses()\n",
    "    rhs = lin_con.get_rhs()\n",
    "    \n",
    "    constraints = pd.DataFrame({'name': names, 'lhs': lhs, 'sense': senses, 'rhs': rhs})\n",
    "    cols = ['name', 'lhs', 'sense', 'rhs']\n",
    "    return constraints[cols]"
   ]
  },
  {
   "cell_type": "markdown",
   "metadata": {},
   "source": [
    "# Collect inputs"
   ]
  },
  {
   "cell_type": "code",
   "execution_count": 94,
   "metadata": {
    "ExecuteTime": {
     "end_time": "2017-11-09T16:05:48.630392Z",
     "start_time": "2017-11-09T16:05:48.622252Z"
    },
    "collapsed": false
   },
   "outputs": [],
   "source": [
    "reload(input_load)\n",
    "from input_load import *\n",
    "\n",
    "reload(trigger)\n",
    "from trigger import *\n",
    "\n",
    "reload(demand_pred)\n",
    "from demand_pred import *\n",
    "\n",
    "reload(date_util)\n",
    "from date_util import *\n",
    "\n",
    "reload(split)\n",
    "from split import DataSplitter"
   ]
  },
  {
   "cell_type": "markdown",
   "metadata": {
    "heading_collapsed": true
   },
   "source": [
    "## Configs to be optimized\n",
    "\n",
    "Given a group of SKU configs, we want to detect which SKU configs we need to optimize prices. Those are configs which are either selling __too slow__ or __too fast__. Thus, we can detect those by comparing target sale velocity with recent sale velocity (in two recent weeks). This is implemented in our `trigger` module."
   ]
  },
  {
   "cell_type": "code",
   "execution_count": 32,
   "metadata": {
    "ExecuteTime": {
     "end_time": "2017-11-09T12:05:22.572892Z",
     "start_time": "2017-11-09T12:05:17.058565Z"
    },
    "collapsed": false,
    "hidden": true
   },
   "outputs": [
    {
     "name": "stdout",
     "output_type": "stream",
     "text": [
      "loading product data...\n",
      "Loading historical sales from /Users/gfg/data/venture=zalora/sg/clean/demand_config.csv...\n"
     ]
    }
   ],
   "source": [
    "my_trigger = Trigger(input_loader)"
   ]
  },
  {
   "cell_type": "markdown",
   "metadata": {},
   "source": [
    "## Possible prices \n",
    "\n",
    "We now calculate possible prices for each config $cf$. Those are prices discounted from the black price of $cf$, starting from black price minus $5\\%$, each time we discount $5\\%$. Thus, the possible prices will have the following form:\n",
    "\n",
    "$$\n",
    "black\\_price(cf) - k * unit\\_discount, k \\in 1,\\dots, 16\n",
    "$$\n",
    "where\n",
    "$$\n",
    "unit\\_discount = 0.05 * black\\_price(cf)\n",
    "$$"
   ]
  },
  {
   "cell_type": "code",
   "execution_count": 33,
   "metadata": {
    "ExecuteTime": {
     "end_time": "2017-11-09T12:05:54.620979Z",
     "start_time": "2017-11-09T12:05:54.617258Z"
    },
    "code_folding": [],
    "collapsed": true
   },
   "outputs": [],
   "source": [
    "def query_black_price(configs, group_df):\n",
    "    cols = ['sku_config', 'price']\n",
    "    rrp_df = group_df[group_df.sku_config.isin(configs)][cols].drop_duplicates()\n",
    "    return rrp_df.rename(columns={'price': 'black_price'})"
   ]
  },
  {
   "cell_type": "markdown",
   "metadata": {},
   "source": [
    "__Notes:__ \n",
    "\n",
    "+ There are SKUs with too large black prices. These must be errors from data input.\n",
    "+ some SKUs have more than $1$ black price. How to handle these cases? Should we just take the smallest price?"
   ]
  },
  {
   "cell_type": "code",
   "execution_count": 62,
   "metadata": {
    "ExecuteTime": {
     "end_time": "2017-11-09T15:16:55.725481Z",
     "start_time": "2017-11-09T15:16:55.722315Z"
    },
    "collapsed": true
   },
   "outputs": [],
   "source": [
    "def get_correct_price(cf, rrp_df):\n",
    "    return min(rrp_df[rrp_df.sku_config == cf]['black_price'])"
   ]
  },
  {
   "cell_type": "code",
   "execution_count": 34,
   "metadata": {
    "ExecuteTime": {
     "end_time": "2017-11-09T12:05:54.628727Z",
     "start_time": "2017-11-09T12:05:54.623376Z"
    },
    "code_folding": [
     1
    ],
    "collapsed": true
   },
   "outputs": [],
   "source": [
    "ks = np.arange(0, 15) + 1\n",
    "def cal_prices(cf, rrp_df, count=1):\n",
    "    if (count % 100) == 0:\n",
    "        print('{} configs and counting...'.format(count))\n",
    "    \n",
    "    black_price = rrp_df.query('sku_config == \"{}\"'.format(cf))['black_price'].iat[0]\n",
    "    unit_discount = 0.05*black_price\n",
    "    return black_price - ks*unit_discount"
   ]
  },
  {
   "cell_type": "markdown",
   "metadata": {},
   "source": [
    "## Inventory amount"
   ]
  },
  {
   "cell_type": "markdown",
   "metadata": {
    "heading_collapsed": true
   },
   "source": [
    "# Find global optimum prices\n",
    "\n",
    "For each value of $s$, we solve the corresponding ($IP_s$) to find the local optimum prices $P^*_s$. Then we determine the global optimum prices $P^*$ as the one that provides maximum revenue among these $P^*_s$."
   ]
  },
  {
   "cell_type": "markdown",
   "metadata": {
    "hidden": true
   },
   "source": [
    "## Build optimization problems $IP_s$\n",
    "\n",
    "We are using the Python API of CPLEX library. In this library, to build an IP, we need to populate its components (i.e. objective function and constraints). The mentioned components of each ($IP_s$) is the following:\n",
    "\n",
    "+ objective function & variable type declaration (binary)\n",
    "+ one-price constraints (OPC)\n",
    "+ sum constraints (SC)\n",
    "+ inventory constraints (IC)"
   ]
  },
  {
   "cell_type": "code",
   "execution_count": null,
   "metadata": {
    "ExecuteTime": {
     "end_time": "2017-11-06T14:53:08.819537Z",
     "start_time": "2017-11-06T14:53:08.816214Z"
    },
    "code_folding": [
     0
    ],
    "collapsed": false,
    "hidden": true
   },
   "outputs": [],
   "source": [
    "def get_type(prob):\n",
    "    type_code = prob.get_problem_type()\n",
    "    return prob.problem_type[type_code]"
   ]
  },
  {
   "cell_type": "code",
   "execution_count": null,
   "metadata": {
    "ExecuteTime": {
     "end_time": "2017-11-06T14:53:08.830368Z",
     "start_time": "2017-11-06T14:53:08.821819Z"
    },
    "code_folding": [
     0,
     14
    ],
    "collapsed": true,
    "hidden": true
   },
   "outputs": [],
   "source": [
    "def populatebyrow(prob, total_price, dd, configs, prices, inv_amount):\n",
    "    '''\n",
    "    build an IP/LP problem by populating its components\n",
    "    '''\n",
    "    ## tell the solver that this is a maximize problem\n",
    "    prob.objective.set_sense(prob.objective.sense.maximize)\n",
    "    \n",
    "    var_names = mk_var_names(configs, prices) # var names in 2D array\n",
    "    \n",
    "    prob = add_one_price_constraints(prob, configs, prices, var_names)\n",
    "    prob = add_sum_constraints(prob, total_price, prices, configs, var_names)\n",
    "    \n",
    "    n_var = len(configs) * len(prices)\n",
    "    predicted_demands = np.random.randint(1, 10, size=n_var) # for testing only, will replace by actual predicted demand\n",
    "#     prob = add_inventory_constraints(prob, predicted_demands, inv_amount)\n",
    "    prob = add_obj(prob, configs, prices, dd, predicted_demands)\n",
    "    \n",
    "    return prob"
   ]
  },
  {
   "cell_type": "code",
   "execution_count": null,
   "metadata": {
    "ExecuteTime": {
     "end_time": "2017-11-06T14:53:08.842061Z",
     "start_time": "2017-11-06T14:53:08.832113Z"
    },
    "code_folding": [
     0
    ],
    "collapsed": true,
    "hidden": true
   },
   "outputs": [],
   "source": [
    "def populateLP(total_price, dd, configs, prices, inv_amount, binary=True): # wrapper to populate (IPs)\n",
    "    '''\n",
    "    dd: given date\n",
    "    configs: SKU configs whose prices on the date need to be optimized\n",
    "    prices: possible prices for the configs\n",
    "    inv_amount: inventory constraints on the given date\n",
    "    '''\n",
    "    print(r'Populating $LP_{}$...'.format(total_price))\n",
    "    prob = Cplex()\n",
    "    \n",
    "    var_names = mk_var_names(configs, prices)\n",
    "    prob.variables.add(names=var_names.ravel())\n",
    "    \n",
    "    prob = set_var_type(prob, binary)\n",
    "    \n",
    "    if not binary:\n",
    "        prob = add_bounds(prob, lb=0, ub=1)\n",
    "    \n",
    "    prob = populatebyrow(prob, total_price, dd, configs, prices, inv_amount)\n",
    "\n",
    "    prob.set_problem_type(Cplex.problem_type.LP)\n",
    "    print('Type of problem: {}'.format(get_type(prob)))\n",
    "    \n",
    "    return prob"
   ]
  },
  {
   "cell_type": "markdown",
   "metadata": {
    "hidden": true
   },
   "source": [
    "## Solve $IP_s$ for local optimum\n",
    "\n",
    "For each possible value of $s$, I follow the steps in algorithm 1 in the [work](http://www.hbs.edu/faculty/Publication%20Files/kris%20Analytics%20for%20an%20Online%20Retailer_6ef5f3e6-48e7-4923-a2d4-607d3a3d943c.pdf):\n",
    "\n",
    "+ solve relaxed $LP_s$ of $IP_s$ (e.g. integer constraints are removed)\n",
    "+ calculate the lower bound for objective value of $IP_s$ via objective value of $LP_s$"
   ]
  },
  {
   "cell_type": "markdown",
   "metadata": {
    "hidden": true
   },
   "source": [
    "### Solve relaxed $LP_s$"
   ]
  },
  {
   "cell_type": "code",
   "execution_count": null,
   "metadata": {
    "ExecuteTime": {
     "end_time": "2017-10-31T12:02:09.156413Z",
     "start_time": "2017-10-31T12:02:09.140865Z"
    },
    "collapsed": true,
    "hidden": true
   },
   "outputs": [],
   "source": [
    "prob = populateLP(s, today, configs, prices, inv_amount, binary=False)\n",
    "print()\n",
    "print('Started solver')\n",
    "prob.solve()"
   ]
  },
  {
   "cell_type": "markdown",
   "metadata": {
    "hidden": true
   },
   "source": [
    "#### Examine solution"
   ]
  },
  {
   "cell_type": "code",
   "execution_count": null,
   "metadata": {
    "ExecuteTime": {
     "end_time": "2017-10-31T12:02:26.193479Z",
     "start_time": "2017-10-31T12:02:26.184052Z"
    },
    "code_folding": [
     0
    ],
    "collapsed": false,
    "hidden": true
   },
   "outputs": [],
   "source": [
    "def show_sol_info(prob):\n",
    "    numrows = prob.linear_constraints.get_num()\n",
    "    numcols = prob.variables.get_num()\n",
    "    print()\n",
    "    # solution.get_status() returns an integer code\n",
    "    print(\"Solution status = \", prob.solution.get_status(), \":\", end=' ')\n",
    "    # which is used to print the corresponding string\n",
    "    print(prob.solution.status[prob.solution.get_status()])\n",
    "\n",
    "    print(\"Solution value  = \", prob.solution.get_objective_value())\n",
    "    slack = prob.solution.get_linear_slacks()\n",
    "    pi = prob.solution.get_dual_values()\n",
    "    x = prob.solution.get_values()\n",
    "    dj = prob.solution.get_reduced_costs()\n",
    "    for i in range(numrows):\n",
    "        print(\"Row %d:  Slack = %10f  Pi = %10f\" % (i, slack[i], pi[i]))\n",
    "    for j in range(numcols):\n",
    "        print(\"Column %d:  Value = %10f Reduced cost = %10f\" %\n",
    "              (j, x[j], dj[j]))"
   ]
  },
  {
   "cell_type": "markdown",
   "metadata": {
    "hidden": true
   },
   "source": [
    "### Calculate lower bound for $IP_s$"
   ]
  },
  {
   "cell_type": "code",
   "execution_count": null,
   "metadata": {
    "collapsed": true,
    "hidden": true
   },
   "outputs": [],
   "source": []
  },
  {
   "cell_type": "markdown",
   "metadata": {
    "hidden": true
   },
   "source": [
    "## Find global optimum"
   ]
  },
  {
   "cell_type": "code",
   "execution_count": null,
   "metadata": {
    "collapsed": true,
    "hidden": true
   },
   "outputs": [],
   "source": []
  },
  {
   "cell_type": "markdown",
   "metadata": {},
   "source": [
    "# Tests"
   ]
  },
  {
   "cell_type": "markdown",
   "metadata": {
    "heading_collapsed": true
   },
   "source": [
    "## Toy test case"
   ]
  },
  {
   "cell_type": "code",
   "execution_count": null,
   "metadata": {
    "ExecuteTime": {
     "end_time": "2017-10-30T17:34:49.408718Z",
     "start_time": "2017-10-30T17:34:49.403078Z"
    },
    "code_folding": [
     0
    ],
    "collapsed": true,
    "hidden": true
   },
   "outputs": [],
   "source": [
    "# set up test\n",
    "configs, prices = ['cf1', 'cf2'], range(5, 20, 5)\n",
    "n_config, n_price = len(configs), len(prices)\n",
    "inv_amount = np.random.randint(1, 10, n_config)\n",
    "today = pd.datetime.today()\n",
    "\n",
    "min_s, max_s = n_config * min(prices), n_config * max(prices)\n",
    "s = rand_int_in(min_s, max_s)\n",
    "today = pd.datetime.today()"
   ]
  },
  {
   "cell_type": "code",
   "execution_count": null,
   "metadata": {
    "ExecuteTime": {
     "end_time": "2017-10-31T12:04:27.696196Z",
     "start_time": "2017-10-31T12:04:27.675153Z"
    },
    "collapsed": true,
    "hidden": true
   },
   "outputs": [],
   "source": [
    "prob = populateLP(s, today, configs, prices, inv_amount, binary=False)\n",
    "print()\n",
    "print('Started solver')\n",
    "prob.solve()\n",
    "show_sol_info(prob) "
   ]
  },
  {
   "cell_type": "markdown",
   "metadata": {},
   "source": [
    "## Real data"
   ]
  },
  {
   "cell_type": "code",
   "execution_count": 83,
   "metadata": {
    "ExecuteTime": {
     "end_time": "2017-11-09T15:51:05.994533Z",
     "start_time": "2017-11-09T15:50:35.857147Z"
    },
    "code_folding": [
     0
    ],
    "collapsed": false
   },
   "outputs": [
    {
     "name": "stdout",
     "output_type": "stream",
     "text": [
      "Loading global feats in yr 2017 from /Users/gfg/data/venture=zalora/sg/clean/2017/glob_feat.csv...\n"
     ]
    }
   ],
   "source": [
    "input_loader = InputLoader(DataPrep())\n",
    "global_X = input_loader.load_global_feat(yr=2017)"
   ]
  },
  {
   "cell_type": "markdown",
   "metadata": {
    "heading_collapsed": true
   },
   "source": [
    "### Find configs to be optimized\n",
    "Via `trigger`"
   ]
  },
  {
   "cell_type": "code",
   "execution_count": 36,
   "metadata": {
    "ExecuteTime": {
     "end_time": "2017-11-09T12:10:57.241970Z",
     "start_time": "2017-11-09T12:10:57.239029Z"
    },
    "collapsed": true,
    "hidden": true
   },
   "outputs": [],
   "source": [
    "gid = ('dresses', 'female', 'autumn-winter')\n",
    "gname = '_'.join(list(gid))"
   ]
  },
  {
   "cell_type": "code",
   "execution_count": 37,
   "metadata": {
    "ExecuteTime": {
     "end_time": "2017-11-09T12:10:57.354050Z",
     "start_time": "2017-11-09T12:10:57.247100Z"
    },
    "code_folding": [],
    "collapsed": false,
    "hidden": true
   },
   "outputs": [
    {
     "name": "stdout",
     "output_type": "stream",
     "text": [
      "Querying sale history of group dresses...\n"
     ]
    }
   ],
   "source": [
    "# load group sales history\n",
    "group_sales = my_trigger.query_group_sales(gid)\n",
    "\n",
    "fd, ld = date_range(group_sales)\n",
    "dd = ld - timedelta(days=30)"
   ]
  },
  {
   "cell_type": "code",
   "execution_count": 38,
   "metadata": {
    "ExecuteTime": {
     "end_time": "2017-11-09T12:11:09.655103Z",
     "start_time": "2017-11-09T12:11:09.632700Z"
    },
    "collapsed": true,
    "hidden": true
   },
   "outputs": [
    {
     "ename": "TypeError",
     "evalue": "can't compare datetime.date to Series",
     "output_type": "error",
     "traceback": [
      "\u001b[0;31m---------------------------------------------------------------------------\u001b[0m",
      "\u001b[0;31mTypeError\u001b[0m                                 Traceback (most recent call last)",
      "\u001b[0;32m<ipython-input-38-74eefe146f1e>\u001b[0m in \u001b[0;36m<module>\u001b[0;34m()\u001b[0m\n\u001b[1;32m      1\u001b[0m \u001b[0;31m#NOT run, this has some bug\u001b[0m\u001b[0;34m\u001b[0m\u001b[0;34m\u001b[0m\u001b[0m\n\u001b[0;32m----> 2\u001b[0;31m \u001b[0mslow_sku_df\u001b[0m \u001b[0;34m=\u001b[0m \u001b[0mmy_trigger\u001b[0m\u001b[0;34m.\u001b[0m\u001b[0mfind_slow_configs\u001b[0m\u001b[0;34m(\u001b[0m\u001b[0mgid\u001b[0m\u001b[0;34m,\u001b[0m \u001b[0mgroup_sales\u001b[0m\u001b[0;34m,\u001b[0m \u001b[0mdd\u001b[0m\u001b[0;34m)\u001b[0m\u001b[0;34m\u001b[0m\u001b[0m\n\u001b[0m\u001b[1;32m      3\u001b[0m \u001b[0;32mprint\u001b[0m\u001b[0;34m(\u001b[0m\u001b[0mslow_sku_df\u001b[0m\u001b[0;34m.\u001b[0m\u001b[0mhead\u001b[0m\u001b[0;34m(\u001b[0m\u001b[0;34m)\u001b[0m\u001b[0;34m)\u001b[0m\u001b[0;34m\u001b[0m\u001b[0m\n",
      "\u001b[0;32m/Users/gfg/projects/daas-markdown/markdown2/nb/trigger.py\u001b[0m in \u001b[0;36mfind_slow_configs\u001b[0;34m(self, group_id, group_sales, date, period)\u001b[0m\n\u001b[1;32m     36\u001b[0m         '''\n\u001b[1;32m     37\u001b[0m \u001b[0;34m\u001b[0m\u001b[0m\n\u001b[0;32m---> 38\u001b[0;31m         \u001b[0mrsv_df\u001b[0m \u001b[0;34m=\u001b[0m \u001b[0mself\u001b[0m\u001b[0;34m.\u001b[0m\u001b[0mcal_recent_veloc\u001b[0m\u001b[0;34m(\u001b[0m\u001b[0mgroup_sales\u001b[0m\u001b[0;34m,\u001b[0m \u001b[0mdate\u001b[0m\u001b[0;34m,\u001b[0m \u001b[0mperiod\u001b[0m\u001b[0;34m)\u001b[0m\u001b[0;34m\u001b[0m\u001b[0m\n\u001b[0m\u001b[1;32m     39\u001b[0m \u001b[0;34m\u001b[0m\u001b[0m\n\u001b[1;32m     40\u001b[0m         \u001b[0mgroup_stock\u001b[0m \u001b[0;34m=\u001b[0m \u001b[0mself\u001b[0m\u001b[0;34m.\u001b[0m\u001b[0mquery_stock_data\u001b[0m\u001b[0;34m(\u001b[0m\u001b[0mgroup_id\u001b[0m\u001b[0;34m)\u001b[0m\u001b[0;34m\u001b[0m\u001b[0m\n",
      "\u001b[0;32m/Users/gfg/projects/daas-markdown/markdown2/nb/trigger.py\u001b[0m in \u001b[0;36mcal_recent_veloc\u001b[0;34m(self, group_sales, date, period)\u001b[0m\n\u001b[1;32m     60\u001b[0m         \u001b[0mstart_date\u001b[0m \u001b[0;34m=\u001b[0m \u001b[0mtraverse_in_time\u001b[0m\u001b[0;34m(\u001b[0m\u001b[0mn_days\u001b[0m\u001b[0;34m=\u001b[0m\u001b[0;34m-\u001b[0m\u001b[0mperiod\u001b[0m\u001b[0;34m,\u001b[0m \u001b[0mdate\u001b[0m\u001b[0;34m=\u001b[0m\u001b[0mdate\u001b[0m\u001b[0;34m)\u001b[0m\u001b[0;34m\u001b[0m\u001b[0m\n\u001b[1;32m     61\u001b[0m         \u001b[0mend_date\u001b[0m \u001b[0;34m=\u001b[0m \u001b[0mdate\u001b[0m\u001b[0;34m\u001b[0m\u001b[0m\n\u001b[0;32m---> 62\u001b[0;31m         \u001b[0mvisible_skus\u001b[0m \u001b[0;34m=\u001b[0m \u001b[0mfind_visible_configs\u001b[0m\u001b[0;34m(\u001b[0m\u001b[0mgroup_sales\u001b[0m\u001b[0;34m,\u001b[0m \u001b[0mstart_date\u001b[0m\u001b[0;34m,\u001b[0m \u001b[0mend_date\u001b[0m\u001b[0;34m)\u001b[0m\u001b[0;34m\u001b[0m\u001b[0m\n\u001b[0m\u001b[1;32m     63\u001b[0m         \u001b[0;32mprint\u001b[0m\u001b[0;34m(\u001b[0m\u001b[0;34m)\u001b[0m\u001b[0;34m\u001b[0m\u001b[0m\n\u001b[1;32m     64\u001b[0m         \u001b[0;32mprint\u001b[0m\u001b[0;34m(\u001b[0m\u001b[0;34m'Calculating recent velocities of {} visible SKU configs...'\u001b[0m\u001b[0;34m.\u001b[0m\u001b[0mformat\u001b[0m\u001b[0;34m(\u001b[0m\u001b[0mlen\u001b[0m\u001b[0;34m(\u001b[0m\u001b[0mvisible_skus\u001b[0m\u001b[0;34m)\u001b[0m\u001b[0;34m)\u001b[0m\u001b[0;34m)\u001b[0m\u001b[0;34m\u001b[0m\u001b[0m\n",
      "\u001b[0;32m/Users/gfg/projects/daas-markdown/markdown2/nb/trigger.py\u001b[0m in \u001b[0;36mfind_visible_configs\u001b[0;34m(group_df, start_date, end_date)\u001b[0m\n\u001b[1;32m    198\u001b[0m     \u001b[0;31m# will fix this later\u001b[0m\u001b[0;34m\u001b[0m\u001b[0;34m\u001b[0m\u001b[0m\n\u001b[1;32m    199\u001b[0m \u001b[0;34m\u001b[0m\u001b[0m\n\u001b[0;32m--> 200\u001b[0;31m     \u001b[0mperiod_df\u001b[0m \u001b[0;34m=\u001b[0m \u001b[0mget_data_in_period\u001b[0m\u001b[0;34m(\u001b[0m\u001b[0mgroup_df\u001b[0m\u001b[0;34m,\u001b[0m \u001b[0mstart_date\u001b[0m\u001b[0;34m,\u001b[0m \u001b[0mend_date\u001b[0m\u001b[0;34m)\u001b[0m\u001b[0;34m\u001b[0m\u001b[0m\n\u001b[0m\u001b[1;32m    201\u001b[0m     \u001b[0;32mreturn\u001b[0m \u001b[0mperiod_df\u001b[0m\u001b[0;34m[\u001b[0m\u001b[0;34m'sku_config'\u001b[0m\u001b[0;34m]\u001b[0m\u001b[0;34m.\u001b[0m\u001b[0munique\u001b[0m\u001b[0;34m(\u001b[0m\u001b[0;34m)\u001b[0m\u001b[0;34m\u001b[0m\u001b[0m\n\u001b[1;32m    202\u001b[0m \u001b[0;34m\u001b[0m\u001b[0m\n",
      "\u001b[0;32m/Users/gfg/projects/daas-markdown/markdown2/nb/trigger.py\u001b[0m in \u001b[0;36mget_data_in_period\u001b[0;34m(df, start_date, stop_date)\u001b[0m\n\u001b[1;32m    166\u001b[0m \u001b[0;34m\u001b[0m\u001b[0m\n\u001b[1;32m    167\u001b[0m \u001b[0;32mdef\u001b[0m \u001b[0mget_data_in_period\u001b[0m\u001b[0;34m(\u001b[0m\u001b[0mdf\u001b[0m\u001b[0;34m,\u001b[0m \u001b[0mstart_date\u001b[0m\u001b[0;34m,\u001b[0m \u001b[0mstop_date\u001b[0m\u001b[0;34m)\u001b[0m\u001b[0;34m:\u001b[0m\u001b[0;34m\u001b[0m\u001b[0m\n\u001b[0;32m--> 168\u001b[0;31m     \u001b[0;32mreturn\u001b[0m \u001b[0mdf\u001b[0m\u001b[0;34m[\u001b[0m\u001b[0;34m(\u001b[0m\u001b[0mstart_date\u001b[0m \u001b[0;34m<=\u001b[0m \u001b[0mdf\u001b[0m\u001b[0;34m[\u001b[0m\u001b[0;34m'date'\u001b[0m\u001b[0;34m]\u001b[0m\u001b[0;34m)\u001b[0m \u001b[0;34m&\u001b[0m \u001b[0;34m(\u001b[0m\u001b[0mdf\u001b[0m\u001b[0;34m[\u001b[0m\u001b[0;34m'date'\u001b[0m\u001b[0;34m]\u001b[0m \u001b[0;34m<=\u001b[0m \u001b[0mstop_date\u001b[0m\u001b[0;34m)\u001b[0m\u001b[0;34m]\u001b[0m\u001b[0;34m\u001b[0m\u001b[0m\n\u001b[0m\u001b[1;32m    169\u001b[0m     \u001b[0;31m# df.query('{0} <= date and date <= {1}'.format(start_date, stop_date))\u001b[0m\u001b[0;34m\u001b[0m\u001b[0;34m\u001b[0m\u001b[0m\n\u001b[1;32m    170\u001b[0m \u001b[0;34m\u001b[0m\u001b[0m\n",
      "\u001b[0;31mTypeError\u001b[0m: can't compare datetime.date to Series"
     ]
    }
   ],
   "source": [
    "#NOT run, this has some bug\n",
    "slow_sku_df = my_trigger.find_slow_configs(gid, group_sales, dd)\n",
    "print(slow_sku_df.head())"
   ]
  },
  {
   "cell_type": "code",
   "execution_count": 39,
   "metadata": {
    "ExecuteTime": {
     "end_time": "2017-11-09T12:11:23.261731Z",
     "start_time": "2017-11-09T12:11:23.252408Z"
    },
    "code_folding": [
     0
    ],
    "collapsed": false,
    "hidden": true
   },
   "outputs": [
    {
     "name": "stdout",
     "output_type": "stream",
     "text": [
      "# slow configs: 254\n"
     ]
    }
   ],
   "source": [
    "# configs = slow_sku_df['sku_config'].unique()\n",
    "slow_sku_df = pd.read_csv(RES_DIR + 'slow_sku.csv')\n",
    "configs = sorted(slow_sku_df['sku_config'].unique())\n",
    "print('# slow configs: {}'.format(len(configs)))"
   ]
  },
  {
   "cell_type": "markdown",
   "metadata": {
    "heading_collapsed": true
   },
   "source": [
    "### Set possible prices"
   ]
  },
  {
   "cell_type": "code",
   "execution_count": 40,
   "metadata": {
    "ExecuteTime": {
     "end_time": "2017-11-09T12:11:40.655815Z",
     "start_time": "2017-11-09T12:11:33.089299Z"
    },
    "collapsed": false,
    "hidden": true
   },
   "outputs": [],
   "source": [
    "date_cols = ['snapshot_date', 'special_from_date', 'special_to_date', \n",
    "             'permanent_markdown_from_date']\n",
    "\n",
    "group_df = pd.read_csv(group_dir + gname + '.csv', parse_dates=date_cols)"
   ]
  },
  {
   "cell_type": "code",
   "execution_count": 65,
   "metadata": {
    "ExecuteTime": {
     "end_time": "2017-11-09T15:20:29.412547Z",
     "start_time": "2017-11-09T15:20:29.175623Z"
    },
    "collapsed": true,
    "hidden": true
   },
   "outputs": [
    {
     "data": {
      "text/plain": [
       "count    254.000000\n",
       "mean      49.439764\n",
       "std       33.177282\n",
       "min       24.900000\n",
       "25%       29.900000\n",
       "50%       34.900000\n",
       "75%       44.900000\n",
       "max      190.900000\n",
       "Name: black_price, dtype: float64"
      ]
     },
     "execution_count": 65,
     "metadata": {},
     "output_type": "execute_result"
    }
   ],
   "source": [
    "tmp_rrp_df = query_black_price(configs, group_df)\n",
    "correct_prices = [get_correct_price(cf, tmp_rrp_df) for cf in configs]\n",
    "rrp_df = pd.DataFrame({'sku_config': configs, 'black_price': correct_prices})\n",
    "rrp_df.black_price.describe()"
   ]
  },
  {
   "cell_type": "code",
   "execution_count": 66,
   "metadata": {
    "ExecuteTime": {
     "end_time": "2017-11-09T15:22:10.200874Z",
     "start_time": "2017-11-09T15:22:09.828492Z"
    },
    "collapsed": false,
    "hidden": true
   },
   "outputs": [
    {
     "name": "stdout",
     "output_type": "stream",
     "text": [
      "100 configs and counting...\n",
      "200 configs and counting...\n"
     ]
    }
   ],
   "source": [
    "possible_prices = [ cal_prices(cf, rrp_df, count=i+1) for i, cf in enumerate(configs)]"
   ]
  },
  {
   "cell_type": "code",
   "execution_count": 67,
   "metadata": {
    "ExecuteTime": {
     "end_time": "2017-11-09T15:22:10.206624Z",
     "start_time": "2017-11-09T15:22:10.202903Z"
    },
    "collapsed": false,
    "hidden": true
   },
   "outputs": [],
   "source": [
    "res = rrp_df.copy()\n",
    "res['possible_price'] = possible_prices"
   ]
  },
  {
   "cell_type": "code",
   "execution_count": 68,
   "metadata": {
    "ExecuteTime": {
     "end_time": "2017-11-09T15:22:18.036260Z",
     "start_time": "2017-11-09T15:22:18.020814Z"
    },
    "collapsed": false,
    "hidden": true
   },
   "outputs": [
    {
     "data": {
      "text/html": [
       "<div>\n",
       "<table border=\"1\" class=\"dataframe\">\n",
       "  <thead>\n",
       "    <tr style=\"text-align: right;\">\n",
       "      <th></th>\n",
       "      <th>black_price</th>\n",
       "      <th>sku_config</th>\n",
       "      <th>possible_price</th>\n",
       "    </tr>\n",
       "  </thead>\n",
       "  <tbody>\n",
       "    <tr>\n",
       "      <th>0</th>\n",
       "      <td>34.9</td>\n",
       "      <td>01E78AAD63B3BCGS</td>\n",
       "      <td>[33.155, 31.41, 29.665, 27.92, 26.175, 24.43, ...</td>\n",
       "    </tr>\n",
       "    <tr>\n",
       "      <th>1</th>\n",
       "      <td>29.9</td>\n",
       "      <td>03BECAA5ED847DGS</td>\n",
       "      <td>[28.405, 26.91, 25.415, 23.92, 22.425, 20.93, ...</td>\n",
       "    </tr>\n",
       "    <tr>\n",
       "      <th>2</th>\n",
       "      <td>29.9</td>\n",
       "      <td>063B9AA4AC4954GS</td>\n",
       "      <td>[28.405, 26.91, 25.415, 23.92, 22.425, 20.93, ...</td>\n",
       "    </tr>\n",
       "    <tr>\n",
       "      <th>3</th>\n",
       "      <td>39.9</td>\n",
       "      <td>07C63AA08A72CFGS</td>\n",
       "      <td>[37.905, 35.91, 33.915, 31.92, 29.925, 27.93, ...</td>\n",
       "    </tr>\n",
       "    <tr>\n",
       "      <th>4</th>\n",
       "      <td>44.9</td>\n",
       "      <td>0AE69AACA1018FGS</td>\n",
       "      <td>[42.655, 40.41, 38.165, 35.92, 33.675, 31.43, ...</td>\n",
       "    </tr>\n",
       "  </tbody>\n",
       "</table>\n",
       "</div>"
      ],
      "text/plain": [
       "   black_price        sku_config  \\\n",
       "0         34.9  01E78AAD63B3BCGS   \n",
       "1         29.9  03BECAA5ED847DGS   \n",
       "2         29.9  063B9AA4AC4954GS   \n",
       "3         39.9  07C63AA08A72CFGS   \n",
       "4         44.9  0AE69AACA1018FGS   \n",
       "\n",
       "                                      possible_price  \n",
       "0  [33.155, 31.41, 29.665, 27.92, 26.175, 24.43, ...  \n",
       "1  [28.405, 26.91, 25.415, 23.92, 22.425, 20.93, ...  \n",
       "2  [28.405, 26.91, 25.415, 23.92, 22.425, 20.93, ...  \n",
       "3  [37.905, 35.91, 33.915, 31.92, 29.925, 27.93, ...  \n",
       "4  [42.655, 40.41, 38.165, 35.92, 33.675, 31.43, ...  "
      ]
     },
     "execution_count": 68,
     "metadata": {},
     "output_type": "execute_result"
    }
   ],
   "source": [
    "res.head()"
   ]
  },
  {
   "cell_type": "markdown",
   "metadata": {
    "hidden": true
   },
   "source": [
    "__Notes:__ \n",
    "\n",
    "+ There are SKUs with too large black prices. These must be errors from data input."
   ]
  },
  {
   "cell_type": "code",
   "execution_count": null,
   "metadata": {
    "collapsed": true,
    "hidden": true
   },
   "outputs": [],
   "source": [
    "print(sum(rrp_df.black_price > 1000))\n",
    "large_price_skus = rrp_df[rrp_df.black_price > 1000]"
   ]
  },
  {
   "cell_type": "code",
   "execution_count": 47,
   "metadata": {
    "ExecuteTime": {
     "end_time": "2017-11-09T14:44:36.074064Z",
     "start_time": "2017-11-09T14:44:36.031381Z"
    },
    "collapsed": true,
    "hidden": true
   },
   "outputs": [
    {
     "data": {
      "text/html": [
       "<div>\n",
       "<table border=\"1\" class=\"dataframe\">\n",
       "  <thead>\n",
       "    <tr style=\"text-align: right;\">\n",
       "      <th></th>\n",
       "      <th>sku_config</th>\n",
       "      <th>black_price</th>\n",
       "      <th>product_name</th>\n",
       "      <th>brand_name</th>\n",
       "    </tr>\n",
       "  </thead>\n",
       "  <tbody>\n",
       "    <tr>\n",
       "      <th>0</th>\n",
       "      <td>ST343AA93UDQMY</td>\n",
       "      <td>4749.0</td>\n",
       "      <td>Flounce and Frill Trim Maxi Dress</td>\n",
       "      <td>Stylenanda</td>\n",
       "    </tr>\n",
       "    <tr>\n",
       "      <th>1</th>\n",
       "      <td>ST343AA92UDRMY</td>\n",
       "      <td>4749.0</td>\n",
       "      <td>Flounce and Frill Trim Maxi Dress</td>\n",
       "      <td>Stylenanda</td>\n",
       "    </tr>\n",
       "    <tr>\n",
       "      <th>2</th>\n",
       "      <td>ST343AA89UDUMY</td>\n",
       "      <td>3549.0</td>\n",
       "      <td>K Fashion Ribbon Tie Velvet Slip Dress</td>\n",
       "      <td>Stylenanda</td>\n",
       "    </tr>\n",
       "    <tr>\n",
       "      <th>3</th>\n",
       "      <td>ST343AA87UDWMY</td>\n",
       "      <td>3549.0</td>\n",
       "      <td>Korean Fashion Velvet Hoodie Long Dress</td>\n",
       "      <td>Stylenanda</td>\n",
       "    </tr>\n",
       "    <tr>\n",
       "      <th>4</th>\n",
       "      <td>F3813AAF518146GS</td>\n",
       "      <td>1299.0</td>\n",
       "      <td>Border Print Shift Dress</td>\n",
       "      <td>Something Borrowed</td>\n",
       "    </tr>\n",
       "    <tr>\n",
       "      <th>7</th>\n",
       "      <td>F2762AAE345024GS</td>\n",
       "      <td>1299.0</td>\n",
       "      <td>Border Print Shift Dress</td>\n",
       "      <td>Something Borrowed</td>\n",
       "    </tr>\n",
       "    <tr>\n",
       "      <th>11</th>\n",
       "      <td>AD9ABAA31B83EFGS</td>\n",
       "      <td>299000.0</td>\n",
       "      <td>Bell Sleeve Off Shoulder Dress</td>\n",
       "      <td>Something Borrowed</td>\n",
       "    </tr>\n",
       "    <tr>\n",
       "      <th>15</th>\n",
       "      <td>BB61EAA5F4676BGS</td>\n",
       "      <td>299000.0</td>\n",
       "      <td>Embroidered Off-Shoulder Dress</td>\n",
       "      <td>Something Borrowed</td>\n",
       "    </tr>\n",
       "    <tr>\n",
       "      <th>19</th>\n",
       "      <td>063B9AA4AC4954GS</td>\n",
       "      <td>279000.0</td>\n",
       "      <td>Stripe Cami Dress</td>\n",
       "      <td>Something Borrowed</td>\n",
       "    </tr>\n",
       "    <tr>\n",
       "      <th>21</th>\n",
       "      <td>D81A9AADC2318FGS</td>\n",
       "      <td>299000.0</td>\n",
       "      <td>Bell Sleeve Off Shoulder Dress</td>\n",
       "      <td>Something Borrowed</td>\n",
       "    </tr>\n",
       "    <tr>\n",
       "      <th>25</th>\n",
       "      <td>EA03BAA937CE38GS</td>\n",
       "      <td>299000.0</td>\n",
       "      <td>Bell Sleeve Off Shoulder Dress</td>\n",
       "      <td>Something Borrowed</td>\n",
       "    </tr>\n",
       "  </tbody>\n",
       "</table>\n",
       "</div>"
      ],
      "text/plain": [
       "          sku_config  black_price                             product_name  \\\n",
       "0     ST343AA93UDQMY       4749.0        Flounce and Frill Trim Maxi Dress   \n",
       "1     ST343AA92UDRMY       4749.0        Flounce and Frill Trim Maxi Dress   \n",
       "2     ST343AA89UDUMY       3549.0   K Fashion Ribbon Tie Velvet Slip Dress   \n",
       "3     ST343AA87UDWMY       3549.0  Korean Fashion Velvet Hoodie Long Dress   \n",
       "4   F3813AAF518146GS       1299.0                 Border Print Shift Dress   \n",
       "7   F2762AAE345024GS       1299.0                 Border Print Shift Dress   \n",
       "11  AD9ABAA31B83EFGS     299000.0           Bell Sleeve Off Shoulder Dress   \n",
       "15  BB61EAA5F4676BGS     299000.0           Embroidered Off-Shoulder Dress   \n",
       "19  063B9AA4AC4954GS     279000.0                        Stripe Cami Dress   \n",
       "21  D81A9AADC2318FGS     299000.0           Bell Sleeve Off Shoulder Dress   \n",
       "25  EA03BAA937CE38GS     299000.0           Bell Sleeve Off Shoulder Dress   \n",
       "\n",
       "            brand_name  \n",
       "0           Stylenanda  \n",
       "1           Stylenanda  \n",
       "2           Stylenanda  \n",
       "3           Stylenanda  \n",
       "4   Something Borrowed  \n",
       "7   Something Borrowed  \n",
       "11  Something Borrowed  \n",
       "15  Something Borrowed  \n",
       "19  Something Borrowed  \n",
       "21  Something Borrowed  \n",
       "25  Something Borrowed  "
      ]
     },
     "execution_count": 47,
     "metadata": {},
     "output_type": "execute_result"
    }
   ],
   "source": [
    "cols = ['sku_config', 'product_name', 'brand_name']\n",
    "large_price_skus.merge(my_trigger.prod_df[cols]).drop_duplicates()"
   ]
  },
  {
   "cell_type": "markdown",
   "metadata": {
    "heading_collapsed": true,
    "hidden": true
   },
   "source": [
    "#### Check SKUs with weird prices"
   ]
  },
  {
   "cell_type": "code",
   "execution_count": 54,
   "metadata": {
    "ExecuteTime": {
     "end_time": "2017-11-09T14:56:19.079166Z",
     "start_time": "2017-11-09T14:56:19.009874Z"
    },
    "collapsed": true,
    "hidden": true
   },
   "outputs": [],
   "source": [
    "# cf = AD9ABAA31B83EFGS\n",
    "sub_df = group_df.query('sku_config == \"AD9ABAA31B83EFGS\" and is_visible == 1') .drop_duplicates()\n",
    "sub_df.sort_values('price', ascending=False, inplace=True)"
   ]
  },
  {
   "cell_type": "code",
   "execution_count": 50,
   "metadata": {
    "ExecuteTime": {
     "end_time": "2017-11-09T14:52:28.046819Z",
     "start_time": "2017-11-09T14:52:28.034777Z"
    },
    "collapsed": true,
    "hidden": true
   },
   "outputs": [
    {
     "name": "stdout",
     "output_type": "stream",
     "text": [
      "<class 'pandas.core.frame.DataFrame'>\n",
      "Int64Index: 930 entries, 171513 to 968919\n",
      "Data columns (total 34 columns):\n",
      "boost                           858 non-null float64\n",
      "brand_status                    930 non-null float64\n",
      "catalog_type                    930 non-null object\n",
      "cost                            930 non-null float64\n",
      "cost_supplier                   930 non-null float64\n",
      "current_price                   930 non-null float64\n",
      "fk_current_price_band           930 non-null int64\n",
      "fk_markdown_band                930 non-null int64\n",
      "fk_original_price_band          930 non-null int64\n",
      "fk_simple_product               930 non-null int64\n",
      "fx_rate                         930 non-null float64\n",
      "id_catalog_config               930 non-null int64\n",
      "id_supplier                     930 non-null float64\n",
      "intake_margin                   930 non-null float64\n",
      "inventory_value                 930 non-null float64\n",
      "is_visible                      930 non-null int64\n",
      "online_aging                    930 non-null float64\n",
      "permanent_markdown_from_date    0 non-null datetime64[ns]\n",
      "permanent_markdown_price        594 non-null float64\n",
      "price                           930 non-null float64\n",
      "shop_type                       930 non-null float64\n",
      "sku_config                      930 non-null object\n",
      "sku_config_status               930 non-null float64\n",
      "sku_simple                      930 non-null object\n",
      "sku_simple_status               930 non-null float64\n",
      "snapshot_date                   930 non-null datetime64[ns]\n",
      "special_cogs                    0 non-null float64\n",
      "special_from_date               0 non-null datetime64[ns]\n",
      "special_price                   404 non-null float64\n",
      "special_to_date                 0 non-null datetime64[ns]\n",
      "stock                           930 non-null int64\n",
      "supplier_status                 930 non-null float64\n",
      "total_stock                     930 non-null float64\n",
      "venture_code                    930 non-null object\n",
      "dtypes: datetime64[ns](4), float64(19), int64(7), object(4)\n",
      "memory usage: 254.3+ KB\n"
     ]
    }
   ],
   "source": [
    "sub_df.info()"
   ]
  },
  {
   "cell_type": "code",
   "execution_count": 57,
   "metadata": {
    "ExecuteTime": {
     "end_time": "2017-11-09T15:01:00.636184Z",
     "start_time": "2017-11-09T15:01:00.622888Z"
    },
    "collapsed": false,
    "hidden": true
   },
   "outputs": [
    {
     "data": {
      "text/html": [
       "<div>\n",
       "<table border=\"1\" class=\"dataframe\">\n",
       "  <thead>\n",
       "    <tr style=\"text-align: right;\">\n",
       "      <th></th>\n",
       "      <th>sku_config</th>\n",
       "      <th>price</th>\n",
       "      <th>online_aging</th>\n",
       "      <th>is_visible</th>\n",
       "      <th>snapshot_date</th>\n",
       "    </tr>\n",
       "  </thead>\n",
       "  <tbody>\n",
       "    <tr>\n",
       "      <th>640645</th>\n",
       "      <td>AD9ABAA31B83EFGS</td>\n",
       "      <td>299000.0</td>\n",
       "      <td>121.0</td>\n",
       "      <td>1</td>\n",
       "      <td>2017-06-24</td>\n",
       "    </tr>\n",
       "    <tr>\n",
       "      <th>682297</th>\n",
       "      <td>AD9ABAA31B83EFGS</td>\n",
       "      <td>299000.0</td>\n",
       "      <td>124.0</td>\n",
       "      <td>1</td>\n",
       "      <td>2017-06-27</td>\n",
       "    </tr>\n",
       "    <tr>\n",
       "      <th>626764</th>\n",
       "      <td>AD9ABAA31B83EFGS</td>\n",
       "      <td>299000.0</td>\n",
       "      <td>120.0</td>\n",
       "      <td>1</td>\n",
       "      <td>2017-06-23</td>\n",
       "    </tr>\n",
       "    <tr>\n",
       "      <th>612880</th>\n",
       "      <td>AD9ABAA31B83EFGS</td>\n",
       "      <td>299000.0</td>\n",
       "      <td>119.0</td>\n",
       "      <td>1</td>\n",
       "      <td>2017-06-22</td>\n",
       "    </tr>\n",
       "    <tr>\n",
       "      <th>654532</th>\n",
       "      <td>AD9ABAA31B83EFGS</td>\n",
       "      <td>299000.0</td>\n",
       "      <td>122.0</td>\n",
       "      <td>1</td>\n",
       "      <td>2017-06-25</td>\n",
       "    </tr>\n",
       "  </tbody>\n",
       "</table>\n",
       "</div>"
      ],
      "text/plain": [
       "              sku_config     price  online_aging  is_visible snapshot_date\n",
       "640645  AD9ABAA31B83EFGS  299000.0         121.0           1    2017-06-24\n",
       "682297  AD9ABAA31B83EFGS  299000.0         124.0           1    2017-06-27\n",
       "626764  AD9ABAA31B83EFGS  299000.0         120.0           1    2017-06-23\n",
       "612880  AD9ABAA31B83EFGS  299000.0         119.0           1    2017-06-22\n",
       "654532  AD9ABAA31B83EFGS  299000.0         122.0           1    2017-06-25"
      ]
     },
     "execution_count": 57,
     "metadata": {},
     "output_type": "execute_result"
    }
   ],
   "source": [
    "cols = ['sku_config', 'price', 'online_aging', 'is_visible', 'snapshot_date']\n",
    "sub_df[cols].head()"
   ]
  },
  {
   "cell_type": "code",
   "execution_count": 58,
   "metadata": {
    "ExecuteTime": {
     "end_time": "2017-11-09T15:01:49.879787Z",
     "start_time": "2017-11-09T15:01:49.864982Z"
    },
    "collapsed": false,
    "hidden": true
   },
   "outputs": [
    {
     "data": {
      "text/plain": [
       "count                      12\n",
       "unique                     12\n",
       "top       2017-06-18 00:00:00\n",
       "freq                        1\n",
       "first     2017-06-16 00:00:00\n",
       "last      2017-06-27 00:00:00\n",
       "Name: snapshot_date, dtype: object"
      ]
     },
     "execution_count": 58,
     "metadata": {},
     "output_type": "execute_result"
    }
   ],
   "source": [
    "sub_df.query('price > 10**5').snapshot_date.describe()"
   ]
  },
  {
   "cell_type": "code",
   "execution_count": 56,
   "metadata": {
    "ExecuteTime": {
     "end_time": "2017-11-09T14:57:00.361824Z",
     "start_time": "2017-11-09T14:57:00.354010Z"
    },
    "collapsed": true,
    "hidden": true
   },
   "outputs": [
    {
     "data": {
      "text/plain": [
       "count       820.000000\n",
       "mean       4405.560000\n",
       "std       35923.154348\n",
       "min          29.900000\n",
       "25%          29.900000\n",
       "50%          29.900000\n",
       "75%          29.900000\n",
       "max      299000.000000\n",
       "Name: price, dtype: float64"
      ]
     },
     "execution_count": 56,
     "metadata": {},
     "output_type": "execute_result"
    }
   ],
   "source": [
    "sub_df.price.describe()"
   ]
  },
  {
   "cell_type": "markdown",
   "metadata": {
    "heading_collapsed": true
   },
   "source": [
    "### Query inventory amounts"
   ]
  },
  {
   "cell_type": "code",
   "execution_count": null,
   "metadata": {
    "collapsed": true,
    "hidden": true
   },
   "outputs": [],
   "source": [
    "group_stock = my_trigger.query_stock_data(gid)"
   ]
  },
  {
   "cell_type": "code",
   "execution_count": null,
   "metadata": {
    "ExecuteTime": {
     "end_time": "2017-11-07T17:13:04.314827Z",
     "start_time": "2017-11-07T17:13:04.233267Z"
    },
    "collapsed": false,
    "hidden": true
   },
   "outputs": [],
   "source": [
    "inv_df = group_stock[group_stock['date'] == dd]\n",
    "inv_amount = inv_df.sort_values('sku_config')['stock']\n",
    "\n",
    "# inv_amount.head()"
   ]
  },
  {
   "cell_type": "markdown",
   "metadata": {},
   "source": [
    "### Prepare a demand predictor"
   ]
  },
  {
   "cell_type": "code",
   "execution_count": 16,
   "metadata": {
    "ExecuteTime": {
     "end_time": "2017-11-09T16:06:23.043958Z",
     "start_time": "2017-11-09T16:06:23.040129Z"
    },
    "collapsed": true,
    "init_cell": true
   },
   "outputs": [],
   "source": [
    "data_splitter = DataSplitter(split_ratio=0.8)\n",
    "demand_predictor = DemandPredictor()"
   ]
  },
  {
   "cell_type": "code",
   "execution_count": 84,
   "metadata": {
    "ExecuteTime": {
     "end_time": "2017-11-09T15:51:15.006176Z",
     "start_time": "2017-11-09T15:51:09.250649Z"
    },
    "collapsed": true
   },
   "outputs": [
    {
     "name": "stdout",
     "output_type": "stream",
     "text": [
      "Loading features of group dresses_female_autumn-winter from /Users/gfg/data/venture=zalora/sg/clean/groups/feats/dresses_female_autumn-winter.csv...\n",
      "\t dropped NA configs\n",
      "Obtained feature matrix of group dresses_female_autumn-winter\n",
      "\t info on the matrix\n",
      "<class 'pandas.core.frame.DataFrame'>\n",
      "Int64Index: 160080 entries, 0 to 160079\n",
      "Data columns (total 17 columns):\n",
      "sku_config           160080 non-null object\n",
      "current_price        160080 non-null float64\n",
      "discount_from_rrp    160080 non-null float64\n",
      "n_competitor         160080 non-null int64\n",
      "rel_price            160080 non-null float64\n",
      "product_name         160080 non-null object\n",
      "color                160080 non-null object\n",
      "color_pop            160080 non-null float64\n",
      "sub_cat              160080 non-null object\n",
      "brand_name           160080 non-null object\n",
      "brand_type           160080 non-null object\n",
      "date                 160080 non-null object\n",
      "total_views          160080 non-null int64\n",
      "total_impressions    160080 non-null int64\n",
      "mean_views           160080 non-null float64\n",
      "mean_impressions     160080 non-null float64\n",
      "brand_pop            160080 non-null int64\n",
      "dtypes: float64(6), int64(4), object(7)\n",
      "memory usage: 22.0+ MB\n",
      "None\n"
     ]
    }
   ],
   "source": [
    "feat_mat = input_loader.form_feat_mat(group=gname, global_X=global_X)"
   ]
  },
  {
   "cell_type": "code",
   "execution_count": 85,
   "metadata": {
    "ExecuteTime": {
     "end_time": "2017-11-09T15:51:55.476566Z",
     "start_time": "2017-11-09T15:51:55.267422Z"
    },
    "collapsed": true
   },
   "outputs": [],
   "source": [
    "ready_df = input_loader.attach_response(feat_mat, my_trigger.sale_hist)"
   ]
  },
  {
   "cell_type": "code",
   "execution_count": 87,
   "metadata": {
    "ExecuteTime": {
     "end_time": "2017-11-09T15:55:40.108504Z",
     "start_time": "2017-11-09T15:55:40.104261Z"
    },
    "collapsed": false
   },
   "outputs": [
    {
     "data": {
      "text/plain": [
       "datetime.date"
      ]
     },
     "execution_count": 87,
     "metadata": {},
     "output_type": "execute_result"
    }
   ],
   "source": [
    "type(ready_df.date.iat[0])"
   ]
  },
  {
   "cell_type": "code",
   "execution_count": 96,
   "metadata": {
    "ExecuteTime": {
     "end_time": "2017-11-09T16:06:07.267187Z",
     "start_time": "2017-11-09T16:06:07.175074Z"
    },
    "collapsed": false,
    "scrolled": false
   },
   "outputs": [
    {
     "name": "stdout",
     "output_type": "stream",
     "text": [
      "Split training and test sets by date 2017-05-21\n",
      "\n",
      " # records in training: 13145\n",
      "Training data span ~4 months\n",
      "()\n",
      "# records in test: 3675\n",
      "Test data span ~1 months\n"
     ]
    }
   ],
   "source": [
    "train_df, test_df = data_splitter.split_train_test(ready_df)"
   ]
  },
  {
   "cell_type": "code",
   "execution_count": null,
   "metadata": {
    "ExecuteTime": {
     "start_time": "2017-11-09T08:06:17.382Z"
    },
    "collapsed": false
   },
   "outputs": [
    {
     "name": "stdout",
     "output_type": "stream",
     "text": [
      "Fitting models to training data...\n",
      "()\n",
      "Performing CV for lasso_regression...\n",
      "Fitting 3 folds for each of 3 candidates, totalling 9 fits\n",
      "-0.0177909476282\n",
      "{'alpha': 0.1}\n",
      "()\n",
      "Performing CV for ridge_regression...\n"
     ]
    }
   ],
   "source": [
    "best_models = demand_predictor.fit(train_df)"
   ]
  },
  {
   "cell_type": "code",
   "execution_count": null,
   "metadata": {
    "ExecuteTime": {
     "end_time": "2017-11-06T15:20:23.073633Z",
     "start_time": "2017-11-06T15:20:23.018757Z"
    },
    "collapsed": false
   },
   "outputs": [],
   "source": [
    "predictions = demand_predictor.predict(best_models, test_df)\n",
    "print(demand_predictor.sort_models_by_test_rmse())"
   ]
  }
 ],
 "metadata": {
  "kernelspec": {
   "display_name": "Python 2",
   "language": "python",
   "name": "python2"
  },
  "language_info": {
   "codemirror_mode": {
    "name": "ipython",
    "version": 2
   },
   "file_extension": ".py",
   "mimetype": "text/x-python",
   "name": "python",
   "nbconvert_exporter": "python",
   "pygments_lexer": "ipython2",
   "version": "2.7.13"
  },
  "toc": {
   "colors": {
    "hover_highlight": "#DAA520",
    "navigate_num": "#000000",
    "navigate_text": "#333333",
    "running_highlight": "#FF0000",
    "selected_highlight": "#FFD700",
    "sidebar_border": "#EEEEEE",
    "wrapper_background": "#FFFFFF"
   },
   "moveMenuLeft": true,
   "nav_menu": {
    "height": "12px",
    "width": "252px"
   },
   "navigate_menu": true,
   "number_sections": true,
   "sideBar": true,
   "threshold": 4,
   "toc_cell": false,
   "toc_position": {
    "height": "599px",
    "left": "0px",
    "right": "885.143px",
    "top": "106px",
    "width": "212px"
   },
   "toc_section_display": "block",
   "toc_window_display": true,
   "widenNotebook": false
  },
  "varInspector": {
   "cols": {
    "lenName": 16,
    "lenType": 16,
    "lenVar": 40
   },
   "kernels_config": {
    "python": {
     "delete_cmd_postfix": "",
     "delete_cmd_prefix": "del ",
     "library": "var_list.py",
     "varRefreshCmd": "print(var_dic_list())"
    },
    "r": {
     "delete_cmd_postfix": ") ",
     "delete_cmd_prefix": "rm(",
     "library": "var_list.r",
     "varRefreshCmd": "cat(var_dic_list()) "
    }
   },
   "types_to_exclude": [
    "module",
    "function",
    "builtin_function_or_method",
    "instance",
    "_Feature"
   ],
   "window_display": false
  }
 },
 "nbformat": 4,
 "nbformat_minor": 2
}
