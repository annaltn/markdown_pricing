{
 "cells": [
  {
   "cell_type": "code",
   "execution_count": 1,
   "metadata": {
    "ExecuteTime": {
     "end_time": "2018-07-13T16:31:35.612233Z",
     "start_time": "2018-07-13T16:31:33.784951Z"
    },
    "collapsed": true
   },
   "outputs": [],
   "source": [
    "# libs\n",
    "import pandas as pd\n",
    "import numpy as np\n",
    "import matplotlib.pyplot as plt\n",
    "import seaborn as sns\n",
    "import os\n",
    "\n",
    "%matplotlib inline"
   ]
  },
  {
   "cell_type": "code",
   "execution_count": 4,
   "metadata": {
    "ExecuteTime": {
     "end_time": "2018-07-13T16:45:20.475284Z",
     "start_time": "2018-07-13T16:45:20.005958Z"
    },
    "collapsed": true
   },
   "outputs": [],
   "source": [
    "dd = '2018-06-30'\n",
    "country = 'my'\n",
    "pred_dir = '/Users/gfg/projects/daas-markdown/res/zalora/{0}/country={1}/'.format(dd, country)\n",
    "pred_df = pd.read_csv(pred_dir + 'predict_dev.csv')"
   ]
  },
  {
   "cell_type": "code",
   "execution_count": 5,
   "metadata": {
    "ExecuteTime": {
     "end_time": "2018-07-13T16:45:26.141444Z",
     "start_time": "2018-07-13T16:45:26.087583Z"
    }
   },
   "outputs": [
    {
     "name": "stdout",
     "output_type": "stream",
     "text": [
      "<class 'pandas.core.frame.DataFrame'>\n",
      "RangeIndex: 74778 entries, 0 to 74777\n",
      "Data columns (total 29 columns):\n",
      "sku_config                          74778 non-null object\n",
      "group_id                            74778 non-null object\n",
      "year                                74778 non-null int64\n",
      "n_record                            74778 non-null int64\n",
      "min_config_page_views               74778 non-null float64\n",
      "mean_config_page_views              72623 non-null float64\n",
      "median_config_page_views            74778 non-null float64\n",
      "max_config_page_views               74778 non-null float64\n",
      "total_config_page_views             72623 non-null float64\n",
      "min_n_competitor                    74778 non-null int64\n",
      "mean_n_competitor                   74778 non-null float64\n",
      "median_n_competitor                 74778 non-null float64\n",
      "max_n_competitor                    74778 non-null int64\n",
      "total_n_competitor                  74778 non-null int64\n",
      "min_current_price                   74778 non-null float64\n",
      "median_current_price                74778 non-null float64\n",
      "max_current_price                   74778 non-null float64\n",
      "min_percent_discount_from_rrp       74778 non-null float64\n",
      "median_percent_discount_from_rrp    74778 non-null float64\n",
      "max_percent_discount_from_rrp       74778 non-null float64\n",
      "min_rel_price_as_ratio              74778 non-null float64\n",
      "median_rel_price_as_ratio           74778 non-null float64\n",
      "max_rel_price_as_ratio              74778 non-null float64\n",
      "color_pop                           74778 non-null float64\n",
      "brand_pop                           74778 non-null float64\n",
      "original_prediction                 74778 non-null float64\n",
      "rounded_prediction                  74778 non-null int64\n",
      "from_date                           74778 non-null object\n",
      "to_date                             74778 non-null object\n",
      "dtypes: float64(19), int64(6), object(4)\n",
      "memory usage: 16.5+ MB\n"
     ]
    }
   ],
   "source": [
    "pred_df.info()"
   ]
  },
  {
   "cell_type": "code",
   "execution_count": null,
   "metadata": {
    "collapsed": true
   },
   "outputs": [],
   "source": []
  }
 ],
 "metadata": {
  "kernelspec": {
   "display_name": "Python 3",
   "language": "python",
   "name": "python3"
  },
  "language_info": {
   "codemirror_mode": {
    "name": "ipython",
    "version": 3
   },
   "file_extension": ".py",
   "mimetype": "text/x-python",
   "name": "python",
   "nbconvert_exporter": "python",
   "pygments_lexer": "ipython3",
   "version": "3.6.0"
  },
  "toc": {
   "colors": {
    "hover_highlight": "#DAA520",
    "navigate_num": "#000000",
    "navigate_text": "#333333",
    "running_highlight": "#FF0000",
    "selected_highlight": "#FFD700",
    "sidebar_border": "#EEEEEE",
    "wrapper_background": "#FFFFFF"
   },
   "moveMenuLeft": true,
   "nav_menu": {
    "height": "12px",
    "width": "252px"
   },
   "navigate_menu": true,
   "number_sections": true,
   "sideBar": true,
   "threshold": 4,
   "toc_cell": false,
   "toc_section_display": "block",
   "toc_window_display": false,
   "widenNotebook": false
  },
  "varInspector": {
   "cols": {
    "lenName": 16,
    "lenType": 16,
    "lenVar": 40
   },
   "kernels_config": {
    "python": {
     "delete_cmd_postfix": "",
     "delete_cmd_prefix": "del ",
     "library": "var_list.py",
     "varRefreshCmd": "print(var_dic_list())"
    },
    "r": {
     "delete_cmd_postfix": ") ",
     "delete_cmd_prefix": "rm(",
     "library": "var_list.r",
     "varRefreshCmd": "cat(var_dic_list()) "
    }
   },
   "types_to_exclude": [
    "module",
    "function",
    "builtin_function_or_method",
    "instance",
    "_Feature"
   ],
   "window_display": false
  }
 },
 "nbformat": 4,
 "nbformat_minor": 2
}
