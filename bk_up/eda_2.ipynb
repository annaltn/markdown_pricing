{
 "cells": [
  {
   "cell_type": "markdown",
   "metadata": {},
   "source": [
    "## Inits"
   ]
  },
  {
   "cell_type": "code",
   "execution_count": 3,
   "metadata": {
    "ExecuteTime": {
     "end_time": "2018-01-23T10:32:25.778101Z",
     "start_time": "2018-01-23T10:32:25.774581Z"
    },
    "collapsed": true
   },
   "outputs": [],
   "source": [
    "import pandas as pd\n",
    "import numpy as np\n",
    "import matplotlib.pyplot as plt\n",
    "import seaborn as sb\n",
    "import os\n",
    "\n",
    "from sklearn.preprocessing import *"
   ]
  },
  {
   "cell_type": "code",
   "execution_count": 2,
   "metadata": {
    "ExecuteTime": {
     "end_time": "2018-01-23T10:26:35.758822Z",
     "start_time": "2018-01-23T10:26:35.755492Z"
    },
    "code_folding": [
     0
    ],
    "collapsed": true
   },
   "outputs": [],
   "source": [
    "# various dirs\n",
    "DAT_DIR = '/Users/gfg/data/venture=Zalora/sg/'\n",
    "CLEAN_DIR = DAT_DIR + 'clean/'; FIG_DIR = DAT_DIR + 'fig/'\n",
    "GROUP_DIR = CLEAN_DIR + 'groups/'; READY_DIR = GROUP_DIR + 'ready/'\n",
    "# FEAT_DIR = GROUP_DIR + 'feats/'"
   ]
  },
  {
   "cell_type": "markdown",
   "metadata": {},
   "source": [
    "### Helpers"
   ]
  },
  {
   "cell_type": "code",
   "execution_count": 4,
   "metadata": {
    "ExecuteTime": {
     "end_time": "2018-01-23T10:32:30.586582Z",
     "start_time": "2018-01-23T10:32:30.558920Z"
    },
    "code_folding": [
     0,
     6,
     13,
     25,
     31,
     35,
     40,
     43
    ],
    "collapsed": true
   },
   "outputs": [],
   "source": [
    "def load_data(group_name='dresses_female_autumn-winter', yr=2017):\n",
    "    gr = group_name\n",
    "    if yr:\n",
    "        gr = group_name + '_' + str(yr) # + 'feats'\n",
    "        \n",
    "    fname = READY_DIR + gr + '.csv'\n",
    "    if os.path.isfile(fname):\n",
    "        print('\\t loading data from file {}'.format(fname))\n",
    "        return pd.read_csv(fname)\n",
    "    else:\n",
    "        print('\\t file not found!')\n",
    "        return pd.DataFrame()\n",
    "    \n",
    "\n",
    "def dump_data(group_name, yr, df):\n",
    "#     example: group_name='dresses_female_autumn-winter', yr=2017\n",
    "    gr = group_name + '_' + str(yr)\n",
    "    fname = READY_DIR + gr + '.csv'\n",
    "    df.to_csv(fname, index=False)\n",
    "    print('\\t dumped the data to file {}'.format(fname))\n",
    "\n",
    "def drop_outliers(df, feat='current_price', q=0.9):\n",
    "    max_thres = df[feat].quantile(q)\n",
    "    return df[df[feat] < max_thres]\n",
    "\n",
    "def plot_hist(feats, df, figsize = (20, 10)):\n",
    "    fig = plt.figure(figsize = figsize)\n",
    "    df[feats].hist()\n",
    "    plt.show(); plt.close()\n",
    "\n",
    "def get_outliers(df, price_thres=10000):\n",
    "    return df[df.current_price > price_thres][cols]\n",
    "\n",
    "def rename(df):\n",
    "    return df.rename(columns={'discount_from_rrp': 'percent_discount_from_rrp', \n",
    "               'rel_price': 'rel_price_as_ratio'})"
   ]
  },
  {
   "cell_type": "code",
   "execution_count": 5,
   "metadata": {
    "ExecuteTime": {
     "end_time": "2018-01-23T10:32:41.203178Z",
     "start_time": "2018-01-23T10:32:41.200226Z"
    },
    "collapsed": true
   },
   "outputs": [],
   "source": [
    "def index_of_notnull(col, df):\n",
    "    return list(df.loc[df[col].notnull()].index)"
   ]
  },
  {
   "cell_type": "code",
   "execution_count": 10,
   "metadata": {
    "ExecuteTime": {
     "end_time": "2018-01-23T10:36:55.507883Z",
     "start_time": "2018-01-23T10:36:55.501149Z"
    },
    "code_folding": [
     0,
     7
    ],
    "collapsed": true
   },
   "outputs": [],
   "source": [
    "def min_max_normalize(df, cols):\n",
    "    print('\\t performing min-max normalization...')\n",
    "    valid_df = df.dropna(subset=cols)\n",
    "    n_valid, n_row = valid_df.shape[0], df.shape[0]\n",
    "    print('\\t ratio of remaining records after dropping NA values: {}'.format(n_valid/n_row*1.))\n",
    "\n",
    "    min_max_scaler = MinMaxScaler()\n",
    "    scaled_df = pd.DataFrame(data=min_max_scaler.fit_transform(valid_df[cols]), \n",
    "                             columns = ['_'.join(['scaled', s]) for s in cols])\n",
    "\n",
    "    res_df = pd.concat([valid_df, scaled_df], axis='columns')\n",
    "    return res_df"
   ]
  },
  {
   "cell_type": "code",
   "execution_count": 11,
   "metadata": {
    "ExecuteTime": {
     "end_time": "2018-01-23T10:37:42.071167Z",
     "start_time": "2018-01-23T10:37:42.065990Z"
    },
    "code_folding": [
     0
    ],
    "collapsed": true
   },
   "outputs": [],
   "source": [
    "def modify_data(group_name, yr, cols):\n",
    "    print('Group: {}'.format(group_name))\n",
    "    df = load_data(group_name, yr)\n",
    "    if not df.empty:\n",
    "        # perform needed modifications\n",
    "        res_df = rename(df)\n",
    "        print('# rows in res_df: {}'.format(res_df.shape[0]))\n",
    "        return min_max_normalize(res_df, cols)\n",
    "    else:\n",
    "        return pd.DataFrame()"
   ]
  },
  {
   "cell_type": "code",
   "execution_count": 12,
   "metadata": {
    "ExecuteTime": {
     "end_time": "2018-01-23T10:38:03.424773Z",
     "start_time": "2018-01-23T10:38:03.420424Z"
    },
    "code_folding": [
     0
    ],
    "collapsed": true
   },
   "outputs": [],
   "source": [
    "# all feats\n",
    "static_feats = ['color_pop', 'brand_pop'] # size_pop\n",
    "canib_feats = ['current_price', 'percent_discount_from_rrp', 'n_competitor', 'rel_price_as_ratio']\n",
    "ga_feats = ['mean_views', 'mean_impressions', 'total_views', 'total_impressions']\n",
    "time_feats = ['is_weekend', 'is_workday']\n",
    "\n",
    "to_scale = canib_feats + static_feats\n",
    "scaled_cols = ['_'.join(['scaled', s]) for s in to_scale]"
   ]
  },
  {
   "cell_type": "markdown",
   "metadata": {},
   "source": [
    "### Load ready data"
   ]
  },
  {
   "cell_type": "code",
   "execution_count": 91,
   "metadata": {
    "ExecuteTime": {
     "end_time": "2018-01-16T10:28:10.243842Z",
     "start_time": "2018-01-16T10:28:10.155432Z"
    },
    "collapsed": true
   },
   "outputs": [],
   "source": [
    "df = load_data(group_name='dresses_female_autumn-winter', yr=2017)\n",
    "\n",
    "df = rename(df)"
   ]
  },
  {
   "cell_type": "code",
   "execution_count": 92,
   "metadata": {
    "ExecuteTime": {
     "end_time": "2018-01-16T10:28:29.045366Z",
     "start_time": "2018-01-16T10:28:29.041528Z"
    }
   },
   "outputs": [
    {
     "data": {
      "text/plain": [
       "(16606, 24)"
      ]
     },
     "execution_count": 92,
     "metadata": {},
     "output_type": "execute_result"
    }
   ],
   "source": [
    "df.shape"
   ]
  },
  {
   "cell_type": "markdown",
   "metadata": {
    "heading_collapsed": true
   },
   "source": [
    "### Load data used in DataRobot POC"
   ]
  },
  {
   "cell_type": "code",
   "execution_count": 40,
   "metadata": {
    "ExecuteTime": {
     "end_time": "2017-11-23T15:32:48.443172Z",
     "start_time": "2017-11-23T15:32:48.070552Z"
    },
    "code_folding": [],
    "collapsed": true,
    "hidden": true,
    "scrolled": true
   },
   "outputs": [],
   "source": [
    "fname = GROUP_DIR + gr + 'poc.csv'\n",
    "dr_data = pd.read_csv(fname, parse_dates=['special_price_to_date', 'special_price_from_date', 'date'])"
   ]
  },
  {
   "cell_type": "code",
   "execution_count": 9,
   "metadata": {
    "ExecuteTime": {
     "end_time": "2017-11-23T11:37:51.479159Z",
     "start_time": "2017-11-23T11:37:51.474697Z"
    },
    "collapsed": true,
    "hidden": true
   },
   "outputs": [
    {
     "data": {
      "text/plain": [
       "Index(['sku_config', 'current_price', 'discount_from_rrp', 'n_competitor',\n",
       "       'rel_price', 'date', 'venture_code', 'supplier_status', 'id_supplier',\n",
       "       'stock', 'special_price_to_date', 'special_price_from_date',\n",
       "       'size_system_name', 'sku_supplier_config', 'sku_simple', 'size_name',\n",
       "       'size_brand', 'simple_updated_at', 'simple_status', 'fk_simple_product',\n",
       "       'simple_created_at', 'show_virtusize', 'show_chart', 'shop_type',\n",
       "       'shipment_type', 'season', 'pet_status', 'pet_approved', 'nonsale_item',\n",
       "       'is_visible', 'image_url', 'gender', 'config_updated_at',\n",
       "       'config_status', 'id_config_product', 'config_group',\n",
       "       'config_created_at', 'color_family', 'color', 'category', 'catalogue',\n",
       "       'catalog_type', 'buying_price_group', 'brand_type', 'brand_status',\n",
       "       'brand_department', 'activated_at_date', 'season_year',\n",
       "       'dwh_created_at', 'dwh_updated_at', 'corrected_sku_simple',\n",
       "       'corrected_sku_config', 'is_returnable', 'product_life_cycle',\n",
       "       'supplier_currency', 'brand_tier', 'is_pack', 'cmpgn_five',\n",
       "       'brand_identifier', 'sub_cat', 'n_sold'],\n",
       "      dtype='object')"
      ]
     },
     "execution_count": 9,
     "metadata": {},
     "output_type": "execute_result"
    }
   ],
   "source": [
    "dr_data.columns"
   ]
  },
  {
   "cell_type": "markdown",
   "metadata": {},
   "source": [
    "# Sanity checking of features"
   ]
  },
  {
   "cell_type": "markdown",
   "metadata": {},
   "source": [
    "## Cannibalization features"
   ]
  },
  {
   "cell_type": "code",
   "execution_count": 93,
   "metadata": {
    "ExecuteTime": {
     "end_time": "2018-01-16T10:28:32.911752Z",
     "start_time": "2018-01-16T10:28:32.392414Z"
    },
    "scrolled": false
   },
   "outputs": [
    {
     "data": {
      "text/plain": [
       "<matplotlib.figure.Figure at 0x11acb43c8>"
      ]
     },
     "metadata": {},
     "output_type": "display_data"
    },
    {
     "data": {
      "image/png": "[encoded data removed]",
      "text/plain": [
       "<matplotlib.figure.Figure at 0x11ed18208>"
      ]
     },
     "metadata": {},
     "output_type": "display_data"
    }
   ],
   "source": [
    "plot_hist(canib_feats, df)"
   ]
  },
  {
   "cell_type": "markdown",
   "metadata": {},
   "source": [
    "__Obs__:\n",
    "+ current price dist is very skewed, due to some too large values --> use log-transform to reduce this."
   ]
  },
  {
   "cell_type": "code",
   "execution_count": 94,
   "metadata": {
    "ExecuteTime": {
     "end_time": "2018-01-16T10:34:43.363699Z",
     "start_time": "2018-01-16T10:34:43.163001Z"
    }
   },
   "outputs": [
    {
     "data": {
      "text/plain": [
       "<matplotlib.figure.Figure at 0x11ed0acc0>"
      ]
     },
     "metadata": {},
     "output_type": "display_data"
    },
    {
     "data": {
      "image/png": "[encoded data removed]",
      "text/plain": [
       "<matplotlib.figure.Figure at 0x11eb17e80>"
      ]
     },
     "metadata": {},
     "output_type": "display_data"
    }
   ],
   "source": [
    "df['log_current_price'] = np.log10(df.current_price)\n",
    "plot_hist(feats=['log_current_price'], df=df)"
   ]
  },
  {
   "cell_type": "markdown",
   "metadata": {},
   "source": [
    "Now we can see clearly that prices are centered around $10^{1.5} = 31.6$."
   ]
  },
  {
   "cell_type": "markdown",
   "metadata": {},
   "source": [
    "## Other groups\n",
    "Other groups also have wrong prices as shown below."
   ]
  },
  {
   "cell_type": "markdown",
   "metadata": {},
   "source": [
    "### Female blouse"
   ]
  },
  {
   "cell_type": "code",
   "execution_count": null,
   "metadata": {
    "ExecuteTime": {
     "end_time": "2018-01-17T12:29:07.764004Z",
     "start_time": "2018-01-17T12:29:07.739872Z"
    },
    "collapsed": true
   },
   "outputs": [],
   "source": []
  },
  {
   "cell_type": "markdown",
   "metadata": {
    "heading_collapsed": true
   },
   "source": [
    "### Female heels"
   ]
  },
  {
   "cell_type": "code",
   "execution_count": 42,
   "metadata": {
    "ExecuteTime": {
     "end_time": "2018-01-15T17:36:19.718182Z",
     "start_time": "2018-01-15T17:36:19.654945Z"
    },
    "collapsed": true,
    "hidden": true
   },
   "outputs": [
    {
     "data": {
      "text/html": [
       "<div>\n",
       "<style>\n",
       "    .dataframe thead tr:only-child th {\n",
       "        text-align: right;\n",
       "    }\n",
       "\n",
       "    .dataframe thead th {\n",
       "        text-align: left;\n",
       "    }\n",
       "\n",
       "    .dataframe tbody tr th {\n",
       "        vertical-align: top;\n",
       "    }\n",
       "</style>\n",
       "<table border=\"1\" class=\"dataframe\">\n",
       "  <thead>\n",
       "    <tr style=\"text-align: right;\">\n",
       "      <th></th>\n",
       "      <th>current_price</th>\n",
       "      <th>discount_from_rrp</th>\n",
       "      <th>n_competitor</th>\n",
       "      <th>rel_price</th>\n",
       "      <th>color_pop</th>\n",
       "      <th>total_views</th>\n",
       "      <th>total_impressions</th>\n",
       "      <th>mean_views</th>\n",
       "      <th>mean_impressions</th>\n",
       "      <th>brand_pop</th>\n",
       "      <th>n_sold</th>\n",
       "      <th>weekday</th>\n",
       "      <th>is_weekend</th>\n",
       "      <th>is_workday</th>\n",
       "    </tr>\n",
       "  </thead>\n",
       "  <tbody>\n",
       "    <tr>\n",
       "      <th>count</th>\n",
       "      <td>6086.000000</td>\n",
       "      <td>6086.000000</td>\n",
       "      <td>6086.000000</td>\n",
       "      <td>6086.000000</td>\n",
       "      <td>6086.000000</td>\n",
       "      <td>6086.000000</td>\n",
       "      <td>6.086000e+03</td>\n",
       "      <td>6086.000000</td>\n",
       "      <td>6086.000000</td>\n",
       "      <td>6086.000000</td>\n",
       "      <td>6086.000000</td>\n",
       "      <td>6086.000000</td>\n",
       "      <td>6086.000000</td>\n",
       "      <td>6086.000000</td>\n",
       "    </tr>\n",
       "    <tr>\n",
       "      <th>mean</th>\n",
       "      <td>1505.382351</td>\n",
       "      <td>26.536282</td>\n",
       "      <td>1354.439533</td>\n",
       "      <td>0.418515</td>\n",
       "      <td>20.027812</td>\n",
       "      <td>55867.036149</td>\n",
       "      <td>1.132504e+06</td>\n",
       "      <td>21.619876</td>\n",
       "      <td>452.771127</td>\n",
       "      <td>55867.036149</td>\n",
       "      <td>1.285409</td>\n",
       "      <td>2.810549</td>\n",
       "      <td>0.275879</td>\n",
       "      <td>0.724121</td>\n",
       "    </tr>\n",
       "    <tr>\n",
       "      <th>std</th>\n",
       "      <td>17301.112361</td>\n",
       "      <td>19.617763</td>\n",
       "      <td>737.227216</td>\n",
       "      <td>0.467828</td>\n",
       "      <td>20.728238</td>\n",
       "      <td>50846.967263</td>\n",
       "      <td>1.020303e+06</td>\n",
       "      <td>10.648571</td>\n",
       "      <td>204.852699</td>\n",
       "      <td>50846.967263</td>\n",
       "      <td>0.829533</td>\n",
       "      <td>2.092227</td>\n",
       "      <td>0.446993</td>\n",
       "      <td>0.446993</td>\n",
       "    </tr>\n",
       "    <tr>\n",
       "      <th>min</th>\n",
       "      <td>9.900000</td>\n",
       "      <td>0.000000</td>\n",
       "      <td>72.000000</td>\n",
       "      <td>0.000109</td>\n",
       "      <td>0.000000</td>\n",
       "      <td>19.000000</td>\n",
       "      <td>3.410000e+02</td>\n",
       "      <td>0.521739</td>\n",
       "      <td>20.620087</td>\n",
       "      <td>19.000000</td>\n",
       "      <td>0.000000</td>\n",
       "      <td>0.000000</td>\n",
       "      <td>0.000000</td>\n",
       "      <td>0.000000</td>\n",
       "    </tr>\n",
       "    <tr>\n",
       "      <th>25%</th>\n",
       "      <td>24.900000</td>\n",
       "      <td>10.000000</td>\n",
       "      <td>804.000000</td>\n",
       "      <td>0.001519</td>\n",
       "      <td>2.016129</td>\n",
       "      <td>7569.000000</td>\n",
       "      <td>1.827570e+05</td>\n",
       "      <td>12.017544</td>\n",
       "      <td>303.612105</td>\n",
       "      <td>7569.000000</td>\n",
       "      <td>1.000000</td>\n",
       "      <td>1.000000</td>\n",
       "      <td>0.000000</td>\n",
       "      <td>0.000000</td>\n",
       "    </tr>\n",
       "    <tr>\n",
       "      <th>50%</th>\n",
       "      <td>29.900000</td>\n",
       "      <td>27.322404</td>\n",
       "      <td>1103.000000</td>\n",
       "      <td>0.375844</td>\n",
       "      <td>4.301075</td>\n",
       "      <td>46736.000000</td>\n",
       "      <td>9.152050e+05</td>\n",
       "      <td>23.961550</td>\n",
       "      <td>494.958704</td>\n",
       "      <td>46736.000000</td>\n",
       "      <td>1.000000</td>\n",
       "      <td>3.000000</td>\n",
       "      <td>0.000000</td>\n",
       "      <td>1.000000</td>\n",
       "    </tr>\n",
       "    <tr>\n",
       "      <th>75%</th>\n",
       "      <td>39.900000</td>\n",
       "      <td>42.979943</td>\n",
       "      <td>2358.000000</td>\n",
       "      <td>0.526872</td>\n",
       "      <td>44.758065</td>\n",
       "      <td>104507.000000</td>\n",
       "      <td>2.061909e+06</td>\n",
       "      <td>29.948886</td>\n",
       "      <td>599.051546</td>\n",
       "      <td>104507.000000</td>\n",
       "      <td>1.000000</td>\n",
       "      <td>5.000000</td>\n",
       "      <td>1.000000</td>\n",
       "      <td>1.000000</td>\n",
       "    </tr>\n",
       "    <tr>\n",
       "      <th>max</th>\n",
       "      <td>249000.000000</td>\n",
       "      <td>80.019282</td>\n",
       "      <td>2662.000000</td>\n",
       "      <td>10.839510</td>\n",
       "      <td>44.758065</td>\n",
       "      <td>157545.000000</td>\n",
       "      <td>3.263009e+06</td>\n",
       "      <td>75.358209</td>\n",
       "      <td>1888.817073</td>\n",
       "      <td>157545.000000</td>\n",
       "      <td>9.000000</td>\n",
       "      <td>6.000000</td>\n",
       "      <td>1.000000</td>\n",
       "      <td>1.000000</td>\n",
       "    </tr>\n",
       "  </tbody>\n",
       "</table>\n",
       "</div>"
      ],
      "text/plain": [
       "       current_price  discount_from_rrp  n_competitor    rel_price  \\\n",
       "count    6086.000000        6086.000000   6086.000000  6086.000000   \n",
       "mean     1505.382351          26.536282   1354.439533     0.418515   \n",
       "std     17301.112361          19.617763    737.227216     0.467828   \n",
       "min         9.900000           0.000000     72.000000     0.000109   \n",
       "25%        24.900000          10.000000    804.000000     0.001519   \n",
       "50%        29.900000          27.322404   1103.000000     0.375844   \n",
       "75%        39.900000          42.979943   2358.000000     0.526872   \n",
       "max    249000.000000          80.019282   2662.000000    10.839510   \n",
       "\n",
       "         color_pop    total_views  total_impressions   mean_views  \\\n",
       "count  6086.000000    6086.000000       6.086000e+03  6086.000000   \n",
       "mean     20.027812   55867.036149       1.132504e+06    21.619876   \n",
       "std      20.728238   50846.967263       1.020303e+06    10.648571   \n",
       "min       0.000000      19.000000       3.410000e+02     0.521739   \n",
       "25%       2.016129    7569.000000       1.827570e+05    12.017544   \n",
       "50%       4.301075   46736.000000       9.152050e+05    23.961550   \n",
       "75%      44.758065  104507.000000       2.061909e+06    29.948886   \n",
       "max      44.758065  157545.000000       3.263009e+06    75.358209   \n",
       "\n",
       "       mean_impressions      brand_pop       n_sold      weekday   is_weekend  \\\n",
       "count       6086.000000    6086.000000  6086.000000  6086.000000  6086.000000   \n",
       "mean         452.771127   55867.036149     1.285409     2.810549     0.275879   \n",
       "std          204.852699   50846.967263     0.829533     2.092227     0.446993   \n",
       "min           20.620087      19.000000     0.000000     0.000000     0.000000   \n",
       "25%          303.612105    7569.000000     1.000000     1.000000     0.000000   \n",
       "50%          494.958704   46736.000000     1.000000     3.000000     0.000000   \n",
       "75%          599.051546  104507.000000     1.000000     5.000000     1.000000   \n",
       "max         1888.817073  157545.000000     9.000000     6.000000     1.000000   \n",
       "\n",
       "        is_workday  \n",
       "count  6086.000000  \n",
       "mean      0.724121  \n",
       "std       0.446993  \n",
       "min       0.000000  \n",
       "25%       0.000000  \n",
       "50%       1.000000  \n",
       "75%       1.000000  \n",
       "max       1.000000  "
      ]
     },
     "execution_count": 42,
     "metadata": {},
     "output_type": "execute_result"
    }
   ],
   "source": [
    "heel_df = load_data(gr='heels_female_spring-summer')\n",
    "heel_df.describe()"
   ]
  },
  {
   "cell_type": "code",
   "execution_count": 41,
   "metadata": {
    "ExecuteTime": {
     "end_time": "2018-01-15T17:35:57.565742Z",
     "start_time": "2018-01-15T17:35:57.496685Z"
    },
    "collapsed": true,
    "hidden": true
   },
   "outputs": [
    {
     "data": {
      "text/html": [
       "<div>\n",
       "<style>\n",
       "    .dataframe thead tr:only-child th {\n",
       "        text-align: right;\n",
       "    }\n",
       "\n",
       "    .dataframe thead th {\n",
       "        text-align: left;\n",
       "    }\n",
       "\n",
       "    .dataframe tbody tr th {\n",
       "        vertical-align: top;\n",
       "    }\n",
       "</style>\n",
       "<table border=\"1\" class=\"dataframe\">\n",
       "  <thead>\n",
       "    <tr style=\"text-align: right;\">\n",
       "      <th></th>\n",
       "      <th>current_price</th>\n",
       "      <th>discount_from_rrp</th>\n",
       "      <th>n_competitor</th>\n",
       "      <th>rel_price</th>\n",
       "      <th>color_pop</th>\n",
       "      <th>total_views</th>\n",
       "      <th>total_impressions</th>\n",
       "      <th>mean_views</th>\n",
       "      <th>mean_impressions</th>\n",
       "      <th>brand_pop</th>\n",
       "      <th>n_sold</th>\n",
       "      <th>weekday</th>\n",
       "      <th>is_weekend</th>\n",
       "      <th>is_workday</th>\n",
       "    </tr>\n",
       "  </thead>\n",
       "  <tbody>\n",
       "    <tr>\n",
       "      <th>count</th>\n",
       "      <td>5469.000000</td>\n",
       "      <td>5469.000000</td>\n",
       "      <td>5469.000000</td>\n",
       "      <td>5469.000000</td>\n",
       "      <td>5469.000000</td>\n",
       "      <td>5469.000000</td>\n",
       "      <td>5.469000e+03</td>\n",
       "      <td>5469.000000</td>\n",
       "      <td>5469.000000</td>\n",
       "      <td>5469.000000</td>\n",
       "      <td>5469.000000</td>\n",
       "      <td>5469.000000</td>\n",
       "      <td>5469.000000</td>\n",
       "      <td>5469.000000</td>\n",
       "    </tr>\n",
       "    <tr>\n",
       "      <th>mean</th>\n",
       "      <td>31.187555</td>\n",
       "      <td>27.810982</td>\n",
       "      <td>1337.493509</td>\n",
       "      <td>0.339294</td>\n",
       "      <td>20.852976</td>\n",
       "      <td>59590.886085</td>\n",
       "      <td>1.204695e+06</td>\n",
       "      <td>22.214753</td>\n",
       "      <td>457.010428</td>\n",
       "      <td>59590.886085</td>\n",
       "      <td>1.308466</td>\n",
       "      <td>2.804717</td>\n",
       "      <td>0.272810</td>\n",
       "      <td>0.727190</td>\n",
       "    </tr>\n",
       "    <tr>\n",
       "      <th>std</th>\n",
       "      <td>11.055654</td>\n",
       "      <td>19.187319</td>\n",
       "      <td>718.322669</td>\n",
       "      <td>0.245819</td>\n",
       "      <td>20.895005</td>\n",
       "      <td>50559.399131</td>\n",
       "      <td>1.018140e+06</td>\n",
       "      <td>10.138333</td>\n",
       "      <td>191.534734</td>\n",
       "      <td>50559.399131</td>\n",
       "      <td>0.848707</td>\n",
       "      <td>2.085386</td>\n",
       "      <td>0.445445</td>\n",
       "      <td>0.445445</td>\n",
       "    </tr>\n",
       "    <tr>\n",
       "      <th>min</th>\n",
       "      <td>9.900000</td>\n",
       "      <td>0.000000</td>\n",
       "      <td>72.000000</td>\n",
       "      <td>0.000109</td>\n",
       "      <td>0.000000</td>\n",
       "      <td>19.000000</td>\n",
       "      <td>3.410000e+02</td>\n",
       "      <td>0.521739</td>\n",
       "      <td>20.620087</td>\n",
       "      <td>19.000000</td>\n",
       "      <td>0.000000</td>\n",
       "      <td>0.000000</td>\n",
       "      <td>0.000000</td>\n",
       "      <td>0.000000</td>\n",
       "    </tr>\n",
       "    <tr>\n",
       "      <th>25%</th>\n",
       "      <td>24.900000</td>\n",
       "      <td>14.326648</td>\n",
       "      <td>824.000000</td>\n",
       "      <td>0.001084</td>\n",
       "      <td>2.150538</td>\n",
       "      <td>9386.000000</td>\n",
       "      <td>2.207260e+05</td>\n",
       "      <td>13.342723</td>\n",
       "      <td>315.883784</td>\n",
       "      <td>9386.000000</td>\n",
       "      <td>1.000000</td>\n",
       "      <td>1.000000</td>\n",
       "      <td>0.000000</td>\n",
       "      <td>0.000000</td>\n",
       "    </tr>\n",
       "    <tr>\n",
       "      <th>50%</th>\n",
       "      <td>29.900000</td>\n",
       "      <td>28.653295</td>\n",
       "      <td>1102.000000</td>\n",
       "      <td>0.372612</td>\n",
       "      <td>4.301075</td>\n",
       "      <td>54307.000000</td>\n",
       "      <td>1.030200e+06</td>\n",
       "      <td>24.347537</td>\n",
       "      <td>499.003103</td>\n",
       "      <td>54307.000000</td>\n",
       "      <td>1.000000</td>\n",
       "      <td>3.000000</td>\n",
       "      <td>0.000000</td>\n",
       "      <td>1.000000</td>\n",
       "    </tr>\n",
       "    <tr>\n",
       "      <th>75%</th>\n",
       "      <td>38.160000</td>\n",
       "      <td>44.543430</td>\n",
       "      <td>1885.000000</td>\n",
       "      <td>0.512904</td>\n",
       "      <td>44.758065</td>\n",
       "      <td>105266.000000</td>\n",
       "      <td>2.107808e+06</td>\n",
       "      <td>30.073231</td>\n",
       "      <td>601.503937</td>\n",
       "      <td>105266.000000</td>\n",
       "      <td>1.000000</td>\n",
       "      <td>5.000000</td>\n",
       "      <td>1.000000</td>\n",
       "      <td>1.000000</td>\n",
       "    </tr>\n",
       "    <tr>\n",
       "      <th>max</th>\n",
       "      <td>64.000000</td>\n",
       "      <td>77.951002</td>\n",
       "      <td>2662.000000</td>\n",
       "      <td>0.949874</td>\n",
       "      <td>44.758065</td>\n",
       "      <td>157545.000000</td>\n",
       "      <td>3.263009e+06</td>\n",
       "      <td>49.092283</td>\n",
       "      <td>1322.071429</td>\n",
       "      <td>157545.000000</td>\n",
       "      <td>9.000000</td>\n",
       "      <td>6.000000</td>\n",
       "      <td>1.000000</td>\n",
       "      <td>1.000000</td>\n",
       "    </tr>\n",
       "  </tbody>\n",
       "</table>\n",
       "</div>"
      ],
      "text/plain": [
       "       current_price  discount_from_rrp  n_competitor    rel_price  \\\n",
       "count    5469.000000        5469.000000   5469.000000  5469.000000   \n",
       "mean       31.187555          27.810982   1337.493509     0.339294   \n",
       "std        11.055654          19.187319    718.322669     0.245819   \n",
       "min         9.900000           0.000000     72.000000     0.000109   \n",
       "25%        24.900000          14.326648    824.000000     0.001084   \n",
       "50%        29.900000          28.653295   1102.000000     0.372612   \n",
       "75%        38.160000          44.543430   1885.000000     0.512904   \n",
       "max        64.000000          77.951002   2662.000000     0.949874   \n",
       "\n",
       "         color_pop    total_views  total_impressions   mean_views  \\\n",
       "count  5469.000000    5469.000000       5.469000e+03  5469.000000   \n",
       "mean     20.852976   59590.886085       1.204695e+06    22.214753   \n",
       "std      20.895005   50559.399131       1.018140e+06    10.138333   \n",
       "min       0.000000      19.000000       3.410000e+02     0.521739   \n",
       "25%       2.150538    9386.000000       2.207260e+05    13.342723   \n",
       "50%       4.301075   54307.000000       1.030200e+06    24.347537   \n",
       "75%      44.758065  105266.000000       2.107808e+06    30.073231   \n",
       "max      44.758065  157545.000000       3.263009e+06    49.092283   \n",
       "\n",
       "       mean_impressions      brand_pop       n_sold      weekday   is_weekend  \\\n",
       "count       5469.000000    5469.000000  5469.000000  5469.000000  5469.000000   \n",
       "mean         457.010428   59590.886085     1.308466     2.804717     0.272810   \n",
       "std          191.534734   50559.399131     0.848707     2.085386     0.445445   \n",
       "min           20.620087      19.000000     0.000000     0.000000     0.000000   \n",
       "25%          315.883784    9386.000000     1.000000     1.000000     0.000000   \n",
       "50%          499.003103   54307.000000     1.000000     3.000000     0.000000   \n",
       "75%          601.503937  105266.000000     1.000000     5.000000     1.000000   \n",
       "max         1322.071429  157545.000000     9.000000     6.000000     1.000000   \n",
       "\n",
       "        is_workday  \n",
       "count  5469.000000  \n",
       "mean      0.727190  \n",
       "std       0.445445  \n",
       "min       0.000000  \n",
       "25%       0.000000  \n",
       "50%       1.000000  \n",
       "75%       1.000000  \n",
       "max       1.000000  "
      ]
     },
     "execution_count": 41,
     "metadata": {},
     "output_type": "execute_result"
    }
   ],
   "source": [
    "valid_heel_df = drop_outliers(heel_df, 'current_price')\n",
    "valid_heel_df.describe()"
   ]
  },
  {
   "cell_type": "markdown",
   "metadata": {
    "heading_collapsed": true
   },
   "source": [
    "## Google Analytics features"
   ]
  },
  {
   "cell_type": "code",
   "execution_count": 17,
   "metadata": {
    "ExecuteTime": {
     "end_time": "2018-01-15T13:55:00.560799Z",
     "start_time": "2018-01-15T13:54:59.971670Z"
    },
    "hidden": true
   },
   "outputs": [
    {
     "data": {
      "text/plain": [
       "<matplotlib.figure.Figure at 0x11eb42cf8>"
      ]
     },
     "metadata": {},
     "output_type": "display_data"
    },
    {
     "data": {
      "image/png": "[encoded data removed]",
      "text/plain": [
       "<matplotlib.figure.Figure at 0x11eb70748>"
      ]
     },
     "metadata": {},
     "output_type": "display_data"
    }
   ],
   "source": [
    "plot_hist(ga_feats)"
   ]
  },
  {
   "cell_type": "markdown",
   "metadata": {
    "hidden": true
   },
   "source": [
    "These features look normal."
   ]
  },
  {
   "cell_type": "markdown",
   "metadata": {
    "heading_collapsed": true
   },
   "source": [
    "## Time features"
   ]
  },
  {
   "cell_type": "code",
   "execution_count": null,
   "metadata": {
    "collapsed": true,
    "hidden": true
   },
   "outputs": [],
   "source": []
  },
  {
   "cell_type": "markdown",
   "metadata": {
    "heading_collapsed": true
   },
   "source": [
    "## Derived features"
   ]
  },
  {
   "cell_type": "code",
   "execution_count": 43,
   "metadata": {
    "ExecuteTime": {
     "end_time": "2017-11-23T15:33:51.672247Z",
     "start_time": "2017-11-23T15:33:51.666374Z"
    },
    "hidden": true
   },
   "outputs": [
    {
     "data": {
      "text/plain": [
       "Timestamp('2005-06-13 00:25:26.290448384')"
      ]
     },
     "execution_count": 43,
     "metadata": {},
     "output_type": "execute_result"
    }
   ],
   "source": [
    "dr_data.special_price_to_date.iloc[0]"
   ]
  },
  {
   "cell_type": "code",
   "execution_count": 45,
   "metadata": {
    "ExecuteTime": {
     "end_time": "2017-11-23T15:35:01.163261Z",
     "start_time": "2017-11-23T15:35:01.153598Z"
    },
    "hidden": true
   },
   "outputs": [
    {
     "ename": "AttributeError",
     "evalue": "'Timestamp' object has no attribute 'dt'",
     "output_type": "error",
     "traceback": [
      "\u001b[0;31m---------------------------------------------------------------------------\u001b[0m",
      "\u001b[0;31mAttributeError\u001b[0m                            Traceback (most recent call last)",
      "\u001b[0;32m<ipython-input-45-d10afc9d91d9>\u001b[0m in \u001b[0;36m<module>\u001b[0;34m()\u001b[0m\n\u001b[0;32m----> 1\u001b[0;31m \u001b[0mdr_data\u001b[0m\u001b[0;34m.\u001b[0m\u001b[0mspecial_price_from_date\u001b[0m\u001b[0;34m.\u001b[0m\u001b[0miloc\u001b[0m\u001b[0;34m[\u001b[0m\u001b[0;36m0\u001b[0m\u001b[0;34m]\u001b[0m\u001b[0;34m.\u001b[0m\u001b[0mdt\u001b[0m\u001b[0;34m.\u001b[0m\u001b[0myear\u001b[0m\u001b[0;34m\u001b[0m\u001b[0m\n\u001b[0m",
      "\u001b[0;31mAttributeError\u001b[0m: 'Timestamp' object has no attribute 'dt'"
     ]
    }
   ],
   "source": [
    "dr_data.special_price_from_date.iloc[0]"
   ]
  },
  {
   "cell_type": "code",
   "execution_count": 42,
   "metadata": {
    "ExecuteTime": {
     "end_time": "2017-11-23T15:33:27.668618Z",
     "start_time": "2017-11-23T15:33:27.662952Z"
    },
    "hidden": true
   },
   "outputs": [
    {
     "data": {
      "text/plain": [
       "Timedelta('5642 days 00:25:26.290448')"
      ]
     },
     "execution_count": 42,
     "metadata": {},
     "output_type": "execute_result"
    }
   ],
   "source": [
    "dr_data.special_price_to_date.iloc[0] - dr_data.special_price_from_date.iloc[0]"
   ]
  },
  {
   "cell_type": "code",
   "execution_count": null,
   "metadata": {
    "collapsed": true,
    "hidden": true
   },
   "outputs": [],
   "source": [
    "# duration of special price\n",
    "dr_data['duration'] = dr_data.special_price_to_date - dr_data.special_price_from_date"
   ]
  },
  {
   "cell_type": "markdown",
   "metadata": {
    "hidden": true
   },
   "source": [
    "+ how long from starting promotion date (abs/relative)\n",
    "+ how long to ending promotion date (abs/relative)"
   ]
  },
  {
   "cell_type": "code",
   "execution_count": null,
   "metadata": {
    "collapsed": true,
    "hidden": true
   },
   "outputs": [],
   "source": []
  },
  {
   "cell_type": "markdown",
   "metadata": {
    "hidden": true
   },
   "source": [
    "+ long-short term memory models?"
   ]
  },
  {
   "cell_type": "markdown",
   "metadata": {},
   "source": [
    "# Normalizing features"
   ]
  },
  {
   "cell_type": "code",
   "execution_count": null,
   "metadata": {
    "collapsed": true
   },
   "outputs": [],
   "source": [
    "yr=2017"
   ]
  },
  {
   "cell_type": "markdown",
   "metadata": {
    "heading_collapsed": true
   },
   "source": [
    "## Female blouse"
   ]
  },
  {
   "cell_type": "code",
   "execution_count": 148,
   "metadata": {
    "ExecuteTime": {
     "end_time": "2018-01-17T12:34:27.682033Z",
     "start_time": "2018-01-17T12:34:27.676375Z"
    },
    "hidden": true
   },
   "outputs": [
    {
     "data": {
      "text/plain": [
       "blouses    3078\n",
       "Name: sub_cat, dtype: int64"
      ]
     },
     "execution_count": 148,
     "metadata": {},
     "output_type": "execute_result"
    }
   ],
   "source": [
    "blouse_df.sub_cat.value_counts()"
   ]
  },
  {
   "cell_type": "code",
   "execution_count": 136,
   "metadata": {
    "ExecuteTime": {
     "end_time": "2018-01-17T12:12:02.004273Z",
     "start_time": "2018-01-17T12:12:02.000528Z"
    },
    "collapsed": true,
    "hidden": true
   },
   "outputs": [],
   "source": [
    "sc = 'blouses'\n",
    "group_name='blouses_female_spring-summer'\n",
    "# blouse_df['sub_cat'] = sc"
   ]
  },
  {
   "cell_type": "code",
   "execution_count": 149,
   "metadata": {
    "ExecuteTime": {
     "end_time": "2018-01-17T12:34:35.744221Z",
     "start_time": "2018-01-17T12:34:35.719271Z"
    },
    "hidden": true
   },
   "outputs": [
    {
     "name": "stdout",
     "output_type": "stream",
     "text": [
      "# rows in res_df: 3078\n"
     ]
    }
   ],
   "source": [
    "res_df = modify_data(group_name, sc, yr)\n",
    "dump_data( group_name, yr, df=res_df)"
   ]
  },
  {
   "cell_type": "code",
   "execution_count": 150,
   "metadata": {
    "ExecuteTime": {
     "end_time": "2018-01-17T12:34:41.657655Z",
     "start_time": "2018-01-17T12:34:41.634003Z"
    },
    "collapsed": true,
    "hidden": true
   },
   "outputs": [
    {
     "data": {
      "text/html": [
       "<div>\n",
       "<style>\n",
       "    .dataframe thead tr:only-child th {\n",
       "        text-align: right;\n",
       "    }\n",
       "\n",
       "    .dataframe thead th {\n",
       "        text-align: left;\n",
       "    }\n",
       "\n",
       "    .dataframe tbody tr th {\n",
       "        vertical-align: top;\n",
       "    }\n",
       "</style>\n",
       "<table border=\"1\" class=\"dataframe\">\n",
       "  <thead>\n",
       "    <tr style=\"text-align: right;\">\n",
       "      <th></th>\n",
       "      <th>current_price</th>\n",
       "      <th>percent_discount_from_rrp</th>\n",
       "      <th>n_competitor</th>\n",
       "      <th>rel_price_as_ratio</th>\n",
       "      <th>color_pop</th>\n",
       "      <th>brand_pop</th>\n",
       "      <th>scaled_current_price</th>\n",
       "      <th>scaled_percent_discount_from_rrp</th>\n",
       "      <th>scaled_n_competitor</th>\n",
       "      <th>scaled_rel_price_as_ratio</th>\n",
       "      <th>scaled_color_pop</th>\n",
       "      <th>scaled_brand_pop</th>\n",
       "    </tr>\n",
       "  </thead>\n",
       "  <tbody>\n",
       "    <tr>\n",
       "      <th>1896</th>\n",
       "      <td>159.0</td>\n",
       "      <td>0.000000</td>\n",
       "      <td>652</td>\n",
       "      <td>3.163762</td>\n",
       "      <td>3.909465</td>\n",
       "      <td>14971</td>\n",
       "      <td>1.0</td>\n",
       "      <td>0.0</td>\n",
       "      <td>0.436117</td>\n",
       "      <td>0.991769</td>\n",
       "      <td>0.306452</td>\n",
       "      <td>0.094889</td>\n",
       "    </tr>\n",
       "    <tr>\n",
       "      <th>2042</th>\n",
       "      <td>159.0</td>\n",
       "      <td>0.000000</td>\n",
       "      <td>649</td>\n",
       "      <td>3.190019</td>\n",
       "      <td>3.909465</td>\n",
       "      <td>12419</td>\n",
       "      <td>1.0</td>\n",
       "      <td>0.0</td>\n",
       "      <td>0.433976</td>\n",
       "      <td>1.000000</td>\n",
       "      <td>0.306452</td>\n",
       "      <td>0.078688</td>\n",
       "    </tr>\n",
       "    <tr>\n",
       "      <th>2624</th>\n",
       "      <td>13.9</td>\n",
       "      <td>74.681239</td>\n",
       "      <td>1340</td>\n",
       "      <td>0.000154</td>\n",
       "      <td>8.024691</td>\n",
       "      <td>1863</td>\n",
       "      <td>0.0</td>\n",
       "      <td>1.0</td>\n",
       "      <td>0.927195</td>\n",
       "      <td>0.000000</td>\n",
       "      <td>0.629032</td>\n",
       "      <td>0.011675</td>\n",
       "    </tr>\n",
       "    <tr>\n",
       "      <th>2670</th>\n",
       "      <td>159.0</td>\n",
       "      <td>0.000000</td>\n",
       "      <td>1340</td>\n",
       "      <td>0.001767</td>\n",
       "      <td>3.909465</td>\n",
       "      <td>20734</td>\n",
       "      <td>1.0</td>\n",
       "      <td>0.0</td>\n",
       "      <td>0.927195</td>\n",
       "      <td>0.000506</td>\n",
       "      <td>0.306452</td>\n",
       "      <td>0.131475</td>\n",
       "    </tr>\n",
       "    <tr>\n",
       "      <th>2739</th>\n",
       "      <td>159.0</td>\n",
       "      <td>0.000000</td>\n",
       "      <td>1303</td>\n",
       "      <td>0.001779</td>\n",
       "      <td>3.909465</td>\n",
       "      <td>37408</td>\n",
       "      <td>1.0</td>\n",
       "      <td>0.0</td>\n",
       "      <td>0.900785</td>\n",
       "      <td>0.000509</td>\n",
       "      <td>0.306452</td>\n",
       "      <td>0.237327</td>\n",
       "    </tr>\n",
       "    <tr>\n",
       "      <th>2889</th>\n",
       "      <td>13.9</td>\n",
       "      <td>74.681239</td>\n",
       "      <td>1227</td>\n",
       "      <td>0.000169</td>\n",
       "      <td>8.024691</td>\n",
       "      <td>3770</td>\n",
       "      <td>0.0</td>\n",
       "      <td>1.0</td>\n",
       "      <td>0.846538</td>\n",
       "      <td>0.000005</td>\n",
       "      <td>0.629032</td>\n",
       "      <td>0.023781</td>\n",
       "    </tr>\n",
       "  </tbody>\n",
       "</table>\n",
       "</div>"
      ],
      "text/plain": [
       "      current_price  percent_discount_from_rrp  n_competitor  \\\n",
       "1896          159.0                   0.000000           652   \n",
       "2042          159.0                   0.000000           649   \n",
       "2624           13.9                  74.681239          1340   \n",
       "2670          159.0                   0.000000          1340   \n",
       "2739          159.0                   0.000000          1303   \n",
       "2889           13.9                  74.681239          1227   \n",
       "\n",
       "      rel_price_as_ratio  color_pop  brand_pop  scaled_current_price  \\\n",
       "1896            3.163762   3.909465      14971                   1.0   \n",
       "2042            3.190019   3.909465      12419                   1.0   \n",
       "2624            0.000154   8.024691       1863                   0.0   \n",
       "2670            0.001767   3.909465      20734                   1.0   \n",
       "2739            0.001779   3.909465      37408                   1.0   \n",
       "2889            0.000169   8.024691       3770                   0.0   \n",
       "\n",
       "      scaled_percent_discount_from_rrp  scaled_n_competitor  \\\n",
       "1896                               0.0             0.436117   \n",
       "2042                               0.0             0.433976   \n",
       "2624                               1.0             0.927195   \n",
       "2670                               0.0             0.927195   \n",
       "2739                               0.0             0.900785   \n",
       "2889                               1.0             0.846538   \n",
       "\n",
       "      scaled_rel_price_as_ratio  scaled_color_pop  scaled_brand_pop  \n",
       "1896                   0.991769          0.306452          0.094889  \n",
       "2042                   1.000000          0.306452          0.078688  \n",
       "2624                   0.000000          0.629032          0.011675  \n",
       "2670                   0.000506          0.306452          0.131475  \n",
       "2739                   0.000509          0.306452          0.237327  \n",
       "2889                   0.000005          0.629032          0.023781  "
      ]
     },
     "execution_count": 150,
     "metadata": {},
     "output_type": "execute_result"
    }
   ],
   "source": [
    "# sanity check scaled feats\n",
    "min_price, max_price = min(res_df.current_price), max(res_df.current_price)\n",
    "res_df[to_scale + scaled_cols].query('current_price == {0} or current_price == {1}'.format(min_price, max_price))"
   ]
  },
  {
   "cell_type": "code",
   "execution_count": 151,
   "metadata": {
    "ExecuteTime": {
     "end_time": "2018-01-17T12:36:19.961531Z",
     "start_time": "2018-01-17T12:36:19.855235Z"
    },
    "collapsed": true,
    "hidden": true
   },
   "outputs": [],
   "source": [
    "dump_data( group_name, yr, df=res_df)"
   ]
  },
  {
   "cell_type": "code",
   "execution_count": 125,
   "metadata": {
    "ExecuteTime": {
     "end_time": "2018-01-16T17:24:44.245374Z",
     "start_time": "2018-01-16T17:24:43.745447Z"
    },
    "collapsed": true,
    "hidden": true
   },
   "outputs": [
    {
     "data": {
      "text/plain": [
       "<matplotlib.figure.Figure at 0x11ecb8eb8>"
      ]
     },
     "metadata": {},
     "output_type": "display_data"
    },
    {
     "data": {
      "image/png": "[encoded data removed]",
      "text/plain": [
       "<matplotlib.figure.Figure at 0x11b2cff98>"
      ]
     },
     "metadata": {},
     "output_type": "display_data"
    }
   ],
   "source": [
    "plot_hist(canib_feats, df)"
   ]
  },
  {
   "cell_type": "markdown",
   "metadata": {
    "ExecuteTime": {
     "end_time": "2018-01-16T17:06:27.247268Z",
     "start_time": "2018-01-16T17:06:27.128499Z"
    },
    "heading_collapsed": true
   },
   "source": [
    "## Female heels"
   ]
  },
  {
   "cell_type": "code",
   "execution_count": 132,
   "metadata": {
    "ExecuteTime": {
     "end_time": "2018-01-16T17:42:32.007085Z",
     "start_time": "2018-01-16T17:42:31.779196Z"
    },
    "collapsed": true,
    "hidden": true
   },
   "outputs": [],
   "source": [
    "group_name='heels_female_spring-summer'; sc = 'heels'\n",
    "res_df = modify_data(group_name, sc, yr)"
   ]
  },
  {
   "cell_type": "markdown",
   "metadata": {
    "heading_collapsed": true
   },
   "source": [
    "## Female jewellery"
   ]
  },
  {
   "cell_type": "markdown",
   "metadata": {
    "hidden": true
   },
   "source": [
    "+ spring-summer 2017"
   ]
  },
  {
   "cell_type": "code",
   "execution_count": 133,
   "metadata": {
    "ExecuteTime": {
     "end_time": "2018-01-17T11:48:54.147591Z",
     "start_time": "2018-01-17T11:48:54.054658Z"
    },
    "collapsed": true,
    "hidden": true
   },
   "outputs": [],
   "source": [
    "group_name = 'jewellery_female_spring-summer'; sc = 'jewellery'\n",
    "res_df = modify_data(group_name, sc, yr)"
   ]
  },
  {
   "cell_type": "markdown",
   "metadata": {
    "hidden": true
   },
   "source": [
    "+ autumn-winter 2017"
   ]
  },
  {
   "cell_type": "code",
   "execution_count": 134,
   "metadata": {
    "ExecuteTime": {
     "end_time": "2018-01-17T11:49:33.283597Z",
     "start_time": "2018-01-17T11:49:33.255789Z"
    },
    "collapsed": true,
    "hidden": true
   },
   "outputs": [],
   "source": [
    "group_name = 'jewellery_female_autumn-winter'; sc = 'jewellery'\n",
    "res_df = modify_data(group_name, sc, yr)"
   ]
  },
  {
   "cell_type": "markdown",
   "metadata": {},
   "source": [
    "## For all groups"
   ]
  },
  {
   "cell_type": "code",
   "execution_count": 6,
   "metadata": {
    "ExecuteTime": {
     "end_time": "2018-01-23T10:38:03.424773Z",
     "start_time": "2018-01-23T10:38:03.420424Z"
    },
    "code_folding": [
     0
    ],
    "collapsed": true
   },
   "outputs": [],
   "source": [
    "# all feats\n",
    "static_feats = ['color_pop', 'brand_pop'] # size_pop\n",
    "canib_feats = ['current_price', 'percent_discount_from_rrp', 'n_competitor', 'rel_price_as_ratio']\n",
    "ga_feats = ['mean_views', 'mean_impressions', 'total_views', 'total_impressions']\n",
    "time_feats = ['is_weekend', 'is_workday']\n",
    "\n",
    "to_scale = canib_feats + static_feats\n",
    "scaled_cols = ['_'.join(['scaled', s]) for s in to_scale]"
   ]
  },
  {
   "cell_type": "code",
   "execution_count": 8,
   "metadata": {
    "ExecuteTime": {
     "end_time": "2018-01-23T10:33:02.104476Z",
     "start_time": "2018-01-23T10:33:02.048106Z"
    },
    "collapsed": true
   },
   "outputs": [],
   "source": [
    "fname = CLEAN_DIR + 'groups.csv'\n",
    "group_df = pd.read_csv(fname)\n",
    "gnames = group_df['name']"
   ]
  },
  {
   "cell_type": "code",
   "execution_count": 16,
   "metadata": {
    "ExecuteTime": {
     "end_time": "2018-01-23T11:11:09.922442Z",
     "start_time": "2018-01-23T11:11:09.913104Z"
    },
    "code_folding": [
     0
    ]
   },
   "outputs": [
    {
     "data": {
      "text/plain": [
       "[]"
      ]
     },
     "execution_count": 16,
     "metadata": {},
     "output_type": "execute_result"
    }
   ],
   "source": [
    "# check for file names with no year as they will cause problems\n",
    "from os import walk\n",
    "\n",
    "def list_files(folder, extension='.csv'):\n",
    "    fnames = []\n",
    "    for (dir_path, dir_names, file_names) in walk(folder):\n",
    "        files_with_extension = [fn for fn in file_names if extension in fn]\n",
    "        fnames.extend(files_with_extension) # same as fnames += file_names\n",
    "        break\n",
    "\n",
    "    return fnames\n",
    "\n",
    "fnames = list_files(READY_DIR)\n",
    "[fn for fn in fnames if '2017' not in fn]"
   ]
  },
  {
   "cell_type": "code",
   "execution_count": null,
   "metadata": {
    "collapsed": true
   },
   "outputs": [],
   "source": []
  },
  {
   "cell_type": "code",
   "execution_count": 13,
   "metadata": {
    "ExecuteTime": {
     "end_time": "2018-01-23T10:38:53.094752Z",
     "start_time": "2018-01-23T10:38:52.581777Z"
    },
    "scrolled": true
   },
   "outputs": [
    {
     "name": "stdout",
     "output_type": "stream",
     "text": [
      "Group: heels_female_spring-summer\n",
      "\t loading data from file /Users/gfg/data/venture=Zalora/sg/clean/groups/ready/heels_female_spring-summer_2017.csv\n",
      "# rows in res_df: 5999\n",
      "\t performing min-max normalization...\n",
      "\t ratio of remaining records after dropping NA values: 0.9584930821803634\n",
      "\t dumped the data to file /Users/gfg/data/venture=Zalora/sg/clean/groups/ready/heels_female_spring-summer_2017.csv\n"
     ]
    }
   ],
   "source": [
    "gr = 'heels_female_spring-summer'\n",
    "res_df = modify_data(group_name=gr, yr=2017, cols=canib_feats + static_feats)\n",
    "# res_df.describe()\n",
    "if not res_df.empty:\n",
    "    dump_data(group_name=gr, yr=2017, df=res_df)"
   ]
  },
  {
   "cell_type": "code",
   "execution_count": 187,
   "metadata": {
    "ExecuteTime": {
     "end_time": "2018-01-19T12:44:58.164257Z",
     "start_time": "2018-01-19T12:44:50.282930Z"
    },
    "scrolled": true
   },
   "outputs": [
    {
     "name": "stdout",
     "output_type": "stream",
     "text": [
      "Group: dresses_female_spring-summer\n",
      "\t file not found!\n",
      "Group: tops_female_spring-summer\n",
      "\t loading data from file /Users/gfg/data/venture=Zalora/sg/clean/groups/ready/tops_female_spring-summer_2017.csv\n",
      "# rows in res_df: 12047\n",
      "\t performing min-max normalization...\n",
      "\t ratio of remaining records after dropping invalid values: 1.0\n",
      "\t dumped the data to file /Users/gfg/data/venture=Zalora/sg/clean/groups/ready/tops_female_spring-summer_2017.csv\n",
      "Group: dresses_female_na\n",
      "\t file not found!\n",
      "Group: jewellery_female_na\n",
      "\t file not found!\n",
      "Group: t-shirts_male_spring-summer\n",
      "\t loading data from file /Users/gfg/data/venture=Zalora/sg/clean/groups/ready/t-shirts_male_spring-summer_2017.csv\n",
      "# rows in res_df: 4895\n",
      "\t performing min-max normalization...\n",
      "\t ratio of remaining records after dropping invalid values: 1.0\n",
      "\t dumped the data to file /Users/gfg/data/venture=Zalora/sg/clean/groups/ready/t-shirts_male_spring-summer_2017.csv\n",
      "Group: other_accessories_male_na\n",
      "\t file not found!\n",
      "Group: tops_female_na\n",
      "\t loading data from file /Users/gfg/data/venture=Zalora/sg/clean/groups/ready/tops_female_na_2017.csv\n",
      "# rows in res_df: 2942\n",
      "\t performing min-max normalization...\n",
      "\t ratio of remaining records after dropping invalid values: 1.0\n",
      "\t dumped the data to file /Users/gfg/data/venture=Zalora/sg/clean/groups/ready/tops_female_na_2017.csv\n",
      "Group: dresses_female_autumn-winter\n",
      "\t loading data from file /Users/gfg/data/venture=Zalora/sg/clean/groups/ready/dresses_female_autumn-winter_2017.csv\n",
      "# rows in res_df: 16606\n",
      "\t performing min-max normalization...\n",
      "\t ratio of remaining records after dropping invalid values: 1.0\n",
      "\t dumped the data to file /Users/gfg/data/venture=Zalora/sg/clean/groups/ready/dresses_female_autumn-winter_2017.csv\n",
      "Group: heels_female_spring-summer\n",
      "\t loading data from file /Users/gfg/data/venture=Zalora/sg/clean/groups/ready/heels_female_spring-summer_2017.csv\n",
      "# rows in res_df: 5999\n",
      "\t performing min-max normalization...\n",
      "\t ratio of remaining records after dropping invalid values: 0.9584930821803634\n",
      "\t dumped the data to file /Users/gfg/data/venture=Zalora/sg/clean/groups/ready/heels_female_spring-summer_2017.csv\n",
      "Group: traditional_dresses_female_spring-summer\n",
      "\t file not found!\n",
      "Group: t-shirts_male_autumn-winter\n",
      "\t file not found!\n",
      "Group: tops_female_autumn-winter\n",
      "\t loading data from file /Users/gfg/data/venture=Zalora/sg/clean/groups/ready/tops_female_autumn-winter_2017.csv\n",
      "# rows in res_df: 16606\n",
      "\t performing min-max normalization...\n",
      "\t ratio of remaining records after dropping invalid values: 1.0\n",
      "\t dumped the data to file /Users/gfg/data/venture=Zalora/sg/clean/groups/ready/tops_female_autumn-winter_2017.csv\n",
      "Group: shirts_male_spring-summer\n",
      "\t loading data from file /Users/gfg/data/venture=Zalora/sg/clean/groups/ready/shirts_male_spring-summer_2017.csv\n",
      "# rows in res_df: 3512\n",
      "\t performing min-max normalization...\n",
      "\t ratio of remaining records after dropping invalid values: 1.0\n",
      "\t dumped the data to file /Users/gfg/data/venture=Zalora/sg/clean/groups/ready/shirts_male_spring-summer_2017.csv\n",
      "Group: sandals_&_flip_flops_female_spring-summer\n",
      "\t loading data from file /Users/gfg/data/venture=Zalora/sg/clean/groups/ready/sandals_&_flip_flops_female_spring-summer_2017.csv\n",
      "# rows in res_df: 4596\n",
      "\t performing min-max normalization...\n",
      "\t ratio of remaining records after dropping invalid values: 1.0\n",
      "\t dumped the data to file /Users/gfg/data/venture=Zalora/sg/clean/groups/ready/sandals_&_flip_flops_female_spring-summer_2017.csv\n",
      "Group: face_make-up_female_na\n",
      "\t file not found!\n",
      "Group: lips_female_na\n",
      "\t file not found!\n",
      "Group: blouses_&_tunics_female_spring-summer\n",
      "\t loading data from file /Users/gfg/data/venture=Zalora/sg/clean/groups/ready/blouses_&_tunics_female_spring-summer_2017.csv\n",
      "# rows in res_df: 3078\n",
      "\t performing min-max normalization...\n",
      "\t ratio of remaining records after dropping invalid values: 1.0\n",
      "\t dumped the data to file /Users/gfg/data/venture=Zalora/sg/clean/groups/ready/blouses_&_tunics_female_spring-summer_2017.csv\n",
      "Group: sling_bags_female_spring-summer\n",
      "\t loading data from file /Users/gfg/data/venture=Zalora/sg/clean/groups/ready/sling_bags_female_spring-summer_2017.csv\n",
      "# rows in res_df: 1693\n",
      "\t performing min-max normalization...\n",
      "\t ratio of remaining records after dropping invalid values: 1.0\n",
      "\t dumped the data to file /Users/gfg/data/venture=Zalora/sg/clean/groups/ready/sling_bags_female_spring-summer_2017.csv\n",
      "Group: heels_female_na\n",
      "\t file not found!\n",
      "Group: watches_male_na\n",
      "\t loading data from file /Users/gfg/data/venture=Zalora/sg/clean/groups/ready/watches_male_na_2017.csv\n",
      "# rows in res_df: 75\n",
      "\t performing min-max normalization...\n",
      "\t ratio of remaining records after dropping invalid values: 1.0\n",
      "\t dumped the data to file /Users/gfg/data/venture=Zalora/sg/clean/groups/ready/watches_male_na_2017.csv\n",
      "Group: traditional_tops_female_spring-summer\n",
      "\t loading data from file /Users/gfg/data/venture=Zalora/sg/clean/groups/ready/traditional_tops_female_spring-summer_2017.csv\n",
      "# rows in res_df: 1774\n",
      "\t performing min-max normalization...\n",
      "\t ratio of remaining records after dropping invalid values: 1.0\n",
      "\t dumped the data to file /Users/gfg/data/venture=Zalora/sg/clean/groups/ready/traditional_tops_female_spring-summer_2017.csv\n",
      "Group: ballerina_&_flats_female_spring-summer\n",
      "\t file not found!\n",
      "Group: watches_female_na\n",
      "\t loading data from file /Users/gfg/data/venture=Zalora/sg/clean/groups/ready/watches_female_na_2017.csv\n",
      "# rows in res_df: 355\n",
      "\t performing min-max normalization...\n",
      "\t ratio of remaining records after dropping invalid values: 1.0\n",
      "\t dumped the data to file /Users/gfg/data/venture=Zalora/sg/clean/groups/ready/watches_female_na_2017.csv\n",
      "Group: sneakers_female_na\n",
      "\t loading data from file /Users/gfg/data/venture=Zalora/sg/clean/groups/ready/sneakers_female_na_2017.csv\n",
      "# rows in res_df: 214\n",
      "\t performing min-max normalization...\n",
      "\t ratio of remaining records after dropping invalid values: 1.0\n",
      "\t dumped the data to file /Users/gfg/data/venture=Zalora/sg/clean/groups/ready/sneakers_female_na_2017.csv\n",
      "Group: other_bags_female_na\n",
      "\t file not found!\n",
      "Group: jewellery_female_spring-summer\n",
      "\t loading data from file /Users/gfg/data/venture=Zalora/sg/clean/groups/ready/jewellery_female_spring-summer_2017.csv\n",
      "# rows in res_df: 737\n",
      "\t performing min-max normalization...\n",
      "\t ratio of remaining records after dropping invalid values: 0.966078697421981\n",
      "\t dumped the data to file /Users/gfg/data/venture=Zalora/sg/clean/groups/ready/jewellery_female_spring-summer_2017.csv\n",
      "Group: eyes_female_na\n",
      "\t file not found!\n",
      "Group: skirts_female_spring-summer\n",
      "\t loading data from file /Users/gfg/data/venture=Zalora/sg/clean/groups/ready/skirts_female_spring-summer_2017.csv\n",
      "# rows in res_df: 2507\n",
      "\t performing min-max normalization...\n",
      "\t ratio of remaining records after dropping invalid values: 1.0\n",
      "\t dumped the data to file /Users/gfg/data/venture=Zalora/sg/clean/groups/ready/skirts_female_spring-summer_2017.csv\n",
      "Group: heels_female_autumn-winter\n",
      "\t loading data from file /Users/gfg/data/venture=Zalora/sg/clean/groups/ready/heels_female_autumn-winter_2017.csv\n",
      "# rows in res_df: 2310\n",
      "\t performing min-max normalization...\n",
      "\t ratio of remaining records after dropping invalid values: 1.0\n",
      "\t dumped the data to file /Users/gfg/data/venture=Zalora/sg/clean/groups/ready/heels_female_autumn-winter_2017.csv\n",
      "Group: skirts_female_na\n",
      "\t loading data from file /Users/gfg/data/venture=Zalora/sg/clean/groups/ready/skirts_female_na_2017.csv\n",
      "# rows in res_df: 835\n",
      "\t performing min-max normalization...\n",
      "\t ratio of remaining records after dropping invalid values: 1.0\n",
      "\t dumped the data to file /Users/gfg/data/venture=Zalora/sg/clean/groups/ready/skirts_female_na_2017.csv\n",
      "Group: ballerina_&_flats_female_autumn-winter\n",
      "\t file not found!\n",
      "Group: playsuits_&_jumpsuits_female_spring-summer\n",
      "\t file not found!\n",
      "Group: fashion_bags_female_spring-summer\n",
      "\t loading data from file /Users/gfg/data/venture=Zalora/sg/clean/groups/ready/fashion_bags_female_spring-summer_2017.csv\n",
      "# rows in res_df: 975\n",
      "\t performing min-max normalization...\n",
      "\t ratio of remaining records after dropping invalid values: 1.0\n",
      "\t dumped the data to file /Users/gfg/data/venture=Zalora/sg/clean/groups/ready/fashion_bags_female_spring-summer_2017.csv\n",
      "Group: sneakers_female_spring-summer\n",
      "\t loading data from file /Users/gfg/data/venture=Zalora/sg/clean/groups/ready/sneakers_female_spring-summer_2017.csv\n",
      "# rows in res_df: 1550\n",
      "\t performing min-max normalization...\n",
      "\t ratio of remaining records after dropping invalid values: 1.0\n"
     ]
    },
    {
     "name": "stdout",
     "output_type": "stream",
     "text": [
      "\t dumped the data to file /Users/gfg/data/venture=Zalora/sg/clean/groups/ready/sneakers_female_spring-summer_2017.csv\n",
      "Group: shirts_male_autumn-winter\n",
      "\t loading data from file /Users/gfg/data/venture=Zalora/sg/clean/groups/ready/shirts_male_autumn-winter_2017.csv\n",
      "# rows in res_df: 2598\n",
      "\t performing min-max normalization...\n",
      "\t ratio of remaining records after dropping invalid values: 1.0\n",
      "\t dumped the data to file /Users/gfg/data/venture=Zalora/sg/clean/groups/ready/shirts_male_autumn-winter_2017.csv\n",
      "Group: swimwear_tops_female_spring-summer\n",
      "\t loading data from file /Users/gfg/data/venture=Zalora/sg/clean/groups/ready/swimwear_tops_female_spring-summer_2017.csv\n",
      "# rows in res_df: 598\n",
      "\t performing min-max normalization...\n",
      "\t ratio of remaining records after dropping invalid values: 1.0\n",
      "\t dumped the data to file /Users/gfg/data/venture=Zalora/sg/clean/groups/ready/swimwear_tops_female_spring-summer_2017.csv\n",
      "Group: top-handles_female_spring-summer\n",
      "\t loading data from file /Users/gfg/data/venture=Zalora/sg/clean/groups/ready/top-handles_female_spring-summer_2017.csv\n",
      "# rows in res_df: 998\n",
      "\t performing min-max normalization...\n",
      "\t ratio of remaining records after dropping invalid values: 1.0\n",
      "\t dumped the data to file /Users/gfg/data/venture=Zalora/sg/clean/groups/ready/top-handles_female_spring-summer_2017.csv\n",
      "Group: polo_shirts_male_spring-summer\n",
      "\t loading data from file /Users/gfg/data/venture=Zalora/sg/clean/groups/ready/polo_shirts_male_spring-summer_2017.csv\n",
      "# rows in res_df: 883\n",
      "\t performing min-max normalization...\n",
      "\t ratio of remaining records after dropping invalid values: 1.0\n",
      "\t dumped the data to file /Users/gfg/data/venture=Zalora/sg/clean/groups/ready/polo_shirts_male_spring-summer_2017.csv\n",
      "Group: sandals_&_flip_flops_female_autumn-winter\n",
      "\t file not found!\n",
      "Group: shorts_male_spring-summer\n",
      "\t loading data from file /Users/gfg/data/venture=Zalora/sg/clean/groups/ready/shorts_male_spring-summer_2017.csv\n",
      "# rows in res_df: 1366\n",
      "\t performing min-max normalization...\n",
      "\t ratio of remaining records after dropping invalid values: 1.0\n",
      "\t dumped the data to file /Users/gfg/data/venture=Zalora/sg/clean/groups/ready/shorts_male_spring-summer_2017.csv\n",
      "Group: sandals_&_flip_flops_female_na\n",
      "\t file not found!\n",
      "Group: long_pants_female_spring-summer\n",
      "\t loading data from file /Users/gfg/data/venture=Zalora/sg/clean/groups/ready/long_pants_female_spring-summer_2017.csv\n",
      "# rows in res_df: 1654\n",
      "\t performing min-max normalization...\n",
      "\t ratio of remaining records after dropping invalid values: 1.0\n",
      "\t dumped the data to file /Users/gfg/data/venture=Zalora/sg/clean/groups/ready/long_pants_female_spring-summer_2017.csv\n",
      "Group: watches_female_autumn-winter\n",
      "\t loading data from file /Users/gfg/data/venture=Zalora/sg/clean/groups/ready/watches_female_autumn-winter_2017.csv\n",
      "# rows in res_df: 3092\n",
      "\t performing min-max normalization...\n",
      "\t ratio of remaining records after dropping invalid values: 1.0\n",
      "\t dumped the data to file /Users/gfg/data/venture=Zalora/sg/clean/groups/ready/watches_female_autumn-winter_2017.csv\n",
      "Group: backpacks_female_spring-summer\n",
      "\t loading data from file /Users/gfg/data/venture=Zalora/sg/clean/groups/ready/backpacks_female_spring-summer_2017.csv\n",
      "# rows in res_df: 593\n",
      "\t performing min-max normalization...\n",
      "\t ratio of remaining records after dropping invalid values: 1.0\n",
      "\t dumped the data to file /Users/gfg/data/venture=Zalora/sg/clean/groups/ready/backpacks_female_spring-summer_2017.csv\n",
      "Group: long_pants_male_spring-summer\n",
      "\t loading data from file /Users/gfg/data/venture=Zalora/sg/clean/groups/ready/long_pants_male_spring-summer_2017.csv\n",
      "# rows in res_df: 986\n",
      "\t performing min-max normalization...\n",
      "\t ratio of remaining records after dropping invalid values: 1.0\n",
      "\t dumped the data to file /Users/gfg/data/venture=Zalora/sg/clean/groups/ready/long_pants_male_spring-summer_2017.csv\n",
      "Group: jeans_female_spring-summer\n",
      "\t loading data from file /Users/gfg/data/venture=Zalora/sg/clean/groups/ready/jeans_female_spring-summer_2017.csv\n",
      "# rows in res_df: 2170\n",
      "\t performing min-max normalization...\n",
      "\t ratio of remaining records after dropping invalid values: 1.0\n",
      "\t dumped the data to file /Users/gfg/data/venture=Zalora/sg/clean/groups/ready/jeans_female_spring-summer_2017.csv\n",
      "Group: boots_female_autumn-winter\n",
      "\t loading data from file /Users/gfg/data/venture=Zalora/sg/clean/groups/ready/boots_female_autumn-winter_2017.csv\n",
      "# rows in res_df: 1314\n",
      "\t performing min-max normalization...\n",
      "\t ratio of remaining records after dropping invalid values: 1.0\n",
      "\t dumped the data to file /Users/gfg/data/venture=Zalora/sg/clean/groups/ready/boots_female_autumn-winter_2017.csv\n",
      "Group: t-shirts_male_na\n",
      "\t loading data from file /Users/gfg/data/venture=Zalora/sg/clean/groups/ready/t-shirts_male_na_2017.csv\n",
      "# rows in res_df: 494\n",
      "\t performing min-max normalization...\n",
      "\t ratio of remaining records after dropping invalid values: 1.0\n",
      "\t dumped the data to file /Users/gfg/data/venture=Zalora/sg/clean/groups/ready/t-shirts_male_na_2017.csv\n",
      "Group: shirts_male_na\n",
      "\t loading data from file /Users/gfg/data/venture=Zalora/sg/clean/groups/ready/shirts_male_na_2017.csv\n",
      "# rows in res_df: 239\n",
      "\t performing min-max normalization...\n",
      "\t ratio of remaining records after dropping invalid values: 1.0\n",
      "\t dumped the data to file /Users/gfg/data/venture=Zalora/sg/clean/groups/ready/shirts_male_na_2017.csv\n",
      "Group: tudung_&_head_scarves_female_spring-summer\n",
      "\t file not found!\n",
      "Group: watches_unisex_na\n",
      "\t loading data from file /Users/gfg/data/venture=Zalora/sg/clean/groups/ready/watches_unisex_na_2017.csv\n",
      "# rows in res_df: 182\n",
      "\t performing min-max normalization...\n",
      "\t ratio of remaining records after dropping invalid values: 1.0\n",
      "\t dumped the data to file /Users/gfg/data/venture=Zalora/sg/clean/groups/ready/watches_unisex_na_2017.csv\n",
      "Group: shorts_female_spring-summer\n",
      "\t loading data from file /Users/gfg/data/venture=Zalora/sg/clean/groups/ready/shorts_female_spring-summer_2017.csv\n",
      "# rows in res_df: 1285\n",
      "\t performing min-max normalization...\n",
      "\t ratio of remaining records after dropping invalid values: 1.0\n",
      "\t dumped the data to file /Users/gfg/data/venture=Zalora/sg/clean/groups/ready/shorts_female_spring-summer_2017.csv\n",
      "Group: wedges_female_spring-summer\n",
      "\t loading data from file /Users/gfg/data/venture=Zalora/sg/clean/groups/ready/wedges_female_spring-summer_2017.csv\n",
      "# rows in res_df: 479\n",
      "\t performing min-max normalization...\n",
      "\t ratio of remaining records after dropping invalid values: 1.0\n",
      "\t dumped the data to file /Users/gfg/data/venture=Zalora/sg/clean/groups/ready/wedges_female_spring-summer_2017.csv\n",
      "Group: ballerina_&_flats_female_na\n",
      "\t file not found!\n",
      "Group: slip_ons_&_espadrilles_female_spring-summer\n",
      "\t file not found!\n",
      "Group: sneakers_male_spring-summer\n",
      "\t loading data from file /Users/gfg/data/venture=Zalora/sg/clean/groups/ready/sneakers_male_spring-summer_2017.csv\n",
      "# rows in res_df: 934\n",
      "\t performing min-max normalization...\n",
      "\t ratio of remaining records after dropping invalid values: 1.0\n",
      "\t dumped the data to file /Users/gfg/data/venture=Zalora/sg/clean/groups/ready/sneakers_male_spring-summer_2017.csv\n",
      "Group: bra_female_spring-summer\n",
      "\t loading data from file /Users/gfg/data/venture=Zalora/sg/clean/groups/ready/bra_female_spring-summer_2017.csv\n",
      "# rows in res_df: 400\n",
      "\t performing min-max normalization...\n",
      "\t ratio of remaining records after dropping invalid values: 1.0\n",
      "\t dumped the data to file /Users/gfg/data/venture=Zalora/sg/clean/groups/ready/bra_female_spring-summer_2017.csv\n",
      "Group: traditional_dresses_female_autumn-winter\n",
      "\t loading data from file /Users/gfg/data/venture=Zalora/sg/clean/groups/ready/traditional_dresses_female_autumn-winter_2017.csv\n",
      "# rows in res_df: 644\n",
      "\t performing min-max normalization...\n",
      "\t ratio of remaining records after dropping invalid values: 1.0\n",
      "\t dumped the data to file /Users/gfg/data/venture=Zalora/sg/clean/groups/ready/traditional_dresses_female_autumn-winter_2017.csv\n",
      "Group: watches_female_year round\n",
      "\t file not found!\n",
      "Group: watches_male_year round\n",
      "\t file not found!\n",
      "Group: backpacks_unisex_spring-summer\n",
      "\t loading data from file /Users/gfg/data/venture=Zalora/sg/clean/groups/ready/backpacks_unisex_spring-summer_2017.csv\n",
      "# rows in res_df: 343\n",
      "\t performing min-max normalization...\n",
      "\t ratio of remaining records after dropping invalid values: 1.0\n",
      "\t dumped the data to file /Users/gfg/data/venture=Zalora/sg/clean/groups/ready/backpacks_unisex_spring-summer_2017.csv\n",
      "Group: travel_bags_&_luggage_unisex_na\n",
      "\t file not found!\n",
      "Group: wallets_&_purses_female_spring-summer\n",
      "\t file not found!\n",
      "Group: sling_bags_female_autumn-winter\n",
      "\t loading data from file /Users/gfg/data/venture=Zalora/sg/clean/groups/ready/sling_bags_female_autumn-winter_2017.csv\n",
      "# rows in res_df: 2177\n",
      "\t performing min-max normalization...\n",
      "\t ratio of remaining records after dropping invalid values: 1.0\n",
      "\t dumped the data to file /Users/gfg/data/venture=Zalora/sg/clean/groups/ready/sling_bags_female_autumn-winter_2017.csv\n",
      "Group: nails_female_na\n",
      "\t loading data from file /Users/gfg/data/venture=Zalora/sg/clean/groups/ready/nails_female_na_2017.csv\n",
      "# rows in res_df: 156\n",
      "\t performing min-max normalization...\n",
      "\t ratio of remaining records after dropping invalid values: 1.0\n",
      "\t dumped the data to file /Users/gfg/data/venture=Zalora/sg/clean/groups/ready/nails_female_na_2017.csv\n",
      "Group: t-shirts_female_na\n",
      "\t loading data from file /Users/gfg/data/venture=Zalora/sg/clean/groups/ready/t-shirts_female_na_2017.csv\n",
      "# rows in res_df: 253\n",
      "\t performing min-max normalization...\n",
      "\t ratio of remaining records after dropping invalid values: 1.0\n",
      "\t dumped the data to file /Users/gfg/data/venture=Zalora/sg/clean/groups/ready/t-shirts_female_na_2017.csv\n",
      "Group: backpacks_unisex_na\n",
      "\t loading data from file /Users/gfg/data/venture=Zalora/sg/clean/groups/ready/backpacks_unisex_na_2017.csv\n",
      "# rows in res_df: 229\n",
      "\t performing min-max normalization...\n",
      "\t ratio of remaining records after dropping invalid values: 1.0\n",
      "\t dumped the data to file /Users/gfg/data/venture=Zalora/sg/clean/groups/ready/backpacks_unisex_na_2017.csv\n",
      "Group: panties_female_spring-summer\n",
      "\t loading data from file /Users/gfg/data/venture=Zalora/sg/clean/groups/ready/panties_female_spring-summer_2017.csv\n",
      "# rows in res_df: 107\n",
      "\t performing min-max normalization...\n",
      "\t ratio of remaining records after dropping invalid values: 1.0\n",
      "\t dumped the data to file /Users/gfg/data/venture=Zalora/sg/clean/groups/ready/panties_female_spring-summer_2017.csv\n",
      "Group: totes_female_spring-summer\n",
      "\t loading data from file /Users/gfg/data/venture=Zalora/sg/clean/groups/ready/totes_female_spring-summer_2017.csv\n"
     ]
    },
    {
     "name": "stdout",
     "output_type": "stream",
     "text": [
      "# rows in res_df: 763\n",
      "\t performing min-max normalization...\n",
      "\t ratio of remaining records after dropping invalid values: 1.0\n",
      "\t dumped the data to file /Users/gfg/data/venture=Zalora/sg/clean/groups/ready/totes_female_spring-summer_2017.csv\n",
      "Group: fashion_bags_male_spring-summer\n",
      "\t loading data from file /Users/gfg/data/venture=Zalora/sg/clean/groups/ready/fashion_bags_male_spring-summer_2017.csv\n",
      "# rows in res_df: 345\n",
      "\t performing min-max normalization...\n",
      "\t ratio of remaining records after dropping invalid values: 1.0\n",
      "\t dumped the data to file /Users/gfg/data/venture=Zalora/sg/clean/groups/ready/fashion_bags_male_spring-summer_2017.csv\n",
      "Group: watches_unisex_year round\n",
      "\t file not found!\n",
      "Group: wallets_&_purses_male_spring-summer\n",
      "\t file not found!\n",
      "Group: nightwear_&_sleepwear_female_spring-summer\n",
      "\t file not found!\n",
      "Group: long_pants_female_na\n",
      "\t loading data from file /Users/gfg/data/venture=Zalora/sg/clean/groups/ready/long_pants_female_na_2017.csv\n",
      "# rows in res_df: 491\n",
      "\t performing min-max normalization...\n",
      "\t ratio of remaining records after dropping invalid values: 1.0\n",
      "\t dumped the data to file /Users/gfg/data/venture=Zalora/sg/clean/groups/ready/long_pants_female_na_2017.csv\n",
      "Group: shorts_male_autumn-winter\n",
      "\t loading data from file /Users/gfg/data/venture=Zalora/sg/clean/groups/ready/shorts_male_autumn-winter_2017.csv\n",
      "# rows in res_df: 1494\n",
      "\t performing min-max normalization...\n",
      "\t ratio of remaining records after dropping invalid values: 1.0\n",
      "\t dumped the data to file /Users/gfg/data/venture=Zalora/sg/clean/groups/ready/shorts_male_autumn-winter_2017.csv\n",
      "Group: eyewear_female_year round\n",
      "\t file not found!\n",
      "Group: blouses_&_tunics_female_autumn-winter\n",
      "\t file not found!\n",
      "Group: traditional_tops_female_autumn-winter\n",
      "\t loading data from file /Users/gfg/data/venture=Zalora/sg/clean/groups/ready/traditional_tops_female_autumn-winter_2017.csv\n",
      "# rows in res_df: 312\n",
      "\t performing min-max normalization...\n",
      "\t ratio of remaining records after dropping invalid values: 1.0\n",
      "\t dumped the data to file /Users/gfg/data/venture=Zalora/sg/clean/groups/ready/traditional_tops_female_autumn-winter_2017.csv\n",
      "Group: hoodies_&_sweatshirts_male_spring-summer\n",
      "\t file not found!\n",
      "Group: other_accessories_female_na\n",
      "\t loading data from file /Users/gfg/data/venture=Zalora/sg/clean/groups/ready/other_accessories_female_na_2017.csv\n",
      "# rows in res_df: 274\n",
      "\t performing min-max normalization...\n",
      "\t ratio of remaining records after dropping invalid values: 1.0\n",
      "\t dumped the data to file /Users/gfg/data/venture=Zalora/sg/clean/groups/ready/other_accessories_female_na_2017.csv\n",
      "Group: jewellery_female_year round\n",
      "\t file not found!\n",
      "Group: watches_female_spring-summer\n",
      "\t loading data from file /Users/gfg/data/venture=Zalora/sg/clean/groups/ready/watches_female_spring-summer_2017.csv\n",
      "# rows in res_df: 247\n",
      "\t performing min-max normalization...\n",
      "\t ratio of remaining records after dropping invalid values: 1.0\n",
      "\t dumped the data to file /Users/gfg/data/venture=Zalora/sg/clean/groups/ready/watches_female_spring-summer_2017.csv\n",
      "Group: belts_&_buckles_male_spring-summer\n",
      "\t file not found!\n",
      "Group: skirts_female_autumn-winter\n",
      "\t loading data from file /Users/gfg/data/venture=Zalora/sg/clean/groups/ready/skirts_female_autumn-winter_2017.csv\n",
      "# rows in res_df: 1437\n",
      "\t performing min-max normalization...\n",
      "\t ratio of remaining records after dropping invalid values: 1.0\n",
      "\t dumped the data to file /Users/gfg/data/venture=Zalora/sg/clean/groups/ready/skirts_female_autumn-winter_2017.csv\n",
      "Group: shoulder_bags_female_spring-summer\n",
      "\t loading data from file /Users/gfg/data/venture=Zalora/sg/clean/groups/ready/shoulder_bags_female_spring-summer_2017.csv\n",
      "# rows in res_df: 312\n",
      "\t performing min-max normalization...\n",
      "\t ratio of remaining records after dropping invalid values: 1.0\n",
      "\t dumped the data to file /Users/gfg/data/venture=Zalora/sg/clean/groups/ready/shoulder_bags_female_spring-summer_2017.csv\n",
      "Group: fashion_bags_female_autumn-winter\n",
      "\t loading data from file /Users/gfg/data/venture=Zalora/sg/clean/groups/ready/fashion_bags_female_autumn-winter_2017.csv\n",
      "# rows in res_df: 842\n",
      "\t performing min-max normalization...\n",
      "\t ratio of remaining records after dropping invalid values: 1.0\n",
      "\t dumped the data to file /Users/gfg/data/venture=Zalora/sg/clean/groups/ready/fashion_bags_female_autumn-winter_2017.csv\n",
      "Group: eyewear_unisex_year round\n",
      "\t file not found!\n",
      "Group: jeans_male_spring-summer\n",
      "\t loading data from file /Users/gfg/data/venture=Zalora/sg/clean/groups/ready/jeans_male_spring-summer_2017.csv\n",
      "# rows in res_df: 621\n",
      "\t performing min-max normalization...\n",
      "\t ratio of remaining records after dropping invalid values: 1.0\n",
      "\t dumped the data to file /Users/gfg/data/venture=Zalora/sg/clean/groups/ready/jeans_male_spring-summer_2017.csv\n",
      "Group: hoodies_&_sweatshirts_male_autumn-winter\n",
      "\t file not found!\n",
      "Group: sports_performance_tops_female_spring-summer\n",
      "\t loading data from file /Users/gfg/data/venture=Zalora/sg/clean/groups/ready/sports_performance_tops_female_spring-summer_2017.csv\n",
      "# rows in res_df: 148\n",
      "\t performing min-max normalization...\n",
      "\t ratio of remaining records after dropping invalid values: 1.0\n",
      "\t dumped the data to file /Users/gfg/data/venture=Zalora/sg/clean/groups/ready/sports_performance_tops_female_spring-summer_2017.csv\n",
      "Group: fashion_bags_female_na\n",
      "\t loading data from file /Users/gfg/data/venture=Zalora/sg/clean/groups/ready/fashion_bags_female_na_2017.csv\n",
      "# rows in res_df: 37\n",
      "\t performing min-max normalization...\n",
      "\t ratio of remaining records after dropping invalid values: 1.0\n",
      "\t dumped the data to file /Users/gfg/data/venture=Zalora/sg/clean/groups/ready/fashion_bags_female_na_2017.csv\n",
      "Group: sports_performance_bottoms_female_spring-summer\n",
      "\t loading data from file /Users/gfg/data/venture=Zalora/sg/clean/groups/ready/sports_performance_bottoms_female_spring-summer_2017.csv\n",
      "# rows in res_df: 290\n",
      "\t performing min-max normalization...\n",
      "\t ratio of remaining records after dropping invalid values: 1.0\n",
      "\t dumped the data to file /Users/gfg/data/venture=Zalora/sg/clean/groups/ready/sports_performance_bottoms_female_spring-summer_2017.csv\n",
      "Group: wallets_&_purses_female_na\n",
      "\t file not found!\n",
      "Group: loafers__moccasins_&_boat_shoes_male_spring-summer\n",
      "\t file not found!\n",
      "Group: other_bags_unisex_na\n",
      "\t loading data from file /Users/gfg/data/venture=Zalora/sg/clean/groups/ready/other_bags_unisex_na_2017.csv\n",
      "# rows in res_df: 204\n",
      "\t performing min-max normalization...\n",
      "\t ratio of remaining records after dropping invalid values: 1.0\n",
      "\t dumped the data to file /Users/gfg/data/venture=Zalora/sg/clean/groups/ready/other_bags_unisex_na_2017.csv\n",
      "Group: business_&_dress_shoes_male_spring-summer\n",
      "\t file not found!\n",
      "Group: watches_unisex_spring-summer\n",
      "\t loading data from file /Users/gfg/data/venture=Zalora/sg/clean/groups/ready/watches_unisex_spring-summer_2017.csv\n",
      "# rows in res_df: 235\n",
      "\t performing min-max normalization...\n",
      "\t ratio of remaining records after dropping invalid values: 1.0\n",
      "\t dumped the data to file /Users/gfg/data/venture=Zalora/sg/clean/groups/ready/watches_unisex_spring-summer_2017.csv\n",
      "Group: briefs_male_spring-summer\n",
      "\t loading data from file /Users/gfg/data/venture=Zalora/sg/clean/groups/ready/briefs_male_spring-summer_2017.csv\n",
      "# rows in res_df: 76\n",
      "\t performing min-max normalization...\n",
      "\t ratio of remaining records after dropping invalid values: 1.0\n",
      "\t dumped the data to file /Users/gfg/data/venture=Zalora/sg/clean/groups/ready/briefs_male_spring-summer_2017.csv\n",
      "Group: hair_unisex_na\n",
      "\t loading data from file /Users/gfg/data/venture=Zalora/sg/clean/groups/ready/hair_unisex_na_2017.csv\n",
      "# rows in res_df: 729\n",
      "\t performing min-max normalization...\n",
      "\t ratio of remaining records after dropping invalid values: 1.0\n",
      "\t dumped the data to file /Users/gfg/data/venture=Zalora/sg/clean/groups/ready/hair_unisex_na_2017.csv\n",
      "Group: shirts_female_na\n",
      "\t loading data from file /Users/gfg/data/venture=Zalora/sg/clean/groups/ready/shirts_female_na_2017.csv\n",
      "# rows in res_df: 592\n",
      "\t performing min-max normalization...\n",
      "\t ratio of remaining records after dropping invalid values: 1.0\n",
      "\t dumped the data to file /Users/gfg/data/venture=Zalora/sg/clean/groups/ready/shirts_female_na_2017.csv\n",
      "Group: eyewear_unisex_na\n",
      "\t loading data from file /Users/gfg/data/venture=Zalora/sg/clean/groups/ready/eyewear_unisex_na_2017.csv\n",
      "# rows in res_df: 373\n",
      "\t performing min-max normalization...\n",
      "\t ratio of remaining records after dropping invalid values: 1.0\n",
      "\t dumped the data to file /Users/gfg/data/venture=Zalora/sg/clean/groups/ready/eyewear_unisex_na_2017.csv\n",
      "Group: sandals_&_flip_flops_male_spring-summer\n",
      "\t file not found!\n",
      "Group: swimwear_bottoms_female_spring-summer\n",
      "\t loading data from file /Users/gfg/data/venture=Zalora/sg/clean/groups/ready/swimwear_bottoms_female_spring-summer_2017.csv\n",
      "# rows in res_df: 103\n",
      "\t performing min-max normalization...\n",
      "\t ratio of remaining records after dropping invalid values: 1.0\n",
      "\t dumped the data to file /Users/gfg/data/venture=Zalora/sg/clean/groups/ready/swimwear_bottoms_female_spring-summer_2017.csv\n",
      "Group: sneakers_female_autumn-winter\n",
      "\t loading data from file /Users/gfg/data/venture=Zalora/sg/clean/groups/ready/sneakers_female_autumn-winter_2017.csv\n",
      "# rows in res_df: 717\n",
      "\t performing min-max normalization...\n",
      "\t ratio of remaining records after dropping invalid values: 1.0\n",
      "\t dumped the data to file /Users/gfg/data/venture=Zalora/sg/clean/groups/ready/sneakers_female_autumn-winter_2017.csv\n",
      "Group: backpacks_male_spring-summer\n",
      "\t loading data from file /Users/gfg/data/venture=Zalora/sg/clean/groups/ready/backpacks_male_spring-summer_2017.csv\n",
      "# rows in res_df: 405\n",
      "\t performing min-max normalization...\n",
      "\t ratio of remaining records after dropping invalid values: 1.0\n"
     ]
    },
    {
     "name": "stdout",
     "output_type": "stream",
     "text": [
      "\t dumped the data to file /Users/gfg/data/venture=Zalora/sg/clean/groups/ready/backpacks_male_spring-summer_2017.csv\n",
      "Group: watches_unisex_autumn-winter\n",
      "\t loading data from file /Users/gfg/data/venture=Zalora/sg/clean/groups/ready/watches_unisex_autumn-winter_2017.csv\n",
      "# rows in res_df: 173\n",
      "\t performing min-max normalization...\n",
      "\t ratio of remaining records after dropping invalid values: 1.0\n",
      "\t dumped the data to file /Users/gfg/data/venture=Zalora/sg/clean/groups/ready/watches_unisex_autumn-winter_2017.csv\n",
      "Group: sports_performance_tops_male_spring-summer\n",
      "\t loading data from file /Users/gfg/data/venture=Zalora/sg/clean/groups/ready/sports_performance_tops_male_spring-summer_2017.csv\n",
      "# rows in res_df: 75\n",
      "\t performing min-max normalization...\n",
      "\t ratio of remaining records after dropping invalid values: 1.0\n",
      "\t dumped the data to file /Users/gfg/data/venture=Zalora/sg/clean/groups/ready/sports_performance_tops_male_spring-summer_2017.csv\n",
      "Group: long_pants_male_autumn-winter\n",
      "\t loading data from file /Users/gfg/data/venture=Zalora/sg/clean/groups/ready/long_pants_male_autumn-winter_2017.csv\n",
      "# rows in res_df: 820\n",
      "\t performing min-max normalization...\n",
      "\t ratio of remaining records after dropping invalid values: 1.0\n",
      "\t dumped the data to file /Users/gfg/data/venture=Zalora/sg/clean/groups/ready/long_pants_male_autumn-winter_2017.csv\n",
      "Group: sports_performance_bottoms_male_spring-summer\n",
      "\t loading data from file /Users/gfg/data/venture=Zalora/sg/clean/groups/ready/sports_performance_bottoms_male_spring-summer_2017.csv\n",
      "# rows in res_df: 113\n",
      "\t performing min-max normalization...\n",
      "\t ratio of remaining records after dropping invalid values: 1.0\n",
      "\t dumped the data to file /Users/gfg/data/venture=Zalora/sg/clean/groups/ready/sports_performance_bottoms_male_spring-summer_2017.csv\n",
      "Group: wallets_&_purses_male_na\n",
      "\t file not found!\n",
      "Group: playsuits_&_jumpsuits_female_na\n",
      "\t file not found!\n",
      "Group: jackets_&_coats_female_spring-summer\n",
      "\t file not found!\n",
      "Group: shorts_female_na\n",
      "\t loading data from file /Users/gfg/data/venture=Zalora/sg/clean/groups/ready/shorts_female_na_2017.csv\n",
      "# rows in res_df: 220\n",
      "\t performing min-max normalization...\n",
      "\t ratio of remaining records after dropping invalid values: 1.0\n",
      "\t dumped the data to file /Users/gfg/data/venture=Zalora/sg/clean/groups/ready/shorts_female_na_2017.csv\n",
      "Group: other_shoes_male_na\n",
      "\t loading data from file /Users/gfg/data/venture=Zalora/sg/clean/groups/ready/other_shoes_male_na_2017.csv\n",
      "# rows in res_df: 64\n",
      "\t performing min-max normalization...\n",
      "\t ratio of remaining records after dropping invalid values: 1.0\n",
      "\t dumped the data to file /Users/gfg/data/venture=Zalora/sg/clean/groups/ready/other_shoes_male_na_2017.csv\n",
      "Group: long_pants_male_na\n",
      "\t loading data from file /Users/gfg/data/venture=Zalora/sg/clean/groups/ready/long_pants_male_na_2017.csv\n",
      "# rows in res_df: 103\n",
      "\t performing min-max normalization...\n",
      "\t ratio of remaining records after dropping invalid values: 1.0\n",
      "\t dumped the data to file /Users/gfg/data/venture=Zalora/sg/clean/groups/ready/long_pants_male_na_2017.csv\n",
      "Group: playsuits_&_jumpsuits_female_autumn-winter\n",
      "\t file not found!\n",
      "Group: face_serums_&_treatments_female_na\n",
      "\t file not found!\n",
      "Group: eyewear_male_year round\n",
      "\t file not found!\n",
      "Group: wallets_&_purses_male_autumn-winter\n",
      "\t file not found!\n",
      "Group: wedges_female_autumn-winter\n",
      "\t loading data from file /Users/gfg/data/venture=Zalora/sg/clean/groups/ready/wedges_female_autumn-winter_2017.csv\n",
      "# rows in res_df: 555\n",
      "\t performing min-max normalization...\n",
      "\t ratio of remaining records after dropping invalid values: 1.0\n",
      "\t dumped the data to file /Users/gfg/data/venture=Zalora/sg/clean/groups/ready/wedges_female_autumn-winter_2017.csv\n",
      "Group: backpacks_female_na\n",
      "\t loading data from file /Users/gfg/data/venture=Zalora/sg/clean/groups/ready/backpacks_female_na_2017.csv\n",
      "# rows in res_df: 347\n",
      "\t performing min-max normalization...\n",
      "\t ratio of remaining records after dropping invalid values: 1.0\n",
      "\t dumped the data to file /Users/gfg/data/venture=Zalora/sg/clean/groups/ready/backpacks_female_na_2017.csv\n",
      "Group: other_shoes_female_na\n",
      "\t loading data from file /Users/gfg/data/venture=Zalora/sg/clean/groups/ready/other_shoes_female_na_2017.csv\n",
      "# rows in res_df: 64\n",
      "\t performing min-max normalization...\n",
      "\t ratio of remaining records after dropping invalid values: 1.0\n",
      "\t dumped the data to file /Users/gfg/data/venture=Zalora/sg/clean/groups/ready/other_shoes_female_na_2017.csv\n",
      "Group: beauty_acc_&_tools_female_na\n",
      "\t file not found!\n",
      "Group: other_accessories_male_spring-summer\n",
      "\t loading data from file /Users/gfg/data/venture=Zalora/sg/clean/groups/ready/other_accessories_male_spring-summer_2017.csv\n",
      "# rows in res_df: 206\n",
      "\t performing min-max normalization...\n",
      "\t ratio of remaining records after dropping invalid values: 1.0\n",
      "\t dumped the data to file /Users/gfg/data/venture=Zalora/sg/clean/groups/ready/other_accessories_male_spring-summer_2017.csv\n",
      "Group: polo_shirts_male_autumn-winter\n",
      "\t loading data from file /Users/gfg/data/venture=Zalora/sg/clean/groups/ready/polo_shirts_male_autumn-winter_2017.csv\n",
      "# rows in res_df: 807\n",
      "\t performing min-max normalization...\n",
      "\t ratio of remaining records after dropping invalid values: 1.0\n",
      "\t dumped the data to file /Users/gfg/data/venture=Zalora/sg/clean/groups/ready/polo_shirts_male_autumn-winter_2017.csv\n",
      "Group: long_pants_female_autumn-winter\n",
      "\t loading data from file /Users/gfg/data/venture=Zalora/sg/clean/groups/ready/long_pants_female_autumn-winter_2017.csv\n",
      "# rows in res_df: 609\n",
      "\t performing min-max normalization...\n",
      "\t ratio of remaining records after dropping invalid values: 1.0\n",
      "\t dumped the data to file /Users/gfg/data/venture=Zalora/sg/clean/groups/ready/long_pants_female_autumn-winter_2017.csv\n",
      "Group: jackets_&_coats_female_autumn-winter\n",
      "\t file not found!\n",
      "Group: boots_female_spring-summer\n",
      "\t loading data from file /Users/gfg/data/venture=Zalora/sg/clean/groups/ready/boots_female_spring-summer_2017.csv\n",
      "# rows in res_df: 403\n",
      "\t performing min-max normalization...\n",
      "\t ratio of remaining records after dropping invalid values: 1.0\n",
      "\t dumped the data to file /Users/gfg/data/venture=Zalora/sg/clean/groups/ready/boots_female_spring-summer_2017.csv\n",
      "Group: swimwear_tops_female_autumn-winter\n",
      "\t loading data from file /Users/gfg/data/venture=Zalora/sg/clean/groups/ready/swimwear_tops_female_autumn-winter_2017.csv\n",
      "# rows in res_df: 350\n",
      "\t performing min-max normalization...\n",
      "\t ratio of remaining records after dropping invalid values: 1.0\n",
      "\t dumped the data to file /Users/gfg/data/venture=Zalora/sg/clean/groups/ready/swimwear_tops_female_autumn-winter_2017.csv\n",
      "Group: sports_lifestyle_tops_male_spring-summer\n",
      "\t loading data from file /Users/gfg/data/venture=Zalora/sg/clean/groups/ready/sports_lifestyle_tops_male_spring-summer_2017.csv\n",
      "# rows in res_df: 98\n",
      "\t performing min-max normalization...\n",
      "\t ratio of remaining records after dropping invalid values: 1.0\n",
      "\t dumped the data to file /Users/gfg/data/venture=Zalora/sg/clean/groups/ready/sports_lifestyle_tops_male_spring-summer_2017.csv\n",
      "Group: eyewear_female_na\n",
      "\t loading data from file /Users/gfg/data/venture=Zalora/sg/clean/groups/ready/eyewear_female_na_2017.csv\n",
      "# rows in res_df: 44\n",
      "\t performing min-max normalization...\n",
      "\t ratio of remaining records after dropping invalid values: 1.0\n",
      "\t dumped the data to file /Users/gfg/data/venture=Zalora/sg/clean/groups/ready/eyewear_female_na_2017.csv\n",
      "Group: sneakers_male_autumn-winter\n",
      "\t loading data from file /Users/gfg/data/venture=Zalora/sg/clean/groups/ready/sneakers_male_autumn-winter_2017.csv\n",
      "# rows in res_df: 398\n",
      "\t performing min-max normalization...\n",
      "\t ratio of remaining records after dropping invalid values: 1.0\n",
      "\t dumped the data to file /Users/gfg/data/venture=Zalora/sg/clean/groups/ready/sneakers_male_autumn-winter_2017.csv\n",
      "Group: jackets_&_coats_male_spring-summer\n",
      "\t file not found!\n",
      "Group: face_serums_&_treatments_unisex_na\n",
      "\t file not found!\n",
      "Group: polo_shirts_male_na\n",
      "\t loading data from file /Users/gfg/data/venture=Zalora/sg/clean/groups/ready/polo_shirts_male_na_2017.csv\n",
      "# rows in res_df: 64\n",
      "\t performing min-max normalization...\n",
      "\t ratio of remaining records after dropping invalid values: 1.0\n",
      "\t dumped the data to file /Users/gfg/data/venture=Zalora/sg/clean/groups/ready/polo_shirts_male_na_2017.csv\n",
      "Group: hoodies_&_sweatshirts_female_spring-summer\n",
      "\t file not found!\n",
      "Group: cardigans_&_knitwear_female_spring-summer\n",
      "\t file not found!\n",
      "Group: jeans_female_na\n",
      "\t loading data from file /Users/gfg/data/venture=Zalora/sg/clean/groups/ready/jeans_female_na_2017.csv\n",
      "# rows in res_df: 246\n",
      "\t performing min-max normalization...\n",
      "\t ratio of remaining records after dropping invalid values: 1.0\n",
      "\t dumped the data to file /Users/gfg/data/venture=Zalora/sg/clean/groups/ready/jeans_female_na_2017.csv\n",
      "Group: backpacks_unisex_year round\n",
      "\t file not found!\n",
      "Group: totes_female_autumn-winter\n",
      "\t loading data from file /Users/gfg/data/venture=Zalora/sg/clean/groups/ready/totes_female_autumn-winter_2017.csv\n"
     ]
    },
    {
     "name": "stdout",
     "output_type": "stream",
     "text": [
      "# rows in res_df: 1102\n",
      "\t performing min-max normalization...\n",
      "\t ratio of remaining records after dropping invalid values: 1.0\n",
      "\t dumped the data to file /Users/gfg/data/venture=Zalora/sg/clean/groups/ready/totes_female_autumn-winter_2017.csv\n",
      "Group: jeans_male_autumn-winter\n",
      "\t loading data from file /Users/gfg/data/venture=Zalora/sg/clean/groups/ready/jeans_male_autumn-winter_2017.csv\n",
      "# rows in res_df: 566\n",
      "\t performing min-max normalization...\n",
      "\t ratio of remaining records after dropping invalid values: 1.0\n",
      "\t dumped the data to file /Users/gfg/data/venture=Zalora/sg/clean/groups/ready/jeans_male_autumn-winter_2017.csv\n",
      "Group: belts_&_buckles_male_na\n",
      "\t file not found!\n",
      "Group: jewellery_male_na\n",
      "\t loading data from file /Users/gfg/data/venture=Zalora/sg/clean/groups/ready/jewellery_male_na_2017.csv\n",
      "# rows in res_df: 75\n",
      "\t performing min-max normalization...\n",
      "\t ratio of remaining records after dropping invalid values: 1.0\n",
      "\t dumped the data to file /Users/gfg/data/venture=Zalora/sg/clean/groups/ready/jewellery_male_na_2017.csv\n",
      "Group: sports_lifestyle_tops_female_spring-summer\n",
      "\t loading data from file /Users/gfg/data/venture=Zalora/sg/clean/groups/ready/sports_lifestyle_tops_female_spring-summer_2017.csv\n",
      "# rows in res_df: 188\n",
      "\t performing min-max normalization...\n",
      "\t ratio of remaining records after dropping invalid values: 1.0\n",
      "\t dumped the data to file /Users/gfg/data/venture=Zalora/sg/clean/groups/ready/sports_lifestyle_tops_female_spring-summer_2017.csv\n",
      "Group: loafers__moccasins_&_boat_shoes_female_spring-summer\n",
      "\t file not found!\n",
      "Group: eyewear_female_spring-summer\n",
      "\t loading data from file /Users/gfg/data/venture=Zalora/sg/clean/groups/ready/eyewear_female_spring-summer_2017.csv\n",
      "# rows in res_df: 242\n",
      "\t performing min-max normalization...\n",
      "\t ratio of remaining records after dropping invalid values: 1.0\n",
      "\t dumped the data to file /Users/gfg/data/venture=Zalora/sg/clean/groups/ready/eyewear_female_spring-summer_2017.csv\n",
      "Group: top-handles_female_autumn-winter\n",
      "\t loading data from file /Users/gfg/data/venture=Zalora/sg/clean/groups/ready/top-handles_female_autumn-winter_2017.csv\n",
      "# rows in res_df: 635\n",
      "\t performing min-max normalization...\n",
      "\t ratio of remaining records after dropping invalid values: 1.0\n",
      "\t dumped the data to file /Users/gfg/data/venture=Zalora/sg/clean/groups/ready/top-handles_female_autumn-winter_2017.csv\n",
      "Group: jackets_&_coats_male_autumn-winter\n",
      "\t file not found!\n",
      "Group: cardigans_&_knitwear_female_na\n",
      "\t file not found!\n",
      "Group: panties_female_autumn-winter\n",
      "\t loading data from file /Users/gfg/data/venture=Zalora/sg/clean/groups/ready/panties_female_autumn-winter_2017.csv\n",
      "# rows in res_df: 144\n",
      "\t performing min-max normalization...\n",
      "\t ratio of remaining records after dropping invalid values: 1.0\n",
      "\t dumped the data to file /Users/gfg/data/venture=Zalora/sg/clean/groups/ready/panties_female_autumn-winter_2017.csv\n",
      "Group: socks_male_na\n",
      "\t loading data from file /Users/gfg/data/venture=Zalora/sg/clean/groups/ready/socks_male_na_2017.csv\n",
      "# rows in res_df: 75\n",
      "\t performing min-max normalization...\n",
      "\t ratio of remaining records after dropping invalid values: 1.0\n",
      "\t dumped the data to file /Users/gfg/data/venture=Zalora/sg/clean/groups/ready/socks_male_na_2017.csv\n",
      "Group: hats_&_caps_unisex_na\n",
      "\t file not found!\n",
      "Group: backpacks_female_autumn-winter\n",
      "\t loading data from file /Users/gfg/data/venture=Zalora/sg/clean/groups/ready/backpacks_female_autumn-winter_2017.csv\n",
      "# rows in res_df: 721\n",
      "\t performing min-max normalization...\n",
      "\t ratio of remaining records after dropping invalid values: 1.0\n",
      "\t dumped the data to file /Users/gfg/data/venture=Zalora/sg/clean/groups/ready/backpacks_female_autumn-winter_2017.csv\n",
      "Group: traditional_bottoms_female_spring-summer\n",
      "\t loading data from file /Users/gfg/data/venture=Zalora/sg/clean/groups/ready/traditional_bottoms_female_spring-summer_2017.csv\n",
      "# rows in res_df: 156\n",
      "\t performing min-max normalization...\n",
      "\t ratio of remaining records after dropping invalid values: 1.0\n",
      "\t dumped the data to file /Users/gfg/data/venture=Zalora/sg/clean/groups/ready/traditional_bottoms_female_spring-summer_2017.csv\n",
      "Group: jackets_&_coats_female_na\n",
      "\t file not found!\n",
      "Group: sports_performance_shoes_male_spring-summer\n",
      "\t loading data from file /Users/gfg/data/venture=Zalora/sg/clean/groups/ready/sports_performance_shoes_male_spring-summer_2017.csv\n",
      "# rows in res_df: 48\n",
      "\t performing min-max normalization...\n",
      "\t ratio of remaining records after dropping invalid values: 1.0\n",
      "\t dumped the data to file /Users/gfg/data/venture=Zalora/sg/clean/groups/ready/sports_performance_shoes_male_spring-summer_2017.csv\n",
      "Group: shorts_male_na\n",
      "\t loading data from file /Users/gfg/data/venture=Zalora/sg/clean/groups/ready/shorts_male_na_2017.csv\n",
      "# rows in res_df: 252\n",
      "\t performing min-max normalization...\n",
      "\t ratio of remaining records after dropping invalid values: 1.0\n",
      "\t dumped the data to file /Users/gfg/data/venture=Zalora/sg/clean/groups/ready/shorts_male_na_2017.csv\n",
      "Group: beauty_acc_&_tools_female_year round\n",
      "\t file not found!\n",
      "Group: hats_&_caps_male_spring-summer\n",
      "\t file not found!\n",
      "Group: jeans_male_na\n",
      "\t loading data from file /Users/gfg/data/venture=Zalora/sg/clean/groups/ready/jeans_male_na_2017.csv\n",
      "# rows in res_df: 359\n",
      "\t performing min-max normalization...\n",
      "\t ratio of remaining records after dropping invalid values: 1.0\n",
      "\t dumped the data to file /Users/gfg/data/venture=Zalora/sg/clean/groups/ready/jeans_male_na_2017.csv\n",
      "Group: jewellery_female_autumn-winter\n",
      "\t loading data from file /Users/gfg/data/venture=Zalora/sg/clean/groups/ready/jewellery_female_autumn-winter_2017.csv\n",
      "# rows in res_df: 389\n",
      "\t performing min-max normalization...\n",
      "\t ratio of remaining records after dropping invalid values: 0.987146529562982\n",
      "\t dumped the data to file /Users/gfg/data/venture=Zalora/sg/clean/groups/ready/jewellery_female_autumn-winter_2017.csv\n",
      "Group: other_accessories_male_summer\n",
      "\t loading data from file /Users/gfg/data/venture=Zalora/sg/clean/groups/ready/other_accessories_male_summer_2017.csv\n",
      "# rows in res_df: 20\n",
      "\t performing min-max normalization...\n",
      "\t ratio of remaining records after dropping invalid values: 1.0\n",
      "\t dumped the data to file /Users/gfg/data/venture=Zalora/sg/clean/groups/ready/other_accessories_male_summer_2017.csv\n",
      "Group: watches_male_spring-summer\n",
      "\t loading data from file /Users/gfg/data/venture=Zalora/sg/clean/groups/ready/watches_male_spring-summer_2017.csv\n",
      "# rows in res_df: 40\n",
      "\t performing min-max normalization...\n",
      "\t ratio of remaining records after dropping invalid values: 1.0\n",
      "\t dumped the data to file /Users/gfg/data/venture=Zalora/sg/clean/groups/ready/watches_male_spring-summer_2017.csv\n",
      "Group: sports_performance_bottoms_female_autumn-winter\n",
      "\t loading data from file /Users/gfg/data/venture=Zalora/sg/clean/groups/ready/sports_performance_bottoms_female_autumn-winter_2017.csv\n",
      "# rows in res_df: 300\n",
      "\t performing min-max normalization...\n",
      "\t ratio of remaining records after dropping invalid values: 1.0\n",
      "\t dumped the data to file /Users/gfg/data/venture=Zalora/sg/clean/groups/ready/sports_performance_bottoms_female_autumn-winter_2017.csv\n",
      "Group: nightwear_&_sleepwear_female_na\n",
      "\t file not found!\n",
      "Group: smart_casual_shoes_male_spring-summer\n",
      "\t loading data from file /Users/gfg/data/venture=Zalora/sg/clean/groups/ready/smart_casual_shoes_male_spring-summer_2017.csv\n",
      "# rows in res_df: 146\n",
      "\t performing min-max normalization...\n",
      "\t ratio of remaining records after dropping invalid values: 1.0\n",
      "\t dumped the data to file /Users/gfg/data/venture=Zalora/sg/clean/groups/ready/smart_casual_shoes_male_spring-summer_2017.csv\n",
      "Group: cleansers_&_toners_female_na\n",
      "\t file not found!\n",
      "Group: sports_performance_tops_female_na\n",
      "\t loading data from file /Users/gfg/data/venture=Zalora/sg/clean/groups/ready/sports_performance_tops_female_na_2017.csv\n",
      "# rows in res_df: 6\n",
      "\t performing min-max normalization...\n",
      "\t ratio of remaining records after dropping invalid values: 1.0\n",
      "\t dumped the data to file /Users/gfg/data/venture=Zalora/sg/clean/groups/ready/sports_performance_tops_female_na_2017.csv\n",
      "Group: loafers__moccasins_&_boat_shoes_male_autumn-winter\n",
      "\t file not found!\n",
      "Group: leggings_&_tights_female_spring-summer\n",
      "\t file not found!\n",
      "Group: wallets_&_purses_unisex_spring-summer\n",
      "\t file not found!\n",
      "Group: bra_female_autumn-winter\n",
      "\t loading data from file /Users/gfg/data/venture=Zalora/sg/clean/groups/ready/bra_female_autumn-winter_2017.csv\n",
      "# rows in res_df: 97\n",
      "\t performing min-max normalization...\n",
      "\t ratio of remaining records after dropping invalid values: 1.0\n",
      "\t dumped the data to file /Users/gfg/data/venture=Zalora/sg/clean/groups/ready/bra_female_autumn-winter_2017.csv\n",
      "Group: wallets_&_purses_female_autumn-winter\n",
      "\t file not found!\n",
      "Group: sports_lifestyle_shoes_male_autumn-winter\n",
      "\t loading data from file /Users/gfg/data/venture=Zalora/sg/clean/groups/ready/sports_lifestyle_shoes_male_autumn-winter_2017.csv\n",
      "# rows in res_df: 462\n",
      "\t performing min-max normalization...\n",
      "\t ratio of remaining records after dropping invalid values: 1.0\n"
     ]
    },
    {
     "name": "stdout",
     "output_type": "stream",
     "text": [
      "\t dumped the data to file /Users/gfg/data/venture=Zalora/sg/clean/groups/ready/sports_lifestyle_shoes_male_autumn-winter_2017.csv\n",
      "Group: traditional_tops_male_spring-summer\n",
      "\t loading data from file /Users/gfg/data/venture=Zalora/sg/clean/groups/ready/traditional_tops_male_spring-summer_2017.csv\n",
      "# rows in res_df: 668\n",
      "\t performing min-max normalization...\n",
      "\t ratio of remaining records after dropping invalid values: 1.0\n",
      "\t dumped the data to file /Users/gfg/data/venture=Zalora/sg/clean/groups/ready/traditional_tops_male_spring-summer_2017.csv\n",
      "Group: suits_male_spring-summer\n",
      "\t loading data from file /Users/gfg/data/venture=Zalora/sg/clean/groups/ready/suits_male_spring-summer_2017.csv\n",
      "# rows in res_df: 107\n",
      "\t performing min-max normalization...\n",
      "\t ratio of remaining records after dropping invalid values: 1.0\n",
      "\t dumped the data to file /Users/gfg/data/venture=Zalora/sg/clean/groups/ready/suits_male_spring-summer_2017.csv\n",
      "Group: face_moisturisers_unisex_na\n",
      "\t loading data from file /Users/gfg/data/venture=Zalora/sg/clean/groups/ready/face_moisturisers_unisex_na_2017.csv\n",
      "# rows in res_df: 99\n",
      "\t performing min-max normalization...\n",
      "\t ratio of remaining records after dropping invalid values: 1.0\n",
      "\t dumped the data to file /Users/gfg/data/venture=Zalora/sg/clean/groups/ready/face_moisturisers_unisex_na_2017.csv\n",
      "Group: sports_performance_tops_female_autumn-winter\n",
      "\t loading data from file /Users/gfg/data/venture=Zalora/sg/clean/groups/ready/sports_performance_tops_female_autumn-winter_2017.csv\n",
      "# rows in res_df: 359\n",
      "\t performing min-max normalization...\n",
      "\t ratio of remaining records after dropping invalid values: 1.0\n",
      "\t dumped the data to file /Users/gfg/data/venture=Zalora/sg/clean/groups/ready/sports_performance_tops_female_autumn-winter_2017.csv\n",
      "Group: t-shirts_male_summer\n",
      "\t loading data from file /Users/gfg/data/venture=Zalora/sg/clean/groups/ready/t-shirts_male_summer_2017.csv\n",
      "# rows in res_df: 24\n",
      "\t performing min-max normalization...\n",
      "\t ratio of remaining records after dropping invalid values: 1.0\n",
      "\t dumped the data to file /Users/gfg/data/venture=Zalora/sg/clean/groups/ready/t-shirts_male_summer_2017.csv\n",
      "Group: jewellery_female_winter\n",
      "\t loading data from file /Users/gfg/data/venture=Zalora/sg/clean/groups/ready/jewellery_female_winter_2017.csv\n",
      "# rows in res_df: 201\n",
      "\t performing min-max normalization...\n",
      "\t ratio of remaining records after dropping invalid values: 1.0\n",
      "\t dumped the data to file /Users/gfg/data/venture=Zalora/sg/clean/groups/ready/jewellery_female_winter_2017.csv\n",
      "Group: shoulder_bags_female_autumn-winter\n",
      "\t loading data from file /Users/gfg/data/venture=Zalora/sg/clean/groups/ready/shoulder_bags_female_autumn-winter_2017.csv\n",
      "# rows in res_df: 530\n",
      "\t performing min-max normalization...\n",
      "\t ratio of remaining records after dropping invalid values: 1.0\n",
      "\t dumped the data to file /Users/gfg/data/venture=Zalora/sg/clean/groups/ready/shoulder_bags_female_autumn-winter_2017.csv\n",
      "Group: loafers__moccasins_&_boat_shoes_male_na\n",
      "\t file not found!\n",
      "Group: hoodies_&_sweatshirts_female_autumn-winter\n",
      "\t file not found!\n",
      "Group: sports_performance_tops_male_autumn-winter\n",
      "\t loading data from file /Users/gfg/data/venture=Zalora/sg/clean/groups/ready/sports_performance_tops_male_autumn-winter_2017.csv\n",
      "# rows in res_df: 340\n",
      "\t performing min-max normalization...\n",
      "\t ratio of remaining records after dropping invalid values: 1.0\n",
      "\t dumped the data to file /Users/gfg/data/venture=Zalora/sg/clean/groups/ready/sports_performance_tops_male_autumn-winter_2017.csv\n",
      "Group: slip_ons_&_espadrilles_male_spring-summer\n",
      "\t file not found!\n",
      "Group: jeans_female_autumn-winter\n",
      "\t loading data from file /Users/gfg/data/venture=Zalora/sg/clean/groups/ready/jeans_female_autumn-winter_2017.csv\n",
      "# rows in res_df: 670\n",
      "\t performing min-max normalization...\n",
      "\t ratio of remaining records after dropping invalid values: 1.0\n",
      "\t dumped the data to file /Users/gfg/data/venture=Zalora/sg/clean/groups/ready/jeans_female_autumn-winter_2017.csv\n",
      "Group: shorts_female_autumn-winter\n",
      "\t loading data from file /Users/gfg/data/venture=Zalora/sg/clean/groups/ready/shorts_female_autumn-winter_2017.csv\n",
      "# rows in res_df: 489\n",
      "\t performing min-max normalization...\n",
      "\t ratio of remaining records after dropping invalid values: 1.0\n",
      "\t dumped the data to file /Users/gfg/data/venture=Zalora/sg/clean/groups/ready/shorts_female_autumn-winter_2017.csv\n",
      "Group: hoodies_&_sweatshirts_female_na\n",
      "\t file not found!\n",
      "Group: cleansers_&_toners_unisex_na\n",
      "\t file not found!\n",
      "Group: sports_bra_female_spring-summer\n",
      "\t loading data from file /Users/gfg/data/venture=Zalora/sg/clean/groups/ready/sports_bra_female_spring-summer_2017.csv\n",
      "# rows in res_df: 49\n",
      "\t performing min-max normalization...\n",
      "\t ratio of remaining records after dropping invalid values: 1.0\n",
      "\t dumped the data to file /Users/gfg/data/venture=Zalora/sg/clean/groups/ready/sports_bra_female_spring-summer_2017.csv\n",
      "Group: sneakers_male_na\n",
      "\t loading data from file /Users/gfg/data/venture=Zalora/sg/clean/groups/ready/sneakers_male_na_2017.csv\n",
      "# rows in res_df: 29\n",
      "\t performing min-max normalization...\n",
      "\t ratio of remaining records after dropping invalid values: 1.0\n",
      "\t dumped the data to file /Users/gfg/data/venture=Zalora/sg/clean/groups/ready/sneakers_male_na_2017.csv\n",
      "Group: dresses_female_summer\n",
      "\t loading data from file /Users/gfg/data/venture=Zalora/sg/clean/groups/ready/dresses_female_summer_2017.csv\n",
      "# rows in res_df: 272\n",
      "\t performing min-max normalization...\n",
      "\t ratio of remaining records after dropping invalid values: 1.0\n",
      "\t dumped the data to file /Users/gfg/data/venture=Zalora/sg/clean/groups/ready/dresses_female_summer_2017.csv\n",
      "Group: hair_female_na\n",
      "\t loading data from file /Users/gfg/data/venture=Zalora/sg/clean/groups/ready/hair_female_na_2017.csv\n",
      "# rows in res_df: 75\n",
      "\t performing min-max normalization...\n",
      "\t ratio of remaining records after dropping invalid values: 1.0\n",
      "\t dumped the data to file /Users/gfg/data/venture=Zalora/sg/clean/groups/ready/hair_female_na_2017.csv\n",
      "Group: sports_performance_bottoms_male_autumn-winter\n",
      "\t loading data from file /Users/gfg/data/venture=Zalora/sg/clean/groups/ready/sports_performance_bottoms_male_autumn-winter_2017.csv\n",
      "# rows in res_df: 420\n",
      "\t performing min-max normalization...\n",
      "\t ratio of remaining records after dropping invalid values: 1.0\n",
      "\t dumped the data to file /Users/gfg/data/venture=Zalora/sg/clean/groups/ready/sports_performance_bottoms_male_autumn-winter_2017.csv\n",
      "Group: swimwear_bottoms_female_autumn-winter\n",
      "\t loading data from file /Users/gfg/data/venture=Zalora/sg/clean/groups/ready/swimwear_bottoms_female_autumn-winter_2017.csv\n",
      "# rows in res_df: 88\n",
      "\t performing min-max normalization...\n",
      "\t ratio of remaining records after dropping invalid values: 1.0\n",
      "\t dumped the data to file /Users/gfg/data/venture=Zalora/sg/clean/groups/ready/swimwear_bottoms_female_autumn-winter_2017.csv\n",
      "Group: slip_ons_&_espadrilles_female_autumn-winter\n",
      "\t file not found!\n",
      "Group: sports_bra_female_autumn-winter\n",
      "\t loading data from file /Users/gfg/data/venture=Zalora/sg/clean/groups/ready/sports_bra_female_autumn-winter_2017.csv\n",
      "# rows in res_df: 170\n",
      "\t performing min-max normalization...\n",
      "\t ratio of remaining records after dropping invalid values: 1.0\n",
      "\t dumped the data to file /Users/gfg/data/venture=Zalora/sg/clean/groups/ready/sports_bra_female_autumn-winter_2017.csv\n",
      "Group: cardigans_&_knitwear_male_autumn-winter\n",
      "\t file not found!\n",
      "Group: sports_performance_shoes_female_spring-summer\n",
      "\t loading data from file /Users/gfg/data/venture=Zalora/sg/clean/groups/ready/sports_performance_shoes_female_spring-summer_2017.csv\n",
      "# rows in res_df: 15\n",
      "\t performing min-max normalization...\n",
      "\t ratio of remaining records after dropping invalid values: 1.0\n",
      "\t dumped the data to file /Users/gfg/data/venture=Zalora/sg/clean/groups/ready/sports_performance_shoes_female_spring-summer_2017.csv\n",
      "Group: sports_lifestyle_tops_male_autumn-winter\n",
      "\t loading data from file /Users/gfg/data/venture=Zalora/sg/clean/groups/ready/sports_lifestyle_tops_male_autumn-winter_2017.csv\n",
      "# rows in res_df: 146\n",
      "\t performing min-max normalization...\n",
      "\t ratio of remaining records after dropping invalid values: 1.0\n",
      "\t dumped the data to file /Users/gfg/data/venture=Zalora/sg/clean/groups/ready/sports_lifestyle_tops_male_autumn-winter_2017.csv\n",
      "Group: fashion_bags_male_autumn-winter\n",
      "\t loading data from file /Users/gfg/data/venture=Zalora/sg/clean/groups/ready/fashion_bags_male_autumn-winter_2017.csv\n",
      "# rows in res_df: 160\n",
      "\t performing min-max normalization...\n",
      "\t ratio of remaining records after dropping invalid values: 1.0\n",
      "\t dumped the data to file /Users/gfg/data/venture=Zalora/sg/clean/groups/ready/fashion_bags_male_autumn-winter_2017.csv\n",
      "Group: sports_performance_tops_male_na\n",
      "\t loading data from file /Users/gfg/data/venture=Zalora/sg/clean/groups/ready/sports_performance_tops_male_na_2017.csv\n",
      "# rows in res_df: 3\n",
      "\t performing min-max normalization...\n",
      "\t ratio of remaining records after dropping invalid values: 1.0\n",
      "\t dumped the data to file /Users/gfg/data/venture=Zalora/sg/clean/groups/ready/sports_performance_tops_male_na_2017.csv\n",
      "Group: swimwear_&_beachwear_female_na\n",
      "\t file not found!\n",
      "Group: tudung_&_head_scarves_female_autumn-winter\n",
      "\t file not found!\n",
      "Group: sports_lifestyle_shoes_male_spring-summer\n",
      "\t loading data from file /Users/gfg/data/venture=Zalora/sg/clean/groups/ready/sports_lifestyle_shoes_male_spring-summer_2017.csv\n",
      "# rows in res_df: 150\n",
      "\t performing min-max normalization...\n",
      "\t ratio of remaining records after dropping invalid values: 1.0\n",
      "\t dumped the data to file /Users/gfg/data/venture=Zalora/sg/clean/groups/ready/sports_lifestyle_shoes_male_spring-summer_2017.csv\n",
      "Group: sports_performance_accessories_unisex_spring-summer\n",
      "\t loading data from file /Users/gfg/data/venture=Zalora/sg/clean/groups/ready/sports_performance_accessories_unisex_spring-summer_2017.csv\n",
      "# rows in res_df: 127\n",
      "\t performing min-max normalization...\n",
      "\t ratio of remaining records after dropping invalid values: 1.0\n"
     ]
    },
    {
     "name": "stdout",
     "output_type": "stream",
     "text": [
      "\t dumped the data to file /Users/gfg/data/venture=Zalora/sg/clean/groups/ready/sports_performance_accessories_unisex_spring-summer_2017.csv\n",
      "Group: face_moisturisers_female_na\n",
      "\t loading data from file /Users/gfg/data/venture=Zalora/sg/clean/groups/ready/face_moisturisers_female_na_2017.csv\n",
      "# rows in res_df: 78\n",
      "\t performing min-max normalization...\n",
      "\t ratio of remaining records after dropping invalid values: 1.0\n",
      "\t dumped the data to file /Users/gfg/data/venture=Zalora/sg/clean/groups/ready/face_moisturisers_female_na_2017.csv\n",
      "Group: fashion_bags_unisex_spring-summer\n",
      "\t loading data from file /Users/gfg/data/venture=Zalora/sg/clean/groups/ready/fashion_bags_unisex_spring-summer_2017.csv\n",
      "# rows in res_df: 39\n",
      "\t performing min-max normalization...\n",
      "\t ratio of remaining records after dropping invalid values: 1.0\n",
      "\t dumped the data to file /Users/gfg/data/venture=Zalora/sg/clean/groups/ready/fashion_bags_unisex_spring-summer_2017.csv\n",
      "Group: loafers__moccasins_&_boat_shoes_female_na\n",
      "\t file not found!\n",
      "Group: face_serums_&_treatments_female_year round\n",
      "\t file not found!\n",
      "Group: traditional_bottoms_female_autumn-winter\n",
      "\t loading data from file /Users/gfg/data/venture=Zalora/sg/clean/groups/ready/traditional_bottoms_female_autumn-winter_2017.csv\n",
      "# rows in res_df: 154\n",
      "\t performing min-max normalization...\n",
      "\t ratio of remaining records after dropping invalid values: 1.0\n",
      "\t dumped the data to file /Users/gfg/data/venture=Zalora/sg/clean/groups/ready/traditional_bottoms_female_autumn-winter_2017.csv\n",
      "Group: face_moisturisers_male_na\n",
      "\t loading data from file /Users/gfg/data/venture=Zalora/sg/clean/groups/ready/face_moisturisers_male_na_2017.csv\n",
      "# rows in res_df: 58\n",
      "\t performing min-max normalization...\n",
      "\t ratio of remaining records after dropping invalid values: 1.0\n",
      "\t dumped the data to file /Users/gfg/data/venture=Zalora/sg/clean/groups/ready/face_moisturisers_male_na_2017.csv\n",
      "Group: technology_accessories_female_na\n",
      "\t loading data from file /Users/gfg/data/venture=Zalora/sg/clean/groups/ready/technology_accessories_female_na_2017.csv\n",
      "# rows in res_df: 57\n",
      "\t performing min-max normalization...\n",
      "\t ratio of remaining records after dropping invalid values: 1.0\n",
      "\t dumped the data to file /Users/gfg/data/venture=Zalora/sg/clean/groups/ready/technology_accessories_female_na_2017.csv\n",
      "Group: business_&_dress_shoes_male_year round\n",
      "\t file not found!\n",
      "Group: watches_unisex_spring\n",
      "\t loading data from file /Users/gfg/data/venture=Zalora/sg/clean/groups/ready/watches_unisex_spring_2017.csv\n",
      "# rows in res_df: 59\n",
      "\t performing min-max normalization...\n",
      "\t ratio of remaining records after dropping invalid values: 1.0\n",
      "\t dumped the data to file /Users/gfg/data/venture=Zalora/sg/clean/groups/ready/watches_unisex_spring_2017.csv\n",
      "Group: other_bags_unisex_spring-summer\n",
      "\t loading data from file /Users/gfg/data/venture=Zalora/sg/clean/groups/ready/other_bags_unisex_spring-summer_2017.csv\n",
      "# rows in res_df: 69\n",
      "\t performing min-max normalization...\n",
      "\t ratio of remaining records after dropping invalid values: 1.0\n",
      "\t dumped the data to file /Users/gfg/data/venture=Zalora/sg/clean/groups/ready/other_bags_unisex_spring-summer_2017.csv\n",
      "Group: hair_female_year round\n",
      "\t file not found!\n",
      "Group: sports_performance_backpacks_unisex_year round\n",
      "\t file not found!\n",
      "Group: boots_male_spring-summer\n",
      "\t loading data from file /Users/gfg/data/venture=Zalora/sg/clean/groups/ready/boots_male_spring-summer_2017.csv\n",
      "# rows in res_df: 113\n",
      "\t performing min-max normalization...\n",
      "\t ratio of remaining records after dropping invalid values: 1.0\n",
      "\t dumped the data to file /Users/gfg/data/venture=Zalora/sg/clean/groups/ready/boots_male_spring-summer_2017.csv\n",
      "Group: wallets_&_purses_female_year round\n",
      "\t file not found!\n",
      "Group: technology_accessories_unisex_na\n",
      "\t loading data from file /Users/gfg/data/venture=Zalora/sg/clean/groups/ready/technology_accessories_unisex_na_2017.csv\n",
      "# rows in res_df: 12\n",
      "\t performing min-max normalization...\n",
      "\t ratio of remaining records after dropping invalid values: 1.0\n",
      "\t dumped the data to file /Users/gfg/data/venture=Zalora/sg/clean/groups/ready/technology_accessories_unisex_na_2017.csv\n",
      "Group: hair_male_na\n",
      "\t loading data from file /Users/gfg/data/venture=Zalora/sg/clean/groups/ready/hair_male_na_2017.csv\n",
      "# rows in res_df: 174\n",
      "\t performing min-max normalization...\n",
      "\t ratio of remaining records after dropping invalid values: 1.0\n",
      "\t dumped the data to file /Users/gfg/data/venture=Zalora/sg/clean/groups/ready/hair_male_na_2017.csv\n",
      "Group: sports_lifestyle_accessories_unisex_spring-summer\n",
      "\t loading data from file /Users/gfg/data/venture=Zalora/sg/clean/groups/ready/sports_lifestyle_accessories_unisex_spring-summer_2017.csv\n",
      "# rows in res_df: 15\n",
      "\t performing min-max normalization...\n",
      "\t ratio of remaining records after dropping invalid values: 1.0\n",
      "\t dumped the data to file /Users/gfg/data/venture=Zalora/sg/clean/groups/ready/sports_lifestyle_accessories_unisex_spring-summer_2017.csv\n",
      "Group: cardigans_&_knitwear_female_autumn-winter\n",
      "\t file not found!\n",
      "Group: other_bags_male_na\n",
      "\t loading data from file /Users/gfg/data/venture=Zalora/sg/clean/groups/ready/other_bags_male_na_2017.csv\n",
      "# rows in res_df: 52\n",
      "\t performing min-max normalization...\n",
      "\t ratio of remaining records after dropping invalid values: 1.0\n",
      "\t dumped the data to file /Users/gfg/data/venture=Zalora/sg/clean/groups/ready/other_bags_male_na_2017.csv\n",
      "Group: boots_female_na\n",
      "\t loading data from file /Users/gfg/data/venture=Zalora/sg/clean/groups/ready/boots_female_na_2017.csv\n",
      "# rows in res_df: 36\n",
      "\t performing min-max normalization...\n",
      "\t ratio of remaining records after dropping invalid values: 1.0\n",
      "\t dumped the data to file /Users/gfg/data/venture=Zalora/sg/clean/groups/ready/boots_female_na_2017.csv\n",
      "Group: heels_female_year round\n",
      "\t file not found!\n",
      "Group: socks_male_spring-summer\n",
      "\t loading data from file /Users/gfg/data/venture=Zalora/sg/clean/groups/ready/socks_male_spring-summer_2017.csv\n",
      "# rows in res_df: 93\n",
      "\t performing min-max normalization...\n",
      "\t ratio of remaining records after dropping invalid values: 1.0\n",
      "\t dumped the data to file /Users/gfg/data/venture=Zalora/sg/clean/groups/ready/socks_male_spring-summer_2017.csv\n",
      "Group: fashion_bags_female_year round\n",
      "\t file not found!\n",
      "Group: sports_lifestyle_shoes_male_summer\n",
      "\t loading data from file /Users/gfg/data/venture=Zalora/sg/clean/groups/ready/sports_lifestyle_shoes_male_summer_2017.csv\n",
      "# rows in res_df: 183\n",
      "\t performing min-max normalization...\n",
      "\t ratio of remaining records after dropping invalid values: 1.0\n",
      "\t dumped the data to file /Users/gfg/data/venture=Zalora/sg/clean/groups/ready/sports_lifestyle_shoes_male_summer_2017.csv\n",
      "Group: watches_male_autumn-winter\n",
      "\t loading data from file /Users/gfg/data/venture=Zalora/sg/clean/groups/ready/watches_male_autumn-winter_2017.csv\n",
      "# rows in res_df: 915\n",
      "\t performing min-max normalization...\n",
      "\t ratio of remaining records after dropping invalid values: 1.0\n",
      "\t dumped the data to file /Users/gfg/data/venture=Zalora/sg/clean/groups/ready/watches_male_autumn-winter_2017.csv\n",
      "Group: belts_&_buckles_male_autumn-winter\n",
      "\t file not found!\n",
      "Group: slip_ons_&_espadrilles_male_autumn-winter\n",
      "\t file not found!\n",
      "Group: business_&_dress_shoes_male_autumn-winter\n",
      "\t file not found!\n",
      "Group: traditional_dresses_male_spring-summer\n",
      "\t file not found!\n",
      "Group: jackets_&_coats_male_na\n",
      "\t file not found!\n",
      "Group: loafers__moccasins_&_boat_shoes_female_autumn-winter\n",
      "\t file not found!\n",
      "Group: dresses_female_year round\n",
      "\t file not found!\n",
      "Group: shirts_male_summer\n",
      "\t file not found!\n",
      "Group: t-shirts_male_spring\n",
      "\t file not found!\n",
      "Group: sports_lifestyle_shoes_male_spring\n",
      "\t file not found!\n",
      "Group: other_beauty_male_na\n",
      "\t file not found!\n",
      "Group: traditional_tops_male_autumn-winter\n",
      "\t file not found!\n",
      "Group: na_female_na\n",
      "\t file not found!\n",
      "Group: t-shirts_unisex_spring-summer\n",
      "\t file not found!\n",
      "Group: bath_&_body_female_na\n",
      "\t file not found!\n",
      "Group: tops_female_year round\n",
      "\t file not found!\n",
      "Group: sports_lifestyle_shoes_unisex_autumn-winter\n",
      "\t file not found!\n",
      "Group: sandals_&_flip_flops_female_year round\n",
      "\t file not found!\n",
      "Group: backpacks_male_autumn-winter\n",
      "\t file not found!\n",
      "Group: hoodies_&_sweatshirts_male_na\n",
      "\t file not found!\n",
      "Group: swimwear_&_beachwear_male_spring-summer\n",
      "\t file not found!\n",
      "Group: sports_performance_shoes_female_autumn-winter\n",
      "\t file not found!\n",
      "Group: backpacks_unisex_autumn-winter\n",
      "\t file not found!\n",
      "Group: wallets_&_purses_female_spring\n",
      "\t file not found!\n",
      "Group: sports_lifestyle_shoes_unisex_spring-summer\n",
      "\t file not found!\n",
      "Group: nightwear_&_sleepwear_female_autumn-winter\n",
      "\t file not found!\n",
      "Group: backpacks_female_year round\n",
      "\t file not found!\n",
      "Group: sports_performance_shoes_male_spring\n",
      "\t file not found!\n",
      "Group: hats_&_caps_male_autumn-winter\n",
      "\t file not found!\n",
      "Group: travel_bags_&_luggage_unisex_year round\n",
      "\t file not found!\n",
      "Group: hats_&_caps_male_na\n",
      "\t file not found!\n",
      "Group: ballerina_&_flats_female_year round\n",
      "\t file not found!\n",
      "Group: sports_performance_tops_female_summer\n",
      "\t file not found!\n",
      "Group: sports_performance_bottoms_female_summer\n",
      "\t file not found!\n",
      "Group: swimwear_tops_female_summer\n",
      "\t file not found!\n",
      "Group: bath_&_body_unisex_na\n",
      "\t file not found!\n",
      "Group: cardigans_&_knitwear_male_spring-summer\n",
      "\t file not found!\n",
      "Group: backpacks_male_na\n",
      "\t file not found!\n",
      "Group: sports_performance_bottoms_female_na\n",
      "\t file not found!\n",
      "Group: sneakers_unisex_year round\n",
      "\t file not found!\n",
      "Group: watches_female_spring\n",
      "\t file not found!\n",
      "Group: sports_performance_shoes_male_na\n",
      "\t file not found!\n",
      "Group: wallets_&_purses_unisex_autumn-winter\n",
      "\t file not found!\n",
      "Group: boots_male_autumn-winter\n",
      "\t file not found!\n",
      "Group: sports_performance_shoes_male_autumn-winter\n",
      "\t file not found!\n",
      "Group: jewellery_female_spring\n",
      "\t file not found!\n",
      "Group: bra_female_year round\n",
      "\t file not found!\n",
      "Group: other_accessories_female_spring-summer\n",
      "\t file not found!\n",
      "Group: sports_performance_shoes_male_summer\n",
      "\t file not found!\n",
      "Group: na_unisex_na\n",
      "\t file not found!\n",
      "Group: other_bags_male_autumn-winter\n",
      "\t file not found!\n",
      "Group: sports_lifestyle_tops_female_autumn-winter\n",
      "\t file not found!\n",
      "Group: sports_performance_bottoms_male_year round\n",
      "\t file not found!\n",
      "Group: sandals_&_flip_flops_male_autumn-winter\n",
      "\t file not found!\n",
      "Group: wallets_&_purses_unisex_na\n",
      "\t file not found!\n",
      "Group: other_accessories_unisex_spring-summer\n",
      "\t file not found!\n",
      "Group: sports_performance_shoes_male_autumn\n",
      "\t file not found!\n",
      "Group: sports_performance_shoes_female_summer\n",
      "\t file not found!\n",
      "Group: sports_lifestyle_bags_unisex_spring-summer\n",
      "\t file not found!\n",
      "Group: other_bags_female_spring-summer\n",
      "\t file not found!\n",
      "Group: nightwear_&_sleepwear_female_year round\n",
      "\t file not found!\n",
      "Group: polo_shirts_male_summer\n",
      "\t file not found!\n",
      "Group: eyewear_male_autumn-winter\n",
      "\t file not found!\n",
      "Group: swimwear_tops_female_year round\n",
      "\t file not found!\n",
      "Group: sports_performance_accessories_unisex_na\n",
      "\t file not found!\n",
      "Group: underwear_female_spring-summer\n",
      "\t file not found!\n",
      "Group: fragrances_female_na\n",
      "\t file not found!\n",
      "Group: sports_lifestyle_shoes_female_summer\n",
      "\t file not found!\n",
      "Group: sling_bags_female_spring\n",
      "\t file not found!\n",
      "Group: sports_lifestyle_shoes_female_spring\n",
      "\t file not found!\n",
      "Group: leggings_&_tights_female_na\n",
      "\t file not found!\n",
      "Group: sports_performance_shoes_female_spring\n",
      "\t file not found!\n",
      "Group: smart_casual_shoes_male_autumn-winter\n",
      "\t file not found!\n",
      "Group: heels_female_spring\n",
      "\t file not found!\n",
      "Group: sports_performance_accessories_unisex_year round\n",
      "\t file not found!\n",
      "Group: sandals_&_flip_flops_unisex_spring-summer\n",
      "\t file not found!\n",
      "Group: other_bags_male_spring-summer\n",
      "\t file not found!\n",
      "Group: sports_lifestyle_backpacks_unisex_spring-summer\n",
      "\t file not found!\n",
      "Group: other_bags_female_autumn-winter\n",
      "\t file not found!\n",
      "Group: sports_lifestyle_bottoms_female_summer\n",
      "\t file not found!\n",
      "Group: sports_lifestyle_shoes_female_spring-summer\n",
      "\t file not found!\n",
      "Group: sports_performance_tops_male_year round\n",
      "\t file not found!\n",
      "Group: eyewear_male_na\n",
      "\t file not found!\n",
      "Group: suits_male_autumn-winter\n",
      "\t file not found!\n",
      "Group: sports_lifestyle_bottoms_male_spring-summer\n",
      "\t file not found!\n",
      "Group: sports_swimwear_female_spring-summer\n",
      "\t file not found!\n",
      "Group: hats_&_caps_female_spring-summer\n",
      "\t file not found!\n",
      "Group: sneakers_unisex_spring-summer\n",
      "\t file not found!\n",
      "Group: watches_female_summer\n",
      "\t file not found!\n",
      "Group: wedges_female_spring\n",
      "\t file not found!\n",
      "Group: socks_unisex_spring-summer\n",
      "\t file not found!\n",
      "Group: sports_performance_tops_male_summer\n",
      "\t file not found!\n",
      "Group: sports_lifestyle_bottoms_female_spring-summer\n",
      "\t file not found!\n",
      "Group: sports_lifestyle_bottoms_female_autumn-winter\n",
      "\t file not found!\n",
      "Group: sports_performance_shoes_female_autumn\n",
      "\t file not found!\n",
      "Group: cleansers_&_toners_male_na\n",
      "\t file not found!\n",
      "Group: leggings_&_tights_female_autumn-winter\n",
      "\t file not found!\n",
      "Group: sports_lifestyle_tops_male_spring\n",
      "\t file not found!\n",
      "Group: na_male_na\n",
      "\t file not found!\n",
      "Group: other_accessories_female_autumn-winter\n",
      "\t file not found!\n",
      "Group: suits_male_na\n",
      "\t file not found!\n",
      "Group: suits_female_spring-summer\n",
      "\t file not found!\n",
      "Group: sports_performance_bottoms_female_year round\n",
      "\t file not found!\n",
      "Group: fashion_bags_unisex_autumn-winter\n",
      "\t file not found!\n",
      "Group: beauty_acc_&_tools_unisex_na\n",
      "\t file not found!\n",
      "Group: technology_accessories_female_autumn-winter\n",
      "\t file not found!\n",
      "Group: sports_lifestyle_accessories_female_spring-summer\n",
      "\t file not found!\n",
      "Group: sneakers_unisex_autumn-winter\n",
      "\t file not found!\n",
      "Group: hats_&_caps_male_spring\n",
      "\t file not found!\n",
      "Group: sports_lifestyle_shoes_female_autumn-winter\n",
      "\t file not found!\n",
      "Group: socks_unisex_na\n",
      "\t file not found!\n",
      "Group: business_&_dress_shoes_male_na\n",
      "\t file not found!\n",
      "Group: fragrances_male_na\n",
      "\t file not found!\n",
      "Group: other_shoes_female_spring-summer\n",
      "\t file not found!\n",
      "Group: fashion_bags_female_autumn\n",
      "\t file not found!\n",
      "Group: sports_performance_tops_male_autumn\n",
      "\t file not found!\n",
      "Group: jewellery_male_spring-summer\n",
      "\t file not found!\n",
      "Group: sports_lifestyle_bottoms_male_autumn-winter\n",
      "\t file not found!\n",
      "Group: top-handles_female_spring\n",
      "\t file not found!\n",
      "Group: hats_&_caps_unisex_spring-summer\n",
      "\t file not found!\n",
      "Group: sports_performance_shoes_male_winter\n",
      "\t loading data from file /Users/gfg/data/venture=Zalora/sg/clean/groups/ready/sports_performance_shoes_male_winter_2017.csv\n",
      "# rows in res_df: 97\n",
      "\t performing min-max normalization...\n",
      "\t ratio of remaining records after dropping invalid values: 1.0\n",
      "\t dumped the data to file /Users/gfg/data/venture=Zalora/sg/clean/groups/ready/sports_performance_shoes_male_winter_2017.csv\n",
      "Group: wallets_&_purses_unisex_year round\n",
      "\t file not found!\n",
      "Group: sling_bags_female_year round\n",
      "\t file not found!\n",
      "Group: watches_male_spring\n",
      "\t file not found!\n",
      "Group: sports_performance_accessories_unisex_summer\n",
      "\t file not found!\n",
      "Group: underwear_male_spring-summer\n",
      "\t file not found!\n",
      "Group: hats_&_caps_male_year round\n",
      "\t file not found!\n",
      "Group: sneakers_female_year round\n",
      "\t file not found!\n",
      "Group: sports_bra_female_spring\n",
      "\t file not found!\n",
      "Group: jeans_male_summer\n",
      "\t file not found!\n",
      "Group: shorts_male_summer\n",
      "\t file not found!\n",
      "Group: briefs_male_autumn-winter\n",
      "\t file not found!\n",
      "Group: sports_lifestyle_shoes_male_autumn\n",
      "\t file not found!\n",
      "Group: eyewear_male_spring-summer\n",
      "\t file not found!\n",
      "Group: belts_&_buckles_female_spring-summer\n",
      "\t file not found!\n",
      "Group: sports_lifestyle_accessories_male_spring-summer\n",
      "\t file not found!\n",
      "Group: other_accessories_unisex_na\n",
      "\t file not found!\n",
      "Group: sports_performance_bottoms_male_na\n",
      "\t file not found!\n",
      "Group: sports_performance_accessories_unisex_autumn\n",
      "\t file not found!\n",
      "Group: sports_lifestyle_tops_male_summer\n",
      "\t file not found!\n",
      "Group: socks_male_autumn-winter\n",
      "\t file not found!\n",
      "Group: outdoor_shoes_male_spring-summer\n",
      "\t file not found!\n",
      "Group: totes_female_spring\n",
      "\t file not found!\n",
      "Group: other_bags_female_year round\n",
      "\t file not found!\n",
      "Group: watches_unisex_summer\n",
      "\t file not found!\n",
      "Group: fragrances_unisex_na\n",
      "\t file not found!\n",
      "Group: boots_male_na\n",
      "\t file not found!\n",
      "Group: briefs_male_summer\n",
      "\t file not found!\n",
      "Group: hair_unisex_year round\n",
      "\t file not found!\n",
      "Group: travel_bags_&_luggage_female_na\n",
      "\t file not found!\n",
      "Group: traditional_tops_female_year round\n",
      "\t file not found!\n",
      "Group: hats_&_caps_unisex_autumn-winter\n",
      "\t file not found!\n",
      "Group: bath_&_body_male_na\n",
      "\t file not found!\n",
      "Group: other_bags_unisex_year round\n",
      "\t file not found!\n",
      "Group: other_beauty_female_na\n",
      "\t file not found!\n",
      "Group: swimwear_bottoms_female_year round\n",
      "\t file not found!\n",
      "Group: sports_performance_bottoms_male_autumn\n",
      "\t file not found!\n",
      "Group: sports_performance_tops_female_year round\n",
      "\t file not found!\n",
      "Group: sports_performance_tops_female_autumn\n",
      "\t file not found!\n",
      "Group: other_shoes_female_autumn-winter\n",
      "\t file not found!\n",
      "Group: sneakers_male_year round\n",
      "\t file not found!\n",
      "Group: dresses_female_spring\n",
      "\t file not found!\n",
      "Group: sports_lifestyle_bags_female_spring-summer\n",
      "\t file not found!\n",
      "Group: underwear_female_autumn-winter\n",
      "\t file not found!\n",
      "Group: eyewear_unisex_spring-summer\n",
      "\t file not found!\n",
      "Group: backpacks_female_spring\n",
      "\t file not found!\n",
      "Group: face_make-up_female_year round\n",
      "\t file not found!\n",
      "Group: sports_swimwear_female_autumn-winter\n",
      "\t file not found!\n",
      "Group: underwear_female_year round\n",
      "\t file not found!\n",
      "Group: other_accessories_male_autumn-winter\n",
      "\t file not found!\n",
      "Group: travel_bags_&_luggage_female_spring-summer\n",
      "\t file not found!\n",
      "Group: loafers__moccasins_&_boat_shoes_male_year round\n",
      "\t file not found!\n",
      "Group: eyewear_female_autumn-winter\n",
      "\t file not found!\n",
      "Group: sandals_&_flip_flops_female_spring\n",
      "\t file not found!\n",
      "Group: sports_performance_bottoms_female_autumn\n",
      "\t file not found!\n",
      "Group: other_bags_unisex_summer\n",
      "\t file not found!\n",
      "Group: sports_performance_bottoms_male_summer\n",
      "\t file not found!\n",
      "Group: belts_&_buckles_female_autumn-winter\n",
      "\t file not found!\n",
      "Group: sports_performance_accessories_male_spring-summer\n",
      "\t file not found!\n",
      "Group: other_beauty_unisex_na\n",
      "\t file not found!\n",
      "Group: heels_female_summer\n",
      "\t file not found!\n",
      "Group: jewellery_unisex_na\n",
      "\t file not found!\n",
      "Group: smart_casual_shoes_male_year round\n",
      "\t file not found!\n",
      "Group: other_bags_female_spring\n",
      "\t file not found!\n",
      "Group: bra_female_na\n",
      "\t file not found!\n",
      "Group: sports_lifestyle_tops_female_spring\n",
      "\t file not found!\n",
      "Group: backpacks_female_autumn\n",
      "\t file not found!\n",
      "Group: socks_male_year round\n",
      "\t file not found!\n",
      "Group: sandals_&_flip_flops_male_year round\n",
      "\t file not found!\n",
      "Group: travel_bags_&_luggage_male_spring-summer\n",
      "\t file not found!\n",
      "Group: hair_male_year round\n",
      "\t file not found!\n",
      "Group: traditional_dresses_female_year round\n",
      "\t file not found!\n",
      "Group: totes_unisex_spring-summer\n",
      "\t file not found!\n",
      "Group: sports_performance_accessories_male_na\n",
      "\t file not found!\n",
      "Group: nails_female_year round\n"
     ]
    },
    {
     "name": "stdout",
     "output_type": "stream",
     "text": [
      "\t file not found!\n",
      "Group: sports_performance_tops_female_spring\n",
      "\t file not found!\n",
      "Group: sports_performance_shoes_unisex_spring-summer\n",
      "\t file not found!\n",
      "Group: lips_female_year round\n",
      "\t file not found!\n",
      "Group: sports_performance_accessories_male_year round\n",
      "\t file not found!\n",
      "Group: sandals_&_flip_flops_unisex_year round\n",
      "\t file not found!\n",
      "Group: shoe_care_&_shoe_accessories_female_na\n",
      "\t file not found!\n",
      "Group: sports_lifestyle_bottoms_female_spring\n",
      "\t file not found!\n",
      "Group: face_make-up_unisex_na\n",
      "\t file not found!\n",
      "Group: sports_lifestyle_bags_female_autumn-winter\n",
      "\t file not found!\n",
      "Group: sports_bra_female_summer\n",
      "\t file not found!\n",
      "Group: fashion_bags_female_spring\n",
      "\t file not found!\n",
      "Group: sports_lifestyle_tops_female_summer\n",
      "\t file not found!\n",
      "Group: hats_&_caps_female_na\n",
      "\t file not found!\n",
      "Group: sports_lifestyle_shoes_male_winter\n",
      "\t file not found!\n",
      "Group: technology_accessories_unisex_summer\n",
      "\t file not found!\n",
      "Group: technology_accessories_unisex_spring-summer\n",
      "\t file not found!\n",
      "Group: sports_performance_bottoms_male_spring\n",
      "\t file not found!\n",
      "Group: swimwear_&_beachwear_male_autumn-winter\n",
      "\t file not found!\n",
      "Group: sports_performance_shoes_female_na\n",
      "\t file not found!\n",
      "Group: sports_lifestyle_accessories_unisex_summer\n",
      "\t file not found!\n",
      "Group: sports_lifestyle_bags_unisex_winter\n",
      "\t file not found!\n",
      "Group: sports_performance_accessories_unisex_autumn-winter\n",
      "\t file not found!\n",
      "Group: sports_lifestyle_shoes_female_winter\n",
      "\t file not found!\n",
      "Group: travel_bags_&_luggage_unisex_spring-summer\n",
      "\t file not found!\n",
      "Group: tudung_&_head_scarves_female_summer\n",
      "\t file not found!\n",
      "Group: wallets_&_purses_male_spring\n",
      "\t file not found!\n",
      "Group: wedges_female_year round\n",
      "\t file not found!\n",
      "Group: boots_male_year round\n",
      "\t file not found!\n",
      "Group: cleansers_&_toners_female_year round\n",
      "\t file not found!\n",
      "Group: jewellery_male_autumn-winter\n",
      "\t file not found!\n",
      "Group: other_accessories_unisex_autumn-winter\n",
      "\t file not found!\n",
      "Group: hats_&_caps_unisex_year round\n",
      "\t file not found!\n",
      "Group: sling_bags_unisex_spring-summer\n",
      "\t file not found!\n",
      "Group: cardigans_&_knitwear_male_na\n",
      "\t file not found!\n",
      "Group: eyewear_unisex_summer\n",
      "\t file not found!\n",
      "Group: underwear_male_na\n",
      "\t file not found!\n",
      "Group: sandals_&_flip_flops_male_na\n",
      "\t file not found!\n",
      "Group: sports_lifestyle_backpacks_male_autumn-winter\n",
      "\t file not found!\n",
      "Group: sports_lifestyle_accessories_unisex_autumn\n",
      "\t file not found!\n",
      "Group: slip_ons_&_espadrilles_unisex_autumn-winter\n",
      "\t file not found!\n",
      "Group: jackets_&_coats_unisex_na\n",
      "\t file not found!\n",
      "Group: eyes_female_autumn-winter\n",
      "\t file not found!\n",
      "Group: technology_accessories_unisex_spring\n",
      "\t file not found!\n",
      "Group: other_bags_unisex_autumn-winter\n",
      "\t file not found!\n",
      "Group: face_moisturisers_female_year round\n",
      "\t file not found!\n",
      "Group: sports_lifestyle_accessories_male_autumn-winter\n",
      "\t file not found!\n",
      "Group: long_pants_male_summer\n",
      "\t file not found!\n",
      "Group: traditional_bottoms_female_year round\n",
      "\t file not found!\n",
      "Group: wedges_female_summer\n",
      "\t file not found!\n",
      "Group: eyes_female_year round\n",
      "\t file not found!\n",
      "Group: traditional_bottoms_male_spring-summer\n",
      "\t file not found!\n",
      "Group: slip_ons_&_espadrilles_male_year round\n",
      "\t file not found!\n",
      "Group: traditional_dresses_female_winter\n",
      "\t file not found!\n",
      "Group: underwear_male_autumn-winter\n",
      "\t file not found!\n",
      "Group: sports_bra_female_autumn\n",
      "\t file not found!\n",
      "Group: traditional_dresses_male_autumn-winter\n",
      "\t file not found!\n",
      "Group: fashion_bags_unisex_year round\n",
      "\t file not found!\n",
      "Group: fashion_bags_unisex_na\n",
      "\t file not found!\n",
      "Group: travel_bags_&_luggage_female_year round\n",
      "\t file not found!\n",
      "Group: sports_performance_accessories_unisex_spring\n",
      "\t file not found!\n",
      "Group: eyewear_unisex_autumn-winter\n",
      "\t file not found!\n",
      "Group: sports_lifestyle_tops_female_autumn\n",
      "\t file not found!\n",
      "Group: sports_lifestyle_backpacks_male_spring-summer\n",
      "\t file not found!\n",
      "Group: sports_performance_shoes_female_winter\n",
      "\t file not found!\n",
      "Group: sports_lifestyle_shoes_male_year round\n",
      "\t file not found!\n",
      "Group: sports_lifestyle_accessories_unisex_spring\n",
      "\t file not found!\n",
      "Group: hoodies_&_sweatshirts_unisex_spring-summer\n",
      "\t file not found!\n",
      "Group: tops_female_summer\n",
      "\t file not found!\n",
      "Group: tops_female_spring\n",
      "\t file not found!\n",
      "Group: belts_&_buckles_unisex_year round\n",
      "\t file not found!\n",
      "Group: totes_female_year round\n",
      "\t file not found!\n",
      "Group: polo_shirts_female_spring-summer\n",
      "\t file not found!\n",
      "Group: lingerie_sets_female_autumn-winter\n",
      "\t file not found!\n",
      "Group: technology_accessories_male_na\n",
      "\t file not found!\n",
      "Group: travel_bags_&_luggage_male_autumn-winter\n",
      "\t file not found!\n",
      "Group: lips_female_winter\n",
      "\t file not found!\n",
      "Group: suits_female_autumn-winter\n",
      "\t file not found!\n",
      "Group: traditional_accessories_female_spring-summer\n",
      "\t file not found!\n",
      "Group: other_bags_female_autumn\n",
      "\t file not found!\n",
      "Group: panties_female_year round\n",
      "\t file not found!\n",
      "Group: sports_performance_shoes_male_year round\n",
      "\t file not found!\n",
      "Group: skirts_female_summer\n",
      "\t file not found!\n",
      "Group: heels_female_autumn\n",
      "\t file not found!\n",
      "Group: face_serums_&_treatments_unisex_year round\n",
      "\t file not found!\n",
      "Group: sports_lifestyle_bags_unisex_autumn-winter\n",
      "\t file not found!\n",
      "Group: sports_lifestyle_backpacks_male_summer\n",
      "\t file not found!\n",
      "Group: backpacks_unisex_summer\n",
      "\t file not found!\n",
      "Group: sports_performance_accessories_female_spring-summer\n",
      "\t file not found!\n",
      "Group: sports_lifestyle_bottoms_male_summer\n",
      "\t file not found!\n",
      "Group: sports_lifestyle_backpacks_unisex_autumn-winter\n",
      "\t file not found!\n",
      "Group: sports_lifestyle_backpacks_female_spring-summer\n",
      "\t file not found!\n",
      "Group: dresses_female_autumn\n",
      "\t file not found!\n",
      "Group: wallets_&_purses_unisex_summer\n",
      "\t file not found!\n",
      "Group: backpacks_unisex_spring\n",
      "\t file not found!\n",
      "Group: totes_female_na\n",
      "\t file not found!\n",
      "Group: swimwear_&_beachwear_female_year round\n",
      "\t file not found!\n",
      "Group: hats_&_caps_unisex_spring\n",
      "\t file not found!\n",
      "Group: playsuits_&_jumpsuits_female_summer\n",
      "\t file not found!\n",
      "Group: sports_swimwear_female_autumn\n",
      "\t file not found!\n",
      "Group: belts_&_buckles_male_summer\n",
      "\t file not found!\n",
      "Group: technology_accessories_female_spring\n",
      "\t file not found!\n",
      "Group: ballerina_&_flats_female_summer\n",
      "\t file not found!\n",
      "Group: loafers__moccasins_&_boat_shoes_female_year round\n",
      "\t file not found!\n",
      "Group: boots_unisex_year round\n",
      "\t file not found!\n",
      "Group: smart_casual_shoes_unisex_year round\n",
      "\t file not found!\n",
      "Group: fashion_bags_male_summer\n",
      "\t file not found!\n",
      "Group: sports_performance_bottoms_female_spring\n",
      "\t file not found!\n",
      "Group: hair_female_winter\n",
      "\t file not found!\n",
      "Group: slip_ons_&_espadrilles_female_year round\n",
      "\t file not found!\n",
      "Group: maternity_female_spring-summer\n",
      "\t file not found!\n",
      "Group: sports_performance_backpacks_unisex_autumn-winter\n",
      "\t file not found!\n",
      "Group: fashion_bags_female_summer\n",
      "\t file not found!\n",
      "Group: bath_&_body_female_year round\n",
      "\t file not found!\n",
      "Group: jewellery_unisex_year round\n",
      "\t file not found!\n",
      "Group: jewellery_female_summer\n",
      "\t file not found!\n",
      "Group: jackets_&_coats_unisex_autumn-winter\n",
      "\t file not found!\n",
      "Group: mules_&_clogs_female_autumn-winter\n",
      "\t file not found!\n",
      "Group: playsuits_&_jumpsuits_female_year round\n",
      "\t file not found!\n",
      "Group: t-shirts_male_year round\n",
      "\t file not found!\n",
      "Group: sports_performance_tops_male_spring\n",
      "\t file not found!\n",
      "Group: sports_performance_shoes_unisex_autumn-winter\n",
      "\t file not found!\n",
      "Group: shoulder_bags_female_spring\n",
      "\t file not found!\n",
      "Group: skirts_female_year round\n",
      "\t file not found!\n",
      "Group: slip_ons_&_espadrilles_unisex_year round\n",
      "\t file not found!\n",
      "Group: sneakers_unisex_na\n",
      "\t file not found!\n",
      "Group: socks_female_autumn-winter\n",
      "\t file not found!\n",
      "Group: backpacks_male_spring\n",
      "\t file not found!\n",
      "Group: lips_female_autumn-winter\n",
      "\t file not found!\n",
      "Group: loafers__moccasins_&_boat_shoes_male_spring\n",
      "\t file not found!\n",
      "Group: underwear_female_na\n",
      "\t file not found!\n",
      "Group: sports_lifestyle_bottoms_male_autumn\n",
      "\t file not found!\n",
      "Group: sports_lifestyle_accessories_unisex_autumn-winter\n",
      "\t file not found!\n",
      "Group: sports_lifestyle_accessories_unisex_winter\n",
      "\t file not found!\n",
      "Group: eyewear_unisex_winter\n",
      "\t file not found!\n",
      "Group: boots_female_autumn\n",
      "\t file not found!\n",
      "Group: sandals_&_flip_flops_female_summer\n",
      "\t file not found!\n",
      "Group: ballerina_&_flats_female_spring\n",
      "\t file not found!\n",
      "Group: ballerina_&_flats_female_autumn\n",
      "\t file not found!\n",
      "Group: loafers__moccasins_&_boat_shoes_unisex_year round\n",
      "\t file not found!\n",
      "Group: face_serums_&_treatments_male_year round\n",
      "\t file not found!\n",
      "Group: jackets_&_coats_unisex_spring-summer\n",
      "\t file not found!\n",
      "Group: top-handles_female_year round\n",
      "\t file not found!\n",
      "Group: tops_female_autumn\n",
      "\t file not found!\n",
      "Group: jackets_&_coats_male_year round\n",
      "\t file not found!\n",
      "Group: belts_&_buckles_unisex_na\n",
      "\t file not found!\n",
      "Group: jackets_&_coats_male_summer\n",
      "\t file not found!\n",
      "Group: totes_unisex_year round\n",
      "\t file not found!\n",
      "Group: traditional_bottoms_female_summer\n",
      "\t file not found!\n",
      "Group: wallets_&_purses_male_summer\n",
      "\t file not found!\n",
      "Group: eyes_female_winter\n",
      "\t file not found!\n",
      "Group: eyewear_unisex_spring\n",
      "\t file not found!\n",
      "Group: fashion_bags_male_year round\n",
      "\t file not found!\n",
      "Group: travel_bags_&_luggage_unisex_summer\n",
      "\t file not found!\n",
      "Group: travel_bags_&_luggage_unisex_spring\n",
      "\t file not found!\n",
      "Group: blouses_&_tunics_female_year round\n",
      "\t file not found!\n",
      "Group: loafers__moccasins_&_boat_shoes_female_spring\n",
      "\t file not found!\n",
      "Group: sports_lifestyle_tops_unisex_autumn-winter\n",
      "\t file not found!\n",
      "Group: sports_swimwear_female_year round\n",
      "\t file not found!\n",
      "Group: sports_performance_accessories_male_autumn\n",
      "\t file not found!\n",
      "Group: sneakers_male_spring\n",
      "\t file not found!\n",
      "Group: sports_performance_accessories_male_spring\n",
      "\t file not found!\n",
      "Group: sports_performance_accessories_female_na\n",
      "\t file not found!\n",
      "Group: outdoor_shoes_male_autumn-winter\n",
      "\t file not found!\n",
      "Group: other_accessories_female_spring\n",
      "\t file not found!\n",
      "Group: sports_lifestyle_tops_male_winter\n",
      "\t file not found!\n",
      "Group: socks_unisex_year round\n",
      "\t file not found!\n",
      "Group: sneakers_female_autumn\n",
      "\t file not found!\n",
      "Group: shirts_female_spring-summer\n",
      "\t file not found!\n",
      "Group: nightwear_&_sleepwear_male_spring-summer\n",
      "\t file not found!\n",
      "Group: other_shoes_female_year round\n",
      "\t file not found!\n",
      "Group: sports_performance_accessories_female_year round\n",
      "\t file not found!\n",
      "Group: sports_lifestyle_bags_male_spring\n",
      "\t file not found!\n",
      "Group: sports_lifestyle_bags_female_summer\n",
      "\t file not found!\n",
      "Group: sports_lifestyle_bags_female_autumn\n",
      "\t file not found!\n",
      "Group: nightwear_&_sleepwear_male_autumn-winter\n",
      "\t file not found!\n",
      "Group: sports_performance_shoes_female_year round\n",
      "\t file not found!\n",
      "Group: nightwear_&_sleepwear_male_na\n",
      "\t file not found!\n",
      "Group: shorts_female_summer\n",
      "\t file not found!\n",
      "Group: sports_performance_backpacks_unisex_winter\n",
      "\t file not found!\n",
      "Group: traditional_tops_unisex_autumn-winter\n",
      "\t file not found!\n",
      "Group: sneakers_female_spring\n",
      "\t file not found!\n",
      "Group: shorts_male_year round\n",
      "\t file not found!\n",
      "Group: sports_performance_accessories_male_winter\n",
      "\t file not found!\n",
      "Group: sling_bags_female_autumn\n",
      "\t file not found!\n",
      "Group: face_serums_&_treatments_female_winter\n",
      "\t file not found!\n",
      "Group: travel_bags_&_luggage_male_na\n",
      "\t file not found!\n",
      "Group: traditional_tops_female_na\n",
      "\t file not found!\n",
      "Group: slip_ons_&_espadrilles_female_spring\n",
      "\t file not found!\n",
      "Group: sports_performance_backpacks_unisex_autumn\n",
      "\t file not found!\n",
      "Group: long_pants_unisex_autumn-winter\n",
      "\t file not found!\n",
      "Group: eyewear_female_spring\n",
      "\t file not found!\n",
      "Group: wallets_&_purses_female_autumn\n",
      "\t file not found!\n",
      "Group: sports_lifestyle_backpacks_unisex_winter\n",
      "\t file not found!\n",
      "Group: sports_lifestyle_backpacks_unisex_spring\n",
      "\t file not found!\n",
      "Group: sports_lifestyle_bottoms_male_year round\n",
      "\t file not found!\n",
      "Group: sports_lifestyle_shoes_female_autumn\n",
      "\t file not found!\n",
      "Group: belts_&_buckles_male_year round\n",
      "\t file not found!\n",
      "Group: sports_lifestyle_shoes_female_year round\n",
      "\t file not found!\n",
      "Group: sports_lifestyle_backpacks_male_autumn\n",
      "\t file not found!\n",
      "Group: sports_lifestyle_accessories_unisex_year round\n",
      "\t file not found!\n",
      "Group: sports_lifestyle_accessories_female_autumn-winter\n",
      "\t file not found!\n",
      "Group: business_&_dress_shoes_female_autumn-winter\n",
      "\t file not found!\n",
      "Group: cardigans_&_knitwear_male_autumn\n",
      "\t file not found!\n",
      "Group: sports_bra_female_year round\n",
      "\t file not found!\n",
      "Group: sports_lifestyle_tops_male_autumn\n",
      "\t file not found!\n",
      "Group: sports_lifestyle_tops_male_year round\n",
      "\t file not found!\n",
      "Group: wallets_&_purses_female_summer\n",
      "\t file not found!\n",
      "Group: totes_unisex_autumn-winter\n",
      "\t file not found!\n",
      "Group: eyes_male_na\n",
      "\t file not found!\n",
      "Group: heels_unisex_na\n",
      "\t file not found!\n",
      "Group: fragrances_female_year round\n",
      "\t file not found!\n",
      "Group: shoulder_bags_female_year round\n",
      "\t file not found!\n",
      "Group: t-shirts_male_autumn\n",
      "\t file not found!\n",
      "Group: outdoor_shoes_female_autumn-winter\n",
      "\t file not found!\n",
      "Group: other_beauty_female_year round\n",
      "\t file not found!\n",
      "Group: polo_shirts_female_autumn-winter\n",
      "\t file not found!\n",
      "Group: sports_performance_tops_male_winter\n",
      "\t file not found!\n",
      "Group: technology_accessories_female_spring-summer\n",
      "\t file not found!\n",
      "Group: nightwear_&_sleepwear_male_summer\n",
      "\t file not found!\n",
      "Group: t-shirts_unisex_na\n",
      "\t file not found!\n",
      "Group: t-shirts_unisex_autumn-winter\n",
      "\t file not found!\n",
      "Group: kids_shoes_girls_na\n",
      "\t file not found!\n",
      "Group: jeans_male_autumn\n",
      "\t file not found!\n",
      "Group: suits_female_na\n",
      "\t file not found!\n",
      "Group: tops_unisex_spring-summer\n",
      "\t file not found!\n",
      "Group: hoodies_&_sweatshirts_male_year round\n",
      "\t file not found!\n",
      "Group: jewellery_female_autumn\n",
      "\t file not found!\n",
      "Group: long_pants_unisex_spring-summer\n",
      "\t file not found!\n",
      "Group: shirts_male_autumn\n",
      "\t file not found!\n",
      "Group: lips_unisex_na\n",
      "\t file not found!\n",
      "Group: nails_unisex_na\n",
      "\t file not found!\n",
      "Group: sports_lifestyle_bags_unisex_year round\n",
      "\t file not found!\n",
      "Group: hoodies_&_sweatshirts_male_summer\n",
      "\t file not found!\n",
      "Group: t-shirts_female_spring-summer\n",
      "\t file not found!\n",
      "Group: t-shirts_unisex_summer\n",
      "\t file not found!\n",
      "Group: eyes_unisex_year round\n",
      "\t file not found!\n",
      "Group: swimwear_&_beachwear_female_spring-summer\n",
      "\t file not found!\n",
      "Group: other_bags_male_spring\n",
      "\t file not found!\n",
      "Group: technology_accessories_male_spring-summer\n",
      "\t file not found!\n",
      "Group: backpacks_male_summer\n",
      "\t file not found!\n",
      "Group: sports_lifestyle_bags_female_spring\n",
      "\t file not found!\n",
      "Group: jewellery_male_year round\n",
      "\t file not found!\n",
      "Group: cardigans_&_knitwear_unisex_na\n",
      "\t file not found!\n",
      "Group: sports_lifestyle_bottoms_female_year round\n",
      "\t file not found!\n",
      "Group: jewellery_unisex_summer\n",
      "\t file not found!\n",
      "Group: cardigans_&_knitwear_female_year round\n",
      "\t file not found!\n",
      "Group: sports_swimwear_female_summer\n",
      "\t file not found!\n",
      "Group: sports_lifestyle_accessories_male_summer\n",
      "\t file not found!\n",
      "Group: boots_unisex_spring-summer\n",
      "\t file not found!\n",
      "Group: boots_female_year round\n",
      "\t file not found!\n",
      "Group: t-shirts_female_autumn-winter\n",
      "\t file not found!\n",
      "Group: beauty_acc_&_tools_female_autumn-winter\n",
      "\t file not found!\n",
      "Group: belts_&_buckles_female_na\n",
      "\t file not found!\n",
      "Group: blouses_&_tunics_female_autumn\n",
      "\t file not found!\n",
      "Group: sports_lifestyle_backpacks_male_spring\n",
      "\t file not found!\n",
      "Group: sports_lifestyle_backpacks_male_winter\n",
      "\t file not found!\n",
      "Group: lingerie_sets_female_spring-summer\n",
      "\t file not found!\n",
      "Group: totes_unisex_spring\n",
      "\t file not found!\n",
      "Group: jeans_female_year round\n",
      "\t file not found!\n",
      "Group: sports_performance_tops_female_winter\n",
      "\t file not found!\n",
      "Group: tops_unisex_na\n",
      "\t file not found!\n",
      "Group: slip_ons_&_espadrilles_female_na\n",
      "\t file not found!\n",
      "Group: traditional_tops_female_summer\n",
      "\t file not found!\n",
      "Group: slip_ons_&_espadrilles_female_autumn\n",
      "\t file not found!\n",
      "Group: long_pants_male_year round\n",
      "\t file not found!\n",
      "Group: sling_bags_unisex_year round\n",
      "\t file not found!\n"
     ]
    },
    {
     "name": "stdout",
     "output_type": "stream",
     "text": [
      "Group: shoulder_bags_female_na\n",
      "\t file not found!\n",
      "Group: shorts_unisex_spring-summer\n",
      "\t file not found!\n",
      "Group: shorts_unisex_na\n",
      "\t file not found!\n",
      "Group: traditional_dresses_female_na\n",
      "\t file not found!\n",
      "Group: sports_performance_bottoms_unisex_year round\n",
      "\t file not found!\n",
      "Group: hoodies_&_sweatshirts_male_autumn\n",
      "\t file not found!\n",
      "Group: shorts_male_autumn\n",
      "\t file not found!\n",
      "Group: totes_female_summer\n",
      "\t file not found!\n",
      "Group: heels_female_winter\n",
      "\t file not found!\n",
      "Group: shoe_care_&_shoe_accessories_male_na\n",
      "\t file not found!\n",
      "Group: shirts_male_year round\n",
      "\t file not found!\n",
      "Group: tops_male_year round\n",
      "\t file not found!\n",
      "Group: fashion_bags_male_spring\n",
      "\t file not found!\n",
      "Group: sports_performance_backpacks_unisex_spring-summer\n",
      "\t file not found!\n",
      "Group: smart_casual_shoes_unisex_spring-summer\n",
      "\t file not found!\n",
      "Group: hoodies_&_sweatshirts_female_year round\n",
      "\t file not found!\n",
      "Group: playsuits_&_jumpsuits_female_spring\n",
      "\t file not found!\n",
      "Group: sports_performance_accessories_male_summer\n",
      "\t file not found!\n",
      "Group: tudung_&_head_scarves_female_year round\n",
      "\t file not found!\n",
      "Group: polo_shirts_male_year round\n",
      "\t file not found!\n",
      "Group: face_moisturisers_unisex_year round\n",
      "\t file not found!\n",
      "Group: sandals_&_flip_flops_female_autumn\n",
      "\t file not found!\n",
      "Group: face_serums_&_treatments_male_na\n",
      "\t file not found!\n",
      "Group: tops_male_spring-summer\n",
      "\t file not found!\n",
      "Group: smart_casual_shoes_male_spring\n",
      "\t file not found!\n",
      "Group: slip_ons_&_espadrilles_unisex_spring-summer\n",
      "\t file not found!\n",
      "Group: travel_bags_&_luggage_unisex_autumn-winter\n",
      "\t file not found!\n",
      "Group: sports_performance_backpacks_female_autumn\n",
      "\t file not found!\n",
      "Group: travel_bags_&_luggage_male_spring\n",
      "\t file not found!\n",
      "Group: sandals_&_flip_flops_unisex_na\n",
      "\t file not found!\n",
      "Group: sports_performance_backpacks_male_spring-summer\n",
      "\t file not found!\n",
      "Group: top-handles_male_year round\n",
      "\t file not found!\n"
     ]
    }
   ],
   "source": [
    "for gr in gnames:\n",
    "    res_df = modify_data(gr, yr=2017, cols=canib_feats + static_feats)\n",
    "    if not res_df.empty:\n",
    "        dump_data(gr, yr=2017, df=res_df)"
   ]
  },
  {
   "cell_type": "code",
   "execution_count": null,
   "metadata": {
    "collapsed": true
   },
   "outputs": [],
   "source": []
  },
  {
   "cell_type": "markdown",
   "metadata": {},
   "source": [
    "# Feature analysis"
   ]
  },
  {
   "cell_type": "markdown",
   "metadata": {},
   "source": [
    "## First peeks \n",
    "Explore to find which feats are potentially useful."
   ]
  },
  {
   "cell_type": "markdown",
   "metadata": {},
   "source": [
    "### Distribution of target"
   ]
  },
  {
   "cell_type": "code",
   "execution_count": 30,
   "metadata": {
    "ExecuteTime": {
     "end_time": "2017-11-23T13:46:42.248755Z",
     "start_time": "2017-11-23T13:46:42.240806Z"
    },
    "collapsed": true
   },
   "outputs": [
    {
     "data": {
      "text/plain": [
       "count    23388.000000\n",
       "mean         1.424021\n",
       "std          1.234057\n",
       "min          0.000000\n",
       "25%          1.000000\n",
       "50%          1.000000\n",
       "75%          2.000000\n",
       "max         27.000000\n",
       "Name: n_sold, dtype: float64"
      ]
     },
     "execution_count": 30,
     "metadata": {},
     "output_type": "execute_result"
    }
   ],
   "source": [
    "dr_data.n_sold.describe()"
   ]
  },
  {
   "cell_type": "code",
   "execution_count": 28,
   "metadata": {
    "ExecuteTime": {
     "end_time": "2017-11-23T13:45:51.171360Z",
     "start_time": "2017-11-23T13:45:50.977393Z"
    },
    "collapsed": true
   },
   "outputs": [
    {
     "data": {
      "image/png": "[encoded data removed]",
      "text/plain": [
       "<matplotlib.figure.Figure at 0x11f082f28>"
      ]
     },
     "metadata": {},
     "output_type": "display_data"
    }
   ],
   "source": [
    "pl.hist(dr_data.n_sold)\n",
    "pl.xlabel('n_sold'); pl.ylabel('Count')\n",
    "pl.grid(True, ls='--')\n",
    "pl.show()"
   ]
  },
  {
   "cell_type": "markdown",
   "metadata": {
    "heading_collapsed": true
   },
   "source": [
    "### Binary feats"
   ]
  },
  {
   "cell_type": "code",
   "execution_count": 7,
   "metadata": {
    "ExecuteTime": {
     "end_time": "2017-11-23T11:36:53.032051Z",
     "start_time": "2017-11-23T11:36:53.020710Z"
    },
    "hidden": true,
    "scrolled": true
   },
   "outputs": [
    {
     "data": {
      "text/plain": [
       "returnable        23382\n",
       "non returnable        6\n",
       "Name: is_returnable, dtype: int64"
      ]
     },
     "execution_count": 7,
     "metadata": {},
     "output_type": "execute_result"
    }
   ],
   "source": [
    "dr_data.is_returnable.value_counts()"
   ]
  },
  {
   "cell_type": "code",
   "execution_count": 8,
   "metadata": {
    "ExecuteTime": {
     "end_time": "2017-11-23T11:37:19.675763Z",
     "start_time": "2017-11-23T11:37:19.667476Z"
    },
    "collapsed": true,
    "hidden": true
   },
   "outputs": [
    {
     "data": {
      "text/plain": [
       "0    23388\n",
       "Name: is_pack, dtype: int64"
      ]
     },
     "execution_count": 8,
     "metadata": {},
     "output_type": "execute_result"
    }
   ],
   "source": [
    "dr_data.is_pack.value_counts()"
   ]
  },
  {
   "cell_type": "markdown",
   "metadata": {
    "heading_collapsed": true
   },
   "source": [
    "### Brand related"
   ]
  },
  {
   "cell_type": "code",
   "execution_count": 10,
   "metadata": {
    "ExecuteTime": {
     "end_time": "2017-11-23T11:39:53.460602Z",
     "start_time": "2017-11-23T11:39:53.448816Z"
    },
    "hidden": true
   },
   "outputs": [
    {
     "data": {
      "text/plain": [
       "regional_private_label    18161\n",
       "regional_branded           5227\n",
       "Name: brand_type, dtype: int64"
      ]
     },
     "execution_count": 10,
     "metadata": {},
     "output_type": "execute_result"
    }
   ],
   "source": [
    "dr_data.brand_type.value_counts()"
   ]
  },
  {
   "cell_type": "code",
   "execution_count": 12,
   "metadata": {
    "ExecuteTime": {
     "end_time": "2017-11-23T11:40:34.864632Z",
     "start_time": "2017-11-23T11:40:34.855371Z"
    },
    "hidden": true
   },
   "outputs": [
    {
     "data": {
      "text/plain": [
       "regional_private_label    18161\n",
       "regional_branded           5227\n",
       "Name: brand_department, dtype: int64"
      ]
     },
     "execution_count": 12,
     "metadata": {},
     "output_type": "execute_result"
    }
   ],
   "source": [
    "dr_data.brand_department.value_counts()"
   ]
  },
  {
   "cell_type": "markdown",
   "metadata": {
    "hidden": true
   },
   "source": [
    "__Note:__ duplicated feats: `brand_type` & `brand_department`"
   ]
  },
  {
   "cell_type": "code",
   "execution_count": 11,
   "metadata": {
    "ExecuteTime": {
     "end_time": "2017-11-23T11:40:18.675695Z",
     "start_time": "2017-11-23T11:40:18.666919Z"
    },
    "hidden": true
   },
   "outputs": [
    {
     "data": {
      "text/plain": [
       "active    23388\n",
       "Name: brand_status, dtype: int64"
      ]
     },
     "execution_count": 11,
     "metadata": {},
     "output_type": "execute_result"
    }
   ],
   "source": [
    "dr_data.brand_status.value_counts()"
   ]
  },
  {
   "cell_type": "markdown",
   "metadata": {
    "hidden": true
   },
   "source": [
    "All brands are _active_."
   ]
  },
  {
   "cell_type": "markdown",
   "metadata": {
    "heading_collapsed": true
   },
   "source": [
    "### Others"
   ]
  },
  {
   "cell_type": "code",
   "execution_count": 21,
   "metadata": {
    "ExecuteTime": {
     "end_time": "2017-11-23T12:01:05.966124Z",
     "start_time": "2017-11-23T12:01:05.960617Z"
    },
    "hidden": true
   },
   "outputs": [
    {
     "data": {
      "text/plain": [
       "1    23388\n",
       "Name: shop_type, dtype: int64"
      ]
     },
     "execution_count": 21,
     "metadata": {},
     "output_type": "execute_result"
    }
   ],
   "source": [
    "dr_data.shop_type.value_counts()"
   ]
  },
  {
   "cell_type": "code",
   "execution_count": 25,
   "metadata": {
    "ExecuteTime": {
     "end_time": "2017-11-23T13:33:16.988268Z",
     "start_time": "2017-11-23T13:33:16.979466Z"
    },
    "hidden": true
   },
   "outputs": [
    {
     "data": {
      "text/plain": [
       "Warehouse            21627\n",
       "Consignment Stock     1761\n",
       "Name: shipment_type, dtype: int64"
      ]
     },
     "execution_count": 25,
     "metadata": {},
     "output_type": "execute_result"
    }
   ],
   "source": [
    "dr_data.shipment_type.value_counts()"
   ]
  },
  {
   "cell_type": "code",
   "execution_count": 31,
   "metadata": {
    "ExecuteTime": {
     "end_time": "2017-11-23T14:09:37.957504Z",
     "start_time": "2017-11-23T14:09:37.948915Z"
    },
    "hidden": true
   },
   "outputs": [
    {
     "data": {
      "text/plain": [
       "supplier    23388\n",
       "Name: catalogue, dtype: int64"
      ]
     },
     "execution_count": 31,
     "metadata": {},
     "output_type": "execute_result"
    }
   ],
   "source": [
    "dr_data.catalogue.value_counts()"
   ]
  },
  {
   "cell_type": "markdown",
   "metadata": {},
   "source": [
    "## Promising features\n",
    "\n",
    "+ `brand_tier`\n",
    "+ `color_family`\n",
    "+ `catalog_type`"
   ]
  },
  {
   "cell_type": "markdown",
   "metadata": {},
   "source": [
    "### Sales vs. brand tier"
   ]
  },
  {
   "cell_type": "code",
   "execution_count": 13,
   "metadata": {
    "ExecuteTime": {
     "end_time": "2017-11-23T11:41:59.757617Z",
     "start_time": "2017-11-23T11:41:59.752039Z"
    },
    "scrolled": false
   },
   "outputs": [
    {
     "data": {
      "text/plain": [
       "1    20480\n",
       "2     1159\n",
       "3      757\n",
       "5      605\n",
       "4      387\n",
       "Name: brand_tier, dtype: int64"
      ]
     },
     "execution_count": 13,
     "metadata": {},
     "output_type": "execute_result"
    }
   ],
   "source": [
    "dr_data.brand_tier.value_counts()"
   ]
  },
  {
   "cell_type": "markdown",
   "metadata": {},
   "source": [
    "Tier 1 is __dominant.__"
   ]
  },
  {
   "cell_type": "code",
   "execution_count": 36,
   "metadata": {
    "ExecuteTime": {
     "end_time": "2017-11-23T14:16:07.966616Z",
     "start_time": "2017-11-23T14:16:07.761268Z"
    }
   },
   "outputs": [
    {
     "data": {
      "image/png": "[encoded data removed]",
      "text/plain": [
       "<matplotlib.figure.Figure at 0x11f0ffda0>"
      ]
     },
     "metadata": {},
     "output_type": "display_data"
    }
   ],
   "source": [
    "sb.boxplot(x='n_sold', y='brand_tier', data=dr_data, orient='h')\n",
    "pl.show()"
   ]
  },
  {
   "cell_type": "markdown",
   "metadata": {},
   "source": [
    "To have a better view of other brand tiers, we need to exclude tier 1."
   ]
  },
  {
   "cell_type": "code",
   "execution_count": 37,
   "metadata": {
    "ExecuteTime": {
     "end_time": "2017-11-23T15:06:08.423935Z",
     "start_time": "2017-11-23T15:06:08.203605Z"
    },
    "collapsed": true
   },
   "outputs": [
    {
     "data": {
      "image/png": "[encoded data removed]",
      "text/plain": [
       "<matplotlib.figure.Figure at 0x11e8ab630>"
      ]
     },
     "metadata": {},
     "output_type": "display_data"
    }
   ],
   "source": [
    "sb.boxplot(x='n_sold', y='brand_tier', data=dr_data.query('brand_tier != 1') , orient='h')\n",
    "pl.show()"
   ]
  },
  {
   "cell_type": "code",
   "execution_count": 27,
   "metadata": {
    "ExecuteTime": {
     "end_time": "2017-11-23T13:40:51.504124Z",
     "start_time": "2017-11-23T13:40:51.494719Z"
    },
    "scrolled": true
   },
   "outputs": [
    {
     "data": {
      "text/html": [
       "<div>\n",
       "<style>\n",
       "    .dataframe thead tr:only-child th {\n",
       "        text-align: right;\n",
       "    }\n",
       "\n",
       "    .dataframe thead th {\n",
       "        text-align: left;\n",
       "    }\n",
       "\n",
       "    .dataframe tbody tr th {\n",
       "        vertical-align: top;\n",
       "    }\n",
       "</style>\n",
       "<table border=\"1\" class=\"dataframe\">\n",
       "  <thead>\n",
       "    <tr style=\"text-align: right;\">\n",
       "      <th></th>\n",
       "      <th>avg_sold</th>\n",
       "    </tr>\n",
       "    <tr>\n",
       "      <th>brand_tier</th>\n",
       "      <th></th>\n",
       "    </tr>\n",
       "  </thead>\n",
       "  <tbody>\n",
       "    <tr>\n",
       "      <th>4</th>\n",
       "      <td>0.997416</td>\n",
       "    </tr>\n",
       "    <tr>\n",
       "      <th>2</th>\n",
       "      <td>0.998274</td>\n",
       "    </tr>\n",
       "    <tr>\n",
       "      <th>5</th>\n",
       "      <td>1.082645</td>\n",
       "    </tr>\n",
       "    <tr>\n",
       "      <th>3</th>\n",
       "      <td>1.091149</td>\n",
       "    </tr>\n",
       "    <tr>\n",
       "      <th>1</th>\n",
       "      <td>1.478564</td>\n",
       "    </tr>\n",
       "  </tbody>\n",
       "</table>\n",
       "</div>"
      ],
      "text/plain": [
       "            avg_sold\n",
       "brand_tier          \n",
       "4           0.997416\n",
       "2           0.998274\n",
       "5           1.082645\n",
       "3           1.091149\n",
       "1           1.478564"
      ]
     },
     "execution_count": 27,
     "metadata": {},
     "output_type": "execute_result"
    }
   ],
   "source": [
    "dr_data.groupby('brand_tier').agg({'n_sold': np.mean}).rename(columns={'n_sold': 'avg_sold'}).sort_values('avg_sold')"
   ]
  },
  {
   "cell_type": "markdown",
   "metadata": {},
   "source": [
    "### Sales vs. catalog type"
   ]
  },
  {
   "cell_type": "code",
   "execution_count": 32,
   "metadata": {
    "ExecuteTime": {
     "end_time": "2017-11-23T14:10:00.283707Z",
     "start_time": "2017-11-23T14:10:00.274784Z"
    }
   },
   "outputs": [
    {
     "data": {
      "text/plain": [
       "Main      10031\n",
       "Outlet     9247\n",
       "Mixed      4110\n",
       "Name: catalog_type, dtype: int64"
      ]
     },
     "execution_count": 32,
     "metadata": {},
     "output_type": "execute_result"
    }
   ],
   "source": [
    "dr_data.catalog_type.value_counts()"
   ]
  },
  {
   "cell_type": "code",
   "execution_count": 35,
   "metadata": {
    "ExecuteTime": {
     "end_time": "2017-11-23T14:13:56.283101Z",
     "start_time": "2017-11-23T14:13:56.103436Z"
    }
   },
   "outputs": [
    {
     "data": {
      "image/png": "[encoded data removed]",
      "text/plain": [
       "<matplotlib.figure.Figure at 0x11b0b3ef0>"
      ]
     },
     "metadata": {},
     "output_type": "display_data"
    }
   ],
   "source": [
    "sb.boxplot(x='n_sold', y='catalog_type', data=dr_data, orient='h')\n",
    "pl.show()"
   ]
  },
  {
   "cell_type": "markdown",
   "metadata": {},
   "source": [
    "Sales vary with catalog type."
   ]
  },
  {
   "cell_type": "markdown",
   "metadata": {},
   "source": [
    "### Sales vs. brand tier and shipment type"
   ]
  },
  {
   "cell_type": "code",
   "execution_count": 26,
   "metadata": {
    "ExecuteTime": {
     "end_time": "2017-11-23T13:35:52.631532Z",
     "start_time": "2017-11-23T13:35:52.295924Z"
    }
   },
   "outputs": [
    {
     "data": {
      "image/png": "[encoded data removed]",
      "text/plain": [
       "<matplotlib.figure.Figure at 0x11e697ac8>"
      ]
     },
     "metadata": {},
     "output_type": "display_data"
    }
   ],
   "source": [
    "sb.boxplot(x='brand_tier', y='n_sold', hue='shipment_type', data=dr_data)\n",
    "pl.show()"
   ]
  },
  {
   "cell_type": "markdown",
   "metadata": {},
   "source": [
    "### Sales distribution by color family"
   ]
  },
  {
   "cell_type": "code",
   "execution_count": 22,
   "metadata": {
    "ExecuteTime": {
     "end_time": "2017-11-23T12:02:11.921800Z",
     "start_time": "2017-11-23T12:02:11.912526Z"
    },
    "scrolled": true
   },
   "outputs": [
    {
     "data": {
      "text/plain": [
       "black          8862\n",
       "navy           3587\n",
       "white          3514\n",
       "blue           1852\n",
       "red            1298\n",
       "grey            984\n",
       "multi           667\n",
       "beige           642\n",
       "pink            640\n",
       "green           385\n",
       "orange          333\n",
       "purple          183\n",
       "brown           158\n",
       "yellow          119\n",
       "gold             62\n",
       "silver           28\n",
       "black,pink       12\n",
       "white,multi       7\n",
       "blue,multi        5\n",
       "multi,navy        3\n",
       "white,blue        3\n",
       "black,multi       2\n",
       "pink,multi        1\n",
       "white,red         1\n",
       "red,multi         1\n",
       "green,multi       1\n",
       "Name: color_family, dtype: int64"
      ]
     },
     "execution_count": 22,
     "metadata": {},
     "output_type": "execute_result"
    }
   ],
   "source": [
    "dr_data.color_family.value_counts()"
   ]
  },
  {
   "cell_type": "code",
   "execution_count": 23,
   "metadata": {
    "ExecuteTime": {
     "end_time": "2017-11-23T12:02:45.369349Z",
     "start_time": "2017-11-23T12:02:45.358836Z"
    },
    "collapsed": true
   },
   "outputs": [
    {
     "data": {
      "text/plain": [
       "black                                         5462\n",
       "navy                                          2282\n",
       "white                                          784\n",
       "red                                            472\n",
       "blue                                           401\n",
       "grey                                           343\n",
       "black base floral                              300\n",
       "powder blue                                    263\n",
       "nude                                           256\n",
       "white based blue floral                        228\n",
       "maroon                                         219\n",
       "black based floral print                       211\n",
       "off white                                      205\n",
       "black based floral                             203\n",
       "pink                                           170\n",
       "white based print                              161\n",
       "light blue                                     156\n",
       "white based floral print                       152\n",
       "beige/black                                    147\n",
       "navy blue                                      143\n",
       "black/white stripe                             142\n",
       "black based stripe                             142\n",
       "navy based yellow floral                       141\n",
       "cream                                          138\n",
       "black and white print                          136\n",
       "dusty pink                                     136\n",
       "monochrome floral                              136\n",
       "burnt orange                                   134\n",
       "white base print                               128\n",
       "navy based floral print                        127\n",
       "                                              ... \n",
       "fresh pink                                       1\n",
       "stone/multi                                      1\n",
       "midnight navy/ivory                              1\n",
       "black/white floral                               1\n",
       "bronze colour                                    1\n",
       "grey/white                                       1\n",
       "navy/ivory spots & stripe panel                  1\n",
       "white/cobalt blue                                1\n",
       "deep navy                                        1\n",
       "black beauty                                     1\n",
       "black/dove grey/fluro blue                       1\n",
       "zinfandel/paisley                                1\n",
       "ivory/navy/lush green outline block stripe       1\n",
       "chocolate plum                                   1\n",
       "medium blue denim                                1\n",
       "black/red                                        1\n",
       "dawson ditsy/peacoat                             1\n",
       "coral                                            1\n",
       "blush/pineapple/bunch/panel                      1\n",
       "ruby/lipstick kaleidoscope grid panel            1\n",
       "indigo blue                                      1\n",
       "leopard                                          1\n",
       "navy/green chunky block stripe                   1\n",
       "black/ivory                                      1\n",
       "blue white                                       1\n",
       "black grit/black/hazard orange                   1\n",
       "rust/currant geo mixed stacks                    1\n",
       "top havana/handcart                              1\n",
       "mystic maroon/poison pink//white                 1\n",
       "bright pink                                      1\n",
       "Name: color, Length: 369, dtype: int64"
      ]
     },
     "execution_count": 23,
     "metadata": {},
     "output_type": "execute_result"
    }
   ],
   "source": [
    "dr_data.color.value_counts()"
   ]
  },
  {
   "cell_type": "markdown",
   "metadata": {},
   "source": [
    "`color` has too many values. Let us use `color_family` first."
   ]
  },
  {
   "cell_type": "code",
   "execution_count": 24,
   "metadata": {
    "ExecuteTime": {
     "end_time": "2017-11-23T13:29:41.848990Z",
     "start_time": "2017-11-23T13:29:41.836728Z"
    },
    "scrolled": false
   },
   "outputs": [
    {
     "data": {
      "text/html": [
       "<div>\n",
       "<style>\n",
       "    .dataframe thead tr:only-child th {\n",
       "        text-align: right;\n",
       "    }\n",
       "\n",
       "    .dataframe thead th {\n",
       "        text-align: left;\n",
       "    }\n",
       "\n",
       "    .dataframe tbody tr th {\n",
       "        vertical-align: top;\n",
       "    }\n",
       "</style>\n",
       "<table border=\"1\" class=\"dataframe\">\n",
       "  <thead>\n",
       "    <tr style=\"text-align: right;\">\n",
       "      <th></th>\n",
       "      <th>n_sold</th>\n",
       "    </tr>\n",
       "    <tr>\n",
       "      <th>color_family</th>\n",
       "      <th></th>\n",
       "    </tr>\n",
       "  </thead>\n",
       "  <tbody>\n",
       "    <tr>\n",
       "      <th>green,multi</th>\n",
       "      <td>0.000000</td>\n",
       "    </tr>\n",
       "    <tr>\n",
       "      <th>multi,navy</th>\n",
       "      <td>0.666667</td>\n",
       "    </tr>\n",
       "    <tr>\n",
       "      <th>black,pink</th>\n",
       "      <td>0.916667</td>\n",
       "    </tr>\n",
       "    <tr>\n",
       "      <th>white,multi</th>\n",
       "      <td>1.000000</td>\n",
       "    </tr>\n",
       "    <tr>\n",
       "      <th>black,multi</th>\n",
       "      <td>1.000000</td>\n",
       "    </tr>\n",
       "    <tr>\n",
       "      <th>white,blue</th>\n",
       "      <td>1.000000</td>\n",
       "    </tr>\n",
       "    <tr>\n",
       "      <th>blue,multi</th>\n",
       "      <td>1.000000</td>\n",
       "    </tr>\n",
       "    <tr>\n",
       "      <th>red,multi</th>\n",
       "      <td>1.000000</td>\n",
       "    </tr>\n",
       "    <tr>\n",
       "      <th>white,red</th>\n",
       "      <td>1.000000</td>\n",
       "    </tr>\n",
       "    <tr>\n",
       "      <th>pink,multi</th>\n",
       "      <td>1.000000</td>\n",
       "    </tr>\n",
       "    <tr>\n",
       "      <th>silver</th>\n",
       "      <td>1.035714</td>\n",
       "    </tr>\n",
       "    <tr>\n",
       "      <th>gold</th>\n",
       "      <td>1.048387</td>\n",
       "    </tr>\n",
       "    <tr>\n",
       "      <th>purple</th>\n",
       "      <td>1.060109</td>\n",
       "    </tr>\n",
       "    <tr>\n",
       "      <th>brown</th>\n",
       "      <td>1.139241</td>\n",
       "    </tr>\n",
       "    <tr>\n",
       "      <th>yellow</th>\n",
       "      <td>1.151261</td>\n",
       "    </tr>\n",
       "    <tr>\n",
       "      <th>pink</th>\n",
       "      <td>1.231250</td>\n",
       "    </tr>\n",
       "    <tr>\n",
       "      <th>orange</th>\n",
       "      <td>1.237237</td>\n",
       "    </tr>\n",
       "    <tr>\n",
       "      <th>blue</th>\n",
       "      <td>1.251080</td>\n",
       "    </tr>\n",
       "    <tr>\n",
       "      <th>red</th>\n",
       "      <td>1.306626</td>\n",
       "    </tr>\n",
       "    <tr>\n",
       "      <th>multi</th>\n",
       "      <td>1.346327</td>\n",
       "    </tr>\n",
       "    <tr>\n",
       "      <th>white</th>\n",
       "      <td>1.372795</td>\n",
       "    </tr>\n",
       "    <tr>\n",
       "      <th>grey</th>\n",
       "      <td>1.398374</td>\n",
       "    </tr>\n",
       "    <tr>\n",
       "      <th>navy</th>\n",
       "      <td>1.460273</td>\n",
       "    </tr>\n",
       "    <tr>\n",
       "      <th>black</th>\n",
       "      <td>1.510833</td>\n",
       "    </tr>\n",
       "    <tr>\n",
       "      <th>green</th>\n",
       "      <td>1.524675</td>\n",
       "    </tr>\n",
       "    <tr>\n",
       "      <th>beige</th>\n",
       "      <td>1.719626</td>\n",
       "    </tr>\n",
       "  </tbody>\n",
       "</table>\n",
       "</div>"
      ],
      "text/plain": [
       "                n_sold\n",
       "color_family          \n",
       "green,multi   0.000000\n",
       "multi,navy    0.666667\n",
       "black,pink    0.916667\n",
       "white,multi   1.000000\n",
       "black,multi   1.000000\n",
       "white,blue    1.000000\n",
       "blue,multi    1.000000\n",
       "red,multi     1.000000\n",
       "white,red     1.000000\n",
       "pink,multi    1.000000\n",
       "silver        1.035714\n",
       "gold          1.048387\n",
       "purple        1.060109\n",
       "brown         1.139241\n",
       "yellow        1.151261\n",
       "pink          1.231250\n",
       "orange        1.237237\n",
       "blue          1.251080\n",
       "red           1.306626\n",
       "multi         1.346327\n",
       "white         1.372795\n",
       "grey          1.398374\n",
       "navy          1.460273\n",
       "black         1.510833\n",
       "green         1.524675\n",
       "beige         1.719626"
      ]
     },
     "execution_count": 24,
     "metadata": {},
     "output_type": "execute_result"
    }
   ],
   "source": [
    "dr_data.groupby('color_family').agg({'n_sold': np.mean}).sort_values('n_sold')"
   ]
  },
  {
   "cell_type": "code",
   "execution_count": null,
   "metadata": {
    "collapsed": true
   },
   "outputs": [],
   "source": []
  }
 ],
 "metadata": {
  "kernelspec": {
   "display_name": "Python 3",
   "language": "python",
   "name": "python3"
  },
  "language_info": {
   "codemirror_mode": {
    "name": "ipython",
    "version": 3
   },
   "file_extension": ".py",
   "mimetype": "text/x-python",
   "name": "python",
   "nbconvert_exporter": "python",
   "pygments_lexer": "ipython3",
   "version": "3.6.0"
  },
  "toc": {
   "colors": {
    "hover_highlight": "#DAA520",
    "navigate_num": "#000000",
    "navigate_text": "#333333",
    "running_highlight": "#FF0000",
    "selected_highlight": "#FFD700",
    "sidebar_border": "#EEEEEE",
    "wrapper_background": "#FFFFFF"
   },
   "moveMenuLeft": true,
   "nav_menu": {
    "height": "251px",
    "width": "252px"
   },
   "navigate_menu": true,
   "number_sections": true,
   "sideBar": true,
   "threshold": 4,
   "toc_cell": false,
   "toc_position": {
    "height": "668px",
    "left": "0px",
    "right": "1139px",
    "top": "107px",
    "width": "212px"
   },
   "toc_section_display": "block",
   "toc_window_display": true,
   "widenNotebook": false
  },
  "varInspector": {
   "cols": {
    "lenName": 16,
    "lenType": 16,
    "lenVar": 40
   },
   "kernels_config": {
    "python": {
     "delete_cmd_postfix": "",
     "delete_cmd_prefix": "del ",
     "library": "var_list.py",
     "varRefreshCmd": "print(var_dic_list())"
    },
    "r": {
     "delete_cmd_postfix": ") ",
     "delete_cmd_prefix": "rm(",
     "library": "var_list.r",
     "varRefreshCmd": "cat(var_dic_list()) "
    }
   },
   "types_to_exclude": [
    "module",
    "function",
    "builtin_function_or_method",
    "instance",
    "_Feature"
   ],
   "window_display": false
  }
 },
 "nbformat": 4,
 "nbformat_minor": 2
}
