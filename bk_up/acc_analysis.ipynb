{
 "cells": [
  {
   "cell_type": "code",
   "execution_count": 1,
   "metadata": {
    "ExecuteTime": {
     "end_time": "2017-11-21T16:13:28.225862Z",
     "start_time": "2017-11-21T16:13:27.535087Z"
    },
    "collapsed": true
   },
   "outputs": [],
   "source": [
    "import pandas as pd"
   ]
  },
  {
   "cell_type": "code",
   "execution_count": 2,
   "metadata": {
    "ExecuteTime": {
     "end_time": "2017-11-21T16:15:34.279480Z",
     "start_time": "2017-11-21T16:15:34.276195Z"
    },
    "collapsed": true
   },
   "outputs": [],
   "source": [
    "RES_DIR = '/Users/gfg/projects/daas-markdown/res/'"
   ]
  },
  {
   "cell_type": "code",
   "execution_count": 15,
   "metadata": {
    "ExecuteTime": {
     "end_time": "2017-11-21T16:37:08.246344Z",
     "start_time": "2017-11-21T16:37:08.222517Z"
    },
    "collapsed": false,
    "scrolled": true
   },
   "outputs": [],
   "source": [
    "gr = 'dresses_female_autumn-winter'\n",
    "suffix = '_predict.csv'\n",
    "fname = RES_DIR + gr + suffix\n",
    "my_pred = pd.read_csv(fname, parse_dates=['date'])"
   ]
  },
  {
   "cell_type": "code",
   "execution_count": 16,
   "metadata": {
    "ExecuteTime": {
     "end_time": "2017-11-21T16:37:14.051498Z",
     "start_time": "2017-11-21T16:37:14.048025Z"
    },
    "collapsed": true
   },
   "outputs": [],
   "source": [
    "skus = my_pred.sku_config.unique()"
   ]
  },
  {
   "cell_type": "code",
   "execution_count": 26,
   "metadata": {
    "ExecuteTime": {
     "end_time": "2017-11-21T16:44:35.727012Z",
     "start_time": "2017-11-21T16:44:35.719348Z"
    },
    "collapsed": false,
    "scrolled": true
   },
   "outputs": [],
   "source": [
    "fname = RES_DIR + 'avg_blender/' + 'Advanced AVG Blender (Bin 1).csv'\n",
    "dr_pred = pd.read_csv(fname, parse_dates=['snapshot_date'])"
   ]
  },
  {
   "cell_type": "code",
   "execution_count": 27,
   "metadata": {
    "ExecuteTime": {
     "end_time": "2017-11-21T16:44:38.882570Z",
     "start_time": "2017-11-21T16:44:38.868584Z"
    },
    "collapsed": false,
    "scrolled": true
   },
   "outputs": [],
   "source": [
    "cols = ['sku_config', 'snapshot_date', 'n_sold', 'Prediction']\n",
    "res = pd.merge(my_pred, dr_pred[cols], \n",
    "               left_on=['sku_config', 'date'], right_on=['sku_config', 'snapshot_date'])"
   ]
  },
  {
   "cell_type": "code",
   "execution_count": 28,
   "metadata": {
    "ExecuteTime": {
     "end_time": "2017-11-21T16:44:40.231589Z",
     "start_time": "2017-11-21T16:44:40.226523Z"
    },
    "collapsed": false
   },
   "outputs": [
    {
     "data": {
      "text/plain": [
       "(0, 19)"
      ]
     },
     "execution_count": 28,
     "metadata": {},
     "output_type": "execute_result"
    }
   ],
   "source": [
    "res.shape"
   ]
  },
  {
   "cell_type": "code",
   "execution_count": 20,
   "metadata": {
    "ExecuteTime": {
     "end_time": "2017-11-21T16:37:57.600185Z",
     "start_time": "2017-11-21T16:37:57.590668Z"
    },
    "collapsed": true
   },
   "outputs": [
    {
     "name": "stdout",
     "output_type": "stream",
     "text": [
      "<class 'pandas.core.frame.DataFrame'>\n",
      "RangeIndex: 4224 entries, 0 to 4223\n",
      "Data columns (total 16 columns):\n",
      "sku_config                         4224 non-null object\n",
      "product_name                       4224 non-null object\n",
      "brand_name                         4224 non-null object\n",
      "date                               4224 non-null datetime64[ns]\n",
      "current_price                      4224 non-null float64\n",
      "discount_from_rrp                  4224 non-null float64\n",
      "n_competitor                       4224 non-null int64\n",
      "rel_price                          4224 non-null float64\n",
      "color_pop                          4224 non-null float64\n",
      "brand_pop                          4224 non-null int64\n",
      "n_sold                             4224 non-null int64\n",
      "predict_lasso_regression           4224 non-null float64\n",
      "predict_ridge_regression           4224 non-null float64\n",
      "predict_boosted_regression_tree    4224 non-null float64\n",
      "predict_random_forest              4224 non-null float64\n",
      "predict_xgboost                    4224 non-null float64\n",
      "dtypes: datetime64[ns](1), float64(9), int64(3), object(3)\n",
      "memory usage: 528.1+ KB\n"
     ]
    }
   ],
   "source": [
    "my_pred.info()"
   ]
  },
  {
   "cell_type": "code",
   "execution_count": 21,
   "metadata": {
    "ExecuteTime": {
     "end_time": "2017-11-21T16:38:59.018899Z",
     "start_time": "2017-11-21T16:38:59.009362Z"
    },
    "collapsed": true
   },
   "outputs": [
    {
     "name": "stdout",
     "output_type": "stream",
     "text": [
      "<class 'pandas.core.frame.DataFrame'>\n",
      "RangeIndex: 100 entries, 0 to 99\n",
      "Data columns (total 45 columns):\n",
      "n_sold                     100 non-null int64\n",
      "Prediction                 100 non-null float64\n",
      "sku_config                 100 non-null object\n",
      "snapshot_date              100 non-null object\n",
      "current_price              100 non-null float64\n",
      "discount_from_rrp          100 non-null float64\n",
      "n_competitor               100 non-null int64\n",
      "rel_price                  100 non-null float64\n",
      "stock                      100 non-null int64\n",
      "special_price_to_date      100 non-null object\n",
      "special_price_from_date    100 non-null object\n",
      "size_system_name           100 non-null object\n",
      "sku_supplier_config        100 non-null object\n",
      "sku_simple                 100 non-null object\n",
      "size_name                  100 non-null object\n",
      "size_brand                 100 non-null object\n",
      "simple_updated_at          100 non-null object\n",
      "fk_simple_product          100 non-null int64\n",
      "simple_created_at          100 non-null object\n",
      "show_virtusize             100 non-null int64\n",
      "show_chart                 100 non-null int64\n",
      "shipment_type              100 non-null object\n",
      "season                     100 non-null object\n",
      "image_url                  100 non-null object\n",
      "gender                     100 non-null object\n",
      "config_updated_at          100 non-null object\n",
      "id_config_product          100 non-null int64\n",
      "config_group               100 non-null object\n",
      "config_created_at          100 non-null object\n",
      "color_family               100 non-null object\n",
      "color                      100 non-null object\n",
      "category                   100 non-null object\n",
      "catalog_type               100 non-null object\n",
      "buying_price_group         100 non-null int64\n",
      "brand_type                 100 non-null object\n",
      "activated_at_date          100 non-null object\n",
      "season_year                100 non-null int64\n",
      "dwh_created_at             100 non-null object\n",
      "product_life_cycle         100 non-null int64\n",
      "supplier_currency          100 non-null object\n",
      "brand_tier                 100 non-null int64\n",
      "brand_identifier           100 non-null int64\n",
      "sub_cat                    100 non-null object\n",
      "date (Day of Month)        100 non-null int64\n",
      "date (Day of Week)         100 non-null int64\n",
      "dtypes: float64(4), int64(14), object(27)\n",
      "memory usage: 35.2+ KB\n"
     ]
    }
   ],
   "source": [
    "dr_pred.info()"
   ]
  },
  {
   "cell_type": "code",
   "execution_count": null,
   "metadata": {
    "collapsed": true
   },
   "outputs": [],
   "source": [
    "res.sort_values('')"
   ]
  },
  {
   "cell_type": "code",
   "execution_count": 32,
   "metadata": {
    "ExecuteTime": {
     "end_time": "2017-11-21T16:54:17.342168Z",
     "start_time": "2017-11-21T16:54:17.336956Z"
    },
    "collapsed": false
   },
   "outputs": [
    {
     "data": {
      "text/plain": [
       "Timestamp('1971-05-27 08:17:00')"
      ]
     },
     "execution_count": 32,
     "metadata": {},
     "output_type": "execute_result"
    }
   ],
   "source": [
    "pd.to_datetime(736337, unit='m')"
   ]
  },
  {
   "cell_type": "code",
   "execution_count": null,
   "metadata": {
    "collapsed": true
   },
   "outputs": [],
   "source": []
  }
 ],
 "metadata": {
  "kernelspec": {
   "display_name": "Python 2",
   "language": "python",
   "name": "python2"
  },
  "language_info": {
   "codemirror_mode": {
    "name": "ipython",
    "version": 2
   },
   "file_extension": ".py",
   "mimetype": "text/x-python",
   "name": "python",
   "nbconvert_exporter": "python",
   "pygments_lexer": "ipython2",
   "version": "2.7.13"
  },
  "toc": {
   "colors": {
    "hover_highlight": "#DAA520",
    "navigate_num": "#000000",
    "navigate_text": "#333333",
    "running_highlight": "#FF0000",
    "selected_highlight": "#FFD700",
    "sidebar_border": "#EEEEEE",
    "wrapper_background": "#FFFFFF"
   },
   "moveMenuLeft": true,
   "nav_menu": {
    "height": "12px",
    "width": "252px"
   },
   "navigate_menu": true,
   "number_sections": true,
   "sideBar": true,
   "threshold": 4,
   "toc_cell": false,
   "toc_section_display": "block",
   "toc_window_display": false,
   "widenNotebook": false
  },
  "varInspector": {
   "cols": {
    "lenName": 16,
    "lenType": 16,
    "lenVar": 40
   },
   "kernels_config": {
    "python": {
     "delete_cmd_postfix": "",
     "delete_cmd_prefix": "del ",
     "library": "var_list.py",
     "varRefreshCmd": "print(var_dic_list())"
    },
    "r": {
     "delete_cmd_postfix": ") ",
     "delete_cmd_prefix": "rm(",
     "library": "var_list.r",
     "varRefreshCmd": "cat(var_dic_list()) "
    }
   },
   "types_to_exclude": [
    "module",
    "function",
    "builtin_function_or_method",
    "instance",
    "_Feature"
   ],
   "window_display": false
  }
 },
 "nbformat": 4,
 "nbformat_minor": 2
}
