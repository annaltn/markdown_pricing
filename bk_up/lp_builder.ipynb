{
 "cells": [
  {
   "cell_type": "markdown",
   "metadata": {},
   "source": [
    "## Inits"
   ]
  },
  {
   "cell_type": "markdown",
   "metadata": {},
   "source": [
    "+ Modules for LP/IP:"
   ]
  },
  {
   "cell_type": "code",
   "execution_count": 1,
   "metadata": {
    "ExecuteTime": {
     "end_time": "2017-11-12T14:48:26.536729Z",
     "start_time": "2017-11-12T14:48:26.492898Z"
    },
    "collapsed": true
   },
   "outputs": [],
   "source": [
    "import cplex\n",
    "from cplex import Cplex\n",
    "from cplex.exceptions import CplexError"
   ]
  },
  {
   "cell_type": "markdown",
   "metadata": {},
   "source": [
    "+ Global vars:"
   ]
  },
  {
   "cell_type": "code",
   "execution_count": 14,
   "metadata": {
    "ExecuteTime": {
     "end_time": "2017-11-12T15:07:26.717926Z",
     "start_time": "2017-11-12T15:07:26.714242Z"
    },
    "collapsed": true
   },
   "outputs": [],
   "source": [
    "CLEAN_DIR = '~/data/venture=Zalora/sg/clean/'\n",
    "RES_DIR = '~/projects/daas-markdown/res/'\n",
    "GROUP_DIR = CLEAN_DIR + 'groups/'\n",
    "FEAT_DIR = GROUP_DIR + 'feats/'\n",
    "# TODAY = pd.datetime.today().date()"
   ]
  },
  {
   "cell_type": "markdown",
   "metadata": {
    "heading_collapsed": true
   },
   "source": [
    "## IP formulation"
   ]
  },
  {
   "cell_type": "markdown",
   "metadata": {
    "heading_collapsed": true,
    "hidden": true
   },
   "source": [
    "### Input, Output"
   ]
  },
  {
   "cell_type": "markdown",
   "metadata": {
    "hidden": true
   },
   "source": [
    "Given a date $d$, input & output of the `price optimizer` module are follows:\n",
    "\n",
    "__Input__:\n",
    "\n",
    "+ the set of SKU configs whose prices on $d$ need to be optimized\n",
    "+ the set of possible prices for the configs\n",
    "+ inventory constraints on $d$, i.e. the number of remaining units in inventory of each config on $d$\n",
    "\n",
    "__Output__: the list of optimal prices for the configs"
   ]
  },
  {
   "cell_type": "markdown",
   "metadata": {
    "heading_collapsed": true,
    "hidden": true
   },
   "source": [
    "### Math formulation of the problem"
   ]
  },
  {
   "cell_type": "markdown",
   "metadata": {
    "hidden": true
   },
   "source": [
    "\\begin{align}\n",
    "\t\\label{IP_s}\n",
    "\t\\max & \\sum_{i \\in I_o} \\sum_{j \\in J} p_j D_{i, j, s} x_{i, j} \\\\\n",
    "\ts.t. & \\sum_{j \\in J} x_{i, j} = 1, ~\\forall i \\in I_o  \\\\\n",
    "\t \t & \\sum_{i \\in I_o} \\sum_{j \\in J} p_j x_{i, j} = s  \\\\\n",
    "\t\t & x_{i, j} \\in \\{0, 1 \\} \\\\\n",
    "\t\t & D_{i, j, s} \\le n_i \n",
    "\\end{align}"
   ]
  },
  {
   "cell_type": "markdown",
   "metadata": {
    "hidden": true
   },
   "source": [
    "### Components of the IP\n",
    "\n",
    "+ objective function\n",
    "+ single-price constraints\n",
    "+ sum constraints\n",
    "+ binary type constraints\n",
    "+ inventory constraints"
   ]
  },
  {
   "cell_type": "markdown",
   "metadata": {},
   "source": [
    "# Helpers to populate LP"
   ]
  },
  {
   "cell_type": "markdown",
   "metadata": {},
   "source": [
    "## Variable setters"
   ]
  },
  {
   "cell_type": "code",
   "execution_count": 2,
   "metadata": {
    "ExecuteTime": {
     "end_time": "2017-11-12T14:52:56.624732Z",
     "start_time": "2017-11-12T14:52:56.619057Z"
    },
    "collapsed": true
   },
   "outputs": [],
   "source": [
    "def set_var_type(prob, binary=True):\n",
    "    var_names = prob.variables.get_names()\n",
    "    if binary:\n",
    "        types = [prob.variables.type.binary]*len(var_names)\n",
    "    else:\n",
    "        types = [prob.variables.type.continuous]*len(var_names)\n",
    "        \n",
    "    prob.variables.set_types(list(zip(var_names, types)))\n",
    "    print('+ set variable types as {}'.format(prob.variables.get_types()))\n",
    "    return prob"
   ]
  },
  {
   "cell_type": "markdown",
   "metadata": {
    "heading_collapsed": true
   },
   "source": [
    "## Constraint setters"
   ]
  },
  {
   "cell_type": "code",
   "execution_count": 21,
   "metadata": {
    "ExecuteTime": {
     "end_time": "2017-11-13T11:58:29.379870Z",
     "start_time": "2017-11-13T11:58:29.364262Z"
    },
    "code_folding": [
     0,
     13
    ],
    "collapsed": true,
    "hidden": true
   },
   "outputs": [],
   "source": [
    "def mk_var_names(configs, prices):\n",
    "    \n",
    "    n_config, n_price = len(configs), len(prices)\n",
    "    var_names = []\n",
    "    config_idx, price_idx = np.arange(n_config) + 1, np.arange(n_price) + 1\n",
    "    \n",
    "    for i in config_idx:\n",
    "        prefix = 'x_{}'.format(i)\n",
    "        row = [prefix + str(j) for j in price_idx]\n",
    "        var_names += [row]\n",
    "        \n",
    "    return np.array(var_names)\n",
    "\n",
    "def mk_opc_lhs(configs, prices, var_names):\n",
    "    lhs = []\n",
    "    coefs = np.ones(len(prices))\n",
    "    \n",
    "    for i, cf in enumerate(configs):\n",
    "        count = i+1\n",
    "        if count % 100 == 0:\n",
    "            print('\\t created one-price lhs for {} config ...'.format(count))\n",
    "        row = cplex.SparsePair(ind=var_names[i], val=coefs)\n",
    "        lhs += [row]\n",
    "        \n",
    "    return lhs"
   ]
  },
  {
   "cell_type": "code",
   "execution_count": 4,
   "metadata": {
    "ExecuteTime": {
     "end_time": "2017-11-12T14:53:51.010022Z",
     "start_time": "2017-11-12T14:53:51.001865Z"
    },
    "collapsed": true,
    "hidden": true
   },
   "outputs": [],
   "source": [
    "def add_one_price_constraints(prob, configs, prices, var_names): # one per config\n",
    "    \n",
    "    n_config, n_price = len(configs), len(prices)\n",
    "    n_var = n_config * n_price\n",
    "    lhs = mk_opc_lhs(configs, prices, var_names)\n",
    "    \n",
    "    my_sense = ['E'] * n_config\n",
    "    my_rhs = np.ones(n_config)\n",
    "    my_rownames = ['opc_config_{}'.format(i) for i in range(n_config)]\n",
    "    \n",
    "    prob.linear_constraints.add(lin_expr=lhs, senses=my_sense, rhs=my_rhs, names=my_rownames)\n",
    "    \n",
    "    print('+ added {} one-price constraints for {} configs'.format(n_config, n_config))\n",
    "    return prob"
   ]
  },
  {
   "cell_type": "code",
   "execution_count": 5,
   "metadata": {
    "ExecuteTime": {
     "end_time": "2017-11-12T14:53:58.933368Z",
     "start_time": "2017-11-12T14:53:58.927789Z"
    },
    "collapsed": true,
    "hidden": true
   },
   "outputs": [],
   "source": [
    "def add_sum_constraints(prob, s, prices, configs, var_names):\n",
    "    \n",
    "    coefs = np.array([prices] * len(configs))\n",
    "    lhs = cplex.SparsePair(ind=var_names.ravel(), val=coefs.ravel())\n",
    "    \n",
    "    prob.linear_constraints.add(lin_expr=[lhs], senses=['E'], rhs=[s], names=['sum_constraint'])\n",
    "    print('+ added sum constraint')\n",
    "    return prob"
   ]
  },
  {
   "cell_type": "markdown",
   "metadata": {
    "ExecuteTime": {
     "end_time": "2017-11-12T14:54:17.604185Z",
     "start_time": "2017-11-12T14:54:17.600334Z"
    },
    "hidden": true
   },
   "source": [
    "__Note:__ inventory constraints are non-linear, stochastic ones. Thus, they will be added in later version."
   ]
  },
  {
   "cell_type": "code",
   "execution_count": 7,
   "metadata": {
    "ExecuteTime": {
     "end_time": "2017-11-12T14:54:31.738228Z",
     "start_time": "2017-11-12T14:54:31.734818Z"
    },
    "collapsed": true,
    "hidden": true
   },
   "outputs": [],
   "source": [
    "def add_inventory_constraints(prob, predicted_demands, inv_amount):\n",
    "    print('+ added inventory constraints')\n",
    "    pass"
   ]
  },
  {
   "cell_type": "code",
   "execution_count": 8,
   "metadata": {
    "ExecuteTime": {
     "end_time": "2017-11-12T14:54:39.381531Z",
     "start_time": "2017-11-12T14:54:39.376186Z"
    },
    "collapsed": true,
    "hidden": true
   },
   "outputs": [],
   "source": [
    "def add_bounds(prob, lb, ub):\n",
    "    var_names = prob.variables.get_names()\n",
    "    n_var = len(var_names)\n",
    "    lower_bounds, upper_bounds = [lb]*n_var, [ub]*n_var\n",
    "    prob.variables.set_lower_bounds(list(zip(var_names, lower_bounds)))\n",
    "    prob.variables.set_upper_bounds(list(zip(var_names, upper_bounds)))\n",
    "    print('+ added bounds')\n",
    "    return prob"
   ]
  },
  {
   "cell_type": "markdown",
   "metadata": {},
   "source": [
    "## Objective function setters"
   ]
  },
  {
   "cell_type": "markdown",
   "metadata": {},
   "source": [
    "### Train a sales predictor\n",
    "The trainning should be done offline."
   ]
  },
  {
   "cell_type": "code",
   "execution_count": null,
   "metadata": {
    "collapsed": true
   },
   "outputs": [],
   "source": [
    "demand_predictor = DemandPredictor()"
   ]
  },
  {
   "cell_type": "code",
   "execution_count": null,
   "metadata": {
    "collapsed": true
   },
   "outputs": [],
   "source": [
    "feat_mat = input_loader.form_feat_mat(group=gname, global_X=global_X)\n",
    "ready_df = input_loader.attach_response(feat_mat, my_trigger.sale_hist)\n",
    "train_df, test_df = data_splitter.split_train_test(ready_df)"
   ]
  },
  {
   "cell_type": "code",
   "execution_count": null,
   "metadata": {
    "collapsed": true
   },
   "outputs": [],
   "source": [
    "best_xgb = demand_predictor.fit_xgb(train_df)\n",
    "predictor = best_xgb.best_estimator_"
   ]
  },
  {
   "cell_type": "markdown",
   "metadata": {},
   "source": [
    "### Predict sales associated with a value of total price\n",
    "\n",
    "Given the trained predictor, we now can perform the sales prediction needed by PO."
   ]
  },
  {
   "cell_type": "markdown",
   "metadata": {},
   "source": [
    "__Context__: Consider date $dd$. Let `group_size` be the number of configs in the group on $dd$ and $s_{out}$ be the total price of configs that we do not need to be optimized (thus the total price is fixed).\n",
    "\n",
    "Given a config, possible prices and the fact that the prices sum to $s$, predict sales of the config at the given prices."
   ]
  },
  {
   "cell_type": "code",
   "execution_count": null,
   "metadata": {
    "collapsed": true
   },
   "outputs": [],
   "source": [
    "# context\n",
    "group_size =  len(all_configs)\n",
    "s_out = 1000 # hypothetic, replace by actual value later\n",
    "mean_price = (s + s_out)/group_size\n",
    "cols = ['sku_config', 'price', 'total_price', 'predicted_sale']"
   ]
  },
  {
   "cell_type": "code",
   "execution_count": 19,
   "metadata": {
    "ExecuteTime": {
     "end_time": "2017-11-13T10:13:52.496914Z",
     "start_time": "2017-11-13T10:13:52.486982Z"
    },
    "code_folding": [
     0
    ],
    "collapsed": true
   },
   "outputs": [],
   "source": [
    "def predict_sales(cf, prices, predictor):\n",
    "    print('config: {}'.format(cf))\n",
    "    data_cols = feats + ['black_price']\n",
    "    \n",
    "    def predict_sale_for_price(p):\n",
    "        rec = feat_mat.query('sku_config == \"{}\"'.format(cf))[data_cols].head(1)\n",
    "        rec['date'] = dd\n",
    "\n",
    "        # update price-relevant feats\n",
    "        rec['current_price'] = p\n",
    "        rec['discount_from_rrp'] = 100*(rec['black_price'] - rec['current_price'])/rec['black_price']\n",
    "        rec['rel_price'] = rec['current_price']/mean_price\n",
    "        return predictor.predict(rec[feats])[0]\n",
    "    \n",
    "    sales = [predict_sale_for_price(p) for p in prices]\n",
    "    res = pd.DataFrame({'sku_config': cf, 'price': prices, 'total_price': s, 'predicted_sale': sales})\n",
    "    return res[cols]"
   ]
  },
  {
   "cell_type": "code",
   "execution_count": 10,
   "metadata": {
    "ExecuteTime": {
     "end_time": "2017-11-12T14:58:34.706595Z",
     "start_time": "2017-11-12T14:58:34.703103Z"
    },
    "code_folding": [
     0
    ],
    "collapsed": true
   },
   "outputs": [],
   "source": [
    "def cal_obj_coefs(df): # pred_sale_df\n",
    "    coefs = np.array(df['price'] * df['predicted_sale'])\n",
    "    return coefs"
   ]
  },
  {
   "cell_type": "code",
   "execution_count": 11,
   "metadata": {
    "ExecuteTime": {
     "end_time": "2017-11-12T14:58:46.622178Z",
     "start_time": "2017-11-12T14:58:46.617203Z"
    },
    "code_folding": [
     0
    ],
    "collapsed": true
   },
   "outputs": [],
   "source": [
    "def add_obj(prob, configs, prices, s, dd):\n",
    "    '''\n",
    "    add obj functions & binary vars declaration\n",
    "    '''\n",
    "    frames = [predict_sales(cf, prices, predictor) for cf in configs]\n",
    "    pred_sale_df = pd.concat(frames)\n",
    "    \n",
    "    obj_coefs = cal_obj_coefs(pred_sale_df)\n",
    "    var_names = prob.variables.get_names()\n",
    "    prob.objective.set_linear(list(zip(var_names, obj_coefs)))\n",
    "    print('+ added objective function')\n",
    "    return prob"
   ]
  },
  {
   "cell_type": "markdown",
   "metadata": {},
   "source": [
    "## To get components"
   ]
  },
  {
   "cell_type": "code",
   "execution_count": 12,
   "metadata": {
    "ExecuteTime": {
     "end_time": "2017-11-12T14:59:20.766245Z",
     "start_time": "2017-11-12T14:59:20.754787Z"
    },
    "code_folding": [
     0
    ],
    "collapsed": true
   },
   "outputs": [],
   "source": [
    "def get_constraints(prob):\n",
    "    \n",
    "    def pretty_lhs(spair):\n",
    "        '''\n",
    "        Given lhs of a constraint in `cplex.SparsePair` form, convert it to human readable format\n",
    "        '''\n",
    "        idx = spair.ind\n",
    "        variables = prob.variables.get_names(idx)\n",
    "        coefs = spair.val\n",
    "        terms = [''.join([str(coefs[i]), v]) for i, v in enumerate(variables)]\n",
    "        return ' + '.join(terms)\n",
    "    \n",
    "    lin_con = prob.linear_constraints\n",
    "    names = lin_con.get_names()\n",
    "    sparse_pairs = lin_con.get_rows()\n",
    "    lhs = [pretty_lhs(spair) for spair in sparse_pairs]\n",
    "    \n",
    "    senses = lin_con.get_senses()\n",
    "    rhs = lin_con.get_rhs()\n",
    "    \n",
    "    constraints = pd.DataFrame({'name': names, 'lhs': lhs, 'sense': senses, 'rhs': rhs})\n",
    "    cols = ['name', 'lhs', 'sense', 'rhs']\n",
    "    return constraints[cols]"
   ]
  },
  {
   "cell_type": "code",
   "execution_count": 20,
   "metadata": {
    "ExecuteTime": {
     "end_time": "2017-11-13T10:22:02.308149Z",
     "start_time": "2017-11-13T10:22:02.305117Z"
    },
    "collapsed": true
   },
   "outputs": [],
   "source": [
    "def get_type(prob):\n",
    "    type_code = prob.get_problem_type()\n",
    "    return prob.problem_type[type_code]"
   ]
  },
  {
   "cell_type": "code",
   "execution_count": null,
   "metadata": {
    "collapsed": true
   },
   "outputs": [],
   "source": []
  }
 ],
 "metadata": {
  "kernelspec": {
   "display_name": "Python 2",
   "language": "python",
   "name": "python2"
  },
  "language_info": {
   "codemirror_mode": {
    "name": "ipython",
    "version": 2
   },
   "file_extension": ".py",
   "mimetype": "text/x-python",
   "name": "python",
   "nbconvert_exporter": "python",
   "pygments_lexer": "ipython2",
   "version": "2.7.13"
  },
  "toc": {
   "colors": {
    "hover_highlight": "#DAA520",
    "navigate_num": "#000000",
    "navigate_text": "#333333",
    "running_highlight": "#FF0000",
    "selected_highlight": "#FFD700",
    "sidebar_border": "#EEEEEE",
    "wrapper_background": "#FFFFFF"
   },
   "moveMenuLeft": true,
   "nav_menu": {
    "height": "228px",
    "width": "252px"
   },
   "navigate_menu": true,
   "number_sections": true,
   "sideBar": true,
   "threshold": 4,
   "toc_cell": false,
   "toc_section_display": "block",
   "toc_window_display": true,
   "widenNotebook": false
  },
  "varInspector": {
   "cols": {
    "lenName": 16,
    "lenType": 16,
    "lenVar": 40
   },
   "kernels_config": {
    "python": {
     "delete_cmd_postfix": "",
     "delete_cmd_prefix": "del ",
     "library": "var_list.py",
     "varRefreshCmd": "print(var_dic_list())"
    },
    "r": {
     "delete_cmd_postfix": ") ",
     "delete_cmd_prefix": "rm(",
     "library": "var_list.r",
     "varRefreshCmd": "cat(var_dic_list()) "
    }
   },
   "types_to_exclude": [
    "module",
    "function",
    "builtin_function_or_method",
    "instance",
    "_Feature"
   ],
   "window_display": false
  }
 },
 "nbformat": 4,
 "nbformat_minor": 2
}
