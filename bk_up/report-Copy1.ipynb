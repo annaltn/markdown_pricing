{
 "cells": [
  {
   "cell_type": "markdown",
   "metadata": {
    "heading_collapsed": true
   },
   "source": [
    "## Inits"
   ]
  },
  {
   "cell_type": "code",
   "execution_count": 1,
   "metadata": {
    "ExecuteTime": {
     "end_time": "2018-01-29T10:18:31.764994Z",
     "start_time": "2018-01-29T10:18:30.301486Z"
    },
    "collapsed": true,
    "hidden": true,
    "init_cell": true
   },
   "outputs": [],
   "source": [
    "import pandas as pd\n",
    "import numpy as np\n",
    "import matplotlib.pyplot as plt\n",
    "import seaborn as sns\n",
    "\n",
    "%matplotlib inline"
   ]
  },
  {
   "cell_type": "code",
   "execution_count": 2,
   "metadata": {
    "ExecuteTime": {
     "end_time": "2018-01-29T10:18:31.768823Z",
     "start_time": "2018-01-29T10:18:31.766349Z"
    },
    "collapsed": true,
    "hidden": true,
    "init_cell": true
   },
   "outputs": [],
   "source": [
    "model_dir = '/Users/gfg/projects/daas-markdown/res/models/'"
   ]
  },
  {
   "cell_type": "markdown",
   "metadata": {},
   "source": [
    "## Helpers"
   ]
  },
  {
   "cell_type": "code",
   "execution_count": 3,
   "metadata": {
    "ExecuteTime": {
     "end_time": "2018-01-29T10:18:31.786953Z",
     "start_time": "2018-01-29T10:18:31.770303Z"
    },
    "code_folding": [
     0,
     6,
     9,
     14,
     17
    ],
    "collapsed": true,
    "init_cell": true
   },
   "outputs": [],
   "source": [
    "def get_best_err(err_df):\n",
    "    n_row = err_df.shape[0]\n",
    "    idx = np.arange(0, n_row, step=5)\n",
    "    best_err = err_df.iloc[idx].copy()\n",
    "    return best_err\n",
    "\n",
    "def range_str(t):\n",
    "    return '(' + str(t[0]) + ',' + str(t[1]) + ']'\n",
    "\n",
    "def mk_bin_labels(limits):\n",
    "    lb, ub = limits[:-1], limits[1:]\n",
    "    labels = [range_str(t) for t in list(zip(lb, ub))]\n",
    "    return labels\n",
    "\n",
    "def quant_bin(col, df):\n",
    "    return [int(df[col].quantile(q)) for q in [0., .25, .50, .75, 1.]]\n",
    "\n",
    "def cut_to_bins(col, df, limits=None):\n",
    "    if not limits: # use quart-iles as default\n",
    "        limits = quant_bin(col, df)\n",
    "    \n",
    "    labels = mk_bin_labels(limits)\n",
    "    binned = df.copy()\n",
    "    values = pd.cut(binned[col], bins=limits, labels=labels)\n",
    "    binned['bin_{}'.format(col)] = pd.Categorical(values, categories=labels)\n",
    "    return binned, labels"
   ]
  },
  {
   "cell_type": "code",
   "execution_count": 30,
   "metadata": {
    "ExecuteTime": {
     "end_time": "2018-01-29T10:13:20.516702Z",
     "start_time": "2018-01-29T10:13:20.510038Z"
    },
    "code_folding": [
     0
    ],
    "collapsed": true
   },
   "outputs": [],
   "source": [
    "def my_plot(df, factor, labels=None, title=None):\n",
    "    fig, ax = plt.subplots(figsize=(8,5))\n",
    "#     fig.set_size_inches(11.7, 8.27) # the size of A4 paper\n",
    "    if labels:\n",
    "        sns.pointplot(ax=ax, x='bin_n_config', y='test_medape', hue=factor, data=df, order=labels)\n",
    "    else:\n",
    "        sns.pointplot(ax=ax, x='bin_n_config', y='test_medape', hue=factor, data=df)\n",
    "    \n",
    "    ax.set(xlabel='Group size (no. of SKU configs)', ylabel='MEDian Absolute Percentage Error (MEDAPE)')\n",
    "    if title:\n",
    "        ax.set(title=title)\n",
    "    return fig"
   ]
  },
  {
   "cell_type": "markdown",
   "metadata": {},
   "source": [
    "__Note:__: if use `sns.factorplot()` will get the issue of a redundant fig is created. Check how to fix the issue (on github?)"
   ]
  },
  {
   "cell_type": "code",
   "execution_count": null,
   "metadata": {
    "ExecuteTime": {
     "end_time": "2018-01-24T12:09:42.672375Z",
     "start_time": "2018-01-24T12:09:42.669002Z"
    },
    "code_folding": [
     0
    ],
    "collapsed": true
   },
   "outputs": [],
   "source": [
    "def viz_by_group_size(err_df, title):\n",
    "    best_err = get_best_err(err_df)\n",
    "    best_err, labels = cut_to_bins(col='n_config', df=best_err)\n",
    "    \n",
    "    my_boxplot(best_err, labels, title)"
   ]
  },
  {
   "cell_type": "markdown",
   "metadata": {},
   "source": [
    "## Get more group stats\n",
    "\n",
    "Let us get following stats for test data of each group:\n",
    "+ min sale, max sale values. The values are daily\n",
    "+ how far into the future we are making predictions i.e. how far is time window of test set apart from train set (measured later)"
   ]
  },
  {
   "cell_type": "code",
   "execution_count": null,
   "metadata": {
    "ExecuteTime": {
     "end_time": "2018-01-23T16:13:06.917125Z",
     "start_time": "2018-01-23T16:13:06.914383Z"
    },
    "collapsed": true
   },
   "outputs": [],
   "source": [
    "import os\n",
    "res_dir = '/Users/gfg/projects/daas-markdown/res/'"
   ]
  },
  {
   "cell_type": "code",
   "execution_count": null,
   "metadata": {
    "ExecuteTime": {
     "end_time": "2018-01-23T16:23:35.120082Z",
     "start_time": "2018-01-23T16:23:35.117389Z"
    },
    "code_folding": [
     0
    ],
    "collapsed": true
   },
   "outputs": [],
   "source": [
    "def is_pred_file(fname):\n",
    "    return ('_predict.csv' in fname) and ('scaled' not in fname)"
   ]
  },
  {
   "cell_type": "code",
   "execution_count": null,
   "metadata": {
    "ExecuteTime": {
     "end_time": "2018-01-23T16:30:31.100677Z",
     "start_time": "2018-01-23T16:30:31.096430Z"
    },
    "code_folding": [
     0
    ],
    "collapsed": true
   },
   "outputs": [],
   "source": [
    "def get_sale_range(fname):\n",
    "    pred_df = pd.read_csv(res_dir + fname)\n",
    "    group_name = fname.replace('_predict.csv', '')\n",
    "    return pd.DataFrame({'min_sale': min(pred_df['n_sold']), 'max_sale': max(pred_df['n_sold']),\n",
    "                        'avg_sale': np.mean(pred_df['n_sold']), 'median_sale': np.median(pred_df['n_sold'])\n",
    "                        }, \n",
    "                       index=[group_name])"
   ]
  },
  {
   "cell_type": "code",
   "execution_count": null,
   "metadata": {
    "ExecuteTime": {
     "end_time": "2018-01-23T16:30:55.963351Z",
     "start_time": "2018-01-23T16:30:55.950244Z"
    },
    "collapsed": true
   },
   "outputs": [],
   "source": [
    "f = os.listdir(res_dir)[3]\n",
    "# print(f)\n",
    "if is_pred_file(f):\n",
    "    res = get_sale_range(f)\n",
    "res"
   ]
  },
  {
   "cell_type": "code",
   "execution_count": null,
   "metadata": {
    "ExecuteTime": {
     "end_time": "2018-01-23T16:33:59.482990Z",
     "start_time": "2018-01-23T16:33:58.927366Z"
    },
    "collapsed": true
   },
   "outputs": [],
   "source": [
    "frames = [get_sale_range(f) for f in os.listdir(res_dir) if is_pred_file(f)]\n",
    "sale_stats = pd.concat(frames)\n",
    "sale_stats = sale_stats.reset_index().rename(columns={'index': 'group'})"
   ]
  },
  {
   "cell_type": "markdown",
   "metadata": {},
   "source": [
    "# DP with original features"
   ]
  },
  {
   "cell_type": "code",
   "execution_count": null,
   "metadata": {
    "ExecuteTime": {
     "end_time": "2018-01-24T10:25:55.410166Z",
     "start_time": "2018-01-24T10:25:54.974846Z"
    },
    "collapsed": true
   },
   "outputs": [],
   "source": [
    "best_err = get_best_err(err_df)\n",
    "df = best_err.query('n_config >= 70')\n",
    "\n",
    "cols = ['test_medape', 'n_config', 'avg_records_per_config']\n",
    "df[cols].hist()\n",
    "plt.show()"
   ]
  },
  {
   "cell_type": "markdown",
   "metadata": {
    "ExecuteTime": {
     "end_time": "2018-01-24T09:49:12.301790Z",
     "start_time": "2018-01-24T09:49:12.299004Z"
    }
   },
   "source": [
    "__Obs:__ just a few groups have more than 500 configs, even fewer for 1000 configs."
   ]
  },
  {
   "cell_type": "code",
   "execution_count": null,
   "metadata": {
    "ExecuteTime": {
     "end_time": "2018-01-24T09:53:46.053395Z",
     "start_time": "2018-01-24T09:53:46.049562Z"
    },
    "collapsed": true
   },
   "outputs": [],
   "source": [
    "thres = 1000\n",
    "print('# groups with at least {0} configs: {1}'.format(thres, sum(df.n_config >= thres)))"
   ]
  },
  {
   "cell_type": "code",
   "execution_count": null,
   "metadata": {
    "collapsed": true
   },
   "outputs": [],
   "source": []
  },
  {
   "cell_type": "markdown",
   "metadata": {
    "heading_collapsed": true
   },
   "source": [
    "## Accuracy vs. average number of records"
   ]
  },
  {
   "cell_type": "code",
   "execution_count": null,
   "metadata": {
    "ExecuteTime": {
     "end_time": "2018-01-23T15:21:01.372318Z",
     "start_time": "2018-01-23T15:21:01.329006Z"
    },
    "collapsed": true,
    "hidden": true
   },
   "outputs": [],
   "source": [
    "# bin no. of records\n",
    "best_err = cut_to_bins(col='avg_records_per_config', df=best_err)"
   ]
  },
  {
   "cell_type": "code",
   "execution_count": null,
   "metadata": {
    "ExecuteTime": {
     "end_time": "2018-01-23T17:01:38.815993Z",
     "start_time": "2018-01-23T17:01:38.488610Z"
    },
    "collapsed": true,
    "hidden": true
   },
   "outputs": [],
   "source": [
    "sns.boxplot(x='bin_avg_records_per_config', y='test_medape', data=best_err)\n",
    "plt.xlabel('Avg. number of records per config'); plt.ylabel('MEDian Absolute Percentage Error (MEDAPE)')\n",
    "plt.savefig(res_dir + 'acc_n_records.pdf')\n",
    "plt.show()"
   ]
  },
  {
   "cell_type": "markdown",
   "metadata": {},
   "source": [
    "## Groups with small error?"
   ]
  },
  {
   "cell_type": "code",
   "execution_count": null,
   "metadata": {
    "ExecuteTime": {
     "end_time": "2018-01-23T16:46:54.605993Z",
     "start_time": "2018-01-23T16:46:54.600862Z"
    },
    "collapsed": true
   },
   "outputs": [],
   "source": [
    "# err_quants = [best_err.test_medape.quantile(q) for q in [.25, .5, .75, 1.]]\n",
    "low = best_err.test_medape.quantile(.25)\n",
    "small_err_df = best_err[best_err.test_medape <= low]"
   ]
  },
  {
   "cell_type": "code",
   "execution_count": null,
   "metadata": {
    "ExecuteTime": {
     "end_time": "2018-01-23T16:47:07.988393Z",
     "start_time": "2018-01-23T16:47:07.970006Z"
    },
    "collapsed": true
   },
   "outputs": [],
   "source": [
    "cols = ['n_config', 'avg_records_per_config', 'max_sale', 'min_sale']\n",
    "small_err_df[cols].describe()"
   ]
  },
  {
   "cell_type": "code",
   "execution_count": null,
   "metadata": {
    "ExecuteTime": {
     "end_time": "2018-01-23T15:36:38.659580Z",
     "start_time": "2018-01-23T15:36:38.631220Z"
    },
    "collapsed": true
   },
   "outputs": [],
   "source": [
    "small_err_df"
   ]
  },
  {
   "cell_type": "code",
   "execution_count": null,
   "metadata": {
    "ExecuteTime": {
     "end_time": "2018-01-23T16:52:47.324100Z",
     "start_time": "2018-01-23T16:52:47.317804Z"
    },
    "collapsed": true
   },
   "outputs": [],
   "source": [
    "small_err_df.avg_sale.describe()"
   ]
  },
  {
   "cell_type": "markdown",
   "metadata": {},
   "source": [
    "## Groups with large error?"
   ]
  },
  {
   "cell_type": "code",
   "execution_count": null,
   "metadata": {
    "ExecuteTime": {
     "end_time": "2018-01-23T16:53:23.098768Z",
     "start_time": "2018-01-23T16:53:23.094227Z"
    },
    "collapsed": true
   },
   "outputs": [],
   "source": [
    "high = best_err.test_medape.quantile(.75)\n",
    "big_err_df = best_err[best_err.test_medape >= high]"
   ]
  },
  {
   "cell_type": "code",
   "execution_count": null,
   "metadata": {
    "ExecuteTime": {
     "end_time": "2018-01-23T16:53:36.171522Z",
     "start_time": "2018-01-23T16:53:36.164857Z"
    },
    "collapsed": true
   },
   "outputs": [],
   "source": [
    "big_err_df.avg_sale.describe()"
   ]
  },
  {
   "cell_type": "code",
   "execution_count": null,
   "metadata": {
    "ExecuteTime": {
     "end_time": "2018-01-23T16:50:14.554138Z",
     "start_time": "2018-01-23T16:50:14.534654Z"
    },
    "collapsed": true
   },
   "outputs": [],
   "source": [
    "big_err_df[cols].describe()"
   ]
  },
  {
   "cell_type": "markdown",
   "metadata": {},
   "source": [
    "# Normalized vs. origin features"
   ]
  },
  {
   "cell_type": "markdown",
   "metadata": {},
   "source": [
    "## Accuracy vs. group size\n",
    "\n",
    "Accuracy is measured by MEDian Absolute Percentage Error (MEDAPE)."
   ]
  },
  {
   "cell_type": "markdown",
   "metadata": {},
   "source": [
    "### Data on metrics"
   ]
  },
  {
   "cell_type": "code",
   "execution_count": null,
   "metadata": {
    "collapsed": true
   },
   "outputs": [],
   "source": [
    "err_df = pd.read_csv(model_dir + 'metrics.csv')\n",
    "scaled_err_df = pd.read_csv(model_dir + 'metrics_scaled_feat.csv')\n",
    "\n",
    "best_err1 = get_best_err(err_df)\n",
    "best_err1['used_features'] = 'original'\n",
    "\n",
    "best_err2 = get_best_err(scaled_err_df)\n",
    "best_err2['used_features'] = 'normalized'\n",
    "\n",
    "best_err = pd.concat([best_err1, best_err2])"
   ]
  },
  {
   "cell_type": "code",
   "execution_count": 15,
   "metadata": {
    "ExecuteTime": {
     "end_time": "2018-01-29T10:03:26.429850Z",
     "start_time": "2018-01-29T10:03:26.423061Z"
    },
    "code_folding": [],
    "collapsed": true,
    "scrolled": false
   },
   "outputs": [],
   "source": [
    "binned_err, labels = cut_to_bins(col='n_config', df=best_err)\n",
    "binned_err.reset_index(drop=True, inplace=True)"
   ]
  },
  {
   "cell_type": "code",
   "execution_count": 16,
   "metadata": {
    "ExecuteTime": {
     "end_time": "2018-01-29T10:03:27.176085Z",
     "start_time": "2018-01-29T10:03:27.170633Z"
    },
    "collapsed": true
   },
   "outputs": [
    {
     "data": {
      "text/plain": [
       "0      (69,162]\n",
       "1      (69,162]\n",
       "2      (69,162]\n",
       "3       (38,69]\n",
       "4    (162,1462]\n",
       "Name: bin_n_config, dtype: category\n",
       "Categories (4, object): [(2,38], (38,69], (69,162], (162,1462]]"
      ]
     },
     "execution_count": 16,
     "metadata": {},
     "output_type": "execute_result"
    }
   ],
   "source": [
    "binned_err.bin_n_config.head()"
   ]
  },
  {
   "cell_type": "markdown",
   "metadata": {
    "heading_collapsed": true
   },
   "source": [
    "### First plot"
   ]
  },
  {
   "cell_type": "code",
   "execution_count": 17,
   "metadata": {
    "ExecuteTime": {
     "end_time": "2018-01-29T10:04:07.750682Z",
     "start_time": "2018-01-29T10:04:07.382275Z"
    },
    "hidden": true
   },
   "outputs": [
    {
     "data": {
      "image/png": "[encoded data removed]",
      "text/plain": [
       "<matplotlib.figure.Figure at 0x11b990208>"
      ]
     },
     "metadata": {},
     "output_type": "display_data"
    }
   ],
   "source": [
    "acc_plot = my_plot(df=binned_err, factor='used_features',\n",
    "              labels=labels, title='Accuracy vs. group size')"
   ]
  },
  {
   "cell_type": "markdown",
   "metadata": {
    "hidden": true
   },
   "source": [
    "The chart reveals that:\n",
    "+ most groups have MEDAPE less than 10%, except groups with more than 160 SKU configs. Still, 75% of these groups have MEDAPE less than 20%. These are good news.\n",
    "+ groups with a large number of configs (>= 70) have large variance in MEDAPE. Let us look at them in more details."
   ]
  },
  {
   "cell_type": "markdown",
   "metadata": {},
   "source": [
    "### Dive deeper"
   ]
  },
  {
   "cell_type": "code",
   "execution_count": 35,
   "metadata": {
    "ExecuteTime": {
     "end_time": "2018-01-29T10:14:25.472564Z",
     "start_time": "2018-01-29T10:14:25.466777Z"
    },
    "collapsed": true
   },
   "outputs": [],
   "source": [
    "# groups with size >= 70\n",
    "sub_df = binned_err.query('n_config >= 70').copy()\n",
    "sub_df.bin_n_config = sub_df.bin_n_config.cat.remove_unused_categories()"
   ]
  },
  {
   "cell_type": "code",
   "execution_count": 36,
   "metadata": {
    "ExecuteTime": {
     "end_time": "2018-01-29T10:14:26.300465Z",
     "start_time": "2018-01-29T10:14:26.033575Z"
    },
    "code_folding": []
   },
   "outputs": [
    {
     "data": {
      "image/png": "[encoded data removed]",
      "text/plain": [
       "<matplotlib.figure.Figure at 0x11c04c8d0>"
      ]
     },
     "metadata": {},
     "output_type": "display_data"
    }
   ],
   "source": [
    "p2 = my_plot(df=sub_df, factor='used_features', title='Accuracy of groups with at least 70 configs')"
   ]
  },
  {
   "cell_type": "markdown",
   "metadata": {},
   "source": [
    "__Obs:__ largest variance, groups with size from 102 to 118."
   ]
  },
  {
   "cell_type": "code",
   "execution_count": null,
   "metadata": {
    "collapsed": true
   },
   "outputs": [],
   "source": []
  },
  {
   "cell_type": "code",
   "execution_count": null,
   "metadata": {
    "ExecuteTime": {
     "end_time": "2018-01-24T12:10:03.724742Z",
     "start_time": "2018-01-24T12:10:03.143051Z"
    },
    "collapsed": true,
    "scrolled": true
   },
   "outputs": [],
   "source": [
    "# violin plot\n",
    "my_factorplot(df=binned_err, factor='used_features', \n",
    "              labels=labels, title='Accuracy vs. group size')"
   ]
  },
  {
   "cell_type": "code",
   "execution_count": null,
   "metadata": {
    "ExecuteTime": {
     "end_time": "2018-01-23T18:01:47.559387Z",
     "start_time": "2018-01-23T18:01:47.169520Z"
    },
    "collapsed": true,
    "scrolled": false
   },
   "outputs": [],
   "source": [
    "# faceted\n",
    "sns.factorplot(x='bin_n_config', y='test_medape', data=best_err, \n",
    "               col='used_features', order=labels, kind='point')\n",
    "plt.show()"
   ]
  },
  {
   "cell_type": "markdown",
   "metadata": {},
   "source": [
    "Where are two last bins?!!"
   ]
  },
  {
   "cell_type": "code",
   "execution_count": null,
   "metadata": {
    "ExecuteTime": {
     "end_time": "2018-01-23T18:00:07.242947Z",
     "start_time": "2018-01-23T18:00:07.239092Z"
    },
    "collapsed": true
   },
   "outputs": [],
   "source": [
    "best_err.shape[0]"
   ]
  },
  {
   "cell_type": "code",
   "execution_count": null,
   "metadata": {
    "ExecuteTime": {
     "end_time": "2018-01-23T17:53:08.013252Z",
     "start_time": "2018-01-23T17:53:08.004754Z"
    },
    "collapsed": true
   },
   "outputs": [],
   "source": [
    "best_err.bin_n_config.value_counts()"
   ]
  },
  {
   "cell_type": "code",
   "execution_count": null,
   "metadata": {
    "ExecuteTime": {
     "end_time": "2018-01-23T17:46:34.846330Z",
     "start_time": "2018-01-23T17:46:34.828163Z"
    },
    "collapsed": true,
    "scrolled": true
   },
   "outputs": [],
   "source": [
    "best_err.sort_values(['group'], inplace=True)\n",
    "best_err.head(6)"
   ]
  },
  {
   "cell_type": "code",
   "execution_count": null,
   "metadata": {
    "ExecuteTime": {
     "end_time": "2018-01-23T17:48:33.689573Z",
     "start_time": "2018-01-23T17:48:33.418472Z"
    },
    "collapsed": true
   },
   "outputs": [],
   "source": [
    "best_err1 = cut_to_bins(col='n_config', df=best_err1)\n",
    "sns.boxplot(x='bin_n_config', y='test_medape', data=best_err1, order=labels)\n",
    "plt.show()"
   ]
  },
  {
   "cell_type": "code",
   "execution_count": null,
   "metadata": {
    "ExecuteTime": {
     "end_time": "2018-01-24T13:48:53.204830Z",
     "start_time": "2018-01-24T13:48:53.202171Z"
    },
    "collapsed": true
   },
   "outputs": [],
   "source": [
    "plt.close('all')"
   ]
  },
  {
   "cell_type": "code",
   "execution_count": null,
   "metadata": {
    "collapsed": true
   },
   "outputs": [],
   "source": []
  }
 ],
 "metadata": {
  "kernelspec": {
   "display_name": "Python 3",
   "language": "python",
   "name": "python3"
  },
  "language_info": {
   "codemirror_mode": {
    "name": "ipython",
    "version": 3
   },
   "file_extension": ".py",
   "mimetype": "text/x-python",
   "name": "python",
   "nbconvert_exporter": "python",
   "pygments_lexer": "ipython3",
   "version": "3.6.0"
  },
  "toc": {
   "colors": {
    "hover_highlight": "#DAA520",
    "navigate_num": "#000000",
    "navigate_text": "#333333",
    "running_highlight": "#FF0000",
    "selected_highlight": "#FFD700",
    "sidebar_border": "#EEEEEE",
    "wrapper_background": "#FFFFFF"
   },
   "moveMenuLeft": true,
   "nav_menu": {
    "height": "174px",
    "width": "252px"
   },
   "navigate_menu": true,
   "number_sections": true,
   "sideBar": true,
   "threshold": 4,
   "toc_cell": false,
   "toc_section_display": "block",
   "toc_window_display": true,
   "widenNotebook": false
  },
  "varInspector": {
   "cols": {
    "lenName": 16,
    "lenType": 16,
    "lenVar": 40
   },
   "kernels_config": {
    "python": {
     "delete_cmd_postfix": "",
     "delete_cmd_prefix": "del ",
     "library": "var_list.py",
     "varRefreshCmd": "print(var_dic_list())"
    },
    "r": {
     "delete_cmd_postfix": ") ",
     "delete_cmd_prefix": "rm(",
     "library": "var_list.r",
     "varRefreshCmd": "cat(var_dic_list()) "
    }
   },
   "types_to_exclude": [
    "module",
    "function",
    "builtin_function_or_method",
    "instance",
    "_Feature"
   ],
   "window_display": false
  }
 },
 "nbformat": 4,
 "nbformat_minor": 2
}
