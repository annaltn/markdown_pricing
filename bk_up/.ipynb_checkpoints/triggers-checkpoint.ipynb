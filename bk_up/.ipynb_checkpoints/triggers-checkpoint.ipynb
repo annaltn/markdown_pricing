{
 "cells": [
  {
   "cell_type": "markdown",
   "metadata": {},
   "source": [
    "This notebook will investigate current status of sales in Zalora w.r.t. stock/inventory status. For each SKU config, we want to know if we are selling it too fast/too slow s.t. we can make price adjustments effectively and timely.\n",
    "\n",
    "__Note__ (from mtg on 10-Oct-17): Use last 14 days of data to calculate avg sale velocity. Compare it with target sale velocity (current stock/n_remaining days)"
   ]
  },
  {
   "cell_type": "markdown",
   "metadata": {},
   "source": [
    "## Inits"
   ]
  },
  {
   "cell_type": "code",
   "execution_count": 1,
   "metadata": {
    "ExecuteTime": {
     "end_time": "2017-11-06T15:44:05.975196Z",
     "start_time": "2017-11-06T15:44:05.157859Z"
    },
    "collapsed": true,
    "init_cell": true
   },
   "outputs": [],
   "source": [
    "import pandas as pd\n",
    "import numpy as np\n",
    "import matplotlib.pyplot as pl\n",
    "\n",
    "from datetime import timedelta"
   ]
  },
  {
   "cell_type": "code",
   "execution_count": 2,
   "metadata": {
    "ExecuteTime": {
     "end_time": "2017-11-06T15:44:05.980130Z",
     "start_time": "2017-11-06T15:44:05.977089Z"
    },
    "collapsed": true,
    "init_cell": true
   },
   "outputs": [],
   "source": [
    "CLEAN_DIR = '/Users/gfg/data/venture=Zalora/sg/clean/'\n",
    "GROUP_DIR = CLEAN_DIR + 'groups/'"
   ]
  },
  {
   "cell_type": "code",
   "execution_count": 3,
   "metadata": {
    "ExecuteTime": {
     "end_time": "2017-11-06T15:44:06.496457Z",
     "start_time": "2017-11-06T15:44:05.981743Z"
    },
    "collapsed": false,
    "init_cell": true
   },
   "outputs": [
    {
     "name": "stdout",
     "output_type": "stream",
     "text": [
      "<class 'pandas.core.frame.DataFrame'>\n",
      "RangeIndex: 453472 entries, 0 to 453471\n",
      "Data columns (total 3 columns):\n",
      "sku_config      453472 non-null object\n",
      "ordered_date    453472 non-null datetime64[ns]\n",
      "n_sold          453472 non-null int64\n",
      "dtypes: datetime64[ns](1), int64(1), object(1)\n",
      "memory usage: 10.4+ MB\n",
      "None\n"
     ]
    }
   ],
   "source": [
    "config_daily_sales = pd.read_csv(CLEAN_DIR + 'demand_config.csv', parse_dates=['ordered_date'])\n",
    "print(config_daily_sales.info())"
   ]
  },
  {
   "cell_type": "code",
   "execution_count": 4,
   "metadata": {
    "ExecuteTime": {
     "end_time": "2017-11-06T15:44:07.599705Z",
     "start_time": "2017-11-06T15:44:06.498134Z"
    },
    "collapsed": false,
    "init_cell": true
   },
   "outputs": [
    {
     "name": "stdout",
     "output_type": "stream",
     "text": [
      "2016-01-01\n",
      "2017-06-27\n"
     ]
    }
   ],
   "source": [
    "config_daily_sales['date'] = config_daily_sales['ordered_date'].dt.date\n",
    "# first & last date in data\n",
    "fd, ld = min(config_daily_sales['date']), max(config_daily_sales['date'])\n",
    "print(fd); print(ld)"
   ]
  },
  {
   "cell_type": "code",
   "execution_count": 5,
   "metadata": {
    "ExecuteTime": {
     "end_time": "2017-11-06T15:44:12.000407Z",
     "start_time": "2017-11-06T15:44:07.601495Z"
    },
    "collapsed": true,
    "init_cell": true
   },
   "outputs": [],
   "source": [
    "prod_df = pd.read_csv(CLEAN_DIR + 'products.csv', parse_dates=['activation_time_stamp'])\n",
    "prod_df['activation_date'] = prod_df.activation_time_stamp.apply(pd.datetime.date)"
   ]
  },
  {
   "cell_type": "markdown",
   "metadata": {
    "tags": [
     "helpers"
    ]
   },
   "source": [
    "# Helpers"
   ]
  },
  {
   "cell_type": "markdown",
   "metadata": {},
   "source": [
    "## Calculate sale velocities"
   ]
  },
  {
   "cell_type": "code",
   "execution_count": 6,
   "metadata": {
    "ExecuteTime": {
     "end_time": "2017-11-06T15:44:12.006911Z",
     "start_time": "2017-11-06T15:44:12.002174Z"
    },
    "code_folding": [
     0,
     4
    ],
    "collapsed": true,
    "init_cell": true
   },
   "outputs": [],
   "source": [
    "def date_range(df, date_col):\n",
    "    first_ts, last_ts = min(df[date_col]), max(df[date_col])\n",
    "    return first_ts.date(), last_ts.date()\n",
    "\n",
    "def get_n_sku_simple(df):\n",
    "    return len(df.sku_simple.unique())"
   ]
  },
  {
   "cell_type": "code",
   "execution_count": 8,
   "metadata": {
    "ExecuteTime": {
     "end_time": "2017-10-27T04:43:15.183373Z",
     "start_time": "2017-10-27T04:43:15.176835Z"
    },
    "code_folding": [
     0,
     4,
     7
    ],
    "collapsed": true
   },
   "outputs": [],
   "source": [
    "def traverse_in_time(n_days, dd): # n_days is negative when we go backward\n",
    "    delta = timedelta(days=n_days)\n",
    "    return dd + delta\n",
    "\n",
    "def get_data_in_period(df, start, stop):\n",
    "    return df[(start.date() <= df.date) & (df.date <= stop.date())]\n",
    "\n",
    "def avg_veloc(df, start, stop):\n",
    "    data_in_period = get_data_in_period(df, start, stop)\n",
    "    total_sold = sum(data_in_period['n_sold'])\n",
    "    n_days = (stop - start).days\n",
    "    veloc = total_sold/n_days\n",
    "    return veloc"
   ]
  },
  {
   "cell_type": "code",
   "execution_count": 9,
   "metadata": {
    "ExecuteTime": {
     "end_time": "2017-10-27T04:43:15.210990Z",
     "start_time": "2017-10-27T04:43:15.184711Z"
    },
    "code_folding": [
     0
    ],
    "collapsed": true
   },
   "outputs": [],
   "source": [
    "def cal_first_period_veloc(cf, period=14):\n",
    "    \n",
    "    sub_df = config_daily_sales.query('sku_config == \"{}\"'.format(cf)).sort_values('ordered_date')\n",
    "    first_date = sub_df.iloc[0]['ordered_date']\n",
    "    start = first_date; end_date = traverse_in_time(n_days=period, dd=first_date)\n",
    "    first_period_veloc = avg_veloc(sub_df, start, end_date)\n",
    "    return first_period_veloc, first_date"
   ]
  },
  {
   "cell_type": "code",
   "execution_count": null,
   "metadata": {
    "collapsed": true
   },
   "outputs": [],
   "source": [
    "def cal_recent_veloc(sub_df, period, date):\n",
    "    \n",
    "    start = traverse_in_time(n_days=-period, dd=date); end_date = date\n",
    "    recent_veloc = avg_veloc(sub_df, start, end_date)\n",
    "    return recent_veloc"
   ]
  },
  {
   "cell_type": "code",
   "execution_count": 19,
   "metadata": {
    "ExecuteTime": {
     "end_time": "2017-10-27T05:21:32.184375Z",
     "start_time": "2017-10-27T05:21:32.177667Z"
    },
    "code_folding": [
     0,
     8
    ],
    "collapsed": true
   },
   "outputs": [],
   "source": [
    "def skip_first_period(period, df):\n",
    "    df = df.sort_values('ordered_date')\n",
    "    first_date, last_date = df.iloc[0]['ordered_date'], df.iloc[-1]['ordered_date']\n",
    "    stop=last_date\n",
    "    start=first_date + timedelta(days=period) \n",
    "    \n",
    "    return get_data_in_period(df, start, stop)\n",
    "\n",
    "def recent_sale_velocs(cf, period=14, count=1):\n",
    "    '''\n",
    "    for each ordered_date in (first_date + period, last_date], \n",
    "    calculate its recent sale veloc = avg veloc in the given period bf the ordered_date\n",
    "    '''\n",
    "    if (count % 1000) == 0:\n",
    "        print('{} configs and counting...'.format(count))\n",
    "    \n",
    "    sub_df = config_daily_sales.query('sku_config == \"{}\"'.format(cf))\n",
    "    sub_df = skip_first_period(period, sub_df) # as veloc in first period is already computed\n",
    "    order_dates = sub_df['ordered_date']\n",
    "    recent_velocs = [cal_recent_veloc(sub_df, period, date=dd) for dd in order_dates]\n",
    "\n",
    "    return pd.DataFrame({'sku_config': cf, 'date': order_dates, 'recent_veloc': recent_velocs})"
   ]
  },
  {
   "cell_type": "markdown",
   "metadata": {
    "heading_collapsed": true
   },
   "source": [
    "## Find init stocks"
   ]
  },
  {
   "cell_type": "code",
   "execution_count": 7,
   "metadata": {
    "ExecuteTime": {
     "end_time": "2017-11-06T15:44:12.019220Z",
     "start_time": "2017-11-06T15:44:12.008893Z"
    },
    "code_folding": [
     0,
     9
    ],
    "collapsed": true,
    "hidden": true,
    "init_cell": true
   },
   "outputs": [],
   "source": [
    "def load_snapshots(group):\n",
    "    fname = GROUP_DIR + group + '.csv'\n",
    "    snapshots = pd.read_csv(fname)\n",
    "    \n",
    "    sku_simples = snapshots.sku_simple.unique()\n",
    "    print('# SKU simples in the group: {}'.format(len(sku_simples)))\n",
    "    \n",
    "    return snapshots\n",
    "\n",
    "def find_init_stock(snapshots, prod_df):\n",
    "    snapshots['date'] = pd.to_datetime(snapshots.snapshot_date).dt.date\n",
    "    cols = ['sku_simple', 'activation_date']\n",
    "    stock_df = pd.DataFrame.merge(snapshots, prod_df[cols], \n",
    "                                  left_on=['sku_simple', 'date'], \n",
    "                                  right_on=['sku_simple', 'activation_date'])\n",
    "    \n",
    "    return stock_df.rename(columns={'stock': 'initial_stock'})"
   ]
  },
  {
   "cell_type": "markdown",
   "metadata": {},
   "source": [
    "# Daily sale velocity"
   ]
  },
  {
   "cell_type": "markdown",
   "metadata": {},
   "source": [
    "Exploratory analysis from DH suggests that there are $3$ patterns of sales: __peak at beginning, uniform__ and __peak at the end__. Thus, for each SKU config, we will inspect its avg sale velocities in 3 periods: start, end and some random period in the middle. The goal is to find out which sale pattern the SKU is following."
   ]
  },
  {
   "cell_type": "markdown",
   "metadata": {},
   "source": [
    "## Avg. sale velocity in a period\n",
    "\n",
    "Given a SKU config and a period $p$, this is simply the total number of SKU's units sold in $p$ divided by the number of days in $p$. Currently, the default period we are using is $14$ days."
   ]
  },
  {
   "cell_type": "code",
   "execution_count": 13,
   "metadata": {
    "ExecuteTime": {
     "end_time": "2017-10-27T04:43:55.226527Z",
     "start_time": "2017-10-27T04:43:55.199591Z"
    },
    "collapsed": false
   },
   "outputs": [
    {
     "name": "stdout",
     "output_type": "stream",
     "text": [
      "51139\n"
     ]
    }
   ],
   "source": [
    "sku_configs = config_daily_sales.sku_config.unique()\n",
    "print(len(sku_configs))"
   ]
  },
  {
   "cell_type": "code",
   "execution_count": 32,
   "metadata": {
    "ExecuteTime": {
     "end_time": "2017-10-26T15:13:24.143669Z",
     "start_time": "2017-10-26T15:13:24.126749Z"
    },
    "collapsed": false
   },
   "outputs": [
    {
     "data": {
      "text/plain": [
       "(0.14285714285714285, Timestamp('2017-01-05 00:00:00'))"
      ]
     },
     "execution_count": 32,
     "metadata": {},
     "output_type": "execute_result"
    }
   ],
   "source": [
    "# test\n",
    "cal_first_period_veloc(cf=sku_configs[0])"
   ]
  },
  {
   "cell_type": "markdown",
   "metadata": {
    "heading_collapsed": true
   },
   "source": [
    "### First period"
   ]
  },
  {
   "cell_type": "code",
   "execution_count": 62,
   "metadata": {
    "ExecuteTime": {
     "end_time": "2017-10-27T13:43:06.037080Z",
     "start_time": "2017-10-27T13:32:13.593549Z"
    },
    "collapsed": true,
    "hidden": true
   },
   "outputs": [
    {
     "name": "stdout",
     "output_type": "stream",
     "text": [
      "Calculating first period sale veloc...\n",
      "\t1000 configs and counting...\n",
      "\t2000 configs and counting...\n",
      "\t3000 configs and counting...\n",
      "\t4000 configs and counting...\n",
      "\t5000 configs and counting...\n",
      "\t6000 configs and counting...\n",
      "\t7000 configs and counting...\n",
      "\t8000 configs and counting...\n",
      "\t9000 configs and counting...\n",
      "\t10000 configs and counting...\n",
      "\t11000 configs and counting...\n",
      "\t12000 configs and counting...\n",
      "\t13000 configs and counting...\n",
      "\t14000 configs and counting...\n",
      "\t15000 configs and counting...\n",
      "\t16000 configs and counting...\n",
      "\t17000 configs and counting...\n",
      "\t18000 configs and counting...\n",
      "\t19000 configs and counting...\n",
      "\t20000 configs and counting...\n",
      "\t21000 configs and counting...\n",
      "\t22000 configs and counting...\n",
      "\t23000 configs and counting...\n",
      "\t24000 configs and counting...\n",
      "\t25000 configs and counting...\n",
      "\t26000 configs and counting...\n",
      "\t27000 configs and counting...\n",
      "\t28000 configs and counting...\n",
      "\t29000 configs and counting...\n",
      "\t30000 configs and counting...\n",
      "\t31000 configs and counting...\n",
      "\t32000 configs and counting...\n",
      "\t33000 configs and counting...\n",
      "\t34000 configs and counting...\n",
      "\t35000 configs and counting...\n",
      "\t36000 configs and counting...\n",
      "\t37000 configs and counting...\n",
      "\t38000 configs and counting...\n",
      "\t39000 configs and counting...\n",
      "\t40000 configs and counting...\n",
      "\t41000 configs and counting...\n",
      "\t42000 configs and counting...\n",
      "\t43000 configs and counting...\n",
      "\t44000 configs and counting...\n",
      "\t45000 configs and counting...\n",
      "\t46000 configs and counting...\n",
      "\t47000 configs and counting...\n",
      "\t48000 configs and counting...\n",
      "\t49000 configs and counting...\n",
      "\t50000 configs and counting...\n",
      "\t51000 configs and counting...\n"
     ]
    }
   ],
   "source": [
    "# init containers with dummy values\n",
    "first_period_veloc = np.zeros(len(sku_configs))\n",
    "fd = [pd.to_datetime('01-01-2016')]*len(sku_configs)\n",
    "\n",
    "print('Calculating first period sale veloc...')\n",
    "for i, cf in enumerate(sku_configs):\n",
    "    count = i+1\n",
    "    if (count % 1000) == 0:\n",
    "        print('\\t{} configs and counting...'.format(count))\n",
    "    \n",
    "    first_period_veloc[i], fd[i] = cal_first_period_veloc(cf, period=14)    "
   ]
  },
  {
   "cell_type": "code",
   "execution_count": 65,
   "metadata": {
    "ExecuteTime": {
     "end_time": "2017-10-27T16:23:23.218258Z",
     "start_time": "2017-10-27T16:23:22.745099Z"
    },
    "collapsed": true,
    "hidden": true
   },
   "outputs": [],
   "source": [
    "fsv = pd.DataFrame({'sku_config': sku_configs, 'date': fd, 'first_period_veloc': first_period_veloc})\n",
    "fsv.to_csv(CLEAN_DIR + 'first_period_veloc.csv', index=False)"
   ]
  },
  {
   "cell_type": "markdown",
   "metadata": {},
   "source": [
    "### Recent sale velocities"
   ]
  },
  {
   "cell_type": "code",
   "execution_count": 25,
   "metadata": {
    "ExecuteTime": {
     "end_time": "2017-10-27T09:29:54.963060Z",
     "start_time": "2017-10-27T09:12:23.763747Z"
    },
    "collapsed": false,
    "scrolled": true
   },
   "outputs": [
    {
     "name": "stdout",
     "output_type": "stream",
     "text": [
      "Calculating recent sale velocs...\n",
      "1000 configs and counting...\n",
      "2000 configs and counting...\n",
      "3000 configs and counting...\n",
      "4000 configs and counting...\n",
      "5000 configs and counting...\n",
      "6000 configs and counting...\n",
      "7000 configs and counting...\n",
      "8000 configs and counting...\n",
      "9000 configs and counting...\n",
      "10000 configs and counting...\n",
      "11000 configs and counting...\n",
      "12000 configs and counting...\n",
      "13000 configs and counting...\n",
      "14000 configs and counting...\n",
      "15000 configs and counting...\n",
      "16000 configs and counting...\n",
      "17000 configs and counting...\n",
      "18000 configs and counting...\n",
      "19000 configs and counting...\n",
      "20000 configs and counting...\n",
      "21000 configs and counting...\n",
      "22000 configs and counting...\n",
      "23000 configs and counting...\n",
      "24000 configs and counting...\n",
      "25000 configs and counting...\n",
      "26000 configs and counting...\n",
      "27000 configs and counting...\n",
      "28000 configs and counting...\n",
      "29000 configs and counting...\n",
      "30000 configs and counting...\n",
      "31000 configs and counting...\n",
      "32000 configs and counting...\n",
      "33000 configs and counting...\n",
      "34000 configs and counting...\n",
      "35000 configs and counting...\n",
      "36000 configs and counting...\n",
      "37000 configs and counting...\n",
      "38000 configs and counting...\n",
      "39000 configs and counting...\n",
      "40000 configs and counting...\n",
      "41000 configs and counting...\n",
      "42000 configs and counting...\n",
      "43000 configs and counting...\n",
      "44000 configs and counting...\n",
      "45000 configs and counting...\n",
      "46000 configs and counting...\n",
      "47000 configs and counting...\n",
      "48000 configs and counting...\n",
      "49000 configs and counting...\n",
      "50000 configs and counting...\n",
      "51000 configs and counting...\n"
     ]
    }
   ],
   "source": [
    "print('Calculating recent sale velocs...')\n",
    "frames = [recent_sale_velocs(cf, period=14, count=i+1) for i, cf in enumerate(sku_configs)] "
   ]
  },
  {
   "cell_type": "code",
   "execution_count": 26,
   "metadata": {
    "ExecuteTime": {
     "end_time": "2017-10-27T09:32:30.794913Z",
     "start_time": "2017-10-27T09:32:20.243227Z"
    },
    "collapsed": true
   },
   "outputs": [],
   "source": [
    "rsv = pd.concat(frames)\n",
    "del frames"
   ]
  },
  {
   "cell_type": "code",
   "execution_count": 45,
   "metadata": {
    "ExecuteTime": {
     "end_time": "2017-10-27T11:27:10.619189Z",
     "start_time": "2017-10-27T11:27:10.615475Z"
    },
    "collapsed": false
   },
   "outputs": [
    {
     "data": {
      "text/plain": [
       "357699"
      ]
     },
     "execution_count": 45,
     "metadata": {},
     "output_type": "execute_result"
    }
   ],
   "source": [
    "rsv.shape[0]"
   ]
  },
  {
   "cell_type": "code",
   "execution_count": 64,
   "metadata": {
    "ExecuteTime": {
     "end_time": "2017-10-27T16:22:34.019277Z",
     "start_time": "2017-10-27T16:22:30.863619Z"
    },
    "collapsed": true
   },
   "outputs": [],
   "source": [
    "rsv.to_csv(CLEAN_DIR + 'recent_sale_veloc.csv', index=False)"
   ]
  },
  {
   "cell_type": "code",
   "execution_count": 46,
   "metadata": {
    "ExecuteTime": {
     "end_time": "2017-10-27T11:27:29.251947Z",
     "start_time": "2017-10-27T11:27:29.080823Z"
    },
    "collapsed": false
   },
   "outputs": [
    {
     "data": {
      "text/plain": [
       "1080979"
      ]
     },
     "execution_count": 46,
     "metadata": {},
     "output_type": "execute_result"
    }
   ],
   "source": [
    "cols = ['sku_config', 'product_name']\n",
    "tmp = rsv.merge(prod_df[cols])\n",
    "tmp.shape[0]"
   ]
  },
  {
   "cell_type": "markdown",
   "metadata": {
    "heading_collapsed": true
   },
   "source": [
    "### Visualize sale velocities"
   ]
  },
  {
   "cell_type": "markdown",
   "metadata": {
    "hidden": true
   },
   "source": [
    "+ Pick some SKUs with many data:"
   ]
  },
  {
   "cell_type": "code",
   "execution_count": 60,
   "metadata": {
    "ExecuteTime": {
     "end_time": "2017-10-27T11:45:31.043359Z",
     "start_time": "2017-10-27T11:45:30.974801Z"
    },
    "collapsed": true,
    "hidden": true
   },
   "outputs": [
    {
     "data": {
      "text/plain": [
       "SH656AA86BFLSG    348\n",
       "CO302SH68WHBSG    298\n",
       "CO302SH35BMUSG    278\n",
       "HA369BE39MXGSG    264\n",
       "TH875AA37EKWSG    258\n",
       "LE802AA07YAUSG    252\n",
       "SH656AA53STQSG    246\n",
       "SH656AA66UQFSG    230\n",
       "SH656AA61MQSSG    214\n",
       "SP921SH46QKVSG    205\n",
       "Name: sku_config, dtype: int64"
      ]
     },
     "execution_count": 60,
     "metadata": {},
     "output_type": "execute_result"
    }
   ],
   "source": [
    "rsv.sku_config.value_counts().head(10)"
   ]
  },
  {
   "cell_type": "code",
   "execution_count": 58,
   "metadata": {
    "ExecuteTime": {
     "end_time": "2017-10-27T11:44:02.766233Z",
     "start_time": "2017-10-27T11:44:02.757635Z"
    },
    "code_folding": [],
    "collapsed": true,
    "hidden": true
   },
   "outputs": [],
   "source": [
    "def viz_sale_veloc(cf, rsv):\n",
    "    qq = 'sku_config == \"{}\"'.format(cf)\n",
    "    df = rsv.query(qq).sort_values(['sku_config', 'date'])\n",
    "\n",
    "    fig = pl.figure(figsize=(10, 5))\n",
    "    pl.plot(df.date, df.recent_veloc, 'o')\n",
    "    pl.ylabel('Recent sale veloc')\n",
    "    pl.grid(True, ls='--')\n",
    "    if cf in prod_df.sku_config:\n",
    "        product_name = prod_df.query(qq)['product_name'].iloc[0]\n",
    "        pl.title('SKU config {}, {}'.format(cf, product_name))\n",
    "    else:\n",
    "        print('cannot find SKU {} in latest catalog table'.format(cf))\n",
    "        pl.title('SKU config {}'.format(cf))\n",
    "    \n",
    "    return fig"
   ]
  },
  {
   "cell_type": "markdown",
   "metadata": {
    "hidden": true
   },
   "source": [
    "+ Visualize them:"
   ]
  },
  {
   "cell_type": "code",
   "execution_count": 57,
   "metadata": {
    "ExecuteTime": {
     "end_time": "2017-10-27T11:43:03.865037Z",
     "start_time": "2017-10-27T11:43:03.614472Z"
    },
    "collapsed": true,
    "hidden": true
   },
   "outputs": [
    {
     "data": {
      "image/png": "[encoded data removed]",
      "text/plain": [
       "<matplotlib.figure.Figure at 0x13190ec50>"
      ]
     },
     "metadata": {},
     "output_type": "display_data"
    }
   ],
   "source": [
    "fig = viz_sale_veloc(cf='SH656AA86BFLSG', rsv=rsv)\n",
    "pl.show()"
   ]
  },
  {
   "cell_type": "code",
   "execution_count": 59,
   "metadata": {
    "ExecuteTime": {
     "end_time": "2017-10-27T11:44:59.775336Z",
     "start_time": "2017-10-27T11:44:59.529626Z"
    },
    "collapsed": true,
    "hidden": true
   },
   "outputs": [
    {
     "name": "stdout",
     "output_type": "stream",
     "text": [
      "cannot find SKU CO302SH68WHBSG in latest catalog table\n"
     ]
    },
    {
     "data": {
      "image/png": "[encoded data removed]",
      "text/plain": [
       "<matplotlib.figure.Figure at 0x12fa74b00>"
      ]
     },
     "metadata": {},
     "output_type": "display_data"
    }
   ],
   "source": [
    "fig = viz_sale_veloc(cf='CO302SH68WHBSG', rsv=rsv)\n",
    "pl.show()"
   ]
  },
  {
   "cell_type": "code",
   "execution_count": 61,
   "metadata": {
    "ExecuteTime": {
     "end_time": "2017-10-27T11:45:46.467257Z",
     "start_time": "2017-10-27T11:45:46.231982Z"
    },
    "collapsed": true,
    "hidden": true
   },
   "outputs": [
    {
     "name": "stdout",
     "output_type": "stream",
     "text": [
      "cannot find SKU SP921SH46QKVSG in latest catalog table\n"
     ]
    },
    {
     "data": {
      "image/png": "[encoded data removed]",
      "text/plain": [
       "<matplotlib.figure.Figure at 0x1300b5a20>"
      ]
     },
     "metadata": {},
     "output_type": "display_data"
    }
   ],
   "source": [
    "fig = viz_sale_veloc(cf='SP921SH46QKVSG', rsv=rsv)\n",
    "pl.show()"
   ]
  },
  {
   "cell_type": "code",
   "execution_count": null,
   "metadata": {
    "collapsed": true,
    "hidden": true
   },
   "outputs": [],
   "source": []
  },
  {
   "cell_type": "markdown",
   "metadata": {},
   "source": [
    "### Combine all"
   ]
  },
  {
   "cell_type": "code",
   "execution_count": null,
   "metadata": {
    "collapsed": true
   },
   "outputs": [],
   "source": [
    "dsv = pd.concat(fsv, rsv)"
   ]
  },
  {
   "cell_type": "code",
   "execution_count": 46,
   "metadata": {
    "ExecuteTime": {
     "end_time": "2017-10-19T15:58:47.618886Z",
     "start_time": "2017-10-19T15:58:47.601264Z"
    },
    "collapsed": true
   },
   "outputs": [
    {
     "data": {
      "text/html": [
       "<div>\n",
       "<style>\n",
       "    .dataframe thead tr:only-child th {\n",
       "        text-align: right;\n",
       "    }\n",
       "\n",
       "    .dataframe thead th {\n",
       "        text-align: left;\n",
       "    }\n",
       "\n",
       "    .dataframe tbody tr th {\n",
       "        vertical-align: top;\n",
       "    }\n",
       "</style>\n",
       "<table border=\"1\" class=\"dataframe\">\n",
       "  <thead>\n",
       "    <tr style=\"text-align: right;\">\n",
       "      <th></th>\n",
       "      <th>first_day_of_sale</th>\n",
       "      <th>first_period_veloc</th>\n",
       "      <th>last_day_of_sale</th>\n",
       "      <th>last_period_veloc</th>\n",
       "      <th>sku_config</th>\n",
       "    </tr>\n",
       "  </thead>\n",
       "  <tbody>\n",
       "    <tr>\n",
       "      <th>13316</th>\n",
       "      <td>2016-01-01</td>\n",
       "      <td>0.142857</td>\n",
       "      <td>2017-06-04</td>\n",
       "      <td>0.142857</td>\n",
       "      <td>CO302SH36JRZSG</td>\n",
       "    </tr>\n",
       "    <tr>\n",
       "      <th>32778</th>\n",
       "      <td>2016-01-01</td>\n",
       "      <td>0.142857</td>\n",
       "      <td>2017-05-29</td>\n",
       "      <td>0.142857</td>\n",
       "      <td>MS585AA86BCVSG</td>\n",
       "    </tr>\n",
       "    <tr>\n",
       "      <th>23336</th>\n",
       "      <td>2016-01-01</td>\n",
       "      <td>1.000000</td>\n",
       "      <td>2017-05-14</td>\n",
       "      <td>0.071429</td>\n",
       "      <td>HE210AC60MCDSG</td>\n",
       "    </tr>\n",
       "    <tr>\n",
       "      <th>23666</th>\n",
       "      <td>2016-01-01</td>\n",
       "      <td>0.785714</td>\n",
       "      <td>2017-06-22</td>\n",
       "      <td>0.214286</td>\n",
       "      <td>HE305AC97GEKSG</td>\n",
       "    </tr>\n",
       "    <tr>\n",
       "      <th>23663</th>\n",
       "      <td>2016-01-01</td>\n",
       "      <td>0.571429</td>\n",
       "      <td>2017-06-24</td>\n",
       "      <td>0.357143</td>\n",
       "      <td>HE305AC95YIQSG</td>\n",
       "    </tr>\n",
       "    <tr>\n",
       "      <th>23662</th>\n",
       "      <td>2016-01-01</td>\n",
       "      <td>0.785714</td>\n",
       "      <td>2017-06-26</td>\n",
       "      <td>0.214286</td>\n",
       "      <td>HE305AC95OMMSG</td>\n",
       "    </tr>\n",
       "    <tr>\n",
       "      <th>23345</th>\n",
       "      <td>2016-01-01</td>\n",
       "      <td>0.642857</td>\n",
       "      <td>2017-06-21</td>\n",
       "      <td>0.142857</td>\n",
       "      <td>HE210AC61MCCSG</td>\n",
       "    </tr>\n",
       "    <tr>\n",
       "      <th>33919</th>\n",
       "      <td>2016-01-01</td>\n",
       "      <td>0.500000</td>\n",
       "      <td>2017-06-20</td>\n",
       "      <td>0.071429</td>\n",
       "      <td>NI126AC66PDXSG</td>\n",
       "    </tr>\n",
       "    <tr>\n",
       "      <th>22546</th>\n",
       "      <td>2016-01-01</td>\n",
       "      <td>0.285714</td>\n",
       "      <td>2017-06-23</td>\n",
       "      <td>0.214286</td>\n",
       "      <td>HA369BE09NNUSG</td>\n",
       "    </tr>\n",
       "    <tr>\n",
       "      <th>23647</th>\n",
       "      <td>2016-01-01</td>\n",
       "      <td>0.428571</td>\n",
       "      <td>2017-05-20</td>\n",
       "      <td>0.071429</td>\n",
       "      <td>HE305AC72BRBSG</td>\n",
       "    </tr>\n",
       "  </tbody>\n",
       "</table>\n",
       "</div>"
      ],
      "text/plain": [
       "      first_day_of_sale  first_period_veloc last_day_of_sale  \\\n",
       "13316        2016-01-01            0.142857       2017-06-04   \n",
       "32778        2016-01-01            0.142857       2017-05-29   \n",
       "23336        2016-01-01            1.000000       2017-05-14   \n",
       "23666        2016-01-01            0.785714       2017-06-22   \n",
       "23663        2016-01-01            0.571429       2017-06-24   \n",
       "23662        2016-01-01            0.785714       2017-06-26   \n",
       "23345        2016-01-01            0.642857       2017-06-21   \n",
       "33919        2016-01-01            0.500000       2017-06-20   \n",
       "22546        2016-01-01            0.285714       2017-06-23   \n",
       "23647        2016-01-01            0.428571       2017-05-20   \n",
       "\n",
       "       last_period_veloc      sku_config  \n",
       "13316           0.142857  CO302SH36JRZSG  \n",
       "32778           0.142857  MS585AA86BCVSG  \n",
       "23336           0.071429  HE210AC60MCDSG  \n",
       "23666           0.214286  HE305AC97GEKSG  \n",
       "23663           0.357143  HE305AC95YIQSG  \n",
       "23662           0.214286  HE305AC95OMMSG  \n",
       "23345           0.142857  HE210AC61MCCSG  \n",
       "33919           0.071429  NI126AC66PDXSG  \n",
       "22546           0.214286  HA369BE09NNUSG  \n",
       "23647           0.071429  HE305AC72BRBSG  "
      ]
     },
     "execution_count": 46,
     "metadata": {},
     "output_type": "execute_result"
    }
   ],
   "source": [
    "dsv = dsv.query('first_day_of_sale < last_day_of_sale')\n",
    "dsv.sort_values('first_day_of_sale').head(10)"
   ]
  },
  {
   "cell_type": "code",
   "execution_count": 19,
   "metadata": {
    "ExecuteTime": {
     "end_time": "2017-10-19T15:52:53.590400Z",
     "start_time": "2017-10-19T15:52:53.540681Z"
    },
    "collapsed": true
   },
   "outputs": [
    {
     "data": {
      "text/plain": [
       "count    39562.000000\n",
       "mean        -0.061923\n",
       "std          0.372575\n",
       "min         -9.500000\n",
       "25%         -0.071429\n",
       "50%          0.000000\n",
       "75%          0.000000\n",
       "max          8.928571\n",
       "Name: first_last_diff, dtype: float64"
      ]
     },
     "execution_count": 19,
     "metadata": {},
     "output_type": "execute_result"
    }
   ],
   "source": [
    "res['first_last_diff'] = res.first_period_veloc - res.last_period_veloc\n",
    "res.first_last_diff.describe()"
   ]
  },
  {
   "cell_type": "markdown",
   "metadata": {},
   "source": [
    "### First period velocity"
   ]
  },
  {
   "cell_type": "code",
   "execution_count": 20,
   "metadata": {
    "ExecuteTime": {
     "end_time": "2017-10-19T15:52:53.598939Z",
     "start_time": "2017-10-19T15:52:53.591813Z"
    },
    "collapsed": true
   },
   "outputs": [
    {
     "data": {
      "text/plain": [
       "count    39562.000000\n",
       "mean         0.173224\n",
       "std          0.284404\n",
       "min          0.000000\n",
       "25%          0.071429\n",
       "50%          0.142857\n",
       "75%          0.142857\n",
       "max          9.714286\n",
       "Name: first_period_veloc, dtype: float64"
      ]
     },
     "execution_count": 20,
     "metadata": {},
     "output_type": "execute_result"
    }
   ],
   "source": [
    "res.first_period_veloc.describe()"
   ]
  },
  {
   "cell_type": "markdown",
   "metadata": {},
   "source": [
    "### Last period velocity"
   ]
  },
  {
   "cell_type": "code",
   "execution_count": 21,
   "metadata": {
    "ExecuteTime": {
     "end_time": "2017-10-19T15:52:53.607040Z",
     "start_time": "2017-10-19T15:52:53.600203Z"
    },
    "collapsed": true
   },
   "outputs": [
    {
     "data": {
      "text/plain": [
       "count    39562.000000\n",
       "mean         0.235146\n",
       "std          0.392256\n",
       "min          0.000000\n",
       "25%          0.071429\n",
       "50%          0.142857\n",
       "75%          0.214286\n",
       "max          9.642857\n",
       "Name: last_period_veloc, dtype: float64"
      ]
     },
     "execution_count": 21,
     "metadata": {},
     "output_type": "execute_result"
    }
   ],
   "source": [
    "res.last_period_veloc.describe()"
   ]
  },
  {
   "cell_type": "markdown",
   "metadata": {
    "heading_collapsed": true
   },
   "source": [
    "## Overall avg. sale velocity\n",
    "\n",
    "Avg. sale velocity taken over all period of data."
   ]
  },
  {
   "cell_type": "code",
   "execution_count": 22,
   "metadata": {
    "ExecuteTime": {
     "end_time": "2017-10-19T15:52:53.931040Z",
     "start_time": "2017-10-19T15:52:53.608472Z"
    },
    "collapsed": true,
    "hidden": true
   },
   "outputs": [],
   "source": [
    "daily_avg_veloc = config_daily_sales.groupby('sku_config').agg({'ordered_date': len, \n",
    "                                                              'n_sold': np.mean})"
   ]
  },
  {
   "cell_type": "code",
   "execution_count": 23,
   "metadata": {
    "ExecuteTime": {
     "end_time": "2017-10-19T15:52:53.942626Z",
     "start_time": "2017-10-19T15:52:53.932547Z"
    },
    "collapsed": false,
    "hidden": true
   },
   "outputs": [
    {
     "data": {
      "text/plain": [
       "count    51139.000000\n",
       "mean         1.040897\n",
       "std          0.296804\n",
       "min          0.000000\n",
       "25%          1.000000\n",
       "50%          1.000000\n",
       "75%          1.037037\n",
       "max          5.935484\n",
       "Name: avg_veloc (n_sold/day), dtype: float64"
      ]
     },
     "execution_count": 23,
     "metadata": {},
     "output_type": "execute_result"
    }
   ],
   "source": [
    "daily_avg_veloc = daily_avg_veloc.rename(columns={'ordered_date': 'n_days', 'n_sold': 'avg_veloc (n_sold/day)'}).reset_index()\n",
    "daily_avg_veloc['avg_veloc (n_sold/day)'].describe()"
   ]
  },
  {
   "cell_type": "markdown",
   "metadata": {
    "hidden": true
   },
   "source": [
    "We can see that most of the time ($75\\%$ of SKU configs), __sale velocity is less than $1.04$ units per day.__"
   ]
  },
  {
   "cell_type": "code",
   "execution_count": 24,
   "metadata": {
    "ExecuteTime": {
     "end_time": "2017-10-19T15:52:53.952054Z",
     "start_time": "2017-10-19T15:52:53.944074Z"
    },
    "collapsed": false,
    "hidden": true
   },
   "outputs": [
    {
     "data": {
      "text/html": [
       "<div>\n",
       "<style>\n",
       "    .dataframe thead tr:only-child th {\n",
       "        text-align: right;\n",
       "    }\n",
       "\n",
       "    .dataframe thead th {\n",
       "        text-align: left;\n",
       "    }\n",
       "\n",
       "    .dataframe tbody tr th {\n",
       "        vertical-align: top;\n",
       "    }\n",
       "</style>\n",
       "<table border=\"1\" class=\"dataframe\">\n",
       "  <thead>\n",
       "    <tr style=\"text-align: right;\">\n",
       "      <th></th>\n",
       "      <th>sku_config</th>\n",
       "      <th>n_days</th>\n",
       "      <th>avg_veloc (n_sold/day)</th>\n",
       "    </tr>\n",
       "  </thead>\n",
       "  <tbody>\n",
       "    <tr>\n",
       "      <th>0</th>\n",
       "      <td>00024ACEB4642EGS</td>\n",
       "      <td>10</td>\n",
       "      <td>0.900000</td>\n",
       "    </tr>\n",
       "    <tr>\n",
       "      <th>1</th>\n",
       "      <td>00082AA04DA376GS</td>\n",
       "      <td>4</td>\n",
       "      <td>1.000000</td>\n",
       "    </tr>\n",
       "    <tr>\n",
       "      <th>2</th>\n",
       "      <td>00148AA5F48340GS</td>\n",
       "      <td>8</td>\n",
       "      <td>1.000000</td>\n",
       "    </tr>\n",
       "    <tr>\n",
       "      <th>3</th>\n",
       "      <td>001AAAC0BFDA4DGS</td>\n",
       "      <td>33</td>\n",
       "      <td>1.272727</td>\n",
       "    </tr>\n",
       "    <tr>\n",
       "      <th>4</th>\n",
       "      <td>001D3AC0516307GS</td>\n",
       "      <td>7</td>\n",
       "      <td>1.000000</td>\n",
       "    </tr>\n",
       "  </tbody>\n",
       "</table>\n",
       "</div>"
      ],
      "text/plain": [
       "         sku_config  n_days  avg_veloc (n_sold/day)\n",
       "0  00024ACEB4642EGS      10                0.900000\n",
       "1  00082AA04DA376GS       4                1.000000\n",
       "2  00148AA5F48340GS       8                1.000000\n",
       "3  001AAAC0BFDA4DGS      33                1.272727\n",
       "4  001D3AC0516307GS       7                1.000000"
      ]
     },
     "execution_count": 24,
     "metadata": {},
     "output_type": "execute_result"
    }
   ],
   "source": [
    "daily_avg_veloc.head()"
   ]
  },
  {
   "cell_type": "markdown",
   "metadata": {},
   "source": [
    "# Target sale velocity\n",
    "\n",
    "__Def:__ target sale velocity = current stock/n_remain_days\n",
    "\n",
    "To calculate target sale velocity, we need to find _current stock_ and _sell through date_. The first is in snapshot data and the second is calculated as `activation_date + season_duration`."
   ]
  },
  {
   "cell_type": "markdown",
   "metadata": {},
   "source": [
    "## Collect stock data"
   ]
  },
  {
   "cell_type": "markdown",
   "metadata": {},
   "source": [
    "We need to keep track of two values of stock for each SKU simple/config. The first is current stock and the second is initial stock, i.e., stock value when `snapshots_date` equals to `activation_date`. Thus, we need follow steps below to collect both values:\n",
    "\n",
    "+ find initial stock data via condition `snapshots.date == product.activation_date`\n",
    "+ merge initial stock data back to snapshot data to capture both `current_stock` and `initial_stock` in a single table. This allows us to observe dynamics of stock, how it changes from initial stock."
   ]
  },
  {
   "cell_type": "markdown",
   "metadata": {},
   "source": [
    "### Find initial stock data"
   ]
  },
  {
   "cell_type": "code",
   "execution_count": 25,
   "metadata": {
    "ExecuteTime": {
     "end_time": "2017-10-19T15:52:59.422349Z",
     "start_time": "2017-10-19T15:52:53.953404Z"
    },
    "collapsed": false
   },
   "outputs": [
    {
     "name": "stderr",
     "output_type": "stream",
     "text": [
      "/Users/gfg/anaconda/lib/python3.6/site-packages/IPython/core/interactiveshell.py:2821: DtypeWarning: Columns (17,27,29) have mixed types. Specify dtype option on import or set low_memory=False.\n",
      "  if self.run_code(code, result):\n"
     ]
    },
    {
     "name": "stdout",
     "output_type": "stream",
     "text": [
      "# SKU simples in the group: 13799\n"
     ]
    }
   ],
   "source": [
    "snapshots = load_snapshots(group='dresses_female_autumn-winter')"
   ]
  },
  {
   "cell_type": "code",
   "execution_count": 26,
   "metadata": {
    "ExecuteTime": {
     "end_time": "2017-10-19T15:53:02.917602Z",
     "start_time": "2017-10-19T15:52:59.424089Z"
    },
    "collapsed": true
   },
   "outputs": [],
   "source": [
    "stock_df = find_init_stock(snapshots, prod_df)"
   ]
  },
  {
   "cell_type": "code",
   "execution_count": 27,
   "metadata": {
    "ExecuteTime": {
     "end_time": "2017-10-19T15:53:02.923129Z",
     "start_time": "2017-10-19T15:53:02.919180Z"
    },
    "collapsed": false
   },
   "outputs": [
    {
     "name": "stdout",
     "output_type": "stream",
     "text": [
      "# unique SKU simples with initial stock info: 3448\n"
     ]
    }
   ],
   "source": [
    "print('# unique SKU simples with initial stock info: {}'.format(get_n_sku_simple(stock_df)))"
   ]
  },
  {
   "cell_type": "markdown",
   "metadata": {},
   "source": [
    "We can see that NOT all SKUs have initial stock info. The reason is those SKUs are not stored in `product` table anymore. Actually, there are SKUs which were activated too long ago, in 2012!!!"
   ]
  },
  {
   "cell_type": "markdown",
   "metadata": {},
   "source": [
    "### Merge back with snapshot data\n"
   ]
  },
  {
   "cell_type": "code",
   "execution_count": 28,
   "metadata": {
    "ExecuteTime": {
     "end_time": "2017-10-19T15:53:07.382454Z",
     "start_time": "2017-10-19T15:53:02.924581Z"
    },
    "collapsed": true
   },
   "outputs": [],
   "source": [
    "cols = ['sku_simple', 'initial_stock', 'activation_date']\n",
    "snapshots = pd.DataFrame.merge(snapshots, stock_df[cols])\n",
    "snapshots = snapshots.rename(columns={'stock': 'current_stock'}).sort_values(['sku_simple', 'date'])"
   ]
  },
  {
   "cell_type": "code",
   "execution_count": 29,
   "metadata": {
    "ExecuteTime": {
     "end_time": "2017-10-19T15:53:07.445398Z",
     "start_time": "2017-10-19T15:53:07.383997Z"
    },
    "collapsed": false
   },
   "outputs": [
    {
     "name": "stdout",
     "output_type": "stream",
     "text": [
      "# rows in snapshots after merging: 772708\n",
      "# SKU simples in snapshots: 3448\n"
     ]
    }
   ],
   "source": [
    "print('# rows in snapshots after merging: {}'.format(snapshots.shape[0]))\n",
    "print('# SKU simples in snapshots: {}'.format(get_n_sku_simple(snapshots)))"
   ]
  },
  {
   "cell_type": "markdown",
   "metadata": {},
   "source": [
    "### Inspect stock dynamics"
   ]
  },
  {
   "cell_type": "code",
   "execution_count": 30,
   "metadata": {
    "ExecuteTime": {
     "end_time": "2017-10-19T15:53:07.449389Z",
     "start_time": "2017-10-19T15:53:07.446736Z"
    },
    "collapsed": true
   },
   "outputs": [],
   "source": [
    "cols = ['sku_simple', 'snapshot_date', 'current_stock', 'total_stock', 'initial_stock']"
   ]
  },
  {
   "cell_type": "code",
   "execution_count": 31,
   "metadata": {
    "ExecuteTime": {
     "end_time": "2017-10-19T15:53:07.591383Z",
     "start_time": "2017-10-19T15:53:07.450806Z"
    },
    "collapsed": false
   },
   "outputs": [
    {
     "name": "stdout",
     "output_type": "stream",
     "text": [
      "# SKUs with no refill: 3045\n"
     ]
    }
   ],
   "source": [
    "no_refill = snapshots.query('(current_stock > 0) & (current_stock < initial_stock)')\n",
    "print('# SKUs with no refill: {}'.format(get_n_sku_simple(no_refill)))\n",
    "# no_refill[cols].head()"
   ]
  },
  {
   "cell_type": "code",
   "execution_count": 32,
   "metadata": {
    "ExecuteTime": {
     "end_time": "2017-10-19T15:53:07.630915Z",
     "start_time": "2017-10-19T15:53:07.593760Z"
    },
    "collapsed": false,
    "scrolled": true
   },
   "outputs": [
    {
     "name": "stdout",
     "output_type": "stream",
     "text": [
      "# SKUs where refill happen: 1096\n"
     ]
    }
   ],
   "source": [
    "refill = snapshots.query('(initial_stock > 0) & (current_stock > initial_stock)')\n",
    "print('# SKUs where refill happen: {}'.format(get_n_sku_simple(refill)))"
   ]
  },
  {
   "cell_type": "markdown",
   "metadata": {},
   "source": [
    "__There are cases when replenishment indeed happen.__"
   ]
  },
  {
   "cell_type": "code",
   "execution_count": 33,
   "metadata": {
    "ExecuteTime": {
     "end_time": "2017-10-19T15:53:07.644649Z",
     "start_time": "2017-10-19T15:53:07.632319Z"
    },
    "collapsed": false
   },
   "outputs": [
    {
     "data": {
      "text/html": [
       "<div>\n",
       "<style>\n",
       "    .dataframe thead tr:only-child th {\n",
       "        text-align: right;\n",
       "    }\n",
       "\n",
       "    .dataframe thead th {\n",
       "        text-align: left;\n",
       "    }\n",
       "\n",
       "    .dataframe tbody tr th {\n",
       "        vertical-align: top;\n",
       "    }\n",
       "</style>\n",
       "<table border=\"1\" class=\"dataframe\">\n",
       "  <thead>\n",
       "    <tr style=\"text-align: right;\">\n",
       "      <th></th>\n",
       "      <th>sku_simple</th>\n",
       "      <th>snapshot_date</th>\n",
       "      <th>current_stock</th>\n",
       "      <th>total_stock</th>\n",
       "      <th>initial_stock</th>\n",
       "    </tr>\n",
       "  </thead>\n",
       "  <tbody>\n",
       "    <tr>\n",
       "      <th>267278</th>\n",
       "      <td>04CD9AAB817239GS-028SGT</td>\n",
       "      <td>2017-05-12</td>\n",
       "      <td>51</td>\n",
       "      <td>0.0</td>\n",
       "      <td>37</td>\n",
       "    </tr>\n",
       "    <tr>\n",
       "      <th>267279</th>\n",
       "      <td>04CD9AAB817239GS-028SGT</td>\n",
       "      <td>2017-05-13</td>\n",
       "      <td>48</td>\n",
       "      <td>0.0</td>\n",
       "      <td>37</td>\n",
       "    </tr>\n",
       "    <tr>\n",
       "      <th>267280</th>\n",
       "      <td>04CD9AAB817239GS-028SGT</td>\n",
       "      <td>2017-05-14</td>\n",
       "      <td>49</td>\n",
       "      <td>0.0</td>\n",
       "      <td>37</td>\n",
       "    </tr>\n",
       "    <tr>\n",
       "      <th>267281</th>\n",
       "      <td>04CD9AAB817239GS-028SGT</td>\n",
       "      <td>2017-05-15</td>\n",
       "      <td>48</td>\n",
       "      <td>0.0</td>\n",
       "      <td>37</td>\n",
       "    </tr>\n",
       "    <tr>\n",
       "      <th>267282</th>\n",
       "      <td>04CD9AAB817239GS-028SGT</td>\n",
       "      <td>2017-05-16</td>\n",
       "      <td>46</td>\n",
       "      <td>0.0</td>\n",
       "      <td>37</td>\n",
       "    </tr>\n",
       "  </tbody>\n",
       "</table>\n",
       "</div>"
      ],
      "text/plain": [
       "                     sku_simple snapshot_date  current_stock  total_stock  \\\n",
       "267278  04CD9AAB817239GS-028SGT    2017-05-12             51          0.0   \n",
       "267279  04CD9AAB817239GS-028SGT    2017-05-13             48          0.0   \n",
       "267280  04CD9AAB817239GS-028SGT    2017-05-14             49          0.0   \n",
       "267281  04CD9AAB817239GS-028SGT    2017-05-15             48          0.0   \n",
       "267282  04CD9AAB817239GS-028SGT    2017-05-16             46          0.0   \n",
       "\n",
       "        initial_stock  \n",
       "267278             37  \n",
       "267279             37  \n",
       "267280             37  \n",
       "267281             37  \n",
       "267282             37  "
      ]
     },
     "execution_count": 33,
     "metadata": {},
     "output_type": "execute_result"
    }
   ],
   "source": [
    "refill[cols].head()"
   ]
  },
  {
   "cell_type": "markdown",
   "metadata": {},
   "source": [
    "## Find sell through date"
   ]
  },
  {
   "cell_type": "code",
   "execution_count": 34,
   "metadata": {
    "ExecuteTime": {
     "end_time": "2017-10-19T15:53:07.648776Z",
     "start_time": "2017-10-19T15:53:07.646116Z"
    },
    "collapsed": true
   },
   "outputs": [],
   "source": [
    "duration = {'spring-summer': 26*7, 'autumn-winter': 26*7, 'core': 52*7, 'evergreen': 52*7}"
   ]
  },
  {
   "cell_type": "code",
   "execution_count": 35,
   "metadata": {
    "ExecuteTime": {
     "end_time": "2017-10-19T15:53:07.653634Z",
     "start_time": "2017-10-19T15:53:07.650089Z"
    },
    "code_folding": [
     0
    ],
    "collapsed": true
   },
   "outputs": [],
   "source": [
    "def attach_sell_thru_date(snapshots, group_name):\n",
    "    season = find_season(group_name)\n",
    "    group_skus = snapshots.sku_simple.unique()\n",
    "\n",
    "    snapshots['sell_thru_date'] = snapshots['activation_date'] + timedelta(days=duration[season])\n",
    "    return snapshots"
   ]
  },
  {
   "cell_type": "code",
   "execution_count": 36,
   "metadata": {
    "ExecuteTime": {
     "end_time": "2017-10-19T15:53:07.761362Z",
     "start_time": "2017-10-19T15:53:07.655109Z"
    },
    "collapsed": true
   },
   "outputs": [],
   "source": [
    "snapshots['sell_thru_date'] = snapshots['activation_date'] + timedelta(days=26*7)"
   ]
  },
  {
   "cell_type": "markdown",
   "metadata": {
    "collapsed": true
   },
   "source": [
    "## Compute target SV"
   ]
  },
  {
   "cell_type": "code",
   "execution_count": 37,
   "metadata": {
    "ExecuteTime": {
     "end_time": "2017-10-19T15:53:16.944988Z",
     "start_time": "2017-10-19T15:53:07.762834Z"
    },
    "collapsed": true
   },
   "outputs": [],
   "source": [
    "snapshots['n_remain_days'] = (snapshots.sell_thru_date - snapshots.date).apply(lambda td: td.days)"
   ]
  },
  {
   "cell_type": "code",
   "execution_count": 38,
   "metadata": {
    "ExecuteTime": {
     "end_time": "2017-10-19T15:53:16.984131Z",
     "start_time": "2017-10-19T15:53:16.946492Z"
    },
    "collapsed": true
   },
   "outputs": [
    {
     "data": {
      "text/plain": [
       "count    772708.000000\n",
       "mean         57.725261\n",
       "std         100.371308\n",
       "min        -352.000000\n",
       "25%         -15.000000\n",
       "50%          74.000000\n",
       "75%         139.000000\n",
       "max         420.000000\n",
       "Name: n_remain_days, dtype: float64"
      ]
     },
     "execution_count": 38,
     "metadata": {},
     "output_type": "execute_result"
    }
   ],
   "source": [
    "snapshots.n_remain_days.describe()"
   ]
  },
  {
   "cell_type": "code",
   "execution_count": 42,
   "metadata": {
    "ExecuteTime": {
     "end_time": "2017-10-19T15:55:53.187349Z",
     "start_time": "2017-10-19T15:55:52.984329Z"
    },
    "collapsed": false
   },
   "outputs": [
    {
     "name": "stderr",
     "output_type": "stream",
     "text": [
      "/Users/gfg/anaconda/lib/python3.6/site-packages/ipykernel/__main__.py:2: SettingWithCopyWarning: \n",
      "A value is trying to be set on a copy of a slice from a DataFrame.\n",
      "Try using .loc[row_indexer,col_indexer] = value instead\n",
      "\n",
      "See the caveats in the documentation: http://pandas.pydata.org/pandas-docs/stable/indexing.html#indexing-view-versus-copy\n",
      "  from ipykernel import kernelapp as app\n"
     ]
    }
   ],
   "source": [
    "tsv = snapshots.query('n_remain_days > 0')\n",
    "tsv['target_sale_veloc'] = tsv.current_stock/tsv.n_remain_days"
   ]
  },
  {
   "cell_type": "code",
   "execution_count": 43,
   "metadata": {
    "ExecuteTime": {
     "end_time": "2017-10-19T15:55:59.916666Z",
     "start_time": "2017-10-19T15:55:59.896362Z"
    },
    "collapsed": false
   },
   "outputs": [
    {
     "data": {
      "text/plain": [
       "count    548777.000000\n",
       "mean          0.296039\n",
       "std           1.469352\n",
       "min           0.000000\n",
       "25%           0.021898\n",
       "50%           0.056075\n",
       "75%           0.228261\n",
       "max         129.000000\n",
       "Name: target_sale_veloc, dtype: float64"
      ]
     },
     "execution_count": 43,
     "metadata": {},
     "output_type": "execute_result"
    }
   ],
   "source": [
    "tsv.target_sale_veloc.describe()"
   ]
  },
  {
   "cell_type": "code",
   "execution_count": 48,
   "metadata": {
    "ExecuteTime": {
     "end_time": "2017-10-19T16:00:19.193079Z",
     "start_time": "2017-10-19T16:00:19.188551Z"
    },
    "collapsed": true
   },
   "outputs": [
    {
     "data": {
      "text/plain": [
       "Index(['boost', 'brand_status', 'catalog_type', 'cost', 'cost_supplier',\n",
       "       'current_price', 'fk_current_price_band', 'fk_markdown_band',\n",
       "       'fk_original_price_band', 'fk_simple_product', 'fx_rate',\n",
       "       'id_catalog_config', 'id_supplier', 'intake_margin', 'inventory_value',\n",
       "       'is_visible', 'online_aging', 'permanent_markdown_from_date',\n",
       "       'permanent_markdown_price', 'price', 'shop_type', 'sku_config',\n",
       "       'sku_config_status', 'sku_simple', 'sku_simple_status', 'snapshot_date',\n",
       "       'special_cogs', 'special_from_date', 'special_price', 'special_to_date',\n",
       "       'current_stock', 'supplier_status', 'total_stock', 'venture_code',\n",
       "       'date', 'initial_stock', 'activation_date', 'sell_thru_date',\n",
       "       'n_remain_days', 'target_sale_veloc'],\n",
       "      dtype='object')"
      ]
     },
     "execution_count": 48,
     "metadata": {},
     "output_type": "execute_result"
    }
   ],
   "source": [
    "tsv.columns"
   ]
  },
  {
   "cell_type": "code",
   "execution_count": null,
   "metadata": {
    "collapsed": true
   },
   "outputs": [],
   "source": [
    "res = pd.merge(dsv, tsv)"
   ]
  },
  {
   "cell_type": "code",
   "execution_count": 51,
   "metadata": {
    "ExecuteTime": {
     "end_time": "2017-10-19T16:01:35.534615Z",
     "start_time": "2017-10-19T16:01:35.505777Z"
    },
    "collapsed": true
   },
   "outputs": [
    {
     "data": {
      "text/html": [
       "<div>\n",
       "<style>\n",
       "    .dataframe thead tr:only-child th {\n",
       "        text-align: right;\n",
       "    }\n",
       "\n",
       "    .dataframe thead th {\n",
       "        text-align: left;\n",
       "    }\n",
       "\n",
       "    .dataframe tbody tr th {\n",
       "        vertical-align: top;\n",
       "    }\n",
       "</style>\n",
       "<table border=\"1\" class=\"dataframe\">\n",
       "  <thead>\n",
       "    <tr style=\"text-align: right;\">\n",
       "      <th></th>\n",
       "      <th>sku_config</th>\n",
       "      <th>first_period_veloc</th>\n",
       "      <th>last_period_veloc</th>\n",
       "      <th>target_sale_veloc</th>\n",
       "      <th>snapshot_date</th>\n",
       "      <th>n_remain_days</th>\n",
       "      <th>sell_thru_date</th>\n",
       "    </tr>\n",
       "  </thead>\n",
       "  <tbody>\n",
       "    <tr>\n",
       "      <th>0</th>\n",
       "      <td>0063FAAFFBA0A4GS</td>\n",
       "      <td>0.071429</td>\n",
       "      <td>0.214286</td>\n",
       "      <td>0.000000</td>\n",
       "      <td>2016-11-09</td>\n",
       "      <td>184</td>\n",
       "      <td>2017-05-12</td>\n",
       "    </tr>\n",
       "    <tr>\n",
       "      <th>1</th>\n",
       "      <td>0063FAAFFBA0A4GS</td>\n",
       "      <td>0.071429</td>\n",
       "      <td>0.214286</td>\n",
       "      <td>0.000000</td>\n",
       "      <td>2016-11-10</td>\n",
       "      <td>183</td>\n",
       "      <td>2017-05-12</td>\n",
       "    </tr>\n",
       "    <tr>\n",
       "      <th>2</th>\n",
       "      <td>0063FAAFFBA0A4GS</td>\n",
       "      <td>0.071429</td>\n",
       "      <td>0.214286</td>\n",
       "      <td>0.000000</td>\n",
       "      <td>2016-11-11</td>\n",
       "      <td>182</td>\n",
       "      <td>2017-05-12</td>\n",
       "    </tr>\n",
       "    <tr>\n",
       "      <th>3</th>\n",
       "      <td>0063FAAFFBA0A4GS</td>\n",
       "      <td>0.071429</td>\n",
       "      <td>0.214286</td>\n",
       "      <td>0.000000</td>\n",
       "      <td>2016-11-12</td>\n",
       "      <td>181</td>\n",
       "      <td>2017-05-12</td>\n",
       "    </tr>\n",
       "    <tr>\n",
       "      <th>4</th>\n",
       "      <td>0063FAAFFBA0A4GS</td>\n",
       "      <td>0.071429</td>\n",
       "      <td>0.214286</td>\n",
       "      <td>0.000000</td>\n",
       "      <td>2016-11-13</td>\n",
       "      <td>180</td>\n",
       "      <td>2017-05-12</td>\n",
       "    </tr>\n",
       "    <tr>\n",
       "      <th>5</th>\n",
       "      <td>0063FAAFFBA0A4GS</td>\n",
       "      <td>0.071429</td>\n",
       "      <td>0.214286</td>\n",
       "      <td>0.145251</td>\n",
       "      <td>2016-11-14</td>\n",
       "      <td>179</td>\n",
       "      <td>2017-05-12</td>\n",
       "    </tr>\n",
       "    <tr>\n",
       "      <th>6</th>\n",
       "      <td>0063FAAFFBA0A4GS</td>\n",
       "      <td>0.071429</td>\n",
       "      <td>0.214286</td>\n",
       "      <td>0.292135</td>\n",
       "      <td>2016-11-15</td>\n",
       "      <td>178</td>\n",
       "      <td>2017-05-12</td>\n",
       "    </tr>\n",
       "    <tr>\n",
       "      <th>7</th>\n",
       "      <td>0063FAAFFBA0A4GS</td>\n",
       "      <td>0.071429</td>\n",
       "      <td>0.214286</td>\n",
       "      <td>0.293785</td>\n",
       "      <td>2016-11-16</td>\n",
       "      <td>177</td>\n",
       "      <td>2017-05-12</td>\n",
       "    </tr>\n",
       "    <tr>\n",
       "      <th>8</th>\n",
       "      <td>0063FAAFFBA0A4GS</td>\n",
       "      <td>0.071429</td>\n",
       "      <td>0.214286</td>\n",
       "      <td>0.295455</td>\n",
       "      <td>2016-11-17</td>\n",
       "      <td>176</td>\n",
       "      <td>2017-05-12</td>\n",
       "    </tr>\n",
       "    <tr>\n",
       "      <th>9</th>\n",
       "      <td>0063FAAFFBA0A4GS</td>\n",
       "      <td>0.071429</td>\n",
       "      <td>0.214286</td>\n",
       "      <td>0.297143</td>\n",
       "      <td>2016-11-18</td>\n",
       "      <td>175</td>\n",
       "      <td>2017-05-12</td>\n",
       "    </tr>\n",
       "    <tr>\n",
       "      <th>10</th>\n",
       "      <td>0063FAAFFBA0A4GS</td>\n",
       "      <td>0.071429</td>\n",
       "      <td>0.214286</td>\n",
       "      <td>0.298851</td>\n",
       "      <td>2016-11-19</td>\n",
       "      <td>174</td>\n",
       "      <td>2017-05-12</td>\n",
       "    </tr>\n",
       "    <tr>\n",
       "      <th>11</th>\n",
       "      <td>0063FAAFFBA0A4GS</td>\n",
       "      <td>0.071429</td>\n",
       "      <td>0.214286</td>\n",
       "      <td>0.300578</td>\n",
       "      <td>2016-11-20</td>\n",
       "      <td>173</td>\n",
       "      <td>2017-05-12</td>\n",
       "    </tr>\n",
       "    <tr>\n",
       "      <th>12</th>\n",
       "      <td>0063FAAFFBA0A4GS</td>\n",
       "      <td>0.071429</td>\n",
       "      <td>0.214286</td>\n",
       "      <td>0.296512</td>\n",
       "      <td>2016-11-21</td>\n",
       "      <td>172</td>\n",
       "      <td>2017-05-12</td>\n",
       "    </tr>\n",
       "    <tr>\n",
       "      <th>13</th>\n",
       "      <td>0063FAAFFBA0A4GS</td>\n",
       "      <td>0.071429</td>\n",
       "      <td>0.214286</td>\n",
       "      <td>0.298246</td>\n",
       "      <td>2016-11-22</td>\n",
       "      <td>171</td>\n",
       "      <td>2017-05-12</td>\n",
       "    </tr>\n",
       "    <tr>\n",
       "      <th>14</th>\n",
       "      <td>0063FAAFFBA0A4GS</td>\n",
       "      <td>0.071429</td>\n",
       "      <td>0.214286</td>\n",
       "      <td>0.300000</td>\n",
       "      <td>2016-11-23</td>\n",
       "      <td>170</td>\n",
       "      <td>2017-05-12</td>\n",
       "    </tr>\n",
       "    <tr>\n",
       "      <th>15</th>\n",
       "      <td>0063FAAFFBA0A4GS</td>\n",
       "      <td>0.071429</td>\n",
       "      <td>0.214286</td>\n",
       "      <td>0.301775</td>\n",
       "      <td>2016-11-24</td>\n",
       "      <td>169</td>\n",
       "      <td>2017-05-12</td>\n",
       "    </tr>\n",
       "    <tr>\n",
       "      <th>16</th>\n",
       "      <td>0063FAAFFBA0A4GS</td>\n",
       "      <td>0.071429</td>\n",
       "      <td>0.214286</td>\n",
       "      <td>0.303571</td>\n",
       "      <td>2016-11-25</td>\n",
       "      <td>168</td>\n",
       "      <td>2017-05-12</td>\n",
       "    </tr>\n",
       "    <tr>\n",
       "      <th>17</th>\n",
       "      <td>0063FAAFFBA0A4GS</td>\n",
       "      <td>0.071429</td>\n",
       "      <td>0.214286</td>\n",
       "      <td>0.305389</td>\n",
       "      <td>2016-11-26</td>\n",
       "      <td>167</td>\n",
       "      <td>2017-05-12</td>\n",
       "    </tr>\n",
       "    <tr>\n",
       "      <th>18</th>\n",
       "      <td>0063FAAFFBA0A4GS</td>\n",
       "      <td>0.071429</td>\n",
       "      <td>0.214286</td>\n",
       "      <td>0.307229</td>\n",
       "      <td>2016-11-27</td>\n",
       "      <td>166</td>\n",
       "      <td>2017-05-12</td>\n",
       "    </tr>\n",
       "    <tr>\n",
       "      <th>19</th>\n",
       "      <td>0063FAAFFBA0A4GS</td>\n",
       "      <td>0.071429</td>\n",
       "      <td>0.214286</td>\n",
       "      <td>0.303030</td>\n",
       "      <td>2016-11-28</td>\n",
       "      <td>165</td>\n",
       "      <td>2017-05-12</td>\n",
       "    </tr>\n",
       "  </tbody>\n",
       "</table>\n",
       "</div>"
      ],
      "text/plain": [
       "          sku_config  first_period_veloc  last_period_veloc  \\\n",
       "0   0063FAAFFBA0A4GS            0.071429           0.214286   \n",
       "1   0063FAAFFBA0A4GS            0.071429           0.214286   \n",
       "2   0063FAAFFBA0A4GS            0.071429           0.214286   \n",
       "3   0063FAAFFBA0A4GS            0.071429           0.214286   \n",
       "4   0063FAAFFBA0A4GS            0.071429           0.214286   \n",
       "5   0063FAAFFBA0A4GS            0.071429           0.214286   \n",
       "6   0063FAAFFBA0A4GS            0.071429           0.214286   \n",
       "7   0063FAAFFBA0A4GS            0.071429           0.214286   \n",
       "8   0063FAAFFBA0A4GS            0.071429           0.214286   \n",
       "9   0063FAAFFBA0A4GS            0.071429           0.214286   \n",
       "10  0063FAAFFBA0A4GS            0.071429           0.214286   \n",
       "11  0063FAAFFBA0A4GS            0.071429           0.214286   \n",
       "12  0063FAAFFBA0A4GS            0.071429           0.214286   \n",
       "13  0063FAAFFBA0A4GS            0.071429           0.214286   \n",
       "14  0063FAAFFBA0A4GS            0.071429           0.214286   \n",
       "15  0063FAAFFBA0A4GS            0.071429           0.214286   \n",
       "16  0063FAAFFBA0A4GS            0.071429           0.214286   \n",
       "17  0063FAAFFBA0A4GS            0.071429           0.214286   \n",
       "18  0063FAAFFBA0A4GS            0.071429           0.214286   \n",
       "19  0063FAAFFBA0A4GS            0.071429           0.214286   \n",
       "\n",
       "    target_sale_veloc snapshot_date  n_remain_days sell_thru_date  \n",
       "0            0.000000    2016-11-09            184     2017-05-12  \n",
       "1            0.000000    2016-11-10            183     2017-05-12  \n",
       "2            0.000000    2016-11-11            182     2017-05-12  \n",
       "3            0.000000    2016-11-12            181     2017-05-12  \n",
       "4            0.000000    2016-11-13            180     2017-05-12  \n",
       "5            0.145251    2016-11-14            179     2017-05-12  \n",
       "6            0.292135    2016-11-15            178     2017-05-12  \n",
       "7            0.293785    2016-11-16            177     2017-05-12  \n",
       "8            0.295455    2016-11-17            176     2017-05-12  \n",
       "9            0.297143    2016-11-18            175     2017-05-12  \n",
       "10           0.298851    2016-11-19            174     2017-05-12  \n",
       "11           0.300578    2016-11-20            173     2017-05-12  \n",
       "12           0.296512    2016-11-21            172     2017-05-12  \n",
       "13           0.298246    2016-11-22            171     2017-05-12  \n",
       "14           0.300000    2016-11-23            170     2017-05-12  \n",
       "15           0.301775    2016-11-24            169     2017-05-12  \n",
       "16           0.303571    2016-11-25            168     2017-05-12  \n",
       "17           0.305389    2016-11-26            167     2017-05-12  \n",
       "18           0.307229    2016-11-27            166     2017-05-12  \n",
       "19           0.303030    2016-11-28            165     2017-05-12  "
      ]
     },
     "execution_count": 51,
     "metadata": {},
     "output_type": "execute_result"
    }
   ],
   "source": [
    "cols = ['sku_config', 'first_period_veloc', 'last_period_veloc', 'target_sale_veloc', \n",
    "        'snapshot_date', 'n_remain_days', 'sell_thru_date']\n",
    "\n",
    "res[cols].head(20)"
   ]
  },
  {
   "cell_type": "code",
   "execution_count": 52,
   "metadata": {
    "ExecuteTime": {
     "end_time": "2017-10-19T16:02:26.917701Z",
     "start_time": "2017-10-19T16:02:26.860343Z"
    },
    "collapsed": false
   },
   "outputs": [
    {
     "data": {
      "text/plain": [
       "117152"
      ]
     },
     "execution_count": 52,
     "metadata": {},
     "output_type": "execute_result"
    }
   ],
   "source": [
    "res.query('last_period_veloc < target_sale_veloc').shape[0]"
   ]
  },
  {
   "cell_type": "code",
   "execution_count": null,
   "metadata": {
    "collapsed": true
   },
   "outputs": [],
   "source": []
  }
 ],
 "metadata": {
  "kernelspec": {
   "display_name": "Python 2",
   "language": "python",
   "name": "python2"
  },
  "language_info": {
   "codemirror_mode": {
    "name": "ipython",
    "version": 2
   },
   "file_extension": ".py",
   "mimetype": "text/x-python",
   "name": "python",
   "nbconvert_exporter": "python",
   "pygments_lexer": "ipython2",
   "version": "2.7.13"
  },
  "toc": {
   "colors": {
    "hover_highlight": "#DAA520",
    "navigate_num": "#000000",
    "navigate_text": "#333333",
    "running_highlight": "#FF0000",
    "selected_highlight": "#FFD700",
    "sidebar_border": "#EEEEEE",
    "wrapper_background": "#FFFFFF"
   },
   "moveMenuLeft": true,
   "nav_menu": {
    "height": "103px",
    "width": "252px"
   },
   "navigate_menu": true,
   "number_sections": true,
   "sideBar": true,
   "threshold": 4,
   "toc_cell": false,
   "toc_section_display": "block",
   "toc_window_display": true,
   "widenNotebook": false
  },
  "varInspector": {
   "cols": {
    "lenName": 16,
    "lenType": 16,
    "lenVar": 40
   },
   "kernels_config": {
    "python": {
     "delete_cmd_postfix": "",
     "delete_cmd_prefix": "del ",
     "library": "var_list.py",
     "varRefreshCmd": "print(var_dic_list())"
    },
    "r": {
     "delete_cmd_postfix": ") ",
     "delete_cmd_prefix": "rm(",
     "library": "var_list.r",
     "varRefreshCmd": "cat(var_dic_list()) "
    }
   },
   "types_to_exclude": [
    "module",
    "function",
    "builtin_function_or_method",
    "instance",
    "_Feature"
   ],
   "window_display": false
  }
 },
 "nbformat": 4,
 "nbformat_minor": 2
}
