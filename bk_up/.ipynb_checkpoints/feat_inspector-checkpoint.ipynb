{
 "cells": [
  {
   "cell_type": "code",
   "execution_count": 1,
   "metadata": {
    "ExecuteTime": {
     "end_time": "2018-03-02T09:20:23.611851Z",
     "start_time": "2018-03-02T09:20:21.813688Z"
    },
    "collapsed": true
   },
   "outputs": [],
   "source": [
    "import pandas as pd\n",
    "import numpy as np\n",
    "import matplotlib.pyplot as plt\n",
    "%matplotlib inline\n",
    "\n",
    "import seaborn as sb"
   ]
  },
  {
   "cell_type": "markdown",
   "metadata": {},
   "source": [
    "In this notebook, we inspect all features built up to now. These are global and group-level feats."
   ]
  },
  {
   "cell_type": "code",
   "execution_count": 2,
   "metadata": {
    "ExecuteTime": {
     "end_time": "2018-03-02T09:20:23.618944Z",
     "start_time": "2018-03-02T09:20:23.613521Z"
    },
    "collapsed": true
   },
   "outputs": [],
   "source": [
    "DAT_DIR = '/Users/gfg/data/venture=Zalora/sg/'\n",
    "FIG_DIR = DAT_DIR + 'fig/'\n",
    "ready_dir = DAT_DIR + 'clean/groups/ready/'\n",
    "# CLEAN_DIR = DAT_DIR + 'clean/'\n",
    "# GROUP_DIR = CLEAN_DIR + 'groups/' \n",
    "# FEAT_DIR = GROUP_DIR + 'feats/'"
   ]
  },
  {
   "cell_type": "markdown",
   "metadata": {},
   "source": [
    "## Helpers"
   ]
  },
  {
   "cell_type": "code",
   "execution_count": 13,
   "metadata": {
    "ExecuteTime": {
     "end_time": "2017-10-10T10:08:46.444458Z",
     "start_time": "2017-10-10T10:08:46.440373Z"
    },
    "code_folding": [
     0
    ],
    "collapsed": true
   },
   "outputs": [],
   "source": [
    "def dat_dist_by_year(df):\n",
    "    df['year'] = df['snapshot_date'].apply(lambda d: d.year)\n",
    "\n",
    "    print('# records in year 2016: {}'.format(sum(df.year == 2016)))\n",
    "    print('# records in year 2017: {}'.format(sum(df.year == 2017)))\n",
    "    return df"
   ]
  },
  {
   "cell_type": "code",
   "execution_count": null,
   "metadata": {
    "code_folding": [
     0
    ],
    "collapsed": true
   },
   "outputs": [],
   "source": [
    "def dat_dist(df): # n rows of a config in a year\n",
    "    grouped = df.groupby(['sku_config', 'year'])"
   ]
  },
  {
   "cell_type": "code",
   "execution_count": 33,
   "metadata": {
    "ExecuteTime": {
     "end_time": "2018-03-02T10:07:22.796206Z",
     "start_time": "2018-03-02T10:07:22.792490Z"
    },
    "code_folding": [
     0
    ],
    "collapsed": true
   },
   "outputs": [],
   "source": [
    "def corr_with_sale(feature, df):\n",
    "    if feature in df.columns:\n",
    "        return np.corrcoef(df[feature], df['n_sold'])[0, 1]\n",
    "    else:\n",
    "        return np.nan"
   ]
  },
  {
   "cell_type": "markdown",
   "metadata": {},
   "source": [
    "# Correlation between features and sales"
   ]
  },
  {
   "cell_type": "code",
   "execution_count": 15,
   "metadata": {
    "ExecuteTime": {
     "end_time": "2018-03-02T09:36:41.774364Z",
     "start_time": "2018-03-02T09:36:41.770283Z"
    },
    "code_folding": [
     0
    ],
    "collapsed": true
   },
   "outputs": [],
   "source": [
    "# feats and target only\n",
    "static_feats = ['color_pop', 'brand_pop']\n",
    "price_feats = ['current_price', 'percent_discount_from_rrp']\n",
    "canib_feats = ['n_competitor', 'log10_rel_price', 'rel_price_as_ratio'] \n",
    "ga_feats = ['mean_views', 'mean_impressions', 'total_views', 'total_impressions']\n",
    "feats = static_feats + price_feats + canib_feats + ga_feats\n",
    "target = ['n_sold']"
   ]
  },
  {
   "cell_type": "code",
   "execution_count": 36,
   "metadata": {
    "ExecuteTime": {
     "end_time": "2018-03-02T10:11:41.539816Z",
     "start_time": "2018-03-02T10:11:41.531838Z"
    },
    "code_folding": [
     0
    ],
    "collapsed": true
   },
   "outputs": [],
   "source": [
    "def cal_corrs(group_id):\n",
    "    # for a given group, compute correlations bw features and sales\n",
    "    \n",
    "    # load data\n",
    "    fname = ready_dir + group_id + '.csv'\n",
    "    ready_df = pd.read_csv(fname, parse_dates=['date'])\n",
    "    print('Info on ready data:')\n",
    "    print(ready_df.info())\n",
    "\n",
    "    # compute correlations\n",
    "    avail_feats = [f for f in feats if f in ready_df.columns]\n",
    "    df = ready_df[avail_feats + target]\n",
    "    corrs = [corr_with_sale(f, df) for f in feats]\n",
    "    cor_df = pd.DataFrame({'feature': feats, 'correlation_score': corrs})\n",
    "    print('Correlation scores sorted:')\n",
    "    return cor_df.sort_values('correlation_score', ascending=False)"
   ]
  },
  {
   "cell_type": "markdown",
   "metadata": {},
   "source": [
    "## Female dresses"
   ]
  },
  {
   "cell_type": "code",
   "execution_count": 14,
   "metadata": {
    "ExecuteTime": {
     "end_time": "2018-03-02T09:32:20.488149Z",
     "start_time": "2018-03-02T09:32:20.474091Z"
    },
    "collapsed": true
   },
   "outputs": [
    {
     "data": {
      "text/html": [
       "<div>\n",
       "<style>\n",
       "    .dataframe thead tr:only-child th {\n",
       "        text-align: right;\n",
       "    }\n",
       "\n",
       "    .dataframe thead th {\n",
       "        text-align: left;\n",
       "    }\n",
       "\n",
       "    .dataframe tbody tr th {\n",
       "        vertical-align: top;\n",
       "    }\n",
       "</style>\n",
       "<table border=\"1\" class=\"dataframe\">\n",
       "  <thead>\n",
       "    <tr style=\"text-align: right;\">\n",
       "      <th></th>\n",
       "      <th>brand_pop</th>\n",
       "      <th>total_views</th>\n",
       "    </tr>\n",
       "  </thead>\n",
       "  <tbody>\n",
       "    <tr>\n",
       "      <th>0</th>\n",
       "      <td>10424</td>\n",
       "      <td>10424</td>\n",
       "    </tr>\n",
       "    <tr>\n",
       "      <th>1</th>\n",
       "      <td>2715</td>\n",
       "      <td>2715</td>\n",
       "    </tr>\n",
       "    <tr>\n",
       "      <th>2</th>\n",
       "      <td>47</td>\n",
       "      <td>47</td>\n",
       "    </tr>\n",
       "    <tr>\n",
       "      <th>3</th>\n",
       "      <td>61</td>\n",
       "      <td>61</td>\n",
       "    </tr>\n",
       "    <tr>\n",
       "      <th>4</th>\n",
       "      <td>36</td>\n",
       "      <td>36</td>\n",
       "    </tr>\n",
       "    <tr>\n",
       "      <th>5</th>\n",
       "      <td>77</td>\n",
       "      <td>77</td>\n",
       "    </tr>\n",
       "    <tr>\n",
       "      <th>6</th>\n",
       "      <td>74</td>\n",
       "      <td>74</td>\n",
       "    </tr>\n",
       "    <tr>\n",
       "      <th>7</th>\n",
       "      <td>112</td>\n",
       "      <td>112</td>\n",
       "    </tr>\n",
       "    <tr>\n",
       "      <th>8</th>\n",
       "      <td>67</td>\n",
       "      <td>67</td>\n",
       "    </tr>\n",
       "    <tr>\n",
       "      <th>9</th>\n",
       "      <td>74</td>\n",
       "      <td>74</td>\n",
       "    </tr>\n",
       "    <tr>\n",
       "      <th>10</th>\n",
       "      <td>94</td>\n",
       "      <td>94</td>\n",
       "    </tr>\n",
       "    <tr>\n",
       "      <th>11</th>\n",
       "      <td>68</td>\n",
       "      <td>68</td>\n",
       "    </tr>\n",
       "    <tr>\n",
       "      <th>12</th>\n",
       "      <td>56</td>\n",
       "      <td>56</td>\n",
       "    </tr>\n",
       "    <tr>\n",
       "      <th>13</th>\n",
       "      <td>52</td>\n",
       "      <td>52</td>\n",
       "    </tr>\n",
       "    <tr>\n",
       "      <th>14</th>\n",
       "      <td>59</td>\n",
       "      <td>59</td>\n",
       "    </tr>\n",
       "    <tr>\n",
       "      <th>15</th>\n",
       "      <td>68</td>\n",
       "      <td>68</td>\n",
       "    </tr>\n",
       "    <tr>\n",
       "      <th>16</th>\n",
       "      <td>84</td>\n",
       "      <td>84</td>\n",
       "    </tr>\n",
       "    <tr>\n",
       "      <th>17</th>\n",
       "      <td>103</td>\n",
       "      <td>103</td>\n",
       "    </tr>\n",
       "    <tr>\n",
       "      <th>18</th>\n",
       "      <td>101</td>\n",
       "      <td>101</td>\n",
       "    </tr>\n",
       "    <tr>\n",
       "      <th>19</th>\n",
       "      <td>80</td>\n",
       "      <td>80</td>\n",
       "    </tr>\n",
       "    <tr>\n",
       "      <th>20</th>\n",
       "      <td>104</td>\n",
       "      <td>104</td>\n",
       "    </tr>\n",
       "    <tr>\n",
       "      <th>21</th>\n",
       "      <td>73</td>\n",
       "      <td>73</td>\n",
       "    </tr>\n",
       "    <tr>\n",
       "      <th>22</th>\n",
       "      <td>79</td>\n",
       "      <td>79</td>\n",
       "    </tr>\n",
       "    <tr>\n",
       "      <th>23</th>\n",
       "      <td>56</td>\n",
       "      <td>56</td>\n",
       "    </tr>\n",
       "    <tr>\n",
       "      <th>24</th>\n",
       "      <td>37</td>\n",
       "      <td>37</td>\n",
       "    </tr>\n",
       "    <tr>\n",
       "      <th>25</th>\n",
       "      <td>62</td>\n",
       "      <td>62</td>\n",
       "    </tr>\n",
       "    <tr>\n",
       "      <th>26</th>\n",
       "      <td>103</td>\n",
       "      <td>103</td>\n",
       "    </tr>\n",
       "    <tr>\n",
       "      <th>27</th>\n",
       "      <td>101</td>\n",
       "      <td>101</td>\n",
       "    </tr>\n",
       "    <tr>\n",
       "      <th>28</th>\n",
       "      <td>109</td>\n",
       "      <td>109</td>\n",
       "    </tr>\n",
       "    <tr>\n",
       "      <th>29</th>\n",
       "      <td>69</td>\n",
       "      <td>69</td>\n",
       "    </tr>\n",
       "    <tr>\n",
       "      <th>...</th>\n",
       "      <td>...</td>\n",
       "      <td>...</td>\n",
       "    </tr>\n",
       "    <tr>\n",
       "      <th>16576</th>\n",
       "      <td>20238</td>\n",
       "      <td>20238</td>\n",
       "    </tr>\n",
       "    <tr>\n",
       "      <th>16577</th>\n",
       "      <td>18011</td>\n",
       "      <td>18011</td>\n",
       "    </tr>\n",
       "    <tr>\n",
       "      <th>16578</th>\n",
       "      <td>19227</td>\n",
       "      <td>19227</td>\n",
       "    </tr>\n",
       "    <tr>\n",
       "      <th>16579</th>\n",
       "      <td>18511</td>\n",
       "      <td>18511</td>\n",
       "    </tr>\n",
       "    <tr>\n",
       "      <th>16580</th>\n",
       "      <td>6966</td>\n",
       "      <td>6966</td>\n",
       "    </tr>\n",
       "    <tr>\n",
       "      <th>16581</th>\n",
       "      <td>7556</td>\n",
       "      <td>7556</td>\n",
       "    </tr>\n",
       "    <tr>\n",
       "      <th>16582</th>\n",
       "      <td>124955</td>\n",
       "      <td>124955</td>\n",
       "    </tr>\n",
       "    <tr>\n",
       "      <th>16583</th>\n",
       "      <td>130361</td>\n",
       "      <td>130361</td>\n",
       "    </tr>\n",
       "    <tr>\n",
       "      <th>16584</th>\n",
       "      <td>113056</td>\n",
       "      <td>113056</td>\n",
       "    </tr>\n",
       "    <tr>\n",
       "      <th>16585</th>\n",
       "      <td>107703</td>\n",
       "      <td>107703</td>\n",
       "    </tr>\n",
       "    <tr>\n",
       "      <th>16586</th>\n",
       "      <td>127053</td>\n",
       "      <td>127053</td>\n",
       "    </tr>\n",
       "    <tr>\n",
       "      <th>16587</th>\n",
       "      <td>130051</td>\n",
       "      <td>130051</td>\n",
       "    </tr>\n",
       "    <tr>\n",
       "      <th>16588</th>\n",
       "      <td>156251</td>\n",
       "      <td>156251</td>\n",
       "    </tr>\n",
       "    <tr>\n",
       "      <th>16589</th>\n",
       "      <td>104507</td>\n",
       "      <td>104507</td>\n",
       "    </tr>\n",
       "    <tr>\n",
       "      <th>16590</th>\n",
       "      <td>127053</td>\n",
       "      <td>127053</td>\n",
       "    </tr>\n",
       "    <tr>\n",
       "      <th>16591</th>\n",
       "      <td>27471</td>\n",
       "      <td>27471</td>\n",
       "    </tr>\n",
       "    <tr>\n",
       "      <th>16592</th>\n",
       "      <td>37115</td>\n",
       "      <td>37115</td>\n",
       "    </tr>\n",
       "    <tr>\n",
       "      <th>16593</th>\n",
       "      <td>37408</td>\n",
       "      <td>37408</td>\n",
       "    </tr>\n",
       "    <tr>\n",
       "      <th>16594</th>\n",
       "      <td>25661</td>\n",
       "      <td>25661</td>\n",
       "    </tr>\n",
       "    <tr>\n",
       "      <th>16595</th>\n",
       "      <td>30488</td>\n",
       "      <td>30488</td>\n",
       "    </tr>\n",
       "    <tr>\n",
       "      <th>16596</th>\n",
       "      <td>29503</td>\n",
       "      <td>29503</td>\n",
       "    </tr>\n",
       "    <tr>\n",
       "      <th>16597</th>\n",
       "      <td>1217</td>\n",
       "      <td>1217</td>\n",
       "    </tr>\n",
       "    <tr>\n",
       "      <th>16598</th>\n",
       "      <td>5075</td>\n",
       "      <td>5075</td>\n",
       "    </tr>\n",
       "    <tr>\n",
       "      <th>16599</th>\n",
       "      <td>10424</td>\n",
       "      <td>10424</td>\n",
       "    </tr>\n",
       "    <tr>\n",
       "      <th>16600</th>\n",
       "      <td>10936</td>\n",
       "      <td>10936</td>\n",
       "    </tr>\n",
       "    <tr>\n",
       "      <th>16601</th>\n",
       "      <td>18546</td>\n",
       "      <td>18546</td>\n",
       "    </tr>\n",
       "    <tr>\n",
       "      <th>16602</th>\n",
       "      <td>10300</td>\n",
       "      <td>10300</td>\n",
       "    </tr>\n",
       "    <tr>\n",
       "      <th>16603</th>\n",
       "      <td>19227</td>\n",
       "      <td>19227</td>\n",
       "    </tr>\n",
       "    <tr>\n",
       "      <th>16604</th>\n",
       "      <td>18546</td>\n",
       "      <td>18546</td>\n",
       "    </tr>\n",
       "    <tr>\n",
       "      <th>16605</th>\n",
       "      <td>19227</td>\n",
       "      <td>19227</td>\n",
       "    </tr>\n",
       "  </tbody>\n",
       "</table>\n",
       "<p>16606 rows × 2 columns</p>\n",
       "</div>"
      ],
      "text/plain": [
       "       brand_pop  total_views\n",
       "0          10424        10424\n",
       "1           2715         2715\n",
       "2             47           47\n",
       "3             61           61\n",
       "4             36           36\n",
       "5             77           77\n",
       "6             74           74\n",
       "7            112          112\n",
       "8             67           67\n",
       "9             74           74\n",
       "10            94           94\n",
       "11            68           68\n",
       "12            56           56\n",
       "13            52           52\n",
       "14            59           59\n",
       "15            68           68\n",
       "16            84           84\n",
       "17           103          103\n",
       "18           101          101\n",
       "19            80           80\n",
       "20           104          104\n",
       "21            73           73\n",
       "22            79           79\n",
       "23            56           56\n",
       "24            37           37\n",
       "25            62           62\n",
       "26           103          103\n",
       "27           101          101\n",
       "28           109          109\n",
       "29            69           69\n",
       "...          ...          ...\n",
       "16576      20238        20238\n",
       "16577      18011        18011\n",
       "16578      19227        19227\n",
       "16579      18511        18511\n",
       "16580       6966         6966\n",
       "16581       7556         7556\n",
       "16582     124955       124955\n",
       "16583     130361       130361\n",
       "16584     113056       113056\n",
       "16585     107703       107703\n",
       "16586     127053       127053\n",
       "16587     130051       130051\n",
       "16588     156251       156251\n",
       "16589     104507       104507\n",
       "16590     127053       127053\n",
       "16591      27471        27471\n",
       "16592      37115        37115\n",
       "16593      37408        37408\n",
       "16594      25661        25661\n",
       "16595      30488        30488\n",
       "16596      29503        29503\n",
       "16597       1217         1217\n",
       "16598       5075         5075\n",
       "16599      10424        10424\n",
       "16600      10936        10936\n",
       "16601      18546        18546\n",
       "16602      10300        10300\n",
       "16603      19227        19227\n",
       "16604      18546        18546\n",
       "16605      19227        19227\n",
       "\n",
       "[16606 rows x 2 columns]"
      ]
     },
     "execution_count": 14,
     "metadata": {},
     "output_type": "execute_result"
    }
   ],
   "source": [
    "# brand popularity == total views\n",
    "fem_dress[['brand_pop', 'total_views']]"
   ]
  },
  {
   "cell_type": "code",
   "execution_count": 31,
   "metadata": {
    "ExecuteTime": {
     "end_time": "2018-03-02T10:03:22.872501Z",
     "start_time": "2018-03-02T10:03:22.693122Z"
    },
    "code_folding": []
   },
   "outputs": [
    {
     "name": "stdout",
     "output_type": "stream",
     "text": [
      "Info on ready data:\n",
      "<class 'pandas.core.frame.DataFrame'>\n",
      "RangeIndex: 16606 entries, 0 to 16605\n",
      "Data columns (total 34 columns):\n",
      "sku_config                          16606 non-null object\n",
      "current_price                       16606 non-null float64\n",
      "percent_discount_from_rrp           16606 non-null float64\n",
      "n_competitor                        16606 non-null int64\n",
      "rel_price_as_ratio                  16606 non-null float64\n",
      "black_price                         16606 non-null float64\n",
      "product_name                        16606 non-null object\n",
      "color                               16606 non-null object\n",
      "color_pop                           16606 non-null float64\n",
      "sub_cat                             16606 non-null object\n",
      "brand_name                          16606 non-null object\n",
      "brand_type                          16606 non-null object\n",
      "date                                16606 non-null datetime64[ns]\n",
      "total_views                         16606 non-null int64\n",
      "total_impressions                   16606 non-null int64\n",
      "mean_views                          16606 non-null float64\n",
      "mean_impressions                    16606 non-null float64\n",
      "brand_pop                           16606 non-null int64\n",
      "ordered_date                        16606 non-null object\n",
      "n_sold                              16606 non-null int64\n",
      "weekday                             16606 non-null int64\n",
      "is_weekend                          16606 non-null int64\n",
      "is_workday                          16606 non-null int64\n",
      "year                                16606 non-null int64\n",
      "log_current_price                   16606 non-null float64\n",
      "scaled_current_price                16606 non-null float64\n",
      "scaled_percent_discount_from_rrp    16606 non-null float64\n",
      "scaled_n_competitor                 16606 non-null float64\n",
      "scaled_rel_price_as_ratio           16606 non-null float64\n",
      "scaled_color_pop                    16606 non-null float64\n",
      "scaled_brand_pop                    16606 non-null float64\n",
      "stock                               16606 non-null int64\n",
      "log10_rel_price                     16606 non-null float64\n",
      "log2_rel_price                      16606 non-null float64\n",
      "dtypes: datetime64[ns](1), float64(16), int64(10), object(7)\n",
      "memory usage: 4.3+ MB\n",
      "None\n",
      "Correlation scores sorted:\n"
     ]
    },
    {
     "data": {
      "text/html": [
       "<div>\n",
       "<style>\n",
       "    .dataframe thead tr:only-child th {\n",
       "        text-align: right;\n",
       "    }\n",
       "\n",
       "    .dataframe thead th {\n",
       "        text-align: left;\n",
       "    }\n",
       "\n",
       "    .dataframe tbody tr th {\n",
       "        vertical-align: top;\n",
       "    }\n",
       "</style>\n",
       "<table border=\"1\" class=\"dataframe\">\n",
       "  <thead>\n",
       "    <tr style=\"text-align: right;\">\n",
       "      <th></th>\n",
       "      <th>correlation_score</th>\n",
       "      <th>feature</th>\n",
       "    </tr>\n",
       "  </thead>\n",
       "  <tbody>\n",
       "    <tr>\n",
       "      <th>7</th>\n",
       "      <td>0.192563</td>\n",
       "      <td>mean_views</td>\n",
       "    </tr>\n",
       "    <tr>\n",
       "      <th>8</th>\n",
       "      <td>0.176605</td>\n",
       "      <td>mean_impressions</td>\n",
       "    </tr>\n",
       "    <tr>\n",
       "      <th>1</th>\n",
       "      <td>0.138050</td>\n",
       "      <td>brand_pop</td>\n",
       "    </tr>\n",
       "    <tr>\n",
       "      <th>9</th>\n",
       "      <td>0.138050</td>\n",
       "      <td>total_views</td>\n",
       "    </tr>\n",
       "    <tr>\n",
       "      <th>10</th>\n",
       "      <td>0.136588</td>\n",
       "      <td>total_impressions</td>\n",
       "    </tr>\n",
       "    <tr>\n",
       "      <th>0</th>\n",
       "      <td>0.035140</td>\n",
       "      <td>color_pop</td>\n",
       "    </tr>\n",
       "    <tr>\n",
       "      <th>4</th>\n",
       "      <td>0.002046</td>\n",
       "      <td>n_competitor</td>\n",
       "    </tr>\n",
       "    <tr>\n",
       "      <th>5</th>\n",
       "      <td>-0.028888</td>\n",
       "      <td>log10_rel_price</td>\n",
       "    </tr>\n",
       "    <tr>\n",
       "      <th>3</th>\n",
       "      <td>-0.038448</td>\n",
       "      <td>percent_discount_from_rrp</td>\n",
       "    </tr>\n",
       "    <tr>\n",
       "      <th>2</th>\n",
       "      <td>-0.039855</td>\n",
       "      <td>current_price</td>\n",
       "    </tr>\n",
       "    <tr>\n",
       "      <th>6</th>\n",
       "      <td>-0.087477</td>\n",
       "      <td>rel_price_as_ratio</td>\n",
       "    </tr>\n",
       "  </tbody>\n",
       "</table>\n",
       "</div>"
      ],
      "text/plain": [
       "    correlation_score                    feature\n",
       "7            0.192563                 mean_views\n",
       "8            0.176605           mean_impressions\n",
       "1            0.138050                  brand_pop\n",
       "9            0.138050                total_views\n",
       "10           0.136588          total_impressions\n",
       "0            0.035140                  color_pop\n",
       "4            0.002046               n_competitor\n",
       "5           -0.028888            log10_rel_price\n",
       "3           -0.038448  percent_discount_from_rrp\n",
       "2           -0.039855              current_price\n",
       "6           -0.087477         rel_price_as_ratio"
      ]
     },
     "execution_count": 31,
     "metadata": {},
     "output_type": "execute_result"
    }
   ],
   "source": [
    "cal_corrs(group_id = 'dresses_female_autumn-winter_2017')"
   ]
  },
  {
   "cell_type": "markdown",
   "metadata": {},
   "source": [
    "## Fashion bags in spring-summer 2017"
   ]
  },
  {
   "cell_type": "code",
   "execution_count": 37,
   "metadata": {
    "ExecuteTime": {
     "end_time": "2018-03-02T10:11:56.802128Z",
     "start_time": "2018-03-02T10:11:56.770689Z"
    },
    "scrolled": true
   },
   "outputs": [
    {
     "name": "stdout",
     "output_type": "stream",
     "text": [
      "Info on ready data:\n",
      "<class 'pandas.core.frame.DataFrame'>\n",
      "RangeIndex: 975 entries, 0 to 974\n",
      "Data columns (total 33 columns):\n",
      "sku_config                          975 non-null object\n",
      "current_price                       975 non-null float64\n",
      "percent_discount_from_rrp           975 non-null float64\n",
      "n_competitor                        975 non-null int64\n",
      "rel_price_as_ratio                  975 non-null float64\n",
      "product_name                        975 non-null object\n",
      "color                               975 non-null object\n",
      "color_pop                           975 non-null float64\n",
      "sub_cat                             975 non-null object\n",
      "brand_name                          975 non-null object\n",
      "brand_type                          975 non-null object\n",
      "date                                975 non-null datetime64[ns]\n",
      "total_views                         975 non-null int64\n",
      "total_impressions                   975 non-null int64\n",
      "mean_views                          975 non-null float64\n",
      "mean_impressions                    975 non-null float64\n",
      "brand_pop                           975 non-null int64\n",
      "ordered_date                        975 non-null object\n",
      "n_sold                              975 non-null int64\n",
      "weekday                             975 non-null int64\n",
      "is_weekend                          975 non-null int64\n",
      "is_workday                          975 non-null int64\n",
      "scaled_current_price                975 non-null float64\n",
      "scaled_percent_discount_from_rrp    975 non-null float64\n",
      "scaled_n_competitor                 975 non-null float64\n",
      "scaled_rel_price_as_ratio           975 non-null float64\n",
      "scaled_color_pop                    975 non-null float64\n",
      "scaled_brand_pop                    975 non-null float64\n",
      "stock                               975 non-null int64\n",
      "black_price                         975 non-null float64\n",
      "log_rel_price                       975 non-null float64\n",
      "log10_rel_price                     975 non-null float64\n",
      "log2_rel_price                      975 non-null float64\n",
      "dtypes: datetime64[ns](1), float64(16), int64(9), object(7)\n",
      "memory usage: 251.4+ KB\n",
      "None\n",
      "Correlation scores sorted:\n"
     ]
    },
    {
     "data": {
      "text/html": [
       "<div>\n",
       "<style>\n",
       "    .dataframe thead tr:only-child th {\n",
       "        text-align: right;\n",
       "    }\n",
       "\n",
       "    .dataframe thead th {\n",
       "        text-align: left;\n",
       "    }\n",
       "\n",
       "    .dataframe tbody tr th {\n",
       "        vertical-align: top;\n",
       "    }\n",
       "</style>\n",
       "<table border=\"1\" class=\"dataframe\">\n",
       "  <thead>\n",
       "    <tr style=\"text-align: right;\">\n",
       "      <th></th>\n",
       "      <th>correlation_score</th>\n",
       "      <th>feature</th>\n",
       "    </tr>\n",
       "  </thead>\n",
       "  <tbody>\n",
       "    <tr>\n",
       "      <th>7</th>\n",
       "      <td>0.188215</td>\n",
       "      <td>mean_views</td>\n",
       "    </tr>\n",
       "    <tr>\n",
       "      <th>1</th>\n",
       "      <td>0.185196</td>\n",
       "      <td>brand_pop</td>\n",
       "    </tr>\n",
       "    <tr>\n",
       "      <th>9</th>\n",
       "      <td>0.185196</td>\n",
       "      <td>total_views</td>\n",
       "    </tr>\n",
       "    <tr>\n",
       "      <th>10</th>\n",
       "      <td>0.180887</td>\n",
       "      <td>total_impressions</td>\n",
       "    </tr>\n",
       "    <tr>\n",
       "      <th>8</th>\n",
       "      <td>0.179863</td>\n",
       "      <td>mean_impressions</td>\n",
       "    </tr>\n",
       "    <tr>\n",
       "      <th>3</th>\n",
       "      <td>0.175812</td>\n",
       "      <td>percent_discount_from_rrp</td>\n",
       "    </tr>\n",
       "    <tr>\n",
       "      <th>4</th>\n",
       "      <td>0.155970</td>\n",
       "      <td>n_competitor</td>\n",
       "    </tr>\n",
       "    <tr>\n",
       "      <th>0</th>\n",
       "      <td>0.147371</td>\n",
       "      <td>color_pop</td>\n",
       "    </tr>\n",
       "    <tr>\n",
       "      <th>5</th>\n",
       "      <td>-0.191157</td>\n",
       "      <td>log10_rel_price</td>\n",
       "    </tr>\n",
       "    <tr>\n",
       "      <th>2</th>\n",
       "      <td>-0.199506</td>\n",
       "      <td>current_price</td>\n",
       "    </tr>\n",
       "    <tr>\n",
       "      <th>6</th>\n",
       "      <td>-0.210382</td>\n",
       "      <td>rel_price_as_ratio</td>\n",
       "    </tr>\n",
       "  </tbody>\n",
       "</table>\n",
       "</div>"
      ],
      "text/plain": [
       "    correlation_score                    feature\n",
       "7            0.188215                 mean_views\n",
       "1            0.185196                  brand_pop\n",
       "9            0.185196                total_views\n",
       "10           0.180887          total_impressions\n",
       "8            0.179863           mean_impressions\n",
       "3            0.175812  percent_discount_from_rrp\n",
       "4            0.155970               n_competitor\n",
       "0            0.147371                  color_pop\n",
       "5           -0.191157            log10_rel_price\n",
       "2           -0.199506              current_price\n",
       "6           -0.210382         rel_price_as_ratio"
      ]
     },
     "execution_count": 37,
     "metadata": {},
     "output_type": "execute_result"
    }
   ],
   "source": [
    "cal_corrs(group_id='fashion_bags_female_spring-summer_2017')"
   ]
  },
  {
   "cell_type": "markdown",
   "metadata": {},
   "source": [
    "## Male shirts in spring-summer 2017"
   ]
  },
  {
   "cell_type": "code",
   "execution_count": 38,
   "metadata": {
    "ExecuteTime": {
     "end_time": "2018-03-02T10:14:14.621418Z",
     "start_time": "2018-03-02T10:14:14.569897Z"
    },
    "scrolled": true
   },
   "outputs": [
    {
     "name": "stdout",
     "output_type": "stream",
     "text": [
      "Info on ready data:\n",
      "<class 'pandas.core.frame.DataFrame'>\n",
      "RangeIndex: 3517 entries, 0 to 3516\n",
      "Data columns (total 33 columns):\n",
      "sku_config                          3517 non-null object\n",
      "current_price                       3517 non-null float64\n",
      "percent_discount_from_rrp           3517 non-null float64\n",
      "n_competitor                        3517 non-null int64\n",
      "rel_price_as_ratio                  3517 non-null float64\n",
      "product_name                        3517 non-null object\n",
      "color                               3517 non-null object\n",
      "color_pop                           3517 non-null float64\n",
      "sub_cat                             3517 non-null object\n",
      "brand_name                          3517 non-null object\n",
      "brand_type                          3517 non-null object\n",
      "date                                3517 non-null datetime64[ns]\n",
      "total_views                         3517 non-null int64\n",
      "total_impressions                   3517 non-null int64\n",
      "mean_views                          3517 non-null float64\n",
      "mean_impressions                    3517 non-null float64\n",
      "brand_pop                           3517 non-null int64\n",
      "ordered_date                        3517 non-null object\n",
      "n_sold                              3517 non-null int64\n",
      "weekday                             3517 non-null int64\n",
      "is_weekend                          3517 non-null int64\n",
      "is_workday                          3517 non-null int64\n",
      "scaled_current_price                3517 non-null float64\n",
      "scaled_percent_discount_from_rrp    3517 non-null float64\n",
      "scaled_n_competitor                 3517 non-null float64\n",
      "scaled_rel_price_as_ratio           3517 non-null float64\n",
      "scaled_color_pop                    3517 non-null float64\n",
      "scaled_brand_pop                    3517 non-null float64\n",
      "stock                               3517 non-null int64\n",
      "black_price                         3517 non-null float64\n",
      "log_rel_price                       3517 non-null float64\n",
      "log10_rel_price                     3517 non-null float64\n",
      "log2_rel_price                      3517 non-null float64\n",
      "dtypes: datetime64[ns](1), float64(16), int64(9), object(7)\n",
      "memory usage: 906.8+ KB\n",
      "None\n",
      "Correlation scores sorted:\n"
     ]
    },
    {
     "data": {
      "text/html": [
       "<div>\n",
       "<style>\n",
       "    .dataframe thead tr:only-child th {\n",
       "        text-align: right;\n",
       "    }\n",
       "\n",
       "    .dataframe thead th {\n",
       "        text-align: left;\n",
       "    }\n",
       "\n",
       "    .dataframe tbody tr th {\n",
       "        vertical-align: top;\n",
       "    }\n",
       "</style>\n",
       "<table border=\"1\" class=\"dataframe\">\n",
       "  <thead>\n",
       "    <tr style=\"text-align: right;\">\n",
       "      <th></th>\n",
       "      <th>correlation_score</th>\n",
       "      <th>feature</th>\n",
       "    </tr>\n",
       "  </thead>\n",
       "  <tbody>\n",
       "    <tr>\n",
       "      <th>7</th>\n",
       "      <td>0.235104</td>\n",
       "      <td>mean_views</td>\n",
       "    </tr>\n",
       "    <tr>\n",
       "      <th>8</th>\n",
       "      <td>0.228173</td>\n",
       "      <td>mean_impressions</td>\n",
       "    </tr>\n",
       "    <tr>\n",
       "      <th>3</th>\n",
       "      <td>0.115728</td>\n",
       "      <td>percent_discount_from_rrp</td>\n",
       "    </tr>\n",
       "    <tr>\n",
       "      <th>10</th>\n",
       "      <td>0.096668</td>\n",
       "      <td>total_impressions</td>\n",
       "    </tr>\n",
       "    <tr>\n",
       "      <th>1</th>\n",
       "      <td>0.096210</td>\n",
       "      <td>brand_pop</td>\n",
       "    </tr>\n",
       "    <tr>\n",
       "      <th>9</th>\n",
       "      <td>0.096210</td>\n",
       "      <td>total_views</td>\n",
       "    </tr>\n",
       "    <tr>\n",
       "      <th>0</th>\n",
       "      <td>0.073406</td>\n",
       "      <td>color_pop</td>\n",
       "    </tr>\n",
       "    <tr>\n",
       "      <th>2</th>\n",
       "      <td>0.001915</td>\n",
       "      <td>current_price</td>\n",
       "    </tr>\n",
       "    <tr>\n",
       "      <th>5</th>\n",
       "      <td>-0.010830</td>\n",
       "      <td>log10_rel_price</td>\n",
       "    </tr>\n",
       "    <tr>\n",
       "      <th>4</th>\n",
       "      <td>-0.069699</td>\n",
       "      <td>n_competitor</td>\n",
       "    </tr>\n",
       "    <tr>\n",
       "      <th>6</th>\n",
       "      <td>-0.117720</td>\n",
       "      <td>rel_price_as_ratio</td>\n",
       "    </tr>\n",
       "  </tbody>\n",
       "</table>\n",
       "</div>"
      ],
      "text/plain": [
       "    correlation_score                    feature\n",
       "7            0.235104                 mean_views\n",
       "8            0.228173           mean_impressions\n",
       "3            0.115728  percent_discount_from_rrp\n",
       "10           0.096668          total_impressions\n",
       "1            0.096210                  brand_pop\n",
       "9            0.096210                total_views\n",
       "0            0.073406                  color_pop\n",
       "2            0.001915              current_price\n",
       "5           -0.010830            log10_rel_price\n",
       "4           -0.069699               n_competitor\n",
       "6           -0.117720         rel_price_as_ratio"
      ]
     },
     "execution_count": 38,
     "metadata": {},
     "output_type": "execute_result"
    }
   ],
   "source": [
    "cal_corrs(group_id='shirts_male_spring-summer_2017')"
   ]
  },
  {
   "cell_type": "markdown",
   "metadata": {
    "heading_collapsed": true
   },
   "source": [
    "# Global features"
   ]
  },
  {
   "cell_type": "code",
   "execution_count": 3,
   "metadata": {
    "ExecuteTime": {
     "end_time": "2017-09-12T09:52:55.346922Z",
     "start_time": "2017-09-12T09:52:52.105729Z"
    },
    "collapsed": true,
    "hidden": true
   },
   "outputs": [
    {
     "name": "stdout",
     "output_type": "stream",
     "text": [
      "<class 'pandas.core.frame.DataFrame'>\n",
      "RangeIndex: 1097778 entries, 0 to 1097777\n",
      "Data columns (total 13 columns):\n",
      "sku_config           1097778 non-null object\n",
      "product_name         1097778 non-null object\n",
      "color                1097778 non-null object\n",
      "sub_cat              1097778 non-null object\n",
      "brand_name           1097778 non-null object\n",
      "n_sold               877996 non-null float64\n",
      "color_pop            877996 non-null float64\n",
      "brand_type           1058709 non-null object\n",
      "date                 1058709 non-null object\n",
      "brand_total_views    1058709 non-null float64\n",
      "total_impressions    1058709 non-null float64\n",
      "brand_mean_views     1058709 non-null float64\n",
      "mean_impressions     1058709 non-null float64\n",
      "dtypes: float64(6), object(7)\n",
      "memory usage: 108.9+ MB\n"
     ]
    }
   ],
   "source": [
    "glob_feat = pd.read_csv(CLEAN_DIR + 'global_feats.csv')\n",
    "glob_feat.info()"
   ]
  },
  {
   "cell_type": "code",
   "execution_count": 7,
   "metadata": {
    "ExecuteTime": {
     "end_time": "2017-09-12T10:41:57.347330Z",
     "start_time": "2017-09-12T10:41:56.753814Z"
    },
    "hidden": true
   },
   "outputs": [
    {
     "name": "stdout",
     "output_type": "stream",
     "text": [
      "(74613, 6)\n"
     ]
    }
   ],
   "source": [
    "cols = ['sku_config', 'product_name', 'color', 'color_pop', 'sub_cat', 'brand_name']\n",
    "glob_feat = glob_feat[cols].drop_duplicates()\n",
    "print(glob_feat.shape)"
   ]
  },
  {
   "cell_type": "code",
   "execution_count": 6,
   "metadata": {
    "ExecuteTime": {
     "end_time": "2017-09-12T10:39:20.916507Z",
     "start_time": "2017-09-12T10:39:20.686637Z"
    },
    "collapsed": true,
    "hidden": true
   },
   "outputs": [
    {
     "name": "stdout",
     "output_type": "stream",
     "text": [
      "<class 'pandas.core.frame.DataFrame'>\n",
      "RangeIndex: 111233 entries, 0 to 111232\n",
      "Data columns (total 7 columns):\n",
      "brand_name           111233 non-null object\n",
      "brand_type           111233 non-null object\n",
      "date                 111233 non-null datetime64[ns]\n",
      "total_views          111233 non-null int64\n",
      "total_impressions    111233 non-null int64\n",
      "mean_views           111233 non-null float64\n",
      "mean_impressions     111233 non-null float64\n",
      "dtypes: datetime64[ns](1), float64(2), int64(2), object(2)\n",
      "memory usage: 5.9+ MB\n"
     ]
    }
   ],
   "source": [
    "yr = 2017\n",
    "brand_pop = pd.read_csv(CLEAN_DIR + '{}_brand_pop.csv'.format(yr), parse_dates=['date'])\n",
    "brand_pop.info()"
   ]
  },
  {
   "cell_type": "code",
   "execution_count": 10,
   "metadata": {
    "ExecuteTime": {
     "end_time": "2017-09-12T10:44:48.957438Z",
     "start_time": "2017-09-12T10:44:45.785663Z"
    },
    "hidden": true
   },
   "outputs": [
    {
     "name": "stdout",
     "output_type": "stream",
     "text": [
      "(14391695, 12)\n"
     ]
    }
   ],
   "source": [
    "glob_feat = pd.merge(glob_feat, brand_pop)\n",
    "print(glob_feat.shape)"
   ]
  },
  {
   "cell_type": "code",
   "execution_count": 11,
   "metadata": {
    "ExecuteTime": {
     "end_time": "2017-09-12T10:44:49.087486Z",
     "start_time": "2017-09-12T10:44:49.070295Z"
    },
    "collapsed": true,
    "hidden": true
   },
   "outputs": [
    {
     "data": {
      "text/html": [
       "<div>\n",
       "<style>\n",
       "    .dataframe thead tr:only-child th {\n",
       "        text-align: right;\n",
       "    }\n",
       "\n",
       "    .dataframe thead th {\n",
       "        text-align: left;\n",
       "    }\n",
       "\n",
       "    .dataframe tbody tr th {\n",
       "        vertical-align: top;\n",
       "    }\n",
       "</style>\n",
       "<table border=\"1\" class=\"dataframe\">\n",
       "  <thead>\n",
       "    <tr style=\"text-align: right;\">\n",
       "      <th></th>\n",
       "      <th>sku_config</th>\n",
       "      <th>product_name</th>\n",
       "      <th>color</th>\n",
       "      <th>color_pop</th>\n",
       "      <th>sub_cat</th>\n",
       "      <th>brand_name</th>\n",
       "      <th>brand_type</th>\n",
       "      <th>date</th>\n",
       "      <th>total_views</th>\n",
       "      <th>total_impressions</th>\n",
       "      <th>mean_views</th>\n",
       "      <th>mean_impressions</th>\n",
       "    </tr>\n",
       "  </thead>\n",
       "  <tbody>\n",
       "    <tr>\n",
       "      <th>0</th>\n",
       "      <td>CO302SH58WHLSG</td>\n",
       "      <td>Chuck Taylor All Star Canvas Ox Unisex Sneakers</td>\n",
       "      <td>black</td>\n",
       "      <td>14.330218</td>\n",
       "      <td>sneakers</td>\n",
       "      <td>Converse</td>\n",
       "      <td>regional_branded</td>\n",
       "      <td>2017-01-01</td>\n",
       "      <td>1189</td>\n",
       "      <td>32626</td>\n",
       "      <td>21.232143</td>\n",
       "      <td>582.607143</td>\n",
       "    </tr>\n",
       "    <tr>\n",
       "      <th>1</th>\n",
       "      <td>CO302SH58WHLSG</td>\n",
       "      <td>Chuck Taylor All Star Canvas Ox Unisex Sneakers</td>\n",
       "      <td>black</td>\n",
       "      <td>14.330218</td>\n",
       "      <td>sneakers</td>\n",
       "      <td>Converse</td>\n",
       "      <td>regional_branded</td>\n",
       "      <td>2017-01-02</td>\n",
       "      <td>1806</td>\n",
       "      <td>43205</td>\n",
       "      <td>32.250000</td>\n",
       "      <td>771.517857</td>\n",
       "    </tr>\n",
       "    <tr>\n",
       "      <th>2</th>\n",
       "      <td>CO302SH58WHLSG</td>\n",
       "      <td>Chuck Taylor All Star Canvas Ox Unisex Sneakers</td>\n",
       "      <td>black</td>\n",
       "      <td>14.330218</td>\n",
       "      <td>sneakers</td>\n",
       "      <td>Converse</td>\n",
       "      <td>regional_branded</td>\n",
       "      <td>2017-01-03</td>\n",
       "      <td>1301</td>\n",
       "      <td>34026</td>\n",
       "      <td>23.232143</td>\n",
       "      <td>607.607143</td>\n",
       "    </tr>\n",
       "    <tr>\n",
       "      <th>3</th>\n",
       "      <td>CO302SH58WHLSG</td>\n",
       "      <td>Chuck Taylor All Star Canvas Ox Unisex Sneakers</td>\n",
       "      <td>black</td>\n",
       "      <td>14.330218</td>\n",
       "      <td>sneakers</td>\n",
       "      <td>Converse</td>\n",
       "      <td>regional_branded</td>\n",
       "      <td>2017-01-04</td>\n",
       "      <td>1041</td>\n",
       "      <td>27482</td>\n",
       "      <td>18.589286</td>\n",
       "      <td>490.750000</td>\n",
       "    </tr>\n",
       "    <tr>\n",
       "      <th>4</th>\n",
       "      <td>CO302SH58WHLSG</td>\n",
       "      <td>Chuck Taylor All Star Canvas Ox Unisex Sneakers</td>\n",
       "      <td>black</td>\n",
       "      <td>14.330218</td>\n",
       "      <td>sneakers</td>\n",
       "      <td>Converse</td>\n",
       "      <td>regional_branded</td>\n",
       "      <td>2017-01-05</td>\n",
       "      <td>971</td>\n",
       "      <td>32698</td>\n",
       "      <td>17.339286</td>\n",
       "      <td>583.892857</td>\n",
       "    </tr>\n",
       "  </tbody>\n",
       "</table>\n",
       "</div>"
      ],
      "text/plain": [
       "       sku_config                                     product_name  color  \\\n",
       "0  CO302SH58WHLSG  Chuck Taylor All Star Canvas Ox Unisex Sneakers  black   \n",
       "1  CO302SH58WHLSG  Chuck Taylor All Star Canvas Ox Unisex Sneakers  black   \n",
       "2  CO302SH58WHLSG  Chuck Taylor All Star Canvas Ox Unisex Sneakers  black   \n",
       "3  CO302SH58WHLSG  Chuck Taylor All Star Canvas Ox Unisex Sneakers  black   \n",
       "4  CO302SH58WHLSG  Chuck Taylor All Star Canvas Ox Unisex Sneakers  black   \n",
       "\n",
       "   color_pop   sub_cat brand_name        brand_type       date  total_views  \\\n",
       "0  14.330218  sneakers   Converse  regional_branded 2017-01-01         1189   \n",
       "1  14.330218  sneakers   Converse  regional_branded 2017-01-02         1806   \n",
       "2  14.330218  sneakers   Converse  regional_branded 2017-01-03         1301   \n",
       "3  14.330218  sneakers   Converse  regional_branded 2017-01-04         1041   \n",
       "4  14.330218  sneakers   Converse  regional_branded 2017-01-05          971   \n",
       "\n",
       "   total_impressions  mean_views  mean_impressions  \n",
       "0              32626   21.232143        582.607143  \n",
       "1              43205   32.250000        771.517857  \n",
       "2              34026   23.232143        607.607143  \n",
       "3              27482   18.589286        490.750000  \n",
       "4              32698   17.339286        583.892857  "
      ]
     },
     "execution_count": 11,
     "metadata": {},
     "output_type": "execute_result"
    }
   ],
   "source": [
    "glob_feat.head()"
   ]
  },
  {
   "cell_type": "code",
   "execution_count": 12,
   "metadata": {
    "ExecuteTime": {
     "end_time": "2017-09-12T10:51:03.792707Z",
     "start_time": "2017-09-12T10:47:20.563360Z"
    },
    "collapsed": true,
    "hidden": true
   },
   "outputs": [],
   "source": [
    "glob_feat.to_csv(CLEAN_DIR + '{}_glob_feat.csv'.format(yr), index=False)"
   ]
  },
  {
   "cell_type": "code",
   "execution_count": 71,
   "metadata": {
    "ExecuteTime": {
     "end_time": "2017-09-12T15:40:52.336610Z",
     "start_time": "2017-09-12T15:40:52.333634Z"
    },
    "code_folding": [
     0
    ],
    "collapsed": true,
    "hidden": true
   },
   "outputs": [],
   "source": [
    "def show_top(df, k=5, attrib='color_pop'):\n",
    "    return df.sort_values(attrib, ascending=False).head(k)"
   ]
  },
  {
   "cell_type": "markdown",
   "metadata": {
    "hidden": true
   },
   "source": [
    "## Color popularity"
   ]
  },
  {
   "cell_type": "code",
   "execution_count": null,
   "metadata": {
    "collapsed": true,
    "hidden": true
   },
   "outputs": [],
   "source": [
    "sum(glob_feat.color_pop.isnull())"
   ]
  },
  {
   "cell_type": "markdown",
   "metadata": {
    "hidden": true
   },
   "source": [
    "Lots of NA pops. Which are colors with NA pops?"
   ]
  },
  {
   "cell_type": "code",
   "execution_count": null,
   "metadata": {
    "collapsed": true,
    "hidden": true
   },
   "outputs": [],
   "source": [
    "glob_feat[glob_feat.color_pop.isnull()].color.unique()[:3]\n",
    "# color_pop.query('color == \"warm yellow\"')"
   ]
  },
  {
   "cell_type": "code",
   "execution_count": 69,
   "metadata": {
    "ExecuteTime": {
     "end_time": "2017-09-12T15:38:09.007053Z",
     "start_time": "2017-09-12T15:38:08.987337Z"
    },
    "code_folding": [
     0,
     5,
     16
    ],
    "collapsed": true,
    "hidden": true
   },
   "outputs": [],
   "source": [
    "def get_color_pop(sc):\n",
    "    cols = ['sub_cat', 'color', 'color_pop']\n",
    "    df = glob_feat[cols].query('sub_cat == \"{}\"'.format(sc)).dropna()\n",
    "    return df.drop_duplicates().query('color != \"na\"')\n",
    "\n",
    "def color_pop_hist(df):\n",
    "    pl.hist(df['color_pop'])\n",
    "    a = pl.gca() # get current axes\n",
    "    a.set_yscale('log')\n",
    "    \n",
    "    pl.xlabel('Popularity')\n",
    "    pl.ylabel('# color')\n",
    "    sc = df['sub_cat'].iloc[0]\n",
    "    pl.title(sc)\n",
    "    pl.grid(True, linestyle='--')\n",
    "\n",
    "def diff_color_pop(df1, df2, fsize=(10, 5)): \n",
    "    fig = pl.subplots(1, 2, figsize=fsize)\n",
    "    pl.subplot(121)\n",
    "    color_pop_hist(df1)\n",
    "    \n",
    "    pl.subplot(122)\n",
    "    color_pop_hist(df2)\n",
    "    \n",
    "    pl.suptitle('Histogram of color popularity (log-10 scale)')\n",
    "    sc1, sc2 = df1.sub_cat.iloc[0], df2.sub_cat.iloc[0]\n",
    "    pl.savefig(FIG_DIR + 'color_pop_{}_vs_{}.pdf'.format(sc1, sc2))\n",
    "    pl.show(); pl.close()\n",
    "    "
   ]
  },
  {
   "cell_type": "markdown",
   "metadata": {
    "hidden": true
   },
   "source": [
    "### Jewellery vs Dresses"
   ]
  },
  {
   "cell_type": "code",
   "execution_count": 74,
   "metadata": {
    "ExecuteTime": {
     "end_time": "2017-09-12T15:51:25.207967Z",
     "start_time": "2017-09-12T15:51:25.203520Z"
    },
    "code_folding": [
     0
    ],
    "collapsed": true,
    "hidden": true
   },
   "outputs": [],
   "source": [
    "def comp_color_pop(sc1, sc2):\n",
    "    df1 = get_color_pop(sc1)\n",
    "    df2 = get_color_pop(sc2)\n",
    "    diff_color_pop(df1, df2)\n",
    "\n",
    "    top1, top2 = show_top(df1, attrib='color_pop'), show_top(df2, attrib='color_pop')\n",
    "    return top1, top2"
   ]
  },
  {
   "cell_type": "code",
   "execution_count": 75,
   "metadata": {
    "ExecuteTime": {
     "end_time": "2017-09-12T15:51:38.617094Z",
     "start_time": "2017-09-12T15:51:35.498719Z"
    },
    "hidden": true
   },
   "outputs": [
    {
     "data": {
      "image/png": "[encoded data removed]",
      "text/plain": [
       "<matplotlib.figure.Figure at 0x115928860>"
      ]
     },
     "metadata": {},
     "output_type": "display_data"
    }
   ],
   "source": [
    "top1, top2 = comp_color_pop('jewellery', 'dresses')"
   ]
  },
  {
   "cell_type": "code",
   "execution_count": 80,
   "metadata": {
    "ExecuteTime": {
     "end_time": "2017-09-12T15:53:49.667061Z",
     "start_time": "2017-09-12T15:53:49.656060Z"
    },
    "hidden": true
   },
   "outputs": [
    {
     "data": {
      "text/html": [
       "<div>\n",
       "<style>\n",
       "    .dataframe thead tr:only-child th {\n",
       "        text-align: right;\n",
       "    }\n",
       "\n",
       "    .dataframe thead th {\n",
       "        text-align: left;\n",
       "    }\n",
       "\n",
       "    .dataframe tbody tr th {\n",
       "        vertical-align: top;\n",
       "    }\n",
       "</style>\n",
       "<table border=\"1\" class=\"dataframe\">\n",
       "  <thead>\n",
       "    <tr style=\"text-align: right;\">\n",
       "      <th></th>\n",
       "      <th>index</th>\n",
       "      <th>sub_cat</th>\n",
       "      <th>color</th>\n",
       "      <th>color_pop</th>\n",
       "    </tr>\n",
       "  </thead>\n",
       "  <tbody>\n",
       "    <tr>\n",
       "      <th>0</th>\n",
       "      <td>1316178</td>\n",
       "      <td>jewellery</td>\n",
       "      <td>silver</td>\n",
       "      <td>34.850560</td>\n",
       "    </tr>\n",
       "    <tr>\n",
       "      <th>1</th>\n",
       "      <td>2390843</td>\n",
       "      <td>jewellery</td>\n",
       "      <td>multi</td>\n",
       "      <td>8.262765</td>\n",
       "    </tr>\n",
       "    <tr>\n",
       "      <th>2</th>\n",
       "      <td>1211198</td>\n",
       "      <td>jewellery</td>\n",
       "      <td>black</td>\n",
       "      <td>4.489415</td>\n",
       "    </tr>\n",
       "    <tr>\n",
       "      <th>3</th>\n",
       "      <td>1317522</td>\n",
       "      <td>jewellery</td>\n",
       "      <td>gold</td>\n",
       "      <td>3.985056</td>\n",
       "    </tr>\n",
       "    <tr>\n",
       "      <th>4</th>\n",
       "      <td>1642587</td>\n",
       "      <td>jewellery</td>\n",
       "      <td>rose gold</td>\n",
       "      <td>3.835616</td>\n",
       "    </tr>\n",
       "    <tr>\n",
       "      <th>5</th>\n",
       "      <td>492461</td>\n",
       "      <td>dresses</td>\n",
       "      <td>black</td>\n",
       "      <td>24.872127</td>\n",
       "    </tr>\n",
       "    <tr>\n",
       "      <th>6</th>\n",
       "      <td>490845</td>\n",
       "      <td>dresses</td>\n",
       "      <td>blue</td>\n",
       "      <td>12.534664</td>\n",
       "    </tr>\n",
       "    <tr>\n",
       "      <th>7</th>\n",
       "      <td>489431</td>\n",
       "      <td>dresses</td>\n",
       "      <td>white</td>\n",
       "      <td>6.988353</td>\n",
       "    </tr>\n",
       "    <tr>\n",
       "      <th>8</th>\n",
       "      <td>492663</td>\n",
       "      <td>dresses</td>\n",
       "      <td>navy</td>\n",
       "      <td>6.772663</td>\n",
       "    </tr>\n",
       "    <tr>\n",
       "      <th>9</th>\n",
       "      <td>493067</td>\n",
       "      <td>dresses</td>\n",
       "      <td>red</td>\n",
       "      <td>4.258335</td>\n",
       "    </tr>\n",
       "  </tbody>\n",
       "</table>\n",
       "</div>"
      ],
      "text/plain": [
       "     index    sub_cat      color  color_pop\n",
       "0  1316178  jewellery     silver  34.850560\n",
       "1  2390843  jewellery      multi   8.262765\n",
       "2  1211198  jewellery      black   4.489415\n",
       "3  1317522  jewellery       gold   3.985056\n",
       "4  1642587  jewellery  rose gold   3.835616\n",
       "5   492461    dresses      black  24.872127\n",
       "6   490845    dresses       blue  12.534664\n",
       "7   489431    dresses      white   6.988353\n",
       "8   492663    dresses       navy   6.772663\n",
       "9   493067    dresses        red   4.258335"
      ]
     },
     "execution_count": 80,
     "metadata": {},
     "output_type": "execute_result"
    }
   ],
   "source": [
    "top1.append(top2).reset_index(drop=True)"
   ]
  },
  {
   "cell_type": "markdown",
   "metadata": {
    "heading_collapsed": true,
    "hidden": true
   },
   "source": [
    "### Dresses vs Skirts"
   ]
  },
  {
   "cell_type": "code",
   "execution_count": 77,
   "metadata": {
    "ExecuteTime": {
     "end_time": "2017-09-12T15:52:43.214528Z",
     "start_time": "2017-09-12T15:52:40.240889Z"
    },
    "hidden": true
   },
   "outputs": [
    {
     "data": {
      "image/png": "[encoded data removed]",
      "text/plain": [
       "<matplotlib.figure.Figure at 0x118b91a90>"
      ]
     },
     "metadata": {},
     "output_type": "display_data"
    }
   ],
   "source": [
    "top3, top4 = comp_color_pop('dresses', 'skirts')"
   ]
  },
  {
   "cell_type": "code",
   "execution_count": 79,
   "metadata": {
    "ExecuteTime": {
     "end_time": "2017-09-12T15:53:37.650767Z",
     "start_time": "2017-09-12T15:53:37.639734Z"
    },
    "collapsed": true,
    "hidden": true
   },
   "outputs": [
    {
     "data": {
      "text/html": [
       "<div>\n",
       "<style>\n",
       "    .dataframe thead tr:only-child th {\n",
       "        text-align: right;\n",
       "    }\n",
       "\n",
       "    .dataframe thead th {\n",
       "        text-align: left;\n",
       "    }\n",
       "\n",
       "    .dataframe tbody tr th {\n",
       "        vertical-align: top;\n",
       "    }\n",
       "</style>\n",
       "<table border=\"1\" class=\"dataframe\">\n",
       "  <thead>\n",
       "    <tr style=\"text-align: right;\">\n",
       "      <th></th>\n",
       "      <th>index</th>\n",
       "      <th>sub_cat</th>\n",
       "      <th>color</th>\n",
       "      <th>color_pop</th>\n",
       "    </tr>\n",
       "  </thead>\n",
       "  <tbody>\n",
       "    <tr>\n",
       "      <th>0</th>\n",
       "      <td>492461</td>\n",
       "      <td>dresses</td>\n",
       "      <td>black</td>\n",
       "      <td>24.872127</td>\n",
       "    </tr>\n",
       "    <tr>\n",
       "      <th>1</th>\n",
       "      <td>490845</td>\n",
       "      <td>dresses</td>\n",
       "      <td>blue</td>\n",
       "      <td>12.534664</td>\n",
       "    </tr>\n",
       "    <tr>\n",
       "      <th>2</th>\n",
       "      <td>489431</td>\n",
       "      <td>dresses</td>\n",
       "      <td>white</td>\n",
       "      <td>6.988353</td>\n",
       "    </tr>\n",
       "    <tr>\n",
       "      <th>3</th>\n",
       "      <td>492663</td>\n",
       "      <td>dresses</td>\n",
       "      <td>navy</td>\n",
       "      <td>6.772663</td>\n",
       "    </tr>\n",
       "    <tr>\n",
       "      <th>4</th>\n",
       "      <td>493067</td>\n",
       "      <td>dresses</td>\n",
       "      <td>red</td>\n",
       "      <td>4.258335</td>\n",
       "    </tr>\n",
       "    <tr>\n",
       "      <th>5</th>\n",
       "      <td>498723</td>\n",
       "      <td>skirts</td>\n",
       "      <td>black</td>\n",
       "      <td>34.660194</td>\n",
       "    </tr>\n",
       "    <tr>\n",
       "      <th>6</th>\n",
       "      <td>495491</td>\n",
       "      <td>skirts</td>\n",
       "      <td>grey</td>\n",
       "      <td>16.067961</td>\n",
       "    </tr>\n",
       "    <tr>\n",
       "      <th>7</th>\n",
       "      <td>494683</td>\n",
       "      <td>skirts</td>\n",
       "      <td>blue</td>\n",
       "      <td>12.378641</td>\n",
       "    </tr>\n",
       "    <tr>\n",
       "      <th>8</th>\n",
       "      <td>669609</td>\n",
       "      <td>skirts</td>\n",
       "      <td>navy</td>\n",
       "      <td>3.737864</td>\n",
       "    </tr>\n",
       "    <tr>\n",
       "      <th>9</th>\n",
       "      <td>498319</td>\n",
       "      <td>skirts</td>\n",
       "      <td>white</td>\n",
       "      <td>2.766990</td>\n",
       "    </tr>\n",
       "  </tbody>\n",
       "</table>\n",
       "</div>"
      ],
      "text/plain": [
       "    index  sub_cat  color  color_pop\n",
       "0  492461  dresses  black  24.872127\n",
       "1  490845  dresses   blue  12.534664\n",
       "2  489431  dresses  white   6.988353\n",
       "3  492663  dresses   navy   6.772663\n",
       "4  493067  dresses    red   4.258335\n",
       "5  498723   skirts  black  34.660194\n",
       "6  495491   skirts   grey  16.067961\n",
       "7  494683   skirts   blue  12.378641\n",
       "8  669609   skirts   navy   3.737864\n",
       "9  498319   skirts  white   2.766990"
      ]
     },
     "execution_count": 79,
     "metadata": {},
     "output_type": "execute_result"
    }
   ],
   "source": [
    "top3.append(top4).reset_index()"
   ]
  },
  {
   "cell_type": "markdown",
   "metadata": {
    "hidden": true
   },
   "source": [
    "## Brand popularity"
   ]
  },
  {
   "cell_type": "code",
   "execution_count": null,
   "metadata": {
    "collapsed": true,
    "hidden": true
   },
   "outputs": [],
   "source": [
    "na_brand_pop = glob_X.brand_total_views.isnull()\n",
    "sum(na_brand_pop)\n",
    "\n",
    "# show brands with NA views\n",
    "glob_X[na_brand_pop][cols].head()"
   ]
  },
  {
   "cell_type": "code",
   "execution_count": null,
   "metadata": {
    "collapsed": true,
    "hidden": true
   },
   "outputs": [],
   "source": [
    "cols = ['']"
   ]
  },
  {
   "cell_type": "code",
   "execution_count": null,
   "metadata": {
    "collapsed": true,
    "hidden": true
   },
   "outputs": [],
   "source": []
  },
  {
   "cell_type": "code",
   "execution_count": null,
   "metadata": {
    "collapsed": true,
    "hidden": true
   },
   "outputs": [],
   "source": []
  },
  {
   "cell_type": "markdown",
   "metadata": {},
   "source": [
    "# Group features"
   ]
  },
  {
   "cell_type": "code",
   "execution_count": null,
   "metadata": {
    "collapsed": true
   },
   "outputs": [],
   "source": [
    "gname = 'heels_female_spring-summer'"
   ]
  },
  {
   "cell_type": "code",
   "execution_count": 4,
   "metadata": {
    "ExecuteTime": {
     "end_time": "2017-10-10T09:51:54.419903Z",
     "start_time": "2017-10-10T09:51:54.057488Z"
    },
    "collapsed": true
   },
   "outputs": [],
   "source": [
    "fem_heel_ss = pd.read_csv(FEAT_DIR + 'heels_female_spring-summer.csv', parse_dates=['snapshot_date'])"
   ]
  },
  {
   "cell_type": "markdown",
   "metadata": {},
   "source": [
    "## Check data distribution\n",
    "We need to see how data is distributed over years 2016-2017, which later will help to split/analyze data in a correct way."
   ]
  },
  {
   "cell_type": "code",
   "execution_count": 10,
   "metadata": {
    "ExecuteTime": {
     "end_time": "2017-10-10T10:00:54.522584Z",
     "start_time": "2017-10-10T10:00:53.214142Z"
    }
   },
   "outputs": [
    {
     "name": "stdout",
     "output_type": "stream",
     "text": [
      "# records in year 2016: 10950\n",
      "# records in year 2017: 193524\n"
     ]
    }
   ],
   "source": [
    "dat_dist_by_year(fem_heel_ss)"
   ]
  },
  {
   "cell_type": "code",
   "execution_count": 22,
   "metadata": {
    "ExecuteTime": {
     "end_time": "2017-10-10T10:21:14.575643Z",
     "start_time": "2017-10-10T10:21:14.544879Z"
    },
    "collapsed": true
   },
   "outputs": [],
   "source": [
    "grouped = fem_heel_ss.groupby(['sku_config', 'year'])\n",
    "\n",
    "res = grouped.size()\n",
    "res = res.reset_index().rename(columns = {0: 'n_row'})\n",
    "res.sort_values(['sku_config', 'year'], ascending=[False, True], inplace=True)"
   ]
  },
  {
   "cell_type": "code",
   "execution_count": 23,
   "metadata": {
    "ExecuteTime": {
     "end_time": "2017-10-10T10:21:17.679733Z",
     "start_time": "2017-10-10T10:21:17.674507Z"
    },
    "collapsed": true
   },
   "outputs": [],
   "source": [
    "_16_skus = res.query('year == 2016')['sku_config'].unique()"
   ]
  },
  {
   "cell_type": "code",
   "execution_count": 25,
   "metadata": {
    "ExecuteTime": {
     "end_time": "2017-10-10T10:23:11.586760Z",
     "start_time": "2017-10-10T10:23:11.575132Z"
    },
    "collapsed": true
   },
   "outputs": [
    {
     "data": {
      "text/html": [
       "<div>\n",
       "<style>\n",
       "    .dataframe thead tr:only-child th {\n",
       "        text-align: right;\n",
       "    }\n",
       "\n",
       "    .dataframe thead th {\n",
       "        text-align: left;\n",
       "    }\n",
       "\n",
       "    .dataframe tbody tr th {\n",
       "        vertical-align: top;\n",
       "    }\n",
       "</style>\n",
       "<table border=\"1\" class=\"dataframe\">\n",
       "  <thead>\n",
       "    <tr style=\"text-align: right;\">\n",
       "      <th></th>\n",
       "      <th>sku_config</th>\n",
       "      <th>year</th>\n",
       "      <th>n_row</th>\n",
       "    </tr>\n",
       "  </thead>\n",
       "  <tbody>\n",
       "    <tr>\n",
       "      <th>2576</th>\n",
       "      <td>SH554SH98PKJSG</td>\n",
       "      <td>2016</td>\n",
       "      <td>52</td>\n",
       "    </tr>\n",
       "    <tr>\n",
       "      <th>2577</th>\n",
       "      <td>SH554SH98PKJSG</td>\n",
       "      <td>2017</td>\n",
       "      <td>79</td>\n",
       "    </tr>\n",
       "    <tr>\n",
       "      <th>2574</th>\n",
       "      <td>SH554SH71PHOSG</td>\n",
       "      <td>2016</td>\n",
       "      <td>43</td>\n",
       "    </tr>\n",
       "    <tr>\n",
       "      <th>2575</th>\n",
       "      <td>SH554SH71PHOSG</td>\n",
       "      <td>2017</td>\n",
       "      <td>98</td>\n",
       "    </tr>\n",
       "    <tr>\n",
       "      <th>2572</th>\n",
       "      <td>SH554SH05YDASG</td>\n",
       "      <td>2016</td>\n",
       "      <td>275</td>\n",
       "    </tr>\n",
       "    <tr>\n",
       "      <th>2573</th>\n",
       "      <td>SH554SH05YDASG</td>\n",
       "      <td>2017</td>\n",
       "      <td>234</td>\n",
       "    </tr>\n",
       "    <tr>\n",
       "      <th>2383</th>\n",
       "      <td>PR343SH62SHTMY</td>\n",
       "      <td>2016</td>\n",
       "      <td>202</td>\n",
       "    </tr>\n",
       "    <tr>\n",
       "      <th>2384</th>\n",
       "      <td>PR343SH62SHTMY</td>\n",
       "      <td>2017</td>\n",
       "      <td>149</td>\n",
       "    </tr>\n",
       "    <tr>\n",
       "      <th>2316</th>\n",
       "      <td>PE444SH37WQGMY</td>\n",
       "      <td>2016</td>\n",
       "      <td>202</td>\n",
       "    </tr>\n",
       "    <tr>\n",
       "      <th>2317</th>\n",
       "      <td>PE444SH37WQGMY</td>\n",
       "      <td>2017</td>\n",
       "      <td>207</td>\n",
       "    </tr>\n",
       "  </tbody>\n",
       "</table>\n",
       "</div>"
      ],
      "text/plain": [
       "          sku_config  year  n_row\n",
       "2576  SH554SH98PKJSG  2016     52\n",
       "2577  SH554SH98PKJSG  2017     79\n",
       "2574  SH554SH71PHOSG  2016     43\n",
       "2575  SH554SH71PHOSG  2017     98\n",
       "2572  SH554SH05YDASG  2016    275\n",
       "2573  SH554SH05YDASG  2017    234\n",
       "2383  PR343SH62SHTMY  2016    202\n",
       "2384  PR343SH62SHTMY  2017    149\n",
       "2316  PE444SH37WQGMY  2016    202\n",
       "2317  PE444SH37WQGMY  2017    207"
      ]
     },
     "execution_count": 25,
     "metadata": {},
     "output_type": "execute_result"
    }
   ],
   "source": [
    "to_check = res[res.sku_config.isin(_16_skus)].sort_values(['sku_config', 'year'], ascending=[False, True])\n",
    "to_check.head(10)"
   ]
  },
  {
   "cell_type": "code",
   "execution_count": 26,
   "metadata": {
    "ExecuteTime": {
     "end_time": "2017-10-10T10:25:21.834613Z",
     "start_time": "2017-10-10T10:25:21.831715Z"
    }
   },
   "outputs": [
    {
     "name": "stdout",
     "output_type": "stream",
     "text": [
      "156\n"
     ]
    }
   ],
   "source": [
    "print(to_check.shape[0])"
   ]
  },
  {
   "cell_type": "markdown",
   "metadata": {},
   "source": [
    "+ For each config whose data span both 2016-2017, find ratio of n_records."
   ]
  },
  {
   "cell_type": "code",
   "execution_count": 33,
   "metadata": {
    "ExecuteTime": {
     "end_time": "2017-10-10T10:31:59.716885Z",
     "start_time": "2017-10-10T10:31:59.711375Z"
    },
    "code_folding": [
     0
    ],
    "collapsed": true
   },
   "outputs": [],
   "source": [
    "def record_ratio(df, configs):\n",
    "    ratios = np.zeros(len(configs))\n",
    "    for i, cf in enumerate(configs):\n",
    "        n_row_16 = df.query('sku_config == \"{}\" and year == 2016'.format(cf))['n_row']\n",
    "        n_row_17 = df.query('sku_config == \"{}\" and year == 2017'.format(cf))['n_row']\n",
    "        ratios[i] = float(n_row_17)/n_row_16\n",
    "    \n",
    "    return pd.DataFrame({'sku_config': configs, 'data_ratio': ratios})"
   ]
  },
  {
   "cell_type": "code",
   "execution_count": 34,
   "metadata": {
    "ExecuteTime": {
     "end_time": "2017-10-10T10:32:00.689267Z",
     "start_time": "2017-10-10T10:32:00.307266Z"
    },
    "collapsed": true,
    "scrolled": false
   },
   "outputs": [],
   "source": [
    "rec_ratios = record_ratio(to_check, _16_skus)"
   ]
  },
  {
   "cell_type": "code",
   "execution_count": 35,
   "metadata": {
    "ExecuteTime": {
     "end_time": "2017-10-10T10:32:27.156094Z",
     "start_time": "2017-10-10T10:32:27.148725Z"
    }
   },
   "outputs": [
    {
     "data": {
      "text/plain": [
       "count    78.000000\n",
       "mean      6.582734\n",
       "std      10.733466\n",
       "min       0.313725\n",
       "25%       0.805331\n",
       "50%       1.075758\n",
       "75%       8.428571\n",
       "max      49.000000\n",
       "Name: data_ratio, dtype: float64"
      ]
     },
     "execution_count": 35,
     "metadata": {},
     "output_type": "execute_result"
    }
   ],
   "source": [
    "rec_ratios.data_ratio.describe()"
   ]
  },
  {
   "cell_type": "code",
   "execution_count": 36,
   "metadata": {
    "ExecuteTime": {
     "end_time": "2017-10-10T10:51:07.766640Z",
     "start_time": "2017-10-10T10:51:07.758576Z"
    }
   },
   "outputs": [
    {
     "data": {
      "text/html": [
       "<div>\n",
       "<style>\n",
       "    .dataframe thead tr:only-child th {\n",
       "        text-align: right;\n",
       "    }\n",
       "\n",
       "    .dataframe thead th {\n",
       "        text-align: left;\n",
       "    }\n",
       "\n",
       "    .dataframe tbody tr th {\n",
       "        vertical-align: top;\n",
       "    }\n",
       "</style>\n",
       "<table border=\"1\" class=\"dataframe\">\n",
       "  <thead>\n",
       "    <tr style=\"text-align: right;\">\n",
       "      <th></th>\n",
       "      <th>data_ratio</th>\n",
       "      <th>sku_config</th>\n",
       "    </tr>\n",
       "  </thead>\n",
       "  <tbody>\n",
       "    <tr>\n",
       "      <th>75</th>\n",
       "      <td>49.00</td>\n",
       "      <td>AL087SH37KUOMY</td>\n",
       "    </tr>\n",
       "    <tr>\n",
       "      <th>73</th>\n",
       "      <td>45.50</td>\n",
       "      <td>AL087SH40KULMY</td>\n",
       "    </tr>\n",
       "    <tr>\n",
       "      <th>63</th>\n",
       "      <td>42.25</td>\n",
       "      <td>CA512SH45FHYMY</td>\n",
       "    </tr>\n",
       "    <tr>\n",
       "      <th>74</th>\n",
       "      <td>41.00</td>\n",
       "      <td>AL087SH38KUNMY</td>\n",
       "    </tr>\n",
       "    <tr>\n",
       "      <th>69</th>\n",
       "      <td>22.30</td>\n",
       "      <td>AL087SH51FHSMY</td>\n",
       "    </tr>\n",
       "  </tbody>\n",
       "</table>\n",
       "</div>"
      ],
      "text/plain": [
       "    data_ratio      sku_config\n",
       "75       49.00  AL087SH37KUOMY\n",
       "73       45.50  AL087SH40KULMY\n",
       "63       42.25  CA512SH45FHYMY\n",
       "74       41.00  AL087SH38KUNMY\n",
       "69       22.30  AL087SH51FHSMY"
      ]
     },
     "execution_count": 36,
     "metadata": {},
     "output_type": "execute_result"
    }
   ],
   "source": [
    "rec_ratios.sort_values('data_ratio', ascending=False, inplace=True)\n",
    "rec_ratios.head()"
   ]
  },
  {
   "cell_type": "code",
   "execution_count": 58,
   "metadata": {
    "ExecuteTime": {
     "end_time": "2017-10-10T14:42:22.022289Z",
     "start_time": "2017-10-10T14:42:22.004073Z"
    },
    "collapsed": true
   },
   "outputs": [],
   "source": [
    "# SKU configs with data in 2017 much more than data in 2016\n",
    "to_inspect = rec_ratios.query('data_ratio > 8')['sku_config']\n",
    "res = fem_heel_ss[fem_heel_ss.sku_config.isin(to_inspect)]"
   ]
  },
  {
   "cell_type": "code",
   "execution_count": 54,
   "metadata": {
    "ExecuteTime": {
     "end_time": "2017-10-10T14:39:30.628625Z",
     "start_time": "2017-10-10T14:39:30.625318Z"
    }
   },
   "outputs": [
    {
     "data": {
      "text/plain": [
       "(4559, 7)"
      ]
     },
     "execution_count": 54,
     "metadata": {},
     "output_type": "execute_result"
    }
   ],
   "source": [
    "res.shape"
   ]
  },
  {
   "cell_type": "code",
   "execution_count": 59,
   "metadata": {
    "ExecuteTime": {
     "end_time": "2017-10-10T14:42:23.625739Z",
     "start_time": "2017-10-10T14:42:23.578955Z"
    }
   },
   "outputs": [
    {
     "data": {
      "text/plain": [
       "(4559, 8)"
      ]
     },
     "execution_count": 59,
     "metadata": {},
     "output_type": "execute_result"
    }
   ],
   "source": [
    "res = res.merge(prod_df[['sku_config', 'activated_at_date']]).drop_duplicates()\n",
    "res.shape"
   ]
  },
  {
   "cell_type": "code",
   "execution_count": 60,
   "metadata": {
    "ExecuteTime": {
     "end_time": "2017-10-10T14:42:32.216042Z",
     "start_time": "2017-10-10T14:42:32.211463Z"
    },
    "collapsed": true,
    "scrolled": true
   },
   "outputs": [],
   "source": [
    "res = res.sort_values(['sku_config', 'year'])"
   ]
  },
  {
   "cell_type": "code",
   "execution_count": 63,
   "metadata": {
    "ExecuteTime": {
     "end_time": "2017-10-10T14:45:45.059574Z",
     "start_time": "2017-10-10T14:45:45.032067Z"
    },
    "collapsed": true
   },
   "outputs": [],
   "source": [
    "res['activation_year'] = res['activated_at_date'].apply(lambda ts: ts.year)\n",
    "res['activate_month'] = res['activated_at_date'].apply(lambda ts: ts.month)"
   ]
  },
  {
   "cell_type": "code",
   "execution_count": 66,
   "metadata": {
    "ExecuteTime": {
     "end_time": "2017-10-10T14:47:38.432422Z",
     "start_time": "2017-10-10T14:47:38.424759Z"
    }
   },
   "outputs": [
    {
     "data": {
      "text/plain": [
       "3239"
      ]
     },
     "execution_count": 66,
     "metadata": {},
     "output_type": "execute_result"
    }
   ],
   "source": [
    "res.query('activate_month == 12 and activation_year == 2016').shape[0]"
   ]
  },
  {
   "cell_type": "code",
   "execution_count": 48,
   "metadata": {
    "ExecuteTime": {
     "end_time": "2017-10-10T14:26:59.360241Z",
     "start_time": "2017-10-10T14:26:59.298627Z"
    },
    "collapsed": true
   },
   "outputs": [],
   "source": [
    "res.to_csv(GROUP_DIR + 'fem_heel_aw_check.csv', index=False)"
   ]
  },
  {
   "cell_type": "code",
   "execution_count": 38,
   "metadata": {
    "ExecuteTime": {
     "end_time": "2017-10-10T10:53:26.917356Z",
     "start_time": "2017-10-10T10:53:23.014017Z"
    },
    "collapsed": true
   },
   "outputs": [
    {
     "data": {
      "text/plain": [
       "Index(['venture_code', 'supplier_status', 'supplier_source', 'supplier_name',\n",
       "       'id_supplier', 'supplier_english_name', 'supplier_company_name',\n",
       "       'sub_category_type', 'stock', 'special_price_to_date',\n",
       "       'special_price_from_date', 'size_system_name', 'sku_supplier_config',\n",
       "       'sku_simple', 'sku_config', 'size_name', 'size_brand',\n",
       "       'simple_updated_at', 'simple_status', 'fk_simple_product',\n",
       "       'simple_created_at', 'show_virtusize', 'show_chart', 'shop_type',\n",
       "       'shipment_type', 'season', 'product_name', 'pet_status', 'pet_approved',\n",
       "       'nonsale_item', 'is_visible', 'image_url', 'gender',\n",
       "       'config_updated_at', 'config_status', 'id_config_product',\n",
       "       'config_group', 'config_created_at', 'color_family', 'color',\n",
       "       'category', 'catalogue', 'catalog_type', 'catalog_attribute_set_label',\n",
       "       'buying_price_group', 'buyer_name', 'brand_type', 'brand_status',\n",
       "       'brand_name', 'brand_department', 'activated_at_date', 'season_year',\n",
       "       'dwh_created_at', 'dwh_updated_at', 'corrected_sku_simple',\n",
       "       'corrected_sku_config', 'is_returnable', 'product_life_cycle',\n",
       "       'supplier_currency', 'brand_tier', 'is_pack',\n",
       "       'buying_planning_cat_type', 'short_description', 'cmpgn_five',\n",
       "       'catalog_attribute_set_name', 'sub_cat_gender', 'brand_identifier',\n",
       "       'supplier_email', 'sub_cat'],\n",
       "      dtype='object')"
      ]
     },
     "execution_count": 38,
     "metadata": {},
     "output_type": "execute_result"
    }
   ],
   "source": [
    "prod_df = pd.read_csv(CLEAN_DIR + 'products.csv', parse_dates=['activated_at_date'])\n",
    "prod_df.columns"
   ]
  },
  {
   "cell_type": "code",
   "execution_count": 42,
   "metadata": {
    "ExecuteTime": {
     "end_time": "2017-10-10T10:56:52.557175Z",
     "start_time": "2017-10-10T10:56:52.531487Z"
    }
   },
   "outputs": [
    {
     "data": {
      "text/html": [
       "<div>\n",
       "<style>\n",
       "    .dataframe thead tr:only-child th {\n",
       "        text-align: right;\n",
       "    }\n",
       "\n",
       "    .dataframe thead th {\n",
       "        text-align: left;\n",
       "    }\n",
       "\n",
       "    .dataframe tbody tr th {\n",
       "        vertical-align: top;\n",
       "    }\n",
       "</style>\n",
       "<table border=\"1\" class=\"dataframe\">\n",
       "  <thead>\n",
       "    <tr style=\"text-align: right;\">\n",
       "      <th></th>\n",
       "      <th>product_name</th>\n",
       "      <th>brand_name</th>\n",
       "      <th>size_name</th>\n",
       "    </tr>\n",
       "  </thead>\n",
       "  <tbody>\n",
       "    <tr>\n",
       "      <th>61397</th>\n",
       "      <td>Stessy Heels</td>\n",
       "      <td>ALDO</td>\n",
       "      <td>6</td>\n",
       "    </tr>\n",
       "    <tr>\n",
       "      <th>61398</th>\n",
       "      <td>Stessy Heels</td>\n",
       "      <td>ALDO</td>\n",
       "      <td>6.5</td>\n",
       "    </tr>\n",
       "    <tr>\n",
       "      <th>61399</th>\n",
       "      <td>Stessy Heels</td>\n",
       "      <td>ALDO</td>\n",
       "      <td>7.5</td>\n",
       "    </tr>\n",
       "    <tr>\n",
       "      <th>61400</th>\n",
       "      <td>Stessy Heels</td>\n",
       "      <td>ALDO</td>\n",
       "      <td>8.5</td>\n",
       "    </tr>\n",
       "  </tbody>\n",
       "</table>\n",
       "</div>"
      ],
      "text/plain": [
       "       product_name brand_name size_name\n",
       "61397  Stessy Heels       ALDO         6\n",
       "61398  Stessy Heels       ALDO       6.5\n",
       "61399  Stessy Heels       ALDO       7.5\n",
       "61400  Stessy Heels       ALDO       8.5"
      ]
     },
     "execution_count": 42,
     "metadata": {},
     "output_type": "execute_result"
    }
   ],
   "source": [
    "prod_df.query('sku_config == \"AL087SH37KUOMY\"')[['product_name', 'brand_name', 'size_name']]"
   ]
  },
  {
   "cell_type": "code",
   "execution_count": null,
   "metadata": {
    "collapsed": true
   },
   "outputs": [],
   "source": []
  },
  {
   "cell_type": "code",
   "execution_count": null,
   "metadata": {
    "collapsed": true
   },
   "outputs": [],
   "source": [
    "def cal_split_date(df):\n",
    "    "
   ]
  },
  {
   "cell_type": "markdown",
   "metadata": {},
   "source": [
    "## Price-based"
   ]
  },
  {
   "cell_type": "markdown",
   "metadata": {},
   "source": [
    "## Cannibalization-based"
   ]
  },
  {
   "cell_type": "code",
   "execution_count": null,
   "metadata": {
    "collapsed": true
   },
   "outputs": [],
   "source": []
  },
  {
   "cell_type": "markdown",
   "metadata": {},
   "source": [
    "# NAs in catalog data\n",
    "\n",
    "We check NA values in the following attributes:\n",
    "+ season\n",
    "+ color"
   ]
  },
  {
   "cell_type": "code",
   "execution_count": 3,
   "metadata": {
    "ExecuteTime": {
     "end_time": "2017-09-15T14:52:33.244638Z",
     "start_time": "2017-09-15T14:52:28.853973Z"
    },
    "collapsed": true
   },
   "outputs": [
    {
     "name": "stdout",
     "output_type": "stream",
     "text": [
      "<class 'pandas.core.frame.DataFrame'>\n",
      "RangeIndex: 195192 entries, 0 to 195191\n",
      "Data columns (total 69 columns):\n",
      "venture_code                   195192 non-null object\n",
      "supplier_status                195192 non-null object\n",
      "supplier_source                195059 non-null object\n",
      "supplier_name                  195192 non-null object\n",
      "id_supplier                    195192 non-null int64\n",
      "supplier_english_name          195192 non-null object\n",
      "supplier_company_name          195192 non-null object\n",
      "sub_category_type              195192 non-null object\n",
      "stock                          195192 non-null int64\n",
      "special_price_to_date          195192 non-null object\n",
      "special_price_from_date        195192 non-null object\n",
      "size_system_name               174324 non-null object\n",
      "sku_supplier_config            195192 non-null object\n",
      "sku_simple                     195192 non-null object\n",
      "sku_config                     195192 non-null object\n",
      "size_name                      195180 non-null object\n",
      "size_brand                     147161 non-null object\n",
      "simple_updated_at              195192 non-null object\n",
      "simple_status                  195192 non-null object\n",
      "fk_simple_product              195192 non-null int64\n",
      "simple_created_at              195192 non-null object\n",
      "show_virtusize                 195192 non-null int64\n",
      "show_chart                     195192 non-null int64\n",
      "shop_type                      195192 non-null int64\n",
      "shipment_type                  195192 non-null object\n",
      "season                         195192 non-null object\n",
      "product_name                   195192 non-null object\n",
      "pet_status                     195192 non-null object\n",
      "pet_approved                   195192 non-null int64\n",
      "nonsale_item                   195192 non-null int64\n",
      "is_visible                     195192 non-null int64\n",
      "image_url                      195192 non-null object\n",
      "gender                         195192 non-null object\n",
      "config_updated_at              195192 non-null object\n",
      "config_status                  195192 non-null object\n",
      "id_config_product              195192 non-null int64\n",
      "config_group                   100888 non-null object\n",
      "config_created_at              195192 non-null object\n",
      "color_family                   187799 non-null object\n",
      "color                          195192 non-null object\n",
      "category                       192865 non-null object\n",
      "catalogue                      195192 non-null object\n",
      "catalog_type                   195192 non-null object\n",
      "catalog_attribute_set_label    195192 non-null object\n",
      "buying_price_group             195192 non-null float64\n",
      "buyer_name                     147090 non-null object\n",
      "brand_type                     194420 non-null object\n",
      "brand_status                   195192 non-null object\n",
      "brand_name                     195192 non-null object\n",
      "brand_department               194420 non-null object\n",
      "activated_at_date              195192 non-null object\n",
      "season_year                    148019 non-null float64\n",
      "dwh_created_at                 195192 non-null object\n",
      "dwh_updated_at                 195192 non-null object\n",
      "corrected_sku_simple           195192 non-null object\n",
      "corrected_sku_config           195192 non-null object\n",
      "is_returnable                  195192 non-null object\n",
      "product_life_cycle             146983 non-null float64\n",
      "supplier_currency              147058 non-null object\n",
      "brand_tier                     195192 non-null int64\n",
      "is_pack                        195192 non-null int64\n",
      "buying_planning_cat_type       195192 non-null object\n",
      "short_description              195158 non-null object\n",
      "cmpgn_five                     191944 non-null object\n",
      "catalog_attribute_set_name     195192 non-null object\n",
      "sub_cat_gender                 195165 non-null object\n",
      "brand_identifier               195192 non-null int64\n",
      "supplier_email                 48004 non-null object\n",
      "sub_cat                        195192 non-null object\n",
      "dtypes: float64(3), int64(13), object(53)\n",
      "memory usage: 102.8+ MB\n"
     ]
    }
   ],
   "source": [
    "prod_df = pd.read_csv(CLEAN_DIR + 'products.csv')\n",
    "prod_df.info()"
   ]
  },
  {
   "cell_type": "markdown",
   "metadata": {},
   "source": [
    "## NAs in `season` attribute "
   ]
  },
  {
   "cell_type": "code",
   "execution_count": 39,
   "metadata": {
    "ExecuteTime": {
     "end_time": "2017-09-15T15:34:31.398940Z",
     "start_time": "2017-09-15T15:34:31.341642Z"
    }
   },
   "outputs": [
    {
     "data": {
      "text/plain": [
       "(46962, 69)"
      ]
     },
     "execution_count": 39,
     "metadata": {},
     "output_type": "execute_result"
    }
   ],
   "source": [
    "bad_df = prod_df.query('season == \"na\" and is_visible == True')\n",
    "bad_df.shape"
   ]
  },
  {
   "cell_type": "markdown",
   "metadata": {
    "heading_collapsed": true
   },
   "source": [
    "### NA distribution by year"
   ]
  },
  {
   "cell_type": "code",
   "execution_count": 41,
   "metadata": {
    "ExecuteTime": {
     "end_time": "2017-09-15T15:34:51.334100Z",
     "start_time": "2017-09-15T15:34:51.075912Z"
    },
    "collapsed": true,
    "hidden": true
   },
   "outputs": [],
   "source": [
    "bad_df = bad_df.rename(columns={'config_created_at': 'date'})\n",
    "bad_df['date'] = pd.to_datetime(bad_df['date'])\n",
    "bad_df['year'] = bad_df['date'].apply(lambda d: d.year)\n",
    "bad_df.sort_values('year', ascending=False, inplace=True)"
   ]
  },
  {
   "cell_type": "code",
   "execution_count": 31,
   "metadata": {
    "ExecuteTime": {
     "end_time": "2017-09-15T15:30:12.300045Z",
     "start_time": "2017-09-15T15:30:12.294361Z"
    },
    "hidden": true
   },
   "outputs": [
    {
     "data": {
      "text/plain": [
       "2017    24161\n",
       "2016    20335\n",
       "2015     2466\n",
       "Name: year, dtype: int64"
      ]
     },
     "execution_count": 31,
     "metadata": {},
     "output_type": "execute_result"
    }
   ],
   "source": [
    "bad_df.year.value_counts()"
   ]
  },
  {
   "cell_type": "markdown",
   "metadata": {},
   "source": [
    "### NA distribution by brand"
   ]
  },
  {
   "cell_type": "code",
   "execution_count": 20,
   "metadata": {
    "ExecuteTime": {
     "end_time": "2017-09-15T15:12:51.904730Z",
     "start_time": "2017-09-15T15:12:51.901913Z"
    },
    "collapsed": true
   },
   "outputs": [],
   "source": [
    "cols = ['product_name', 'date', 'sub_cat', 'brand_name', 'activated_at_date']"
   ]
  },
  {
   "cell_type": "code",
   "execution_count": 22,
   "metadata": {
    "ExecuteTime": {
     "end_time": "2017-09-15T15:13:33.794236Z",
     "start_time": "2017-09-15T15:13:33.779266Z"
    },
    "collapsed": true
   },
   "outputs": [
    {
     "data": {
      "text/plain": [
       "PaPerPlanes                   4039\n",
       "Maxstar                       2881\n",
       "Tommy Hilfiger                1800\n",
       "Splice Cufflinks              1424\n",
       "SHINE                         1326\n",
       "Nine West                     1218\n",
       "Life8                         1119\n",
       "Leline Style                  1089\n",
       "Levi's                        1074\n",
       "Her Jewellery                 1024\n",
       "Bove by Spring Maternity       989\n",
       "Forever New                    982\n",
       "The North Face                 875\n",
       "SHANTAL JEWELRY                873\n",
       "ShopsFashion                   796\n",
       "eq:iq                          761\n",
       "Dockers                        621\n",
       "TOPIXSHOP                      601\n",
       "The Little Link Cufflinks      597\n",
       "Praise                         563\n",
       "MONTIFS                        546\n",
       "Nixon                          543\n",
       "Elisa Litz                     539\n",
       "Moley                          515\n",
       "Gripz                          505\n",
       "Minelli                        465\n",
       "Andre                          459\n",
       "prettyFIT                      440\n",
       "Clarks                         438\n",
       "Deshabille                     421\n",
       "                              ... \n",
       "Real Techniques                 15\n",
       "Lanvin                          14\n",
       "Calvin Klein                    14\n",
       "Kenzo                           13\n",
       "LOEWE                           12\n",
       "EMK                             11\n",
       "Karl Phyle Zone by Z            11\n",
       "Imperial Barber                 10\n",
       "Something Borrowed              10\n",
       "Wish Formula                     9\n",
       "A Bathing Ape                    9\n",
       "derma-Rx                         9\n",
       "Samsung                          8\n",
       "Cre8skin                         8\n",
       "Xlash                            7\n",
       "Velvet                           6\n",
       "Devonine                         6\n",
       "Allies of Skin                   6\n",
       "TomTom                           5\n",
       "ISAYAE                           5\n",
       "Heme                             5\n",
       "Barry M                          4\n",
       "Solvil et Titus                  4\n",
       "Motorola                         4\n",
       "Polar                            4\n",
       "Pebble                           2\n",
       "JOSEPH&STACEY                    1\n",
       "Test Brand - do not delete       1\n",
       "ssong by ssong                   1\n",
       "bluelounge                       1\n",
       "Name: brand_name, Length: 232, dtype: int64"
      ]
     },
     "execution_count": 22,
     "metadata": {},
     "output_type": "execute_result"
    }
   ],
   "source": [
    "bad_df.brand_name.value_counts()"
   ]
  },
  {
   "cell_type": "markdown",
   "metadata": {
    "heading_collapsed": true
   },
   "source": [
    "### NA distribution by category"
   ]
  },
  {
   "cell_type": "code",
   "execution_count": 24,
   "metadata": {
    "ExecuteTime": {
     "end_time": "2017-09-15T15:22:33.361239Z",
     "start_time": "2017-09-15T15:22:33.346494Z"
    },
    "collapsed": true,
    "hidden": true
   },
   "outputs": [
    {
     "data": {
      "text/plain": [
       "sneakers                           5585\n",
       "dresses                            4197\n",
       "heels                              3176\n",
       "jewellery                          3020\n",
       "other accessories                  2274\n",
       "tops                               2274\n",
       "sandals & flip flops               2241\n",
       "other shoes                        1717\n",
       "watches                            1650\n",
       "shirts                             1551\n",
       "t-shirts                           1502\n",
       "ballerina & flats                  1356\n",
       "long pants                         1322\n",
       "jeans                              1153\n",
       "shorts                              930\n",
       "skirts                              900\n",
       "face make-up                        887\n",
       "other bags                          859\n",
       "lips                                819\n",
       "loafers, moccasins & boat shoes     780\n",
       "eyes                                571\n",
       "sports performance tops             498\n",
       "polo shirts                         462\n",
       "backpacks                           456\n",
       "wallets & purses                    423\n",
       "belts & buckles                     384\n",
       "eyewear                             371\n",
       "boots                               344\n",
       "hair                                339\n",
       "nightwear & sleepwear               311\n",
       "                                   ... \n",
       "na                                  281\n",
       "sports performance shoes            276\n",
       "nails                               262\n",
       "hoodies & sweatshirts               235\n",
       "face moisturisers                   224\n",
       "fashion bags                        222\n",
       "cleansers & toners                  202\n",
       "beauty acc & tools                  179\n",
       "cardigans & knitwear                173\n",
       "hats & caps                         170\n",
       "sports performance bottoms          165\n",
       "swimwear & beachwear                164\n",
       "socks                               139\n",
       "technology accessories              129\n",
       "bath & body                          94\n",
       "other beauty                         73\n",
       "suits                                71\n",
       "fragrances                           69\n",
       "business & dress shoes               64\n",
       "leggings & tights                    57\n",
       "bra                                  52\n",
       "sports performance accessories       48\n",
       "underwear                            33\n",
       "shoe care & shoe accessories         12\n",
       "kids shoes                            9\n",
       "totes                                 5\n",
       "traditional tops                      2\n",
       "traditional dresses                   2\n",
       "shoulder bags                         1\n",
       "slip ons & espadrilles                1\n",
       "Name: sub_cat, Length: 64, dtype: int64"
      ]
     },
     "execution_count": 24,
     "metadata": {},
     "output_type": "execute_result"
    }
   ],
   "source": [
    "bad_df.sub_cat.value_counts()"
   ]
  },
  {
   "cell_type": "markdown",
   "metadata": {
    "heading_collapsed": true
   },
   "source": [
    "### All factors"
   ]
  },
  {
   "cell_type": "code",
   "execution_count": 42,
   "metadata": {
    "ExecuteTime": {
     "end_time": "2017-09-15T15:34:58.780608Z",
     "start_time": "2017-09-15T15:34:58.777272Z"
    },
    "collapsed": true,
    "hidden": true
   },
   "outputs": [],
   "source": [
    "grouped = bad_df.groupby(['year', 'brand_name', 'sub_cat'])"
   ]
  },
  {
   "cell_type": "code",
   "execution_count": 46,
   "metadata": {
    "ExecuteTime": {
     "end_time": "2017-09-15T15:37:33.877696Z",
     "start_time": "2017-09-15T15:37:33.871382Z"
    },
    "collapsed": true,
    "hidden": true
   },
   "outputs": [],
   "source": [
    "gr_sizes = grouped.size().reset_index().rename(columns={0: 'size'})"
   ]
  },
  {
   "cell_type": "code",
   "execution_count": 48,
   "metadata": {
    "ExecuteTime": {
     "end_time": "2017-09-15T15:37:41.124380Z",
     "start_time": "2017-09-15T15:37:41.114848Z"
    },
    "hidden": true
   },
   "outputs": [
    {
     "data": {
      "text/html": [
       "<div>\n",
       "<style>\n",
       "    .dataframe thead tr:only-child th {\n",
       "        text-align: right;\n",
       "    }\n",
       "\n",
       "    .dataframe thead th {\n",
       "        text-align: left;\n",
       "    }\n",
       "\n",
       "    .dataframe tbody tr th {\n",
       "        vertical-align: top;\n",
       "    }\n",
       "</style>\n",
       "<table border=\"1\" class=\"dataframe\">\n",
       "  <thead>\n",
       "    <tr style=\"text-align: right;\">\n",
       "      <th></th>\n",
       "      <th>year</th>\n",
       "      <th>brand_name</th>\n",
       "      <th>sub_cat</th>\n",
       "      <th>size</th>\n",
       "    </tr>\n",
       "  </thead>\n",
       "  <tbody>\n",
       "    <tr>\n",
       "      <th>586</th>\n",
       "      <td>2016</td>\n",
       "      <td>PaPerPlanes</td>\n",
       "      <td>sneakers</td>\n",
       "      <td>2401</td>\n",
       "    </tr>\n",
       "    <tr>\n",
       "      <th>510</th>\n",
       "      <td>2016</td>\n",
       "      <td>Maxstar</td>\n",
       "      <td>sneakers</td>\n",
       "      <td>2130</td>\n",
       "    </tr>\n",
       "    <tr>\n",
       "      <th>658</th>\n",
       "      <td>2016</td>\n",
       "      <td>Splice Cufflinks</td>\n",
       "      <td>other accessories</td>\n",
       "      <td>795</td>\n",
       "    </tr>\n",
       "    <tr>\n",
       "      <th>607</th>\n",
       "      <td>2016</td>\n",
       "      <td>SHANTAL JEWELRY</td>\n",
       "      <td>jewellery</td>\n",
       "      <td>770</td>\n",
       "    </tr>\n",
       "    <tr>\n",
       "      <th>294</th>\n",
       "      <td>2016</td>\n",
       "      <td>Bove by Spring Maternity</td>\n",
       "      <td>dresses</td>\n",
       "      <td>694</td>\n",
       "    </tr>\n",
       "  </tbody>\n",
       "</table>\n",
       "</div>"
      ],
      "text/plain": [
       "     year                brand_name            sub_cat  size\n",
       "586  2016               PaPerPlanes           sneakers  2401\n",
       "510  2016                   Maxstar           sneakers  2130\n",
       "658  2016          Splice Cufflinks  other accessories   795\n",
       "607  2016           SHANTAL JEWELRY          jewellery   770\n",
       "294  2016  Bove by Spring Maternity            dresses   694"
      ]
     },
     "execution_count": 48,
     "metadata": {},
     "output_type": "execute_result"
    }
   ],
   "source": [
    "gr_sizes.sort_values('size', ascending=False).head()"
   ]
  },
  {
   "cell_type": "markdown",
   "metadata": {},
   "source": [
    "### SKU simples with NA season"
   ]
  },
  {
   "cell_type": "code",
   "execution_count": 56,
   "metadata": {
    "ExecuteTime": {
     "end_time": "2017-09-15T15:49:42.119703Z",
     "start_time": "2017-09-15T15:49:42.106306Z"
    },
    "collapsed": true
   },
   "outputs": [
    {
     "data": {
      "text/html": [
       "<div>\n",
       "<style>\n",
       "    .dataframe thead tr:only-child th {\n",
       "        text-align: right;\n",
       "    }\n",
       "\n",
       "    .dataframe thead th {\n",
       "        text-align: left;\n",
       "    }\n",
       "\n",
       "    .dataframe tbody tr th {\n",
       "        vertical-align: top;\n",
       "    }\n",
       "</style>\n",
       "<table border=\"1\" class=\"dataframe\">\n",
       "  <thead>\n",
       "    <tr style=\"text-align: right;\">\n",
       "      <th></th>\n",
       "      <th>fk_simple_product</th>\n",
       "      <th>sku_simple</th>\n",
       "      <th>product_name</th>\n",
       "      <th>activated_at_date</th>\n",
       "      <th>year</th>\n",
       "      <th>season</th>\n",
       "    </tr>\n",
       "  </thead>\n",
       "  <tbody>\n",
       "    <tr>\n",
       "      <th>68837</th>\n",
       "      <td>1568915</td>\n",
       "      <td>MA164SH92FMHSG-1568915</td>\n",
       "      <td>Maxstar Women's 20H Studed Hidden Heel PU Ankl...</td>\n",
       "      <td>2017-01-06 19:34:22.000000000</td>\n",
       "      <td>2017</td>\n",
       "      <td>na</td>\n",
       "    </tr>\n",
       "    <tr>\n",
       "      <th>120499</th>\n",
       "      <td>1680409</td>\n",
       "      <td>LI283SH16GKHSG-1680409</td>\n",
       "      <td>Lightweight Elastic Knit Casual Shoes-09246-Blue</td>\n",
       "      <td>2017-03-20 16:33:10.000000000</td>\n",
       "      <td>2017</td>\n",
       "      <td>na</td>\n",
       "    </tr>\n",
       "    <tr>\n",
       "      <th>120501</th>\n",
       "      <td>1680432</td>\n",
       "      <td>LI283SH12GKLSG-1680432</td>\n",
       "      <td>Burnished Top Grain Loafer Shoes-09143-Brown</td>\n",
       "      <td>2017-03-20 16:32:12.000000000</td>\n",
       "      <td>2017</td>\n",
       "      <td>na</td>\n",
       "    </tr>\n",
       "    <tr>\n",
       "      <th>120502</th>\n",
       "      <td>1680433</td>\n",
       "      <td>LI283SH12GKLSG-1680433</td>\n",
       "      <td>Burnished Top Grain Loafer Shoes-09143-Brown</td>\n",
       "      <td>2017-03-20 16:32:12.000000000</td>\n",
       "      <td>2017</td>\n",
       "      <td>na</td>\n",
       "    </tr>\n",
       "    <tr>\n",
       "      <th>120503</th>\n",
       "      <td>1680447</td>\n",
       "      <td>LI283SH10GKNSG-1680447</td>\n",
       "      <td>Flex Pro Stripe Knit Spring Sport Shoes-09357-...</td>\n",
       "      <td>2017-03-20 16:32:19.000000000</td>\n",
       "      <td>2017</td>\n",
       "      <td>na</td>\n",
       "    </tr>\n",
       "  </tbody>\n",
       "</table>\n",
       "</div>"
      ],
      "text/plain": [
       "        fk_simple_product              sku_simple  \\\n",
       "68837             1568915  MA164SH92FMHSG-1568915   \n",
       "120499            1680409  LI283SH16GKHSG-1680409   \n",
       "120501            1680432  LI283SH12GKLSG-1680432   \n",
       "120502            1680433  LI283SH12GKLSG-1680433   \n",
       "120503            1680447  LI283SH10GKNSG-1680447   \n",
       "\n",
       "                                             product_name  \\\n",
       "68837   Maxstar Women's 20H Studed Hidden Heel PU Ankl...   \n",
       "120499   Lightweight Elastic Knit Casual Shoes-09246-Blue   \n",
       "120501       Burnished Top Grain Loafer Shoes-09143-Brown   \n",
       "120502       Burnished Top Grain Loafer Shoes-09143-Brown   \n",
       "120503  Flex Pro Stripe Knit Spring Sport Shoes-09357-...   \n",
       "\n",
       "                    activated_at_date  year season  \n",
       "68837   2017-01-06 19:34:22.000000000  2017     na  \n",
       "120499  2017-03-20 16:33:10.000000000  2017     na  \n",
       "120501  2017-03-20 16:32:12.000000000  2017     na  \n",
       "120502  2017-03-20 16:32:12.000000000  2017     na  \n",
       "120503  2017-03-20 16:32:19.000000000  2017     na  "
      ]
     },
     "execution_count": 56,
     "metadata": {},
     "output_type": "execute_result"
    }
   ],
   "source": [
    "cols = ['fk_simple_product', 'sku_simple', 'product_name', 'activated_at_date', 'year', 'season']\n",
    "bad_df[cols].head()"
   ]
  },
  {
   "cell_type": "code",
   "execution_count": 55,
   "metadata": {
    "ExecuteTime": {
     "end_time": "2017-09-15T15:47:31.474170Z",
     "start_time": "2017-09-15T15:47:31.469884Z"
    }
   },
   "outputs": [
    {
     "data": {
      "text/plain": [
       "[1568915, 1680409, 1680432, 1680433, 1680447]"
      ]
     },
     "execution_count": 55,
     "metadata": {},
     "output_type": "execute_result"
    }
   ],
   "source": [
    "list(bad_df['fk_simple_product'].head())"
   ]
  },
  {
   "cell_type": "code",
   "execution_count": 57,
   "metadata": {
    "ExecuteTime": {
     "end_time": "2017-09-15T15:50:08.123856Z",
     "start_time": "2017-09-15T15:50:08.119421Z"
    }
   },
   "outputs": [
    {
     "data": {
      "text/plain": [
       "['MA164SH92FMHSG-1568915',\n",
       " 'LI283SH16GKHSG-1680409',\n",
       " 'LI283SH12GKLSG-1680432',\n",
       " 'LI283SH12GKLSG-1680433',\n",
       " 'LI283SH10GKNSG-1680447']"
      ]
     },
     "execution_count": 57,
     "metadata": {},
     "output_type": "execute_result"
    }
   ],
   "source": [
    "list(bad_df['sku_simple'].head())"
   ]
  },
  {
   "cell_type": "markdown",
   "metadata": {},
   "source": [
    "# Columns with mixed types in data"
   ]
  },
  {
   "cell_type": "markdown",
   "metadata": {},
   "source": [
    "## Sales"
   ]
  },
  {
   "cell_type": "code",
   "execution_count": 62,
   "metadata": {
    "ExecuteTime": {
     "end_time": "2017-09-15T16:52:53.182930Z",
     "start_time": "2017-09-15T16:52:53.178217Z"
    },
    "collapsed": true
   },
   "outputs": [],
   "source": [
    "sale_df = pd.read_csv(CLEAN_DIR + 'all_sales.csv', parse_dates=date_cols)"
   ]
  },
  {
   "cell_type": "code",
   "execution_count": 64,
   "metadata": {
    "ExecuteTime": {
     "end_time": "2017-09-15T16:56:52.296397Z",
     "start_time": "2017-09-15T16:54:51.514833Z"
    }
   },
   "outputs": [
    {
     "name": "stderr",
     "output_type": "stream",
     "text": [
      "/Users/gfg/anaconda/lib/python3.6/site-packages/IPython/core/interactiveshell.py:2717: DtypeWarning: Columns (63) have mixed types. Specify dtype option on import or set low_memory=False.\n",
      "  interactivity=interactivity, compiler=compiler, result=result)\n"
     ]
    },
    {
     "name": "stdout",
     "output_type": "stream",
     "text": [
      "<class 'pandas.core.frame.DataFrame'>\n",
      "RangeIndex: 2806190 entries, 0 to 2806189\n",
      "Columns: 123 entries, venture_code to is_sold\n",
      "dtypes: datetime64[ns](32), float64(37), int64(33), object(21)\n",
      "memory usage: 2.6+ GB\n"
     ]
    }
   ],
   "source": [
    "sale_df.info()"
   ]
  },
  {
   "cell_type": "code",
   "execution_count": 63,
   "metadata": {
    "ExecuteTime": {
     "end_time": "2017-09-15T16:52:54.744943Z",
     "start_time": "2017-09-15T16:52:54.741323Z"
    },
    "collapsed": true
   },
   "outputs": [
    {
     "data": {
      "text/plain": [
       "['item_updated_at',\n",
       " 'sales_order_item_created_at',\n",
       " 'returned_date',\n",
       " 'shipped_date',\n",
       " 'finance_verified_date',\n",
       " 'picked_date',\n",
       " 'packed_date',\n",
       " 'delivered_date',\n",
       " 'closed_date',\n",
       " 'refund_pending_date',\n",
       " 'refund_rejected_date',\n",
       " 'refund_complete_date',\n",
       " 'adjusted_finance_verified_date',\n",
       " 'awaiting_fulfillment_date',\n",
       " 'being_returned_date',\n",
       " 'crossdocking_po_ordered_date',\n",
       " 'order_created_at',\n",
       " 'picklisted_date',\n",
       " 'ready_to_ship_by_marketplace_date',\n",
       " 'rejected_date',\n",
       " 'returned_qcfailed_date',\n",
       " 'sourcing_date',\n",
       " 'item_received_date',\n",
       " 'handled_by_marketplace_date',\n",
       " 'real_delivery_date',\n",
       " 'comment_date',\n",
       " 'dwh_created_at',\n",
       " 'dwh_updated_at',\n",
       " 'noreturn_qcfailed_date',\n",
       " 'first_shipped_date',\n",
       " 'canceled_date',\n",
       " 'ordered_date']"
      ]
     },
     "execution_count": 63,
     "metadata": {},
     "output_type": "execute_result"
    }
   ],
   "source": [
    "date_cols"
   ]
  },
  {
   "cell_type": "code",
   "execution_count": null,
   "metadata": {
    "collapsed": true
   },
   "outputs": [],
   "source": []
  }
 ],
 "metadata": {
  "kernelspec": {
   "display_name": "Python 3",
   "language": "python",
   "name": "python3"
  },
  "language_info": {
   "codemirror_mode": {
    "name": "ipython",
    "version": 3
   },
   "file_extension": ".py",
   "mimetype": "text/x-python",
   "name": "python",
   "nbconvert_exporter": "python",
   "pygments_lexer": "ipython3",
   "version": "3.6.0"
  },
  "toc": {
   "colors": {
    "hover_highlight": "#DAA520",
    "navigate_num": "#000000",
    "navigate_text": "#333333",
    "running_highlight": "#FF0000",
    "selected_highlight": "#FFD700",
    "sidebar_border": "#EEEEEE",
    "wrapper_background": "#FFFFFF"
   },
   "moveMenuLeft": true,
   "nav_menu": {
    "height": "156px",
    "width": "252px"
   },
   "navigate_menu": true,
   "number_sections": true,
   "sideBar": true,
   "threshold": 4,
   "toc_cell": false,
   "toc_section_display": "block",
   "toc_window_display": true,
   "widenNotebook": false
  },
  "varInspector": {
   "cols": {
    "lenName": 16,
    "lenType": 16,
    "lenVar": 40
   },
   "kernels_config": {
    "python": {
     "delete_cmd_postfix": "",
     "delete_cmd_prefix": "del ",
     "library": "var_list.py",
     "varRefreshCmd": "print(var_dic_list())"
    },
    "r": {
     "delete_cmd_postfix": ") ",
     "delete_cmd_prefix": "rm(",
     "library": "var_list.r",
     "varRefreshCmd": "cat(var_dic_list()) "
    }
   },
   "types_to_exclude": [
    "module",
    "function",
    "builtin_function_or_method",
    "instance",
    "_Feature"
   ],
   "window_display": false
  }
 },
 "nbformat": 4,
 "nbformat_minor": 2
}
