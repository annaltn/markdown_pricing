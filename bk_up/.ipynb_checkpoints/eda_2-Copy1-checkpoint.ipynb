{
 "cells": [
  {
   "cell_type": "markdown",
   "metadata": {},
   "source": [
    "## Inits"
   ]
  },
  {
   "cell_type": "code",
   "execution_count": 10,
   "metadata": {
    "ExecuteTime": {
     "end_time": "2018-01-15T12:03:14.633421Z",
     "start_time": "2018-01-15T12:03:14.630112Z"
    },
    "collapsed": true
   },
   "outputs": [],
   "source": [
    "import pandas as pd\n",
    "import numpy as np\n",
    "import matplotlib.pyplot as plt\n",
    "import seaborn as sb"
   ]
  },
  {
   "cell_type": "code",
   "execution_count": 4,
   "metadata": {
    "ExecuteTime": {
     "end_time": "2018-01-15T11:58:56.842092Z",
     "start_time": "2018-01-15T11:58:56.838331Z"
    },
    "code_folding": [],
    "collapsed": true
   },
   "outputs": [],
   "source": [
    "# various dirs\n",
    "DAT_DIR = '/Users/gfg/data/venture=Zalora/sg/'\n",
    "CLEAN_DIR = DAT_DIR + 'clean/'; FIG_DIR = DAT_DIR + 'fig/'\n",
    "GROUP_DIR = CLEAN_DIR + 'groups/'; READY_DIR = GROUP_DIR + 'ready/'\n",
    "# FEAT_DIR = GROUP_DIR + 'feats/'"
   ]
  },
  {
   "cell_type": "markdown",
   "metadata": {},
   "source": [
    "### Helpers"
   ]
  },
  {
   "cell_type": "code",
   "execution_count": 33,
   "metadata": {
    "ExecuteTime": {
     "end_time": "2018-01-15T16:09:52.988451Z",
     "start_time": "2018-01-15T16:09:52.984999Z"
    },
    "code_folding": [],
    "collapsed": true
   },
   "outputs": [],
   "source": [
    "def load_data(gr):\n",
    "    fname = READY_DIR + gr + '.csv'\n",
    "    return pd.read_csv(fname)"
   ]
  },
  {
   "cell_type": "code",
   "execution_count": 40,
   "metadata": {
    "ExecuteTime": {
     "end_time": "2018-01-15T17:34:41.243857Z",
     "start_time": "2018-01-15T17:34:41.240428Z"
    },
    "code_folding": [
     0
    ],
    "collapsed": true
   },
   "outputs": [],
   "source": [
    "def drop_outliers(df, feat='current_price', q=0.9):\n",
    "    max_thres = df[feat].quantile(q)\n",
    "    return df[df[feat] < max_thres]"
   ]
  },
  {
   "cell_type": "code",
   "execution_count": 26,
   "metadata": {
    "ExecuteTime": {
     "end_time": "2018-01-15T15:48:03.611156Z",
     "start_time": "2018-01-15T15:48:03.607347Z"
    },
    "code_folding": [
     0
    ],
    "collapsed": true
   },
   "outputs": [],
   "source": [
    "def plot_hist(feats, df, figsize = (20, 10)):\n",
    "    fig = plt.figure(figsize = figsize)\n",
    "    df[feats].hist()\n",
    "    plt.show(); plt.close()"
   ]
  },
  {
   "cell_type": "code",
   "execution_count": 59,
   "metadata": {
    "ExecuteTime": {
     "end_time": "2018-01-15T18:17:38.251852Z",
     "start_time": "2018-01-15T18:17:38.248754Z"
    },
    "collapsed": true
   },
   "outputs": [],
   "source": [
    "def get_outliers(df, price_thres=10000):\n",
    "    return df[df.current_price > price_thres][cols]"
   ]
  },
  {
   "cell_type": "markdown",
   "metadata": {
    "heading_collapsed": true
   },
   "source": [
    "### Load ready data"
   ]
  },
  {
   "cell_type": "code",
   "execution_count": 72,
   "metadata": {
    "ExecuteTime": {
     "end_time": "2018-01-16T10:04:13.514010Z",
     "start_time": "2018-01-16T10:04:13.427290Z"
    },
    "hidden": true
   },
   "outputs": [],
   "source": [
    "df = load_data(gr = 'backpack_female_autumn-winter')\n",
    "\n",
    "df.rename(columns={'discount_from_rrp': 'percent_discount_from_rrp', \n",
    "                   'rel_price': 'rel_price_as_ratio'}, \n",
    "          inplace=True)"
   ]
  },
  {
   "cell_type": "code",
   "execution_count": 73,
   "metadata": {
    "ExecuteTime": {
     "end_time": "2018-01-16T10:04:18.739180Z",
     "start_time": "2018-01-16T10:04:18.731353Z"
    },
    "collapsed": true,
    "hidden": true
   },
   "outputs": [
    {
     "data": {
      "text/plain": [
       "dresses                   16606\n",
       "heels                        69\n",
       "t-shirts                     20\n",
       "ballerina & flats            16\n",
       "watches                      16\n",
       "tops                         11\n",
       "long pants                   10\n",
       "shirts                       10\n",
       "skirts                        9\n",
       "playsuits & jumpsuits         6\n",
       "swimwear tops                 6\n",
       "slip ons & espadrilles        6\n",
       "jeans                         6\n",
       "sneakers                      6\n",
       "blouses & tunics              5\n",
       "sandals & flip flops          4\n",
       "backpacks                     3\n",
       "business & dress shoes        2\n",
       "shorts                        2\n",
       "wedges                        1\n",
       "traditional tops              1\n",
       "jackets & coats               1\n",
       "leggings & tights             1\n",
       "hoodies & sweatshirts         1\n",
       "fashion bags                  1\n",
       "smart casual shoes            1\n",
       "Name: sub_cat, dtype: int64"
      ]
     },
     "execution_count": 73,
     "metadata": {},
     "output_type": "execute_result"
    }
   ],
   "source": [
    "df.sub_cat.value_counts()"
   ]
  },
  {
   "cell_type": "code",
   "execution_count": 74,
   "metadata": {
    "ExecuteTime": {
     "end_time": "2018-01-16T10:05:16.633864Z",
     "start_time": "2018-01-16T10:05:16.625821Z"
    },
    "collapsed": true,
    "hidden": true
   },
   "outputs": [],
   "source": [
    "df = df[df.sub_cat == 'dresses']"
   ]
  },
  {
   "cell_type": "code",
   "execution_count": 75,
   "metadata": {
    "ExecuteTime": {
     "end_time": "2018-01-16T10:05:18.898740Z",
     "start_time": "2018-01-16T10:05:18.890932Z"
    },
    "collapsed": true,
    "hidden": true
   },
   "outputs": [
    {
     "data": {
      "text/plain": [
       "count    16606.000000\n",
       "mean        31.062446\n",
       "std         41.344757\n",
       "min          9.000000\n",
       "25%         19.900000\n",
       "50%         24.900000\n",
       "75%         34.900000\n",
       "max       2520.000000\n",
       "Name: current_price, dtype: float64"
      ]
     },
     "execution_count": 75,
     "metadata": {},
     "output_type": "execute_result"
    }
   ],
   "source": [
    "df.current_price.describe()"
   ]
  },
  {
   "cell_type": "code",
   "execution_count": 76,
   "metadata": {
    "ExecuteTime": {
     "end_time": "2018-01-16T10:05:33.437053Z",
     "start_time": "2018-01-16T10:05:33.433891Z"
    },
    "collapsed": true,
    "hidden": true
   },
   "outputs": [],
   "source": [
    "cols = ['sku_config', 'product_name', 'ordered_date', 'current_price', 'sub_cat']"
   ]
  },
  {
   "cell_type": "code",
   "execution_count": 77,
   "metadata": {
    "ExecuteTime": {
     "end_time": "2018-01-16T10:05:35.447421Z",
     "start_time": "2018-01-16T10:05:35.435583Z"
    },
    "hidden": true
   },
   "outputs": [
    {
     "data": {
      "text/html": [
       "<div>\n",
       "<style>\n",
       "    .dataframe thead tr:only-child th {\n",
       "        text-align: right;\n",
       "    }\n",
       "\n",
       "    .dataframe thead th {\n",
       "        text-align: left;\n",
       "    }\n",
       "\n",
       "    .dataframe tbody tr th {\n",
       "        vertical-align: top;\n",
       "    }\n",
       "</style>\n",
       "<table border=\"1\" class=\"dataframe\">\n",
       "  <thead>\n",
       "    <tr style=\"text-align: right;\">\n",
       "      <th></th>\n",
       "      <th>sku_config</th>\n",
       "      <th>product_name</th>\n",
       "      <th>ordered_date</th>\n",
       "      <th>current_price</th>\n",
       "      <th>sub_cat</th>\n",
       "    </tr>\n",
       "  </thead>\n",
       "  <tbody>\n",
       "    <tr>\n",
       "      <th>16644</th>\n",
       "      <td>RI009AA54NVPMY</td>\n",
       "      <td>Light Grey Floral Embroidered Dress</td>\n",
       "      <td>2017-06-22</td>\n",
       "      <td>2520.0</td>\n",
       "      <td>dresses</td>\n",
       "    </tr>\n",
       "    <tr>\n",
       "      <th>16645</th>\n",
       "      <td>RI009AA54NVPMY</td>\n",
       "      <td>Light Grey Floral Embroidered Dress</td>\n",
       "      <td>2017-06-24</td>\n",
       "      <td>2520.0</td>\n",
       "      <td>dresses</td>\n",
       "    </tr>\n",
       "  </tbody>\n",
       "</table>\n",
       "</div>"
      ],
      "text/plain": [
       "           sku_config                         product_name ordered_date  \\\n",
       "16644  RI009AA54NVPMY  Light Grey Floral Embroidered Dress   2017-06-22   \n",
       "16645  RI009AA54NVPMY  Light Grey Floral Embroidered Dress   2017-06-24   \n",
       "\n",
       "       current_price  sub_cat  \n",
       "16644         2520.0  dresses  \n",
       "16645         2520.0  dresses  "
      ]
     },
     "execution_count": 77,
     "metadata": {},
     "output_type": "execute_result"
    }
   ],
   "source": [
    "df[df.current_price == max(df.current_price)][cols]"
   ]
  },
  {
   "cell_type": "code",
   "execution_count": 81,
   "metadata": {
    "ExecuteTime": {
     "end_time": "2018-01-16T10:13:27.464327Z",
     "start_time": "2018-01-16T10:13:27.408164Z"
    },
    "hidden": true
   },
   "outputs": [
    {
     "data": {
      "text/plain": [
       "2017    16606\n",
       "Name: year, dtype: int64"
      ]
     },
     "execution_count": 81,
     "metadata": {},
     "output_type": "execute_result"
    }
   ],
   "source": [
    "df['year'] = pd.to_datetime(df.ordered_date).apply(lambda t: t.year)\n",
    "df.year.value_counts()"
   ]
  },
  {
   "cell_type": "code",
   "execution_count": 84,
   "metadata": {
    "ExecuteTime": {
     "end_time": "2018-01-16T10:16:40.833153Z",
     "start_time": "2018-01-16T10:16:40.474362Z"
    },
    "code_folding": [
     0
    ],
    "collapsed": true,
    "hidden": true
   },
   "outputs": [],
   "source": [
    "# save correct data\n",
    "yr = 2017\n",
    "fname = 'dresses_female_autumn-winter_{}'.format(yr) + '.csv'\n",
    "df.to_csv(READY_DIR + fname, index=False)"
   ]
  },
  {
   "cell_type": "markdown",
   "metadata": {
    "heading_collapsed": true
   },
   "source": [
    "### Load data used in DataRobot POC"
   ]
  },
  {
   "cell_type": "code",
   "execution_count": 40,
   "metadata": {
    "ExecuteTime": {
     "end_time": "2017-11-23T15:32:48.443172Z",
     "start_time": "2017-11-23T15:32:48.070552Z"
    },
    "code_folding": [],
    "collapsed": true,
    "hidden": true,
    "scrolled": true
   },
   "outputs": [],
   "source": [
    "fname = GROUP_DIR + gr + 'poc.csv'\n",
    "dr_data = pd.read_csv(fname, parse_dates=['special_price_to_date', 'special_price_from_date', 'date'])"
   ]
  },
  {
   "cell_type": "code",
   "execution_count": 9,
   "metadata": {
    "ExecuteTime": {
     "end_time": "2017-11-23T11:37:51.479159Z",
     "start_time": "2017-11-23T11:37:51.474697Z"
    },
    "collapsed": true,
    "hidden": true
   },
   "outputs": [
    {
     "data": {
      "text/plain": [
       "Index(['sku_config', 'current_price', 'discount_from_rrp', 'n_competitor',\n",
       "       'rel_price', 'date', 'venture_code', 'supplier_status', 'id_supplier',\n",
       "       'stock', 'special_price_to_date', 'special_price_from_date',\n",
       "       'size_system_name', 'sku_supplier_config', 'sku_simple', 'size_name',\n",
       "       'size_brand', 'simple_updated_at', 'simple_status', 'fk_simple_product',\n",
       "       'simple_created_at', 'show_virtusize', 'show_chart', 'shop_type',\n",
       "       'shipment_type', 'season', 'pet_status', 'pet_approved', 'nonsale_item',\n",
       "       'is_visible', 'image_url', 'gender', 'config_updated_at',\n",
       "       'config_status', 'id_config_product', 'config_group',\n",
       "       'config_created_at', 'color_family', 'color', 'category', 'catalogue',\n",
       "       'catalog_type', 'buying_price_group', 'brand_type', 'brand_status',\n",
       "       'brand_department', 'activated_at_date', 'season_year',\n",
       "       'dwh_created_at', 'dwh_updated_at', 'corrected_sku_simple',\n",
       "       'corrected_sku_config', 'is_returnable', 'product_life_cycle',\n",
       "       'supplier_currency', 'brand_tier', 'is_pack', 'cmpgn_five',\n",
       "       'brand_identifier', 'sub_cat', 'n_sold'],\n",
       "      dtype='object')"
      ]
     },
     "execution_count": 9,
     "metadata": {},
     "output_type": "execute_result"
    }
   ],
   "source": [
    "dr_data.columns"
   ]
  },
  {
   "cell_type": "markdown",
   "metadata": {},
   "source": [
    "# Sanity checking of features"
   ]
  },
  {
   "cell_type": "code",
   "execution_count": 21,
   "metadata": {
    "ExecuteTime": {
     "end_time": "2018-01-15T15:41:34.743789Z",
     "start_time": "2018-01-15T15:41:34.739992Z"
    },
    "code_folding": [
     0
    ],
    "collapsed": true
   },
   "outputs": [],
   "source": [
    "# all feats\n",
    "static_feats = ['color_pop'] # size_pop\n",
    "canib_feats = ['current_price', 'percent_discount_from_rrp', 'n_competitor', 'rel_price_as_ratio']\n",
    "ga_feats = ['mean_views', 'mean_impressions', 'total_views', 'total_impressions']\n",
    "time_feats = ['is_weekend', 'is_workday']"
   ]
  },
  {
   "cell_type": "markdown",
   "metadata": {},
   "source": [
    "## Cannibalization features"
   ]
  },
  {
   "cell_type": "code",
   "execution_count": 24,
   "metadata": {
    "ExecuteTime": {
     "end_time": "2018-01-15T15:41:58.140520Z",
     "start_time": "2018-01-15T15:41:57.644109Z"
    },
    "scrolled": false
   },
   "outputs": [
    {
     "data": {
      "text/plain": [
       "<matplotlib.figure.Figure at 0x11b384e80>"
      ]
     },
     "metadata": {},
     "output_type": "display_data"
    },
    {
     "data": {
      "image/png": "[encoded data removed]",
      "text/plain": [
       "<matplotlib.figure.Figure at 0x11a7697f0>"
      ]
     },
     "metadata": {},
     "output_type": "display_data"
    }
   ],
   "source": [
    "plot_hist(canib_feats, df)"
   ]
  },
  {
   "cell_type": "markdown",
   "metadata": {},
   "source": [
    "__Obs__:\n",
    "+ `current_price` has weird values (too large) due to data error\n",
    "+ `rel_price` is clumped to values less than 5, but it also has outliers up to 15, these are obviously due to wrong `current_price`\n",
    "+ `n_competitor` values are divided into 2 groups: first group centered around 1000, 2nd group centered around 2000\n",
    "+ `discount_from_rrp`: look normal"
   ]
  },
  {
   "cell_type": "code",
   "execution_count": 61,
   "metadata": {
    "ExecuteTime": {
     "end_time": "2018-01-15T18:18:26.729159Z",
     "start_time": "2018-01-15T18:18:26.722671Z"
    },
    "collapsed": true
   },
   "outputs": [],
   "source": [
    "get_outliers(df, price_thres=10000).to_csv(CLEAN_DIR + 'wrong_price.csv')"
   ]
  },
  {
   "cell_type": "markdown",
   "metadata": {},
   "source": [
    "__TO DO:__\n",
    "+ clip/drop the wrong prices\n",
    "+ re-plot"
   ]
  },
  {
   "cell_type": "code",
   "execution_count": 44,
   "metadata": {
    "ExecuteTime": {
     "end_time": "2018-01-15T17:46:44.888063Z",
     "start_time": "2018-01-15T17:46:44.881183Z"
    },
    "collapsed": true
   },
   "outputs": [],
   "source": [
    "correct_df = drop_outliers(df, 'current_price')"
   ]
  },
  {
   "cell_type": "code",
   "execution_count": 45,
   "metadata": {
    "ExecuteTime": {
     "end_time": "2018-01-15T17:46:45.737120Z",
     "start_time": "2018-01-15T17:46:45.733857Z"
    }
   },
   "outputs": [
    {
     "name": "stdout",
     "output_type": "stream",
     "text": [
      "16820\n",
      "14950\n"
     ]
    }
   ],
   "source": [
    "print(df.shape[0])\n",
    "print(correct_df.shape[0])"
   ]
  },
  {
   "cell_type": "code",
   "execution_count": 46,
   "metadata": {
    "ExecuteTime": {
     "end_time": "2018-01-15T17:47:10.783758Z",
     "start_time": "2018-01-15T17:47:10.239074Z"
    }
   },
   "outputs": [
    {
     "data": {
      "text/plain": [
       "<matplotlib.figure.Figure at 0x11b23eda0>"
      ]
     },
     "metadata": {},
     "output_type": "display_data"
    },
    {
     "data": {
      "image/png": "[encoded data removed]",
      "text/plain": [
       "<matplotlib.figure.Figure at 0x11b37ddd8>"
      ]
     },
     "metadata": {},
     "output_type": "display_data"
    }
   ],
   "source": [
    "plot_hist(canib_feats, correct_df)"
   ]
  },
  {
   "cell_type": "markdown",
   "metadata": {},
   "source": [
    "Now features look more reasonable."
   ]
  },
  {
   "cell_type": "markdown",
   "metadata": {},
   "source": [
    "__Conclusion__: need to drop wrong prices in data using a certain threshold for price. The threshold can be determined via some quantile, say $90\\%$, of price."
   ]
  },
  {
   "cell_type": "markdown",
   "metadata": {},
   "source": [
    "## Other groups\n",
    "Other groups also have wrong prices as shown below."
   ]
  },
  {
   "cell_type": "code",
   "execution_count": 34,
   "metadata": {
    "ExecuteTime": {
     "end_time": "2018-01-15T16:11:04.050563Z",
     "start_time": "2018-01-15T16:11:03.996913Z"
    }
   },
   "outputs": [
    {
     "data": {
      "text/html": [
       "<div>\n",
       "<style>\n",
       "    .dataframe thead tr:only-child th {\n",
       "        text-align: right;\n",
       "    }\n",
       "\n",
       "    .dataframe thead th {\n",
       "        text-align: left;\n",
       "    }\n",
       "\n",
       "    .dataframe tbody tr th {\n",
       "        vertical-align: top;\n",
       "    }\n",
       "</style>\n",
       "<table border=\"1\" class=\"dataframe\">\n",
       "  <thead>\n",
       "    <tr style=\"text-align: right;\">\n",
       "      <th></th>\n",
       "      <th>current_price</th>\n",
       "      <th>discount_from_rrp</th>\n",
       "      <th>n_competitor</th>\n",
       "      <th>rel_price</th>\n",
       "      <th>color_pop</th>\n",
       "      <th>total_views</th>\n",
       "      <th>total_impressions</th>\n",
       "      <th>mean_views</th>\n",
       "      <th>mean_impressions</th>\n",
       "      <th>brand_pop</th>\n",
       "      <th>n_sold</th>\n",
       "      <th>weekday</th>\n",
       "      <th>is_weekend</th>\n",
       "      <th>is_workday</th>\n",
       "    </tr>\n",
       "  </thead>\n",
       "  <tbody>\n",
       "    <tr>\n",
       "      <th>count</th>\n",
       "      <td>3283.000000</td>\n",
       "      <td>3283.000000</td>\n",
       "      <td>3283.000000</td>\n",
       "      <td>3283.000000</td>\n",
       "      <td>3283.000000</td>\n",
       "      <td>3283.000000</td>\n",
       "      <td>3.283000e+03</td>\n",
       "      <td>3283.000000</td>\n",
       "      <td>3283.000000</td>\n",
       "      <td>3283.000000</td>\n",
       "      <td>3283.000000</td>\n",
       "      <td>3283.000000</td>\n",
       "      <td>3283.000000</td>\n",
       "      <td>3283.000000</td>\n",
       "    </tr>\n",
       "    <tr>\n",
       "      <th>mean</th>\n",
       "      <td>4110.705571</td>\n",
       "      <td>16.521792</td>\n",
       "      <td>717.150168</td>\n",
       "      <td>0.594834</td>\n",
       "      <td>5.966971</td>\n",
       "      <td>47237.345416</td>\n",
       "      <td>9.891326e+05</td>\n",
       "      <td>18.990205</td>\n",
       "      <td>427.627317</td>\n",
       "      <td>47237.345416</td>\n",
       "      <td>1.396588</td>\n",
       "      <td>2.949132</td>\n",
       "      <td>0.303076</td>\n",
       "      <td>0.696924</td>\n",
       "    </tr>\n",
       "    <tr>\n",
       "      <th>std</th>\n",
       "      <td>37913.734109</td>\n",
       "      <td>19.834790</td>\n",
       "      <td>371.330039</td>\n",
       "      <td>0.565039</td>\n",
       "      <td>7.167597</td>\n",
       "      <td>51088.659736</td>\n",
       "      <td>1.013668e+06</td>\n",
       "      <td>10.665763</td>\n",
       "      <td>212.159362</td>\n",
       "      <td>51088.659736</td>\n",
       "      <td>1.069727</td>\n",
       "      <td>2.102529</td>\n",
       "      <td>0.459658</td>\n",
       "      <td>0.459658</td>\n",
       "    </tr>\n",
       "    <tr>\n",
       "      <th>min</th>\n",
       "      <td>13.900000</td>\n",
       "      <td>0.000000</td>\n",
       "      <td>41.000000</td>\n",
       "      <td>0.000154</td>\n",
       "      <td>0.000000</td>\n",
       "      <td>24.000000</td>\n",
       "      <td>6.670000e+02</td>\n",
       "      <td>0.987013</td>\n",
       "      <td>28.758065</td>\n",
       "      <td>24.000000</td>\n",
       "      <td>0.000000</td>\n",
       "      <td>0.000000</td>\n",
       "      <td>0.000000</td>\n",
       "      <td>0.000000</td>\n",
       "    </tr>\n",
       "    <tr>\n",
       "      <th>25%</th>\n",
       "      <td>26.180000</td>\n",
       "      <td>0.000000</td>\n",
       "      <td>492.000000</td>\n",
       "      <td>0.292495</td>\n",
       "      <td>1.234568</td>\n",
       "      <td>5410.000000</td>\n",
       "      <td>1.616685e+05</td>\n",
       "      <td>9.616722</td>\n",
       "      <td>256.781270</td>\n",
       "      <td>5410.000000</td>\n",
       "      <td>1.000000</td>\n",
       "      <td>1.000000</td>\n",
       "      <td>0.000000</td>\n",
       "      <td>0.000000</td>\n",
       "    </tr>\n",
       "    <tr>\n",
       "      <th>50%</th>\n",
       "      <td>34.900000</td>\n",
       "      <td>0.000000</td>\n",
       "      <td>637.000000</td>\n",
       "      <td>0.561810</td>\n",
       "      <td>5.144033</td>\n",
       "      <td>15068.000000</td>\n",
       "      <td>4.035700e+05</td>\n",
       "      <td>16.829545</td>\n",
       "      <td>410.904969</td>\n",
       "      <td>15068.000000</td>\n",
       "      <td>1.000000</td>\n",
       "      <td>3.000000</td>\n",
       "      <td>0.000000</td>\n",
       "      <td>1.000000</td>\n",
       "    </tr>\n",
       "    <tr>\n",
       "      <th>75%</th>\n",
       "      <td>49.900000</td>\n",
       "      <td>33.444816</td>\n",
       "      <td>1026.000000</td>\n",
       "      <td>0.802642</td>\n",
       "      <td>10.493827</td>\n",
       "      <td>96109.000000</td>\n",
       "      <td>1.919911e+06</td>\n",
       "      <td>28.053598</td>\n",
       "      <td>584.552191</td>\n",
       "      <td>96109.000000</td>\n",
       "      <td>1.000000</td>\n",
       "      <td>5.000000</td>\n",
       "      <td>1.000000</td>\n",
       "      <td>1.000000</td>\n",
       "    </tr>\n",
       "    <tr>\n",
       "      <th>max</th>\n",
       "      <td>489000.000000</td>\n",
       "      <td>76.560660</td>\n",
       "      <td>1442.000000</td>\n",
       "      <td>6.052898</td>\n",
       "      <td>76.764706</td>\n",
       "      <td>157545.000000</td>\n",
       "      <td>3.263009e+06</td>\n",
       "      <td>54.525617</td>\n",
       "      <td>1729.741935</td>\n",
       "      <td>157545.000000</td>\n",
       "      <td>18.000000</td>\n",
       "      <td>6.000000</td>\n",
       "      <td>1.000000</td>\n",
       "      <td>1.000000</td>\n",
       "    </tr>\n",
       "  </tbody>\n",
       "</table>\n",
       "</div>"
      ],
      "text/plain": [
       "       current_price  discount_from_rrp  n_competitor    rel_price  \\\n",
       "count    3283.000000        3283.000000   3283.000000  3283.000000   \n",
       "mean     4110.705571          16.521792    717.150168     0.594834   \n",
       "std     37913.734109          19.834790    371.330039     0.565039   \n",
       "min        13.900000           0.000000     41.000000     0.000154   \n",
       "25%        26.180000           0.000000    492.000000     0.292495   \n",
       "50%        34.900000           0.000000    637.000000     0.561810   \n",
       "75%        49.900000          33.444816   1026.000000     0.802642   \n",
       "max    489000.000000          76.560660   1442.000000     6.052898   \n",
       "\n",
       "         color_pop    total_views  total_impressions   mean_views  \\\n",
       "count  3283.000000    3283.000000       3.283000e+03  3283.000000   \n",
       "mean      5.966971   47237.345416       9.891326e+05    18.990205   \n",
       "std       7.167597   51088.659736       1.013668e+06    10.665763   \n",
       "min       0.000000      24.000000       6.670000e+02     0.987013   \n",
       "25%       1.234568    5410.000000       1.616685e+05     9.616722   \n",
       "50%       5.144033   15068.000000       4.035700e+05    16.829545   \n",
       "75%      10.493827   96109.000000       1.919911e+06    28.053598   \n",
       "max      76.764706  157545.000000       3.263009e+06    54.525617   \n",
       "\n",
       "       mean_impressions      brand_pop       n_sold      weekday   is_weekend  \\\n",
       "count       3283.000000    3283.000000  3283.000000  3283.000000  3283.000000   \n",
       "mean         427.627317   47237.345416     1.396588     2.949132     0.303076   \n",
       "std          212.159362   51088.659736     1.069727     2.102529     0.459658   \n",
       "min           28.758065      24.000000     0.000000     0.000000     0.000000   \n",
       "25%          256.781270    5410.000000     1.000000     1.000000     0.000000   \n",
       "50%          410.904969   15068.000000     1.000000     3.000000     0.000000   \n",
       "75%          584.552191   96109.000000     1.000000     5.000000     1.000000   \n",
       "max         1729.741935  157545.000000    18.000000     6.000000     1.000000   \n",
       "\n",
       "        is_workday  \n",
       "count  3283.000000  \n",
       "mean      0.696924  \n",
       "std       0.459658  \n",
       "min       0.000000  \n",
       "25%       0.000000  \n",
       "50%       1.000000  \n",
       "75%       1.000000  \n",
       "max       1.000000  "
      ]
     },
     "execution_count": 34,
     "metadata": {},
     "output_type": "execute_result"
    }
   ],
   "source": [
    "blouse_df = load_data(gr = 'blouses_&_tunics_female_spring-summer')\n",
    "blouse_df.describe()"
   ]
  },
  {
   "cell_type": "code",
   "execution_count": 62,
   "metadata": {
    "ExecuteTime": {
     "end_time": "2018-01-16T09:43:39.123139Z",
     "start_time": "2018-01-16T09:43:39.086818Z"
    }
   },
   "outputs": [
    {
     "data": {
      "text/plain": [
       "blouses & tunics                   3078\n",
       "dresses                              32\n",
       "heels                                23\n",
       "sling bags                           21\n",
       "sports performance bottoms           20\n",
       "business & dress shoes               11\n",
       "totes                                11\n",
       "sports performance tops              11\n",
       "ballerina & flats                     9\n",
       "slip ons & espadrilles                8\n",
       "shorts                                8\n",
       "sneakers                              7\n",
       "tops                                  6\n",
       "sandals & flip flops                  4\n",
       "swimwear tops                         4\n",
       "watches                               4\n",
       "jackets & coats                       4\n",
       "t-shirts                              4\n",
       "loafers, moccasins & boat shoes       3\n",
       "top-handles                           3\n",
       "wallets & purses                      2\n",
       "hoodies & sweatshirts                 2\n",
       "sports lifestyle shoes                2\n",
       "jeans                                 1\n",
       "skirts                                1\n",
       "eyewear                               1\n",
       "swimwear bottoms                      1\n",
       "backpacks                             1\n",
       "shirts                                1\n",
       "Name: sub_cat, dtype: int64"
      ]
     },
     "execution_count": 62,
     "metadata": {},
     "output_type": "execute_result"
    }
   ],
   "source": [
    "blouse_df.sub_cat.value_counts()"
   ]
  },
  {
   "cell_type": "markdown",
   "metadata": {},
   "source": [
    "__Bug__: Why there are other sub-cats mixed into here? Check the process of extracting data again."
   ]
  },
  {
   "cell_type": "code",
   "execution_count": 63,
   "metadata": {
    "ExecuteTime": {
     "end_time": "2018-01-16T09:46:28.262957Z",
     "start_time": "2018-01-16T09:46:28.245946Z"
    },
    "collapsed": true
   },
   "outputs": [],
   "source": [
    "blouse_df = blouse_df.query('sub_cat == \"blouses & tunics\"')"
   ]
  },
  {
   "cell_type": "code",
   "execution_count": 67,
   "metadata": {
    "ExecuteTime": {
     "end_time": "2018-01-16T09:52:10.196453Z",
     "start_time": "2018-01-16T09:52:10.009775Z"
    }
   },
   "outputs": [
    {
     "data": {
      "text/html": [
       "<div>\n",
       "<style>\n",
       "    .dataframe thead tr:only-child th {\n",
       "        text-align: right;\n",
       "    }\n",
       "\n",
       "    .dataframe thead th {\n",
       "        text-align: left;\n",
       "    }\n",
       "\n",
       "    .dataframe tbody tr th {\n",
       "        vertical-align: top;\n",
       "    }\n",
       "</style>\n",
       "<table border=\"1\" class=\"dataframe\">\n",
       "  <thead>\n",
       "    <tr style=\"text-align: right;\">\n",
       "      <th></th>\n",
       "      <th>current_price</th>\n",
       "      <th>percent_discount_from_rrp</th>\n",
       "      <th>n_competitor</th>\n",
       "      <th>rel_price_as_ratio</th>\n",
       "      <th>color_pop</th>\n",
       "      <th>total_views</th>\n",
       "      <th>total_impressions</th>\n",
       "      <th>mean_views</th>\n",
       "      <th>mean_impressions</th>\n",
       "      <th>brand_pop</th>\n",
       "      <th>n_sold</th>\n",
       "      <th>weekday</th>\n",
       "      <th>is_weekend</th>\n",
       "      <th>is_workday</th>\n",
       "    </tr>\n",
       "  </thead>\n",
       "  <tbody>\n",
       "    <tr>\n",
       "      <th>count</th>\n",
       "      <td>3078.000000</td>\n",
       "      <td>3078.000000</td>\n",
       "      <td>3078.000000</td>\n",
       "      <td>3078.000000</td>\n",
       "      <td>3078.000000</td>\n",
       "      <td>3078.000000</td>\n",
       "      <td>3.078000e+03</td>\n",
       "      <td>3078.000000</td>\n",
       "      <td>3078.000000</td>\n",
       "      <td>3078.000000</td>\n",
       "      <td>3078.000000</td>\n",
       "      <td>3078.000000</td>\n",
       "      <td>3078.000000</td>\n",
       "      <td>3078.000000</td>\n",
       "    </tr>\n",
       "    <tr>\n",
       "      <th>mean</th>\n",
       "      <td>38.592846</td>\n",
       "      <td>14.978718</td>\n",
       "      <td>677.959714</td>\n",
       "      <td>0.583614</td>\n",
       "      <td>5.297451</td>\n",
       "      <td>46922.414230</td>\n",
       "      <td>9.853254e+05</td>\n",
       "      <td>18.795363</td>\n",
       "      <td>424.396154</td>\n",
       "      <td>46922.414230</td>\n",
       "      <td>1.391488</td>\n",
       "      <td>2.942170</td>\n",
       "      <td>0.298246</td>\n",
       "      <td>0.701754</td>\n",
       "    </tr>\n",
       "    <tr>\n",
       "      <th>std</th>\n",
       "      <td>17.142035</td>\n",
       "      <td>18.767695</td>\n",
       "      <td>349.000887</td>\n",
       "      <td>0.406383</td>\n",
       "      <td>4.382238</td>\n",
       "      <td>51206.185401</td>\n",
       "      <td>1.017315e+06</td>\n",
       "      <td>10.695598</td>\n",
       "      <td>211.772951</td>\n",
       "      <td>51206.185401</td>\n",
       "      <td>1.070971</td>\n",
       "      <td>2.094587</td>\n",
       "      <td>0.457562</td>\n",
       "      <td>0.457562</td>\n",
       "    </tr>\n",
       "    <tr>\n",
       "      <th>min</th>\n",
       "      <td>13.900000</td>\n",
       "      <td>0.000000</td>\n",
       "      <td>41.000000</td>\n",
       "      <td>0.000154</td>\n",
       "      <td>0.000000</td>\n",
       "      <td>24.000000</td>\n",
       "      <td>6.670000e+02</td>\n",
       "      <td>0.987013</td>\n",
       "      <td>29.764151</td>\n",
       "      <td>24.000000</td>\n",
       "      <td>0.000000</td>\n",
       "      <td>0.000000</td>\n",
       "      <td>0.000000</td>\n",
       "      <td>0.000000</td>\n",
       "    </tr>\n",
       "    <tr>\n",
       "      <th>25%</th>\n",
       "      <td>25.000000</td>\n",
       "      <td>0.000000</td>\n",
       "      <td>488.000000</td>\n",
       "      <td>0.380325</td>\n",
       "      <td>1.234568</td>\n",
       "      <td>5330.000000</td>\n",
       "      <td>1.621150e+05</td>\n",
       "      <td>9.530678</td>\n",
       "      <td>255.980269</td>\n",
       "      <td>5330.000000</td>\n",
       "      <td>1.000000</td>\n",
       "      <td>1.000000</td>\n",
       "      <td>0.000000</td>\n",
       "      <td>0.000000</td>\n",
       "    </tr>\n",
       "    <tr>\n",
       "      <th>50%</th>\n",
       "      <td>34.900000</td>\n",
       "      <td>0.000000</td>\n",
       "      <td>633.000000</td>\n",
       "      <td>0.589181</td>\n",
       "      <td>5.144033</td>\n",
       "      <td>14855.000000</td>\n",
       "      <td>3.984485e+05</td>\n",
       "      <td>15.807149</td>\n",
       "      <td>403.761050</td>\n",
       "      <td>14855.000000</td>\n",
       "      <td>1.000000</td>\n",
       "      <td>3.000000</td>\n",
       "      <td>0.000000</td>\n",
       "      <td>1.000000</td>\n",
       "    </tr>\n",
       "    <tr>\n",
       "      <th>75%</th>\n",
       "      <td>45.900000</td>\n",
       "      <td>28.653295</td>\n",
       "      <td>701.000000</td>\n",
       "      <td>0.804953</td>\n",
       "      <td>10.493827</td>\n",
       "      <td>96109.000000</td>\n",
       "      <td>1.919911e+06</td>\n",
       "      <td>28.053598</td>\n",
       "      <td>581.598565</td>\n",
       "      <td>96109.000000</td>\n",
       "      <td>1.000000</td>\n",
       "      <td>5.000000</td>\n",
       "      <td>1.000000</td>\n",
       "      <td>1.000000</td>\n",
       "    </tr>\n",
       "    <tr>\n",
       "      <th>max</th>\n",
       "      <td>159.000000</td>\n",
       "      <td>74.681239</td>\n",
       "      <td>1442.000000</td>\n",
       "      <td>3.190019</td>\n",
       "      <td>12.757202</td>\n",
       "      <td>157545.000000</td>\n",
       "      <td>3.263009e+06</td>\n",
       "      <td>54.525617</td>\n",
       "      <td>1729.741935</td>\n",
       "      <td>157545.000000</td>\n",
       "      <td>18.000000</td>\n",
       "      <td>6.000000</td>\n",
       "      <td>1.000000</td>\n",
       "      <td>1.000000</td>\n",
       "    </tr>\n",
       "  </tbody>\n",
       "</table>\n",
       "</div>"
      ],
      "text/plain": [
       "       current_price  percent_discount_from_rrp  n_competitor  \\\n",
       "count    3078.000000                3078.000000   3078.000000   \n",
       "mean       38.592846                  14.978718    677.959714   \n",
       "std        17.142035                  18.767695    349.000887   \n",
       "min        13.900000                   0.000000     41.000000   \n",
       "25%        25.000000                   0.000000    488.000000   \n",
       "50%        34.900000                   0.000000    633.000000   \n",
       "75%        45.900000                  28.653295    701.000000   \n",
       "max       159.000000                  74.681239   1442.000000   \n",
       "\n",
       "       rel_price_as_ratio    color_pop    total_views  total_impressions  \\\n",
       "count         3078.000000  3078.000000    3078.000000       3.078000e+03   \n",
       "mean             0.583614     5.297451   46922.414230       9.853254e+05   \n",
       "std              0.406383     4.382238   51206.185401       1.017315e+06   \n",
       "min              0.000154     0.000000      24.000000       6.670000e+02   \n",
       "25%              0.380325     1.234568    5330.000000       1.621150e+05   \n",
       "50%              0.589181     5.144033   14855.000000       3.984485e+05   \n",
       "75%              0.804953    10.493827   96109.000000       1.919911e+06   \n",
       "max              3.190019    12.757202  157545.000000       3.263009e+06   \n",
       "\n",
       "        mean_views  mean_impressions      brand_pop       n_sold      weekday  \\\n",
       "count  3078.000000       3078.000000    3078.000000  3078.000000  3078.000000   \n",
       "mean     18.795363        424.396154   46922.414230     1.391488     2.942170   \n",
       "std      10.695598        211.772951   51206.185401     1.070971     2.094587   \n",
       "min       0.987013         29.764151      24.000000     0.000000     0.000000   \n",
       "25%       9.530678        255.980269    5330.000000     1.000000     1.000000   \n",
       "50%      15.807149        403.761050   14855.000000     1.000000     3.000000   \n",
       "75%      28.053598        581.598565   96109.000000     1.000000     5.000000   \n",
       "max      54.525617       1729.741935  157545.000000    18.000000     6.000000   \n",
       "\n",
       "        is_weekend   is_workday  \n",
       "count  3078.000000  3078.000000  \n",
       "mean      0.298246     0.701754  \n",
       "std       0.457562     0.457562  \n",
       "min       0.000000     0.000000  \n",
       "25%       0.000000     0.000000  \n",
       "50%       0.000000     1.000000  \n",
       "75%       1.000000     1.000000  \n",
       "max       1.000000     1.000000  "
      ]
     },
     "execution_count": 67,
     "metadata": {},
     "output_type": "execute_result"
    }
   ],
   "source": [
    "blouse_df.rename(columns={'discount_from_rrp': 'percent_discount_from_rrp',\n",
    "                         'rel_price': 'rel_price_as_ratio'},\n",
    "                inplace=True)\n",
    "blouse_df.describe()"
   ]
  },
  {
   "cell_type": "code",
   "execution_count": 70,
   "metadata": {
    "ExecuteTime": {
     "end_time": "2018-01-16T09:52:33.249799Z",
     "start_time": "2018-01-16T09:52:32.749868Z"
    }
   },
   "outputs": [
    {
     "data": {
      "text/plain": [
       "<matplotlib.figure.Figure at 0x11b37b198>"
      ]
     },
     "metadata": {},
     "output_type": "display_data"
    },
    {
     "data": {
      "image/png": "[encoded data removed]",
      "text/plain": [
       "<matplotlib.figure.Figure at 0x11ec32b00>"
      ]
     },
     "metadata": {},
     "output_type": "display_data"
    }
   ],
   "source": [
    "plot_hist(feats=canib_feats, df=blouse_df)"
   ]
  },
  {
   "cell_type": "code",
   "execution_count": null,
   "metadata": {
    "collapsed": true
   },
   "outputs": [],
   "source": []
  },
  {
   "cell_type": "code",
   "execution_count": 42,
   "metadata": {
    "ExecuteTime": {
     "end_time": "2018-01-15T17:36:19.718182Z",
     "start_time": "2018-01-15T17:36:19.654945Z"
    }
   },
   "outputs": [
    {
     "data": {
      "text/html": [
       "<div>\n",
       "<style>\n",
       "    .dataframe thead tr:only-child th {\n",
       "        text-align: right;\n",
       "    }\n",
       "\n",
       "    .dataframe thead th {\n",
       "        text-align: left;\n",
       "    }\n",
       "\n",
       "    .dataframe tbody tr th {\n",
       "        vertical-align: top;\n",
       "    }\n",
       "</style>\n",
       "<table border=\"1\" class=\"dataframe\">\n",
       "  <thead>\n",
       "    <tr style=\"text-align: right;\">\n",
       "      <th></th>\n",
       "      <th>current_price</th>\n",
       "      <th>discount_from_rrp</th>\n",
       "      <th>n_competitor</th>\n",
       "      <th>rel_price</th>\n",
       "      <th>color_pop</th>\n",
       "      <th>total_views</th>\n",
       "      <th>total_impressions</th>\n",
       "      <th>mean_views</th>\n",
       "      <th>mean_impressions</th>\n",
       "      <th>brand_pop</th>\n",
       "      <th>n_sold</th>\n",
       "      <th>weekday</th>\n",
       "      <th>is_weekend</th>\n",
       "      <th>is_workday</th>\n",
       "    </tr>\n",
       "  </thead>\n",
       "  <tbody>\n",
       "    <tr>\n",
       "      <th>count</th>\n",
       "      <td>6086.000000</td>\n",
       "      <td>6086.000000</td>\n",
       "      <td>6086.000000</td>\n",
       "      <td>6086.000000</td>\n",
       "      <td>6086.000000</td>\n",
       "      <td>6086.000000</td>\n",
       "      <td>6.086000e+03</td>\n",
       "      <td>6086.000000</td>\n",
       "      <td>6086.000000</td>\n",
       "      <td>6086.000000</td>\n",
       "      <td>6086.000000</td>\n",
       "      <td>6086.000000</td>\n",
       "      <td>6086.000000</td>\n",
       "      <td>6086.000000</td>\n",
       "    </tr>\n",
       "    <tr>\n",
       "      <th>mean</th>\n",
       "      <td>1505.382351</td>\n",
       "      <td>26.536282</td>\n",
       "      <td>1354.439533</td>\n",
       "      <td>0.418515</td>\n",
       "      <td>20.027812</td>\n",
       "      <td>55867.036149</td>\n",
       "      <td>1.132504e+06</td>\n",
       "      <td>21.619876</td>\n",
       "      <td>452.771127</td>\n",
       "      <td>55867.036149</td>\n",
       "      <td>1.285409</td>\n",
       "      <td>2.810549</td>\n",
       "      <td>0.275879</td>\n",
       "      <td>0.724121</td>\n",
       "    </tr>\n",
       "    <tr>\n",
       "      <th>std</th>\n",
       "      <td>17301.112361</td>\n",
       "      <td>19.617763</td>\n",
       "      <td>737.227216</td>\n",
       "      <td>0.467828</td>\n",
       "      <td>20.728238</td>\n",
       "      <td>50846.967263</td>\n",
       "      <td>1.020303e+06</td>\n",
       "      <td>10.648571</td>\n",
       "      <td>204.852699</td>\n",
       "      <td>50846.967263</td>\n",
       "      <td>0.829533</td>\n",
       "      <td>2.092227</td>\n",
       "      <td>0.446993</td>\n",
       "      <td>0.446993</td>\n",
       "    </tr>\n",
       "    <tr>\n",
       "      <th>min</th>\n",
       "      <td>9.900000</td>\n",
       "      <td>0.000000</td>\n",
       "      <td>72.000000</td>\n",
       "      <td>0.000109</td>\n",
       "      <td>0.000000</td>\n",
       "      <td>19.000000</td>\n",
       "      <td>3.410000e+02</td>\n",
       "      <td>0.521739</td>\n",
       "      <td>20.620087</td>\n",
       "      <td>19.000000</td>\n",
       "      <td>0.000000</td>\n",
       "      <td>0.000000</td>\n",
       "      <td>0.000000</td>\n",
       "      <td>0.000000</td>\n",
       "    </tr>\n",
       "    <tr>\n",
       "      <th>25%</th>\n",
       "      <td>24.900000</td>\n",
       "      <td>10.000000</td>\n",
       "      <td>804.000000</td>\n",
       "      <td>0.001519</td>\n",
       "      <td>2.016129</td>\n",
       "      <td>7569.000000</td>\n",
       "      <td>1.827570e+05</td>\n",
       "      <td>12.017544</td>\n",
       "      <td>303.612105</td>\n",
       "      <td>7569.000000</td>\n",
       "      <td>1.000000</td>\n",
       "      <td>1.000000</td>\n",
       "      <td>0.000000</td>\n",
       "      <td>0.000000</td>\n",
       "    </tr>\n",
       "    <tr>\n",
       "      <th>50%</th>\n",
       "      <td>29.900000</td>\n",
       "      <td>27.322404</td>\n",
       "      <td>1103.000000</td>\n",
       "      <td>0.375844</td>\n",
       "      <td>4.301075</td>\n",
       "      <td>46736.000000</td>\n",
       "      <td>9.152050e+05</td>\n",
       "      <td>23.961550</td>\n",
       "      <td>494.958704</td>\n",
       "      <td>46736.000000</td>\n",
       "      <td>1.000000</td>\n",
       "      <td>3.000000</td>\n",
       "      <td>0.000000</td>\n",
       "      <td>1.000000</td>\n",
       "    </tr>\n",
       "    <tr>\n",
       "      <th>75%</th>\n",
       "      <td>39.900000</td>\n",
       "      <td>42.979943</td>\n",
       "      <td>2358.000000</td>\n",
       "      <td>0.526872</td>\n",
       "      <td>44.758065</td>\n",
       "      <td>104507.000000</td>\n",
       "      <td>2.061909e+06</td>\n",
       "      <td>29.948886</td>\n",
       "      <td>599.051546</td>\n",
       "      <td>104507.000000</td>\n",
       "      <td>1.000000</td>\n",
       "      <td>5.000000</td>\n",
       "      <td>1.000000</td>\n",
       "      <td>1.000000</td>\n",
       "    </tr>\n",
       "    <tr>\n",
       "      <th>max</th>\n",
       "      <td>249000.000000</td>\n",
       "      <td>80.019282</td>\n",
       "      <td>2662.000000</td>\n",
       "      <td>10.839510</td>\n",
       "      <td>44.758065</td>\n",
       "      <td>157545.000000</td>\n",
       "      <td>3.263009e+06</td>\n",
       "      <td>75.358209</td>\n",
       "      <td>1888.817073</td>\n",
       "      <td>157545.000000</td>\n",
       "      <td>9.000000</td>\n",
       "      <td>6.000000</td>\n",
       "      <td>1.000000</td>\n",
       "      <td>1.000000</td>\n",
       "    </tr>\n",
       "  </tbody>\n",
       "</table>\n",
       "</div>"
      ],
      "text/plain": [
       "       current_price  discount_from_rrp  n_competitor    rel_price  \\\n",
       "count    6086.000000        6086.000000   6086.000000  6086.000000   \n",
       "mean     1505.382351          26.536282   1354.439533     0.418515   \n",
       "std     17301.112361          19.617763    737.227216     0.467828   \n",
       "min         9.900000           0.000000     72.000000     0.000109   \n",
       "25%        24.900000          10.000000    804.000000     0.001519   \n",
       "50%        29.900000          27.322404   1103.000000     0.375844   \n",
       "75%        39.900000          42.979943   2358.000000     0.526872   \n",
       "max    249000.000000          80.019282   2662.000000    10.839510   \n",
       "\n",
       "         color_pop    total_views  total_impressions   mean_views  \\\n",
       "count  6086.000000    6086.000000       6.086000e+03  6086.000000   \n",
       "mean     20.027812   55867.036149       1.132504e+06    21.619876   \n",
       "std      20.728238   50846.967263       1.020303e+06    10.648571   \n",
       "min       0.000000      19.000000       3.410000e+02     0.521739   \n",
       "25%       2.016129    7569.000000       1.827570e+05    12.017544   \n",
       "50%       4.301075   46736.000000       9.152050e+05    23.961550   \n",
       "75%      44.758065  104507.000000       2.061909e+06    29.948886   \n",
       "max      44.758065  157545.000000       3.263009e+06    75.358209   \n",
       "\n",
       "       mean_impressions      brand_pop       n_sold      weekday   is_weekend  \\\n",
       "count       6086.000000    6086.000000  6086.000000  6086.000000  6086.000000   \n",
       "mean         452.771127   55867.036149     1.285409     2.810549     0.275879   \n",
       "std          204.852699   50846.967263     0.829533     2.092227     0.446993   \n",
       "min           20.620087      19.000000     0.000000     0.000000     0.000000   \n",
       "25%          303.612105    7569.000000     1.000000     1.000000     0.000000   \n",
       "50%          494.958704   46736.000000     1.000000     3.000000     0.000000   \n",
       "75%          599.051546  104507.000000     1.000000     5.000000     1.000000   \n",
       "max         1888.817073  157545.000000     9.000000     6.000000     1.000000   \n",
       "\n",
       "        is_workday  \n",
       "count  6086.000000  \n",
       "mean      0.724121  \n",
       "std       0.446993  \n",
       "min       0.000000  \n",
       "25%       0.000000  \n",
       "50%       1.000000  \n",
       "75%       1.000000  \n",
       "max       1.000000  "
      ]
     },
     "execution_count": 42,
     "metadata": {},
     "output_type": "execute_result"
    }
   ],
   "source": [
    "heel_df = load_data(gr='heels_female_spring-summer')\n",
    "heel_df.describe()"
   ]
  },
  {
   "cell_type": "code",
   "execution_count": 41,
   "metadata": {
    "ExecuteTime": {
     "end_time": "2018-01-15T17:35:57.565742Z",
     "start_time": "2018-01-15T17:35:57.496685Z"
    },
    "scrolled": true
   },
   "outputs": [
    {
     "data": {
      "text/html": [
       "<div>\n",
       "<style>\n",
       "    .dataframe thead tr:only-child th {\n",
       "        text-align: right;\n",
       "    }\n",
       "\n",
       "    .dataframe thead th {\n",
       "        text-align: left;\n",
       "    }\n",
       "\n",
       "    .dataframe tbody tr th {\n",
       "        vertical-align: top;\n",
       "    }\n",
       "</style>\n",
       "<table border=\"1\" class=\"dataframe\">\n",
       "  <thead>\n",
       "    <tr style=\"text-align: right;\">\n",
       "      <th></th>\n",
       "      <th>current_price</th>\n",
       "      <th>discount_from_rrp</th>\n",
       "      <th>n_competitor</th>\n",
       "      <th>rel_price</th>\n",
       "      <th>color_pop</th>\n",
       "      <th>total_views</th>\n",
       "      <th>total_impressions</th>\n",
       "      <th>mean_views</th>\n",
       "      <th>mean_impressions</th>\n",
       "      <th>brand_pop</th>\n",
       "      <th>n_sold</th>\n",
       "      <th>weekday</th>\n",
       "      <th>is_weekend</th>\n",
       "      <th>is_workday</th>\n",
       "    </tr>\n",
       "  </thead>\n",
       "  <tbody>\n",
       "    <tr>\n",
       "      <th>count</th>\n",
       "      <td>5469.000000</td>\n",
       "      <td>5469.000000</td>\n",
       "      <td>5469.000000</td>\n",
       "      <td>5469.000000</td>\n",
       "      <td>5469.000000</td>\n",
       "      <td>5469.000000</td>\n",
       "      <td>5.469000e+03</td>\n",
       "      <td>5469.000000</td>\n",
       "      <td>5469.000000</td>\n",
       "      <td>5469.000000</td>\n",
       "      <td>5469.000000</td>\n",
       "      <td>5469.000000</td>\n",
       "      <td>5469.000000</td>\n",
       "      <td>5469.000000</td>\n",
       "    </tr>\n",
       "    <tr>\n",
       "      <th>mean</th>\n",
       "      <td>31.187555</td>\n",
       "      <td>27.810982</td>\n",
       "      <td>1337.493509</td>\n",
       "      <td>0.339294</td>\n",
       "      <td>20.852976</td>\n",
       "      <td>59590.886085</td>\n",
       "      <td>1.204695e+06</td>\n",
       "      <td>22.214753</td>\n",
       "      <td>457.010428</td>\n",
       "      <td>59590.886085</td>\n",
       "      <td>1.308466</td>\n",
       "      <td>2.804717</td>\n",
       "      <td>0.272810</td>\n",
       "      <td>0.727190</td>\n",
       "    </tr>\n",
       "    <tr>\n",
       "      <th>std</th>\n",
       "      <td>11.055654</td>\n",
       "      <td>19.187319</td>\n",
       "      <td>718.322669</td>\n",
       "      <td>0.245819</td>\n",
       "      <td>20.895005</td>\n",
       "      <td>50559.399131</td>\n",
       "      <td>1.018140e+06</td>\n",
       "      <td>10.138333</td>\n",
       "      <td>191.534734</td>\n",
       "      <td>50559.399131</td>\n",
       "      <td>0.848707</td>\n",
       "      <td>2.085386</td>\n",
       "      <td>0.445445</td>\n",
       "      <td>0.445445</td>\n",
       "    </tr>\n",
       "    <tr>\n",
       "      <th>min</th>\n",
       "      <td>9.900000</td>\n",
       "      <td>0.000000</td>\n",
       "      <td>72.000000</td>\n",
       "      <td>0.000109</td>\n",
       "      <td>0.000000</td>\n",
       "      <td>19.000000</td>\n",
       "      <td>3.410000e+02</td>\n",
       "      <td>0.521739</td>\n",
       "      <td>20.620087</td>\n",
       "      <td>19.000000</td>\n",
       "      <td>0.000000</td>\n",
       "      <td>0.000000</td>\n",
       "      <td>0.000000</td>\n",
       "      <td>0.000000</td>\n",
       "    </tr>\n",
       "    <tr>\n",
       "      <th>25%</th>\n",
       "      <td>24.900000</td>\n",
       "      <td>14.326648</td>\n",
       "      <td>824.000000</td>\n",
       "      <td>0.001084</td>\n",
       "      <td>2.150538</td>\n",
       "      <td>9386.000000</td>\n",
       "      <td>2.207260e+05</td>\n",
       "      <td>13.342723</td>\n",
       "      <td>315.883784</td>\n",
       "      <td>9386.000000</td>\n",
       "      <td>1.000000</td>\n",
       "      <td>1.000000</td>\n",
       "      <td>0.000000</td>\n",
       "      <td>0.000000</td>\n",
       "    </tr>\n",
       "    <tr>\n",
       "      <th>50%</th>\n",
       "      <td>29.900000</td>\n",
       "      <td>28.653295</td>\n",
       "      <td>1102.000000</td>\n",
       "      <td>0.372612</td>\n",
       "      <td>4.301075</td>\n",
       "      <td>54307.000000</td>\n",
       "      <td>1.030200e+06</td>\n",
       "      <td>24.347537</td>\n",
       "      <td>499.003103</td>\n",
       "      <td>54307.000000</td>\n",
       "      <td>1.000000</td>\n",
       "      <td>3.000000</td>\n",
       "      <td>0.000000</td>\n",
       "      <td>1.000000</td>\n",
       "    </tr>\n",
       "    <tr>\n",
       "      <th>75%</th>\n",
       "      <td>38.160000</td>\n",
       "      <td>44.543430</td>\n",
       "      <td>1885.000000</td>\n",
       "      <td>0.512904</td>\n",
       "      <td>44.758065</td>\n",
       "      <td>105266.000000</td>\n",
       "      <td>2.107808e+06</td>\n",
       "      <td>30.073231</td>\n",
       "      <td>601.503937</td>\n",
       "      <td>105266.000000</td>\n",
       "      <td>1.000000</td>\n",
       "      <td>5.000000</td>\n",
       "      <td>1.000000</td>\n",
       "      <td>1.000000</td>\n",
       "    </tr>\n",
       "    <tr>\n",
       "      <th>max</th>\n",
       "      <td>64.000000</td>\n",
       "      <td>77.951002</td>\n",
       "      <td>2662.000000</td>\n",
       "      <td>0.949874</td>\n",
       "      <td>44.758065</td>\n",
       "      <td>157545.000000</td>\n",
       "      <td>3.263009e+06</td>\n",
       "      <td>49.092283</td>\n",
       "      <td>1322.071429</td>\n",
       "      <td>157545.000000</td>\n",
       "      <td>9.000000</td>\n",
       "      <td>6.000000</td>\n",
       "      <td>1.000000</td>\n",
       "      <td>1.000000</td>\n",
       "    </tr>\n",
       "  </tbody>\n",
       "</table>\n",
       "</div>"
      ],
      "text/plain": [
       "       current_price  discount_from_rrp  n_competitor    rel_price  \\\n",
       "count    5469.000000        5469.000000   5469.000000  5469.000000   \n",
       "mean       31.187555          27.810982   1337.493509     0.339294   \n",
       "std        11.055654          19.187319    718.322669     0.245819   \n",
       "min         9.900000           0.000000     72.000000     0.000109   \n",
       "25%        24.900000          14.326648    824.000000     0.001084   \n",
       "50%        29.900000          28.653295   1102.000000     0.372612   \n",
       "75%        38.160000          44.543430   1885.000000     0.512904   \n",
       "max        64.000000          77.951002   2662.000000     0.949874   \n",
       "\n",
       "         color_pop    total_views  total_impressions   mean_views  \\\n",
       "count  5469.000000    5469.000000       5.469000e+03  5469.000000   \n",
       "mean     20.852976   59590.886085       1.204695e+06    22.214753   \n",
       "std      20.895005   50559.399131       1.018140e+06    10.138333   \n",
       "min       0.000000      19.000000       3.410000e+02     0.521739   \n",
       "25%       2.150538    9386.000000       2.207260e+05    13.342723   \n",
       "50%       4.301075   54307.000000       1.030200e+06    24.347537   \n",
       "75%      44.758065  105266.000000       2.107808e+06    30.073231   \n",
       "max      44.758065  157545.000000       3.263009e+06    49.092283   \n",
       "\n",
       "       mean_impressions      brand_pop       n_sold      weekday   is_weekend  \\\n",
       "count       5469.000000    5469.000000  5469.000000  5469.000000  5469.000000   \n",
       "mean         457.010428   59590.886085     1.308466     2.804717     0.272810   \n",
       "std          191.534734   50559.399131     0.848707     2.085386     0.445445   \n",
       "min           20.620087      19.000000     0.000000     0.000000     0.000000   \n",
       "25%          315.883784    9386.000000     1.000000     1.000000     0.000000   \n",
       "50%          499.003103   54307.000000     1.000000     3.000000     0.000000   \n",
       "75%          601.503937  105266.000000     1.000000     5.000000     1.000000   \n",
       "max         1322.071429  157545.000000     9.000000     6.000000     1.000000   \n",
       "\n",
       "        is_workday  \n",
       "count  5469.000000  \n",
       "mean      0.727190  \n",
       "std       0.445445  \n",
       "min       0.000000  \n",
       "25%       0.000000  \n",
       "50%       1.000000  \n",
       "75%       1.000000  \n",
       "max       1.000000  "
      ]
     },
     "execution_count": 41,
     "metadata": {},
     "output_type": "execute_result"
    }
   ],
   "source": [
    "valid_heel_df = drop_outliers(heel_df, 'current_price')\n",
    "valid_heel_df.describe()"
   ]
  },
  {
   "cell_type": "markdown",
   "metadata": {},
   "source": [
    "### After dropping weird prices"
   ]
  },
  {
   "cell_type": "code",
   "execution_count": null,
   "metadata": {
    "collapsed": true
   },
   "outputs": [],
   "source": []
  },
  {
   "cell_type": "markdown",
   "metadata": {
    "heading_collapsed": true
   },
   "source": [
    "## Google Analytics features"
   ]
  },
  {
   "cell_type": "code",
   "execution_count": 17,
   "metadata": {
    "ExecuteTime": {
     "end_time": "2018-01-15T13:55:00.560799Z",
     "start_time": "2018-01-15T13:54:59.971670Z"
    },
    "hidden": true
   },
   "outputs": [
    {
     "data": {
      "text/plain": [
       "<matplotlib.figure.Figure at 0x11eb42cf8>"
      ]
     },
     "metadata": {},
     "output_type": "display_data"
    },
    {
     "data": {
      "image/png": "[encoded data removed]",
      "text/plain": [
       "<matplotlib.figure.Figure at 0x11eb70748>"
      ]
     },
     "metadata": {},
     "output_type": "display_data"
    }
   ],
   "source": [
    "plot_hist(ga_feats)"
   ]
  },
  {
   "cell_type": "markdown",
   "metadata": {
    "hidden": true
   },
   "source": [
    "These features look normal."
   ]
  },
  {
   "cell_type": "markdown",
   "metadata": {
    "heading_collapsed": true
   },
   "source": [
    "## Time features"
   ]
  },
  {
   "cell_type": "code",
   "execution_count": null,
   "metadata": {
    "collapsed": true,
    "hidden": true
   },
   "outputs": [],
   "source": []
  },
  {
   "cell_type": "markdown",
   "metadata": {},
   "source": [
    "## Derived features"
   ]
  },
  {
   "cell_type": "code",
   "execution_count": 43,
   "metadata": {
    "ExecuteTime": {
     "end_time": "2017-11-23T15:33:51.672247Z",
     "start_time": "2017-11-23T15:33:51.666374Z"
    }
   },
   "outputs": [
    {
     "data": {
      "text/plain": [
       "Timestamp('2005-06-13 00:25:26.290448384')"
      ]
     },
     "execution_count": 43,
     "metadata": {},
     "output_type": "execute_result"
    }
   ],
   "source": [
    "dr_data.special_price_to_date.iloc[0]"
   ]
  },
  {
   "cell_type": "code",
   "execution_count": 45,
   "metadata": {
    "ExecuteTime": {
     "end_time": "2017-11-23T15:35:01.163261Z",
     "start_time": "2017-11-23T15:35:01.153598Z"
    }
   },
   "outputs": [
    {
     "ename": "AttributeError",
     "evalue": "'Timestamp' object has no attribute 'dt'",
     "output_type": "error",
     "traceback": [
      "\u001b[0;31m---------------------------------------------------------------------------\u001b[0m",
      "\u001b[0;31mAttributeError\u001b[0m                            Traceback (most recent call last)",
      "\u001b[0;32m<ipython-input-45-d10afc9d91d9>\u001b[0m in \u001b[0;36m<module>\u001b[0;34m()\u001b[0m\n\u001b[0;32m----> 1\u001b[0;31m \u001b[0mdr_data\u001b[0m\u001b[0;34m.\u001b[0m\u001b[0mspecial_price_from_date\u001b[0m\u001b[0;34m.\u001b[0m\u001b[0miloc\u001b[0m\u001b[0;34m[\u001b[0m\u001b[0;36m0\u001b[0m\u001b[0;34m]\u001b[0m\u001b[0;34m.\u001b[0m\u001b[0mdt\u001b[0m\u001b[0;34m.\u001b[0m\u001b[0myear\u001b[0m\u001b[0;34m\u001b[0m\u001b[0m\n\u001b[0m",
      "\u001b[0;31mAttributeError\u001b[0m: 'Timestamp' object has no attribute 'dt'"
     ]
    }
   ],
   "source": [
    "dr_data.special_price_from_date.iloc[0]"
   ]
  },
  {
   "cell_type": "code",
   "execution_count": 42,
   "metadata": {
    "ExecuteTime": {
     "end_time": "2017-11-23T15:33:27.668618Z",
     "start_time": "2017-11-23T15:33:27.662952Z"
    }
   },
   "outputs": [
    {
     "data": {
      "text/plain": [
       "Timedelta('5642 days 00:25:26.290448')"
      ]
     },
     "execution_count": 42,
     "metadata": {},
     "output_type": "execute_result"
    }
   ],
   "source": [
    "dr_data.special_price_to_date.iloc[0] - dr_data.special_price_from_date.iloc[0]"
   ]
  },
  {
   "cell_type": "code",
   "execution_count": null,
   "metadata": {
    "collapsed": true
   },
   "outputs": [],
   "source": [
    "# duration of special price\n",
    "dr_data['duration'] = dr_data.special_price_to_date - dr_data.special_price_from_date"
   ]
  },
  {
   "cell_type": "markdown",
   "metadata": {},
   "source": [
    "+ how long from starting promotion date (abs/relative)\n",
    "+ how long to ending promotion date (abs/relative)"
   ]
  },
  {
   "cell_type": "markdown",
   "metadata": {},
   "source": [
    "+ long-short term memory models?"
   ]
  },
  {
   "cell_type": "markdown",
   "metadata": {},
   "source": [
    "# Feature analysis"
   ]
  },
  {
   "cell_type": "markdown",
   "metadata": {},
   "source": [
    "## First peeks \n",
    "Explore to find which feats are potentially useful."
   ]
  },
  {
   "cell_type": "markdown",
   "metadata": {},
   "source": [
    "### Distribution of target"
   ]
  },
  {
   "cell_type": "code",
   "execution_count": 30,
   "metadata": {
    "ExecuteTime": {
     "end_time": "2017-11-23T13:46:42.248755Z",
     "start_time": "2017-11-23T13:46:42.240806Z"
    },
    "collapsed": true
   },
   "outputs": [
    {
     "data": {
      "text/plain": [
       "count    23388.000000\n",
       "mean         1.424021\n",
       "std          1.234057\n",
       "min          0.000000\n",
       "25%          1.000000\n",
       "50%          1.000000\n",
       "75%          2.000000\n",
       "max         27.000000\n",
       "Name: n_sold, dtype: float64"
      ]
     },
     "execution_count": 30,
     "metadata": {},
     "output_type": "execute_result"
    }
   ],
   "source": [
    "dr_data.n_sold.describe()"
   ]
  },
  {
   "cell_type": "code",
   "execution_count": 28,
   "metadata": {
    "ExecuteTime": {
     "end_time": "2017-11-23T13:45:51.171360Z",
     "start_time": "2017-11-23T13:45:50.977393Z"
    },
    "collapsed": true
   },
   "outputs": [
    {
     "data": {
      "image/png": "[encoded data removed]",
      "text/plain": [
       "<matplotlib.figure.Figure at 0x11f082f28>"
      ]
     },
     "metadata": {},
     "output_type": "display_data"
    }
   ],
   "source": [
    "pl.hist(dr_data.n_sold)\n",
    "pl.xlabel('n_sold'); pl.ylabel('Count')\n",
    "pl.grid(True, ls='--')\n",
    "pl.show()"
   ]
  },
  {
   "cell_type": "markdown",
   "metadata": {
    "heading_collapsed": true
   },
   "source": [
    "### Binary feats"
   ]
  },
  {
   "cell_type": "code",
   "execution_count": 7,
   "metadata": {
    "ExecuteTime": {
     "end_time": "2017-11-23T11:36:53.032051Z",
     "start_time": "2017-11-23T11:36:53.020710Z"
    },
    "hidden": true,
    "scrolled": true
   },
   "outputs": [
    {
     "data": {
      "text/plain": [
       "returnable        23382\n",
       "non returnable        6\n",
       "Name: is_returnable, dtype: int64"
      ]
     },
     "execution_count": 7,
     "metadata": {},
     "output_type": "execute_result"
    }
   ],
   "source": [
    "dr_data.is_returnable.value_counts()"
   ]
  },
  {
   "cell_type": "code",
   "execution_count": 8,
   "metadata": {
    "ExecuteTime": {
     "end_time": "2017-11-23T11:37:19.675763Z",
     "start_time": "2017-11-23T11:37:19.667476Z"
    },
    "collapsed": true,
    "hidden": true
   },
   "outputs": [
    {
     "data": {
      "text/plain": [
       "0    23388\n",
       "Name: is_pack, dtype: int64"
      ]
     },
     "execution_count": 8,
     "metadata": {},
     "output_type": "execute_result"
    }
   ],
   "source": [
    "dr_data.is_pack.value_counts()"
   ]
  },
  {
   "cell_type": "markdown",
   "metadata": {
    "heading_collapsed": true
   },
   "source": [
    "### Brand related"
   ]
  },
  {
   "cell_type": "code",
   "execution_count": 10,
   "metadata": {
    "ExecuteTime": {
     "end_time": "2017-11-23T11:39:53.460602Z",
     "start_time": "2017-11-23T11:39:53.448816Z"
    },
    "hidden": true
   },
   "outputs": [
    {
     "data": {
      "text/plain": [
       "regional_private_label    18161\n",
       "regional_branded           5227\n",
       "Name: brand_type, dtype: int64"
      ]
     },
     "execution_count": 10,
     "metadata": {},
     "output_type": "execute_result"
    }
   ],
   "source": [
    "dr_data.brand_type.value_counts()"
   ]
  },
  {
   "cell_type": "code",
   "execution_count": 12,
   "metadata": {
    "ExecuteTime": {
     "end_time": "2017-11-23T11:40:34.864632Z",
     "start_time": "2017-11-23T11:40:34.855371Z"
    },
    "hidden": true
   },
   "outputs": [
    {
     "data": {
      "text/plain": [
       "regional_private_label    18161\n",
       "regional_branded           5227\n",
       "Name: brand_department, dtype: int64"
      ]
     },
     "execution_count": 12,
     "metadata": {},
     "output_type": "execute_result"
    }
   ],
   "source": [
    "dr_data.brand_department.value_counts()"
   ]
  },
  {
   "cell_type": "markdown",
   "metadata": {
    "hidden": true
   },
   "source": [
    "__Note:__ duplicated feats: `brand_type` & `brand_department`"
   ]
  },
  {
   "cell_type": "code",
   "execution_count": 11,
   "metadata": {
    "ExecuteTime": {
     "end_time": "2017-11-23T11:40:18.675695Z",
     "start_time": "2017-11-23T11:40:18.666919Z"
    },
    "hidden": true
   },
   "outputs": [
    {
     "data": {
      "text/plain": [
       "active    23388\n",
       "Name: brand_status, dtype: int64"
      ]
     },
     "execution_count": 11,
     "metadata": {},
     "output_type": "execute_result"
    }
   ],
   "source": [
    "dr_data.brand_status.value_counts()"
   ]
  },
  {
   "cell_type": "markdown",
   "metadata": {
    "hidden": true
   },
   "source": [
    "All brands are _active_."
   ]
  },
  {
   "cell_type": "markdown",
   "metadata": {
    "heading_collapsed": true
   },
   "source": [
    "### Others"
   ]
  },
  {
   "cell_type": "code",
   "execution_count": 21,
   "metadata": {
    "ExecuteTime": {
     "end_time": "2017-11-23T12:01:05.966124Z",
     "start_time": "2017-11-23T12:01:05.960617Z"
    },
    "hidden": true
   },
   "outputs": [
    {
     "data": {
      "text/plain": [
       "1    23388\n",
       "Name: shop_type, dtype: int64"
      ]
     },
     "execution_count": 21,
     "metadata": {},
     "output_type": "execute_result"
    }
   ],
   "source": [
    "dr_data.shop_type.value_counts()"
   ]
  },
  {
   "cell_type": "code",
   "execution_count": 25,
   "metadata": {
    "ExecuteTime": {
     "end_time": "2017-11-23T13:33:16.988268Z",
     "start_time": "2017-11-23T13:33:16.979466Z"
    },
    "hidden": true
   },
   "outputs": [
    {
     "data": {
      "text/plain": [
       "Warehouse            21627\n",
       "Consignment Stock     1761\n",
       "Name: shipment_type, dtype: int64"
      ]
     },
     "execution_count": 25,
     "metadata": {},
     "output_type": "execute_result"
    }
   ],
   "source": [
    "dr_data.shipment_type.value_counts()"
   ]
  },
  {
   "cell_type": "code",
   "execution_count": 31,
   "metadata": {
    "ExecuteTime": {
     "end_time": "2017-11-23T14:09:37.957504Z",
     "start_time": "2017-11-23T14:09:37.948915Z"
    },
    "hidden": true
   },
   "outputs": [
    {
     "data": {
      "text/plain": [
       "supplier    23388\n",
       "Name: catalogue, dtype: int64"
      ]
     },
     "execution_count": 31,
     "metadata": {},
     "output_type": "execute_result"
    }
   ],
   "source": [
    "dr_data.catalogue.value_counts()"
   ]
  },
  {
   "cell_type": "markdown",
   "metadata": {},
   "source": [
    "## Promising features\n",
    "\n",
    "+ `brand_tier`\n",
    "+ `color_family`\n",
    "+ `catalog_type`"
   ]
  },
  {
   "cell_type": "markdown",
   "metadata": {},
   "source": [
    "### Sales vs. brand tier"
   ]
  },
  {
   "cell_type": "code",
   "execution_count": 13,
   "metadata": {
    "ExecuteTime": {
     "end_time": "2017-11-23T11:41:59.757617Z",
     "start_time": "2017-11-23T11:41:59.752039Z"
    },
    "scrolled": false
   },
   "outputs": [
    {
     "data": {
      "text/plain": [
       "1    20480\n",
       "2     1159\n",
       "3      757\n",
       "5      605\n",
       "4      387\n",
       "Name: brand_tier, dtype: int64"
      ]
     },
     "execution_count": 13,
     "metadata": {},
     "output_type": "execute_result"
    }
   ],
   "source": [
    "dr_data.brand_tier.value_counts()"
   ]
  },
  {
   "cell_type": "markdown",
   "metadata": {},
   "source": [
    "Tier 1 is __dominant.__"
   ]
  },
  {
   "cell_type": "code",
   "execution_count": 36,
   "metadata": {
    "ExecuteTime": {
     "end_time": "2017-11-23T14:16:07.966616Z",
     "start_time": "2017-11-23T14:16:07.761268Z"
    }
   },
   "outputs": [
    {
     "data": {
      "image/png": "[encoded data removed]",
      "text/plain": [
       "<matplotlib.figure.Figure at 0x11f0ffda0>"
      ]
     },
     "metadata": {},
     "output_type": "display_data"
    }
   ],
   "source": [
    "sb.boxplot(x='n_sold', y='brand_tier', data=dr_data, orient='h')\n",
    "pl.show()"
   ]
  },
  {
   "cell_type": "markdown",
   "metadata": {},
   "source": [
    "To have a better view of other brand tiers, we need to exclude tier 1."
   ]
  },
  {
   "cell_type": "code",
   "execution_count": 37,
   "metadata": {
    "ExecuteTime": {
     "end_time": "2017-11-23T15:06:08.423935Z",
     "start_time": "2017-11-23T15:06:08.203605Z"
    },
    "collapsed": true
   },
   "outputs": [
    {
     "data": {
      "image/png": "[encoded data removed]",
      "text/plain": [
       "<matplotlib.figure.Figure at 0x11e8ab630>"
      ]
     },
     "metadata": {},
     "output_type": "display_data"
    }
   ],
   "source": [
    "sb.boxplot(x='n_sold', y='brand_tier', data=dr_data.query('brand_tier != 1') , orient='h')\n",
    "pl.show()"
   ]
  },
  {
   "cell_type": "code",
   "execution_count": 27,
   "metadata": {
    "ExecuteTime": {
     "end_time": "2017-11-23T13:40:51.504124Z",
     "start_time": "2017-11-23T13:40:51.494719Z"
    },
    "scrolled": true
   },
   "outputs": [
    {
     "data": {
      "text/html": [
       "<div>\n",
       "<style>\n",
       "    .dataframe thead tr:only-child th {\n",
       "        text-align: right;\n",
       "    }\n",
       "\n",
       "    .dataframe thead th {\n",
       "        text-align: left;\n",
       "    }\n",
       "\n",
       "    .dataframe tbody tr th {\n",
       "        vertical-align: top;\n",
       "    }\n",
       "</style>\n",
       "<table border=\"1\" class=\"dataframe\">\n",
       "  <thead>\n",
       "    <tr style=\"text-align: right;\">\n",
       "      <th></th>\n",
       "      <th>avg_sold</th>\n",
       "    </tr>\n",
       "    <tr>\n",
       "      <th>brand_tier</th>\n",
       "      <th></th>\n",
       "    </tr>\n",
       "  </thead>\n",
       "  <tbody>\n",
       "    <tr>\n",
       "      <th>4</th>\n",
       "      <td>0.997416</td>\n",
       "    </tr>\n",
       "    <tr>\n",
       "      <th>2</th>\n",
       "      <td>0.998274</td>\n",
       "    </tr>\n",
       "    <tr>\n",
       "      <th>5</th>\n",
       "      <td>1.082645</td>\n",
       "    </tr>\n",
       "    <tr>\n",
       "      <th>3</th>\n",
       "      <td>1.091149</td>\n",
       "    </tr>\n",
       "    <tr>\n",
       "      <th>1</th>\n",
       "      <td>1.478564</td>\n",
       "    </tr>\n",
       "  </tbody>\n",
       "</table>\n",
       "</div>"
      ],
      "text/plain": [
       "            avg_sold\n",
       "brand_tier          \n",
       "4           0.997416\n",
       "2           0.998274\n",
       "5           1.082645\n",
       "3           1.091149\n",
       "1           1.478564"
      ]
     },
     "execution_count": 27,
     "metadata": {},
     "output_type": "execute_result"
    }
   ],
   "source": [
    "dr_data.groupby('brand_tier').agg({'n_sold': np.mean}).rename(columns={'n_sold': 'avg_sold'}).sort_values('avg_sold')"
   ]
  },
  {
   "cell_type": "markdown",
   "metadata": {},
   "source": [
    "### Sales vs. catalog type"
   ]
  },
  {
   "cell_type": "code",
   "execution_count": 32,
   "metadata": {
    "ExecuteTime": {
     "end_time": "2017-11-23T14:10:00.283707Z",
     "start_time": "2017-11-23T14:10:00.274784Z"
    }
   },
   "outputs": [
    {
     "data": {
      "text/plain": [
       "Main      10031\n",
       "Outlet     9247\n",
       "Mixed      4110\n",
       "Name: catalog_type, dtype: int64"
      ]
     },
     "execution_count": 32,
     "metadata": {},
     "output_type": "execute_result"
    }
   ],
   "source": [
    "dr_data.catalog_type.value_counts()"
   ]
  },
  {
   "cell_type": "code",
   "execution_count": 35,
   "metadata": {
    "ExecuteTime": {
     "end_time": "2017-11-23T14:13:56.283101Z",
     "start_time": "2017-11-23T14:13:56.103436Z"
    }
   },
   "outputs": [
    {
     "data": {
      "image/png": "[encoded data removed]",
      "text/plain": [
       "<matplotlib.figure.Figure at 0x11b0b3ef0>"
      ]
     },
     "metadata": {},
     "output_type": "display_data"
    }
   ],
   "source": [
    "sb.boxplot(x='n_sold', y='catalog_type', data=dr_data, orient='h')\n",
    "pl.show()"
   ]
  },
  {
   "cell_type": "markdown",
   "metadata": {},
   "source": [
    "Sales vary with catalog type."
   ]
  },
  {
   "cell_type": "markdown",
   "metadata": {},
   "source": [
    "### Sales vs. brand tier and shipment type"
   ]
  },
  {
   "cell_type": "code",
   "execution_count": 26,
   "metadata": {
    "ExecuteTime": {
     "end_time": "2017-11-23T13:35:52.631532Z",
     "start_time": "2017-11-23T13:35:52.295924Z"
    }
   },
   "outputs": [
    {
     "data": {
      "image/png": "[encoded data removed]",
      "text/plain": [
       "<matplotlib.figure.Figure at 0x11e697ac8>"
      ]
     },
     "metadata": {},
     "output_type": "display_data"
    }
   ],
   "source": [
    "sb.boxplot(x='brand_tier', y='n_sold', hue='shipment_type', data=dr_data)\n",
    "pl.show()"
   ]
  },
  {
   "cell_type": "markdown",
   "metadata": {},
   "source": [
    "### Sales distribution by color family"
   ]
  },
  {
   "cell_type": "code",
   "execution_count": 22,
   "metadata": {
    "ExecuteTime": {
     "end_time": "2017-11-23T12:02:11.921800Z",
     "start_time": "2017-11-23T12:02:11.912526Z"
    },
    "scrolled": true
   },
   "outputs": [
    {
     "data": {
      "text/plain": [
       "black          8862\n",
       "navy           3587\n",
       "white          3514\n",
       "blue           1852\n",
       "red            1298\n",
       "grey            984\n",
       "multi           667\n",
       "beige           642\n",
       "pink            640\n",
       "green           385\n",
       "orange          333\n",
       "purple          183\n",
       "brown           158\n",
       "yellow          119\n",
       "gold             62\n",
       "silver           28\n",
       "black,pink       12\n",
       "white,multi       7\n",
       "blue,multi        5\n",
       "multi,navy        3\n",
       "white,blue        3\n",
       "black,multi       2\n",
       "pink,multi        1\n",
       "white,red         1\n",
       "red,multi         1\n",
       "green,multi       1\n",
       "Name: color_family, dtype: int64"
      ]
     },
     "execution_count": 22,
     "metadata": {},
     "output_type": "execute_result"
    }
   ],
   "source": [
    "dr_data.color_family.value_counts()"
   ]
  },
  {
   "cell_type": "code",
   "execution_count": 23,
   "metadata": {
    "ExecuteTime": {
     "end_time": "2017-11-23T12:02:45.369349Z",
     "start_time": "2017-11-23T12:02:45.358836Z"
    },
    "collapsed": true
   },
   "outputs": [
    {
     "data": {
      "text/plain": [
       "black                                         5462\n",
       "navy                                          2282\n",
       "white                                          784\n",
       "red                                            472\n",
       "blue                                           401\n",
       "grey                                           343\n",
       "black base floral                              300\n",
       "powder blue                                    263\n",
       "nude                                           256\n",
       "white based blue floral                        228\n",
       "maroon                                         219\n",
       "black based floral print                       211\n",
       "off white                                      205\n",
       "black based floral                             203\n",
       "pink                                           170\n",
       "white based print                              161\n",
       "light blue                                     156\n",
       "white based floral print                       152\n",
       "beige/black                                    147\n",
       "navy blue                                      143\n",
       "black/white stripe                             142\n",
       "black based stripe                             142\n",
       "navy based yellow floral                       141\n",
       "cream                                          138\n",
       "black and white print                          136\n",
       "dusty pink                                     136\n",
       "monochrome floral                              136\n",
       "burnt orange                                   134\n",
       "white base print                               128\n",
       "navy based floral print                        127\n",
       "                                              ... \n",
       "fresh pink                                       1\n",
       "stone/multi                                      1\n",
       "midnight navy/ivory                              1\n",
       "black/white floral                               1\n",
       "bronze colour                                    1\n",
       "grey/white                                       1\n",
       "navy/ivory spots & stripe panel                  1\n",
       "white/cobalt blue                                1\n",
       "deep navy                                        1\n",
       "black beauty                                     1\n",
       "black/dove grey/fluro blue                       1\n",
       "zinfandel/paisley                                1\n",
       "ivory/navy/lush green outline block stripe       1\n",
       "chocolate plum                                   1\n",
       "medium blue denim                                1\n",
       "black/red                                        1\n",
       "dawson ditsy/peacoat                             1\n",
       "coral                                            1\n",
       "blush/pineapple/bunch/panel                      1\n",
       "ruby/lipstick kaleidoscope grid panel            1\n",
       "indigo blue                                      1\n",
       "leopard                                          1\n",
       "navy/green chunky block stripe                   1\n",
       "black/ivory                                      1\n",
       "blue white                                       1\n",
       "black grit/black/hazard orange                   1\n",
       "rust/currant geo mixed stacks                    1\n",
       "top havana/handcart                              1\n",
       "mystic maroon/poison pink//white                 1\n",
       "bright pink                                      1\n",
       "Name: color, Length: 369, dtype: int64"
      ]
     },
     "execution_count": 23,
     "metadata": {},
     "output_type": "execute_result"
    }
   ],
   "source": [
    "dr_data.color.value_counts()"
   ]
  },
  {
   "cell_type": "markdown",
   "metadata": {},
   "source": [
    "`color` has too many values. Let us use `color_family` first."
   ]
  },
  {
   "cell_type": "code",
   "execution_count": 24,
   "metadata": {
    "ExecuteTime": {
     "end_time": "2017-11-23T13:29:41.848990Z",
     "start_time": "2017-11-23T13:29:41.836728Z"
    },
    "scrolled": false
   },
   "outputs": [
    {
     "data": {
      "text/html": [
       "<div>\n",
       "<style>\n",
       "    .dataframe thead tr:only-child th {\n",
       "        text-align: right;\n",
       "    }\n",
       "\n",
       "    .dataframe thead th {\n",
       "        text-align: left;\n",
       "    }\n",
       "\n",
       "    .dataframe tbody tr th {\n",
       "        vertical-align: top;\n",
       "    }\n",
       "</style>\n",
       "<table border=\"1\" class=\"dataframe\">\n",
       "  <thead>\n",
       "    <tr style=\"text-align: right;\">\n",
       "      <th></th>\n",
       "      <th>n_sold</th>\n",
       "    </tr>\n",
       "    <tr>\n",
       "      <th>color_family</th>\n",
       "      <th></th>\n",
       "    </tr>\n",
       "  </thead>\n",
       "  <tbody>\n",
       "    <tr>\n",
       "      <th>green,multi</th>\n",
       "      <td>0.000000</td>\n",
       "    </tr>\n",
       "    <tr>\n",
       "      <th>multi,navy</th>\n",
       "      <td>0.666667</td>\n",
       "    </tr>\n",
       "    <tr>\n",
       "      <th>black,pink</th>\n",
       "      <td>0.916667</td>\n",
       "    </tr>\n",
       "    <tr>\n",
       "      <th>white,multi</th>\n",
       "      <td>1.000000</td>\n",
       "    </tr>\n",
       "    <tr>\n",
       "      <th>black,multi</th>\n",
       "      <td>1.000000</td>\n",
       "    </tr>\n",
       "    <tr>\n",
       "      <th>white,blue</th>\n",
       "      <td>1.000000</td>\n",
       "    </tr>\n",
       "    <tr>\n",
       "      <th>blue,multi</th>\n",
       "      <td>1.000000</td>\n",
       "    </tr>\n",
       "    <tr>\n",
       "      <th>red,multi</th>\n",
       "      <td>1.000000</td>\n",
       "    </tr>\n",
       "    <tr>\n",
       "      <th>white,red</th>\n",
       "      <td>1.000000</td>\n",
       "    </tr>\n",
       "    <tr>\n",
       "      <th>pink,multi</th>\n",
       "      <td>1.000000</td>\n",
       "    </tr>\n",
       "    <tr>\n",
       "      <th>silver</th>\n",
       "      <td>1.035714</td>\n",
       "    </tr>\n",
       "    <tr>\n",
       "      <th>gold</th>\n",
       "      <td>1.048387</td>\n",
       "    </tr>\n",
       "    <tr>\n",
       "      <th>purple</th>\n",
       "      <td>1.060109</td>\n",
       "    </tr>\n",
       "    <tr>\n",
       "      <th>brown</th>\n",
       "      <td>1.139241</td>\n",
       "    </tr>\n",
       "    <tr>\n",
       "      <th>yellow</th>\n",
       "      <td>1.151261</td>\n",
       "    </tr>\n",
       "    <tr>\n",
       "      <th>pink</th>\n",
       "      <td>1.231250</td>\n",
       "    </tr>\n",
       "    <tr>\n",
       "      <th>orange</th>\n",
       "      <td>1.237237</td>\n",
       "    </tr>\n",
       "    <tr>\n",
       "      <th>blue</th>\n",
       "      <td>1.251080</td>\n",
       "    </tr>\n",
       "    <tr>\n",
       "      <th>red</th>\n",
       "      <td>1.306626</td>\n",
       "    </tr>\n",
       "    <tr>\n",
       "      <th>multi</th>\n",
       "      <td>1.346327</td>\n",
       "    </tr>\n",
       "    <tr>\n",
       "      <th>white</th>\n",
       "      <td>1.372795</td>\n",
       "    </tr>\n",
       "    <tr>\n",
       "      <th>grey</th>\n",
       "      <td>1.398374</td>\n",
       "    </tr>\n",
       "    <tr>\n",
       "      <th>navy</th>\n",
       "      <td>1.460273</td>\n",
       "    </tr>\n",
       "    <tr>\n",
       "      <th>black</th>\n",
       "      <td>1.510833</td>\n",
       "    </tr>\n",
       "    <tr>\n",
       "      <th>green</th>\n",
       "      <td>1.524675</td>\n",
       "    </tr>\n",
       "    <tr>\n",
       "      <th>beige</th>\n",
       "      <td>1.719626</td>\n",
       "    </tr>\n",
       "  </tbody>\n",
       "</table>\n",
       "</div>"
      ],
      "text/plain": [
       "                n_sold\n",
       "color_family          \n",
       "green,multi   0.000000\n",
       "multi,navy    0.666667\n",
       "black,pink    0.916667\n",
       "white,multi   1.000000\n",
       "black,multi   1.000000\n",
       "white,blue    1.000000\n",
       "blue,multi    1.000000\n",
       "red,multi     1.000000\n",
       "white,red     1.000000\n",
       "pink,multi    1.000000\n",
       "silver        1.035714\n",
       "gold          1.048387\n",
       "purple        1.060109\n",
       "brown         1.139241\n",
       "yellow        1.151261\n",
       "pink          1.231250\n",
       "orange        1.237237\n",
       "blue          1.251080\n",
       "red           1.306626\n",
       "multi         1.346327\n",
       "white         1.372795\n",
       "grey          1.398374\n",
       "navy          1.460273\n",
       "black         1.510833\n",
       "green         1.524675\n",
       "beige         1.719626"
      ]
     },
     "execution_count": 24,
     "metadata": {},
     "output_type": "execute_result"
    }
   ],
   "source": [
    "dr_data.groupby('color_family').agg({'n_sold': np.mean}).sort_values('n_sold')"
   ]
  },
  {
   "cell_type": "code",
   "execution_count": null,
   "metadata": {
    "collapsed": true
   },
   "outputs": [],
   "source": []
  }
 ],
 "metadata": {
  "kernelspec": {
   "display_name": "Python 3",
   "language": "python",
   "name": "python3"
  },
  "language_info": {
   "codemirror_mode": {
    "name": "ipython",
    "version": 3
   },
   "file_extension": ".py",
   "mimetype": "text/x-python",
   "name": "python",
   "nbconvert_exporter": "python",
   "pygments_lexer": "ipython3",
   "version": "3.6.0"
  },
  "toc": {
   "colors": {
    "hover_highlight": "#DAA520",
    "navigate_num": "#000000",
    "navigate_text": "#333333",
    "running_highlight": "#FF0000",
    "selected_highlight": "#FFD700",
    "sidebar_border": "#EEEEEE",
    "wrapper_background": "#FFFFFF"
   },
   "moveMenuLeft": true,
   "nav_menu": {
    "height": "251px",
    "width": "252px"
   },
   "navigate_menu": true,
   "number_sections": true,
   "sideBar": true,
   "threshold": 4,
   "toc_cell": false,
   "toc_section_display": "block",
   "toc_window_display": true,
   "widenNotebook": false
  },
  "varInspector": {
   "cols": {
    "lenName": 16,
    "lenType": 16,
    "lenVar": 40
   },
   "kernels_config": {
    "python": {
     "delete_cmd_postfix": "",
     "delete_cmd_prefix": "del ",
     "library": "var_list.py",
     "varRefreshCmd": "print(var_dic_list())"
    },
    "r": {
     "delete_cmd_postfix": ") ",
     "delete_cmd_prefix": "rm(",
     "library": "var_list.r",
     "varRefreshCmd": "cat(var_dic_list()) "
    }
   },
   "types_to_exclude": [
    "module",
    "function",
    "builtin_function_or_method",
    "instance",
    "_Feature"
   ],
   "window_display": false
  }
 },
 "nbformat": 4,
 "nbformat_minor": 2
}
