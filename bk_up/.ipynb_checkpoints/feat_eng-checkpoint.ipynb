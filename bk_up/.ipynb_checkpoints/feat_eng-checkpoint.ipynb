{
 "cells": [
  {
   "cell_type": "markdown",
   "metadata": {
    "heading_collapsed": true
   },
   "source": [
    "# Executive summary"
   ]
  },
  {
   "cell_type": "markdown",
   "metadata": {
    "heading_collapsed": true,
    "hidden": true
   },
   "source": [
    "## Goal\n",
    "In this notebook, we will build various features for demand prediction. The features are roughly categorized as:\n",
    "+ product-based feats\n",
    "+ price-based feats\n",
    "+ competition feats\n",
    "+ time-based feats\n",
    "\n",
    "__Note:__ As this is just a prototype, we will only work with samples of data (as groups) as the whole data, especially __snapshot table__, is gigantic. Each group is defined by three factors (sub-category, gender, season)."
   ]
  },
  {
   "cell_type": "markdown",
   "metadata": {
    "heading_collapsed": true,
    "hidden": true
   },
   "source": [
    "## Impediments & current solutions\n",
    "+ Table of daily product snapshots is gigantic, cannot fit into memory --> extract only data of groups\n",
    "+ Certain column names are confusing, e.g., 'id_simple_product' vs. 'sku_simple' --> clarified\n",
    "+ Some un-sync between GFG datalake and venture's DWH (Zalora) --> use only data from datalake\n",
    "+ Changes in Zalora's DWH from old to new Redshift instance (Pitbull) --> checked with Shahbaaz."
   ]
  },
  {
   "cell_type": "markdown",
   "metadata": {
    "heading_collapsed": true,
    "hidden": true
   },
   "source": [
    "## Resulting feature matrix\n",
    "With regard to these impediments, I built feature matrix for the group of _female skirts in autumn-winter season_. Below is how the matrix look like (first 5 rows)"
   ]
  },
  {
   "cell_type": "code",
   "execution_count": 82,
   "metadata": {
    "ExecuteTime": {
     "end_time": "2017-08-18T15:07:59.579307Z",
     "start_time": "2017-08-18T15:07:59.565963Z"
    },
    "hidden": true
   },
   "outputs": [
    {
     "data": {
      "text/html": [
       "<div>\n",
       "<style>\n",
       "    .dataframe thead tr:only-child th {\n",
       "        text-align: right;\n",
       "    }\n",
       "\n",
       "    .dataframe thead th {\n",
       "        text-align: left;\n",
       "    }\n",
       "\n",
       "    .dataframe tbody tr th {\n",
       "        vertical-align: top;\n",
       "    }\n",
       "</style>\n",
       "<table border=\"1\" class=\"dataframe\">\n",
       "  <thead>\n",
       "    <tr style=\"text-align: right;\">\n",
       "      <th></th>\n",
       "      <th>sku_config</th>\n",
       "      <th>color_pop</th>\n",
       "      <th>snapshot_date</th>\n",
       "      <th>current_price</th>\n",
       "      <th>discount_from_rrp</th>\n",
       "      <th>n_competitor</th>\n",
       "      <th>rel_price_in_percent</th>\n",
       "      <th>brand_name</th>\n",
       "      <th>brand_total_views</th>\n",
       "      <th>brand_mean_views</th>\n",
       "    </tr>\n",
       "  </thead>\n",
       "  <tbody>\n",
       "    <tr>\n",
       "      <th>0</th>\n",
       "      <td>006FAAAAB5D8D2GS</td>\n",
       "      <td>8.013311</td>\n",
       "      <td>2016-09-24</td>\n",
       "      <td>29.9</td>\n",
       "      <td>0.0</td>\n",
       "      <td>481</td>\n",
       "      <td>0.119624</td>\n",
       "      <td>zalora</td>\n",
       "      <td>117430</td>\n",
       "      <td>23.776068</td>\n",
       "    </tr>\n",
       "    <tr>\n",
       "      <th>1</th>\n",
       "      <td>006FAAAAB5D8D2GS</td>\n",
       "      <td>8.013311</td>\n",
       "      <td>2016-09-25</td>\n",
       "      <td>29.9</td>\n",
       "      <td>0.0</td>\n",
       "      <td>482</td>\n",
       "      <td>0.119525</td>\n",
       "      <td>zalora</td>\n",
       "      <td>123734</td>\n",
       "      <td>25.032167</td>\n",
       "    </tr>\n",
       "    <tr>\n",
       "      <th>2</th>\n",
       "      <td>006FAAAAB5D8D2GS</td>\n",
       "      <td>8.013311</td>\n",
       "      <td>2016-09-26</td>\n",
       "      <td>29.9</td>\n",
       "      <td>0.0</td>\n",
       "      <td>499</td>\n",
       "      <td>0.116941</td>\n",
       "      <td>zalora</td>\n",
       "      <td>109648</td>\n",
       "      <td>22.119831</td>\n",
       "    </tr>\n",
       "    <tr>\n",
       "      <th>3</th>\n",
       "      <td>006FAAAAB5D8D2GS</td>\n",
       "      <td>8.013311</td>\n",
       "      <td>2016-09-27</td>\n",
       "      <td>29.9</td>\n",
       "      <td>0.0</td>\n",
       "      <td>515</td>\n",
       "      <td>0.113703</td>\n",
       "      <td>zalora</td>\n",
       "      <td>117609</td>\n",
       "      <td>23.706712</td>\n",
       "    </tr>\n",
       "    <tr>\n",
       "      <th>4</th>\n",
       "      <td>006FAAAAB5D8D2GS</td>\n",
       "      <td>8.013311</td>\n",
       "      <td>2016-09-28</td>\n",
       "      <td>29.9</td>\n",
       "      <td>0.0</td>\n",
       "      <td>505</td>\n",
       "      <td>0.115529</td>\n",
       "      <td>zalora</td>\n",
       "      <td>109389</td>\n",
       "      <td>22.215475</td>\n",
       "    </tr>\n",
       "  </tbody>\n",
       "</table>\n",
       "</div>"
      ],
      "text/plain": [
       "         sku_config  color_pop snapshot_date  current_price  \\\n",
       "0  006FAAAAB5D8D2GS   8.013311    2016-09-24           29.9   \n",
       "1  006FAAAAB5D8D2GS   8.013311    2016-09-25           29.9   \n",
       "2  006FAAAAB5D8D2GS   8.013311    2016-09-26           29.9   \n",
       "3  006FAAAAB5D8D2GS   8.013311    2016-09-27           29.9   \n",
       "4  006FAAAAB5D8D2GS   8.013311    2016-09-28           29.9   \n",
       "\n",
       "   discount_from_rrp  n_competitor  rel_price_in_percent brand_name  \\\n",
       "0                0.0           481              0.119624     zalora   \n",
       "1                0.0           482              0.119525     zalora   \n",
       "2                0.0           499              0.116941     zalora   \n",
       "3                0.0           515              0.113703     zalora   \n",
       "4                0.0           505              0.115529     zalora   \n",
       "\n",
       "   brand_total_views  brand_mean_views  \n",
       "0             117430         23.776068  \n",
       "1             123734         25.032167  \n",
       "2             109648         22.119831  \n",
       "3             117609         23.706712  \n",
       "4             109389         22.215475  "
      ]
     },
     "execution_count": 82,
     "metadata": {},
     "output_type": "execute_result"
    }
   ],
   "source": [
    "X.head()"
   ]
  },
  {
   "cell_type": "markdown",
   "metadata": {
    "hidden": true
   },
   "source": [
    "We now go into details including:\n",
    "+ What are the features?\n",
    "+ How we define and calculate the features?"
   ]
  },
  {
   "cell_type": "markdown",
   "metadata": {},
   "source": [
    "# Initialization\n",
    "+ Load standard modules, our own modules __feat_engineer__ for feature engineering\n",
    "+ Load data of group 1 ('skirts', 'female', 'autumn-winter')"
   ]
  },
  {
   "cell_type": "code",
   "execution_count": 1,
   "metadata": {
    "ExecuteTime": {
     "end_time": "2017-10-09T16:36:52.685076Z",
     "start_time": "2017-10-09T16:36:51.928193Z"
    },
    "collapsed": true,
    "init_cell": true
   },
   "outputs": [],
   "source": [
    "import pandas as pd\n",
    "import numpy as np\n",
    "import matplotlib.pyplot as pl\n",
    "\n",
    "# from importlib import reload"
   ]
  },
  {
   "cell_type": "code",
   "execution_count": 2,
   "metadata": {
    "ExecuteTime": {
     "end_time": "2017-10-09T16:36:52.689343Z",
     "start_time": "2017-10-09T16:36:52.686520Z"
    },
    "collapsed": true,
    "init_cell": true
   },
   "outputs": [],
   "source": [
    "CLEAN_DIR = '/Users/gfg/data/venture=Zalora/sg/clean/'\n",
    "SNAP_DIR = CLEAN_DIR + 'snapshot/'"
   ]
  },
  {
   "cell_type": "code",
   "execution_count": 3,
   "metadata": {
    "ExecuteTime": {
     "end_time": "2017-10-09T16:37:06.278717Z",
     "start_time": "2017-10-09T16:36:52.690984Z"
    },
    "collapsed": true,
    "init_cell": true
   },
   "outputs": [],
   "source": [
    "df_all = pd.read_csv(CLEAN_DIR + 'data_all.csv')"
   ]
  },
  {
   "cell_type": "code",
   "execution_count": 4,
   "metadata": {
    "ExecuteTime": {
     "end_time": "2017-10-09T16:37:06.318561Z",
     "start_time": "2017-10-09T16:37:06.280293Z"
    },
    "init_cell": true
   },
   "outputs": [
    {
     "name": "stdout",
     "output_type": "stream",
     "text": [
      "# configs in data: 159348\n"
     ]
    }
   ],
   "source": [
    "n_config = df_all.id_config_product.nunique()\n",
    "print('# configs in data: {}'.format(n_config))"
   ]
  },
  {
   "cell_type": "code",
   "execution_count": null,
   "metadata": {
    "collapsed": true
   },
   "outputs": [],
   "source": [
    "# Load sample data of a group ('skirts', 'female', 'autumn-winter')\n",
    "g1_df = pd.read_csv(SNAP_DIR + 'skirt_fem_aw.csv', parse_dates=['snapshot_date'])\n",
    "print(g1_df.shape)"
   ]
  },
  {
   "cell_type": "markdown",
   "metadata": {},
   "source": [
    "## Helpers"
   ]
  },
  {
   "cell_type": "code",
   "execution_count": 17,
   "metadata": {
    "ExecuteTime": {
     "end_time": "2017-10-04T15:31:13.765704Z",
     "start_time": "2017-10-04T15:31:13.756254Z"
    },
    "code_folding": [
     0,
     4,
     15
    ],
    "collapsed": true
   },
   "outputs": [],
   "source": [
    "def to_percent(vals):\n",
    "    total = sum(vals)\n",
    "    return 100 * np.array(vals) / total\n",
    "\n",
    "def agg_sale(df: pd.DataFrame, attribs):\n",
    "    '''\n",
    "    Agg sales based on given attributes\n",
    "    :param df: a DF of sales\n",
    "    :param attribs: given attributes\n",
    "    :return: \n",
    "    '''\n",
    "    res = df.groupby(attribs).agg({'is_sold': sum})\n",
    "    res = res.reset_index().rename(columns={'is_sold': 'n_sold'})\n",
    "    return res\n",
    "\n",
    "def color_popularity(sc, df_all):\n",
    "    '''\n",
    "    Compute popularity of diff colors under a given sub-cat\n",
    "    :param sc: sub-cat\n",
    "    :param df_all: \n",
    "    :return: \n",
    "    '''\n",
    "    sub_df = df_all.query('sub_cat == \"{}\"'.format(sc))\n",
    "    by_color = agg_sale(sub_df, attribs=['color'])\n",
    "    by_color['sub_cat'] = sc\n",
    "    by_color['percent'] = to_percent(by_color['n_sold'])\n",
    "\n",
    "    return by_color.sort_values('percent', ascending=False)"
   ]
  },
  {
   "cell_type": "markdown",
   "metadata": {},
   "source": [
    "# Product-based features\n",
    "These include:\n",
    "+ Color popularity\n",
    "+ Size popularity\n",
    "+ Brand popularity"
   ]
  },
  {
   "cell_type": "markdown",
   "metadata": {},
   "source": [
    "## Color popularity\n",
    "This measures how much a color is popular among customers. It is natural that popularity of colors will __vary with category__ (sub-cat in our case). For example, we expect that for kids apparel, joyful colors like red, pink, yellow are preferred; while for shirts, colors like white, blue are preferred. Thus, we should compute color popularity for each sub-cat. Moreover, we expect that color popularity will NOT change with time (it may change from year to year but not within one year). In short, color popularity only depends on __color and sub-cat.__ "
   ]
  },
  {
   "cell_type": "code",
   "execution_count": 11,
   "metadata": {
    "ExecuteTime": {
     "end_time": "2017-10-04T15:19:51.263487Z",
     "start_time": "2017-10-04T15:19:48.120466Z"
    },
    "collapsed": true
   },
   "outputs": [],
   "source": [
    "sub_cats = df_all.sub_cat.sort_values().unique()"
   ]
  },
  {
   "cell_type": "markdown",
   "metadata": {},
   "source": [
    "### Def\n",
    "Popularity of a color $c$ under a sub-cat $k$ is the following ratio:\n",
    "    $$ pop(c, k) = \\dfrac{n(c, k)}{\\sum_c^\\prime n(c^\\prime, k)} $$\n",
    "where $n(c, k)$ is the number of sold units which are under sub-cat $k$ and of color $c$."
   ]
  },
  {
   "cell_type": "markdown",
   "metadata": {},
   "source": [
    "### Computation"
   ]
  },
  {
   "cell_type": "code",
   "execution_count": 18,
   "metadata": {
    "ExecuteTime": {
     "end_time": "2017-10-04T15:31:25.985886Z",
     "start_time": "2017-10-04T15:31:18.850713Z"
    },
    "collapsed": true,
    "scrolled": false
   },
   "outputs": [],
   "source": [
    "frames = [color_popularity(sc, df_all) for sc in sub_cats]\n",
    "by_cat_color = pd.concat(frames)\n",
    "by_cat_color.rename(columns={'percent': 'color_pop'}, inplace=True)\n",
    "cols = ['color', 'sub_cat', 'n_sold', 'color_pop']\n",
    "by_cat_color = by_cat_color[cols].sort_values('color')\n",
    "\n",
    "# by_cat_color.to_csv(CLEAN_DIR + 'color_pop.csv', index=False)"
   ]
  },
  {
   "cell_type": "code",
   "execution_count": 100,
   "metadata": {
    "ExecuteTime": {
     "end_time": "2017-08-17T22:40:51.169179Z",
     "start_time": "2017-08-17T22:40:51.106835Z"
    },
    "code_folding": [],
    "collapsed": true
   },
   "outputs": [],
   "source": [
    "# add color popularity to each SKU simple in a group\n",
    "by_cat_color.sub_cat = lower_all(by_cat_color.sub_cat)\n",
    "g1_df = g1_df.merge(by_cat_color[['color', 'sub_cat', 'color_pop']])"
   ]
  },
  {
   "cell_type": "markdown",
   "metadata": {},
   "source": [
    "## Size popularity"
   ]
  },
  {
   "cell_type": "markdown",
   "metadata": {},
   "source": [
    "### Defs"
   ]
  },
  {
   "cell_type": "markdown",
   "metadata": {},
   "source": [
    "#### Popularity of a size \n",
    "Given size $s$, its popularity under sub-cat $k$ is:\n",
    "$$ pop(s, k) = \\dfrac{m(s, k)}{\\sum_s^\\prime m(s^\\prime, k)} $$\n",
    "where $m(s, k)$ is the number of sold units which are under sub-cat $k$ and of size $s$."
   ]
  },
  {
   "cell_type": "markdown",
   "metadata": {},
   "source": [
    "#### Size popularity of a config\n",
    "Given a config $cf$ under sub-cat $k$, its size popularity will be the weighted average of its sizes' popularity:\n",
    "    $$ pop_{size}(cf, k) = \\sum_{s \\in S_{cf}} w_s * pop(s, k) $$\n",
    "\n",
    "where \n",
    "+ $S_{cf}$ is the set of sizes of the config\n",
    "\n",
    "+ $ w_s = \\frac{n(cf, s)}{\\sum_{s^\\prime \\in S_{cf}} n(cf, s^\\prime)} $ is the weight of size $s$ "
   ]
  },
  {
   "cell_type": "markdown",
   "metadata": {},
   "source": [
    "A challenge when working with sizes is that they are not normalized yet. We have all kinds of sizes, as shown below. Thus, we first need a mapping to normalize sizes."
   ]
  },
  {
   "cell_type": "code",
   "execution_count": 53,
   "metadata": {
    "ExecuteTime": {
     "end_time": "2017-08-17T15:02:05.702380Z",
     "start_time": "2017-08-17T15:02:05.278698Z"
    },
    "collapsed": true
   },
   "outputs": [
    {
     "data": {
      "text/plain": [
       "S           529049\n",
       "M           511393\n",
       "One Size    384277\n",
       "L           287937\n",
       "XS          158431\n",
       "XL          114322\n",
       "38           87502\n",
       "37           76678\n",
       "8            74245\n",
       "10           64183\n",
       "39           61393\n",
       "One size     61316\n",
       "36           54078\n",
       "6            49603\n",
       "40           49442\n",
       "41           37508\n",
       "12           37481\n",
       "14           24226\n",
       "42           23519\n",
       "43           19168\n",
       "7            17900\n",
       "35           15553\n",
       "9            14131\n",
       "44           12326\n",
       "30           11512\n",
       "16           11290\n",
       "32           10914\n",
       "5             9761\n",
       "34            9462\n",
       "45            6772\n",
       "             ...  \n",
       "16S              1\n",
       "85G              1\n",
       "18 mm            1\n",
       "W2632            1\n",
       "85E              1\n",
       "12.5             1\n",
       "90D              1\n",
       "W2532            1\n",
       "85A              1\n",
       "3Y               1\n",
       "W2628            1\n",
       "26/28            1\n",
       "85 ml            1\n",
       "50 g             1\n",
       "2Y               1\n",
       "W3234            1\n",
       "14L              1\n",
       "XS/L32           1\n",
       "W3130            1\n",
       "43-44            1\n",
       "XL/L32           1\n",
       "7Y               1\n",
       "10DD             1\n",
       "18-24M           1\n",
       "23/25            1\n",
       "0.5              1\n",
       "21               1\n",
       "L/L34            1\n",
       "54 mm            1\n",
       "25 ml            1\n",
       "Name: size_name, Length: 426, dtype: int64"
      ]
     },
     "execution_count": 53,
     "metadata": {},
     "output_type": "execute_result"
    }
   ],
   "source": [
    "df_all['size_name'].value_counts()"
   ]
  },
  {
   "cell_type": "markdown",
   "metadata": {},
   "source": [
    "### Computation"
   ]
  },
  {
   "cell_type": "code",
   "execution_count": null,
   "metadata": {
    "collapsed": true
   },
   "outputs": [],
   "source": [
    "frames = [size_pop(sc, df_all) for sc in sub_cats]\n",
    "size_pop_by_cat = pd.concat(frames)\n",
    "size_pop_by_cat.to_csv(CLEAN_DIR + 'size_pop_by_cat.csv', index=False)"
   ]
  },
  {
   "cell_type": "markdown",
   "metadata": {},
   "source": [
    "## Brand popularity\n",
    "__Note__: Currently brand popularity is assumed to be independent of categ."
   ]
  },
  {
   "cell_type": "markdown",
   "metadata": {},
   "source": [
    "__Q:__ Should brand popularity vary with the categ, i.e., a brand can be popular under one cat, but not popular in another cat?\n",
    "\n",
    "__A__: "
   ]
  },
  {
   "cell_type": "markdown",
   "metadata": {},
   "source": [
    "### Via page views\n",
    "Page view score of a brand $b$ at a given date $d$ can be aggregated page views of configs under $b$ at date $d$. The aggregation can be via:\n",
    "+ sum\n",
    "+ mean\n",
    "\n",
    "This feature is obviously depend on date."
   ]
  },
  {
   "cell_type": "code",
   "execution_count": null,
   "metadata": {
    "code_folding": [
     0
    ],
    "collapsed": true
   },
   "outputs": [],
   "source": [
    "# this should be run on server\n",
    "import pandas as pd\n",
    "import gc\n",
    "\n",
    "# merge 2 parts of GA data in yr 2017\n",
    "p1 = pd.read_csv(CLEAN_DIR + '2017_ga_data_1.csv')\n",
    "p2 = pd.read_csv(CLEAN_DIR + '2017_ga_data_2.csv')\n",
    "\n",
    "_2017_ga = p1.append(p2)\n",
    "_2017_ga.to_csv(CLEAN_DIR + '2017_ga_data.csv', index=False)\n",
    "\n",
    "del p1; del p2; "
   ]
  },
  {
   "cell_type": "code",
   "execution_count": 8,
   "metadata": {
    "ExecuteTime": {
     "end_time": "2017-09-11T17:06:40.614637Z",
     "start_time": "2017-09-11T17:06:38.613389Z"
    }
   },
   "outputs": [
    {
     "data": {
      "text/plain": [
       "7"
      ]
     },
     "execution_count": 8,
     "metadata": {},
     "output_type": "execute_result"
    }
   ],
   "source": [
    "del _2017_ga\n",
    "gc.collect()"
   ]
  },
  {
   "cell_type": "code",
   "execution_count": null,
   "metadata": {
    "collapsed": true
   },
   "outputs": [],
   "source": [
    "# this should be run on server\n",
    "_2016_ga = pd.read_csv('2016_ga_data.csv')\n",
    "_2017_ga = pd.read_csv('2017_ga_data.csv')\n",
    "ga_all = _2016_ga.append(_2017_ga)\n",
    "\n",
    "del _2016_ga; del _2017_ga\n",
    "gc.collect()\n",
    "ga_all.to_csv('ga_all.csv')"
   ]
  },
  {
   "cell_type": "code",
   "execution_count": 7,
   "metadata": {
    "ExecuteTime": {
     "end_time": "2017-09-11T16:46:14.308738Z",
     "start_time": "2017-09-11T16:41:08.256852Z"
    },
    "collapsed": true
   },
   "outputs": [],
   "source": [
    "_2017_ga.to_csv(CLEAN_DIR + '2017_ga_data.csv', index=False)"
   ]
  },
  {
   "cell_type": "markdown",
   "metadata": {},
   "source": [
    "#### Merge `view_df` with `df_all` \n",
    "Goal: to join brands with views of their configs.\n",
    "\n",
    "The merging is expected to create NAs in brand names. \n",
    "\n",
    "__Reason:__ some configs from 2016 may not be kept in product table anymore (?)"
   ]
  },
  {
   "cell_type": "code",
   "execution_count": null,
   "metadata": {
    "collapsed": true
   },
   "outputs": [],
   "source": [
    "ga_df.rename(columns={'id_catalog_config': 'id_config_product', \n",
    "                      'id_catalog_simple': 'id_simple_product'}, \n",
    "              inplace=True)\n",
    "\n",
    "view_df = ga_df.groupby(['id_config_product', 'days']).agg({'views': sum, 'impressions': sum})\n",
    "\n",
    "view_df = view_df.reset_index().dropna().rename(columns={'days': 'date'})"
   ]
  },
  {
   "cell_type": "code",
   "execution_count": null,
   "metadata": {
    "collapsed": true
   },
   "outputs": [],
   "source": [
    "cols = ['id_config_product', 'brand_name', 'brand_type', 'brand_identifier']\n",
    "tmp = df_all[cols].drop_duplicates()\n",
    "view_df = pd.merge(view_df, tmp, how='left')"
   ]
  },
  {
   "cell_type": "code",
   "execution_count": null,
   "metadata": {
    "collapsed": true
   },
   "outputs": [],
   "source": [
    "view_df.head()"
   ]
  },
  {
   "cell_type": "markdown",
   "metadata": {},
   "source": [
    "#### Daily views of brands"
   ]
  },
  {
   "cell_type": "code",
   "execution_count": null,
   "metadata": {
    "code_folding": [],
    "collapsed": true
   },
   "outputs": [],
   "source": [
    "# mean views\n",
    "mean_views = view_df.groupby(['brand_name', 'date']).agg({'views': np.mean, 'impressions': np.mean})\n",
    "mean_views = mean_views.rename(columns={'views': 'mean_views', 'impressions': 'mean_impressions'}).reset_index()\n",
    "\n",
    "# total views\n",
    "daily_brand_views = view_df.groupby(['brand_name', 'brand_type', 'date']).agg({'views': sum, 'impressions': sum})\n",
    "daily_brand_views = daily_brand_views.rename(columns={'views': 'total_views', 'impressions': 'total_impressions'}).reset_index()\n",
    "daily_brand_views.sort_values('total_views', ascending=False, inplace=True)\n",
    "\n",
    "# merge total views and mean views\n",
    "daily_brand_views = daily_brand_views.merge(mean_views)"
   ]
  },
  {
   "cell_type": "code",
   "execution_count": null,
   "metadata": {
    "code_folding": [
     0
    ],
    "collapsed": true
   },
   "outputs": [],
   "source": [
    "# view distribution\n",
    "daily_brand_views.total_views.describe()"
   ]
  },
  {
   "cell_type": "code",
   "execution_count": null,
   "metadata": {
    "collapsed": true
   },
   "outputs": [],
   "source": [
    "local_brands_view = daily_brand_views.query('brand_type == \"local_branded\"') \n",
    "region_brands_view = daily_brand_views.query('brand_type == \"regional_branded\"')"
   ]
  },
  {
   "cell_type": "code",
   "execution_count": null,
   "metadata": {
    "collapsed": true
   },
   "outputs": [],
   "source": [
    "region_brands_view.sort_values('total_views', ascending=False).head()"
   ]
  },
  {
   "cell_type": "code",
   "execution_count": null,
   "metadata": {
    "collapsed": true
   },
   "outputs": [],
   "source": [
    "region_brands_view.sort_values('mean_views', ascending=False).head()"
   ]
  },
  {
   "cell_type": "code",
   "execution_count": null,
   "metadata": {
    "collapsed": true
   },
   "outputs": [],
   "source": [
    "daily_brand_views.to_csv(CLEAN_DIR + '2016_daily_brand_views.csv', index=False)"
   ]
  },
  {
   "cell_type": "markdown",
   "metadata": {},
   "source": [
    "##### Total views by months/season\n",
    "We want to take into account seasonal factor of fashion products by looking at brand views in diff seasons. \n",
    "\n",
    "+ Monthly views\n",
    "+ Season views\n",
    "\n",
    "__Note:__ Should views be normalized by no. of days?"
   ]
  },
  {
   "cell_type": "code",
   "execution_count": null,
   "metadata": {
    "collapsed": true
   },
   "outputs": [],
   "source": [
    "daily_brand_views['month'] = daily_brand_views['date'].apply(lambda d: d.month)"
   ]
  },
  {
   "cell_type": "code",
   "execution_count": null,
   "metadata": {
    "collapsed": true
   },
   "outputs": [],
   "source": [
    "monthly_views = daily_brand_views.groupby(['brand_name', 'brand_type', 'month']).agg({'total_views': sum, 'total_impressions': sum})\n",
    "monthly_views = monthly_views.reset_index()"
   ]
  },
  {
   "cell_type": "code",
   "execution_count": null,
   "metadata": {
    "collapsed": true
   },
   "outputs": [],
   "source": [
    "monthly_views.total_views.describe()"
   ]
  },
  {
   "cell_type": "markdown",
   "metadata": {},
   "source": [
    "#### Dynamics of brand views "
   ]
  },
  {
   "cell_type": "code",
   "execution_count": null,
   "metadata": {
    "code_folding": [
     0
    ],
    "collapsed": true
   },
   "outputs": [],
   "source": [
    "def view_ts(brand, view_data):\n",
    "    sub_df = view_data.query('brand_name == \"{}\"'.format(brand.lower()))\n",
    "    return sub_df.sort_values('date')"
   ]
  },
  {
   "cell_type": "code",
   "execution_count": null,
   "metadata": {
    "code_folding": [
     0
    ],
    "collapsed": true
   },
   "outputs": [],
   "source": [
    "def viz_view_ds(view1_df, view2_df, agg_type='total'):\n",
    "    fig, axes = pl.subplots(1, 2, figsize=(12, 5))\n",
    "    col = ['{}_views'.format(agg_type)]\n",
    "    ylab = ' '.join([agg_type.title(), 'views'])\n",
    "    \n",
    "    pl.subplot(121)\n",
    "    pl.plot(view1_df[0].date, view1_df[0][col] , 'r', \n",
    "            view1_df[1].date, view1_df[1][col], 'b',\n",
    "           view1_df[2].date, view1_df[2][col], 'm')\n",
    "\n",
    "    pl.legend(local_top3)\n",
    "    pl.xlabel('Date'); pl.ylabel(ylab)\n",
    "    pl.title('Local brands')\n",
    "    pl.grid(True, linestyle='--')\n",
    "\n",
    "    pl.subplots_adjust(wspace=.4)\n",
    "    pl.subplot(122)\n",
    "    pl.plot(view2_df[0].date, view2_df[0][col], 'r', \n",
    "            view2_df[1].date, view2_df[1][col], 'b',\n",
    "           view2_df[2].date, view2_df[2][col], 'm')\n",
    "    \n",
    "    pl.legend(region_top3)\n",
    "    pl.xlabel('Date'); pl.ylabel(ylab)\n",
    "    pl.title('Region brands')\n",
    "    pl.grid(True, linestyle='--')\n",
    "\n",
    "    fig.autofmt_xdate()\n",
    "    return fig"
   ]
  },
  {
   "cell_type": "markdown",
   "metadata": {},
   "source": [
    "+ Local vs. regional brands:"
   ]
  },
  {
   "cell_type": "code",
   "execution_count": null,
   "metadata": {
    "collapsed": true
   },
   "outputs": [],
   "source": [
    "local_brands_view = daily_brand_views.query('brand_type == \"local_branded\"') \n",
    "region_brands_view = daily_brand_views.query('brand_type == \"regional_branded\"')"
   ]
  },
  {
   "cell_type": "code",
   "execution_count": null,
   "metadata": {
    "collapsed": true
   },
   "outputs": [],
   "source": [
    "local_brands_view = local_brands_view.sort_values('total_views', ascending=False)\n",
    "local_brands_view.head()"
   ]
  },
  {
   "cell_type": "code",
   "execution_count": null,
   "metadata": {
    "collapsed": true
   },
   "outputs": [],
   "source": [
    "region_brands_view = region_brands_view.sort_values('total_views', ascending=False)\n",
    "region_brands_view.head(10)"
   ]
  },
  {
   "cell_type": "code",
   "execution_count": null,
   "metadata": {
    "collapsed": true
   },
   "outputs": [],
   "source": [
    "local_brands = local_brands_view.brand_name.unique()\n",
    "local_top3 = local_brands[:3]\n",
    "print(local_top3)"
   ]
  },
  {
   "cell_type": "code",
   "execution_count": null,
   "metadata": {
    "collapsed": true
   },
   "outputs": [],
   "source": [
    "region_brands = region_brands_view.brand_name.unique()\n",
    "region_top3 = region_brands[:3]\n",
    "print(region_top3)"
   ]
  },
  {
   "cell_type": "code",
   "execution_count": null,
   "metadata": {
    "collapsed": true
   },
   "outputs": [],
   "source": [
    "local_top_views = [view_ts(b, local_brands_view) for b in local_top3]\n",
    "region_top_views = [view_ts(b, region_brands_view) for b in region_top3]"
   ]
  },
  {
   "cell_type": "code",
   "execution_count": null,
   "metadata": {
    "collapsed": true,
    "scrolled": false
   },
   "outputs": [],
   "source": [
    "fig = viz_view_ds(local_top_views, region_top_views)\n",
    "pl.savefig(CLEAN_DIR + 'total_view.pdf')\n",
    "pl.show(); pl.close()"
   ]
  },
  {
   "cell_type": "code",
   "execution_count": null,
   "metadata": {
    "collapsed": true
   },
   "outputs": [],
   "source": [
    "fig = viz_view_ds(local_top_views, region_top_views, agg_type='mean')\n",
    "pl.savefig(CLEAN_DIR + 'mean_view.pdf')\n",
    "pl.show(); pl.close()"
   ]
  },
  {
   "cell_type": "code",
   "execution_count": null,
   "metadata": {
    "collapsed": true,
    "scrolled": true
   },
   "outputs": [],
   "source": [
    "%%time\n",
    "view_df.to_csv(CLEAN_DIR + '2016_daily_config_views.csv', index=False)"
   ]
  },
  {
   "cell_type": "markdown",
   "metadata": {},
   "source": [
    "### Via sell through rate (Alyona)\n",
    "Given a config $cf$ and a date $d$, its sell through rate $ r(cf, d) $ is defined as the following ratio:\n",
    "    $$ r(cf, d) = \\dfrac{n(cf, d)}{s_{cf, 0}} $$\n",
    "where $n(cf, d)$ is the no. of $cf$'s units sold up to date $d$ and $s_{cf, 0}$ is initial stock of $cf$. Both $n(cf, d)$ and $s_{cf, 0}$ should be summed over all simples of the config."
   ]
  },
  {
   "cell_type": "markdown",
   "metadata": {},
   "source": [
    "Issue: there is some mismatch between sales and stock data. It seems due to one day diff between ordered and snapshot dates."
   ]
  },
  {
   "cell_type": "markdown",
   "metadata": {},
   "source": [
    "+ Initial stocks for SKUs: get from product snapshot table."
   ]
  },
  {
   "cell_type": "code",
   "execution_count": null,
   "metadata": {
    "code_folding": [
     0
    ],
    "collapsed": true
   },
   "outputs": [],
   "source": [
    "# check if each config is activated only once\n",
    "tmp = df_all.groupby(keys + ['product_name']).agg({'activated_at': 'nunique'})\n",
    "tmp = tmp.rename(columns={'activated_at': 'n_activate'}).reset_index()\n",
    "all(tmp.n_activate == 1)"
   ]
  },
  {
   "cell_type": "code",
   "execution_count": null,
   "metadata": {
    "code_folding": [
     0
    ],
    "collapsed": true
   },
   "outputs": [],
   "source": [
    "# get activation date\n",
    "by_config = df_all.groupby(keys + ['product_name']).agg({'activated_at': np.unique})\n",
    "by_config.reset_index(inplace=True)\n",
    "by_config.sort_values('id_config_product', inplace=True)"
   ]
  },
  {
   "cell_type": "code",
   "execution_count": null,
   "metadata": {
    "code_folding": [
     0
    ],
    "collapsed": true
   },
   "outputs": [],
   "source": [
    "# Sell thru rate until end of 2016\n"
   ]
  },
  {
   "cell_type": "markdown",
   "metadata": {
    "heading_collapsed": true
   },
   "source": [
    "# Price-based features\n",
    "These include:\n",
    "+ Price of config\n",
    "+ Discount of the price from RRP (in percentage, i.e., (black_price - red_price)/black_price).\n",
    "\n",
    "Config prices are available from product snapshots. However, we do not work directly with the whole snapshot table as it is too large. Instead we extract data for each group of configs. After querying prices, we only need to compute discount."
   ]
  },
  {
   "cell_type": "markdown",
   "metadata": {
    "hidden": true
   },
   "source": [
    "First, we check which price data are currently available. We can see below that there are 4 price attributes: _permanent_markdown_price, price, special_price_ and _current_price_. Double-check shows that _price_ is black price and _current_price_ is red price. So we can compute the discount from them."
   ]
  },
  {
   "cell_type": "code",
   "execution_count": 56,
   "metadata": {
    "ExecuteTime": {
     "end_time": "2017-08-17T17:27:03.712174Z",
     "start_time": "2017-08-17T17:27:03.708311Z"
    },
    "hidden": true
   },
   "outputs": [
    {
     "data": {
      "text/plain": [
       "['fk_original_price_band',\n",
       " 'fk_current_price_band',\n",
       " 'permanent_markdown_price',\n",
       " 'price',\n",
       " 'special_price',\n",
       " 'current_price']"
      ]
     },
     "execution_count": 56,
     "metadata": {},
     "output_type": "execute_result"
    }
   ],
   "source": [
    "price_cols = [c for c in g1_df.columns if 'price' in c]\n",
    "price_cols"
   ]
  },
  {
   "cell_type": "code",
   "execution_count": 103,
   "metadata": {
    "ExecuteTime": {
     "end_time": "2017-08-17T22:45:11.438729Z",
     "start_time": "2017-08-17T22:45:10.748456Z"
    },
    "code_folding": [],
    "hidden": true
   },
   "outputs": [
    {
     "data": {
      "text/plain": [
       "(747178, 41)"
      ]
     },
     "execution_count": 103,
     "metadata": {},
     "output_type": "execute_result"
    }
   ],
   "source": [
    "# merge certain attribs to group data\n",
    "cols = ['fk_simple_product', 'product_name', 'brand_name', 'season', 'gender', 'sub_cat', 'color']\n",
    "g1_df = pd.merge(g1_df, df_all[cols].drop_duplicates(), how='left')\n",
    "g1_df.shape"
   ]
  },
  {
   "cell_type": "code",
   "execution_count": 58,
   "metadata": {
    "ExecuteTime": {
     "end_time": "2017-08-17T17:50:27.765048Z",
     "start_time": "2017-08-17T17:50:27.761156Z"
    },
    "collapsed": true,
    "hidden": true
   },
   "outputs": [
    {
     "data": {
      "text/plain": [
       "Index(['fk_simple_product', 'fx_rate', 'fk_original_price_band',\n",
       "       'fk_markdown_band', 'fk_current_price_band', 'snapshot_date',\n",
       "       'inventory_value', 'boost', 'brand_status', 'cost', 'is_visible',\n",
       "       'stock', 'permanent_markdown_from_date', 'permanent_markdown_price',\n",
       "       'price', 'sku_config_status', 'sku_simple_status', 'supplier_status',\n",
       "       'special_cogs', 'special_price', 'special_from_date', 'special_to_date',\n",
       "       'id_catalog_config', 'sku_simple', 'id_supplier', 'current_price',\n",
       "       'catalog_type', 'shop_type', 'cost_supplier', 'online_aging',\n",
       "       'sku_config', 'intake_margin', 'total_stock', 'venture_code',\n",
       "       'discount'],\n",
       "      dtype='object')"
      ]
     },
     "execution_count": 58,
     "metadata": {},
     "output_type": "execute_result"
    }
   ],
   "source": [
    "g1_df.columns"
   ]
  },
  {
   "cell_type": "markdown",
   "metadata": {
    "hidden": true
   },
   "source": [
    "## Discount from RRP\n",
    "In percentage"
   ]
  },
  {
   "cell_type": "code",
   "execution_count": 57,
   "metadata": {
    "ExecuteTime": {
     "end_time": "2017-08-17T17:39:59.266124Z",
     "start_time": "2017-08-17T17:39:59.226813Z"
    },
    "collapsed": true,
    "hidden": true
   },
   "outputs": [],
   "source": [
    "g1_df['discount'] = 100*(g1_df.price - g1_df.current_price)/g1_df.price"
   ]
  },
  {
   "cell_type": "code",
   "execution_count": 89,
   "metadata": {
    "ExecuteTime": {
     "end_time": "2017-08-17T18:20:00.642800Z",
     "start_time": "2017-08-17T18:20:00.141491Z"
    },
    "collapsed": true,
    "hidden": true
   },
   "outputs": [],
   "source": [
    "g1_df = g1_df.sort_values(['sku_config', 'snapshot_date'])"
   ]
  },
  {
   "cell_type": "markdown",
   "metadata": {
    "hidden": true
   },
   "source": [
    "### Analyze discount of some brands for sanity check"
   ]
  },
  {
   "cell_type": "markdown",
   "metadata": {
    "hidden": true
   },
   "source": [
    "+ Mango"
   ]
  },
  {
   "cell_type": "code",
   "execution_count": 86,
   "metadata": {
    "ExecuteTime": {
     "end_time": "2017-08-17T18:15:48.679672Z",
     "start_time": "2017-08-17T18:15:48.644609Z"
    },
    "collapsed": true,
    "hidden": true
   },
   "outputs": [
    {
     "data": {
      "text/plain": [
       "array(['MA022AA15LNOSG', 'MA022AA19LBGSG', 'MA022AA50JYVSG',\n",
       "       'MA022AA52HVBSG', 'MA022AA53HVASG'], dtype=object)"
      ]
     },
     "execution_count": 86,
     "metadata": {},
     "output_type": "execute_result"
    }
   ],
   "source": [
    "mango_cf = g1_df.query('brand_name == \"mango\"').sku_config.unique()\n",
    "mango_cf[:5]"
   ]
  },
  {
   "cell_type": "code",
   "execution_count": 82,
   "metadata": {
    "ExecuteTime": {
     "end_time": "2017-08-17T18:12:32.977454Z",
     "start_time": "2017-08-17T18:12:32.704133Z"
    },
    "collapsed": true,
    "hidden": true
   },
   "outputs": [
    {
     "data": {
      "text/plain": [
       "<matplotlib.figure.Figure at 0x1153d6c18>"
      ]
     },
     "metadata": {},
     "output_type": "display_data"
    },
    {
     "data": {
      "image/png": "[encoded data removed]",
      "text/plain": [
       "<matplotlib.figure.Figure at 0x11590cd68>"
      ]
     },
     "metadata": {},
     "output_type": "display_data"
    }
   ],
   "source": [
    "viz_discount_ts(sku_config='MA022AA15LNOSG', price_df=g1_df, plot_dir=CLEAN_DIR)"
   ]
  },
  {
   "cell_type": "code",
   "execution_count": 83,
   "metadata": {
    "ExecuteTime": {
     "end_time": "2017-08-17T18:13:26.777577Z",
     "start_time": "2017-08-17T18:13:26.506649Z"
    },
    "collapsed": true,
    "hidden": true
   },
   "outputs": [
    {
     "data": {
      "text/plain": [
       "<matplotlib.figure.Figure at 0x1154d84a8>"
      ]
     },
     "metadata": {},
     "output_type": "display_data"
    },
    {
     "data": {
      "image/png": "[encoded data removed]",
      "text/plain": [
       "<matplotlib.figure.Figure at 0x1147ba470>"
      ]
     },
     "metadata": {},
     "output_type": "display_data"
    }
   ],
   "source": [
    "viz_discount_ts(sku_config='MA022AA19LBGSG', price_df=g1_df, plot_dir=CLEAN_DIR)"
   ]
  },
  {
   "cell_type": "code",
   "execution_count": 84,
   "metadata": {
    "ExecuteTime": {
     "end_time": "2017-08-17T18:14:39.526763Z",
     "start_time": "2017-08-17T18:14:38.658306Z"
    },
    "collapsed": true,
    "hidden": true
   },
   "outputs": [
    {
     "data": {
      "text/plain": [
       "<matplotlib.figure.Figure at 0x11598fe80>"
      ]
     },
     "metadata": {},
     "output_type": "display_data"
    },
    {
     "data": {
      "image/png": "[encoded data removed]",
      "text/plain": [
       "<matplotlib.figure.Figure at 0x114b22a20>"
      ]
     },
     "metadata": {},
     "output_type": "display_data"
    }
   ],
   "source": [
    "viz_discount_ts(sku_config='MA022AA50JYVSG', price_df=g1_df, plot_dir=CLEAN_DIR)"
   ]
  },
  {
   "cell_type": "code",
   "execution_count": 90,
   "metadata": {
    "ExecuteTime": {
     "end_time": "2017-08-17T18:20:18.358057Z",
     "start_time": "2017-08-17T18:20:18.049686Z"
    },
    "collapsed": true,
    "hidden": true
   },
   "outputs": [
    {
     "data": {
      "image/png": "[encoded data removed]",
      "text/plain": [
       "<matplotlib.figure.Figure at 0x1147dfac8>"
      ]
     },
     "execution_count": 90,
     "metadata": {},
     "output_type": "execute_result"
    }
   ],
   "source": [
    "viz_discount_ts(sku_config='MA022AA52HVBSG', price_df=g1_df, plot_dir=CLEAN_DIR)"
   ]
  },
  {
   "cell_type": "code",
   "execution_count": null,
   "metadata": {
    "collapsed": true,
    "hidden": true
   },
   "outputs": [],
   "source": [
    "out_df = df_all"
   ]
  },
  {
   "cell_type": "code",
   "execution_count": null,
   "metadata": {
    "collapsed": true,
    "hidden": true,
    "scrolled": true
   },
   "outputs": [],
   "source": [
    "# get sub_sale from storage\n",
    "%store -r sub_sale"
   ]
  },
  {
   "cell_type": "code",
   "execution_count": null,
   "metadata": {
    "collapsed": true,
    "hidden": true
   },
   "outputs": [],
   "source": [
    "cols = ['id_simple_product', 'activated_at']\n",
    "active_df = sub_sale[cols].drop_duplicates()\n",
    "active_df.sort_values(cols, inplace=True)"
   ]
  },
  {
   "cell_type": "code",
   "execution_count": null,
   "metadata": {
    "collapsed": true,
    "hidden": true
   },
   "outputs": [],
   "source": [
    "active_df.head()"
   ]
  },
  {
   "cell_type": "code",
   "execution_count": null,
   "metadata": {
    "collapsed": true,
    "hidden": true
   },
   "outputs": [],
   "source": [
    "df_all = df_all.merge(active_df)\n",
    "print(df_all.shape)"
   ]
  },
  {
   "cell_type": "code",
   "execution_count": null,
   "metadata": {
    "collapsed": true,
    "hidden": true
   },
   "outputs": [],
   "source": [
    "df_all.to_csv(CLEAN_DIR + 'data_all.csv', index=False)"
   ]
  },
  {
   "cell_type": "code",
   "execution_count": null,
   "metadata": {
    "collapsed": true,
    "hidden": true
   },
   "outputs": [],
   "source": [
    "print(df_all.columns)"
   ]
  },
  {
   "cell_type": "code",
   "execution_count": null,
   "metadata": {
    "collapsed": true,
    "hidden": true
   },
   "outputs": [],
   "source": [
    "cols = ['id_config_product', 'product_name', 'activated_at', 'is_visible']\n",
    "non_visibles = df_all[df_all.is_visible == 0][cols]\n",
    "non_visibles.head()"
   ]
  },
  {
   "cell_type": "markdown",
   "metadata": {
    "hidden": true
   },
   "source": [
    "Mango discounts can go up to 70%."
   ]
  },
  {
   "cell_type": "markdown",
   "metadata": {
    "hidden": true
   },
   "source": [
    "+ Zalora"
   ]
  },
  {
   "cell_type": "code",
   "execution_count": 91,
   "metadata": {
    "ExecuteTime": {
     "end_time": "2017-08-17T18:24:19.267490Z",
     "start_time": "2017-08-17T18:24:19.204794Z"
    },
    "hidden": true
   },
   "outputs": [
    {
     "data": {
      "text/plain": [
       "array(['006FAAAAB5D8D2GS', '06FCAAA0C4CDF1GS', '15081AACDC617AGS'], dtype=object)"
      ]
     },
     "execution_count": 91,
     "metadata": {},
     "output_type": "execute_result"
    }
   ],
   "source": [
    "zalora_cf = g1_df.query('brand_name == \"zalora\"').sku_config.unique()\n",
    "zalora_cf[:3]"
   ]
  },
  {
   "cell_type": "code",
   "execution_count": 92,
   "metadata": {
    "ExecuteTime": {
     "end_time": "2017-08-17T18:24:35.433778Z",
     "start_time": "2017-08-17T18:24:35.099409Z"
    },
    "collapsed": true,
    "hidden": true
   },
   "outputs": [
    {
     "data": {
      "image/png": "[encoded data removed]",
      "text/plain": [
       "<matplotlib.figure.Figure at 0x1153dca20>"
      ]
     },
     "execution_count": 92,
     "metadata": {},
     "output_type": "execute_result"
    }
   ],
   "source": [
    "viz_discount_ts(sku_config='006FAAAAB5D8D2GS', price_df=g1_df, plot_dir=CLEAN_DIR)"
   ]
  },
  {
   "cell_type": "code",
   "execution_count": 93,
   "metadata": {
    "ExecuteTime": {
     "end_time": "2017-08-17T18:25:23.375066Z",
     "start_time": "2017-08-17T18:25:23.088300Z"
    },
    "collapsed": true,
    "hidden": true
   },
   "outputs": [
    {
     "data": {
      "image/png": "[encoded data removed]",
      "text/plain": [
       "<matplotlib.figure.Figure at 0x11596c160>"
      ]
     },
     "execution_count": 93,
     "metadata": {},
     "output_type": "execute_result"
    }
   ],
   "source": [
    "viz_discount_ts(sku_config='06FCAAA0C4CDF1GS', price_df=g1_df, plot_dir=CLEAN_DIR)"
   ]
  },
  {
   "cell_type": "code",
   "execution_count": 94,
   "metadata": {
    "ExecuteTime": {
     "end_time": "2017-08-17T18:25:23.375066Z",
     "start_time": "2017-08-17T18:25:23.088300Z"
    },
    "collapsed": true,
    "hidden": true
   },
   "outputs": [
    {
     "data": {
      "image/png": "[encoded data removed]",
      "text/plain": [
       "<matplotlib.figure.Figure at 0x114579240>"
      ]
     },
     "execution_count": 94,
     "metadata": {},
     "output_type": "execute_result"
    }
   ],
   "source": [
    "viz_discount_ts(sku_config='15081AACDC617AGS', price_df=g1_df, plot_dir=CLEAN_DIR)"
   ]
  },
  {
   "cell_type": "code",
   "execution_count": null,
   "metadata": {
    "collapsed": true,
    "hidden": true
   },
   "outputs": [],
   "source": []
  },
  {
   "cell_type": "markdown",
   "metadata": {},
   "source": [
    "# Competition-based features\n",
    "These include:\n",
    "+ Number of competitors\n",
    "+ Relative price against competitors"
   ]
  },
  {
   "cell_type": "markdown",
   "metadata": {
    "heading_collapsed": true
   },
   "source": [
    "## No. of competitors"
   ]
  },
  {
   "cell_type": "markdown",
   "metadata": {
    "hidden": true
   },
   "source": [
    "Given a config, its competitors are defined as other configs in the same group (determined by sub-categ, gender, season) which are __visible__. The number of competitors will change over time when configs _entering_ or _exiting from_ a group (i.e. becomes visible/invisible). Thus, for each visible config $cf$ in group $g$, we define its no. of competitors on date $d$ as:\n",
    "    $$ n_c(cf, d) = n_c := n_{viz}(g, d) - 1 $$\n",
    "where $n_{viz}(g, d)$ is the number of visible configs of group $g$ on date $d$."
   ]
  },
  {
   "cell_type": "code",
   "execution_count": 5,
   "metadata": {
    "ExecuteTime": {
     "end_time": "2017-08-16T17:56:41.473069Z",
     "start_time": "2017-08-16T17:56:41.468687Z"
    },
    "collapsed": true,
    "hidden": true
   },
   "outputs": [
    {
     "data": {
      "text/plain": [
       "Index(['id_simple_product', 'item_before_cancellation', 'item_cancelled',\n",
       "       'ordered_date', 'original_unit_price', 'unit_price', 'paid_price',\n",
       "       'wrapping_price', 'sales_at_full_price', 'is_sold', 'id_config_product',\n",
       "       'product_name', 'color', 'size_name', 'brand_type', 'brand_status',\n",
       "       'brand_name', 'brand_department', 'brand_tier', 'brand_identifier',\n",
       "       'sub_cat', 'is_visible', 'discount', 'season', 'gender',\n",
       "       'activated_at'],\n",
       "      dtype='object')"
      ]
     },
     "execution_count": 5,
     "metadata": {},
     "output_type": "execute_result"
    }
   ],
   "source": [
    "df_all.columns"
   ]
  },
  {
   "cell_type": "code",
   "execution_count": 115,
   "metadata": {
    "ExecuteTime": {
     "end_time": "2017-08-17T23:38:22.477279Z",
     "start_time": "2017-08-17T23:38:22.470576Z"
    },
    "code_folding": [
     1,
     7
    ],
    "collapsed": true,
    "hidden": true
   },
   "outputs": [],
   "source": [
    "# no. of visible configs by day\n",
    "def cal_daily_visible(df):\n",
    "    res = df.query('is_visible == 1').groupby('snapshot_date').agg({'sku_config': 'nunique'})\n",
    "    res = res.rename(columns={'sku_config': 'n_visible'}).reset_index()\n",
    "    return res\n",
    "\n",
    "# plot dynamics of no. of visible configs\n",
    "def viz_n_visible(df, title=None):\n",
    "    fig = pl.figure()\n",
    "    pl.plot(df.snapshot_date, df.n_visible)\n",
    "    pl.xlabel('Date'); pl.ylabel('No. of (visible) configs')\n",
    "    pl.grid(True, linestyle='--')\n",
    "    if title: pl.title(title)\n",
    "    return fig"
   ]
  },
  {
   "cell_type": "code",
   "execution_count": 114,
   "metadata": {
    "ExecuteTime": {
     "end_time": "2017-08-17T23:37:52.362014Z",
     "start_time": "2017-08-17T23:37:52.063557Z"
    },
    "collapsed": true,
    "hidden": true
   },
   "outputs": [],
   "source": [
    "g1_df.snapshot_date = pd.to_datetime(g1_df.snapshot_date)"
   ]
  },
  {
   "cell_type": "code",
   "execution_count": 116,
   "metadata": {
    "ExecuteTime": {
     "end_time": "2017-08-17T23:38:25.019885Z",
     "start_time": "2017-08-17T23:38:24.745945Z"
    },
    "collapsed": true,
    "hidden": true
   },
   "outputs": [],
   "source": [
    "visible_df = cal_daily_visible(g1_df)\n",
    "# merge to populate n_visible to all configs\n",
    "g1_df = g1_df.merge(visible_df)\n",
    "g1_df['n_competitor'] = g1_df['n_visible'] - 1"
   ]
  },
  {
   "cell_type": "code",
   "execution_count": 30,
   "metadata": {
    "code_folding": [],
    "collapsed": true,
    "hidden": true
   },
   "outputs": [
    {
     "data": {
      "image/png": "[encoded data removed]",
      "text/plain": [
       "<matplotlib.figure.Figure at 0x111702f28>"
      ]
     },
     "metadata": {},
     "output_type": "display_data"
    }
   ],
   "source": [
    "# visualize dynamics of no. of configs in group 1\n",
    "g1_visible = cal_daily_visible(g1_df)\n",
    "gname = ' '.join([season, gender, sub_cat])\n",
    "fig = viz_n_visible(g1_visible, title='Group: {}'.format(gname.title()))\n",
    "pl.savefig(CLEAN_DIR + '{}.pdf'.format(gname.replace(' ', '_')))\n",
    "pl.show(); pl.close()"
   ]
  },
  {
   "cell_type": "markdown",
   "metadata": {},
   "source": [
    "## Relative price against competitors\n",
    "\n",
    "Given config $cf$ in group $G$, we define $cf$'s relative price on date $d$ against competing configs as the ratio between $cf$'s price and average of prices of configs in $G$.\n",
    "$$ rp(cf, G, d) = \\dfrac{p(cf, d)}{avg_{cf^\\prime \\in G} p(cf^\\prime, d)} $$"
   ]
  },
  {
   "cell_type": "markdown",
   "metadata": {},
   "source": [
    "+ Get the slice of __visible__ configs of group on date $d$ and calculate relative prices for those configs:"
   ]
  },
  {
   "cell_type": "code",
   "execution_count": 14,
   "metadata": {
    "ExecuteTime": {
     "end_time": "2017-08-21T14:15:35.316874Z",
     "start_time": "2017-08-21T14:15:35.130882Z"
    },
    "code_folding": [
     0,
     6,
     12
    ],
    "collapsed": true
   },
   "outputs": [],
   "source": [
    "def get_slice(group_df, d):\n",
    "    cols = ['sku_config', 'snapshot_date', 'price', 'current_price', 'special_price', 'cost_supplier']\n",
    "    sub_df = group_df.query('snapshot_date == \"{}\" and is_visible == 1'.format(d))[cols]\n",
    "    sub_df = sub_df.drop_duplicates() # dups due to simples of the same config\n",
    "    return sub_df\n",
    "\n",
    "def rel_prices_at_day(d, group_df):\n",
    "    sub_df = get_slice(group_df, d)\n",
    "    m = np.mean(sub_df['current_price'])\n",
    "    sub_df['rel_price'] = sub_df['current_price']/m\n",
    "    return sub_df\n",
    "\n",
    "def cal_rel_prices(group_df):\n",
    "    days = group_df.snapshot_date.unique()\n",
    "    print('n_day: {}'.format(len(days)))\n",
    "    frames = [rel_prices_at_day(d, group_df) for d in days]\n",
    "\n",
    "    res = pd.concat(frames)\n",
    "    res.snapshot_date = pd.to_datetime(res.snapshot_date)\n",
    "    res.sort_values('rel_price', ascending=False, inplace=True)\n",
    "    return res"
   ]
  },
  {
   "cell_type": "code",
   "execution_count": 17,
   "metadata": {
    "ExecuteTime": {
     "end_time": "2017-08-21T14:15:43.950253Z",
     "start_time": "2017-08-21T14:15:35.332378Z"
    }
   },
   "outputs": [
    {
     "name": "stdout",
     "output_type": "stream",
     "text": [
      "n_day: 214\n"
     ]
    }
   ],
   "source": [
    "# compute rel prices\n",
    "price_df = cal_rel_prices(g1_df)"
   ]
  },
  {
   "cell_type": "code",
   "execution_count": 18,
   "metadata": {
    "ExecuteTime": {
     "end_time": "2017-08-21T14:15:43.965003Z",
     "start_time": "2017-08-21T14:15:43.951933Z"
    },
    "code_folding": []
   },
   "outputs": [
    {
     "data": {
      "text/plain": [
       "array(['MI665AA52VPZMY', 'RE354AA36SAPMY', 'WN352AA60RZRMY'], dtype=object)"
      ]
     },
     "execution_count": 18,
     "metadata": {},
     "output_type": "execute_result"
    }
   ],
   "source": [
    "price_df.sort_values('rel_price', ascending=False, inplace=True)\n",
    "price_df.sku_config.unique()[:3]"
   ]
  },
  {
   "cell_type": "code",
   "execution_count": 19,
   "metadata": {
    "ExecuteTime": {
     "end_time": "2017-08-21T14:15:43.977533Z",
     "start_time": "2017-08-21T14:15:43.966420Z"
    }
   },
   "outputs": [
    {
     "data": {
      "text/html": [
       "<div>\n",
       "<style>\n",
       "    .dataframe thead tr:only-child th {\n",
       "        text-align: right;\n",
       "    }\n",
       "\n",
       "    .dataframe thead th {\n",
       "        text-align: left;\n",
       "    }\n",
       "\n",
       "    .dataframe tbody tr th {\n",
       "        vertical-align: top;\n",
       "    }\n",
       "</style>\n",
       "<table border=\"1\" class=\"dataframe\">\n",
       "  <thead>\n",
       "    <tr style=\"text-align: right;\">\n",
       "      <th></th>\n",
       "      <th>sku_config</th>\n",
       "      <th>snapshot_date</th>\n",
       "      <th>price</th>\n",
       "      <th>current_price</th>\n",
       "      <th>special_price</th>\n",
       "      <th>cost_supplier</th>\n",
       "      <th>rel_price</th>\n",
       "    </tr>\n",
       "  </thead>\n",
       "  <tbody>\n",
       "    <tr>\n",
       "      <th>556547</th>\n",
       "      <td>MI665AA52VPZMY</td>\n",
       "      <td>2016-10-14</td>\n",
       "      <td>259.0</td>\n",
       "      <td>259.0</td>\n",
       "      <td>NaN</td>\n",
       "      <td>406.98</td>\n",
       "      <td>5.415610</td>\n",
       "    </tr>\n",
       "    <tr>\n",
       "      <th>556546</th>\n",
       "      <td>MI665AA52VPZMY</td>\n",
       "      <td>2016-10-13</td>\n",
       "      <td>259.0</td>\n",
       "      <td>259.0</td>\n",
       "      <td>NaN</td>\n",
       "      <td>406.98</td>\n",
       "      <td>5.394779</td>\n",
       "    </tr>\n",
       "    <tr>\n",
       "      <th>556548</th>\n",
       "      <td>MI665AA52VPZMY</td>\n",
       "      <td>2016-10-15</td>\n",
       "      <td>259.0</td>\n",
       "      <td>259.0</td>\n",
       "      <td>NaN</td>\n",
       "      <td>406.98</td>\n",
       "      <td>5.374714</td>\n",
       "    </tr>\n",
       "    <tr>\n",
       "      <th>556476</th>\n",
       "      <td>MI665AA52VPZMY</td>\n",
       "      <td>2016-08-04</td>\n",
       "      <td>259.0</td>\n",
       "      <td>259.0</td>\n",
       "      <td>NaN</td>\n",
       "      <td>406.98</td>\n",
       "      <td>5.343467</td>\n",
       "    </tr>\n",
       "    <tr>\n",
       "      <th>556477</th>\n",
       "      <td>MI665AA52VPZMY</td>\n",
       "      <td>2016-08-05</td>\n",
       "      <td>259.0</td>\n",
       "      <td>259.0</td>\n",
       "      <td>NaN</td>\n",
       "      <td>406.98</td>\n",
       "      <td>5.341059</td>\n",
       "    </tr>\n",
       "  </tbody>\n",
       "</table>\n",
       "</div>"
      ],
      "text/plain": [
       "            sku_config snapshot_date  price  current_price  special_price  \\\n",
       "556547  MI665AA52VPZMY    2016-10-14  259.0          259.0            NaN   \n",
       "556546  MI665AA52VPZMY    2016-10-13  259.0          259.0            NaN   \n",
       "556548  MI665AA52VPZMY    2016-10-15  259.0          259.0            NaN   \n",
       "556476  MI665AA52VPZMY    2016-08-04  259.0          259.0            NaN   \n",
       "556477  MI665AA52VPZMY    2016-08-05  259.0          259.0            NaN   \n",
       "\n",
       "        cost_supplier  rel_price  \n",
       "556547         406.98   5.415610  \n",
       "556546         406.98   5.394779  \n",
       "556548         406.98   5.374714  \n",
       "556476         406.98   5.343467  \n",
       "556477         406.98   5.341059  "
      ]
     },
     "execution_count": 19,
     "metadata": {},
     "output_type": "execute_result"
    }
   ],
   "source": [
    "price_df.head()"
   ]
  },
  {
   "cell_type": "markdown",
   "metadata": {
    "heading_collapsed": true
   },
   "source": [
    "### Visualize dynamics of relative price"
   ]
  },
  {
   "cell_type": "code",
   "execution_count": 20,
   "metadata": {
    "ExecuteTime": {
     "end_time": "2017-08-21T14:17:24.825877Z",
     "start_time": "2017-08-21T14:17:24.823168Z"
    },
    "code_folding": [
     0
    ],
    "collapsed": true,
    "hidden": true
   },
   "outputs": [],
   "source": [
    "def grid_on():\n",
    "    pl.grid(True, linestyle='--')"
   ]
  },
  {
   "cell_type": "code",
   "execution_count": 23,
   "metadata": {
    "ExecuteTime": {
     "end_time": "2017-08-21T14:18:08.333962Z",
     "start_time": "2017-08-21T14:18:08.328732Z"
    },
    "code_folding": [
     0
    ],
    "collapsed": true,
    "hidden": true
   },
   "outputs": [],
   "source": [
    "def viz_rel_prices(cf, price_df):\n",
    "    sub_df = price_df.query('sku_config == \"{}\"'.format(cf)).sort_values('snapshot_date')\n",
    "    fig = pl.figure()\n",
    "    pl.plot(sub_df.snapshot_date, sub_df.rel_price)\n",
    "    pl.xlabel('Date'); pl.ylabel('Relative price against competitors')\n",
    "    pl.title('SKU config: {}'.format(cf))\n",
    "    grid_on()\n",
    "    pl.savefig(CLEAN_DIR + 'rel_price_{}.pdf'.format(cf))\n",
    "    return fig"
   ]
  },
  {
   "cell_type": "code",
   "execution_count": 25,
   "metadata": {
    "ExecuteTime": {
     "end_time": "2017-08-21T14:20:08.618680Z",
     "start_time": "2017-08-21T14:20:08.193013Z"
    },
    "collapsed": true,
    "hidden": true
   },
   "outputs": [
    {
     "data": {
      "image/png": "[encoded data removed]",
      "text/plain": [
       "<matplotlib.figure.Figure at 0x141d88eb8>"
      ]
     },
     "execution_count": 25,
     "metadata": {},
     "output_type": "execute_result"
    }
   ],
   "source": [
    "viz_rel_prices(cf='MI665AA52VPZMY', price_df=price_df)"
   ]
  },
  {
   "cell_type": "code",
   "execution_count": 27,
   "metadata": {
    "ExecuteTime": {
     "end_time": "2017-08-21T14:20:36.318198Z",
     "start_time": "2017-08-21T14:20:35.717847Z"
    },
    "collapsed": true,
    "hidden": true
   },
   "outputs": [
    {
     "data": {
      "image/png": "[encoded data removed]",
      "text/plain": [
       "<matplotlib.figure.Figure at 0x1245c7e48>"
      ]
     },
     "execution_count": 27,
     "metadata": {},
     "output_type": "execute_result"
    }
   ],
   "source": [
    "viz_rel_prices(cf='WA056AA32EDNSG', price_df=price_df)"
   ]
  },
  {
   "cell_type": "code",
   "execution_count": 28,
   "metadata": {
    "ExecuteTime": {
     "end_time": "2017-08-21T14:20:50.003432Z",
     "start_time": "2017-08-21T14:20:49.753993Z"
    },
    "collapsed": true,
    "hidden": true
   },
   "outputs": [
    {
     "data": {
      "image/png": "[encoded data removed]",
      "text/plain": [
       "<matplotlib.figure.Figure at 0x117daf160>"
      ]
     },
     "execution_count": 28,
     "metadata": {},
     "output_type": "execute_result"
    }
   ],
   "source": [
    "viz_rel_prices(cf='WA653AA82CERMY', price_df=price_df)"
   ]
  },
  {
   "cell_type": "markdown",
   "metadata": {
    "heading_collapsed": true
   },
   "source": [
    "# Time features"
   ]
  },
  {
   "cell_type": "markdown",
   "metadata": {
    "hidden": true
   },
   "source": [
    "These include:\n",
    "+ Time to end of season (EoS)\n",
    "+ out_lifecycle: signals whether a product is kept in inventory for too long, i.e., after its lifecycle\n",
    "+ is_weekend: indicates whether a date is weekend or weekday\n",
    "+ is_holiday: indicates whether a date is a holiday\n",
    "+ in_grand_sale: indicates whether a date is within grand-sale season (specific to SG)\n",
    "\n",
    "These features are currently not available yet. The first two are assigned to Alyona but waiting for hard-coded EoS date (from buying team)."
   ]
  },
  {
   "cell_type": "code",
   "execution_count": null,
   "metadata": {
    "collapsed": true,
    "hidden": true
   },
   "outputs": [],
   "source": []
  },
  {
   "cell_type": "markdown",
   "metadata": {},
   "source": [
    "# Build feature matrix\n",
    "\n",
    "We now combine all built features into a single feature matrix ready for training. As we are working at config level, each row of the matrix will be a config."
   ]
  },
  {
   "cell_type": "markdown",
   "metadata": {},
   "source": [
    "## Load individual feats"
   ]
  },
  {
   "cell_type": "code",
   "execution_count": 3,
   "metadata": {
    "ExecuteTime": {
     "end_time": "2017-09-13T10:17:48.524785Z",
     "start_time": "2017-09-13T10:17:44.559771Z"
    },
    "collapsed": true
   },
   "outputs": [],
   "source": [
    "prod_df = pd.read_csv(CLEAN_DIR + 'products.csv')\n",
    "color_pop = pd.read_csv(CLEAN_DIR + 'color_pop.csv')\n",
    "brand_pop = pd.read_csv(CLEAN_DIR + 'brand_pop.csv', parse_dates=['date'])"
   ]
  },
  {
   "cell_type": "code",
   "execution_count": null,
   "metadata": {
    "collapsed": true
   },
   "outputs": [],
   "source": [
    "print(min(brand_pop.date)); print(max(brand_pop.date))\n",
    "print(color_pop.shape); print(brand_pop.shape)"
   ]
  },
  {
   "cell_type": "code",
   "execution_count": 9,
   "metadata": {
    "ExecuteTime": {
     "end_time": "2017-09-13T10:24:02.167380Z",
     "start_time": "2017-09-13T10:24:02.151896Z"
    }
   },
   "outputs": [
    {
     "data": {
      "text/html": [
       "<div>\n",
       "<style>\n",
       "    .dataframe thead tr:only-child th {\n",
       "        text-align: right;\n",
       "    }\n",
       "\n",
       "    .dataframe thead th {\n",
       "        text-align: left;\n",
       "    }\n",
       "\n",
       "    .dataframe tbody tr th {\n",
       "        vertical-align: top;\n",
       "    }\n",
       "</style>\n",
       "<table border=\"1\" class=\"dataframe\">\n",
       "  <thead>\n",
       "    <tr style=\"text-align: right;\">\n",
       "      <th></th>\n",
       "      <th>color</th>\n",
       "      <th>sub_cat</th>\n",
       "      <th>n_sold</th>\n",
       "      <th>color_pop</th>\n",
       "    </tr>\n",
       "  </thead>\n",
       "  <tbody>\n",
       "    <tr>\n",
       "      <th>0</th>\n",
       "      <td></td>\n",
       "      <td>eyes</td>\n",
       "      <td>6</td>\n",
       "      <td>0.358852</td>\n",
       "    </tr>\n",
       "    <tr>\n",
       "      <th>1</th>\n",
       "      <td></td>\n",
       "      <td>lips</td>\n",
       "      <td>1</td>\n",
       "      <td>0.038432</td>\n",
       "    </tr>\n",
       "    <tr>\n",
       "      <th>2</th>\n",
       "      <td>gold</td>\n",
       "      <td>other accessories</td>\n",
       "      <td>0</td>\n",
       "      <td>0.000000</td>\n",
       "    </tr>\n",
       "    <tr>\n",
       "      <th>3</th>\n",
       "      <td>green, brown, beige</td>\n",
       "      <td>backpacks</td>\n",
       "      <td>3</td>\n",
       "      <td>0.053409</td>\n",
       "    </tr>\n",
       "    <tr>\n",
       "      <th>4</th>\n",
       "      <td>silver, black</td>\n",
       "      <td>other accessories</td>\n",
       "      <td>1</td>\n",
       "      <td>0.044703</td>\n",
       "    </tr>\n",
       "  </tbody>\n",
       "</table>\n",
       "</div>"
      ],
      "text/plain": [
       "                  color            sub_cat  n_sold  color_pop\n",
       "0                                     eyes       6   0.358852\n",
       "1                                     lips       1   0.038432\n",
       "2                  gold  other accessories       0   0.000000\n",
       "3   green, brown, beige          backpacks       3   0.053409\n",
       "4         silver, black  other accessories       1   0.044703"
      ]
     },
     "execution_count": 9,
     "metadata": {},
     "output_type": "execute_result"
    }
   ],
   "source": [
    "color_pop.sort_values('color').head()"
   ]
  },
  {
   "cell_type": "code",
   "execution_count": null,
   "metadata": {
    "collapsed": true
   },
   "outputs": [],
   "source": [
    "brand_pop.query('total_views != mean_views').head()"
   ]
  },
  {
   "cell_type": "markdown",
   "metadata": {},
   "source": [
    "## Merge all into a single DF"
   ]
  },
  {
   "cell_type": "code",
   "execution_count": 11,
   "metadata": {
    "ExecuteTime": {
     "end_time": "2017-09-13T10:25:04.367489Z",
     "start_time": "2017-09-13T10:24:59.558214Z"
    }
   },
   "outputs": [
    {
     "name": "stdout",
     "output_type": "stream",
     "text": [
      "# configs: 74613\n",
      "(33330330, 13)\n"
     ]
    }
   ],
   "source": [
    "# drop dups due to simples in the same config\n",
    "cols = ['sku_config', 'product_name', 'color', 'sub_cat', 'brand_name']\n",
    "config_df = prod_df[cols].drop_duplicates()\n",
    "print('# configs: {}'.format(config_df.shape[0]))\n",
    "\n",
    "glob_X = config_df.merge(color_pop, how='left').merge(brand_pop, how='left')\n",
    "print(glob_X.shape)"
   ]
  },
  {
   "cell_type": "code",
   "execution_count": 12,
   "metadata": {
    "ExecuteTime": {
     "end_time": "2017-09-13T10:25:07.025089Z",
     "start_time": "2017-09-13T10:25:04.741297Z"
    }
   },
   "outputs": [
    {
     "data": {
      "text/html": [
       "<div>\n",
       "<style>\n",
       "    .dataframe thead tr:only-child th {\n",
       "        text-align: right;\n",
       "    }\n",
       "\n",
       "    .dataframe thead th {\n",
       "        text-align: left;\n",
       "    }\n",
       "\n",
       "    .dataframe tbody tr th {\n",
       "        vertical-align: top;\n",
       "    }\n",
       "</style>\n",
       "<table border=\"1\" class=\"dataframe\">\n",
       "  <thead>\n",
       "    <tr style=\"text-align: right;\">\n",
       "      <th></th>\n",
       "      <th>sku_config</th>\n",
       "      <th>product_name</th>\n",
       "      <th>color</th>\n",
       "      <th>sub_cat</th>\n",
       "      <th>brand_name</th>\n",
       "      <th>color_pop</th>\n",
       "      <th>brand_type</th>\n",
       "      <th>date</th>\n",
       "      <th>total_views</th>\n",
       "      <th>total_impressions</th>\n",
       "      <th>mean_views</th>\n",
       "      <th>mean_impressions</th>\n",
       "    </tr>\n",
       "  </thead>\n",
       "  <tbody>\n",
       "    <tr>\n",
       "      <th>0</th>\n",
       "      <td>CO302SH58WHLSG</td>\n",
       "      <td>Chuck Taylor All Star Canvas Ox Unisex Sneakers</td>\n",
       "      <td>black</td>\n",
       "      <td>sneakers</td>\n",
       "      <td>Converse</td>\n",
       "      <td>14.330218</td>\n",
       "      <td>regional_branded</td>\n",
       "      <td>2016-01-01</td>\n",
       "      <td>102.0</td>\n",
       "      <td>4602.0</td>\n",
       "      <td>6.000000</td>\n",
       "      <td>270.705882</td>\n",
       "    </tr>\n",
       "    <tr>\n",
       "      <th>1</th>\n",
       "      <td>CO302SH58WHLSG</td>\n",
       "      <td>Chuck Taylor All Star Canvas Ox Unisex Sneakers</td>\n",
       "      <td>black</td>\n",
       "      <td>sneakers</td>\n",
       "      <td>Converse</td>\n",
       "      <td>14.330218</td>\n",
       "      <td>regional_branded</td>\n",
       "      <td>2016-01-02</td>\n",
       "      <td>142.0</td>\n",
       "      <td>5263.0</td>\n",
       "      <td>8.352941</td>\n",
       "      <td>309.588235</td>\n",
       "    </tr>\n",
       "    <tr>\n",
       "      <th>2</th>\n",
       "      <td>CO302SH58WHLSG</td>\n",
       "      <td>Chuck Taylor All Star Canvas Ox Unisex Sneakers</td>\n",
       "      <td>black</td>\n",
       "      <td>sneakers</td>\n",
       "      <td>Converse</td>\n",
       "      <td>14.330218</td>\n",
       "      <td>regional_branded</td>\n",
       "      <td>2016-01-03</td>\n",
       "      <td>191.0</td>\n",
       "      <td>5555.0</td>\n",
       "      <td>11.235294</td>\n",
       "      <td>326.764706</td>\n",
       "    </tr>\n",
       "    <tr>\n",
       "      <th>3</th>\n",
       "      <td>CO302SH58WHLSG</td>\n",
       "      <td>Chuck Taylor All Star Canvas Ox Unisex Sneakers</td>\n",
       "      <td>black</td>\n",
       "      <td>sneakers</td>\n",
       "      <td>Converse</td>\n",
       "      <td>14.330218</td>\n",
       "      <td>regional_branded</td>\n",
       "      <td>2016-01-04</td>\n",
       "      <td>128.0</td>\n",
       "      <td>4485.0</td>\n",
       "      <td>7.529412</td>\n",
       "      <td>263.823529</td>\n",
       "    </tr>\n",
       "    <tr>\n",
       "      <th>4</th>\n",
       "      <td>CO302SH58WHLSG</td>\n",
       "      <td>Chuck Taylor All Star Canvas Ox Unisex Sneakers</td>\n",
       "      <td>black</td>\n",
       "      <td>sneakers</td>\n",
       "      <td>Converse</td>\n",
       "      <td>14.330218</td>\n",
       "      <td>regional_branded</td>\n",
       "      <td>2016-01-05</td>\n",
       "      <td>133.0</td>\n",
       "      <td>4967.0</td>\n",
       "      <td>7.823529</td>\n",
       "      <td>292.176471</td>\n",
       "    </tr>\n",
       "  </tbody>\n",
       "</table>\n",
       "</div>"
      ],
      "text/plain": [
       "       sku_config                                     product_name  color  \\\n",
       "0  CO302SH58WHLSG  Chuck Taylor All Star Canvas Ox Unisex Sneakers  black   \n",
       "1  CO302SH58WHLSG  Chuck Taylor All Star Canvas Ox Unisex Sneakers  black   \n",
       "2  CO302SH58WHLSG  Chuck Taylor All Star Canvas Ox Unisex Sneakers  black   \n",
       "3  CO302SH58WHLSG  Chuck Taylor All Star Canvas Ox Unisex Sneakers  black   \n",
       "4  CO302SH58WHLSG  Chuck Taylor All Star Canvas Ox Unisex Sneakers  black   \n",
       "\n",
       "    sub_cat brand_name  color_pop        brand_type       date  total_views  \\\n",
       "0  sneakers   Converse  14.330218  regional_branded 2016-01-01        102.0   \n",
       "1  sneakers   Converse  14.330218  regional_branded 2016-01-02        142.0   \n",
       "2  sneakers   Converse  14.330218  regional_branded 2016-01-03        191.0   \n",
       "3  sneakers   Converse  14.330218  regional_branded 2016-01-04        128.0   \n",
       "4  sneakers   Converse  14.330218  regional_branded 2016-01-05        133.0   \n",
       "\n",
       "   total_impressions  mean_views  mean_impressions  \n",
       "0             4602.0    6.000000        270.705882  \n",
       "1             5263.0    8.352941        309.588235  \n",
       "2             5555.0   11.235294        326.764706  \n",
       "3             4485.0    7.529412        263.823529  \n",
       "4             4967.0    7.823529        292.176471  "
      ]
     },
     "execution_count": 12,
     "metadata": {},
     "output_type": "execute_result"
    }
   ],
   "source": [
    "del glob_X['n_sold']\n",
    "glob_X.head()"
   ]
  },
  {
   "cell_type": "code",
   "execution_count": 13,
   "metadata": {
    "ExecuteTime": {
     "end_time": "2017-09-13T10:25:58.820532Z",
     "start_time": "2017-09-13T10:25:58.662510Z"
    },
    "collapsed": true
   },
   "outputs": [],
   "source": [
    "glob_X['brand_pop'] = glob_X['total_views']"
   ]
  },
  {
   "cell_type": "code",
   "execution_count": 15,
   "metadata": {
    "ExecuteTime": {
     "end_time": "2017-09-13T10:31:23.065124Z",
     "start_time": "2017-09-13T10:30:53.952822Z"
    }
   },
   "outputs": [
    {
     "name": "stdout",
     "output_type": "stream",
     "text": [
      "(25162575, 13)\n"
     ]
    }
   ],
   "source": [
    "glob_X.dropna(inplace=True)\n",
    "print(glob_X.shape)"
   ]
  },
  {
   "cell_type": "code",
   "execution_count": 16,
   "metadata": {
    "ExecuteTime": {
     "end_time": "2017-09-13T10:39:05.676849Z",
     "start_time": "2017-09-13T10:32:37.225857Z"
    },
    "collapsed": true
   },
   "outputs": [],
   "source": [
    "glob_X.to_csv(CLEAN_DIR + 'glob_feat.csv', index=False)\n",
    "del glob_X"
   ]
  },
  {
   "cell_type": "code",
   "execution_count": null,
   "metadata": {
    "collapsed": true
   },
   "outputs": [],
   "source": [
    "# glob_X.rename(columns={'total_views': 'brand_total_views', 'mean_views': 'brand_mean_views'}, \n",
    "#               inplace=True)\n",
    "\n",
    "# cols = ['sku_config', 'product_name', 'color', 'color_pop', 'brand_name', 'brand_total_views', 'date']\n",
    "# glob_X[cols].head()"
   ]
  },
  {
   "cell_type": "markdown",
   "metadata": {},
   "source": [
    "## Prev code"
   ]
  },
  {
   "cell_type": "code",
   "execution_count": 129,
   "metadata": {
    "ExecuteTime": {
     "end_time": "2017-08-18T00:22:19.704218Z",
     "start_time": "2017-08-18T00:22:19.567606Z"
    },
    "collapsed": true
   },
   "outputs": [],
   "source": [
    "cols = ['sku_config', 'color_pop', 'snapshot_date', 'current_price', 'discount', 'n_competitor']\n",
    "X = g1_df.query('is_visible == 1')[cols].drop_duplicates()"
   ]
  },
  {
   "cell_type": "code",
   "execution_count": 133,
   "metadata": {
    "ExecuteTime": {
     "end_time": "2017-08-18T00:25:55.923854Z",
     "start_time": "2017-08-18T00:25:55.905319Z"
    },
    "collapsed": true
   },
   "outputs": [
    {
     "name": "stdout",
     "output_type": "stream",
     "text": [
      "# rows in X: 90273\n",
      "# configs in X: 1103\n"
     ]
    }
   ],
   "source": [
    "print('# rows in X: {}'.format(X.shape[0]))\n",
    "print('# configs in X: {}'.format(X.sku_config.nunique()))"
   ]
  },
  {
   "cell_type": "markdown",
   "metadata": {
    "heading_collapsed": true
   },
   "source": [
    "## Add relative price feat"
   ]
  },
  {
   "cell_type": "code",
   "execution_count": 134,
   "metadata": {
    "ExecuteTime": {
     "end_time": "2017-08-18T00:27:11.163716Z",
     "start_time": "2017-08-18T00:27:11.137589Z"
    },
    "code_folding": [],
    "collapsed": true,
    "hidden": true
   },
   "outputs": [
    {
     "name": "stdout",
     "output_type": "stream",
     "text": [
      "# rows in rel_price_df: 90290\n",
      "# configs in rel_price_df: 1103\n"
     ]
    }
   ],
   "source": [
    "print('# rows in price_df: {}'.format(price_df.shape[0]))\n",
    "print('# configs in price_df: {}'.format(price_df.sku_config.nunique()))"
   ]
  },
  {
   "cell_type": "markdown",
   "metadata": {
    "collapsed": true,
    "hidden": true
   },
   "source": [
    "X and price_df have the same number of configs, so why difference in # rows?"
   ]
  },
  {
   "cell_type": "code",
   "execution_count": 135,
   "metadata": {
    "ExecuteTime": {
     "end_time": "2017-08-18T00:28:32.409212Z",
     "start_time": "2017-08-18T00:28:32.404872Z"
    },
    "collapsed": true,
    "hidden": true
   },
   "outputs": [
    {
     "data": {
      "text/plain": [
       "Index(['sku_config', 'snapshot_date', 'price', 'current_price',\n",
       "       'special_price', 'cost_supplier', 'rel_price_in_percent'],\n",
       "      dtype='object')"
      ]
     },
     "execution_count": 135,
     "metadata": {},
     "output_type": "execute_result"
    }
   ],
   "source": [
    "price_df.columns"
   ]
  },
  {
   "cell_type": "code",
   "execution_count": 29,
   "metadata": {
    "ExecuteTime": {
     "end_time": "2017-08-21T14:21:57.772224Z",
     "start_time": "2017-08-21T14:21:57.722717Z"
    },
    "collapsed": true,
    "hidden": true
   },
   "outputs": [],
   "source": [
    "fixed_rel_prices = price_df[['sku_config', 'snapshot_date', 'rel_price']].drop_duplicates()"
   ]
  },
  {
   "cell_type": "code",
   "execution_count": 30,
   "metadata": {
    "ExecuteTime": {
     "end_time": "2017-08-21T14:21:58.599010Z",
     "start_time": "2017-08-21T14:21:57.773461Z"
    },
    "collapsed": true,
    "hidden": true
   },
   "outputs": [],
   "source": [
    "fixed_rel_prices.to_csv(CLEAN_DIR + 'rel_prices_g1.csv', index=False)"
   ]
  },
  {
   "cell_type": "code",
   "execution_count": 31,
   "metadata": {
    "ExecuteTime": {
     "end_time": "2017-08-21T14:27:21.355539Z",
     "start_time": "2017-08-21T14:27:21.278903Z"
    },
    "hidden": true,
    "scrolled": true
   },
   "outputs": [
    {
     "name": "stdout",
     "output_type": "stream",
     "text": [
      "<class 'pandas.core.frame.DataFrame'>\n",
      "RangeIndex: 11878 entries, 0 to 11877\n",
      "Data columns (total 11 columns):\n",
      "sku_config              11878 non-null object\n",
      "color_pop               11878 non-null float64\n",
      "snapshot_date           11878 non-null datetime64[ns]\n",
      "current_price           11878 non-null float64\n",
      "discount_from_rrp       11878 non-null float64\n",
      "n_competitor            11878 non-null int64\n",
      "rel_price_in_percent    11878 non-null float64\n",
      "brand_name              11878 non-null object\n",
      "brand_total_views       11878 non-null int64\n",
      "brand_mean_views        11878 non-null float64\n",
      "n_sold                  11878 non-null int64\n",
      "dtypes: datetime64[ns](1), float64(5), int64(3), object(2)\n",
      "memory usage: 1020.8+ KB\n"
     ]
    }
   ],
   "source": [
    "X = pd.read_csv(CLEAN_DIR + 'g1_feats.csv', parse_dates=['snapshot_date'])\n",
    "X.info()"
   ]
  },
  {
   "cell_type": "code",
   "execution_count": 36,
   "metadata": {
    "ExecuteTime": {
     "end_time": "2017-08-21T14:31:02.826471Z",
     "start_time": "2017-08-21T14:31:02.753148Z"
    },
    "code_folding": [
     0
    ],
    "collapsed": true,
    "hidden": true
   },
   "outputs": [],
   "source": [
    "# align both DFs to prep for appending\n",
    "keys = ['sku_config', 'snapshot_date']\n",
    "X.sort_values(keys, inplace=True)\n",
    "fixed_rel_prices.sort_values(keys, inplace=True)"
   ]
  },
  {
   "cell_type": "code",
   "execution_count": 35,
   "metadata": {
    "ExecuteTime": {
     "end_time": "2017-08-21T14:28:36.374903Z",
     "start_time": "2017-08-21T14:28:36.371460Z"
    },
    "hidden": true
   },
   "outputs": [
    {
     "name": "stdout",
     "output_type": "stream",
     "text": [
      "11878\n",
      "90273\n"
     ]
    }
   ],
   "source": [
    "print(X.shape[0])\n",
    "print(fixed_rel_prices.shape[0])"
   ]
  },
  {
   "cell_type": "code",
   "execution_count": 39,
   "metadata": {
    "ExecuteTime": {
     "end_time": "2017-08-21T14:33:42.878664Z",
     "start_time": "2017-08-21T14:33:42.818173Z"
    },
    "collapsed": true,
    "hidden": true
   },
   "outputs": [],
   "source": [
    "X = X.drop_duplicates(keys)\n",
    "fixed_rel_prices = fixed_rel_prices.drop_duplicates(keys)"
   ]
  },
  {
   "cell_type": "code",
   "execution_count": 41,
   "metadata": {
    "ExecuteTime": {
     "end_time": "2017-08-21T14:34:47.882139Z",
     "start_time": "2017-08-21T14:34:47.813418Z"
    },
    "hidden": true
   },
   "outputs": [
    {
     "data": {
      "text/plain": [
       "(11877, 12)"
      ]
     },
     "execution_count": 41,
     "metadata": {},
     "output_type": "execute_result"
    }
   ],
   "source": [
    "X = X.merge(fixed_rel_prices)\n",
    "X.shape"
   ]
  },
  {
   "cell_type": "code",
   "execution_count": 45,
   "metadata": {
    "ExecuteTime": {
     "end_time": "2017-08-21T14:48:03.365074Z",
     "start_time": "2017-08-21T14:48:03.360620Z"
    },
    "hidden": true
   },
   "outputs": [
    {
     "data": {
      "text/plain": [
       "Index(['sku_config', 'color_pop', 'snapshot_date', 'current_price',\n",
       "       'discount_from_rrp', 'n_competitor', 'brand_name', 'brand_total_views',\n",
       "       'brand_mean_views', 'n_sold', 'rel_price'],\n",
       "      dtype='object')"
      ]
     },
     "execution_count": 45,
     "metadata": {},
     "output_type": "execute_result"
    }
   ],
   "source": [
    "del X['rel_price_in_percent']\n",
    "X.columns"
   ]
  },
  {
   "cell_type": "code",
   "execution_count": 46,
   "metadata": {
    "ExecuteTime": {
     "end_time": "2017-08-21T14:48:06.873786Z",
     "start_time": "2017-08-21T14:48:06.647531Z"
    },
    "collapsed": true,
    "hidden": true
   },
   "outputs": [],
   "source": [
    "X.to_csv(CLEAN_DIR + 'ready_data.csv', index=False)"
   ]
  },
  {
   "cell_type": "markdown",
   "metadata": {
    "heading_collapsed": true
   },
   "source": [
    "## Add brand popularity "
   ]
  },
  {
   "cell_type": "code",
   "execution_count": null,
   "metadata": {
    "collapsed": true,
    "hidden": true
   },
   "outputs": [],
   "source": [
    "# Load feature matrix built up to now\n",
    "X = pd.read_csv(CLEAN_DIR + 'g1_feats.csv', parse_dates=['snapshot_date'])"
   ]
  },
  {
   "cell_type": "code",
   "execution_count": 10,
   "metadata": {
    "ExecuteTime": {
     "end_time": "2017-08-18T11:52:31.999823Z",
     "start_time": "2017-08-18T11:52:31.812685Z"
    },
    "hidden": true
   },
   "outputs": [
    {
     "data": {
      "text/plain": [
       "dtype('<M8[ns]')"
      ]
     },
     "execution_count": 10,
     "metadata": {},
     "output_type": "execute_result"
    }
   ],
   "source": [
    "X.snapshot_date.dtype"
   ]
  },
  {
   "cell_type": "markdown",
   "metadata": {
    "hidden": true
   },
   "source": [
    "### Via page views"
   ]
  },
  {
   "cell_type": "code",
   "execution_count": 22,
   "metadata": {
    "ExecuteTime": {
     "end_time": "2017-08-18T12:25:06.449008Z",
     "start_time": "2017-08-18T12:25:04.321108Z"
    },
    "code_folding": [
     0
    ],
    "collapsed": true,
    "hidden": true
   },
   "outputs": [],
   "source": [
    "# add brand info to group 1\n",
    "key = ['fk_simple_product']\n",
    "cols = key + ['brand_name', 'brand_type']\n",
    "brand_df = df_all[cols].drop_duplicates()\n",
    "\n",
    "g1_df = g1_df.merge(brand_df)"
   ]
  },
  {
   "cell_type": "code",
   "execution_count": 23,
   "metadata": {
    "ExecuteTime": {
     "end_time": "2017-08-18T12:25:36.022799Z",
     "start_time": "2017-08-18T12:25:18.114131Z"
    },
    "code_folding": [],
    "collapsed": true,
    "hidden": true
   },
   "outputs": [],
   "source": [
    "g1_df.to_csv(CLEAN_DIR + 'skirt_fem_aw.csv', index=False)"
   ]
  },
  {
   "cell_type": "code",
   "execution_count": 24,
   "metadata": {
    "ExecuteTime": {
     "end_time": "2017-08-18T12:28:54.999422Z",
     "start_time": "2017-08-18T12:28:54.995303Z"
    },
    "collapsed": true,
    "hidden": true
   },
   "outputs": [
    {
     "data": {
      "text/plain": [
       "Index(['fk_simple_product', 'fx_rate', 'fk_original_price_band',\n",
       "       'fk_markdown_band', 'fk_current_price_band', 'snapshot_date',\n",
       "       'inventory_value', 'boost', 'brand_status', 'cost', 'is_visible',\n",
       "       'stock', 'permanent_markdown_from_date', 'permanent_markdown_price',\n",
       "       'price', 'sku_config_status', 'sku_simple_status', 'supplier_status',\n",
       "       'special_cogs', 'special_price', 'special_from_date', 'special_to_date',\n",
       "       'id_catalog_config', 'sku_simple', 'id_supplier', 'current_price',\n",
       "       'catalog_type', 'shop_type', 'cost_supplier', 'online_aging',\n",
       "       'sku_config', 'intake_margin', 'total_stock', 'venture_code',\n",
       "       'brand_name', 'brand_type'],\n",
       "      dtype='object')"
      ]
     },
     "execution_count": 24,
     "metadata": {},
     "output_type": "execute_result"
    }
   ],
   "source": [
    "g1_df.columns"
   ]
  },
  {
   "cell_type": "markdown",
   "metadata": {
    "hidden": true
   },
   "source": [
    "g1_df now contains both snapshot_date and brand, so we can merge page views to it."
   ]
  },
  {
   "cell_type": "code",
   "execution_count": 61,
   "metadata": {
    "ExecuteTime": {
     "end_time": "2017-08-18T13:11:54.156300Z",
     "start_time": "2017-08-18T13:11:53.417762Z"
    },
    "code_folding": [
     0
    ],
    "hidden": true
   },
   "outputs": [
    {
     "data": {
      "text/html": [
       "<div>\n",
       "<style>\n",
       "    .dataframe thead tr:only-child th {\n",
       "        text-align: right;\n",
       "    }\n",
       "\n",
       "    .dataframe thead th {\n",
       "        text-align: left;\n",
       "    }\n",
       "\n",
       "    .dataframe tbody tr th {\n",
       "        vertical-align: top;\n",
       "    }\n",
       "</style>\n",
       "<table border=\"1\" class=\"dataframe\">\n",
       "  <thead>\n",
       "    <tr style=\"text-align: right;\">\n",
       "      <th></th>\n",
       "      <th>brand_name</th>\n",
       "      <th>date</th>\n",
       "      <th>total_views</th>\n",
       "      <th>mean_views</th>\n",
       "    </tr>\n",
       "  </thead>\n",
       "  <tbody>\n",
       "    <tr>\n",
       "      <th>152785</th>\n",
       "      <td>!solid</td>\n",
       "      <td>2016-01-01</td>\n",
       "      <td>39</td>\n",
       "      <td>1.147059</td>\n",
       "    </tr>\n",
       "    <tr>\n",
       "      <th>175143</th>\n",
       "      <td>!solid</td>\n",
       "      <td>2016-01-02</td>\n",
       "      <td>26</td>\n",
       "      <td>0.764706</td>\n",
       "    </tr>\n",
       "    <tr>\n",
       "      <th>122847</th>\n",
       "      <td>!solid</td>\n",
       "      <td>2016-01-03</td>\n",
       "      <td>67</td>\n",
       "      <td>1.970588</td>\n",
       "    </tr>\n",
       "    <tr>\n",
       "      <th>150103</th>\n",
       "      <td>!solid</td>\n",
       "      <td>2016-01-04</td>\n",
       "      <td>41</td>\n",
       "      <td>1.171429</td>\n",
       "    </tr>\n",
       "    <tr>\n",
       "      <th>170704</th>\n",
       "      <td>!solid</td>\n",
       "      <td>2016-01-05</td>\n",
       "      <td>28</td>\n",
       "      <td>0.800000</td>\n",
       "    </tr>\n",
       "  </tbody>\n",
       "</table>\n",
       "</div>"
      ],
      "text/plain": [
       "       brand_name       date  total_views  mean_views\n",
       "152785     !solid 2016-01-01           39    1.147059\n",
       "175143     !solid 2016-01-02           26    0.764706\n",
       "122847     !solid 2016-01-03           67    1.970588\n",
       "150103     !solid 2016-01-04           41    1.171429\n",
       "170704     !solid 2016-01-05           28    0.800000"
      ]
     },
     "execution_count": 61,
     "metadata": {},
     "output_type": "execute_result"
    }
   ],
   "source": [
    "# Load brand pop\n",
    "_16_brand_pop = pd.read_csv(CLEAN_DIR + '2016_daily_brand_views.csv', \n",
    "                            parse_dates=['date'])\n",
    "\n",
    "cols = ['brand_name', 'date', 'total_views', 'mean_views']\n",
    "brand_pop = _16_brand_pop[cols].sort_values(['brand_name', 'date'])\n",
    "brand_pop.head()"
   ]
  },
  {
   "cell_type": "code",
   "execution_count": 62,
   "metadata": {
    "ExecuteTime": {
     "end_time": "2017-08-18T13:12:00.186126Z",
     "start_time": "2017-08-18T13:11:59.927435Z"
    },
    "code_folding": [
     0
    ],
    "hidden": true
   },
   "outputs": [
    {
     "data": {
      "text/plain": [
       "(732263, 6)"
      ]
     },
     "execution_count": 62,
     "metadata": {},
     "output_type": "execute_result"
    }
   ],
   "source": [
    "# Merge page views to g1_df \n",
    "left_cols, right_cols = ['brand_name', 'snapshot_date'], ['brand_name', 'date']\n",
    "cols = ['sku_config'] + left_cols\n",
    "joined = g1_df[cols].merge(brand_pop, left_on=left_cols, right_on=right_cols)\n",
    "joined.shape"
   ]
  },
  {
   "cell_type": "code",
   "execution_count": 63,
   "metadata": {
    "ExecuteTime": {
     "end_time": "2017-08-18T13:12:03.553079Z",
     "start_time": "2017-08-18T13:12:03.549511Z"
    },
    "hidden": true
   },
   "outputs": [
    {
     "data": {
      "text/plain": [
       "14915"
      ]
     },
     "execution_count": 63,
     "metadata": {},
     "output_type": "execute_result"
    }
   ],
   "source": [
    "g1_df.shape[0] - joined.shape[0]"
   ]
  },
  {
   "cell_type": "markdown",
   "metadata": {
    "hidden": true
   },
   "source": [
    "No. of rows in joined DF is less than that in g1_df, either some brands or some dates are missing, need to inspect later."
   ]
  },
  {
   "cell_type": "code",
   "execution_count": null,
   "metadata": {
    "code_folding": [
     0
    ],
    "collapsed": true,
    "hidden": true
   },
   "outputs": [],
   "source": [
    "joined.rename(columns={'total_views': 'brand_total_views', \n",
    "                       'mean_views': 'brand_mean_views'}, inplace=True)\n",
    "del joined['date']\n",
    "joined.drop_duplicates(inplace=True)"
   ]
  },
  {
   "cell_type": "code",
   "execution_count": 73,
   "metadata": {
    "ExecuteTime": {
     "end_time": "2017-08-18T13:18:16.136849Z",
     "start_time": "2017-08-18T13:18:16.047202Z"
    },
    "collapsed": true,
    "hidden": true
   },
   "outputs": [],
   "source": [
    "res = X.merge(joined)"
   ]
  },
  {
   "cell_type": "code",
   "execution_count": 74,
   "metadata": {
    "ExecuteTime": {
     "end_time": "2017-08-18T13:18:16.142712Z",
     "start_time": "2017-08-18T13:18:16.138247Z"
    },
    "hidden": true
   },
   "outputs": [
    {
     "data": {
      "text/plain": [
       "-8"
      ]
     },
     "execution_count": 74,
     "metadata": {},
     "output_type": "execute_result"
    }
   ],
   "source": [
    "res.shape[0] - X.shape[0]"
   ]
  },
  {
   "cell_type": "code",
   "execution_count": null,
   "metadata": {
    "collapsed": true,
    "hidden": true
   },
   "outputs": [],
   "source": [
    "X = res; del res"
   ]
  },
  {
   "cell_type": "code",
   "execution_count": 80,
   "metadata": {
    "ExecuteTime": {
     "end_time": "2017-08-18T15:07:48.409588Z",
     "start_time": "2017-08-18T15:07:46.769657Z"
    },
    "collapsed": true,
    "hidden": true
   },
   "outputs": [],
   "source": [
    "X = X.rename(columns={'discount': 'discount_from_rrp'})\n",
    "X.to_csv(CLEAN_DIR + 'g1_feats.csv', index=False)"
   ]
  },
  {
   "cell_type": "code",
   "execution_count": 81,
   "metadata": {
    "ExecuteTime": {
     "end_time": "2017-08-18T15:07:50.567247Z",
     "start_time": "2017-08-18T15:07:50.553342Z"
    },
    "hidden": true
   },
   "outputs": [
    {
     "data": {
      "text/html": [
       "<div>\n",
       "<style>\n",
       "    .dataframe thead tr:only-child th {\n",
       "        text-align: right;\n",
       "    }\n",
       "\n",
       "    .dataframe thead th {\n",
       "        text-align: left;\n",
       "    }\n",
       "\n",
       "    .dataframe tbody tr th {\n",
       "        vertical-align: top;\n",
       "    }\n",
       "</style>\n",
       "<table border=\"1\" class=\"dataframe\">\n",
       "  <thead>\n",
       "    <tr style=\"text-align: right;\">\n",
       "      <th></th>\n",
       "      <th>sku_config</th>\n",
       "      <th>color_pop</th>\n",
       "      <th>snapshot_date</th>\n",
       "      <th>current_price</th>\n",
       "      <th>discount_from_rrp</th>\n",
       "      <th>n_competitor</th>\n",
       "      <th>rel_price_in_percent</th>\n",
       "      <th>brand_name</th>\n",
       "      <th>brand_total_views</th>\n",
       "      <th>brand_mean_views</th>\n",
       "    </tr>\n",
       "  </thead>\n",
       "  <tbody>\n",
       "    <tr>\n",
       "      <th>0</th>\n",
       "      <td>006FAAAAB5D8D2GS</td>\n",
       "      <td>8.013311</td>\n",
       "      <td>2016-09-24</td>\n",
       "      <td>29.9</td>\n",
       "      <td>0.0</td>\n",
       "      <td>481</td>\n",
       "      <td>0.119624</td>\n",
       "      <td>zalora</td>\n",
       "      <td>117430</td>\n",
       "      <td>23.776068</td>\n",
       "    </tr>\n",
       "    <tr>\n",
       "      <th>1</th>\n",
       "      <td>006FAAAAB5D8D2GS</td>\n",
       "      <td>8.013311</td>\n",
       "      <td>2016-09-25</td>\n",
       "      <td>29.9</td>\n",
       "      <td>0.0</td>\n",
       "      <td>482</td>\n",
       "      <td>0.119525</td>\n",
       "      <td>zalora</td>\n",
       "      <td>123734</td>\n",
       "      <td>25.032167</td>\n",
       "    </tr>\n",
       "    <tr>\n",
       "      <th>2</th>\n",
       "      <td>006FAAAAB5D8D2GS</td>\n",
       "      <td>8.013311</td>\n",
       "      <td>2016-09-26</td>\n",
       "      <td>29.9</td>\n",
       "      <td>0.0</td>\n",
       "      <td>499</td>\n",
       "      <td>0.116941</td>\n",
       "      <td>zalora</td>\n",
       "      <td>109648</td>\n",
       "      <td>22.119831</td>\n",
       "    </tr>\n",
       "    <tr>\n",
       "      <th>3</th>\n",
       "      <td>006FAAAAB5D8D2GS</td>\n",
       "      <td>8.013311</td>\n",
       "      <td>2016-09-27</td>\n",
       "      <td>29.9</td>\n",
       "      <td>0.0</td>\n",
       "      <td>515</td>\n",
       "      <td>0.113703</td>\n",
       "      <td>zalora</td>\n",
       "      <td>117609</td>\n",
       "      <td>23.706712</td>\n",
       "    </tr>\n",
       "    <tr>\n",
       "      <th>4</th>\n",
       "      <td>006FAAAAB5D8D2GS</td>\n",
       "      <td>8.013311</td>\n",
       "      <td>2016-09-28</td>\n",
       "      <td>29.9</td>\n",
       "      <td>0.0</td>\n",
       "      <td>505</td>\n",
       "      <td>0.115529</td>\n",
       "      <td>zalora</td>\n",
       "      <td>109389</td>\n",
       "      <td>22.215475</td>\n",
       "    </tr>\n",
       "  </tbody>\n",
       "</table>\n",
       "</div>"
      ],
      "text/plain": [
       "         sku_config  color_pop snapshot_date  current_price  \\\n",
       "0  006FAAAAB5D8D2GS   8.013311    2016-09-24           29.9   \n",
       "1  006FAAAAB5D8D2GS   8.013311    2016-09-25           29.9   \n",
       "2  006FAAAAB5D8D2GS   8.013311    2016-09-26           29.9   \n",
       "3  006FAAAAB5D8D2GS   8.013311    2016-09-27           29.9   \n",
       "4  006FAAAAB5D8D2GS   8.013311    2016-09-28           29.9   \n",
       "\n",
       "   discount_from_rrp  n_competitor  rel_price_in_percent brand_name  \\\n",
       "0                0.0           481              0.119624     zalora   \n",
       "1                0.0           482              0.119525     zalora   \n",
       "2                0.0           499              0.116941     zalora   \n",
       "3                0.0           515              0.113703     zalora   \n",
       "4                0.0           505              0.115529     zalora   \n",
       "\n",
       "   brand_total_views  brand_mean_views  \n",
       "0             117430         23.776068  \n",
       "1             123734         25.032167  \n",
       "2             109648         22.119831  \n",
       "3             117609         23.706712  \n",
       "4             109389         22.215475  "
      ]
     },
     "execution_count": 81,
     "metadata": {},
     "output_type": "execute_result"
    }
   ],
   "source": [
    "X.head()"
   ]
  },
  {
   "cell_type": "code",
   "execution_count": null,
   "metadata": {
    "collapsed": true,
    "hidden": true
   },
   "outputs": [],
   "source": []
  }
 ],
 "metadata": {
  "kernelspec": {
   "display_name": "Python 3",
   "language": "python",
   "name": "python3"
  },
  "language_info": {
   "codemirror_mode": {
    "name": "ipython",
    "version": 3
   },
   "file_extension": ".py",
   "mimetype": "text/x-python",
   "name": "python",
   "nbconvert_exporter": "python",
   "pygments_lexer": "ipython3",
   "version": "3.6.0"
  },
  "toc": {
   "colors": {
    "hover_highlight": "#DAA520",
    "navigate_num": "#000000",
    "navigate_text": "#333333",
    "running_highlight": "#FF0000",
    "selected_highlight": "#FFD700",
    "sidebar_border": "#EEEEEE",
    "wrapper_background": "#FFFFFF"
   },
   "moveMenuLeft": true,
   "nav_menu": {
    "height": "300px",
    "width": "252px"
   },
   "navigate_menu": true,
   "number_sections": true,
   "sideBar": true,
   "threshold": 4,
   "toc_cell": false,
   "toc_position": {
    "height": "670px",
    "left": "0px",
    "right": "1184px",
    "top": "106px",
    "width": "256px"
   },
   "toc_section_display": "block",
   "toc_window_display": true,
   "widenNotebook": false
  },
  "varInspector": {
   "cols": {
    "lenName": 16,
    "lenType": 16,
    "lenVar": 40
   },
   "kernels_config": {
    "python": {
     "delete_cmd_postfix": "",
     "delete_cmd_prefix": "del ",
     "library": "var_list.py",
     "varRefreshCmd": "print(var_dic_list())"
    },
    "r": {
     "delete_cmd_postfix": ") ",
     "delete_cmd_prefix": "rm(",
     "library": "var_list.r",
     "varRefreshCmd": "cat(var_dic_list()) "
    }
   },
   "position": {
    "height": "184px",
    "left": "1070px",
    "right": "20px",
    "top": "120px",
    "width": "355px"
   },
   "types_to_exclude": [
    "module",
    "function",
    "builtin_function_or_method",
    "instance",
    "_Feature"
   ],
   "window_display": false
  }
 },
 "nbformat": 4,
 "nbformat_minor": 1
}
