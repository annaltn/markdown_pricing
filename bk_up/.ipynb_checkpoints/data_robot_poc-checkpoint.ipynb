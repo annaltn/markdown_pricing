{
 "cells": [
  {
   "cell_type": "code",
   "execution_count": 3,
   "metadata": {
    "ExecuteTime": {
     "end_time": "2017-09-20T11:54:30.068833Z",
     "start_time": "2017-09-20T11:54:30.065812Z"
    },
    "code_folding": [],
    "collapsed": true
   },
   "outputs": [],
   "source": [
    "import pandas as pd\n",
    "import numpy as np\n",
    "import sklearn.preprocessing as prep\n",
    "\n",
    "from collections import Counter"
   ]
  },
  {
   "cell_type": "code",
   "execution_count": 4,
   "metadata": {
    "ExecuteTime": {
     "end_time": "2017-09-20T11:54:30.073389Z",
     "start_time": "2017-09-20T11:54:30.070392Z"
    },
    "collapsed": true
   },
   "outputs": [],
   "source": [
    "DAT_DIR = '/Users/gfg/data/venture=Zalora/sg/'\n",
    "CLEAN_DIR = DAT_DIR + 'clean/'; FIG_DIR = DAT_DIR + 'fig/'\n",
    "GROUP_DIR = CLEAN_DIR + 'groups/'; FEAT_DIR = GROUP_DIR + 'feats/'"
   ]
  },
  {
   "cell_type": "markdown",
   "metadata": {
    "heading_collapsed": true
   },
   "source": [
    "## Helpers"
   ]
  },
  {
   "cell_type": "code",
   "execution_count": 5,
   "metadata": {
    "ExecuteTime": {
     "end_time": "2017-09-20T11:54:45.140807Z",
     "start_time": "2017-09-20T11:54:45.114906Z"
    },
    "code_folding": [
     0,
     3
    ],
    "collapsed": true,
    "hidden": true
   },
   "outputs": [],
   "source": [
    "def date_range(df):\n",
    "    return (min(df['date']), max(df['date']))\n",
    "\n",
    "def load_feats(gname='dresses_female_autumn-winter'): # Load group feats\n",
    "    gid = tuple(gname.split('_'))\n",
    "    fname = FEAT_DIR + '{}.csv'.format(gname)\n",
    "    group_feat = pd.read_csv(fname, parse_dates=['snapshot_date'])\n",
    "\n",
    "    group_feat.dropna(subset=['sku_config'], inplace=True)\n",
    "    print('dropped NA configs')\n",
    "    return group_feat\n",
    "\n",
    "def categ_encode(cat_values):\n",
    "    pd.Series(encoder.fit_transform(cat_values)).apply(str)\n",
    "\n",
    "def mask(c, df, encoder):\n",
    "    print('\\t {}'.format(c))\n",
    "    df['masked_{}'.format(c)] = categ_encode(df[c])\n",
    "    return df\n",
    "\n",
    "def mask_data(df, to_mask, gname='dresses_female_autumn-winter'):\n",
    "    \n",
    "    encoder = prep.LabelEncoder()\n",
    "    \n",
    "    print('Masking sensitive info...')\n",
    "    masked_df = df.copy()\n",
    "    for c in to_mask:\n",
    "        masked_df[c].fillna('na', inplace=True)\n",
    "        masked_df = mask(c, masked_df, encoder)\n",
    "\n",
    "    print('Removing original sensitive info...')\n",
    "    poc_df = masked_df\n",
    "    for c in to_mask:\n",
    "        del poc_df[c]\n",
    "\n",
    "    masked_df.to_csv(CLEAN_DIR + '{}_with_mask.csv'.format(gname), index=False)\n",
    "    poc_df.to_csv(CLEAN_DIR + 'poc_{}.csv'.format(gname), index=False)\n",
    "    return masked_df"
   ]
  },
  {
   "cell_type": "markdown",
   "metadata": {
    "heading_collapsed": true
   },
   "source": [
    "# Preparation"
   ]
  },
  {
   "cell_type": "markdown",
   "metadata": {
    "heading_collapsed": true,
    "hidden": true
   },
   "source": [
    "## Load"
   ]
  },
  {
   "cell_type": "code",
   "execution_count": null,
   "metadata": {
    "ExecuteTime": {
     "end_time": "2017-09-19T17:09:07.254686Z",
     "start_time": "2017-09-19T17:09:02.596759Z"
    },
    "code_folding": [],
    "hidden": true
   },
   "outputs": [],
   "source": [
    "# catalog data\n",
    "prod_df = pd.read_csv(CLEAN_DIR + 'products.csv')"
   ]
  },
  {
   "cell_type": "code",
   "execution_count": null,
   "metadata": {
    "ExecuteTime": {
     "end_time": "2017-09-19T16:51:47.448920Z",
     "start_time": "2017-09-19T16:51:47.000467Z"
    },
    "hidden": true
   },
   "outputs": [],
   "source": [
    "# sale data of simples\n",
    "demand_simples = pd.read_csv(CLEAN_DIR + 'demand_simple.csv', parse_dates=['ordered_date'])\n",
    "demand_simples.info()"
   ]
  },
  {
   "cell_type": "code",
   "execution_count": null,
   "metadata": {
    "ExecuteTime": {
     "end_time": "2017-09-19T17:19:05.330262Z",
     "start_time": "2017-09-19T17:19:04.788258Z"
    },
    "hidden": true
   },
   "outputs": [],
   "source": [
    "# sale data of configs\n",
    "demand_config = pd.read_csv(CLEAN_DIR + 'demand_config.csv', parse_dates=['ordered_date'])\n",
    "demand_config.info()"
   ]
  },
  {
   "cell_type": "code",
   "execution_count": null,
   "metadata": {
    "ExecuteTime": {
     "end_time": "2017-09-19T17:19:11.081774Z",
     "start_time": "2017-09-19T17:19:11.077128Z"
    },
    "collapsed": true,
    "hidden": true
   },
   "outputs": [],
   "source": [
    "demand_config['date'] = demand_config['ordered_date']"
   ]
  },
  {
   "cell_type": "markdown",
   "metadata": {
    "heading_collapsed": true,
    "hidden": true
   },
   "source": [
    "## Join tables"
   ]
  },
  {
   "cell_type": "markdown",
   "metadata": {
    "heading_collapsed": true,
    "hidden": true
   },
   "source": [
    "### Simple level\n",
    "We join `demand_simples` table with `prod_df` table to join properties/features of each SKU simple with it daily demand (the response)."
   ]
  },
  {
   "cell_type": "code",
   "execution_count": null,
   "metadata": {
    "ExecuteTime": {
     "end_time": "2017-09-19T14:25:47.209226Z",
     "start_time": "2017-09-19T14:25:42.802925Z"
    },
    "hidden": true
   },
   "outputs": [],
   "source": [
    "joined = pd.merge(demand_simples, prod_df)\n",
    "# joined.shape[0] == demand_simples.shape[0]\n",
    "\n",
    "# delete redundant cols\n",
    "del joined['sub_cat']"
   ]
  },
  {
   "cell_type": "code",
   "execution_count": null,
   "metadata": {
    "ExecuteTime": {
     "end_time": "2017-09-19T14:35:09.625242Z",
     "start_time": "2017-09-19T14:35:09.612966Z"
    },
    "collapsed": true,
    "hidden": true
   },
   "outputs": [],
   "source": [
    "del joined['image_url']"
   ]
  },
  {
   "cell_type": "markdown",
   "metadata": {
    "heading_collapsed": true,
    "hidden": true
   },
   "source": [
    "### Config level"
   ]
  },
  {
   "cell_type": "markdown",
   "metadata": {
    "hidden": true
   },
   "source": [
    "To join all available config features with response, we join tables `demand_config`, `prod_df` and `group_df` as follows:\n",
    "+ join `group_df` with `prod_df` by key `sku_config` to obtain `joined_config`\n",
    "+ join `joined_config` with `demand_config` by tuple `(sku_config, date)` to obtain final `joined_config`"
   ]
  },
  {
   "cell_type": "code",
   "execution_count": null,
   "metadata": {
    "ExecuteTime": {
     "end_time": "2017-09-19T17:31:45.194182Z",
     "start_time": "2017-09-19T17:31:44.589212Z"
    },
    "code_folding": [
     0
    ],
    "collapsed": true,
    "hidden": true
   },
   "outputs": [],
   "source": [
    "# group feats (price, relative price, no. of competitors...)\n",
    "gname='dresses_female_autumn-winter'\n",
    "group_df = load_feats(gname)"
   ]
  },
  {
   "cell_type": "code",
   "execution_count": null,
   "metadata": {
    "ExecuteTime": {
     "end_time": "2017-09-19T17:32:05.786738Z",
     "start_time": "2017-09-19T17:32:05.783331Z"
    },
    "collapsed": true,
    "hidden": true
   },
   "outputs": [],
   "source": [
    "group_df['date'] = group_df['snapshot_date']"
   ]
  },
  {
   "cell_type": "code",
   "execution_count": null,
   "metadata": {
    "ExecuteTime": {
     "end_time": "2017-09-19T17:20:22.259484Z",
     "start_time": "2017-09-19T17:20:19.919927Z"
    },
    "hidden": true
   },
   "outputs": [],
   "source": [
    "joined_config = pd.merge(group_df, prod_df.drop_duplicates('sku_config'))"
   ]
  },
  {
   "cell_type": "code",
   "execution_count": null,
   "metadata": {
    "ExecuteTime": {
     "end_time": "2017-09-19T17:21:42.192115Z",
     "start_time": "2017-09-19T17:21:42.187506Z"
    },
    "hidden": true
   },
   "outputs": [],
   "source": [
    "print(joined_config.shape[0])\n",
    "joined_config.shape[0] < group_df.shape[0]"
   ]
  },
  {
   "cell_type": "code",
   "execution_count": null,
   "metadata": {
    "ExecuteTime": {
     "end_time": "2017-09-19T17:21:48.609416Z",
     "start_time": "2017-09-19T17:21:48.603832Z"
    },
    "collapsed": true,
    "hidden": true
   },
   "outputs": [],
   "source": [
    "list(joined_config.columns)"
   ]
  },
  {
   "cell_type": "code",
   "execution_count": null,
   "metadata": {
    "ExecuteTime": {
     "end_time": "2017-09-19T17:21:55.578400Z",
     "start_time": "2017-09-19T17:21:55.574166Z"
    },
    "hidden": true
   },
   "outputs": [],
   "source": [
    "list(demand_config.columns)"
   ]
  },
  {
   "cell_type": "code",
   "execution_count": null,
   "metadata": {
    "ExecuteTime": {
     "end_time": "2017-09-19T17:42:02.123383Z",
     "start_time": "2017-09-19T17:42:01.764004Z"
    },
    "hidden": true
   },
   "outputs": [],
   "source": [
    "joined_config = pd.merge(joined_config, demand_config)\n",
    "del joined_config['ordered_date']; del joined_config['snapshot_date']\n",
    "print(joined_config.shape[0])"
   ]
  },
  {
   "cell_type": "code",
   "execution_count": null,
   "metadata": {
    "ExecuteTime": {
     "end_time": "2017-09-19T17:20:54.702389Z",
     "start_time": "2017-09-19T17:20:49.999359Z"
    },
    "hidden": true
   },
   "outputs": [],
   "source": [
    "print(date_range(demand_config))\n",
    "print(date_range(joined_config))"
   ]
  },
  {
   "cell_type": "markdown",
   "metadata": {
    "hidden": true
   },
   "source": [
    "## Mask sensitive info\n",
    "\n",
    "We mask sensitive info via `sklearn.preprocessing.LabelEncoder`"
   ]
  },
  {
   "cell_type": "markdown",
   "metadata": {
    "heading_collapsed": true,
    "hidden": true
   },
   "source": [
    "### Encode"
   ]
  },
  {
   "cell_type": "markdown",
   "metadata": {
    "hidden": true
   },
   "source": [
    "We should encode/mask the following info:\n",
    "+ all name columns\n",
    "+ `catalog_attribute_set_label`\n",
    "+ `buying_planning_cat_type`\n",
    "+ `sub_category_type`\n",
    "+ `sub_cat_gender`\n",
    "+ `supplier_email`\n",
    "+ `supplier_source`\n",
    "+ `short_description`"
   ]
  },
  {
   "cell_type": "code",
   "execution_count": null,
   "metadata": {
    "ExecuteTime": {
     "end_time": "2017-09-19T17:26:14.729733Z",
     "start_time": "2017-09-19T17:26:14.724370Z"
    },
    "code_folding": [
     0
    ],
    "collapsed": true,
    "hidden": true
   },
   "outputs": [],
   "source": [
    "def columns_to_mask():\n",
    "    name_cols = [c for c in joined.columns if ('name' in c) and ('size' not in c)]\n",
    "\n",
    "    cat_cols = ['catalog_attribute_set_label', 'buying_planning_cat_type', \n",
    "                'sub_category_type', 'sub_cat_gender']\n",
    "\n",
    "    supplier_cols = ['supplier_email', 'supplier_source']\n",
    "    to_mask = name_cols + cat_cols + supplier_cols + ['short_description']\n",
    "    return to_mask"
   ]
  },
  {
   "cell_type": "code",
   "execution_count": null,
   "metadata": {
    "ExecuteTime": {
     "end_time": "2017-09-19T17:26:23.735339Z",
     "start_time": "2017-09-19T17:26:23.732940Z"
    },
    "collapsed": true,
    "hidden": true
   },
   "outputs": [],
   "source": [
    "to_mask = columns_to_mask()"
   ]
  },
  {
   "cell_type": "markdown",
   "metadata": {
    "heading_collapsed": true,
    "hidden": true
   },
   "source": [
    "#### All records"
   ]
  },
  {
   "cell_type": "code",
   "execution_count": null,
   "metadata": {
    "ExecuteTime": {
     "end_time": "2017-09-19T14:41:25.473844Z",
     "start_time": "2017-09-19T14:40:52.487841Z"
    },
    "collapsed": true,
    "hidden": true
   },
   "outputs": [],
   "source": [
    "masked_df = mask_data(joined, to_mask)"
   ]
  },
  {
   "cell_type": "code",
   "execution_count": null,
   "metadata": {
    "ExecuteTime": {
     "end_time": "2017-09-19T14:28:47.633899Z",
     "start_time": "2017-09-19T14:28:47.004142Z"
    },
    "collapsed": true,
    "hidden": true
   },
   "outputs": [],
   "source": [
    "masked_df[masked_cols].info()"
   ]
  },
  {
   "cell_type": "markdown",
   "metadata": {
    "heading_collapsed": true,
    "hidden": true
   },
   "source": [
    "#### Sample of 1 group"
   ]
  },
  {
   "cell_type": "code",
   "execution_count": null,
   "metadata": {
    "ExecuteTime": {
     "end_time": "2017-09-19T17:50:01.878968Z",
     "start_time": "2017-09-19T17:49:59.188908Z"
    },
    "hidden": true
   },
   "outputs": [],
   "source": [
    "group_masked = mask_data(joined_config, to_mask)"
   ]
  },
  {
   "cell_type": "markdown",
   "metadata": {
    "heading_collapsed": true,
    "hidden": true
   },
   "source": [
    "### Decode"
   ]
  },
  {
   "cell_type": "code",
   "execution_count": null,
   "metadata": {
    "ExecuteTime": {
     "end_time": "2017-09-19T10:38:52.625504Z",
     "start_time": "2017-09-19T10:38:52.622678Z"
    },
    "collapsed": true,
    "hidden": true
   },
   "outputs": [],
   "source": [
    "def get_brand_name(masked_id):\n",
    "    return masked_df.query('masked_brand_name == \"{}\"'.format(masked_id))['brand_name'].iloc[0]"
   ]
  },
  {
   "cell_type": "code",
   "execution_count": null,
   "metadata": {
    "ExecuteTime": {
     "end_time": "2017-09-19T10:22:40.579896Z",
     "start_time": "2017-09-19T10:22:29.097384Z"
    },
    "hidden": true,
    "scrolled": true
   },
   "outputs": [],
   "source": [
    "masked_df = pd.read_csv(CLEAN_DIR + 'masked_data.csv')\n",
    "masked_df.info()"
   ]
  },
  {
   "cell_type": "code",
   "execution_count": null,
   "metadata": {
    "ExecuteTime": {
     "end_time": "2017-09-19T10:42:39.247892Z",
     "start_time": "2017-09-19T10:42:39.012658Z"
    },
    "hidden": true
   },
   "outputs": [],
   "source": [
    "top5 = ['566', '468', '315', '209', '459']\n",
    "for mid in top5:\n",
    "    print('(masked_id, brand): {}'.format(tuple([mid, get_brand_name(mid)])))"
   ]
  },
  {
   "cell_type": "markdown",
   "metadata": {},
   "source": [
    "# Inspect results returned by DataRobot "
   ]
  },
  {
   "cell_type": "code",
   "execution_count": 6,
   "metadata": {
    "ExecuteTime": {
     "end_time": "2017-09-20T11:56:48.642243Z",
     "start_time": "2017-09-20T11:56:48.639636Z"
    },
    "collapsed": true
   },
   "outputs": [],
   "source": [
    "RES_DIR = '/Users/gfg/projects/daas-markdown/res/'"
   ]
  },
  {
   "cell_type": "markdown",
   "metadata": {},
   "source": [
    "## Reasons of predictions\n",
    "First we inspect top reasons of high/low predictions where:\n",
    "+ high predictions: predicted daily demand > 1.849=`ht`\n",
    "+ low predictions: predicted daily demand < 0.975=`lt`\n",
    "\n",
    "The thresholds `ht`, `lt` are defined by DataRobot based on AUC."
   ]
  },
  {
   "cell_type": "code",
   "execution_count": 23,
   "metadata": {
    "ExecuteTime": {
     "end_time": "2017-09-20T16:21:21.539543Z",
     "start_time": "2017-09-20T16:21:21.491157Z"
    },
    "collapsed": true
   },
   "outputs": [
    {
     "name": "stdout",
     "output_type": "stream",
     "text": [
      "<class 'pandas.core.frame.DataFrame'>\n",
      "RangeIndex: 23388 entries, 0 to 23387\n",
      "Data columns (total 11 columns):\n",
      "row_id               23388 non-null int64\n",
      "Prediction           23388 non-null float64\n",
      "Reason 1 Strength    5386 non-null object\n",
      "Reason 1 Feature     5386 non-null object\n",
      "Reason 1 Value       5386 non-null object\n",
      "Reason 2 Strength    5386 non-null object\n",
      "Reason 2 Feature     5386 non-null object\n",
      "Reason 2 Value       5386 non-null object\n",
      "Reason 3 Strength    5386 non-null object\n",
      "Reason 3 Feature     5386 non-null object\n",
      "Reason 3 Value       5386 non-null object\n",
      "dtypes: float64(1), int64(1), object(9)\n",
      "memory usage: 2.0+ MB\n"
     ]
    }
   ],
   "source": [
    "# load reasons\n",
    "reason_df = pd.read_csv(RES_DIR + 'xgboost_early_stop_compact_feats_RC_3.csv')\n",
    "reason_df.info()"
   ]
  },
  {
   "cell_type": "code",
   "execution_count": 29,
   "metadata": {
    "ExecuteTime": {
     "end_time": "2017-09-20T16:32:11.520614Z",
     "start_time": "2017-09-20T16:32:11.517549Z"
    },
    "collapsed": true
   },
   "outputs": [],
   "source": [
    "def rename_cols(df, old_names, new_names):\n",
    "    cols = dict(zip(old_names, new_names))\n",
    "    return df.rename(columns=cols)"
   ]
  },
  {
   "cell_type": "code",
   "execution_count": null,
   "metadata": {
    "collapsed": true
   },
   "outputs": [],
   "source": [
    "# rm blanks in column names\n",
    "old_names = [c for c in reason_df.columns if ' ' in c]\n",
    "new_names = [c.replace(' ', '_') for c in old_names]\n",
    "rename_cols(reason_df, old_names, new_names)"
   ]
  },
  {
   "cell_type": "code",
   "execution_count": 31,
   "metadata": {
    "ExecuteTime": {
     "end_time": "2017-09-20T16:33:19.408048Z",
     "start_time": "2017-09-20T16:33:19.401377Z"
    },
    "code_folding": []
   },
   "outputs": [],
   "source": [
    "# lower all column names\n",
    "old_names = list(reason_df.columns)\n",
    "new_names = [str.lower(n) for n in old_names]\n",
    "reason_df = rename_cols(reason_df, old_names, new_names)"
   ]
  },
  {
   "cell_type": "code",
   "execution_count": 32,
   "metadata": {
    "ExecuteTime": {
     "end_time": "2017-09-20T16:33:22.386587Z",
     "start_time": "2017-09-20T16:33:22.382447Z"
    }
   },
   "outputs": [
    {
     "data": {
      "text/plain": [
       "Index(['row_id', 'prediction', 'reason_1_strength', 'reason_1_feature',\n",
       "       'reason_1_value', 'reason_2_strength', 'reason_2_feature',\n",
       "       'reason_2_value', 'reason_3_strength', 'reason_3_feature',\n",
       "       'reason_3_value'],\n",
       "      dtype='object')"
      ]
     },
     "execution_count": 32,
     "metadata": {},
     "output_type": "execute_result"
    }
   ],
   "source": [
    "reason_df.columns"
   ]
  },
  {
   "cell_type": "markdown",
   "metadata": {},
   "source": [
    "### Top 3 reasons of high predictions"
   ]
  },
  {
   "cell_type": "code",
   "execution_count": 34,
   "metadata": {
    "ExecuteTime": {
     "end_time": "2017-09-20T16:34:16.704531Z",
     "start_time": "2017-09-20T16:34:16.698218Z"
    }
   },
   "outputs": [],
   "source": [
    "ht = 1.849\n",
    "high_df = reason_df.query('prediction > {}'.format(ht))"
   ]
  },
  {
   "cell_type": "markdown",
   "metadata": {},
   "source": [
    "#### Top features for increased demand"
   ]
  },
  {
   "cell_type": "code",
   "execution_count": 38,
   "metadata": {
    "ExecuteTime": {
     "end_time": "2017-09-20T16:36:44.158501Z",
     "start_time": "2017-09-20T16:36:44.152953Z"
    }
   },
   "outputs": [],
   "source": [
    "plus = ['+', '++', '+++']\n",
    "is_increase = high_df.reason_1_strength.isin(plus) | high_df.reason_2_strength.isin(plus) | high_df.reason_3_strength.isin(plus)"
   ]
  },
  {
   "cell_type": "code",
   "execution_count": 53,
   "metadata": {
    "ExecuteTime": {
     "end_time": "2017-09-20T16:51:48.164024Z",
     "start_time": "2017-09-20T16:51:48.159368Z"
    }
   },
   "outputs": [],
   "source": [
    "feats = ['reason_1_feature', 'reason_2_feature', 'reason_3_feature']\n",
    "res = high_df[is_increase][feats]"
   ]
  },
  {
   "cell_type": "code",
   "execution_count": 54,
   "metadata": {
    "ExecuteTime": {
     "end_time": "2017-09-20T16:52:42.683355Z",
     "start_time": "2017-09-20T16:52:42.680087Z"
    }
   },
   "outputs": [],
   "source": [
    "up_demand_feats = list(res.reason_1_feature) + list(res.reason_2_feature) + list(res.reason_3_feature)"
   ]
  },
  {
   "cell_type": "code",
   "execution_count": 56,
   "metadata": {
    "ExecuteTime": {
     "end_time": "2017-09-20T16:56:11.402975Z",
     "start_time": "2017-09-20T16:56:11.399829Z"
    },
    "collapsed": true
   },
   "outputs": [],
   "source": [
    "counter = Counter(up_demand_feats)"
   ]
  },
  {
   "cell_type": "code",
   "execution_count": 58,
   "metadata": {
    "ExecuteTime": {
     "end_time": "2017-09-20T16:56:37.065882Z",
     "start_time": "2017-09-20T16:56:37.061536Z"
    }
   },
   "outputs": [
    {
     "data": {
      "text/plain": [
       "[('sku_config', 1818),\n",
       " ('snapshot_date', 1426),\n",
       " ('config_updated_at', 668),\n",
       " ('catalog_type', 583),\n",
       " ('config_group', 446),\n",
       " ('rel_price', 412),\n",
       " ('discount_from_rrp', 374),\n",
       " ('snapshot_date (Day of Week)', 364),\n",
       " ('n_competitor', 330),\n",
       " ('config_created_at', 279),\n",
       " ('current_price', 257),\n",
       " ('supplier_currency', 245),\n",
       " ('snapshot_date (Day of Month)', 195),\n",
       " ('stock', 186),\n",
       " ('special_price_to_date', 180),\n",
       " ('activated_at_date', 128),\n",
       " ('dwh_created_at', 45),\n",
       " ('brand_identifier (Categorical Int)', 40),\n",
       " ('special_price_from_date', 30),\n",
       " ('color', 18)]"
      ]
     },
     "execution_count": 58,
     "metadata": {},
     "output_type": "execute_result"
    }
   ],
   "source": [
    "counter.most_common(20)"
   ]
  },
  {
   "cell_type": "markdown",
   "metadata": {},
   "source": [
    "### Top 3 reasons of low predictions"
   ]
  },
  {
   "cell_type": "code",
   "execution_count": null,
   "metadata": {
    "collapsed": true
   },
   "outputs": [],
   "source": [
    "lt = 0.981\n",
    "low_df = reason_df.query('Prediction')"
   ]
  },
  {
   "cell_type": "code",
   "execution_count": null,
   "metadata": {
    "collapsed": true
   },
   "outputs": [],
   "source": []
  },
  {
   "cell_type": "code",
   "execution_count": null,
   "metadata": {
    "collapsed": true
   },
   "outputs": [],
   "source": []
  },
  {
   "cell_type": "markdown",
   "metadata": {},
   "source": [
    "## Model X-ray"
   ]
  },
  {
   "cell_type": "markdown",
   "metadata": {},
   "source": [
    "## Lift chart"
   ]
  },
  {
   "cell_type": "code",
   "execution_count": null,
   "metadata": {
    "collapsed": true
   },
   "outputs": [],
   "source": []
  }
 ],
 "metadata": {
  "kernelspec": {
   "display_name": "Python 3",
   "language": "python",
   "name": "python3"
  },
  "toc": {
   "colors": {
    "hover_highlight": "#DAA520",
    "navigate_num": "#000000",
    "navigate_text": "#333333",
    "running_highlight": "#FF0000",
    "selected_highlight": "#FFD700",
    "sidebar_border": "#EEEEEE",
    "wrapper_background": "#FFFFFF"
   },
   "moveMenuLeft": true,
   "nav_menu": {
    "height": "336px",
    "width": "252px"
   },
   "navigate_menu": true,
   "number_sections": true,
   "sideBar": true,
   "threshold": 4,
   "toc_cell": false,
   "toc_position": {
    "height": "670px",
    "left": "0px",
    "right": "981px",
    "top": "106px",
    "width": "212px"
   },
   "toc_section_display": "block",
   "toc_window_display": true,
   "widenNotebook": false
  },
  "varInspector": {
   "cols": {
    "lenName": 16,
    "lenType": 16,
    "lenVar": 40
   },
   "kernels_config": {
    "python": {
     "delete_cmd_postfix": "",
     "delete_cmd_prefix": "del ",
     "library": "var_list.py",
     "varRefreshCmd": "print(var_dic_list())"
    },
    "r": {
     "delete_cmd_postfix": ") ",
     "delete_cmd_prefix": "rm(",
     "library": "var_list.r",
     "varRefreshCmd": "cat(var_dic_list()) "
    }
   },
   "types_to_exclude": [
    "module",
    "function",
    "builtin_function_or_method",
    "instance",
    "_Feature"
   ],
   "window_display": false
  }
 },
 "nbformat": 4,
 "nbformat_minor": 2
}
