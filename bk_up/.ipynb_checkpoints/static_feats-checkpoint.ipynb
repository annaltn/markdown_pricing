{
 "cells": [
  {
   "cell_type": "markdown",
   "metadata": {},
   "source": [
    "# Inits"
   ]
  },
  {
   "cell_type": "code",
   "execution_count": 1,
   "metadata": {
    "ExecuteTime": {
     "end_time": "2018-05-08T17:33:49.097193Z",
     "start_time": "2018-05-08T17:33:48.088769Z"
    },
    "collapsed": true
   },
   "outputs": [],
   "source": [
    "import os\n",
    "import pandas as pd\n",
    "import numpy as np\n",
    "import matplotlib.pyplot as plt"
   ]
  },
  {
   "cell_type": "code",
   "execution_count": 2,
   "metadata": {
    "ExecuteTime": {
     "end_time": "2018-05-08T17:33:49.106512Z",
     "start_time": "2018-05-08T17:33:49.098839Z"
    },
    "collapsed": true
   },
   "outputs": [],
   "source": [
    "%matplotlib inline"
   ]
  },
  {
   "cell_type": "markdown",
   "metadata": {},
   "source": [
    "## Load data"
   ]
  },
  {
   "cell_type": "code",
   "execution_count": 21,
   "metadata": {
    "ExecuteTime": {
     "end_time": "2018-04-19T10:34:16.979938Z",
     "start_time": "2018-04-19T10:34:16.971712Z"
    },
    "code_folding": [],
    "collapsed": true
   },
   "outputs": [],
   "source": [
    "def load_correct(fname, dat_dir):\n",
    "    df = pd.read_csv(dat_dir + fname)\n",
    "    yr = fname.split('_')[0]\n",
    "    df['year'] = yr\n",
    "    return df\n",
    "\n",
    "def mk_md_input(country='sg'):\n",
    "    dat_dir = '/Users/gfg/data/markdown/clean/venture=Zalora/{}/'.format(country)\n",
    "    frames = [load_correct(fname, dat_dir) for fname in os.listdir(dat_dir)]\n",
    "    md_input = pd.concat(frames)\n",
    "    print('Shape of md_input of country {}: {}'.format(str.upper(country) , md_input.shape))\n",
    "    print('Years in md_input: {}'.format(md_input['year'].unique()))\n",
    "    md_input.to_csv(dat_dir + 'md_input.csv', index=False)\n",
    "    return md_input"
   ]
  },
  {
   "cell_type": "code",
   "execution_count": 23,
   "metadata": {
    "ExecuteTime": {
     "end_time": "2018-04-19T10:36:23.910670Z",
     "start_time": "2018-04-19T10:36:00.549433Z"
    },
    "scrolled": true
   },
   "outputs": [
    {
     "name": "stdout",
     "output_type": "stream",
     "text": [
      "Shape of md_input of country ID: (689422, 36)\n",
      "Years in md_input: ['2017' '2018']\n"
     ]
    }
   ],
   "source": [
    "id_md_input = mk_md_input(country='id')"
   ]
  },
  {
   "cell_type": "code",
   "execution_count": 24,
   "metadata": {
    "ExecuteTime": {
     "end_time": "2018-04-19T10:36:51.218212Z",
     "start_time": "2018-04-19T10:36:26.654536Z"
    }
   },
   "outputs": [
    {
     "name": "stdout",
     "output_type": "stream",
     "text": [
      "Shape of md_input of country PH: (739362, 36)\n",
      "Years in md_input: ['2017' '2018']\n"
     ]
    }
   ],
   "source": [
    "ph_md_input = mk_md_input(country='ph')"
   ]
  },
  {
   "cell_type": "code",
   "execution_count": 25,
   "metadata": {
    "ExecuteTime": {
     "end_time": "2018-04-19T10:37:19.165549Z",
     "start_time": "2018-04-19T10:36:54.001395Z"
    }
   },
   "outputs": [
    {
     "name": "stdout",
     "output_type": "stream",
     "text": [
      "Shape of md_input of country MY: (754603, 36)\n",
      "Years in md_input: ['2017' '2018']\n"
     ]
    }
   ],
   "source": [
    "my_md_input = mk_md_input(country='my')"
   ]
  },
  {
   "cell_type": "code",
   "execution_count": 26,
   "metadata": {
    "ExecuteTime": {
     "end_time": "2018-04-19T10:37:33.388371Z",
     "start_time": "2018-04-19T10:37:23.610871Z"
    }
   },
   "outputs": [
    {
     "name": "stdout",
     "output_type": "stream",
     "text": [
      "Shape of md_input of country TW: (135828, 36)\n",
      "Years in md_input: ['2017' '2018']\n"
     ]
    }
   ],
   "source": [
    "tw_md_input = mk_md_input(country='tw')"
   ]
  },
  {
   "cell_type": "code",
   "execution_count": 27,
   "metadata": {
    "ExecuteTime": {
     "end_time": "2018-04-19T10:37:33.388371Z",
     "start_time": "2018-04-19T10:37:23.610871Z"
    }
   },
   "outputs": [
    {
     "name": "stdout",
     "output_type": "stream",
     "text": [
      "Shape of md_input of country HK: (295250, 36)\n",
      "Years in md_input: ['2017' '2018']\n"
     ]
    }
   ],
   "source": [
    "hk_md_input = mk_md_input(country='hk')"
   ]
  },
  {
   "cell_type": "code",
   "execution_count": 17,
   "metadata": {
    "ExecuteTime": {
     "end_time": "2018-04-06T15:22:47.477650Z",
     "start_time": "2018-04-06T15:22:47.037207Z"
    },
    "collapsed": true
   },
   "outputs": [
    {
     "data": {
      "text/html": [
       "<div>\n",
       "<style>\n",
       "    .dataframe thead tr:only-child th {\n",
       "        text-align: right;\n",
       "    }\n",
       "\n",
       "    .dataframe thead th {\n",
       "        text-align: left;\n",
       "    }\n",
       "\n",
       "    .dataframe tbody tr th {\n",
       "        vertical-align: top;\n",
       "    }\n",
       "</style>\n",
       "<table border=\"1\" class=\"dataframe\">\n",
       "  <thead>\n",
       "    <tr style=\"text-align: right;\">\n",
       "      <th></th>\n",
       "      <th>sku_config_id</th>\n",
       "      <th>brand_name</th>\n",
       "      <th>config_page_views</th>\n",
       "      <th>snapshot_date</th>\n",
       "    </tr>\n",
       "  </thead>\n",
       "  <tbody>\n",
       "    <tr>\n",
       "      <th>13928</th>\n",
       "      <td>00037SH9704B3DGS</td>\n",
       "      <td>ZALORA</td>\n",
       "      <td>5.0</td>\n",
       "      <td>2018-01-04</td>\n",
       "    </tr>\n",
       "    <tr>\n",
       "      <th>98787</th>\n",
       "      <td>00037SH9704B3DGS</td>\n",
       "      <td>ZALORA</td>\n",
       "      <td>12.0</td>\n",
       "      <td>2018-01-21</td>\n",
       "    </tr>\n",
       "    <tr>\n",
       "      <th>146108</th>\n",
       "      <td>00037SH9704B3DGS</td>\n",
       "      <td>ZALORA</td>\n",
       "      <td>18.0</td>\n",
       "      <td>2018-01-29</td>\n",
       "    </tr>\n",
       "    <tr>\n",
       "      <th>194820</th>\n",
       "      <td>00037SH9704B3DGS</td>\n",
       "      <td>ZALORA</td>\n",
       "      <td>14.0</td>\n",
       "      <td>2018-02-07</td>\n",
       "    </tr>\n",
       "    <tr>\n",
       "      <th>246550</th>\n",
       "      <td>00037SH9704B3DGS</td>\n",
       "      <td>ZALORA</td>\n",
       "      <td>16.0</td>\n",
       "      <td>2018-02-18</td>\n",
       "    </tr>\n",
       "  </tbody>\n",
       "</table>\n",
       "</div>"
      ],
      "text/plain": [
       "           sku_config_id brand_name  config_page_views snapshot_date\n",
       "13928   00037SH9704B3DGS     ZALORA                5.0    2018-01-04\n",
       "98787   00037SH9704B3DGS     ZALORA               12.0    2018-01-21\n",
       "146108  00037SH9704B3DGS     ZALORA               18.0    2018-01-29\n",
       "194820  00037SH9704B3DGS     ZALORA               14.0    2018-02-07\n",
       "246550  00037SH9704B3DGS     ZALORA               16.0    2018-02-18"
      ]
     },
     "execution_count": 17,
     "metadata": {},
     "output_type": "execute_result"
    }
   ],
   "source": [
    "cols = ['sku_config_id', 'brand_name', 'config_page_views', 'snapshot_date']\n",
    "df[cols].sort_values(['sku_config_id', 'snapshot_date']).head()"
   ]
  },
  {
   "cell_type": "code",
   "execution_count": 88,
   "metadata": {
    "ExecuteTime": {
     "end_time": "2018-04-06T17:06:27.421017Z",
     "start_time": "2018-04-06T17:06:27.416010Z"
    },
    "collapsed": true
   },
   "outputs": [
    {
     "data": {
      "text/plain": [
       "Index(['sku_config_id', 'group_id', 'md_sub_category_raw', 'md_sub_category',\n",
       "       'gender', 'activation_date', 'product_lifecycle', 'season',\n",
       "       'season_year', 'season_duration', 'is_new', 'n_remain_days',\n",
       "       'brand_name', 'color', 'tax_class', 'current_price', 'black_price',\n",
       "       'is_visible', 'config_page_views', 'n_stock', 'n_sold', 'color_pop',\n",
       "       'brand_pop', 'percent_discount_from_rrp', 'n_competitor',\n",
       "       'rel_price_as_ratio', 'psv', 'tsv', 'is_slow_sku', 'weekday',\n",
       "       'is_weekend', 'is_workday', 'gfg_created_at', 'snapshot_date',\n",
       "       'mean_page_view', 'total_page_view'],\n",
       "      dtype='object')"
      ]
     },
     "execution_count": 88,
     "metadata": {},
     "output_type": "execute_result"
    }
   ],
   "source": [
    "df.columns"
   ]
  },
  {
   "cell_type": "code",
   "execution_count": 10,
   "metadata": {
    "ExecuteTime": {
     "end_time": "2018-04-06T09:51:10.646509Z",
     "start_time": "2018-04-06T09:51:10.622810Z"
    },
    "collapsed": true
   },
   "outputs": [
    {
     "data": {
      "text/plain": [
       "count    317126.000000\n",
       "mean         43.693450\n",
       "std          82.093147\n",
       "min           0.000000\n",
       "25%           9.000000\n",
       "50%          21.000000\n",
       "75%          48.000000\n",
       "max        4752.000000\n",
       "Name: config_page_views, dtype: float64"
      ]
     },
     "execution_count": 10,
     "metadata": {},
     "output_type": "execute_result"
    }
   ],
   "source": [
    "df.config_page_views.describe()"
   ]
  },
  {
   "cell_type": "markdown",
   "metadata": {},
   "source": [
    "## Helpers"
   ]
  },
  {
   "cell_type": "code",
   "execution_count": 57,
   "metadata": {
    "ExecuteTime": {
     "end_time": "2018-04-06T16:29:03.636100Z",
     "start_time": "2018-04-06T16:29:03.632703Z"
    },
    "code_folding": [
     0
    ],
    "collapsed": true
   },
   "outputs": [],
   "source": [
    "def load_from_tmp(fname):\n",
    "    path = os.path.join(tmp_dat_dir, fname)\n",
    "    return pd.read_csv(path)"
   ]
  },
  {
   "cell_type": "code",
   "execution_count": 128,
   "metadata": {
    "ExecuteTime": {
     "end_time": "2018-04-11T18:07:47.091164Z",
     "start_time": "2018-04-11T18:07:47.086003Z"
    },
    "code_folding": [
     0
    ],
    "collapsed": true
   },
   "outputs": [],
   "source": [
    "def dump(df, fname, folder):\n",
    "    path = os.path.join(folder, fname)\n",
    "    df.to_csv(path, index=False)\n",
    "    print('dumped to file {}'.format(path))"
   ]
  },
  {
   "cell_type": "code",
   "execution_count": 4,
   "metadata": {
    "ExecuteTime": {
     "end_time": "2018-04-06T09:16:30.933840Z",
     "start_time": "2018-04-06T09:16:30.928515Z"
    },
    "code_folding": [
     0
    ],
    "collapsed": true
   },
   "outputs": [],
   "source": [
    "def to_percent(vals):\n",
    "    total = sum(vals)\n",
    "    return 100 * np.array(vals) / total"
   ]
  },
  {
   "cell_type": "code",
   "execution_count": 5,
   "metadata": {
    "ExecuteTime": {
     "end_time": "2018-04-06T09:16:30.939962Z",
     "start_time": "2018-04-06T09:16:30.936211Z"
    },
    "code_folding": [],
    "collapsed": true
   },
   "outputs": [],
   "source": [
    "def agg_sale(df, attribs):\n",
    "#     Agg sales based on given attributes\n",
    "    res = df.groupby(attribs).agg({'n_sold': sum})\n",
    "    res = res.reset_index().rename(columns={'n_sold': 'total_sale'})\n",
    "    return res"
   ]
  },
  {
   "cell_type": "code",
   "execution_count": 129,
   "metadata": {
    "ExecuteTime": {
     "end_time": "2018-04-11T18:08:15.925861Z",
     "start_time": "2018-04-11T18:08:15.923403Z"
    },
    "collapsed": true
   },
   "outputs": [],
   "source": [
    "del dump2tmp"
   ]
  },
  {
   "cell_type": "markdown",
   "metadata": {},
   "source": [
    "### For color popularity"
   ]
  },
  {
   "cell_type": "markdown",
   "metadata": {},
   "source": [
    "Color pop is measured in __percent__, and it should depend on:\n",
    "+ sub-cat (current version)\n",
    "+ year or better season (test?)"
   ]
  },
  {
   "cell_type": "code",
   "execution_count": 69,
   "metadata": {
    "ExecuteTime": {
     "end_time": "2018-04-06T16:48:32.186246Z",
     "start_time": "2018-04-06T16:48:32.180086Z"
    },
    "code_folding": [],
    "collapsed": true
   },
   "outputs": [],
   "source": [
    "def color_popularity(sc, df):\n",
    "#     Compute popularity of diff colors under a given sub-cat\n",
    "#     print(sc)\n",
    "    sub_df = df.query('md_sub_category == \"{}\"'.format(sc))\n",
    "    sale_by_color = agg_sale(sub_df, attribs=['color'])\n",
    "    sale_by_color['md_sub_category'] = sc\n",
    "    sale_by_color['percent'] = to_percent(sale_by_color['total_sale'])\n",
    "\n",
    "    return sale_by_color.sort_values('percent', ascending=False)"
   ]
  },
  {
   "cell_type": "code",
   "execution_count": 76,
   "metadata": {
    "ExecuteTime": {
     "end_time": "2018-04-06T16:52:04.792204Z",
     "start_time": "2018-04-06T16:52:04.767275Z"
    },
    "collapsed": true
   },
   "outputs": [
    {
     "data": {
      "text/plain": [
       "count    398.000000\n",
       "mean       0.251256\n",
       "std        1.336229\n",
       "min        0.012770\n",
       "25%        0.025540\n",
       "50%        0.051079\n",
       "75%        0.153237\n",
       "max       25.015962\n",
       "Name: percent, dtype: float64"
      ]
     },
     "execution_count": 76,
     "metadata": {},
     "output_type": "execute_result"
    }
   ],
   "source": [
    "color_popularity('backpacks', df)['percent'].describe()"
   ]
  },
  {
   "cell_type": "code",
   "execution_count": 79,
   "metadata": {
    "ExecuteTime": {
     "end_time": "2018-04-06T16:55:28.272219Z",
     "start_time": "2018-04-06T16:55:28.266046Z"
    },
    "code_folding": [
     0
    ],
    "collapsed": true
   },
   "outputs": [],
   "source": [
    "def cal_color_pop_by_cat(df, sub_cats):\n",
    "    print('computing color popularity under diff sub-cats...')\n",
    "    frames = [color_popularity(sc, df) for sc in sub_cats]\n",
    "    by_cat_color = pd.concat(frames)\n",
    "    by_cat_color.rename(columns={'percent': 'color_pop'}, inplace=True)\n",
    "    cols = ['color', 'md_sub_category', 'total_sale', 'color_pop']\n",
    "    by_cat_color = by_cat_color[cols].sort_values('color')\n",
    "\n",
    "    return by_cat_color"
   ]
  },
  {
   "cell_type": "code",
   "execution_count": 111,
   "metadata": {
    "ExecuteTime": {
     "end_time": "2018-04-06T17:30:28.382845Z",
     "start_time": "2018-04-06T17:30:28.284693Z"
    },
    "code_folding": [
     0
    ],
    "collapsed": true
   },
   "outputs": [],
   "source": [
    "def cal_color_pop_in_year(yr):\n",
    "    fname = os.path.join(tmp_dat_dir, '{}_md_input.csv'.format(yr))\n",
    "    df = pd.read_csv(fname)\n",
    "    print('# rows in loaded data: {}'.format(df.shape[0]))\n",
    "    sub_cats = df.md_sub_category.unique()\n",
    "    \n",
    "    print('# sub-cats: {}'.format(len(sub_cats)))\n",
    "    color_pop = cal_color_pop_by_cat(df, sub_cats)\n",
    "\n",
    "    print('merging back to md_input...')\n",
    "    # if there are old color pop data, drop them to avoid conflicts\n",
    "    if 'color_pop' in df.columns: \n",
    "        df = df.drop(['color_pop'], axis='columns')\n",
    "        \n",
    "    cols = ['color', 'md_sub_category', 'color_pop']\n",
    "    md_input = pd.merge(df, color_pop[cols], how='left')\n",
    "    \n",
    "    return md_input"
   ]
  },
  {
   "cell_type": "markdown",
   "metadata": {},
   "source": [
    "### Brand popularity"
   ]
  },
  {
   "cell_type": "code",
   "execution_count": 26,
   "metadata": {
    "ExecuteTime": {
     "end_time": "2018-04-06T15:57:21.711964Z",
     "start_time": "2018-04-06T15:57:21.705536Z"
    },
    "code_folding": [],
    "collapsed": true
   },
   "outputs": [],
   "source": [
    "def brand_pop_by_page_view(df):\n",
    "    #   return  total & avg views of each brand taken over all of its configs \n",
    "    \n",
    "    # mean views\n",
    "    mean_views = df.groupby(['brand_name', 'md_sub_category']).agg({'config_page_views': np.mean}) # 'impressions': np.mean\n",
    "    mean_views = mean_views.rename(columns={'config_page_views': 'mean_page_view'}).reset_index()\n",
    "    # total views\n",
    "    brand_views = df.groupby(['brand_name', 'md_sub_category']).agg({'config_page_views': sum})  # 'impressions': sum\n",
    "    brand_views = brand_views.rename(columns={'config_page_views': 'total_page_view'}).reset_index()\n",
    "\n",
    "    # merge total views and mean views\n",
    "    brand_views = brand_views.merge(mean_views)\n",
    "    return brand_views"
   ]
  },
  {
   "cell_type": "code",
   "execution_count": 92,
   "metadata": {
    "ExecuteTime": {
     "end_time": "2018-04-06T17:11:49.229987Z",
     "start_time": "2018-04-06T17:11:49.223001Z"
    },
    "code_folding": [],
    "collapsed": true
   },
   "outputs": [],
   "source": [
    "def cal_brand_pop(md_input):\n",
    "    \n",
    "    print('Aggregating views of configs under each brand...')\n",
    "    brand_pop = brand_pop_by_page_view(md_input)\n",
    "    \n",
    "    # drop old data to avoid conflict\n",
    "    to_drop = ['brand_pop', 'mean_page_view', 'total_page_view']\n",
    "    for c in to_drop:\n",
    "        if c in md_input.columns:\n",
    "            md_input.drop(c, axis='columns', inplace=True)\n",
    "    \n",
    "    print('merging back to md_input...')\n",
    "    cols = ['brand_name', 'md_sub_category', 'mean_page_view', 'total_page_view']\n",
    "    res = pd.merge(md_input, brand_pop[cols], how='left')\n",
    "    \n",
    "    return res"
   ]
  },
  {
   "cell_type": "markdown",
   "metadata": {
    "collapsed": true
   },
   "source": [
    "# Compute static features"
   ]
  },
  {
   "cell_type": "markdown",
   "metadata": {},
   "source": [
    "As both color pop and brand pop depend on sub-cats, we first need to extract sub-cats existing in data."
   ]
  },
  {
   "cell_type": "code",
   "execution_count": 17,
   "metadata": {
    "ExecuteTime": {
     "end_time": "2018-04-05T15:46:06.265961Z",
     "start_time": "2018-04-05T15:46:06.250014Z"
    }
   },
   "outputs": [
    {
     "name": "stdout",
     "output_type": "stream",
     "text": [
      "# sub-cats: 85\n"
     ]
    }
   ],
   "source": [
    "sub_cats = df.md_sub_category.unique()\n",
    "print('# sub-cats: {}'.format(len(sub_cats)))"
   ]
  },
  {
   "cell_type": "code",
   "execution_count": 20,
   "metadata": {
    "ExecuteTime": {
     "end_time": "2018-04-05T15:50:55.528121Z",
     "start_time": "2018-04-05T15:50:55.524158Z"
    }
   },
   "outputs": [
    {
     "data": {
      "text/plain": [
       "array(['backpacks', 'ballerina_flats', 'beauty_acc_tools'], dtype=object)"
      ]
     },
     "execution_count": 20,
     "metadata": {},
     "output_type": "execute_result"
    }
   ],
   "source": [
    "sub_cats[:3]"
   ]
  },
  {
   "cell_type": "markdown",
   "metadata": {},
   "source": [
    "## Color popularity"
   ]
  },
  {
   "cell_type": "markdown",
   "metadata": {},
   "source": [
    "### Compute"
   ]
  },
  {
   "cell_type": "code",
   "execution_count": 47,
   "metadata": {
    "ExecuteTime": {
     "end_time": "2018-04-05T16:17:57.497694Z",
     "start_time": "2018-04-05T16:17:56.244644Z"
    },
    "collapsed": true
   },
   "outputs": [
    {
     "name": "stdout",
     "output_type": "stream",
     "text": [
      "computing color popularity under diff sub-cats...\n",
      "backpacks\n",
      "ballerina_flats\n",
      "beauty_acc_tools\n",
      "belts_buckles\n",
      "blouses_tunics\n",
      "boots\n",
      "bra\n",
      "briefs\n",
      "business_dress_shoes\n",
      "cardigans_knitwear\n",
      "cleansers_toners\n",
      "dresses\n",
      "eyewear\n",
      "face_serums_treatments\n",
      "fashion_bags\n",
      "hats_caps\n",
      "heels\n",
      "hoodies_sweatshirts\n",
      "jackets_coats\n",
      "jeans\n",
      "jewellery\n",
      "leggings_tights\n",
      "loafers_moccasins_boat_shoes\n",
      "long_pants\n",
      "nightwear_sleepwear\n",
      "other_accessories\n",
      "other_bags\n",
      "other_shoes\n",
      "outdoor_shoes\n",
      "panties\n",
      "playsuits_jumpsuits\n",
      "polo_shirts\n",
      "sandals_flip_flops\n",
      "shirts\n",
      "shorts\n",
      "shoulder_bags\n",
      "skirts\n",
      "sling_bags\n",
      "slip_ons_espadrilles\n",
      "smart_casual_shoes\n",
      "sneakers\n",
      "socks\n",
      "sports_bra\n",
      "sports_lifestyle_accessories\n",
      "sports_lifestyle_backpacks\n",
      "sports_lifestyle_bags\n",
      "sports_lifestyle_bottoms\n",
      "sports_lifestyle_shoes\n",
      "sports_lifestyle_tops\n",
      "sports_performance_accessories\n",
      "sports_performance_backpacks\n",
      "sports_performance_bags\n",
      "sports_performance_bottoms\n",
      "sports_performance_shoes\n",
      "sports_performance_tops\n",
      "sports_swimwear\n",
      "suits\n",
      "swimwear_bottoms\n",
      "swimwear_tops\n",
      "t_shirts\n",
      "top_handles\n",
      "tops\n",
      "totes\n",
      "traditional_bottoms\n",
      "traditional_dresses\n",
      "traditional_tops\n",
      "travel_bags_luggage\n",
      "tudung_head_scarves\n",
      "underwear\n",
      "wallets_purses\n",
      "watches\n",
      "wedges\n",
      "swimwear_beachwear\n",
      "technology_accessories\n",
      "face_moisturisers\n",
      "face_make_up\n",
      "maternity\n",
      "fragrances\n",
      "traditional_accessories\n",
      "mules_clogs\n",
      "other_beauty\n",
      "hair\n",
      "lips\n",
      "bath_body\n",
      "eyes\n"
     ]
    },
    {
     "ename": "NameError",
     "evalue": "name 'yr' is not defined",
     "output_type": "error",
     "traceback": [
      "\u001b[0;31m---------------------------------------------------------------------------\u001b[0m",
      "\u001b[0;31mNameError\u001b[0m                                 Traceback (most recent call last)",
      "\u001b[0;32m<ipython-input-47-0d6d9443fb8e>\u001b[0m in \u001b[0;36m<module>\u001b[0;34m()\u001b[0m\n\u001b[1;32m      1\u001b[0m \u001b[0mcolor_pop\u001b[0m \u001b[0;34m=\u001b[0m \u001b[0mcal_color_pop_by_cat\u001b[0m\u001b[0;34m(\u001b[0m\u001b[0mdf\u001b[0m\u001b[0;34m,\u001b[0m \u001b[0msub_cats\u001b[0m\u001b[0;34m)\u001b[0m\u001b[0;34m\u001b[0m\u001b[0m\n\u001b[0;32m----> 2\u001b[0;31m \u001b[0mdump2tmp\u001b[0m\u001b[0;34m(\u001b[0m\u001b[0mcolor_pop\u001b[0m\u001b[0;34m,\u001b[0m \u001b[0mfname\u001b[0m\u001b[0;34m=\u001b[0m\u001b[0;34m'{}_color_pop.csv'\u001b[0m\u001b[0;34m.\u001b[0m\u001b[0mformat\u001b[0m\u001b[0;34m(\u001b[0m\u001b[0myr\u001b[0m\u001b[0;34m)\u001b[0m\u001b[0;34m)\u001b[0m\u001b[0;34m\u001b[0m\u001b[0m\n\u001b[0m\u001b[1;32m      3\u001b[0m \u001b[0mprint\u001b[0m\u001b[0;34m(\u001b[0m\u001b[0;34m'saved color popularity to {}'\u001b[0m\u001b[0;34m.\u001b[0m\u001b[0mformat\u001b[0m\u001b[0;34m(\u001b[0m\u001b[0mfname\u001b[0m\u001b[0;34m)\u001b[0m\u001b[0;34m)\u001b[0m\u001b[0;34m\u001b[0m\u001b[0m\n",
      "\u001b[0;31mNameError\u001b[0m: name 'yr' is not defined"
     ]
    }
   ],
   "source": [
    "color_pop = cal_color_pop_by_cat(df, sub_cats)\n",
    "dump2tmp(color_pop, fname='{}_color_pop.csv'.format(yr))\n",
    "print('saved color popularity to {}'.format(fname))"
   ]
  },
  {
   "cell_type": "code",
   "execution_count": 48,
   "metadata": {
    "ExecuteTime": {
     "end_time": "2018-04-05T16:18:03.901099Z",
     "start_time": "2018-04-05T16:18:03.886277Z"
    },
    "collapsed": true
   },
   "outputs": [
    {
     "data": {
      "text/html": [
       "<div>\n",
       "<style>\n",
       "    .dataframe thead tr:only-child th {\n",
       "        text-align: right;\n",
       "    }\n",
       "\n",
       "    .dataframe thead th {\n",
       "        text-align: left;\n",
       "    }\n",
       "\n",
       "    .dataframe tbody tr th {\n",
       "        vertical-align: top;\n",
       "    }\n",
       "</style>\n",
       "<table border=\"1\" class=\"dataframe\">\n",
       "  <thead>\n",
       "    <tr style=\"text-align: right;\">\n",
       "      <th></th>\n",
       "      <th>color</th>\n",
       "      <th>md_sub_category</th>\n",
       "      <th>total_sale</th>\n",
       "      <th>color_pop</th>\n",
       "    </tr>\n",
       "  </thead>\n",
       "  <tbody>\n",
       "    <tr>\n",
       "      <th>18</th>\n",
       "      <td>Black</td>\n",
       "      <td>backpacks</td>\n",
       "      <td>2482.0</td>\n",
       "      <td>28.042029</td>\n",
       "    </tr>\n",
       "    <tr>\n",
       "      <th>225</th>\n",
       "      <td>Navy</td>\n",
       "      <td>backpacks</td>\n",
       "      <td>395.0</td>\n",
       "      <td>4.462773</td>\n",
       "    </tr>\n",
       "    <tr>\n",
       "      <th>158</th>\n",
       "      <td>Grey</td>\n",
       "      <td>backpacks</td>\n",
       "      <td>222.0</td>\n",
       "      <td>2.508191</td>\n",
       "    </tr>\n",
       "    <tr>\n",
       "      <th>191</th>\n",
       "      <td>Light Grey</td>\n",
       "      <td>backpacks</td>\n",
       "      <td>154.0</td>\n",
       "      <td>1.739916</td>\n",
       "    </tr>\n",
       "    <tr>\n",
       "      <th>130</th>\n",
       "      <td>Eclipse Xhatch/Black Rubber</td>\n",
       "      <td>backpacks</td>\n",
       "      <td>127.0</td>\n",
       "      <td>1.434866</td>\n",
       "    </tr>\n",
       "  </tbody>\n",
       "</table>\n",
       "</div>"
      ],
      "text/plain": [
       "                           color md_sub_category  total_sale  color_pop\n",
       "18                         Black       backpacks      2482.0  28.042029\n",
       "225                         Navy       backpacks       395.0   4.462773\n",
       "158                         Grey       backpacks       222.0   2.508191\n",
       "191                   Light Grey       backpacks       154.0   1.739916\n",
       "130  Eclipse Xhatch/Black Rubber       backpacks       127.0   1.434866"
      ]
     },
     "execution_count": 48,
     "metadata": {},
     "output_type": "execute_result"
    }
   ],
   "source": [
    "color_pop.sort_values(['md_sub_category', 'color_pop'], ascending=[True, False]).head()"
   ]
  },
  {
   "cell_type": "markdown",
   "metadata": {
    "heading_collapsed": true
   },
   "source": [
    "### Merge back with md_input"
   ]
  },
  {
   "cell_type": "code",
   "execution_count": 54,
   "metadata": {
    "ExecuteTime": {
     "end_time": "2018-04-05T16:21:49.186527Z",
     "start_time": "2018-04-05T16:21:48.545779Z"
    },
    "collapsed": true,
    "hidden": true
   },
   "outputs": [],
   "source": [
    "cols = ['color', 'md_sub_category', 'color_pop']\n",
    "md_input = pd.merge(df, color_pop[cols], how='outer')"
   ]
  },
  {
   "cell_type": "code",
   "execution_count": 56,
   "metadata": {
    "ExecuteTime": {
     "end_time": "2018-04-05T16:23:55.168906Z",
     "start_time": "2018-04-05T16:23:55.164907Z"
    },
    "hidden": true
   },
   "outputs": [
    {
     "name": "stdout",
     "output_type": "stream",
     "text": [
      "No loss = True\n"
     ]
    }
   ],
   "source": [
    "# check if we lost any color\n",
    "print('No loss = {}'.format(md_input.shape[0] == df.shape[0]))"
   ]
  },
  {
   "cell_type": "markdown",
   "metadata": {},
   "source": [
    "### Compare color popularity of years"
   ]
  },
  {
   "cell_type": "code",
   "execution_count": 67,
   "metadata": {
    "ExecuteTime": {
     "end_time": "2018-04-05T16:57:25.822084Z",
     "start_time": "2018-04-05T16:57:25.819156Z"
    },
    "collapsed": true
   },
   "outputs": [],
   "source": [
    "_17_md_input = md_input\n",
    "del md_input"
   ]
  },
  {
   "cell_type": "code",
   "execution_count": 82,
   "metadata": {
    "ExecuteTime": {
     "end_time": "2018-04-05T17:08:49.307458Z",
     "start_time": "2018-04-05T17:08:49.299794Z"
    },
    "collapsed": true
   },
   "outputs": [],
   "source": [
    "_17_color_pop.rename(columns={'color_pop': '_17_color_pop'}, inplace=True)"
   ]
  },
  {
   "cell_type": "code",
   "execution_count": 83,
   "metadata": {
    "ExecuteTime": {
     "end_time": "2018-04-05T17:08:49.314407Z",
     "start_time": "2018-04-05T17:08:49.309110Z"
    },
    "collapsed": true
   },
   "outputs": [],
   "source": [
    "_18_color_pop.rename(columns={'color_pop': '_18_color_pop'}, inplace=True)"
   ]
  },
  {
   "cell_type": "code",
   "execution_count": 84,
   "metadata": {
    "ExecuteTime": {
     "end_time": "2018-04-05T17:08:52.097704Z",
     "start_time": "2018-04-05T17:08:52.077076Z"
    },
    "collapsed": true
   },
   "outputs": [],
   "source": [
    "cols = ['color', 'md_sub_category']\n",
    "join_df = pd.merge(_17_color_pop, _18_color_pop, on=cols)"
   ]
  },
  {
   "cell_type": "code",
   "execution_count": 87,
   "metadata": {
    "ExecuteTime": {
     "end_time": "2018-04-05T17:23:41.344939Z",
     "start_time": "2018-04-05T17:23:41.340222Z"
    },
    "collapsed": true
   },
   "outputs": [],
   "source": [
    "join_df.drop(['total_sale_x', 'total_sale_y'], axis='columns', inplace=True)"
   ]
  },
  {
   "cell_type": "code",
   "execution_count": 88,
   "metadata": {
    "ExecuteTime": {
     "end_time": "2018-04-05T17:23:42.861119Z",
     "start_time": "2018-04-05T17:23:42.851681Z"
    },
    "collapsed": true
   },
   "outputs": [
    {
     "data": {
      "text/html": [
       "<div>\n",
       "<style>\n",
       "    .dataframe thead tr:only-child th {\n",
       "        text-align: right;\n",
       "    }\n",
       "\n",
       "    .dataframe thead th {\n",
       "        text-align: left;\n",
       "    }\n",
       "\n",
       "    .dataframe tbody tr th {\n",
       "        vertical-align: top;\n",
       "    }\n",
       "</style>\n",
       "<table border=\"1\" class=\"dataframe\">\n",
       "  <thead>\n",
       "    <tr style=\"text-align: right;\">\n",
       "      <th></th>\n",
       "      <th>color</th>\n",
       "      <th>md_sub_category</th>\n",
       "      <th>_17_color_pop</th>\n",
       "      <th>_18_color_pop</th>\n",
       "    </tr>\n",
       "  </thead>\n",
       "  <tbody>\n",
       "    <tr>\n",
       "      <th>0</th>\n",
       "      <td>33005602</td>\n",
       "      <td>wallets_purses</td>\n",
       "      <td>0.260586</td>\n",
       "      <td>0.019604</td>\n",
       "    </tr>\n",
       "    <tr>\n",
       "      <th>1</th>\n",
       "      <td>70'S Rinse</td>\n",
       "      <td>leggings_tights</td>\n",
       "      <td>0.443787</td>\n",
       "      <td>0.050556</td>\n",
       "    </tr>\n",
       "    <tr>\n",
       "      <th>2</th>\n",
       "      <td>80s Blue With Rips</td>\n",
       "      <td>jeans</td>\n",
       "      <td>0.021213</td>\n",
       "      <td>0.167138</td>\n",
       "    </tr>\n",
       "    <tr>\n",
       "      <th>3</th>\n",
       "      <td>90'S Bleach</td>\n",
       "      <td>leggings_tights</td>\n",
       "      <td>0.147929</td>\n",
       "      <td>0.050556</td>\n",
       "    </tr>\n",
       "    <tr>\n",
       "      <th>4</th>\n",
       "      <td>90'S Blue</td>\n",
       "      <td>shorts</td>\n",
       "      <td>0.113387</td>\n",
       "      <td>0.014257</td>\n",
       "    </tr>\n",
       "  </tbody>\n",
       "</table>\n",
       "</div>"
      ],
      "text/plain": [
       "                color  md_sub_category  _17_color_pop  _18_color_pop\n",
       "0            33005602   wallets_purses       0.260586       0.019604\n",
       "1          70'S Rinse  leggings_tights       0.443787       0.050556\n",
       "2  80s Blue With Rips            jeans       0.021213       0.167138\n",
       "3         90'S Bleach  leggings_tights       0.147929       0.050556\n",
       "4           90'S Blue           shorts       0.113387       0.014257"
      ]
     },
     "execution_count": 88,
     "metadata": {},
     "output_type": "execute_result"
    }
   ],
   "source": [
    "join_df.head()"
   ]
  },
  {
   "cell_type": "code",
   "execution_count": 89,
   "metadata": {
    "ExecuteTime": {
     "end_time": "2018-04-05T17:23:45.472819Z",
     "start_time": "2018-04-05T17:23:45.460646Z"
    },
    "collapsed": true
   },
   "outputs": [
    {
     "data": {
      "text/html": [
       "<div>\n",
       "<style>\n",
       "    .dataframe thead tr:only-child th {\n",
       "        text-align: right;\n",
       "    }\n",
       "\n",
       "    .dataframe thead th {\n",
       "        text-align: left;\n",
       "    }\n",
       "\n",
       "    .dataframe tbody tr th {\n",
       "        vertical-align: top;\n",
       "    }\n",
       "</style>\n",
       "<table border=\"1\" class=\"dataframe\">\n",
       "  <thead>\n",
       "    <tr style=\"text-align: right;\">\n",
       "      <th></th>\n",
       "      <th>color</th>\n",
       "      <th>md_sub_category</th>\n",
       "      <th>_17_color_pop</th>\n",
       "      <th>_18_color_pop</th>\n",
       "    </tr>\n",
       "  </thead>\n",
       "  <tbody>\n",
       "    <tr>\n",
       "      <th>617</th>\n",
       "      <td>Black</td>\n",
       "      <td>panties</td>\n",
       "      <td>20.101458</td>\n",
       "      <td>9.723546</td>\n",
       "    </tr>\n",
       "    <tr>\n",
       "      <th>618</th>\n",
       "      <td>Black</td>\n",
       "      <td>long_pants</td>\n",
       "      <td>27.733879</td>\n",
       "      <td>27.177368</td>\n",
       "    </tr>\n",
       "    <tr>\n",
       "      <th>619</th>\n",
       "      <td>Black</td>\n",
       "      <td>briefs</td>\n",
       "      <td>17.550411</td>\n",
       "      <td>10.281280</td>\n",
       "    </tr>\n",
       "    <tr>\n",
       "      <th>620</th>\n",
       "      <td>Black</td>\n",
       "      <td>jackets_coats</td>\n",
       "      <td>31.738035</td>\n",
       "      <td>29.285123</td>\n",
       "    </tr>\n",
       "    <tr>\n",
       "      <th>621</th>\n",
       "      <td>Black</td>\n",
       "      <td>traditional_dresses</td>\n",
       "      <td>8.235453</td>\n",
       "      <td>11.351428</td>\n",
       "    </tr>\n",
       "  </tbody>\n",
       "</table>\n",
       "</div>"
      ],
      "text/plain": [
       "     color      md_sub_category  _17_color_pop  _18_color_pop\n",
       "617  Black              panties      20.101458       9.723546\n",
       "618  Black           long_pants      27.733879      27.177368\n",
       "619  Black               briefs      17.550411      10.281280\n",
       "620  Black        jackets_coats      31.738035      29.285123\n",
       "621  Black  traditional_dresses       8.235453      11.351428"
      ]
     },
     "execution_count": 89,
     "metadata": {},
     "output_type": "execute_result"
    }
   ],
   "source": [
    "join_df.query('color == \"Black\"').head()"
   ]
  },
  {
   "cell_type": "markdown",
   "metadata": {},
   "source": [
    "## Brand popularity"
   ]
  },
  {
   "cell_type": "code",
   "execution_count": 32,
   "metadata": {
    "ExecuteTime": {
     "end_time": "2018-04-06T16:04:54.565468Z",
     "start_time": "2018-04-06T16:04:51.675161Z"
    }
   },
   "outputs": [
    {
     "name": "stdout",
     "output_type": "stream",
     "text": [
      "Aggregating views in year 2017 of configs under each brand...\n",
      "merging back to md_input...\n"
     ]
    }
   ],
   "source": [
    "_17_md_input = cal_brand_pop(2017)"
   ]
  },
  {
   "cell_type": "code",
   "execution_count": 36,
   "metadata": {
    "ExecuteTime": {
     "end_time": "2018-04-06T16:07:59.289463Z",
     "start_time": "2018-04-06T16:07:59.192862Z"
    },
    "collapsed": true
   },
   "outputs": [
    {
     "data": {
      "text/html": [
       "<div>\n",
       "<style>\n",
       "    .dataframe thead tr:only-child th {\n",
       "        text-align: right;\n",
       "    }\n",
       "\n",
       "    .dataframe thead th {\n",
       "        text-align: left;\n",
       "    }\n",
       "\n",
       "    .dataframe tbody tr th {\n",
       "        vertical-align: top;\n",
       "    }\n",
       "</style>\n",
       "<table border=\"1\" class=\"dataframe\">\n",
       "  <thead>\n",
       "    <tr style=\"text-align: right;\">\n",
       "      <th></th>\n",
       "      <th>sku_config_id</th>\n",
       "      <th>brand_name</th>\n",
       "      <th>md_sub_category</th>\n",
       "      <th>mean_page_view</th>\n",
       "      <th>total_page_view</th>\n",
       "    </tr>\n",
       "  </thead>\n",
       "  <tbody>\n",
       "    <tr>\n",
       "      <th>44927</th>\n",
       "      <td>HO685AC0RRAXMY</td>\n",
       "      <td>House of Avenues</td>\n",
       "      <td>backpacks</td>\n",
       "      <td>2.000000</td>\n",
       "      <td>2.0</td>\n",
       "    </tr>\n",
       "    <tr>\n",
       "      <th>152175</th>\n",
       "      <td>NE182AC85EFQMY</td>\n",
       "      <td>New Look</td>\n",
       "      <td>backpacks</td>\n",
       "      <td>2.500000</td>\n",
       "      <td>5.0</td>\n",
       "    </tr>\n",
       "    <tr>\n",
       "      <th>244133</th>\n",
       "      <td>NE182AC85EFQMY</td>\n",
       "      <td>New Look</td>\n",
       "      <td>backpacks</td>\n",
       "      <td>2.500000</td>\n",
       "      <td>5.0</td>\n",
       "    </tr>\n",
       "    <tr>\n",
       "      <th>212210</th>\n",
       "      <td>FA880AC28YHVMY</td>\n",
       "      <td>Factorie</td>\n",
       "      <td>backpacks</td>\n",
       "      <td>3.000000</td>\n",
       "      <td>3.0</td>\n",
       "    </tr>\n",
       "    <tr>\n",
       "      <th>9</th>\n",
       "      <td>SU527AC23IQIMY</td>\n",
       "      <td>Sunnydaysweety</td>\n",
       "      <td>backpacks</td>\n",
       "      <td>4.000000</td>\n",
       "      <td>8.0</td>\n",
       "    </tr>\n",
       "    <tr>\n",
       "      <th>177724</th>\n",
       "      <td>SU527AC38IPTMY</td>\n",
       "      <td>Sunnydaysweety</td>\n",
       "      <td>backpacks</td>\n",
       "      <td>4.000000</td>\n",
       "      <td>8.0</td>\n",
       "    </tr>\n",
       "    <tr>\n",
       "      <th>16519</th>\n",
       "      <td>PL604AC45AZIMY</td>\n",
       "      <td>PLAYBOY BUNNY</td>\n",
       "      <td>backpacks</td>\n",
       "      <td>5.642857</td>\n",
       "      <td>79.0</td>\n",
       "    </tr>\n",
       "    <tr>\n",
       "      <th>84739</th>\n",
       "      <td>PL604AC83MTOMY</td>\n",
       "      <td>PLAYBOY BUNNY</td>\n",
       "      <td>backpacks</td>\n",
       "      <td>5.642857</td>\n",
       "      <td>79.0</td>\n",
       "    </tr>\n",
       "    <tr>\n",
       "      <th>129114</th>\n",
       "      <td>PL604AC46AZHMY</td>\n",
       "      <td>PLAYBOY BUNNY</td>\n",
       "      <td>backpacks</td>\n",
       "      <td>5.642857</td>\n",
       "      <td>79.0</td>\n",
       "    </tr>\n",
       "    <tr>\n",
       "      <th>129118</th>\n",
       "      <td>PL604AC65MUGMY</td>\n",
       "      <td>PLAYBOY BUNNY</td>\n",
       "      <td>backpacks</td>\n",
       "      <td>5.642857</td>\n",
       "      <td>79.0</td>\n",
       "    </tr>\n",
       "    <tr>\n",
       "      <th>142912</th>\n",
       "      <td>PL604AC56DSDMY</td>\n",
       "      <td>PLAYBOY BUNNY</td>\n",
       "      <td>backpacks</td>\n",
       "      <td>5.642857</td>\n",
       "      <td>79.0</td>\n",
       "    </tr>\n",
       "    <tr>\n",
       "      <th>188072</th>\n",
       "      <td>PL604AC95AXKMY</td>\n",
       "      <td>PLAYBOY BUNNY</td>\n",
       "      <td>backpacks</td>\n",
       "      <td>5.642857</td>\n",
       "      <td>79.0</td>\n",
       "    </tr>\n",
       "    <tr>\n",
       "      <th>191518</th>\n",
       "      <td>PL604AC0RX79MY</td>\n",
       "      <td>PLAYBOY BUNNY</td>\n",
       "      <td>backpacks</td>\n",
       "      <td>5.642857</td>\n",
       "      <td>79.0</td>\n",
       "    </tr>\n",
       "    <tr>\n",
       "      <th>196011</th>\n",
       "      <td>PL604AC87AXSMY</td>\n",
       "      <td>PLAYBOY BUNNY</td>\n",
       "      <td>backpacks</td>\n",
       "      <td>5.642857</td>\n",
       "      <td>79.0</td>\n",
       "    </tr>\n",
       "    <tr>\n",
       "      <th>219404</th>\n",
       "      <td>PL604AC97AXIMY</td>\n",
       "      <td>PLAYBOY BUNNY</td>\n",
       "      <td>backpacks</td>\n",
       "      <td>5.642857</td>\n",
       "      <td>79.0</td>\n",
       "    </tr>\n",
       "    <tr>\n",
       "      <th>244110</th>\n",
       "      <td>PL604AC84MTNMY</td>\n",
       "      <td>PLAYBOY BUNNY</td>\n",
       "      <td>backpacks</td>\n",
       "      <td>5.642857</td>\n",
       "      <td>79.0</td>\n",
       "    </tr>\n",
       "    <tr>\n",
       "      <th>260324</th>\n",
       "      <td>PL604AC87AXSMY</td>\n",
       "      <td>PLAYBOY BUNNY</td>\n",
       "      <td>backpacks</td>\n",
       "      <td>5.642857</td>\n",
       "      <td>79.0</td>\n",
       "    </tr>\n",
       "    <tr>\n",
       "      <th>272691</th>\n",
       "      <td>PL604AC84MTNMY</td>\n",
       "      <td>PLAYBOY BUNNY</td>\n",
       "      <td>backpacks</td>\n",
       "      <td>5.642857</td>\n",
       "      <td>79.0</td>\n",
       "    </tr>\n",
       "    <tr>\n",
       "      <th>286681</th>\n",
       "      <td>PL604AC84MTNMY</td>\n",
       "      <td>PLAYBOY BUNNY</td>\n",
       "      <td>backpacks</td>\n",
       "      <td>5.642857</td>\n",
       "      <td>79.0</td>\n",
       "    </tr>\n",
       "    <tr>\n",
       "      <th>290980</th>\n",
       "      <td>PL604AC97AXIMY</td>\n",
       "      <td>PLAYBOY BUNNY</td>\n",
       "      <td>backpacks</td>\n",
       "      <td>5.642857</td>\n",
       "      <td>79.0</td>\n",
       "    </tr>\n",
       "  </tbody>\n",
       "</table>\n",
       "</div>"
      ],
      "text/plain": [
       "         sku_config_id        brand_name md_sub_category  mean_page_view  \\\n",
       "44927   HO685AC0RRAXMY  House of Avenues       backpacks        2.000000   \n",
       "152175  NE182AC85EFQMY          New Look       backpacks        2.500000   \n",
       "244133  NE182AC85EFQMY          New Look       backpacks        2.500000   \n",
       "212210  FA880AC28YHVMY          Factorie       backpacks        3.000000   \n",
       "9       SU527AC23IQIMY    Sunnydaysweety       backpacks        4.000000   \n",
       "177724  SU527AC38IPTMY    Sunnydaysweety       backpacks        4.000000   \n",
       "16519   PL604AC45AZIMY     PLAYBOY BUNNY       backpacks        5.642857   \n",
       "84739   PL604AC83MTOMY     PLAYBOY BUNNY       backpacks        5.642857   \n",
       "129114  PL604AC46AZHMY     PLAYBOY BUNNY       backpacks        5.642857   \n",
       "129118  PL604AC65MUGMY     PLAYBOY BUNNY       backpacks        5.642857   \n",
       "142912  PL604AC56DSDMY     PLAYBOY BUNNY       backpacks        5.642857   \n",
       "188072  PL604AC95AXKMY     PLAYBOY BUNNY       backpacks        5.642857   \n",
       "191518  PL604AC0RX79MY     PLAYBOY BUNNY       backpacks        5.642857   \n",
       "196011  PL604AC87AXSMY     PLAYBOY BUNNY       backpacks        5.642857   \n",
       "219404  PL604AC97AXIMY     PLAYBOY BUNNY       backpacks        5.642857   \n",
       "244110  PL604AC84MTNMY     PLAYBOY BUNNY       backpacks        5.642857   \n",
       "260324  PL604AC87AXSMY     PLAYBOY BUNNY       backpacks        5.642857   \n",
       "272691  PL604AC84MTNMY     PLAYBOY BUNNY       backpacks        5.642857   \n",
       "286681  PL604AC84MTNMY     PLAYBOY BUNNY       backpacks        5.642857   \n",
       "290980  PL604AC97AXIMY     PLAYBOY BUNNY       backpacks        5.642857   \n",
       "\n",
       "        total_page_view  \n",
       "44927               2.0  \n",
       "152175              5.0  \n",
       "244133              5.0  \n",
       "212210              3.0  \n",
       "9                   8.0  \n",
       "177724              8.0  \n",
       "16519              79.0  \n",
       "84739              79.0  \n",
       "129114             79.0  \n",
       "129118             79.0  \n",
       "142912             79.0  \n",
       "188072             79.0  \n",
       "191518             79.0  \n",
       "196011             79.0  \n",
       "219404             79.0  \n",
       "244110             79.0  \n",
       "260324             79.0  \n",
       "272691             79.0  \n",
       "286681             79.0  \n",
       "290980             79.0  "
      ]
     },
     "execution_count": 36,
     "metadata": {},
     "output_type": "execute_result"
    }
   ],
   "source": [
    "cols = ['sku_config_id', 'brand_name', 'md_sub_category', 'mean_page_view', 'total_page_view']\n",
    "_17_md_input[cols].sort_values(['md_sub_category', 'mean_page_view']).head(20)"
   ]
  },
  {
   "cell_type": "code",
   "execution_count": 40,
   "metadata": {
    "ExecuteTime": {
     "end_time": "2018-04-06T16:11:11.941345Z",
     "start_time": "2018-04-06T16:11:11.920384Z"
    },
    "collapsed": true
   },
   "outputs": [
    {
     "data": {
      "text/plain": [
       "count    173330.000000\n",
       "mean       6940.283257\n",
       "std        7205.770832\n",
       "min           0.000000\n",
       "25%         401.000000\n",
       "50%        3636.000000\n",
       "75%       14357.000000\n",
       "max       18881.000000\n",
       "Name: brand_pop, dtype: float64"
      ]
     },
     "execution_count": 40,
     "metadata": {},
     "output_type": "execute_result"
    }
   ],
   "source": [
    "_17_md_input.brand_pop.describe()"
   ]
  },
  {
   "cell_type": "markdown",
   "metadata": {},
   "source": [
    "## Compute all"
   ]
  },
  {
   "cell_type": "markdown",
   "metadata": {},
   "source": [
    "### year 2017"
   ]
  },
  {
   "cell_type": "code",
   "execution_count": 104,
   "metadata": {
    "ExecuteTime": {
     "end_time": "2018-04-06T17:28:27.849010Z",
     "start_time": "2018-04-06T17:28:23.349336Z"
    }
   },
   "outputs": [
    {
     "name": "stdout",
     "output_type": "stream",
     "text": [
      "# sub-cats: 85\n",
      "computing color popularity under diff sub-cats...\n",
      "merging back to md_input...\n"
     ]
    }
   ],
   "source": [
    "_17_md_input = cal_color_pop_in_year(2017)"
   ]
  },
  {
   "cell_type": "code",
   "execution_count": 105,
   "metadata": {
    "ExecuteTime": {
     "end_time": "2018-04-06T17:28:27.873442Z",
     "start_time": "2018-04-06T17:28:27.850515Z"
    },
    "collapsed": true
   },
   "outputs": [
    {
     "data": {
      "text/plain": [
       "count    335699.000000\n",
       "mean          6.931715\n",
       "std          11.007803\n",
       "min           0.000589\n",
       "25%           0.230899\n",
       "50%           1.285297\n",
       "75%           9.777187\n",
       "max         100.000000\n",
       "Name: color_pop, dtype: float64"
      ]
     },
     "execution_count": 105,
     "metadata": {},
     "output_type": "execute_result"
    }
   ],
   "source": [
    "_17_md_input.color_pop.describe()"
   ]
  },
  {
   "cell_type": "code",
   "execution_count": 106,
   "metadata": {
    "ExecuteTime": {
     "end_time": "2018-04-06T17:28:34.538624Z",
     "start_time": "2018-04-06T17:28:34.535020Z"
    }
   },
   "outputs": [
    {
     "data": {
      "text/plain": [
       "336317"
      ]
     },
     "execution_count": 106,
     "metadata": {},
     "output_type": "execute_result"
    }
   ],
   "source": [
    "_17_md_input.shape[0]"
   ]
  },
  {
   "cell_type": "code",
   "execution_count": 107,
   "metadata": {
    "ExecuteTime": {
     "end_time": "2018-04-06T17:28:48.420218Z",
     "start_time": "2018-04-06T17:28:47.310558Z"
    }
   },
   "outputs": [
    {
     "name": "stdout",
     "output_type": "stream",
     "text": [
      "Aggregating views of configs under each brand...\n",
      "merging back to md_input...\n"
     ]
    }
   ],
   "source": [
    "_17_md_input = cal_brand_pop(_17_md_input)"
   ]
  },
  {
   "cell_type": "code",
   "execution_count": 108,
   "metadata": {
    "ExecuteTime": {
     "end_time": "2018-04-06T17:28:48.599311Z",
     "start_time": "2018-04-06T17:28:48.421859Z"
    },
    "collapsed": true
   },
   "outputs": [
    {
     "data": {
      "text/html": [
       "<div>\n",
       "<style>\n",
       "    .dataframe thead tr:only-child th {\n",
       "        text-align: right;\n",
       "    }\n",
       "\n",
       "    .dataframe thead th {\n",
       "        text-align: left;\n",
       "    }\n",
       "\n",
       "    .dataframe tbody tr th {\n",
       "        vertical-align: top;\n",
       "    }\n",
       "</style>\n",
       "<table border=\"1\" class=\"dataframe\">\n",
       "  <thead>\n",
       "    <tr style=\"text-align: right;\">\n",
       "      <th></th>\n",
       "      <th>mean_page_view</th>\n",
       "      <th>total_page_view</th>\n",
       "    </tr>\n",
       "  </thead>\n",
       "  <tbody>\n",
       "    <tr>\n",
       "      <th>count</th>\n",
       "      <td>336306.000000</td>\n",
       "      <td>3.363060e+05</td>\n",
       "    </tr>\n",
       "    <tr>\n",
       "      <th>mean</th>\n",
       "      <td>43.752601</td>\n",
       "      <td>3.802965e+05</td>\n",
       "    </tr>\n",
       "    <tr>\n",
       "      <th>std</th>\n",
       "      <td>30.692754</td>\n",
       "      <td>8.580472e+05</td>\n",
       "    </tr>\n",
       "    <tr>\n",
       "      <th>min</th>\n",
       "      <td>0.000000</td>\n",
       "      <td>0.000000e+00</td>\n",
       "    </tr>\n",
       "    <tr>\n",
       "      <th>25%</th>\n",
       "      <td>19.989011</td>\n",
       "      <td>5.025000e+03</td>\n",
       "    </tr>\n",
       "    <tr>\n",
       "      <th>50%</th>\n",
       "      <td>34.722736</td>\n",
       "      <td>2.560000e+04</td>\n",
       "    </tr>\n",
       "    <tr>\n",
       "      <th>75%</th>\n",
       "      <td>62.426072</td>\n",
       "      <td>1.479700e+05</td>\n",
       "    </tr>\n",
       "    <tr>\n",
       "      <th>max</th>\n",
       "      <td>419.000000</td>\n",
       "      <td>2.933873e+06</td>\n",
       "    </tr>\n",
       "  </tbody>\n",
       "</table>\n",
       "</div>"
      ],
      "text/plain": [
       "       mean_page_view  total_page_view\n",
       "count   336306.000000     3.363060e+05\n",
       "mean        43.752601     3.802965e+05\n",
       "std         30.692754     8.580472e+05\n",
       "min          0.000000     0.000000e+00\n",
       "25%         19.989011     5.025000e+03\n",
       "50%         34.722736     2.560000e+04\n",
       "75%         62.426072     1.479700e+05\n",
       "max        419.000000     2.933873e+06"
      ]
     },
     "execution_count": 108,
     "metadata": {},
     "output_type": "execute_result"
    }
   ],
   "source": [
    "cols = ['mean_page_view', 'total_page_view']\n",
    "_17_md_input[cols].describe()"
   ]
  },
  {
   "cell_type": "code",
   "execution_count": 109,
   "metadata": {
    "ExecuteTime": {
     "end_time": "2018-04-06T17:29:03.881833Z",
     "start_time": "2018-04-06T17:29:03.877970Z"
    }
   },
   "outputs": [
    {
     "data": {
      "text/plain": [
       "336317"
      ]
     },
     "execution_count": 109,
     "metadata": {},
     "output_type": "execute_result"
    }
   ],
   "source": [
    "_17_md_input.shape[0]"
   ]
  },
  {
   "cell_type": "code",
   "execution_count": 110,
   "metadata": {
    "ExecuteTime": {
     "end_time": "2018-04-06T17:29:20.888538Z",
     "start_time": "2018-04-06T17:29:11.107542Z"
    }
   },
   "outputs": [
    {
     "name": "stdout",
     "output_type": "stream",
     "text": [
      "dumped to file /Users/gfg/data/venture=zalora/sg/clean/groups/tmp/2018_md_input.csv\n"
     ]
    }
   ],
   "source": [
    "fname='{}_md_input.csv'.format(yr)\n",
    "dump2tmp(_17_md_input, fname)"
   ]
  },
  {
   "cell_type": "markdown",
   "metadata": {},
   "source": [
    "### year 2018"
   ]
  },
  {
   "cell_type": "code",
   "execution_count": 113,
   "metadata": {
    "ExecuteTime": {
     "end_time": "2018-04-06T17:41:49.014661Z",
     "start_time": "2018-04-06T17:41:43.833185Z"
    },
    "collapsed": true
   },
   "outputs": [
    {
     "name": "stdout",
     "output_type": "stream",
     "text": [
      "# rows in loaded data: 438599\n",
      "# sub-cats: 85\n",
      "computing color popularity under diff sub-cats...\n",
      "merging back to md_input...\n"
     ]
    },
    {
     "data": {
      "text/plain": [
       "count    437657.000000\n",
       "mean          6.565534\n",
       "std          11.066952\n",
       "min           0.000450\n",
       "25%           0.194058\n",
       "50%           1.099756\n",
       "75%           8.548028\n",
       "max         100.000000\n",
       "Name: color_pop, dtype: float64"
      ]
     },
     "execution_count": 113,
     "metadata": {},
     "output_type": "execute_result"
    }
   ],
   "source": [
    "_18_md_input = cal_color_pop_in_year(2018)\n",
    "_18_md_input.color_pop.describe()"
   ]
  },
  {
   "cell_type": "code",
   "execution_count": 114,
   "metadata": {
    "ExecuteTime": {
     "end_time": "2018-04-06T17:42:07.683254Z",
     "start_time": "2018-04-06T17:42:06.124641Z"
    },
    "collapsed": true
   },
   "outputs": [
    {
     "name": "stdout",
     "output_type": "stream",
     "text": [
      "Aggregating views of configs under each brand...\n",
      "merging back to md_input...\n"
     ]
    },
    {
     "data": {
      "text/html": [
       "<div>\n",
       "<style>\n",
       "    .dataframe thead tr:only-child th {\n",
       "        text-align: right;\n",
       "    }\n",
       "\n",
       "    .dataframe thead th {\n",
       "        text-align: left;\n",
       "    }\n",
       "\n",
       "    .dataframe tbody tr th {\n",
       "        vertical-align: top;\n",
       "    }\n",
       "</style>\n",
       "<table border=\"1\" class=\"dataframe\">\n",
       "  <thead>\n",
       "    <tr style=\"text-align: right;\">\n",
       "      <th></th>\n",
       "      <th>mean_page_view</th>\n",
       "      <th>total_page_view</th>\n",
       "    </tr>\n",
       "  </thead>\n",
       "  <tbody>\n",
       "    <tr>\n",
       "      <th>count</th>\n",
       "      <td>438594.000000</td>\n",
       "      <td>4.385940e+05</td>\n",
       "    </tr>\n",
       "    <tr>\n",
       "      <th>mean</th>\n",
       "      <td>39.955174</td>\n",
       "      <td>6.808142e+05</td>\n",
       "    </tr>\n",
       "    <tr>\n",
       "      <th>std</th>\n",
       "      <td>30.522790</td>\n",
       "      <td>1.478696e+06</td>\n",
       "    </tr>\n",
       "    <tr>\n",
       "      <th>min</th>\n",
       "      <td>0.000000</td>\n",
       "      <td>0.000000e+00</td>\n",
       "    </tr>\n",
       "    <tr>\n",
       "      <th>25%</th>\n",
       "      <td>15.475983</td>\n",
       "      <td>4.832000e+03</td>\n",
       "    </tr>\n",
       "    <tr>\n",
       "      <th>50%</th>\n",
       "      <td>29.713904</td>\n",
       "      <td>3.139700e+04</td>\n",
       "    </tr>\n",
       "    <tr>\n",
       "      <th>75%</th>\n",
       "      <td>58.811068</td>\n",
       "      <td>1.978840e+05</td>\n",
       "    </tr>\n",
       "    <tr>\n",
       "      <th>max</th>\n",
       "      <td>134.972222</td>\n",
       "      <td>4.743483e+06</td>\n",
       "    </tr>\n",
       "  </tbody>\n",
       "</table>\n",
       "</div>"
      ],
      "text/plain": [
       "       mean_page_view  total_page_view\n",
       "count   438594.000000     4.385940e+05\n",
       "mean        39.955174     6.808142e+05\n",
       "std         30.522790     1.478696e+06\n",
       "min          0.000000     0.000000e+00\n",
       "25%         15.475983     4.832000e+03\n",
       "50%         29.713904     3.139700e+04\n",
       "75%         58.811068     1.978840e+05\n",
       "max        134.972222     4.743483e+06"
      ]
     },
     "execution_count": 114,
     "metadata": {},
     "output_type": "execute_result"
    }
   ],
   "source": [
    "_18_md_input = cal_brand_pop(_18_md_input)\n",
    "_18_md_input[cols].describe()"
   ]
  },
  {
   "cell_type": "markdown",
   "metadata": {},
   "source": [
    "Why in results in two years are exactly the same? Smth weird, need to check.\n",
    "Cause: accidentally overwrite data of 2018 by data of 2017. "
   ]
  },
  {
   "cell_type": "markdown",
   "metadata": {},
   "source": [
    "## Make final md_input"
   ]
  },
  {
   "cell_type": "code",
   "execution_count": 115,
   "metadata": {
    "ExecuteTime": {
     "end_time": "2018-04-06T17:43:23.585448Z",
     "start_time": "2018-04-06T17:43:23.284649Z"
    },
    "collapsed": true
   },
   "outputs": [],
   "source": [
    "md_input = pd.concat([_17_md_input, _18_md_input])"
   ]
  },
  {
   "cell_type": "code",
   "execution_count": 116,
   "metadata": {
    "ExecuteTime": {
     "end_time": "2018-04-06T17:43:48.905212Z",
     "start_time": "2018-04-06T17:43:47.788359Z"
    },
    "collapsed": true
   },
   "outputs": [
    {
     "data": {
      "text/html": [
       "<div>\n",
       "<style>\n",
       "    .dataframe thead tr:only-child th {\n",
       "        text-align: right;\n",
       "    }\n",
       "\n",
       "    .dataframe thead th {\n",
       "        text-align: left;\n",
       "    }\n",
       "\n",
       "    .dataframe tbody tr th {\n",
       "        vertical-align: top;\n",
       "    }\n",
       "</style>\n",
       "<table border=\"1\" class=\"dataframe\">\n",
       "  <thead>\n",
       "    <tr style=\"text-align: right;\">\n",
       "      <th></th>\n",
       "      <th>sku_config_id</th>\n",
       "      <th>md_sub_category</th>\n",
       "      <th>color</th>\n",
       "      <th>color_pop</th>\n",
       "      <th>brand_name</th>\n",
       "      <th>mean_page_view</th>\n",
       "      <th>total_page_view</th>\n",
       "    </tr>\n",
       "  </thead>\n",
       "  <tbody>\n",
       "    <tr>\n",
       "      <th>0</th>\n",
       "      <td>222D0AC98E04A7GS</td>\n",
       "      <td>backpacks</td>\n",
       "      <td>OLIVE</td>\n",
       "      <td>0.101683</td>\n",
       "      <td>Something Borrowed</td>\n",
       "      <td>35.159919</td>\n",
       "      <td>17369.0</td>\n",
       "    </tr>\n",
       "    <tr>\n",
       "      <th>3126</th>\n",
       "      <td>DF044ZZ05BA578GS</td>\n",
       "      <td>sneakers</td>\n",
       "      <td>Silver</td>\n",
       "      <td>1.510398</td>\n",
       "      <td>Something Borrowed</td>\n",
       "      <td>43.613394</td>\n",
       "      <td>28654.0</td>\n",
       "    </tr>\n",
       "    <tr>\n",
       "      <th>3125</th>\n",
       "      <td>CO302SH0RNHPMY</td>\n",
       "      <td>sneakers</td>\n",
       "      <td>White</td>\n",
       "      <td>20.591025</td>\n",
       "      <td>Converse</td>\n",
       "      <td>72.628239</td>\n",
       "      <td>81271.0</td>\n",
       "    </tr>\n",
       "    <tr>\n",
       "      <th>3124</th>\n",
       "      <td>AD479SH64HMTMY</td>\n",
       "      <td>sneakers</td>\n",
       "      <td>Silver</td>\n",
       "      <td>1.510398</td>\n",
       "      <td>addicts anonymous</td>\n",
       "      <td>44.821429</td>\n",
       "      <td>6275.0</td>\n",
       "    </tr>\n",
       "    <tr>\n",
       "      <th>3123</th>\n",
       "      <td>VA142SH14GZHMY</td>\n",
       "      <td>sneakers</td>\n",
       "      <td>Black/True White</td>\n",
       "      <td>1.240423</td>\n",
       "      <td>VANS</td>\n",
       "      <td>75.035287</td>\n",
       "      <td>131837.0</td>\n",
       "    </tr>\n",
       "  </tbody>\n",
       "</table>\n",
       "</div>"
      ],
      "text/plain": [
       "         sku_config_id md_sub_category             color  color_pop  \\\n",
       "0     222D0AC98E04A7GS       backpacks             OLIVE   0.101683   \n",
       "3126  DF044ZZ05BA578GS        sneakers            Silver   1.510398   \n",
       "3125    CO302SH0RNHPMY        sneakers             White  20.591025   \n",
       "3124    AD479SH64HMTMY        sneakers            Silver   1.510398   \n",
       "3123    VA142SH14GZHMY        sneakers  Black/True White   1.240423   \n",
       "\n",
       "              brand_name  mean_page_view  total_page_view  \n",
       "0     Something Borrowed       35.159919          17369.0  \n",
       "3126  Something Borrowed       43.613394          28654.0  \n",
       "3125            Converse       72.628239          81271.0  \n",
       "3124   addicts anonymous       44.821429           6275.0  \n",
       "3123                VANS       75.035287         131837.0  "
      ]
     },
     "execution_count": 116,
     "metadata": {},
     "output_type": "execute_result"
    }
   ],
   "source": [
    "md_input.sort_values('snapshot_date', inplace=True)\n",
    "cols = ['sku_config_id', 'md_sub_category', 'color', 'color_pop','brand_name',  'mean_page_view', 'total_page_view']\n",
    "md_input[cols].head()"
   ]
  },
  {
   "cell_type": "code",
   "execution_count": 117,
   "metadata": {
    "ExecuteTime": {
     "end_time": "2018-04-06T17:44:42.354813Z",
     "start_time": "2018-04-06T17:44:19.702820Z"
    }
   },
   "outputs": [
    {
     "name": "stdout",
     "output_type": "stream",
     "text": [
      "dumped to file /Users/gfg/data/venture=zalora/sg/clean/groups/tmp/md_input.csv\n"
     ]
    }
   ],
   "source": [
    "dump2tmp(md_input, fname='md_input.csv')"
   ]
  },
  {
   "cell_type": "code",
   "execution_count": 124,
   "metadata": {
    "ExecuteTime": {
     "end_time": "2018-04-11T17:49:50.659068Z",
     "start_time": "2018-04-11T17:49:49.601320Z"
    },
    "collapsed": true
   },
   "outputs": [
    {
     "name": "stdout",
     "output_type": "stream",
     "text": [
      "<class 'pandas.core.frame.DataFrame'>\n",
      "Int64Index: 774916 entries, 0 to 438598\n",
      "Data columns (total 35 columns):\n",
      "sku_config_id                774916 non-null object\n",
      "group_id                     774916 non-null object\n",
      "md_sub_category_raw          774915 non-null object\n",
      "md_sub_category              774916 non-null object\n",
      "gender                       774916 non-null object\n",
      "activation_date              774138 non-null object\n",
      "product_lifecycle            773996 non-null float64\n",
      "season                       774916 non-null object\n",
      "season_year                  774916 non-null int64\n",
      "season_duration              773996 non-null float64\n",
      "is_new                       774138 non-null float64\n",
      "n_remain_days                773218 non-null float64\n",
      "brand_name                   774916 non-null object\n",
      "color                        773356 non-null object\n",
      "tax_class                    774916 non-null float64\n",
      "current_price                774916 non-null float64\n",
      "black_price                  774916 non-null float64\n",
      "is_visible                   774916 non-null int64\n",
      "config_page_views            746035 non-null float64\n",
      "n_stock                      774916 non-null int64\n",
      "n_sold                       774916 non-null float64\n",
      "percent_discount_from_rrp    774916 non-null float64\n",
      "n_competitor                 774916 non-null int64\n",
      "rel_price_as_ratio           774916 non-null float64\n",
      "psv                          624234 non-null float64\n",
      "tsv                          770069 non-null float64\n",
      "is_slow_sku                  773996 non-null float64\n",
      "weekday                      774916 non-null int64\n",
      "is_weekend                   774916 non-null int64\n",
      "is_workday                   774916 non-null int64\n",
      "gfg_created_at               774916 non-null object\n",
      "snapshot_date                774916 non-null object\n",
      "color_pop                    773356 non-null float64\n",
      "mean_page_view               774900 non-null float64\n",
      "total_page_view              774900 non-null float64\n",
      "dtypes: float64(17), int64(7), object(11)\n",
      "memory usage: 212.8+ MB\n"
     ]
    }
   ],
   "source": [
    "md_input.info()"
   ]
  },
  {
   "cell_type": "code",
   "execution_count": 127,
   "metadata": {
    "ExecuteTime": {
     "end_time": "2018-04-11T18:05:31.775508Z",
     "start_time": "2018-04-11T18:05:28.707670Z"
    },
    "collapsed": true
   },
   "outputs": [],
   "source": [
    "md_input['year'] = pd.to_datetime(md_input['snapshot_date']).apply(lambda x: x.year)"
   ]
  },
  {
   "cell_type": "code",
   "execution_count": 131,
   "metadata": {
    "ExecuteTime": {
     "end_time": "2018-04-11T18:13:25.168843Z",
     "start_time": "2018-04-11T18:13:02.369403Z"
    }
   },
   "outputs": [
    {
     "name": "stdout",
     "output_type": "stream",
     "text": [
      "dumped to file /Users/gfg/data/venture=zalora/sg/clean/groups/ready/md_input.csv\n"
     ]
    }
   ],
   "source": [
    "dump(md_input, 'md_input.csv', ready_dir)"
   ]
  },
  {
   "cell_type": "markdown",
   "metadata": {},
   "source": [
    "## Make md_static_data\n",
    "+ color pop \n",
    "+ brand pop"
   ]
  },
  {
   "cell_type": "code",
   "execution_count": 172,
   "metadata": {
    "ExecuteTime": {
     "end_time": "2018-04-12T14:52:19.586151Z",
     "start_time": "2018-04-12T14:52:19.581129Z"
    },
    "code_folding": [],
    "collapsed": true
   },
   "outputs": [],
   "source": [
    "# add columns to match required format of md_static_data\n",
    "def add_meta_data(df, static_param='feature_color_pop', country='sg', venture='Zalora'):\n",
    "    res = df.copy()\n",
    "    res['venture'] = venture\n",
    "    res['country'] = country\n",
    "    res['creation_date'] = pd.datetime.today().date()\n",
    "    res['static_param'] = static_param\n",
    "    return res    "
   ]
  },
  {
   "cell_type": "markdown",
   "metadata": {},
   "source": [
    "### Color pop"
   ]
  },
  {
   "cell_type": "code",
   "execution_count": 174,
   "metadata": {
    "ExecuteTime": {
     "end_time": "2018-04-12T14:54:42.371454Z",
     "start_time": "2018-04-12T14:54:42.366661Z"
    },
    "code_folding": [],
    "collapsed": true
   },
   "outputs": [],
   "source": [
    "def query_color_pop(md_input, country='sg'):\n",
    "    cols = ['color', 'md_sub_category', 'year', 'color_pop']\n",
    "    color_pop = md_input[cols]\n",
    "    color_pop = add_meta_data(color_pop, static_param='feature_color_pop', country=country)\n",
    "    color_pop = color_pop.rename(columns={'md_sub_category': 'var_1', 'color': 'var_2', 'year': 'var_3', \n",
    "                              'color_pop': 'metric'})\n",
    "#     color_pop.to_csv(clean_dir + country + 'color_pop.csv', index=False)\n",
    "    return color_pop"
   ]
  },
  {
   "cell_type": "markdown",
   "metadata": {},
   "source": [
    "### Brand pop"
   ]
  },
  {
   "cell_type": "code",
   "execution_count": 175,
   "metadata": {
    "ExecuteTime": {
     "end_time": "2018-04-12T14:54:48.164043Z",
     "start_time": "2018-04-12T14:54:48.158624Z"
    },
    "code_folding": [
     0
    ],
    "collapsed": true
   },
   "outputs": [],
   "source": [
    "def query_brand_pop(md_input, country='sg'):\n",
    "    cols = ['brand_name', 'md_sub_category', 'year', 'mean_page_view']\n",
    "    brand_pop = md_input[cols].copy()\n",
    "    brand_pop.rename(columns={'mean_page_view': 'brand_pop'}, inplace=True)\n",
    "    brand_pop = add_meta_data(brand_pop, static_param='feature_brand_pop', country=country)\n",
    "    \n",
    "    brand_pop = brand_pop.rename(columns={'md_sub_category': 'var_1', 'brand_name': 'var_2', 'year': 'var_3',\n",
    "                                         'brand_pop': 'metric'})\n",
    "    return brand_pop"
   ]
  },
  {
   "cell_type": "markdown",
   "metadata": {},
   "source": [
    "### Static data"
   ]
  },
  {
   "cell_type": "code",
   "execution_count": 176,
   "metadata": {
    "ExecuteTime": {
     "end_time": "2018-04-12T14:55:01.814982Z",
     "start_time": "2018-04-12T14:55:00.133587Z"
    },
    "collapsed": true
   },
   "outputs": [],
   "source": [
    "color_pop = query_color_pop(md_input, country='sg')\n",
    "brand_pop = query_brand_pop(md_input, country='sg')\n",
    "md_static_data = pd.concat([color_pop, brand_pop])"
   ]
  },
  {
   "cell_type": "code",
   "execution_count": 177,
   "metadata": {
    "ExecuteTime": {
     "end_time": "2018-04-12T14:55:01.830430Z",
     "start_time": "2018-04-12T14:55:01.816707Z"
    },
    "collapsed": true
   },
   "outputs": [
    {
     "data": {
      "text/html": [
       "<div>\n",
       "<style>\n",
       "    .dataframe thead tr:only-child th {\n",
       "        text-align: right;\n",
       "    }\n",
       "\n",
       "    .dataframe thead th {\n",
       "        text-align: left;\n",
       "    }\n",
       "\n",
       "    .dataframe tbody tr th {\n",
       "        vertical-align: top;\n",
       "    }\n",
       "</style>\n",
       "<table border=\"1\" class=\"dataframe\">\n",
       "  <thead>\n",
       "    <tr style=\"text-align: right;\">\n",
       "      <th></th>\n",
       "      <th>var_2</th>\n",
       "      <th>var_1</th>\n",
       "      <th>var_3</th>\n",
       "      <th>metric</th>\n",
       "      <th>venture</th>\n",
       "      <th>country</th>\n",
       "      <th>creation_date</th>\n",
       "      <th>static_param</th>\n",
       "    </tr>\n",
       "  </thead>\n",
       "  <tbody>\n",
       "    <tr>\n",
       "      <th>0</th>\n",
       "      <td>OLIVE</td>\n",
       "      <td>backpacks</td>\n",
       "      <td>2017</td>\n",
       "      <td>0.101683</td>\n",
       "      <td>Zalora</td>\n",
       "      <td>sg</td>\n",
       "      <td>2018-04-12</td>\n",
       "      <td>feature_color_pop</td>\n",
       "    </tr>\n",
       "    <tr>\n",
       "      <th>3126</th>\n",
       "      <td>Silver</td>\n",
       "      <td>sneakers</td>\n",
       "      <td>2017</td>\n",
       "      <td>1.510398</td>\n",
       "      <td>Zalora</td>\n",
       "      <td>sg</td>\n",
       "      <td>2018-04-12</td>\n",
       "      <td>feature_color_pop</td>\n",
       "    </tr>\n",
       "    <tr>\n",
       "      <th>3125</th>\n",
       "      <td>White</td>\n",
       "      <td>sneakers</td>\n",
       "      <td>2017</td>\n",
       "      <td>20.591025</td>\n",
       "      <td>Zalora</td>\n",
       "      <td>sg</td>\n",
       "      <td>2018-04-12</td>\n",
       "      <td>feature_color_pop</td>\n",
       "    </tr>\n",
       "    <tr>\n",
       "      <th>3124</th>\n",
       "      <td>Silver</td>\n",
       "      <td>sneakers</td>\n",
       "      <td>2017</td>\n",
       "      <td>1.510398</td>\n",
       "      <td>Zalora</td>\n",
       "      <td>sg</td>\n",
       "      <td>2018-04-12</td>\n",
       "      <td>feature_color_pop</td>\n",
       "    </tr>\n",
       "    <tr>\n",
       "      <th>3123</th>\n",
       "      <td>Black/True White</td>\n",
       "      <td>sneakers</td>\n",
       "      <td>2017</td>\n",
       "      <td>1.240423</td>\n",
       "      <td>Zalora</td>\n",
       "      <td>sg</td>\n",
       "      <td>2018-04-12</td>\n",
       "      <td>feature_color_pop</td>\n",
       "    </tr>\n",
       "  </tbody>\n",
       "</table>\n",
       "</div>"
      ],
      "text/plain": [
       "                 var_2      var_1  var_3     metric venture country  \\\n",
       "0                OLIVE  backpacks   2017   0.101683  Zalora      sg   \n",
       "3126            Silver   sneakers   2017   1.510398  Zalora      sg   \n",
       "3125             White   sneakers   2017  20.591025  Zalora      sg   \n",
       "3124            Silver   sneakers   2017   1.510398  Zalora      sg   \n",
       "3123  Black/True White   sneakers   2017   1.240423  Zalora      sg   \n",
       "\n",
       "     creation_date       static_param  \n",
       "0       2018-04-12  feature_color_pop  \n",
       "3126    2018-04-12  feature_color_pop  \n",
       "3125    2018-04-12  feature_color_pop  \n",
       "3124    2018-04-12  feature_color_pop  \n",
       "3123    2018-04-12  feature_color_pop  "
      ]
     },
     "execution_count": 177,
     "metadata": {},
     "output_type": "execute_result"
    }
   ],
   "source": [
    "md_static_data.head()"
   ]
  },
  {
   "cell_type": "code",
   "execution_count": 178,
   "metadata": {
    "ExecuteTime": {
     "end_time": "2018-04-12T14:55:16.411946Z",
     "start_time": "2018-04-12T14:55:15.934694Z"
    },
    "collapsed": true
   },
   "outputs": [
    {
     "data": {
      "text/html": [
       "<div>\n",
       "<style>\n",
       "    .dataframe thead tr:only-child th {\n",
       "        text-align: right;\n",
       "    }\n",
       "\n",
       "    .dataframe thead th {\n",
       "        text-align: left;\n",
       "    }\n",
       "\n",
       "    .dataframe tbody tr th {\n",
       "        vertical-align: top;\n",
       "    }\n",
       "</style>\n",
       "<table border=\"1\" class=\"dataframe\">\n",
       "  <thead>\n",
       "    <tr style=\"text-align: right;\">\n",
       "      <th></th>\n",
       "      <th>var_2</th>\n",
       "      <th>var_1</th>\n",
       "      <th>var_3</th>\n",
       "      <th>metric</th>\n",
       "      <th>venture</th>\n",
       "      <th>country</th>\n",
       "      <th>creation_date</th>\n",
       "      <th>static_param</th>\n",
       "    </tr>\n",
       "  </thead>\n",
       "  <tbody>\n",
       "    <tr>\n",
       "      <th>0</th>\n",
       "      <td>Something Borrowed</td>\n",
       "      <td>backpacks</td>\n",
       "      <td>2017</td>\n",
       "      <td>35.159919</td>\n",
       "      <td>Zalora</td>\n",
       "      <td>sg</td>\n",
       "      <td>2018-04-12</td>\n",
       "      <td>feature_brand_pop</td>\n",
       "    </tr>\n",
       "    <tr>\n",
       "      <th>3126</th>\n",
       "      <td>Something Borrowed</td>\n",
       "      <td>sneakers</td>\n",
       "      <td>2017</td>\n",
       "      <td>43.613394</td>\n",
       "      <td>Zalora</td>\n",
       "      <td>sg</td>\n",
       "      <td>2018-04-12</td>\n",
       "      <td>feature_brand_pop</td>\n",
       "    </tr>\n",
       "    <tr>\n",
       "      <th>3125</th>\n",
       "      <td>Converse</td>\n",
       "      <td>sneakers</td>\n",
       "      <td>2017</td>\n",
       "      <td>72.628239</td>\n",
       "      <td>Zalora</td>\n",
       "      <td>sg</td>\n",
       "      <td>2018-04-12</td>\n",
       "      <td>feature_brand_pop</td>\n",
       "    </tr>\n",
       "    <tr>\n",
       "      <th>3124</th>\n",
       "      <td>addicts anonymous</td>\n",
       "      <td>sneakers</td>\n",
       "      <td>2017</td>\n",
       "      <td>44.821429</td>\n",
       "      <td>Zalora</td>\n",
       "      <td>sg</td>\n",
       "      <td>2018-04-12</td>\n",
       "      <td>feature_brand_pop</td>\n",
       "    </tr>\n",
       "    <tr>\n",
       "      <th>3123</th>\n",
       "      <td>VANS</td>\n",
       "      <td>sneakers</td>\n",
       "      <td>2017</td>\n",
       "      <td>75.035287</td>\n",
       "      <td>Zalora</td>\n",
       "      <td>sg</td>\n",
       "      <td>2018-04-12</td>\n",
       "      <td>feature_brand_pop</td>\n",
       "    </tr>\n",
       "  </tbody>\n",
       "</table>\n",
       "</div>"
      ],
      "text/plain": [
       "                   var_2      var_1  var_3     metric venture country  \\\n",
       "0     Something Borrowed  backpacks   2017  35.159919  Zalora      sg   \n",
       "3126  Something Borrowed   sneakers   2017  43.613394  Zalora      sg   \n",
       "3125            Converse   sneakers   2017  72.628239  Zalora      sg   \n",
       "3124   addicts anonymous   sneakers   2017  44.821429  Zalora      sg   \n",
       "3123                VANS   sneakers   2017  75.035287  Zalora      sg   \n",
       "\n",
       "     creation_date       static_param  \n",
       "0       2018-04-12  feature_brand_pop  \n",
       "3126    2018-04-12  feature_brand_pop  \n",
       "3125    2018-04-12  feature_brand_pop  \n",
       "3124    2018-04-12  feature_brand_pop  \n",
       "3123    2018-04-12  feature_brand_pop  "
      ]
     },
     "execution_count": 178,
     "metadata": {},
     "output_type": "execute_result"
    }
   ],
   "source": [
    "md_static_data.query('static_param == \"feature_brand_pop\"').head()"
   ]
  },
  {
   "cell_type": "code",
   "execution_count": 179,
   "metadata": {
    "ExecuteTime": {
     "end_time": "2018-04-12T14:55:54.360455Z",
     "start_time": "2018-04-12T14:55:44.421870Z"
    },
    "collapsed": true
   },
   "outputs": [],
   "source": [
    "md_static_data.to_csv(clean_dir + 'md_static_data.csv')"
   ]
  },
  {
   "cell_type": "markdown",
   "metadata": {
    "collapsed": true
   },
   "source": [
    "### Check data created in python script"
   ]
  },
  {
   "cell_type": "code",
   "execution_count": 38,
   "metadata": {
    "ExecuteTime": {
     "end_time": "2018-04-20T15:02:18.359608Z",
     "start_time": "2018-04-20T15:02:18.356438Z"
    },
    "collapsed": true
   },
   "outputs": [],
   "source": [
    "country='id'\n",
    "data_country = '/Users/gfg/data/markdown/clean/venture=Zalora/{}/'.format(country)"
   ]
  },
  {
   "cell_type": "code",
   "execution_count": 39,
   "metadata": {
    "ExecuteTime": {
     "end_time": "2018-04-20T15:03:28.638553Z",
     "start_time": "2018-04-20T15:03:28.542686Z"
    }
   },
   "outputs": [
    {
     "data": {
      "text/plain": [
       "(41299, 10)"
      ]
     },
     "execution_count": 39,
     "metadata": {},
     "output_type": "execute_result"
    }
   ],
   "source": [
    "md_static_data = pd.read_csv(data_country + 'md_static_data.csv')\n",
    "md_static_data.shape"
   ]
  },
  {
   "cell_type": "code",
   "execution_count": 40,
   "metadata": {
    "ExecuteTime": {
     "end_time": "2018-04-20T15:04:27.264571Z",
     "start_time": "2018-04-20T15:04:27.194518Z"
    },
    "collapsed": true
   },
   "outputs": [
    {
     "data": {
      "text/plain": [
       "count    6512.000000\n",
       "mean       39.096759\n",
       "std        53.727679\n",
       "min         0.000000\n",
       "25%        10.453154\n",
       "50%        22.000000\n",
       "75%        48.744647\n",
       "max      1389.950000\n",
       "Name: metric, dtype: float64"
      ]
     },
     "execution_count": 40,
     "metadata": {},
     "output_type": "execute_result"
    }
   ],
   "source": [
    "md_static_data.query('static_param == \"feature_brand_pop\"')['metric'].describe()"
   ]
  },
  {
   "cell_type": "code",
   "execution_count": 43,
   "metadata": {
    "ExecuteTime": {
     "end_time": "2018-04-20T15:13:08.817722Z",
     "start_time": "2018-04-20T15:13:07.772427Z"
    },
    "collapsed": true
   },
   "outputs": [],
   "source": [
    "id_md_input['brand_cat_year'] = id_md_input.brand_name + id_md_input.md_sub_category + id_md_input.year.apply(lambda x: str(x))"
   ]
  },
  {
   "cell_type": "code",
   "execution_count": 44,
   "metadata": {
    "ExecuteTime": {
     "end_time": "2018-04-20T15:13:27.067347Z",
     "start_time": "2018-04-20T15:13:26.956238Z"
    }
   },
   "outputs": [
    {
     "data": {
      "text/plain": [
       "6560"
      ]
     },
     "execution_count": 44,
     "metadata": {},
     "output_type": "execute_result"
    }
   ],
   "source": [
    "id_md_input['brand_cat_year'].nunique()"
   ]
  },
  {
   "cell_type": "code",
   "execution_count": 41,
   "metadata": {
    "ExecuteTime": {
     "end_time": "2018-04-20T15:04:57.180680Z",
     "start_time": "2018-04-20T15:04:57.160836Z"
    },
    "collapsed": true
   },
   "outputs": [
    {
     "data": {
      "text/plain": [
       "count    34739.000000\n",
       "mean         0.466335\n",
       "std          2.544698\n",
       "min          0.002770\n",
       "25%          0.018518\n",
       "50%          0.054785\n",
       "75%          0.187836\n",
       "max        100.000000\n",
       "Name: metric, dtype: float64"
      ]
     },
     "execution_count": 41,
     "metadata": {},
     "output_type": "execute_result"
    }
   ],
   "source": [
    "md_static_data.query('static_param == \"feature_color_pop\"')['metric'].describe()"
   ]
  },
  {
   "cell_type": "code",
   "execution_count": 34,
   "metadata": {
    "ExecuteTime": {
     "end_time": "2018-04-19T16:55:59.012230Z",
     "start_time": "2018-04-19T16:55:49.826276Z"
    },
    "collapsed": true
   },
   "outputs": [],
   "source": [
    "fname = data_country + 'full_md_input.csv'\n",
    "id_md_input = pd.read_csv(fname)"
   ]
  },
  {
   "cell_type": "code",
   "execution_count": 29,
   "metadata": {
    "ExecuteTime": {
     "end_time": "2018-04-19T11:42:54.869962Z",
     "start_time": "2018-04-19T11:42:54.684380Z"
    },
    "collapsed": true
   },
   "outputs": [
    {
     "data": {
      "text/html": [
       "<div>\n",
       "<style>\n",
       "    .dataframe thead tr:only-child th {\n",
       "        text-align: right;\n",
       "    }\n",
       "\n",
       "    .dataframe thead th {\n",
       "        text-align: left;\n",
       "    }\n",
       "\n",
       "    .dataframe tbody tr th {\n",
       "        vertical-align: top;\n",
       "    }\n",
       "</style>\n",
       "<table border=\"1\" class=\"dataframe\">\n",
       "  <thead>\n",
       "    <tr style=\"text-align: right;\">\n",
       "      <th></th>\n",
       "      <th>color_pop</th>\n",
       "      <th>brand_pop</th>\n",
       "    </tr>\n",
       "  </thead>\n",
       "  <tbody>\n",
       "    <tr>\n",
       "      <th>count</th>\n",
       "      <td>1.337943e+06</td>\n",
       "      <td>1.337910e+06</td>\n",
       "    </tr>\n",
       "    <tr>\n",
       "      <th>mean</th>\n",
       "      <td>7.954642e+00</td>\n",
       "      <td>7.138253e+01</td>\n",
       "    </tr>\n",
       "    <tr>\n",
       "      <th>std</th>\n",
       "      <td>1.128177e+01</td>\n",
       "      <td>6.273531e+01</td>\n",
       "    </tr>\n",
       "    <tr>\n",
       "      <th>min</th>\n",
       "      <td>2.673868e-03</td>\n",
       "      <td>0.000000e+00</td>\n",
       "    </tr>\n",
       "    <tr>\n",
       "      <th>25%</th>\n",
       "      <td>3.527337e-01</td>\n",
       "      <td>3.197537e+01</td>\n",
       "    </tr>\n",
       "    <tr>\n",
       "      <th>50%</th>\n",
       "      <td>2.592908e+00</td>\n",
       "      <td>5.715293e+01</td>\n",
       "    </tr>\n",
       "    <tr>\n",
       "      <th>75%</th>\n",
       "      <td>1.131429e+01</td>\n",
       "      <td>9.099307e+01</td>\n",
       "    </tr>\n",
       "    <tr>\n",
       "      <th>max</th>\n",
       "      <td>1.000000e+02</td>\n",
       "      <td>1.034500e+03</td>\n",
       "    </tr>\n",
       "  </tbody>\n",
       "</table>\n",
       "</div>"
      ],
      "text/plain": [
       "          color_pop     brand_pop\n",
       "count  1.337943e+06  1.337910e+06\n",
       "mean   7.954642e+00  7.138253e+01\n",
       "std    1.128177e+01  6.273531e+01\n",
       "min    2.673868e-03  0.000000e+00\n",
       "25%    3.527337e-01  3.197537e+01\n",
       "50%    2.592908e+00  5.715293e+01\n",
       "75%    1.131429e+01  9.099307e+01\n",
       "max    1.000000e+02  1.034500e+03"
      ]
     },
     "execution_count": 29,
     "metadata": {},
     "output_type": "execute_result"
    }
   ],
   "source": [
    "cols = ['color_pop', 'brand_pop']\n",
    "id_md_input[cols].describe()"
   ]
  },
  {
   "cell_type": "code",
   "execution_count": 35,
   "metadata": {
    "ExecuteTime": {
     "end_time": "2018-04-19T16:56:12.996706Z",
     "start_time": "2018-04-19T16:56:12.992821Z"
    }
   },
   "outputs": [
    {
     "data": {
      "text/plain": [
       "(1305820, 36)"
      ]
     },
     "execution_count": 35,
     "metadata": {},
     "output_type": "execute_result"
    }
   ],
   "source": [
    "id_md_input.shape"
   ]
  },
  {
   "cell_type": "code",
   "execution_count": 36,
   "metadata": {
    "ExecuteTime": {
     "end_time": "2018-04-19T16:56:52.871802Z",
     "start_time": "2018-04-19T16:56:49.805966Z"
    }
   },
   "outputs": [
    {
     "data": {
      "text/plain": [
       "(1305820, 36)"
      ]
     },
     "execution_count": 36,
     "metadata": {},
     "output_type": "execute_result"
    }
   ],
   "source": [
    "id_md_input.drop_duplicates().shape"
   ]
  },
  {
   "cell_type": "code",
   "execution_count": 31,
   "metadata": {
    "ExecuteTime": {
     "end_time": "2018-04-19T13:58:37.582765Z",
     "start_time": "2018-04-19T13:58:37.517840Z"
    },
    "collapsed": true
   },
   "outputs": [],
   "source": [
    "test_df = pd.read_csv(data_country + 'test_md_input.csv')"
   ]
  },
  {
   "cell_type": "code",
   "execution_count": 32,
   "metadata": {
    "ExecuteTime": {
     "end_time": "2018-04-19T13:58:52.745146Z",
     "start_time": "2018-04-19T13:58:52.725822Z"
    },
    "collapsed": true
   },
   "outputs": [
    {
     "name": "stdout",
     "output_type": "stream",
     "text": [
      "<class 'pandas.core.frame.DataFrame'>\n",
      "RangeIndex: 8260 entries, 0 to 8259\n",
      "Data columns (total 35 columns):\n",
      "sku_config_id                8260 non-null object\n",
      "group_id                     8260 non-null object\n",
      "md_sub_category_raw          8260 non-null object\n",
      "md_sub_category              8260 non-null object\n",
      "gender                       8260 non-null object\n",
      "activation_date              8260 non-null object\n",
      "product_lifecycle            8220 non-null float64\n",
      "season                       8260 non-null object\n",
      "season_year                  8260 non-null int64\n",
      "season_duration              8220 non-null float64\n",
      "is_new                       8260 non-null float64\n",
      "n_remain_days                8220 non-null float64\n",
      "brand_name                   8260 non-null object\n",
      "color                        8260 non-null object\n",
      "tax_class                    8260 non-null float64\n",
      "current_price                8260 non-null float64\n",
      "black_price                  8260 non-null float64\n",
      "is_visible                   8260 non-null int64\n",
      "config_page_views            8260 non-null float64\n",
      "n_stock                      8260 non-null int64\n",
      "n_sold                       8260 non-null float64\n",
      "color_pop                    5 non-null float64\n",
      "brand_pop                    1379 non-null float64\n",
      "percent_discount_from_rrp    8260 non-null float64\n",
      "n_competitor                 8260 non-null int64\n",
      "rel_price_as_ratio           8260 non-null float64\n",
      "psv                          6059 non-null float64\n",
      "tsv                          8206 non-null float64\n",
      "is_slow_sku                  8220 non-null float64\n",
      "weekday                      8260 non-null int64\n",
      "is_weekend                   8260 non-null int64\n",
      "is_workday                   8260 non-null int64\n",
      "gfg_created_at               8260 non-null object\n",
      "snapshot_date                8260 non-null object\n",
      "year                         8260 non-null int64\n",
      "dtypes: float64(16), int64(8), object(11)\n",
      "memory usage: 2.2+ MB\n"
     ]
    }
   ],
   "source": [
    "test_df.info()"
   ]
  },
  {
   "cell_type": "code",
   "execution_count": 33,
   "metadata": {
    "ExecuteTime": {
     "end_time": "2018-04-19T14:00:15.484138Z",
     "start_time": "2018-04-19T14:00:15.474112Z"
    },
    "collapsed": true
   },
   "outputs": [
    {
     "data": {
      "text/plain": [
       "count    8260.000000\n",
       "mean     2017.460291\n",
       "std         0.498451\n",
       "min      2017.000000\n",
       "25%      2017.000000\n",
       "50%      2017.000000\n",
       "75%      2018.000000\n",
       "max      2018.000000\n",
       "Name: year, dtype: float64"
      ]
     },
     "execution_count": 33,
     "metadata": {},
     "output_type": "execute_result"
    }
   ],
   "source": [
    "test_df.year.describe()"
   ]
  },
  {
   "cell_type": "code",
   "execution_count": null,
   "metadata": {
    "collapsed": true
   },
   "outputs": [],
   "source": [
    "test_df.to_csv()"
   ]
  },
  {
   "cell_type": "markdown",
   "metadata": {},
   "source": [
    "# Sanity check `static_data`"
   ]
  },
  {
   "cell_type": "code",
   "execution_count": 3,
   "metadata": {
    "ExecuteTime": {
     "end_time": "2018-05-08T17:34:17.789269Z",
     "start_time": "2018-05-08T17:34:17.786357Z"
    },
    "collapsed": true
   },
   "outputs": [],
   "source": [
    "zal_dir = '/Users/gfg/data/markdown/clean/venture=Zalora/'"
   ]
  },
  {
   "cell_type": "code",
   "execution_count": 4,
   "metadata": {
    "ExecuteTime": {
     "end_time": "2018-05-08T17:34:20.823604Z",
     "start_time": "2018-05-08T17:34:20.820132Z"
    },
    "code_folding": [
     0
    ],
    "collapsed": true
   },
   "outputs": [],
   "source": [
    "def load_data(country):\n",
    "    country_dir = zal_dir + '{}/'.format(country)\n",
    "    return pd.read_csv(country_dir + 'md_input.csv')"
   ]
  },
  {
   "cell_type": "code",
   "execution_count": 5,
   "metadata": {
    "ExecuteTime": {
     "end_time": "2018-05-08T17:35:05.266966Z",
     "start_time": "2018-05-08T17:35:03.012707Z"
    },
    "scrolled": true
   },
   "outputs": [
    {
     "name": "stdout",
     "output_type": "stream",
     "text": [
      "<class 'pandas.core.frame.DataFrame'>\n",
      "RangeIndex: 287993 entries, 0 to 287992\n",
      "Data columns (total 36 columns):\n",
      "sku_config_id                287993 non-null object\n",
      "group_id                     287993 non-null object\n",
      "md_sub_category_raw          287993 non-null object\n",
      "md_sub_category              287993 non-null object\n",
      "gender                       287993 non-null object\n",
      "activation_date              287720 non-null object\n",
      "product_lifecycle            287718 non-null float64\n",
      "season                       287993 non-null object\n",
      "season_year                  287993 non-null int64\n",
      "season_duration              287718 non-null float64\n",
      "is_new                       287720 non-null float64\n",
      "n_remain_days                287445 non-null float64\n",
      "brand_name                   287993 non-null object\n",
      "color                        287768 non-null object\n",
      "tax_class                    287993 non-null float64\n",
      "current_price                287993 non-null float64\n",
      "black_price                  287993 non-null float64\n",
      "is_visible                   287993 non-null int64\n",
      "config_page_views            276227 non-null float64\n",
      "n_stock                      287993 non-null int64\n",
      "n_sold                       287993 non-null float64\n",
      "percent_discount_from_rrp    287993 non-null float64\n",
      "n_competitor                 287993 non-null int64\n",
      "rel_price_as_ratio           287993 non-null float64\n",
      "psv                          189510 non-null float64\n",
      "tsv                          286347 non-null float64\n",
      "is_slow_sku                  287718 non-null float64\n",
      "weekday                      287993 non-null int64\n",
      "is_weekend                   287993 non-null int64\n",
      "is_workday                   287993 non-null int64\n",
      "gfg_created_at               287993 non-null object\n",
      "snapshot_date                287993 non-null object\n",
      "year                         287993 non-null int64\n",
      "color_pop                    287993 non-null float64\n",
      "brand_pop                    287960 non-null float64\n",
      "total_page_view              287960 non-null float64\n",
      "dtypes: float64(17), int64(8), object(11)\n",
      "memory usage: 79.1+ MB\n"
     ]
    }
   ],
   "source": [
    "hk_md_input = load_data(country='hk')\n",
    "hk_md_input.info()"
   ]
  },
  {
   "cell_type": "markdown",
   "metadata": {},
   "source": [
    "HK data is OK."
   ]
  },
  {
   "cell_type": "code",
   "execution_count": 6,
   "metadata": {
    "ExecuteTime": {
     "end_time": "2018-05-08T17:36:41.689202Z",
     "start_time": "2018-05-08T17:36:40.635356Z"
    },
    "scrolled": true
   },
   "outputs": [
    {
     "name": "stdout",
     "output_type": "stream",
     "text": [
      "<class 'pandas.core.frame.DataFrame'>\n",
      "RangeIndex: 135828 entries, 0 to 135827\n",
      "Data columns (total 36 columns):\n",
      "Unnamed: 0                   0 non-null float64\n",
      "activation_date              135754 non-null object\n",
      "black_price                  135828 non-null float64\n",
      "brand_name                   135828 non-null object\n",
      "brand_pop                    64241 non-null float64\n",
      "color                        135409 non-null object\n",
      "color_pop                    2 non-null float64\n",
      "config_page_views            131898 non-null float64\n",
      "current_price                135828 non-null float64\n",
      "gender                       135828 non-null object\n",
      "gfg_created_at               135828 non-null object\n",
      "group_id                     135828 non-null object\n",
      "is_new                       135754 non-null float64\n",
      "is_slow_sku                  135736 non-null float64\n",
      "is_visible                   135828 non-null float64\n",
      "is_weekend                   135828 non-null float64\n",
      "is_workday                   135828 non-null float64\n",
      "md_sub_category              135828 non-null object\n",
      "md_sub_category_raw          135828 non-null object\n",
      "n_competitor                 135828 non-null float64\n",
      "n_remain_days                135662 non-null float64\n",
      "n_sold                       135828 non-null float64\n",
      "n_stock                      135828 non-null float64\n",
      "percent_discount_from_rrp    135828 non-null float64\n",
      "product_lifecycle            135736 non-null float64\n",
      "psv                          73203 non-null float64\n",
      "rel_price_as_ratio           135828 non-null float64\n",
      "season                       135828 non-null object\n",
      "season_duration              135736 non-null float64\n",
      "season_year                  135828 non-null float64\n",
      "sku_config_id                135828 non-null object\n",
      "snapshot_date                135828 non-null object\n",
      "tax_class                    135828 non-null float64\n",
      "tsv                          135091 non-null float64\n",
      "weekday                      135828 non-null float64\n",
      "year                         135828 non-null int64\n",
      "dtypes: float64(24), int64(1), object(11)\n",
      "memory usage: 37.3+ MB\n"
     ]
    }
   ],
   "source": [
    "tw_md_input = load_data(country='tw')\n",
    "tw_md_input.info()"
   ]
  },
  {
   "cell_type": "markdown",
   "metadata": {},
   "source": [
    "TW data is currently not OK with `color_pop` and `brand_pop`, need to re-compute the static features."
   ]
  },
  {
   "cell_type": "code",
   "execution_count": 7,
   "metadata": {
    "ExecuteTime": {
     "end_time": "2018-05-07T10:27:28.285926Z",
     "start_time": "2018-05-07T10:27:22.949872Z"
    },
    "collapsed": true
   },
   "outputs": [],
   "source": [
    "# PH data\n",
    "ph_md_input = load_data(country='ph')"
   ]
  },
  {
   "cell_type": "code",
   "execution_count": 12,
   "metadata": {
    "ExecuteTime": {
     "end_time": "2018-05-07T10:29:16.847692Z",
     "start_time": "2018-05-07T10:29:15.961763Z"
    },
    "collapsed": true
   },
   "outputs": [
    {
     "name": "stdout",
     "output_type": "stream",
     "text": [
      "<class 'pandas.core.frame.DataFrame'>\n",
      "RangeIndex: 739362 entries, 0 to 739361\n",
      "Data columns (total 35 columns):\n",
      "activation_date              737524 non-null object\n",
      "black_price                  739362 non-null float64\n",
      "brand_name                   739362 non-null object\n",
      "brand_pop                    205948 non-null float64\n",
      "color                        726421 non-null object\n",
      "color_pop                    5527 non-null float64\n",
      "config_page_views            715957 non-null float64\n",
      "current_price                739362 non-null float64\n",
      "gender                       739362 non-null object\n",
      "gfg_created_at               739362 non-null object\n",
      "group_id                     739362 non-null object\n",
      "is_new                       737524 non-null float64\n",
      "is_slow_sku                  737933 non-null float64\n",
      "is_visible                   739362 non-null float64\n",
      "is_weekend                   739362 non-null float64\n",
      "is_workday                   739362 non-null float64\n",
      "md_sub_category              739362 non-null object\n",
      "md_sub_category_raw          739362 non-null object\n",
      "n_competitor                 739362 non-null float64\n",
      "n_remain_days                736095 non-null float64\n",
      "n_sold                       739362 non-null float64\n",
      "n_stock                      739362 non-null float64\n",
      "percent_discount_from_rrp    739362 non-null float64\n",
      "product_lifecycle            737933 non-null float64\n",
      "psv                          534755 non-null float64\n",
      "rel_price_as_ratio           739362 non-null float64\n",
      "season                       739362 non-null object\n",
      "season_duration              737933 non-null float64\n",
      "season_year                  739362 non-null float64\n",
      "sku_config_id                739362 non-null object\n",
      "snapshot_date                739362 non-null object\n",
      "tax_class                    739362 non-null float64\n",
      "tsv                          733686 non-null float64\n",
      "weekday                      739362 non-null float64\n",
      "year                         739362 non-null int64\n",
      "dtypes: float64(23), int64(1), object(11)\n",
      "memory usage: 197.4+ MB\n"
     ]
    }
   ],
   "source": [
    "ph_md_input.info()"
   ]
  },
  {
   "cell_type": "markdown",
   "metadata": {},
   "source": [
    "We can see a problem with attributes `color_pop` and `brand_pop`, they have much less values than total. So there is some bug here!"
   ]
  },
  {
   "cell_type": "markdown",
   "metadata": {},
   "source": [
    "## Dive into `color_pop`"
   ]
  },
  {
   "cell_type": "code",
   "execution_count": 16,
   "metadata": {
    "ExecuteTime": {
     "end_time": "2018-05-07T11:12:40.133965Z",
     "start_time": "2018-05-07T11:12:40.031855Z"
    }
   },
   "outputs": [
    {
     "name": "stdout",
     "output_type": "stream",
     "text": [
      "# unique colors in data: 22244\n"
     ]
    }
   ],
   "source": [
    "n_color = ph_md_input.color.nunique()\n",
    "print('# unique colors in data: {}'.format(n_color))"
   ]
  },
  {
   "cell_type": "code",
   "execution_count": 17,
   "metadata": {
    "ExecuteTime": {
     "end_time": "2018-05-07T11:15:33.965834Z",
     "start_time": "2018-05-07T11:15:33.682985Z"
    }
   },
   "outputs": [
    {
     "data": {
      "text/plain": [
       "(720894, 35)"
      ]
     },
     "execution_count": 17,
     "metadata": {},
     "output_type": "execute_result"
    }
   ],
   "source": [
    "bug_df = ph_md_input[ph_md_input.color.notnull() & ph_md_input.color_pop.isnull()]\n",
    "bug_df.shape"
   ]
  },
  {
   "cell_type": "code",
   "execution_count": 18,
   "metadata": {
    "ExecuteTime": {
     "end_time": "2018-05-07T11:16:43.423050Z",
     "start_time": "2018-05-07T11:16:43.311573Z"
    }
   },
   "outputs": [
    {
     "data": {
      "text/html": [
       "<div>\n",
       "<style>\n",
       "    .dataframe thead tr:only-child th {\n",
       "        text-align: right;\n",
       "    }\n",
       "\n",
       "    .dataframe thead th {\n",
       "        text-align: left;\n",
       "    }\n",
       "\n",
       "    .dataframe tbody tr th {\n",
       "        vertical-align: top;\n",
       "    }\n",
       "</style>\n",
       "<table border=\"1\" class=\"dataframe\">\n",
       "  <thead>\n",
       "    <tr style=\"text-align: right;\">\n",
       "      <th></th>\n",
       "      <th>sku_config_id</th>\n",
       "      <th>group_id</th>\n",
       "      <th>color</th>\n",
       "      <th>color_pop</th>\n",
       "    </tr>\n",
       "  </thead>\n",
       "  <tbody>\n",
       "    <tr>\n",
       "      <th>0</th>\n",
       "      <td>345D8AC86F2665GS</td>\n",
       "      <td>backpacks_female_autumn_winter</td>\n",
       "      <td>Black</td>\n",
       "      <td>NaN</td>\n",
       "    </tr>\n",
       "    <tr>\n",
       "      <th>1</th>\n",
       "      <td>FD2E8ZZE53A879GS</td>\n",
       "      <td>backpacks_female_autumn_winter</td>\n",
       "      <td>Black</td>\n",
       "      <td>NaN</td>\n",
       "    </tr>\n",
       "    <tr>\n",
       "      <th>2</th>\n",
       "      <td>24D9FAC657BCE7GS</td>\n",
       "      <td>backpacks_female_autumn_winter</td>\n",
       "      <td>Black</td>\n",
       "      <td>NaN</td>\n",
       "    </tr>\n",
       "    <tr>\n",
       "      <th>3</th>\n",
       "      <td>MA134AC97NCOPH</td>\n",
       "      <td>backpacks_female_autumn_winter</td>\n",
       "      <td>Black</td>\n",
       "      <td>NaN</td>\n",
       "    </tr>\n",
       "    <tr>\n",
       "      <th>4</th>\n",
       "      <td>119C3ZZ4B1AF6BGS</td>\n",
       "      <td>backpacks_female_autumn_winter</td>\n",
       "      <td>Burgundy</td>\n",
       "      <td>NaN</td>\n",
       "    </tr>\n",
       "  </tbody>\n",
       "</table>\n",
       "</div>"
      ],
      "text/plain": [
       "      sku_config_id                        group_id     color  color_pop\n",
       "0  345D8AC86F2665GS  backpacks_female_autumn_winter     Black        NaN\n",
       "1  FD2E8ZZE53A879GS  backpacks_female_autumn_winter     Black        NaN\n",
       "2  24D9FAC657BCE7GS  backpacks_female_autumn_winter     Black        NaN\n",
       "3    MA134AC97NCOPH  backpacks_female_autumn_winter     Black        NaN\n",
       "4  119C3ZZ4B1AF6BGS  backpacks_female_autumn_winter  Burgundy        NaN"
      ]
     },
     "execution_count": 18,
     "metadata": {},
     "output_type": "execute_result"
    }
   ],
   "source": [
    "cols = ['sku_config_id', 'group_id', 'color', 'color_pop']\n",
    "bug_df[cols].head()"
   ]
  },
  {
   "cell_type": "code",
   "execution_count": 13,
   "metadata": {
    "ExecuteTime": {
     "end_time": "2018-05-07T10:35:09.977961Z",
     "start_time": "2018-05-07T10:34:49.888201Z"
    },
    "collapsed": true
   },
   "outputs": [],
   "source": [
    "ph_dir = zal_dir + 'ph/'; fname = ph_dir + 'md_input.csv'\n",
    "ph_md_input.to_csv(fname, index=False, encoding='utf8')"
   ]
  },
  {
   "cell_type": "code",
   "execution_count": 14,
   "metadata": {
    "ExecuteTime": {
     "end_time": "2018-05-07T10:43:05.939133Z",
     "start_time": "2018-05-07T10:43:05.934704Z"
    },
    "collapsed": true
   },
   "outputs": [],
   "source": [
    "static_feats = ['color_pop', 'brand_pop']  \n",
    "price_feats = ['current_price', 'percent_discount_from_rrp']\n",
    "canib_feats = ['n_competitor', 'rel_price_as_ratio']  \n",
    "ga_feats = ['mean_views', 'mean_impressions', 'total_impressions']\n",
    "time_feats = ['is_weekend', 'is_workday']\n",
    "feats = static_feats + price_feats + canib_feats + time_feats"
   ]
  },
  {
   "cell_type": "code",
   "execution_count": 15,
   "metadata": {
    "ExecuteTime": {
     "end_time": "2018-05-07T10:43:52.033350Z",
     "start_time": "2018-05-07T10:43:52.008057Z"
    }
   },
   "outputs": [
    {
     "data": {
      "text/plain": [
       "218"
      ]
     },
     "execution_count": 15,
     "metadata": {},
     "output_type": "execute_result"
    }
   ],
   "source": [
    "ph_md_input.dropna(subset=static_feats).shape[0]"
   ]
  },
  {
   "cell_type": "code",
   "execution_count": null,
   "metadata": {
    "collapsed": true
   },
   "outputs": [],
   "source": []
  }
 ],
 "metadata": {
  "kernelspec": {
   "display_name": "Python 3",
   "language": "python",
   "name": "python3"
  },
  "language_info": {
   "codemirror_mode": {
    "name": "ipython",
    "version": 3
   },
   "file_extension": ".py",
   "mimetype": "text/x-python",
   "name": "python",
   "nbconvert_exporter": "python",
   "pygments_lexer": "ipython3",
   "version": "3.6.0"
  },
  "toc": {
   "colors": {
    "hover_highlight": "#DAA520",
    "navigate_num": "#000000",
    "navigate_text": "#333333",
    "running_highlight": "#FF0000",
    "selected_highlight": "#FFD700",
    "sidebar_border": "#EEEEEE",
    "wrapper_background": "#FFFFFF"
   },
   "moveMenuLeft": true,
   "nav_menu": {
    "height": "66px",
    "width": "252px"
   },
   "navigate_menu": true,
   "number_sections": true,
   "sideBar": true,
   "threshold": 4,
   "toc_cell": false,
   "toc_position": {
    "height": "622px",
    "left": "0px",
    "right": "1119px",
    "top": "107px",
    "width": "212px"
   },
   "toc_section_display": "block",
   "toc_window_display": true,
   "widenNotebook": false
  },
  "varInspector": {
   "cols": {
    "lenName": 16,
    "lenType": 16,
    "lenVar": 40
   },
   "kernels_config": {
    "python": {
     "delete_cmd_postfix": "",
     "delete_cmd_prefix": "del ",
     "library": "var_list.py",
     "varRefreshCmd": "print(var_dic_list())"
    },
    "r": {
     "delete_cmd_postfix": ") ",
     "delete_cmd_prefix": "rm(",
     "library": "var_list.r",
     "varRefreshCmd": "cat(var_dic_list()) "
    }
   },
   "types_to_exclude": [
    "module",
    "function",
    "builtin_function_or_method",
    "instance",
    "_Feature"
   ],
   "window_display": false
  }
 },
 "nbformat": 4,
 "nbformat_minor": 2
}
