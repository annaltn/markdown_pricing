{
 "cells": [
  {
   "cell_type": "markdown",
   "metadata": {},
   "source": [
    "We perform demand predictions for __SKU configs within groups__ (determined by [sub-category, gender, season], e.g., [shirts, male, spring-summer] is a group). We currently have 700+ such groups in our data. However, 25% of groups have less than 5 configs, too few data, and half of them have less than 20 configs (see stats + histogram). Thus, we will first look at the more interesting upper half of groups, where each group has at least 20 configs."
   ]
  },
  {
   "cell_type": "markdown",
   "metadata": {
    "heading_collapsed": true
   },
   "source": [
    "# Inits"
   ]
  },
  {
   "cell_type": "code",
   "execution_count": 1,
   "metadata": {
    "ExecuteTime": {
     "end_time": "2017-12-08T12:26:02.601013Z",
     "start_time": "2017-12-08T12:26:01.235759Z"
    },
    "code_folding": [],
    "hidden": true,
    "init_cell": true,
    "scrolled": true
   },
   "outputs": [],
   "source": [
    "# load std modules\n",
    "import pandas as pd\n",
    "import numpy as np\n",
    "import matplotlib.pyplot as pl\n",
    "\n",
    "import xgboost as xgb\n",
    "from sklearn import linear_model\n",
    "from sklearn.ensemble import GradientBoostingRegressor, RandomForestRegressor\n",
    "from sklearn.metrics import mean_squared_error\n",
    "from sklearn.model_selection import GridSearchCV, TimeSeriesSplit\n",
    "\n",
    "from matplotlib.pyplot import Line2D"
   ]
  },
  {
   "cell_type": "code",
   "execution_count": 4,
   "metadata": {
    "ExecuteTime": {
     "end_time": "2017-12-08T12:26:25.810919Z",
     "start_time": "2017-12-08T12:26:25.806979Z"
    },
    "code_folding": [
     0
    ],
    "collapsed": true,
    "hidden": true,
    "init_cell": true
   },
   "outputs": [],
   "source": [
    "# various dirs\n",
    "DAT_DIR = '/Users/gfg/data/venture=Zalora/sg/'\n",
    "CLEAN_DIR = DAT_DIR + 'clean/'; FIG_DIR = DAT_DIR + 'fig/'\n",
    "GROUP_DIR = CLEAN_DIR + 'groups/'; FEAT_DIR = GROUP_DIR + 'feats/'"
   ]
  },
  {
   "cell_type": "code",
   "execution_count": 4,
   "metadata": {
    "ExecuteTime": {
     "end_time": "2017-11-27T10:05:39.280809Z",
     "start_time": "2017-11-27T10:05:38.943572Z"
    },
    "code_folding": [
     0
    ],
    "collapsed": true,
    "hidden": true,
    "init_cell": true
   },
   "outputs": [],
   "source": [
    "# my own modules\n",
    "import date_util\n",
    "import input_load\n",
    "import split\n",
    "import model_train\n",
    "from model_train import *"
   ]
  },
  {
   "cell_type": "code",
   "execution_count": 5,
   "metadata": {
    "ExecuteTime": {
     "end_time": "2017-11-27T10:06:11.971964Z",
     "start_time": "2017-11-27T10:05:39.282426Z"
    },
    "hidden": true,
    "init_cell": true,
    "scrolled": false
   },
   "outputs": [
    {
     "name": "stderr",
     "output_type": "stream",
     "text": [
      "2017-11-27 10:05:39 GFG20170005.local root[5490] INFO Loading global feats in yr 2017 from file /Users/gfg/data/venture=zalora/sg/clean/2017/glob_feat.csv...\n",
      "2017-11-27 10:06:10 GFG20170005.local root[5490] INFO Loading historical sales from /Users/gfg/data/venture=zalora/sg/clean/demand_config.csv...\n"
     ]
    }
   ],
   "source": [
    "in_loader = InputLoader(DataPrep())\n",
    "data_splitter = DataSplitter(split_ratio=80)\n",
    "out_dumper = OutDumper()"
   ]
  },
  {
   "cell_type": "code",
   "execution_count": 9,
   "metadata": {
    "ExecuteTime": {
     "end_time": "2017-11-27T14:08:14.870512Z",
     "start_time": "2017-11-27T14:08:14.867650Z"
    },
    "collapsed": true,
    "hidden": true
   },
   "outputs": [],
   "source": [
    "model_trainer = ModelTrainer(model_dir=out_dumper.model_dir)"
   ]
  },
  {
   "cell_type": "code",
   "execution_count": null,
   "metadata": {
    "code_folding": [
     0
    ],
    "collapsed": true,
    "hidden": true
   },
   "outputs": [],
   "source": [
    "# reload for updates\n",
    "reload(date_util); from date_util import *\n",
    "reload(input_load); from input_load import *\n",
    "reload(split); from split import *"
   ]
  },
  {
   "cell_type": "code",
   "execution_count": 41,
   "metadata": {
    "ExecuteTime": {
     "end_time": "2017-11-23T16:11:32.569394Z",
     "start_time": "2017-11-23T16:11:32.564194Z"
    },
    "code_folding": [],
    "collapsed": true,
    "hidden": true
   },
   "outputs": [],
   "source": [
    "reload(model_train); from model_train import *"
   ]
  },
  {
   "cell_type": "markdown",
   "metadata": {
    "heading_collapsed": true,
    "hidden": true
   },
   "source": [
    "## Utils"
   ]
  },
  {
   "cell_type": "code",
   "execution_count": 36,
   "metadata": {
    "ExecuteTime": {
     "end_time": "2017-11-22T17:20:41.100375Z",
     "start_time": "2017-11-22T17:20:41.097123Z"
    },
    "collapsed": true,
    "hidden": true
   },
   "outputs": [],
   "source": [
    "# list functions of an object\n",
    "def get_funcs(obj):\n",
    "    return [method_name for method_name in dir(obj) if callable(getattr(obj, method_name))]"
   ]
  },
  {
   "cell_type": "markdown",
   "metadata": {
    "heading_collapsed": true,
    "hidden": true
   },
   "source": [
    "## Distribution of group sizes"
   ]
  },
  {
   "cell_type": "code",
   "execution_count": null,
   "metadata": {
    "ExecuteTime": {
     "end_time": "2017-09-26T10:23:57.520757Z",
     "start_time": "2017-09-26T10:23:57.515242Z"
    },
    "code_folding": [
     0
    ],
    "collapsed": true,
    "hidden": true
   },
   "outputs": [],
   "source": [
    "def size_hist(group_df):\n",
    "    pl.figure(figsize = (10, 5))\n",
    "    pl.hist(group_df['n_config'], bins=50)\n",
    "    ax = pl.gca()\n",
    "    ax.minorticks_on()\n",
    "    pl.xlabel('# configs in group'); pl.ylabel('# groups')\n",
    "    pl.grid(True, ls='--')\n",
    "    pl.savefig(FIG_DIR + 'group_size_hist.pdf')\n",
    "    pl.show(); pl.close()"
   ]
  },
  {
   "cell_type": "code",
   "execution_count": null,
   "metadata": {
    "ExecuteTime": {
     "end_time": "2017-09-26T10:23:57.580862Z",
     "start_time": "2017-09-26T10:23:57.522333Z"
    },
    "collapsed": true,
    "hidden": true
   },
   "outputs": [],
   "source": [
    "group_df = pd.read_csv(CLEAN_DIR + 'groups.csv')\n",
    "group_df.n_config.describe()"
   ]
  },
  {
   "cell_type": "code",
   "execution_count": null,
   "metadata": {
    "ExecuteTime": {
     "end_time": "2017-09-26T10:23:58.177686Z",
     "start_time": "2017-09-26T10:23:57.582556Z"
    },
    "collapsed": true,
    "hidden": true
   },
   "outputs": [],
   "source": [
    "size_hist(group_df)"
   ]
  },
  {
   "cell_type": "markdown",
   "metadata": {
    "hidden": true
   },
   "source": [
    "Each group is associated with one feature matrix, which is composed from __global__ features (e.g. color/size/brand popularities) and __group__ features (e.g. price, discount, relative price,...)."
   ]
  },
  {
   "cell_type": "markdown",
   "metadata": {
    "heading_collapsed": true
   },
   "source": [
    "# Build ready data"
   ]
  },
  {
   "cell_type": "markdown",
   "metadata": {
    "hidden": true
   },
   "source": [
    "Steps to prepare ready data for each group:\n",
    "\n",
    "+ Load global feats\n",
    "+ Form feature matrix: by joining group feats with global feats\n",
    "+ Obtain final ready data: by attaching response to the feature matrix\n",
    "+ Split training and test sets by date: currently, for each config, we use about $20\\%$ of its data for testing and all data before that for training.\n",
    "\n",
    "The methods to perform these steps are defined in section `Helpers` of this notebook."
   ]
  },
  {
   "cell_type": "markdown",
   "metadata": {},
   "source": [
    "# Helpers"
   ]
  },
  {
   "cell_type": "markdown",
   "metadata": {},
   "source": [
    "## Features "
   ]
  },
  {
   "cell_type": "code",
   "execution_count": 8,
   "metadata": {
    "ExecuteTime": {
     "end_time": "2017-11-23T14:26:26.489410Z",
     "start_time": "2017-11-23T14:26:26.485328Z"
    }
   },
   "outputs": [
    {
     "name": "stdout",
     "output_type": "stream",
     "text": [
      "# features: 11\n"
     ]
    }
   ],
   "source": [
    "feats = ['current_price', 'discount_from_rrp', 'n_competitor', 'rel_price', 'color_pop', \n",
    "         'mean_views', 'mean_impressions', 'total_views', 'total_impressions',\n",
    "        'is_weekend', 'is_workday'] # brand_pop\n",
    "\n",
    "print('# features: {}'.format(len(feats)))"
   ]
  },
  {
   "cell_type": "markdown",
   "metadata": {},
   "source": [
    "__Note:__ most features are dynamic, except color/size popularities which are almost static."
   ]
  },
  {
   "cell_type": "markdown",
   "metadata": {
    "heading_collapsed": true
   },
   "source": [
    "## Suggestions from Zalora team:"
   ]
  },
  {
   "cell_type": "markdown",
   "metadata": {
    "hidden": true
   },
   "source": [
    " \n",
    "+ shift in a time window to catch the trend\n",
    "+ statistical feats from main feature (median, min, max,...)\n",
    "+ features: Add to cart, purchased\n",
    "+ use `shipment == outright`\n",
    "+ mix local model with global model e.g. global min,...\n",
    "+ change from daily to weekly prediction\n",
    "+ delay in data\n",
    "+ available stock \n",
    "+ monthly offline meeting"
   ]
  },
  {
   "cell_type": "markdown",
   "metadata": {
    "hidden": true
   },
   "source": [
    "### Scaling\n",
    "Currently feats are not rescaled to zero mean and unit variance."
   ]
  },
  {
   "cell_type": "markdown",
   "metadata": {
    "collapsed": true,
    "hidden": true
   },
   "source": [
    "From Hieu: scaling is not that important for `xgboost`, it is only important for SVM. "
   ]
  },
  {
   "cell_type": "markdown",
   "metadata": {},
   "source": [
    "## Models and CV Settings\n",
    "\n",
    "We will compare performance of the following regression models in __demand prediction__ task:\n",
    "\n",
    "* Lasso: linear with $L_1$ penalty to drive for sparse weights (if we expect them to be sparse, i.e., just few of them are non-zero)\n",
    "* Bagging Regression Tree (BRT)\n",
    "* Random Forest\n",
    "* XGBoost Regressor"
   ]
  },
  {
   "cell_type": "markdown",
   "metadata": {
    "heading_collapsed": true
   },
   "source": [
    "## Exp Helpers"
   ]
  },
  {
   "cell_type": "code",
   "execution_count": 6,
   "metadata": {
    "ExecuteTime": {
     "end_time": "2017-11-27T10:06:11.992773Z",
     "start_time": "2017-11-27T10:06:11.973475Z"
    },
    "code_folding": [
     0,
     8,
     15
    ],
    "collapsed": true,
    "hidden": true,
    "init_cell": true
   },
   "outputs": [],
   "source": [
    "def run_exp(gname, feats):\n",
    "    ready_df = prep_data(gname)\n",
    "    print()\n",
    "    \n",
    "    train_df, test_df = split_train_test(ready_df)\n",
    "    rmse_df, predictions = fit_predict(models, train_df, test_df)\n",
    "    return rmse_df, predictions\n",
    "\n",
    "def cols_to_show(pred):\n",
    "    pred_cols = [c for c in pred.columns if 'predict_' in c]\n",
    "    diff_cols = [c for c in pred.columns if 'diff_' in c]\n",
    "    abs_cols = [c for c in pred.columns if 'abs_' in c]\n",
    "    cols = ['sku_config', 'product_name', 'brand_name'] + ['n_sold'] + pred_cols + diff_cols + abs_cols\n",
    "    return cols\n",
    "\n",
    "def evaluate(predictions, cf='MA193AA06RQJMY', fig_size=(10, 5)):\n",
    "    \n",
    "    cf_pred = predictions.query('sku_config == \"{}\"'.format(cf)).copy()\n",
    "    \n",
    "    # diff bw predict and actual\n",
    "    for m in list(map(stdize, model_names)):\n",
    "        cf_pred['diff_{}'.format(m)] = cf_pred['predict_{}'.format(m)] - cf_pred['n_sold']\n",
    "        cf_pred['abs_diff_{}'.format(m)] = np.abs(cf_pred['diff_{}'.format(m)])\n",
    "        \n",
    "    \n",
    "    prod_name = cf_pred['product_name'].iloc[0]\n",
    "    fig = viz(predictions, cf, prod_name, fig_size)\n",
    "    return cf_pred, fig"
   ]
  },
  {
   "cell_type": "code",
   "execution_count": 7,
   "metadata": {
    "ExecuteTime": {
     "end_time": "2017-11-27T10:06:12.000213Z",
     "start_time": "2017-11-27T10:06:11.994633Z"
    },
    "code_folding": [
     0
    ],
    "collapsed": true,
    "hidden": true,
    "init_cell": true
   },
   "outputs": [],
   "source": [
    "def inspect_results(cf, cols=None):\n",
    "    cf_pred, fig = evaluate(predictions, cf, fig_size=(16, 8))\n",
    "    pl.show(); pl.close()\n",
    "    print()\n",
    "    print('Samples of prediction:')\n",
    "    return cf_pred.sort_values('n_sold', ascending=False).head(10) # [cols]"
   ]
  },
  {
   "cell_type": "code",
   "execution_count": 8,
   "metadata": {
    "ExecuteTime": {
     "end_time": "2017-11-27T10:06:12.005148Z",
     "start_time": "2017-11-27T10:06:12.002227Z"
    },
    "collapsed": true,
    "hidden": true,
    "init_cell": true
   },
   "outputs": [],
   "source": [
    "# columns to inspect\n",
    "rf_cols = ['predict_random_forest', 'diff_random_forest', 'abs_diff_random_forest']\n",
    "cols = ['sku_config', 'product_name', 'brand_name'] + ['n_sold'] + rf_cols"
   ]
  },
  {
   "cell_type": "markdown",
   "metadata": {
    "heading_collapsed": true
   },
   "source": [
    "## Visualization"
   ]
  },
  {
   "cell_type": "code",
   "execution_count": null,
   "metadata": {
    "ExecuteTime": {
     "end_time": "2017-10-05T10:24:20.217131Z",
     "start_time": "2017-10-05T10:24:20.189953Z"
    },
    "code_folding": [
     0,
     8,
     13,
     30
    ],
    "collapsed": true,
    "hidden": true
   },
   "outputs": [],
   "source": [
    "def init_fig(size=(5, 5), use_avg=False):\n",
    "    fig = pl.figure(figsize=size)\n",
    "    ylab = 'Demand' if not use_avg else 'Avg. Demand'\n",
    "    pl.ylabel(ylab)\n",
    "    pl.grid(True, ls='--')\n",
    "    fig.autofmt_xdate()\n",
    "    return fig\n",
    "\n",
    "def get_markers(models):\n",
    "    markers = list(Line2D.markers.keys())\n",
    "    markers.remove('o')\n",
    "    return markers[:len(models)]\n",
    "\n",
    "def do_viz(pred_df, use_avg=False, fig_size=(10, 5)):\n",
    "    fig = init_fig(fig_size, use_avg)\n",
    "    dates = pred_df['date']\n",
    "    y_test = pred_df['n_sold'] if not use_avg else pred_df['avg_n_sold']\n",
    "    pl.set_cmap('Set1')\n",
    "    pl.plot(dates, y_test, marker='o', ls='-')\n",
    "    \n",
    "    markers = get_markers(models)\n",
    "    for i in range(len(models)):\n",
    "        m_name = stdize(model_names[i])\n",
    "        col = 'predict_{}'.format(m_name) if not use_avg else ('avg_' + 'predict_{}'.format(m_name))\n",
    "        y_pred = pred_df[col]\n",
    "        pl.plot(dates, y_pred, marker=markers[i])\n",
    "    \n",
    "    pl.legend(['Actual'] + model_names)\n",
    "    return fig\n",
    "\n",
    "def viz(predictions, cf, prod_name, fig_size=(10, 5)):\n",
    "    \n",
    "    cf_pred = predictions.query('sku_config == \"{}\"'.format(cf))\n",
    "    fig = do_viz(cf_pred)\n",
    "    pl.title('Demand predictions for SKU config: {0} ({1})'.format(cf, prod_name))\n",
    "    return fig"
   ]
  },
  {
   "cell_type": "markdown",
   "metadata": {},
   "source": [
    "# Autumn-winter products"
   ]
  },
  {
   "cell_type": "markdown",
   "metadata": {},
   "source": [
    "## Female dresses"
   ]
  },
  {
   "cell_type": "code",
   "execution_count": 21,
   "metadata": {
    "ExecuteTime": {
     "end_time": "2017-11-27T14:40:00.603924Z",
     "start_time": "2017-11-27T14:40:00.601379Z"
    },
    "collapsed": true
   },
   "outputs": [],
   "source": [
    "from pandas.plotting import scatter_matrix"
   ]
  },
  {
   "cell_type": "markdown",
   "metadata": {
    "heading_collapsed": true
   },
   "source": [
    "### Analyze features"
   ]
  },
  {
   "cell_type": "code",
   "execution_count": 33,
   "metadata": {
    "ExecuteTime": {
     "end_time": "2017-11-27T15:41:11.689546Z",
     "start_time": "2017-11-27T15:41:11.685329Z"
    },
    "hidden": true
   },
   "outputs": [
    {
     "data": {
      "text/plain": [
       "9"
      ]
     },
     "execution_count": 33,
     "metadata": {},
     "output_type": "execute_result"
    }
   ],
   "source": [
    "feats = ['current_price', 'discount_from_rrp', 'n_competitor', 'rel_price', 'color_pop', \n",
    "         'mean_views', 'mean_impressions', \n",
    "        'is_weekend', 'is_workday'] # brand_pop, 'total_views', 'total_impressions',\n",
    "\n",
    "len(feats)"
   ]
  },
  {
   "cell_type": "code",
   "execution_count": 54,
   "metadata": {
    "ExecuteTime": {
     "end_time": "2017-11-27T16:01:20.823651Z",
     "start_time": "2017-11-27T16:01:20.820981Z"
    },
    "collapsed": true,
    "hidden": true
   },
   "outputs": [],
   "source": [
    "names = ['price', 'discount', 'competitors', 'r_price', 'c_pop', \n",
    "         'm_views', 'm_impressions', \n",
    "         'weekend', 'workday']"
   ]
  },
  {
   "cell_type": "code",
   "execution_count": 52,
   "metadata": {
    "ExecuteTime": {
     "end_time": "2017-11-27T15:59:05.588110Z",
     "start_time": "2017-11-27T15:58:48.614944Z"
    },
    "hidden": true,
    "scrolled": true
   },
   "outputs": [
    {
     "name": "stderr",
     "output_type": "stream",
     "text": [
      "2017-11-27 15:58:48 GFG20170005.local root[5490] INFO Building feature matrix of group dresses_female_autumn-winter...\n",
      "2017-11-27 15:58:48 GFG20170005.local root[5490] INFO Loading features of group dresses_female_autumn-winter from /Users/gfg/data/venture=zalora/sg/clean/groups/feats/dresses_female_autumn-winter.csv...\n",
      "2017-11-27 15:58:49 GFG20170005.local root[5490] INFO \t dropped NA configs\n"
     ]
    },
    {
     "name": "stdout",
     "output_type": "stream",
     "text": [
      "\t Adding is_weekend feature...\n"
     ]
    },
    {
     "name": "stderr",
     "output_type": "stream",
     "text": [
      "2017-11-27 15:58:54 GFG20170005.local root[5490] INFO Saved ready data to file /Users/gfg/data/venture=zalora/sg/clean/groups/feats/ready_df_dresses_female_autumn-winter.csv\n"
     ]
    },
    {
     "name": "stdout",
     "output_type": "stream",
     "text": [
      "Extracting train data...\n",
      "\t100 configs and counting...\n",
      "\t200 configs and counting...\n",
      "\t300 configs and counting...\n",
      "\t400 configs and counting...\n",
      "\t500 configs and counting...\n",
      "\t600 configs and counting...\n",
      "\t700 configs and counting...\n",
      "\t800 configs and counting...\n",
      "\t900 configs and counting...\n",
      "\t1000 configs and counting...\n",
      "Extracting test data...\n",
      "\t100 configs and counting...\n",
      "\t200 configs and counting...\n",
      "\t300 configs and counting...\n",
      "\t400 configs and counting...\n",
      "\t500 configs and counting...\n",
      "\t600 configs and counting...\n",
      "\t700 configs and counting...\n",
      "\t800 configs and counting...\n",
      "\t900 configs and counting...\n",
      "\t1000 configs and counting...\n"
     ]
    }
   ],
   "source": [
    "train_df, test_df = in_loader.mk_train_test(data_splitter, group='dresses_female_autumn-winter')"
   ]
  },
  {
   "cell_type": "code",
   "execution_count": 55,
   "metadata": {
    "ExecuteTime": {
     "end_time": "2017-11-27T16:01:31.251650Z",
     "start_time": "2017-11-27T16:01:31.242544Z"
    },
    "collapsed": true,
    "hidden": true
   },
   "outputs": [],
   "source": [
    "train_df.rename(columns=dict(zip(feats, names)), inplace=True)\n",
    "test_df.rename(columns=dict(zip(feats, names)), inplace=True)"
   ]
  },
  {
   "cell_type": "code",
   "execution_count": 56,
   "metadata": {
    "ExecuteTime": {
     "end_time": "2017-11-27T16:01:36.041799Z",
     "start_time": "2017-11-27T16:01:36.025199Z"
    },
    "hidden": true
   },
   "outputs": [
    {
     "data": {
      "text/html": [
       "<div>\n",
       "<style>\n",
       "    .dataframe thead tr:only-child th {\n",
       "        text-align: right;\n",
       "    }\n",
       "\n",
       "    .dataframe thead th {\n",
       "        text-align: left;\n",
       "    }\n",
       "\n",
       "    .dataframe tbody tr th {\n",
       "        vertical-align: top;\n",
       "    }\n",
       "</style>\n",
       "<table border=\"1\" class=\"dataframe\">\n",
       "  <thead>\n",
       "    <tr style=\"text-align: right;\">\n",
       "      <th></th>\n",
       "      <th>price</th>\n",
       "      <th>discount</th>\n",
       "      <th>competitors</th>\n",
       "      <th>r_price</th>\n",
       "      <th>c_pop</th>\n",
       "      <th>m_views</th>\n",
       "      <th>m_impressions</th>\n",
       "      <th>weekend</th>\n",
       "      <th>workday</th>\n",
       "    </tr>\n",
       "  </thead>\n",
       "  <tbody>\n",
       "    <tr>\n",
       "      <th>price</th>\n",
       "      <td>1.000000</td>\n",
       "      <td>-0.004122</td>\n",
       "      <td>0.209739</td>\n",
       "      <td>0.121712</td>\n",
       "      <td>0.009330</td>\n",
       "      <td>0.004266</td>\n",
       "      <td>0.004589</td>\n",
       "      <td>0.014629</td>\n",
       "      <td>-0.014629</td>\n",
       "    </tr>\n",
       "    <tr>\n",
       "      <th>discount</th>\n",
       "      <td>-0.004122</td>\n",
       "      <td>1.000000</td>\n",
       "      <td>-0.004867</td>\n",
       "      <td>-0.289498</td>\n",
       "      <td>-0.064262</td>\n",
       "      <td>-0.170012</td>\n",
       "      <td>-0.131865</td>\n",
       "      <td>-0.030524</td>\n",
       "      <td>0.030524</td>\n",
       "    </tr>\n",
       "    <tr>\n",
       "      <th>competitors</th>\n",
       "      <td>0.209739</td>\n",
       "      <td>-0.004867</td>\n",
       "      <td>1.000000</td>\n",
       "      <td>-0.119467</td>\n",
       "      <td>0.061088</td>\n",
       "      <td>-0.088770</td>\n",
       "      <td>-0.090021</td>\n",
       "      <td>0.013504</td>\n",
       "      <td>-0.013504</td>\n",
       "    </tr>\n",
       "    <tr>\n",
       "      <th>r_price</th>\n",
       "      <td>0.121712</td>\n",
       "      <td>-0.289498</td>\n",
       "      <td>-0.119467</td>\n",
       "      <td>1.000000</td>\n",
       "      <td>0.088163</td>\n",
       "      <td>-0.284400</td>\n",
       "      <td>-0.179194</td>\n",
       "      <td>0.018990</td>\n",
       "      <td>-0.018990</td>\n",
       "    </tr>\n",
       "    <tr>\n",
       "      <th>c_pop</th>\n",
       "      <td>0.009330</td>\n",
       "      <td>-0.064262</td>\n",
       "      <td>0.061088</td>\n",
       "      <td>0.088163</td>\n",
       "      <td>1.000000</td>\n",
       "      <td>-0.026133</td>\n",
       "      <td>-0.007536</td>\n",
       "      <td>0.001088</td>\n",
       "      <td>-0.001088</td>\n",
       "    </tr>\n",
       "    <tr>\n",
       "      <th>m_views</th>\n",
       "      <td>0.004266</td>\n",
       "      <td>-0.170012</td>\n",
       "      <td>-0.088770</td>\n",
       "      <td>-0.284400</td>\n",
       "      <td>-0.026133</td>\n",
       "      <td>1.000000</td>\n",
       "      <td>0.894552</td>\n",
       "      <td>0.267754</td>\n",
       "      <td>-0.267754</td>\n",
       "    </tr>\n",
       "    <tr>\n",
       "      <th>m_impressions</th>\n",
       "      <td>0.004589</td>\n",
       "      <td>-0.131865</td>\n",
       "      <td>-0.090021</td>\n",
       "      <td>-0.179194</td>\n",
       "      <td>-0.007536</td>\n",
       "      <td>0.894552</td>\n",
       "      <td>1.000000</td>\n",
       "      <td>0.198608</td>\n",
       "      <td>-0.198608</td>\n",
       "    </tr>\n",
       "    <tr>\n",
       "      <th>weekend</th>\n",
       "      <td>0.014629</td>\n",
       "      <td>-0.030524</td>\n",
       "      <td>0.013504</td>\n",
       "      <td>0.018990</td>\n",
       "      <td>0.001088</td>\n",
       "      <td>0.267754</td>\n",
       "      <td>0.198608</td>\n",
       "      <td>1.000000</td>\n",
       "      <td>-1.000000</td>\n",
       "    </tr>\n",
       "    <tr>\n",
       "      <th>workday</th>\n",
       "      <td>-0.014629</td>\n",
       "      <td>0.030524</td>\n",
       "      <td>-0.013504</td>\n",
       "      <td>-0.018990</td>\n",
       "      <td>-0.001088</td>\n",
       "      <td>-0.267754</td>\n",
       "      <td>-0.198608</td>\n",
       "      <td>-1.000000</td>\n",
       "      <td>1.000000</td>\n",
       "    </tr>\n",
       "  </tbody>\n",
       "</table>\n",
       "</div>"
      ],
      "text/plain": [
       "                  price  discount  competitors   r_price     c_pop   m_views  \\\n",
       "price          1.000000 -0.004122     0.209739  0.121712  0.009330  0.004266   \n",
       "discount      -0.004122  1.000000    -0.004867 -0.289498 -0.064262 -0.170012   \n",
       "competitors    0.209739 -0.004867     1.000000 -0.119467  0.061088 -0.088770   \n",
       "r_price        0.121712 -0.289498    -0.119467  1.000000  0.088163 -0.284400   \n",
       "c_pop          0.009330 -0.064262     0.061088  0.088163  1.000000 -0.026133   \n",
       "m_views        0.004266 -0.170012    -0.088770 -0.284400 -0.026133  1.000000   \n",
       "m_impressions  0.004589 -0.131865    -0.090021 -0.179194 -0.007536  0.894552   \n",
       "weekend        0.014629 -0.030524     0.013504  0.018990  0.001088  0.267754   \n",
       "workday       -0.014629  0.030524    -0.013504 -0.018990 -0.001088 -0.267754   \n",
       "\n",
       "               m_impressions   weekend   workday  \n",
       "price               0.004589  0.014629 -0.014629  \n",
       "discount           -0.131865 -0.030524  0.030524  \n",
       "competitors        -0.090021  0.013504 -0.013504  \n",
       "r_price            -0.179194  0.018990 -0.018990  \n",
       "c_pop              -0.007536  0.001088 -0.001088  \n",
       "m_views             0.894552  0.267754 -0.267754  \n",
       "m_impressions       1.000000  0.198608 -0.198608  \n",
       "weekend             0.198608  1.000000 -1.000000  \n",
       "workday            -0.198608 -1.000000  1.000000  "
      ]
     },
     "execution_count": 56,
     "metadata": {},
     "output_type": "execute_result"
    }
   ],
   "source": [
    "corr = train_df[names].corr()\n",
    "corr"
   ]
  },
  {
   "cell_type": "code",
   "execution_count": 59,
   "metadata": {
    "ExecuteTime": {
     "end_time": "2017-11-27T16:05:21.294183Z",
     "start_time": "2017-11-27T16:05:20.850744Z"
    },
    "code_folding": [],
    "hidden": true,
    "scrolled": false
   },
   "outputs": [
    {
     "data": {
      "image/png": "[encoded data removed]",
      "text/plain": [
       "<matplotlib.figure.Figure at 0x1268a5208>"
      ]
     },
     "metadata": {},
     "output_type": "display_data"
    }
   ],
   "source": [
    "# plot correlation matrix\n",
    "fig = pl.figure(figsize=(20, 10))\n",
    "ax = fig.add_subplot(111)\n",
    "cax = ax.matshow(corr, vmin=-1, vmax=1)\n",
    "fig.colorbar(cax)\n",
    "ticks = np.arange(0, len(names), 1)\n",
    "ax.set_xticks(ticks)\n",
    "ax.set_yticks(ticks)\n",
    "ax.set_xticklabels(names)\n",
    "ax.set_yticklabels(names)\n",
    "pl.show()"
   ]
  },
  {
   "cell_type": "code",
   "execution_count": 60,
   "metadata": {
    "ExecuteTime": {
     "end_time": "2017-11-27T16:06:37.236230Z",
     "start_time": "2017-11-27T16:06:19.843777Z"
    },
    "hidden": true
   },
   "outputs": [
    {
     "data": {
      "image/png": "[encoded data removed]",
      "text/plain": [
       "<matplotlib.figure.Figure at 0x1276b9978>"
      ]
     },
     "metadata": {},
     "output_type": "display_data"
    }
   ],
   "source": [
    "scatter_matrix(train_df[names], figsize=(10, 10))\n",
    "pl.show()"
   ]
  },
  {
   "cell_type": "markdown",
   "metadata": {},
   "source": [
    "### Train & Predict"
   ]
  },
  {
   "cell_type": "code",
   "execution_count": 15,
   "metadata": {
    "ExecuteTime": {
     "end_time": "2017-11-23T14:38:14.460528Z",
     "start_time": "2017-11-23T14:33:54.321559Z"
    },
    "code_folding": [
     0
    ],
    "scrolled": true
   },
   "outputs": [
    {
     "name": "stderr",
     "output_type": "stream",
     "text": [
      "2017-11-23 14:33:54 GFG20170005.local root[918] INFO Building feature matrix of group dresses_female_autumn-winter...\n",
      "2017-11-23 14:33:54 GFG20170005.local root[918] INFO Loading features of group dresses_female_autumn-winter from /Users/gfg/data/venture=zalora/sg/clean/groups/feats/dresses_female_autumn-winter.csv...\n",
      "2017-11-23 14:33:54 GFG20170005.local root[918] INFO \t dropped NA configs\n"
     ]
    },
    {
     "name": "stdout",
     "output_type": "stream",
     "text": [
      "\t Adding is_weekend feature...\n"
     ]
    },
    {
     "name": "stderr",
     "output_type": "stream",
     "text": [
      "2017-11-23 14:33:59 GFG20170005.local root[918] INFO Saved ready data to file /Users/gfg/data/venture=zalora/sg/clean/groups/feats/ready_df_dresses_female_autumn-winter.csv\n"
     ]
    },
    {
     "name": "stdout",
     "output_type": "stream",
     "text": [
      "Extracting train data...\n",
      "\t100 configs and counting...\n",
      "\t200 configs and counting...\n",
      "\t300 configs and counting...\n",
      "\t400 configs and counting...\n",
      "\t500 configs and counting...\n",
      "\t600 configs and counting...\n",
      "\t700 configs and counting...\n",
      "\t800 configs and counting...\n",
      "\t900 configs and counting...\n",
      "\t1000 configs and counting...\n",
      "Extracting test data...\n",
      "\t100 configs and counting...\n",
      "\t200 configs and counting...\n",
      "\t300 configs and counting...\n",
      "\t400 configs and counting...\n",
      "\t500 configs and counting...\n",
      "\t600 configs and counting...\n",
      "\t700 configs and counting...\n",
      "\t800 configs and counting...\n",
      "\t900 configs and counting...\n",
      "\t1000 configs and counting...\n",
      "Fitting models to training data...\n",
      "\n",
      "Performing CV for lasso_regression...\n",
      "Fitting 3 folds for each of 3 candidates, totalling 9 fits\n"
     ]
    },
    {
     "name": "stderr",
     "output_type": "stream",
     "text": [
      "/Users/gfg/anaconda/lib/python3.6/site-packages/sklearn/linear_model/coordinate_descent.py:484: ConvergenceWarning: Objective did not converge. You might want to increase the number of iterations. Fitting data with very small alpha may cause precision problems.\n",
      "  ConvergenceWarning)\n",
      "[Parallel(n_jobs=1)]: Done   9 out of   9 | elapsed:    0.3s finished\n"
     ]
    },
    {
     "name": "stdout",
     "output_type": "stream",
     "text": [
      "0.0154572136492\n",
      "{'alpha': 10.0}\n",
      "\n",
      "Performing CV for ridge_regression...\n",
      "Fitting 3 folds for each of 3 candidates, totalling 9 fits\n",
      "-1571.41874219\n",
      "{'alpha': 10.0}\n",
      "\n",
      "Performing CV for boosted_regression_tree...\n",
      "Fitting 3 folds for each of 40 candidates, totalling 120 fits\n"
     ]
    },
    {
     "name": "stderr",
     "output_type": "stream",
     "text": [
      "[Parallel(n_jobs=1)]: Done   9 out of   9 | elapsed:    0.1s finished\n",
      "[Parallel(n_jobs=1)]: Done 120 out of 120 | elapsed:  1.7min finished\n"
     ]
    },
    {
     "name": "stdout",
     "output_type": "stream",
     "text": [
      "-0.0284532863718\n",
      "{'max_depth': 3, 'n_estimators': 10}\n",
      "\n",
      "Performing CV for random_forest...\n",
      "Fitting 3 folds for each of 40 candidates, totalling 120 fits\n"
     ]
    },
    {
     "name": "stderr",
     "output_type": "stream",
     "text": [
      "[Parallel(n_jobs=1)]: Done 120 out of 120 | elapsed:  1.6min finished\n"
     ]
    },
    {
     "name": "stdout",
     "output_type": "stream",
     "text": [
      "-0.0406881115231\n",
      "{'max_depth': 3, 'n_estimators': 100}\n",
      "\n",
      "Performing CV for xgboost...\n",
      "Fitting 3 folds for each of 40 candidates, totalling 120 fits\n"
     ]
    },
    {
     "name": "stderr",
     "output_type": "stream",
     "text": [
      "[Parallel(n_jobs=1)]: Done 120 out of 120 | elapsed:   46.6s finished\n"
     ]
    },
    {
     "name": "stdout",
     "output_type": "stream",
     "text": [
      "-0.00701222963782\n",
      "{'max_depth': 3, 'n_estimators': 20}\n",
      "Saving predictions to file /Users/gfg/projects/daas-markdown/res/dresses_female_autumn-winter_predict.csv...\n",
      "Models sorted by test RMSE:\n",
      "                     model  test_rmse  train_rmse\n",
      "0         Lasso Regression   0.998235    1.119120\n",
      "2  Boosted Regression Tree   1.006279    1.089425\n",
      "4                  XGBoost   1.006532    1.076096\n",
      "1         Ridge Regression   1.006849    1.110379\n",
      "3            Random Forest   1.023388    1.090303\n"
     ]
    }
   ],
   "source": [
    "fem_dress_aw_train, fem_dress_aw_test, sorted_models_df = model_trainer.benchmark(group='dresses_female_autumn-winter', \n",
    "                                                              in_loader=in_loader, out_dumper=out_dumper)\n",
    "print('Models sorted by test RMSE:')\n",
    "print(sorted_models_df)"
   ]
  },
  {
   "cell_type": "markdown",
   "metadata": {},
   "source": [
    "Compared with accuracy of models by DataRobot, ours are a bit worse. It is expected as:\n",
    "+ we use less features\n",
    "+ our models are simpler, theirs are much more complicated, for example they blend 5-6 models which are already strong. Basically, theirs are meta/hyper models i.e. models which are combinations of several models.\n",
    "\n",
    "We can also build meta models ourselves."
   ]
  },
  {
   "cell_type": "markdown",
   "metadata": {},
   "source": [
    "### Feature importance"
   ]
  },
  {
   "cell_type": "code",
   "execution_count": 16,
   "metadata": {
    "ExecuteTime": {
     "end_time": "2017-11-23T14:38:14.627148Z",
     "start_time": "2017-11-23T14:38:14.624667Z"
    },
    "collapsed": true
   },
   "outputs": [],
   "source": [
    "best_xgboost = model_trainer.best_models[-1].best_estimator_"
   ]
  },
  {
   "cell_type": "code",
   "execution_count": 18,
   "metadata": {
    "ExecuteTime": {
     "end_time": "2017-11-23T14:38:32.638721Z",
     "start_time": "2017-11-23T14:38:32.433367Z"
    }
   },
   "outputs": [
    {
     "data": {
      "image/png": "[encoded data removed]",
      "text/plain": [
       "<matplotlib.figure.Figure at 0x11df72358>"
      ]
     },
     "metadata": {},
     "output_type": "display_data"
    }
   ],
   "source": [
    "fig = xgb.plot_importance(best_xgboost)\n",
    "pl.show()"
   ]
  },
  {
   "cell_type": "markdown",
   "metadata": {
    "ExecuteTime": {
     "end_time": "2017-09-14T12:47:46.369538Z",
     "start_time": "2017-09-14T12:47:37.069266Z"
    },
    "collapsed": true,
    "heading_collapsed": true
   },
   "source": [
    "## Female jewellery"
   ]
  },
  {
   "cell_type": "markdown",
   "metadata": {
    "hidden": true
   },
   "source": [
    "### Train & Predict"
   ]
  },
  {
   "cell_type": "code",
   "execution_count": 23,
   "metadata": {
    "ExecuteTime": {
     "end_time": "2017-11-23T15:02:54.713342Z",
     "start_time": "2017-11-23T15:02:38.796246Z"
    },
    "collapsed": true,
    "hidden": true
   },
   "outputs": [
    {
     "name": "stderr",
     "output_type": "stream",
     "text": [
      "2017-11-23 15:02:38 GFG20170005.local root[918] INFO Building feature matrix of group jewellery_female_autumn-winter...\n",
      "2017-11-23 15:02:38 GFG20170005.local root[918] INFO Loading features of group jewellery_female_autumn-winter from /Users/gfg/data/venture=zalora/sg/clean/groups/feats/jewellery_female_autumn-winter.csv...\n",
      "2017-11-23 15:02:38 GFG20170005.local root[918] INFO \t dropped NA configs\n",
      "2017-11-23 15:02:42 GFG20170005.local root[918] INFO Saved ready data to file /Users/gfg/data/venture=zalora/sg/clean/groups/feats/ready_df_jewellery_female_autumn-winter.csv\n"
     ]
    },
    {
     "name": "stdout",
     "output_type": "stream",
     "text": [
      "\t Adding is_weekend feature...\n",
      "Extracting train data...\n",
      "Extracting test data...\n",
      "Fitting models to training data...\n",
      "\n",
      "Performing CV for lasso_regression...\n",
      "Fitting 3 folds for each of 3 candidates, totalling 9 fits\n",
      "-0.0191626818249\n",
      "{'alpha': 10.0}\n",
      "\n",
      "Performing CV for ridge_regression...\n",
      "Fitting 3 folds for each of 3 candidates, totalling 9 fits\n",
      "-0.85672694665\n",
      "{'alpha': 10.0}\n",
      "\n",
      "Performing CV for boosted_regression_tree...\n",
      "Fitting 3 folds for each of 40 candidates, totalling 120 fits\n"
     ]
    },
    {
     "name": "stderr",
     "output_type": "stream",
     "text": [
      "[Parallel(n_jobs=1)]: Done   9 out of   9 | elapsed:    0.0s finished\n",
      "[Parallel(n_jobs=1)]: Done   9 out of   9 | elapsed:    0.0s finished\n",
      "[Parallel(n_jobs=1)]: Done 120 out of 120 | elapsed:    2.3s finished\n"
     ]
    },
    {
     "name": "stdout",
     "output_type": "stream",
     "text": [
      "-0.198027587827\n",
      "{'max_depth': 3, 'n_estimators': 10}\n",
      "\n",
      "Performing CV for random_forest...\n",
      "Fitting 3 folds for each of 40 candidates, totalling 120 fits\n"
     ]
    },
    {
     "name": "stderr",
     "output_type": "stream",
     "text": [
      "[Parallel(n_jobs=1)]: Done 120 out of 120 | elapsed:    7.7s finished\n"
     ]
    },
    {
     "name": "stdout",
     "output_type": "stream",
     "text": [
      "-0.171446574519\n",
      "{'max_depth': 3, 'n_estimators': 10}\n",
      "\n",
      "Performing CV for xgboost...\n",
      "Fitting 3 folds for each of 40 candidates, totalling 120 fits\n",
      "-0.362427506591\n",
      "{'max_depth': 3, 'n_estimators': 20}\n",
      "Saving predictions to file /Users/gfg/projects/daas-markdown/res/jewellery_female_autumn-winter_predict.csv...\n",
      "Models sorted by test RMSE:\n",
      "                     model  test_rmse  train_rmse\n",
      "3            Random Forest   0.444134    0.215435\n",
      "0         Lasso Regression   0.446736    0.285052\n",
      "2  Boosted Regression Tree   0.464644    0.197133\n",
      "4                  XGBoost   0.478390    0.195566\n",
      "1         Ridge Regression   0.563043    0.282468\n"
     ]
    },
    {
     "name": "stderr",
     "output_type": "stream",
     "text": [
      "[Parallel(n_jobs=1)]: Done 120 out of 120 | elapsed:    1.8s finished\n"
     ]
    }
   ],
   "source": [
    "fem_jewel_aw_train, fem_jewel_aw_test, sorted_models_df = model_trainer.benchmark(group='jewellery_female_autumn-winter', \n",
    "                                                              in_loader=in_loader, out_dumper=out_dumper)\n",
    "print('Models sorted by test RMSE:')\n",
    "print(sorted_models_df)"
   ]
  },
  {
   "cell_type": "markdown",
   "metadata": {
    "hidden": true
   },
   "source": [
    "### Feat importance"
   ]
  },
  {
   "cell_type": "code",
   "execution_count": 24,
   "metadata": {
    "ExecuteTime": {
     "end_time": "2017-11-23T15:03:43.949476Z",
     "start_time": "2017-11-23T15:03:43.736062Z"
    },
    "hidden": true
   },
   "outputs": [
    {
     "data": {
      "image/png": "[encoded data removed]",
      "text/plain": [
       "<matplotlib.figure.Figure at 0x12123e0b8>"
      ]
     },
     "metadata": {},
     "output_type": "display_data"
    }
   ],
   "source": [
    "best_xgboost = model_trainer.best_models[-1].best_estimator_\n",
    "fig = xgb.plot_importance(best_xgboost)\n",
    "pl.title('jewellery_female_autumn-winter')\n",
    "pl.show()"
   ]
  },
  {
   "cell_type": "markdown",
   "metadata": {
    "hidden": true
   },
   "source": []
  },
  {
   "cell_type": "markdown",
   "metadata": {
    "heading_collapsed": true
   },
   "source": [
    "## Male t-shirts autumn-winter"
   ]
  },
  {
   "cell_type": "code",
   "execution_count": 12,
   "metadata": {
    "ExecuteTime": {
     "end_time": "2017-11-23T16:26:18.609973Z",
     "start_time": "2017-11-23T16:24:40.829005Z"
    },
    "hidden": true
   },
   "outputs": [
    {
     "name": "stderr",
     "output_type": "stream",
     "text": [
      "2017-11-23 16:24:40 GFG20170005.local root[1842] INFO Building feature matrix of group t-shirts_male_autumn-winter...\n",
      "2017-11-23 16:24:40 GFG20170005.local root[1842] INFO Loading features of group t-shirts_male_autumn-winter from /Users/gfg/data/venture=zalora/sg/clean/groups/feats/t-shirts_male_autumn-winter.csv...\n",
      "2017-11-23 16:24:41 GFG20170005.local root[1842] INFO \t dropped NA configs\n"
     ]
    },
    {
     "name": "stdout",
     "output_type": "stream",
     "text": [
      "\t Adding is_weekend feature...\n"
     ]
    },
    {
     "name": "stderr",
     "output_type": "stream",
     "text": [
      "2017-11-23 16:24:45 GFG20170005.local root[1842] INFO Saved ready data to file /Users/gfg/data/venture=zalora/sg/clean/groups/feats/ready_df_t-shirts_male_autumn-winter.csv\n"
     ]
    },
    {
     "name": "stdout",
     "output_type": "stream",
     "text": [
      "Extracting train data...\n",
      "\t100 configs and counting...\n",
      "\t200 configs and counting...\n",
      "\t300 configs and counting...\n",
      "\t400 configs and counting...\n",
      "\t500 configs and counting...\n",
      "\t600 configs and counting...\n",
      "\t700 configs and counting...\n",
      "\t800 configs and counting...\n",
      "Extracting test data...\n",
      "\t100 configs and counting...\n",
      "\t200 configs and counting...\n",
      "\t300 configs and counting...\n",
      "\t400 configs and counting...\n",
      "\t500 configs and counting...\n",
      "\t600 configs and counting...\n",
      "\t700 configs and counting...\n",
      "\t800 configs and counting...\n",
      "Fitting models to training data...\n",
      "\n",
      "Performing CV for lasso_regression...\n",
      "Fitting 3 folds for each of 3 candidates, totalling 9 fits\n"
     ]
    },
    {
     "name": "stderr",
     "output_type": "stream",
     "text": [
      "/Users/gfg/anaconda/lib/python3.6/site-packages/sklearn/linear_model/coordinate_descent.py:484: ConvergenceWarning: Objective did not converge. You might want to increase the number of iterations. Fitting data with very small alpha may cause precision problems.\n",
      "  ConvergenceWarning)\n",
      "/Users/gfg/anaconda/lib/python3.6/site-packages/sklearn/linear_model/coordinate_descent.py:484: ConvergenceWarning: Objective did not converge. You might want to increase the number of iterations. Fitting data with very small alpha may cause precision problems.\n",
      "  ConvergenceWarning)\n",
      "/Users/gfg/anaconda/lib/python3.6/site-packages/sklearn/linear_model/coordinate_descent.py:484: ConvergenceWarning: Objective did not converge. You might want to increase the number of iterations. Fitting data with very small alpha may cause precision problems.\n",
      "  ConvergenceWarning)\n",
      "/Users/gfg/anaconda/lib/python3.6/site-packages/sklearn/linear_model/coordinate_descent.py:484: ConvergenceWarning: Objective did not converge. You might want to increase the number of iterations. Fitting data with very small alpha may cause precision problems.\n",
      "  ConvergenceWarning)\n",
      "/Users/gfg/anaconda/lib/python3.6/site-packages/sklearn/linear_model/coordinate_descent.py:484: ConvergenceWarning: Objective did not converge. You might want to increase the number of iterations. Fitting data with very small alpha may cause precision problems.\n",
      "  ConvergenceWarning)\n",
      "[Parallel(n_jobs=1)]: Done   9 out of   9 | elapsed:    0.2s finished\n",
      "/Users/gfg/anaconda/lib/python3.6/site-packages/sklearn/linear_model/coordinate_descent.py:484: ConvergenceWarning: Objective did not converge. You might want to increase the number of iterations. Fitting data with very small alpha may cause precision problems.\n",
      "  ConvergenceWarning)\n",
      "[Parallel(n_jobs=1)]: Done   9 out of   9 | elapsed:    0.0s finished\n"
     ]
    },
    {
     "name": "stdout",
     "output_type": "stream",
     "text": [
      "0.00317190166126\n",
      "{'alpha': 1.0}\n",
      "\n",
      "Performing CV for ridge_regression...\n",
      "Fitting 3 folds for each of 3 candidates, totalling 9 fits\n",
      "-55388.628176\n",
      "{'alpha': 10.0}\n",
      "\n",
      "Performing CV for boosted_regression_tree...\n",
      "Fitting 3 folds for each of 40 candidates, totalling 120 fits\n"
     ]
    },
    {
     "name": "stderr",
     "output_type": "stream",
     "text": [
      "[Parallel(n_jobs=1)]: Done 120 out of 120 | elapsed:   28.1s finished\n"
     ]
    },
    {
     "name": "stdout",
     "output_type": "stream",
     "text": [
      "0.101609038284\n",
      "{'max_depth': 3, 'n_estimators': 80}\n",
      "\n",
      "Performing CV for random_forest...\n",
      "Fitting 3 folds for each of 40 candidates, totalling 120 fits\n"
     ]
    },
    {
     "name": "stderr",
     "output_type": "stream",
     "text": [
      "[Parallel(n_jobs=1)]: Done 120 out of 120 | elapsed:   41.4s finished\n"
     ]
    },
    {
     "name": "stdout",
     "output_type": "stream",
     "text": [
      "0.0613459020437\n",
      "{'max_depth': 3, 'n_estimators': 10}\n",
      "\n",
      "Performing CV for xgboost...\n",
      "Fitting 3 folds for each of 40 candidates, totalling 120 fits\n"
     ]
    },
    {
     "name": "stderr",
     "output_type": "stream",
     "text": [
      "[Parallel(n_jobs=1)]: Done 120 out of 120 | elapsed:   15.4s finished\n"
     ]
    },
    {
     "name": "stdout",
     "output_type": "stream",
     "text": [
      "0.0528995561082\n",
      "{'max_depth': 3, 'n_estimators': 100}\n",
      "Saving predictions to file /Users/gfg/projects/daas-markdown/res/t-shirts_male_autumn-winter_predict.csv...\n",
      "Models sorted by test RMSE:\n",
      "                     model  test_rmse  train_rmse\n",
      "3            Random Forest   0.544835    0.586840\n",
      "0         Lasso Regression   0.642960    0.701970\n",
      "1         Ridge Regression   0.656349    0.699199\n",
      "4                  XGBoost   0.730482    0.509833\n",
      "2  Boosted Regression Tree   0.753212    0.513025\n"
     ]
    }
   ],
   "source": [
    "male_tshirt_aw_train, male_tshirt_aw_test, sorted_models_df = model_trainer.benchmark(group='t-shirts_male_autumn-winter', \n",
    "                                                              in_loader=in_loader, out_dumper=out_dumper)\n",
    "print('Models sorted by test RMSE:')\n",
    "print(sorted_models_df)"
   ]
  },
  {
   "cell_type": "code",
   "execution_count": 13,
   "metadata": {
    "ExecuteTime": {
     "end_time": "2017-11-23T16:26:29.633462Z",
     "start_time": "2017-11-23T16:26:29.404484Z"
    },
    "hidden": true
   },
   "outputs": [
    {
     "data": {
      "image/png": "[encoded data removed]",
      "text/plain": [
       "<matplotlib.figure.Figure at 0x11fd89748>"
      ]
     },
     "metadata": {},
     "output_type": "display_data"
    }
   ],
   "source": [
    "best_xgboost = model_trainer.best_models[-1].best_estimator_\n",
    "fig = xgb.plot_importance(best_xgboost)\n",
    "pl.title('male_tshirt_autumn-winter')\n",
    "pl.show()"
   ]
  },
  {
   "cell_type": "markdown",
   "metadata": {
    "heading_collapsed": true
   },
   "source": [
    "# Spring-summer products"
   ]
  },
  {
   "cell_type": "markdown",
   "metadata": {
    "heading_collapsed": true,
    "hidden": true
   },
   "source": [
    "## Female heels"
   ]
  },
  {
   "cell_type": "code",
   "execution_count": null,
   "metadata": {
    "ExecuteTime": {
     "end_time": "2017-10-05T10:39:54.784103Z",
     "start_time": "2017-10-05T10:39:28.501052Z"
    },
    "collapsed": true,
    "hidden": true
   },
   "outputs": [],
   "source": [
    "rmse_df, predictions = benchmark(models, feats, group='heels_female_spring-summer')"
   ]
  },
  {
   "cell_type": "markdown",
   "metadata": {
    "hidden": true
   },
   "source": [
    "## Male t-shirts"
   ]
  },
  {
   "cell_type": "markdown",
   "metadata": {
    "hidden": true
   },
   "source": [
    "### Train & Predict"
   ]
  },
  {
   "cell_type": "code",
   "execution_count": null,
   "metadata": {
    "ExecuteTime": {
     "end_time": "2017-10-05T11:22:11.795564Z",
     "start_time": "2017-10-05T11:21:26.947328Z"
    },
    "collapsed": true,
    "hidden": true,
    "scrolled": true
   },
   "outputs": [],
   "source": [
    "rmse_df, predictions = benchmark(models, feats, group='t-shirts_male_spring-summer')"
   ]
  },
  {
   "cell_type": "markdown",
   "metadata": {
    "hidden": true
   },
   "source": [
    "### Group level evals"
   ]
  },
  {
   "cell_type": "code",
   "execution_count": null,
   "metadata": {
    "ExecuteTime": {
     "end_time": "2017-10-05T11:22:47.507868Z",
     "start_time": "2017-10-05T11:22:47.500167Z"
    },
    "collapsed": true,
    "hidden": true
   },
   "outputs": [],
   "source": [
    "rmse_df"
   ]
  },
  {
   "cell_type": "markdown",
   "metadata": {
    "hidden": true
   },
   "source": [
    "### Config level evals"
   ]
  },
  {
   "cell_type": "code",
   "execution_count": null,
   "metadata": {
    "collapsed": true,
    "hidden": true
   },
   "outputs": [],
   "source": []
  },
  {
   "cell_type": "markdown",
   "metadata": {
    "hidden": true
   },
   "source": [
    "## Not enough data in spring-summer 2016\n",
    "For groups/SKUs in season spring-summer, test data are much larger than training data!!! Because test data start in Apr and end in Jun of 2017, which is actually in season spring-summer2017, while training data start in later half of Apr-2016 and end in March-2017. Train data already include spring-summer of 2016, why so few data."
   ]
  },
  {
   "cell_type": "markdown",
   "metadata": {},
   "source": [
    "# Previous code"
   ]
  },
  {
   "cell_type": "markdown",
   "metadata": {},
   "source": [
    "## Actual avg vs. predicted avg"
   ]
  },
  {
   "cell_type": "markdown",
   "metadata": {},
   "source": [
    "### Lift charts"
   ]
  },
  {
   "cell_type": "code",
   "execution_count": null,
   "metadata": {
    "ExecuteTime": {
     "end_time": "2017-10-03T16:29:14.731726Z",
     "start_time": "2017-10-03T16:29:14.724843Z"
    },
    "collapsed": true
   },
   "outputs": [],
   "source": [
    "predictions.n_sold.describe()"
   ]
  },
  {
   "cell_type": "code",
   "execution_count": null,
   "metadata": {
    "ExecuteTime": {
     "end_time": "2017-10-03T16:29:21.641020Z",
     "start_time": "2017-10-03T16:29:21.468820Z"
    },
    "collapsed": true
   },
   "outputs": [],
   "source": [
    "fig = pl.figure()\n",
    "ns, bins, patches = pl.hist(predictions.n_sold, bins=10)\n",
    "pl.show(); pl.close()"
   ]
  },
  {
   "cell_type": "code",
   "execution_count": null,
   "metadata": {
    "ExecuteTime": {
     "end_time": "2017-10-03T16:30:31.005560Z",
     "start_time": "2017-10-03T16:30:30.833885Z"
    },
    "code_folding": [],
    "collapsed": true
   },
   "outputs": [],
   "source": [
    "# select only majority demand values\n",
    "sel_pred = predictions.query('n_sold <= 5')\n",
    "fig = pl.figure()\n",
    "ns, bins, patches = pl.hist(sel_pred.n_sold, bins=10)\n",
    "pl.show(); pl.close()"
   ]
  },
  {
   "cell_type": "code",
   "execution_count": null,
   "metadata": {
    "ExecuteTime": {
     "end_time": "2017-10-03T16:30:42.637193Z",
     "start_time": "2017-10-03T16:30:42.626066Z"
    },
    "collapsed": true
   },
   "outputs": [],
   "source": [
    "print('Bin info:')\n",
    "bin_info = pd.DataFrame({'size': ns, 'lower': bins[0: n_bin], 'upper': bins[1:]})\n",
    "bin_info"
   ]
  },
  {
   "cell_type": "code",
   "execution_count": null,
   "metadata": {
    "ExecuteTime": {
     "end_time": "2017-10-03T16:32:17.587467Z",
     "start_time": "2017-10-03T16:32:17.575674Z"
    },
    "collapsed": true
   },
   "outputs": [],
   "source": [
    "bin_info = bin_info.query('size > 0')\n",
    "bin_info.reset_index(inplace=True)\n",
    "del bin_info['index']\n",
    "bin_info"
   ]
  },
  {
   "cell_type": "code",
   "execution_count": null,
   "metadata": {
    "ExecuteTime": {
     "end_time": "2017-10-03T16:36:38.852665Z",
     "start_time": "2017-10-03T16:36:38.844919Z"
    },
    "code_folding": [
     3
    ],
    "collapsed": true
   },
   "outputs": [],
   "source": [
    "# calculate avg of actual vs. avg of predictions in each bin\n",
    "pred_cols = [c for c in predictions.columns if 'predict_' in c]\n",
    "cols = ['n_sold'] + pred_cols\n",
    "def avg_in_bin(i, bin_info):\n",
    "    \n",
    "    row = bin_info.iloc[i]\n",
    "    low, high = row['lower'], row['upper']\n",
    "    sub_df = predictions.query('{} <= n_sold & n_sold < {}'.format(low, high))[cols]\n",
    "    if sub_df.empty:\n",
    "        sub_df = predictions.query('{} < n_sold & n_sold <= {}'.format(low, high))[cols]\n",
    "        \n",
    "    avg_df = pd.DataFrame(sub_df.apply(np.mean, axis=0))   \n",
    "    return avg_df.rename(columns={0: 'n_sold in [{}, {}]'.format(low, high)})"
   ]
  },
  {
   "cell_type": "code",
   "execution_count": null,
   "metadata": {
    "ExecuteTime": {
     "end_time": "2017-10-03T17:08:49.806592Z",
     "start_time": "2017-10-03T17:08:49.762019Z"
    },
    "collapsed": true
   },
   "outputs": [],
   "source": [
    "n_row = bin_info.shape[0]\n",
    "frames = [avg_in_bin(i, bin_info) for i in range(n_row)]\n",
    "pd.concat(frames, 'columns')"
   ]
  },
  {
   "cell_type": "markdown",
   "metadata": {},
   "source": [
    "### Agg by date"
   ]
  },
  {
   "cell_type": "code",
   "execution_count": null,
   "metadata": {
    "ExecuteTime": {
     "end_time": "2017-10-03T17:18:42.950566Z",
     "start_time": "2017-10-03T17:18:42.946192Z"
    },
    "code_folding": [
     0
    ],
    "collapsed": true
   },
   "outputs": [],
   "source": [
    "target_cols = ['date'] + ['n_sold'] + [c for c in predictions.columns if 'predict_' in c]\n",
    "daily_pred = predictions[target_cols].groupby('date')"
   ]
  },
  {
   "cell_type": "code",
   "execution_count": null,
   "metadata": {
    "ExecuteTime": {
     "end_time": "2017-10-03T17:19:40.509902Z",
     "start_time": "2017-10-03T17:19:40.503623Z"
    },
    "collapsed": true
   },
   "outputs": [],
   "source": [
    "daily_avg = daily_pred.agg(np.mean).add_prefix('avg_').reset_index()\n",
    "del daily_avg['avg_predict_ridge_regression']"
   ]
  },
  {
   "cell_type": "code",
   "execution_count": null,
   "metadata": {
    "ExecuteTime": {
     "end_time": "2017-10-03T17:23:49.073875Z",
     "start_time": "2017-10-03T17:23:48.741929Z"
    },
    "collapsed": true
   },
   "outputs": [],
   "source": [
    "fig = do_viz(daily_avg, use_avg=True, fig_size=(10, 10))\n",
    "pl.show(); pl.close()"
   ]
  },
  {
   "cell_type": "code",
   "execution_count": null,
   "metadata": {
    "ExecuteTime": {
     "end_time": "2017-10-02T17:14:38.627440Z",
     "start_time": "2017-10-02T17:14:38.623990Z"
    },
    "collapsed": true
   },
   "outputs": [],
   "source": [
    "daily_avg.sort_values('avg_predict_lasso_regression', inplace=True)"
   ]
  },
  {
   "cell_type": "code",
   "execution_count": null,
   "metadata": {
    "ExecuteTime": {
     "end_time": "2017-10-02T17:19:11.173987Z",
     "start_time": "2017-10-02T17:19:11.163055Z"
    },
    "collapsed": true
   },
   "outputs": [],
   "source": [
    "daily_avg.head()"
   ]
  },
  {
   "cell_type": "code",
   "execution_count": null,
   "metadata": {
    "ExecuteTime": {
     "end_time": "2017-10-02T17:19:35.072165Z",
     "start_time": "2017-10-02T17:19:35.060530Z"
    },
    "collapsed": true
   },
   "outputs": [],
   "source": [
    "daily_avg.tail()"
   ]
  },
  {
   "cell_type": "markdown",
   "metadata": {},
   "source": [
    "## Config level evaluations \n",
    "First we need to choose representative configs to inspect. Some criteria:\n",
    "+ enough training data\n",
    "+ cover diff range of demand values (high, medium, low)"
   ]
  },
  {
   "cell_type": "markdown",
   "metadata": {
    "heading_collapsed": true
   },
   "source": [
    "### Distribution of training data among configs"
   ]
  },
  {
   "cell_type": "code",
   "execution_count": null,
   "metadata": {
    "ExecuteTime": {
     "end_time": "2017-10-03T17:13:43.147017Z",
     "start_time": "2017-10-03T17:13:43.138476Z"
    },
    "collapsed": true,
    "hidden": true
   },
   "outputs": [],
   "source": [
    "size_df = records_by_config(train_df)\n",
    "print(size_df['count'].describe())"
   ]
  },
  {
   "cell_type": "markdown",
   "metadata": {
    "hidden": true
   },
   "source": [
    "The distribution shows that most configs (75%) have few data points (less than 20). This may be an obstacle to model performance."
   ]
  },
  {
   "cell_type": "code",
   "execution_count": null,
   "metadata": {
    "ExecuteTime": {
     "end_time": "2017-10-03T17:13:43.160416Z",
     "start_time": "2017-10-03T17:13:43.148510Z"
    },
    "collapsed": true,
    "hidden": true
   },
   "outputs": [],
   "source": [
    "print('SKU configs with largest number of training records:')\n",
    "print(size_df.head(10).merge(train_df[['sku_config', 'product_name']].drop_duplicates()))"
   ]
  },
  {
   "cell_type": "markdown",
   "metadata": {
    "heading_collapsed": true
   },
   "source": [
    "### Range of demand values"
   ]
  },
  {
   "cell_type": "code",
   "execution_count": null,
   "metadata": {
    "ExecuteTime": {
     "end_time": "2017-10-02T12:23:44.411608Z",
     "start_time": "2017-10-02T12:23:44.404537Z"
    },
    "collapsed": true,
    "hidden": true
   },
   "outputs": [],
   "source": [
    "test_df['n_sold'].describe()"
   ]
  },
  {
   "cell_type": "markdown",
   "metadata": {
    "hidden": true
   },
   "source": [
    "This shows that in test data, most of the time, demand values are no more than 2 units/day."
   ]
  },
  {
   "cell_type": "markdown",
   "metadata": {},
   "source": [
    "### Specific configs"
   ]
  },
  {
   "cell_type": "markdown",
   "metadata": {
    "heading_collapsed": true
   },
   "source": [
    "#### female dresses"
   ]
  },
  {
   "cell_type": "code",
   "execution_count": null,
   "metadata": {
    "ExecuteTime": {
     "end_time": "2017-10-04T11:44:42.136558Z",
     "start_time": "2017-10-04T11:44:41.790387Z"
    },
    "collapsed": true,
    "hidden": true
   },
   "outputs": [],
   "source": [
    "inspect_results(cf='FD2BCAA6F8E071GS')"
   ]
  },
  {
   "cell_type": "code",
   "execution_count": null,
   "metadata": {
    "ExecuteTime": {
     "end_time": "2017-10-03T17:10:31.555443Z",
     "start_time": "2017-10-03T17:10:31.242495Z"
    },
    "collapsed": true,
    "hidden": true
   },
   "outputs": [],
   "source": [
    "inspect_results(cf='MA193AA06RQJMY')"
   ]
  },
  {
   "cell_type": "code",
   "execution_count": null,
   "metadata": {
    "ExecuteTime": {
     "end_time": "2017-10-03T17:14:27.098709Z",
     "start_time": "2017-10-03T17:14:26.812351Z"
    },
    "collapsed": true,
    "hidden": true
   },
   "outputs": [],
   "source": [
    "inspect_results(cf='D50D7AAF27C667GS')"
   ]
  },
  {
   "cell_type": "code",
   "execution_count": null,
   "metadata": {
    "ExecuteTime": {
     "end_time": "2017-10-03T17:17:20.938582Z",
     "start_time": "2017-10-03T17:17:20.644953Z"
    },
    "collapsed": true,
    "hidden": true,
    "scrolled": true
   },
   "outputs": [],
   "source": [
    "inspect_results(cf='AE783AAF4A0DE3GS')"
   ]
  },
  {
   "cell_type": "markdown",
   "metadata": {
    "heading_collapsed": true
   },
   "source": [
    "#### female tops"
   ]
  },
  {
   "cell_type": "code",
   "execution_count": null,
   "metadata": {
    "ExecuteTime": {
     "end_time": "2017-10-05T10:49:54.567321Z",
     "start_time": "2017-10-05T10:49:54.354295Z"
    },
    "collapsed": true,
    "hidden": true
   },
   "outputs": [],
   "source": [
    "inspect_results(cf='MA193AA07ZKEMY')"
   ]
  },
  {
   "cell_type": "code",
   "execution_count": null,
   "metadata": {
    "ExecuteTime": {
     "end_time": "2017-09-27T09:28:41.706219Z",
     "start_time": "2017-09-27T09:28:41.335944Z"
    },
    "collapsed": true,
    "hidden": true
   },
   "outputs": [],
   "source": [
    "inspect_results(cf='MA193AA55YNOMY')"
   ]
  },
  {
   "cell_type": "code",
   "execution_count": null,
   "metadata": {
    "ExecuteTime": {
     "end_time": "2017-09-27T09:32:34.135829Z",
     "start_time": "2017-09-27T09:32:33.741706Z"
    },
    "collapsed": true,
    "hidden": true
   },
   "outputs": [],
   "source": [
    "inspect_results(cf='AUBXIAA0000097GS')"
   ]
  }
 ],
 "metadata": {
  "kernelspec": {
   "display_name": "Python 3",
   "language": "python",
   "name": "python3"
  },
  "language_info": {
   "codemirror_mode": {
    "name": "ipython",
    "version": 3
   },
   "file_extension": ".py",
   "mimetype": "text/x-python",
   "name": "python",
   "nbconvert_exporter": "python",
   "pygments_lexer": "ipython3",
   "version": "3.6.0"
  },
  "toc": {
   "colors": {
    "hover_highlight": "#DAA520",
    "navigate_num": "#000000",
    "navigate_text": "#333333",
    "running_highlight": "#FF0000",
    "selected_highlight": "#FFD700",
    "sidebar_border": "#EEEEEE",
    "wrapper_background": "#FFFFFF"
   },
   "moveMenuLeft": true,
   "nav_menu": {
    "height": "66px",
    "width": "252px"
   },
   "navigate_menu": true,
   "number_sections": true,
   "sideBar": true,
   "threshold": 4,
   "toc_cell": false,
   "toc_position": {
    "height": "669px",
    "left": "0px",
    "right": "1015px",
    "top": "107px",
    "width": "212px"
   },
   "toc_section_display": "block",
   "toc_window_display": true,
   "widenNotebook": false
  },
  "varInspector": {
   "cols": {
    "lenName": 16,
    "lenType": 16,
    "lenVar": 40
   },
   "kernels_config": {
    "python": {
     "delete_cmd_postfix": "",
     "delete_cmd_prefix": "del ",
     "library": "var_list.py",
     "varRefreshCmd": "print(var_dic_list())"
    },
    "r": {
     "delete_cmd_postfix": ") ",
     "delete_cmd_prefix": "rm(",
     "library": "var_list.r",
     "varRefreshCmd": "cat(var_dic_list()) "
    }
   },
   "position": {
    "height": "268px",
    "left": "768px",
    "right": "20px",
    "top": "119px",
    "width": "463px"
   },
   "types_to_exclude": [
    "module",
    "function",
    "builtin_function_or_method",
    "instance",
    "_Feature"
   ],
   "window_display": false
  }
 },
 "nbformat": 4,
 "nbformat_minor": 2
}
