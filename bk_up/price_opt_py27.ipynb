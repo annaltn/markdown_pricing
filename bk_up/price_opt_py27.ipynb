{
 "cells": [
  {
   "cell_type": "markdown",
   "metadata": {
    "heading_collapsed": true
   },
   "source": [
    "## Inits"
   ]
  },
  {
   "cell_type": "markdown",
   "metadata": {
    "hidden": true
   },
   "source": [
    "+ Standard modules:"
   ]
  },
  {
   "cell_type": "code",
   "execution_count": 1,
   "metadata": {
    "ExecuteTime": {
     "end_time": "2017-12-05T16:14:57.219673Z",
     "start_time": "2017-12-05T16:14:56.460803Z"
    },
    "collapsed": true,
    "hidden": true,
    "init_cell": true
   },
   "outputs": [],
   "source": [
    "import pandas as pd\n",
    "import numpy as np\n",
    "import matplotlib.pyplot as pl\n",
    "from time import time"
   ]
  },
  {
   "cell_type": "markdown",
   "metadata": {
    "hidden": true
   },
   "source": [
    "+ My own modules:"
   ]
  },
  {
   "cell_type": "code",
   "execution_count": 3,
   "metadata": {
    "ExecuteTime": {
     "end_time": "2017-12-05T16:16:20.980381Z",
     "start_time": "2017-12-05T16:16:20.971248Z"
    },
    "collapsed": false,
    "hidden": true,
    "init_cell": true
   },
   "outputs": [],
   "source": [
    "import input_load\n",
    "from input_load import *\n",
    "\n",
    "import split\n",
    "from split import DataSplitter\n",
    "\n",
    "import model_train\n",
    "from model_train import ModelTrainer\n",
    "\n",
    "import trigger\n",
    "from trigger import *\n",
    "\n",
    "import date_util\n",
    "from date_util import *"
   ]
  },
  {
   "cell_type": "markdown",
   "metadata": {
    "hidden": true
   },
   "source": [
    "+ Helpers:"
   ]
  },
  {
   "cell_type": "code",
   "execution_count": 5,
   "metadata": {
    "ExecuteTime": {
     "end_time": "2017-12-05T16:16:45.351035Z",
     "start_time": "2017-12-05T16:16:45.348001Z"
    },
    "code_folding": [
     0
    ],
    "collapsed": true,
    "hidden": true,
    "init_cell": true
   },
   "outputs": [],
   "source": [
    "def rand_int_in(low, high): # include both low & high\n",
    "    return np.random.randint(low, high + 1, 1)[0]"
   ]
  },
  {
   "cell_type": "markdown",
   "metadata": {},
   "source": [
    "## Load global vars"
   ]
  },
  {
   "cell_type": "code",
   "execution_count": 4,
   "metadata": {
    "ExecuteTime": {
     "end_time": "2017-12-05T16:16:40.593551Z",
     "start_time": "2017-12-05T16:16:40.590254Z"
    },
    "collapsed": true,
    "init_cell": true
   },
   "outputs": [],
   "source": [
    "CLEAN_DIR = '~/data/venture=Zalora/sg/clean/'\n",
    "RES_DIR = '~/projects/daas-markdown/res/'\n",
    "group_dir = CLEAN_DIR + 'groups/'\n",
    "feat_dir = group_dir + 'feats/'\n",
    "# TODAY = pd.datetime.today().date()"
   ]
  },
  {
   "cell_type": "markdown",
   "metadata": {
    "heading_collapsed": true
   },
   "source": [
    "# Preparations\n",
    "\n",
    "This stage includes following tasks:\n",
    "\n",
    "+ find configs to be optimized\n",
    "+ calculate possible prices for the configs\n",
    "+ train a sales predictor which will predict sales associated with the prices"
   ]
  },
  {
   "cell_type": "markdown",
   "metadata": {
    "hidden": true
   },
   "source": [
    "## Configs to be optimized\n",
    "\n",
    "Given a group of SKU configs, we want to detect which SKU configs we need to optimize prices. Those are configs which are either selling __too slow__ or __too fast__. Thus, we can detect those by comparing target sale velocity with recent sale velocity (in two recent weeks). This is implemented in our `trigger` module."
   ]
  },
  {
   "cell_type": "markdown",
   "metadata": {
    "hidden": true
   },
   "source": [
    "## Possible prices \n",
    "\n",
    "We now calculate possible prices for each config $cf$. Those are prices discounted from the black price of $cf$, starting from black price minus $5\\%$, each time we discount $5\\%$. Thus, the possible prices will have the following form:\n",
    "\n",
    "$$\n",
    "black\\_price(cf) - k * unit\\_discount, k \\in 1,\\dots, 16\n",
    "$$\n",
    "where\n",
    "$$\n",
    "unit\\_discount = 0.05 * black\\_price(cf)\n",
    "$$"
   ]
  },
  {
   "cell_type": "code",
   "execution_count": null,
   "metadata": {
    "ExecuteTime": {
     "end_time": "2017-12-05T16:14:57.369496Z",
     "start_time": "2017-12-05T08:14:56.466Z"
    },
    "code_folding": [
     1,
     12
    ],
    "collapsed": true,
    "hidden": true,
    "init_cell": true
   },
   "outputs": [],
   "source": [
    "# moved to cls PriceAccessor\n",
    "def get_correct_price(cf, tmp_rrp):\n",
    "    #     in case of several black prices, use the latest one (from mtg on 10 Nov 2017)\n",
    "    sub_df = tmp_rrp[tmp_rrp.sku_config == cf]\n",
    "    sub_df = sub_df.drop_duplicates('black_price').sort_values('snapshot_date', ascending=False)\n",
    "    \n",
    "    if sub_df.shape[0] > 1: # for debug\n",
    "        print(sub_df)\n",
    "    \n",
    "    latest_price = sub_df['black_price'].iat[0]\n",
    "    return latest_price\n",
    "\n",
    "def query_black_price(configs, group_df):\n",
    "    \n",
    "    print('Querying black prices...')\n",
    "    print('Below are SKUs with changing black price, we are using the latest one for black price')\n",
    "    \n",
    "    cols = ['sku_config', 'snapshot_date', 'price']\n",
    "    tmp_rrp = group_df[group_df.sku_config.isin(configs)][cols].drop_duplicates()\n",
    "    tmp_rrp = tmp_rrp.rename(columns={'price': 'black_price'})\n",
    "    \n",
    "    correct_prices = [get_correct_price(cf, tmp_rrp) for cf in configs]\n",
    "    return pd.DataFrame({'sku_config': configs, 'black_price': correct_prices})"
   ]
  },
  {
   "cell_type": "markdown",
   "metadata": {
    "hidden": true
   },
   "source": [
    "__Notes:__ \n",
    "\n",
    "+ There are SKUs with too large black prices. These must be errors from data input.\n",
    "+ some SKUs have more than $1$ black price. How to handle these cases? Should we just take the smallest price?\n",
    "\n",
    "Use latest black price (mtg on 10 Nov 2017)"
   ]
  },
  {
   "cell_type": "markdown",
   "metadata": {
    "hidden": true
   },
   "source": [
    "__Note__: for prototype purpose, I try only 3 possible values for each config. Later will try a full range."
   ]
  },
  {
   "cell_type": "code",
   "execution_count": null,
   "metadata": {
    "ExecuteTime": {
     "end_time": "2017-12-05T16:14:57.370015Z",
     "start_time": "2017-12-05T08:14:56.469Z"
    },
    "code_folding": [
     0
    ],
    "collapsed": true,
    "hidden": true,
    "init_cell": true
   },
   "outputs": [],
   "source": [
    "# moved to cls PriceAccessor\n",
    "ks = np.arange(0, 3) + 1\n",
    "def cal_possible_prices(cf, rrp_df, count=1, n_digit=2): # round to 2 decimals\n",
    "    if (count % 100) == 0:\n",
    "        print('{} configs and counting...'.format(count))\n",
    "    \n",
    "    black_price = rrp_df.query('sku_config == \"{}\"'.format(cf))['black_price'].iat[0]\n",
    "    unit_discount = 0.05*black_price\n",
    "    return np.round(black_price - ks*unit_discount, decimals=n_digit)"
   ]
  },
  {
   "cell_type": "markdown",
   "metadata": {
    "hidden": true
   },
   "source": [
    "## Train a sales predictor"
   ]
  },
  {
   "cell_type": "code",
   "execution_count": 219,
   "metadata": {
    "ExecuteTime": {
     "end_time": "2017-11-10T16:56:02.164364Z",
     "start_time": "2017-11-10T16:56:02.159744Z"
    },
    "collapsed": true,
    "hidden": true
   },
   "outputs": [],
   "source": [
    "reload(demand_pred)\n",
    "from demand_pred import *"
   ]
  },
  {
   "cell_type": "code",
   "execution_count": 220,
   "metadata": {
    "ExecuteTime": {
     "end_time": "2017-11-10T16:56:02.174988Z",
     "start_time": "2017-11-10T16:56:02.171900Z"
    },
    "collapsed": false,
    "hidden": true
   },
   "outputs": [],
   "source": [
    "demand_predictor = DemandPredictor()"
   ]
  },
  {
   "cell_type": "code",
   "execution_count": 32,
   "metadata": {
    "ExecuteTime": {
     "end_time": "2017-11-09T17:06:47.506651Z",
     "start_time": "2017-11-09T17:06:41.218709Z"
    },
    "collapsed": true,
    "hidden": true
   },
   "outputs": [
    {
     "name": "stdout",
     "output_type": "stream",
     "text": [
      "Loading features of group dresses_female_autumn-winter from /Users/gfg/data/venture=zalora/sg/clean/groups/feats/dresses_female_autumn-winter.csv...\n",
      "\t dropped NA configs\n",
      "Obtained feature matrix of group dresses_female_autumn-winter\n",
      "\t info on the matrix\n",
      "<class 'pandas.core.frame.DataFrame'>\n",
      "Int64Index: 160080 entries, 0 to 160079\n",
      "Data columns (total 17 columns):\n",
      "sku_config           160080 non-null object\n",
      "current_price        160080 non-null float64\n",
      "discount_from_rrp    160080 non-null float64\n",
      "n_competitor         160080 non-null int64\n",
      "rel_price            160080 non-null float64\n",
      "product_name         160080 non-null object\n",
      "color                160080 non-null object\n",
      "color_pop            160080 non-null float64\n",
      "sub_cat              160080 non-null object\n",
      "brand_name           160080 non-null object\n",
      "brand_type           160080 non-null object\n",
      "date                 160080 non-null object\n",
      "total_views          160080 non-null int64\n",
      "total_impressions    160080 non-null int64\n",
      "mean_views           160080 non-null float64\n",
      "mean_impressions     160080 non-null float64\n",
      "brand_pop            160080 non-null int64\n",
      "dtypes: float64(6), int64(4), object(7)\n",
      "memory usage: 22.0+ MB\n",
      "None\n",
      "Split training and test sets by date 2017-05-21\n",
      "\n",
      " # records in training: 13145\n",
      "Training data span ~4 months\n",
      "()\n",
      "# records in test: 3675\n",
      "Test data span ~1 months\n"
     ]
    }
   ],
   "source": [
    "feat_mat = in_loader.form_feat_mat(group=gname, global_X=global_X)\n",
    "ready_df = in_loader.attach_response(feat_mat, my_trigger.sale_hist)\n",
    "train_df, test_df = data_splitter.split_train_test(ready_df)"
   ]
  },
  {
   "cell_type": "code",
   "execution_count": 33,
   "metadata": {
    "ExecuteTime": {
     "end_time": "2017-11-09T17:06:55.610273Z",
     "start_time": "2017-11-09T17:06:55.607445Z"
    },
    "collapsed": true,
    "hidden": true
   },
   "outputs": [],
   "source": [
    "import gc"
   ]
  },
  {
   "cell_type": "code",
   "execution_count": 34,
   "metadata": {
    "ExecuteTime": {
     "end_time": "2017-11-09T17:06:55.986379Z",
     "start_time": "2017-11-09T17:06:55.616742Z"
    },
    "collapsed": false,
    "hidden": true
   },
   "outputs": [
    {
     "data": {
      "text/plain": [
       "433"
      ]
     },
     "execution_count": 34,
     "metadata": {},
     "output_type": "execute_result"
    }
   ],
   "source": [
    "# del global feat matrix to free mem for training\n",
    "del global_X\n",
    "gc.collect()"
   ]
  },
  {
   "cell_type": "code",
   "execution_count": 221,
   "metadata": {
    "ExecuteTime": {
     "end_time": "2017-11-10T16:56:48.318653Z",
     "start_time": "2017-11-10T16:56:07.591679Z"
    },
    "collapsed": false,
    "hidden": true,
    "scrolled": true
   },
   "outputs": [
    {
     "name": "stdout",
     "output_type": "stream",
     "text": [
      "Fitting XGBoost to train data...\n",
      "()\n",
      "Performing CV for xgboost...\n",
      "Fitting 3 folds for each of 40 candidates, totalling 120 fits\n",
      "-0.2060728528\n",
      "{'n_estimators': 20, 'max_depth': 3}\n"
     ]
    },
    {
     "name": "stderr",
     "output_type": "stream",
     "text": [
      "[Parallel(n_jobs=1)]: Done 120 out of 120 | elapsed:   40.6s finished\n"
     ]
    }
   ],
   "source": [
    "best_xgb = demand_predictor.fit_xgb(train_df)"
   ]
  },
  {
   "cell_type": "code",
   "execution_count": 341,
   "metadata": {
    "ExecuteTime": {
     "end_time": "2017-11-13T10:24:17.062012Z",
     "start_time": "2017-11-13T10:24:17.059131Z"
    },
    "collapsed": true,
    "hidden": true
   },
   "outputs": [],
   "source": [
    "predictor = best_xgb.best_estimator_"
   ]
  },
  {
   "cell_type": "markdown",
   "metadata": {
    "heading_collapsed": true,
    "hidden": true
   },
   "source": [
    "## Predict sales associated with a value of total price\n",
    "\n",
    "Given the trained estimator (predictor), we now can perform the sales prediction needed by PO."
   ]
  },
  {
   "cell_type": "markdown",
   "metadata": {
    "hidden": true
   },
   "source": [
    "__Context__: Consider date $dd$. Let `group_size` be the number of configs in the group on $dd$ and $s_{out}$ be the total price of configs that we do not need to be optimized (thus the total price is fixed).\n",
    "\n",
    "Given a config, possible prices and the fact that the prices sum to $s$, predict sales of the config at the given prices."
   ]
  },
  {
   "cell_type": "code",
   "execution_count": 335,
   "metadata": {
    "ExecuteTime": {
     "end_time": "2017-11-13T09:47:31.208417Z",
     "start_time": "2017-11-13T09:47:31.204594Z"
    },
    "code_folding": [],
    "collapsed": true,
    "hidden": true
   },
   "outputs": [],
   "source": [
    "# context/global vars for the sale predictor\n",
    "group_size =  len(all_configs)\n",
    "s_out = 1000 # hypothetic, replace by actual value later\n",
    "mean_price = (s + s_out)/group_size\n",
    "cols = ['sku_config', 'price', 'total_price', 'predicted_sale']"
   ]
  },
  {
   "cell_type": "code",
   "execution_count": 350,
   "metadata": {
    "ExecuteTime": {
     "end_time": "2017-11-13T10:44:46.469523Z",
     "start_time": "2017-11-13T10:44:46.459980Z"
    },
    "code_folding": [
     0
    ],
    "collapsed": false,
    "hidden": true
   },
   "outputs": [],
   "source": [
    "def predict_sales(cf, prices, s):\n",
    "    print('config: {}'.format(cf))\n",
    "    data_cols = feats + ['black_price']\n",
    "    \n",
    "    def predict_sale_for_price(p):\n",
    "        rec = feat_mat.query('sku_config == \"{}\"'.format(cf))[data_cols].head(1)\n",
    "        rec['date'] = dd\n",
    "\n",
    "        # update price-relevant feats\n",
    "        rec['current_price'] = p\n",
    "        rec['discount_from_rrp'] = 100*(rec['black_price'] - rec['current_price'])/rec['black_price']\n",
    "        rec['rel_price'] = rec['current_price']/mean_price\n",
    "        return predictor.predict(rec[feats])[0]\n",
    "    \n",
    "    sales = [predict_sale_for_price(p) for p in prices]\n",
    "    res = pd.DataFrame({'sku_config': cf, 'price': prices, 'total_price': s, 'predicted_sale': sales})\n",
    "    return res[cols]"
   ]
  },
  {
   "cell_type": "code",
   "execution_count": 338,
   "metadata": {
    "ExecuteTime": {
     "end_time": "2017-11-13T09:54:48.012123Z",
     "start_time": "2017-11-13T09:54:47.287209Z"
    },
    "collapsed": false,
    "hidden": true
   },
   "outputs": [
    {
     "name": "stdout",
     "output_type": "stream",
     "text": [
      "config: 9EB52AA5DA4D3DGS\n",
      "config: D4094AA895E68CGS\n",
      "config: 1F22DAA71C149FGS\n"
     ]
    }
   ],
   "source": [
    "# Test\n",
    "frames = [predict_sales(cf, test_prices, s) for cf in test_configs]\n",
    "pred_sale_df = pd.concat(frames)"
   ]
  },
  {
   "cell_type": "markdown",
   "metadata": {
    "heading_collapsed": true
   },
   "source": [
    "# Find global optimum prices\n",
    "\n",
    "For each value of $s$, we solve the corresponding ($IP_s$) to find the local optimum prices $P^*_s$. Then we determine the global optimum prices $P^*$ as the one that provides maximum revenue among these $P^*_s$."
   ]
  },
  {
   "cell_type": "markdown",
   "metadata": {
    "hidden": true
   },
   "source": [
    "## Solve $IP_s$ for local optimum\n",
    "\n",
    "For each possible value of $s$, I follow the steps in algorithm 1 in the [work](http://www.hbs.edu/faculty/Publication%20Files/kris%20Analytics%20for%20an%20Online%20Retailer_6ef5f3e6-48e7-4923-a2d4-607d3a3d943c.pdf):\n",
    "\n",
    "+ solve relaxed $LP_s$ of $IP_s$ (e.g. integer constraints are removed)\n",
    "+ calculate the lower bound for objective value of $IP_s$ via objective value of $LP_s$"
   ]
  },
  {
   "cell_type": "code",
   "execution_count": 388,
   "metadata": {
    "ExecuteTime": {
     "end_time": "2017-11-13T15:53:32.974824Z",
     "start_time": "2017-11-13T15:53:32.969583Z"
    },
    "collapsed": true,
    "hidden": true
   },
   "outputs": [],
   "source": [
    "# only needed when there are changes in code base\n",
    "reload(input_load)\n",
    "from input_load import *"
   ]
  },
  {
   "cell_type": "code",
   "execution_count": 389,
   "metadata": {
    "ExecuteTime": {
     "end_time": "2017-11-13T15:54:01.427398Z",
     "start_time": "2017-11-13T15:53:32.979106Z"
    },
    "collapsed": false,
    "hidden": true
   },
   "outputs": [
    {
     "name": "stdout",
     "output_type": "stream",
     "text": [
      "Loading global feats in yr 2017 from file /Users/gfg/data/venture=zalora/sg/clean/2017/glob_feat.csv...\n"
     ]
    }
   ],
   "source": [
    "in_loader = InputLoader(DataPrep())"
   ]
  },
  {
   "cell_type": "code",
   "execution_count": 364,
   "metadata": {
    "ExecuteTime": {
     "end_time": "2017-11-13T14:20:43.078415Z",
     "start_time": "2017-11-13T14:20:43.075302Z"
    },
    "collapsed": true,
    "hidden": true
   },
   "outputs": [],
   "source": [
    "import lp_builder\n",
    "from lp_builder import LP_builder"
   ]
  },
  {
   "cell_type": "code",
   "execution_count": 376,
   "metadata": {
    "ExecuteTime": {
     "end_time": "2017-11-13T15:42:24.057806Z",
     "start_time": "2017-11-13T15:42:24.052822Z"
    },
    "collapsed": false,
    "hidden": true
   },
   "outputs": [],
   "source": [
    "reload(lp_builder)\n",
    "from lp_builder import LP_builder"
   ]
  },
  {
   "cell_type": "markdown",
   "metadata": {
    "heading_collapsed": true,
    "hidden": true
   },
   "source": [
    "### Build relaxed $LP_s$ for each value $s$ of total price"
   ]
  },
  {
   "cell_type": "code",
   "execution_count": null,
   "metadata": {
    "collapsed": true,
    "hidden": true
   },
   "outputs": [],
   "source": [
    "gname = 'tops_female_autumn-winter'\n",
    "\n",
    "lpb = LP_builder(in_loader, group=gname, feats=feats, sale_predictor=predictor)\n",
    "prob = lpb.populateLP(s, dd, test_configs, test_prices, inv_amount, binary=False)"
   ]
  },
  {
   "cell_type": "markdown",
   "metadata": {
    "hidden": true
   },
   "source": [
    "### Solve relaxed $LP_s$"
   ]
  },
  {
   "cell_type": "code",
   "execution_count": 362,
   "metadata": {
    "ExecuteTime": {
     "end_time": "2017-11-13T11:39:09.219545Z",
     "start_time": "2017-11-13T11:39:08.444487Z"
    },
    "collapsed": true,
    "hidden": true
   },
   "outputs": [
    {
     "name": "stdout",
     "output_type": "stream",
     "text": [
      "Populating $LP_94.23$...\n",
      "+ set variable types as ['C', 'C', 'C', 'C', 'C', 'C', 'C', 'C', 'C']\n",
      "+ added bounds\n",
      "+ added 3 one-price constraints for 3 configs\n",
      "+ added sum constraint\n",
      "# configs in group on date 2017-03-12: 891\n",
      "# slow configs to be optimized: 3\n",
      "Mean price of whole group: 55.25\n",
      "Predicting sales for the slow configs given possible prices...\n",
      "config: 9EB52AA5DA4D3DGS\n",
      "config: D4094AA895E68CGS\n",
      "config: 1F22DAA71C149FGS\n",
      "+ added objective function\n",
      "Type of problem: LP\n",
      "\n",
      "Started solver\n",
      "Tried aggregator 1 time.\n",
      "No LP presolve or aggregator reductions.\n",
      "Presolve time = 0.00 sec. (0.00 ticks)\n",
      "Initializing dual steep norms . . .\n",
      "\n",
      "Iteration log . . .\n",
      "Iteration:     1   Dual objective     =           125.122692\n"
     ]
    }
   ],
   "source": [
    "print()\n",
    "print('Started solver')\n",
    "prob.solve()"
   ]
  },
  {
   "cell_type": "code",
   "execution_count": 411,
   "metadata": {
    "ExecuteTime": {
     "end_time": "2017-11-13T16:57:33.715128Z",
     "start_time": "2017-11-13T16:57:33.709887Z"
    },
    "collapsed": false,
    "hidden": true
   },
   "outputs": [
    {
     "data": {
      "text/plain": [
       "1"
      ]
     },
     "execution_count": 411,
     "metadata": {},
     "output_type": "execute_result"
    }
   ],
   "source": [
    "prob.solution.get_status()"
   ]
  },
  {
   "cell_type": "code",
   "execution_count": 412,
   "metadata": {
    "ExecuteTime": {
     "end_time": "2017-11-13T16:57:57.034109Z",
     "start_time": "2017-11-13T16:57:57.027845Z"
    },
    "collapsed": false,
    "hidden": true
   },
   "outputs": [
    {
     "data": {
      "text/plain": [
       "[1.0, 0.0, 0.0, 0.0, 0.0, 1.0, 0.49999999999999944, 0.0, 0.5000000000000006]"
      ]
     },
     "execution_count": 412,
     "metadata": {},
     "output_type": "execute_result"
    }
   ],
   "source": [
    "prob.solution.get_values()"
   ]
  },
  {
   "cell_type": "code",
   "execution_count": null,
   "metadata": {
    "collapsed": true,
    "hidden": true
   },
   "outputs": [],
   "source": [
    "prob.solution.get_objective_value()"
   ]
  },
  {
   "cell_type": "code",
   "execution_count": 413,
   "metadata": {
    "ExecuteTime": {
     "end_time": "2017-11-13T17:07:31.410501Z",
     "start_time": "2017-11-13T17:07:31.406194Z"
    },
    "collapsed": false,
    "hidden": true
   },
   "outputs": [
    {
     "data": {
      "text/plain": [
       "['x_11', 'x_12', 'x_13', 'x_21', 'x_22', 'x_23', 'x_31', 'x_32', 'x_33']"
      ]
     },
     "execution_count": 413,
     "metadata": {},
     "output_type": "execute_result"
    }
   ],
   "source": [
    "prob.variables.get_names()"
   ]
  },
  {
   "cell_type": "markdown",
   "metadata": {
    "hidden": true
   },
   "source": [
    "### Calculate lower bound for $IP_s$"
   ]
  },
  {
   "cell_type": "code",
   "execution_count": null,
   "metadata": {
    "collapsed": true,
    "hidden": true
   },
   "outputs": [],
   "source": []
  },
  {
   "cell_type": "markdown",
   "metadata": {
    "heading_collapsed": true,
    "hidden": true
   },
   "source": [
    "## Find global optimum"
   ]
  },
  {
   "cell_type": "code",
   "execution_count": null,
   "metadata": {
    "collapsed": true,
    "hidden": true
   },
   "outputs": [],
   "source": []
  },
  {
   "cell_type": "markdown",
   "metadata": {},
   "source": [
    "# Tests"
   ]
  },
  {
   "cell_type": "code",
   "execution_count": 22,
   "metadata": {
    "ExecuteTime": {
     "end_time": "2017-11-09T16:40:09.038548Z",
     "start_time": "2017-11-09T16:40:09.030476Z"
    },
    "code_folding": [
     0
    ],
    "collapsed": false
   },
   "outputs": [],
   "source": [
    "reload(trigger)\n",
    "from trigger import *\n",
    "\n",
    "reload(date_util)\n",
    "from date_util import *\n",
    "\n",
    "reload(split)\n",
    "from split import DataSplitter"
   ]
  },
  {
   "cell_type": "code",
   "execution_count": null,
   "metadata": {
    "collapsed": true
   },
   "outputs": [],
   "source": [
    "my_trigger = Trigger(in_loader)\n",
    "data_splitter = DataSplitter(split_ratio=0.8)"
   ]
  },
  {
   "cell_type": "markdown",
   "metadata": {},
   "source": [
    "## Find configs to be optimized\n",
    "Via `trigger`"
   ]
  },
  {
   "cell_type": "code",
   "execution_count": 421,
   "metadata": {
    "ExecuteTime": {
     "end_time": "2017-11-15T15:41:09.232459Z",
     "start_time": "2017-11-15T15:41:09.217677Z"
    },
    "collapsed": true
   },
   "outputs": [],
   "source": [
    "gname = 'dresses_female_autumn-winter'\n",
    "fname = feat_dir + gname + '.csv'"
   ]
  },
  {
   "cell_type": "code",
   "execution_count": 422,
   "metadata": {
    "ExecuteTime": {
     "end_time": "2017-11-15T15:41:10.444066Z",
     "start_time": "2017-11-15T15:41:10.053147Z"
    },
    "collapsed": true
   },
   "outputs": [],
   "source": [
    "feat_mat = pd.read_csv(fname)\n",
    "all_configs = feat_mat.sku_config.unique()"
   ]
  },
  {
   "cell_type": "code",
   "execution_count": 25,
   "metadata": {
    "ExecuteTime": {
     "end_time": "2017-11-09T17:06:01.262222Z",
     "start_time": "2017-11-09T17:06:00.930796Z"
    },
    "code_folding": [],
    "collapsed": false
   },
   "outputs": [
    {
     "name": "stdout",
     "output_type": "stream",
     "text": [
      "Querying sale history of group dresses...\n"
     ]
    }
   ],
   "source": [
    "# load group sales history\n",
    "group_sales = my_trigger.query_group_sales(gid)\n",
    "\n",
    "fd, ld = date_range(group_sales)\n",
    "dd = ld - timedelta(days=30)"
   ]
  },
  {
   "cell_type": "code",
   "execution_count": null,
   "metadata": {
    "ExecuteTime": {
     "end_time": "2017-11-09T12:11:09.655103Z",
     "start_time": "2017-11-09T12:11:09.632700Z"
    },
    "collapsed": true
   },
   "outputs": [],
   "source": [
    "#NOT run, this has some bug\n",
    "slow_sku_df = my_trigger.find_slow_configs(gid, group_sales, dd)\n",
    "print(slow_sku_df.head())"
   ]
  },
  {
   "cell_type": "code",
   "execution_count": 56,
   "metadata": {
    "ExecuteTime": {
     "end_time": "2017-11-10T09:21:19.465326Z",
     "start_time": "2017-11-10T09:21:19.451048Z"
    },
    "code_folding": [],
    "collapsed": false
   },
   "outputs": [
    {
     "name": "stdout",
     "output_type": "stream",
     "text": [
      "# slow configs: 254\n"
     ]
    }
   ],
   "source": [
    "# slow_configs = slow_sku_df['sku_config'].unique()\n",
    "slow_sku_df = pd.read_csv(RES_DIR + 'slow_sku.csv')\n",
    "slow_configs = sorted(slow_sku_df['sku_config'].unique())\n",
    "print('# slow configs: {}'.format(len(slow_configs)))"
   ]
  },
  {
   "cell_type": "code",
   "execution_count": 57,
   "metadata": {
    "ExecuteTime": {
     "end_time": "2017-11-10T09:21:26.508411Z",
     "start_time": "2017-11-10T09:21:26.505102Z"
    },
    "collapsed": true
   },
   "outputs": [],
   "source": [
    "configs = np.random.choice(slow_configs, size=10)"
   ]
  },
  {
   "cell_type": "markdown",
   "metadata": {},
   "source": [
    "### Pick just a few SKUs for testing"
   ]
  },
  {
   "cell_type": "code",
   "execution_count": null,
   "metadata": {
    "collapsed": true
   },
   "outputs": [],
   "source": [
    "test_configs = list(slow_df.query('black_price == 34.9')['sku_config'].head(3))\n",
    "test_prices = [33.16, 31.41, 29.66]"
   ]
  },
  {
   "cell_type": "code",
   "execution_count": 420,
   "metadata": {
    "ExecuteTime": {
     "end_time": "2017-11-13T17:49:01.842875Z",
     "start_time": "2017-11-13T17:49:01.838645Z"
    },
    "collapsed": false
   },
   "outputs": [
    {
     "data": {
      "text/plain": [
       "['9EB52AA5DA4D3DGS', 'D4094AA895E68CGS', '1F22DAA71C149FGS']"
      ]
     },
     "execution_count": 420,
     "metadata": {},
     "output_type": "execute_result"
    }
   ],
   "source": [
    "test_configs"
   ]
  },
  {
   "cell_type": "code",
   "execution_count": null,
   "metadata": {
    "collapsed": true
   },
   "outputs": [],
   "source": [
    "s = sum(test_prices)"
   ]
  },
  {
   "cell_type": "code",
   "execution_count": 116,
   "metadata": {
    "ExecuteTime": {
     "end_time": "2017-11-10T14:49:09.966388Z",
     "start_time": "2017-11-10T14:49:09.959905Z"
    },
    "collapsed": true
   },
   "outputs": [],
   "source": [
    "# choose a date for testing, need to have all test configs\n",
    "tmp = feat_mat[feat_mat.sku_config.isin(test_configs)].sort_values('date', ascending=False)\n",
    "tmp.date.value_counts()\n",
    "\n",
    "dd = pd.to_datetime('2017-03-12').date()"
   ]
  },
  {
   "cell_type": "markdown",
   "metadata": {},
   "source": [
    "## Set possible prices"
   ]
  },
  {
   "cell_type": "code",
   "execution_count": 67,
   "metadata": {
    "ExecuteTime": {
     "end_time": "2017-11-10T09:31:23.347402Z",
     "start_time": "2017-11-10T09:31:23.343488Z"
    },
    "code_folding": [
     1
    ],
    "collapsed": false
   },
   "outputs": [],
   "source": [
    "# moved to cls PriceAccessor\n",
    "def load_group_snapshots(gname, group_dir):\n",
    "    date_cols = ['snapshot_date', \n",
    "                 'special_from_date', 'special_to_date', \n",
    "                 'permanent_markdown_from_date']\n",
    "\n",
    "    return pd.read_csv(group_dir + gname + '.csv', parse_dates=date_cols)"
   ]
  },
  {
   "cell_type": "code",
   "execution_count": 112,
   "metadata": {
    "ExecuteTime": {
     "end_time": "2017-11-10T14:42:58.649988Z",
     "start_time": "2017-11-10T14:42:58.644882Z"
    },
    "code_folding": [
     1
    ],
    "collapsed": false,
    "scrolled": true
   },
   "outputs": [],
   "source": [
    "# moved to cls PriceAccessor \n",
    "def set_possible_prices(configs, group_df):\n",
    "    # get correct black price\n",
    "    rrp_df = query_black_price(configs, group_df)\n",
    "\n",
    "    # set possible prices\n",
    "    possible_prices = [ cal_possible_prices(cf, rrp_df, count=i+1) for i, cf in enumerate(configs)]\n",
    "\n",
    "    price_df = rrp_df.copy()\n",
    "    price_df['possible_prices'] = possible_prices\n",
    "    return price_df"
   ]
  },
  {
   "cell_type": "code",
   "execution_count": 114,
   "metadata": {
    "ExecuteTime": {
     "end_time": "2017-11-10T14:45:35.385449Z",
     "start_time": "2017-11-10T14:45:35.382141Z"
    },
    "code_folding": [
     1
    ],
    "collapsed": true
   },
   "outputs": [],
   "source": [
    "# moved to cls PriceAccessor\n",
    "def get_possible_prices(cf, df):\n",
    "    return df[df.sku_config == cf]['possible_prices'].iloc[0]"
   ]
  },
  {
   "cell_type": "code",
   "execution_count": null,
   "metadata": {
    "collapsed": true
   },
   "outputs": [],
   "source": [
    "group_df = load_group_snapshots(gname, group_dir)"
   ]
  },
  {
   "cell_type": "code",
   "execution_count": 113,
   "metadata": {
    "ExecuteTime": {
     "end_time": "2017-11-10T14:43:04.050439Z",
     "start_time": "2017-11-10T14:43:03.940126Z"
    },
    "collapsed": false,
    "scrolled": true
   },
   "outputs": [
    {
     "name": "stdout",
     "output_type": "stream",
     "text": [
      "SKU with changing black price, use the latest price\n",
      "              sku_config snapshot_date  black_price\n",
      "828183  79BF4AAFB6584DGS    2017-07-21         24.9\n",
      "134674  79BF4AAFB6584DGS    2016-12-30         39.9\n"
     ]
    }
   ],
   "source": [
    "price_df = set_possible_prices(configs, group_df)"
   ]
  },
  {
   "cell_type": "markdown",
   "metadata": {},
   "source": [
    "__Note:__ Round possible prices to 2 decimals (mtg on 10 Nov 2017)"
   ]
  },
  {
   "cell_type": "markdown",
   "metadata": {
    "heading_collapsed": true
   },
   "source": [
    "## Query inventory amounts"
   ]
  },
  {
   "cell_type": "code",
   "execution_count": 71,
   "metadata": {
    "ExecuteTime": {
     "end_time": "2017-11-10T10:19:16.875528Z",
     "start_time": "2017-11-10T10:19:16.871160Z"
    },
    "code_folding": [
     0
    ],
    "collapsed": false,
    "hidden": true
   },
   "outputs": [],
   "source": [
    "def query_inventory(configs, dd, group_stock):\n",
    "    stock_df = group_stock[group_stock['date'] == dd]\n",
    "    cols = ['sku_config', 'date', 'stock']\n",
    "    return stock_df[stock_df.sku_config.isin(configs)][cols].drop_duplicates()"
   ]
  },
  {
   "cell_type": "code",
   "execution_count": 62,
   "metadata": {
    "ExecuteTime": {
     "end_time": "2017-11-10T09:23:13.395568Z",
     "start_time": "2017-11-10T09:22:59.883294Z"
    },
    "collapsed": true,
    "hidden": true
   },
   "outputs": [],
   "source": [
    "group_stock = my_trigger.query_stock_data(gid)"
   ]
  },
  {
   "cell_type": "code",
   "execution_count": 72,
   "metadata": {
    "ExecuteTime": {
     "end_time": "2017-11-10T10:19:54.802040Z",
     "start_time": "2017-11-10T10:19:54.723138Z"
    },
    "collapsed": true,
    "hidden": true
   },
   "outputs": [],
   "source": [
    "stock_df = query_inventory(configs, dd, group_stock)"
   ]
  },
  {
   "cell_type": "markdown",
   "metadata": {
    "heading_collapsed": true
   },
   "source": [
    "## Merge all data to a single DF"
   ]
  },
  {
   "cell_type": "code",
   "execution_count": 115,
   "metadata": {
    "ExecuteTime": {
     "end_time": "2017-11-10T14:47:59.866211Z",
     "start_time": "2017-11-10T14:47:59.843387Z"
    },
    "collapsed": true,
    "hidden": true
   },
   "outputs": [
    {
     "data": {
      "text/html": [
       "<div>\n",
       "<table border=\"1\" class=\"dataframe\">\n",
       "  <thead>\n",
       "    <tr style=\"text-align: right;\">\n",
       "      <th></th>\n",
       "      <th>black_price</th>\n",
       "      <th>sku_config</th>\n",
       "      <th>possible_prices</th>\n",
       "      <th>date</th>\n",
       "      <th>stock</th>\n",
       "    </tr>\n",
       "  </thead>\n",
       "  <tbody>\n",
       "    <tr>\n",
       "      <th>6</th>\n",
       "      <td>24.9</td>\n",
       "      <td>79BF4AAFB6584DGS</td>\n",
       "      <td>[23.65, 22.41, 21.16]</td>\n",
       "      <td>2017-05-28</td>\n",
       "      <td>72</td>\n",
       "    </tr>\n",
       "    <tr>\n",
       "      <th>1</th>\n",
       "      <td>34.9</td>\n",
       "      <td>9EB52AA5DA4D3DGS</td>\n",
       "      <td>[33.16, 31.41, 29.66]</td>\n",
       "      <td>2017-05-28</td>\n",
       "      <td>32</td>\n",
       "    </tr>\n",
       "    <tr>\n",
       "      <th>3</th>\n",
       "      <td>34.9</td>\n",
       "      <td>D4094AA895E68CGS</td>\n",
       "      <td>[33.16, 31.41, 29.66]</td>\n",
       "      <td>2017-05-28</td>\n",
       "      <td>148</td>\n",
       "    </tr>\n",
       "    <tr>\n",
       "      <th>5</th>\n",
       "      <td>34.9</td>\n",
       "      <td>1F22DAA71C149FGS</td>\n",
       "      <td>[33.16, 31.41, 29.66]</td>\n",
       "      <td>2017-05-28</td>\n",
       "      <td>70</td>\n",
       "    </tr>\n",
       "    <tr>\n",
       "      <th>7</th>\n",
       "      <td>34.9</td>\n",
       "      <td>FB590AA19EAE04GS</td>\n",
       "      <td>[33.16, 31.41, 29.66]</td>\n",
       "      <td>2017-05-28</td>\n",
       "      <td>125</td>\n",
       "    </tr>\n",
       "    <tr>\n",
       "      <th>9</th>\n",
       "      <td>34.9</td>\n",
       "      <td>86D69AA83B2A30GS</td>\n",
       "      <td>[33.16, 31.41, 29.66]</td>\n",
       "      <td>2017-05-28</td>\n",
       "      <td>59</td>\n",
       "    </tr>\n",
       "    <tr>\n",
       "      <th>2</th>\n",
       "      <td>39.9</td>\n",
       "      <td>1EF9EAA17AB709GS</td>\n",
       "      <td>[37.9, 35.91, 33.92]</td>\n",
       "      <td>2017-05-28</td>\n",
       "      <td>157</td>\n",
       "    </tr>\n",
       "    <tr>\n",
       "      <th>4</th>\n",
       "      <td>44.9</td>\n",
       "      <td>0AE69AACA1018FGS</td>\n",
       "      <td>[42.66, 40.41, 38.16]</td>\n",
       "      <td>2017-05-28</td>\n",
       "      <td>113</td>\n",
       "    </tr>\n",
       "    <tr>\n",
       "      <th>0</th>\n",
       "      <td>79.9</td>\n",
       "      <td>1376FAAE0DBBF1GS</td>\n",
       "      <td>[75.9, 71.91, 67.92]</td>\n",
       "      <td>2017-05-28</td>\n",
       "      <td>49</td>\n",
       "    </tr>\n",
       "    <tr>\n",
       "      <th>8</th>\n",
       "      <td>79.9</td>\n",
       "      <td>D803EAA23402BFGS</td>\n",
       "      <td>[75.9, 71.91, 67.92]</td>\n",
       "      <td>2017-05-28</td>\n",
       "      <td>49</td>\n",
       "    </tr>\n",
       "  </tbody>\n",
       "</table>\n",
       "</div>"
      ],
      "text/plain": [
       "   black_price        sku_config        possible_prices        date  stock\n",
       "6         24.9  79BF4AAFB6584DGS  [23.65, 22.41, 21.16]  2017-05-28     72\n",
       "1         34.9  9EB52AA5DA4D3DGS  [33.16, 31.41, 29.66]  2017-05-28     32\n",
       "3         34.9  D4094AA895E68CGS  [33.16, 31.41, 29.66]  2017-05-28    148\n",
       "5         34.9  1F22DAA71C149FGS  [33.16, 31.41, 29.66]  2017-05-28     70\n",
       "7         34.9  FB590AA19EAE04GS  [33.16, 31.41, 29.66]  2017-05-28    125\n",
       "9         34.9  86D69AA83B2A30GS  [33.16, 31.41, 29.66]  2017-05-28     59\n",
       "2         39.9  1EF9EAA17AB709GS   [37.9, 35.91, 33.92]  2017-05-28    157\n",
       "4         44.9  0AE69AACA1018FGS  [42.66, 40.41, 38.16]  2017-05-28    113\n",
       "0         79.9  1376FAAE0DBBF1GS   [75.9, 71.91, 67.92]  2017-05-28     49\n",
       "8         79.9  D803EAA23402BFGS   [75.9, 71.91, 67.92]  2017-05-28     49"
      ]
     },
     "execution_count": 115,
     "metadata": {},
     "output_type": "execute_result"
    }
   ],
   "source": [
    "slow_df = pd.merge(price_df, stock_df)\n",
    "slow_df.sort_values('black_price')"
   ]
  },
  {
   "cell_type": "markdown",
   "metadata": {
    "heading_collapsed": true
   },
   "source": [
    "## Brute-force with all price settings\n",
    "Here we compare a brute-force solution (consider all price settings) with the solution provided by CPLEX."
   ]
  },
  {
   "cell_type": "code",
   "execution_count": 261,
   "metadata": {
    "ExecuteTime": {
     "end_time": "2017-11-11T21:38:36.628982Z",
     "start_time": "2017-11-11T21:38:36.623929Z"
    },
    "collapsed": true,
    "hidden": true
   },
   "outputs": [],
   "source": [
    "tmp = pd.DataFrame({'price': test_prices})"
   ]
  },
  {
   "cell_type": "code",
   "execution_count": 283,
   "metadata": {
    "ExecuteTime": {
     "end_time": "2017-11-12T14:38:39.628579Z",
     "start_time": "2017-11-12T14:38:39.607402Z"
    },
    "collapsed": false,
    "hidden": true,
    "scrolled": true
   },
   "outputs": [],
   "source": [
    "perm_idx = [[0,0,0], [1,1,1], [2,2,2],\n",
    "            [0,0,1], [0,0,2], [1,1,0], [1,1,2], [2,2,0], [2,2,1],\n",
    "            [1,0,0], [2,0,0], [0,1,1], [2,1,1], [0,2,2], [1,2,2],\n",
    "            [0,1,0], [0,2,0], [1,0,1], [1,2,1], [2,0,2], [2,1,2],\n",
    "            [0,1,2], [0,2,1], \n",
    "            [1,0,2], [1,2,0], \n",
    "            [2,0,1], [2,1,0] ]"
   ]
  },
  {
   "cell_type": "code",
   "execution_count": 284,
   "metadata": {
    "ExecuteTime": {
     "end_time": "2017-11-12T14:38:41.467847Z",
     "start_time": "2017-11-12T14:38:41.457352Z"
    },
    "collapsed": true,
    "hidden": true
   },
   "outputs": [],
   "source": [
    "price_settings = [ list(tmp.price.iloc[perm_idx[i]]) for i in range(len(perm_idx))]"
   ]
  },
  {
   "cell_type": "code",
   "execution_count": 294,
   "metadata": {
    "ExecuteTime": {
     "end_time": "2017-11-12T15:37:54.509231Z",
     "start_time": "2017-11-12T15:37:53.736372Z"
    },
    "collapsed": true,
    "hidden": true
   },
   "outputs": [
    {
     "name": "stdout",
     "output_type": "stream",
     "text": [
      "price setting 1\n",
      "price setting 2\n",
      "price setting 3\n",
      "price setting 4\n",
      "price setting 5\n",
      "price setting 6\n",
      "price setting 7\n",
      "price setting 8\n",
      "price setting 9\n",
      "price setting 10\n",
      "price setting 11\n",
      "price setting 12\n",
      "price setting 13\n",
      "price setting 14\n",
      "price setting 15\n",
      "price setting 16\n",
      "price setting 17\n",
      "price setting 18\n",
      "price setting 19\n",
      "price setting 20\n",
      "price setting 21\n",
      "price setting 22\n",
      "price setting 23\n",
      "price setting 24\n",
      "price setting 25\n",
      "price setting 26\n",
      "price setting 27\n"
     ]
    }
   ],
   "source": [
    "frames = [predict_sales(estimator, dd, ps, count=i+1) for i, ps in enumerate(price_settings)]\n",
    "res = pd.concat(frames)"
   ]
  },
  {
   "cell_type": "code",
   "execution_count": 301,
   "metadata": {
    "ExecuteTime": {
     "end_time": "2017-11-12T15:51:44.361150Z",
     "start_time": "2017-11-12T15:51:44.316654Z"
    },
    "collapsed": false,
    "hidden": true,
    "scrolled": true
   },
   "outputs": [
    {
     "data": {
      "text/html": [
       "<div>\n",
       "<table border=\"1\" class=\"dataframe\">\n",
       "  <thead>\n",
       "    <tr style=\"text-align: right;\">\n",
       "      <th></th>\n",
       "      <th>sku_config</th>\n",
       "      <th>current_price</th>\n",
       "      <th>predict_sales</th>\n",
       "      <th>price_setting</th>\n",
       "      <th>sum</th>\n",
       "      <th>revenue</th>\n",
       "    </tr>\n",
       "  </thead>\n",
       "  <tbody>\n",
       "    <tr>\n",
       "      <th>88572</th>\n",
       "      <td>9EB52AA5DA4D3DGS</td>\n",
       "      <td>29.66</td>\n",
       "      <td>1.402374</td>\n",
       "      <td>3</td>\n",
       "      <td>88.98</td>\n",
       "      <td>41.594414</td>\n",
       "    </tr>\n",
       "    <tr>\n",
       "      <th>88715</th>\n",
       "      <td>1F22DAA71C149FGS</td>\n",
       "      <td>29.66</td>\n",
       "      <td>1.402374</td>\n",
       "      <td>3</td>\n",
       "      <td>88.98</td>\n",
       "      <td>41.594414</td>\n",
       "    </tr>\n",
       "    <tr>\n",
       "      <th>96431</th>\n",
       "      <td>D4094AA895E68CGS</td>\n",
       "      <td>29.66</td>\n",
       "      <td>1.153103</td>\n",
       "      <td>3</td>\n",
       "      <td>88.98</td>\n",
       "      <td>34.201031</td>\n",
       "    </tr>\n",
       "    <tr>\n",
       "      <th>88715</th>\n",
       "      <td>1F22DAA71C149FGS</td>\n",
       "      <td>29.66</td>\n",
       "      <td>1.402374</td>\n",
       "      <td>15</td>\n",
       "      <td>90.73</td>\n",
       "      <td>41.594414</td>\n",
       "    </tr>\n",
       "    <tr>\n",
       "      <th>88572</th>\n",
       "      <td>9EB52AA5DA4D3DGS</td>\n",
       "      <td>31.41</td>\n",
       "      <td>1.282444</td>\n",
       "      <td>15</td>\n",
       "      <td>90.73</td>\n",
       "      <td>40.281574</td>\n",
       "    </tr>\n",
       "    <tr>\n",
       "      <th>88572</th>\n",
       "      <td>9EB52AA5DA4D3DGS</td>\n",
       "      <td>29.66</td>\n",
       "      <td>1.402374</td>\n",
       "      <td>9</td>\n",
       "      <td>90.73</td>\n",
       "      <td>41.594414</td>\n",
       "    </tr>\n",
       "    <tr>\n",
       "      <th>88715</th>\n",
       "      <td>1F22DAA71C149FGS</td>\n",
       "      <td>29.66</td>\n",
       "      <td>1.402374</td>\n",
       "      <td>9</td>\n",
       "      <td>90.73</td>\n",
       "      <td>41.594414</td>\n",
       "    </tr>\n",
       "    <tr>\n",
       "      <th>96431</th>\n",
       "      <td>D4094AA895E68CGS</td>\n",
       "      <td>29.66</td>\n",
       "      <td>1.153103</td>\n",
       "      <td>15</td>\n",
       "      <td>90.73</td>\n",
       "      <td>34.201031</td>\n",
       "    </tr>\n",
       "    <tr>\n",
       "      <th>96431</th>\n",
       "      <td>D4094AA895E68CGS</td>\n",
       "      <td>31.41</td>\n",
       "      <td>1.144713</td>\n",
       "      <td>9</td>\n",
       "      <td>90.73</td>\n",
       "      <td>35.955429</td>\n",
       "    </tr>\n",
       "    <tr>\n",
       "      <th>88572</th>\n",
       "      <td>9EB52AA5DA4D3DGS</td>\n",
       "      <td>29.66</td>\n",
       "      <td>1.402374</td>\n",
       "      <td>21</td>\n",
       "      <td>90.73</td>\n",
       "      <td>41.594414</td>\n",
       "    </tr>\n",
       "    <tr>\n",
       "      <th>88715</th>\n",
       "      <td>1F22DAA71C149FGS</td>\n",
       "      <td>31.41</td>\n",
       "      <td>1.282444</td>\n",
       "      <td>21</td>\n",
       "      <td>90.73</td>\n",
       "      <td>40.281574</td>\n",
       "    </tr>\n",
       "    <tr>\n",
       "      <th>96431</th>\n",
       "      <td>D4094AA895E68CGS</td>\n",
       "      <td>29.66</td>\n",
       "      <td>1.153103</td>\n",
       "      <td>21</td>\n",
       "      <td>90.73</td>\n",
       "      <td>34.201031</td>\n",
       "    </tr>\n",
       "    <tr>\n",
       "      <th>88715</th>\n",
       "      <td>1F22DAA71C149FGS</td>\n",
       "      <td>29.66</td>\n",
       "      <td>1.402374</td>\n",
       "      <td>14</td>\n",
       "      <td>92.48</td>\n",
       "      <td>41.594414</td>\n",
       "    </tr>\n",
       "    <tr>\n",
       "      <th>96431</th>\n",
       "      <td>D4094AA895E68CGS</td>\n",
       "      <td>33.16</td>\n",
       "      <td>1.144713</td>\n",
       "      <td>8</td>\n",
       "      <td>92.48</td>\n",
       "      <td>37.958677</td>\n",
       "    </tr>\n",
       "    <tr>\n",
       "      <th>88715</th>\n",
       "      <td>1F22DAA71C149FGS</td>\n",
       "      <td>33.16</td>\n",
       "      <td>1.282444</td>\n",
       "      <td>20</td>\n",
       "      <td>92.48</td>\n",
       "      <td>42.525851</td>\n",
       "    </tr>\n",
       "    <tr>\n",
       "      <th>88572</th>\n",
       "      <td>9EB52AA5DA4D3DGS</td>\n",
       "      <td>29.66</td>\n",
       "      <td>1.402374</td>\n",
       "      <td>20</td>\n",
       "      <td>92.48</td>\n",
       "      <td>41.594414</td>\n",
       "    </tr>\n",
       "    <tr>\n",
       "      <th>88572</th>\n",
       "      <td>9EB52AA5DA4D3DGS</td>\n",
       "      <td>33.16</td>\n",
       "      <td>1.282444</td>\n",
       "      <td>14</td>\n",
       "      <td>92.48</td>\n",
       "      <td>42.525851</td>\n",
       "    </tr>\n",
       "    <tr>\n",
       "      <th>96431</th>\n",
       "      <td>D4094AA895E68CGS</td>\n",
       "      <td>29.66</td>\n",
       "      <td>1.153103</td>\n",
       "      <td>14</td>\n",
       "      <td>92.48</td>\n",
       "      <td>34.201031</td>\n",
       "    </tr>\n",
       "    <tr>\n",
       "      <th>96431</th>\n",
       "      <td>D4094AA895E68CGS</td>\n",
       "      <td>29.66</td>\n",
       "      <td>1.153103</td>\n",
       "      <td>20</td>\n",
       "      <td>92.48</td>\n",
       "      <td>34.201031</td>\n",
       "    </tr>\n",
       "    <tr>\n",
       "      <th>88572</th>\n",
       "      <td>9EB52AA5DA4D3DGS</td>\n",
       "      <td>29.66</td>\n",
       "      <td>1.402374</td>\n",
       "      <td>8</td>\n",
       "      <td>92.48</td>\n",
       "      <td>41.594414</td>\n",
       "    </tr>\n",
       "    <tr>\n",
       "      <th>88715</th>\n",
       "      <td>1F22DAA71C149FGS</td>\n",
       "      <td>29.66</td>\n",
       "      <td>1.402374</td>\n",
       "      <td>8</td>\n",
       "      <td>92.48</td>\n",
       "      <td>41.594414</td>\n",
       "    </tr>\n",
       "    <tr>\n",
       "      <th>88715</th>\n",
       "      <td>1F22DAA71C149FGS</td>\n",
       "      <td>31.41</td>\n",
       "      <td>1.282444</td>\n",
       "      <td>7</td>\n",
       "      <td>92.48</td>\n",
       "      <td>40.281574</td>\n",
       "    </tr>\n",
       "    <tr>\n",
       "      <th>88715</th>\n",
       "      <td>1F22DAA71C149FGS</td>\n",
       "      <td>29.66</td>\n",
       "      <td>1.402374</td>\n",
       "      <td>19</td>\n",
       "      <td>92.48</td>\n",
       "      <td>41.594414</td>\n",
       "    </tr>\n",
       "    <tr>\n",
       "      <th>96431</th>\n",
       "      <td>D4094AA895E68CGS</td>\n",
       "      <td>31.41</td>\n",
       "      <td>1.144713</td>\n",
       "      <td>13</td>\n",
       "      <td>92.48</td>\n",
       "      <td>35.955429</td>\n",
       "    </tr>\n",
       "    <tr>\n",
       "      <th>88715</th>\n",
       "      <td>1F22DAA71C149FGS</td>\n",
       "      <td>31.41</td>\n",
       "      <td>1.282444</td>\n",
       "      <td>13</td>\n",
       "      <td>92.48</td>\n",
       "      <td>40.281574</td>\n",
       "    </tr>\n",
       "    <tr>\n",
       "      <th>88572</th>\n",
       "      <td>9EB52AA5DA4D3DGS</td>\n",
       "      <td>29.66</td>\n",
       "      <td>1.402374</td>\n",
       "      <td>13</td>\n",
       "      <td>92.48</td>\n",
       "      <td>41.594414</td>\n",
       "    </tr>\n",
       "    <tr>\n",
       "      <th>96431</th>\n",
       "      <td>D4094AA895E68CGS</td>\n",
       "      <td>31.41</td>\n",
       "      <td>1.144713</td>\n",
       "      <td>19</td>\n",
       "      <td>92.48</td>\n",
       "      <td>35.955429</td>\n",
       "    </tr>\n",
       "    <tr>\n",
       "      <th>96431</th>\n",
       "      <td>D4094AA895E68CGS</td>\n",
       "      <td>29.66</td>\n",
       "      <td>1.153103</td>\n",
       "      <td>7</td>\n",
       "      <td>92.48</td>\n",
       "      <td>34.201031</td>\n",
       "    </tr>\n",
       "    <tr>\n",
       "      <th>88572</th>\n",
       "      <td>9EB52AA5DA4D3DGS</td>\n",
       "      <td>31.41</td>\n",
       "      <td>1.282444</td>\n",
       "      <td>19</td>\n",
       "      <td>92.48</td>\n",
       "      <td>40.281574</td>\n",
       "    </tr>\n",
       "    <tr>\n",
       "      <th>88572</th>\n",
       "      <td>9EB52AA5DA4D3DGS</td>\n",
       "      <td>31.41</td>\n",
       "      <td>1.282444</td>\n",
       "      <td>7</td>\n",
       "      <td>92.48</td>\n",
       "      <td>40.281574</td>\n",
       "    </tr>\n",
       "    <tr>\n",
       "      <th>...</th>\n",
       "      <td>...</td>\n",
       "      <td>...</td>\n",
       "      <td>...</td>\n",
       "      <td>...</td>\n",
       "      <td>...</td>\n",
       "      <td>...</td>\n",
       "    </tr>\n",
       "    <tr>\n",
       "      <th>96431</th>\n",
       "      <td>D4094AA895E68CGS</td>\n",
       "      <td>33.16</td>\n",
       "      <td>1.144713</td>\n",
       "      <td>11</td>\n",
       "      <td>95.98</td>\n",
       "      <td>37.958677</td>\n",
       "    </tr>\n",
       "    <tr>\n",
       "      <th>88715</th>\n",
       "      <td>1F22DAA71C149FGS</td>\n",
       "      <td>31.41</td>\n",
       "      <td>1.282444</td>\n",
       "      <td>6</td>\n",
       "      <td>95.98</td>\n",
       "      <td>40.281574</td>\n",
       "    </tr>\n",
       "    <tr>\n",
       "      <th>96431</th>\n",
       "      <td>D4094AA895E68CGS</td>\n",
       "      <td>33.16</td>\n",
       "      <td>1.144713</td>\n",
       "      <td>6</td>\n",
       "      <td>95.98</td>\n",
       "      <td>37.958677</td>\n",
       "    </tr>\n",
       "    <tr>\n",
       "      <th>88715</th>\n",
       "      <td>1F22DAA71C149FGS</td>\n",
       "      <td>33.16</td>\n",
       "      <td>1.282444</td>\n",
       "      <td>5</td>\n",
       "      <td>95.98</td>\n",
       "      <td>42.525851</td>\n",
       "    </tr>\n",
       "    <tr>\n",
       "      <th>88572</th>\n",
       "      <td>9EB52AA5DA4D3DGS</td>\n",
       "      <td>29.66</td>\n",
       "      <td>1.402374</td>\n",
       "      <td>11</td>\n",
       "      <td>95.98</td>\n",
       "      <td>41.594414</td>\n",
       "    </tr>\n",
       "    <tr>\n",
       "      <th>88715</th>\n",
       "      <td>1F22DAA71C149FGS</td>\n",
       "      <td>33.16</td>\n",
       "      <td>1.282444</td>\n",
       "      <td>11</td>\n",
       "      <td>95.98</td>\n",
       "      <td>42.525851</td>\n",
       "    </tr>\n",
       "    <tr>\n",
       "      <th>88572</th>\n",
       "      <td>9EB52AA5DA4D3DGS</td>\n",
       "      <td>33.16</td>\n",
       "      <td>1.282444</td>\n",
       "      <td>5</td>\n",
       "      <td>95.98</td>\n",
       "      <td>42.525851</td>\n",
       "    </tr>\n",
       "    <tr>\n",
       "      <th>88715</th>\n",
       "      <td>1F22DAA71C149FGS</td>\n",
       "      <td>31.41</td>\n",
       "      <td>1.282444</td>\n",
       "      <td>12</td>\n",
       "      <td>95.98</td>\n",
       "      <td>40.281574</td>\n",
       "    </tr>\n",
       "    <tr>\n",
       "      <th>88572</th>\n",
       "      <td>9EB52AA5DA4D3DGS</td>\n",
       "      <td>31.41</td>\n",
       "      <td>1.282444</td>\n",
       "      <td>6</td>\n",
       "      <td>95.98</td>\n",
       "      <td>40.281574</td>\n",
       "    </tr>\n",
       "    <tr>\n",
       "      <th>96431</th>\n",
       "      <td>D4094AA895E68CGS</td>\n",
       "      <td>31.41</td>\n",
       "      <td>1.144713</td>\n",
       "      <td>12</td>\n",
       "      <td>95.98</td>\n",
       "      <td>35.955429</td>\n",
       "    </tr>\n",
       "    <tr>\n",
       "      <th>96431</th>\n",
       "      <td>D4094AA895E68CGS</td>\n",
       "      <td>31.41</td>\n",
       "      <td>1.144713</td>\n",
       "      <td>18</td>\n",
       "      <td>95.98</td>\n",
       "      <td>35.955429</td>\n",
       "    </tr>\n",
       "    <tr>\n",
       "      <th>88715</th>\n",
       "      <td>1F22DAA71C149FGS</td>\n",
       "      <td>33.16</td>\n",
       "      <td>1.282444</td>\n",
       "      <td>18</td>\n",
       "      <td>95.98</td>\n",
       "      <td>42.525851</td>\n",
       "    </tr>\n",
       "    <tr>\n",
       "      <th>88572</th>\n",
       "      <td>9EB52AA5DA4D3DGS</td>\n",
       "      <td>31.41</td>\n",
       "      <td>1.282444</td>\n",
       "      <td>18</td>\n",
       "      <td>95.98</td>\n",
       "      <td>40.281574</td>\n",
       "    </tr>\n",
       "    <tr>\n",
       "      <th>96431</th>\n",
       "      <td>D4094AA895E68CGS</td>\n",
       "      <td>33.16</td>\n",
       "      <td>1.144713</td>\n",
       "      <td>17</td>\n",
       "      <td>95.98</td>\n",
       "      <td>37.958677</td>\n",
       "    </tr>\n",
       "    <tr>\n",
       "      <th>88715</th>\n",
       "      <td>1F22DAA71C149FGS</td>\n",
       "      <td>29.66</td>\n",
       "      <td>1.402374</td>\n",
       "      <td>17</td>\n",
       "      <td>95.98</td>\n",
       "      <td>41.594414</td>\n",
       "    </tr>\n",
       "    <tr>\n",
       "      <th>88572</th>\n",
       "      <td>9EB52AA5DA4D3DGS</td>\n",
       "      <td>33.16</td>\n",
       "      <td>1.282444</td>\n",
       "      <td>17</td>\n",
       "      <td>95.98</td>\n",
       "      <td>42.525851</td>\n",
       "    </tr>\n",
       "    <tr>\n",
       "      <th>88572</th>\n",
       "      <td>9EB52AA5DA4D3DGS</td>\n",
       "      <td>33.16</td>\n",
       "      <td>1.282444</td>\n",
       "      <td>12</td>\n",
       "      <td>95.98</td>\n",
       "      <td>42.525851</td>\n",
       "    </tr>\n",
       "    <tr>\n",
       "      <th>96431</th>\n",
       "      <td>D4094AA895E68CGS</td>\n",
       "      <td>29.66</td>\n",
       "      <td>1.153103</td>\n",
       "      <td>5</td>\n",
       "      <td>95.98</td>\n",
       "      <td>34.201031</td>\n",
       "    </tr>\n",
       "    <tr>\n",
       "      <th>96431</th>\n",
       "      <td>D4094AA895E68CGS</td>\n",
       "      <td>33.16</td>\n",
       "      <td>1.144713</td>\n",
       "      <td>16</td>\n",
       "      <td>97.73</td>\n",
       "      <td>37.958677</td>\n",
       "    </tr>\n",
       "    <tr>\n",
       "      <th>88572</th>\n",
       "      <td>9EB52AA5DA4D3DGS</td>\n",
       "      <td>33.16</td>\n",
       "      <td>1.282444</td>\n",
       "      <td>4</td>\n",
       "      <td>97.73</td>\n",
       "      <td>42.525851</td>\n",
       "    </tr>\n",
       "    <tr>\n",
       "      <th>88715</th>\n",
       "      <td>1F22DAA71C149FGS</td>\n",
       "      <td>33.16</td>\n",
       "      <td>1.282444</td>\n",
       "      <td>4</td>\n",
       "      <td>97.73</td>\n",
       "      <td>42.525851</td>\n",
       "    </tr>\n",
       "    <tr>\n",
       "      <th>88715</th>\n",
       "      <td>1F22DAA71C149FGS</td>\n",
       "      <td>33.16</td>\n",
       "      <td>1.282444</td>\n",
       "      <td>10</td>\n",
       "      <td>97.73</td>\n",
       "      <td>42.525851</td>\n",
       "    </tr>\n",
       "    <tr>\n",
       "      <th>88572</th>\n",
       "      <td>9EB52AA5DA4D3DGS</td>\n",
       "      <td>31.41</td>\n",
       "      <td>1.282444</td>\n",
       "      <td>10</td>\n",
       "      <td>97.73</td>\n",
       "      <td>40.281574</td>\n",
       "    </tr>\n",
       "    <tr>\n",
       "      <th>88715</th>\n",
       "      <td>1F22DAA71C149FGS</td>\n",
       "      <td>31.41</td>\n",
       "      <td>1.282444</td>\n",
       "      <td>16</td>\n",
       "      <td>97.73</td>\n",
       "      <td>40.281574</td>\n",
       "    </tr>\n",
       "    <tr>\n",
       "      <th>96431</th>\n",
       "      <td>D4094AA895E68CGS</td>\n",
       "      <td>33.16</td>\n",
       "      <td>1.144713</td>\n",
       "      <td>10</td>\n",
       "      <td>97.73</td>\n",
       "      <td>37.958677</td>\n",
       "    </tr>\n",
       "    <tr>\n",
       "      <th>88572</th>\n",
       "      <td>9EB52AA5DA4D3DGS</td>\n",
       "      <td>33.16</td>\n",
       "      <td>1.282444</td>\n",
       "      <td>16</td>\n",
       "      <td>97.73</td>\n",
       "      <td>42.525851</td>\n",
       "    </tr>\n",
       "    <tr>\n",
       "      <th>96431</th>\n",
       "      <td>D4094AA895E68CGS</td>\n",
       "      <td>31.41</td>\n",
       "      <td>1.144713</td>\n",
       "      <td>4</td>\n",
       "      <td>97.73</td>\n",
       "      <td>35.955429</td>\n",
       "    </tr>\n",
       "    <tr>\n",
       "      <th>96431</th>\n",
       "      <td>D4094AA895E68CGS</td>\n",
       "      <td>33.16</td>\n",
       "      <td>1.144713</td>\n",
       "      <td>1</td>\n",
       "      <td>99.48</td>\n",
       "      <td>37.958677</td>\n",
       "    </tr>\n",
       "    <tr>\n",
       "      <th>88715</th>\n",
       "      <td>1F22DAA71C149FGS</td>\n",
       "      <td>33.16</td>\n",
       "      <td>1.282444</td>\n",
       "      <td>1</td>\n",
       "      <td>99.48</td>\n",
       "      <td>42.525851</td>\n",
       "    </tr>\n",
       "    <tr>\n",
       "      <th>88572</th>\n",
       "      <td>9EB52AA5DA4D3DGS</td>\n",
       "      <td>33.16</td>\n",
       "      <td>1.282444</td>\n",
       "      <td>1</td>\n",
       "      <td>99.48</td>\n",
       "      <td>42.525851</td>\n",
       "    </tr>\n",
       "  </tbody>\n",
       "</table>\n",
       "<p>81 rows × 6 columns</p>\n",
       "</div>"
      ],
      "text/plain": [
       "             sku_config  current_price  predict_sales  price_setting    sum  \\\n",
       "88572  9EB52AA5DA4D3DGS          29.66       1.402374              3  88.98   \n",
       "88715  1F22DAA71C149FGS          29.66       1.402374              3  88.98   \n",
       "96431  D4094AA895E68CGS          29.66       1.153103              3  88.98   \n",
       "88715  1F22DAA71C149FGS          29.66       1.402374             15  90.73   \n",
       "88572  9EB52AA5DA4D3DGS          31.41       1.282444             15  90.73   \n",
       "88572  9EB52AA5DA4D3DGS          29.66       1.402374              9  90.73   \n",
       "88715  1F22DAA71C149FGS          29.66       1.402374              9  90.73   \n",
       "96431  D4094AA895E68CGS          29.66       1.153103             15  90.73   \n",
       "96431  D4094AA895E68CGS          31.41       1.144713              9  90.73   \n",
       "88572  9EB52AA5DA4D3DGS          29.66       1.402374             21  90.73   \n",
       "88715  1F22DAA71C149FGS          31.41       1.282444             21  90.73   \n",
       "96431  D4094AA895E68CGS          29.66       1.153103             21  90.73   \n",
       "88715  1F22DAA71C149FGS          29.66       1.402374             14  92.48   \n",
       "96431  D4094AA895E68CGS          33.16       1.144713              8  92.48   \n",
       "88715  1F22DAA71C149FGS          33.16       1.282444             20  92.48   \n",
       "88572  9EB52AA5DA4D3DGS          29.66       1.402374             20  92.48   \n",
       "88572  9EB52AA5DA4D3DGS          33.16       1.282444             14  92.48   \n",
       "96431  D4094AA895E68CGS          29.66       1.153103             14  92.48   \n",
       "96431  D4094AA895E68CGS          29.66       1.153103             20  92.48   \n",
       "88572  9EB52AA5DA4D3DGS          29.66       1.402374              8  92.48   \n",
       "88715  1F22DAA71C149FGS          29.66       1.402374              8  92.48   \n",
       "88715  1F22DAA71C149FGS          31.41       1.282444              7  92.48   \n",
       "88715  1F22DAA71C149FGS          29.66       1.402374             19  92.48   \n",
       "96431  D4094AA895E68CGS          31.41       1.144713             13  92.48   \n",
       "88715  1F22DAA71C149FGS          31.41       1.282444             13  92.48   \n",
       "88572  9EB52AA5DA4D3DGS          29.66       1.402374             13  92.48   \n",
       "96431  D4094AA895E68CGS          31.41       1.144713             19  92.48   \n",
       "96431  D4094AA895E68CGS          29.66       1.153103              7  92.48   \n",
       "88572  9EB52AA5DA4D3DGS          31.41       1.282444             19  92.48   \n",
       "88572  9EB52AA5DA4D3DGS          31.41       1.282444              7  92.48   \n",
       "...                 ...            ...            ...            ...    ...   \n",
       "96431  D4094AA895E68CGS          33.16       1.144713             11  95.98   \n",
       "88715  1F22DAA71C149FGS          31.41       1.282444              6  95.98   \n",
       "96431  D4094AA895E68CGS          33.16       1.144713              6  95.98   \n",
       "88715  1F22DAA71C149FGS          33.16       1.282444              5  95.98   \n",
       "88572  9EB52AA5DA4D3DGS          29.66       1.402374             11  95.98   \n",
       "88715  1F22DAA71C149FGS          33.16       1.282444             11  95.98   \n",
       "88572  9EB52AA5DA4D3DGS          33.16       1.282444              5  95.98   \n",
       "88715  1F22DAA71C149FGS          31.41       1.282444             12  95.98   \n",
       "88572  9EB52AA5DA4D3DGS          31.41       1.282444              6  95.98   \n",
       "96431  D4094AA895E68CGS          31.41       1.144713             12  95.98   \n",
       "96431  D4094AA895E68CGS          31.41       1.144713             18  95.98   \n",
       "88715  1F22DAA71C149FGS          33.16       1.282444             18  95.98   \n",
       "88572  9EB52AA5DA4D3DGS          31.41       1.282444             18  95.98   \n",
       "96431  D4094AA895E68CGS          33.16       1.144713             17  95.98   \n",
       "88715  1F22DAA71C149FGS          29.66       1.402374             17  95.98   \n",
       "88572  9EB52AA5DA4D3DGS          33.16       1.282444             17  95.98   \n",
       "88572  9EB52AA5DA4D3DGS          33.16       1.282444             12  95.98   \n",
       "96431  D4094AA895E68CGS          29.66       1.153103              5  95.98   \n",
       "96431  D4094AA895E68CGS          33.16       1.144713             16  97.73   \n",
       "88572  9EB52AA5DA4D3DGS          33.16       1.282444              4  97.73   \n",
       "88715  1F22DAA71C149FGS          33.16       1.282444              4  97.73   \n",
       "88715  1F22DAA71C149FGS          33.16       1.282444             10  97.73   \n",
       "88572  9EB52AA5DA4D3DGS          31.41       1.282444             10  97.73   \n",
       "88715  1F22DAA71C149FGS          31.41       1.282444             16  97.73   \n",
       "96431  D4094AA895E68CGS          33.16       1.144713             10  97.73   \n",
       "88572  9EB52AA5DA4D3DGS          33.16       1.282444             16  97.73   \n",
       "96431  D4094AA895E68CGS          31.41       1.144713              4  97.73   \n",
       "96431  D4094AA895E68CGS          33.16       1.144713              1  99.48   \n",
       "88715  1F22DAA71C149FGS          33.16       1.282444              1  99.48   \n",
       "88572  9EB52AA5DA4D3DGS          33.16       1.282444              1  99.48   \n",
       "\n",
       "         revenue  \n",
       "88572  41.594414  \n",
       "88715  41.594414  \n",
       "96431  34.201031  \n",
       "88715  41.594414  \n",
       "88572  40.281574  \n",
       "88572  41.594414  \n",
       "88715  41.594414  \n",
       "96431  34.201031  \n",
       "96431  35.955429  \n",
       "88572  41.594414  \n",
       "88715  40.281574  \n",
       "96431  34.201031  \n",
       "88715  41.594414  \n",
       "96431  37.958677  \n",
       "88715  42.525851  \n",
       "88572  41.594414  \n",
       "88572  42.525851  \n",
       "96431  34.201031  \n",
       "96431  34.201031  \n",
       "88572  41.594414  \n",
       "88715  41.594414  \n",
       "88715  40.281574  \n",
       "88715  41.594414  \n",
       "96431  35.955429  \n",
       "88715  40.281574  \n",
       "88572  41.594414  \n",
       "96431  35.955429  \n",
       "96431  34.201031  \n",
       "88572  40.281574  \n",
       "88572  40.281574  \n",
       "...          ...  \n",
       "96431  37.958677  \n",
       "88715  40.281574  \n",
       "96431  37.958677  \n",
       "88715  42.525851  \n",
       "88572  41.594414  \n",
       "88715  42.525851  \n",
       "88572  42.525851  \n",
       "88715  40.281574  \n",
       "88572  40.281574  \n",
       "96431  35.955429  \n",
       "96431  35.955429  \n",
       "88715  42.525851  \n",
       "88572  40.281574  \n",
       "96431  37.958677  \n",
       "88715  41.594414  \n",
       "88572  42.525851  \n",
       "88572  42.525851  \n",
       "96431  34.201031  \n",
       "96431  37.958677  \n",
       "88572  42.525851  \n",
       "88715  42.525851  \n",
       "88715  42.525851  \n",
       "88572  40.281574  \n",
       "88715  40.281574  \n",
       "96431  37.958677  \n",
       "88572  42.525851  \n",
       "96431  35.955429  \n",
       "96431  37.958677  \n",
       "88715  42.525851  \n",
       "88572  42.525851  \n",
       "\n",
       "[81 rows x 6 columns]"
      ]
     },
     "execution_count": 301,
     "metadata": {},
     "output_type": "execute_result"
    }
   ],
   "source": [
    "res.sort_values(['sum'])"
   ]
  },
  {
   "cell_type": "code",
   "execution_count": 300,
   "metadata": {
    "ExecuteTime": {
     "end_time": "2017-11-12T15:49:38.032689Z",
     "start_time": "2017-11-12T15:49:38.023767Z"
    },
    "collapsed": false,
    "hidden": true
   },
   "outputs": [
    {
     "data": {
      "text/plain": [
       "95.98    18\n",
       "94.23    18\n",
       "92.48     9\n",
       "92.48     9\n",
       "90.73     9\n",
       "97.73     9\n",
       "94.23     3\n",
       "99.48     3\n",
       "88.98     3\n",
       "Name: sum, dtype: int64"
      ]
     },
     "execution_count": 300,
     "metadata": {},
     "output_type": "execute_result"
    }
   ],
   "source": [
    "res['sum'].value_counts()"
   ]
  },
  {
   "cell_type": "code",
   "execution_count": 299,
   "metadata": {
    "ExecuteTime": {
     "end_time": "2017-11-12T15:42:22.691427Z",
     "start_time": "2017-11-12T15:42:22.669506Z"
    },
    "collapsed": false,
    "hidden": true,
    "scrolled": true
   },
   "outputs": [
    {
     "data": {
      "text/html": [
       "<div>\n",
       "<table border=\"1\" class=\"dataframe\">\n",
       "  <thead>\n",
       "    <tr style=\"text-align: right;\">\n",
       "      <th></th>\n",
       "      <th>price_setting</th>\n",
       "      <th>sum</th>\n",
       "      <th>revenue</th>\n",
       "    </tr>\n",
       "  </thead>\n",
       "  <tbody>\n",
       "    <tr>\n",
       "      <th>0</th>\n",
       "      <td>1</td>\n",
       "      <td>99.48</td>\n",
       "      <td>123.010379</td>\n",
       "    </tr>\n",
       "    <tr>\n",
       "      <th>10</th>\n",
       "      <td>11</td>\n",
       "      <td>95.98</td>\n",
       "      <td>122.078941</td>\n",
       "    </tr>\n",
       "    <tr>\n",
       "      <th>16</th>\n",
       "      <td>17</td>\n",
       "      <td>95.98</td>\n",
       "      <td>122.078941</td>\n",
       "    </tr>\n",
       "    <tr>\n",
       "      <th>7</th>\n",
       "      <td>8</td>\n",
       "      <td>92.48</td>\n",
       "      <td>121.147504</td>\n",
       "    </tr>\n",
       "    <tr>\n",
       "      <th>3</th>\n",
       "      <td>4</td>\n",
       "      <td>97.73</td>\n",
       "      <td>121.007131</td>\n",
       "    </tr>\n",
       "    <tr>\n",
       "      <th>15</th>\n",
       "      <td>16</td>\n",
       "      <td>97.73</td>\n",
       "      <td>120.766101</td>\n",
       "    </tr>\n",
       "    <tr>\n",
       "      <th>9</th>\n",
       "      <td>10</td>\n",
       "      <td>97.73</td>\n",
       "      <td>120.766101</td>\n",
       "    </tr>\n",
       "    <tr>\n",
       "      <th>25</th>\n",
       "      <td>26</td>\n",
       "      <td>94.23</td>\n",
       "      <td>120.075694</td>\n",
       "    </tr>\n",
       "    <tr>\n",
       "      <th>22</th>\n",
       "      <td>23</td>\n",
       "      <td>94.23</td>\n",
       "      <td>120.075694</td>\n",
       "    </tr>\n",
       "    <tr>\n",
       "      <th>24</th>\n",
       "      <td>25</td>\n",
       "      <td>94.23</td>\n",
       "      <td>119.834664</td>\n",
       "    </tr>\n",
       "    <tr>\n",
       "      <th>26</th>\n",
       "      <td>27</td>\n",
       "      <td>94.23</td>\n",
       "      <td>119.834664</td>\n",
       "    </tr>\n",
       "    <tr>\n",
       "      <th>4</th>\n",
       "      <td>5</td>\n",
       "      <td>95.98</td>\n",
       "      <td>119.252733</td>\n",
       "    </tr>\n",
       "    <tr>\n",
       "      <th>8</th>\n",
       "      <td>9</td>\n",
       "      <td>90.73</td>\n",
       "      <td>119.144257</td>\n",
       "    </tr>\n",
       "    <tr>\n",
       "      <th>11</th>\n",
       "      <td>12</td>\n",
       "      <td>95.98</td>\n",
       "      <td>118.762854</td>\n",
       "    </tr>\n",
       "    <tr>\n",
       "      <th>17</th>\n",
       "      <td>18</td>\n",
       "      <td>95.98</td>\n",
       "      <td>118.762854</td>\n",
       "    </tr>\n",
       "    <tr>\n",
       "      <th>5</th>\n",
       "      <td>6</td>\n",
       "      <td>95.98</td>\n",
       "      <td>118.521824</td>\n",
       "    </tr>\n",
       "    <tr>\n",
       "      <th>19</th>\n",
       "      <td>20</td>\n",
       "      <td>92.48</td>\n",
       "      <td>118.321296</td>\n",
       "    </tr>\n",
       "    <tr>\n",
       "      <th>13</th>\n",
       "      <td>14</td>\n",
       "      <td>92.48</td>\n",
       "      <td>118.321296</td>\n",
       "    </tr>\n",
       "    <tr>\n",
       "      <th>12</th>\n",
       "      <td>13</td>\n",
       "      <td>92.48</td>\n",
       "      <td>117.831416</td>\n",
       "    </tr>\n",
       "    <tr>\n",
       "      <th>18</th>\n",
       "      <td>19</td>\n",
       "      <td>92.48</td>\n",
       "      <td>117.831416</td>\n",
       "    </tr>\n",
       "    <tr>\n",
       "      <th>2</th>\n",
       "      <td>3</td>\n",
       "      <td>88.98</td>\n",
       "      <td>117.389859</td>\n",
       "    </tr>\n",
       "    <tr>\n",
       "      <th>21</th>\n",
       "      <td>22</td>\n",
       "      <td>94.23</td>\n",
       "      <td>117.008456</td>\n",
       "    </tr>\n",
       "    <tr>\n",
       "      <th>23</th>\n",
       "      <td>24</td>\n",
       "      <td>94.23</td>\n",
       "      <td>117.008456</td>\n",
       "    </tr>\n",
       "    <tr>\n",
       "      <th>1</th>\n",
       "      <td>2</td>\n",
       "      <td>94.23</td>\n",
       "      <td>116.518576</td>\n",
       "    </tr>\n",
       "    <tr>\n",
       "      <th>14</th>\n",
       "      <td>15</td>\n",
       "      <td>90.73</td>\n",
       "      <td>116.077019</td>\n",
       "    </tr>\n",
       "    <tr>\n",
       "      <th>20</th>\n",
       "      <td>21</td>\n",
       "      <td>90.73</td>\n",
       "      <td>116.077019</td>\n",
       "    </tr>\n",
       "    <tr>\n",
       "      <th>6</th>\n",
       "      <td>7</td>\n",
       "      <td>92.48</td>\n",
       "      <td>114.764178</td>\n",
       "    </tr>\n",
       "  </tbody>\n",
       "</table>\n",
       "</div>"
      ],
      "text/plain": [
       "    price_setting    sum     revenue\n",
       "0               1  99.48  123.010379\n",
       "10             11  95.98  122.078941\n",
       "16             17  95.98  122.078941\n",
       "7               8  92.48  121.147504\n",
       "3               4  97.73  121.007131\n",
       "15             16  97.73  120.766101\n",
       "9              10  97.73  120.766101\n",
       "25             26  94.23  120.075694\n",
       "22             23  94.23  120.075694\n",
       "24             25  94.23  119.834664\n",
       "26             27  94.23  119.834664\n",
       "4               5  95.98  119.252733\n",
       "8               9  90.73  119.144257\n",
       "11             12  95.98  118.762854\n",
       "17             18  95.98  118.762854\n",
       "5               6  95.98  118.521824\n",
       "19             20  92.48  118.321296\n",
       "13             14  92.48  118.321296\n",
       "12             13  92.48  117.831416\n",
       "18             19  92.48  117.831416\n",
       "2               3  88.98  117.389859\n",
       "21             22  94.23  117.008456\n",
       "23             24  94.23  117.008456\n",
       "1               2  94.23  116.518576\n",
       "14             15  90.73  116.077019\n",
       "20             21  90.73  116.077019\n",
       "6               7  92.48  114.764178"
      ]
     },
     "execution_count": 299,
     "metadata": {},
     "output_type": "execute_result"
    }
   ],
   "source": [
    "res['revenue'] = res['current_price'] * res['predict_sales']\n",
    "res.groupby(['price_setting', 'sum']).agg({'revenue': sum}).reset_index().sort_values('revenue', ascending=False)"
   ]
  },
  {
   "cell_type": "markdown",
   "metadata": {},
   "source": [
    "# Side Notes\n",
    "\n",
    "+ There are SKUs with too large black prices. These must be errors from data input."
   ]
  },
  {
   "cell_type": "code",
   "execution_count": null,
   "metadata": {
    "collapsed": true
   },
   "outputs": [],
   "source": [
    "print(sum(rrp_df.black_price > 1000))\n",
    "large_price_skus = rrp_df[rrp_df.black_price > 1000]"
   ]
  },
  {
   "cell_type": "code",
   "execution_count": null,
   "metadata": {
    "ExecuteTime": {
     "end_time": "2017-11-09T14:44:36.074064Z",
     "start_time": "2017-11-09T14:44:36.031381Z"
    },
    "collapsed": true
   },
   "outputs": [],
   "source": [
    "cols = ['sku_config', 'product_name', 'brand_name']\n",
    "large_price_skus.merge(my_trigger.prod_df[cols]).drop_duplicates()"
   ]
  },
  {
   "cell_type": "markdown",
   "metadata": {
    "heading_collapsed": true
   },
   "source": [
    "## Toy test case"
   ]
  },
  {
   "cell_type": "code",
   "execution_count": null,
   "metadata": {
    "ExecuteTime": {
     "end_time": "2017-10-30T17:34:49.408718Z",
     "start_time": "2017-10-30T17:34:49.403078Z"
    },
    "code_folding": [
     0
    ],
    "collapsed": true,
    "hidden": true
   },
   "outputs": [],
   "source": [
    "# set up test\n",
    "configs, prices = ['cf1', 'cf2'], range(5, 20, 5)\n",
    "n_config, n_price = len(configs), len(prices)\n",
    "inv_amount = np.random.randint(1, 10, n_config)\n",
    "today = pd.datetime.today()\n",
    "\n",
    "min_s, max_s = n_config * min(prices), n_config * max(prices)\n",
    "s = rand_int_in(min_s, max_s)\n",
    "today = pd.datetime.today()"
   ]
  },
  {
   "cell_type": "code",
   "execution_count": null,
   "metadata": {
    "ExecuteTime": {
     "end_time": "2017-10-31T12:04:27.696196Z",
     "start_time": "2017-10-31T12:04:27.675153Z"
    },
    "collapsed": true,
    "hidden": true
   },
   "outputs": [],
   "source": [
    "prob = populateLP(s, today, configs, prices, inv_amount, binary=False)\n",
    "print()\n",
    "print('Started solver')\n",
    "prob.solve()\n",
    "show_sol_info(prob) "
   ]
  },
  {
   "cell_type": "markdown",
   "metadata": {
    "heading_collapsed": true
   },
   "source": [
    "## Check SKUs with weird prices"
   ]
  },
  {
   "cell_type": "code",
   "execution_count": null,
   "metadata": {
    "ExecuteTime": {
     "end_time": "2017-11-09T14:56:19.079166Z",
     "start_time": "2017-11-09T14:56:19.009874Z"
    },
    "collapsed": true,
    "hidden": true
   },
   "outputs": [],
   "source": [
    "# cf = AD9ABAA31B83EFGS\n",
    "sub_df = group_df.query('sku_config == \"AD9ABAA31B83EFGS\" and is_visible == 1') .drop_duplicates()\n",
    "sub_df.sort_values('price', ascending=False, inplace=True)"
   ]
  },
  {
   "cell_type": "code",
   "execution_count": null,
   "metadata": {
    "ExecuteTime": {
     "end_time": "2017-11-09T14:52:28.046819Z",
     "start_time": "2017-11-09T14:52:28.034777Z"
    },
    "collapsed": true,
    "hidden": true
   },
   "outputs": [],
   "source": [
    "sub_df.info()"
   ]
  },
  {
   "cell_type": "code",
   "execution_count": null,
   "metadata": {
    "ExecuteTime": {
     "end_time": "2017-11-09T15:01:00.636184Z",
     "start_time": "2017-11-09T15:01:00.622888Z"
    },
    "collapsed": false,
    "hidden": true
   },
   "outputs": [],
   "source": [
    "cols = ['sku_config', 'price', 'online_aging', 'is_visible', 'snapshot_date']\n",
    "sub_df[cols].head()"
   ]
  },
  {
   "cell_type": "code",
   "execution_count": null,
   "metadata": {
    "ExecuteTime": {
     "end_time": "2017-11-09T15:01:49.879787Z",
     "start_time": "2017-11-09T15:01:49.864982Z"
    },
    "collapsed": false,
    "hidden": true
   },
   "outputs": [],
   "source": [
    "sub_df.query('price > 10**5').snapshot_date.describe()"
   ]
  },
  {
   "cell_type": "code",
   "execution_count": null,
   "metadata": {
    "ExecuteTime": {
     "end_time": "2017-11-09T14:57:00.361824Z",
     "start_time": "2017-11-09T14:57:00.354010Z"
    },
    "collapsed": true,
    "hidden": true
   },
   "outputs": [],
   "source": [
    "sub_df.price.describe()"
   ]
  },
  {
   "cell_type": "markdown",
   "metadata": {},
   "source": [
    "## Attach black price to feature matrix"
   ]
  },
  {
   "cell_type": "markdown",
   "metadata": {},
   "source": [
    "We also need black price data, thus we query them and attach to current feature matrix."
   ]
  },
  {
   "cell_type": "code",
   "execution_count": 160,
   "metadata": {
    "ExecuteTime": {
     "end_time": "2017-11-10T15:48:35.533415Z",
     "start_time": "2017-11-10T15:44:11.037883Z"
    },
    "collapsed": true
   },
   "outputs": [
    {
     "name": "stdout",
     "output_type": "stream",
     "text": [
      "SKU with changing black price, use the latest price\n",
      "          sku_config snapshot_date  black_price\n",
      "5106  MA193AA24MPFMY    2016-07-11         55.9\n",
      "2649  MA193AA24MPFMY    2016-05-26         59.9\n",
      "SKU with changing black price, use the latest price\n",
      "          sku_config snapshot_date  black_price\n",
      "5108  MA193AA13MPQMY    2016-07-11        189.0\n",
      "2651  MA193AA13MPQMY    2016-05-26        179.0\n",
      "SKU with changing black price, use the latest price\n",
      "           sku_config snapshot_date  black_price\n",
      "29772  DO816AA14RUFMY    2016-09-30         93.9\n",
      "2807   DO816AA14RUFMY    2016-05-31         89.9\n",
      "SKU with changing black price, use the latest price\n",
      "            sku_config snapshot_date  black_price\n",
      "9133  APAKTAA0000080GS    2016-08-04         39.9\n",
      "3216  APAKTAA0000080GS    2016-06-10         44.9\n",
      "SKU with changing black price, use the latest price\n",
      "            sku_config snapshot_date  black_price\n",
      "536076  MI511AA28IXRMY    2017-06-17        115.0\n",
      "524769  MI511AA28IXRMY    2017-06-16       1399.0\n",
      "3785    MI511AA28IXRMY    2016-06-23         44.9\n",
      "SKU with changing black price, use the latest price\n",
      "           sku_config snapshot_date  black_price\n",
      "28002  MA193AA10RMJMY    2016-09-27         65.9\n",
      "4046   MA193AA10RMJMY    2016-06-28         89.9\n",
      "SKU with changing black price, use the latest price\n",
      "          sku_config snapshot_date  black_price\n",
      "5134  MA193AA08RMLMY    2016-07-11         39.9\n",
      "4048  MA193AA08RMLMY    2016-06-28         45.9\n",
      "SKU with changing black price, use the latest price\n",
      "           sku_config snapshot_date  black_price\n",
      "29801  MA193AA07RMMMY    2016-09-30         39.9\n",
      "4052   MA193AA07RMMMY    2016-06-28         45.9\n",
      "SKU with changing black price, use the latest price\n",
      "           sku_config snapshot_date  black_price\n",
      "12774  MA193AA88RNFMY    2016-08-19         65.9\n",
      "4053   MA193AA88RNFMY    2016-06-28         89.9\n",
      "SKU with changing black price, use the latest price\n",
      "           sku_config snapshot_date  black_price\n",
      "29804  MA193AA87RNGMY    2016-09-30         65.9\n",
      "4055   MA193AA87RNGMY    2016-06-28         89.9\n",
      "SKU with changing black price, use the latest price\n",
      "          sku_config snapshot_date  black_price\n",
      "5144  MA193AA06RQJMY    2016-07-11         59.9\n",
      "4058  MA193AA06RQJMY    2016-06-28         65.9\n",
      "SKU with changing black price, use the latest price\n",
      "           sku_config snapshot_date  black_price\n",
      "77473  DO816AA56TCTMY    2016-11-24         76.9\n",
      "4622   DO816AA56TCTMY    2016-07-05         79.9\n",
      "SKU with changing black price, use the latest price\n",
      "            sku_config snapshot_date  black_price\n",
      "536752  WO349AA49RWGMY    2017-06-17        249.0\n",
      "5186    WO349AA49RWGMY    2016-07-11         89.9\n",
      "SKU with changing black price, use the latest price\n",
      "            sku_config snapshot_date  black_price\n",
      "536760  WO349AA43RWMMY    2017-06-17        349.0\n",
      "5190    WO349AA43RWMMY    2016-07-11        109.9\n",
      "SKU with changing black price, use the latest price\n",
      "            sku_config snapshot_date  black_price\n",
      "536765  WO349AA42RWNMY    2017-06-17        349.0\n",
      "5191    WO349AA42RWNMY    2016-07-11        109.9\n",
      "SKU with changing black price, use the latest price\n",
      "            sku_config snapshot_date  black_price\n",
      "536768  WO349AA41RWOMY    2017-06-17        349.0\n",
      "5192    WO349AA41RWOMY    2016-07-11        109.9\n",
      "SKU with changing black price, use the latest price\n",
      "            sku_config snapshot_date  black_price\n",
      "536773  WO349AA39RWQMY    2017-06-17        349.0\n",
      "5194    WO349AA39RWQMY    2016-07-11        129.9\n",
      "SKU with changing black price, use the latest price\n",
      "            sku_config snapshot_date  black_price\n",
      "536780  WO349AA37RWSMY    2017-06-17        349.0\n",
      "5195    WO349AA37RWSMY    2016-07-11        129.9\n",
      "SKU with changing black price, use the latest price\n",
      "            sku_config snapshot_date  black_price\n",
      "526000  WO349AA36RWTMY    2017-06-16        349.0\n",
      "5196    WO349AA36RWTMY    2016-07-11        129.9\n",
      "SKU with changing black price, use the latest price\n",
      "            sku_config snapshot_date  black_price\n",
      "536803  MA358AA32RWXMY    2017-06-17        849.0\n",
      "5197    MA358AA32RWXMY    2016-07-11        299.9\n",
      "SKU with changing black price, use the latest price\n",
      "            sku_config snapshot_date  black_price\n",
      "536806  MA358AA31RWYMY    2017-06-17        849.0\n",
      "5199    MA358AA31RWYMY    2016-07-11        299.9\n",
      "SKU with changing black price, use the latest price\n",
      "            sku_config snapshot_date  black_price\n",
      "537021  DO816AA64MODMY    2017-06-17        289.0\n",
      "5366    DO816AA64MODMY    2016-07-12        116.0\n",
      "SKU with changing black price, use the latest price\n",
      "            sku_config snapshot_date  black_price\n",
      "537040  DO816AA62MOFMY    2017-06-17        139.0\n",
      "5369    DO816AA62MOFMY    2016-07-12         53.9\n",
      "SKU with changing black price, use the latest price\n",
      "            sku_config snapshot_date  black_price\n",
      "538711  MA193AA57STQMY    2017-06-17        269.0\n",
      "9472    MA193AA57STQMY    2016-08-05         99.9\n",
      "SKU with changing black price, use the latest price\n",
      "           sku_config snapshot_date  black_price\n",
      "10539  WA653AA32DXBMY    2016-08-10        219.0\n",
      "10311  WA653AA32DXBMY    2016-08-09        237.9\n",
      "SKU with changing black price, use the latest price\n",
      "           sku_config snapshot_date  black_price\n",
      "10543  DO816AA59DZWMY    2016-08-10         99.9\n",
      "10315  DO816AA59DZWMY    2016-08-09         93.9\n",
      "SKU with changing black price, use the latest price\n",
      "           sku_config snapshot_date  black_price\n",
      "10546  DO816AA56DZZMY    2016-08-10        109.0\n",
      "10318  DO816AA56DZZMY    2016-08-09        103.9\n",
      "SKU with changing black price, use the latest price\n",
      "           sku_config snapshot_date  black_price\n",
      "10548  DO816AA55EAAMY    2016-08-10         99.9\n",
      "10320  DO816AA55EAAMY    2016-08-09         93.9\n",
      "SKU with changing black price, use the latest price\n",
      "           sku_config snapshot_date  black_price\n",
      "10550  DO816AA49EAGMY    2016-08-10         49.9\n",
      "10322  DO816AA49EAGMY    2016-08-09         50.9\n",
      "SKU with changing black price, use the latest price\n",
      "           sku_config snapshot_date  black_price\n",
      "10551  DO816AA44EALMY    2016-08-10         99.9\n",
      "10323  DO816AA44EALMY    2016-08-09         93.9\n",
      "SKU with changing black price, use the latest price\n",
      "             sku_config snapshot_date  black_price\n",
      "96758  ATAAVAA0000034GS    2016-12-08         25.0\n",
      "10324  ATAAVAA0000034GS    2016-08-09         24.9\n",
      "SKU with changing black price, use the latest price\n",
      "             sku_config snapshot_date  black_price\n",
      "96759  ATAAYAA0000031GS    2016-12-08         25.0\n",
      "10325  ATAAYAA0000031GS    2016-08-09         24.9\n",
      "SKU with changing black price, use the latest price\n",
      "             sku_config snapshot_date  black_price\n",
      "17269  ATSDRAA0000092GS    2016-09-02         29.9\n",
      "10792  ATSDRAA0000092GS    2016-08-11         39.9\n",
      "SKU with changing black price, use the latest price\n",
      "            sku_config snapshot_date  black_price\n",
      "527306  CL919AA15IJCMY    2017-06-16       3999.0\n",
      "11846   CL919AA15IJCMY    2016-08-15        121.9\n",
      "SKU with changing black price, use the latest price\n",
      "            sku_config snapshot_date  black_price\n",
      "527314  CL919AA14IJDMY    2017-06-16       5949.0\n",
      "11847   CL919AA14IJDMY    2016-08-15        179.9\n",
      "SKU with changing black price, use the latest price\n",
      "             sku_config snapshot_date  black_price\n",
      "18403  ATPWTAA0000024GS    2016-09-05         29.9\n",
      "11850  ATPWTAA0000024GS    2016-08-15         24.9\n",
      "SKU with changing black price, use the latest price\n",
      "           sku_config snapshot_date  black_price\n",
      "13835  MA394AA15IQUMY    2016-08-22         64.9\n",
      "11851  MA394AA15IQUMY    2016-08-15         77.9\n",
      "SKU with changing black price, use the latest price\n",
      "           sku_config snapshot_date  black_price\n",
      "13837  MA394AA10IQZMY    2016-08-22         74.9\n",
      "11853  MA394AA10IQZMY    2016-08-15         82.9\n",
      "SKU with changing black price, use the latest price\n",
      "           sku_config snapshot_date  black_price\n",
      "13838  ST343AA45ITMMY    2016-08-22         99.9\n",
      "11854  ST343AA45ITMMY    2016-08-15        100.9\n",
      "SKU with changing black price, use the latest price\n",
      "           sku_config snapshot_date  black_price\n",
      "13839  ST343AA44ITNMY    2016-08-22         99.9\n",
      "11855  ST343AA44ITNMY    2016-08-15        100.9\n",
      "SKU with changing black price, use the latest price\n",
      "           sku_config snapshot_date  black_price\n",
      "13840  ST343AA16IUPMY    2016-08-22        149.9\n",
      "11856  ST343AA16IUPMY    2016-08-15        161.9\n",
      "SKU with changing black price, use the latest price\n",
      "           sku_config snapshot_date  black_price\n",
      "13841  ST343AA15IUQMY    2016-08-22        149.9\n",
      "11857  ST343AA15IUQMY    2016-08-15        161.9\n",
      "SKU with changing black price, use the latest price\n",
      "           sku_config snapshot_date  black_price\n",
      "13842  ST343AA09IUWMY    2016-08-22        109.9\n",
      "11858  ST343AA09IUWMY    2016-08-15        125.9\n",
      "SKU with changing black price, use the latest price\n",
      "           sku_config snapshot_date  black_price\n",
      "16961  PR614AA21LHUMY    2016-09-01         64.9\n",
      "12427  PR614AA21LHUMY    2016-08-17         77.9\n",
      "SKU with changing black price, use the latest price\n",
      "           sku_config snapshot_date  black_price\n",
      "32441  TO412AA98PAVMY    2016-10-04        109.0\n",
      "14143  TO412AA98PAVMY    2016-08-23        106.0\n",
      "SKU with changing black price, use the latest price\n",
      "           sku_config snapshot_date  black_price\n",
      "77679  TO412AA92PBBMY    2016-11-24        229.0\n",
      "14145  TO412AA92PBBMY    2016-08-23        226.0\n",
      "SKU with changing black price, use the latest price\n",
      "             sku_config snapshot_date  black_price\n",
      "54969  ABB63AA26A9936GS    2016-11-03         34.9\n",
      "19665  ABB63AA26A9936GS    2016-09-08         39.9\n",
      "SKU with changing black price, use the latest price\n",
      "            sku_config snapshot_date  black_price\n",
      "539439  MI511AA80EDVMY    2017-06-17        159.0\n",
      "21643   MI511AA80EDVMY    2016-09-13         62.9\n",
      "SKU with changing black price, use the latest price\n",
      "            sku_config snapshot_date  black_price\n",
      "539478  MI511AA75EEAMY    2017-06-17        139.0\n",
      "21644   MI511AA75EEAMY    2016-09-13         54.9\n",
      "SKU with changing black price, use the latest price\n",
      "            sku_config snapshot_date  black_price\n",
      "539509  MI511AA66EEJMY    2017-06-17        179.0\n",
      "21646   MI511AA66EEJMY    2016-09-13         70.9\n",
      "SKU with changing black price, use the latest price\n",
      "             sku_config snapshot_date  black_price\n",
      "55000  E44A7AA7BE87FDGS    2016-11-03         29.9\n",
      "24191  E44A7AA7BE87FDGS    2016-09-19         34.9\n",
      "SKU with changing black price, use the latest price\n",
      "             sku_config snapshot_date  black_price\n",
      "75291  99540AA3DEAC56GS    2016-11-22         29.9\n",
      "24192  99540AA3DEAC56GS    2016-09-19         34.9\n",
      "SKU with changing black price, use the latest price\n",
      "             sku_config snapshot_date  black_price\n",
      "55004  AE783AAF4A0DE3GS    2016-11-03         29.9\n",
      "24195  AE783AAF4A0DE3GS    2016-09-19         34.9\n",
      "SKU with changing black price, use the latest price\n",
      "             sku_config snapshot_date  black_price\n",
      "55006  6D601AA934E918GS    2016-11-03         29.9\n",
      "24197  6D601AA934E918GS    2016-09-19         34.9\n",
      "SKU with changing black price, use the latest price\n",
      "             sku_config snapshot_date  black_price\n",
      "75298  1771FAA25319C1GS    2016-11-22         29.9\n",
      "37788  1771FAA25319C1GS    2016-10-12         39.9\n",
      "24199  1771FAA25319C1GS    2016-09-19         34.9\n",
      "SKU with changing black price, use the latest price\n",
      "             sku_config snapshot_date  black_price\n",
      "55010  9BB9DAA37D10C5GS    2016-11-03         24.9\n",
      "37790  9BB9DAA37D10C5GS    2016-10-12         29.9\n",
      "24201  9BB9DAA37D10C5GS    2016-09-19         34.9\n",
      "SKU with changing black price, use the latest price\n",
      "             sku_config snapshot_date  black_price\n",
      "55012  8D1FAAA9D355E3GS    2016-11-03         29.9\n",
      "24203  8D1FAAA9D355E3GS    2016-09-19         34.9\n",
      "SKU with changing black price, use the latest price\n",
      "             sku_config snapshot_date  black_price\n",
      "55014  EB0D0AAB1BAC57GS    2016-11-03         29.9\n",
      "24205  EB0D0AAB1BAC57GS    2016-09-19         34.9\n",
      "SKU with changing black price, use the latest price\n",
      "             sku_config snapshot_date  black_price\n",
      "55016  905E3AA187D891GS    2016-11-03         29.9\n",
      "24207  905E3AA187D891GS    2016-09-19         34.9\n",
      "SKU with changing black price, use the latest price\n",
      "             sku_config snapshot_date  black_price\n",
      "37797  41079AA846CCB8GS    2016-10-12         39.9\n",
      "24208  41079AA846CCB8GS    2016-09-19         34.9\n",
      "SKU with changing black price, use the latest price\n",
      "             sku_config snapshot_date  black_price\n",
      "68278  9E008AA6C1731BGS    2016-11-16         39.9\n",
      "55018  9E008AA6C1731BGS    2016-11-03         29.9\n",
      "24209  9E008AA6C1731BGS    2016-09-19         34.9\n",
      "SKU with changing black price, use the latest price\n",
      "             sku_config snapshot_date  black_price\n",
      "37799  A5286AA53B4B16GS    2016-10-12         39.9\n",
      "24210  A5286AA53B4B16GS    2016-09-19         34.9\n",
      "SKU with changing black price, use the latest price\n",
      "             sku_config snapshot_date  black_price\n",
      "55020  5A947AA2A46607GS    2016-11-03         29.9\n",
      "24211  5A947AA2A46607GS    2016-09-19         34.9\n",
      "SKU with changing black price, use the latest price\n",
      "             sku_config snapshot_date  black_price\n",
      "55021  FD2BCAA6F8E071GS    2016-11-03         29.9\n",
      "24212  FD2BCAA6F8E071GS    2016-09-19         34.9\n",
      "SKU with changing black price, use the latest price\n",
      "              sku_config snapshot_date  black_price\n",
      "216277  6391BAADAD4E9FGS    2017-02-14         49.9\n",
      "97017   6391BAADAD4E9FGS    2016-12-08         50.0\n",
      "25182   6391BAADAD4E9FGS    2016-09-21         44.9\n",
      "SKU with changing black price, use the latest price\n",
      "             sku_config snapshot_date  black_price\n",
      "55076  F7361AA7EF14F4GS    2016-11-03         29.9\n",
      "25197  F7361AA7EF14F4GS    2016-09-21         34.9\n",
      "SKU with changing black price, use the latest price\n",
      "              sku_config snapshot_date  black_price\n",
      "444893  AFHLOAA0000087GS    2017-05-22         39.9\n",
      "25705   AFHLOAA0000087GS    2016-09-22         34.9\n",
      "SKU with changing black price, use the latest price\n",
      "             sku_config snapshot_date  black_price\n",
      "75413  F90C2AA976062FGS    2016-11-22         29.9\n",
      "26257  F90C2AA976062FGS    2016-09-23         34.9\n",
      "SKU with changing black price, use the latest price\n",
      "             sku_config snapshot_date  black_price\n",
      "37904  3DBB9AA7A3588EGS    2016-10-12         39.9\n",
      "26258  3DBB9AA7A3588EGS    2016-09-23         34.9\n",
      "SKU with changing black price, use the latest price\n",
      "             sku_config snapshot_date  black_price\n",
      "37905  6EF6AAAAB2BDDCGS    2016-10-12         39.9\n",
      "26259  6EF6AAAAB2BDDCGS    2016-09-23         34.9\n",
      "SKU with changing black price, use the latest price\n",
      "             sku_config snapshot_date  black_price\n",
      "55126  F16FBAAA11112FGS    2016-11-03         29.9\n",
      "26260  F16FBAAA11112FGS    2016-09-23         34.9\n",
      "SKU with changing black price, use the latest price\n",
      "             sku_config snapshot_date  black_price\n",
      "55128  6F8B6AAF5647D9GS    2016-11-03         29.9\n",
      "26262  6F8B6AAF5647D9GS    2016-09-23         34.9\n",
      "SKU with changing black price, use the latest price\n",
      "              sku_config snapshot_date  black_price\n",
      "216386  B27DFAAD879F88GS    2017-02-14         49.9\n",
      "97126   B27DFAAD879F88GS    2016-12-08         50.0\n",
      "55170   B27DFAAD879F88GS    2016-11-03         44.9\n",
      "43578   B27DFAAD879F88GS    2016-10-20       1299.0\n",
      "32144   B27DFAAD879F88GS    2016-10-03         39.9\n",
      "29136   B27DFAAD879F88GS    2016-09-28         34.9\n",
      "SKU with changing black price, use the latest price\n",
      "             sku_config snapshot_date  black_price\n",
      "68431  0864FAA280A360GS    2016-11-16         64.9\n",
      "43579  0864FAA280A360GS    2016-10-20       1999.0\n",
      "32145  0864FAA280A360GS    2016-10-03         59.9\n",
      "29137  0864FAA280A360GS    2016-09-28         34.9\n",
      "SKU with changing black price, use the latest price\n",
      "           sku_config snapshot_date  black_price\n",
      "33366  BY867AA52RFJMY    2016-10-05         99.0\n",
      "32757  BY867AA52RFJMY    2016-10-04        103.9\n",
      "SKU with changing black price, use the latest price\n",
      "           sku_config snapshot_date  black_price\n",
      "33367  BY867AA51RFKMY    2016-10-05         79.0\n",
      "32758  BY867AA51RFKMY    2016-10-04         82.9\n",
      "SKU with changing black price, use the latest price\n",
      "              sku_config snapshot_date  black_price\n",
      "445006  C1E36AAD6C53A0GS    2017-05-22         29.9\n",
      "33382   C1E36AAD6C53A0GS    2016-10-05         34.9\n",
      "SKU with changing black price, use the latest price\n",
      "              sku_config snapshot_date  black_price\n",
      "445011  25DE6AAD32A169GS    2017-05-22         29.9\n",
      "33387   25DE6AAD32A169GS    2016-10-05         34.9\n",
      "SKU with changing black price, use the latest price\n",
      "            sku_config snapshot_date  black_price\n",
      "188717  TO412AA64SJRMY    2017-01-27         89.9\n",
      "33392   TO412AA64SJRMY    2016-10-05         86.9\n",
      "SKU with changing black price, use the latest price\n",
      "              sku_config snapshot_date  black_price\n",
      "114061  351A8AA3B6E46CGS    2016-12-19         29.9\n",
      "34043   351A8AA3B6E46CGS    2016-10-06         24.9\n",
      "SKU with changing black price, use the latest price\n",
      "              sku_config snapshot_date  black_price\n",
      "114063  AFJQXAA0000096GS    2016-12-19         29.9\n",
      "34045   AFJQXAA0000096GS    2016-10-06         24.9\n",
      "SKU with changing black price, use the latest price\n",
      "             sku_config snapshot_date  black_price\n",
      "68486  7ABE6AA2B9C8DCGS    2016-11-16         29.9\n",
      "34700  7ABE6AA2B9C8DCGS    2016-10-07         34.9\n",
      "SKU with changing black price, use the latest price\n",
      "             sku_config snapshot_date  black_price\n",
      "68487  40538AA123045CGS    2016-11-16         29.9\n",
      "34701  40538AA123045CGS    2016-10-07         34.9\n",
      "SKU with changing black price, use the latest price\n",
      "             sku_config snapshot_date  black_price\n",
      "97186  63780AAA282EFEGS    2016-12-08         50.0\n",
      "36666  63780AAA282EFEGS    2016-10-10         49.9\n",
      "SKU with changing black price, use the latest price\n",
      "             sku_config snapshot_date  black_price\n",
      "76748  DCCBFAA628D1FBGS    2016-11-23         34.9\n",
      "36667  DCCBFAA628D1FBGS    2016-10-10         39.9\n",
      "SKU with changing black price, use the latest price\n",
      "             sku_config snapshot_date  black_price\n",
      "76749  D0F5CAA29C3FFFGS    2016-11-23         34.9\n",
      "36668  D0F5CAA29C3FFFGS    2016-10-10         39.9\n",
      "SKU with changing black price, use the latest price\n",
      "            sku_config snapshot_date  black_price\n",
      "188783  DO816AA15ZKIMY    2017-01-27        109.0\n",
      "42191   DO816AA15ZKIMY    2016-10-18        103.0\n",
      "SKU with changing black price, use the latest price\n",
      "           sku_config snapshot_date  black_price\n",
      "98690  DO816AA14ZKJMY    2016-12-09        129.0\n",
      "42192  DO816AA14ZKJMY    2016-10-18        126.0\n",
      "SKU with changing black price, use the latest price\n",
      "           sku_config snapshot_date  black_price\n",
      "98695  DO816AA11ZKMMY    2016-12-09         69.9\n",
      "42197  DO816AA11ZKMMY    2016-10-18         66.9\n",
      "SKU with changing black price, use the latest price\n",
      "           sku_config snapshot_date  black_price\n",
      "78092  DO816AA09ZKOMY    2016-11-24         69.9\n",
      "42198  DO816AA09ZKOMY    2016-10-18         66.9\n",
      "SKU with changing black price, use the latest price\n",
      "            sku_config snapshot_date  black_price\n",
      "188791  DO816AA02ZKVMY    2017-01-27         79.9\n",
      "42199   DO816AA02ZKVMY    2016-10-18         73.9\n",
      "SKU with changing black price, use the latest price\n",
      "           sku_config snapshot_date  black_price\n",
      "42957  NA323AA40ZBRMY    2016-10-19         99.9\n",
      "42223  NA323AA40ZBRMY    2016-10-18        107.9\n",
      "SKU with changing black price, use the latest price\n",
      "             sku_config snapshot_date  black_price\n",
      "76832  04CD9AAB817239GS    2016-11-23         39.9\n",
      "74420  04CD9AAB817239GS    2016-11-21         34.9\n",
      "42968  04CD9AAB817239GS    2016-10-19         29.9\n",
      "SKU with changing black price, use the latest price\n",
      "              sku_config snapshot_date  black_price\n",
      "492280  9FD95AAA7D9D06GS    2017-06-07         44.9\n",
      "43740   9FD95AAA7D9D06GS    2016-10-20         39.9\n",
      "SKU with changing black price, use the latest price\n",
      "           sku_config snapshot_date  black_price\n",
      "44507  KL492AA14BXTMY    2016-10-21         69.9\n",
      "43745  KL492AA14BXTMY    2016-10-20         82.9\n",
      "SKU with changing black price, use the latest price\n",
      "             sku_config snapshot_date  black_price\n",
      "59279  204F8AA97BE74BGS    2016-11-07         29.9\n",
      "50201  204F8AA97BE74BGS    2016-10-28         34.9\n",
      "SKU with changing black price, use the latest price\n",
      "             sku_config snapshot_date  black_price\n",
      "59280  2DB8CAAD6089E0GS    2016-11-07         29.9\n",
      "50202  2DB8CAAD6089E0GS    2016-10-28         34.9\n",
      "SKU with changing black price, use the latest price\n",
      "              sku_config snapshot_date  black_price\n",
      "453432  34230AA9182A80GS    2017-05-25         44.9\n",
      "50203   34230AA9182A80GS    2016-10-28         39.9\n",
      "SKU with changing black price, use the latest price\n",
      "             sku_config snapshot_date  black_price\n",
      "76940  7FE6FAA27D6877GS    2016-11-23         44.9\n",
      "50205  7FE6FAA27D6877GS    2016-10-28         39.9\n",
      "SKU with changing black price, use the latest price\n",
      "             sku_config snapshot_date  black_price\n",
      "75741  04281AA5F27651GS    2016-11-22         39.9\n",
      "54555  04281AA5F27651GS    2016-11-02         34.9\n",
      "SKU with changing black price, use the latest price\n",
      "             sku_config snapshot_date  black_price\n",
      "56406  2D590AA3FFF4CCGS    2016-11-04         39.9\n",
      "54557  2D590AA3FFF4CCGS    2016-11-02         34.9\n",
      "SKU with changing black price, use the latest price\n",
      "             sku_config snapshot_date  black_price\n",
      "56407  34F72AA8DC9C19GS    2016-11-04         39.9\n",
      "54558  34F72AA8DC9C19GS    2016-11-02         34.9\n",
      "SKU with changing black price, use the latest price\n",
      "             sku_config snapshot_date  black_price\n",
      "56409  A14D7AA2192925GS    2016-11-04         39.9\n",
      "54560  A14D7AA2192925GS    2016-11-02         34.9\n",
      "SKU with changing black price, use the latest price\n",
      "             sku_config snapshot_date  black_price\n",
      "56412  B304DAA76032A0GS    2016-11-04         39.9\n",
      "54563  B304DAA76032A0GS    2016-11-02         34.9\n",
      "SKU with changing black price, use the latest price\n",
      "             sku_config snapshot_date  black_price\n",
      "67619  603FCAA56D25D2GS    2016-11-15         39.9\n",
      "55472  603FCAA56D25D2GS    2016-11-03         34.9\n",
      "SKU with changing black price, use the latest price\n",
      "             sku_config snapshot_date  black_price\n",
      "67620  7F43EAAED2A27EGS    2016-11-15         39.9\n",
      "55473  7F43EAAED2A27EGS    2016-11-03         34.9\n",
      "SKU with changing black price, use the latest price\n",
      "             sku_config snapshot_date  black_price\n",
      "67622  61330AA2A5200BGS    2016-11-15         39.9\n",
      "55475  61330AA2A5200BGS    2016-11-03         34.9\n",
      "SKU with changing black price, use the latest price\n",
      "             sku_config snapshot_date  black_price\n",
      "67623  17344AACC8AF0BGS    2016-11-15         39.9\n",
      "55476  17344AACC8AF0BGS    2016-11-03         34.9\n",
      "SKU with changing black price, use the latest price\n",
      "             sku_config snapshot_date  black_price\n",
      "67629  E8579AA3DD1444GS    2016-11-15         39.9\n",
      "55482  E8579AA3DD1444GS    2016-11-03         34.9\n",
      "SKU with changing black price, use the latest price\n",
      "             sku_config snapshot_date  black_price\n",
      "77000  EDEA6AAC207D7BGS    2016-11-23         34.9\n",
      "55483  EDEA6AAC207D7BGS    2016-11-03         39.9\n",
      "SKU with changing black price, use the latest price\n",
      "             sku_config snapshot_date  black_price\n",
      "77009  3FB4DAAA8F75DBGS    2016-11-23         29.9\n",
      "55492  3FB4DAAA8F75DBGS    2016-11-03         34.9\n",
      "SKU with changing black price, use the latest price\n",
      "             sku_config snapshot_date  black_price\n",
      "66578  4B475AADEDDF39GS    2016-11-14         54.9\n",
      "55500  4B475AADEDDF39GS    2016-11-03         34.9\n",
      "SKU with changing black price, use the latest price\n",
      "             sku_config snapshot_date  black_price\n",
      "67652  EDE68AAF9F4287GS    2016-11-15         49.9\n",
      "55505  EDE68AAF9F4287GS    2016-11-03         34.9\n",
      "SKU with changing black price, use the latest price\n",
      "             sku_config snapshot_date  black_price\n",
      "67654  DD6CDAAA7B6051GS    2016-11-15         49.9\n",
      "55507  DD6CDAAA7B6051GS    2016-11-03         44.9\n",
      "SKU with changing black price, use the latest price\n",
      "             sku_config snapshot_date  black_price\n",
      "66589  CCBB7AA5F648BCGS    2016-11-14         54.9\n",
      "55511  CCBB7AA5F648BCGS    2016-11-03         34.9\n",
      "SKU with changing black price, use the latest price\n",
      "             sku_config snapshot_date  black_price\n",
      "66592  05D01AA10C1802GS    2016-11-14         54.9\n",
      "55514  05D01AA10C1802GS    2016-11-03         34.9\n",
      "SKU with changing black price, use the latest price\n",
      "             sku_config snapshot_date  black_price\n",
      "66597  7DBC5AA100F751GS    2016-11-14         54.9\n",
      "55519  7DBC5AA100F751GS    2016-11-03         34.9\n",
      "SKU with changing black price, use the latest price\n",
      "             sku_config snapshot_date  black_price\n",
      "67672  C8BB0AA308FA75GS    2016-11-15         39.9\n",
      "55525  C8BB0AA308FA75GS    2016-11-03         34.9\n",
      "SKU with changing black price, use the latest price\n",
      "             sku_config snapshot_date  black_price\n",
      "67673  F5E4CAA74AE522GS    2016-11-15         39.9\n",
      "55526  F5E4CAA74AE522GS    2016-11-03         34.9\n",
      "SKU with changing black price, use the latest price\n",
      "             sku_config snapshot_date  black_price\n",
      "69994  D7151AACB34DE6GS    2016-11-17         39.9\n",
      "61415  D7151AACB34DE6GS    2016-11-09         34.9\n",
      "SKU with changing black price, use the latest price\n",
      "             sku_config snapshot_date  black_price\n",
      "69997  4DB4EAADDEECD9GS    2016-11-17         39.9\n",
      "61418  4DB4EAADDEECD9GS    2016-11-09         34.9\n",
      "SKU with changing black price, use the latest price\n",
      "             sku_config snapshot_date  black_price\n",
      "69998  B9198AAEFD4E2EGS    2016-11-17         39.9\n",
      "61419  B9198AAEFD4E2EGS    2016-11-09         34.9\n",
      "SKU with changing black price, use the latest price\n",
      "             sku_config snapshot_date  black_price\n",
      "70000  D2E4FAA0C7FBF3GS    2016-11-17         39.9\n",
      "61421  D2E4FAA0C7FBF3GS    2016-11-09         34.9\n",
      "SKU with changing black price, use the latest price\n",
      "            sku_config snapshot_date  black_price\n",
      "189104  DO816AA06QDHMY    2017-01-27         99.9\n",
      "61423   DO816AA06QDHMY    2016-11-09         93.9\n",
      "SKU with changing black price, use the latest price\n",
      "           sku_config snapshot_date  black_price\n",
      "62468  JU359AA97QLIMY    2016-11-10        139.9\n",
      "61428  JU359AA97QLIMY    2016-11-09        161.9\n",
      "SKU with changing black price, use the latest price\n",
      "           sku_config snapshot_date  black_price\n",
      "62469  JU359AA96QLJMY    2016-11-10        159.9\n",
      "61429  JU359AA96QLJMY    2016-11-09        179.9\n",
      "SKU with changing black price, use the latest price\n",
      "           sku_config snapshot_date  black_price\n",
      "62470  JU359AA95QLKMY    2016-11-10        159.9\n",
      "61430  JU359AA95QLKMY    2016-11-09        179.9\n",
      "SKU with changing black price, use the latest price\n",
      "           sku_config snapshot_date  black_price\n",
      "62471  JU359AA94QLLMY    2016-11-10        129.9\n",
      "61431  JU359AA94QLLMY    2016-11-09        143.9\n",
      "SKU with changing black price, use the latest price\n",
      "           sku_config snapshot_date  black_price\n",
      "62472  JU359AA90QLPMY    2016-11-10        139.9\n",
      "61432  JU359AA90QLPMY    2016-11-09        161.9\n",
      "SKU with changing black price, use the latest price\n",
      "           sku_config snapshot_date  black_price\n",
      "62474  JU359AA89QLQMY    2016-11-10        139.9\n",
      "61434  JU359AA89QLQMY    2016-11-09        161.9\n",
      "SKU with changing black price, use the latest price\n",
      "           sku_config snapshot_date  black_price\n",
      "62476  JU359AA88QLRMY    2016-11-10        139.9\n",
      "61436  JU359AA88QLRMY    2016-11-09        161.9\n",
      "SKU with changing black price, use the latest price\n",
      "           sku_config snapshot_date  black_price\n",
      "62478  JU359AA87QLSMY    2016-11-10        129.9\n",
      "61438  JU359AA87QLSMY    2016-11-09        143.9\n",
      "SKU with changing black price, use the latest price\n",
      "           sku_config snapshot_date  black_price\n",
      "62480  JU359AA86QLTMY    2016-11-10        119.9\n",
      "61440  JU359AA86QLTMY    2016-11-09        143.9\n",
      "SKU with changing black price, use the latest price\n",
      "           sku_config snapshot_date  black_price\n",
      "62482  JU359AA85QLUMY    2016-11-10        119.9\n",
      "61442  JU359AA85QLUMY    2016-11-09        143.9\n",
      "SKU with changing black price, use the latest price\n",
      "           sku_config snapshot_date  black_price\n",
      "62484  JU359AA84QLVMY    2016-11-10        139.9\n",
      "61444  JU359AA84QLVMY    2016-11-09        161.9\n",
      "SKU with changing black price, use the latest price\n",
      "            sku_config snapshot_date  black_price\n",
      "448151  MA697AA56RCHMY    2017-05-23         34.9\n",
      "63528   MA697AA56RCHMY    2016-11-11         29.9\n",
      "SKU with changing black price, use the latest price\n",
      "            sku_config snapshot_date  black_price\n",
      "448154  MA697AA50RCNMY    2017-05-23         34.9\n",
      "63531   MA697AA50RCNMY    2016-11-11         29.9\n",
      "SKU with changing black price, use the latest price\n",
      "             sku_config snapshot_date  black_price\n",
      "75994  845EBAA8437206GS    2016-11-22         29.9\n",
      "68964  845EBAA8437206GS    2016-11-16         34.9\n",
      "SKU with changing black price, use the latest price\n",
      "             sku_config snapshot_date  black_price\n",
      "75995  7FF05AA2953ADFGS    2016-11-22         29.9\n",
      "68965  7FF05AA2953ADFGS    2016-11-16         34.9\n",
      "SKU with changing black price, use the latest price\n",
      "             sku_config snapshot_date  black_price\n",
      "75999  AA203AAC14D8F1GS    2016-11-22         29.9\n",
      "68969  AA203AAC14D8F1GS    2016-11-16         34.9\n",
      "SKU with changing black price, use the latest price\n",
      "             sku_config snapshot_date  black_price\n",
      "76000  8A79DAA2A6B802GS    2016-11-22         29.9\n",
      "68970  8A79DAA2A6B802GS    2016-11-16         34.9\n",
      "SKU with changing black price, use the latest price\n",
      "            sku_config snapshot_date  black_price\n",
      "528370  ST343AA98UDLMY    2017-06-16       2949.0\n",
      "68973   ST343AA98UDLMY    2016-11-16         79.9\n",
      "SKU with changing black price, use the latest price\n",
      "            sku_config snapshot_date  black_price\n",
      "528373  ST343AA97UDMMY    2017-06-16       2949.0\n",
      "68974   ST343AA97UDMMY    2016-11-16         79.9\n",
      "SKU with changing black price, use the latest price\n",
      "            sku_config snapshot_date  black_price\n",
      "528376  ST343AA96UDNMY    2017-06-16       2949.0\n",
      "68975   ST343AA96UDNMY    2016-11-16         79.9\n",
      "SKU with changing black price, use the latest price\n",
      "            sku_config snapshot_date  black_price\n",
      "528378  ST343AA95UDOMY    2017-06-16       2949.0\n",
      "68976   ST343AA95UDOMY    2016-11-16         79.9\n",
      "SKU with changing black price, use the latest price\n",
      "            sku_config snapshot_date  black_price\n",
      "528381  ST343AA94UDPMY    2017-06-16       4749.0\n",
      "68977   ST343AA94UDPMY    2016-11-16        129.9\n",
      "SKU with changing black price, use the latest price\n",
      "            sku_config snapshot_date  black_price\n",
      "528382  ST343AA93UDQMY    2017-06-16       4749.0\n",
      "68978   ST343AA93UDQMY    2016-11-16        129.9\n",
      "SKU with changing black price, use the latest price\n",
      "            sku_config snapshot_date  black_price\n",
      "528384  ST343AA92UDRMY    2017-06-16       4749.0\n",
      "68979   ST343AA92UDRMY    2016-11-16        129.9\n",
      "SKU with changing black price, use the latest price\n",
      "            sku_config snapshot_date  black_price\n",
      "528389  ST343AA89UDUMY    2017-06-16       3549.0\n",
      "68981   ST343AA89UDUMY    2016-11-16         99.9\n",
      "SKU with changing black price, use the latest price\n",
      "            sku_config snapshot_date  black_price\n",
      "528393  ST343AA87UDWMY    2017-06-16       3549.0\n",
      "68982   ST343AA87UDWMY    2016-11-16         99.9\n",
      "SKU with changing black price, use the latest price\n",
      "            sku_config snapshot_date  black_price\n",
      "528396  ST343AA84UDZMY    2017-06-16       4749.0\n",
      "68983   ST343AA84UDZMY    2016-11-16        129.9\n",
      "SKU with changing black price, use the latest price\n",
      "            sku_config snapshot_date  black_price\n",
      "528398  ST343AA83UEAMY    2017-06-16       4749.0\n",
      "68984   ST343AA83UEAMY    2016-11-16        129.9\n",
      "SKU with changing black price, use the latest price\n",
      "              sku_config snapshot_date  black_price\n",
      "528750  F3813AAF518146GS    2017-06-16       1299.0\n",
      "76073   F3813AAF518146GS    2016-11-22         34.9\n",
      "SKU with changing black price, use the latest price\n",
      "              sku_config snapshot_date  black_price\n",
      "528757  F2762AAE345024GS    2017-06-16       1299.0\n",
      "76076   F2762AAE345024GS    2016-11-22         34.9\n",
      "SKU with changing black price, use the latest price\n",
      "            sku_config snapshot_date  black_price\n",
      "130429  DO816AA46YJDMY    2016-12-28        109.0\n",
      "77356   DO816AA46YJDMY    2016-11-23         99.9\n",
      "SKU with changing black price, use the latest price\n",
      "              sku_config snapshot_date  black_price\n",
      "145457  D9797AA9D01A93GS    2017-01-05         29.9\n",
      "88106   D9797AA9D01A93GS    2016-12-01         34.9\n",
      "SKU with changing black price, use the latest price\n",
      "              sku_config snapshot_date  black_price\n",
      "145460  8313FAA7141F51GS    2017-01-05         29.9\n",
      "88109   8313FAA7141F51GS    2016-12-01         34.9\n",
      "SKU with changing black price, use the latest price\n",
      "              sku_config snapshot_date  black_price\n",
      "145461  E63D0AA86363C6GS    2017-01-05         29.9\n",
      "88110   E63D0AA86363C6GS    2016-12-01         34.9\n",
      "SKU with changing black price, use the latest price\n",
      "              sku_config snapshot_date  black_price\n",
      "143622  843CEAAC06DA6DGS    2017-01-04         54.9\n",
      "95073   843CEAAC06DA6DGS    2016-12-06         44.9\n",
      "SKU with changing black price, use the latest price\n",
      "            sku_config snapshot_date  black_price\n",
      "358110  RI009AA69ICCMY    2017-04-17         46.9\n",
      "105306  RI009AA69ICCMY    2016-12-13         64.9\n",
      "SKU with changing black price, use the latest price\n",
      "              sku_config snapshot_date  black_price\n",
      "219480  F08DBAABEACD4CGS    2017-02-15         34.9\n",
      "105336  F08DBAABEACD4CGS    2016-12-13         29.9\n",
      "SKU with changing black price, use the latest price\n",
      "              sku_config snapshot_date  black_price\n",
      "145639  B7FFDAA5E64624GS    2017-01-05         29.9\n",
      "108433  B7FFDAA5E64624GS    2016-12-15         34.9\n",
      "SKU with changing black price, use the latest price\n",
      "              sku_config snapshot_date  black_price\n",
      "145643  EBE50AA0230541GS    2017-01-05         29.9\n",
      "108437  EBE50AA0230541GS    2016-12-15         34.9\n",
      "SKU with changing black price, use the latest price\n",
      "              sku_config snapshot_date  black_price\n",
      "145645  5FD3BAAC5BC437GS    2017-01-05         29.9\n",
      "108439  5FD3BAAC5BC437GS    2016-12-15         34.9\n",
      "SKU with changing black price, use the latest price\n",
      "              sku_config snapshot_date  black_price\n",
      "145648  05BB6AA81CD952GS    2017-01-05         29.9\n",
      "108442  05BB6AA81CD952GS    2016-12-15         34.9\n",
      "SKU with changing black price, use the latest price\n",
      "              sku_config snapshot_date  black_price\n",
      "145649  47399AAA61C6FBGS    2017-01-05         29.9\n",
      "108443  47399AAA61C6FBGS    2016-12-15         34.9\n",
      "SKU with changing black price, use the latest price\n",
      "              sku_config snapshot_date  black_price\n",
      "145650  AF0FFAA9B58348GS    2017-01-05         29.9\n",
      "108444  AF0FFAA9B58348GS    2016-12-15         34.9\n",
      "SKU with changing black price, use the latest price\n",
      "              sku_config snapshot_date  black_price\n",
      "145658  81EADAA36C911FGS    2017-01-05         39.9\n",
      "108452  81EADAA36C911FGS    2016-12-15         44.9\n",
      "SKU with changing black price, use the latest price\n",
      "              sku_config snapshot_date  black_price\n",
      "145661  ADA2DAAF4D65F4GS    2017-01-05         39.9\n",
      "108455  ADA2DAAF4D65F4GS    2016-12-15         44.9\n",
      "SKU with changing black price, use the latest price\n",
      "              sku_config snapshot_date  black_price\n",
      "145664  C3891AA285DD6DGS    2017-01-05         29.9\n",
      "108458  C3891AA285DD6DGS    2016-12-15         34.9\n",
      "SKU with changing black price, use the latest price\n",
      "              sku_config snapshot_date  black_price\n",
      "145667  5A4F1AADC633E8GS    2017-01-05         39.9\n",
      "108461  5A4F1AADC633E8GS    2016-12-15         34.9\n",
      "SKU with changing black price, use the latest price\n",
      "              sku_config snapshot_date  black_price\n",
      "145670  87F19AA4BDA0ABGS    2017-01-05         29.9\n",
      "108464  87F19AA4BDA0ABGS    2016-12-15         34.9\n",
      "SKU with changing black price, use the latest price\n",
      "              sku_config snapshot_date  black_price\n",
      "145673  EF973AA221F627GS    2017-01-05         29.9\n",
      "108467  EF973AA221F627GS    2016-12-15         34.9\n",
      "SKU with changing black price, use the latest price\n",
      "              sku_config snapshot_date  black_price\n",
      "145676  34DDFAA3191163GS    2017-01-05         39.9\n",
      "108470  34DDFAA3191163GS    2016-12-15         44.9\n",
      "SKU with changing black price, use the latest price\n",
      "              sku_config snapshot_date  black_price\n",
      "145678  D813FAA6550DE6GS    2017-01-05         39.9\n",
      "108472  D813FAA6550DE6GS    2016-12-15         44.9\n",
      "SKU with changing black price, use the latest price\n",
      "              sku_config snapshot_date  black_price\n",
      "541051  72CC6AA2C3DEDBGS    2017-06-17     299000.0\n",
      "108486  72CC6AA2C3DEDBGS    2016-12-15         29.9\n",
      "SKU with changing black price, use the latest price\n",
      "              sku_config snapshot_date  black_price\n",
      "541073  BB61EAA5F4676BGS    2017-06-17     299000.0\n",
      "108488  BB61EAA5F4676BGS    2016-12-15         29.9\n",
      "SKU with changing black price, use the latest price\n",
      "              sku_config snapshot_date  black_price\n",
      "219669  D0D0EAA84543E2GS    2017-02-15         44.9\n",
      "120092  D0D0EAA84543E2GS    2016-12-22         39.9\n",
      "SKU with changing black price, use the latest price\n",
      "              sku_config snapshot_date  black_price\n",
      "219673  22272AACCDFB6EGS    2017-02-15         44.9\n",
      "120096  22272AACCDFB6EGS    2016-12-22         39.9\n",
      "SKU with changing black price, use the latest price\n",
      "              sku_config snapshot_date  black_price\n",
      "454304  C9524AADBB3A61GS    2017-05-25         34.9\n",
      "120121  C9524AADBB3A61GS    2016-12-22         29.9\n",
      "SKU with changing black price, use the latest price\n",
      "              sku_config snapshot_date  black_price\n",
      "454309  1A109AA89D93A2GS    2017-05-25         34.9\n",
      "120126  1A109AA89D93A2GS    2016-12-22         29.9\n",
      "SKU with changing black price, use the latest price\n",
      "              sku_config snapshot_date  black_price\n",
      "219712  A2172AA1003FF7GS    2017-02-15         39.9\n",
      "120135  A2172AA1003FF7GS    2016-12-22         34.9\n",
      "SKU with changing black price, use the latest price\n",
      "              sku_config snapshot_date  black_price\n",
      "219713  8D146AA4E64103GS    2017-02-15         39.9\n",
      "120136  8D146AA4E64103GS    2016-12-22         34.9\n",
      "SKU with changing black price, use the latest price\n",
      "              sku_config snapshot_date  black_price\n",
      "219715  5A8F9AAFAAACF7GS    2017-02-15         39.9\n",
      "120138  5A8F9AAFAAACF7GS    2016-12-22         34.9\n",
      "SKU with changing black price, use the latest price\n",
      "              sku_config snapshot_date  black_price\n",
      "219718  95C3DAA361DCC5GS    2017-02-15         39.9\n",
      "120141  95C3DAA361DCC5GS    2016-12-22         34.9\n",
      "SKU with changing black price, use the latest price\n",
      "              sku_config snapshot_date  black_price\n",
      "219722  903CBAAE18AF67GS    2017-02-15         34.9\n",
      "120145  903CBAAE18AF67GS    2016-12-22         29.9\n",
      "SKU with changing black price, use the latest price\n",
      "              sku_config snapshot_date  black_price\n",
      "454329  FDF6FAAE534FBDGS    2017-05-25         34.9\n",
      "120146  FDF6FAAE534FBDGS    2016-12-22         29.9\n",
      "SKU with changing black price, use the latest price\n",
      "              sku_config snapshot_date  black_price\n",
      "219785  FDA22AA357CFE5GS    2017-02-15         39.9\n",
      "129144  FDA22AA357CFE5GS    2016-12-27         34.9\n",
      "SKU with changing black price, use the latest price\n",
      "              sku_config snapshot_date  black_price\n",
      "828144  6E743AAEF92F5DGS    2017-07-21         24.9\n",
      "129145  6E743AAEF92F5DGS    2016-12-27         34.9\n",
      "SKU with changing black price, use the latest price\n",
      "              sku_config snapshot_date  black_price\n",
      "828179  30EA6AA7F9BAF1GS    2017-07-21         24.9\n",
      "134670  30EA6AA7F9BAF1GS    2016-12-30         39.9\n",
      "SKU with changing black price, use the latest price\n",
      "              sku_config snapshot_date  black_price\n",
      "828183  79BF4AAFB6584DGS    2017-07-21         24.9\n",
      "134674  79BF4AAFB6584DGS    2016-12-30         39.9\n",
      "SKU with changing black price, use the latest price\n",
      "              sku_config snapshot_date  black_price\n",
      "828190  87004AAE67C3D7GS    2017-07-21         24.9\n",
      "134681  87004AAE67C3D7GS    2016-12-30         34.9\n",
      "SKU with changing black price, use the latest price\n",
      "              sku_config snapshot_date  black_price\n",
      "219835  54164AA3EA089CGS    2017-02-15         74.9\n",
      "134684  54164AA3EA089CGS    2016-12-30         69.9\n",
      "SKU with changing black price, use the latest price\n",
      "              sku_config snapshot_date  black_price\n",
      "219836  54C73AA90DBBADGS    2017-02-15         74.9\n",
      "134685  54C73AA90DBBADGS    2016-12-30         69.9\n",
      "SKU with changing black price, use the latest price\n",
      "              sku_config snapshot_date  black_price\n",
      "219874  3A339AA91D0214GS    2017-02-15         34.9\n",
      "147876  3A339AA91D0214GS    2017-01-06         29.9\n",
      "SKU with changing black price, use the latest price\n",
      "              sku_config snapshot_date  black_price\n",
      "219885  18CFAAA355CC8CGS    2017-02-15         34.9\n",
      "147887  18CFAAA355CC8CGS    2017-01-06         29.9\n",
      "SKU with changing black price, use the latest price\n",
      "              sku_config snapshot_date  black_price\n",
      "219888  5B9D6AA6C9EBDFGS    2017-02-15         34.9\n",
      "147890  5B9D6AA6C9EBDFGS    2017-01-06         29.9\n",
      "SKU with changing black price, use the latest price\n",
      "              sku_config snapshot_date  black_price\n",
      "219889  6472AAACE5BFC0GS    2017-02-15         34.9\n",
      "147891  6472AAACE5BFC0GS    2017-01-06         29.9\n",
      "SKU with changing black price, use the latest price\n",
      "              sku_config snapshot_date  black_price\n",
      "219899  D75A3AAE952F82GS    2017-02-15         44.9\n",
      "147901  D75A3AAE952F82GS    2017-01-06         39.9\n",
      "SKU with changing black price, use the latest price\n",
      "              sku_config snapshot_date  black_price\n",
      "219900  B384CAA9A35C62GS    2017-02-15         34.9\n",
      "147902  B384CAA9A35C62GS    2017-01-06         29.9\n",
      "SKU with changing black price, use the latest price\n",
      "              sku_config snapshot_date  black_price\n",
      "219901  8B90AAAAA51FCFGS    2017-02-15         34.9\n",
      "147903  8B90AAAAA51FCFGS    2017-01-06         29.9\n",
      "SKU with changing black price, use the latest price\n",
      "              sku_config snapshot_date  black_price\n",
      "219905  0F155AA0F3D176GS    2017-02-15         34.9\n",
      "147907  0F155AA0F3D176GS    2017-01-06         29.9\n",
      "SKU with changing black price, use the latest price\n",
      "              sku_config snapshot_date  black_price\n",
      "828295  DEB67AA29D4710GS    2017-07-21         24.9\n",
      "541175  DEB67AA29D4710GS    2017-06-17        109.0\n",
      "159579  DEB67AA29D4710GS    2017-01-12         39.9\n",
      "SKU with changing black price, use the latest price\n",
      "              sku_config snapshot_date  black_price\n",
      "541195  FDE8FAA1482707GS    2017-06-17        109.0\n",
      "233115  FDE8FAA1482707GS    2017-02-22         44.9\n",
      "159583  FDE8FAA1482707GS    2017-01-12         39.9\n",
      "SKU with changing black price, use the latest price\n",
      "              sku_config snapshot_date  black_price\n",
      "541215  C2F8DAA3BF2CF2GS    2017-06-17        109.0\n",
      "159586  C2F8DAA3BF2CF2GS    2017-01-12         39.9\n",
      "SKU with changing black price, use the latest price\n",
      "              sku_config snapshot_date  black_price\n",
      "219947  BE0F2AA7D1FC26GS    2017-02-15         39.9\n",
      "159589  BE0F2AA7D1FC26GS    2017-01-12         34.9\n",
      "SKU with changing black price, use the latest price\n",
      "              sku_config snapshot_date  black_price\n",
      "233156  5208EAA93667A1GS    2017-02-22         29.9\n",
      "171497  5208EAA93667A1GS    2017-01-18         34.9\n",
      "SKU with changing black price, use the latest price\n",
      "              sku_config snapshot_date  black_price\n",
      "233160  C90A2AA47EACC5GS    2017-02-22         29.9\n",
      "171501  C90A2AA47EACC5GS    2017-01-18         34.9\n",
      "SKU with changing black price, use the latest price\n",
      "              sku_config snapshot_date  black_price\n",
      "200641  2DBE9AA2A432E4GS    2017-02-01         24.9\n",
      "171505  2DBE9AA2A432E4GS    2017-01-18         34.9\n",
      "SKU with changing black price, use the latest price\n",
      "              sku_config snapshot_date  black_price\n",
      "200642  E1801AA63F23CCGS    2017-02-01         24.9\n",
      "171506  E1801AA63F23CCGS    2017-01-18         34.9\n",
      "SKU with changing black price, use the latest price\n",
      "              sku_config snapshot_date  black_price\n",
      "543462  063B9AA4AC4954GS    2017-06-17     279000.0\n",
      "233169  063B9AA4AC4954GS    2017-02-22         34.9\n",
      "171510  063B9AA4AC4954GS    2017-01-18         29.9\n",
      "SKU with changing black price, use the latest price\n",
      "              sku_config snapshot_date  black_price\n",
      "454603  FE72BAA19BDB78GS    2017-05-25         34.9\n",
      "171512  FE72BAA19BDB78GS    2017-01-18         29.9\n",
      "SKU with changing black price, use the latest price\n",
      "              sku_config snapshot_date  black_price\n",
      "530012  AD9ABAA31B83EFGS    2017-06-16     299000.0\n",
      "250940  AD9ABAA31B83EFGS    2017-03-02         29.9\n",
      "171513  AD9ABAA31B83EFGS    2017-01-18         34.9\n",
      "SKU with changing black price, use the latest price\n",
      "              sku_config snapshot_date  black_price\n",
      "543488  D81A9AADC2318FGS    2017-06-17     299000.0\n",
      "250944  D81A9AADC2318FGS    2017-03-02         29.9\n",
      "171517  D81A9AADC2318FGS    2017-01-18         34.9\n",
      "SKU with changing black price, use the latest price\n",
      "              sku_config snapshot_date  black_price\n",
      "543510  EA03BAA937CE38GS    2017-06-17     299000.0\n",
      "250948  EA03BAA937CE38GS    2017-03-02         29.9\n",
      "171521  EA03BAA937CE38GS    2017-01-18         34.9\n",
      "SKU with changing black price, use the latest price\n",
      "              sku_config snapshot_date  black_price\n",
      "828368  36CB6AA13E27A0GS    2017-07-21         24.9\n",
      "266793  36CB6AA13E27A0GS    2017-03-09         34.9\n",
      "250952  36CB6AA13E27A0GS    2017-03-02         39.9\n",
      "171525  36CB6AA13E27A0GS    2017-01-18         44.9\n",
      "SKU with changing black price, use the latest price\n",
      "              sku_config snapshot_date  black_price\n",
      "828372  17593AA13385A2GS    2017-07-21         24.9\n",
      "266797  17593AA13385A2GS    2017-03-09         34.9\n",
      "250956  17593AA13385A2GS    2017-03-02         39.9\n",
      "171529  17593AA13385A2GS    2017-01-18         44.9\n",
      "SKU with changing black price, use the latest price\n",
      "              sku_config snapshot_date  black_price\n",
      "200670  5FA12AADD84C99GS    2017-02-01         29.9\n",
      "171534  5FA12AADD84C99GS    2017-01-18         34.9\n",
      "SKU with changing black price, use the latest price\n",
      "              sku_config snapshot_date  black_price\n",
      "200674  C9D26AAB3AD0FEGS    2017-02-01         29.9\n",
      "171538  C9D26AAB3AD0FEGS    2017-01-18         34.9\n",
      "SKU with changing black price, use the latest price\n",
      "              sku_config snapshot_date  black_price\n",
      "200679  271DDAAE85A940GS    2017-02-01         29.9\n",
      "171543  271DDAAE85A940GS    2017-01-18         34.9\n",
      "SKU with changing black price, use the latest price\n",
      "              sku_config snapshot_date  black_price\n",
      "233217  6C00BAAC1275C2GS    2017-02-22         39.9\n",
      "185967  6C00BAAC1275C2GS    2017-01-25         34.9\n",
      "SKU with changing black price, use the latest price\n",
      "              sku_config snapshot_date  black_price\n",
      "233218  72936AAFD40DBFGS    2017-02-22         44.9\n",
      "185968  72936AAFD40DBFGS    2017-01-25         39.9\n",
      "SKU with changing black price, use the latest price\n",
      "            sku_config snapshot_date  black_price\n",
      "358714  RI009AA18HAFMY    2017-04-17         80.9\n",
      "188051  RI009AA18HAFMY    2017-01-26        103.9\n",
      "SKU with changing black price, use the latest price\n",
      "              sku_config snapshot_date  black_price\n",
      "828443  D7010AA516537BGS    2017-07-21         24.9\n",
      "251027  D7010AA516537BGS    2017-03-02         64.9\n",
      "188082  D7010AA516537BGS    2017-01-26         69.9\n",
      "SKU with changing black price, use the latest price\n",
      "              sku_config snapshot_date  black_price\n",
      "266873  5BAABAA759961EGS    2017-03-09         44.9\n",
      "251032  5BAABAA759961EGS    2017-03-02         39.9\n",
      "202850  5BAABAA759961EGS    2017-02-02         34.9\n",
      "SKU with changing black price, use the latest price\n",
      "              sku_config snapshot_date  black_price\n",
      "266876  89101AA1DF0A59GS    2017-03-09         39.9\n",
      "251035  89101AA1DF0A59GS    2017-03-02         34.9\n",
      "202853  89101AA1DF0A59GS    2017-02-02         29.9\n",
      "SKU with changing black price, use the latest price\n",
      "              sku_config snapshot_date  black_price\n",
      "251049  8833BAA7B6A890GS    2017-03-02         54.9\n",
      "202867  8833BAA7B6A890GS    2017-02-02         49.9\n",
      "SKU with changing black price, use the latest price\n",
      "              sku_config snapshot_date  black_price\n",
      "251050  64EE5AAE1C3D4DGS    2017-03-02         64.9\n",
      "204995  64EE5AAE1C3D4DGS    2017-02-06         59.9\n",
      "SKU with changing black price, use the latest price\n",
      "              sku_config snapshot_date  black_price\n",
      "828473  FFEC9AA80B256CGS    2017-07-21         24.9\n",
      "205002  FFEC9AA80B256CGS    2017-02-06         34.9\n",
      "SKU with changing black price, use the latest price\n",
      "            sku_config snapshot_date  black_price\n",
      "358793  RI009AA98KPHMY    2017-04-17         95.9\n",
      "205020  RI009AA98KPHMY    2017-02-06        121.9\n",
      "SKU with changing black price, use the latest price\n",
      "              sku_config snapshot_date  black_price\n",
      "828493  FDC98AA20A307AGS    2017-07-21         24.9\n",
      "217946  FDC98AA20A307AGS    2017-02-14         34.9\n",
      "SKU with changing black price, use the latest price\n",
      "              sku_config snapshot_date  black_price\n",
      "828500  30C0DAA6031198GS    2017-07-21         24.9\n",
      "217953  30C0DAA6031198GS    2017-02-14         39.9\n",
      "SKU with changing black price, use the latest price\n",
      "              sku_config snapshot_date  black_price\n",
      "828504  5F03EAA86722E9GS    2017-07-21         24.9\n",
      "217957  5F03EAA86722E9GS    2017-02-14         39.9\n",
      "SKU with changing black price, use the latest price\n",
      "              sku_config snapshot_date  black_price\n",
      "399705  80C84AA3CFB074GS    2017-05-04         34.9\n",
      "217961  80C84AA3CFB074GS    2017-02-14         39.9\n",
      "SKU with changing black price, use the latest price\n",
      "              sku_config snapshot_date  black_price\n",
      "828528  22DC6AAB149835GS    2017-07-21         24.9\n",
      "228926  22DC6AAB149835GS    2017-02-20         34.9\n",
      "SKU with changing black price, use the latest price\n",
      "              sku_config snapshot_date  black_price\n",
      "828541  C0CD4AAC61C59DGS    2017-07-21         24.9\n",
      "231136  C0CD4AAC61C59DGS    2017-02-21         34.9\n",
      "SKU with changing black price, use the latest price\n",
      "              sku_config snapshot_date  black_price\n",
      "828546  19527AA582626CGS    2017-07-21         24.9\n",
      "231141  19527AA582626CGS    2017-02-21         34.9\n",
      "SKU with changing black price, use the latest price\n",
      "              sku_config snapshot_date  black_price\n",
      "828550  A037AAA9527430GS    2017-07-21         24.9\n",
      "231145  A037AAA9527430GS    2017-02-21         34.9\n",
      "SKU with changing black price, use the latest price\n",
      "              sku_config snapshot_date  black_price\n",
      "828555  7617FAA215A220GS    2017-07-21         24.9\n",
      "231150  7617FAA215A220GS    2017-02-21         34.9\n",
      "SKU with changing black price, use the latest price\n",
      "              sku_config snapshot_date  black_price\n",
      "828674  EC20FAA5C0C382GS    2017-07-21         24.9\n",
      "366173  EC20FAA5C0C382GS    2017-04-20         29.9\n",
      "295067  EC20FAA5C0C382GS    2017-03-21         34.9\n",
      "SKU with changing black price, use the latest price\n",
      "              sku_config snapshot_date  black_price\n",
      "828684  55C05AA3B7EBABGS    2017-07-21         24.9\n",
      "295077  55C05AA3B7EBABGS    2017-03-21         34.9\n",
      "SKU with changing black price, use the latest price\n",
      "            sku_config snapshot_date  black_price\n",
      "385457  WA800AA89RTEMY    2017-04-28         89.9\n",
      "349424  WA800AA89RTEMY    2017-04-13        159.0\n",
      "SKU with changing black price, use the latest price\n",
      "            sku_config snapshot_date  black_price\n",
      "385458  WA800AA88RTFMY    2017-04-28        149.0\n",
      "349425  WA800AA88RTFMY    2017-04-13         59.9\n",
      "SKU with changing black price, use the latest price\n",
      "            sku_config snapshot_date  black_price\n",
      "446924  TO412AA89DDIMY    2017-05-22         83.9\n",
      "412543  TO412AA89DDIMY    2017-05-09         89.9\n",
      "SKU with changing black price, use the latest price\n",
      "            sku_config snapshot_date  black_price\n",
      "469535  WA800AA04FATMY    2017-05-30         99.9\n",
      "420195  WA800AA04FATMY    2017-05-12        100.0\n",
      "SKU with changing black price, use the latest price\n",
      "            sku_config snapshot_date  black_price\n",
      "469631  MI665AA23HNKMY    2017-05-30         99.9\n",
      "433496  MI665AA23HNKMY    2017-05-17        100.0\n",
      "SKU with changing black price, use the latest price\n",
      "            sku_config snapshot_date  black_price\n",
      "469710  WA653AA69LDUMY    2017-05-30         99.9\n",
      "452571  WA653AA69LDUMY    2017-05-24        100.0\n",
      "SKU with changing black price, use the latest price\n",
      "            sku_config snapshot_date  black_price\n",
      "469716  WA653AA68LDVMY    2017-05-30         89.9\n",
      "452577  WA653AA68LDVMY    2017-05-24         90.0\n",
      "SKU with changing black price, use the latest price\n",
      "            sku_config snapshot_date  black_price\n",
      "469735  MI665AA83LSQMY    2017-05-30         59.9\n",
      "455351  MI665AA83LSQMY    2017-05-25         60.0\n",
      "SKU with changing black price, use the latest price\n",
      "            sku_config snapshot_date  black_price\n",
      "469741  MI665AA82LSRMY    2017-05-30         49.9\n",
      "455357  MI665AA82LSRMY    2017-05-25         50.0\n",
      "SKU with changing black price, use the latest price\n",
      "            sku_config snapshot_date  black_price\n",
      "469747  MI665AA81LSSMY    2017-05-30         69.9\n",
      "455363  MI665AA81LSSMY    2017-05-25         70.0\n",
      "SKU with changing black price, use the latest price\n",
      "            sku_config snapshot_date  black_price\n",
      "612946  TO412AA88SBVMY    2017-06-22         69.9\n",
      "501308  TO412AA88SBVMY    2017-06-09         79.9\n",
      "SKU with changing black price, use the latest price\n",
      "            sku_config snapshot_date  black_price\n",
      "600750  NB515AA94ZMVTW    2017-06-22       2283.0\n",
      "522783  NB515AA94ZMVTW    2017-06-16       2473.0\n",
      "SKU with changing black price, use the latest price\n",
      "            sku_config snapshot_date  black_price\n",
      "523395  UN097SH69UOGMY    2017-06-16       1249.0\n",
      "524041  UN097SH69UOGMY    2017-06-16        100.0\n",
      "SKU with changing black price, use the latest price\n",
      "              sku_config snapshot_date  black_price\n",
      "533770  AMNLCSH0000011GS    2017-06-17     349000.0\n",
      "523856  AMNLCSH0000011GS    2017-06-16       1299.0\n",
      "SKU with changing black price, use the latest price\n",
      "            sku_config snapshot_date  black_price\n",
      "523997  MO240KA76PNFMY    2017-06-16        119.0\n",
      "524000  MO240KA76PNFMY    2017-06-16        139.0\n",
      "SKU with changing black price, use the latest price\n",
      "            sku_config snapshot_date  black_price\n",
      "535190  BI854AA99YIAMY    2017-06-17        589.0\n",
      "524237  BI854AA99YIAMY    2017-06-16       6999.0\n",
      "SKU with changing black price, use the latest price\n",
      "            sku_config snapshot_date  black_price\n",
      "535523  FI826AA91BOYMY    2017-06-17         99.9\n",
      "524349  FI826AA91BOYMY    2017-06-16       1249.0\n",
      "SKU with changing black price, use the latest price\n",
      "              sku_config snapshot_date  black_price\n",
      "535941  APPSNSH0000038GS    2017-06-17         89.0\n",
      "524460  APPSNSH0000038GS    2017-06-16        999.0\n",
      "SKU with changing black price, use the latest price\n",
      "              sku_config snapshot_date  black_price\n",
      "533943  ANCRVZZ0000096GS    2017-06-17     279000.0\n",
      "524525  ANCRVZZ0000096GS    2017-06-16         79.0\n",
      "SKU with changing black price, use the latest price\n",
      "            sku_config snapshot_date  black_price\n",
      "524608  17705AA96MXBID    2017-06-16     250000.0\n",
      "524613  17705AA96MXBID    2017-06-16     275000.0\n",
      "SKU with changing black price, use the latest price\n",
      "            sku_config snapshot_date  black_price\n",
      "536070  MI511AA29IXQMY    2017-06-17        159.0\n",
      "524767  MI511AA29IXQMY    2017-06-16       1949.0\n",
      "SKU with changing black price, use the latest price\n",
      "              sku_config snapshot_date  black_price\n",
      "536327  APTWDSH0000040GS    2017-06-17         69.0\n",
      "524885  APTWDSH0000040GS    2017-06-16        799.0\n",
      "SKU with changing black price, use the latest price\n",
      "              sku_config snapshot_date  black_price\n",
      "536341  APTWMSH0000031GS    2017-06-17         89.0\n",
      "524900  APTWMSH0000031GS    2017-06-16       1299.0\n",
      "SKU with changing black price, use the latest price\n",
      "              sku_config snapshot_date  black_price\n",
      "536352  APTWPSH0000028GS    2017-06-17         89.0\n",
      "524904  APTWPSH0000028GS    2017-06-16       1299.0\n",
      "SKU with changing black price, use the latest price\n",
      "              sku_config snapshot_date  black_price\n",
      "536403  AQEJTSH0000026GS    2017-06-17        129.0\n",
      "524909  AQEJTSH0000026GS    2017-06-16       1499.0\n",
      "SKU with changing black price, use the latest price\n",
      "            sku_config snapshot_date  black_price\n",
      "524926  LE798AA81GKSPH    2017-06-16        819.0\n",
      "524932  LE798AA81GKSPH    2017-06-16        839.0\n",
      "SKU with changing black price, use the latest price\n",
      "            sku_config snapshot_date  black_price\n",
      "524936  LE798AA79GKUPH    2017-06-16        769.0\n",
      "524938  LE798AA79GKUPH    2017-06-16        829.0\n",
      "SKU with changing black price, use the latest price\n",
      "            sku_config snapshot_date  black_price\n",
      "524944  LE798AA75GKYPH    2017-06-16        839.0\n",
      "524948  LE798AA75GKYPH    2017-06-16        879.0\n",
      "SKU with changing black price, use the latest price\n",
      "            sku_config snapshot_date  black_price\n",
      "524950  LE798AA74GKZPH    2017-06-16        809.0\n",
      "524954  LE798AA74GKZPH    2017-06-16        829.0\n",
      "SKU with changing black price, use the latest price\n",
      "              sku_config snapshot_date  black_price\n",
      "536515  AQLTCAA0000051GS    2017-06-17     179000.0\n",
      "525244  AQLTCAA0000051GS    2017-06-16        549.0\n",
      "SKU with changing black price, use the latest price\n",
      "            sku_config snapshot_date  black_price\n",
      "537139  LU723AA84MRFMY    2017-06-17         79.0\n",
      "525649  LU723AA84MRFMY    2017-06-16       1049.0\n",
      "SKU with changing black price, use the latest price\n",
      "            sku_config snapshot_date  black_price\n",
      "717362  OL001BE54EKVPH    2017-06-30        212.0\n",
      "526063  OL001BE54EKVPH    2017-06-16        205.0\n",
      "SKU with changing black price, use the latest price\n",
      "            sku_config snapshot_date  black_price\n",
      "717366  OL001BE49ELAPH    2017-06-30        308.0\n",
      "526066  OL001BE49ELAPH    2017-06-16        299.0\n",
      "SKU with changing black price, use the latest price\n",
      "            sku_config snapshot_date  black_price\n",
      "538264  SE364AA35RMAMY    2017-06-17     422000.0\n",
      "526287  SE364AA35RMAMY    2017-06-16       1399.0\n",
      "SKU with changing black price, use the latest price\n",
      "            sku_config snapshot_date  black_price\n",
      "538215  GI282SH36BFVMY    2017-06-17        224.8\n",
      "526415  GI282SH36BFVMY    2017-06-16       2599.0\n",
      "SKU with changing black price, use the latest price\n",
      "            sku_config snapshot_date  black_price\n",
      "538230  GI282SH34BFXMY    2017-06-17        224.8\n",
      "526418  GI282SH34BFXMY    2017-06-16       2599.0\n",
      "SKU with changing black price, use the latest price\n",
      "            sku_config snapshot_date  black_price\n",
      "538239  GI282SH33BFYMY    2017-06-17        260.8\n",
      "526424  GI282SH33BFYMY    2017-06-16       3049.0\n",
      "SKU with changing black price, use the latest price\n",
      "            sku_config snapshot_date  black_price\n",
      "526432  GI282SH30BGBMY    2017-06-16       3999.0\n",
      "526871  GI282SH30BGBMY    2017-06-16        337.3\n",
      "SKU with changing black price, use the latest price\n",
      "            sku_config snapshot_date  black_price\n",
      "538255  GI282SH29BGCMY    2017-06-17        364.3\n",
      "526438  GI282SH29BGCMY    2017-06-16       4249.0\n",
      "SKU with changing black price, use the latest price\n",
      "            sku_config snapshot_date  black_price\n",
      "538266  GI282SH28BGDMY    2017-06-17        296.8\n",
      "526443  GI282SH28BGDMY    2017-06-16       3499.0\n",
      "SKU with changing black price, use the latest price\n",
      "            sku_config snapshot_date  black_price\n",
      "538283  GI282SH27BGEMY    2017-06-17        242.8\n",
      "526452  GI282SH27BGEMY    2017-06-16       2849.0\n",
      "SKU with changing black price, use the latest price\n",
      "            sku_config snapshot_date  black_price\n",
      "527479  DE368AA10UMRMY    2017-06-16       3549.0\n",
      "527748  DE368AA10UMRMY    2017-06-16    1095900.0\n",
      "SKU with changing black price, use the latest price\n",
      "            sku_config snapshot_date  black_price\n",
      "539689  DE368AA09UMSMY    2017-06-17     604900.0\n",
      "527489  DE368AA09UMSMY    2017-06-16       2049.0\n",
      "SKU with changing black price, use the latest price\n",
      "            sku_config snapshot_date  black_price\n",
      "539705  DE368AA08UMTMY    2017-06-17     765900.0\n",
      "527500  DE368AA08UMTMY    2017-06-16       2449.0\n",
      "SKU with changing black price, use the latest price\n",
      "            sku_config snapshot_date  black_price\n",
      "622913  GR688AC09KXUPH    2017-06-23        695.0\n",
      "539633  GR688AC09KXUPH    2017-06-17        795.0\n",
      "527719  GR688AC09KXUPH    2017-06-16        895.0\n",
      "SKU with changing black price, use the latest price\n",
      "            sku_config snapshot_date  black_price\n",
      "528246  GU661AA50PCRPH    2017-06-16       299.75\n",
      "528253  GU661AA50PCRPH    2017-06-16       319.75\n",
      "528256  GU661AA50PCRPH    2017-06-16       339.75\n",
      "528260  GU661AA50PCRPH    2017-06-16       349.75\n",
      "SKU with changing black price, use the latest price\n",
      "            sku_config snapshot_date  black_price\n",
      "600740  NB515AA96ZMTTW    2017-06-22       2283.0\n",
      "531347  NB515AA96ZMTTW    2017-06-17       2473.0\n",
      "SKU with changing black price, use the latest price\n",
      "            sku_config snapshot_date  black_price\n",
      "600753  NB515AA88ZNBTW    2017-06-22       2283.0\n",
      "531360  NB515AA88ZNBTW    2017-06-17       2473.0\n",
      "SKU with changing black price, use the latest price\n",
      "            sku_config snapshot_date  black_price\n",
      "600755  NB515AA32ZPFTW    2017-06-22       1631.0\n",
      "531367  NB515AA32ZPFTW    2017-06-17       1766.0\n",
      "SKU with changing black price, use the latest price\n",
      "            sku_config snapshot_date  black_price\n",
      "600763  NB515AA01ZQKTW    2017-06-22       1957.0\n",
      "531372  NB515AA01ZQKTW    2017-06-17       2120.0\n",
      "SKU with changing black price, use the latest price\n",
      "            sku_config snapshot_date  black_price\n",
      "600769  NB515AA98ZQNTW    2017-06-22       1817.0\n",
      "531375  NB515AA98ZQNTW    2017-06-17       1968.0\n",
      "SKU with changing black price, use the latest price\n",
      "            sku_config snapshot_date  black_price\n",
      "755921  EL712SH53TOWID    2017-07-03    1999000.0\n",
      "533806  EL712SH53TOWID    2017-06-17     999000.0\n",
      "SKU with changing black price, use the latest price\n",
      "            sku_config snapshot_date  black_price\n",
      "537976  NI126SH57ZNUMY    2017-06-17       519.72\n",
      "537979  NI126SH57ZNUMY    2017-06-17       532.87\n",
      "SKU with changing black price, use the latest price\n",
      "            sku_config snapshot_date  black_price\n",
      "538027  NE182AC69BIKMY    2017-06-17     219000.0\n",
      "538315  NE182AC69BIKMY    2017-06-17         55.0\n",
      "SKU with changing black price, use the latest price\n",
      "            sku_config snapshot_date  black_price\n",
      "761936  HU342SH14TKJID    2017-07-03    1399000.0\n",
      "539818  HU342SH14TKJID    2017-06-17     300000.0\n",
      "SKU with changing black price, use the latest price\n",
      "            sku_config snapshot_date  black_price\n",
      "762017  HU342SH02TKVID    2017-07-03     999000.0\n",
      "539899  HU342SH02TKVID    2017-06-17     499500.0\n"
     ]
    }
   ],
   "source": [
    "all_configs = group_df.sku_config.dropna().unique()\n",
    "black_prices = query_black_price(configs=all_configs, group_df=group_df)"
   ]
  },
  {
   "cell_type": "code",
   "execution_count": 416,
   "metadata": {
    "ExecuteTime": {
     "end_time": "2017-11-13T17:46:54.556405Z",
     "start_time": "2017-11-13T17:46:54.187051Z"
    },
    "collapsed": false
   },
   "outputs": [
    {
     "name": "stdout",
     "output_type": "stream",
     "text": [
      "<class 'pandas.core.frame.DataFrame'>\n",
      "RangeIndex: 276768 entries, 0 to 276767\n",
      "Data columns (total 6 columns):\n",
      "sku_config           276677 non-null object\n",
      "snapshot_date        276768 non-null object\n",
      "current_price        276768 non-null float64\n",
      "discount_from_rrp    276768 non-null float64\n",
      "n_competitor         276768 non-null int64\n",
      "rel_price            276768 non-null float64\n",
      "dtypes: float64(3), int64(1), object(2)\n",
      "memory usage: 12.7+ MB\n"
     ]
    }
   ],
   "source": [
    "gid = ('dresses', 'female', 'autumn-winter')\n",
    "gname = '_'.join(list(gid))\n",
    "fname = feat_dir + gname + '.csv'\n",
    "\n",
    "feat_mat = pd.read_csv(fname)\n",
    "feat_mat.info()"
   ]
  },
  {
   "cell_type": "code",
   "execution_count": 417,
   "metadata": {
    "ExecuteTime": {
     "end_time": "2017-11-13T17:47:08.937882Z",
     "start_time": "2017-11-13T17:47:08.857982Z"
    },
    "collapsed": false
   },
   "outputs": [],
   "source": [
    "feat_mat.dropna(subset=['sku_config'], inplace=True)\n",
    "feat_mat = feat_mat.merge(black_prices)"
   ]
  },
  {
   "cell_type": "code",
   "execution_count": 418,
   "metadata": {
    "ExecuteTime": {
     "end_time": "2017-11-13T17:47:27.239696Z",
     "start_time": "2017-11-13T17:47:27.168509Z"
    },
    "collapsed": true
   },
   "outputs": [
    {
     "name": "stdout",
     "output_type": "stream",
     "text": [
      "<class 'pandas.core.frame.DataFrame'>\n",
      "Int64Index: 276677 entries, 0 to 276676\n",
      "Data columns (total 7 columns):\n",
      "sku_config           276677 non-null object\n",
      "snapshot_date        276677 non-null object\n",
      "current_price        276677 non-null float64\n",
      "discount_from_rrp    276677 non-null float64\n",
      "n_competitor         276677 non-null int64\n",
      "rel_price            276677 non-null float64\n",
      "black_price          276677 non-null float64\n",
      "dtypes: float64(4), int64(1), object(2)\n",
      "memory usage: 16.9+ MB\n"
     ]
    }
   ],
   "source": [
    "feat_mat.info()"
   ]
  },
  {
   "cell_type": "code",
   "execution_count": 419,
   "metadata": {
    "ExecuteTime": {
     "end_time": "2017-11-13T17:47:54.783085Z",
     "start_time": "2017-11-13T17:47:53.880263Z"
    },
    "collapsed": true
   },
   "outputs": [],
   "source": [
    "feat_mat.to_csv(fname, index=False)"
   ]
  },
  {
   "cell_type": "markdown",
   "metadata": {
    "heading_collapsed": true
   },
   "source": [
    "## Examine solution of LPs"
   ]
  },
  {
   "cell_type": "code",
   "execution_count": null,
   "metadata": {
    "ExecuteTime": {
     "end_time": "2017-10-31T12:02:26.193479Z",
     "start_time": "2017-10-31T12:02:26.184052Z"
    },
    "code_folding": [
     0
    ],
    "collapsed": false,
    "hidden": true
   },
   "outputs": [],
   "source": [
    "def show_sol_info(prob):\n",
    "    numrows = prob.linear_constraints.get_num()\n",
    "    numcols = prob.variables.get_num()\n",
    "    print()\n",
    "    # solution.get_status() returns an integer code\n",
    "    print(\"Solution status = \", prob.solution.get_status(), \":\", end=' ')\n",
    "    # which is used to print the corresponding string\n",
    "    print(prob.solution.status[prob.solution.get_status()])\n",
    "\n",
    "    print(\"Solution value  = \", prob.solution.get_objective_value())\n",
    "    slack = prob.solution.get_linear_slacks()\n",
    "    pi = prob.solution.get_dual_values()\n",
    "    x = prob.solution.get_values()\n",
    "    dj = prob.solution.get_reduced_costs()\n",
    "    for i in range(numrows):\n",
    "        print(\"Row %d:  Slack = %10f  Pi = %10f\" % (i, slack[i], pi[i]))\n",
    "    for j in range(numcols):\n",
    "        print(\"Column %d:  Value = %10f Reduced cost = %10f\" %\n",
    "              (j, x[j], dj[j]))"
   ]
  },
  {
   "cell_type": "markdown",
   "metadata": {
    "heading_collapsed": true
   },
   "source": [
    "## Old codes"
   ]
  },
  {
   "cell_type": "code",
   "execution_count": 42,
   "metadata": {
    "ExecuteTime": {
     "end_time": "2017-11-09T17:38:57.560605Z",
     "start_time": "2017-11-09T17:38:57.552524Z"
    },
    "collapsed": true,
    "hidden": true
   },
   "outputs": [],
   "source": [
    "predictions = demand_predictor.predict_by_xgb(best_xgb, test_df)"
   ]
  },
  {
   "cell_type": "code",
   "execution_count": null,
   "metadata": {
    "ExecuteTime": {
     "end_time": "2017-11-06T15:20:23.073633Z",
     "start_time": "2017-11-06T15:20:23.018757Z"
    },
    "code_folding": [
     0
    ],
    "collapsed": false,
    "hidden": true
   },
   "outputs": [],
   "source": [
    "# use all models\n",
    "# predictions = demand_predictor.predict(best_models, test_df)\n",
    "# print(demand_predictor.sort_models_by_test_rmse())"
   ]
  }
 ],
 "metadata": {
  "kernelspec": {
   "display_name": "Python 2",
   "language": "python",
   "name": "python2"
  },
  "language_info": {
   "codemirror_mode": {
    "name": "ipython",
    "version": 2
   },
   "file_extension": ".py",
   "mimetype": "text/x-python",
   "name": "python",
   "nbconvert_exporter": "python",
   "pygments_lexer": "ipython2",
   "version": "2.7.13"
  },
  "toc": {
   "colors": {
    "hover_highlight": "#DAA520",
    "navigate_num": "#000000",
    "navigate_text": "#333333",
    "running_highlight": "#FF0000",
    "selected_highlight": "#FFD700",
    "sidebar_border": "#EEEEEE",
    "wrapper_background": "#FFFFFF"
   },
   "moveMenuLeft": true,
   "nav_menu": {
    "height": "12px",
    "width": "252px"
   },
   "navigate_menu": true,
   "number_sections": true,
   "sideBar": true,
   "threshold": 4,
   "toc_cell": false,
   "toc_position": {
    "height": "599px",
    "left": "0px",
    "right": "885.143px",
    "top": "106px",
    "width": "212px"
   },
   "toc_section_display": "block",
   "toc_window_display": true,
   "widenNotebook": false
  },
  "varInspector": {
   "cols": {
    "lenName": 16,
    "lenType": 16,
    "lenVar": 40
   },
   "kernels_config": {
    "python": {
     "delete_cmd_postfix": "",
     "delete_cmd_prefix": "del ",
     "library": "var_list.py",
     "varRefreshCmd": "print(var_dic_list())"
    },
    "r": {
     "delete_cmd_postfix": ") ",
     "delete_cmd_prefix": "rm(",
     "library": "var_list.r",
     "varRefreshCmd": "cat(var_dic_list()) "
    }
   },
   "types_to_exclude": [
    "module",
    "function",
    "builtin_function_or_method",
    "instance",
    "_Feature"
   ],
   "window_display": false
  }
 },
 "nbformat": 4,
 "nbformat_minor": 2
}
