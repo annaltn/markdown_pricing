{
 "cells": [
  {
   "cell_type": "markdown",
   "metadata": {},
   "source": [
    "We perform demand predictions for __SKU configs within groups__ (determined by [sub-category, gender, season], e.g., [shirts, male, spring-summer] is a group). We currently have 700+ such groups in our data. However, 25% of groups have less than 5 configs, too few data, and half of them have less than 20 configs (see stats + histogram). Thus, we will first look at the more interesting upper half of groups, where each group has at least 20 configs."
   ]
  },
  {
   "cell_type": "code",
   "execution_count": 1,
   "metadata": {
    "ExecuteTime": {
     "end_time": "2017-11-22T15:53:32.891737Z",
     "start_time": "2017-11-22T15:53:31.957614Z"
    },
    "code_folding": [
     0
    ],
    "collapsed": false,
    "init_cell": true
   },
   "outputs": [],
   "source": [
    "# load std modules\n",
    "import pandas as pd\n",
    "import numpy as np\n",
    "import matplotlib.pyplot as pl\n",
    "\n",
    "import xgboost as xgb\n",
    "from sklearn import linear_model\n",
    "from sklearn.ensemble import GradientBoostingRegressor, RandomForestRegressor\n",
    "from sklearn.metrics import mean_squared_error\n",
    "from sklearn.model_selection import GridSearchCV, TimeSeriesSplit\n",
    "\n",
    "from matplotlib.pyplot import Line2D"
   ]
  },
  {
   "cell_type": "code",
   "execution_count": 2,
   "metadata": {
    "ExecuteTime": {
     "end_time": "2017-11-22T15:53:32.897711Z",
     "start_time": "2017-11-22T15:53:32.893633Z"
    },
    "code_folding": [],
    "collapsed": true,
    "init_cell": true
   },
   "outputs": [],
   "source": [
    "# various dirs\n",
    "DAT_DIR = '/Users/gfg/data/venture=Zalora/sg/'\n",
    "CLEAN_DIR = DAT_DIR + 'clean/'; FIG_DIR = DAT_DIR + 'fig/'\n",
    "GROUP_DIR = CLEAN_DIR + 'groups/'; FEAT_DIR = GROUP_DIR + 'feats/'"
   ]
  },
  {
   "cell_type": "markdown",
   "metadata": {
    "heading_collapsed": true
   },
   "source": [
    "### Distribution of group sizes"
   ]
  },
  {
   "cell_type": "code",
   "execution_count": 19,
   "metadata": {
    "ExecuteTime": {
     "end_time": "2017-09-26T10:23:57.520757Z",
     "start_time": "2017-09-26T10:23:57.515242Z"
    },
    "code_folding": [
     0
    ],
    "collapsed": true,
    "hidden": true
   },
   "outputs": [],
   "source": [
    "def size_hist(group_df):\n",
    "    pl.figure(figsize = (10, 5))\n",
    "    pl.hist(group_df['n_config'], bins=50)\n",
    "    ax = pl.gca()\n",
    "    ax.minorticks_on()\n",
    "    pl.xlabel('# configs in group'); pl.ylabel('# groups')\n",
    "    pl.grid(True, ls='--')\n",
    "    pl.savefig(FIG_DIR + 'group_size_hist.pdf')\n",
    "    pl.show(); pl.close()"
   ]
  },
  {
   "cell_type": "code",
   "execution_count": 20,
   "metadata": {
    "ExecuteTime": {
     "end_time": "2017-09-26T10:23:57.580862Z",
     "start_time": "2017-09-26T10:23:57.522333Z"
    },
    "collapsed": true,
    "hidden": true
   },
   "outputs": [
    {
     "data": {
      "text/plain": [
       "count     724.000000\n",
       "mean      103.056630\n",
       "std       272.492442\n",
       "min         1.000000\n",
       "25%         4.000000\n",
       "50%        19.000000\n",
       "75%        86.000000\n",
       "max      3305.000000\n",
       "Name: n_config, dtype: float64"
      ]
     },
     "execution_count": 20,
     "metadata": {},
     "output_type": "execute_result"
    }
   ],
   "source": [
    "group_df = pd.read_csv(CLEAN_DIR + 'groups.csv')\n",
    "group_df.n_config.describe()"
   ]
  },
  {
   "cell_type": "code",
   "execution_count": 21,
   "metadata": {
    "ExecuteTime": {
     "end_time": "2017-09-26T10:23:58.177686Z",
     "start_time": "2017-09-26T10:23:57.582556Z"
    },
    "collapsed": true,
    "hidden": true
   },
   "outputs": [
    {
     "data": {
      "image/png": "[encoded data removed]",
      "text/plain": [
       "<matplotlib.figure.Figure at 0x1540e9550>"
      ]
     },
     "metadata": {},
     "output_type": "display_data"
    }
   ],
   "source": [
    "size_hist(group_df)"
   ]
  },
  {
   "cell_type": "markdown",
   "metadata": {
    "hidden": true
   },
   "source": [
    "Each group is associated with one feature matrix, which is composed from __global__ features (e.g. color/size/brand popularities) and __group__ features (e.g. price, discount, relative price,...)."
   ]
  },
  {
   "cell_type": "markdown",
   "metadata": {
    "heading_collapsed": true
   },
   "source": [
    "# Loading data"
   ]
  },
  {
   "cell_type": "markdown",
   "metadata": {
    "heading_collapsed": true,
    "hidden": true
   },
   "source": [
    "## Responses"
   ]
  },
  {
   "cell_type": "code",
   "execution_count": 3,
   "metadata": {
    "ExecuteTime": {
     "end_time": "2017-11-22T15:53:33.340612Z",
     "start_time": "2017-11-22T15:53:32.899603Z"
    },
    "collapsed": true,
    "hidden": true,
    "init_cell": true
   },
   "outputs": [],
   "source": [
    "demand_df = pd.read_csv(CLEAN_DIR + 'demand_config.csv', parse_dates=['ordered_date'])\n",
    "demand_df['date'] = demand_df['ordered_date']"
   ]
  },
  {
   "cell_type": "markdown",
   "metadata": {
    "heading_collapsed": true,
    "hidden": true
   },
   "source": [
    "## Global feats"
   ]
  },
  {
   "cell_type": "code",
   "execution_count": 4,
   "metadata": {
    "ExecuteTime": {
     "end_time": "2017-11-22T15:53:33.346548Z",
     "start_time": "2017-11-22T15:53:33.342476Z"
    },
    "code_folding": [
     0
    ],
    "collapsed": false,
    "hidden": true,
    "init_cell": true
   },
   "outputs": [],
   "source": [
    "def load_global_feat(yr):\n",
    "    fname = CLEAN_DIR + '{}/'.format(yr) + 'glob_feat.csv'\n",
    "    print('Loading global feature matrix in year {0} from {1}...'.format(yr, fname))\n",
    "    glob_X = pd.read_csv(fname, parse_dates=['date'])\n",
    "    return glob_X"
   ]
  },
  {
   "cell_type": "code",
   "execution_count": 51,
   "metadata": {
    "ExecuteTime": {
     "end_time": "2017-11-21T11:50:32.582916Z",
     "start_time": "2017-11-21T11:50:02.511338Z"
    },
    "collapsed": false,
    "hidden": true
   },
   "outputs": [
    {
     "name": "stdout",
     "output_type": "stream",
     "text": [
      "Loading global feature matrix in year 2017 from /Users/gfg/data/venture=Zalora/sg/clean/2017/glob_feat.csv...\n"
     ]
    },
    {
     "ename": "NameError",
     "evalue": "name 'yr' is not defined",
     "output_type": "error",
     "traceback": [
      "\u001b[0;31m---------------------------------------------------------------------------\u001b[0m",
      "\u001b[0;31mNameError\u001b[0m                                 Traceback (most recent call last)",
      "\u001b[0;32m<ipython-input-51-6c312592cc11>\u001b[0m in \u001b[0;36m<module>\u001b[0;34m()\u001b[0m\n\u001b[1;32m      1\u001b[0m \u001b[0mglob_X\u001b[0m \u001b[0;34m=\u001b[0m \u001b[0mload_global_feat\u001b[0m\u001b[0;34m(\u001b[0m\u001b[0myr\u001b[0m\u001b[0;34m=\u001b[0m\u001b[0;36m2017\u001b[0m\u001b[0;34m)\u001b[0m\u001b[0;34m\u001b[0m\u001b[0m\n\u001b[0;32m----> 2\u001b[0;31m \u001b[0;32mprint\u001b[0m\u001b[0;34m(\u001b[0m\u001b[0;34m'Info on global feature matrix in year {}:'\u001b[0m\u001b[0;34m.\u001b[0m\u001b[0mformat\u001b[0m\u001b[0;34m(\u001b[0m\u001b[0myr\u001b[0m\u001b[0;34m)\u001b[0m\u001b[0;34m)\u001b[0m\u001b[0;34m\u001b[0m\u001b[0m\n\u001b[0m\u001b[1;32m      3\u001b[0m \u001b[0mglob_X\u001b[0m\u001b[0;34m.\u001b[0m\u001b[0minfo\u001b[0m\u001b[0;34m(\u001b[0m\u001b[0;34m)\u001b[0m\u001b[0;34m\u001b[0m\u001b[0m\n",
      "\u001b[0;31mNameError\u001b[0m: name 'yr' is not defined"
     ]
    }
   ],
   "source": [
    "yr=2017\n",
    "glob_X = load_global_feat(yr)\n",
    "print('Info on global feature matrix in year {}:'.format(yr))\n",
    "glob_X.info()"
   ]
  },
  {
   "cell_type": "markdown",
   "metadata": {
    "heading_collapsed": true,
    "hidden": true
   },
   "source": [
    "## Time-based features"
   ]
  },
  {
   "cell_type": "code",
   "execution_count": 34,
   "metadata": {
    "ExecuteTime": {
     "end_time": "2017-11-21T10:36:16.588140Z",
     "start_time": "2017-11-21T10:36:16.581382Z"
    },
    "collapsed": true,
    "hidden": true
   },
   "outputs": [],
   "source": [
    "# weekend vs. weekday, weekend are 5 (Sat) and 6 (Sun)\n",
    "def is_weekend(day_code):\n",
    "    return 1 if day_code in [5, 6] else 0\n",
    "\n",
    "def is_workday(day_code):\n",
    "    return 1 if day_code not in [5, 6] else 0\n",
    "\n",
    "def add_is_weekend(df):\n",
    "    res = df.copy()\n",
    "    res['weekday'] = res['date'].dt.weekday\n",
    "    res['is_weekend'] = res['weekday'].apply(is_weekend)\n",
    "    res['is_workday'] = res['weekday'].apply(is_workday)\n",
    "    return res"
   ]
  },
  {
   "cell_type": "markdown",
   "metadata": {
    "heading_collapsed": true,
    "hidden": true
   },
   "source": [
    "## Build ready data for each group\n",
    "\n",
    "After loading global feats, follow are steps to prepare data for each group.\n",
    "+ Form feature matrix: by joining group feats with global feats\n",
    "+ Obtain final ready data: by attaching response to the feature matrix\n",
    "+ Split training and test sets by date: currently, we are using about $20\\%$ of data for testing and all data before that for training.\n",
    "\n",
    "The methods to perform these steps are defined in section `Helpers` at the beginning of this notebook."
   ]
  },
  {
   "cell_type": "markdown",
   "metadata": {},
   "source": [
    "# Helpers"
   ]
  },
  {
   "cell_type": "markdown",
   "metadata": {
    "heading_collapsed": true
   },
   "source": [
    "## String utils"
   ]
  },
  {
   "cell_type": "code",
   "execution_count": 5,
   "metadata": {
    "ExecuteTime": {
     "end_time": "2017-11-22T15:53:33.351539Z",
     "start_time": "2017-11-22T15:53:33.348626Z"
    },
    "collapsed": true,
    "hidden": true,
    "init_cell": true
   },
   "outputs": [],
   "source": [
    "def stdize(s):\n",
    "    return str.lower(s).replace(' ', '_')"
   ]
  },
  {
   "cell_type": "markdown",
   "metadata": {
    "heading_collapsed": true
   },
   "source": [
    "## Date-time utils"
   ]
  },
  {
   "cell_type": "code",
   "execution_count": 6,
   "metadata": {
    "ExecuteTime": {
     "end_time": "2017-11-22T15:53:33.356088Z",
     "start_time": "2017-11-22T15:53:33.353218Z"
    },
    "code_folding": [],
    "collapsed": true,
    "hidden": true,
    "init_cell": true
   },
   "outputs": [],
   "source": [
    "import date_util"
   ]
  },
  {
   "cell_type": "markdown",
   "metadata": {
    "heading_collapsed": true
   },
   "source": [
    "## Data preps"
   ]
  },
  {
   "cell_type": "code",
   "execution_count": 7,
   "metadata": {
    "ExecuteTime": {
     "end_time": "2017-11-22T15:53:33.694562Z",
     "start_time": "2017-11-22T15:53:33.357879Z"
    },
    "code_folding": [],
    "collapsed": true,
    "hidden": true,
    "init_cell": true
   },
   "outputs": [],
   "source": [
    "import data_prep\n",
    "from data_prep import *"
   ]
  },
  {
   "cell_type": "markdown",
   "metadata": {
    "heading_collapsed": true
   },
   "source": [
    "## Data splitting"
   ]
  },
  {
   "cell_type": "code",
   "execution_count": 8,
   "metadata": {
    "ExecuteTime": {
     "end_time": "2017-11-22T15:53:33.700129Z",
     "start_time": "2017-11-22T15:53:33.696440Z"
    },
    "code_folding": [],
    "collapsed": true,
    "hidden": true,
    "init_cell": true
   },
   "outputs": [],
   "source": [
    "import split\n",
    "from split import *"
   ]
  },
  {
   "cell_type": "code",
   "execution_count": 9,
   "metadata": {
    "ExecuteTime": {
     "end_time": "2017-11-22T15:53:33.706185Z",
     "start_time": "2017-11-22T15:53:33.701962Z"
    },
    "code_folding": [
     0
    ],
    "collapsed": true,
    "hidden": true,
    "init_cell": true
   },
   "outputs": [],
   "source": [
    "def records_by_config(train_df):\n",
    "    g = train_df.groupby('sku_config')\n",
    "    size_df = get_group_sizes(g).sort_values('count', ascending=False).rename(columns={'group': 'sku_config'})\n",
    "    return size_df"
   ]
  },
  {
   "cell_type": "markdown",
   "metadata": {
    "hidden": true
   },
   "source": [
    "+ Try `TimeSeriesSplit` from scikit-learn:"
   ]
  },
  {
   "cell_type": "code",
   "execution_count": 8,
   "metadata": {
    "ExecuteTime": {
     "end_time": "2017-10-03T11:28:59.522371Z",
     "start_time": "2017-10-03T11:28:59.514895Z"
    },
    "code_folding": [
     0
    ],
    "collapsed": true,
    "hidden": true
   },
   "outputs": [],
   "source": [
    "def time_series_split(df):\n",
    "    tscv = TimeSeriesSplit(n_splits=3)\n",
    "    for train_index, test_index in tscv.split(df):\n",
    "        print('train index: {}'.format(train_index))\n",
    "        print('test index: {}'.format(test_index))\n",
    "\n",
    "        train_df, test_df = df.iloc[train_index], df.iloc[test_index]\n",
    "        n_train, n_test = train_df.shape[0], test_df.shape[0]\n",
    "        print('# obs: {}'.format(n_train + n_test))\n",
    "        print('Size of train ds: {}'.format(n_train))\n",
    "        print('Size of test ds: {}'.format(n_test))\n",
    "        \n",
    "#     return\n",
    "\n",
    "# test time series split\n",
    "time_series_split(prep_data(gname='dresses_female_autumn-winter'))"
   ]
  },
  {
   "cell_type": "markdown",
   "metadata": {
    "heading_collapsed": true
   },
   "source": [
    "## Visualization"
   ]
  },
  {
   "cell_type": "code",
   "execution_count": 13,
   "metadata": {
    "ExecuteTime": {
     "end_time": "2017-10-05T10:24:20.217131Z",
     "start_time": "2017-10-05T10:24:20.189953Z"
    },
    "code_folding": [
     0,
     8,
     13
    ],
    "collapsed": true,
    "hidden": true
   },
   "outputs": [],
   "source": [
    "def init_fig(size=(5, 5), use_avg=False):\n",
    "    fig = pl.figure(figsize=size)\n",
    "    ylab = 'Demand' if not use_avg else 'Avg. Demand'\n",
    "    pl.ylabel(ylab)\n",
    "    pl.grid(True, ls='--')\n",
    "    fig.autofmt_xdate()\n",
    "    return fig\n",
    "\n",
    "def get_markers(models):\n",
    "    markers = list(Line2D.markers.keys())\n",
    "    markers.remove('o')\n",
    "    return markers[:len(models)]\n",
    "\n",
    "def do_viz(pred_df, use_avg=False, fig_size=(10, 5)):\n",
    "    fig = init_fig(fig_size, use_avg)\n",
    "    dates = pred_df['date']\n",
    "    y_test = pred_df['n_sold'] if not use_avg else pred_df['avg_n_sold']\n",
    "    pl.set_cmap('Set1')\n",
    "    pl.plot(dates, y_test, marker='o', ls='-')\n",
    "    \n",
    "    markers = get_markers(models)\n",
    "    for i in range(len(models)):\n",
    "        m_name = stdize(model_names[i])\n",
    "        col = 'predict_{}'.format(m_name) if not use_avg else ('avg_' + 'predict_{}'.format(m_name))\n",
    "        y_pred = pred_df[col]\n",
    "        pl.plot(dates, y_pred, marker=markers[i])\n",
    "    \n",
    "    pl.legend(['Actual'] + model_names)\n",
    "    return fig\n",
    "\n",
    "def viz(predictions, cf, prod_name, fig_size=(10, 5)):\n",
    "    \n",
    "    cf_pred = predictions.query('sku_config == \"{}\"'.format(cf))\n",
    "    fig = do_viz(cf_pred)\n",
    "    pl.title('Demand predictions for SKU config: {0} ({1})'.format(cf, prod_name))\n",
    "    return fig"
   ]
  },
  {
   "cell_type": "markdown",
   "metadata": {},
   "source": [
    "## Experiments"
   ]
  },
  {
   "cell_type": "markdown",
   "metadata": {
    "heading_collapsed": true
   },
   "source": [
    "### Current Features "
   ]
  },
  {
   "cell_type": "code",
   "execution_count": 42,
   "metadata": {
    "ExecuteTime": {
     "end_time": "2017-11-21T10:43:41.906349Z",
     "start_time": "2017-11-21T10:43:41.902960Z"
    },
    "collapsed": true,
    "hidden": true
   },
   "outputs": [],
   "source": [
    "feats = ['current_price', 'discount_from_rrp', 'n_competitor', 'rel_price', 'color_pop', 'brand_pop', \n",
    "         'is_weekend', 'is_workday']"
   ]
  },
  {
   "cell_type": "markdown",
   "metadata": {
    "hidden": true
   },
   "source": [
    "__Note:__ most features are dynamic, except color/size popularities which are almost static."
   ]
  },
  {
   "cell_type": "markdown",
   "metadata": {
    "heading_collapsed": true
   },
   "source": [
    "### Models and CV Settings\n",
    "\n",
    "We will compare performance of the following regression models in __demand prediction__ task:\n",
    "\n",
    "* Lasso: linear with $L_1$ penalty to drive for sparse weights (if we expect them to be sparse, i.e., just few of them are non-zero)\n",
    "* Bagging Regression Tree (BRT)\n",
    "* Random Forest\n",
    "* XGBoost Regressor"
   ]
  },
  {
   "cell_type": "markdown",
   "metadata": {},
   "source": [
    "### Exp Helpers"
   ]
  },
  {
   "cell_type": "code",
   "execution_count": 10,
   "metadata": {
    "ExecuteTime": {
     "end_time": "2017-11-22T15:53:33.729026Z",
     "start_time": "2017-11-22T15:53:33.708461Z"
    },
    "code_folding": [
     0,
     8,
     15
    ],
    "collapsed": true,
    "init_cell": true
   },
   "outputs": [],
   "source": [
    "def run_exp(gname, feats):\n",
    "    ready_df = prep_data(gname)\n",
    "    print()\n",
    "    \n",
    "    train_df, test_df = split_train_test(ready_df)\n",
    "    rmse_df, predictions = fit_predict(models, train_df, test_df)\n",
    "    return rmse_df, predictions\n",
    "\n",
    "def cols_to_show(pred):\n",
    "    pred_cols = [c for c in pred.columns if 'predict_' in c]\n",
    "    diff_cols = [c for c in pred.columns if 'diff_' in c]\n",
    "    abs_cols = [c for c in pred.columns if 'abs_' in c]\n",
    "    cols = ['sku_config', 'product_name', 'brand_name'] + ['n_sold'] + pred_cols + diff_cols + abs_cols\n",
    "    return cols\n",
    "\n",
    "def evaluate(predictions, cf='MA193AA06RQJMY', fig_size=(10, 5)):\n",
    "    \n",
    "    cf_pred = predictions.query('sku_config == \"{}\"'.format(cf)).copy()\n",
    "    \n",
    "    # diff bw predict and actual\n",
    "    for m in list(map(stdize, model_names)):\n",
    "        cf_pred['diff_{}'.format(m)] = cf_pred['predict_{}'.format(m)] - cf_pred['n_sold']\n",
    "        cf_pred['abs_diff_{}'.format(m)] = np.abs(cf_pred['diff_{}'.format(m)])\n",
    "        \n",
    "    \n",
    "    prod_name = cf_pred['product_name'].iloc[0]\n",
    "    fig = viz(predictions, cf, prod_name, fig_size)\n",
    "    return cf_pred, fig"
   ]
  },
  {
   "cell_type": "code",
   "execution_count": 11,
   "metadata": {
    "ExecuteTime": {
     "end_time": "2017-11-22T15:53:33.735649Z",
     "start_time": "2017-11-22T15:53:33.730827Z"
    },
    "code_folding": [
     0
    ],
    "collapsed": true,
    "init_cell": true
   },
   "outputs": [],
   "source": [
    "def inspect_results(cf, cols=None):\n",
    "    cf_pred, fig = evaluate(predictions, cf, fig_size=(16, 8))\n",
    "    pl.show(); pl.close()\n",
    "    print()\n",
    "    print('Samples of prediction:')\n",
    "    return cf_pred.sort_values('n_sold', ascending=False).head(10) # [cols]"
   ]
  },
  {
   "cell_type": "code",
   "execution_count": 12,
   "metadata": {
    "ExecuteTime": {
     "end_time": "2017-11-22T15:53:33.742365Z",
     "start_time": "2017-11-22T15:53:33.738539Z"
    },
    "collapsed": true,
    "init_cell": true
   },
   "outputs": [],
   "source": [
    "# columns to inspect\n",
    "rf_cols = ['predict_random_forest', 'diff_random_forest', 'abs_diff_random_forest']\n",
    "cols = ['sku_config', 'product_name', 'brand_name'] + ['n_sold'] + rf_cols"
   ]
  },
  {
   "cell_type": "markdown",
   "metadata": {},
   "source": [
    "# Autumn-winter products"
   ]
  },
  {
   "cell_type": "markdown",
   "metadata": {},
   "source": [
    "## Female dresses"
   ]
  },
  {
   "cell_type": "markdown",
   "metadata": {
    "heading_collapsed": true
   },
   "source": [
    "### Example of data prep\n",
    "Below is an example for illustration purpose. As data preps will be included in benchmark runs, later we do not need to run these steps. "
   ]
  },
  {
   "cell_type": "code",
   "execution_count": null,
   "metadata": {
    "collapsed": true,
    "hidden": true
   },
   "outputs": [],
   "source": [
    "ready_df = prep_data(gname='dresses_female_autumn-winter', demand_df=demand_df)"
   ]
  },
  {
   "cell_type": "code",
   "execution_count": 36,
   "metadata": {
    "ExecuteTime": {
     "end_time": "2017-11-21T10:36:38.246608Z",
     "start_time": "2017-11-21T10:36:38.234323Z"
    },
    "collapsed": true,
    "hidden": true
   },
   "outputs": [
    {
     "data": {
      "text/html": [
       "<div>\n",
       "<table border=\"1\" class=\"dataframe\">\n",
       "  <thead>\n",
       "    <tr style=\"text-align: right;\">\n",
       "      <th></th>\n",
       "      <th>date</th>\n",
       "      <th>weekday</th>\n",
       "      <th>is_weekend</th>\n",
       "      <th>is_workday</th>\n",
       "    </tr>\n",
       "  </thead>\n",
       "  <tbody>\n",
       "    <tr>\n",
       "      <th>0</th>\n",
       "      <td>2017-06-20</td>\n",
       "      <td>1</td>\n",
       "      <td>0</td>\n",
       "      <td>1</td>\n",
       "    </tr>\n",
       "    <tr>\n",
       "      <th>1</th>\n",
       "      <td>2016-04-03</td>\n",
       "      <td>6</td>\n",
       "      <td>1</td>\n",
       "      <td>0</td>\n",
       "    </tr>\n",
       "    <tr>\n",
       "      <th>2</th>\n",
       "      <td>2016-04-21</td>\n",
       "      <td>3</td>\n",
       "      <td>0</td>\n",
       "      <td>1</td>\n",
       "    </tr>\n",
       "    <tr>\n",
       "      <th>3</th>\n",
       "      <td>2016-12-12</td>\n",
       "      <td>0</td>\n",
       "      <td>0</td>\n",
       "      <td>1</td>\n",
       "    </tr>\n",
       "    <tr>\n",
       "      <th>4</th>\n",
       "      <td>2017-01-04</td>\n",
       "      <td>2</td>\n",
       "      <td>0</td>\n",
       "      <td>1</td>\n",
       "    </tr>\n",
       "  </tbody>\n",
       "</table>\n",
       "</div>"
      ],
      "text/plain": [
       "        date  weekday  is_weekend  is_workday\n",
       "0 2017-06-20        1           0           1\n",
       "1 2016-04-03        6           1           0\n",
       "2 2016-04-21        3           0           1\n",
       "3 2016-12-12        0           0           1\n",
       "4 2017-01-04        2           0           1"
      ]
     },
     "execution_count": 36,
     "metadata": {},
     "output_type": "execute_result"
    }
   ],
   "source": [
    "ready_df[['date', 'weekday', 'is_weekend', 'is_workday']].head()"
   ]
  },
  {
   "cell_type": "code",
   "execution_count": 37,
   "metadata": {
    "ExecuteTime": {
     "end_time": "2017-11-21T10:36:55.023439Z",
     "start_time": "2017-11-21T10:36:54.756748Z"
    },
    "collapsed": true,
    "hidden": true
   },
   "outputs": [
    {
     "name": "stdout",
     "output_type": "stream",
     "text": [
      "Split training and test sets by date 2017-03-28 00:00:00\n",
      "\n",
      " # records in training: 10023\n",
      "Training data span ~11 months\n",
      "\n",
      "# records in test: 9369\n",
      "Test data span ~2 months\n"
     ]
    }
   ],
   "source": [
    "train_df, test_df = split_train_test(ready_df)"
   ]
  },
  {
   "cell_type": "code",
   "execution_count": null,
   "metadata": {
    "ExecuteTime": {
     "end_time": "2017-10-03T14:28:04.949208Z",
     "start_time": "2017-10-03T14:27:55.830024Z"
    },
    "code_folding": [
     0
    ],
    "collapsed": true,
    "hidden": true
   },
   "outputs": [],
   "source": [
    "# defensive save\n",
    "folder = GROUP_DIR + 'dresses_female_autumn-winter/'\n",
    "train_df.to_csv(folder + 'train.csv', index=False)\n",
    "test_df.to_csv(folder + 'test.csv', index=False)"
   ]
  },
  {
   "cell_type": "markdown",
   "metadata": {},
   "source": [
    "### Train & Predict"
   ]
  },
  {
   "cell_type": "code",
   "execution_count": 61,
   "metadata": {
    "ExecuteTime": {
     "end_time": "2017-11-21T15:36:43.291683Z",
     "start_time": "2017-11-21T15:36:43.288801Z"
    },
    "collapsed": true
   },
   "outputs": [],
   "source": [
    "import model_train"
   ]
  },
  {
   "cell_type": "code",
   "execution_count": 59,
   "metadata": {
    "ExecuteTime": {
     "end_time": "2017-11-21T15:33:34.280643Z",
     "start_time": "2017-11-21T15:33:34.275933Z"
    },
    "collapsed": false
   },
   "outputs": [],
   "source": [
    "reload model_train\n",
    "from model_train import *"
   ]
  },
  {
   "cell_type": "code",
   "execution_count": 60,
   "metadata": {
    "ExecuteTime": {
     "end_time": "2017-11-21T15:34:06.063910Z",
     "start_time": "2017-11-21T15:33:36.378496Z"
    },
    "collapsed": false
   },
   "outputs": [
    {
     "name": "stderr",
     "output_type": "stream",
     "text": [
      "2017-11-21 15:33:36 GFG20170005.local root[65694] INFO Loading global feats in yr 2017 from file /Users/gfg/data/venture=zalora/sg/clean/2017/glob_feat.csv...\n",
      "2017-11-21 15:34:04 GFG20170005.local root[65694] INFO Loading historical sales from /Users/gfg/data/venture=zalora/sg/clean/demand_config.csv...\n"
     ]
    }
   ],
   "source": [
    "in_loader = InputLoader(DataPrep())\n",
    "data_splitter = DataSplitter(split_ratio=80)\n",
    "out_dumper = OutDumper()"
   ]
  },
  {
   "cell_type": "code",
   "execution_count": null,
   "metadata": {
    "collapsed": true
   },
   "outputs": [],
   "source": [
    "model_trainer = ModelTrainer(model_dir=out_dumper.model_dir)\n",
    "sorted_models = model_trainer.benchmark(group='dresses_female_autumn-winter')\n",
    "print('Models sorted by test RMSE:')\n",
    "print(sorted_models)"
   ]
  },
  {
   "cell_type": "markdown",
   "metadata": {},
   "source": [
    "+ Old code:"
   ]
  },
  {
   "cell_type": "code",
   "execution_count": 52,
   "metadata": {
    "ExecuteTime": {
     "end_time": "2017-11-21T11:54:00.617394Z",
     "start_time": "2017-11-21T11:50:34.423367Z"
    },
    "collapsed": false,
    "scrolled": true
   },
   "outputs": [
    {
     "name": "stdout",
     "output_type": "stream",
     "text": [
      "Preparing data of group dresses_female_autumn-winter...\n",
      "\t dropped NA configs\n",
      "Whole data spans from 2017-01-01 to 2017-06-27\n",
      "Split training and test sets by date 2017-05-21 00:00:00\n",
      "\n",
      " # records in training: 13145\n",
      "Training data span ~4 months\n",
      "\n",
      "# records in test: 3675\n",
      "Test data span ~1 months\n",
      "\n",
      "Performing CV for lasso_regression...\n",
      "Fitting 3 folds for each of 3 candidates, totalling 9 fits\n"
     ]
    },
    {
     "name": "stderr",
     "output_type": "stream",
     "text": [
      "[Parallel(n_jobs=1)]: Done   9 out of   9 | elapsed:    0.1s finished\n"
     ]
    },
    {
     "name": "stdout",
     "output_type": "stream",
     "text": [
      "0.0171587549786\n",
      "{'alpha': 0.1}\n",
      "\n",
      "Performing CV for boosted_regression_tree...\n",
      "Fitting 3 folds for each of 40 candidates, totalling 120 fits\n"
     ]
    },
    {
     "name": "stderr",
     "output_type": "stream",
     "text": [
      "[Parallel(n_jobs=1)]: Done 120 out of 120 | elapsed:  1.2min finished\n"
     ]
    },
    {
     "name": "stdout",
     "output_type": "stream",
     "text": [
      "0.0123286742437\n",
      "{'n_estimators': 10, 'max_depth': 3}\n",
      "\n",
      "Performing CV for random_forest...\n",
      "Fitting 3 folds for each of 40 candidates, totalling 120 fits\n"
     ]
    },
    {
     "name": "stderr",
     "output_type": "stream",
     "text": [
      "[Parallel(n_jobs=1)]: Done 120 out of 120 | elapsed:  1.4min finished\n"
     ]
    },
    {
     "name": "stdout",
     "output_type": "stream",
     "text": [
      "0.0143381595488\n",
      "{'n_estimators': 20, 'max_depth': 3}\n",
      "\n",
      "Performing CV for xgboost...\n",
      "Fitting 3 folds for each of 40 candidates, totalling 120 fits\n",
      "0.0174680523776\n",
      "{'n_estimators': 30, 'max_depth': 3}\n"
     ]
    },
    {
     "name": "stderr",
     "output_type": "stream",
     "text": [
      "[Parallel(n_jobs=1)]: Done 120 out of 120 | elapsed:   45.6s finished\n"
     ]
    }
   ],
   "source": [
    "train_df, test_df, rmse_df, predictions = benchmark(models, feats, group='dresses_female_autumn-winter')"
   ]
  },
  {
   "cell_type": "markdown",
   "metadata": {},
   "source": [
    "### Group level evaluations "
   ]
  },
  {
   "cell_type": "markdown",
   "metadata": {},
   "source": [
    "#### Avg error of the group"
   ]
  },
  {
   "cell_type": "markdown",
   "metadata": {},
   "source": [
    "+ RMSE without `is_weekend` and `is_workday`:"
   ]
  },
  {
   "cell_type": "code",
   "execution_count": 27,
   "metadata": {
    "ExecuteTime": {
     "end_time": "2017-11-20T17:32:45.687861Z",
     "start_time": "2017-11-20T17:32:45.678233Z"
    },
    "collapsed": false,
    "scrolled": true
   },
   "outputs": [
    {
     "data": {
      "text/html": [
       "<div>\n",
       "<table border=\"1\" class=\"dataframe\">\n",
       "  <thead>\n",
       "    <tr style=\"text-align: right;\">\n",
       "      <th></th>\n",
       "      <th>model</th>\n",
       "      <th>test_rmse</th>\n",
       "      <th>train_rmse</th>\n",
       "    </tr>\n",
       "  </thead>\n",
       "  <tbody>\n",
       "    <tr>\n",
       "      <th>0</th>\n",
       "      <td>Lasso Regression</td>\n",
       "      <td>0.975814</td>\n",
       "      <td>1.308303</td>\n",
       "    </tr>\n",
       "    <tr>\n",
       "      <th>3</th>\n",
       "      <td>XGBoost</td>\n",
       "      <td>1.035758</td>\n",
       "      <td>1.189273</td>\n",
       "    </tr>\n",
       "    <tr>\n",
       "      <th>1</th>\n",
       "      <td>Boosted Regression Tree</td>\n",
       "      <td>1.036121</td>\n",
       "      <td>1.129783</td>\n",
       "    </tr>\n",
       "    <tr>\n",
       "      <th>2</th>\n",
       "      <td>Random Forest</td>\n",
       "      <td>1.113883</td>\n",
       "      <td>1.127533</td>\n",
       "    </tr>\n",
       "  </tbody>\n",
       "</table>\n",
       "</div>"
      ],
      "text/plain": [
       "                     model  test_rmse  train_rmse\n",
       "0         Lasso Regression   0.975814    1.308303\n",
       "3                  XGBoost   1.035758    1.189273\n",
       "1  Boosted Regression Tree   1.036121    1.129783\n",
       "2            Random Forest   1.113883    1.127533"
      ]
     },
     "execution_count": 27,
     "metadata": {},
     "output_type": "execute_result"
    }
   ],
   "source": [
    "rmse_df"
   ]
  },
  {
   "cell_type": "markdown",
   "metadata": {},
   "source": [
    "Compared with accuracy of models by DataRobot, ours are a bit worse. It is expected as:\n",
    "+ we use less features\n",
    "+ our models are simpler, theirs are much more complicated, for example they blend 5-6 models which are already strong. Basically, theirs are meta/hyper models i.e. models which are combinations of several models.\n",
    "\n",
    "We can also build meta models ourselves."
   ]
  },
  {
   "cell_type": "markdown",
   "metadata": {},
   "source": [
    "#### Actual avg vs. predicted avg"
   ]
  },
  {
   "cell_type": "markdown",
   "metadata": {},
   "source": [
    "#### Lift charts"
   ]
  },
  {
   "cell_type": "code",
   "execution_count": 66,
   "metadata": {
    "ExecuteTime": {
     "end_time": "2017-10-03T16:29:14.731726Z",
     "start_time": "2017-10-03T16:29:14.724843Z"
    },
    "collapsed": true
   },
   "outputs": [
    {
     "data": {
      "text/plain": [
       "count    9369.000000\n",
       "mean        1.392465\n",
       "std         0.976993\n",
       "min         0.000000\n",
       "25%         1.000000\n",
       "50%         1.000000\n",
       "75%         2.000000\n",
       "max        18.000000\n",
       "Name: n_sold, dtype: float64"
      ]
     },
     "execution_count": 66,
     "metadata": {},
     "output_type": "execute_result"
    }
   ],
   "source": [
    "predictions.n_sold.describe()"
   ]
  },
  {
   "cell_type": "code",
   "execution_count": 67,
   "metadata": {
    "ExecuteTime": {
     "end_time": "2017-10-03T16:29:21.641020Z",
     "start_time": "2017-10-03T16:29:21.468820Z"
    },
    "collapsed": true
   },
   "outputs": [
    {
     "data": {
      "image/png": "[encoded data removed]",
      "text/plain": [
       "<matplotlib.figure.Figure at 0x193dd3208>"
      ]
     },
     "metadata": {},
     "output_type": "display_data"
    }
   ],
   "source": [
    "fig = pl.figure()\n",
    "ns, bins, patches = pl.hist(predictions.n_sold, bins=10)\n",
    "pl.show(); pl.close()"
   ]
  },
  {
   "cell_type": "code",
   "execution_count": 70,
   "metadata": {
    "ExecuteTime": {
     "end_time": "2017-10-03T16:30:31.005560Z",
     "start_time": "2017-10-03T16:30:30.833885Z"
    },
    "code_folding": [],
    "collapsed": true
   },
   "outputs": [
    {
     "data": {
      "image/png": "[encoded data removed]",
      "text/plain": [
       "<matplotlib.figure.Figure at 0x189d65160>"
      ]
     },
     "metadata": {},
     "output_type": "display_data"
    }
   ],
   "source": [
    "# select only majority demand values\n",
    "sel_pred = predictions.query('n_sold <= 5')\n",
    "fig = pl.figure()\n",
    "ns, bins, patches = pl.hist(sel_pred.n_sold, bins=10)\n",
    "pl.show(); pl.close()"
   ]
  },
  {
   "cell_type": "code",
   "execution_count": 71,
   "metadata": {
    "ExecuteTime": {
     "end_time": "2017-10-03T16:30:42.637193Z",
     "start_time": "2017-10-03T16:30:42.626066Z"
    },
    "collapsed": true
   },
   "outputs": [
    {
     "name": "stdout",
     "output_type": "stream",
     "text": [
      "Bin info:\n"
     ]
    },
    {
     "data": {
      "text/html": [
       "<div>\n",
       "<style>\n",
       "    .dataframe thead tr:only-child th {\n",
       "        text-align: right;\n",
       "    }\n",
       "\n",
       "    .dataframe thead th {\n",
       "        text-align: left;\n",
       "    }\n",
       "\n",
       "    .dataframe tbody tr th {\n",
       "        vertical-align: top;\n",
       "    }\n",
       "</style>\n",
       "<table border=\"1\" class=\"dataframe\">\n",
       "  <thead>\n",
       "    <tr style=\"text-align: right;\">\n",
       "      <th></th>\n",
       "      <th>lower</th>\n",
       "      <th>size</th>\n",
       "      <th>upper</th>\n",
       "    </tr>\n",
       "  </thead>\n",
       "  <tbody>\n",
       "    <tr>\n",
       "      <th>0</th>\n",
       "      <td>0.0</td>\n",
       "      <td>296.0</td>\n",
       "      <td>0.5</td>\n",
       "    </tr>\n",
       "    <tr>\n",
       "      <th>1</th>\n",
       "      <td>0.5</td>\n",
       "      <td>0.0</td>\n",
       "      <td>1.0</td>\n",
       "    </tr>\n",
       "    <tr>\n",
       "      <th>2</th>\n",
       "      <td>1.0</td>\n",
       "      <td>6635.0</td>\n",
       "      <td>1.5</td>\n",
       "    </tr>\n",
       "    <tr>\n",
       "      <th>3</th>\n",
       "      <td>1.5</td>\n",
       "      <td>0.0</td>\n",
       "      <td>2.0</td>\n",
       "    </tr>\n",
       "    <tr>\n",
       "      <th>4</th>\n",
       "      <td>2.0</td>\n",
       "      <td>1600.0</td>\n",
       "      <td>2.5</td>\n",
       "    </tr>\n",
       "    <tr>\n",
       "      <th>5</th>\n",
       "      <td>2.5</td>\n",
       "      <td>0.0</td>\n",
       "      <td>3.0</td>\n",
       "    </tr>\n",
       "    <tr>\n",
       "      <th>6</th>\n",
       "      <td>3.0</td>\n",
       "      <td>493.0</td>\n",
       "      <td>3.5</td>\n",
       "    </tr>\n",
       "    <tr>\n",
       "      <th>7</th>\n",
       "      <td>3.5</td>\n",
       "      <td>0.0</td>\n",
       "      <td>4.0</td>\n",
       "    </tr>\n",
       "    <tr>\n",
       "      <th>8</th>\n",
       "      <td>4.0</td>\n",
       "      <td>183.0</td>\n",
       "      <td>4.5</td>\n",
       "    </tr>\n",
       "    <tr>\n",
       "      <th>9</th>\n",
       "      <td>4.5</td>\n",
       "      <td>82.0</td>\n",
       "      <td>5.0</td>\n",
       "    </tr>\n",
       "  </tbody>\n",
       "</table>\n",
       "</div>"
      ],
      "text/plain": [
       "   lower    size  upper\n",
       "0    0.0   296.0    0.5\n",
       "1    0.5     0.0    1.0\n",
       "2    1.0  6635.0    1.5\n",
       "3    1.5     0.0    2.0\n",
       "4    2.0  1600.0    2.5\n",
       "5    2.5     0.0    3.0\n",
       "6    3.0   493.0    3.5\n",
       "7    3.5     0.0    4.0\n",
       "8    4.0   183.0    4.5\n",
       "9    4.5    82.0    5.0"
      ]
     },
     "execution_count": 71,
     "metadata": {},
     "output_type": "execute_result"
    }
   ],
   "source": [
    "print('Bin info:')\n",
    "bin_info = pd.DataFrame({'size': ns, 'lower': bins[0: n_bin], 'upper': bins[1:]})\n",
    "bin_info"
   ]
  },
  {
   "cell_type": "code",
   "execution_count": 73,
   "metadata": {
    "ExecuteTime": {
     "end_time": "2017-10-03T16:32:17.587467Z",
     "start_time": "2017-10-03T16:32:17.575674Z"
    },
    "collapsed": true
   },
   "outputs": [
    {
     "data": {
      "text/html": [
       "<div>\n",
       "<style>\n",
       "    .dataframe thead tr:only-child th {\n",
       "        text-align: right;\n",
       "    }\n",
       "\n",
       "    .dataframe thead th {\n",
       "        text-align: left;\n",
       "    }\n",
       "\n",
       "    .dataframe tbody tr th {\n",
       "        vertical-align: top;\n",
       "    }\n",
       "</style>\n",
       "<table border=\"1\" class=\"dataframe\">\n",
       "  <thead>\n",
       "    <tr style=\"text-align: right;\">\n",
       "      <th></th>\n",
       "      <th>lower</th>\n",
       "      <th>size</th>\n",
       "      <th>upper</th>\n",
       "    </tr>\n",
       "  </thead>\n",
       "  <tbody>\n",
       "    <tr>\n",
       "      <th>0</th>\n",
       "      <td>0.0</td>\n",
       "      <td>296.0</td>\n",
       "      <td>0.5</td>\n",
       "    </tr>\n",
       "    <tr>\n",
       "      <th>1</th>\n",
       "      <td>1.0</td>\n",
       "      <td>6635.0</td>\n",
       "      <td>1.5</td>\n",
       "    </tr>\n",
       "    <tr>\n",
       "      <th>2</th>\n",
       "      <td>2.0</td>\n",
       "      <td>1600.0</td>\n",
       "      <td>2.5</td>\n",
       "    </tr>\n",
       "    <tr>\n",
       "      <th>3</th>\n",
       "      <td>3.0</td>\n",
       "      <td>493.0</td>\n",
       "      <td>3.5</td>\n",
       "    </tr>\n",
       "    <tr>\n",
       "      <th>4</th>\n",
       "      <td>4.0</td>\n",
       "      <td>183.0</td>\n",
       "      <td>4.5</td>\n",
       "    </tr>\n",
       "    <tr>\n",
       "      <th>5</th>\n",
       "      <td>4.5</td>\n",
       "      <td>82.0</td>\n",
       "      <td>5.0</td>\n",
       "    </tr>\n",
       "  </tbody>\n",
       "</table>\n",
       "</div>"
      ],
      "text/plain": [
       "   lower    size  upper\n",
       "0    0.0   296.0    0.5\n",
       "1    1.0  6635.0    1.5\n",
       "2    2.0  1600.0    2.5\n",
       "3    3.0   493.0    3.5\n",
       "4    4.0   183.0    4.5\n",
       "5    4.5    82.0    5.0"
      ]
     },
     "execution_count": 73,
     "metadata": {},
     "output_type": "execute_result"
    }
   ],
   "source": [
    "bin_info = bin_info.query('size > 0')\n",
    "bin_info.reset_index(inplace=True)\n",
    "del bin_info['index']\n",
    "bin_info"
   ]
  },
  {
   "cell_type": "code",
   "execution_count": 75,
   "metadata": {
    "ExecuteTime": {
     "end_time": "2017-10-03T16:36:38.852665Z",
     "start_time": "2017-10-03T16:36:38.844919Z"
    },
    "code_folding": [
     3
    ],
    "collapsed": true
   },
   "outputs": [],
   "source": [
    "# calculate avg of actual vs. avg of predictions in each bin\n",
    "pred_cols = [c for c in predictions.columns if 'predict_' in c]\n",
    "cols = ['n_sold'] + pred_cols\n",
    "def avg_in_bin(i, bin_info):\n",
    "    \n",
    "    row = bin_info.iloc[i]\n",
    "    low, high = row['lower'], row['upper']\n",
    "    sub_df = predictions.query('{} <= n_sold & n_sold < {}'.format(low, high))[cols]\n",
    "    if sub_df.empty:\n",
    "        sub_df = predictions.query('{} < n_sold & n_sold <= {}'.format(low, high))[cols]\n",
    "        \n",
    "    avg_df = pd.DataFrame(sub_df.apply(np.mean, axis=0))   \n",
    "    return avg_df.rename(columns={0: 'n_sold in [{}, {}]'.format(low, high)})"
   ]
  },
  {
   "cell_type": "code",
   "execution_count": 95,
   "metadata": {
    "ExecuteTime": {
     "end_time": "2017-10-03T17:08:49.806592Z",
     "start_time": "2017-10-03T17:08:49.762019Z"
    },
    "collapsed": false
   },
   "outputs": [
    {
     "data": {
      "text/html": [
       "<div>\n",
       "<style>\n",
       "    .dataframe thead tr:only-child th {\n",
       "        text-align: right;\n",
       "    }\n",
       "\n",
       "    .dataframe thead th {\n",
       "        text-align: left;\n",
       "    }\n",
       "\n",
       "    .dataframe tbody tr th {\n",
       "        vertical-align: top;\n",
       "    }\n",
       "</style>\n",
       "<table border=\"1\" class=\"dataframe\">\n",
       "  <thead>\n",
       "    <tr style=\"text-align: right;\">\n",
       "      <th></th>\n",
       "      <th>n_sold in [0.0, 0.5]</th>\n",
       "      <th>n_sold in [1.0, 1.5]</th>\n",
       "      <th>n_sold in [2.0, 2.5]</th>\n",
       "      <th>n_sold in [3.0, 3.5]</th>\n",
       "      <th>n_sold in [4.0, 4.5]</th>\n",
       "      <th>n_sold in [4.5, 5.0]</th>\n",
       "    </tr>\n",
       "  </thead>\n",
       "  <tbody>\n",
       "    <tr>\n",
       "      <th>n_sold</th>\n",
       "      <td>0.000000</td>\n",
       "      <td>1.000000</td>\n",
       "      <td>2.000000</td>\n",
       "      <td>3.000000</td>\n",
       "      <td>4.000000</td>\n",
       "      <td>5.000000</td>\n",
       "    </tr>\n",
       "    <tr>\n",
       "      <th>predict_ridge_regression</th>\n",
       "      <td>4.091903</td>\n",
       "      <td>3.282743</td>\n",
       "      <td>2.262004</td>\n",
       "      <td>2.186976</td>\n",
       "      <td>1.663045</td>\n",
       "      <td>1.730837</td>\n",
       "    </tr>\n",
       "    <tr>\n",
       "      <th>predict_lasso_regression</th>\n",
       "      <td>1.547973</td>\n",
       "      <td>1.569048</td>\n",
       "      <td>1.651883</td>\n",
       "      <td>1.706530</td>\n",
       "      <td>1.696749</td>\n",
       "      <td>1.743307</td>\n",
       "    </tr>\n",
       "    <tr>\n",
       "      <th>predict_boosted_regression_tree</th>\n",
       "      <td>1.440200</td>\n",
       "      <td>1.475622</td>\n",
       "      <td>1.544602</td>\n",
       "      <td>1.632909</td>\n",
       "      <td>1.653365</td>\n",
       "      <td>1.653353</td>\n",
       "    </tr>\n",
       "    <tr>\n",
       "      <th>predict_random_forest</th>\n",
       "      <td>1.483370</td>\n",
       "      <td>1.530934</td>\n",
       "      <td>1.602281</td>\n",
       "      <td>1.676320</td>\n",
       "      <td>1.697996</td>\n",
       "      <td>1.677535</td>\n",
       "    </tr>\n",
       "    <tr>\n",
       "      <th>predict_xgboost</th>\n",
       "      <td>1.131090</td>\n",
       "      <td>1.158867</td>\n",
       "      <td>1.216333</td>\n",
       "      <td>1.277510</td>\n",
       "      <td>1.269428</td>\n",
       "      <td>1.296537</td>\n",
       "    </tr>\n",
       "  </tbody>\n",
       "</table>\n",
       "</div>"
      ],
      "text/plain": [
       "                                 n_sold in [0.0, 0.5]  n_sold in [1.0, 1.5]  \\\n",
       "n_sold                                       0.000000              1.000000   \n",
       "predict_ridge_regression                     4.091903              3.282743   \n",
       "predict_lasso_regression                     1.547973              1.569048   \n",
       "predict_boosted_regression_tree              1.440200              1.475622   \n",
       "predict_random_forest                        1.483370              1.530934   \n",
       "predict_xgboost                              1.131090              1.158867   \n",
       "\n",
       "                                 n_sold in [2.0, 2.5]  n_sold in [3.0, 3.5]  \\\n",
       "n_sold                                       2.000000              3.000000   \n",
       "predict_ridge_regression                     2.262004              2.186976   \n",
       "predict_lasso_regression                     1.651883              1.706530   \n",
       "predict_boosted_regression_tree              1.544602              1.632909   \n",
       "predict_random_forest                        1.602281              1.676320   \n",
       "predict_xgboost                              1.216333              1.277510   \n",
       "\n",
       "                                 n_sold in [4.0, 4.5]  n_sold in [4.5, 5.0]  \n",
       "n_sold                                       4.000000              5.000000  \n",
       "predict_ridge_regression                     1.663045              1.730837  \n",
       "predict_lasso_regression                     1.696749              1.743307  \n",
       "predict_boosted_regression_tree              1.653365              1.653353  \n",
       "predict_random_forest                        1.697996              1.677535  \n",
       "predict_xgboost                              1.269428              1.296537  "
      ]
     },
     "execution_count": 95,
     "metadata": {},
     "output_type": "execute_result"
    }
   ],
   "source": [
    "n_row = bin_info.shape[0]\n",
    "frames = [avg_in_bin(i, bin_info) for i in range(n_row)]\n",
    "pd.concat(frames, 'columns')"
   ]
  },
  {
   "cell_type": "markdown",
   "metadata": {},
   "source": [
    "#### Feature importance"
   ]
  },
  {
   "cell_type": "markdown",
   "metadata": {
    "heading_collapsed": true
   },
   "source": [
    "#### Agg by date"
   ]
  },
  {
   "cell_type": "code",
   "execution_count": 108,
   "metadata": {
    "ExecuteTime": {
     "end_time": "2017-10-03T17:18:42.950566Z",
     "start_time": "2017-10-03T17:18:42.946192Z"
    },
    "code_folding": [
     0
    ],
    "collapsed": true,
    "hidden": true
   },
   "outputs": [],
   "source": [
    "target_cols = ['date'] + ['n_sold'] + [c for c in predictions.columns if 'predict_' in c]\n",
    "daily_pred = predictions[target_cols].groupby('date')"
   ]
  },
  {
   "cell_type": "code",
   "execution_count": 111,
   "metadata": {
    "ExecuteTime": {
     "end_time": "2017-10-03T17:19:40.509902Z",
     "start_time": "2017-10-03T17:19:40.503623Z"
    },
    "collapsed": true,
    "hidden": true
   },
   "outputs": [],
   "source": [
    "daily_avg = daily_pred.agg(np.mean).add_prefix('avg_').reset_index()\n",
    "del daily_avg['avg_predict_ridge_regression']"
   ]
  },
  {
   "cell_type": "code",
   "execution_count": 118,
   "metadata": {
    "ExecuteTime": {
     "end_time": "2017-10-03T17:23:49.073875Z",
     "start_time": "2017-10-03T17:23:48.741929Z"
    },
    "collapsed": false,
    "hidden": true
   },
   "outputs": [
    {
     "data": {
      "image/png": "[encoded data removed]",
      "text/plain": [
       "<matplotlib.figure.Figure at 0x133870ef0>"
      ]
     },
     "metadata": {},
     "output_type": "display_data"
    }
   ],
   "source": [
    "fig = do_viz(daily_avg, use_avg=True, fig_size=(10, 10))\n",
    "pl.show(); pl.close()"
   ]
  },
  {
   "cell_type": "code",
   "execution_count": 166,
   "metadata": {
    "ExecuteTime": {
     "end_time": "2017-10-02T17:14:38.627440Z",
     "start_time": "2017-10-02T17:14:38.623990Z"
    },
    "collapsed": true,
    "hidden": true
   },
   "outputs": [],
   "source": [
    "daily_avg.sort_values('avg_predict_lasso_regression', inplace=True)"
   ]
  },
  {
   "cell_type": "code",
   "execution_count": 167,
   "metadata": {
    "ExecuteTime": {
     "end_time": "2017-10-02T17:19:11.173987Z",
     "start_time": "2017-10-02T17:19:11.163055Z"
    },
    "collapsed": true,
    "hidden": true
   },
   "outputs": [
    {
     "data": {
      "text/html": [
       "<div>\n",
       "<style>\n",
       "    .dataframe thead tr:only-child th {\n",
       "        text-align: right;\n",
       "    }\n",
       "\n",
       "    .dataframe thead th {\n",
       "        text-align: left;\n",
       "    }\n",
       "\n",
       "    .dataframe tbody tr th {\n",
       "        vertical-align: top;\n",
       "    }\n",
       "</style>\n",
       "<table border=\"1\" class=\"dataframe\">\n",
       "  <thead>\n",
       "    <tr style=\"text-align: right;\">\n",
       "      <th></th>\n",
       "      <th>date</th>\n",
       "      <th>avg_n_sold</th>\n",
       "      <th>avg_predict_lasso_regression</th>\n",
       "      <th>avg_predict_boosted_regression_tree</th>\n",
       "      <th>avg_predict_random_forest</th>\n",
       "      <th>avg_predict_xgboost</th>\n",
       "    </tr>\n",
       "  </thead>\n",
       "  <tbody>\n",
       "    <tr>\n",
       "      <th>52</th>\n",
       "      <td>2017-05-19</td>\n",
       "      <td>1.423913</td>\n",
       "      <td>1.413707</td>\n",
       "      <td>1.277425</td>\n",
       "      <td>1.372312</td>\n",
       "      <td>1.040977</td>\n",
       "    </tr>\n",
       "    <tr>\n",
       "      <th>24</th>\n",
       "      <td>2017-04-21</td>\n",
       "      <td>1.172840</td>\n",
       "      <td>1.459190</td>\n",
       "      <td>1.296974</td>\n",
       "      <td>1.235564</td>\n",
       "      <td>0.966492</td>\n",
       "    </tr>\n",
       "    <tr>\n",
       "      <th>38</th>\n",
       "      <td>2017-05-05</td>\n",
       "      <td>1.088235</td>\n",
       "      <td>1.466868</td>\n",
       "      <td>1.283216</td>\n",
       "      <td>1.329240</td>\n",
       "      <td>0.996645</td>\n",
       "    </tr>\n",
       "    <tr>\n",
       "      <th>17</th>\n",
       "      <td>2017-04-14</td>\n",
       "      <td>1.038961</td>\n",
       "      <td>1.478348</td>\n",
       "      <td>1.293394</td>\n",
       "      <td>1.279870</td>\n",
       "      <td>0.989745</td>\n",
       "    </tr>\n",
       "    <tr>\n",
       "      <th>42</th>\n",
       "      <td>2017-05-09</td>\n",
       "      <td>1.101449</td>\n",
       "      <td>1.479741</td>\n",
       "      <td>1.300447</td>\n",
       "      <td>1.304800</td>\n",
       "      <td>0.986053</td>\n",
       "    </tr>\n",
       "  </tbody>\n",
       "</table>\n",
       "</div>"
      ],
      "text/plain": [
       "         date  avg_n_sold  avg_predict_lasso_regression  \\\n",
       "52 2017-05-19    1.423913                      1.413707   \n",
       "24 2017-04-21    1.172840                      1.459190   \n",
       "38 2017-05-05    1.088235                      1.466868   \n",
       "17 2017-04-14    1.038961                      1.478348   \n",
       "42 2017-05-09    1.101449                      1.479741   \n",
       "\n",
       "    avg_predict_boosted_regression_tree  avg_predict_random_forest  \\\n",
       "52                             1.277425                   1.372312   \n",
       "24                             1.296974                   1.235564   \n",
       "38                             1.283216                   1.329240   \n",
       "17                             1.293394                   1.279870   \n",
       "42                             1.300447                   1.304800   \n",
       "\n",
       "    avg_predict_xgboost  \n",
       "52             1.040977  \n",
       "24             0.966492  \n",
       "38             0.996645  \n",
       "17             0.989745  \n",
       "42             0.986053  "
      ]
     },
     "execution_count": 167,
     "metadata": {},
     "output_type": "execute_result"
    }
   ],
   "source": [
    "daily_avg.head()"
   ]
  },
  {
   "cell_type": "code",
   "execution_count": 168,
   "metadata": {
    "ExecuteTime": {
     "end_time": "2017-10-02T17:19:35.072165Z",
     "start_time": "2017-10-02T17:19:35.060530Z"
    },
    "collapsed": true,
    "hidden": true
   },
   "outputs": [
    {
     "data": {
      "text/html": [
       "<div>\n",
       "<style>\n",
       "    .dataframe thead tr:only-child th {\n",
       "        text-align: right;\n",
       "    }\n",
       "\n",
       "    .dataframe thead th {\n",
       "        text-align: left;\n",
       "    }\n",
       "\n",
       "    .dataframe tbody tr th {\n",
       "        vertical-align: top;\n",
       "    }\n",
       "</style>\n",
       "<table border=\"1\" class=\"dataframe\">\n",
       "  <thead>\n",
       "    <tr style=\"text-align: right;\">\n",
       "      <th></th>\n",
       "      <th>date</th>\n",
       "      <th>avg_n_sold</th>\n",
       "      <th>avg_predict_lasso_regression</th>\n",
       "      <th>avg_predict_boosted_regression_tree</th>\n",
       "      <th>avg_predict_random_forest</th>\n",
       "      <th>avg_predict_xgboost</th>\n",
       "    </tr>\n",
       "  </thead>\n",
       "  <tbody>\n",
       "    <tr>\n",
       "      <th>65</th>\n",
       "      <td>2017-06-06</td>\n",
       "      <td>1.655172</td>\n",
       "      <td>1.749892</td>\n",
       "      <td>1.522400</td>\n",
       "      <td>1.591027</td>\n",
       "      <td>1.221459</td>\n",
       "    </tr>\n",
       "    <tr>\n",
       "      <th>60</th>\n",
       "      <td>2017-05-27</td>\n",
       "      <td>1.212389</td>\n",
       "      <td>1.754877</td>\n",
       "      <td>1.501054</td>\n",
       "      <td>1.431585</td>\n",
       "      <td>1.200642</td>\n",
       "    </tr>\n",
       "    <tr>\n",
       "      <th>74</th>\n",
       "      <td>2017-06-15</td>\n",
       "      <td>1.762295</td>\n",
       "      <td>1.758409</td>\n",
       "      <td>1.588949</td>\n",
       "      <td>1.620414</td>\n",
       "      <td>1.258003</td>\n",
       "    </tr>\n",
       "    <tr>\n",
       "      <th>72</th>\n",
       "      <td>2017-06-13</td>\n",
       "      <td>1.691589</td>\n",
       "      <td>1.761334</td>\n",
       "      <td>1.541061</td>\n",
       "      <td>1.605613</td>\n",
       "      <td>1.235715</td>\n",
       "    </tr>\n",
       "    <tr>\n",
       "      <th>63</th>\n",
       "      <td>2017-06-04</td>\n",
       "      <td>1.480315</td>\n",
       "      <td>1.785805</td>\n",
       "      <td>1.522399</td>\n",
       "      <td>1.540870</td>\n",
       "      <td>1.242831</td>\n",
       "    </tr>\n",
       "  </tbody>\n",
       "</table>\n",
       "</div>"
      ],
      "text/plain": [
       "         date  avg_n_sold  avg_predict_lasso_regression  \\\n",
       "65 2017-06-06    1.655172                      1.749892   \n",
       "60 2017-05-27    1.212389                      1.754877   \n",
       "74 2017-06-15    1.762295                      1.758409   \n",
       "72 2017-06-13    1.691589                      1.761334   \n",
       "63 2017-06-04    1.480315                      1.785805   \n",
       "\n",
       "    avg_predict_boosted_regression_tree  avg_predict_random_forest  \\\n",
       "65                             1.522400                   1.591027   \n",
       "60                             1.501054                   1.431585   \n",
       "74                             1.588949                   1.620414   \n",
       "72                             1.541061                   1.605613   \n",
       "63                             1.522399                   1.540870   \n",
       "\n",
       "    avg_predict_xgboost  \n",
       "65             1.221459  \n",
       "60             1.200642  \n",
       "74             1.258003  \n",
       "72             1.235715  \n",
       "63             1.242831  "
      ]
     },
     "execution_count": 168,
     "metadata": {},
     "output_type": "execute_result"
    }
   ],
   "source": [
    "daily_avg.tail()"
   ]
  },
  {
   "cell_type": "markdown",
   "metadata": {},
   "source": [
    "### Config level evaluations \n",
    "First we need to choose representative configs to inspect. Some criteria:\n",
    "+ enough training data\n",
    "+ cover diff range of demand values (high, medium, low)"
   ]
  },
  {
   "cell_type": "markdown",
   "metadata": {
    "heading_collapsed": true
   },
   "source": [
    "#### Distribution of training data among configs"
   ]
  },
  {
   "cell_type": "code",
   "execution_count": 102,
   "metadata": {
    "ExecuteTime": {
     "end_time": "2017-10-03T17:13:43.147017Z",
     "start_time": "2017-10-03T17:13:43.138476Z"
    },
    "collapsed": true,
    "hidden": true
   },
   "outputs": [
    {
     "name": "stdout",
     "output_type": "stream",
     "text": [
      "count    824.000000\n",
      "mean      12.163835\n",
      "std       13.779944\n",
      "min        1.000000\n",
      "25%        2.000000\n",
      "50%        7.000000\n",
      "75%       17.000000\n",
      "max      112.000000\n",
      "Name: count, dtype: float64\n"
     ]
    }
   ],
   "source": [
    "size_df = records_by_config(train_df)\n",
    "print(size_df['count'].describe())"
   ]
  },
  {
   "cell_type": "markdown",
   "metadata": {
    "hidden": true
   },
   "source": [
    "The distribution shows that most configs (75%) have few data points (less than 20). This may be an obstacle to model performance."
   ]
  },
  {
   "cell_type": "code",
   "execution_count": 103,
   "metadata": {
    "ExecuteTime": {
     "end_time": "2017-10-03T17:13:43.160416Z",
     "start_time": "2017-10-03T17:13:43.148510Z"
    },
    "collapsed": true,
    "hidden": true
   },
   "outputs": [
    {
     "name": "stdout",
     "output_type": "stream",
     "text": [
      "SKU configs with largest number of training records:\n",
      "         sku_config  count                                   product_name\n",
      "0    MA193AA06RQJMY    112                             Flared Skirt Dress\n",
      "1  3971FAAA89C260GS     75     Collection Colourblock Fit and Flare Dress\n",
      "2  AFHNJAA0000040GS     75          Collection Button Detail A-Line Dress\n",
      "3  ATSDRAA0000092GS     70                             Floral Shift Dress\n",
      "4  D50D7AAF27C667GS     66                 Love Scalloped Hem Shift Dress\n",
      "5  FD2BCAA6F8E071GS     64                         Collection Panel Tunic\n",
      "6  AE783AAF4A0DE3GS     62                Scallop Hem Fit and Flare Dress\n",
      "7  351A8AA3B6E46CGS     59  Collection Colour-Block Scoop Hem Shift Dress\n",
      "8  ATAAYAA0000031GS     58                  Love Strappy Back Shift Dress\n",
      "9  64565AA5CDE6BDGS     56                     Love High Neck Swing Dress\n"
     ]
    }
   ],
   "source": [
    "print('SKU configs with largest number of training records:')\n",
    "print(size_df.head(10).merge(train_df[['sku_config', 'product_name']].drop_duplicates()))"
   ]
  },
  {
   "cell_type": "markdown",
   "metadata": {
    "heading_collapsed": true
   },
   "source": [
    "#### Range of demand values"
   ]
  },
  {
   "cell_type": "code",
   "execution_count": 77,
   "metadata": {
    "ExecuteTime": {
     "end_time": "2017-10-02T12:23:44.411608Z",
     "start_time": "2017-10-02T12:23:44.404537Z"
    },
    "collapsed": true,
    "hidden": true
   },
   "outputs": [
    {
     "data": {
      "text/plain": [
       "count    9369.000000\n",
       "mean        1.392465\n",
       "std         0.976993\n",
       "min         0.000000\n",
       "25%         1.000000\n",
       "50%         1.000000\n",
       "75%         2.000000\n",
       "max        18.000000\n",
       "Name: n_sold, dtype: float64"
      ]
     },
     "execution_count": 77,
     "metadata": {},
     "output_type": "execute_result"
    }
   ],
   "source": [
    "test_df['n_sold'].describe()"
   ]
  },
  {
   "cell_type": "markdown",
   "metadata": {
    "hidden": true
   },
   "source": [
    "This shows that in test data, most of the time, demand values are no more than 2 units/day."
   ]
  },
  {
   "cell_type": "markdown",
   "metadata": {},
   "source": [
    "#### Specific configs"
   ]
  },
  {
   "cell_type": "code",
   "execution_count": 120,
   "metadata": {
    "ExecuteTime": {
     "end_time": "2017-10-04T11:44:42.136558Z",
     "start_time": "2017-10-04T11:44:41.790387Z"
    },
    "collapsed": false
   },
   "outputs": [
    {
     "data": {
      "image/png": "[encoded data removed]",
      "text/plain": [
       "<matplotlib.figure.Figure at 0x144486da0>"
      ]
     },
     "metadata": {},
     "output_type": "display_data"
    },
    {
     "name": "stdout",
     "output_type": "stream",
     "text": [
      "\n",
      "Samples of prediction:\n"
     ]
    },
    {
     "data": {
      "text/html": [
       "<div>\n",
       "<style>\n",
       "    .dataframe thead tr:only-child th {\n",
       "        text-align: right;\n",
       "    }\n",
       "\n",
       "    .dataframe thead th {\n",
       "        text-align: left;\n",
       "    }\n",
       "\n",
       "    .dataframe tbody tr th {\n",
       "        vertical-align: top;\n",
       "    }\n",
       "</style>\n",
       "<table border=\"1\" class=\"dataframe\">\n",
       "  <thead>\n",
       "    <tr style=\"text-align: right;\">\n",
       "      <th></th>\n",
       "      <th>sku_config</th>\n",
       "      <th>product_name</th>\n",
       "      <th>brand_name</th>\n",
       "      <th>date</th>\n",
       "      <th>current_price</th>\n",
       "      <th>discount_from_rrp</th>\n",
       "      <th>n_competitor</th>\n",
       "      <th>rel_price</th>\n",
       "      <th>color_pop</th>\n",
       "      <th>brand_pop</th>\n",
       "      <th>...</th>\n",
       "      <th>predict_random_forest</th>\n",
       "      <th>predict_xgboost</th>\n",
       "      <th>diff_lasso_regression</th>\n",
       "      <th>abs_diff_lasso_regression</th>\n",
       "      <th>diff_boosted_regression_tree</th>\n",
       "      <th>abs_diff_boosted_regression_tree</th>\n",
       "      <th>diff_random_forest</th>\n",
       "      <th>abs_diff_random_forest</th>\n",
       "      <th>diff_xgboost</th>\n",
       "      <th>abs_diff_xgboost</th>\n",
       "    </tr>\n",
       "  </thead>\n",
       "  <tbody>\n",
       "    <tr>\n",
       "      <th>17564</th>\n",
       "      <td>FD2BCAA6F8E071GS</td>\n",
       "      <td>Collection Panel Tunic</td>\n",
       "      <td>ZALORA</td>\n",
       "      <td>2017-06-12</td>\n",
       "      <td>9.9</td>\n",
       "      <td>66.889632</td>\n",
       "      <td>1011</td>\n",
       "      <td>0.177655</td>\n",
       "      <td>0.086276</td>\n",
       "      <td>131015.0</td>\n",
       "      <td>...</td>\n",
       "      <td>4.708672</td>\n",
       "      <td>2.845602</td>\n",
       "      <td>-4.057325</td>\n",
       "      <td>4.057325</td>\n",
       "      <td>-3.585576</td>\n",
       "      <td>3.585576</td>\n",
       "      <td>-1.291328</td>\n",
       "      <td>1.291328</td>\n",
       "      <td>-3.154398</td>\n",
       "      <td>3.154398</td>\n",
       "    </tr>\n",
       "    <tr>\n",
       "      <th>17895</th>\n",
       "      <td>FD2BCAA6F8E071GS</td>\n",
       "      <td>Collection Panel Tunic</td>\n",
       "      <td>ZALORA</td>\n",
       "      <td>2017-06-15</td>\n",
       "      <td>9.9</td>\n",
       "      <td>66.889632</td>\n",
       "      <td>1157</td>\n",
       "      <td>0.184307</td>\n",
       "      <td>0.086276</td>\n",
       "      <td>144524.0</td>\n",
       "      <td>...</td>\n",
       "      <td>4.708672</td>\n",
       "      <td>2.845602</td>\n",
       "      <td>-3.984434</td>\n",
       "      <td>3.984434</td>\n",
       "      <td>-3.585576</td>\n",
       "      <td>3.585576</td>\n",
       "      <td>-1.291328</td>\n",
       "      <td>1.291328</td>\n",
       "      <td>-3.154398</td>\n",
       "      <td>3.154398</td>\n",
       "    </tr>\n",
       "    <tr>\n",
       "      <th>18796</th>\n",
       "      <td>FD2BCAA6F8E071GS</td>\n",
       "      <td>Collection Panel Tunic</td>\n",
       "      <td>ZALORA</td>\n",
       "      <td>2017-06-22</td>\n",
       "      <td>9.9</td>\n",
       "      <td>66.889632</td>\n",
       "      <td>2043</td>\n",
       "      <td>0.000088</td>\n",
       "      <td>0.086276</td>\n",
       "      <td>113056.0</td>\n",
       "      <td>...</td>\n",
       "      <td>3.339878</td>\n",
       "      <td>1.430258</td>\n",
       "      <td>-3.154226</td>\n",
       "      <td>3.154226</td>\n",
       "      <td>-2.754469</td>\n",
       "      <td>2.754469</td>\n",
       "      <td>-1.660122</td>\n",
       "      <td>1.660122</td>\n",
       "      <td>-3.569742</td>\n",
       "      <td>3.569742</td>\n",
       "    </tr>\n",
       "    <tr>\n",
       "      <th>17780</th>\n",
       "      <td>FD2BCAA6F8E071GS</td>\n",
       "      <td>Collection Panel Tunic</td>\n",
       "      <td>ZALORA</td>\n",
       "      <td>2017-06-14</td>\n",
       "      <td>9.9</td>\n",
       "      <td>66.889632</td>\n",
       "      <td>1121</td>\n",
       "      <td>0.182724</td>\n",
       "      <td>0.086276</td>\n",
       "      <td>136384.0</td>\n",
       "      <td>...</td>\n",
       "      <td>4.708672</td>\n",
       "      <td>2.845602</td>\n",
       "      <td>-2.028355</td>\n",
       "      <td>2.028355</td>\n",
       "      <td>-1.585576</td>\n",
       "      <td>1.585576</td>\n",
       "      <td>0.708672</td>\n",
       "      <td>0.708672</td>\n",
       "      <td>-1.154398</td>\n",
       "      <td>1.154398</td>\n",
       "    </tr>\n",
       "    <tr>\n",
       "      <th>10850</th>\n",
       "      <td>FD2BCAA6F8E071GS</td>\n",
       "      <td>Collection Panel Tunic</td>\n",
       "      <td>ZALORA</td>\n",
       "      <td>2017-04-02</td>\n",
       "      <td>14.9</td>\n",
       "      <td>50.167224</td>\n",
       "      <td>888</td>\n",
       "      <td>0.285662</td>\n",
       "      <td>0.086276</td>\n",
       "      <td>90850.0</td>\n",
       "      <td>...</td>\n",
       "      <td>1.557737</td>\n",
       "      <td>1.215130</td>\n",
       "      <td>-2.274043</td>\n",
       "      <td>2.274043</td>\n",
       "      <td>-2.304313</td>\n",
       "      <td>2.304313</td>\n",
       "      <td>-2.442263</td>\n",
       "      <td>2.442263</td>\n",
       "      <td>-2.784870</td>\n",
       "      <td>2.784870</td>\n",
       "    </tr>\n",
       "    <tr>\n",
       "      <th>11443</th>\n",
       "      <td>FD2BCAA6F8E071GS</td>\n",
       "      <td>Collection Panel Tunic</td>\n",
       "      <td>ZALORA</td>\n",
       "      <td>2017-04-06</td>\n",
       "      <td>14.9</td>\n",
       "      <td>50.167224</td>\n",
       "      <td>867</td>\n",
       "      <td>0.296357</td>\n",
       "      <td>0.086276</td>\n",
       "      <td>78492.0</td>\n",
       "      <td>...</td>\n",
       "      <td>1.548272</td>\n",
       "      <td>1.313683</td>\n",
       "      <td>-2.340724</td>\n",
       "      <td>2.340724</td>\n",
       "      <td>-2.348584</td>\n",
       "      <td>2.348584</td>\n",
       "      <td>-2.451728</td>\n",
       "      <td>2.451728</td>\n",
       "      <td>-2.686317</td>\n",
       "      <td>2.686317</td>\n",
       "    </tr>\n",
       "    <tr>\n",
       "      <th>18661</th>\n",
       "      <td>FD2BCAA6F8E071GS</td>\n",
       "      <td>Collection Panel Tunic</td>\n",
       "      <td>ZALORA</td>\n",
       "      <td>2017-06-21</td>\n",
       "      <td>9.9</td>\n",
       "      <td>66.889632</td>\n",
       "      <td>2120</td>\n",
       "      <td>0.000088</td>\n",
       "      <td>0.086276</td>\n",
       "      <td>119861.0</td>\n",
       "      <td>...</td>\n",
       "      <td>3.339878</td>\n",
       "      <td>1.430258</td>\n",
       "      <td>-2.117508</td>\n",
       "      <td>2.117508</td>\n",
       "      <td>-1.754469</td>\n",
       "      <td>1.754469</td>\n",
       "      <td>-0.660122</td>\n",
       "      <td>0.660122</td>\n",
       "      <td>-2.569742</td>\n",
       "      <td>2.569742</td>\n",
       "    </tr>\n",
       "    <tr>\n",
       "      <th>18124</th>\n",
       "      <td>FD2BCAA6F8E071GS</td>\n",
       "      <td>Collection Panel Tunic</td>\n",
       "      <td>ZALORA</td>\n",
       "      <td>2017-06-17</td>\n",
       "      <td>9.9</td>\n",
       "      <td>66.889632</td>\n",
       "      <td>2287</td>\n",
       "      <td>0.000086</td>\n",
       "      <td>0.086276</td>\n",
       "      <td>126936.0</td>\n",
       "      <td>...</td>\n",
       "      <td>3.339878</td>\n",
       "      <td>1.430258</td>\n",
       "      <td>-2.079334</td>\n",
       "      <td>2.079334</td>\n",
       "      <td>-1.754469</td>\n",
       "      <td>1.754469</td>\n",
       "      <td>-0.660122</td>\n",
       "      <td>0.660122</td>\n",
       "      <td>-2.569742</td>\n",
       "      <td>2.569742</td>\n",
       "    </tr>\n",
       "    <tr>\n",
       "      <th>12495</th>\n",
       "      <td>FD2BCAA6F8E071GS</td>\n",
       "      <td>Collection Panel Tunic</td>\n",
       "      <td>ZALORA</td>\n",
       "      <td>2017-04-16</td>\n",
       "      <td>14.9</td>\n",
       "      <td>50.167224</td>\n",
       "      <td>917</td>\n",
       "      <td>0.286088</td>\n",
       "      <td>0.086276</td>\n",
       "      <td>100224.0</td>\n",
       "      <td>...</td>\n",
       "      <td>1.530846</td>\n",
       "      <td>1.479443</td>\n",
       "      <td>-1.223464</td>\n",
       "      <td>1.223464</td>\n",
       "      <td>-1.168912</td>\n",
       "      <td>1.168912</td>\n",
       "      <td>-1.469154</td>\n",
       "      <td>1.469154</td>\n",
       "      <td>-1.520557</td>\n",
       "      <td>1.520557</td>\n",
       "    </tr>\n",
       "    <tr>\n",
       "      <th>16554</th>\n",
       "      <td>FD2BCAA6F8E071GS</td>\n",
       "      <td>Collection Panel Tunic</td>\n",
       "      <td>ZALORA</td>\n",
       "      <td>2017-05-29</td>\n",
       "      <td>10.0</td>\n",
       "      <td>66.555184</td>\n",
       "      <td>932</td>\n",
       "      <td>0.200100</td>\n",
       "      <td>0.086276</td>\n",
       "      <td>105266.0</td>\n",
       "      <td>...</td>\n",
       "      <td>1.604540</td>\n",
       "      <td>1.599764</td>\n",
       "      <td>-1.196259</td>\n",
       "      <td>1.196259</td>\n",
       "      <td>-1.066310</td>\n",
       "      <td>1.066310</td>\n",
       "      <td>-1.395460</td>\n",
       "      <td>1.395460</td>\n",
       "      <td>-1.400236</td>\n",
       "      <td>1.400236</td>\n",
       "    </tr>\n",
       "  </tbody>\n",
       "</table>\n",
       "<p>10 rows × 24 columns</p>\n",
       "</div>"
      ],
      "text/plain": [
       "             sku_config            product_name brand_name       date  \\\n",
       "17564  FD2BCAA6F8E071GS  Collection Panel Tunic     ZALORA 2017-06-12   \n",
       "17895  FD2BCAA6F8E071GS  Collection Panel Tunic     ZALORA 2017-06-15   \n",
       "18796  FD2BCAA6F8E071GS  Collection Panel Tunic     ZALORA 2017-06-22   \n",
       "17780  FD2BCAA6F8E071GS  Collection Panel Tunic     ZALORA 2017-06-14   \n",
       "10850  FD2BCAA6F8E071GS  Collection Panel Tunic     ZALORA 2017-04-02   \n",
       "11443  FD2BCAA6F8E071GS  Collection Panel Tunic     ZALORA 2017-04-06   \n",
       "18661  FD2BCAA6F8E071GS  Collection Panel Tunic     ZALORA 2017-06-21   \n",
       "18124  FD2BCAA6F8E071GS  Collection Panel Tunic     ZALORA 2017-06-17   \n",
       "12495  FD2BCAA6F8E071GS  Collection Panel Tunic     ZALORA 2017-04-16   \n",
       "16554  FD2BCAA6F8E071GS  Collection Panel Tunic     ZALORA 2017-05-29   \n",
       "\n",
       "       current_price  discount_from_rrp  n_competitor  rel_price  color_pop  \\\n",
       "17564            9.9          66.889632          1011   0.177655   0.086276   \n",
       "17895            9.9          66.889632          1157   0.184307   0.086276   \n",
       "18796            9.9          66.889632          2043   0.000088   0.086276   \n",
       "17780            9.9          66.889632          1121   0.182724   0.086276   \n",
       "10850           14.9          50.167224           888   0.285662   0.086276   \n",
       "11443           14.9          50.167224           867   0.296357   0.086276   \n",
       "18661            9.9          66.889632          2120   0.000088   0.086276   \n",
       "18124            9.9          66.889632          2287   0.000086   0.086276   \n",
       "12495           14.9          50.167224           917   0.286088   0.086276   \n",
       "16554           10.0          66.555184           932   0.200100   0.086276   \n",
       "\n",
       "       brand_pop        ...         predict_random_forest  predict_xgboost  \\\n",
       "17564   131015.0        ...                      4.708672         2.845602   \n",
       "17895   144524.0        ...                      4.708672         2.845602   \n",
       "18796   113056.0        ...                      3.339878         1.430258   \n",
       "17780   136384.0        ...                      4.708672         2.845602   \n",
       "10850    90850.0        ...                      1.557737         1.215130   \n",
       "11443    78492.0        ...                      1.548272         1.313683   \n",
       "18661   119861.0        ...                      3.339878         1.430258   \n",
       "18124   126936.0        ...                      3.339878         1.430258   \n",
       "12495   100224.0        ...                      1.530846         1.479443   \n",
       "16554   105266.0        ...                      1.604540         1.599764   \n",
       "\n",
       "       diff_lasso_regression  abs_diff_lasso_regression  \\\n",
       "17564              -4.057325                   4.057325   \n",
       "17895              -3.984434                   3.984434   \n",
       "18796              -3.154226                   3.154226   \n",
       "17780              -2.028355                   2.028355   \n",
       "10850              -2.274043                   2.274043   \n",
       "11443              -2.340724                   2.340724   \n",
       "18661              -2.117508                   2.117508   \n",
       "18124              -2.079334                   2.079334   \n",
       "12495              -1.223464                   1.223464   \n",
       "16554              -1.196259                   1.196259   \n",
       "\n",
       "       diff_boosted_regression_tree  abs_diff_boosted_regression_tree  \\\n",
       "17564                     -3.585576                          3.585576   \n",
       "17895                     -3.585576                          3.585576   \n",
       "18796                     -2.754469                          2.754469   \n",
       "17780                     -1.585576                          1.585576   \n",
       "10850                     -2.304313                          2.304313   \n",
       "11443                     -2.348584                          2.348584   \n",
       "18661                     -1.754469                          1.754469   \n",
       "18124                     -1.754469                          1.754469   \n",
       "12495                     -1.168912                          1.168912   \n",
       "16554                     -1.066310                          1.066310   \n",
       "\n",
       "       diff_random_forest  abs_diff_random_forest  diff_xgboost  \\\n",
       "17564           -1.291328                1.291328     -3.154398   \n",
       "17895           -1.291328                1.291328     -3.154398   \n",
       "18796           -1.660122                1.660122     -3.569742   \n",
       "17780            0.708672                0.708672     -1.154398   \n",
       "10850           -2.442263                2.442263     -2.784870   \n",
       "11443           -2.451728                2.451728     -2.686317   \n",
       "18661           -0.660122                0.660122     -2.569742   \n",
       "18124           -0.660122                0.660122     -2.569742   \n",
       "12495           -1.469154                1.469154     -1.520557   \n",
       "16554           -1.395460                1.395460     -1.400236   \n",
       "\n",
       "       abs_diff_xgboost  \n",
       "17564          3.154398  \n",
       "17895          3.154398  \n",
       "18796          3.569742  \n",
       "17780          1.154398  \n",
       "10850          2.784870  \n",
       "11443          2.686317  \n",
       "18661          2.569742  \n",
       "18124          2.569742  \n",
       "12495          1.520557  \n",
       "16554          1.400236  \n",
       "\n",
       "[10 rows x 24 columns]"
      ]
     },
     "execution_count": 120,
     "metadata": {},
     "output_type": "execute_result"
    }
   ],
   "source": [
    "inspect_results(cf='FD2BCAA6F8E071GS')"
   ]
  },
  {
   "cell_type": "code",
   "execution_count": 96,
   "metadata": {
    "ExecuteTime": {
     "end_time": "2017-10-03T17:10:31.555443Z",
     "start_time": "2017-10-03T17:10:31.242495Z"
    },
    "collapsed": false
   },
   "outputs": [
    {
     "data": {
      "image/png": "[encoded data removed]",
      "text/plain": [
       "<matplotlib.figure.Figure at 0x190655898>"
      ]
     },
     "metadata": {},
     "output_type": "display_data"
    },
    {
     "name": "stdout",
     "output_type": "stream",
     "text": [
      "\n",
      "Samples of prediction:\n"
     ]
    },
    {
     "data": {
      "text/html": [
       "<div>\n",
       "<style>\n",
       "    .dataframe thead tr:only-child th {\n",
       "        text-align: right;\n",
       "    }\n",
       "\n",
       "    .dataframe thead th {\n",
       "        text-align: left;\n",
       "    }\n",
       "\n",
       "    .dataframe tbody tr th {\n",
       "        vertical-align: top;\n",
       "    }\n",
       "</style>\n",
       "<table border=\"1\" class=\"dataframe\">\n",
       "  <thead>\n",
       "    <tr style=\"text-align: right;\">\n",
       "      <th></th>\n",
       "      <th>n_sold</th>\n",
       "      <th>predict_ridge_regression</th>\n",
       "      <th>predict_lasso_regression</th>\n",
       "      <th>predict_boosted_regression_tree</th>\n",
       "      <th>predict_random_forest</th>\n",
       "      <th>predict_xgboost</th>\n",
       "    </tr>\n",
       "  </thead>\n",
       "  <tbody>\n",
       "    <tr>\n",
       "      <th>10368</th>\n",
       "      <td>4</td>\n",
       "      <td>1.321773</td>\n",
       "      <td>1.297121</td>\n",
       "      <td>2.290383</td>\n",
       "      <td>1.537178</td>\n",
       "      <td>1.501579</td>\n",
       "    </tr>\n",
       "    <tr>\n",
       "      <th>10208</th>\n",
       "      <td>2</td>\n",
       "      <td>1.320036</td>\n",
       "      <td>1.291499</td>\n",
       "      <td>2.519122</td>\n",
       "      <td>1.536722</td>\n",
       "      <td>1.669147</td>\n",
       "    </tr>\n",
       "    <tr>\n",
       "      <th>12486</th>\n",
       "      <td>2</td>\n",
       "      <td>1.285629</td>\n",
       "      <td>1.284360</td>\n",
       "      <td>1.433338</td>\n",
       "      <td>1.205358</td>\n",
       "      <td>1.274284</td>\n",
       "    </tr>\n",
       "    <tr>\n",
       "      <th>10026</th>\n",
       "      <td>1</td>\n",
       "      <td>1.325666</td>\n",
       "      <td>1.299463</td>\n",
       "      <td>2.112235</td>\n",
       "      <td>1.537659</td>\n",
       "      <td>1.273325</td>\n",
       "    </tr>\n",
       "    <tr>\n",
       "      <th>11561</th>\n",
       "      <td>1</td>\n",
       "      <td>1.308556</td>\n",
       "      <td>1.285515</td>\n",
       "      <td>3.231235</td>\n",
       "      <td>1.473354</td>\n",
       "      <td>1.522126</td>\n",
       "    </tr>\n",
       "    <tr>\n",
       "      <th>12061</th>\n",
       "      <td>1</td>\n",
       "      <td>1.284537</td>\n",
       "      <td>1.279019</td>\n",
       "      <td>1.504668</td>\n",
       "      <td>1.232543</td>\n",
       "      <td>1.274284</td>\n",
       "    </tr>\n",
       "    <tr>\n",
       "      <th>12590</th>\n",
       "      <td>1</td>\n",
       "      <td>1.278611</td>\n",
       "      <td>1.276968</td>\n",
       "      <td>0.957668</td>\n",
       "      <td>1.166325</td>\n",
       "      <td>1.064505</td>\n",
       "    </tr>\n",
       "    <tr>\n",
       "      <th>13531</th>\n",
       "      <td>1</td>\n",
       "      <td>1.286871</td>\n",
       "      <td>1.293301</td>\n",
       "      <td>1.359779</td>\n",
       "      <td>1.250577</td>\n",
       "      <td>1.236209</td>\n",
       "    </tr>\n",
       "    <tr>\n",
       "      <th>13806</th>\n",
       "      <td>1</td>\n",
       "      <td>1.310942</td>\n",
       "      <td>1.328907</td>\n",
       "      <td>1.259664</td>\n",
       "      <td>1.263579</td>\n",
       "      <td>0.976090</td>\n",
       "    </tr>\n",
       "    <tr>\n",
       "      <th>14296</th>\n",
       "      <td>1</td>\n",
       "      <td>1.309757</td>\n",
       "      <td>1.324677</td>\n",
       "      <td>1.259664</td>\n",
       "      <td>1.263579</td>\n",
       "      <td>0.976090</td>\n",
       "    </tr>\n",
       "  </tbody>\n",
       "</table>\n",
       "</div>"
      ],
      "text/plain": [
       "       n_sold  predict_ridge_regression  predict_lasso_regression  \\\n",
       "10368       4                  1.321773                  1.297121   \n",
       "10208       2                  1.320036                  1.291499   \n",
       "12486       2                  1.285629                  1.284360   \n",
       "10026       1                  1.325666                  1.299463   \n",
       "11561       1                  1.308556                  1.285515   \n",
       "12061       1                  1.284537                  1.279019   \n",
       "12590       1                  1.278611                  1.276968   \n",
       "13531       1                  1.286871                  1.293301   \n",
       "13806       1                  1.310942                  1.328907   \n",
       "14296       1                  1.309757                  1.324677   \n",
       "\n",
       "       predict_boosted_regression_tree  predict_random_forest  predict_xgboost  \n",
       "10368                         2.290383               1.537178         1.501579  \n",
       "10208                         2.519122               1.536722         1.669147  \n",
       "12486                         1.433338               1.205358         1.274284  \n",
       "10026                         2.112235               1.537659         1.273325  \n",
       "11561                         3.231235               1.473354         1.522126  \n",
       "12061                         1.504668               1.232543         1.274284  \n",
       "12590                         0.957668               1.166325         1.064505  \n",
       "13531                         1.359779               1.250577         1.236209  \n",
       "13806                         1.259664               1.263579         0.976090  \n",
       "14296                         1.259664               1.263579         0.976090  "
      ]
     },
     "execution_count": 96,
     "metadata": {},
     "output_type": "execute_result"
    }
   ],
   "source": [
    "inspect_results(cf='MA193AA06RQJMY')"
   ]
  },
  {
   "cell_type": "code",
   "execution_count": 105,
   "metadata": {
    "ExecuteTime": {
     "end_time": "2017-10-03T17:14:27.098709Z",
     "start_time": "2017-10-03T17:14:26.812351Z"
    },
    "collapsed": true
   },
   "outputs": [
    {
     "data": {
      "image/png": "[encoded data removed]",
      "text/plain": [
       "<matplotlib.figure.Figure at 0x13f317128>"
      ]
     },
     "metadata": {},
     "output_type": "display_data"
    },
    {
     "name": "stdout",
     "output_type": "stream",
     "text": [
      "\n",
      "Samples of prediction:\n"
     ]
    },
    {
     "data": {
      "text/html": [
       "<div>\n",
       "<style>\n",
       "    .dataframe thead tr:only-child th {\n",
       "        text-align: right;\n",
       "    }\n",
       "\n",
       "    .dataframe thead th {\n",
       "        text-align: left;\n",
       "    }\n",
       "\n",
       "    .dataframe tbody tr th {\n",
       "        vertical-align: top;\n",
       "    }\n",
       "</style>\n",
       "<table border=\"1\" class=\"dataframe\">\n",
       "  <thead>\n",
       "    <tr style=\"text-align: right;\">\n",
       "      <th></th>\n",
       "      <th>n_sold</th>\n",
       "      <th>predict_ridge_regression</th>\n",
       "      <th>predict_lasso_regression</th>\n",
       "      <th>predict_boosted_regression_tree</th>\n",
       "      <th>predict_random_forest</th>\n",
       "      <th>predict_xgboost</th>\n",
       "    </tr>\n",
       "  </thead>\n",
       "  <tbody>\n",
       "    <tr>\n",
       "      <th>11068</th>\n",
       "      <td>6</td>\n",
       "      <td>1.607148</td>\n",
       "      <td>1.742667</td>\n",
       "      <td>2.289803</td>\n",
       "      <td>1.845940</td>\n",
       "      <td>1.390712</td>\n",
       "    </tr>\n",
       "    <tr>\n",
       "      <th>10114</th>\n",
       "      <td>5</td>\n",
       "      <td>1.597615</td>\n",
       "      <td>1.719811</td>\n",
       "      <td>2.336124</td>\n",
       "      <td>1.530846</td>\n",
       "      <td>1.469480</td>\n",
       "    </tr>\n",
       "    <tr>\n",
       "      <th>10296</th>\n",
       "      <td>3</td>\n",
       "      <td>1.542368</td>\n",
       "      <td>1.648539</td>\n",
       "      <td>1.492717</td>\n",
       "      <td>1.337587</td>\n",
       "      <td>1.163692</td>\n",
       "    </tr>\n",
       "    <tr>\n",
       "      <th>11214</th>\n",
       "      <td>3</td>\n",
       "      <td>1.617430</td>\n",
       "      <td>1.758622</td>\n",
       "      <td>2.289803</td>\n",
       "      <td>1.845940</td>\n",
       "      <td>1.390712</td>\n",
       "    </tr>\n",
       "    <tr>\n",
       "      <th>10458</th>\n",
       "      <td>2</td>\n",
       "      <td>1.601461</td>\n",
       "      <td>1.728762</td>\n",
       "      <td>2.336124</td>\n",
       "      <td>1.530846</td>\n",
       "      <td>1.469480</td>\n",
       "    </tr>\n",
       "    <tr>\n",
       "      <th>10604</th>\n",
       "      <td>2</td>\n",
       "      <td>1.516046</td>\n",
       "      <td>1.620190</td>\n",
       "      <td>1.349104</td>\n",
       "      <td>1.263579</td>\n",
       "      <td>0.986568</td>\n",
       "    </tr>\n",
       "    <tr>\n",
       "      <th>11859</th>\n",
       "      <td>2</td>\n",
       "      <td>1.660078</td>\n",
       "      <td>1.802419</td>\n",
       "      <td>2.247330</td>\n",
       "      <td>1.842131</td>\n",
       "      <td>1.335949</td>\n",
       "    </tr>\n",
       "    <tr>\n",
       "      <th>10745</th>\n",
       "      <td>1</td>\n",
       "      <td>1.553668</td>\n",
       "      <td>1.672016</td>\n",
       "      <td>2.247330</td>\n",
       "      <td>1.842131</td>\n",
       "      <td>1.289494</td>\n",
       "    </tr>\n",
       "    <tr>\n",
       "      <th>10908</th>\n",
       "      <td>1</td>\n",
       "      <td>1.619384</td>\n",
       "      <td>1.725957</td>\n",
       "      <td>2.206467</td>\n",
       "      <td>1.842131</td>\n",
       "      <td>1.338556</td>\n",
       "    </tr>\n",
       "    <tr>\n",
       "      <th>12710</th>\n",
       "      <td>1</td>\n",
       "      <td>1.510490</td>\n",
       "      <td>1.607100</td>\n",
       "      <td>1.294447</td>\n",
       "      <td>1.263579</td>\n",
       "      <td>0.977955</td>\n",
       "    </tr>\n",
       "  </tbody>\n",
       "</table>\n",
       "</div>"
      ],
      "text/plain": [
       "       n_sold  predict_ridge_regression  predict_lasso_regression  \\\n",
       "11068       6                  1.607148                  1.742667   \n",
       "10114       5                  1.597615                  1.719811   \n",
       "10296       3                  1.542368                  1.648539   \n",
       "11214       3                  1.617430                  1.758622   \n",
       "10458       2                  1.601461                  1.728762   \n",
       "10604       2                  1.516046                  1.620190   \n",
       "11859       2                  1.660078                  1.802419   \n",
       "10745       1                  1.553668                  1.672016   \n",
       "10908       1                  1.619384                  1.725957   \n",
       "12710       1                  1.510490                  1.607100   \n",
       "\n",
       "       predict_boosted_regression_tree  predict_random_forest  predict_xgboost  \n",
       "11068                         2.289803               1.845940         1.390712  \n",
       "10114                         2.336124               1.530846         1.469480  \n",
       "10296                         1.492717               1.337587         1.163692  \n",
       "11214                         2.289803               1.845940         1.390712  \n",
       "10458                         2.336124               1.530846         1.469480  \n",
       "10604                         1.349104               1.263579         0.986568  \n",
       "11859                         2.247330               1.842131         1.335949  \n",
       "10745                         2.247330               1.842131         1.289494  \n",
       "10908                         2.206467               1.842131         1.338556  \n",
       "12710                         1.294447               1.263579         0.977955  "
      ]
     },
     "execution_count": 105,
     "metadata": {},
     "output_type": "execute_result"
    }
   ],
   "source": [
    "inspect_results(cf='D50D7AAF27C667GS')"
   ]
  },
  {
   "cell_type": "code",
   "execution_count": 107,
   "metadata": {
    "ExecuteTime": {
     "end_time": "2017-10-03T17:17:20.938582Z",
     "start_time": "2017-10-03T17:17:20.644953Z"
    },
    "collapsed": false,
    "scrolled": true
   },
   "outputs": [
    {
     "data": {
      "image/png": "[encoded data removed]",
      "text/plain": [
       "<matplotlib.figure.Figure at 0x1837809e8>"
      ]
     },
     "metadata": {},
     "output_type": "display_data"
    },
    {
     "name": "stdout",
     "output_type": "stream",
     "text": [
      "\n",
      "Samples of prediction:\n"
     ]
    },
    {
     "data": {
      "text/html": [
       "<div>\n",
       "<style>\n",
       "    .dataframe thead tr:only-child th {\n",
       "        text-align: right;\n",
       "    }\n",
       "\n",
       "    .dataframe thead th {\n",
       "        text-align: left;\n",
       "    }\n",
       "\n",
       "    .dataframe tbody tr th {\n",
       "        vertical-align: top;\n",
       "    }\n",
       "</style>\n",
       "<table border=\"1\" class=\"dataframe\">\n",
       "  <thead>\n",
       "    <tr style=\"text-align: right;\">\n",
       "      <th></th>\n",
       "      <th>n_sold</th>\n",
       "      <th>predict_ridge_regression</th>\n",
       "      <th>predict_lasso_regression</th>\n",
       "      <th>predict_boosted_regression_tree</th>\n",
       "      <th>predict_random_forest</th>\n",
       "      <th>predict_xgboost</th>\n",
       "    </tr>\n",
       "  </thead>\n",
       "  <tbody>\n",
       "    <tr>\n",
       "      <th>16314</th>\n",
       "      <td>3</td>\n",
       "      <td>1.425365</td>\n",
       "      <td>1.532752</td>\n",
       "      <td>1.211397</td>\n",
       "      <td>1.337273</td>\n",
       "      <td>1.103695</td>\n",
       "    </tr>\n",
       "    <tr>\n",
       "      <th>18383</th>\n",
       "      <td>2</td>\n",
       "      <td>1.550177</td>\n",
       "      <td>1.543166</td>\n",
       "      <td>1.614357</td>\n",
       "      <td>3.202944</td>\n",
       "      <td>1.047762</td>\n",
       "    </tr>\n",
       "    <tr>\n",
       "      <th>12493</th>\n",
       "      <td>2</td>\n",
       "      <td>1.381284</td>\n",
       "      <td>1.441252</td>\n",
       "      <td>1.295225</td>\n",
       "      <td>1.263579</td>\n",
       "      <td>0.991987</td>\n",
       "    </tr>\n",
       "    <tr>\n",
       "      <th>14948</th>\n",
       "      <td>2</td>\n",
       "      <td>1.424011</td>\n",
       "      <td>1.533092</td>\n",
       "      <td>1.278720</td>\n",
       "      <td>1.337273</td>\n",
       "      <td>1.103695</td>\n",
       "    </tr>\n",
       "    <tr>\n",
       "      <th>15304</th>\n",
       "      <td>1</td>\n",
       "      <td>1.358568</td>\n",
       "      <td>1.446782</td>\n",
       "      <td>1.267413</td>\n",
       "      <td>1.337273</td>\n",
       "      <td>1.103695</td>\n",
       "    </tr>\n",
       "    <tr>\n",
       "      <th>18123</th>\n",
       "      <td>1</td>\n",
       "      <td>1.567343</td>\n",
       "      <td>1.565056</td>\n",
       "      <td>1.614357</td>\n",
       "      <td>3.202944</td>\n",
       "      <td>1.047762</td>\n",
       "    </tr>\n",
       "    <tr>\n",
       "      <th>17778</th>\n",
       "      <td>1</td>\n",
       "      <td>1.470401</td>\n",
       "      <td>1.579010</td>\n",
       "      <td>1.770311</td>\n",
       "      <td>4.441405</td>\n",
       "      <td>2.463106</td>\n",
       "    </tr>\n",
       "    <tr>\n",
       "      <th>17372</th>\n",
       "      <td>1</td>\n",
       "      <td>1.426529</td>\n",
       "      <td>1.520105</td>\n",
       "      <td>1.783249</td>\n",
       "      <td>4.441405</td>\n",
       "      <td>2.463106</td>\n",
       "    </tr>\n",
       "    <tr>\n",
       "      <th>17093</th>\n",
       "      <td>1</td>\n",
       "      <td>1.403649</td>\n",
       "      <td>1.494146</td>\n",
       "      <td>1.771942</td>\n",
       "      <td>4.441405</td>\n",
       "      <td>2.463106</td>\n",
       "    </tr>\n",
       "    <tr>\n",
       "      <th>16182</th>\n",
       "      <td>1</td>\n",
       "      <td>1.438887</td>\n",
       "      <td>1.550580</td>\n",
       "      <td>1.344130</td>\n",
       "      <td>1.337273</td>\n",
       "      <td>1.103695</td>\n",
       "    </tr>\n",
       "  </tbody>\n",
       "</table>\n",
       "</div>"
      ],
      "text/plain": [
       "       n_sold  predict_ridge_regression  predict_lasso_regression  \\\n",
       "16314       3                  1.425365                  1.532752   \n",
       "18383       2                  1.550177                  1.543166   \n",
       "12493       2                  1.381284                  1.441252   \n",
       "14948       2                  1.424011                  1.533092   \n",
       "15304       1                  1.358568                  1.446782   \n",
       "18123       1                  1.567343                  1.565056   \n",
       "17778       1                  1.470401                  1.579010   \n",
       "17372       1                  1.426529                  1.520105   \n",
       "17093       1                  1.403649                  1.494146   \n",
       "16182       1                  1.438887                  1.550580   \n",
       "\n",
       "       predict_boosted_regression_tree  predict_random_forest  predict_xgboost  \n",
       "16314                         1.211397               1.337273         1.103695  \n",
       "18383                         1.614357               3.202944         1.047762  \n",
       "12493                         1.295225               1.263579         0.991987  \n",
       "14948                         1.278720               1.337273         1.103695  \n",
       "15304                         1.267413               1.337273         1.103695  \n",
       "18123                         1.614357               3.202944         1.047762  \n",
       "17778                         1.770311               4.441405         2.463106  \n",
       "17372                         1.783249               4.441405         2.463106  \n",
       "17093                         1.771942               4.441405         2.463106  \n",
       "16182                         1.344130               1.337273         1.103695  "
      ]
     },
     "execution_count": 107,
     "metadata": {},
     "output_type": "execute_result"
    }
   ],
   "source": [
    "inspect_results(cf='AE783AAF4A0DE3GS')"
   ]
  },
  {
   "cell_type": "markdown",
   "metadata": {
    "heading_collapsed": true
   },
   "source": [
    "## Female tops"
   ]
  },
  {
   "cell_type": "markdown",
   "metadata": {
    "heading_collapsed": true,
    "hidden": true
   },
   "source": [
    "### Train & Predict"
   ]
  },
  {
   "cell_type": "code",
   "execution_count": 19,
   "metadata": {
    "ExecuteTime": {
     "end_time": "2017-10-05T10:38:57.089365Z",
     "start_time": "2017-10-05T10:37:36.245401Z"
    },
    "collapsed": false,
    "hidden": true,
    "scrolled": true
   },
   "outputs": [
    {
     "name": "stdout",
     "output_type": "stream",
     "text": [
      "Preparing data of group tops_female_autumn-winter...\n",
      "\t dropped NA configs\n",
      "Whole data spans from 2016-04-17 to 2017-06-27\n",
      "Split training and test sets by date 2017-03-30 00:00:00\n",
      "\n",
      " # records in training: 5376\n",
      "Training data span ~11 months\n",
      "\n",
      "# records in test: 4515\n",
      "Test data span ~2 months\n",
      "Performing CV for lasso_regression...\n",
      "Fitting 3 folds for each of 3 candidates, totalling 9 fits\n"
     ]
    },
    {
     "name": "stderr",
     "output_type": "stream",
     "text": [
      "[Parallel(n_jobs=1)]: Done   9 out of   9 | elapsed:    0.1s finished\n"
     ]
    },
    {
     "name": "stdout",
     "output_type": "stream",
     "text": [
      "-0.02317318785\n",
      "{'alpha': 10.0}\n",
      "Performing CV for boosted_regression_tree...\n",
      "Fitting 3 folds for each of 40 candidates, totalling 120 fits\n"
     ]
    },
    {
     "name": "stderr",
     "output_type": "stream",
     "text": [
      "[Parallel(n_jobs=1)]: Done 120 out of 120 | elapsed:   24.7s finished\n"
     ]
    },
    {
     "name": "stdout",
     "output_type": "stream",
     "text": [
      "-0.0593721515334\n",
      "{'max_depth': 7, 'n_estimators': 10}\n",
      "Performing CV for random_forest...\n",
      "Fitting 3 folds for each of 40 candidates, totalling 120 fits\n"
     ]
    },
    {
     "name": "stderr",
     "output_type": "stream",
     "text": [
      "[Parallel(n_jobs=1)]: Done 120 out of 120 | elapsed:   30.7s finished\n"
     ]
    },
    {
     "name": "stdout",
     "output_type": "stream",
     "text": [
      "-0.0840748128158\n",
      "{'max_depth': 3, 'n_estimators': 10}\n",
      "Performing CV for xgboost...\n",
      "Fitting 3 folds for each of 40 candidates, totalling 120 fits\n",
      "-0.014746885358\n",
      "{'max_depth': 5, 'n_estimators': 20}\n"
     ]
    },
    {
     "name": "stderr",
     "output_type": "stream",
     "text": [
      "[Parallel(n_jobs=1)]: Done 120 out of 120 | elapsed:   14.7s finished\n"
     ]
    }
   ],
   "source": [
    "rmse_df, predictions = benchmark(models, feats, group='tops_female_autumn-winter')"
   ]
  },
  {
   "cell_type": "markdown",
   "metadata": {
    "heading_collapsed": true,
    "hidden": true
   },
   "source": [
    "### Group level evaluations"
   ]
  },
  {
   "cell_type": "code",
   "execution_count": 20,
   "metadata": {
    "ExecuteTime": {
     "end_time": "2017-10-05T10:38:57.232176Z",
     "start_time": "2017-10-05T10:38:57.221272Z"
    },
    "collapsed": false,
    "hidden": true
   },
   "outputs": [
    {
     "data": {
      "text/html": [
       "<div>\n",
       "<style>\n",
       "    .dataframe thead tr:only-child th {\n",
       "        text-align: right;\n",
       "    }\n",
       "\n",
       "    .dataframe thead th {\n",
       "        text-align: left;\n",
       "    }\n",
       "\n",
       "    .dataframe tbody tr th {\n",
       "        vertical-align: top;\n",
       "    }\n",
       "</style>\n",
       "<table border=\"1\" class=\"dataframe\">\n",
       "  <thead>\n",
       "    <tr style=\"text-align: right;\">\n",
       "      <th></th>\n",
       "      <th>model</th>\n",
       "      <th>test_rmse</th>\n",
       "      <th>train_rmse</th>\n",
       "    </tr>\n",
       "  </thead>\n",
       "  <tbody>\n",
       "    <tr>\n",
       "      <th>0</th>\n",
       "      <td>Lasso Regression</td>\n",
       "      <td>0.791171</td>\n",
       "      <td>0.734089</td>\n",
       "    </tr>\n",
       "    <tr>\n",
       "      <th>2</th>\n",
       "      <td>Random Forest</td>\n",
       "      <td>0.818641</td>\n",
       "      <td>0.705663</td>\n",
       "    </tr>\n",
       "    <tr>\n",
       "      <th>3</th>\n",
       "      <td>XGBoost</td>\n",
       "      <td>0.853794</td>\n",
       "      <td>0.614396</td>\n",
       "    </tr>\n",
       "    <tr>\n",
       "      <th>1</th>\n",
       "      <td>Boosted Regression Tree</td>\n",
       "      <td>0.925981</td>\n",
       "      <td>0.574477</td>\n",
       "    </tr>\n",
       "  </tbody>\n",
       "</table>\n",
       "</div>"
      ],
      "text/plain": [
       "                     model  test_rmse  train_rmse\n",
       "0         Lasso Regression   0.791171    0.734089\n",
       "2            Random Forest   0.818641    0.705663\n",
       "3                  XGBoost   0.853794    0.614396\n",
       "1  Boosted Regression Tree   0.925981    0.574477"
      ]
     },
     "execution_count": 20,
     "metadata": {},
     "output_type": "execute_result"
    }
   ],
   "source": [
    "rmse_df"
   ]
  },
  {
   "cell_type": "markdown",
   "metadata": {
    "heading_collapsed": true,
    "hidden": true
   },
   "source": [
    "### Config level evaluations "
   ]
  },
  {
   "cell_type": "code",
   "execution_count": 24,
   "metadata": {
    "ExecuteTime": {
     "end_time": "2017-10-05T10:49:54.567321Z",
     "start_time": "2017-10-05T10:49:54.354295Z"
    },
    "collapsed": true,
    "hidden": true
   },
   "outputs": [
    {
     "ename": "IndexError",
     "evalue": "single positional indexer is out-of-bounds",
     "output_type": "error",
     "traceback": [
      "\u001b[0;31m---------------------------------------------------------------------------\u001b[0m",
      "\u001b[0;31mIndexError\u001b[0m                                Traceback (most recent call last)",
      "\u001b[0;32m<ipython-input-24-0a3ebfc326fc>\u001b[0m in \u001b[0;36m<module>\u001b[0;34m()\u001b[0m\n\u001b[0;32m----> 1\u001b[0;31m \u001b[0minspect_results\u001b[0m\u001b[0;34m(\u001b[0m\u001b[0mcf\u001b[0m\u001b[0;34m=\u001b[0m\u001b[0;34m'MA193AA07ZKEMY'\u001b[0m\u001b[0;34m)\u001b[0m\u001b[0;34m\u001b[0m\u001b[0m\n\u001b[0m",
      "\u001b[0;32m<ipython-input-23-22ee0cc37209>\u001b[0m in \u001b[0;36minspect_results\u001b[0;34m(cf)\u001b[0m\n\u001b[1;32m      6\u001b[0m \u001b[0;34m\u001b[0m\u001b[0m\n\u001b[1;32m      7\u001b[0m \u001b[0;32mdef\u001b[0m \u001b[0minspect_results\u001b[0m\u001b[0;34m(\u001b[0m\u001b[0mcf\u001b[0m\u001b[0;34m)\u001b[0m\u001b[0;34m:\u001b[0m\u001b[0;34m\u001b[0m\u001b[0m\n\u001b[0;32m----> 8\u001b[0;31m     \u001b[0mcf_pred\u001b[0m\u001b[0;34m,\u001b[0m \u001b[0mfig\u001b[0m \u001b[0;34m=\u001b[0m \u001b[0mevaluate\u001b[0m\u001b[0;34m(\u001b[0m\u001b[0mpredictions\u001b[0m\u001b[0;34m,\u001b[0m \u001b[0mcf\u001b[0m\u001b[0;34m,\u001b[0m \u001b[0mfig_size\u001b[0m\u001b[0;34m=\u001b[0m\u001b[0;34m(\u001b[0m\u001b[0;36m16\u001b[0m\u001b[0;34m,\u001b[0m \u001b[0;36m8\u001b[0m\u001b[0;34m)\u001b[0m\u001b[0;34m)\u001b[0m\u001b[0;34m\u001b[0m\u001b[0m\n\u001b[0m\u001b[1;32m      9\u001b[0m     \u001b[0mpl\u001b[0m\u001b[0;34m.\u001b[0m\u001b[0mshow\u001b[0m\u001b[0;34m(\u001b[0m\u001b[0;34m)\u001b[0m\u001b[0;34m;\u001b[0m \u001b[0mpl\u001b[0m\u001b[0;34m.\u001b[0m\u001b[0mclose\u001b[0m\u001b[0;34m(\u001b[0m\u001b[0;34m)\u001b[0m\u001b[0;34m\u001b[0m\u001b[0m\n\u001b[1;32m     10\u001b[0m     \u001b[0mprint\u001b[0m\u001b[0;34m(\u001b[0m\u001b[0;34m)\u001b[0m\u001b[0;34m\u001b[0m\u001b[0m\n",
      "\u001b[0;32m<ipython-input-9-f7cd0e0321a6>\u001b[0m in \u001b[0;36mevaluate\u001b[0;34m(predictions, cf, fig_size)\u001b[0m\n\u001b[1;32m     26\u001b[0m \u001b[0;34m\u001b[0m\u001b[0m\n\u001b[1;32m     27\u001b[0m \u001b[0;34m\u001b[0m\u001b[0m\n\u001b[0;32m---> 28\u001b[0;31m     \u001b[0mprod_name\u001b[0m \u001b[0;34m=\u001b[0m \u001b[0mcf_pred\u001b[0m\u001b[0;34m[\u001b[0m\u001b[0;34m'product_name'\u001b[0m\u001b[0;34m]\u001b[0m\u001b[0;34m.\u001b[0m\u001b[0miloc\u001b[0m\u001b[0;34m[\u001b[0m\u001b[0;36m0\u001b[0m\u001b[0;34m]\u001b[0m\u001b[0;34m\u001b[0m\u001b[0m\n\u001b[0m\u001b[1;32m     29\u001b[0m     \u001b[0mfig\u001b[0m \u001b[0;34m=\u001b[0m \u001b[0mviz\u001b[0m\u001b[0;34m(\u001b[0m\u001b[0mpredictions\u001b[0m\u001b[0;34m,\u001b[0m \u001b[0mcf\u001b[0m\u001b[0;34m,\u001b[0m \u001b[0mprod_name\u001b[0m\u001b[0;34m,\u001b[0m \u001b[0mfig_size\u001b[0m\u001b[0;34m)\u001b[0m\u001b[0;34m\u001b[0m\u001b[0m\n\u001b[1;32m     30\u001b[0m     \u001b[0;32mreturn\u001b[0m \u001b[0mcf_pred\u001b[0m\u001b[0;34m,\u001b[0m \u001b[0mfig\u001b[0m\u001b[0;34m\u001b[0m\u001b[0m\n",
      "\u001b[0;32m/Users/gfg/anaconda/lib/python3.6/site-packages/pandas/core/indexing.py\u001b[0m in \u001b[0;36m__getitem__\u001b[0;34m(self, key)\u001b[0m\n\u001b[1;32m   1326\u001b[0m         \u001b[0;32melse\u001b[0m\u001b[0;34m:\u001b[0m\u001b[0;34m\u001b[0m\u001b[0m\n\u001b[1;32m   1327\u001b[0m             \u001b[0mkey\u001b[0m \u001b[0;34m=\u001b[0m \u001b[0mcom\u001b[0m\u001b[0;34m.\u001b[0m\u001b[0m_apply_if_callable\u001b[0m\u001b[0;34m(\u001b[0m\u001b[0mkey\u001b[0m\u001b[0;34m,\u001b[0m \u001b[0mself\u001b[0m\u001b[0;34m.\u001b[0m\u001b[0mobj\u001b[0m\u001b[0;34m)\u001b[0m\u001b[0;34m\u001b[0m\u001b[0m\n\u001b[0;32m-> 1328\u001b[0;31m             \u001b[0;32mreturn\u001b[0m \u001b[0mself\u001b[0m\u001b[0;34m.\u001b[0m\u001b[0m_getitem_axis\u001b[0m\u001b[0;34m(\u001b[0m\u001b[0mkey\u001b[0m\u001b[0;34m,\u001b[0m \u001b[0maxis\u001b[0m\u001b[0;34m=\u001b[0m\u001b[0;36m0\u001b[0m\u001b[0;34m)\u001b[0m\u001b[0;34m\u001b[0m\u001b[0m\n\u001b[0m\u001b[1;32m   1329\u001b[0m \u001b[0;34m\u001b[0m\u001b[0m\n\u001b[1;32m   1330\u001b[0m     \u001b[0;32mdef\u001b[0m \u001b[0m_is_scalar_access\u001b[0m\u001b[0;34m(\u001b[0m\u001b[0mself\u001b[0m\u001b[0;34m,\u001b[0m \u001b[0mkey\u001b[0m\u001b[0;34m)\u001b[0m\u001b[0;34m:\u001b[0m\u001b[0;34m\u001b[0m\u001b[0m\n",
      "\u001b[0;32m/Users/gfg/anaconda/lib/python3.6/site-packages/pandas/core/indexing.py\u001b[0m in \u001b[0;36m_getitem_axis\u001b[0;34m(self, key, axis)\u001b[0m\n\u001b[1;32m   1747\u001b[0m \u001b[0;34m\u001b[0m\u001b[0m\n\u001b[1;32m   1748\u001b[0m             \u001b[0;31m# validate the location\u001b[0m\u001b[0;34m\u001b[0m\u001b[0;34m\u001b[0m\u001b[0m\n\u001b[0;32m-> 1749\u001b[0;31m             \u001b[0mself\u001b[0m\u001b[0;34m.\u001b[0m\u001b[0m_is_valid_integer\u001b[0m\u001b[0;34m(\u001b[0m\u001b[0mkey\u001b[0m\u001b[0;34m,\u001b[0m \u001b[0maxis\u001b[0m\u001b[0;34m)\u001b[0m\u001b[0;34m\u001b[0m\u001b[0m\n\u001b[0m\u001b[1;32m   1750\u001b[0m \u001b[0;34m\u001b[0m\u001b[0m\n\u001b[1;32m   1751\u001b[0m             \u001b[0;32mreturn\u001b[0m \u001b[0mself\u001b[0m\u001b[0;34m.\u001b[0m\u001b[0m_get_loc\u001b[0m\u001b[0;34m(\u001b[0m\u001b[0mkey\u001b[0m\u001b[0;34m,\u001b[0m \u001b[0maxis\u001b[0m\u001b[0;34m=\u001b[0m\u001b[0maxis\u001b[0m\u001b[0;34m)\u001b[0m\u001b[0;34m\u001b[0m\u001b[0m\n",
      "\u001b[0;32m/Users/gfg/anaconda/lib/python3.6/site-packages/pandas/core/indexing.py\u001b[0m in \u001b[0;36m_is_valid_integer\u001b[0;34m(self, key, axis)\u001b[0m\n\u001b[1;32m   1636\u001b[0m         \u001b[0ml\u001b[0m \u001b[0;34m=\u001b[0m \u001b[0mlen\u001b[0m\u001b[0;34m(\u001b[0m\u001b[0max\u001b[0m\u001b[0;34m)\u001b[0m\u001b[0;34m\u001b[0m\u001b[0m\n\u001b[1;32m   1637\u001b[0m         \u001b[0;32mif\u001b[0m \u001b[0mkey\u001b[0m \u001b[0;34m>=\u001b[0m \u001b[0ml\u001b[0m \u001b[0;32mor\u001b[0m \u001b[0mkey\u001b[0m \u001b[0;34m<\u001b[0m \u001b[0;34m-\u001b[0m\u001b[0ml\u001b[0m\u001b[0;34m:\u001b[0m\u001b[0;34m\u001b[0m\u001b[0m\n\u001b[0;32m-> 1638\u001b[0;31m             \u001b[0;32mraise\u001b[0m \u001b[0mIndexError\u001b[0m\u001b[0;34m(\u001b[0m\u001b[0;34m\"single positional indexer is out-of-bounds\"\u001b[0m\u001b[0;34m)\u001b[0m\u001b[0;34m\u001b[0m\u001b[0m\n\u001b[0m\u001b[1;32m   1639\u001b[0m         \u001b[0;32mreturn\u001b[0m \u001b[0;32mTrue\u001b[0m\u001b[0;34m\u001b[0m\u001b[0m\n\u001b[1;32m   1640\u001b[0m \u001b[0;34m\u001b[0m\u001b[0m\n",
      "\u001b[0;31mIndexError\u001b[0m: single positional indexer is out-of-bounds"
     ]
    }
   ],
   "source": [
    "inspect_results(cf='MA193AA07ZKEMY')"
   ]
  },
  {
   "cell_type": "code",
   "execution_count": 107,
   "metadata": {
    "ExecuteTime": {
     "end_time": "2017-09-27T09:28:41.706219Z",
     "start_time": "2017-09-27T09:28:41.335944Z"
    },
    "collapsed": true,
    "hidden": true
   },
   "outputs": [
    {
     "data": {
      "image/png": "[encoded data removed]",
      "text/plain": [
       "<matplotlib.figure.Figure at 0x1897c1860>"
      ]
     },
     "metadata": {},
     "output_type": "display_data"
    },
    {
     "name": "stdout",
     "output_type": "stream",
     "text": [
      "Samples of prediction:\n"
     ]
    },
    {
     "data": {
      "text/html": [
       "<div>\n",
       "<style>\n",
       "    .dataframe thead tr:only-child th {\n",
       "        text-align: right;\n",
       "    }\n",
       "\n",
       "    .dataframe thead th {\n",
       "        text-align: left;\n",
       "    }\n",
       "\n",
       "    .dataframe tbody tr th {\n",
       "        vertical-align: top;\n",
       "    }\n",
       "</style>\n",
       "<table border=\"1\" class=\"dataframe\">\n",
       "  <thead>\n",
       "    <tr style=\"text-align: right;\">\n",
       "      <th></th>\n",
       "      <th>sku_config</th>\n",
       "      <th>product_name</th>\n",
       "      <th>brand_name</th>\n",
       "      <th>n_sold</th>\n",
       "      <th>predict_random_forest</th>\n",
       "    </tr>\n",
       "  </thead>\n",
       "  <tbody>\n",
       "    <tr>\n",
       "      <th>5379</th>\n",
       "      <td>MA193AA55YNOMY</td>\n",
       "      <td>Flowy Textured Top</td>\n",
       "      <td>Mango</td>\n",
       "      <td>6</td>\n",
       "      <td>1.100000</td>\n",
       "    </tr>\n",
       "    <tr>\n",
       "      <th>5672</th>\n",
       "      <td>MA193AA55YNOMY</td>\n",
       "      <td>Flowy Textured Top</td>\n",
       "      <td>Mango</td>\n",
       "      <td>1</td>\n",
       "      <td>1.200000</td>\n",
       "    </tr>\n",
       "    <tr>\n",
       "      <th>5752</th>\n",
       "      <td>MA193AA55YNOMY</td>\n",
       "      <td>Flowy Textured Top</td>\n",
       "      <td>Mango</td>\n",
       "      <td>1</td>\n",
       "      <td>1.450000</td>\n",
       "    </tr>\n",
       "    <tr>\n",
       "      <th>5823</th>\n",
       "      <td>MA193AA55YNOMY</td>\n",
       "      <td>Flowy Textured Top</td>\n",
       "      <td>Mango</td>\n",
       "      <td>1</td>\n",
       "      <td>1.250000</td>\n",
       "    </tr>\n",
       "    <tr>\n",
       "      <th>5897</th>\n",
       "      <td>MA193AA55YNOMY</td>\n",
       "      <td>Flowy Textured Top</td>\n",
       "      <td>Mango</td>\n",
       "      <td>1</td>\n",
       "      <td>1.200000</td>\n",
       "    </tr>\n",
       "    <tr>\n",
       "      <th>5960</th>\n",
       "      <td>MA193AA55YNOMY</td>\n",
       "      <td>Flowy Textured Top</td>\n",
       "      <td>Mango</td>\n",
       "      <td>1</td>\n",
       "      <td>1.300000</td>\n",
       "    </tr>\n",
       "    <tr>\n",
       "      <th>6054</th>\n",
       "      <td>MA193AA55YNOMY</td>\n",
       "      <td>Flowy Textured Top</td>\n",
       "      <td>Mango</td>\n",
       "      <td>1</td>\n",
       "      <td>1.650000</td>\n",
       "    </tr>\n",
       "    <tr>\n",
       "      <th>6169</th>\n",
       "      <td>MA193AA55YNOMY</td>\n",
       "      <td>Flowy Textured Top</td>\n",
       "      <td>Mango</td>\n",
       "      <td>1</td>\n",
       "      <td>1.150000</td>\n",
       "    </tr>\n",
       "    <tr>\n",
       "      <th>6208</th>\n",
       "      <td>MA193AA55YNOMY</td>\n",
       "      <td>Flowy Textured Top</td>\n",
       "      <td>Mango</td>\n",
       "      <td>1</td>\n",
       "      <td>1.500000</td>\n",
       "    </tr>\n",
       "    <tr>\n",
       "      <th>6266</th>\n",
       "      <td>MA193AA55YNOMY</td>\n",
       "      <td>Flowy Textured Top</td>\n",
       "      <td>Mango</td>\n",
       "      <td>1</td>\n",
       "      <td>1.450000</td>\n",
       "    </tr>\n",
       "    <tr>\n",
       "      <th>6674</th>\n",
       "      <td>MA193AA55YNOMY</td>\n",
       "      <td>Flowy Textured Top</td>\n",
       "      <td>Mango</td>\n",
       "      <td>1</td>\n",
       "      <td>1.500000</td>\n",
       "    </tr>\n",
       "    <tr>\n",
       "      <th>6708</th>\n",
       "      <td>MA193AA55YNOMY</td>\n",
       "      <td>Flowy Textured Top</td>\n",
       "      <td>Mango</td>\n",
       "      <td>1</td>\n",
       "      <td>1.650000</td>\n",
       "    </tr>\n",
       "    <tr>\n",
       "      <th>6809</th>\n",
       "      <td>MA193AA55YNOMY</td>\n",
       "      <td>Flowy Textured Top</td>\n",
       "      <td>Mango</td>\n",
       "      <td>1</td>\n",
       "      <td>1.700000</td>\n",
       "    </tr>\n",
       "    <tr>\n",
       "      <th>7171</th>\n",
       "      <td>MA193AA55YNOMY</td>\n",
       "      <td>Flowy Textured Top</td>\n",
       "      <td>Mango</td>\n",
       "      <td>0</td>\n",
       "      <td>1.500000</td>\n",
       "    </tr>\n",
       "    <tr>\n",
       "      <th>7209</th>\n",
       "      <td>MA193AA55YNOMY</td>\n",
       "      <td>Flowy Textured Top</td>\n",
       "      <td>Mango</td>\n",
       "      <td>1</td>\n",
       "      <td>1.600000</td>\n",
       "    </tr>\n",
       "    <tr>\n",
       "      <th>7235</th>\n",
       "      <td>MA193AA55YNOMY</td>\n",
       "      <td>Flowy Textured Top</td>\n",
       "      <td>Mango</td>\n",
       "      <td>1</td>\n",
       "      <td>1.200000</td>\n",
       "    </tr>\n",
       "    <tr>\n",
       "      <th>8007</th>\n",
       "      <td>MA193AA55YNOMY</td>\n",
       "      <td>Flowy Textured Top</td>\n",
       "      <td>Mango</td>\n",
       "      <td>1</td>\n",
       "      <td>1.566667</td>\n",
       "    </tr>\n",
       "    <tr>\n",
       "      <th>8309</th>\n",
       "      <td>MA193AA55YNOMY</td>\n",
       "      <td>Flowy Textured Top</td>\n",
       "      <td>Mango</td>\n",
       "      <td>1</td>\n",
       "      <td>1.350000</td>\n",
       "    </tr>\n",
       "    <tr>\n",
       "      <th>8364</th>\n",
       "      <td>MA193AA55YNOMY</td>\n",
       "      <td>Flowy Textured Top</td>\n",
       "      <td>Mango</td>\n",
       "      <td>1</td>\n",
       "      <td>1.350000</td>\n",
       "    </tr>\n",
       "    <tr>\n",
       "      <th>8602</th>\n",
       "      <td>MA193AA55YNOMY</td>\n",
       "      <td>Flowy Textured Top</td>\n",
       "      <td>Mango</td>\n",
       "      <td>1</td>\n",
       "      <td>1.400000</td>\n",
       "    </tr>\n",
       "    <tr>\n",
       "      <th>8662</th>\n",
       "      <td>MA193AA55YNOMY</td>\n",
       "      <td>Flowy Textured Top</td>\n",
       "      <td>Mango</td>\n",
       "      <td>1</td>\n",
       "      <td>1.300000</td>\n",
       "    </tr>\n",
       "    <tr>\n",
       "      <th>9621</th>\n",
       "      <td>MA193AA55YNOMY</td>\n",
       "      <td>Flowy Textured Top</td>\n",
       "      <td>Mango</td>\n",
       "      <td>1</td>\n",
       "      <td>2.000000</td>\n",
       "    </tr>\n",
       "    <tr>\n",
       "      <th>9780</th>\n",
       "      <td>MA193AA55YNOMY</td>\n",
       "      <td>Flowy Textured Top</td>\n",
       "      <td>Mango</td>\n",
       "      <td>1</td>\n",
       "      <td>2.000000</td>\n",
       "    </tr>\n",
       "  </tbody>\n",
       "</table>\n",
       "</div>"
      ],
      "text/plain": [
       "          sku_config        product_name brand_name  n_sold  \\\n",
       "5379  MA193AA55YNOMY  Flowy Textured Top      Mango       6   \n",
       "5672  MA193AA55YNOMY  Flowy Textured Top      Mango       1   \n",
       "5752  MA193AA55YNOMY  Flowy Textured Top      Mango       1   \n",
       "5823  MA193AA55YNOMY  Flowy Textured Top      Mango       1   \n",
       "5897  MA193AA55YNOMY  Flowy Textured Top      Mango       1   \n",
       "5960  MA193AA55YNOMY  Flowy Textured Top      Mango       1   \n",
       "6054  MA193AA55YNOMY  Flowy Textured Top      Mango       1   \n",
       "6169  MA193AA55YNOMY  Flowy Textured Top      Mango       1   \n",
       "6208  MA193AA55YNOMY  Flowy Textured Top      Mango       1   \n",
       "6266  MA193AA55YNOMY  Flowy Textured Top      Mango       1   \n",
       "6674  MA193AA55YNOMY  Flowy Textured Top      Mango       1   \n",
       "6708  MA193AA55YNOMY  Flowy Textured Top      Mango       1   \n",
       "6809  MA193AA55YNOMY  Flowy Textured Top      Mango       1   \n",
       "7171  MA193AA55YNOMY  Flowy Textured Top      Mango       0   \n",
       "7209  MA193AA55YNOMY  Flowy Textured Top      Mango       1   \n",
       "7235  MA193AA55YNOMY  Flowy Textured Top      Mango       1   \n",
       "8007  MA193AA55YNOMY  Flowy Textured Top      Mango       1   \n",
       "8309  MA193AA55YNOMY  Flowy Textured Top      Mango       1   \n",
       "8364  MA193AA55YNOMY  Flowy Textured Top      Mango       1   \n",
       "8602  MA193AA55YNOMY  Flowy Textured Top      Mango       1   \n",
       "8662  MA193AA55YNOMY  Flowy Textured Top      Mango       1   \n",
       "9621  MA193AA55YNOMY  Flowy Textured Top      Mango       1   \n",
       "9780  MA193AA55YNOMY  Flowy Textured Top      Mango       1   \n",
       "\n",
       "      predict_random_forest  \n",
       "5379               1.100000  \n",
       "5672               1.200000  \n",
       "5752               1.450000  \n",
       "5823               1.250000  \n",
       "5897               1.200000  \n",
       "5960               1.300000  \n",
       "6054               1.650000  \n",
       "6169               1.150000  \n",
       "6208               1.500000  \n",
       "6266               1.450000  \n",
       "6674               1.500000  \n",
       "6708               1.650000  \n",
       "6809               1.700000  \n",
       "7171               1.500000  \n",
       "7209               1.600000  \n",
       "7235               1.200000  \n",
       "8007               1.566667  \n",
       "8309               1.350000  \n",
       "8364               1.350000  \n",
       "8602               1.400000  \n",
       "8662               1.300000  \n",
       "9621               2.000000  \n",
       "9780               2.000000  "
      ]
     },
     "execution_count": 107,
     "metadata": {},
     "output_type": "execute_result"
    }
   ],
   "source": [
    "inspect_results(cf='MA193AA55YNOMY')"
   ]
  },
  {
   "cell_type": "code",
   "execution_count": 108,
   "metadata": {
    "ExecuteTime": {
     "end_time": "2017-09-27T09:32:34.135829Z",
     "start_time": "2017-09-27T09:32:33.741706Z"
    },
    "collapsed": true,
    "hidden": true
   },
   "outputs": [
    {
     "data": {
      "image/png": "[encoded data removed]",
      "text/plain": [
       "<matplotlib.figure.Figure at 0x1404cf470>"
      ]
     },
     "metadata": {},
     "output_type": "display_data"
    },
    {
     "name": "stdout",
     "output_type": "stream",
     "text": [
      "Samples of prediction:\n"
     ]
    },
    {
     "data": {
      "text/html": [
       "<div>\n",
       "<style>\n",
       "    .dataframe thead tr:only-child th {\n",
       "        text-align: right;\n",
       "    }\n",
       "\n",
       "    .dataframe thead th {\n",
       "        text-align: left;\n",
       "    }\n",
       "\n",
       "    .dataframe tbody tr th {\n",
       "        vertical-align: top;\n",
       "    }\n",
       "</style>\n",
       "<table border=\"1\" class=\"dataframe\">\n",
       "  <thead>\n",
       "    <tr style=\"text-align: right;\">\n",
       "      <th></th>\n",
       "      <th>sku_config</th>\n",
       "      <th>product_name</th>\n",
       "      <th>brand_name</th>\n",
       "      <th>n_sold</th>\n",
       "      <th>predict_random_forest</th>\n",
       "    </tr>\n",
       "  </thead>\n",
       "  <tbody>\n",
       "    <tr>\n",
       "      <th>5395</th>\n",
       "      <td>AUBXIAA0000097GS</td>\n",
       "      <td>Collection Back Buttons Shell Top</td>\n",
       "      <td>ZALORA</td>\n",
       "      <td>1</td>\n",
       "      <td>1.15</td>\n",
       "    </tr>\n",
       "    <tr>\n",
       "      <th>5602</th>\n",
       "      <td>AUBXIAA0000097GS</td>\n",
       "      <td>Collection Back Buttons Shell Top</td>\n",
       "      <td>ZALORA</td>\n",
       "      <td>1</td>\n",
       "      <td>1.50</td>\n",
       "    </tr>\n",
       "    <tr>\n",
       "      <th>5763</th>\n",
       "      <td>AUBXIAA0000097GS</td>\n",
       "      <td>Collection Back Buttons Shell Top</td>\n",
       "      <td>ZALORA</td>\n",
       "      <td>1</td>\n",
       "      <td>2.05</td>\n",
       "    </tr>\n",
       "    <tr>\n",
       "      <th>5913</th>\n",
       "      <td>AUBXIAA0000097GS</td>\n",
       "      <td>Collection Back Buttons Shell Top</td>\n",
       "      <td>ZALORA</td>\n",
       "      <td>1</td>\n",
       "      <td>0.90</td>\n",
       "    </tr>\n",
       "    <tr>\n",
       "      <th>6437</th>\n",
       "      <td>AUBXIAA0000097GS</td>\n",
       "      <td>Collection Back Buttons Shell Top</td>\n",
       "      <td>ZALORA</td>\n",
       "      <td>1</td>\n",
       "      <td>1.75</td>\n",
       "    </tr>\n",
       "    <tr>\n",
       "      <th>6870</th>\n",
       "      <td>AUBXIAA0000097GS</td>\n",
       "      <td>Collection Back Buttons Shell Top</td>\n",
       "      <td>ZALORA</td>\n",
       "      <td>1</td>\n",
       "      <td>1.45</td>\n",
       "    </tr>\n",
       "    <tr>\n",
       "      <th>7212</th>\n",
       "      <td>AUBXIAA0000097GS</td>\n",
       "      <td>Collection Back Buttons Shell Top</td>\n",
       "      <td>ZALORA</td>\n",
       "      <td>1</td>\n",
       "      <td>1.80</td>\n",
       "    </tr>\n",
       "    <tr>\n",
       "      <th>7243</th>\n",
       "      <td>AUBXIAA0000097GS</td>\n",
       "      <td>Collection Back Buttons Shell Top</td>\n",
       "      <td>ZALORA</td>\n",
       "      <td>1</td>\n",
       "      <td>1.45</td>\n",
       "    </tr>\n",
       "    <tr>\n",
       "      <th>7442</th>\n",
       "      <td>AUBXIAA0000097GS</td>\n",
       "      <td>Collection Back Buttons Shell Top</td>\n",
       "      <td>ZALORA</td>\n",
       "      <td>1</td>\n",
       "      <td>2.72</td>\n",
       "    </tr>\n",
       "    <tr>\n",
       "      <th>7509</th>\n",
       "      <td>AUBXIAA0000097GS</td>\n",
       "      <td>Collection Back Buttons Shell Top</td>\n",
       "      <td>ZALORA</td>\n",
       "      <td>1</td>\n",
       "      <td>1.95</td>\n",
       "    </tr>\n",
       "    <tr>\n",
       "      <th>7558</th>\n",
       "      <td>AUBXIAA0000097GS</td>\n",
       "      <td>Collection Back Buttons Shell Top</td>\n",
       "      <td>ZALORA</td>\n",
       "      <td>1</td>\n",
       "      <td>1.53</td>\n",
       "    </tr>\n",
       "    <tr>\n",
       "      <th>7615</th>\n",
       "      <td>AUBXIAA0000097GS</td>\n",
       "      <td>Collection Back Buttons Shell Top</td>\n",
       "      <td>ZALORA</td>\n",
       "      <td>1</td>\n",
       "      <td>1.60</td>\n",
       "    </tr>\n",
       "    <tr>\n",
       "      <th>7667</th>\n",
       "      <td>AUBXIAA0000097GS</td>\n",
       "      <td>Collection Back Buttons Shell Top</td>\n",
       "      <td>ZALORA</td>\n",
       "      <td>1</td>\n",
       "      <td>1.30</td>\n",
       "    </tr>\n",
       "    <tr>\n",
       "      <th>7719</th>\n",
       "      <td>AUBXIAA0000097GS</td>\n",
       "      <td>Collection Back Buttons Shell Top</td>\n",
       "      <td>ZALORA</td>\n",
       "      <td>1</td>\n",
       "      <td>1.40</td>\n",
       "    </tr>\n",
       "    <tr>\n",
       "      <th>8123</th>\n",
       "      <td>AUBXIAA0000097GS</td>\n",
       "      <td>Collection Back Buttons Shell Top</td>\n",
       "      <td>ZALORA</td>\n",
       "      <td>1</td>\n",
       "      <td>1.00</td>\n",
       "    </tr>\n",
       "    <tr>\n",
       "      <th>8172</th>\n",
       "      <td>AUBXIAA0000097GS</td>\n",
       "      <td>Collection Back Buttons Shell Top</td>\n",
       "      <td>ZALORA</td>\n",
       "      <td>1</td>\n",
       "      <td>1.20</td>\n",
       "    </tr>\n",
       "    <tr>\n",
       "      <th>8257</th>\n",
       "      <td>AUBXIAA0000097GS</td>\n",
       "      <td>Collection Back Buttons Shell Top</td>\n",
       "      <td>ZALORA</td>\n",
       "      <td>1</td>\n",
       "      <td>1.20</td>\n",
       "    </tr>\n",
       "    <tr>\n",
       "      <th>8317</th>\n",
       "      <td>AUBXIAA0000097GS</td>\n",
       "      <td>Collection Back Buttons Shell Top</td>\n",
       "      <td>ZALORA</td>\n",
       "      <td>1</td>\n",
       "      <td>1.20</td>\n",
       "    </tr>\n",
       "    <tr>\n",
       "      <th>8370</th>\n",
       "      <td>AUBXIAA0000097GS</td>\n",
       "      <td>Collection Back Buttons Shell Top</td>\n",
       "      <td>ZALORA</td>\n",
       "      <td>1</td>\n",
       "      <td>1.20</td>\n",
       "    </tr>\n",
       "    <tr>\n",
       "      <th>8420</th>\n",
       "      <td>AUBXIAA0000097GS</td>\n",
       "      <td>Collection Back Buttons Shell Top</td>\n",
       "      <td>ZALORA</td>\n",
       "      <td>1</td>\n",
       "      <td>1.20</td>\n",
       "    </tr>\n",
       "    <tr>\n",
       "      <th>9194</th>\n",
       "      <td>AUBXIAA0000097GS</td>\n",
       "      <td>Collection Back Buttons Shell Top</td>\n",
       "      <td>ZALORA</td>\n",
       "      <td>1</td>\n",
       "      <td>1.20</td>\n",
       "    </tr>\n",
       "  </tbody>\n",
       "</table>\n",
       "</div>"
      ],
      "text/plain": [
       "            sku_config                       product_name brand_name  n_sold  \\\n",
       "5395  AUBXIAA0000097GS  Collection Back Buttons Shell Top     ZALORA       1   \n",
       "5602  AUBXIAA0000097GS  Collection Back Buttons Shell Top     ZALORA       1   \n",
       "5763  AUBXIAA0000097GS  Collection Back Buttons Shell Top     ZALORA       1   \n",
       "5913  AUBXIAA0000097GS  Collection Back Buttons Shell Top     ZALORA       1   \n",
       "6437  AUBXIAA0000097GS  Collection Back Buttons Shell Top     ZALORA       1   \n",
       "6870  AUBXIAA0000097GS  Collection Back Buttons Shell Top     ZALORA       1   \n",
       "7212  AUBXIAA0000097GS  Collection Back Buttons Shell Top     ZALORA       1   \n",
       "7243  AUBXIAA0000097GS  Collection Back Buttons Shell Top     ZALORA       1   \n",
       "7442  AUBXIAA0000097GS  Collection Back Buttons Shell Top     ZALORA       1   \n",
       "7509  AUBXIAA0000097GS  Collection Back Buttons Shell Top     ZALORA       1   \n",
       "7558  AUBXIAA0000097GS  Collection Back Buttons Shell Top     ZALORA       1   \n",
       "7615  AUBXIAA0000097GS  Collection Back Buttons Shell Top     ZALORA       1   \n",
       "7667  AUBXIAA0000097GS  Collection Back Buttons Shell Top     ZALORA       1   \n",
       "7719  AUBXIAA0000097GS  Collection Back Buttons Shell Top     ZALORA       1   \n",
       "8123  AUBXIAA0000097GS  Collection Back Buttons Shell Top     ZALORA       1   \n",
       "8172  AUBXIAA0000097GS  Collection Back Buttons Shell Top     ZALORA       1   \n",
       "8257  AUBXIAA0000097GS  Collection Back Buttons Shell Top     ZALORA       1   \n",
       "8317  AUBXIAA0000097GS  Collection Back Buttons Shell Top     ZALORA       1   \n",
       "8370  AUBXIAA0000097GS  Collection Back Buttons Shell Top     ZALORA       1   \n",
       "8420  AUBXIAA0000097GS  Collection Back Buttons Shell Top     ZALORA       1   \n",
       "9194  AUBXIAA0000097GS  Collection Back Buttons Shell Top     ZALORA       1   \n",
       "\n",
       "      predict_random_forest  \n",
       "5395                   1.15  \n",
       "5602                   1.50  \n",
       "5763                   2.05  \n",
       "5913                   0.90  \n",
       "6437                   1.75  \n",
       "6870                   1.45  \n",
       "7212                   1.80  \n",
       "7243                   1.45  \n",
       "7442                   2.72  \n",
       "7509                   1.95  \n",
       "7558                   1.53  \n",
       "7615                   1.60  \n",
       "7667                   1.30  \n",
       "7719                   1.40  \n",
       "8123                   1.00  \n",
       "8172                   1.20  \n",
       "8257                   1.20  \n",
       "8317                   1.20  \n",
       "8370                   1.20  \n",
       "8420                   1.20  \n",
       "9194                   1.20  "
      ]
     },
     "execution_count": 108,
     "metadata": {},
     "output_type": "execute_result"
    }
   ],
   "source": [
    "inspect_results(cf='AUBXIAA0000097GS')"
   ]
  },
  {
   "cell_type": "markdown",
   "metadata": {
    "ExecuteTime": {
     "end_time": "2017-09-14T12:47:46.369538Z",
     "start_time": "2017-09-14T12:47:37.069266Z"
    },
    "collapsed": true,
    "heading_collapsed": true
   },
   "source": [
    "## Female jewellery"
   ]
  },
  {
   "cell_type": "markdown",
   "metadata": {
    "hidden": true
   },
   "source": [
    "### Train & Predict"
   ]
  },
  {
   "cell_type": "code",
   "execution_count": 26,
   "metadata": {
    "ExecuteTime": {
     "end_time": "2017-10-05T11:18:46.780505Z",
     "start_time": "2017-10-05T11:18:25.753805Z"
    },
    "collapsed": false,
    "hidden": true
   },
   "outputs": [
    {
     "name": "stdout",
     "output_type": "stream",
     "text": [
      "Preparing data of group jewellery_female_autumn-winter...\n",
      "\t dropped NA configs\n",
      "Whole data spans from 2016-04-08 to 2017-06-27\n",
      "Split training and test sets by date 2017-03-29 00:00:00\n",
      "\n",
      " # records in training: 313\n",
      "Training data span ~11 months\n",
      "\n",
      "# records in test: 221\n",
      "Test data span ~2 months\n",
      "\n",
      "Performing CV for lasso_regression...\n",
      "Fitting 3 folds for each of 3 candidates, totalling 9 fits\n",
      "-0.422473609053\n",
      "{'alpha': 1.0}\n",
      "\n",
      "Performing CV for boosted_regression_tree...\n",
      "Fitting 3 folds for each of 40 candidates, totalling 120 fits\n"
     ]
    },
    {
     "name": "stderr",
     "output_type": "stream",
     "text": [
      "[Parallel(n_jobs=1)]: Done   9 out of   9 | elapsed:    0.0s finished\n",
      "[Parallel(n_jobs=1)]: Done 120 out of 120 | elapsed:    2.4s finished\n"
     ]
    },
    {
     "name": "stdout",
     "output_type": "stream",
     "text": [
      "-0.829938879557\n",
      "{'max_depth': 7, 'n_estimators': 10}\n",
      "\n",
      "Performing CV for random_forest...\n",
      "Fitting 3 folds for each of 40 candidates, totalling 120 fits\n"
     ]
    },
    {
     "name": "stderr",
     "output_type": "stream",
     "text": [
      "[Parallel(n_jobs=1)]: Done 120 out of 120 | elapsed:    8.2s finished\n"
     ]
    },
    {
     "name": "stdout",
     "output_type": "stream",
     "text": [
      "-0.516999899884\n",
      "{'max_depth': 3, 'n_estimators': 30}\n",
      "\n",
      "Performing CV for xgboost...\n",
      "Fitting 3 folds for each of 40 candidates, totalling 120 fits\n",
      "-0.406235165314\n",
      "{'max_depth': 3, 'n_estimators': 20}\n"
     ]
    },
    {
     "name": "stderr",
     "output_type": "stream",
     "text": [
      "[Parallel(n_jobs=1)]: Done 120 out of 120 | elapsed:    1.7s finished\n"
     ]
    }
   ],
   "source": [
    "rmse_df, predictions = benchmark(models, feats, group='jewellery_female_autumn-winter')"
   ]
  },
  {
   "cell_type": "markdown",
   "metadata": {
    "hidden": true
   },
   "source": [
    "### Group level evaluations"
   ]
  },
  {
   "cell_type": "code",
   "execution_count": 27,
   "metadata": {
    "ExecuteTime": {
     "end_time": "2017-10-05T11:18:46.932787Z",
     "start_time": "2017-10-05T11:18:46.924038Z"
    },
    "collapsed": false,
    "hidden": true
   },
   "outputs": [
    {
     "data": {
      "text/html": [
       "<div>\n",
       "<style>\n",
       "    .dataframe thead tr:only-child th {\n",
       "        text-align: right;\n",
       "    }\n",
       "\n",
       "    .dataframe thead th {\n",
       "        text-align: left;\n",
       "    }\n",
       "\n",
       "    .dataframe tbody tr th {\n",
       "        vertical-align: top;\n",
       "    }\n",
       "</style>\n",
       "<table border=\"1\" class=\"dataframe\">\n",
       "  <thead>\n",
       "    <tr style=\"text-align: right;\">\n",
       "      <th></th>\n",
       "      <th>model</th>\n",
       "      <th>test_rmse</th>\n",
       "      <th>train_rmse</th>\n",
       "    </tr>\n",
       "  </thead>\n",
       "  <tbody>\n",
       "    <tr>\n",
       "      <th>3</th>\n",
       "      <td>XGBoost</td>\n",
       "      <td>0.458439</td>\n",
       "      <td>0.291902</td>\n",
       "    </tr>\n",
       "    <tr>\n",
       "      <th>2</th>\n",
       "      <td>Random Forest</td>\n",
       "      <td>0.463611</td>\n",
       "      <td>0.288379</td>\n",
       "    </tr>\n",
       "    <tr>\n",
       "      <th>0</th>\n",
       "      <td>Lasso Regression</td>\n",
       "      <td>0.494700</td>\n",
       "      <td>0.348712</td>\n",
       "    </tr>\n",
       "    <tr>\n",
       "      <th>1</th>\n",
       "      <td>Boosted Regression Tree</td>\n",
       "      <td>0.501126</td>\n",
       "      <td>0.194571</td>\n",
       "    </tr>\n",
       "  </tbody>\n",
       "</table>\n",
       "</div>"
      ],
      "text/plain": [
       "                     model  test_rmse  train_rmse\n",
       "3                  XGBoost   0.458439    0.291902\n",
       "2            Random Forest   0.463611    0.288379\n",
       "0         Lasso Regression   0.494700    0.348712\n",
       "1  Boosted Regression Tree   0.501126    0.194571"
      ]
     },
     "execution_count": 27,
     "metadata": {},
     "output_type": "execute_result"
    }
   ],
   "source": [
    "rmse_df"
   ]
  },
  {
   "cell_type": "markdown",
   "metadata": {
    "hidden": true
   },
   "source": [
    "### Config level evaluations"
   ]
  },
  {
   "cell_type": "code",
   "execution_count": null,
   "metadata": {
    "collapsed": true,
    "hidden": true
   },
   "outputs": [],
   "source": []
  },
  {
   "cell_type": "markdown",
   "metadata": {},
   "source": [
    "# Spring-summer products"
   ]
  },
  {
   "cell_type": "markdown",
   "metadata": {
    "heading_collapsed": true
   },
   "source": [
    "## Female heels"
   ]
  },
  {
   "cell_type": "code",
   "execution_count": 22,
   "metadata": {
    "ExecuteTime": {
     "end_time": "2017-10-05T10:39:54.784103Z",
     "start_time": "2017-10-05T10:39:28.501052Z"
    },
    "collapsed": false,
    "hidden": true
   },
   "outputs": [
    {
     "name": "stdout",
     "output_type": "stream",
     "text": [
      "Preparing data of group heels_female_spring-summer...\n",
      "\t dropped NA configs\n",
      "Whole data spans from 2016-04-14 to 2017-06-27\n",
      "Split training and test sets by date 2017-03-30 00:00:00\n",
      "\n",
      " # records in training: 784\n",
      "Training data span ~11 months\n",
      "\n",
      "# records in test: 5421\n",
      "Test data span ~2 months\n",
      "\n",
      "Performing CV for lasso_regression...\n",
      "Fitting 3 folds for each of 3 candidates, totalling 9 fits\n",
      "0.00768802693311\n",
      "{'alpha': 10.0}\n",
      "\n",
      "Performing CV for boosted_regression_tree...\n",
      "Fitting 3 folds for each of 40 candidates, totalling 120 fits\n"
     ]
    },
    {
     "name": "stderr",
     "output_type": "stream",
     "text": [
      "[Parallel(n_jobs=1)]: Done   9 out of   9 | elapsed:    0.0s finished\n",
      "[Parallel(n_jobs=1)]: Done 120 out of 120 | elapsed:    4.5s finished\n"
     ]
    },
    {
     "name": "stdout",
     "output_type": "stream",
     "text": [
      "-0.0721818483115\n",
      "{'max_depth': 3, 'n_estimators': 10}\n",
      "\n",
      "Performing CV for random_forest...\n",
      "Fitting 3 folds for each of 40 candidates, totalling 120 fits\n"
     ]
    },
    {
     "name": "stderr",
     "output_type": "stream",
     "text": [
      "[Parallel(n_jobs=1)]: Done 120 out of 120 | elapsed:    9.8s finished\n"
     ]
    },
    {
     "name": "stdout",
     "output_type": "stream",
     "text": [
      "-0.0545557980257\n",
      "{'max_depth': 3, 'n_estimators': 30}\n",
      "\n",
      "Performing CV for xgboost...\n",
      "Fitting 3 folds for each of 40 candidates, totalling 120 fits\n",
      "-0.0968113077014\n",
      "{'max_depth': 3, 'n_estimators': 30}\n"
     ]
    },
    {
     "name": "stderr",
     "output_type": "stream",
     "text": [
      "[Parallel(n_jobs=1)]: Done 120 out of 120 | elapsed:    3.1s finished\n"
     ]
    }
   ],
   "source": [
    "rmse_df, predictions = benchmark(models, feats, group='heels_female_spring-summer')"
   ]
  },
  {
   "cell_type": "markdown",
   "metadata": {},
   "source": [
    "## Male t-shirts"
   ]
  },
  {
   "cell_type": "markdown",
   "metadata": {},
   "source": [
    "### Train & Predict"
   ]
  },
  {
   "cell_type": "code",
   "execution_count": 28,
   "metadata": {
    "ExecuteTime": {
     "end_time": "2017-10-05T11:22:11.795564Z",
     "start_time": "2017-10-05T11:21:26.947328Z"
    },
    "collapsed": false,
    "scrolled": true
   },
   "outputs": [
    {
     "name": "stdout",
     "output_type": "stream",
     "text": [
      "Preparing data of group t-shirts_male_spring-summer...\n",
      "\t dropped NA configs\n",
      "Whole data spans from 2016-04-01 to 2017-06-27\n",
      "Split training and test sets by date 2017-03-27 00:00:00\n",
      "\n",
      " # records in training: 2259\n",
      "Training data span ~11 months\n",
      "\n",
      "# records in test: 4282\n",
      "Test data span ~3 months\n",
      "\n",
      "Performing CV for lasso_regression...\n",
      "Fitting 3 folds for each of 3 candidates, totalling 9 fits\n",
      "-0.103264348524\n",
      "{'alpha': 10.0}\n",
      "\n",
      "Performing CV for boosted_regression_tree...\n",
      "Fitting 3 folds for each of 40 candidates, totalling 120 fits\n"
     ]
    },
    {
     "name": "stderr",
     "output_type": "stream",
     "text": [
      "[Parallel(n_jobs=1)]: Done   9 out of   9 | elapsed:    0.0s finished\n",
      "[Parallel(n_jobs=1)]: Done 120 out of 120 | elapsed:   10.8s finished\n"
     ]
    },
    {
     "name": "stdout",
     "output_type": "stream",
     "text": [
      "-0.0745877971924\n",
      "{'max_depth': 3, 'n_estimators': 10}\n",
      "\n",
      "Performing CV for random_forest...\n",
      "Fitting 3 folds for each of 40 candidates, totalling 120 fits\n"
     ]
    },
    {
     "name": "stderr",
     "output_type": "stream",
     "text": [
      "[Parallel(n_jobs=1)]: Done 120 out of 120 | elapsed:   17.7s finished\n"
     ]
    },
    {
     "name": "stdout",
     "output_type": "stream",
     "text": [
      "-0.0735990881326\n",
      "{'max_depth': 3, 'n_estimators': 90}\n",
      "\n",
      "Performing CV for xgboost...\n",
      "Fitting 3 folds for each of 40 candidates, totalling 120 fits\n",
      "-0.0571698747351\n",
      "{'max_depth': 3, 'n_estimators': 20}\n"
     ]
    },
    {
     "name": "stderr",
     "output_type": "stream",
     "text": [
      "[Parallel(n_jobs=1)]: Done 120 out of 120 | elapsed:    6.8s finished\n"
     ]
    }
   ],
   "source": [
    "rmse_df, predictions = benchmark(models, feats, group='t-shirts_male_spring-summer')"
   ]
  },
  {
   "cell_type": "markdown",
   "metadata": {},
   "source": [
    "### Group level evals"
   ]
  },
  {
   "cell_type": "code",
   "execution_count": 29,
   "metadata": {
    "ExecuteTime": {
     "end_time": "2017-10-05T11:22:47.507868Z",
     "start_time": "2017-10-05T11:22:47.500167Z"
    },
    "collapsed": false
   },
   "outputs": [
    {
     "data": {
      "text/html": [
       "<div>\n",
       "<style>\n",
       "    .dataframe thead tr:only-child th {\n",
       "        text-align: right;\n",
       "    }\n",
       "\n",
       "    .dataframe thead th {\n",
       "        text-align: left;\n",
       "    }\n",
       "\n",
       "    .dataframe tbody tr th {\n",
       "        vertical-align: top;\n",
       "    }\n",
       "</style>\n",
       "<table border=\"1\" class=\"dataframe\">\n",
       "  <thead>\n",
       "    <tr style=\"text-align: right;\">\n",
       "      <th></th>\n",
       "      <th>model</th>\n",
       "      <th>test_rmse</th>\n",
       "      <th>train_rmse</th>\n",
       "    </tr>\n",
       "  </thead>\n",
       "  <tbody>\n",
       "    <tr>\n",
       "      <th>2</th>\n",
       "      <td>Random Forest</td>\n",
       "      <td>0.599778</td>\n",
       "      <td>0.491277</td>\n",
       "    </tr>\n",
       "    <tr>\n",
       "      <th>0</th>\n",
       "      <td>Lasso Regression</td>\n",
       "      <td>0.607320</td>\n",
       "      <td>0.521944</td>\n",
       "    </tr>\n",
       "    <tr>\n",
       "      <th>3</th>\n",
       "      <td>XGBoost</td>\n",
       "      <td>0.627093</td>\n",
       "      <td>0.491406</td>\n",
       "    </tr>\n",
       "    <tr>\n",
       "      <th>1</th>\n",
       "      <td>Boosted Regression Tree</td>\n",
       "      <td>0.633021</td>\n",
       "      <td>0.497984</td>\n",
       "    </tr>\n",
       "  </tbody>\n",
       "</table>\n",
       "</div>"
      ],
      "text/plain": [
       "                     model  test_rmse  train_rmse\n",
       "2            Random Forest   0.599778    0.491277\n",
       "0         Lasso Regression   0.607320    0.521944\n",
       "3                  XGBoost   0.627093    0.491406\n",
       "1  Boosted Regression Tree   0.633021    0.497984"
      ]
     },
     "execution_count": 29,
     "metadata": {},
     "output_type": "execute_result"
    }
   ],
   "source": [
    "rmse_df"
   ]
  },
  {
   "cell_type": "markdown",
   "metadata": {},
   "source": [
    "### Config level evals"
   ]
  },
  {
   "cell_type": "code",
   "execution_count": null,
   "metadata": {
    "collapsed": true
   },
   "outputs": [],
   "source": []
  },
  {
   "cell_type": "markdown",
   "metadata": {},
   "source": [
    "## Not enough data in spring-summer 2016\n",
    "For groups/SKUs in season spring-summer, test data are much larger than training data!!! Because test data start in Apr and end in Jun of 2017, which is actually in season spring-summer2017, while training data start in later half of Apr-2016 and end in March-2017. Train data already include spring-summer of 2016, why so few data."
   ]
  }
 ],
 "metadata": {
  "kernelspec": {
   "display_name": "Python 2",
   "language": "python",
   "name": "python2"
  },
  "language_info": {
   "codemirror_mode": {
    "name": "ipython",
    "version": 2
   },
   "file_extension": ".py",
   "mimetype": "text/x-python",
   "name": "python",
   "nbconvert_exporter": "python",
   "pygments_lexer": "ipython2",
   "version": "2.7.13"
  },
  "toc": {
   "colors": {
    "hover_highlight": "#DAA520",
    "navigate_num": "#000000",
    "navigate_text": "#333333",
    "running_highlight": "#FF0000",
    "selected_highlight": "#FFD700",
    "sidebar_border": "#EEEEEE",
    "wrapper_background": "#FFFFFF"
   },
   "moveMenuLeft": true,
   "nav_menu": {
    "height": "66px",
    "width": "252px"
   },
   "navigate_menu": true,
   "number_sections": true,
   "sideBar": true,
   "threshold": 4,
   "toc_cell": false,
   "toc_position": {
    "height": "669px",
    "left": "0px",
    "right": "1015px",
    "top": "107px",
    "width": "212px"
   },
   "toc_section_display": "block",
   "toc_window_display": true,
   "widenNotebook": false
  },
  "varInspector": {
   "cols": {
    "lenName": 16,
    "lenType": 16,
    "lenVar": 40
   },
   "kernels_config": {
    "python": {
     "delete_cmd_postfix": "",
     "delete_cmd_prefix": "del ",
     "library": "var_list.py",
     "varRefreshCmd": "print(var_dic_list())"
    },
    "r": {
     "delete_cmd_postfix": ") ",
     "delete_cmd_prefix": "rm(",
     "library": "var_list.r",
     "varRefreshCmd": "cat(var_dic_list()) "
    }
   },
   "position": {
    "height": "268px",
    "left": "768px",
    "right": "20px",
    "top": "119px",
    "width": "463px"
   },
   "types_to_exclude": [
    "module",
    "function",
    "builtin_function_or_method",
    "instance",
    "_Feature"
   ],
   "window_display": false
  }
 },
 "nbformat": 4,
 "nbformat_minor": 2
}
